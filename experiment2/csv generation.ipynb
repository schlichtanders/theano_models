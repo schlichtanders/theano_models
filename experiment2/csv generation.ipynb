{
 "cells": [
  {
   "cell_type": "code",
   "execution_count": 1,
   "metadata": {
    "collapsed": false
   },
   "outputs": [
    {
     "name": "stdout",
     "output_type": "stream",
     "text": [
      "gnumpy: failed to import cudamat. Using npmat instead. No GPU will be used.\n"
     ]
    },
    {
     "name": "stderr",
     "output_type": "stream",
     "text": [
      "/usr/local/lib/python2.7/dist-packages/matplotlib/font_manager.py:273: UserWarning: Matplotlib is building the font cache using fc-list. This may take a moment.\n",
      "  warnings.warn('Matplotlib is building the font cache using fc-list. This may take a moment.')\n"
     ]
    }
   ],
   "source": [
    "import os, sys\n",
    "\n",
    "import experiment_util\n",
    "import evaluation_util as eva\n",
    "import evaluation_util\n",
    "import pandas as pd"
   ]
  },
  {
   "cell_type": "code",
   "execution_count": 2,
   "metadata": {
    "collapsed": true
   },
   "outputs": [],
   "source": [
    "__parent__ = os.path.realpath(\"..\")"
   ]
  },
  {
   "cell_type": "code",
   "execution_count": 3,
   "metadata": {
    "collapsed": true
   },
   "outputs": [],
   "source": [
    "folders_parameters = [[\"experiment1\",\"withpercent\"], [\"experiment1\",\"first_useful_hyperparameter_search\"], ['experiment1','run_windows']]\n",
    "folders_parameters = [os.path.join(__parent__, *fp) for fp in folders_parameters]"
   ]
  },
  {
   "cell_type": "markdown",
   "metadata": {},
   "source": [
    "# only best ones"
   ]
  },
  {
   "cell_type": "code",
   "execution_count": 4,
   "metadata": {
    "collapsed": true
   },
   "outputs": [],
   "source": [
    "datasetnames = [\"boston\",\"concrete\",\"energy\",\"kin8nm\", \"yacht\"] # \"toy1d\",\"toy2d\" #\"winered\",\"powerplant\","
   ]
  },
  {
   "cell_type": "code",
   "execution_count": 5,
   "metadata": {
    "collapsed": false
   },
   "outputs": [],
   "source": [
    "best_hypers = []\n",
    "for datasetname in datasetnames:\n",
    "    best_hypers += eva.get_best_hyper_autofix(\n",
    "        datasetname, folders_parameters,\n",
    "        test_attrs=['best_val_loss', 'best_val_error'],\n",
    "        modelnames=(\"planarflow\", \"planarflowdet\", \"radialflow\", \"radialflowdet\"),\n",
    "        percentages=None, n_normflows=None\n",
    "    )"
   ]
  },
  {
   "cell_type": "code",
   "execution_count": 6,
   "metadata": {
    "collapsed": false
   },
   "outputs": [
    {
     "data": {
      "text/plain": [
       "[<schlichtanders.myobjects.Namespace at 0x7f3810ec8650>,\n",
       " <schlichtanders.myobjects.Namespace at 0x7f3811506350>,\n",
       " <schlichtanders.myobjects.Namespace at 0x7f3811adb8d0>,\n",
       " <schlichtanders.myobjects.Namespace at 0x7f3810b78110>,\n",
       " <schlichtanders.myobjects.Namespace at 0x7f3810b78450>,\n",
       " <schlichtanders.myobjects.Namespace at 0x7f38108fd050>,\n",
       " <schlichtanders.myobjects.Namespace at 0x7f380f470250>,\n",
       " <schlichtanders.myobjects.Namespace at 0x7f380f3d0110>,\n",
       " <schlichtanders.myobjects.Namespace at 0x7f381166fe10>,\n",
       " <schlichtanders.myobjects.Namespace at 0x7f3811506190>,\n",
       " <schlichtanders.myobjects.Namespace at 0x7f3811432b90>,\n",
       " <schlichtanders.myobjects.Namespace at 0x7f380f4702d0>,\n",
       " <schlichtanders.myobjects.Namespace at 0x7f380f3cb350>,\n",
       " <schlichtanders.myobjects.Namespace at 0x7f38107d7c10>,\n",
       " <schlichtanders.myobjects.Namespace at 0x7f3810ec8290>,\n",
       " <schlichtanders.myobjects.Namespace at 0x7f380f3cbc50>,\n",
       " <schlichtanders.myobjects.Namespace at 0x7f3810b78050>,\n",
       " <schlichtanders.myobjects.Namespace at 0x7f380ff0dcd0>,\n",
       " <schlichtanders.myobjects.Namespace at 0x7f3810ec85d0>,\n",
       " <schlichtanders.myobjects.Namespace at 0x7f380f3dd410>,\n",
       " <schlichtanders.myobjects.Namespace at 0x7f3810cf9ad0>]"
      ]
     },
     "execution_count": 6,
     "metadata": {},
     "output_type": "execute_result"
    }
   ],
   "source": [
    "unique_best_hypers = {h.opt_decay:h for h in best_hypers}.values()\n",
    "unique_best_hypers"
   ]
  },
  {
   "cell_type": "code",
   "execution_count": 7,
   "metadata": {
    "collapsed": false
   },
   "outputs": [
    {
     "data": {
      "text/plain": [
       "(40, 21)"
      ]
     },
     "execution_count": 7,
     "metadata": {},
     "output_type": "execute_result"
    }
   ],
   "source": [
    "len(best_hypers), len(unique_best_hypers)"
   ]
  },
  {
   "cell_type": "code",
   "execution_count": 8,
   "metadata": {
    "collapsed": false
   },
   "outputs": [
    {
     "data": {
      "text/html": [
       "<div>\n",
       "<table border=\"1\" class=\"dataframe\">\n",
       "  <thead>\n",
       "    <tr style=\"text-align: right;\">\n",
       "      <th></th>\n",
       "      <th>batch_size</th>\n",
       "      <th>best_val_error</th>\n",
       "      <th>best_val_loss</th>\n",
       "      <th>datasetname</th>\n",
       "      <th>minus_log_s1</th>\n",
       "      <th>modelname</th>\n",
       "      <th>opt_decay</th>\n",
       "      <th>opt_identifier</th>\n",
       "      <th>opt_momentum</th>\n",
       "      <th>opt_offset</th>\n",
       "      <th>opt_step_rate</th>\n",
       "    </tr>\n",
       "  </thead>\n",
       "  <tbody>\n",
       "    <tr>\n",
       "      <th>0</th>\n",
       "      <td>100</td>\n",
       "      <td>0.084921</td>\n",
       "      <td>0.695413</td>\n",
       "      <td>kin8nm</td>\n",
       "      <td>4</td>\n",
       "      <td>planarflowdet</td>\n",
       "      <td>0.948955</td>\n",
       "      <td>rmsprop</td>\n",
       "      <td>0.970975</td>\n",
       "      <td>1.474696e-05</td>\n",
       "      <td>0.0001</td>\n",
       "    </tr>\n",
       "    <tr>\n",
       "      <th>1</th>\n",
       "      <td>100</td>\n",
       "      <td>6.169801</td>\n",
       "      <td>1.017019</td>\n",
       "      <td>concrete</td>\n",
       "      <td>5</td>\n",
       "      <td>planarflowdet</td>\n",
       "      <td>0.946767</td>\n",
       "      <td>rmsprop</td>\n",
       "      <td>0.005726</td>\n",
       "      <td>2.841585e-05</td>\n",
       "      <td>0.0010</td>\n",
       "    </tr>\n",
       "    <tr>\n",
       "      <th>2</th>\n",
       "      <td>100</td>\n",
       "      <td>9.080611</td>\n",
       "      <td>2.103257</td>\n",
       "      <td>energy</td>\n",
       "      <td>6</td>\n",
       "      <td>planarflow</td>\n",
       "      <td>0.902803</td>\n",
       "      <td>adam</td>\n",
       "      <td>0.833181</td>\n",
       "      <td>3.107466e-04</td>\n",
       "      <td>0.0100</td>\n",
       "    </tr>\n",
       "    <tr>\n",
       "      <th>3</th>\n",
       "      <td>10</td>\n",
       "      <td>3.070065</td>\n",
       "      <td>4.150449</td>\n",
       "      <td>boston</td>\n",
       "      <td>2</td>\n",
       "      <td>planarflow</td>\n",
       "      <td>0.801063</td>\n",
       "      <td>adam</td>\n",
       "      <td>0.006218</td>\n",
       "      <td>1.336856e-04</td>\n",
       "      <td>0.0010</td>\n",
       "    </tr>\n",
       "    <tr>\n",
       "      <th>4</th>\n",
       "      <td>100</td>\n",
       "      <td>9.031398</td>\n",
       "      <td>1.917375</td>\n",
       "      <td>boston</td>\n",
       "      <td>2</td>\n",
       "      <td>radialflow</td>\n",
       "      <td>0.953536</td>\n",
       "      <td>rmsprop</td>\n",
       "      <td>0.006626</td>\n",
       "      <td>1.581493e-05</td>\n",
       "      <td>0.0100</td>\n",
       "    </tr>\n",
       "    <tr>\n",
       "      <th>5</th>\n",
       "      <td>10</td>\n",
       "      <td>17.753109</td>\n",
       "      <td>2.459725</td>\n",
       "      <td>yacht</td>\n",
       "      <td>3</td>\n",
       "      <td>planarflow</td>\n",
       "      <td>0.963118</td>\n",
       "      <td>adam</td>\n",
       "      <td>0.868063</td>\n",
       "      <td>1.334212e-04</td>\n",
       "      <td>0.0010</td>\n",
       "    </tr>\n",
       "    <tr>\n",
       "      <th>6</th>\n",
       "      <td>10</td>\n",
       "      <td>0.495242</td>\n",
       "      <td>7.566930</td>\n",
       "      <td>yacht</td>\n",
       "      <td>5</td>\n",
       "      <td>radialflowdet</td>\n",
       "      <td>0.957122</td>\n",
       "      <td>adam</td>\n",
       "      <td>0.000990</td>\n",
       "      <td>1.800670e-04</td>\n",
       "      <td>0.0010</td>\n",
       "    </tr>\n",
       "    <tr>\n",
       "      <th>7</th>\n",
       "      <td>100</td>\n",
       "      <td>12.921021</td>\n",
       "      <td>2.479400</td>\n",
       "      <td>yacht</td>\n",
       "      <td>3</td>\n",
       "      <td>radialflow</td>\n",
       "      <td>0.904882</td>\n",
       "      <td>rmsprop</td>\n",
       "      <td>0.006643</td>\n",
       "      <td>1.053495e-05</td>\n",
       "      <td>0.0100</td>\n",
       "    </tr>\n",
       "    <tr>\n",
       "      <th>8</th>\n",
       "      <td>10</td>\n",
       "      <td>0.088183</td>\n",
       "      <td>0.684157</td>\n",
       "      <td>kin8nm</td>\n",
       "      <td>4</td>\n",
       "      <td>planarflowdet</td>\n",
       "      <td>0.988044</td>\n",
       "      <td>adam</td>\n",
       "      <td>0.003299</td>\n",
       "      <td>3.319146e-04</td>\n",
       "      <td>0.0010</td>\n",
       "    </tr>\n",
       "    <tr>\n",
       "      <th>9</th>\n",
       "      <td>100</td>\n",
       "      <td>4.091364</td>\n",
       "      <td>787.314343</td>\n",
       "      <td>concrete</td>\n",
       "      <td>7</td>\n",
       "      <td>radialflowdet</td>\n",
       "      <td>0.879320</td>\n",
       "      <td>adadelta</td>\n",
       "      <td>0.969514</td>\n",
       "      <td>1.000000e-08</td>\n",
       "      <td>0.1000</td>\n",
       "    </tr>\n",
       "    <tr>\n",
       "      <th>10</th>\n",
       "      <td>100</td>\n",
       "      <td>17.458019</td>\n",
       "      <td>1.904907</td>\n",
       "      <td>concrete</td>\n",
       "      <td>7</td>\n",
       "      <td>planarflow</td>\n",
       "      <td>0.921664</td>\n",
       "      <td>adam</td>\n",
       "      <td>0.006174</td>\n",
       "      <td>2.018608e-04</td>\n",
       "      <td>0.0100</td>\n",
       "    </tr>\n",
       "    <tr>\n",
       "      <th>11</th>\n",
       "      <td>1</td>\n",
       "      <td>0.531364</td>\n",
       "      <td>-1.448761</td>\n",
       "      <td>yacht</td>\n",
       "      <td>2</td>\n",
       "      <td>radialflowdet</td>\n",
       "      <td>0.798613</td>\n",
       "      <td>adam</td>\n",
       "      <td>0.001619</td>\n",
       "      <td>2.455457e-04</td>\n",
       "      <td>0.0010</td>\n",
       "    </tr>\n",
       "    <tr>\n",
       "      <th>12</th>\n",
       "      <td>1</td>\n",
       "      <td>4.048132</td>\n",
       "      <td>6.915095</td>\n",
       "      <td>yacht</td>\n",
       "      <td>2</td>\n",
       "      <td>planarflow</td>\n",
       "      <td>0.913694</td>\n",
       "      <td>adam</td>\n",
       "      <td>0.830267</td>\n",
       "      <td>2.667869e-04</td>\n",
       "      <td>0.0010</td>\n",
       "    </tr>\n",
       "    <tr>\n",
       "      <th>13</th>\n",
       "      <td>100</td>\n",
       "      <td>0.076452</td>\n",
       "      <td>0.215132</td>\n",
       "      <td>kin8nm</td>\n",
       "      <td>1</td>\n",
       "      <td>radialflowdet</td>\n",
       "      <td>0.983555</td>\n",
       "      <td>rmsprop</td>\n",
       "      <td>0.911136</td>\n",
       "      <td>3.307897e-05</td>\n",
       "      <td>0.0010</td>\n",
       "    </tr>\n",
       "    <tr>\n",
       "      <th>14</th>\n",
       "      <td>10</td>\n",
       "      <td>0.174508</td>\n",
       "      <td>3.095719</td>\n",
       "      <td>kin8nm</td>\n",
       "      <td>2</td>\n",
       "      <td>radialflow</td>\n",
       "      <td>0.918583</td>\n",
       "      <td>rmsprop</td>\n",
       "      <td>0.004972</td>\n",
       "      <td>2.811016e-05</td>\n",
       "      <td>0.0100</td>\n",
       "    </tr>\n",
       "    <tr>\n",
       "      <th>15</th>\n",
       "      <td>10</td>\n",
       "      <td>6.212456</td>\n",
       "      <td>4.878783</td>\n",
       "      <td>yacht</td>\n",
       "      <td>1</td>\n",
       "      <td>radialflow</td>\n",
       "      <td>0.972426</td>\n",
       "      <td>adam</td>\n",
       "      <td>0.893158</td>\n",
       "      <td>1.971287e-04</td>\n",
       "      <td>0.1000</td>\n",
       "    </tr>\n",
       "    <tr>\n",
       "      <th>16</th>\n",
       "      <td>100</td>\n",
       "      <td>8.514571</td>\n",
       "      <td>1.717192</td>\n",
       "      <td>boston</td>\n",
       "      <td>2</td>\n",
       "      <td>planarflowdet</td>\n",
       "      <td>0.883359</td>\n",
       "      <td>rmsprop</td>\n",
       "      <td>0.007679</td>\n",
       "      <td>2.326488e-05</td>\n",
       "      <td>0.0100</td>\n",
       "    </tr>\n",
       "    <tr>\n",
       "      <th>17</th>\n",
       "      <td>100</td>\n",
       "      <td>1.253120</td>\n",
       "      <td>131.322620</td>\n",
       "      <td>yacht</td>\n",
       "      <td>6</td>\n",
       "      <td>planarflowdet</td>\n",
       "      <td>0.890483</td>\n",
       "      <td>adadelta</td>\n",
       "      <td>0.981280</td>\n",
       "      <td>1.000000e-08</td>\n",
       "      <td>0.1000</td>\n",
       "    </tr>\n",
       "    <tr>\n",
       "      <th>18</th>\n",
       "      <td>10</td>\n",
       "      <td>0.105101</td>\n",
       "      <td>1.611255</td>\n",
       "      <td>kin8nm</td>\n",
       "      <td>1</td>\n",
       "      <td>planarflow</td>\n",
       "      <td>0.974542</td>\n",
       "      <td>adam</td>\n",
       "      <td>0.890806</td>\n",
       "      <td>3.385444e-04</td>\n",
       "      <td>0.0010</td>\n",
       "    </tr>\n",
       "    <tr>\n",
       "      <th>19</th>\n",
       "      <td>10</td>\n",
       "      <td>9.507959</td>\n",
       "      <td>0.777980</td>\n",
       "      <td>yacht</td>\n",
       "      <td>2</td>\n",
       "      <td>planarflowdet</td>\n",
       "      <td>0.912910</td>\n",
       "      <td>rmsprop</td>\n",
       "      <td>0.973447</td>\n",
       "      <td>2.816181e-05</td>\n",
       "      <td>0.0001</td>\n",
       "    </tr>\n",
       "    <tr>\n",
       "      <th>20</th>\n",
       "      <td>1</td>\n",
       "      <td>0.429805</td>\n",
       "      <td>-1.635448</td>\n",
       "      <td>energy</td>\n",
       "      <td>1</td>\n",
       "      <td>radialflowdet</td>\n",
       "      <td>0.892577</td>\n",
       "      <td>adam</td>\n",
       "      <td>0.007136</td>\n",
       "      <td>7.310818e-04</td>\n",
       "      <td>0.0010</td>\n",
       "    </tr>\n",
       "  </tbody>\n",
       "</table>\n",
       "</div>"
      ],
      "text/plain": [
       "    batch_size  best_val_error  best_val_loss datasetname  minus_log_s1  \\\n",
       "0          100        0.084921       0.695413      kin8nm             4   \n",
       "1          100        6.169801       1.017019    concrete             5   \n",
       "2          100        9.080611       2.103257      energy             6   \n",
       "3           10        3.070065       4.150449      boston             2   \n",
       "4          100        9.031398       1.917375      boston             2   \n",
       "5           10       17.753109       2.459725       yacht             3   \n",
       "6           10        0.495242       7.566930       yacht             5   \n",
       "7          100       12.921021       2.479400       yacht             3   \n",
       "8           10        0.088183       0.684157      kin8nm             4   \n",
       "9          100        4.091364     787.314343    concrete             7   \n",
       "10         100       17.458019       1.904907    concrete             7   \n",
       "11           1        0.531364      -1.448761       yacht             2   \n",
       "12           1        4.048132       6.915095       yacht             2   \n",
       "13         100        0.076452       0.215132      kin8nm             1   \n",
       "14          10        0.174508       3.095719      kin8nm             2   \n",
       "15          10        6.212456       4.878783       yacht             1   \n",
       "16         100        8.514571       1.717192      boston             2   \n",
       "17         100        1.253120     131.322620       yacht             6   \n",
       "18          10        0.105101       1.611255      kin8nm             1   \n",
       "19          10        9.507959       0.777980       yacht             2   \n",
       "20           1        0.429805      -1.635448      energy             1   \n",
       "\n",
       "        modelname  opt_decay opt_identifier  opt_momentum    opt_offset  \\\n",
       "0   planarflowdet   0.948955        rmsprop      0.970975  1.474696e-05   \n",
       "1   planarflowdet   0.946767        rmsprop      0.005726  2.841585e-05   \n",
       "2      planarflow   0.902803           adam      0.833181  3.107466e-04   \n",
       "3      planarflow   0.801063           adam      0.006218  1.336856e-04   \n",
       "4      radialflow   0.953536        rmsprop      0.006626  1.581493e-05   \n",
       "5      planarflow   0.963118           adam      0.868063  1.334212e-04   \n",
       "6   radialflowdet   0.957122           adam      0.000990  1.800670e-04   \n",
       "7      radialflow   0.904882        rmsprop      0.006643  1.053495e-05   \n",
       "8   planarflowdet   0.988044           adam      0.003299  3.319146e-04   \n",
       "9   radialflowdet   0.879320       adadelta      0.969514  1.000000e-08   \n",
       "10     planarflow   0.921664           adam      0.006174  2.018608e-04   \n",
       "11  radialflowdet   0.798613           adam      0.001619  2.455457e-04   \n",
       "12     planarflow   0.913694           adam      0.830267  2.667869e-04   \n",
       "13  radialflowdet   0.983555        rmsprop      0.911136  3.307897e-05   \n",
       "14     radialflow   0.918583        rmsprop      0.004972  2.811016e-05   \n",
       "15     radialflow   0.972426           adam      0.893158  1.971287e-04   \n",
       "16  planarflowdet   0.883359        rmsprop      0.007679  2.326488e-05   \n",
       "17  planarflowdet   0.890483       adadelta      0.981280  1.000000e-08   \n",
       "18     planarflow   0.974542           adam      0.890806  3.385444e-04   \n",
       "19  planarflowdet   0.912910        rmsprop      0.973447  2.816181e-05   \n",
       "20  radialflowdet   0.892577           adam      0.007136  7.310818e-04   \n",
       "\n",
       "    opt_step_rate  \n",
       "0          0.0001  \n",
       "1          0.0010  \n",
       "2          0.0100  \n",
       "3          0.0010  \n",
       "4          0.0100  \n",
       "5          0.0010  \n",
       "6          0.0010  \n",
       "7          0.0100  \n",
       "8          0.0010  \n",
       "9          0.1000  \n",
       "10         0.0100  \n",
       "11         0.0010  \n",
       "12         0.0010  \n",
       "13         0.0010  \n",
       "14         0.0100  \n",
       "15         0.1000  \n",
       "16         0.0100  \n",
       "17         0.1000  \n",
       "18         0.0010  \n",
       "19         0.0001  \n",
       "20         0.0010  "
      ]
     },
     "execution_count": 8,
     "metadata": {},
     "output_type": "execute_result"
    }
   ],
   "source": [
    "pandas_dict = eva.to_pandas_dict(unique_best_hypers, keys=(\n",
    "        \"datasetname\", \"modelname\", \"best_val_loss\", \"best_val_error\", \n",
    "        \"opt_identifier\", \"opt_offset\", \"opt_momentum\", \"opt_decay\", \"opt_step_rate\", \"minus_log_s1\", \"batch_size\"\n",
    "        ))\n",
    "\n",
    "df = pd.DataFrame(pandas_dict)\n",
    "df"
   ]
  },
  {
   "cell_type": "code",
   "execution_count": 12,
   "metadata": {
    "collapsed": true
   },
   "outputs": [],
   "source": [
    "df.to_csv?"
   ]
  },
  {
   "cell_type": "code",
   "execution_count": 10,
   "metadata": {
    "collapsed": true
   },
   "outputs": [],
   "source": [
    "import csv"
   ]
  },
  {
   "cell_type": "code",
   "execution_count": 13,
   "metadata": {
    "collapsed": false
   },
   "outputs": [],
   "source": [
    "df.to_csv(\"good_parameters_betteraspbp.csv\", quoting=csv.QUOTE_NONNUMERIC, index=False)\n",
    "# df.to_csv(\"all_best_hyper_nopercent_errorrate.csv\")"
   ]
  },
  {
   "cell_type": "markdown",
   "metadata": {},
   "source": [
    "# look at statistics"
   ]
  },
  {
   "cell_type": "code",
   "execution_count": null,
   "metadata": {
    "collapsed": true
   },
   "outputs": [],
   "source": [
    "folder = \"evaluation\"\n",
    "datasetname = \"boston\"\n",
    "suffix = \"_tests.pkl\""
   ]
  },
  {
   "cell_type": "code",
   "execution_count": null,
   "metadata": {
    "collapsed": true
   },
   "outputs": [],
   "source": [
    "datasetnames = [\"boston\",\"concrete\",\"energy\",\"powerplant\",\"toy1d\",\"toy2d\",\"winered\",\"yacht\"]"
   ]
  },
  {
   "cell_type": "code",
   "execution_count": null,
   "metadata": {
    "collapsed": true
   },
   "outputs": [],
   "source": [
    "def last_layer_to_dict(l, **kwargs):\n",
    "    return {\n",
    "        'best_epoch_mean': l['best_epoch'].mean(),\n",
    "        'best_epoch_std': l['best_epoch'].std(),\n",
    "        'best_test_loss_mean': l['best_test_loss'].mean(),\n",
    "        'best_test_loss_std': l['best_test_loss'].std(),\n",
    "        'test_error_rate_mean': l['test_error_rate'].mean(),\n",
    "        'test_error_rate_std': l['test_error_rate'].std(),\n",
    "    }"
   ]
  },
  {
   "cell_type": "code",
   "execution_count": null,
   "metadata": {
    "collapsed": false
   },
   "outputs": [],
   "source": [
    "pandas_dict = None\n",
    "for datasetname in datasetnames:\n",
    "    filename = os.path.join(__path__, folder, datasetname + suffix)\n",
    "    best_tests = evaluation_util.load_dict(filename)\n",
    "    pandas_dict = evaluation_util.to_pandas_dict(datasetname, best_tests, pandas_dict, last_layer_to_dict=last_layer_to_dict)"
   ]
  },
  {
   "cell_type": "code",
   "execution_count": null,
   "metadata": {
    "collapsed": false
   },
   "outputs": [],
   "source": [
    "df = pd.DataFrame(pandas_dict)"
   ]
  },
  {
   "cell_type": "code",
   "execution_count": null,
   "metadata": {
    "collapsed": true
   },
   "outputs": [],
   "source": [
    "df.to_csv(\"all_withpercent_tested_plus.csv\")"
   ]
  },
  {
   "cell_type": "code",
   "execution_count": null,
   "metadata": {
    "collapsed": true
   },
   "outputs": [],
   "source": []
  }
 ],
 "metadata": {
  "kernelspec": {
   "display_name": "Python 2",
   "language": "python",
   "name": "python2"
  },
  "language_info": {
   "codemirror_mode": {
    "name": "ipython",
    "version": 2
   },
   "file_extension": ".py",
   "mimetype": "text/x-python",
   "name": "python",
   "nbconvert_exporter": "python",
   "pygments_lexer": "ipython2",
   "version": "2.7.6"
  },
  "toc": {
   "toc_cell": false,
   "toc_number_sections": true,
   "toc_threshold": 4,
   "toc_window_display": false
  }
 },
 "nbformat": 4,
 "nbformat_minor": 0
}
