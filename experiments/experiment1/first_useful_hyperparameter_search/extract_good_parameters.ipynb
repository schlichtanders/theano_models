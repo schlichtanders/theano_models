{
 "cells": [
  {
   "cell_type": "code",
   "execution_count": 1,
   "metadata": {
    "collapsed": true
   },
   "outputs": [],
   "source": [
    "import os, platform, sys\n",
    "from pprint import pprint"
   ]
  },
  {
   "cell_type": "code",
   "execution_count": 2,
   "metadata": {
    "collapsed": true
   },
   "outputs": [],
   "source": [
    "__file__ = os.path.realpath('__file__')\n",
    "if platform.system() == \"Windows\":\n",
    "    from schlichtanders.myos import replace_unc\n",
    "    __file__ = replace_unc(__file__)\n",
    "__path__ = os.path.dirname(__file__)\n",
    "__parent__ = os.path.dirname(__path__)"
   ]
  },
  {
   "cell_type": "code",
   "execution_count": 3,
   "metadata": {
    "collapsed": false
   },
   "outputs": [],
   "source": [
    "from sqlalchemy import Column, Integer, Unicode, UnicodeText, String, PickleType, Float, Boolean\n",
    "from sqlalchemy import create_engine, MetaData, Table\n",
    "from sqlalchemy.orm import sessionmaker, Session, create_session\n",
    "from sqlalchemy.ext.declarative import declarative_base\n",
    "from sqlalchemy.ext.automap import automap_base"
   ]
  },
  {
   "cell_type": "code",
   "execution_count": null,
   "metadata": {
    "collapsed": true
   },
   "outputs": [],
   "source": [
    "from schlichtanders.mycontextmanagers import ignored"
   ]
  },
  {
   "cell_type": "code",
   "execution_count": null,
   "metadata": {
    "collapsed": true
   },
   "outputs": [],
   "source": [
    "from collections import defaultdict\n",
    "import csv"
   ]
  },
  {
   "cell_type": "code",
   "execution_count": null,
   "metadata": {
    "collapsed": true
   },
   "outputs": [],
   "source": [
    "from copy import copy\n",
    "import warnings\n",
    "warnings.filterwarnings(\"ignore\", category=DeprecationWarning)"
   ]
  },
  {
   "cell_type": "code",
   "execution_count": null,
   "metadata": {
    "collapsed": true
   },
   "outputs": [],
   "source": [
    "datasetnames = [\"boston\", \"concrete\", \"energy\", \"kin8nm\", \"powerplant\", \"winered\", \"yacht\"]"
   ]
  },
  {
   "cell_type": "code",
   "execution_count": null,
   "metadata": {
    "collapsed": true
   },
   "outputs": [],
   "source": [
    "crucial_parameters = [\"datasetname\", \"modelname\", \"batch_size\", \"n_normflows\", \"minus_log_s\", \"opt_identifier\", \"opt_momentum\",\n",
    " \"opt_offset\", \"opt_decay\", \"opt_step_rate\", \"best_val_loss\"]\n",
    "def sql_to_dict(sql, keys=crucial_parameters):\n",
    "    return {k:getattr(sql,k) for k in keys}"
   ]
  },
  {
   "cell_type": "code",
   "execution_count": null,
   "metadata": {
    "collapsed": false
   },
   "outputs": [],
   "source": [
    "engine = create_engine('sqlite:///' + os.path.join(__path__, \"experiment_final_%s1.db\" % \"boston\")) # echo=True\n",
    "Base = automap_base()\n",
    "Base.prepare(engine, reflect=True)\n",
    "Hyper = Base.classes.hyper"
   ]
  },
  {
   "cell_type": "code",
   "execution_count": null,
   "metadata": {
    "collapsed": true
   },
   "outputs": [],
   "source": [
    "def get_best_ones(datasetname, loglikelihood_lt):\n",
    "    engine = create_engine('sqlite:///' + os.path.join(__path__, \"experiment_final_%s1.db\" % datasetname)) # echo=True\n",
    "    Base = automap_base()\n",
    "    Base.prepare(engine, reflect=True)\n",
    "    Hyper = Base.classes.hyper\n",
    "    session = Session(engine)\n",
    "    \n",
    "    best_ones = set()\n",
    "    for modelname in [\"baseline\", \"radialflow\", \"planarflow\", \"mixture\",\n",
    "                \"planarflowdet\", \"radialflowdet\"]:\n",
    "        attr = modelname + \"_best_val_loss\"\n",
    "        sql_attr = getattr(Hyper, attr)\n",
    "        update = session.query(Hyper).order_by(sql_attr.asc()).filter(sql_attr < loglikelihood_lt).all()\n",
    "        update = update[:2] # take only best 2\n",
    "        for h in update:\n",
    "            h.modelname = modelname\n",
    "            h.best_val_loss = getattr(h, modelname + \"_best_val_loss\")\n",
    "        best_ones.update(update)\n",
    "    return map(sql_to_dict, best_ones)"
   ]
  },
  {
   "cell_type": "code",
   "execution_count": null,
   "metadata": {
    "collapsed": true
   },
   "outputs": [],
   "source": [
    "from frozendict import frozendict"
   ]
  },
  {
   "cell_type": "code",
   "execution_count": null,
   "metadata": {
    "collapsed": true
   },
   "outputs": [],
   "source": [
    "best_ones = {}\n",
    "all_best_ones = []\n",
    "loglikelihood_lt = 4\n",
    "for dn in datasetnames:\n",
    "    best_ones[dn] = get_best_ones(dn, loglikelihood_lt)\n",
    "    all_best_ones += map(frozendict, best_ones[dn])"
   ]
  },
  {
   "cell_type": "code",
   "execution_count": null,
   "metadata": {
    "collapsed": false
   },
   "outputs": [],
   "source": [
    "all_unique_best_ones = set(all_best_ones)"
   ]
  },
  {
   "cell_type": "code",
   "execution_count": null,
   "metadata": {
    "collapsed": false
   },
   "outputs": [],
   "source": [
    "all_unique_best_ones"
   ]
  },
  {
   "cell_type": "code",
   "execution_count": null,
   "metadata": {
    "collapsed": false
   },
   "outputs": [],
   "source": [
    "with open(os.path.join(__path__, \"all_modelname_besttwo_valloss.csv\"), \"w\") as f:\n",
    "    writer = csv.DictWriter(f, fieldnames=crucial_parameters,\n",
    "                            quoting=csv.QUOTE_NONNUMERIC)\n",
    "    writer.writeheader()\n",
    "    writer.writerows(all_unique_best_ones)"
   ]
  },
  {
   "cell_type": "raw",
   "metadata": {},
   "source": [
    "with ignored(OSError):\n",
    "    os.mkdir(os.path.join(__path__, \"csv\"))\n",
    "\n",
    "for dn in datasetnames:\n",
    "    writer = csv.DictWriter(open(os.path.join(__path__, \"csv\", \"%s.csv\" % dn), \"w\"), fieldnames=crucial_parameters)\n",
    "    writer.writeheader()\n",
    "    writer.writerows(best_ones[dn])"
   ]
  }
 ],
 "metadata": {
  "kernelspec": {
   "display_name": "Python 2",
   "language": "python",
   "name": "python2"
  },
  "language_info": {
   "codemirror_mode": {
    "name": "ipython",
    "version": 2
   },
   "file_extension": ".py",
   "mimetype": "text/x-python",
   "name": "python",
   "nbconvert_exporter": "python",
   "pygments_lexer": "ipython2",
   "version": "2.7.6"
  },
  "toc": {
   "toc_cell": false,
   "toc_number_sections": true,
   "toc_threshold": 4,
   "toc_window_display": false
  }
 },
 "nbformat": 4,
 "nbformat_minor": 0
}
