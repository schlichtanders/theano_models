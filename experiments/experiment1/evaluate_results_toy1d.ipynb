{
 "cells": [
  {
   "cell_type": "markdown",
   "metadata": {},
   "source": [
    "# imports"
   ]
  },
  {
   "cell_type": "code",
   "execution_count": 1,
   "metadata": {
    "collapsed": false
   },
   "outputs": [],
   "source": [
    "%matplotlib notebook\n",
    "import matplotlib.pyplot as plt\n",
    "from schlichtanders.mymatplotlib import Centre\n",
    "from matplotlib.colors import LogNorm\n",
    "from mpl_toolkits.axes_grid1 import make_axes_locatable\n",
    "import seaborn"
   ]
  },
  {
   "cell_type": "code",
   "execution_count": 2,
   "metadata": {
    "collapsed": false
   },
   "outputs": [],
   "source": [
    "import os, platform, sys\n",
    "from pprint import pprint"
   ]
  },
  {
   "cell_type": "code",
   "execution_count": 3,
   "metadata": {
    "collapsed": true
   },
   "outputs": [],
   "source": [
    "__file__ = os.path.realpath('__file__')\n",
    "if platform.system() == \"Windows\":\n",
    "    from schlichtanders.myos import replace_unc\n",
    "    __file__ = replace_unc(__file__)\n",
    "__path__ = os.path.dirname(__file__)\n",
    "__parent__ = os.path.dirname(__path__)"
   ]
  },
  {
   "cell_type": "code",
   "execution_count": 4,
   "metadata": {
    "collapsed": true
   },
   "outputs": [],
   "source": [
    "from sqlalchemy import Column, Integer, Unicode, UnicodeText, String, PickleType, Float, Boolean\n",
    "from sqlalchemy import create_engine, MetaData, Table\n",
    "from sqlalchemy.orm import sessionmaker, Session, create_session\n",
    "from sqlalchemy.ext.declarative import declarative_base\n",
    "from sqlalchemy.ext.automap import automap_base\n",
    "import operator as op\n",
    "from collections import defaultdict\n",
    "import csv\n",
    "import heapq\n",
    "from copy import copy\n",
    "import warnings\n",
    "warnings.filterwarnings(\"ignore\", category=DeprecationWarning)\n",
    "inf = float('inf')"
   ]
  },
  {
   "cell_type": "code",
   "execution_count": 7,
   "metadata": {
    "collapsed": false
   },
   "outputs": [],
   "source": [
    "import experiment_toy_models\n",
    "import experiment_util\n",
    "from schlichtanders.mycontextmanagers import ignored\n",
    "from schlichtanders.myobjects import Namespace\n",
    "from evaluation_util import get_modes\n",
    "import evaluation_util as eva"
   ]
  },
  {
   "cell_type": "code",
   "execution_count": 8,
   "metadata": {
    "collapsed": true
   },
   "outputs": [],
   "source": [
    "import numpy as np\n",
    "import theano"
   ]
  },
  {
   "cell_type": "code",
   "execution_count": 9,
   "metadata": {
    "collapsed": false
   },
   "outputs": [],
   "source": [
    "model_names = { # sorted by optimization type\n",
    "    \"ml\": ['baselinedet'],\n",
    "    \"annealing\": ['baseline', 'mixture', 'planarflow', 'planarflowdet', 'radialflow', 'radialflowdet'],\n",
    "}\n",
    "model_prefixes = reduce(op.add, model_names.values())"
   ]
  },
  {
   "cell_type": "raw",
   "metadata": {},
   "source": [
    "# this approach seems to have problems with pickling\n",
    "all_data = []\n",
    "\n",
    "for f in gen_subfiles(\"toy_windows\", \"toy_linux\"):\n",
    "    engine = create_engine('sqlite:///' + f)\n",
    "    Base = automap_base()\n",
    "    Base.prepare(engine, reflect=True)\n",
    "    Hyper = Base.classes.hyper\n",
    "    session = Session(engine)\n",
    "    all_data += session.query(Hyper).all()  # filter if you want"
   ]
  },
  {
   "cell_type": "code",
   "execution_count": 10,
   "metadata": {
    "collapsed": true
   },
   "outputs": [],
   "source": [
    "Hyper = experiment_util.get_toy_hyper()"
   ]
  },
  {
   "cell_type": "markdown",
   "metadata": {},
   "source": [
    "# Collect models and find best ones"
   ]
  },
  {
   "cell_type": "raw",
   "metadata": {},
   "source": [
    "best_hyper = eva.get_best_hyper([\"toy_windows\", \"toy_linux\"], Hyper, model_prefixes, test_suffix=[\"best_val_loss\"])"
   ]
  },
  {
   "cell_type": "code",
   "execution_count": 11,
   "metadata": {
    "collapsed": false
   },
   "outputs": [
    {
     "ename": "OperationalError",
     "evalue": "(pysqlite2.dbapi2.OperationalError) no such column: hyper.percent [SQL: u'SELECT hyper.id AS hyper_id, hyper.x_true AS hyper_x_true, hyper.percent AS hyper_percent, hyper.max_epochs_without_improvement AS hyper_max_epochs_without_improvement, hyper.\"logP_average_n\" AS \"hyper_logP_average_n\", hyper.errorrate_average_n AS hyper_errorrate_average_n, hyper.minus_log_s1 AS hyper_minus_log_s1, hyper.minus_log_s2 AS hyper_minus_log_s2, hyper.batch_size AS hyper_batch_size, hyper.dim AS hyper_dim, hyper.n_normflows AS hyper_n_normflows, hyper.opt_identifier AS hyper_opt_identifier, hyper.opt_momentum AS hyper_opt_momentum, hyper.opt_offset AS hyper_opt_offset, hyper.opt_decay AS hyper_opt_decay, hyper.opt_step_rate AS hyper_opt_step_rate, hyper.baselinedet_best_parameters AS hyper_baselinedet_best_parameters, hyper.baselinedet_best_val_loss AS hyper_baselinedet_best_val_loss, hyper.baselinedet_best_test_loss AS hyper_baselinedet_best_test_loss, hyper.baselinedet_train_loss AS hyper_baselinedet_train_loss, hyper.baselinedet_val_loss AS hyper_baselinedet_val_loss, hyper.baselinedet_best_epoch AS hyper_baselinedet_best_epoch, hyper.baselinedet_init_params AS hyper_baselinedet_init_params, hyper.baselinedet_val_error_rate AS hyper_baselinedet_val_error_rate, hyper.baselinedet_test_error_rate AS hyper_baselinedet_test_error_rate, hyper.baseline_best_parameters AS hyper_baseline_best_parameters, hyper.baseline_best_val_loss AS hyper_baseline_best_val_loss, hyper.baseline_best_test_loss AS hyper_baseline_best_test_loss, hyper.baseline_train_loss AS hyper_baseline_train_loss, hyper.baseline_val_loss AS hyper_baseline_val_loss, hyper.baseline_best_epoch AS hyper_baseline_best_epoch, hyper.baseline_init_params AS hyper_baseline_init_params, hyper.baseline_val_error_rate AS hyper_baseline_val_error_rate, hyper.baseline_test_error_rate AS hyper_baseline_test_error_rate, hyper.mixture_best_parameters AS hyper_mixture_best_parameters, hyper.mixture_best_val_loss AS hyper_mixture_best_val_loss, hyper.mixture_best_test_loss AS hyper_mixture_best_test_loss, hyper.mixture_train_loss AS hyper_mixture_train_loss, hyper.mixture_val_loss AS hyper_mixture_val_loss, hyper.mixture_best_epoch AS hyper_mixture_best_epoch, hyper.mixture_init_params AS hyper_mixture_init_params, hyper.mixture_val_error_rate AS hyper_mixture_val_error_rate, hyper.mixture_test_error_rate AS hyper_mixture_test_error_rate, hyper.planarflow_best_parameters AS hyper_planarflow_best_parameters, hyper.planarflow_best_val_loss AS hyper_planarflow_best_val_loss, hyper.planarflow_best_test_loss AS hyper_planarflow_best_test_loss, hyper.planarflow_train_loss AS hyper_planarflow_train_loss, hyper.planarflow_val_loss AS hyper_planarflow_val_loss, hyper.planarflow_best_epoch AS hyper_planarflow_best_epoch, hyper.planarflow_init_params AS hyper_planarflow_init_params, hyper.planarflow_val_error_rate AS hyper_planarflow_val_error_rate, hyper.planarflow_test_error_rate AS hyper_planarflow_test_error_rate, hyper.planarflowdet_best_parameters AS hyper_planarflowdet_best_parameters, hyper.planarflowdet_best_val_loss AS hyper_planarflowdet_best_val_loss, hyper.planarflowdet_best_test_loss AS hyper_planarflowdet_best_test_loss, hyper.planarflowdet_train_loss AS hyper_planarflowdet_train_loss, hyper.planarflowdet_val_loss AS hyper_planarflowdet_val_loss, hyper.planarflowdet_best_epoch AS hyper_planarflowdet_best_epoch, hyper.planarflowdet_init_params AS hyper_planarflowdet_init_params, hyper.planarflowdet_val_error_rate AS hyper_planarflowdet_val_error_rate, hyper.planarflowdet_test_error_rate AS hyper_planarflowdet_test_error_rate, hyper.radialflow_best_parameters AS hyper_radialflow_best_parameters, hyper.radialflow_best_val_loss AS hyper_radialflow_best_val_loss, hyper.radialflow_best_test_loss AS hyper_radialflow_best_test_loss, hyper.radialflow_train_loss AS hyper_radialflow_train_loss, hyper.radialflow_val_loss AS hyper_radialflow_val_loss, hyper.radialflow_best_epoch AS hyper_radialflow_best_epoch, hyper.radialflow_init_params AS hyper_radialflow_init_params, hyper.radialflow_val_error_rate AS hyper_radialflow_val_error_rate, hyper.radialflow_test_error_rate AS hyper_radialflow_test_error_rate, hyper.radialflowdet_best_parameters AS hyper_radialflowdet_best_parameters, hyper.radialflowdet_best_val_loss AS hyper_radialflowdet_best_val_loss, hyper.radialflowdet_best_test_loss AS hyper_radialflowdet_best_test_loss, hyper.radialflowdet_train_loss AS hyper_radialflowdet_train_loss, hyper.radialflowdet_val_loss AS hyper_radialflowdet_val_loss, hyper.radialflowdet_best_epoch AS hyper_radialflowdet_best_epoch, hyper.radialflowdet_init_params AS hyper_radialflowdet_init_params, hyper.radialflowdet_val_error_rate AS hyper_radialflowdet_val_error_rate, hyper.radialflowdet_test_error_rate AS hyper_radialflowdet_test_error_rate \\nFROM hyper']",
     "output_type": "error",
     "traceback": [
      "\u001b[1;31m---------------------------------------------------------------------------\u001b[0m",
      "\u001b[1;31mOperationalError\u001b[0m                          Traceback (most recent call last)",
      "\u001b[1;32m/home/stephan/GitProjects/theano_models/experiments/experiment1/__file__\u001b[0m in \u001b[0;36m<module>\u001b[1;34m()\u001b[0m\n\u001b[0;32m      1\u001b[0m \u001b[1;32mdef\u001b[0m \u001b[0mkey\u001b[0m\u001b[1;33m(\u001b[0m\u001b[0mfn\u001b[0m\u001b[1;33m,\u001b[0m \u001b[0mpath\u001b[0m\u001b[1;33m)\u001b[0m\u001b[1;33m:\u001b[0m\u001b[1;33m\u001b[0m\u001b[0m\n\u001b[0;32m      2\u001b[0m     \u001b[1;32mreturn\u001b[0m \u001b[1;34m\"1d\"\u001b[0m \u001b[1;32min\u001b[0m \u001b[0mfn\u001b[0m\u001b[1;33m\u001b[0m\u001b[0m\n\u001b[1;32m----> 3\u001b[1;33m \u001b[0mbest_hyper\u001b[0m \u001b[1;33m=\u001b[0m \u001b[0meva\u001b[0m\u001b[1;33m.\u001b[0m\u001b[0mget_best_hyper\u001b[0m\u001b[1;33m(\u001b[0m\u001b[1;33m[\u001b[0m\u001b[1;34m\"toywithtestval\"\u001b[0m\u001b[1;33m,\u001b[0m \u001b[1;34m\"toy_linux\"\u001b[0m\u001b[1;33m]\u001b[0m\u001b[1;33m,\u001b[0m \u001b[0mHyper\u001b[0m\u001b[1;33m,\u001b[0m \u001b[0mmodel_prefixes\u001b[0m\u001b[1;33m,\u001b[0m \u001b[0mtest_suffix\u001b[0m\u001b[1;33m=\u001b[0m\u001b[1;33m[\u001b[0m\u001b[1;34m\"best_val_loss\"\u001b[0m\u001b[1;33m]\u001b[0m\u001b[1;33m,\u001b[0m \u001b[0mkey\u001b[0m\u001b[1;33m=\u001b[0m\u001b[0mkey\u001b[0m\u001b[1;33m)\u001b[0m\u001b[1;33m\u001b[0m\u001b[0m\n\u001b[0m",
      "\u001b[1;32m/home/stephan/GitProjects/theano_models/experiments/experiment1/__file__\u001b[0m in \u001b[0;36mget_best_hyper\u001b[1;34m(folders, Hyper, model_prefixes, percentages, test_suffix, key)\u001b[0m\n\u001b[0;32m    264\u001b[0m         \u001b[0mHyper\u001b[0m\u001b[1;33m.\u001b[0m\u001b[0mmetadata\u001b[0m\u001b[1;33m.\u001b[0m\u001b[0mcreate_all\u001b[0m\u001b[1;33m(\u001b[0m\u001b[0mengine\u001b[0m\u001b[1;33m)\u001b[0m\u001b[1;33m\u001b[0m\u001b[0m\n\u001b[0;32m    265\u001b[0m         \u001b[0msession\u001b[0m \u001b[1;33m=\u001b[0m \u001b[0mSession\u001b[0m\u001b[1;33m(\u001b[0m\u001b[0mengine\u001b[0m\u001b[1;33m)\u001b[0m\u001b[1;33m\u001b[0m\u001b[0m\n\u001b[1;32m--> 266\u001b[1;33m         \u001b[0mall_data\u001b[0m \u001b[1;33m+=\u001b[0m \u001b[0msession\u001b[0m\u001b[1;33m.\u001b[0m\u001b[0mquery\u001b[0m\u001b[1;33m(\u001b[0m\u001b[0mHyper\u001b[0m\u001b[1;33m)\u001b[0m\u001b[1;33m.\u001b[0m\u001b[0mall\u001b[0m\u001b[1;33m(\u001b[0m\u001b[1;33m)\u001b[0m  \u001b[1;31m# filter if you want\u001b[0m\u001b[1;33m\u001b[0m\u001b[0m\n\u001b[0m\u001b[0;32m    267\u001b[0m \u001b[1;33m\u001b[0m\u001b[0m\n\u001b[0;32m    268\u001b[0m     \u001b[0mn_normflows\u001b[0m \u001b[1;33m=\u001b[0m \u001b[0mset\u001b[0m\u001b[1;33m(\u001b[0m\u001b[0mh\u001b[0m\u001b[1;33m.\u001b[0m\u001b[0mn_normflows\u001b[0m \u001b[1;32mfor\u001b[0m \u001b[0mh\u001b[0m \u001b[1;32min\u001b[0m \u001b[0mall_data\u001b[0m\u001b[1;33m)\u001b[0m\u001b[1;33m\u001b[0m\u001b[0m\n",
      "\u001b[1;32m/usr/local/lib/python2.7/dist-packages/sqlalchemy/orm/query.pyc\u001b[0m in \u001b[0;36mall\u001b[1;34m(self)\u001b[0m\n\u001b[0;32m   2611\u001b[0m \u001b[1;33m\u001b[0m\u001b[0m\n\u001b[0;32m   2612\u001b[0m         \"\"\"\n\u001b[1;32m-> 2613\u001b[1;33m         \u001b[1;32mreturn\u001b[0m \u001b[0mlist\u001b[0m\u001b[1;33m(\u001b[0m\u001b[0mself\u001b[0m\u001b[1;33m)\u001b[0m\u001b[1;33m\u001b[0m\u001b[0m\n\u001b[0m\u001b[0;32m   2614\u001b[0m \u001b[1;33m\u001b[0m\u001b[0m\n\u001b[0;32m   2615\u001b[0m     \u001b[1;33m@\u001b[0m\u001b[0m_generative\u001b[0m\u001b[1;33m(\u001b[0m\u001b[0m_no_clauseelement_condition\u001b[0m\u001b[1;33m)\u001b[0m\u001b[1;33m\u001b[0m\u001b[0m\n",
      "\u001b[1;32m/usr/local/lib/python2.7/dist-packages/sqlalchemy/orm/query.pyc\u001b[0m in \u001b[0;36m__iter__\u001b[1;34m(self)\u001b[0m\n\u001b[0;32m   2759\u001b[0m         \u001b[1;32mif\u001b[0m \u001b[0mself\u001b[0m\u001b[1;33m.\u001b[0m\u001b[0m_autoflush\u001b[0m \u001b[1;32mand\u001b[0m \u001b[1;32mnot\u001b[0m \u001b[0mself\u001b[0m\u001b[1;33m.\u001b[0m\u001b[0m_populate_existing\u001b[0m\u001b[1;33m:\u001b[0m\u001b[1;33m\u001b[0m\u001b[0m\n\u001b[0;32m   2760\u001b[0m             \u001b[0mself\u001b[0m\u001b[1;33m.\u001b[0m\u001b[0msession\u001b[0m\u001b[1;33m.\u001b[0m\u001b[0m_autoflush\u001b[0m\u001b[1;33m(\u001b[0m\u001b[1;33m)\u001b[0m\u001b[1;33m\u001b[0m\u001b[0m\n\u001b[1;32m-> 2761\u001b[1;33m         \u001b[1;32mreturn\u001b[0m \u001b[0mself\u001b[0m\u001b[1;33m.\u001b[0m\u001b[0m_execute_and_instances\u001b[0m\u001b[1;33m(\u001b[0m\u001b[0mcontext\u001b[0m\u001b[1;33m)\u001b[0m\u001b[1;33m\u001b[0m\u001b[0m\n\u001b[0m\u001b[0;32m   2762\u001b[0m \u001b[1;33m\u001b[0m\u001b[0m\n\u001b[0;32m   2763\u001b[0m     \u001b[1;32mdef\u001b[0m \u001b[0m_connection_from_session\u001b[0m\u001b[1;33m(\u001b[0m\u001b[0mself\u001b[0m\u001b[1;33m,\u001b[0m \u001b[1;33m**\u001b[0m\u001b[0mkw\u001b[0m\u001b[1;33m)\u001b[0m\u001b[1;33m:\u001b[0m\u001b[1;33m\u001b[0m\u001b[0m\n",
      "\u001b[1;32m/usr/local/lib/python2.7/dist-packages/sqlalchemy/orm/query.pyc\u001b[0m in \u001b[0;36m_execute_and_instances\u001b[1;34m(self, querycontext)\u001b[0m\n\u001b[0;32m   2774\u001b[0m             close_with_result=True)\n\u001b[0;32m   2775\u001b[0m \u001b[1;33m\u001b[0m\u001b[0m\n\u001b[1;32m-> 2776\u001b[1;33m         \u001b[0mresult\u001b[0m \u001b[1;33m=\u001b[0m \u001b[0mconn\u001b[0m\u001b[1;33m.\u001b[0m\u001b[0mexecute\u001b[0m\u001b[1;33m(\u001b[0m\u001b[0mquerycontext\u001b[0m\u001b[1;33m.\u001b[0m\u001b[0mstatement\u001b[0m\u001b[1;33m,\u001b[0m \u001b[0mself\u001b[0m\u001b[1;33m.\u001b[0m\u001b[0m_params\u001b[0m\u001b[1;33m)\u001b[0m\u001b[1;33m\u001b[0m\u001b[0m\n\u001b[0m\u001b[0;32m   2777\u001b[0m         \u001b[1;32mreturn\u001b[0m \u001b[0mloading\u001b[0m\u001b[1;33m.\u001b[0m\u001b[0minstances\u001b[0m\u001b[1;33m(\u001b[0m\u001b[0mquerycontext\u001b[0m\u001b[1;33m.\u001b[0m\u001b[0mquery\u001b[0m\u001b[1;33m,\u001b[0m \u001b[0mresult\u001b[0m\u001b[1;33m,\u001b[0m \u001b[0mquerycontext\u001b[0m\u001b[1;33m)\u001b[0m\u001b[1;33m\u001b[0m\u001b[0m\n\u001b[0;32m   2778\u001b[0m \u001b[1;33m\u001b[0m\u001b[0m\n",
      "\u001b[1;32m/usr/local/lib/python2.7/dist-packages/sqlalchemy/engine/base.pyc\u001b[0m in \u001b[0;36mexecute\u001b[1;34m(self, object, *multiparams, **params)\u001b[0m\n\u001b[0;32m    912\u001b[0m                 type(object))\n\u001b[0;32m    913\u001b[0m         \u001b[1;32melse\u001b[0m\u001b[1;33m:\u001b[0m\u001b[1;33m\u001b[0m\u001b[0m\n\u001b[1;32m--> 914\u001b[1;33m             \u001b[1;32mreturn\u001b[0m \u001b[0mmeth\u001b[0m\u001b[1;33m(\u001b[0m\u001b[0mself\u001b[0m\u001b[1;33m,\u001b[0m \u001b[0mmultiparams\u001b[0m\u001b[1;33m,\u001b[0m \u001b[0mparams\u001b[0m\u001b[1;33m)\u001b[0m\u001b[1;33m\u001b[0m\u001b[0m\n\u001b[0m\u001b[0;32m    915\u001b[0m \u001b[1;33m\u001b[0m\u001b[0m\n\u001b[0;32m    916\u001b[0m     \u001b[1;32mdef\u001b[0m \u001b[0m_execute_function\u001b[0m\u001b[1;33m(\u001b[0m\u001b[0mself\u001b[0m\u001b[1;33m,\u001b[0m \u001b[0mfunc\u001b[0m\u001b[1;33m,\u001b[0m \u001b[0mmultiparams\u001b[0m\u001b[1;33m,\u001b[0m \u001b[0mparams\u001b[0m\u001b[1;33m)\u001b[0m\u001b[1;33m:\u001b[0m\u001b[1;33m\u001b[0m\u001b[0m\n",
      "\u001b[1;32m/usr/local/lib/python2.7/dist-packages/sqlalchemy/sql/elements.pyc\u001b[0m in \u001b[0;36m_execute_on_connection\u001b[1;34m(self, connection, multiparams, params)\u001b[0m\n\u001b[0;32m    321\u001b[0m \u001b[1;33m\u001b[0m\u001b[0m\n\u001b[0;32m    322\u001b[0m     \u001b[1;32mdef\u001b[0m \u001b[0m_execute_on_connection\u001b[0m\u001b[1;33m(\u001b[0m\u001b[0mself\u001b[0m\u001b[1;33m,\u001b[0m \u001b[0mconnection\u001b[0m\u001b[1;33m,\u001b[0m \u001b[0mmultiparams\u001b[0m\u001b[1;33m,\u001b[0m \u001b[0mparams\u001b[0m\u001b[1;33m)\u001b[0m\u001b[1;33m:\u001b[0m\u001b[1;33m\u001b[0m\u001b[0m\n\u001b[1;32m--> 323\u001b[1;33m         \u001b[1;32mreturn\u001b[0m \u001b[0mconnection\u001b[0m\u001b[1;33m.\u001b[0m\u001b[0m_execute_clauseelement\u001b[0m\u001b[1;33m(\u001b[0m\u001b[0mself\u001b[0m\u001b[1;33m,\u001b[0m \u001b[0mmultiparams\u001b[0m\u001b[1;33m,\u001b[0m \u001b[0mparams\u001b[0m\u001b[1;33m)\u001b[0m\u001b[1;33m\u001b[0m\u001b[0m\n\u001b[0m\u001b[0;32m    324\u001b[0m \u001b[1;33m\u001b[0m\u001b[0m\n\u001b[0;32m    325\u001b[0m     \u001b[1;32mdef\u001b[0m \u001b[0munique_params\u001b[0m\u001b[1;33m(\u001b[0m\u001b[0mself\u001b[0m\u001b[1;33m,\u001b[0m \u001b[1;33m*\u001b[0m\u001b[0moptionaldict\u001b[0m\u001b[1;33m,\u001b[0m \u001b[1;33m**\u001b[0m\u001b[0mkwargs\u001b[0m\u001b[1;33m)\u001b[0m\u001b[1;33m:\u001b[0m\u001b[1;33m\u001b[0m\u001b[0m\n",
      "\u001b[1;32m/usr/local/lib/python2.7/dist-packages/sqlalchemy/engine/base.pyc\u001b[0m in \u001b[0;36m_execute_clauseelement\u001b[1;34m(self, elem, multiparams, params)\u001b[0m\n\u001b[0;32m   1008\u001b[0m             \u001b[0mcompiled_sql\u001b[0m\u001b[1;33m,\u001b[0m\u001b[1;33m\u001b[0m\u001b[0m\n\u001b[0;32m   1009\u001b[0m             \u001b[0mdistilled_params\u001b[0m\u001b[1;33m,\u001b[0m\u001b[1;33m\u001b[0m\u001b[0m\n\u001b[1;32m-> 1010\u001b[1;33m             \u001b[0mcompiled_sql\u001b[0m\u001b[1;33m,\u001b[0m \u001b[0mdistilled_params\u001b[0m\u001b[1;33m\u001b[0m\u001b[0m\n\u001b[0m\u001b[0;32m   1011\u001b[0m         )\n\u001b[0;32m   1012\u001b[0m         \u001b[1;32mif\u001b[0m \u001b[0mself\u001b[0m\u001b[1;33m.\u001b[0m\u001b[0m_has_events\u001b[0m \u001b[1;32mor\u001b[0m \u001b[0mself\u001b[0m\u001b[1;33m.\u001b[0m\u001b[0mengine\u001b[0m\u001b[1;33m.\u001b[0m\u001b[0m_has_events\u001b[0m\u001b[1;33m:\u001b[0m\u001b[1;33m\u001b[0m\u001b[0m\n",
      "\u001b[1;32m/usr/local/lib/python2.7/dist-packages/sqlalchemy/engine/base.pyc\u001b[0m in \u001b[0;36m_execute_context\u001b[1;34m(self, dialect, constructor, statement, parameters, *args)\u001b[0m\n\u001b[0;32m   1144\u001b[0m                 \u001b[0mparameters\u001b[0m\u001b[1;33m,\u001b[0m\u001b[1;33m\u001b[0m\u001b[0m\n\u001b[0;32m   1145\u001b[0m                 \u001b[0mcursor\u001b[0m\u001b[1;33m,\u001b[0m\u001b[1;33m\u001b[0m\u001b[0m\n\u001b[1;32m-> 1146\u001b[1;33m                 context)\n\u001b[0m\u001b[0;32m   1147\u001b[0m \u001b[1;33m\u001b[0m\u001b[0m\n\u001b[0;32m   1148\u001b[0m         \u001b[1;32mif\u001b[0m \u001b[0mself\u001b[0m\u001b[1;33m.\u001b[0m\u001b[0m_has_events\u001b[0m \u001b[1;32mor\u001b[0m \u001b[0mself\u001b[0m\u001b[1;33m.\u001b[0m\u001b[0mengine\u001b[0m\u001b[1;33m.\u001b[0m\u001b[0m_has_events\u001b[0m\u001b[1;33m:\u001b[0m\u001b[1;33m\u001b[0m\u001b[0m\n",
      "\u001b[1;32m/usr/local/lib/python2.7/dist-packages/sqlalchemy/engine/base.pyc\u001b[0m in \u001b[0;36m_handle_dbapi_exception\u001b[1;34m(self, e, statement, parameters, cursor, context)\u001b[0m\n\u001b[0;32m   1339\u001b[0m                 util.raise_from_cause(\n\u001b[0;32m   1340\u001b[0m                     \u001b[0msqlalchemy_exception\u001b[0m\u001b[1;33m,\u001b[0m\u001b[1;33m\u001b[0m\u001b[0m\n\u001b[1;32m-> 1341\u001b[1;33m                     \u001b[0mexc_info\u001b[0m\u001b[1;33m\u001b[0m\u001b[0m\n\u001b[0m\u001b[0;32m   1342\u001b[0m                 )\n\u001b[0;32m   1343\u001b[0m             \u001b[1;32melse\u001b[0m\u001b[1;33m:\u001b[0m\u001b[1;33m\u001b[0m\u001b[0m\n",
      "\u001b[1;32m/usr/local/lib/python2.7/dist-packages/sqlalchemy/util/compat.pyc\u001b[0m in \u001b[0;36mraise_from_cause\u001b[1;34m(exception, exc_info)\u001b[0m\n\u001b[0;32m    200\u001b[0m     \u001b[0mexc_type\u001b[0m\u001b[1;33m,\u001b[0m \u001b[0mexc_value\u001b[0m\u001b[1;33m,\u001b[0m \u001b[0mexc_tb\u001b[0m \u001b[1;33m=\u001b[0m \u001b[0mexc_info\u001b[0m\u001b[1;33m\u001b[0m\u001b[0m\n\u001b[0;32m    201\u001b[0m     \u001b[0mcause\u001b[0m \u001b[1;33m=\u001b[0m \u001b[0mexc_value\u001b[0m \u001b[1;32mif\u001b[0m \u001b[0mexc_value\u001b[0m \u001b[1;32mis\u001b[0m \u001b[1;32mnot\u001b[0m \u001b[0mexception\u001b[0m \u001b[1;32melse\u001b[0m \u001b[0mNone\u001b[0m\u001b[1;33m\u001b[0m\u001b[0m\n\u001b[1;32m--> 202\u001b[1;33m     \u001b[0mreraise\u001b[0m\u001b[1;33m(\u001b[0m\u001b[0mtype\u001b[0m\u001b[1;33m(\u001b[0m\u001b[0mexception\u001b[0m\u001b[1;33m)\u001b[0m\u001b[1;33m,\u001b[0m \u001b[0mexception\u001b[0m\u001b[1;33m,\u001b[0m \u001b[0mtb\u001b[0m\u001b[1;33m=\u001b[0m\u001b[0mexc_tb\u001b[0m\u001b[1;33m,\u001b[0m \u001b[0mcause\u001b[0m\u001b[1;33m=\u001b[0m\u001b[0mcause\u001b[0m\u001b[1;33m)\u001b[0m\u001b[1;33m\u001b[0m\u001b[0m\n\u001b[0m\u001b[0;32m    203\u001b[0m \u001b[1;33m\u001b[0m\u001b[0m\n\u001b[0;32m    204\u001b[0m \u001b[1;32mif\u001b[0m \u001b[0mpy3k\u001b[0m\u001b[1;33m:\u001b[0m\u001b[1;33m\u001b[0m\u001b[0m\n",
      "\u001b[1;32m/usr/local/lib/python2.7/dist-packages/sqlalchemy/engine/base.pyc\u001b[0m in \u001b[0;36m_execute_context\u001b[1;34m(self, dialect, constructor, statement, parameters, *args)\u001b[0m\n\u001b[0;32m   1137\u001b[0m                         \u001b[0mstatement\u001b[0m\u001b[1;33m,\u001b[0m\u001b[1;33m\u001b[0m\u001b[0m\n\u001b[0;32m   1138\u001b[0m                         \u001b[0mparameters\u001b[0m\u001b[1;33m,\u001b[0m\u001b[1;33m\u001b[0m\u001b[0m\n\u001b[1;32m-> 1139\u001b[1;33m                         context)\n\u001b[0m\u001b[0;32m   1140\u001b[0m         \u001b[1;32mexcept\u001b[0m \u001b[0mException\u001b[0m \u001b[1;32mas\u001b[0m \u001b[0me\u001b[0m\u001b[1;33m:\u001b[0m\u001b[1;33m\u001b[0m\u001b[0m\n\u001b[0;32m   1141\u001b[0m             self._handle_dbapi_exception(\n",
      "\u001b[1;32m/usr/local/lib/python2.7/dist-packages/sqlalchemy/engine/default.pyc\u001b[0m in \u001b[0;36mdo_execute\u001b[1;34m(self, cursor, statement, parameters, context)\u001b[0m\n\u001b[0;32m    448\u001b[0m \u001b[1;33m\u001b[0m\u001b[0m\n\u001b[0;32m    449\u001b[0m     \u001b[1;32mdef\u001b[0m \u001b[0mdo_execute\u001b[0m\u001b[1;33m(\u001b[0m\u001b[0mself\u001b[0m\u001b[1;33m,\u001b[0m \u001b[0mcursor\u001b[0m\u001b[1;33m,\u001b[0m \u001b[0mstatement\u001b[0m\u001b[1;33m,\u001b[0m \u001b[0mparameters\u001b[0m\u001b[1;33m,\u001b[0m \u001b[0mcontext\u001b[0m\u001b[1;33m=\u001b[0m\u001b[0mNone\u001b[0m\u001b[1;33m)\u001b[0m\u001b[1;33m:\u001b[0m\u001b[1;33m\u001b[0m\u001b[0m\n\u001b[1;32m--> 450\u001b[1;33m         \u001b[0mcursor\u001b[0m\u001b[1;33m.\u001b[0m\u001b[0mexecute\u001b[0m\u001b[1;33m(\u001b[0m\u001b[0mstatement\u001b[0m\u001b[1;33m,\u001b[0m \u001b[0mparameters\u001b[0m\u001b[1;33m)\u001b[0m\u001b[1;33m\u001b[0m\u001b[0m\n\u001b[0m\u001b[0;32m    451\u001b[0m \u001b[1;33m\u001b[0m\u001b[0m\n\u001b[0;32m    452\u001b[0m     \u001b[1;32mdef\u001b[0m \u001b[0mdo_execute_no_params\u001b[0m\u001b[1;33m(\u001b[0m\u001b[0mself\u001b[0m\u001b[1;33m,\u001b[0m \u001b[0mcursor\u001b[0m\u001b[1;33m,\u001b[0m \u001b[0mstatement\u001b[0m\u001b[1;33m,\u001b[0m \u001b[0mcontext\u001b[0m\u001b[1;33m=\u001b[0m\u001b[0mNone\u001b[0m\u001b[1;33m)\u001b[0m\u001b[1;33m:\u001b[0m\u001b[1;33m\u001b[0m\u001b[0m\n",
      "\u001b[1;31mOperationalError\u001b[0m: (pysqlite2.dbapi2.OperationalError) no such column: hyper.percent [SQL: u'SELECT hyper.id AS hyper_id, hyper.x_true AS hyper_x_true, hyper.percent AS hyper_percent, hyper.max_epochs_without_improvement AS hyper_max_epochs_without_improvement, hyper.\"logP_average_n\" AS \"hyper_logP_average_n\", hyper.errorrate_average_n AS hyper_errorrate_average_n, hyper.minus_log_s1 AS hyper_minus_log_s1, hyper.minus_log_s2 AS hyper_minus_log_s2, hyper.batch_size AS hyper_batch_size, hyper.dim AS hyper_dim, hyper.n_normflows AS hyper_n_normflows, hyper.opt_identifier AS hyper_opt_identifier, hyper.opt_momentum AS hyper_opt_momentum, hyper.opt_offset AS hyper_opt_offset, hyper.opt_decay AS hyper_opt_decay, hyper.opt_step_rate AS hyper_opt_step_rate, hyper.baselinedet_best_parameters AS hyper_baselinedet_best_parameters, hyper.baselinedet_best_val_loss AS hyper_baselinedet_best_val_loss, hyper.baselinedet_best_test_loss AS hyper_baselinedet_best_test_loss, hyper.baselinedet_train_loss AS hyper_baselinedet_train_loss, hyper.baselinedet_val_loss AS hyper_baselinedet_val_loss, hyper.baselinedet_best_epoch AS hyper_baselinedet_best_epoch, hyper.baselinedet_init_params AS hyper_baselinedet_init_params, hyper.baselinedet_val_error_rate AS hyper_baselinedet_val_error_rate, hyper.baselinedet_test_error_rate AS hyper_baselinedet_test_error_rate, hyper.baseline_best_parameters AS hyper_baseline_best_parameters, hyper.baseline_best_val_loss AS hyper_baseline_best_val_loss, hyper.baseline_best_test_loss AS hyper_baseline_best_test_loss, hyper.baseline_train_loss AS hyper_baseline_train_loss, hyper.baseline_val_loss AS hyper_baseline_val_loss, hyper.baseline_best_epoch AS hyper_baseline_best_epoch, hyper.baseline_init_params AS hyper_baseline_init_params, hyper.baseline_val_error_rate AS hyper_baseline_val_error_rate, hyper.baseline_test_error_rate AS hyper_baseline_test_error_rate, hyper.mixture_best_parameters AS hyper_mixture_best_parameters, hyper.mixture_best_val_loss AS hyper_mixture_best_val_loss, hyper.mixture_best_test_loss AS hyper_mixture_best_test_loss, hyper.mixture_train_loss AS hyper_mixture_train_loss, hyper.mixture_val_loss AS hyper_mixture_val_loss, hyper.mixture_best_epoch AS hyper_mixture_best_epoch, hyper.mixture_init_params AS hyper_mixture_init_params, hyper.mixture_val_error_rate AS hyper_mixture_val_error_rate, hyper.mixture_test_error_rate AS hyper_mixture_test_error_rate, hyper.planarflow_best_parameters AS hyper_planarflow_best_parameters, hyper.planarflow_best_val_loss AS hyper_planarflow_best_val_loss, hyper.planarflow_best_test_loss AS hyper_planarflow_best_test_loss, hyper.planarflow_train_loss AS hyper_planarflow_train_loss, hyper.planarflow_val_loss AS hyper_planarflow_val_loss, hyper.planarflow_best_epoch AS hyper_planarflow_best_epoch, hyper.planarflow_init_params AS hyper_planarflow_init_params, hyper.planarflow_val_error_rate AS hyper_planarflow_val_error_rate, hyper.planarflow_test_error_rate AS hyper_planarflow_test_error_rate, hyper.planarflowdet_best_parameters AS hyper_planarflowdet_best_parameters, hyper.planarflowdet_best_val_loss AS hyper_planarflowdet_best_val_loss, hyper.planarflowdet_best_test_loss AS hyper_planarflowdet_best_test_loss, hyper.planarflowdet_train_loss AS hyper_planarflowdet_train_loss, hyper.planarflowdet_val_loss AS hyper_planarflowdet_val_loss, hyper.planarflowdet_best_epoch AS hyper_planarflowdet_best_epoch, hyper.planarflowdet_init_params AS hyper_planarflowdet_init_params, hyper.planarflowdet_val_error_rate AS hyper_planarflowdet_val_error_rate, hyper.planarflowdet_test_error_rate AS hyper_planarflowdet_test_error_rate, hyper.radialflow_best_parameters AS hyper_radialflow_best_parameters, hyper.radialflow_best_val_loss AS hyper_radialflow_best_val_loss, hyper.radialflow_best_test_loss AS hyper_radialflow_best_test_loss, hyper.radialflow_train_loss AS hyper_radialflow_train_loss, hyper.radialflow_val_loss AS hyper_radialflow_val_loss, hyper.radialflow_best_epoch AS hyper_radialflow_best_epoch, hyper.radialflow_init_params AS hyper_radialflow_init_params, hyper.radialflow_val_error_rate AS hyper_radialflow_val_error_rate, hyper.radialflow_test_error_rate AS hyper_radialflow_test_error_rate, hyper.radialflowdet_best_parameters AS hyper_radialflowdet_best_parameters, hyper.radialflowdet_best_val_loss AS hyper_radialflowdet_best_val_loss, hyper.radialflowdet_best_test_loss AS hyper_radialflowdet_best_test_loss, hyper.radialflowdet_train_loss AS hyper_radialflowdet_train_loss, hyper.radialflowdet_val_loss AS hyper_radialflowdet_val_loss, hyper.radialflowdet_best_epoch AS hyper_radialflowdet_best_epoch, hyper.radialflowdet_init_params AS hyper_radialflowdet_init_params, hyper.radialflowdet_val_error_rate AS hyper_radialflowdet_val_error_rate, hyper.radialflowdet_test_error_rate AS hyper_radialflowdet_test_error_rate \\nFROM hyper']"
     ]
    }
   ],
   "source": [
    "def key(fn, path):\n",
    "    return \"1d\" in fn\n",
    "best_hyper = eva.get_best_hyper([\"toywithtestval\", \"toy_linux\"], Hyper, model_prefixes, test_suffix=[\"best_val_loss\"], key=key)"
   ]
  },
  {
   "cell_type": "raw",
   "metadata": {},
   "source": [
    "for hy in all_data:\n",
    "    n_normflow = getattr(hy, \"n_normflows\")\n",
    "    params = [getattr(hy, name+\"_best_parameters\") for name in model_prefixes]\n",
    "    lengths = [len(p) if p is not None else 0 for p in params]\n",
    "    print n_normflow, lengths"
   ]
  },
  {
   "cell_type": "raw",
   "metadata": {},
   "source": [
    "for name in best_results['best_val_loss']:\n",
    "    for n in n_normflows:\n",
    "        entries = best_results['best_val_loss'][name][n][1]\n",
    "        for e in entries:\n",
    "            params = getattr(e, name+\"_best_parameters\")\n",
    "            print name, n, len(params) #, params"
   ]
  },
  {
   "cell_type": "markdown",
   "metadata": {},
   "source": [
    "# Compute Results on Test-set"
   ]
  },
  {
   "cell_type": "code",
   "execution_count": null,
   "metadata": {
    "collapsed": false
   },
   "outputs": [],
   "source": [
    "from sklearn import cross_validation"
   ]
  },
  {
   "cell_type": "code",
   "execution_count": null,
   "metadata": {
    "collapsed": false
   },
   "outputs": [],
   "source": [
    "dim=1\n",
    "error_func = experiment_util.RMSE\n",
    "sampler = experiment_toy_models.toy_likelihood(dim=dim).function()\n",
    "\n",
    "def data_gen(hyper):\n",
    "    hyper.dim = dim\n",
    "    x_true = np.array([hyper.x_true]*hyper.dim, dtype=theano.config.floatX)\n",
    "    _Z = np.array([sampler(x_true) for n in range(1000)], dtype=theano.config.floatX)\n",
    "    Z, TZ = cross_validation.train_test_split(_Z, test_size=0.1)  # 10% test used in paper\n",
    "    Z, VZ = cross_validation.train_test_split(Z, test_size=0.1)  # 20% validation used in paper\n",
    "    data = None, Z, None, VZ, None, TZ  # None represents X data\n",
    "    return data, error_func"
   ]
  },
  {
   "cell_type": "code",
   "execution_count": null,
   "metadata": {
    "collapsed": false
   },
   "outputs": [],
   "source": [
    "reload(eva)"
   ]
  },
  {
   "cell_type": "code",
   "execution_count": null,
   "metadata": {
    "collapsed": false
   },
   "outputs": [],
   "source": [
    "test_results = eva.compute_test_results(best_hyper, data_gen, model_module_id=\"toy\", n_trials=5)"
   ]
  },
  {
   "cell_type": "code",
   "execution_count": null,
   "metadata": {
    "collapsed": false
   },
   "outputs": [],
   "source": [
    "%debug"
   ]
  },
  {
   "cell_type": "code",
   "execution_count": null,
   "metadata": {
    "collapsed": false
   },
   "outputs": [],
   "source": [
    "test_results"
   ]
  },
  {
   "cell_type": "markdown",
   "metadata": {},
   "source": [
    "# Sample the approximate posterior distribution for evaluation"
   ]
  },
  {
   "cell_type": "code",
   "execution_count": null,
   "metadata": {
    "collapsed": false
   },
   "outputs": [],
   "source": [
    "best_hyper_samples = eva.sample_best_hyper(best_hyper, test_results)\n",
    "\n",
    "# best_hyper_samples only refers to hypers which distribution can be compared (i.e. baselinedet and such is removed)\n",
    "test_attrs = sorted(best_hyper_samples.keys())\n",
    "model_prefixes = sorted(best_hyper_samples[test_attrs[0]].keys())\n",
    "n_normflows = sorted(best_hyper_samples[test_attrs[0]][model_prefixes[0]].keys())\n",
    "\n",
    "lp = len(model_prefixes)\n",
    "lnn = len(n_normflows)"
   ]
  },
  {
   "cell_type": "markdown",
   "metadata": {},
   "source": [
    "## Histogram (only possible for toy dataset)"
   ]
  },
  {
   "cell_type": "code",
   "execution_count": null,
   "metadata": {
    "collapsed": false,
    "scrolled": false
   },
   "outputs": [],
   "source": [
    "for i in range(n_best):\n",
    "    fig, axs = plt.subplots(nrows=lp, ncols=len(n_normflows), sharex=True, sharey=True)\n",
    "\n",
    "    axs_iter = axs.flat\n",
    "    for name in model_prefixes:\n",
    "        for nn in n_normflows:\n",
    "            if name == \"baselinedet\":\n",
    "                continue\n",
    "            samples = best_hyper_samples['best_val_loss'][name][nn][i]\n",
    "            ax = next(axs_iter)\n",
    "            ax.hist(samples, bins=\"auto\") #50\n",
    "            ax.tick_params(axis='both', which='major', labelsize=5)\n",
    "            ax.tick_params(axis='both', which='minor', labelsize=5)\n",
    "    #         ax.set_ylabel(\"frequency\")\n",
    "    #         ax.set_xlabel(\"parameter\")\n",
    "            ax.set_title(\"%s, %i\" % (name, nn), fontsize=9)\n",
    "    plt.xlim([-0.6, 1.1])\n",
    "    fig.tight_layout()"
   ]
  },
  {
   "cell_type": "markdown",
   "metadata": {},
   "source": [
    "## number of modes / histogram of modes"
   ]
  },
  {
   "cell_type": "code",
   "execution_count": null,
   "metadata": {
    "collapsed": false
   },
   "outputs": [],
   "source": [
    "best_modes = eva.get_best_modes(best_hyper_samples)\n",
    "best_modes"
   ]
  },
  {
   "cell_type": "code",
   "execution_count": null,
   "metadata": {
    "collapsed": false
   },
   "outputs": [],
   "source": [
    "nr_modes = eva.get_nr_modes(best_hyper_samples)\n",
    "nr_modes"
   ]
  },
  {
   "cell_type": "markdown",
   "metadata": {},
   "source": [
    "## KL divergence"
   ]
  },
  {
   "cell_type": "markdown",
   "metadata": {},
   "source": [
    "This must be computed on histograms, as we need an approximation for the densities/pms"
   ]
  },
  {
   "cell_type": "code",
   "execution_count": null,
   "metadata": {
    "collapsed": false
   },
   "outputs": [],
   "source": [
    "best_kl = eva.compute_kl(best_hyper_samples)"
   ]
  },
  {
   "cell_type": "code",
   "execution_count": null,
   "metadata": {
    "collapsed": true
   },
   "outputs": [],
   "source": [
    "def add_colorbar(ax, h):\n",
    "    divider = make_axes_locatable(ax)\n",
    "    cax = divider.append_axes(\"right\", size=\"10%\", pad=0.15)\n",
    "    cbar = plt.colorbar(h, cax=cax)"
   ]
  },
  {
   "cell_type": "code",
   "execution_count": null,
   "metadata": {
    "collapsed": false
   },
   "outputs": [],
   "source": [
    "for nn in n_normflows:\n",
    "    means = np.mean(best_kl['best_val_loss'][nn], axis=0)\n",
    "    variances = np.var(best_kl['best_val_loss'][nn], axis=0)\n",
    "\n",
    "    fig, axs = plt.subplots(ncols=2)\n",
    "    h = axs[0].imshow(means, interpolation=\"None\", cmap=plt.cm.gray_r) #norm=Centre(0)\n",
    "    add_colorbar(axs[0], h)\n",
    "#     plt.colorbar(h)\n",
    "\n",
    "    h = axs[1].imshow(variances, interpolation=\"None\", cmap=plt.cm.gray_r, norm=LogNorm())\n",
    "    add_colorbar(axs[1], h)\n",
    "#     plt.colorbar(h)\n",
    "    plt.title(\"nn = %i\" %nn)\n",
    "    for ax in axs:\n",
    "        ax.grid(False)"
   ]
  },
  {
   "cell_type": "code",
   "execution_count": null,
   "metadata": {
    "collapsed": false
   },
   "outputs": [],
   "source": [
    "variances"
   ]
  }
 ],
 "metadata": {
  "kernelspec": {
   "display_name": "Python 2",
   "language": "python",
   "name": "python2"
  },
  "language_info": {
   "codemirror_mode": {
    "name": "ipython",
    "version": 2
   },
   "file_extension": ".py",
   "mimetype": "text/x-python",
   "name": "python",
   "nbconvert_exporter": "python",
   "pygments_lexer": "ipython2",
   "version": "2.7.6"
  },
  "toc": {
   "toc_cell": false,
   "toc_number_sections": true,
   "toc_threshold": 4,
   "toc_window_display": false
  }
 },
 "nbformat": 4,
 "nbformat_minor": 0
}
