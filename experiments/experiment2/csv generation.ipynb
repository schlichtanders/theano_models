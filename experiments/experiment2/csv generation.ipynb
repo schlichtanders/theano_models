{
 "cells": [
  {
   "cell_type": "code",
   "execution_count": 1,
   "metadata": {
    "collapsed": false
   },
   "outputs": [
    {
     "name": "stdout",
     "output_type": "stream",
     "text": [
      "gnumpy: failed to import cudamat. Using npmat instead. No GPU will be used.\n"
     ]
    }
   ],
   "source": [
    "import os, sys\n",
    "\n",
    "import experiment_util\n",
    "import evaluation_util as eva\n",
    "import evaluation_util\n",
    "import pandas as pd\n",
    "import numpy as np"
   ]
  },
  {
   "cell_type": "code",
   "execution_count": 2,
   "metadata": {
    "collapsed": true
   },
   "outputs": [],
   "source": [
    "__parent__ = os.path.realpath(\"..\")"
   ]
  },
  {
   "cell_type": "code",
   "execution_count": 17,
   "metadata": {
    "collapsed": true
   },
   "outputs": [],
   "source": [
    "datasetnames = [\"boston\",\"concrete\",\"energy\",\"kin8nm\", \"yacht\", \"toy1d\",\"toy2d\"] # \"toy1d\",\"toy2d\" #\"winered\",\"powerplant\",\n",
    "modelnames = (\"baseline\", \"baselinedet\", \"planarflow\", \"planarflowdet\", \"radialflow\", \"radialflowdet\")\n",
    "# datasetnames = [\"toy2d\"]"
   ]
  },
  {
   "cell_type": "code",
   "execution_count": 9,
   "metadata": {
    "collapsed": true
   },
   "outputs": [],
   "source": [
    "sys.path.append(__parent__)\n",
    "\n",
    "import experiment1.experiment_util as ex1util\n",
    "Hypers = ex1util.get_hyper(), ex1util.get_semiold_hyper(), ex1util.get_old_hyper()\n",
    "Hyper = experiment_util.get_hyper()"
   ]
  },
  {
   "cell_type": "code",
   "execution_count": 10,
   "metadata": {
    "collapsed": false
   },
   "outputs": [],
   "source": [
    "# folders_parameters = [[\"experiment1\",\"withpercent\"], [\"experiment1\",\"first_useful_hyperparameter_search\"], ['experiment1','run_windows']]\n",
    "# folders_parameters = [[\"experiment2\",\"windows_newannealing2\"]]\n",
    "# folders_parameters = [[\"experiment2\",\"windows_rerunoldagain_radialflow_and_co\"]]\n",
    "folders_parameters = [[\"experiment2\", \"windows_rerunold_all\"], [\"experiment2\",\"windows_rerunoldagain_radialflow_and_co\"]]\n",
    "# folders_parameters = [[\"experiment2\",\"rerunold_almost_all\"]]\n",
    "folders_parameters = [[\"experiment2\", \"windows_rerunradialflow_all\"]]#, [\"experiment2\",\"windows_reruntoy2d_all\"]]\n",
    "folders_parameters = [os.path.join(__parent__, *fp) for fp in folders_parameters]"
   ]
  },
  {
   "cell_type": "code",
   "execution_count": 20,
   "metadata": {
    "collapsed": false
   },
   "outputs": [
    {
     "name": "stdout",
     "output_type": "stream",
     "text": [
      "ensured finite values\n",
      "ensured finite values\n",
      "ensured finite values\n",
      "ensured finite values\n",
      "ensured finite values\n",
      "ensured finite values\n",
      "ensured finite values\n",
      "ensured finite values\n"
     ]
    }
   ],
   "source": [
    "folders_parameters = [[\"experiment2\", \"windows_rerunold_all\"],\n",
    "                      [\"experiment2\", \"windows_rerun1_almost_all\"],\n",
    "                      [\"experiment2\", \"windows_rerunoldagain_radialflow_and_co\"],\n",
    "                      [\"experiment2\", \"windows_rerunradialflow_all\"],\n",
    "                      [\"experiment2\", \"windows_reruntoy2d_all\"],\n",
    "                      [\"experiment2\", \"windows_final_hoffentlich\"]]\n",
    "folders_parameters = [os.path.join(__parent__, *fp) for fp in folders_parameters]\n",
    "\n",
    "n_normflows = [2, 4, 8, 16]\n",
    "best_hypers = []\n",
    "for dn in datasetnames:\n",
    "    best_hypers += eva.get_best_hyper_autofix(\n",
    "        dn, folders_parameters,\n",
    "        test_attrs=[\"best_val_error\"],\n",
    "        n_normflows=n_normflows,\n",
    "        modelnames=modelnames\n",
    "    )\n",
    "\n",
    "\n",
    "grouped_hypers = eva.get_repeated_hypers(folders_parameters, Hypers=[Hyper], for_given_hypers_only=best_hypers).values()"
   ]
  },
  {
   "cell_type": "code",
   "execution_count": 21,
   "metadata": {
    "collapsed": false
   },
   "outputs": [
    {
     "data": {
      "text/plain": [
       "(168, 168, 168)"
      ]
     },
     "execution_count": 21,
     "metadata": {},
     "output_type": "execute_result"
    }
   ],
   "source": [
    "len(grouped_hypers), len(best_hypers), len(n_normflows)*len(datasetnames)*len(modelnames)"
   ]
  },
  {
   "cell_type": "code",
   "execution_count": 24,
   "metadata": {
    "collapsed": false
   },
   "outputs": [
    {
     "data": {
      "text/plain": [
       "4"
      ]
     },
     "execution_count": 24,
     "metadata": {},
     "output_type": "execute_result"
    }
   ],
   "source": [
    "sum(map(lambda x:len(x)<=1, grouped_hypers))"
   ]
  },
  {
   "cell_type": "markdown",
   "metadata": {},
   "source": [
    "# test get single best"
   ]
  },
  {
   "cell_type": "raw",
   "metadata": {
    "collapsed": true
   },
   "source": [
    "datasetname = \"toy2d\"\n",
    "modelname = \"radialflow\""
   ]
  },
  {
   "cell_type": "raw",
   "metadata": {
    "collapsed": false
   },
   "source": [
    "best_hyper = eva.get_single_best_hyper(folders_parameters, modelname, Hypers=Hypers, attr=\"best_val_error\", \n",
    "                                       key_files=lambda fn, p: datasetname in fn)\n",
    "best_hyper.n_normflows, best_hyper.best_val_loss, best_hyper.best_val_error"
   ]
  },
  {
   "cell_type": "raw",
   "metadata": {
    "collapsed": false
   },
   "source": [
    "best_hyper = eva.get_single_best_hyper(folders_parameters, modelname, Hypers=Hypers, attr=\"best_val_loss\", \n",
    "                                       key_files=lambda fn, p: datasetname in fn)\n",
    "best_hyper.n_normflows, best_hyper.best_val_loss, best_hyper.best_val_error"
   ]
  },
  {
   "cell_type": "markdown",
   "metadata": {},
   "source": [
    "# table all best ones for original "
   ]
  },
  {
   "cell_type": "code",
   "execution_count": 6,
   "metadata": {
    "collapsed": false
   },
   "outputs": [
    {
     "name": "stdout",
     "output_type": "stream",
     "text": [
      "ensured finite values\n",
      "ensured finite values\n",
      "ensured finite values\n",
      "ensured finite values\n",
      "ensured finite values\n",
      "ensured finite values\n",
      "ensured finite values\n"
     ]
    }
   ],
   "source": [
    "best_hypers = []\n",
    "for datasetname in datasetnames:\n",
    "    best_hypers += eva.get_best_hyper_autofix(\n",
    "        datasetname, folders_parameters,\n",
    "        test_attrs=['best_val_error'],  #, 'best_val_error'\n",
    "        modelnames=(\"baseline\", \"baselinedet\", \"planarflow\", \"planarflowdet\", \"radialflow\", \"radialflowdet\"),\n",
    "        percentages=None, n_normflows=(2,4,8,16) # (2,4,8,16) # (2,5,10,25)\n",
    "    )"
   ]
  },
  {
   "cell_type": "code",
   "execution_count": 7,
   "metadata": {
    "collapsed": false,
    "scrolled": false
   },
   "outputs": [],
   "source": [
    "pandas_dict = eva.to_pandas_dict(best_hypers, keys=(\n",
    "        \"datasetname\", \"modelname\", \"best_val_loss\", \"best_val_error\", \"best_test_loss\", \"best_test_error\",\n",
    "#         \"opt_identifier\", \"opt_offset\", \"opt_momentum\", \"opt_decay\", \"opt_step_rate\", \"minus_log_s1\", \"batch_size\", \n",
    "        \"n_normflows\", \"adapt_prior\"\n",
    "        ))\n",
    "\n",
    "df = pd.DataFrame(pandas_dict)\n",
    "# df.to_csv(\"rerunold_almost_all_error.csv\")\n"
   ]
  },
  {
   "cell_type": "code",
   "execution_count": 8,
   "metadata": {
    "collapsed": false
   },
   "outputs": [
    {
     "data": {
      "text/html": [
       "<div>\n",
       "<table border=\"1\" class=\"dataframe\">\n",
       "  <thead>\n",
       "    <tr style=\"text-align: right;\">\n",
       "      <th></th>\n",
       "      <th>adapt_prior</th>\n",
       "      <th>best_test_error</th>\n",
       "      <th>best_test_loss</th>\n",
       "      <th>best_val_error</th>\n",
       "      <th>best_val_loss</th>\n",
       "      <th>datasetname</th>\n",
       "      <th>modelname</th>\n",
       "      <th>n_normflows</th>\n",
       "    </tr>\n",
       "  </thead>\n",
       "  <tbody>\n",
       "    <tr>\n",
       "      <th>0</th>\n",
       "      <td>True</td>\n",
       "      <td>3.515679</td>\n",
       "      <td>0.654237</td>\n",
       "      <td>2.728699</td>\n",
       "      <td>0.594657</td>\n",
       "      <td>boston</td>\n",
       "      <td>radialflow</td>\n",
       "      <td>2</td>\n",
       "    </tr>\n",
       "    <tr>\n",
       "      <th>1</th>\n",
       "      <td>True</td>\n",
       "      <td>4.502395</td>\n",
       "      <td>0.843522</td>\n",
       "      <td>3.162501</td>\n",
       "      <td>0.620227</td>\n",
       "      <td>boston</td>\n",
       "      <td>radialflow</td>\n",
       "      <td>4</td>\n",
       "    </tr>\n",
       "    <tr>\n",
       "      <th>2</th>\n",
       "      <td>True</td>\n",
       "      <td>4.308813</td>\n",
       "      <td>0.889295</td>\n",
       "      <td>2.380705</td>\n",
       "      <td>0.536610</td>\n",
       "      <td>boston</td>\n",
       "      <td>radialflow</td>\n",
       "      <td>8</td>\n",
       "    </tr>\n",
       "    <tr>\n",
       "      <th>3</th>\n",
       "      <td>False</td>\n",
       "      <td>5.608551</td>\n",
       "      <td>1.118315</td>\n",
       "      <td>3.022607</td>\n",
       "      <td>0.566878</td>\n",
       "      <td>boston</td>\n",
       "      <td>radialflow</td>\n",
       "      <td>16</td>\n",
       "    </tr>\n",
       "    <tr>\n",
       "      <th>4</th>\n",
       "      <td>False</td>\n",
       "      <td>32.827415</td>\n",
       "      <td>2517.725307</td>\n",
       "      <td>35.556549</td>\n",
       "      <td>2720.937274</td>\n",
       "      <td>concrete</td>\n",
       "      <td>radialflow</td>\n",
       "      <td>2</td>\n",
       "    </tr>\n",
       "    <tr>\n",
       "      <th>5</th>\n",
       "      <td>True</td>\n",
       "      <td>46.799717</td>\n",
       "      <td>22.603241</td>\n",
       "      <td>44.302032</td>\n",
       "      <td>14.609205</td>\n",
       "      <td>concrete</td>\n",
       "      <td>radialflow</td>\n",
       "      <td>4</td>\n",
       "    </tr>\n",
       "    <tr>\n",
       "      <th>6</th>\n",
       "      <td>True</td>\n",
       "      <td>57.533340</td>\n",
       "      <td>7.148735</td>\n",
       "      <td>50.271400</td>\n",
       "      <td>8.991543</td>\n",
       "      <td>concrete</td>\n",
       "      <td>radialflow</td>\n",
       "      <td>8</td>\n",
       "    </tr>\n",
       "    <tr>\n",
       "      <th>7</th>\n",
       "      <td>True</td>\n",
       "      <td>33.543503</td>\n",
       "      <td>11.719683</td>\n",
       "      <td>36.524315</td>\n",
       "      <td>13.610871</td>\n",
       "      <td>concrete</td>\n",
       "      <td>radialflow</td>\n",
       "      <td>16</td>\n",
       "    </tr>\n",
       "    <tr>\n",
       "      <th>8</th>\n",
       "      <td>False</td>\n",
       "      <td>36.324680</td>\n",
       "      <td>0.275560</td>\n",
       "      <td>38.216240</td>\n",
       "      <td>0.174277</td>\n",
       "      <td>energy</td>\n",
       "      <td>radialflow</td>\n",
       "      <td>2</td>\n",
       "    </tr>\n",
       "    <tr>\n",
       "      <th>9</th>\n",
       "      <td>True</td>\n",
       "      <td>2.287452</td>\n",
       "      <td>0.002517</td>\n",
       "      <td>2.645308</td>\n",
       "      <td>0.001603</td>\n",
       "      <td>energy</td>\n",
       "      <td>radialflow</td>\n",
       "      <td>4</td>\n",
       "    </tr>\n",
       "    <tr>\n",
       "      <th>10</th>\n",
       "      <td>False</td>\n",
       "      <td>11.257218</td>\n",
       "      <td>0.054913</td>\n",
       "      <td>10.500543</td>\n",
       "      <td>0.031984</td>\n",
       "      <td>energy</td>\n",
       "      <td>radialflow</td>\n",
       "      <td>8</td>\n",
       "    </tr>\n",
       "    <tr>\n",
       "      <th>11</th>\n",
       "      <td>False</td>\n",
       "      <td>13.659508</td>\n",
       "      <td>0.302827</td>\n",
       "      <td>11.669354</td>\n",
       "      <td>0.175772</td>\n",
       "      <td>energy</td>\n",
       "      <td>radialflow</td>\n",
       "      <td>16</td>\n",
       "    </tr>\n",
       "    <tr>\n",
       "      <th>12</th>\n",
       "      <td>True</td>\n",
       "      <td>1.095545</td>\n",
       "      <td>13.889639</td>\n",
       "      <td>1.083028</td>\n",
       "      <td>9.155720</td>\n",
       "      <td>kin8nm</td>\n",
       "      <td>radialflow</td>\n",
       "      <td>2</td>\n",
       "    </tr>\n",
       "    <tr>\n",
       "      <th>13</th>\n",
       "      <td>False</td>\n",
       "      <td>0.851472</td>\n",
       "      <td>28.952704</td>\n",
       "      <td>0.910998</td>\n",
       "      <td>28.256198</td>\n",
       "      <td>kin8nm</td>\n",
       "      <td>radialflow</td>\n",
       "      <td>4</td>\n",
       "    </tr>\n",
       "    <tr>\n",
       "      <th>14</th>\n",
       "      <td>False</td>\n",
       "      <td>0.893993</td>\n",
       "      <td>56.343554</td>\n",
       "      <td>0.912154</td>\n",
       "      <td>66.454581</td>\n",
       "      <td>kin8nm</td>\n",
       "      <td>radialflow</td>\n",
       "      <td>8</td>\n",
       "    </tr>\n",
       "    <tr>\n",
       "      <th>15</th>\n",
       "      <td>False</td>\n",
       "      <td>0.316428</td>\n",
       "      <td>4.902137</td>\n",
       "      <td>0.307232</td>\n",
       "      <td>5.432893</td>\n",
       "      <td>kin8nm</td>\n",
       "      <td>radialflow</td>\n",
       "      <td>16</td>\n",
       "    </tr>\n",
       "    <tr>\n",
       "      <th>16</th>\n",
       "      <td>False</td>\n",
       "      <td>23.187366</td>\n",
       "      <td>1860.322712</td>\n",
       "      <td>31.007475</td>\n",
       "      <td>2025.886522</td>\n",
       "      <td>yacht</td>\n",
       "      <td>radialflow</td>\n",
       "      <td>2</td>\n",
       "    </tr>\n",
       "    <tr>\n",
       "      <th>17</th>\n",
       "      <td>True</td>\n",
       "      <td>20.372587</td>\n",
       "      <td>3.252138</td>\n",
       "      <td>20.461758</td>\n",
       "      <td>3.607580</td>\n",
       "      <td>yacht</td>\n",
       "      <td>radialflow</td>\n",
       "      <td>4</td>\n",
       "    </tr>\n",
       "    <tr>\n",
       "      <th>18</th>\n",
       "      <td>True</td>\n",
       "      <td>12.516030</td>\n",
       "      <td>2.805414</td>\n",
       "      <td>9.863338</td>\n",
       "      <td>2.621116</td>\n",
       "      <td>yacht</td>\n",
       "      <td>radialflow</td>\n",
       "      <td>8</td>\n",
       "    </tr>\n",
       "    <tr>\n",
       "      <th>19</th>\n",
       "      <td>True</td>\n",
       "      <td>16.560312</td>\n",
       "      <td>3.065816</td>\n",
       "      <td>16.608873</td>\n",
       "      <td>2.963726</td>\n",
       "      <td>yacht</td>\n",
       "      <td>radialflow</td>\n",
       "      <td>16</td>\n",
       "    </tr>\n",
       "    <tr>\n",
       "      <th>20</th>\n",
       "      <td>False</td>\n",
       "      <td>0.286129</td>\n",
       "      <td>0.124203</td>\n",
       "      <td>0.222656</td>\n",
       "      <td>-0.037633</td>\n",
       "      <td>toy1d</td>\n",
       "      <td>radialflow</td>\n",
       "      <td>2</td>\n",
       "    </tr>\n",
       "    <tr>\n",
       "      <th>21</th>\n",
       "      <td>True</td>\n",
       "      <td>0.299802</td>\n",
       "      <td>0.185886</td>\n",
       "      <td>0.237249</td>\n",
       "      <td>-0.026593</td>\n",
       "      <td>toy1d</td>\n",
       "      <td>radialflow</td>\n",
       "      <td>4</td>\n",
       "    </tr>\n",
       "    <tr>\n",
       "      <th>22</th>\n",
       "      <td>False</td>\n",
       "      <td>0.263212</td>\n",
       "      <td>0.047189</td>\n",
       "      <td>0.250449</td>\n",
       "      <td>0.030643</td>\n",
       "      <td>toy1d</td>\n",
       "      <td>radialflow</td>\n",
       "      <td>8</td>\n",
       "    </tr>\n",
       "    <tr>\n",
       "      <th>23</th>\n",
       "      <td>True</td>\n",
       "      <td>0.251761</td>\n",
       "      <td>0.031430</td>\n",
       "      <td>0.251343</td>\n",
       "      <td>0.017437</td>\n",
       "      <td>toy1d</td>\n",
       "      <td>radialflow</td>\n",
       "      <td>16</td>\n",
       "    </tr>\n",
       "    <tr>\n",
       "      <th>24</th>\n",
       "      <td>True</td>\n",
       "      <td>0.261636</td>\n",
       "      <td>0.112928</td>\n",
       "      <td>0.289705</td>\n",
       "      <td>0.274443</td>\n",
       "      <td>toy2d</td>\n",
       "      <td>radialflow</td>\n",
       "      <td>2</td>\n",
       "    </tr>\n",
       "    <tr>\n",
       "      <th>25</th>\n",
       "      <td>True</td>\n",
       "      <td>0.737061</td>\n",
       "      <td>37.357495</td>\n",
       "      <td>0.678904</td>\n",
       "      <td>20.804500</td>\n",
       "      <td>toy2d</td>\n",
       "      <td>radialflow</td>\n",
       "      <td>4</td>\n",
       "    </tr>\n",
       "    <tr>\n",
       "      <th>26</th>\n",
       "      <td>True</td>\n",
       "      <td>0.272971</td>\n",
       "      <td>0.103849</td>\n",
       "      <td>0.268641</td>\n",
       "      <td>0.081409</td>\n",
       "      <td>toy2d</td>\n",
       "      <td>radialflow</td>\n",
       "      <td>8</td>\n",
       "    </tr>\n",
       "    <tr>\n",
       "      <th>27</th>\n",
       "      <td>True</td>\n",
       "      <td>0.271542</td>\n",
       "      <td>0.083056</td>\n",
       "      <td>0.237777</td>\n",
       "      <td>0.002684</td>\n",
       "      <td>toy2d</td>\n",
       "      <td>radialflow</td>\n",
       "      <td>16</td>\n",
       "    </tr>\n",
       "  </tbody>\n",
       "</table>\n",
       "</div>"
      ],
      "text/plain": [
       "   adapt_prior  best_test_error  best_test_loss  best_val_error  \\\n",
       "0         True         3.515679        0.654237        2.728699   \n",
       "1         True         4.502395        0.843522        3.162501   \n",
       "2         True         4.308813        0.889295        2.380705   \n",
       "3        False         5.608551        1.118315        3.022607   \n",
       "4        False        32.827415     2517.725307       35.556549   \n",
       "5         True        46.799717       22.603241       44.302032   \n",
       "6         True        57.533340        7.148735       50.271400   \n",
       "7         True        33.543503       11.719683       36.524315   \n",
       "8        False        36.324680        0.275560       38.216240   \n",
       "9         True         2.287452        0.002517        2.645308   \n",
       "10       False        11.257218        0.054913       10.500543   \n",
       "11       False        13.659508        0.302827       11.669354   \n",
       "12        True         1.095545       13.889639        1.083028   \n",
       "13       False         0.851472       28.952704        0.910998   \n",
       "14       False         0.893993       56.343554        0.912154   \n",
       "15       False         0.316428        4.902137        0.307232   \n",
       "16       False        23.187366     1860.322712       31.007475   \n",
       "17        True        20.372587        3.252138       20.461758   \n",
       "18        True        12.516030        2.805414        9.863338   \n",
       "19        True        16.560312        3.065816       16.608873   \n",
       "20       False         0.286129        0.124203        0.222656   \n",
       "21        True         0.299802        0.185886        0.237249   \n",
       "22       False         0.263212        0.047189        0.250449   \n",
       "23        True         0.251761        0.031430        0.251343   \n",
       "24        True         0.261636        0.112928        0.289705   \n",
       "25        True         0.737061       37.357495        0.678904   \n",
       "26        True         0.272971        0.103849        0.268641   \n",
       "27        True         0.271542        0.083056        0.237777   \n",
       "\n",
       "    best_val_loss datasetname   modelname  n_normflows  \n",
       "0        0.594657      boston  radialflow            2  \n",
       "1        0.620227      boston  radialflow            4  \n",
       "2        0.536610      boston  radialflow            8  \n",
       "3        0.566878      boston  radialflow           16  \n",
       "4     2720.937274    concrete  radialflow            2  \n",
       "5       14.609205    concrete  radialflow            4  \n",
       "6        8.991543    concrete  radialflow            8  \n",
       "7       13.610871    concrete  radialflow           16  \n",
       "8        0.174277      energy  radialflow            2  \n",
       "9        0.001603      energy  radialflow            4  \n",
       "10       0.031984      energy  radialflow            8  \n",
       "11       0.175772      energy  radialflow           16  \n",
       "12       9.155720      kin8nm  radialflow            2  \n",
       "13      28.256198      kin8nm  radialflow            4  \n",
       "14      66.454581      kin8nm  radialflow            8  \n",
       "15       5.432893      kin8nm  radialflow           16  \n",
       "16    2025.886522       yacht  radialflow            2  \n",
       "17       3.607580       yacht  radialflow            4  \n",
       "18       2.621116       yacht  radialflow            8  \n",
       "19       2.963726       yacht  radialflow           16  \n",
       "20      -0.037633       toy1d  radialflow            2  \n",
       "21      -0.026593       toy1d  radialflow            4  \n",
       "22       0.030643       toy1d  radialflow            8  \n",
       "23       0.017437       toy1d  radialflow           16  \n",
       "24       0.274443       toy2d  radialflow            2  \n",
       "25      20.804500       toy2d  radialflow            4  \n",
       "26       0.081409       toy2d  radialflow            8  \n",
       "27       0.002684       toy2d  radialflow           16  "
      ]
     },
     "execution_count": 8,
     "metadata": {},
     "output_type": "execute_result"
    }
   ],
   "source": [
    "df"
   ]
  },
  {
   "cell_type": "code",
   "execution_count": null,
   "metadata": {
    "collapsed": false
   },
   "outputs": [],
   "source": [
    "np.isfinite(df.best_test_loss)"
   ]
  },
  {
   "cell_type": "markdown",
   "metadata": {},
   "source": [
    "## compare dataset"
   ]
  },
  {
   "cell_type": "code",
   "execution_count": null,
   "metadata": {
    "collapsed": false
   },
   "outputs": [],
   "source": [
    "df_toy_new"
   ]
  },
  {
   "cell_type": "code",
   "execution_count": null,
   "metadata": {
    "collapsed": false
   },
   "outputs": [],
   "source": [
    "df_toy_compare"
   ]
  },
  {
   "cell_type": "markdown",
   "metadata": {},
   "source": [
    "## compare modelname"
   ]
  },
  {
   "cell_type": "code",
   "execution_count": null,
   "metadata": {
    "collapsed": true
   },
   "outputs": [],
   "source": [
    "compare_modelname = \"radialflow\""
   ]
  },
  {
   "cell_type": "code",
   "execution_count": null,
   "metadata": {
    "collapsed": false
   },
   "outputs": [],
   "source": [
    "df[df.modelname==compare_modelname]"
   ]
  },
  {
   "cell_type": "code",
   "execution_count": null,
   "metadata": {
    "collapsed": false
   },
   "outputs": [],
   "source": [
    "df_radial_new_error[df_radial_new_error.modelname==compare_modelname]"
   ]
  },
  {
   "cell_type": "code",
   "execution_count": null,
   "metadata": {
    "collapsed": false
   },
   "outputs": [],
   "source": [
    "df_radial_compare_error[(df_radial_compare_error.modelname==compare_modelname)]"
   ]
  },
  {
   "cell_type": "code",
   "execution_count": null,
   "metadata": {
    "collapsed": false
   },
   "outputs": [],
   "source": [
    "df['adapt_prior'].sum()"
   ]
  },
  {
   "cell_type": "markdown",
   "metadata": {},
   "source": [
    "# only best ones"
   ]
  },
  {
   "cell_type": "code",
   "execution_count": null,
   "metadata": {
    "collapsed": false
   },
   "outputs": [],
   "source": [
    "best_hypers = []\n",
    "for datasetname in datasetnames:\n",
    "    best_hypers += eva.get_best_hyper_autofix(\n",
    "        datasetname, folders_parameters,\n",
    "        test_attrs=['best_val_loss', 'best_val_error'],\n",
    "        modelnames=(\"planarflow\", \"planarflowdet\", \"radialflow\", \"radialflowdet\"),\n",
    "        percentages=None, n_normflows=None\n",
    "    )"
   ]
  },
  {
   "cell_type": "code",
   "execution_count": null,
   "metadata": {
    "collapsed": false
   },
   "outputs": [],
   "source": [
    "unique_best_hypers = {h.opt_decay:h for h in best_hypers}.values()\n",
    "unique_best_hypers"
   ]
  },
  {
   "cell_type": "code",
   "execution_count": null,
   "metadata": {
    "collapsed": false
   },
   "outputs": [],
   "source": [
    "len(best_hypers), len(unique_best_hypers)"
   ]
  },
  {
   "cell_type": "code",
   "execution_count": null,
   "metadata": {
    "collapsed": false
   },
   "outputs": [],
   "source": [
    "pandas_dict = eva.to_pandas_dict(unique_best_hypers, keys=(\n",
    "        \"datasetname\", \"modelname\", \"best_val_loss\", \"best_val_error\", \n",
    "        \"opt_identifier\", \"opt_offset\", \"opt_momentum\", \"opt_decay\", \"opt_step_rate\", \"minus_log_s1\", \"batch_size\"\n",
    "        ))\n",
    "\n",
    "df = pd.DataFrame(pandas_dict)\n",
    "df"
   ]
  },
  {
   "cell_type": "code",
   "execution_count": null,
   "metadata": {
    "collapsed": true
   },
   "outputs": [],
   "source": [
    "df.to_csv?"
   ]
  },
  {
   "cell_type": "code",
   "execution_count": null,
   "metadata": {
    "collapsed": true
   },
   "outputs": [],
   "source": [
    "import csv"
   ]
  },
  {
   "cell_type": "code",
   "execution_count": null,
   "metadata": {
    "collapsed": false
   },
   "outputs": [],
   "source": [
    "df.to_csv(\"good_parameters_betteraspbp.csv\", quoting=csv.QUOTE_NONNUMERIC, index=False)\n",
    "# df.to_csv(\"all_best_hyper_nopercent_errorrate.csv\")"
   ]
  },
  {
   "cell_type": "markdown",
   "metadata": {},
   "source": [
    "# look at statistics"
   ]
  },
  {
   "cell_type": "code",
   "execution_count": null,
   "metadata": {
    "collapsed": true
   },
   "outputs": [],
   "source": [
    "folder = \"evaluation\"\n",
    "datasetname = \"boston\"\n",
    "suffix = \"_tests.pkl\""
   ]
  },
  {
   "cell_type": "code",
   "execution_count": null,
   "metadata": {
    "collapsed": true
   },
   "outputs": [],
   "source": [
    "datasetnames = [\"boston\",\"concrete\",\"energy\",\"powerplant\",\"toy1d\",\"toy2d\",\"winered\",\"yacht\"]"
   ]
  },
  {
   "cell_type": "code",
   "execution_count": null,
   "metadata": {
    "collapsed": true
   },
   "outputs": [],
   "source": [
    "def last_layer_to_dict(l, **kwargs):\n",
    "    return {\n",
    "        'best_epoch_mean': l['best_epoch'].mean(),\n",
    "        'best_epoch_std': l['best_epoch'].std(),\n",
    "        'best_test_loss_mean': l['best_test_loss'].mean(),\n",
    "        'best_test_loss_std': l['best_test_loss'].std(),\n",
    "        'test_error_rate_mean': l['test_error_rate'].mean(),\n",
    "        'test_error_rate_std': l['test_error_rate'].std(),\n",
    "    }"
   ]
  },
  {
   "cell_type": "code",
   "execution_count": null,
   "metadata": {
    "collapsed": false
   },
   "outputs": [],
   "source": [
    "pandas_dict = None\n",
    "for datasetname in datasetnames:\n",
    "    filename = os.path.join(__path__, folder, datasetname + suffix)\n",
    "    best_tests = evaluation_util.load_dict(filename)\n",
    "    pandas_dict = evaluation_util.to_pandas_dict(datasetname, best_tests, pandas_dict, last_layer_to_dict=last_layer_to_dict)"
   ]
  },
  {
   "cell_type": "code",
   "execution_count": null,
   "metadata": {
    "collapsed": false
   },
   "outputs": [],
   "source": [
    "df = pd.DataFrame(pandas_dict)"
   ]
  },
  {
   "cell_type": "code",
   "execution_count": null,
   "metadata": {
    "collapsed": true
   },
   "outputs": [],
   "source": [
    "df.to_csv(\"all_withpercent_tested_plus.csv\")"
   ]
  },
  {
   "cell_type": "code",
   "execution_count": null,
   "metadata": {
    "collapsed": true
   },
   "outputs": [],
   "source": []
  }
 ],
 "metadata": {
  "kernelspec": {
   "display_name": "Python 2",
   "language": "python",
   "name": "python2"
  },
  "language_info": {
   "codemirror_mode": {
    "name": "ipython",
    "version": 2
   },
   "file_extension": ".py",
   "mimetype": "text/x-python",
   "name": "python",
   "nbconvert_exporter": "python",
   "pygments_lexer": "ipython2",
   "version": "2.7.6"
  },
  "toc": {
   "toc_cell": false,
   "toc_number_sections": true,
   "toc_threshold": 4,
   "toc_window_display": false
  }
 },
 "nbformat": 4,
 "nbformat_minor": 0
}
