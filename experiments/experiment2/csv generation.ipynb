{
 "cells": [
  {
   "cell_type": "code",
   "execution_count": 1,
   "metadata": {
    "collapsed": false
   },
   "outputs": [
    {
     "name": "stdout",
     "output_type": "stream",
     "text": [
      "gnumpy: failed to import cudamat. Using npmat instead. No GPU will be used.\n"
     ]
    }
   ],
   "source": [
    "import os, sys\n",
    "\n",
    "import experiment_util\n",
    "import evaluation_util as eva\n",
    "import evaluation_util\n",
    "import pandas as pd\n",
    "import numpy as np"
   ]
  },
  {
   "cell_type": "code",
   "execution_count": 2,
   "metadata": {
    "collapsed": true
   },
   "outputs": [],
   "source": [
    "__parent__ = os.path.realpath(\"..\")"
   ]
  },
  {
   "cell_type": "code",
   "execution_count": 17,
   "metadata": {
    "collapsed": true
   },
   "outputs": [],
   "source": [
    "datasetnames = [\"boston\",\"concrete\",\"energy\",\"kin8nm\", \"yacht\", \"toy1d\",\"toy2d\"] # \"toy1d\",\"toy2d\" #\"winered\",\"powerplant\",\n",
    "modelnames = (\"baseline\", \"baselinedet\", \"planarflow\", \"planarflowdet\", \"radialflow\", \"radialflowdet\")\n",
    "# datasetnames = [\"toy2d\"]"
   ]
  },
  {
   "cell_type": "code",
   "execution_count": 9,
   "metadata": {
    "collapsed": true
   },
   "outputs": [],
   "source": [
    "sys.path.append(__parent__)\n",
    "\n",
    "import experiment1.experiment_util as ex1util\n",
    "Hypers = ex1util.get_hyper(), ex1util.get_semiold_hyper(), ex1util.get_old_hyper()\n",
    "Hyper = experiment_util.get_hyper()"
   ]
  },
  {
   "cell_type": "code",
   "execution_count": 10,
   "metadata": {
    "collapsed": false
   },
   "outputs": [],
   "source": [
    "# folders_parameters = [[\"experiment1\",\"withpercent\"], [\"experiment1\",\"first_useful_hyperparameter_search\"], ['experiment1','run_windows']]\n",
    "# folders_parameters = [[\"experiment2\",\"windows_newannealing2\"]]\n",
    "# folders_parameters = [[\"experiment2\",\"windows_rerunoldagain_radialflow_and_co\"]]\n",
    "folders_parameters = [[\"experiment2\", \"windows_rerunold_all\"], [\"experiment2\",\"windows_rerunoldagain_radialflow_and_co\"]]\n",
    "# folders_parameters = [[\"experiment2\",\"rerunold_almost_all\"]]\n",
    "folders_parameters = [[\"experiment2\", \"windows_rerunradialflow_all\"]]#, [\"experiment2\",\"windows_reruntoy2d_all\"]]\n",
    "folders_parameters = [os.path.join(__parent__, *fp) for fp in folders_parameters]"
   ]
  },
  {
   "cell_type": "code",
   "execution_count": 29,
   "metadata": {
    "collapsed": true
   },
   "outputs": [],
   "source": [
    "folders_parameters = [[\"experiment2\", \"windows_rerunold_all\"],\n",
    "                      [\"experiment2\", \"windows_rerun1_almost_all\"],\n",
    "                      [\"experiment2\", \"windows_rerunoldagain_radialflow_and_co\"],\n",
    "                      [\"experiment2\", \"windows_rerunradialflow_all\"],\n",
    "                      [\"experiment2\", \"windows_reruntoy2d_all\"],\n",
    "                      [\"experiment2\", \"windows_final_hoffentlich\"]]\n",
    "# folders_parameters = [[\"experiment2\", \"windows_rerun_radialflow_2\"]]\n",
    "\n",
    "folders_parameters = [os.path.join(__parent__, *fp) for fp in folders_parameters]"
   ]
  },
  {
   "cell_type": "code",
   "execution_count": 20,
   "metadata": {
    "collapsed": false
   },
   "outputs": [
    {
     "name": "stdout",
     "output_type": "stream",
     "text": [
      "ensured finite values\n",
      "ensured finite values\n",
      "ensured finite values\n",
      "ensured finite values\n",
      "ensured finite values\n",
      "ensured finite values\n",
      "ensured finite values\n",
      "ensured finite values\n"
     ]
    }
   ],
   "source": [
    "n_normflows = [2, 4, 8, 16]\n",
    "best_hypers = []\n",
    "for dn in datasetnames:\n",
    "    best_hypers += eva.get_best_hyper_autofix(\n",
    "        dn, folders_parameters,\n",
    "        test_attrs=[\"best_val_error\"],\n",
    "        n_normflows=n_normflows,\n",
    "        modelnames=modelnames\n",
    "    )\n",
    "\n",
    "\n",
    "grouped_hypers = eva.get_repeated_hypers(folders_parameters, Hypers=[Hyper], for_given_hypers_only=best_hypers).values()"
   ]
  },
  {
   "cell_type": "code",
   "execution_count": 21,
   "metadata": {
    "collapsed": false
   },
   "outputs": [
    {
     "data": {
      "text/plain": [
       "(168, 168, 168)"
      ]
     },
     "execution_count": 21,
     "metadata": {},
     "output_type": "execute_result"
    }
   ],
   "source": [
    "len(grouped_hypers), len(best_hypers), len(n_normflows)*len(datasetnames)*len(modelnames)"
   ]
  },
  {
   "cell_type": "code",
   "execution_count": 24,
   "metadata": {
    "collapsed": false
   },
   "outputs": [
    {
     "data": {
      "text/plain": [
       "4"
      ]
     },
     "execution_count": 24,
     "metadata": {},
     "output_type": "execute_result"
    }
   ],
   "source": [
    "sum(map(lambda x:len(x)<=1, grouped_hypers))"
   ]
  },
  {
   "cell_type": "markdown",
   "metadata": {},
   "source": [
    "# test get single best"
   ]
  },
  {
   "cell_type": "raw",
   "metadata": {
    "collapsed": true
   },
   "source": [
    "datasetname = \"toy2d\"\n",
    "modelname = \"radialflow\""
   ]
  },
  {
   "cell_type": "raw",
   "metadata": {
    "collapsed": false
   },
   "source": [
    "best_hyper = eva.get_single_best_hyper(folders_parameters, modelname, Hypers=Hypers, attr=\"best_val_error\", \n",
    "                                       key_files=lambda fn, p: datasetname in fn)\n",
    "best_hyper.n_normflows, best_hyper.best_val_loss, best_hyper.best_val_error"
   ]
  },
  {
   "cell_type": "raw",
   "metadata": {
    "collapsed": false
   },
   "source": [
    "best_hyper = eva.get_single_best_hyper(folders_parameters, modelname, Hypers=Hypers, attr=\"best_val_loss\", \n",
    "                                       key_files=lambda fn, p: datasetname in fn)\n",
    "best_hyper.n_normflows, best_hyper.best_val_loss, best_hyper.best_val_error"
   ]
  },
  {
   "cell_type": "markdown",
   "metadata": {},
   "source": [
    "# table all best ones for original "
   ]
  },
  {
   "cell_type": "code",
   "execution_count": 30,
   "metadata": {
    "collapsed": false
   },
   "outputs": [
    {
     "name": "stdout",
     "output_type": "stream",
     "text": [
      "ensured finite values\n",
      "ensured finite values\n",
      "ensured finite values\n",
      "ensured finite values\n",
      "ensured finite values\n",
      "ensured finite values\n",
      "ensured finite values\n"
     ]
    }
   ],
   "source": [
    "best_hypers = []\n",
    "for datasetname in datasetnames:\n",
    "    best_hypers += eva.get_best_hyper_autofix(\n",
    "        datasetname, folders_parameters,\n",
    "        test_attrs=['best_val_error'],  #, 'best_val_error'\n",
    "        modelnames=(\"baseline\", \"baselinedet\", \"planarflow\", \"planarflowdet\", \"radialflow\", \"radialflowdet\"),\n",
    "        percentages=None, n_normflows=(2,4,8,16) # (2,4,8,16) # (2,5,10,25)\n",
    "    )"
   ]
  },
  {
   "cell_type": "code",
   "execution_count": 31,
   "metadata": {
    "collapsed": false,
    "scrolled": false
   },
   "outputs": [],
   "source": [
    "pandas_dict = eva.to_pandas_dict(best_hypers, keys=(\n",
    "        \"datasetname\", \"modelname\", \"best_val_loss\", \"best_val_error\", \"best_test_loss\", \"best_test_error\",\n",
    "#         \"opt_identifier\", \"opt_offset\", \"opt_momentum\", \"opt_decay\", \"opt_step_rate\", \"minus_log_s1\", \"batch_size\", \n",
    "        \"n_normflows\", \"adapt_prior\"\n",
    "        ))\n",
    "\n",
    "df = pd.DataFrame(pandas_dict)\n",
    "# df.to_csv(\"rerunold_almost_all_error.csv\")\n"
   ]
  },
  {
   "cell_type": "code",
   "execution_count": 33,
   "metadata": {
    "collapsed": false
   },
   "outputs": [
    {
     "data": {
      "text/html": [
       "<div>\n",
       "<table border=\"1\" class=\"dataframe\">\n",
       "  <thead>\n",
       "    <tr style=\"text-align: right;\">\n",
       "      <th></th>\n",
       "      <th>adapt_prior</th>\n",
       "      <th>best_test_error</th>\n",
       "      <th>best_test_loss</th>\n",
       "      <th>best_val_error</th>\n",
       "      <th>best_val_loss</th>\n",
       "      <th>datasetname</th>\n",
       "      <th>modelname</th>\n",
       "      <th>n_normflows</th>\n",
       "    </tr>\n",
       "  </thead>\n",
       "  <tbody>\n",
       "    <tr>\n",
       "      <th>0</th>\n",
       "      <td>False</td>\n",
       "      <td>3.489066</td>\n",
       "      <td>0.764894</td>\n",
       "      <td>3.205008</td>\n",
       "      <td>0.798183</td>\n",
       "      <td>boston</td>\n",
       "      <td>radialflow</td>\n",
       "      <td>2</td>\n",
       "    </tr>\n",
       "    <tr>\n",
       "      <th>1</th>\n",
       "      <td>True</td>\n",
       "      <td>50.183598</td>\n",
       "      <td>10.349028</td>\n",
       "      <td>54.876720</td>\n",
       "      <td>9.735378</td>\n",
       "      <td>concrete</td>\n",
       "      <td>radialflow</td>\n",
       "      <td>2</td>\n",
       "    </tr>\n",
       "    <tr>\n",
       "      <th>2</th>\n",
       "      <td>True</td>\n",
       "      <td>40.510010</td>\n",
       "      <td>0.066625</td>\n",
       "      <td>36.997986</td>\n",
       "      <td>0.117591</td>\n",
       "      <td>energy</td>\n",
       "      <td>radialflow</td>\n",
       "      <td>2</td>\n",
       "    </tr>\n",
       "    <tr>\n",
       "      <th>3</th>\n",
       "      <td>True</td>\n",
       "      <td>0.720900</td>\n",
       "      <td>21.696205</td>\n",
       "      <td>0.754480</td>\n",
       "      <td>14.388631</td>\n",
       "      <td>kin8nm</td>\n",
       "      <td>radialflow</td>\n",
       "      <td>2</td>\n",
       "    </tr>\n",
       "    <tr>\n",
       "      <th>4</th>\n",
       "      <td>False</td>\n",
       "      <td>71.726944</td>\n",
       "      <td>5382.952856</td>\n",
       "      <td>48.837925</td>\n",
       "      <td>6083.236627</td>\n",
       "      <td>yacht</td>\n",
       "      <td>radialflow</td>\n",
       "      <td>2</td>\n",
       "    </tr>\n",
       "    <tr>\n",
       "      <th>5</th>\n",
       "      <td>True</td>\n",
       "      <td>0.282109</td>\n",
       "      <td>0.006629</td>\n",
       "      <td>0.252358</td>\n",
       "      <td>0.010703</td>\n",
       "      <td>toy1d</td>\n",
       "      <td>radialflow</td>\n",
       "      <td>2</td>\n",
       "    </tr>\n",
       "    <tr>\n",
       "      <th>6</th>\n",
       "      <td>True</td>\n",
       "      <td>0.259308</td>\n",
       "      <td>0.082692</td>\n",
       "      <td>0.264643</td>\n",
       "      <td>0.074772</td>\n",
       "      <td>toy2d</td>\n",
       "      <td>radialflow</td>\n",
       "      <td>2</td>\n",
       "    </tr>\n",
       "  </tbody>\n",
       "</table>\n",
       "</div>"
      ],
      "text/plain": [
       "  adapt_prior  best_test_error  best_test_loss  best_val_error  best_val_loss  \\\n",
       "0       False         3.489066        0.764894        3.205008       0.798183   \n",
       "1        True        50.183598       10.349028       54.876720       9.735378   \n",
       "2        True        40.510010        0.066625       36.997986       0.117591   \n",
       "3        True         0.720900       21.696205        0.754480      14.388631   \n",
       "4       False        71.726944     5382.952856       48.837925    6083.236627   \n",
       "5        True         0.282109        0.006629        0.252358       0.010703   \n",
       "6        True         0.259308        0.082692        0.264643       0.074772   \n",
       "\n",
       "  datasetname   modelname  n_normflows  \n",
       "0      boston  radialflow            2  \n",
       "1    concrete  radialflow            2  \n",
       "2      energy  radialflow            2  \n",
       "3      kin8nm  radialflow            2  \n",
       "4       yacht  radialflow            2  \n",
       "5       toy1d  radialflow            2  \n",
       "6       toy2d  radialflow            2  "
      ]
     },
     "execution_count": 33,
     "metadata": {},
     "output_type": "execute_result"
    }
   ],
   "source": [
    "df_new_radial"
   ]
  },
  {
   "cell_type": "code",
   "execution_count": 36,
   "metadata": {
    "collapsed": false
   },
   "outputs": [
    {
     "data": {
      "text/html": [
       "<div>\n",
       "<table border=\"1\" class=\"dataframe\">\n",
       "  <thead>\n",
       "    <tr style=\"text-align: right;\">\n",
       "      <th></th>\n",
       "      <th>adapt_prior</th>\n",
       "      <th>best_test_error</th>\n",
       "      <th>best_test_loss</th>\n",
       "      <th>best_val_error</th>\n",
       "      <th>best_val_loss</th>\n",
       "      <th>datasetname</th>\n",
       "      <th>modelname</th>\n",
       "      <th>n_normflows</th>\n",
       "    </tr>\n",
       "  </thead>\n",
       "  <tbody>\n",
       "    <tr>\n",
       "      <th>16</th>\n",
       "      <td>True</td>\n",
       "      <td>3.515679</td>\n",
       "      <td>0.654237</td>\n",
       "      <td>2.728699</td>\n",
       "      <td>0.594657</td>\n",
       "      <td>boston</td>\n",
       "      <td>radialflow</td>\n",
       "      <td>2</td>\n",
       "    </tr>\n",
       "    <tr>\n",
       "      <th>40</th>\n",
       "      <td>False</td>\n",
       "      <td>22.245895</td>\n",
       "      <td>206.723936</td>\n",
       "      <td>20.138979</td>\n",
       "      <td>240.621295</td>\n",
       "      <td>concrete</td>\n",
       "      <td>radialflow</td>\n",
       "      <td>2</td>\n",
       "    </tr>\n",
       "    <tr>\n",
       "      <th>64</th>\n",
       "      <td>False</td>\n",
       "      <td>21.032991</td>\n",
       "      <td>30981.919336</td>\n",
       "      <td>18.121811</td>\n",
       "      <td>36523.587860</td>\n",
       "      <td>energy</td>\n",
       "      <td>radialflow</td>\n",
       "      <td>2</td>\n",
       "    </tr>\n",
       "    <tr>\n",
       "      <th>88</th>\n",
       "      <td>True</td>\n",
       "      <td>0.591037</td>\n",
       "      <td>8.505896</td>\n",
       "      <td>0.559886</td>\n",
       "      <td>5.899800</td>\n",
       "      <td>kin8nm</td>\n",
       "      <td>radialflow</td>\n",
       "      <td>2</td>\n",
       "    </tr>\n",
       "    <tr>\n",
       "      <th>112</th>\n",
       "      <td>False</td>\n",
       "      <td>22.109064</td>\n",
       "      <td>92860.844267</td>\n",
       "      <td>14.526748</td>\n",
       "      <td>95125.066478</td>\n",
       "      <td>yacht</td>\n",
       "      <td>radialflow</td>\n",
       "      <td>2</td>\n",
       "    </tr>\n",
       "    <tr>\n",
       "      <th>136</th>\n",
       "      <td>False</td>\n",
       "      <td>0.286129</td>\n",
       "      <td>0.124203</td>\n",
       "      <td>0.222656</td>\n",
       "      <td>-0.037633</td>\n",
       "      <td>toy1d</td>\n",
       "      <td>radialflow</td>\n",
       "      <td>2</td>\n",
       "    </tr>\n",
       "    <tr>\n",
       "      <th>160</th>\n",
       "      <td>True</td>\n",
       "      <td>0.316106</td>\n",
       "      <td>0.256731</td>\n",
       "      <td>0.235865</td>\n",
       "      <td>0.013937</td>\n",
       "      <td>toy2d</td>\n",
       "      <td>radialflow</td>\n",
       "      <td>2</td>\n",
       "    </tr>\n",
       "  </tbody>\n",
       "</table>\n",
       "</div>"
      ],
      "text/plain": [
       "    adapt_prior  best_test_error  best_test_loss  best_val_error  \\\n",
       "16         True         3.515679        0.654237        2.728699   \n",
       "40        False        22.245895      206.723936       20.138979   \n",
       "64        False        21.032991    30981.919336       18.121811   \n",
       "88         True         0.591037        8.505896        0.559886   \n",
       "112       False        22.109064    92860.844267       14.526748   \n",
       "136       False         0.286129        0.124203        0.222656   \n",
       "160        True         0.316106        0.256731        0.235865   \n",
       "\n",
       "     best_val_loss datasetname   modelname  n_normflows  \n",
       "16        0.594657      boston  radialflow            2  \n",
       "40      240.621295    concrete  radialflow            2  \n",
       "64    36523.587860      energy  radialflow            2  \n",
       "88        5.899800      kin8nm  radialflow            2  \n",
       "112   95125.066478       yacht  radialflow            2  \n",
       "136      -0.037633       toy1d  radialflow            2  \n",
       "160       0.013937       toy2d  radialflow            2  "
      ]
     },
     "execution_count": 36,
     "metadata": {},
     "output_type": "execute_result"
    }
   ],
   "source": [
    "df_compare_radial[(df_compare_radial.n_normflows==2) & (df_compare_radial.modelname == \"radialflow\")]"
   ]
  },
  {
   "cell_type": "code",
   "execution_count": 37,
   "metadata": {
    "collapsed": false
   },
   "outputs": [
    {
     "data": {
      "text/plain": [
       "True"
      ]
     },
     "execution_count": 37,
     "metadata": {},
     "output_type": "execute_result"
    }
   ],
   "source": [
    "df is df_compare_radial"
   ]
  },
  {
   "cell_type": "code",
   "execution_count": null,
   "metadata": {
    "collapsed": false
   },
   "outputs": [],
   "source": [
    "np.isfinite(df.best_test_loss)"
   ]
  },
  {
   "cell_type": "markdown",
   "metadata": {},
   "source": [
    "## compare dataset"
   ]
  },
  {
   "cell_type": "code",
   "execution_count": null,
   "metadata": {
    "collapsed": false
   },
   "outputs": [],
   "source": [
    "df_toy_new"
   ]
  },
  {
   "cell_type": "code",
   "execution_count": null,
   "metadata": {
    "collapsed": false
   },
   "outputs": [],
   "source": [
    "df_toy_compare"
   ]
  },
  {
   "cell_type": "markdown",
   "metadata": {},
   "source": [
    "## compare modelname"
   ]
  },
  {
   "cell_type": "code",
   "execution_count": null,
   "metadata": {
    "collapsed": true
   },
   "outputs": [],
   "source": [
    "compare_modelname = \"radialflow\""
   ]
  },
  {
   "cell_type": "code",
   "execution_count": null,
   "metadata": {
    "collapsed": false
   },
   "outputs": [],
   "source": [
    "df[df.modelname==compare_modelname]"
   ]
  },
  {
   "cell_type": "code",
   "execution_count": null,
   "metadata": {
    "collapsed": false
   },
   "outputs": [],
   "source": [
    "df_radial_new_error[df_radial_new_error.modelname==compare_modelname]"
   ]
  },
  {
   "cell_type": "code",
   "execution_count": null,
   "metadata": {
    "collapsed": false
   },
   "outputs": [],
   "source": [
    "df_radial_compare_error[(df_radial_compare_error.modelname==compare_modelname)]"
   ]
  },
  {
   "cell_type": "code",
   "execution_count": null,
   "metadata": {
    "collapsed": false
   },
   "outputs": [],
   "source": [
    "df['adapt_prior'].sum()"
   ]
  },
  {
   "cell_type": "markdown",
   "metadata": {},
   "source": [
    "# only best ones"
   ]
  },
  {
   "cell_type": "code",
   "execution_count": null,
   "metadata": {
    "collapsed": false
   },
   "outputs": [],
   "source": [
    "best_hypers = []\n",
    "for datasetname in datasetnames:\n",
    "    best_hypers += eva.get_best_hyper_autofix(\n",
    "        datasetname, folders_parameters,\n",
    "        test_attrs=['best_val_loss', 'best_val_error'],\n",
    "        modelnames=(\"planarflow\", \"planarflowdet\", \"radialflow\", \"radialflowdet\"),\n",
    "        percentages=None, n_normflows=None\n",
    "    )"
   ]
  },
  {
   "cell_type": "code",
   "execution_count": null,
   "metadata": {
    "collapsed": false
   },
   "outputs": [],
   "source": [
    "unique_best_hypers = {h.opt_decay:h for h in best_hypers}.values()\n",
    "unique_best_hypers"
   ]
  },
  {
   "cell_type": "code",
   "execution_count": null,
   "metadata": {
    "collapsed": false
   },
   "outputs": [],
   "source": [
    "len(best_hypers), len(unique_best_hypers)"
   ]
  },
  {
   "cell_type": "code",
   "execution_count": null,
   "metadata": {
    "collapsed": false
   },
   "outputs": [],
   "source": [
    "pandas_dict = eva.to_pandas_dict(unique_best_hypers, keys=(\n",
    "        \"datasetname\", \"modelname\", \"best_val_loss\", \"best_val_error\", \n",
    "        \"opt_identifier\", \"opt_offset\", \"opt_momentum\", \"opt_decay\", \"opt_step_rate\", \"minus_log_s1\", \"batch_size\"\n",
    "        ))\n",
    "\n",
    "df = pd.DataFrame(pandas_dict)\n",
    "df"
   ]
  },
  {
   "cell_type": "code",
   "execution_count": null,
   "metadata": {
    "collapsed": true
   },
   "outputs": [],
   "source": [
    "df.to_csv?"
   ]
  },
  {
   "cell_type": "code",
   "execution_count": null,
   "metadata": {
    "collapsed": true
   },
   "outputs": [],
   "source": [
    "import csv"
   ]
  },
  {
   "cell_type": "code",
   "execution_count": null,
   "metadata": {
    "collapsed": false
   },
   "outputs": [],
   "source": [
    "df.to_csv(\"good_parameters_betteraspbp.csv\", quoting=csv.QUOTE_NONNUMERIC, index=False)\n",
    "# df.to_csv(\"all_best_hyper_nopercent_errorrate.csv\")"
   ]
  },
  {
   "cell_type": "markdown",
   "metadata": {},
   "source": [
    "# look at statistics"
   ]
  },
  {
   "cell_type": "code",
   "execution_count": null,
   "metadata": {
    "collapsed": true
   },
   "outputs": [],
   "source": [
    "folder = \"evaluation\"\n",
    "datasetname = \"boston\"\n",
    "suffix = \"_tests.pkl\""
   ]
  },
  {
   "cell_type": "code",
   "execution_count": null,
   "metadata": {
    "collapsed": true
   },
   "outputs": [],
   "source": [
    "datasetnames = [\"boston\",\"concrete\",\"energy\",\"powerplant\",\"toy1d\",\"toy2d\",\"winered\",\"yacht\"]"
   ]
  },
  {
   "cell_type": "code",
   "execution_count": null,
   "metadata": {
    "collapsed": true
   },
   "outputs": [],
   "source": [
    "def last_layer_to_dict(l, **kwargs):\n",
    "    return {\n",
    "        'best_epoch_mean': l['best_epoch'].mean(),\n",
    "        'best_epoch_std': l['best_epoch'].std(),\n",
    "        'best_test_loss_mean': l['best_test_loss'].mean(),\n",
    "        'best_test_loss_std': l['best_test_loss'].std(),\n",
    "        'test_error_rate_mean': l['test_error_rate'].mean(),\n",
    "        'test_error_rate_std': l['test_error_rate'].std(),\n",
    "    }"
   ]
  },
  {
   "cell_type": "code",
   "execution_count": null,
   "metadata": {
    "collapsed": false
   },
   "outputs": [],
   "source": [
    "pandas_dict = None\n",
    "for datasetname in datasetnames:\n",
    "    filename = os.path.join(__path__, folder, datasetname + suffix)\n",
    "    best_tests = evaluation_util.load_dict(filename)\n",
    "    pandas_dict = evaluation_util.to_pandas_dict(datasetname, best_tests, pandas_dict, last_layer_to_dict=last_layer_to_dict)"
   ]
  },
  {
   "cell_type": "code",
   "execution_count": null,
   "metadata": {
    "collapsed": false
   },
   "outputs": [],
   "source": [
    "df = pd.DataFrame(pandas_dict)"
   ]
  },
  {
   "cell_type": "code",
   "execution_count": null,
   "metadata": {
    "collapsed": true
   },
   "outputs": [],
   "source": [
    "df.to_csv(\"all_withpercent_tested_plus.csv\")"
   ]
  },
  {
   "cell_type": "code",
   "execution_count": null,
   "metadata": {
    "collapsed": true
   },
   "outputs": [],
   "source": []
  }
 ],
 "metadata": {
  "kernelspec": {
   "display_name": "Python 2",
   "language": "python",
   "name": "python2"
  },
  "language_info": {
   "codemirror_mode": {
    "name": "ipython",
    "version": 2
   },
   "file_extension": ".py",
   "mimetype": "text/x-python",
   "name": "python",
   "nbconvert_exporter": "python",
   "pygments_lexer": "ipython2",
   "version": "2.7.6"
  },
  "toc": {
   "toc_cell": false,
   "toc_number_sections": true,
   "toc_threshold": 4,
   "toc_window_display": false
  }
 },
 "nbformat": 4,
 "nbformat_minor": 0
}
