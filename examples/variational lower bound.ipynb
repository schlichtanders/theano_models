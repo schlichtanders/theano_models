{
 "cells": [
  {
   "cell_type": "markdown",
   "metadata": {},
   "source": [
    "# imports"
   ]
  },
  {
   "cell_type": "code",
   "execution_count": 1,
   "metadata": {
    "collapsed": false,
    "scrolled": true
   },
   "outputs": [
    {
     "name": "stderr",
     "output_type": "stream",
     "text": [
      "/usr/local/lib/python2.7/dist-packages/matplotlib/font_manager.py:273: UserWarning: Matplotlib is building the font cache using fc-list. This may take a moment.\n",
      "  warnings.warn('Matplotlib is building the font cache using fc-list. This may take a moment.')\n"
     ]
    }
   ],
   "source": [
    "%matplotlib notebook\n",
    "from __future__ import division"
   ]
  },
  {
   "cell_type": "code",
   "execution_count": 2,
   "metadata": {
    "collapsed": false
   },
   "outputs": [
    {
     "name": "stdout",
     "output_type": "stream",
     "text": [
      "gnumpy: failed to import cudamat. Using npmat instead. No GPU will be used.\n"
     ]
    }
   ],
   "source": [
    "from matplotlib.pyplot import plot, ylabel, xlabel, yscale, xscale, legend, subplots, gca, gcf\n",
    "import matplotlib.pyplot as plt\n",
    "from matplotlib.ticker import FormatStrFormatter\n",
    "from theano import function\n",
    "import numpy as np\n",
    "import gzip\n",
    "import cPickle\n",
    "from scipy.optimize import minimize\n",
    "from climin.util import optimizer\n",
    "from itertools import repeat, cycle, islice, izip, imap\n",
    "import itertools\n",
    "import random\n",
    "inf = float(\"inf\")"
   ]
  },
  {
   "cell_type": "code",
   "execution_count": 3,
   "metadata": {
    "collapsed": false
   },
   "outputs": [],
   "source": [
    "from breze.learn.data import one_hot\n",
    "from breze.learn.base import cast_array_to_local_type\n",
    "from schlichtanders.myfunctools import compose, meanmap, summap, compose_fmap, Average\n",
    "from schlichtanders import myfunctools\n",
    "from schlichtanders.mygenerators import eatN, chunk, chunk_list, every, takeN\n",
    "from schlichtanders.myplot import add_val, add_point\n",
    "from schlichtanders.mymeta import proxify"
   ]
  },
  {
   "cell_type": "code",
   "execution_count": 4,
   "metadata": {
    "collapsed": false
   },
   "outputs": [],
   "source": [
    "from IPython.display import IFrame\n",
    "import theano_models as tm\n",
    "import theano_models.deterministic_models as dm\n",
    "import theano_models.probabilistic_models as pm"
   ]
  },
  {
   "cell_type": "code",
   "execution_count": 5,
   "metadata": {
    "collapsed": true
   },
   "outputs": [],
   "source": [
    "import theano\n",
    "import theano.tensor as T\n",
    "from theano.printing import debugprint\n",
    "from theano.tensor.shared_randomstreams import RandomStreams"
   ]
  },
  {
   "cell_type": "code",
   "execution_count": 6,
   "metadata": {
    "collapsed": false
   },
   "outputs": [],
   "source": [
    "from sqlalchemy import Column, Integer, Unicode, UnicodeText, String, PickleType, Float\n",
    "from sqlalchemy import create_engine\n",
    "from sqlalchemy.orm import sessionmaker\n",
    "from sqlalchemy.ext.declarative import declarative_base"
   ]
  },
  {
   "cell_type": "code",
   "execution_count": 7,
   "metadata": {
    "collapsed": false
   },
   "outputs": [],
   "source": [
    "import warnings\n",
    "warnings.filterwarnings(\"ignore\", category=DeprecationWarning)"
   ]
  },
  {
   "cell_type": "code",
   "execution_count": 8,
   "metadata": {
    "collapsed": false
   },
   "outputs": [
    {
     "data": {
      "text/plain": [
       "({'extra_inputs',\n",
       "  'flat',\n",
       "  'inputs',\n",
       "  'n_data',\n",
       "  'parameters',\n",
       "  'parameters_positive',\n",
       "  'parameters_psumto1',\n",
       "  'to_be_randomized'},\n",
       " {'kl_prior', 'loglikelihood', 'norm_det', 'norm_dets', 'outputs'})"
      ]
     },
     "execution_count": 8,
     "metadata": {},
     "output_type": "execute_result"
    }
   ],
   "source": [
    "tm.inputting_references.update(['to_be_randomized'])\n",
    "tm.inputting_references, tm.outputting_references"
   ]
  },
  {
   "cell_type": "code",
   "execution_count": 9,
   "metadata": {
    "collapsed": true
   },
   "outputs": [],
   "source": [
    "from schlichtanders.myobjects import NestedNamespace"
   ]
  },
  {
   "cell_type": "raw",
   "metadata": {
    "collapsed": true
   },
   "source": [
    "pm.RNG = NestedNamespace(PooledRandomStreams(pool_size=int(5e8)), RandomStreams())"
   ]
  },
  {
   "cell_type": "markdown",
   "metadata": {},
   "source": [
    "# Simple Posterior"
   ]
  },
  {
   "cell_type": "markdown",
   "metadata": {},
   "source": [
    "For testing we choose a conjugate likelihood/prior combination such that the resulting posterior form is known in advance.\n",
    "\n",
    "It seems the only combination with commonly known results is Gauss, considering that we need a distribution which can be expressed as a function of some standard random source, because of stochastic backpropagation.\n",
    "\n",
    "As the final goal is to have more complex distributions than Gaussians, another distribution might"
   ]
  },
  {
   "cell_type": "code",
   "execution_count": 64,
   "metadata": {
    "collapsed": false
   },
   "outputs": [],
   "source": [
    "prior_u = 0\n",
    "prior_s2 = 0.5\n",
    "\n",
    "likelihood_s2 = 2\n",
    "\n",
    "sample = np.random.normal(size=100, scale=4, loc=5)\n",
    "\n",
    "posterior_s2 = 1 / (1/prior_s2 + len(sample)/likelihood_s2)\n",
    "posterior_u = (prior_u/prior_s2 + sample.sum()/likelihood_s2) * posterior_s2"
   ]
  },
  {
   "cell_type": "code",
   "execution_count": 65,
   "metadata": {
    "collapsed": false
   },
   "outputs": [
    {
     "data": {
      "text/plain": [
       "(5.040005019018122, 0.019230769230769232)"
      ]
     },
     "execution_count": 65,
     "metadata": {},
     "output_type": "execute_result"
    }
   ],
   "source": [
    "posterior_u, posterior_s2"
   ]
  },
  {
   "cell_type": "code",
   "execution_count": 66,
   "metadata": {
    "collapsed": false
   },
   "outputs": [
    {
     "data": {
      "text/plain": [
       "Merge14 { 'inputs': [], 'outputs': Gauss7.outputs, 'parameters': [mean]}"
      ]
     },
     "execution_count": 66,
     "metadata": {},
     "output_type": "execute_result"
    }
   ],
   "source": [
    "likelihood = tm.Merge(pm.Gauss(init_var=likelihood_s2),\n",
    "                      ignore_references={'parameters_positive'})\n",
    "likelihood"
   ]
  },
  {
   "cell_type": "code",
   "execution_count": 67,
   "metadata": {
    "collapsed": false
   },
   "outputs": [
    {
     "data": {
      "text/plain": [
       "Gauss8 { 'inputs': [],\n",
       "  'outputs': Gauss8.outputs,\n",
       "  'parameters': [mean],\n",
       "  'parameters_positive': [var]}"
      ]
     },
     "execution_count": 67,
     "metadata": {},
     "output_type": "execute_result"
    }
   ],
   "source": [
    "q = pm.Gauss()\n",
    "q"
   ]
  },
  {
   "cell_type": "code",
   "execution_count": 68,
   "metadata": {
    "collapsed": false
   },
   "outputs": [
    {
     "data": {
      "text/plain": [
       "Gauss9_fixed { 'inputs': [], 'outputs': Gauss9.outputs}"
      ]
     },
     "execution_count": 68,
     "metadata": {},
     "output_type": "execute_result"
    }
   ],
   "source": [
    "prior = tm.fix_params(pm.Gauss(init_mean=prior_u, init_var=prior_s2))\n",
    "prior"
   ]
  },
  {
   "cell_type": "code",
   "execution_count": 69,
   "metadata": {
    "collapsed": false
   },
   "outputs": [
    {
     "data": {
      "text/plain": [
       "variational_lower_bound4 { 'inputs': [],\n",
       "  'kl_prior': variational_lower_bound4.kl_prior,\n",
       "  'logposterior': variational_lower_bound4.logposterior,\n",
       "  'logprior': variational_lower_bound4.logprior,\n",
       "  'n_data': n_data,\n",
       "  'outputs': Gauss7.outputs,\n",
       "  'parameters': [mean],\n",
       "  'parameters_positive': [var]}"
      ]
     },
     "execution_count": 69,
     "metadata": {},
     "output_type": "execute_result"
    }
   ],
   "source": [
    "model = tm.variational_bayes(likelihood, 'parameters', q, priors=prior)\n",
    "model"
   ]
  },
  {
   "cell_type": "code",
   "execution_count": 70,
   "metadata": {
    "collapsed": false
   },
   "outputs": [
    {
     "data": {
      "text/plain": [
       "\"mean_centered:var_squareplus_centered\""
      ]
     },
     "execution_count": 70,
     "metadata": {},
     "output_type": "execute_result"
    }
   ],
   "source": [
    "_params = tm.prox_reparameterize(model['parameters_positive'], tm.squareplus, tm.squareplus_inv)\n",
    "flat_parameters = tm.prox_flatten(tm.prox_center(model['parameters'] + _params))\n",
    "flat_parameters"
   ]
  },
  {
   "cell_type": "code",
   "execution_count": 71,
   "metadata": {
    "collapsed": false
   },
   "outputs": [
    {
     "data": {
      "text/html": [
       "\n",
       "        <iframe\n",
       "            width=\"700\"\n",
       "            height=\"500\"\n",
       "            src=\"tmp/model.html\"\n",
       "            frameborder=\"0\"\n",
       "            allowfullscreen\n",
       "        ></iframe>\n",
       "        "
      ],
      "text/plain": [
       "<IPython.lib.display.IFrame at 0x7f77dfecb790>"
      ]
     },
     "execution_count": 71,
     "metadata": {},
     "output_type": "execute_result"
    }
   ],
   "source": [
    "tm.d3viz(([flat_parameters] + model.logP['inputs'], model.logP['outputs']), 'tmp/model.html')\n",
    "IFrame('tmp/model.html', width=700, height=500)"
   ]
  },
  {
   "cell_type": "code",
   "execution_count": 72,
   "metadata": {
    "collapsed": true
   },
   "outputs": [],
   "source": [
    "tm.reduce_all_identities()"
   ]
  },
  {
   "cell_type": "code",
   "execution_count": 73,
   "metadata": {
    "collapsed": false
   },
   "outputs": [],
   "source": [
    "loss = tm.loss_variational(model)\n",
    "optimizer_kwargs = tm.numericalize(\n",
    "    loss, flat_parameters,\n",
    "    batch_mapreduce=summap,\n",
    "    annealing_combiner=tm.AnnealingCombiner(),\n",
    "    adapt_init_params=lambda ps: ps + np.random.normal(size=ps.shape, scale=0.01),\n",
    ")\n",
    "climin_args = izip(imap(lambda x:(x,), itertools.repeat(sample)), itertools.repeat({}))"
   ]
  },
  {
   "cell_type": "code",
   "execution_count": 74,
   "metadata": {
    "collapsed": false
   },
   "outputs": [
    {
     "data": {
      "text/plain": [
       "((array([  6.43272071,   6.07642869,  -1.45772056,   6.36624435,\n",
       "           7.75425277,   8.18870164,   7.66014235,  -0.66796849,\n",
       "           8.60540419,  -0.49663594,   6.41297115,  -0.17547284,\n",
       "           1.35677297,   8.02322198,   3.95721259,   5.75301674,\n",
       "           0.70356945,   7.60702669,   9.80541203,   5.0153483 ,\n",
       "           2.92539374,   4.59827294,   4.55117019,  13.62594838,\n",
       "          12.27824517,   0.97552681,  16.96011346,   6.52500565,\n",
       "           6.05483924,   1.63418243,   3.90360553,  -2.42273898,\n",
       "           6.79407635,   5.08775537,   5.08054846,   4.55132996,\n",
       "          13.46771992,   5.13133731,   7.55697045,   0.3408306 ,\n",
       "           3.15456715,   2.37031271,   3.92843537,  -2.55057035,\n",
       "           8.07360326,   0.55734529,   7.68073207,   6.56544655,\n",
       "           1.03388412,   3.09887297,  -0.35057823,   5.61770333,\n",
       "          -1.34214903,   8.65303137,  11.95594535,  -1.62083245,\n",
       "           5.80144903,   6.34940281,   4.82064347,   0.17164096,\n",
       "           2.02777263,  14.78358782,   6.91853558,   9.37214717,\n",
       "           1.35636886,  10.68040491,   2.66998567,   5.07339353,\n",
       "           7.03575742,   3.81304828,   5.88194361,  -4.76785594,\n",
       "           6.2578463 ,  11.02180789,   7.19740485,   2.7426011 ,\n",
       "           6.69139151,   5.13153871,   0.24198609,   2.94194007,\n",
       "          14.14232463,   6.2001431 ,  11.62983089,   2.57789746,\n",
       "           0.35674675,  12.14871471,   7.88973315,   9.16771337,\n",
       "           7.06643488,  -2.93175603,   4.65597622,   3.52944601,\n",
       "           8.63499814,   3.41629328,   2.83927627,   9.79842332,\n",
       "           8.70927989,   6.65442529,   5.61563347,   4.47771371]),), {})"
      ]
     },
     "execution_count": 74,
     "metadata": {},
     "output_type": "execute_result"
    }
   ],
   "source": [
    "next(climin_args)"
   ]
  },
  {
   "cell_type": "code",
   "execution_count": 75,
   "metadata": {
    "collapsed": false
   },
   "outputs": [],
   "source": [
    "opt = optimizer(\n",
    "    identifier=\"adadelta\",\n",
    "#     steprate=1e-6,\n",
    "    args=climin_args,\n",
    "    **tm.climin_kwargs(optimizer_kwargs)\n",
    ")"
   ]
  },
  {
   "cell_type": "code",
   "execution_count": 76,
   "metadata": {
    "collapsed": true
   },
   "outputs": [],
   "source": [
    "best_loss = optimizer_kwargs['num_loss'](opt.wrt, sample)\n",
    "best_params = None\n",
    "last_best_i = opt.n_iter"
   ]
  },
  {
   "cell_type": "code",
   "execution_count": 77,
   "metadata": {
    "collapsed": false
   },
   "outputs": [
    {
     "data": {
      "application/javascript": [
       "/* Put everything inside the global mpl namespace */\n",
       "window.mpl = {};\n",
       "\n",
       "mpl.get_websocket_type = function() {\n",
       "    if (typeof(WebSocket) !== 'undefined') {\n",
       "        return WebSocket;\n",
       "    } else if (typeof(MozWebSocket) !== 'undefined') {\n",
       "        return MozWebSocket;\n",
       "    } else {\n",
       "        alert('Your browser does not have WebSocket support.' +\n",
       "              'Please try Chrome, Safari or Firefox ≥ 6. ' +\n",
       "              'Firefox 4 and 5 are also supported but you ' +\n",
       "              'have to enable WebSockets in about:config.');\n",
       "    };\n",
       "}\n",
       "\n",
       "mpl.figure = function(figure_id, websocket, ondownload, parent_element) {\n",
       "    this.id = figure_id;\n",
       "\n",
       "    this.ws = websocket;\n",
       "\n",
       "    this.supports_binary = (this.ws.binaryType != undefined);\n",
       "\n",
       "    if (!this.supports_binary) {\n",
       "        var warnings = document.getElementById(\"mpl-warnings\");\n",
       "        if (warnings) {\n",
       "            warnings.style.display = 'block';\n",
       "            warnings.textContent = (\n",
       "                \"This browser does not support binary websocket messages. \" +\n",
       "                    \"Performance may be slow.\");\n",
       "        }\n",
       "    }\n",
       "\n",
       "    this.imageObj = new Image();\n",
       "\n",
       "    this.context = undefined;\n",
       "    this.message = undefined;\n",
       "    this.canvas = undefined;\n",
       "    this.rubberband_canvas = undefined;\n",
       "    this.rubberband_context = undefined;\n",
       "    this.format_dropdown = undefined;\n",
       "\n",
       "    this.image_mode = 'full';\n",
       "\n",
       "    this.root = $('<div/>');\n",
       "    this._root_extra_style(this.root)\n",
       "    this.root.attr('style', 'display: inline-block');\n",
       "\n",
       "    $(parent_element).append(this.root);\n",
       "\n",
       "    this._init_header(this);\n",
       "    this._init_canvas(this);\n",
       "    this._init_toolbar(this);\n",
       "\n",
       "    var fig = this;\n",
       "\n",
       "    this.waiting = false;\n",
       "\n",
       "    this.ws.onopen =  function () {\n",
       "            fig.send_message(\"supports_binary\", {value: fig.supports_binary});\n",
       "            fig.send_message(\"send_image_mode\", {});\n",
       "            fig.send_message(\"refresh\", {});\n",
       "        }\n",
       "\n",
       "    this.imageObj.onload = function() {\n",
       "            if (fig.image_mode == 'full') {\n",
       "                // Full images could contain transparency (where diff images\n",
       "                // almost always do), so we need to clear the canvas so that\n",
       "                // there is no ghosting.\n",
       "                fig.context.clearRect(0, 0, fig.canvas.width, fig.canvas.height);\n",
       "            }\n",
       "            fig.context.drawImage(fig.imageObj, 0, 0);\n",
       "        };\n",
       "\n",
       "    this.imageObj.onunload = function() {\n",
       "        this.ws.close();\n",
       "    }\n",
       "\n",
       "    this.ws.onmessage = this._make_on_message_function(this);\n",
       "\n",
       "    this.ondownload = ondownload;\n",
       "}\n",
       "\n",
       "mpl.figure.prototype._init_header = function() {\n",
       "    var titlebar = $(\n",
       "        '<div class=\"ui-dialog-titlebar ui-widget-header ui-corner-all ' +\n",
       "        'ui-helper-clearfix\"/>');\n",
       "    var titletext = $(\n",
       "        '<div class=\"ui-dialog-title\" style=\"width: 100%; ' +\n",
       "        'text-align: center; padding: 3px;\"/>');\n",
       "    titlebar.append(titletext)\n",
       "    this.root.append(titlebar);\n",
       "    this.header = titletext[0];\n",
       "}\n",
       "\n",
       "\n",
       "\n",
       "mpl.figure.prototype._canvas_extra_style = function(canvas_div) {\n",
       "\n",
       "}\n",
       "\n",
       "\n",
       "mpl.figure.prototype._root_extra_style = function(canvas_div) {\n",
       "\n",
       "}\n",
       "\n",
       "mpl.figure.prototype._init_canvas = function() {\n",
       "    var fig = this;\n",
       "\n",
       "    var canvas_div = $('<div/>');\n",
       "\n",
       "    canvas_div.attr('style', 'position: relative; clear: both; outline: 0');\n",
       "\n",
       "    function canvas_keyboard_event(event) {\n",
       "        return fig.key_event(event, event['data']);\n",
       "    }\n",
       "\n",
       "    canvas_div.keydown('key_press', canvas_keyboard_event);\n",
       "    canvas_div.keyup('key_release', canvas_keyboard_event);\n",
       "    this.canvas_div = canvas_div\n",
       "    this._canvas_extra_style(canvas_div)\n",
       "    this.root.append(canvas_div);\n",
       "\n",
       "    var canvas = $('<canvas/>');\n",
       "    canvas.addClass('mpl-canvas');\n",
       "    canvas.attr('style', \"left: 0; top: 0; z-index: 0; outline: 0\")\n",
       "\n",
       "    this.canvas = canvas[0];\n",
       "    this.context = canvas[0].getContext(\"2d\");\n",
       "\n",
       "    var rubberband = $('<canvas/>');\n",
       "    rubberband.attr('style', \"position: absolute; left: 0; top: 0; z-index: 1;\")\n",
       "\n",
       "    var pass_mouse_events = true;\n",
       "\n",
       "    canvas_div.resizable({\n",
       "        start: function(event, ui) {\n",
       "            pass_mouse_events = false;\n",
       "        },\n",
       "        resize: function(event, ui) {\n",
       "            fig.request_resize(ui.size.width, ui.size.height);\n",
       "        },\n",
       "        stop: function(event, ui) {\n",
       "            pass_mouse_events = true;\n",
       "            fig.request_resize(ui.size.width, ui.size.height);\n",
       "        },\n",
       "    });\n",
       "\n",
       "    function mouse_event_fn(event) {\n",
       "        if (pass_mouse_events)\n",
       "            return fig.mouse_event(event, event['data']);\n",
       "    }\n",
       "\n",
       "    rubberband.mousedown('button_press', mouse_event_fn);\n",
       "    rubberband.mouseup('button_release', mouse_event_fn);\n",
       "    // Throttle sequential mouse events to 1 every 20ms.\n",
       "    rubberband.mousemove('motion_notify', mouse_event_fn);\n",
       "\n",
       "    rubberband.mouseenter('figure_enter', mouse_event_fn);\n",
       "    rubberband.mouseleave('figure_leave', mouse_event_fn);\n",
       "\n",
       "    canvas_div.on(\"wheel\", function (event) {\n",
       "        event = event.originalEvent;\n",
       "        event['data'] = 'scroll'\n",
       "        if (event.deltaY < 0) {\n",
       "            event.step = 1;\n",
       "        } else {\n",
       "            event.step = -1;\n",
       "        }\n",
       "        mouse_event_fn(event);\n",
       "    });\n",
       "\n",
       "    canvas_div.append(canvas);\n",
       "    canvas_div.append(rubberband);\n",
       "\n",
       "    this.rubberband = rubberband;\n",
       "    this.rubberband_canvas = rubberband[0];\n",
       "    this.rubberband_context = rubberband[0].getContext(\"2d\");\n",
       "    this.rubberband_context.strokeStyle = \"#000000\";\n",
       "\n",
       "    this._resize_canvas = function(width, height) {\n",
       "        // Keep the size of the canvas, canvas container, and rubber band\n",
       "        // canvas in synch.\n",
       "        canvas_div.css('width', width)\n",
       "        canvas_div.css('height', height)\n",
       "\n",
       "        canvas.attr('width', width);\n",
       "        canvas.attr('height', height);\n",
       "\n",
       "        rubberband.attr('width', width);\n",
       "        rubberband.attr('height', height);\n",
       "    }\n",
       "\n",
       "    // Set the figure to an initial 600x600px, this will subsequently be updated\n",
       "    // upon first draw.\n",
       "    this._resize_canvas(600, 600);\n",
       "\n",
       "    // Disable right mouse context menu.\n",
       "    $(this.rubberband_canvas).bind(\"contextmenu\",function(e){\n",
       "        return false;\n",
       "    });\n",
       "\n",
       "    function set_focus () {\n",
       "        canvas.focus();\n",
       "        canvas_div.focus();\n",
       "    }\n",
       "\n",
       "    window.setTimeout(set_focus, 100);\n",
       "}\n",
       "\n",
       "mpl.figure.prototype._init_toolbar = function() {\n",
       "    var fig = this;\n",
       "\n",
       "    var nav_element = $('<div/>')\n",
       "    nav_element.attr('style', 'width: 100%');\n",
       "    this.root.append(nav_element);\n",
       "\n",
       "    // Define a callback function for later on.\n",
       "    function toolbar_event(event) {\n",
       "        return fig.toolbar_button_onclick(event['data']);\n",
       "    }\n",
       "    function toolbar_mouse_event(event) {\n",
       "        return fig.toolbar_button_onmouseover(event['data']);\n",
       "    }\n",
       "\n",
       "    for(var toolbar_ind in mpl.toolbar_items) {\n",
       "        var name = mpl.toolbar_items[toolbar_ind][0];\n",
       "        var tooltip = mpl.toolbar_items[toolbar_ind][1];\n",
       "        var image = mpl.toolbar_items[toolbar_ind][2];\n",
       "        var method_name = mpl.toolbar_items[toolbar_ind][3];\n",
       "\n",
       "        if (!name) {\n",
       "            // put a spacer in here.\n",
       "            continue;\n",
       "        }\n",
       "        var button = $('<button/>');\n",
       "        button.addClass('ui-button ui-widget ui-state-default ui-corner-all ' +\n",
       "                        'ui-button-icon-only');\n",
       "        button.attr('role', 'button');\n",
       "        button.attr('aria-disabled', 'false');\n",
       "        button.click(method_name, toolbar_event);\n",
       "        button.mouseover(tooltip, toolbar_mouse_event);\n",
       "\n",
       "        var icon_img = $('<span/>');\n",
       "        icon_img.addClass('ui-button-icon-primary ui-icon');\n",
       "        icon_img.addClass(image);\n",
       "        icon_img.addClass('ui-corner-all');\n",
       "\n",
       "        var tooltip_span = $('<span/>');\n",
       "        tooltip_span.addClass('ui-button-text');\n",
       "        tooltip_span.html(tooltip);\n",
       "\n",
       "        button.append(icon_img);\n",
       "        button.append(tooltip_span);\n",
       "\n",
       "        nav_element.append(button);\n",
       "    }\n",
       "\n",
       "    var fmt_picker_span = $('<span/>');\n",
       "\n",
       "    var fmt_picker = $('<select/>');\n",
       "    fmt_picker.addClass('mpl-toolbar-option ui-widget ui-widget-content');\n",
       "    fmt_picker_span.append(fmt_picker);\n",
       "    nav_element.append(fmt_picker_span);\n",
       "    this.format_dropdown = fmt_picker[0];\n",
       "\n",
       "    for (var ind in mpl.extensions) {\n",
       "        var fmt = mpl.extensions[ind];\n",
       "        var option = $(\n",
       "            '<option/>', {selected: fmt === mpl.default_extension}).html(fmt);\n",
       "        fmt_picker.append(option)\n",
       "    }\n",
       "\n",
       "    // Add hover states to the ui-buttons\n",
       "    $( \".ui-button\" ).hover(\n",
       "        function() { $(this).addClass(\"ui-state-hover\");},\n",
       "        function() { $(this).removeClass(\"ui-state-hover\");}\n",
       "    );\n",
       "\n",
       "    var status_bar = $('<span class=\"mpl-message\"/>');\n",
       "    nav_element.append(status_bar);\n",
       "    this.message = status_bar[0];\n",
       "}\n",
       "\n",
       "mpl.figure.prototype.request_resize = function(x_pixels, y_pixels) {\n",
       "    // Request matplotlib to resize the figure. Matplotlib will then trigger a resize in the client,\n",
       "    // which will in turn request a refresh of the image.\n",
       "    this.send_message('resize', {'width': x_pixels, 'height': y_pixels});\n",
       "}\n",
       "\n",
       "mpl.figure.prototype.send_message = function(type, properties) {\n",
       "    properties['type'] = type;\n",
       "    properties['figure_id'] = this.id;\n",
       "    this.ws.send(JSON.stringify(properties));\n",
       "}\n",
       "\n",
       "mpl.figure.prototype.send_draw_message = function() {\n",
       "    if (!this.waiting) {\n",
       "        this.waiting = true;\n",
       "        this.ws.send(JSON.stringify({type: \"draw\", figure_id: this.id}));\n",
       "    }\n",
       "}\n",
       "\n",
       "\n",
       "mpl.figure.prototype.handle_save = function(fig, msg) {\n",
       "    var format_dropdown = fig.format_dropdown;\n",
       "    var format = format_dropdown.options[format_dropdown.selectedIndex].value;\n",
       "    fig.ondownload(fig, format);\n",
       "}\n",
       "\n",
       "\n",
       "mpl.figure.prototype.handle_resize = function(fig, msg) {\n",
       "    var size = msg['size'];\n",
       "    if (size[0] != fig.canvas.width || size[1] != fig.canvas.height) {\n",
       "        fig._resize_canvas(size[0], size[1]);\n",
       "        fig.send_message(\"refresh\", {});\n",
       "    };\n",
       "}\n",
       "\n",
       "mpl.figure.prototype.handle_rubberband = function(fig, msg) {\n",
       "    var x0 = msg['x0'];\n",
       "    var y0 = fig.canvas.height - msg['y0'];\n",
       "    var x1 = msg['x1'];\n",
       "    var y1 = fig.canvas.height - msg['y1'];\n",
       "    x0 = Math.floor(x0) + 0.5;\n",
       "    y0 = Math.floor(y0) + 0.5;\n",
       "    x1 = Math.floor(x1) + 0.5;\n",
       "    y1 = Math.floor(y1) + 0.5;\n",
       "    var min_x = Math.min(x0, x1);\n",
       "    var min_y = Math.min(y0, y1);\n",
       "    var width = Math.abs(x1 - x0);\n",
       "    var height = Math.abs(y1 - y0);\n",
       "\n",
       "    fig.rubberband_context.clearRect(\n",
       "        0, 0, fig.canvas.width, fig.canvas.height);\n",
       "\n",
       "    fig.rubberband_context.strokeRect(min_x, min_y, width, height);\n",
       "}\n",
       "\n",
       "mpl.figure.prototype.handle_figure_label = function(fig, msg) {\n",
       "    // Updates the figure title.\n",
       "    fig.header.textContent = msg['label'];\n",
       "}\n",
       "\n",
       "mpl.figure.prototype.handle_cursor = function(fig, msg) {\n",
       "    var cursor = msg['cursor'];\n",
       "    switch(cursor)\n",
       "    {\n",
       "    case 0:\n",
       "        cursor = 'pointer';\n",
       "        break;\n",
       "    case 1:\n",
       "        cursor = 'default';\n",
       "        break;\n",
       "    case 2:\n",
       "        cursor = 'crosshair';\n",
       "        break;\n",
       "    case 3:\n",
       "        cursor = 'move';\n",
       "        break;\n",
       "    }\n",
       "    fig.rubberband_canvas.style.cursor = cursor;\n",
       "}\n",
       "\n",
       "mpl.figure.prototype.handle_message = function(fig, msg) {\n",
       "    fig.message.textContent = msg['message'];\n",
       "}\n",
       "\n",
       "mpl.figure.prototype.handle_draw = function(fig, msg) {\n",
       "    // Request the server to send over a new figure.\n",
       "    fig.send_draw_message();\n",
       "}\n",
       "\n",
       "mpl.figure.prototype.handle_image_mode = function(fig, msg) {\n",
       "    fig.image_mode = msg['mode'];\n",
       "}\n",
       "\n",
       "mpl.figure.prototype.updated_canvas_event = function() {\n",
       "    // Called whenever the canvas gets updated.\n",
       "    this.send_message(\"ack\", {});\n",
       "}\n",
       "\n",
       "// A function to construct a web socket function for onmessage handling.\n",
       "// Called in the figure constructor.\n",
       "mpl.figure.prototype._make_on_message_function = function(fig) {\n",
       "    return function socket_on_message(evt) {\n",
       "        if (evt.data instanceof Blob) {\n",
       "            /* FIXME: We get \"Resource interpreted as Image but\n",
       "             * transferred with MIME type text/plain:\" errors on\n",
       "             * Chrome.  But how to set the MIME type?  It doesn't seem\n",
       "             * to be part of the websocket stream */\n",
       "            evt.data.type = \"image/png\";\n",
       "\n",
       "            /* Free the memory for the previous frames */\n",
       "            if (fig.imageObj.src) {\n",
       "                (window.URL || window.webkitURL).revokeObjectURL(\n",
       "                    fig.imageObj.src);\n",
       "            }\n",
       "\n",
       "            fig.imageObj.src = (window.URL || window.webkitURL).createObjectURL(\n",
       "                evt.data);\n",
       "            fig.updated_canvas_event();\n",
       "            fig.waiting = false;\n",
       "            return;\n",
       "        }\n",
       "        else if (typeof evt.data === 'string' && evt.data.slice(0, 21) == \"data:image/png;base64\") {\n",
       "            fig.imageObj.src = evt.data;\n",
       "            fig.updated_canvas_event();\n",
       "            fig.waiting = false;\n",
       "            return;\n",
       "        }\n",
       "\n",
       "        var msg = JSON.parse(evt.data);\n",
       "        var msg_type = msg['type'];\n",
       "\n",
       "        // Call the  \"handle_{type}\" callback, which takes\n",
       "        // the figure and JSON message as its only arguments.\n",
       "        try {\n",
       "            var callback = fig[\"handle_\" + msg_type];\n",
       "        } catch (e) {\n",
       "            console.log(\"No handler for the '\" + msg_type + \"' message type: \", msg);\n",
       "            return;\n",
       "        }\n",
       "\n",
       "        if (callback) {\n",
       "            try {\n",
       "                // console.log(\"Handling '\" + msg_type + \"' message: \", msg);\n",
       "                callback(fig, msg);\n",
       "            } catch (e) {\n",
       "                console.log(\"Exception inside the 'handler_\" + msg_type + \"' callback:\", e, e.stack, msg);\n",
       "            }\n",
       "        }\n",
       "    };\n",
       "}\n",
       "\n",
       "// from http://stackoverflow.com/questions/1114465/getting-mouse-location-in-canvas\n",
       "mpl.findpos = function(e) {\n",
       "    //this section is from http://www.quirksmode.org/js/events_properties.html\n",
       "    var targ;\n",
       "    if (!e)\n",
       "        e = window.event;\n",
       "    if (e.target)\n",
       "        targ = e.target;\n",
       "    else if (e.srcElement)\n",
       "        targ = e.srcElement;\n",
       "    if (targ.nodeType == 3) // defeat Safari bug\n",
       "        targ = targ.parentNode;\n",
       "\n",
       "    // jQuery normalizes the pageX and pageY\n",
       "    // pageX,Y are the mouse positions relative to the document\n",
       "    // offset() returns the position of the element relative to the document\n",
       "    var x = e.pageX - $(targ).offset().left;\n",
       "    var y = e.pageY - $(targ).offset().top;\n",
       "\n",
       "    return {\"x\": x, \"y\": y};\n",
       "};\n",
       "\n",
       "/*\n",
       " * return a copy of an object with only non-object keys\n",
       " * we need this to avoid circular references\n",
       " * http://stackoverflow.com/a/24161582/3208463\n",
       " */\n",
       "function simpleKeys (original) {\n",
       "  return Object.keys(original).reduce(function (obj, key) {\n",
       "    if (typeof original[key] !== 'object')\n",
       "        obj[key] = original[key]\n",
       "    return obj;\n",
       "  }, {});\n",
       "}\n",
       "\n",
       "mpl.figure.prototype.mouse_event = function(event, name) {\n",
       "    var canvas_pos = mpl.findpos(event)\n",
       "\n",
       "    if (name === 'button_press')\n",
       "    {\n",
       "        this.canvas.focus();\n",
       "        this.canvas_div.focus();\n",
       "    }\n",
       "\n",
       "    var x = canvas_pos.x;\n",
       "    var y = canvas_pos.y;\n",
       "\n",
       "    this.send_message(name, {x: x, y: y, button: event.button,\n",
       "                             step: event.step,\n",
       "                             guiEvent: simpleKeys(event)});\n",
       "\n",
       "    /* This prevents the web browser from automatically changing to\n",
       "     * the text insertion cursor when the button is pressed.  We want\n",
       "     * to control all of the cursor setting manually through the\n",
       "     * 'cursor' event from matplotlib */\n",
       "    event.preventDefault();\n",
       "    return false;\n",
       "}\n",
       "\n",
       "mpl.figure.prototype._key_event_extra = function(event, name) {\n",
       "    // Handle any extra behaviour associated with a key event\n",
       "}\n",
       "\n",
       "mpl.figure.prototype.key_event = function(event, name) {\n",
       "\n",
       "    // Prevent repeat events\n",
       "    if (name == 'key_press')\n",
       "    {\n",
       "        if (event.which === this._key)\n",
       "            return;\n",
       "        else\n",
       "            this._key = event.which;\n",
       "    }\n",
       "    if (name == 'key_release')\n",
       "        this._key = null;\n",
       "\n",
       "    var value = '';\n",
       "    if (event.ctrlKey && event.which != 17)\n",
       "        value += \"ctrl+\";\n",
       "    if (event.altKey && event.which != 18)\n",
       "        value += \"alt+\";\n",
       "    if (event.shiftKey && event.which != 16)\n",
       "        value += \"shift+\";\n",
       "\n",
       "    value += 'k';\n",
       "    value += event.which.toString();\n",
       "\n",
       "    this._key_event_extra(event, name);\n",
       "\n",
       "    this.send_message(name, {key: value,\n",
       "                             guiEvent: simpleKeys(event)});\n",
       "    return false;\n",
       "}\n",
       "\n",
       "mpl.figure.prototype.toolbar_button_onclick = function(name) {\n",
       "    if (name == 'download') {\n",
       "        this.handle_save(this, null);\n",
       "    } else {\n",
       "        this.send_message(\"toolbar_button\", {name: name});\n",
       "    }\n",
       "};\n",
       "\n",
       "mpl.figure.prototype.toolbar_button_onmouseover = function(tooltip) {\n",
       "    this.message.textContent = tooltip;\n",
       "};\n",
       "mpl.toolbar_items = [[\"Home\", \"Reset original view\", \"fa fa-home icon-home\", \"home\"], [\"Back\", \"Back to  previous view\", \"fa fa-arrow-left icon-arrow-left\", \"back\"], [\"Forward\", \"Forward to next view\", \"fa fa-arrow-right icon-arrow-right\", \"forward\"], [\"\", \"\", \"\", \"\"], [\"Pan\", \"Pan axes with left mouse, zoom with right\", \"fa fa-arrows icon-move\", \"pan\"], [\"Zoom\", \"Zoom to rectangle\", \"fa fa-square-o icon-check-empty\", \"zoom\"], [\"\", \"\", \"\", \"\"], [\"Download\", \"Download plot\", \"fa fa-floppy-o icon-save\", \"download\"]];\n",
       "\n",
       "mpl.extensions = [\"eps\", \"jpeg\", \"pdf\", \"png\", \"ps\", \"raw\", \"svg\", \"tif\"];\n",
       "\n",
       "mpl.default_extension = \"png\";var comm_websocket_adapter = function(comm) {\n",
       "    // Create a \"websocket\"-like object which calls the given IPython comm\n",
       "    // object with the appropriate methods. Currently this is a non binary\n",
       "    // socket, so there is still some room for performance tuning.\n",
       "    var ws = {};\n",
       "\n",
       "    ws.close = function() {\n",
       "        comm.close()\n",
       "    };\n",
       "    ws.send = function(m) {\n",
       "        //console.log('sending', m);\n",
       "        comm.send(m);\n",
       "    };\n",
       "    // Register the callback with on_msg.\n",
       "    comm.on_msg(function(msg) {\n",
       "        //console.log('receiving', msg['content']['data'], msg);\n",
       "        // Pass the mpl event to the overriden (by mpl) onmessage function.\n",
       "        ws.onmessage(msg['content']['data'])\n",
       "    });\n",
       "    return ws;\n",
       "}\n",
       "\n",
       "mpl.mpl_figure_comm = function(comm, msg) {\n",
       "    // This is the function which gets called when the mpl process\n",
       "    // starts-up an IPython Comm through the \"matplotlib\" channel.\n",
       "\n",
       "    var id = msg.content.data.id;\n",
       "    // Get hold of the div created by the display call when the Comm\n",
       "    // socket was opened in Python.\n",
       "    var element = $(\"#\" + id);\n",
       "    var ws_proxy = comm_websocket_adapter(comm)\n",
       "\n",
       "    function ondownload(figure, format) {\n",
       "        window.open(figure.imageObj.src);\n",
       "    }\n",
       "\n",
       "    var fig = new mpl.figure(id, ws_proxy,\n",
       "                           ondownload,\n",
       "                           element.get(0));\n",
       "\n",
       "    // Call onopen now - mpl needs it, as it is assuming we've passed it a real\n",
       "    // web socket which is closed, not our websocket->open comm proxy.\n",
       "    ws_proxy.onopen();\n",
       "\n",
       "    fig.parent_element = element.get(0);\n",
       "    fig.cell_info = mpl.find_output_cell(\"<div id='\" + id + \"'></div>\");\n",
       "    if (!fig.cell_info) {\n",
       "        console.error(\"Failed to find cell for figure\", id, fig);\n",
       "        return;\n",
       "    }\n",
       "\n",
       "    var output_index = fig.cell_info[2]\n",
       "    var cell = fig.cell_info[0];\n",
       "\n",
       "};\n",
       "\n",
       "mpl.figure.prototype.handle_close = function(fig, msg) {\n",
       "    fig.root.unbind('remove')\n",
       "\n",
       "    // Update the output cell to use the data from the current canvas.\n",
       "    fig.push_to_output();\n",
       "    var dataURL = fig.canvas.toDataURL();\n",
       "    // Re-enable the keyboard manager in IPython - without this line, in FF,\n",
       "    // the notebook keyboard shortcuts fail.\n",
       "    IPython.keyboard_manager.enable()\n",
       "    $(fig.parent_element).html('<img src=\"' + dataURL + '\">');\n",
       "    fig.close_ws(fig, msg);\n",
       "}\n",
       "\n",
       "mpl.figure.prototype.close_ws = function(fig, msg){\n",
       "    fig.send_message('closing', msg);\n",
       "    // fig.ws.close()\n",
       "}\n",
       "\n",
       "mpl.figure.prototype.push_to_output = function(remove_interactive) {\n",
       "    // Turn the data on the canvas into data in the output cell.\n",
       "    var dataURL = this.canvas.toDataURL();\n",
       "    this.cell_info[1]['text/html'] = '<img src=\"' + dataURL + '\">';\n",
       "}\n",
       "\n",
       "mpl.figure.prototype.updated_canvas_event = function() {\n",
       "    // Tell IPython that the notebook contents must change.\n",
       "    IPython.notebook.set_dirty(true);\n",
       "    this.send_message(\"ack\", {});\n",
       "    var fig = this;\n",
       "    // Wait a second, then push the new image to the DOM so\n",
       "    // that it is saved nicely (might be nice to debounce this).\n",
       "    setTimeout(function () { fig.push_to_output() }, 1000);\n",
       "}\n",
       "\n",
       "mpl.figure.prototype._init_toolbar = function() {\n",
       "    var fig = this;\n",
       "\n",
       "    var nav_element = $('<div/>')\n",
       "    nav_element.attr('style', 'width: 100%');\n",
       "    this.root.append(nav_element);\n",
       "\n",
       "    // Define a callback function for later on.\n",
       "    function toolbar_event(event) {\n",
       "        return fig.toolbar_button_onclick(event['data']);\n",
       "    }\n",
       "    function toolbar_mouse_event(event) {\n",
       "        return fig.toolbar_button_onmouseover(event['data']);\n",
       "    }\n",
       "\n",
       "    for(var toolbar_ind in mpl.toolbar_items){\n",
       "        var name = mpl.toolbar_items[toolbar_ind][0];\n",
       "        var tooltip = mpl.toolbar_items[toolbar_ind][1];\n",
       "        var image = mpl.toolbar_items[toolbar_ind][2];\n",
       "        var method_name = mpl.toolbar_items[toolbar_ind][3];\n",
       "\n",
       "        if (!name) { continue; };\n",
       "\n",
       "        var button = $('<button class=\"btn btn-default\" href=\"#\" title=\"' + name + '\"><i class=\"fa ' + image + ' fa-lg\"></i></button>');\n",
       "        button.click(method_name, toolbar_event);\n",
       "        button.mouseover(tooltip, toolbar_mouse_event);\n",
       "        nav_element.append(button);\n",
       "    }\n",
       "\n",
       "    // Add the status bar.\n",
       "    var status_bar = $('<span class=\"mpl-message\" style=\"text-align:right; float: right;\"/>');\n",
       "    nav_element.append(status_bar);\n",
       "    this.message = status_bar[0];\n",
       "\n",
       "    // Add the close button to the window.\n",
       "    var buttongrp = $('<div class=\"btn-group inline pull-right\"></div>');\n",
       "    var button = $('<button class=\"btn btn-mini btn-primary\" href=\"#\" title=\"Stop Interaction\"><i class=\"fa fa-power-off icon-remove icon-large\"></i></button>');\n",
       "    button.click(function (evt) { fig.handle_close(fig, {}); } );\n",
       "    button.mouseover('Stop Interaction', toolbar_mouse_event);\n",
       "    buttongrp.append(button);\n",
       "    var titlebar = this.root.find($('.ui-dialog-titlebar'));\n",
       "    titlebar.prepend(buttongrp);\n",
       "}\n",
       "\n",
       "mpl.figure.prototype._root_extra_style = function(el){\n",
       "    var fig = this\n",
       "    el.on(\"remove\", function(){\n",
       "\tfig.close_ws(fig, {});\n",
       "    });\n",
       "}\n",
       "\n",
       "mpl.figure.prototype._canvas_extra_style = function(el){\n",
       "    // this is important to make the div 'focusable\n",
       "    el.attr('tabindex', 0)\n",
       "    // reach out to IPython and tell the keyboard manager to turn it's self\n",
       "    // off when our div gets focus\n",
       "\n",
       "    // location in version 3\n",
       "    if (IPython.notebook.keyboard_manager) {\n",
       "        IPython.notebook.keyboard_manager.register_events(el);\n",
       "    }\n",
       "    else {\n",
       "        // location in version 2\n",
       "        IPython.keyboard_manager.register_events(el);\n",
       "    }\n",
       "\n",
       "}\n",
       "\n",
       "mpl.figure.prototype._key_event_extra = function(event, name) {\n",
       "    var manager = IPython.notebook.keyboard_manager;\n",
       "    if (!manager)\n",
       "        manager = IPython.keyboard_manager;\n",
       "\n",
       "    // Check for shift+enter\n",
       "    if (event.shiftKey && event.which == 13) {\n",
       "        this.canvas_div.blur();\n",
       "        event.shiftKey = false;\n",
       "        // Send a \"J\" for go to next cell\n",
       "        event.which = 74;\n",
       "        event.keyCode = 74;\n",
       "        manager.command_mode();\n",
       "        manager.handle_keydown(event);\n",
       "    }\n",
       "}\n",
       "\n",
       "mpl.figure.prototype.handle_save = function(fig, msg) {\n",
       "    fig.ondownload(fig, null);\n",
       "}\n",
       "\n",
       "\n",
       "mpl.find_output_cell = function(html_output) {\n",
       "    // Return the cell and output element which can be found *uniquely* in the notebook.\n",
       "    // Note - this is a bit hacky, but it is done because the \"notebook_saving.Notebook\"\n",
       "    // IPython event is triggered only after the cells have been serialised, which for\n",
       "    // our purposes (turning an active figure into a static one), is too late.\n",
       "    var cells = IPython.notebook.get_cells();\n",
       "    var ncells = cells.length;\n",
       "    for (var i=0; i<ncells; i++) {\n",
       "        var cell = cells[i];\n",
       "        if (cell.cell_type === 'code'){\n",
       "            for (var j=0; j<cell.output_area.outputs.length; j++) {\n",
       "                var data = cell.output_area.outputs[j];\n",
       "                if (data.data) {\n",
       "                    // IPython >= 3 moved mimebundle to data attribute of output\n",
       "                    data = data.data;\n",
       "                }\n",
       "                if (data['text/html'] == html_output) {\n",
       "                    return [cell, data, j];\n",
       "                }\n",
       "            }\n",
       "        }\n",
       "    }\n",
       "}\n",
       "\n",
       "// Register the function which deals with the matplotlib target/channel.\n",
       "// The kernel may be null if the page has been refreshed.\n",
       "if (IPython.notebook.kernel != null) {\n",
       "    IPython.notebook.kernel.comm_manager.register_target('matplotlib', mpl.mpl_figure_comm);\n",
       "}\n"
      ],
      "text/plain": [
       "<IPython.core.display.Javascript object>"
      ]
     },
     "metadata": {},
     "output_type": "display_data"
    },
    {
     "data": {
      "text/html": [
       "<img src=\"data:image/png;base64,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\">"
      ],
      "text/plain": [
       "<IPython.core.display.HTML object>"
      ]
     },
     "metadata": {},
     "output_type": "display_data"
    }
   ],
   "source": [
    "plt.figure()\n",
    "h = plt.plot(last_best_i, best_loss, 'b:o')[0]\n",
    "h_best = plt.plot(last_best_i, best_loss, 'g-o')[0]"
   ]
  },
  {
   "cell_type": "code",
   "execution_count": 78,
   "metadata": {
    "collapsed": false
   },
   "outputs": [],
   "source": [
    "for info in opt:\n",
    "    loss = optimizer_kwargs['num_loss'](opt.wrt, sample)\n",
    "    if opt.n_iter - last_best_i > 300:\n",
    "        break\n",
    "    if loss < best_loss:\n",
    "        last_best_i = opt.n_iter\n",
    "        best_loss = loss\n",
    "        best_params = opt.wrt\n",
    "        add_point(h_best, opt.n_iter, best_loss)\n",
    "    add_point(h, opt.n_iter, loss)"
   ]
  },
  {
   "cell_type": "code",
   "execution_count": 79,
   "metadata": {
    "collapsed": false
   },
   "outputs": [
    {
     "data": {
      "text/plain": [
       "5.8162158910069115"
      ]
     },
     "execution_count": 79,
     "metadata": {},
     "output_type": "execute_result"
    }
   ],
   "source": [
    "best_loss"
   ]
  },
  {
   "cell_type": "code",
   "execution_count": 80,
   "metadata": {
    "collapsed": false
   },
   "outputs": [],
   "source": [
    "params = q['parameters'] + q['parameters_positive']\n",
    "f_q_param = theano.function([flat_parameters], params)"
   ]
  },
  {
   "cell_type": "code",
   "execution_count": 81,
   "metadata": {
    "collapsed": false
   },
   "outputs": [
    {
     "data": {
      "text/plain": [
       "[('mean_centered', array(4.9365693502952785)),\n",
       " ('var_reparam', array(0.05294422399025088))]"
      ]
     },
     "execution_count": 81,
     "metadata": {},
     "output_type": "execute_result"
    }
   ],
   "source": [
    "zip(map(str, params), f_q_param(best_params))"
   ]
  },
  {
   "cell_type": "markdown",
   "metadata": {
    "collapsed": true
   },
   "source": [
    "We fortunately get roughly the parameters of the posterior. The variance seems overestimated, always, but still fine. Kind of a factor of two."
   ]
  },
  {
   "cell_type": "markdown",
   "metadata": {},
   "source": [
    "# Complex Posterior"
   ]
  },
  {
   "cell_type": "code",
   "execution_count": 31,
   "metadata": {
    "collapsed": false
   },
   "outputs": [],
   "source": [
    "x = tm.as_tensor_variable([0.5]) #T.vector()\n",
    "y = x + 0.3 * T.sin(2*np.pi*x)\n",
    "func = tm.Model(inputs=[x], outputs=y, name=\"sin\")"
   ]
  },
  {
   "cell_type": "code",
   "execution_count": 32,
   "metadata": {
    "collapsed": false
   },
   "outputs": [
    {
     "data": {
      "text/plain": [
       "Merge6 { 'inputs': [TensorConstant{(1,) of 0.5}], 'outputs': GaussianNoise.outputs}"
      ]
     },
     "execution_count": 32,
     "metadata": {},
     "output_type": "execute_result"
    }
   ],
   "source": [
    "likelihood = tm.Merge(pm.GaussianNoise(y, init_var=0.001), func, ignore_references={'parameters', 'parameters_positive'})\n",
    "likelihood"
   ]
  },
  {
   "cell_type": "code",
   "execution_count": 33,
   "metadata": {
    "collapsed": false
   },
   "outputs": [],
   "source": [
    "sampler = likelihood.function()\n",
    "data = np.array([sampler([0.5]) for n in range(1000)])"
   ]
  },
  {
   "cell_type": "markdown",
   "metadata": {},
   "source": [
    "---"
   ]
  },
  {
   "cell_type": "code",
   "execution_count": 34,
   "metadata": {
    "collapsed": false
   },
   "outputs": [],
   "source": [
    "prior = tm.fix_params(pm.DiagGauss(1, init_var=[1]))\n",
    "base_posterior = pm.DiagGauss(1)\n",
    "transform_posterior = dm.PlanarTransform()\n",
    "posterior = tm.normalizing_flow(transform_posterior, base_posterior)\n",
    "model = tm.variational_bayes(likelihood, 'inputs', posterior, priors=prior)"
   ]
  },
  {
   "cell_type": "code",
   "execution_count": 35,
   "metadata": {
    "collapsed": true
   },
   "outputs": [],
   "source": [
    "loss = tm.loss_variational(model)\n",
    "tm.reduce_all_identities()"
   ]
  },
  {
   "cell_type": "code",
   "execution_count": 36,
   "metadata": {
    "collapsed": false
   },
   "outputs": [
    {
     "data": {
      "text/plain": [
       "PlanarTransform { 'inputs': [DiagGauss2.outputs],\n",
       "  'norm_det': PlanarTransform.norm_det,\n",
       "  'outputs': PlanarTransform.outputs,\n",
       "  'parameters': [b, w, _u]}"
      ]
     },
     "execution_count": 36,
     "metadata": {},
     "output_type": "execute_result"
    }
   ],
   "source": [
    "transform_posterior"
   ]
  },
  {
   "cell_type": "code",
   "execution_count": 37,
   "metadata": {
    "collapsed": false
   },
   "outputs": [
    {
     "data": {
      "text/plain": [
       "Inverse_PlanarTransform { 'inputs': [PlanarTransform.outputs],\n",
       "  'norm_det': Inverse_PlanarTransform.norm_det,\n",
       "  'outputs': DiagGauss2.outputs,\n",
       "  'parameters': [b, w, _u]}"
      ]
     },
     "execution_count": 37,
     "metadata": {},
     "output_type": "execute_result"
    }
   ],
   "source": [
    "transform_posterior.inverse"
   ]
  },
  {
   "cell_type": "code",
   "execution_count": 38,
   "metadata": {
    "collapsed": false
   },
   "outputs": [
    {
     "data": {
      "text/plain": [
       "DiagGauss2.outputs"
      ]
     },
     "execution_count": 38,
     "metadata": {},
     "output_type": "execute_result"
    }
   ],
   "source": [
    "base_posterior['outputs']"
   ]
  },
  {
   "cell_type": "code",
   "execution_count": 39,
   "metadata": {
    "collapsed": true
   },
   "outputs": [],
   "source": [
    "_params = tm.prox_reparameterize(model['parameters_positive'], tm.squareplus, tm.squareplus_inv)\n",
    "centred = tm.prox_center(model['parameters'] + _params)\n",
    "flat = tm.prox_flatten(centred)"
   ]
  },
  {
   "cell_type": "code",
   "execution_count": 40,
   "metadata": {
    "collapsed": false
   },
   "outputs": [
    {
     "data": {
      "text/html": [
       "\n",
       "        <iframe\n",
       "            width=\"700\"\n",
       "            height=\"700\"\n",
       "            src=\"tmp/loss.html\"\n",
       "            frameborder=\"0\"\n",
       "            allowfullscreen\n",
       "        ></iframe>\n",
       "        "
      ],
      "text/plain": [
       "<IPython.lib.display.IFrame at 0x7f77e49eacd0>"
      ]
     },
     "execution_count": 40,
     "metadata": {},
     "output_type": "execute_result"
    }
   ],
   "source": [
    "tm.d3viz(loss, \"tmp/loss.html\")\n",
    "IFrame(\"tmp/loss.html\", width=700, height=700)"
   ]
  },
  {
   "cell_type": "code",
   "execution_count": 41,
   "metadata": {
    "collapsed": false
   },
   "outputs": [],
   "source": [
    "optimizer_kwargs = tm.numericalize(loss, flat,\n",
    "    batch_mapreduce=summap,\n",
    "    annealing_combiner=tm.AnnealingCombiner(),\n",
    "    adapt_init_params=lambda ps: ps + np.random.normal(size=ps.shape, scale=0.01),\n",
    ")\n",
    "opt = optimizer(\n",
    "    identifier=\"adadelta\",\n",
    "    **tm.climin_kwargs(optimizer_kwargs)\n",
    ")"
   ]
  },
  {
   "cell_type": "markdown",
   "metadata": {},
   "source": [
    "TODO Continue testing this"
   ]
  }
 ],
 "metadata": {
  "kernelspec": {
   "display_name": "Python 2",
   "language": "python",
   "name": "python2"
  },
  "language_info": {
   "codemirror_mode": {
    "name": "ipython",
    "version": 2
   },
   "file_extension": ".py",
   "mimetype": "text/x-python",
   "name": "python",
   "nbconvert_exporter": "python",
   "pygments_lexer": "ipython2",
   "version": "2.7.6"
  },
  "toc": {
   "toc_cell": false,
   "toc_number_sections": true,
   "toc_threshold": 4,
   "toc_window_display": true
  }
 },
 "nbformat": 4,
 "nbformat_minor": 0
}
