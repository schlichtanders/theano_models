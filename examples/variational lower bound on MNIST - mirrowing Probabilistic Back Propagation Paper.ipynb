{
 "cells": [
  {
   "cell_type": "code",
   "execution_count": 1,
   "metadata": {
    "collapsed": false,
    "scrolled": true
   },
   "outputs": [
    {
     "name": "stderr",
     "output_type": "stream",
     "text": [
      "/usr/local/lib/python2.7/dist-packages/matplotlib/font_manager.py:273: UserWarning: Matplotlib is building the font cache using fc-list. This may take a moment.\n",
      "  warnings.warn('Matplotlib is building the font cache using fc-list. This may take a moment.')\n"
     ]
    }
   ],
   "source": [
    "%matplotlib notebook\n",
    "from __future__ import division"
   ]
  },
  {
   "cell_type": "code",
   "execution_count": 2,
   "metadata": {
    "collapsed": false
   },
   "outputs": [
    {
     "name": "stdout",
     "output_type": "stream",
     "text": [
      "gnumpy: failed to import cudamat. Using npmat instead. No GPU will be used.\n"
     ]
    }
   ],
   "source": [
    "from matplotlib.pyplot import plot, ylabel, xlabel, yscale, xscale, legend, subplots, gca, gcf\n",
    "from matplotlib.ticker import FormatStrFormatter\n",
    "from theano import function\n",
    "import numpy as np\n",
    "import gzip\n",
    "import cPickle\n",
    "from scipy.optimize import minimize\n",
    "from climin.util import optimizer\n",
    "from itertools import repeat, cycle, islice, izip\n",
    "import random\n",
    "inf = float(\"inf\")"
   ]
  },
  {
   "cell_type": "code",
   "execution_count": 3,
   "metadata": {
    "collapsed": false
   },
   "outputs": [],
   "source": [
    "from breze.learn.data import one_hot\n",
    "from breze.learn.base import cast_array_to_local_type\n",
    "from schlichtanders.myfunctools import compose, meanmap, summap, compose_fmap, Average\n",
    "from schlichtanders import myfunctools\n",
    "from schlichtanders.mygenerators import eatN, chunk, chunk_list, every, takeN\n",
    "from schlichtanders.myplot import add_val, add_point"
   ]
  },
  {
   "cell_type": "code",
   "execution_count": 4,
   "metadata": {
    "collapsed": false
   },
   "outputs": [],
   "source": [
    "from theano_models import (Merge, Flatten, Reparameterize, reduce_all_identities,\n",
    "                           inputting_references, outputting_references)\n",
    "from theano_models.tools import (as_tensor_variable, total_size, clone, clone_all,PooledRandomStreams,\n",
    "                                 get_profile, squareplus, squareplus_inv, softplus, softplus_inv)\n",
    "from theano_models.visualization import d3viz\n",
    "from IPython.display import IFrame\n",
    "import theano_models.deterministic_models as dm\n",
    "import theano_models.probabilistic_models as pm\n",
    "import theano_models.extra_models as em\n",
    "import theano_models.postmaps as post\n",
    "from theano_models.composing import normalizing_flow, variational_bayes\n",
    "from theano_models import data"
   ]
  },
  {
   "cell_type": "code",
   "execution_count": 5,
   "metadata": {
    "collapsed": true
   },
   "outputs": [],
   "source": [
    "from sklearn import cross_validation\n",
    "import theano\n",
    "import theano.tensor as T\n",
    "from theano.printing import debugprint\n",
    "from theano.tensor.shared_randomstreams import RandomStreams"
   ]
  },
  {
   "cell_type": "code",
   "execution_count": 6,
   "metadata": {
    "collapsed": false
   },
   "outputs": [],
   "source": [
    "from sqlalchemy import Column, Integer, Unicode, UnicodeText, String, PickleType, Float, Boolean\n",
    "from sqlalchemy import create_engine\n",
    "from sqlalchemy.orm import sessionmaker\n",
    "from sqlalchemy.ext.declarative import declarative_base"
   ]
  },
  {
   "cell_type": "code",
   "execution_count": 7,
   "metadata": {
    "collapsed": false
   },
   "outputs": [],
   "source": [
    "import warnings\n",
    "warnings.filterwarnings(\"ignore\", category=DeprecationWarning)"
   ]
  },
  {
   "cell_type": "code",
   "execution_count": 8,
   "metadata": {
    "collapsed": false
   },
   "outputs": [
    {
     "data": {
      "text/plain": [
       "({'flat',\n",
       "  'inputs',\n",
       "  'n_data',\n",
       "  'noise',\n",
       "  'parameters',\n",
       "  'parameters_positive',\n",
       "  'parameters_psumto1',\n",
       "  'to_be_randomized'},\n",
       " {'kl_prior', 'logP', 'loglikelihood', 'norm_det', 'outputs'})"
      ]
     },
     "execution_count": 8,
     "metadata": {},
     "output_type": "execute_result"
    }
   ],
   "source": [
    "inputting_references.update(['to_be_randomized'])\n",
    "inputting_references, outputting_references"
   ]
  },
  {
   "cell_type": "code",
   "execution_count": 9,
   "metadata": {
    "collapsed": true
   },
   "outputs": [],
   "source": [
    "from schlichtanders.myobjects import NestedNamespace"
   ]
  },
  {
   "cell_type": "code",
   "execution_count": 10,
   "metadata": {
    "collapsed": true
   },
   "outputs": [],
   "source": [
    "pm.RNG = NestedNamespace(PooledRandomStreams(pool_size=int(5e8)), RandomStreams())"
   ]
  },
  {
   "cell_type": "markdown",
   "metadata": {},
   "source": [
    "# Data"
   ]
  },
  {
   "cell_type": "markdown",
   "metadata": {},
   "source": [
    "    # datasetnames = [\"boston\", \"concrete\", \"energy\", \"kin8nm\", \"naval\", \"powerplant\", \"protein\", \"winered\", \"yacht\", \"year\"]\n",
    "    datasetnames = [\"boston\", \"concrete\", \"energy\", \"kin8nm\", \"naval\", \"powerplant\", \"winered\", \"yacht\"]"
   ]
  },
  {
   "cell_type": "code",
   "execution_count": 11,
   "metadata": {
    "collapsed": true
   },
   "outputs": [],
   "source": [
    "datasetname = \"concrete\""
   ]
  },
  {
   "cell_type": "code",
   "execution_count": 12,
   "metadata": {
    "collapsed": true
   },
   "outputs": [],
   "source": [
    "Z, X = getattr(data, \"_\" + datasetname)()\n",
    "# normalization is standard in Probabilistic Backpropagation Paper\n",
    "X_mean = X.mean(0)\n",
    "X_std = X.std(0)\n",
    "X = (X - X_mean) / X_std\n",
    "Z_mean = Z.mean(0)\n",
    "Z_std = Z.std(0)\n",
    "Z = (Z - Z_mean) / Z_std"
   ]
  },
  {
   "cell_type": "code",
   "execution_count": 13,
   "metadata": {
    "collapsed": false
   },
   "outputs": [],
   "source": [
    "X, TX, Z, TZ = cross_validation.train_test_split(X, Z, test_size=0.1) # 10% test used in paper\n",
    "X, VX, Z, VZ = cross_validation.train_test_split(X, Z, test_size=0.1) # 20% validation used in paper"
   ]
  },
  {
   "cell_type": "markdown",
   "metadata": {},
   "source": [
    "# Hyperparameters"
   ]
  },
  {
   "cell_type": "code",
   "execution_count": 14,
   "metadata": {
    "collapsed": false
   },
   "outputs": [
    {
     "data": {
      "text/plain": [
       "{'_sa_instance_state': <sqlalchemy.orm.state.InstanceState at 0x7fcba8e6d910>,\n",
       " 'average_n': 1,\n",
       " 'best_parameters': None,\n",
       " 'best_val_loss': inf,\n",
       " 'datasetname': 'concrete',\n",
       " 'minus_log_s': 6,\n",
       " 'n_epochs': 100,\n",
       " 'n_normflows': 3,\n",
       " 'opt_decay': 0.8576338038637985,\n",
       " 'opt_identifier': 'adadelta',\n",
       " 'opt_momentum': 0.006865420271401792,\n",
       " 'opt_offset': 1e-08,\n",
       " 'opt_step_rate': 1,\n",
       " 'train_loss': [],\n",
       " 'units_per_layer': 50,\n",
       " 'val_loss': []}"
      ]
     },
     "execution_count": 14,
     "metadata": {},
     "output_type": "execute_result"
    }
   ],
   "source": [
    "engine = create_engine('sqlite:///hyperparameters_several.db')\n",
    "Base = declarative_base(bind=engine)\n",
    "\n",
    "class RandomHyper(Base):\n",
    "    __tablename__ = datasetname\n",
    "    id = Column(Integer, primary_key=True)\n",
    "    \n",
    "    # hyper parameters:\n",
    "    datasetname = Column(String)\n",
    "    n_epochs = Column(Integer)\n",
    "    average_n = Column(Integer)\n",
    "    units_per_layer = Column(Integer)\n",
    "    minus_log_s = Column(Integer)\n",
    "    batch_size = Column(Integer)\n",
    "    \n",
    "    n_normflows = Column(Integer)\n",
    "    \n",
    "    opt_identifier = Column(String)\n",
    "    opt_momentum = Column(Float)\n",
    "    opt_offset = Column(Float)\n",
    "    opt_decay = Column(Float)\n",
    "    opt_step_rate = Column(Float)\n",
    "    \n",
    "    # results:\n",
    "    best_val_loss = Column(Float)\n",
    "    best_parameters = Column(PickleType, nullable=True)\n",
    "    train_loss = Column(PickleType)\n",
    "    val_loss = Column(PickleType)\n",
    "\n",
    "    def __init__(self):\n",
    "        self.datasetname = datasetname\n",
    "        # hyper parameters:\n",
    "        self.n_epochs = 200\n",
    "        self.batch_size = 100\n",
    "        self.average_n = 1\n",
    "        self.units_per_layer = 50\n",
    "        self.minus_log_s = random.choice([1,2,3,4,5,6,7])\n",
    "        # the prior is learned together with the other models in analogy to the paper Probabilistic Backpropagation\n",
    "        \n",
    "        self.n_normflows = random.choice([1,2,3,4,8,32])\n",
    "        \n",
    "        self.opt_identifier = random.choice([\"adadelta\", \"adam\", \"rmsprop\"])\n",
    "        if self.opt_identifier == \"adadelta\":\n",
    "            self.opt_momentum = random.choice([np.random.uniform(0, 0.01), np.random.uniform(0.9, 1)])\n",
    "            self.opt_offset = random.choice([5e-5, 1e-8])\n",
    "            self.opt_step_rate = random.choice([1, 1e-3, 1e-4, 1e-5])\n",
    "        elif self.opt_identifier == \"adam\":\n",
    "            self.opt_momentum = random.choice([np.random.uniform(0, 0.01), np.random.uniform(0.8, 0.93)])\n",
    "            self.opt_offset = 10 ** -np.random.uniform(3, 4)\n",
    "            self.opt_step_rate = random.choice([1e-3, 1e-4, 1e-5])\n",
    "        elif self.opt_identifier == \"rmsprop\":\n",
    "            self.opt_momentum = random.choice([np.random.uniform(0.002, 0.008), np.random.uniform(0.9, 1)])\n",
    "            self.opt_offset = np.random.uniform(0, 0.000045)\n",
    "            self.opt_step_rate = random.choice([1e-3, 1e-4, 1e-5])\n",
    "        self.opt_decay = np.random.uniform(0.78, 1)\n",
    "        \n",
    "        self.init_results()\n",
    "    \n",
    "    def init_results(self):\n",
    "        # extra for being able to reset results for loaded hyperparameters\n",
    "        self.best_parameters = None\n",
    "        self.best_val_loss = inf\n",
    "        self.train_loss = []\n",
    "        self.val_loss = []\n",
    "\n",
    "Base.metadata.create_all()\n",
    "Session = sessionmaker(bind=engine)\n",
    "sql_session = Session()\n",
    "hyper = RandomHyper()\n",
    "hyper.__dict__"
   ]
  },
  {
   "cell_type": "markdown",
   "metadata": {},
   "source": [
    "# Model"
   ]
  },
  {
   "cell_type": "markdown",
   "metadata": {},
   "source": [
    "## data modelling"
   ]
  },
  {
   "cell_type": "code",
   "execution_count": 15,
   "metadata": {
    "collapsed": true
   },
   "outputs": [],
   "source": [
    "# this is extremely useful to tell everything the default sizes\n",
    "input = as_tensor_variable(X[0], name=\"X\")"
   ]
  },
  {
   "cell_type": "code",
   "execution_count": 16,
   "metadata": {
    "collapsed": false
   },
   "outputs": [
    {
     "data": {
      "text/plain": [
       "Mlp { 'inputs': [X],\n",
       "  'outputs': AffineNonlinear2.outputs,\n",
       "  'parameters': [weights, bias, weights2, bias2]}"
      ]
     },
     "execution_count": 16,
     "metadata": {},
     "output_type": "execute_result"
    }
   ],
   "source": [
    "predictor = dm.Mlp(\n",
    "    input=input,\n",
    "    output_size=Z.shape[1],\n",
    "    output_transfer='identity',\n",
    "    hidden_sizes=[hyper.units_per_layer]*1,\n",
    "    hidden_transfers=[\"rectifier\"]*1\n",
    ")\n",
    "predictor"
   ]
  },
  {
   "cell_type": "code",
   "execution_count": 17,
   "metadata": {
    "collapsed": false
   },
   "outputs": [
    {
     "data": {
      "text/plain": [
       "DiagGaussianNoise { 'inputs': [AffineNonlinear2.outputs],\n",
       "  'logP': <FunctionWrapper at 0x7fcba7f85bb0 for function at 0x7fcba7fbc5f0>,\n",
       "  'noise': [DiagGaussianNoise.noise.0],\n",
       "  'outputs': DiagGaussianNoise.outputs,\n",
       "  'parameters': [],\n",
       "  'parameters_positive': [var]}"
      ]
     },
     "execution_count": 17,
     "metadata": {},
     "output_type": "execute_result"
    }
   ],
   "source": [
    "target_distribution = pm.DiagGaussianNoise(predictor)\n",
    "target_distribution"
   ]
  },
  {
   "cell_type": "code",
   "execution_count": 18,
   "metadata": {
    "collapsed": false
   },
   "outputs": [
    {
     "data": {
      "text/plain": [
       "Merge { 'inputs': [X],\n",
       "  'logP': <FunctionWrapper at 0x7fcba7f85bb0 for function at 0x7fcba7fbc5f0>,\n",
       "  'noise': [DiagGaussianNoise.noise.0],\n",
       "  'outputs': DiagGaussianNoise.outputs,\n",
       "  'parameters': [],\n",
       "  'parameters_positive': [var],\n",
       "  'to_be_randomized': \"weights:bias:weights2:bias2\"}"
      ]
     },
     "execution_count": 18,
     "metadata": {},
     "output_type": "execute_result"
    }
   ],
   "source": [
    "targets = Merge(target_distribution, predictor, Flatten(predictor['parameters'], flat_key=\"to_be_randomized\"))\n",
    "targets"
   ]
  },
  {
   "cell_type": "markdown",
   "metadata": {},
   "source": [
    "## parameter modelling"
   ]
  },
  {
   "cell_type": "code",
   "execution_count": 19,
   "metadata": {
    "collapsed": false
   },
   "outputs": [
    {
     "data": {
      "text/plain": [
       "Gauss { 'inputs': [],\n",
       "  'logP': <FunctionWrapper at 0x7fcba25020c0 for function at 0x7fcba24f4c80>,\n",
       "  'noise': [GaussianNoise.noise.0],\n",
       "  'outputs': GaussianNoise.outputs,\n",
       "  'parameters': [mean],\n",
       "  'parameters_positive': [var2]}"
      ]
     },
     "execution_count": 19,
     "metadata": {},
     "output_type": "execute_result"
    }
   ],
   "source": [
    "params_base = pm.Gauss(output_size=total_size(targets['to_be_randomized']))  \n",
    "# if you want to use size directly, CAUTION, you need to copy before!\n",
    "# params_base.map('parameters_positive', reparameterize_map(squareplus, squareplus_inv), 'parameters')\n",
    "params_base"
   ]
  },
  {
   "cell_type": "code",
   "execution_count": 20,
   "metadata": {
    "collapsed": false
   },
   "outputs": [
    {
     "data": {
      "text/plain": [
       "[PlanarTransform { 'inputs': [z],\n",
       "   'norm_det': PlanarTransform.norm_det,\n",
       "   'outputs': PlanarTransform.outputs,\n",
       "   'parameters': [b, w, _u]}, PlanarTransform2 { 'inputs': [z2],\n",
       "   'norm_det': PlanarTransform2.norm_det,\n",
       "   'outputs': PlanarTransform2.outputs,\n",
       "   'parameters': [b2, w2, _u2]}, PlanarTransform3 { 'inputs': [z3],\n",
       "   'norm_det': PlanarTransform3.norm_det,\n",
       "   'outputs': PlanarTransform3.outputs,\n",
       "   'parameters': [b3, w3, _u3]}]"
      ]
     },
     "execution_count": 20,
     "metadata": {},
     "output_type": "execute_result"
    }
   ],
   "source": [
    "normflows = [dm.PlanarTransform() for _ in range(hyper.n_normflows)]\n",
    "normflows"
   ]
  },
  {
   "cell_type": "code",
   "execution_count": 21,
   "metadata": {
    "collapsed": false
   },
   "outputs": [
    {
     "data": {
      "text/plain": [
       "normalized_flow3 { 'inputs': [],\n",
       "  'logP': <FunctionWrapper at 0x7fcba24df3d0 for function at 0x7fcba2437e60>,\n",
       "  'noise': [GaussianNoise.noise.0],\n",
       "  'norm_det': PlanarTransform3.norm_det,\n",
       "  'outputs': PlanarTransform3.outputs,\n",
       "  'parameters': [b3, w3, _u3, b2, w2, _u2, b, w, _u, mean],\n",
       "  'parameters_positive': [var2]}"
      ]
     },
     "execution_count": 21,
     "metadata": {},
     "output_type": "execute_result"
    }
   ],
   "source": [
    "params = params_base\n",
    "for transform in normflows:\n",
    "    params = normalizing_flow(transform, params)  # returns transform, however with adapted logP    \n",
    "\n",
    "params"
   ]
  },
  {
   "cell_type": "markdown",
   "metadata": {},
   "source": [
    "## bayes"
   ]
  },
  {
   "cell_type": "code",
   "execution_count": 22,
   "metadata": {
    "collapsed": false
   },
   "outputs": [
    {
     "data": {
      "text/plain": [
       "Merge2 { 'inputs': [],\n",
       "  'logP': <FunctionWrapper at 0x7fcba24df600 for function at 0x7fcba2451410>,\n",
       "  'noise': [GaussianNoise2.noise.0],\n",
       "  'outputs': GaussianNoise2.outputs,\n",
       "  'parameters': [],\n",
       "  'parameters_positive': [var3]}"
      ]
     },
     "execution_count": 22,
     "metadata": {},
     "output_type": "execute_result"
    }
   ],
   "source": [
    "prior = pm.Gauss(total_size(targets['to_be_randomized']), init_var=np.exp(-7)) #np.exp(-2* hyper.minus_log_s))\n",
    "prior = Merge(prior,\n",
    "              parameters=None, # mean is not adapted at all, but left centred at zero\n",
    "#               parameters_positive='hyperparameters_positive'\n",
    "              # variance is adapted during optimization, starting relatively low\n",
    "             )\n",
    "prior"
   ]
  },
  {
   "cell_type": "code",
   "execution_count": 23,
   "metadata": {
    "collapsed": false
   },
   "outputs": [
    {
     "data": {
      "text/plain": [
       "variational_lower_bound { 'inputs': [X],\n",
       "  'kl_prior': kl_prior,\n",
       "  'logP': <FunctionWrapper at 0x7fcba24df7c0 for function at 0x7fcba246b050>,\n",
       "  'loglikelihood': <FunctionWrapper at 0x7fcba7f85bb0 for function at 0x7fcba7fbc5f0>,\n",
       "  'n_data': n_data,\n",
       "  'noise': [ DiagGaussianNoise.noise.0,\n",
       "             GaussianNoise.noise.0,\n",
       "             GaussianNoise2.noise.0],\n",
       "  'norm_det': PlanarTransform3.norm_det,\n",
       "  'outputs': DiagGaussianNoise.outputs,\n",
       "  'parameters': [b3, w3, _u3, b2, w2, _u2, b, w, _u, mean],\n",
       "  'parameters_positive': [var, var2, var3]}"
      ]
     },
     "execution_count": 23,
     "metadata": {},
     "output_type": "execute_result"
    }
   ],
   "source": [
    "model = variational_bayes(targets, 'to_be_randomized', params, priors=prior)\n",
    "model"
   ]
  },
  {
   "cell_type": "code",
   "execution_count": 24,
   "metadata": {
    "collapsed": false
   },
   "outputs": [
    {
     "data": {
      "text/plain": [
       "Merge4 { 'flat': \"b3:w3:_u3:b2:w2:_u2:b:w:_u:mean:var_softplus:var2_softplus:var3_softplus\",\n",
       "  'inputs': [X],\n",
       "  'kl_prior': kl_prior,\n",
       "  'logP': <FunctionWrapper at 0x7fcba24df7c0 for function at 0x7fcba246b050>,\n",
       "  'loglikelihood': <FunctionWrapper at 0x7fcba7f85bb0 for function at 0x7fcba7fbc5f0>,\n",
       "  'n_data': n_data,\n",
       "  'noise': [ DiagGaussianNoise.noise.0,\n",
       "             GaussianNoise.noise.0,\n",
       "             GaussianNoise2.noise.0],\n",
       "  'norm_det': PlanarTransform3.norm_det,\n",
       "  'outputs': DiagGaussianNoise.outputs,\n",
       "  'parameters': [],\n",
       "  'parameters_positive': []}"
      ]
     },
     "execution_count": 24,
     "metadata": {},
     "output_type": "execute_result"
    }
   ],
   "source": [
    "# model = Merge(model, Reparameterize(model['parameters_positive'], squareplus, squareplus_inv))\n",
    "# UncertainWeights uses softplus parameterization\n",
    "model = Merge(model, Reparameterize(model['parameters_positive'], softplus, softplus_inv))\n",
    "model = Merge(model, Flatten(model['parameters']))\n",
    "model"
   ]
  },
  {
   "cell_type": "markdown",
   "metadata": {},
   "source": [
    "# Optimizer"
   ]
  },
  {
   "cell_type": "code",
   "execution_count": 25,
   "metadata": {
    "collapsed": true
   },
   "outputs": [],
   "source": [
    "# dm.InvertibleModel.INVERTIBLE_MODELS\n",
    "reduce_all_identities()\n",
    "# dm.InvertibleModel.INVERTIBLE_MODELS"
   ]
  },
  {
   "cell_type": "markdown",
   "metadata": {},
   "source": [
    "Climin wants an iterator of (args, kwarsg) as keyword argument \"args\" (to be passed to the loss function). Concretley, we use an infinite iterator over minibatches."
   ]
  },
  {
   "cell_type": "code",
   "execution_count": 26,
   "metadata": {
    "collapsed": true
   },
   "outputs": [],
   "source": [
    "climin_args = izip(izip(cycle(Z), cycle(X)), repeat({}))\n",
    "\n",
    "def weights_regularizer_1epoch():\n",
    "    for i in range(1, X.shape[0]+1):\n",
    "        yield 2**(X.shape[0] - i) / (2**X.shape[0] - 1)\n",
    "        \n",
    "assert len(list(weights_regularizer_1epoch())) == X.shape[0]"
   ]
  },
  {
   "cell_type": "code",
   "execution_count": 27,
   "metadata": {
    "collapsed": false
   },
   "outputs": [
    {
     "data": {
      "text/plain": [
       "{'f': <function theano_models.postmaps.annealed>,\n",
       " 'fprime': <function theano_models.postmaps.annealed>,\n",
       " 'wrt': array([  1.21794735e-03,   1.01770858e+00,   9.97053563e-01, ...,\n",
       "          5.55795049e-01,   5.46592104e-01,  -7.00342909e+00])}"
      ]
     },
     "execution_count": 27,
     "metadata": {},
     "output_type": "execute_result"
    }
   ],
   "source": [
    "postmap = compose(post.flat_numericalize_postmap, post.variational_postmap) \n",
    "postmap_kwargs = {\n",
    "    # no mapreduce in analogy to Probabilistic Backpropagation Paper\n",
    "    'annealing_combiner': post.AnnealingCombiner(\n",
    "        weights_regularizer=cycle(weights_regularizer_1epoch())\n",
    "    ),\n",
    "    'adapt_init_params': lambda ps: ps + np.random.normal(size=ps.size, scale=0.01),\n",
    "#     'profile': True,\n",
    "    'mode': 'FAST_RUN'\n",
    "}\n",
    "optimizer_kwargs = postmap(model, **postmap_kwargs)\n",
    "climin_kwargs = post.climin_postmap(optimizer_kwargs)\n",
    "climin_kwargs"
   ]
  },
  {
   "cell_type": "code",
   "execution_count": 28,
   "metadata": {
    "collapsed": false
   },
   "outputs": [
    {
     "name": "stderr",
     "output_type": "stream",
     "text": [
      "/home/stephan/GitProjects/breze/src/climin/climin/util.py:151: UserWarning: Argument named f is not expected by <class 'climin.adadelta.Adadelta'>\n",
      "  % (i, klass))\n"
     ]
    }
   ],
   "source": [
    "opt = optimizer(\n",
    "    identifier=hyper.opt_identifier,\n",
    "    step_rate=hyper.opt_step_rate,\n",
    "    momentum=hyper.opt_momentum,\n",
    "    decay=hyper.opt_decay,\n",
    "    offset=hyper.opt_offset,\n",
    "    \n",
    "    args=climin_args,\n",
    "    **climin_kwargs\n",
    ")"
   ]
  },
  {
   "cell_type": "markdown",
   "metadata": {},
   "source": [
    "# Visualized Fit"
   ]
  },
  {
   "cell_type": "code",
   "execution_count": 29,
   "metadata": {
    "collapsed": false
   },
   "outputs": [
    {
     "data": {
      "text/plain": [
       "281844.59644509543"
      ]
     },
     "execution_count": 29,
     "metadata": {},
     "output_type": "execute_result"
    }
   ],
   "source": [
    "optimizer_kwargs['num_loss'](optimizer_kwargs['num_parameters'], VZ[0], VX[0], no_annealing=True)"
   ]
  },
  {
   "cell_type": "code",
   "execution_count": 30,
   "metadata": {
    "collapsed": false
   },
   "outputs": [
    {
     "data": {
      "text/plain": [
       "<IPython.core.display.Javascript object>"
      ]
     },
     "metadata": {},
     "output_type": "display_data"
    },
    {
     "data": {
      "text/html": [
       "<img src=\"data:image/png;base64,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\">"
      ],
      "text/plain": [
       "<IPython.core.display.HTML object>"
      ]
     },
     "metadata": {},
     "output_type": "execute_result"
    }
   ],
   "source": [
    "# plot: \n",
    "line_train, = plot([], [], 'go-', label=\"average training loss\")\n",
    "line_curr_val, = plot([],[], 'bo:', label=\"avrg current validation loss\")\n",
    "line_best_val, = plot([], [], 'ko-', label=\"avrg best validation loss\")\n",
    "# plt.ticklabel_format(style='sci', axis='y', scilimits=(0,0))\n",
    "yscale('log')\n",
    "gca().yaxis.set_minor_formatter(FormatStrFormatter(\"%.2g\"))\n",
    "ylabel(\"validation loss\")\n",
    "xlabel(\"#epoch\")\n",
    "legend(loc='lower left', fancybox=True, framealpha=0.5)\n",
    "\n",
    "# start values:\n",
    "val_loss = sum(\n",
    "    optimizer_kwargs['num_loss'](optimizer_kwargs['num_parameters'], vz, vx, no_annealing=True)\n",
    "    for vz, vx in izip(VZ , VX)\n",
    ") / len(VZ)\n",
    "training_loss = sum(\n",
    "    optimizer_kwargs['num_loss'](optimizer_kwargs['num_parameters'], z, x, no_annealing=True)\n",
    "    for z, x in izip(Z[:10], X[:10])\n",
    ") / 10\n",
    "start_epoch = opt.n_iter//X.shape[0]\n",
    "\n",
    "add_point(line_best_val, start_epoch, val_loss)\n",
    "add_point(line_curr_val, start_epoch, val_loss)\n",
    "add_point(line_train, start_epoch, training_loss)"
   ]
  },
  {
   "cell_type": "code",
   "execution_count": 36,
   "metadata": {
    "collapsed": false
   },
   "outputs": [],
   "source": [
    "for info in takeN(hyper.n_epochs, every(X.shape[0], opt)):\n",
    "    current_epoch = info['n_iter']//X.shape[0]\n",
    "    # collect and visualize validation loss for choosing the best model\n",
    "    val_loss = sum(\n",
    "        optimizer_kwargs['num_loss'](optimizer_kwargs['num_parameters'], vz, vx, no_annealing=True)\n",
    "        for vz, vx in izip(VZ , VX)\n",
    "    ) / len(VZ)\n",
    "    if val_loss < hyper.best_val_loss:\n",
    "        hyper.best_parameters = opt.wrt\n",
    "        hyper.best_val_loss = val_loss\n",
    "        add_point(line_best_val, current_epoch, val_loss)\n",
    "    hyper.val_loss.append(val_loss)\n",
    "    add_point(line_curr_val, current_epoch, val_loss)\n",
    "    \n",
    "    # visualize training loss for comparison:\n",
    "    training_loss = sum(\n",
    "        optimizer_kwargs['num_loss'](optimizer_kwargs['num_parameters'], z, x, no_annealing=True)\n",
    "        for z, x in izip(Z[:10], X[:10])\n",
    "    ) / len(Z[:10])\n",
    "    hyper.train_loss.append(training_loss)\n",
    "    add_point(line_train, current_epoch, training_loss)\n",
    "    \n",
    "#     print info['n_iter'], training_loss, val_loss, best_val_loss"
   ]
  },
  {
   "cell_type": "code",
   "execution_count": 32,
   "metadata": {
    "collapsed": true
   },
   "outputs": [],
   "source": [
    "sql_session.add(hyper)\n",
    "sql_session.commit()"
   ]
  },
  {
   "cell_type": "markdown",
   "metadata": {},
   "source": [
    "# Performance"
   ]
  },
  {
   "cell_type": "markdown",
   "metadata": {},
   "source": [
    "TODO: average over predictions"
   ]
  },
  {
   "cell_type": "code",
   "execution_count": 33,
   "metadata": {
    "collapsed": false
   },
   "outputs": [
    {
     "name": "stdout",
     "output_type": "stream",
     "text": [
      "11777.1685156\n",
      "fancy reshaping\n"
     ]
    },
    {
     "data": {
      "text/plain": [
       "(array([-0.04493144]), array([-0.701774], dtype=float32))"
      ]
     },
     "execution_count": 33,
     "metadata": {},
     "output_type": "execute_result"
    }
   ],
   "source": [
    "print hyper.best_val_loss\n",
    "model['flat'] = hyper.best_parameters\n",
    "\n",
    "predict = predictor.function()\n",
    "predict(X[0]), Z[0]"
   ]
  },
  {
   "cell_type": "code",
   "execution_count": 34,
   "metadata": {
    "collapsed": true
   },
   "outputs": [],
   "source": [
    "PX = np.apply_along_axis(predict, 1, X)\n",
    "PVX = np.apply_along_axis(predict, 1, VX)\n",
    "PTX = np.apply_along_axis(predict, 1, TX)"
   ]
  },
  {
   "cell_type": "code",
   "execution_count": 35,
   "metadata": {
    "collapsed": false
   },
   "outputs": [
    {
     "name": "stdout",
     "output_type": "stream",
     "text": [
      "concrete RMSE: train/val/test = 14.1812/13.9266/16.508\n"
     ]
    }
   ],
   "source": [
    "def RMSE(PX, Z):\n",
    "    return np.sqrt(((PX - Z) ** 2).mean())\n",
    "def nRMSE(PX, Z):\n",
    "    return RMSE(PX*Z_std + Z_mean, Z*Z_std + Z_mean)\n",
    "\n",
    "print '%s RMSE: train/val/test = %g/%g/%g' % (datasetname, nRMSE(PX, Z), nRMSE(PVX, VZ), nRMSE(PTX, TZ))"
   ]
  },
  {
   "cell_type": "code",
   "execution_count": null,
   "metadata": {
    "collapsed": true
   },
   "outputs": [],
   "source": [
    ""
   ]
  }
 ],
 "metadata": {
  "kernelspec": {
   "display_name": "Python 2",
   "language": "python",
   "name": "python2"
  },
  "language_info": {
   "codemirror_mode": {
    "name": "ipython",
    "version": 2.0
   },
   "file_extension": ".py",
   "mimetype": "text/x-python",
   "name": "python",
   "nbconvert_exporter": "python",
   "pygments_lexer": "ipython2",
   "version": "2.7.6"
  },
  "toc": {
   "toc_cell": false,
   "toc_number_sections": true,
   "toc_threshold": 4.0,
   "toc_window_display": false
  }
 },
 "nbformat": 4,
 "nbformat_minor": 0
}