{
 "cells": [
  {
   "cell_type": "code",
   "execution_count": 1,
   "metadata": {
    "collapsed": false,
    "scrolled": true
   },
   "outputs": [
    {
     "name": "stderr",
     "output_type": "stream",
     "text": [
      "/usr/local/lib/python2.7/dist-packages/matplotlib/font_manager.py:273: UserWarning: Matplotlib is building the font cache using fc-list. This may take a moment.\n",
      "  warnings.warn('Matplotlib is building the font cache using fc-list. This may take a moment.')\n"
     ]
    }
   ],
   "source": [
    "%matplotlib notebook\n",
    "from __future__ import division"
   ]
  },
  {
   "cell_type": "code",
   "execution_count": 2,
   "metadata": {
    "collapsed": false
   },
   "outputs": [
    {
     "name": "stdout",
     "output_type": "stream",
     "text": [
      "gnumpy: failed to import cudamat. Using npmat instead. No GPU will be used.\n"
     ]
    }
   ],
   "source": [
    "from matplotlib.pyplot import plot, ylabel, xlabel, yscale, xscale, legend, subplots, gca, gcf\n",
    "from matplotlib.ticker import FormatStrFormatter\n",
    "from theano import function\n",
    "import numpy as np\n",
    "import gzip\n",
    "import cPickle\n",
    "from scipy.optimize import minimize\n",
    "from climin.util import optimizer\n",
    "from itertools import repeat, cycle, islice, izip\n",
    "import random\n",
    "inf = float(\"inf\")"
   ]
  },
  {
   "cell_type": "code",
   "execution_count": 3,
   "metadata": {
    "collapsed": false
   },
   "outputs": [],
   "source": [
    "from breze.learn.data import one_hot\n",
    "from breze.learn.base import cast_array_to_local_type\n",
    "from schlichtanders.myfunctools import compose, meanmap, summap, compose_fmap, Average\n",
    "from schlichtanders import myfunctools\n",
    "from schlichtanders.mygenerators import eatN, chunk, chunk_list, every, takeN\n",
    "from schlichtanders.myplot import add_val, add_point"
   ]
  },
  {
   "cell_type": "code",
   "execution_count": 4,
   "metadata": {
    "collapsed": false
   },
   "outputs": [],
   "source": [
    "import theano_models as tm\n",
    "import theano_models.deterministic_models as dm\n",
    "import theano_models.probabilistic_models as pm\n",
    "from theano_models import data"
   ]
  },
  {
   "cell_type": "code",
   "execution_count": 5,
   "metadata": {
    "collapsed": true
   },
   "outputs": [],
   "source": [
    "from sklearn import cross_validation\n",
    "import theano\n",
    "import theano.tensor as T\n",
    "from theano.printing import debugprint\n",
    "from theano.tensor.shared_randomstreams import RandomStreams"
   ]
  },
  {
   "cell_type": "code",
   "execution_count": 6,
   "metadata": {
    "collapsed": false
   },
   "outputs": [],
   "source": [
    "from sqlalchemy import Column, Integer, Unicode, UnicodeText, String, PickleType, Float, Boolean\n",
    "from sqlalchemy import create_engine\n",
    "from sqlalchemy.orm import sessionmaker\n",
    "from sqlalchemy.ext.declarative import declarative_base"
   ]
  },
  {
   "cell_type": "code",
   "execution_count": 7,
   "metadata": {
    "collapsed": false
   },
   "outputs": [],
   "source": [
    "from IPython.display import IFrame\n",
    "import warnings\n",
    "warnings.filterwarnings(\"ignore\", category=DeprecationWarning)"
   ]
  },
  {
   "cell_type": "code",
   "execution_count": 8,
   "metadata": {
    "collapsed": false
   },
   "outputs": [
    {
     "data": {
      "text/plain": [
       "({'extra_inputs',\n",
       "  'flat',\n",
       "  'inputs',\n",
       "  'n_data',\n",
       "  'parameters',\n",
       "  'parameters_positive',\n",
       "  'parameters_psumto1',\n",
       "  'to_be_randomized'},\n",
       " {'kl_prior', 'loglikelihood', 'norm_det', 'norm_dets', 'outputs'})"
      ]
     },
     "execution_count": 8,
     "metadata": {},
     "output_type": "execute_result"
    }
   ],
   "source": [
    "tm.inputting_references.update(['to_be_randomized'])\n",
    "tm.inputting_references, tm.outputting_references"
   ]
  },
  {
   "cell_type": "code",
   "execution_count": 9,
   "metadata": {
    "collapsed": true
   },
   "outputs": [],
   "source": [
    "from schlichtanders.myobjects import NestedNamespace"
   ]
  },
  {
   "cell_type": "raw",
   "metadata": {
    "collapsed": true
   },
   "source": [
    "pm.RNG = NestedNamespace(tm.PooledRandomStreams(pool_size=int(5e8)), RandomStreams())"
   ]
  },
  {
   "cell_type": "markdown",
   "metadata": {},
   "source": [
    "# Data"
   ]
  },
  {
   "cell_type": "markdown",
   "metadata": {},
   "source": [
    "    # datasetnames = [\"boston\", \"concrete\", \"energy\", \"kin8nm\", \"naval\", \"powerplant\", \"protein\", \"winered\", \"yacht\", \"year\"]\n",
    "    datasetnames = [\"boston\", \"concrete\", \"energy\", \"kin8nm\", \"naval\", \"powerplant\", \"winered\", \"yacht\"]"
   ]
  },
  {
   "cell_type": "code",
   "execution_count": 10,
   "metadata": {
    "collapsed": true
   },
   "outputs": [],
   "source": [
    "datasetname = \"boston\""
   ]
  },
  {
   "cell_type": "code",
   "execution_count": 11,
   "metadata": {
    "collapsed": true
   },
   "outputs": [],
   "source": [
    "Z, X = getattr(data, \"_\" + datasetname)()\n",
    "# normalization is standard in Probabilistic Backpropagation Paper\n",
    "X_mean = X.mean(0)\n",
    "X_std = X.std(0)\n",
    "X = (X - X_mean) / X_std\n",
    "Z_mean = Z.mean(0)\n",
    "Z_std = Z.std(0)\n",
    "Z = (Z - Z_mean) / Z_std"
   ]
  },
  {
   "cell_type": "code",
   "execution_count": 12,
   "metadata": {
    "collapsed": false
   },
   "outputs": [],
   "source": [
    "X, TX, Z, TZ = cross_validation.train_test_split(X, Z, test_size=0.1) # 10% test used in paper\n",
    "X, VX, Z, VZ = cross_validation.train_test_split(X, Z, test_size=0.1) # 20% validation used in paper"
   ]
  },
  {
   "cell_type": "markdown",
   "metadata": {},
   "source": [
    "# Hyperparameters"
   ]
  },
  {
   "cell_type": "code",
   "execution_count": 13,
   "metadata": {
    "collapsed": false
   },
   "outputs": [
    {
     "data": {
      "text/plain": [
       "{'_sa_instance_state': <sqlalchemy.orm.state.InstanceState at 0x7ff960909210>,\n",
       " 'average_n': 1,\n",
       " 'batch_size': 100,\n",
       " 'best_parameters': None,\n",
       " 'best_val_loss': inf,\n",
       " 'datasetname': 'boston',\n",
       " 'max_epochs_without_improvement': 30,\n",
       " 'minus_log_s': 3,\n",
       " 'n_normflows': 3,\n",
       " 'opt_decay': 0.8499740195366509,\n",
       " 'opt_identifier': 'rmsprop',\n",
       " 'opt_momentum': 0.006111206966314149,\n",
       " 'opt_offset': 1.317180905368091e-05,\n",
       " 'opt_step_rate': 1e-05,\n",
       " 'train_loss': [],\n",
       " 'units_per_layer': 50,\n",
       " 'val_loss': []}"
      ]
     },
     "execution_count": 13,
     "metadata": {},
     "output_type": "execute_result"
    }
   ],
   "source": [
    "engine = create_engine('sqlite:///hyperparameters_several.db')\n",
    "Base = declarative_base(bind=engine)\n",
    "\n",
    "class RandomHyper(Base):\n",
    "    __tablename__ = datasetname\n",
    "    id = Column(Integer, primary_key=True)\n",
    "    \n",
    "    # hyper parameters:\n",
    "    datasetname = Column(String)\n",
    "    max_epochs_without_improvement = Column(Integer)\n",
    "    average_n = Column(Integer)\n",
    "    units_per_layer = Column(Integer)\n",
    "    minus_log_s = Column(Integer)\n",
    "    batch_size = Column(Integer)\n",
    "    \n",
    "    n_normflows = Column(Integer)\n",
    "    \n",
    "    opt_identifier = Column(String)\n",
    "    opt_momentum = Column(Float)\n",
    "    opt_offset = Column(Float)\n",
    "    opt_decay = Column(Float)\n",
    "    opt_step_rate = Column(Float)\n",
    "    \n",
    "    # results:\n",
    "    best_val_loss = Column(Float)\n",
    "    best_parameters = Column(PickleType, nullable=True)\n",
    "    train_loss = Column(PickleType)\n",
    "    val_loss = Column(PickleType)\n",
    "\n",
    "    def __init__(self):\n",
    "        self.datasetname = datasetname\n",
    "        # hyper parameters:\n",
    "        self.max_epochs_without_improvement = 30\n",
    "        self.batch_size = random.choice([1,10, 100])\n",
    "        self.average_n = 1\n",
    "        self.units_per_layer = 50\n",
    "        self.minus_log_s = random.choice([1,2,3,4,5,6,7])\n",
    "        # the prior is learned together with the other models in analogy to the paper Probabilistic Backpropagation\n",
    "        \n",
    "        self.n_normflows = random.choice([1,2,3,4,8,32])\n",
    "        \n",
    "        self.opt_identifier = random.choice([\"adadelta\", \"adam\", \"rmsprop\"])\n",
    "        if self.opt_identifier == \"adadelta\":\n",
    "            self.opt_momentum = random.choice([np.random.uniform(0, 0.01), np.random.uniform(0.9, 1)])\n",
    "            self.opt_offset = random.choice([5e-5, 1e-8])\n",
    "            self.opt_step_rate = random.choice([1, 1e-1, 1e-2, 1e-3, 1e-4, 1e-5])\n",
    "        elif self.opt_identifier == \"adam\":\n",
    "            self.opt_momentum = random.choice([np.random.uniform(0, 0.01), np.random.uniform(0.8, 0.93)])\n",
    "            self.opt_offset = 10 ** -np.random.uniform(3, 4)\n",
    "            self.opt_step_rate = random.choice([1e-1, 1e-2, 1e-3, 1e-4, 1e-5])\n",
    "        elif self.opt_identifier == \"rmsprop\":\n",
    "            self.opt_momentum = random.choice([np.random.uniform(0.002, 0.008), np.random.uniform(0.9, 1)])\n",
    "            self.opt_offset = np.random.uniform(0, 0.000045)\n",
    "            self.opt_step_rate = random.choice([1e-1, 1e-2, 1e-3, 1e-4, 1e-5])\n",
    "        self.opt_decay = np.random.uniform(0.78, 1)\n",
    "        \n",
    "        self.init_results()\n",
    "    \n",
    "    def init_results(self):\n",
    "        # extra for being able to reset results for loaded hyperparameters\n",
    "        self.best_parameters = None\n",
    "        self.best_val_loss = inf\n",
    "        self.train_loss = []\n",
    "        self.val_loss = []\n",
    "\n",
    "Base.metadata.create_all()\n",
    "Session = sessionmaker(bind=engine)\n",
    "sql_session = Session()\n",
    "hyper = RandomHyper()\n",
    "hyper.__dict__"
   ]
  },
  {
   "cell_type": "markdown",
   "metadata": {},
   "source": [
    "# Model"
   ]
  },
  {
   "cell_type": "markdown",
   "metadata": {},
   "source": [
    "## data modelling"
   ]
  },
  {
   "cell_type": "code",
   "execution_count": 14,
   "metadata": {
    "collapsed": true
   },
   "outputs": [],
   "source": [
    "# this is extremely useful to tell everything the default sizes\n",
    "input = tm.as_tensor_variable(X[0], name=\"X\")"
   ]
  },
  {
   "cell_type": "code",
   "execution_count": 15,
   "metadata": {
    "collapsed": false
   },
   "outputs": [
    {
     "data": {
      "text/plain": [
       "Mlp { 'inputs': [X],\n",
       "  'outputs': AffineNonlinear2.outputs,\n",
       "  'parameters': [weights, bias, weights2, bias2]}"
      ]
     },
     "execution_count": 15,
     "metadata": {},
     "output_type": "execute_result"
    }
   ],
   "source": [
    "predictor = dm.Mlp(\n",
    "    input=input,\n",
    "    output_size=Z.shape[1],\n",
    "    output_transfer='identity',\n",
    "    hidden_sizes=[hyper.units_per_layer]*1,\n",
    "    hidden_transfers=[\"rectifier\"]*1\n",
    ")\n",
    "predictor"
   ]
  },
  {
   "cell_type": "code",
   "execution_count": 16,
   "metadata": {
    "collapsed": false
   },
   "outputs": [
    {
     "data": {
      "text/plain": [
       "DiagGaussianNoise { 'inputs': [AffineNonlinear2.outputs],\n",
       "  'outputs': DiagGaussianNoise.outputs,\n",
       "  'parameters': [],\n",
       "  'parameters_positive': [var]}"
      ]
     },
     "execution_count": 16,
     "metadata": {},
     "output_type": "execute_result"
    }
   ],
   "source": [
    "target_distribution = pm.DiagGaussianNoise(predictor)\n",
    "target_distribution"
   ]
  },
  {
   "cell_type": "code",
   "execution_count": 17,
   "metadata": {
    "collapsed": false
   },
   "outputs": [
    {
     "data": {
      "text/plain": [
       "Merge2 { 'inputs': [X],\n",
       "  'outputs': DiagGaussianNoise.outputs,\n",
       "  'parameters': [],\n",
       "  'parameters_positive': [var],\n",
       "  'to_be_randomized': \"weights:bias:weights2:bias2\"}"
      ]
     },
     "execution_count": 17,
     "metadata": {},
     "output_type": "execute_result"
    }
   ],
   "source": [
    "targets = tm.Merge(target_distribution, predictor, tm.Flatten(predictor['parameters'], flat_key=\"to_be_randomized\"))\n",
    "targets"
   ]
  },
  {
   "cell_type": "markdown",
   "metadata": {},
   "source": [
    "## parameter modelling"
   ]
  },
  {
   "cell_type": "code",
   "execution_count": 18,
   "metadata": {
    "collapsed": false
   },
   "outputs": [
    {
     "data": {
      "text/plain": [
       "Gauss { 'inputs': [],\n",
       "  'outputs': Gauss.outputs,\n",
       "  'parameters': [mean],\n",
       "  'parameters_positive': [var]}"
      ]
     },
     "execution_count": 18,
     "metadata": {},
     "output_type": "execute_result"
    }
   ],
   "source": [
    "params_base = pm.Gauss(output_shape=(tm.total_size(targets['to_be_randomized']),))  \n",
    "# if you want to use size directly, CAUTION, you need to copy before!\n",
    "# params_base.map('parameters_positive', reparameterize_map(squareplus, squareplus_inv), 'parameters')\n",
    "params_base"
   ]
  },
  {
   "cell_type": "code",
   "execution_count": 19,
   "metadata": {
    "collapsed": false
   },
   "outputs": [
    {
     "data": {
      "text/plain": [
       "[PlanarTransform { 'inputs': [PlanarTransform.inputs.0],\n",
       "   'norm_det': PlanarTransform.norm_det,\n",
       "   'outputs': PlanarTransform.outputs,\n",
       "   'parameters': [b, w, _u]},\n",
       " PlanarTransform2 { 'inputs': [PlanarTransform2.inputs.0],\n",
       "   'norm_det': PlanarTransform2.norm_det,\n",
       "   'outputs': PlanarTransform2.outputs,\n",
       "   'parameters': [b2, w, _u2]},\n",
       " PlanarTransform3 { 'inputs': [PlanarTransform3.inputs.0],\n",
       "   'norm_det': PlanarTransform3.norm_det,\n",
       "   'outputs': PlanarTransform3.outputs,\n",
       "   'parameters': [b3, w, _u3]}]"
      ]
     },
     "execution_count": 19,
     "metadata": {},
     "output_type": "execute_result"
    }
   ],
   "source": [
    "normflows = [dm.PlanarTransform() for _ in range(hyper.n_normflows)]\n",
    "normflows"
   ]
  },
  {
   "cell_type": "code",
   "execution_count": 20,
   "metadata": {
    "collapsed": false
   },
   "outputs": [
    {
     "data": {
      "text/plain": [
       "normalized_flow3 { 'inputs': [],\n",
       "  'norm_det': PlanarTransform3.norm_det,\n",
       "  'outputs': PlanarTransform3.outputs,\n",
       "  'parameters': [b3, w, _u3, b2, w, _u2, b, w, _u, mean],\n",
       "  'parameters_positive': [var]}"
      ]
     },
     "execution_count": 20,
     "metadata": {},
     "output_type": "execute_result"
    }
   ],
   "source": [
    "params = params_base\n",
    "for transform in normflows:\n",
    "    params = tm.normalizing_flow(transform, params)  # returns transform, however with adapted logP    \n",
    "\n",
    "params"
   ]
  },
  {
   "cell_type": "markdown",
   "metadata": {},
   "source": [
    "## bayes"
   ]
  },
  {
   "cell_type": "code",
   "execution_count": 21,
   "metadata": {
    "collapsed": false
   },
   "outputs": [
    {
     "data": {
      "text/plain": [
       "Gauss2_fixed { 'inputs': [], 'outputs': Gauss2.outputs}"
      ]
     },
     "execution_count": 21,
     "metadata": {},
     "output_type": "execute_result"
    }
   ],
   "source": [
    "prior = pm.Gauss(tm.total_size(targets['to_be_randomized']), init_var=np.exp(-2* hyper.minus_log_s))\n",
    "prior = tm.fix_params(prior)\n",
    "prior"
   ]
  },
  {
   "cell_type": "code",
   "execution_count": 22,
   "metadata": {
    "collapsed": false
   },
   "outputs": [
    {
     "data": {
      "text/plain": [
       "variational_lower_bound { 'inputs': [X],\n",
       "  'kl_prior': variational_lower_bound.kl_prior,\n",
       "  'logposterior': variational_lower_bound.logposterior,\n",
       "  'logprior': variational_lower_bound.logprior,\n",
       "  'n_data': n_data,\n",
       "  'norm_det': PlanarTransform3.norm_det,\n",
       "  'outputs': DiagGaussianNoise.outputs,\n",
       "  'parameters': [b3, w, _u3, b2, w, _u2, b, w, _u, mean],\n",
       "  'parameters_positive': [var, var]}"
      ]
     },
     "execution_count": 22,
     "metadata": {},
     "output_type": "execute_result"
    }
   ],
   "source": [
    "model = tm.variational_bayes(targets, 'to_be_randomized', params, priors=prior)\n",
    "model"
   ]
  },
  {
   "cell_type": "code",
   "execution_count": 23,
   "metadata": {
    "collapsed": false
   },
   "outputs": [
    {
     "data": {
      "text/plain": [
       "Merge6 { 'flat': \"b3:w:_u3:b2:w:_u2:b:w:_u:mean:var_softplus:var_softplus\",\n",
       "  'inputs': [X],\n",
       "  'kl_prior': variational_lower_bound.kl_prior,\n",
       "  'logposterior': variational_lower_bound.logposterior,\n",
       "  'logprior': variational_lower_bound.logprior,\n",
       "  'n_data': n_data,\n",
       "  'norm_det': PlanarTransform3.norm_det,\n",
       "  'outputs': DiagGaussianNoise.outputs,\n",
       "  'parameters': [],\n",
       "  'parameters_positive': []}"
      ]
     },
     "execution_count": 23,
     "metadata": {},
     "output_type": "execute_result"
    }
   ],
   "source": [
    "# model = Merge(model, Reparameterize(model['parameters_positive'], squareplus, squareplus_inv))\n",
    "# UncertainWeights uses softplus parameterization\n",
    "_model = model\n",
    "_model = tm.Merge(_model, tm.Reparameterize(_model['parameters_positive'], tm.softplus, tm.softplus_inv))\n",
    "_model = tm.Merge(_model, tm.Flatten(_model['parameters']))\n",
    "_model"
   ]
  },
  {
   "cell_type": "markdown",
   "metadata": {},
   "source": [
    "# Optimizer"
   ]
  },
  {
   "cell_type": "code",
   "execution_count": 24,
   "metadata": {
    "collapsed": false
   },
   "outputs": [
    {
     "data": {
      "text/plain": [
       "Merge6.loss_variational { 'flat': \"b3:w:_u3:b2:w:_u2:b:w:_u:mean:var_softplus:var_softplus\",\n",
       "  'inputs': [rv, X],\n",
       "  'logposterior': variational_lower_bound.logposterior,\n",
       "  'logprior': variational_lower_bound.logprior,\n",
       "  'loss_data': Merge6.loss_variational.loss_data,\n",
       "  'loss_regularizer': variational_lower_bound.kl_prior,\n",
       "  'n_data': n_data,\n",
       "  'outputs': Merge6.loss_variational.outputs,\n",
       "  'parameters': [],\n",
       "  'parameters_positive': []}"
      ]
     },
     "execution_count": 24,
     "metadata": {},
     "output_type": "execute_result"
    }
   ],
   "source": [
    "loss = tm.loss_variational(_model)\n",
    "tm.reduce_all_identities()\n",
    "loss"
   ]
  },
  {
   "cell_type": "markdown",
   "metadata": {},
   "source": [
    "Climin wants an iterator of (args, kwarsg) as keyword argument \"args\" (to be passed to the loss function). Concretley, we use an infinite iterator over minibatches."
   ]
  },
  {
   "cell_type": "code",
   "execution_count": 31,
   "metadata": {
    "collapsed": false
   },
   "outputs": [],
   "source": [
    "n_batches = X.shape[0] // hyper.batch_size  # after this many steps we went through the whole data set once\n",
    "climin_args = izip(izip(chunk(hyper.batch_size, cycle(Z)), chunk(hyper.batch_size, cycle(X))), repeat({}))\n",
    "\n",
    "def weights_regularizer_1epoch():\n",
    "    for i in range(1, n_batches+1):\n",
    "        yield 2**(n_batches - i) / (2**n_batches - 1)\n",
    "        \n",
    "assert len(list(weights_regularizer_1epoch())) == n_batches\n",
    "\n",
    "optimizer_kwargs = tm.numericalize(loss, _model['flat'],\n",
    "    # no mapreduce in analogy to Probabilistic Backpropagation Paper\n",
    "    batch_mapreduce=summap,\n",
    "    annealing_combiner=tm.AnnealingCombiner(\n",
    "        weights_regularizer=cycle(weights_regularizer_1epoch())\n",
    "    ),\n",
    "    adapt_init_params=lambda ps: ps + np.random.normal(size=ps.size, scale=0.01),\n",
    "#     profile=True,\n",
    "#     mode='FAST_COMPILE',\n",
    ")"
   ]
  },
  {
   "cell_type": "code",
   "execution_count": 32,
   "metadata": {
    "collapsed": false
   },
   "outputs": [],
   "source": [
    "opt = optimizer(\n",
    "    identifier=hyper.opt_identifier,\n",
    "    step_rate=hyper.opt_step_rate,\n",
    "    momentum=hyper.opt_momentum,\n",
    "    decay=hyper.opt_decay,\n",
    "    offset=hyper.opt_offset,\n",
    "    \n",
    "    args=climin_args,\n",
    "    **tm.climin_kwargs(optimizer_kwargs)\n",
    ")"
   ]
  },
  {
   "cell_type": "markdown",
   "metadata": {},
   "source": [
    "# Visualized Fit"
   ]
  },
  {
   "cell_type": "code",
   "execution_count": 38,
   "metadata": {
    "collapsed": false
   },
   "outputs": [
    {
     "data": {
      "text/plain": [
       "917945.86837658356"
      ]
     },
     "execution_count": 38,
     "metadata": {},
     "output_type": "execute_result"
    }
   ],
   "source": [
    "optimizer_kwargs['num_loss'](opt.wrt, VZ[:10], VX[:10], no_annealing=True)"
   ]
  },
  {
   "cell_type": "code",
   "execution_count": 39,
   "metadata": {
    "collapsed": false
   },
   "outputs": [
    {
     "data": {
      "application/javascript": [
       "/* Put everything inside the global mpl namespace */\n",
       "window.mpl = {};\n",
       "\n",
       "mpl.get_websocket_type = function() {\n",
       "    if (typeof(WebSocket) !== 'undefined') {\n",
       "        return WebSocket;\n",
       "    } else if (typeof(MozWebSocket) !== 'undefined') {\n",
       "        return MozWebSocket;\n",
       "    } else {\n",
       "        alert('Your browser does not have WebSocket support.' +\n",
       "              'Please try Chrome, Safari or Firefox ≥ 6. ' +\n",
       "              'Firefox 4 and 5 are also supported but you ' +\n",
       "              'have to enable WebSockets in about:config.');\n",
       "    };\n",
       "}\n",
       "\n",
       "mpl.figure = function(figure_id, websocket, ondownload, parent_element) {\n",
       "    this.id = figure_id;\n",
       "\n",
       "    this.ws = websocket;\n",
       "\n",
       "    this.supports_binary = (this.ws.binaryType != undefined);\n",
       "\n",
       "    if (!this.supports_binary) {\n",
       "        var warnings = document.getElementById(\"mpl-warnings\");\n",
       "        if (warnings) {\n",
       "            warnings.style.display = 'block';\n",
       "            warnings.textContent = (\n",
       "                \"This browser does not support binary websocket messages. \" +\n",
       "                    \"Performance may be slow.\");\n",
       "        }\n",
       "    }\n",
       "\n",
       "    this.imageObj = new Image();\n",
       "\n",
       "    this.context = undefined;\n",
       "    this.message = undefined;\n",
       "    this.canvas = undefined;\n",
       "    this.rubberband_canvas = undefined;\n",
       "    this.rubberband_context = undefined;\n",
       "    this.format_dropdown = undefined;\n",
       "\n",
       "    this.image_mode = 'full';\n",
       "\n",
       "    this.root = $('<div/>');\n",
       "    this._root_extra_style(this.root)\n",
       "    this.root.attr('style', 'display: inline-block');\n",
       "\n",
       "    $(parent_element).append(this.root);\n",
       "\n",
       "    this._init_header(this);\n",
       "    this._init_canvas(this);\n",
       "    this._init_toolbar(this);\n",
       "\n",
       "    var fig = this;\n",
       "\n",
       "    this.waiting = false;\n",
       "\n",
       "    this.ws.onopen =  function () {\n",
       "            fig.send_message(\"supports_binary\", {value: fig.supports_binary});\n",
       "            fig.send_message(\"send_image_mode\", {});\n",
       "            fig.send_message(\"refresh\", {});\n",
       "        }\n",
       "\n",
       "    this.imageObj.onload = function() {\n",
       "            if (fig.image_mode == 'full') {\n",
       "                // Full images could contain transparency (where diff images\n",
       "                // almost always do), so we need to clear the canvas so that\n",
       "                // there is no ghosting.\n",
       "                fig.context.clearRect(0, 0, fig.canvas.width, fig.canvas.height);\n",
       "            }\n",
       "            fig.context.drawImage(fig.imageObj, 0, 0);\n",
       "        };\n",
       "\n",
       "    this.imageObj.onunload = function() {\n",
       "        this.ws.close();\n",
       "    }\n",
       "\n",
       "    this.ws.onmessage = this._make_on_message_function(this);\n",
       "\n",
       "    this.ondownload = ondownload;\n",
       "}\n",
       "\n",
       "mpl.figure.prototype._init_header = function() {\n",
       "    var titlebar = $(\n",
       "        '<div class=\"ui-dialog-titlebar ui-widget-header ui-corner-all ' +\n",
       "        'ui-helper-clearfix\"/>');\n",
       "    var titletext = $(\n",
       "        '<div class=\"ui-dialog-title\" style=\"width: 100%; ' +\n",
       "        'text-align: center; padding: 3px;\"/>');\n",
       "    titlebar.append(titletext)\n",
       "    this.root.append(titlebar);\n",
       "    this.header = titletext[0];\n",
       "}\n",
       "\n",
       "\n",
       "\n",
       "mpl.figure.prototype._canvas_extra_style = function(canvas_div) {\n",
       "\n",
       "}\n",
       "\n",
       "\n",
       "mpl.figure.prototype._root_extra_style = function(canvas_div) {\n",
       "\n",
       "}\n",
       "\n",
       "mpl.figure.prototype._init_canvas = function() {\n",
       "    var fig = this;\n",
       "\n",
       "    var canvas_div = $('<div/>');\n",
       "\n",
       "    canvas_div.attr('style', 'position: relative; clear: both; outline: 0');\n",
       "\n",
       "    function canvas_keyboard_event(event) {\n",
       "        return fig.key_event(event, event['data']);\n",
       "    }\n",
       "\n",
       "    canvas_div.keydown('key_press', canvas_keyboard_event);\n",
       "    canvas_div.keyup('key_release', canvas_keyboard_event);\n",
       "    this.canvas_div = canvas_div\n",
       "    this._canvas_extra_style(canvas_div)\n",
       "    this.root.append(canvas_div);\n",
       "\n",
       "    var canvas = $('<canvas/>');\n",
       "    canvas.addClass('mpl-canvas');\n",
       "    canvas.attr('style', \"left: 0; top: 0; z-index: 0; outline: 0\")\n",
       "\n",
       "    this.canvas = canvas[0];\n",
       "    this.context = canvas[0].getContext(\"2d\");\n",
       "\n",
       "    var rubberband = $('<canvas/>');\n",
       "    rubberband.attr('style', \"position: absolute; left: 0; top: 0; z-index: 1;\")\n",
       "\n",
       "    var pass_mouse_events = true;\n",
       "\n",
       "    canvas_div.resizable({\n",
       "        start: function(event, ui) {\n",
       "            pass_mouse_events = false;\n",
       "        },\n",
       "        resize: function(event, ui) {\n",
       "            fig.request_resize(ui.size.width, ui.size.height);\n",
       "        },\n",
       "        stop: function(event, ui) {\n",
       "            pass_mouse_events = true;\n",
       "            fig.request_resize(ui.size.width, ui.size.height);\n",
       "        },\n",
       "    });\n",
       "\n",
       "    function mouse_event_fn(event) {\n",
       "        if (pass_mouse_events)\n",
       "            return fig.mouse_event(event, event['data']);\n",
       "    }\n",
       "\n",
       "    rubberband.mousedown('button_press', mouse_event_fn);\n",
       "    rubberband.mouseup('button_release', mouse_event_fn);\n",
       "    // Throttle sequential mouse events to 1 every 20ms.\n",
       "    rubberband.mousemove('motion_notify', mouse_event_fn);\n",
       "\n",
       "    rubberband.mouseenter('figure_enter', mouse_event_fn);\n",
       "    rubberband.mouseleave('figure_leave', mouse_event_fn);\n",
       "\n",
       "    canvas_div.on(\"wheel\", function (event) {\n",
       "        event = event.originalEvent;\n",
       "        event['data'] = 'scroll'\n",
       "        if (event.deltaY < 0) {\n",
       "            event.step = 1;\n",
       "        } else {\n",
       "            event.step = -1;\n",
       "        }\n",
       "        mouse_event_fn(event);\n",
       "    });\n",
       "\n",
       "    canvas_div.append(canvas);\n",
       "    canvas_div.append(rubberband);\n",
       "\n",
       "    this.rubberband = rubberband;\n",
       "    this.rubberband_canvas = rubberband[0];\n",
       "    this.rubberband_context = rubberband[0].getContext(\"2d\");\n",
       "    this.rubberband_context.strokeStyle = \"#000000\";\n",
       "\n",
       "    this._resize_canvas = function(width, height) {\n",
       "        // Keep the size of the canvas, canvas container, and rubber band\n",
       "        // canvas in synch.\n",
       "        canvas_div.css('width', width)\n",
       "        canvas_div.css('height', height)\n",
       "\n",
       "        canvas.attr('width', width);\n",
       "        canvas.attr('height', height);\n",
       "\n",
       "        rubberband.attr('width', width);\n",
       "        rubberband.attr('height', height);\n",
       "    }\n",
       "\n",
       "    // Set the figure to an initial 600x600px, this will subsequently be updated\n",
       "    // upon first draw.\n",
       "    this._resize_canvas(600, 600);\n",
       "\n",
       "    // Disable right mouse context menu.\n",
       "    $(this.rubberband_canvas).bind(\"contextmenu\",function(e){\n",
       "        return false;\n",
       "    });\n",
       "\n",
       "    function set_focus () {\n",
       "        canvas.focus();\n",
       "        canvas_div.focus();\n",
       "    }\n",
       "\n",
       "    window.setTimeout(set_focus, 100);\n",
       "}\n",
       "\n",
       "mpl.figure.prototype._init_toolbar = function() {\n",
       "    var fig = this;\n",
       "\n",
       "    var nav_element = $('<div/>')\n",
       "    nav_element.attr('style', 'width: 100%');\n",
       "    this.root.append(nav_element);\n",
       "\n",
       "    // Define a callback function for later on.\n",
       "    function toolbar_event(event) {\n",
       "        return fig.toolbar_button_onclick(event['data']);\n",
       "    }\n",
       "    function toolbar_mouse_event(event) {\n",
       "        return fig.toolbar_button_onmouseover(event['data']);\n",
       "    }\n",
       "\n",
       "    for(var toolbar_ind in mpl.toolbar_items) {\n",
       "        var name = mpl.toolbar_items[toolbar_ind][0];\n",
       "        var tooltip = mpl.toolbar_items[toolbar_ind][1];\n",
       "        var image = mpl.toolbar_items[toolbar_ind][2];\n",
       "        var method_name = mpl.toolbar_items[toolbar_ind][3];\n",
       "\n",
       "        if (!name) {\n",
       "            // put a spacer in here.\n",
       "            continue;\n",
       "        }\n",
       "        var button = $('<button/>');\n",
       "        button.addClass('ui-button ui-widget ui-state-default ui-corner-all ' +\n",
       "                        'ui-button-icon-only');\n",
       "        button.attr('role', 'button');\n",
       "        button.attr('aria-disabled', 'false');\n",
       "        button.click(method_name, toolbar_event);\n",
       "        button.mouseover(tooltip, toolbar_mouse_event);\n",
       "\n",
       "        var icon_img = $('<span/>');\n",
       "        icon_img.addClass('ui-button-icon-primary ui-icon');\n",
       "        icon_img.addClass(image);\n",
       "        icon_img.addClass('ui-corner-all');\n",
       "\n",
       "        var tooltip_span = $('<span/>');\n",
       "        tooltip_span.addClass('ui-button-text');\n",
       "        tooltip_span.html(tooltip);\n",
       "\n",
       "        button.append(icon_img);\n",
       "        button.append(tooltip_span);\n",
       "\n",
       "        nav_element.append(button);\n",
       "    }\n",
       "\n",
       "    var fmt_picker_span = $('<span/>');\n",
       "\n",
       "    var fmt_picker = $('<select/>');\n",
       "    fmt_picker.addClass('mpl-toolbar-option ui-widget ui-widget-content');\n",
       "    fmt_picker_span.append(fmt_picker);\n",
       "    nav_element.append(fmt_picker_span);\n",
       "    this.format_dropdown = fmt_picker[0];\n",
       "\n",
       "    for (var ind in mpl.extensions) {\n",
       "        var fmt = mpl.extensions[ind];\n",
       "        var option = $(\n",
       "            '<option/>', {selected: fmt === mpl.default_extension}).html(fmt);\n",
       "        fmt_picker.append(option)\n",
       "    }\n",
       "\n",
       "    // Add hover states to the ui-buttons\n",
       "    $( \".ui-button\" ).hover(\n",
       "        function() { $(this).addClass(\"ui-state-hover\");},\n",
       "        function() { $(this).removeClass(\"ui-state-hover\");}\n",
       "    );\n",
       "\n",
       "    var status_bar = $('<span class=\"mpl-message\"/>');\n",
       "    nav_element.append(status_bar);\n",
       "    this.message = status_bar[0];\n",
       "}\n",
       "\n",
       "mpl.figure.prototype.request_resize = function(x_pixels, y_pixels) {\n",
       "    // Request matplotlib to resize the figure. Matplotlib will then trigger a resize in the client,\n",
       "    // which will in turn request a refresh of the image.\n",
       "    this.send_message('resize', {'width': x_pixels, 'height': y_pixels});\n",
       "}\n",
       "\n",
       "mpl.figure.prototype.send_message = function(type, properties) {\n",
       "    properties['type'] = type;\n",
       "    properties['figure_id'] = this.id;\n",
       "    this.ws.send(JSON.stringify(properties));\n",
       "}\n",
       "\n",
       "mpl.figure.prototype.send_draw_message = function() {\n",
       "    if (!this.waiting) {\n",
       "        this.waiting = true;\n",
       "        this.ws.send(JSON.stringify({type: \"draw\", figure_id: this.id}));\n",
       "    }\n",
       "}\n",
       "\n",
       "\n",
       "mpl.figure.prototype.handle_save = function(fig, msg) {\n",
       "    var format_dropdown = fig.format_dropdown;\n",
       "    var format = format_dropdown.options[format_dropdown.selectedIndex].value;\n",
       "    fig.ondownload(fig, format);\n",
       "}\n",
       "\n",
       "\n",
       "mpl.figure.prototype.handle_resize = function(fig, msg) {\n",
       "    var size = msg['size'];\n",
       "    if (size[0] != fig.canvas.width || size[1] != fig.canvas.height) {\n",
       "        fig._resize_canvas(size[0], size[1]);\n",
       "        fig.send_message(\"refresh\", {});\n",
       "    };\n",
       "}\n",
       "\n",
       "mpl.figure.prototype.handle_rubberband = function(fig, msg) {\n",
       "    var x0 = msg['x0'];\n",
       "    var y0 = fig.canvas.height - msg['y0'];\n",
       "    var x1 = msg['x1'];\n",
       "    var y1 = fig.canvas.height - msg['y1'];\n",
       "    x0 = Math.floor(x0) + 0.5;\n",
       "    y0 = Math.floor(y0) + 0.5;\n",
       "    x1 = Math.floor(x1) + 0.5;\n",
       "    y1 = Math.floor(y1) + 0.5;\n",
       "    var min_x = Math.min(x0, x1);\n",
       "    var min_y = Math.min(y0, y1);\n",
       "    var width = Math.abs(x1 - x0);\n",
       "    var height = Math.abs(y1 - y0);\n",
       "\n",
       "    fig.rubberband_context.clearRect(\n",
       "        0, 0, fig.canvas.width, fig.canvas.height);\n",
       "\n",
       "    fig.rubberband_context.strokeRect(min_x, min_y, width, height);\n",
       "}\n",
       "\n",
       "mpl.figure.prototype.handle_figure_label = function(fig, msg) {\n",
       "    // Updates the figure title.\n",
       "    fig.header.textContent = msg['label'];\n",
       "}\n",
       "\n",
       "mpl.figure.prototype.handle_cursor = function(fig, msg) {\n",
       "    var cursor = msg['cursor'];\n",
       "    switch(cursor)\n",
       "    {\n",
       "    case 0:\n",
       "        cursor = 'pointer';\n",
       "        break;\n",
       "    case 1:\n",
       "        cursor = 'default';\n",
       "        break;\n",
       "    case 2:\n",
       "        cursor = 'crosshair';\n",
       "        break;\n",
       "    case 3:\n",
       "        cursor = 'move';\n",
       "        break;\n",
       "    }\n",
       "    fig.rubberband_canvas.style.cursor = cursor;\n",
       "}\n",
       "\n",
       "mpl.figure.prototype.handle_message = function(fig, msg) {\n",
       "    fig.message.textContent = msg['message'];\n",
       "}\n",
       "\n",
       "mpl.figure.prototype.handle_draw = function(fig, msg) {\n",
       "    // Request the server to send over a new figure.\n",
       "    fig.send_draw_message();\n",
       "}\n",
       "\n",
       "mpl.figure.prototype.handle_image_mode = function(fig, msg) {\n",
       "    fig.image_mode = msg['mode'];\n",
       "}\n",
       "\n",
       "mpl.figure.prototype.updated_canvas_event = function() {\n",
       "    // Called whenever the canvas gets updated.\n",
       "    this.send_message(\"ack\", {});\n",
       "}\n",
       "\n",
       "// A function to construct a web socket function for onmessage handling.\n",
       "// Called in the figure constructor.\n",
       "mpl.figure.prototype._make_on_message_function = function(fig) {\n",
       "    return function socket_on_message(evt) {\n",
       "        if (evt.data instanceof Blob) {\n",
       "            /* FIXME: We get \"Resource interpreted as Image but\n",
       "             * transferred with MIME type text/plain:\" errors on\n",
       "             * Chrome.  But how to set the MIME type?  It doesn't seem\n",
       "             * to be part of the websocket stream */\n",
       "            evt.data.type = \"image/png\";\n",
       "\n",
       "            /* Free the memory for the previous frames */\n",
       "            if (fig.imageObj.src) {\n",
       "                (window.URL || window.webkitURL).revokeObjectURL(\n",
       "                    fig.imageObj.src);\n",
       "            }\n",
       "\n",
       "            fig.imageObj.src = (window.URL || window.webkitURL).createObjectURL(\n",
       "                evt.data);\n",
       "            fig.updated_canvas_event();\n",
       "            fig.waiting = false;\n",
       "            return;\n",
       "        }\n",
       "        else if (typeof evt.data === 'string' && evt.data.slice(0, 21) == \"data:image/png;base64\") {\n",
       "            fig.imageObj.src = evt.data;\n",
       "            fig.updated_canvas_event();\n",
       "            fig.waiting = false;\n",
       "            return;\n",
       "        }\n",
       "\n",
       "        var msg = JSON.parse(evt.data);\n",
       "        var msg_type = msg['type'];\n",
       "\n",
       "        // Call the  \"handle_{type}\" callback, which takes\n",
       "        // the figure and JSON message as its only arguments.\n",
       "        try {\n",
       "            var callback = fig[\"handle_\" + msg_type];\n",
       "        } catch (e) {\n",
       "            console.log(\"No handler for the '\" + msg_type + \"' message type: \", msg);\n",
       "            return;\n",
       "        }\n",
       "\n",
       "        if (callback) {\n",
       "            try {\n",
       "                // console.log(\"Handling '\" + msg_type + \"' message: \", msg);\n",
       "                callback(fig, msg);\n",
       "            } catch (e) {\n",
       "                console.log(\"Exception inside the 'handler_\" + msg_type + \"' callback:\", e, e.stack, msg);\n",
       "            }\n",
       "        }\n",
       "    };\n",
       "}\n",
       "\n",
       "// from http://stackoverflow.com/questions/1114465/getting-mouse-location-in-canvas\n",
       "mpl.findpos = function(e) {\n",
       "    //this section is from http://www.quirksmode.org/js/events_properties.html\n",
       "    var targ;\n",
       "    if (!e)\n",
       "        e = window.event;\n",
       "    if (e.target)\n",
       "        targ = e.target;\n",
       "    else if (e.srcElement)\n",
       "        targ = e.srcElement;\n",
       "    if (targ.nodeType == 3) // defeat Safari bug\n",
       "        targ = targ.parentNode;\n",
       "\n",
       "    // jQuery normalizes the pageX and pageY\n",
       "    // pageX,Y are the mouse positions relative to the document\n",
       "    // offset() returns the position of the element relative to the document\n",
       "    var x = e.pageX - $(targ).offset().left;\n",
       "    var y = e.pageY - $(targ).offset().top;\n",
       "\n",
       "    return {\"x\": x, \"y\": y};\n",
       "};\n",
       "\n",
       "/*\n",
       " * return a copy of an object with only non-object keys\n",
       " * we need this to avoid circular references\n",
       " * http://stackoverflow.com/a/24161582/3208463\n",
       " */\n",
       "function simpleKeys (original) {\n",
       "  return Object.keys(original).reduce(function (obj, key) {\n",
       "    if (typeof original[key] !== 'object')\n",
       "        obj[key] = original[key]\n",
       "    return obj;\n",
       "  }, {});\n",
       "}\n",
       "\n",
       "mpl.figure.prototype.mouse_event = function(event, name) {\n",
       "    var canvas_pos = mpl.findpos(event)\n",
       "\n",
       "    if (name === 'button_press')\n",
       "    {\n",
       "        this.canvas.focus();\n",
       "        this.canvas_div.focus();\n",
       "    }\n",
       "\n",
       "    var x = canvas_pos.x;\n",
       "    var y = canvas_pos.y;\n",
       "\n",
       "    this.send_message(name, {x: x, y: y, button: event.button,\n",
       "                             step: event.step,\n",
       "                             guiEvent: simpleKeys(event)});\n",
       "\n",
       "    /* This prevents the web browser from automatically changing to\n",
       "     * the text insertion cursor when the button is pressed.  We want\n",
       "     * to control all of the cursor setting manually through the\n",
       "     * 'cursor' event from matplotlib */\n",
       "    event.preventDefault();\n",
       "    return false;\n",
       "}\n",
       "\n",
       "mpl.figure.prototype._key_event_extra = function(event, name) {\n",
       "    // Handle any extra behaviour associated with a key event\n",
       "}\n",
       "\n",
       "mpl.figure.prototype.key_event = function(event, name) {\n",
       "\n",
       "    // Prevent repeat events\n",
       "    if (name == 'key_press')\n",
       "    {\n",
       "        if (event.which === this._key)\n",
       "            return;\n",
       "        else\n",
       "            this._key = event.which;\n",
       "    }\n",
       "    if (name == 'key_release')\n",
       "        this._key = null;\n",
       "\n",
       "    var value = '';\n",
       "    if (event.ctrlKey && event.which != 17)\n",
       "        value += \"ctrl+\";\n",
       "    if (event.altKey && event.which != 18)\n",
       "        value += \"alt+\";\n",
       "    if (event.shiftKey && event.which != 16)\n",
       "        value += \"shift+\";\n",
       "\n",
       "    value += 'k';\n",
       "    value += event.which.toString();\n",
       "\n",
       "    this._key_event_extra(event, name);\n",
       "\n",
       "    this.send_message(name, {key: value,\n",
       "                             guiEvent: simpleKeys(event)});\n",
       "    return false;\n",
       "}\n",
       "\n",
       "mpl.figure.prototype.toolbar_button_onclick = function(name) {\n",
       "    if (name == 'download') {\n",
       "        this.handle_save(this, null);\n",
       "    } else {\n",
       "        this.send_message(\"toolbar_button\", {name: name});\n",
       "    }\n",
       "};\n",
       "\n",
       "mpl.figure.prototype.toolbar_button_onmouseover = function(tooltip) {\n",
       "    this.message.textContent = tooltip;\n",
       "};\n",
       "mpl.toolbar_items = [[\"Home\", \"Reset original view\", \"fa fa-home icon-home\", \"home\"], [\"Back\", \"Back to  previous view\", \"fa fa-arrow-left icon-arrow-left\", \"back\"], [\"Forward\", \"Forward to next view\", \"fa fa-arrow-right icon-arrow-right\", \"forward\"], [\"\", \"\", \"\", \"\"], [\"Pan\", \"Pan axes with left mouse, zoom with right\", \"fa fa-arrows icon-move\", \"pan\"], [\"Zoom\", \"Zoom to rectangle\", \"fa fa-square-o icon-check-empty\", \"zoom\"], [\"\", \"\", \"\", \"\"], [\"Download\", \"Download plot\", \"fa fa-floppy-o icon-save\", \"download\"]];\n",
       "\n",
       "mpl.extensions = [\"eps\", \"jpeg\", \"pdf\", \"png\", \"ps\", \"raw\", \"svg\", \"tif\"];\n",
       "\n",
       "mpl.default_extension = \"png\";var comm_websocket_adapter = function(comm) {\n",
       "    // Create a \"websocket\"-like object which calls the given IPython comm\n",
       "    // object with the appropriate methods. Currently this is a non binary\n",
       "    // socket, so there is still some room for performance tuning.\n",
       "    var ws = {};\n",
       "\n",
       "    ws.close = function() {\n",
       "        comm.close()\n",
       "    };\n",
       "    ws.send = function(m) {\n",
       "        //console.log('sending', m);\n",
       "        comm.send(m);\n",
       "    };\n",
       "    // Register the callback with on_msg.\n",
       "    comm.on_msg(function(msg) {\n",
       "        //console.log('receiving', msg['content']['data'], msg);\n",
       "        // Pass the mpl event to the overriden (by mpl) onmessage function.\n",
       "        ws.onmessage(msg['content']['data'])\n",
       "    });\n",
       "    return ws;\n",
       "}\n",
       "\n",
       "mpl.mpl_figure_comm = function(comm, msg) {\n",
       "    // This is the function which gets called when the mpl process\n",
       "    // starts-up an IPython Comm through the \"matplotlib\" channel.\n",
       "\n",
       "    var id = msg.content.data.id;\n",
       "    // Get hold of the div created by the display call when the Comm\n",
       "    // socket was opened in Python.\n",
       "    var element = $(\"#\" + id);\n",
       "    var ws_proxy = comm_websocket_adapter(comm)\n",
       "\n",
       "    function ondownload(figure, format) {\n",
       "        window.open(figure.imageObj.src);\n",
       "    }\n",
       "\n",
       "    var fig = new mpl.figure(id, ws_proxy,\n",
       "                           ondownload,\n",
       "                           element.get(0));\n",
       "\n",
       "    // Call onopen now - mpl needs it, as it is assuming we've passed it a real\n",
       "    // web socket which is closed, not our websocket->open comm proxy.\n",
       "    ws_proxy.onopen();\n",
       "\n",
       "    fig.parent_element = element.get(0);\n",
       "    fig.cell_info = mpl.find_output_cell(\"<div id='\" + id + \"'></div>\");\n",
       "    if (!fig.cell_info) {\n",
       "        console.error(\"Failed to find cell for figure\", id, fig);\n",
       "        return;\n",
       "    }\n",
       "\n",
       "    var output_index = fig.cell_info[2]\n",
       "    var cell = fig.cell_info[0];\n",
       "\n",
       "};\n",
       "\n",
       "mpl.figure.prototype.handle_close = function(fig, msg) {\n",
       "    fig.root.unbind('remove')\n",
       "\n",
       "    // Update the output cell to use the data from the current canvas.\n",
       "    fig.push_to_output();\n",
       "    var dataURL = fig.canvas.toDataURL();\n",
       "    // Re-enable the keyboard manager in IPython - without this line, in FF,\n",
       "    // the notebook keyboard shortcuts fail.\n",
       "    IPython.keyboard_manager.enable()\n",
       "    $(fig.parent_element).html('<img src=\"' + dataURL + '\">');\n",
       "    fig.close_ws(fig, msg);\n",
       "}\n",
       "\n",
       "mpl.figure.prototype.close_ws = function(fig, msg){\n",
       "    fig.send_message('closing', msg);\n",
       "    // fig.ws.close()\n",
       "}\n",
       "\n",
       "mpl.figure.prototype.push_to_output = function(remove_interactive) {\n",
       "    // Turn the data on the canvas into data in the output cell.\n",
       "    var dataURL = this.canvas.toDataURL();\n",
       "    this.cell_info[1]['text/html'] = '<img src=\"' + dataURL + '\">';\n",
       "}\n",
       "\n",
       "mpl.figure.prototype.updated_canvas_event = function() {\n",
       "    // Tell IPython that the notebook contents must change.\n",
       "    IPython.notebook.set_dirty(true);\n",
       "    this.send_message(\"ack\", {});\n",
       "    var fig = this;\n",
       "    // Wait a second, then push the new image to the DOM so\n",
       "    // that it is saved nicely (might be nice to debounce this).\n",
       "    setTimeout(function () { fig.push_to_output() }, 1000);\n",
       "}\n",
       "\n",
       "mpl.figure.prototype._init_toolbar = function() {\n",
       "    var fig = this;\n",
       "\n",
       "    var nav_element = $('<div/>')\n",
       "    nav_element.attr('style', 'width: 100%');\n",
       "    this.root.append(nav_element);\n",
       "\n",
       "    // Define a callback function for later on.\n",
       "    function toolbar_event(event) {\n",
       "        return fig.toolbar_button_onclick(event['data']);\n",
       "    }\n",
       "    function toolbar_mouse_event(event) {\n",
       "        return fig.toolbar_button_onmouseover(event['data']);\n",
       "    }\n",
       "\n",
       "    for(var toolbar_ind in mpl.toolbar_items){\n",
       "        var name = mpl.toolbar_items[toolbar_ind][0];\n",
       "        var tooltip = mpl.toolbar_items[toolbar_ind][1];\n",
       "        var image = mpl.toolbar_items[toolbar_ind][2];\n",
       "        var method_name = mpl.toolbar_items[toolbar_ind][3];\n",
       "\n",
       "        if (!name) { continue; };\n",
       "\n",
       "        var button = $('<button class=\"btn btn-default\" href=\"#\" title=\"' + name + '\"><i class=\"fa ' + image + ' fa-lg\"></i></button>');\n",
       "        button.click(method_name, toolbar_event);\n",
       "        button.mouseover(tooltip, toolbar_mouse_event);\n",
       "        nav_element.append(button);\n",
       "    }\n",
       "\n",
       "    // Add the status bar.\n",
       "    var status_bar = $('<span class=\"mpl-message\" style=\"text-align:right; float: right;\"/>');\n",
       "    nav_element.append(status_bar);\n",
       "    this.message = status_bar[0];\n",
       "\n",
       "    // Add the close button to the window.\n",
       "    var buttongrp = $('<div class=\"btn-group inline pull-right\"></div>');\n",
       "    var button = $('<button class=\"btn btn-mini btn-primary\" href=\"#\" title=\"Stop Interaction\"><i class=\"fa fa-power-off icon-remove icon-large\"></i></button>');\n",
       "    button.click(function (evt) { fig.handle_close(fig, {}); } );\n",
       "    button.mouseover('Stop Interaction', toolbar_mouse_event);\n",
       "    buttongrp.append(button);\n",
       "    var titlebar = this.root.find($('.ui-dialog-titlebar'));\n",
       "    titlebar.prepend(buttongrp);\n",
       "}\n",
       "\n",
       "mpl.figure.prototype._root_extra_style = function(el){\n",
       "    var fig = this\n",
       "    el.on(\"remove\", function(){\n",
       "\tfig.close_ws(fig, {});\n",
       "    });\n",
       "}\n",
       "\n",
       "mpl.figure.prototype._canvas_extra_style = function(el){\n",
       "    // this is important to make the div 'focusable\n",
       "    el.attr('tabindex', 0)\n",
       "    // reach out to IPython and tell the keyboard manager to turn it's self\n",
       "    // off when our div gets focus\n",
       "\n",
       "    // location in version 3\n",
       "    if (IPython.notebook.keyboard_manager) {\n",
       "        IPython.notebook.keyboard_manager.register_events(el);\n",
       "    }\n",
       "    else {\n",
       "        // location in version 2\n",
       "        IPython.keyboard_manager.register_events(el);\n",
       "    }\n",
       "\n",
       "}\n",
       "\n",
       "mpl.figure.prototype._key_event_extra = function(event, name) {\n",
       "    var manager = IPython.notebook.keyboard_manager;\n",
       "    if (!manager)\n",
       "        manager = IPython.keyboard_manager;\n",
       "\n",
       "    // Check for shift+enter\n",
       "    if (event.shiftKey && event.which == 13) {\n",
       "        this.canvas_div.blur();\n",
       "        event.shiftKey = false;\n",
       "        // Send a \"J\" for go to next cell\n",
       "        event.which = 74;\n",
       "        event.keyCode = 74;\n",
       "        manager.command_mode();\n",
       "        manager.handle_keydown(event);\n",
       "    }\n",
       "}\n",
       "\n",
       "mpl.figure.prototype.handle_save = function(fig, msg) {\n",
       "    fig.ondownload(fig, null);\n",
       "}\n",
       "\n",
       "\n",
       "mpl.find_output_cell = function(html_output) {\n",
       "    // Return the cell and output element which can be found *uniquely* in the notebook.\n",
       "    // Note - this is a bit hacky, but it is done because the \"notebook_saving.Notebook\"\n",
       "    // IPython event is triggered only after the cells have been serialised, which for\n",
       "    // our purposes (turning an active figure into a static one), is too late.\n",
       "    var cells = IPython.notebook.get_cells();\n",
       "    var ncells = cells.length;\n",
       "    for (var i=0; i<ncells; i++) {\n",
       "        var cell = cells[i];\n",
       "        if (cell.cell_type === 'code'){\n",
       "            for (var j=0; j<cell.output_area.outputs.length; j++) {\n",
       "                var data = cell.output_area.outputs[j];\n",
       "                if (data.data) {\n",
       "                    // IPython >= 3 moved mimebundle to data attribute of output\n",
       "                    data = data.data;\n",
       "                }\n",
       "                if (data['text/html'] == html_output) {\n",
       "                    return [cell, data, j];\n",
       "                }\n",
       "            }\n",
       "        }\n",
       "    }\n",
       "}\n",
       "\n",
       "// Register the function which deals with the matplotlib target/channel.\n",
       "// The kernel may be null if the page has been refreshed.\n",
       "if (IPython.notebook.kernel != null) {\n",
       "    IPython.notebook.kernel.comm_manager.register_target('matplotlib', mpl.mpl_figure_comm);\n",
       "}\n"
      ],
      "text/plain": [
       "<IPython.core.display.Javascript object>"
      ]
     },
     "metadata": {},
     "output_type": "display_data"
    },
    {
     "data": {
      "text/html": [
       "<img src=\"data:image/png;base64,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\">"
      ],
      "text/plain": [
       "<IPython.core.display.HTML object>"
      ]
     },
     "metadata": {},
     "output_type": "display_data"
    }
   ],
   "source": [
    "# plot: \n",
    "line_train, = plot([], [], 'go-', label=\"average training loss\")\n",
    "line_curr_val, = plot([],[], 'bo:', label=\"avrg current validation loss\")\n",
    "line_best_val, = plot([], [], 'ko-', label=\"avrg best validation loss\")\n",
    "# plt.ticklabel_format(style='sci', axis='y', scilimits=(0,0))\n",
    "yscale('log')\n",
    "gca().yaxis.set_minor_formatter(FormatStrFormatter(\"%.2g\"))\n",
    "ylabel(\"validation loss\")\n",
    "xlabel(\"#epoch\")\n",
    "legend(loc='lower left', fancybox=True, framealpha=0.5)\n",
    "\n",
    "# start values:\n",
    "hyper.best_val_loss = optimizer_kwargs['num_loss'](opt.wrt, VZ, VX, no_annealing=True)\n",
    "training_loss = optimizer_kwargs['num_loss'](opt.wrt, Z[:10], X[:10], no_annealing=True)\n",
    "start_epoch = opt.n_iter//X.shape[0]\n",
    "\n",
    "add_point(line_best_val, start_epoch, hyper.best_val_loss)\n",
    "add_point(line_curr_val, start_epoch, hyper.best_val_loss)\n",
    "add_point(line_train, start_epoch, training_loss)"
   ]
  },
  {
   "cell_type": "code",
   "execution_count": 40,
   "metadata": {
    "collapsed": false
   },
   "outputs": [],
   "source": [
    "last_improvement_epoch = 0\n",
    "for info in every(n_batches, opt):\n",
    "    current_epoch = info['n_iter']//n_batches\n",
    "    if current_epoch - last_improvement_epoch > hyper.max_epochs_without_improvement:\n",
    "        break\n",
    "    # collect and visualize validation loss for choosing the best model\n",
    "    val_loss = optimizer_kwargs['num_loss'](opt.wrt, VZ, VX, no_annealing=True)\n",
    "    if val_loss < hyper.best_val_loss:\n",
    "        last_improvement_epoch = current_epoch\n",
    "        hyper.best_parameters = opt.wrt\n",
    "        hyper.best_val_loss = val_loss\n",
    "        add_point(line_best_val, current_epoch, val_loss)\n",
    "    hyper.val_loss.append(val_loss)\n",
    "    add_point(line_curr_val, current_epoch, val_loss)\n",
    "    \n",
    "    # visualize training loss for comparison:\n",
    "    training_loss = optimizer_kwargs['num_loss'](opt.wrt, Z[:10], X[:10], no_annealing=True)\n",
    "    hyper.train_loss.append(training_loss)\n",
    "    add_point(line_train, current_epoch, training_loss)\n",
    "    \n",
    "#     print info['n_iter'], training_loss, val_loss, best_val_loss"
   ]
  },
  {
   "cell_type": "code",
   "execution_count": null,
   "metadata": {
    "collapsed": false
   },
   "outputs": [],
   "source": [
    "sql_session.add(hyper)\n",
    "sql_session.commit()"
   ]
  },
  {
   "cell_type": "markdown",
   "metadata": {},
   "source": [
    "# Performance"
   ]
  },
  {
   "cell_type": "markdown",
   "metadata": {},
   "source": [
    "TODO: average over predictions"
   ]
  },
  {
   "cell_type": "code",
   "execution_count": null,
   "metadata": {
    "collapsed": false
   },
   "outputs": [],
   "source": [
    "print hyper.best_val_loss\n",
    "model['flat'] = hyper.best_parameters\n",
    "\n",
    "predict = predictor.function()\n",
    "predict(X[0]), Z[0]"
   ]
  },
  {
   "cell_type": "code",
   "execution_count": null,
   "metadata": {
    "collapsed": true
   },
   "outputs": [],
   "source": [
    "PX = np.apply_along_axis(predict, 1, X)\n",
    "PVX = np.apply_along_axis(predict, 1, VX)\n",
    "PTX = np.apply_along_axis(predict, 1, TX)"
   ]
  },
  {
   "cell_type": "code",
   "execution_count": null,
   "metadata": {
    "collapsed": false
   },
   "outputs": [],
   "source": [
    "def RMSE(PX, Z):\n",
    "    return np.sqrt(((PX - Z) ** 2).mean())\n",
    "def nRMSE(PX, Z):\n",
    "    return RMSE(PX*Z_std + Z_mean, Z*Z_std + Z_mean)\n",
    "\n",
    "print '%s RMSE: train/val/test = %g/%g/%g' % (datasetname, nRMSE(PX, Z), nRMSE(PVX, VZ), nRMSE(PTX, TZ))"
   ]
  },
  {
   "cell_type": "code",
   "execution_count": null,
   "metadata": {
    "collapsed": true
   },
   "outputs": [],
   "source": []
  }
 ],
 "metadata": {
  "kernelspec": {
   "display_name": "Python 2",
   "language": "python",
   "name": "python2"
  },
  "language_info": {
   "codemirror_mode": {
    "name": "ipython",
    "version": 2
   },
   "file_extension": ".py",
   "mimetype": "text/x-python",
   "name": "python",
   "nbconvert_exporter": "python",
   "pygments_lexer": "ipython2",
   "version": "2.7.6"
  },
  "toc": {
   "toc_cell": false,
   "toc_number_sections": true,
   "toc_threshold": 4,
   "toc_window_display": false
  }
 },
 "nbformat": 4,
 "nbformat_minor": 0
}
