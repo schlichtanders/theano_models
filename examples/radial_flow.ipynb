{
 "cells": [
  {
   "cell_type": "code",
   "execution_count": 1,
   "metadata": {
    "collapsed": false
   },
   "outputs": [
    {
     "name": "stderr",
     "output_type": "stream",
     "text": [
      "/usr/local/lib/python2.7/dist-packages/matplotlib/font_manager.py:273: UserWarning: Matplotlib is building the font cache using fc-list. This may take a moment.\n",
      "  warnings.warn('Matplotlib is building the font cache using fc-list. This may take a moment.')\n"
     ]
    }
   ],
   "source": [
    "%matplotlib notebook"
   ]
  },
  {
   "cell_type": "code",
   "execution_count": 2,
   "metadata": {
    "collapsed": false
   },
   "outputs": [
    {
     "name": "stdout",
     "output_type": "stream",
     "text": [
      "gnumpy: failed to import cudamat. Using npmat instead. No GPU will be used.\n"
     ]
    }
   ],
   "source": [
    "import deterministic_models as dm\n",
    "import numpy as np\n",
    "import matplotlib.pyplot as plt\n",
    "from matplotlib import collections  as mc\n",
    "import theano_optimization as opt\n",
    "from schlichtanders.myoptimizers import batch\n",
    "import probabilistic_models as pm\n",
    "import time"
   ]
  },
  {
   "cell_type": "markdown",
   "metadata": {},
   "source": [
    "# Deterministic Model - one dimensional"
   ]
  },
  {
   "cell_type": "markdown",
   "metadata": {},
   "source": [
    "## model"
   ]
  },
  {
   "cell_type": "code",
   "execution_count": null,
   "metadata": {
    "collapsed": true
   },
   "outputs": [],
   "source": [
    "model = dm.RadialTransform(size=1)\n",
    "f_model = model.function()"
   ]
  },
  {
   "cell_type": "markdown",
   "metadata": {},
   "source": [
    "## target"
   ]
  },
  {
   "cell_type": "code",
   "execution_count": null,
   "metadata": {
    "collapsed": false
   },
   "outputs": [],
   "source": [
    "target = dm.RadialTransform(init_alpha=1, init_beta=20, init_z0=[3])"
   ]
  },
  {
   "cell_type": "code",
   "execution_count": null,
   "metadata": {
    "collapsed": false
   },
   "outputs": [],
   "source": [
    "f_target = target.function()\n",
    "f_target([7])  # caution, needs vector not scalar input"
   ]
  },
  {
   "cell_type": "code",
   "execution_count": null,
   "metadata": {
    "collapsed": false
   },
   "outputs": [],
   "source": [
    "N = 40\n",
    "xs = np.linspace(-10, 10, N)[:, np.newaxis]\n",
    "xs[:7]"
   ]
  },
  {
   "cell_type": "code",
   "execution_count": null,
   "metadata": {
    "collapsed": false
   },
   "outputs": [],
   "source": [
    "ys = np.array([f_target(x) for x in xs])\n",
    "ys[:7]"
   ]
  },
  {
   "cell_type": "markdown",
   "metadata": {},
   "source": [
    "## visualization"
   ]
  },
  {
   "cell_type": "code",
   "execution_count": null,
   "metadata": {
    "collapsed": false
   },
   "outputs": [],
   "source": [
    "def plot_fit(fig, ax, time_delay=0.1):\n",
    "    ax.clear() # interactive\n",
    "    # target data:\n",
    "    ax.plot(xs, ys, 'k:')\n",
    "    \n",
    "    # model:\n",
    "    model_ys = np.array([f_model(x) for x in xs])\n",
    "    ax.plot(xs, model_ys, 'r')\n",
    "    \n",
    "    fig.canvas.draw()\n",
    "    time.sleep(time_delay)"
   ]
  },
  {
   "cell_type": "code",
   "execution_count": null,
   "metadata": {
    "collapsed": false
   },
   "outputs": [],
   "source": [
    "fig, ax = plt.subplots()\n",
    "plot_fit(fig, ax)"
   ]
  },
  {
   "cell_type": "markdown",
   "metadata": {},
   "source": [
    "## fit"
   ]
  },
  {
   "cell_type": "code",
   "execution_count": null,
   "metadata": {
    "collapsed": false
   },
   "outputs": [],
   "source": [
    "myoptimizer = opt.ScipyOptimizer(batch)\n",
    "# CAUTION: scipy args needs to be tuple in order to work as expected!\n",
    "myoptimizer.optimize(\n",
    "    model, args=(ys,xs),\n",
    "    # method=\"Newton-CG\",\n",
    "    options={'maxiter':100, 'disp':True},\n",
    "    callback=lambda x: plot_fit(fig, ax)\n",
    ")"
   ]
  },
  {
   "cell_type": "markdown",
   "metadata": {},
   "source": [
    "# two dimensions"
   ]
  },
  {
   "cell_type": "markdown",
   "metadata": {},
   "source": [
    "## model"
   ]
  },
  {
   "cell_type": "code",
   "execution_count": null,
   "metadata": {
    "collapsed": true
   },
   "outputs": [],
   "source": [
    "model2d = dm.RadialTransform(size=2)\n",
    "f_model2d = model2d.function()"
   ]
  },
  {
   "cell_type": "markdown",
   "metadata": {},
   "source": [
    "## target"
   ]
  },
  {
   "cell_type": "code",
   "execution_count": null,
   "metadata": {
    "collapsed": true
   },
   "outputs": [],
   "source": [
    "target2d = dm.RadialTransform(init_alpha=1, init_beta=5, init_z0=[3, 1])\n",
    "# target2d = dm.RadialTransform(init_alpha=50, init_beta=-40, init_z0=[3, 1])"
   ]
  },
  {
   "cell_type": "code",
   "execution_count": null,
   "metadata": {
    "collapsed": false
   },
   "outputs": [],
   "source": [
    "f_target2d = target2d.function()\n",
    "f_target2d([7, 4])  # caution, needs vector not scalar input"
   ]
  },
  {
   "cell_type": "code",
   "execution_count": null,
   "metadata": {
    "collapsed": false
   },
   "outputs": [],
   "source": [
    "N2d = 10\n",
    "_xs = np.linspace(-10, 10, N2d)\n",
    "X1, X2 = np.meshgrid(_xs, _xs)\n",
    "xs2d = np.c_[X1.flat, X2.flat]\n",
    "xs2d[:5]"
   ]
  },
  {
   "cell_type": "code",
   "execution_count": null,
   "metadata": {
    "collapsed": false
   },
   "outputs": [],
   "source": [
    "ys2d = np.array([f_target2d(x) for x in xs2d])\n",
    "ys2d[:5]"
   ]
  },
  {
   "cell_type": "markdown",
   "metadata": {},
   "source": [
    "## visualization"
   ]
  },
  {
   "cell_type": "code",
   "execution_count": null,
   "metadata": {
    "collapsed": true
   },
   "outputs": [],
   "source": [
    "diff2d = ys2d - xs2d\n",
    "quiver_kwargs = dict(scale=1, angles='xy', scale_units='xy', width=0.003)\n",
    "\n",
    "def plot_fit2d(fig, ax, time_delay=0.1, expand_factor=0.4):\n",
    "    ax.clear()\n",
    "    \n",
    "    # target data:\n",
    "    ax.quiver(xs2d[:,0], xs2d[:,1], diff2d[:,0], diff2d[:,1], hatch='***', facecolor='none', color=\"k\", **quiver_kwargs)\n",
    "    \n",
    "    # model:\n",
    "    m_ys2d = np.array([f_model2d(x) for x in xs2d])\n",
    "    m_diff2d = m_ys2d - xs2d\n",
    "    ax.quiver(xs2d[:,0], xs2d[:,1], m_diff2d[:,0], m_diff2d[:,1], color=\"r\", **quiver_kwargs)\n",
    "\n",
    "    # ax.autoscale()  # does not work with arrows, do it manually:\n",
    "    l, r, b, t = ax.axis()\n",
    "    dx, dy = r - l, t - b\n",
    "    ax.axis([l - expand_factor * dx, r + expand_factor * dx, b - expand_factor * dy, t + expand_factor * dy])\n",
    "    \n",
    "    fig.canvas.draw()\n",
    "    time.sleep(time_delay)"
   ]
  },
  {
   "cell_type": "code",
   "execution_count": null,
   "metadata": {
    "collapsed": false
   },
   "outputs": [],
   "source": [
    "fig, ax = plt.subplots()\n",
    "plot_fit2d(fig, ax)"
   ]
  },
  {
   "cell_type": "markdown",
   "metadata": {},
   "source": [
    "## fit"
   ]
  },
  {
   "cell_type": "code",
   "execution_count": null,
   "metadata": {
    "collapsed": false
   },
   "outputs": [],
   "source": [
    "myoptimizer = opt.ScipyOptimizer(batch)\n",
    "# CAUTION: scipy args needs to be tuple in order to work as expected!\n",
    "myoptimizer.optimize(\n",
    "    model2d, args=(ys2d,xs2d),\n",
    "#     method=\"Newton-CG\",\n",
    "    options={'maxiter':100, 'disp':True},\n",
    "    callback=lambda x: plot_fit2d(fig, ax)\n",
    ")"
   ]
  },
  {
   "cell_type": "markdown",
   "metadata": {},
   "source": [
    "# Probabilistic Normalizing Flow"
   ]
  },
  {
   "cell_type": "markdown",
   "metadata": {},
   "source": [
    "Only the combination with gaussian base function is shown. The uniform base function has the disadvantage of not being differentiable (not yet supported)."
   ]
  },
  {
   "cell_type": "markdown",
   "metadata": {},
   "source": [
    "## model"
   ]
  },
  {
   "cell_type": "code",
   "execution_count": 11,
   "metadata": {
    "collapsed": false
   },
   "outputs": [],
   "source": [
    "size=2\n",
    "base_model = pm.DiagGauss(size)\n",
    "# CAUTION, this transform cannot be reused elsewhere, as it is merged into normalizing flow\n",
    "# its references point always to the current substitution\n",
    "transform_model = dm.RadialTransform(size, init_alpha=2)"
   ]
  },
  {
   "cell_type": "code",
   "execution_count": 12,
   "metadata": {
    "collapsed": false
   },
   "outputs": [
    {
     "data": {
      "text/plain": [
       "array([-1.35920258, -1.02165152])"
      ]
     },
     "execution_count": 12,
     "metadata": {},
     "output_type": "execute_result"
    }
   ],
   "source": [
    "model = pm.NormalizingFlow(transform_model, base_model)\n",
    "m_sampler = model.function()\n",
    "m_sampler()"
   ]
  },
  {
   "cell_type": "markdown",
   "metadata": {},
   "source": [
    "## target"
   ]
  },
  {
   "cell_type": "code",
   "execution_count": 5,
   "metadata": {
    "collapsed": true
   },
   "outputs": [],
   "source": [
    "base_target = pm.DiagGauss(init_mean=[5,5], init_var=(10,5))\n",
    "transform_target = dm.RadialTransform(init_z0=[5,5], init_beta=30, init_alpha=3)"
   ]
  },
  {
   "cell_type": "raw",
   "metadata": {},
   "source": [
    "base_target = pm.DiagGauss(init_mean=[5,5], init_var=(80,40))\n",
    "transform_target = dm.RadialTransform(init_z0=[30,10], init_beta=-70, init_alpha=80)"
   ]
  },
  {
   "cell_type": "code",
   "execution_count": 6,
   "metadata": {
    "collapsed": false
   },
   "outputs": [
    {
     "data": {
      "text/plain": [
       "array([ -7.63032495,  10.59767905])"
      ]
     },
     "execution_count": 6,
     "metadata": {},
     "output_type": "execute_result"
    }
   ],
   "source": [
    "target = pm.NormalizingFlow(transform_target, base_target)\n",
    "t_sampler = target.function()\n",
    "t_sampler()"
   ]
  },
  {
   "cell_type": "code",
   "execution_count": 7,
   "metadata": {
    "collapsed": false
   },
   "outputs": [],
   "source": [
    "n_samples = 2000\n",
    "targets = np.array([t_sampler() for _ in xrange(n_samples)])"
   ]
  },
  {
   "cell_type": "markdown",
   "metadata": {},
   "source": [
    "## visualization"
   ]
  },
  {
   "cell_type": "code",
   "execution_count": 8,
   "metadata": {
    "collapsed": false
   },
   "outputs": [],
   "source": [
    "scatter_kwargs = dict(edgecolors=\"face\", alpha=0.01, s=5000)\n",
    "outer = dict(i=0)\n",
    "def plot_fit(fig, ax, time_delay=0.1):\n",
    "    outer['i'] += 1\n",
    "    ax.clear()\n",
    "    \n",
    "    # targets\n",
    "    ax.plot(targets[:,0], targets[:,1], 'k.')\n",
    "#     ax.scatter(targets[:,0], targets[:,1], c='k', **scatter_kwargs)\n",
    "    # model\n",
    "    m_samples = np.array([m_sampler() for _ in xrange(n_samples)])\n",
    "    ax.scatter(m_samples[:,0], m_samples[:,1], c='r',**scatter_kwargs)\n",
    "\n",
    "    fig.canvas.draw()\n",
    "    if time_delay is not None:\n",
    "        time.sleep(time_delay)"
   ]
  },
  {
   "cell_type": "code",
   "execution_count": 9,
   "metadata": {
    "collapsed": false,
    "scrolled": false
   },
   "outputs": [
    {
     "data": {
      "application/javascript": [
       "/* Put everything inside the global mpl namespace */\n",
       "window.mpl = {};\n",
       "\n",
       "mpl.get_websocket_type = function() {\n",
       "    if (typeof(WebSocket) !== 'undefined') {\n",
       "        return WebSocket;\n",
       "    } else if (typeof(MozWebSocket) !== 'undefined') {\n",
       "        return MozWebSocket;\n",
       "    } else {\n",
       "        alert('Your browser does not have WebSocket support.' +\n",
       "              'Please try Chrome, Safari or Firefox ≥ 6. ' +\n",
       "              'Firefox 4 and 5 are also supported but you ' +\n",
       "              'have to enable WebSockets in about:config.');\n",
       "    };\n",
       "}\n",
       "\n",
       "mpl.figure = function(figure_id, websocket, ondownload, parent_element) {\n",
       "    this.id = figure_id;\n",
       "\n",
       "    this.ws = websocket;\n",
       "\n",
       "    this.supports_binary = (this.ws.binaryType != undefined);\n",
       "\n",
       "    if (!this.supports_binary) {\n",
       "        var warnings = document.getElementById(\"mpl-warnings\");\n",
       "        if (warnings) {\n",
       "            warnings.style.display = 'block';\n",
       "            warnings.textContent = (\n",
       "                \"This browser does not support binary websocket messages. \" +\n",
       "                    \"Performance may be slow.\");\n",
       "        }\n",
       "    }\n",
       "\n",
       "    this.imageObj = new Image();\n",
       "\n",
       "    this.context = undefined;\n",
       "    this.message = undefined;\n",
       "    this.canvas = undefined;\n",
       "    this.rubberband_canvas = undefined;\n",
       "    this.rubberband_context = undefined;\n",
       "    this.format_dropdown = undefined;\n",
       "\n",
       "    this.image_mode = 'full';\n",
       "\n",
       "    this.root = $('<div/>');\n",
       "    this._root_extra_style(this.root)\n",
       "    this.root.attr('style', 'display: inline-block');\n",
       "\n",
       "    $(parent_element).append(this.root);\n",
       "\n",
       "    this._init_header(this);\n",
       "    this._init_canvas(this);\n",
       "    this._init_toolbar(this);\n",
       "\n",
       "    var fig = this;\n",
       "\n",
       "    this.waiting = false;\n",
       "\n",
       "    this.ws.onopen =  function () {\n",
       "            fig.send_message(\"supports_binary\", {value: fig.supports_binary});\n",
       "            fig.send_message(\"send_image_mode\", {});\n",
       "            fig.send_message(\"refresh\", {});\n",
       "        }\n",
       "\n",
       "    this.imageObj.onload = function() {\n",
       "            if (fig.image_mode == 'full') {\n",
       "                // Full images could contain transparency (where diff images\n",
       "                // almost always do), so we need to clear the canvas so that\n",
       "                // there is no ghosting.\n",
       "                fig.context.clearRect(0, 0, fig.canvas.width, fig.canvas.height);\n",
       "            }\n",
       "            fig.context.drawImage(fig.imageObj, 0, 0);\n",
       "        };\n",
       "\n",
       "    this.imageObj.onunload = function() {\n",
       "        this.ws.close();\n",
       "    }\n",
       "\n",
       "    this.ws.onmessage = this._make_on_message_function(this);\n",
       "\n",
       "    this.ondownload = ondownload;\n",
       "}\n",
       "\n",
       "mpl.figure.prototype._init_header = function() {\n",
       "    var titlebar = $(\n",
       "        '<div class=\"ui-dialog-titlebar ui-widget-header ui-corner-all ' +\n",
       "        'ui-helper-clearfix\"/>');\n",
       "    var titletext = $(\n",
       "        '<div class=\"ui-dialog-title\" style=\"width: 100%; ' +\n",
       "        'text-align: center; padding: 3px;\"/>');\n",
       "    titlebar.append(titletext)\n",
       "    this.root.append(titlebar);\n",
       "    this.header = titletext[0];\n",
       "}\n",
       "\n",
       "\n",
       "\n",
       "mpl.figure.prototype._canvas_extra_style = function(canvas_div) {\n",
       "\n",
       "}\n",
       "\n",
       "\n",
       "mpl.figure.prototype._root_extra_style = function(canvas_div) {\n",
       "\n",
       "}\n",
       "\n",
       "mpl.figure.prototype._init_canvas = function() {\n",
       "    var fig = this;\n",
       "\n",
       "    var canvas_div = $('<div/>');\n",
       "\n",
       "    canvas_div.attr('style', 'position: relative; clear: both; outline: 0');\n",
       "\n",
       "    function canvas_keyboard_event(event) {\n",
       "        return fig.key_event(event, event['data']);\n",
       "    }\n",
       "\n",
       "    canvas_div.keydown('key_press', canvas_keyboard_event);\n",
       "    canvas_div.keyup('key_release', canvas_keyboard_event);\n",
       "    this.canvas_div = canvas_div\n",
       "    this._canvas_extra_style(canvas_div)\n",
       "    this.root.append(canvas_div);\n",
       "\n",
       "    var canvas = $('<canvas/>');\n",
       "    canvas.addClass('mpl-canvas');\n",
       "    canvas.attr('style', \"left: 0; top: 0; z-index: 0; outline: 0\")\n",
       "\n",
       "    this.canvas = canvas[0];\n",
       "    this.context = canvas[0].getContext(\"2d\");\n",
       "\n",
       "    var rubberband = $('<canvas/>');\n",
       "    rubberband.attr('style', \"position: absolute; left: 0; top: 0; z-index: 1;\")\n",
       "\n",
       "    var pass_mouse_events = true;\n",
       "\n",
       "    canvas_div.resizable({\n",
       "        start: function(event, ui) {\n",
       "            pass_mouse_events = false;\n",
       "        },\n",
       "        resize: function(event, ui) {\n",
       "            fig.request_resize(ui.size.width, ui.size.height);\n",
       "        },\n",
       "        stop: function(event, ui) {\n",
       "            pass_mouse_events = true;\n",
       "            fig.request_resize(ui.size.width, ui.size.height);\n",
       "        },\n",
       "    });\n",
       "\n",
       "    function mouse_event_fn(event) {\n",
       "        if (pass_mouse_events)\n",
       "            return fig.mouse_event(event, event['data']);\n",
       "    }\n",
       "\n",
       "    rubberband.mousedown('button_press', mouse_event_fn);\n",
       "    rubberband.mouseup('button_release', mouse_event_fn);\n",
       "    // Throttle sequential mouse events to 1 every 20ms.\n",
       "    rubberband.mousemove('motion_notify', mouse_event_fn);\n",
       "\n",
       "    rubberband.mouseenter('figure_enter', mouse_event_fn);\n",
       "    rubberband.mouseleave('figure_leave', mouse_event_fn);\n",
       "\n",
       "    canvas_div.on(\"wheel\", function (event) {\n",
       "        event = event.originalEvent;\n",
       "        event['data'] = 'scroll'\n",
       "        if (event.deltaY < 0) {\n",
       "            event.step = 1;\n",
       "        } else {\n",
       "            event.step = -1;\n",
       "        }\n",
       "        mouse_event_fn(event);\n",
       "    });\n",
       "\n",
       "    canvas_div.append(canvas);\n",
       "    canvas_div.append(rubberband);\n",
       "\n",
       "    this.rubberband = rubberband;\n",
       "    this.rubberband_canvas = rubberband[0];\n",
       "    this.rubberband_context = rubberband[0].getContext(\"2d\");\n",
       "    this.rubberband_context.strokeStyle = \"#000000\";\n",
       "\n",
       "    this._resize_canvas = function(width, height) {\n",
       "        // Keep the size of the canvas, canvas container, and rubber band\n",
       "        // canvas in synch.\n",
       "        canvas_div.css('width', width)\n",
       "        canvas_div.css('height', height)\n",
       "\n",
       "        canvas.attr('width', width);\n",
       "        canvas.attr('height', height);\n",
       "\n",
       "        rubberband.attr('width', width);\n",
       "        rubberband.attr('height', height);\n",
       "    }\n",
       "\n",
       "    // Set the figure to an initial 600x600px, this will subsequently be updated\n",
       "    // upon first draw.\n",
       "    this._resize_canvas(600, 600);\n",
       "\n",
       "    // Disable right mouse context menu.\n",
       "    $(this.rubberband_canvas).bind(\"contextmenu\",function(e){\n",
       "        return false;\n",
       "    });\n",
       "\n",
       "    function set_focus () {\n",
       "        canvas.focus();\n",
       "        canvas_div.focus();\n",
       "    }\n",
       "\n",
       "    window.setTimeout(set_focus, 100);\n",
       "}\n",
       "\n",
       "mpl.figure.prototype._init_toolbar = function() {\n",
       "    var fig = this;\n",
       "\n",
       "    var nav_element = $('<div/>')\n",
       "    nav_element.attr('style', 'width: 100%');\n",
       "    this.root.append(nav_element);\n",
       "\n",
       "    // Define a callback function for later on.\n",
       "    function toolbar_event(event) {\n",
       "        return fig.toolbar_button_onclick(event['data']);\n",
       "    }\n",
       "    function toolbar_mouse_event(event) {\n",
       "        return fig.toolbar_button_onmouseover(event['data']);\n",
       "    }\n",
       "\n",
       "    for(var toolbar_ind in mpl.toolbar_items) {\n",
       "        var name = mpl.toolbar_items[toolbar_ind][0];\n",
       "        var tooltip = mpl.toolbar_items[toolbar_ind][1];\n",
       "        var image = mpl.toolbar_items[toolbar_ind][2];\n",
       "        var method_name = mpl.toolbar_items[toolbar_ind][3];\n",
       "\n",
       "        if (!name) {\n",
       "            // put a spacer in here.\n",
       "            continue;\n",
       "        }\n",
       "        var button = $('<button/>');\n",
       "        button.addClass('ui-button ui-widget ui-state-default ui-corner-all ' +\n",
       "                        'ui-button-icon-only');\n",
       "        button.attr('role', 'button');\n",
       "        button.attr('aria-disabled', 'false');\n",
       "        button.click(method_name, toolbar_event);\n",
       "        button.mouseover(tooltip, toolbar_mouse_event);\n",
       "\n",
       "        var icon_img = $('<span/>');\n",
       "        icon_img.addClass('ui-button-icon-primary ui-icon');\n",
       "        icon_img.addClass(image);\n",
       "        icon_img.addClass('ui-corner-all');\n",
       "\n",
       "        var tooltip_span = $('<span/>');\n",
       "        tooltip_span.addClass('ui-button-text');\n",
       "        tooltip_span.html(tooltip);\n",
       "\n",
       "        button.append(icon_img);\n",
       "        button.append(tooltip_span);\n",
       "\n",
       "        nav_element.append(button);\n",
       "    }\n",
       "\n",
       "    var fmt_picker_span = $('<span/>');\n",
       "\n",
       "    var fmt_picker = $('<select/>');\n",
       "    fmt_picker.addClass('mpl-toolbar-option ui-widget ui-widget-content');\n",
       "    fmt_picker_span.append(fmt_picker);\n",
       "    nav_element.append(fmt_picker_span);\n",
       "    this.format_dropdown = fmt_picker[0];\n",
       "\n",
       "    for (var ind in mpl.extensions) {\n",
       "        var fmt = mpl.extensions[ind];\n",
       "        var option = $(\n",
       "            '<option/>', {selected: fmt === mpl.default_extension}).html(fmt);\n",
       "        fmt_picker.append(option)\n",
       "    }\n",
       "\n",
       "    // Add hover states to the ui-buttons\n",
       "    $( \".ui-button\" ).hover(\n",
       "        function() { $(this).addClass(\"ui-state-hover\");},\n",
       "        function() { $(this).removeClass(\"ui-state-hover\");}\n",
       "    );\n",
       "\n",
       "    var status_bar = $('<span class=\"mpl-message\"/>');\n",
       "    nav_element.append(status_bar);\n",
       "    this.message = status_bar[0];\n",
       "}\n",
       "\n",
       "mpl.figure.prototype.request_resize = function(x_pixels, y_pixels) {\n",
       "    // Request matplotlib to resize the figure. Matplotlib will then trigger a resize in the client,\n",
       "    // which will in turn request a refresh of the image.\n",
       "    this.send_message('resize', {'width': x_pixels, 'height': y_pixels});\n",
       "}\n",
       "\n",
       "mpl.figure.prototype.send_message = function(type, properties) {\n",
       "    properties['type'] = type;\n",
       "    properties['figure_id'] = this.id;\n",
       "    this.ws.send(JSON.stringify(properties));\n",
       "}\n",
       "\n",
       "mpl.figure.prototype.send_draw_message = function() {\n",
       "    if (!this.waiting) {\n",
       "        this.waiting = true;\n",
       "        this.ws.send(JSON.stringify({type: \"draw\", figure_id: this.id}));\n",
       "    }\n",
       "}\n",
       "\n",
       "\n",
       "mpl.figure.prototype.handle_save = function(fig, msg) {\n",
       "    var format_dropdown = fig.format_dropdown;\n",
       "    var format = format_dropdown.options[format_dropdown.selectedIndex].value;\n",
       "    fig.ondownload(fig, format);\n",
       "}\n",
       "\n",
       "\n",
       "mpl.figure.prototype.handle_resize = function(fig, msg) {\n",
       "    var size = msg['size'];\n",
       "    if (size[0] != fig.canvas.width || size[1] != fig.canvas.height) {\n",
       "        fig._resize_canvas(size[0], size[1]);\n",
       "        fig.send_message(\"refresh\", {});\n",
       "    };\n",
       "}\n",
       "\n",
       "mpl.figure.prototype.handle_rubberband = function(fig, msg) {\n",
       "    var x0 = msg['x0'];\n",
       "    var y0 = fig.canvas.height - msg['y0'];\n",
       "    var x1 = msg['x1'];\n",
       "    var y1 = fig.canvas.height - msg['y1'];\n",
       "    x0 = Math.floor(x0) + 0.5;\n",
       "    y0 = Math.floor(y0) + 0.5;\n",
       "    x1 = Math.floor(x1) + 0.5;\n",
       "    y1 = Math.floor(y1) + 0.5;\n",
       "    var min_x = Math.min(x0, x1);\n",
       "    var min_y = Math.min(y0, y1);\n",
       "    var width = Math.abs(x1 - x0);\n",
       "    var height = Math.abs(y1 - y0);\n",
       "\n",
       "    fig.rubberband_context.clearRect(\n",
       "        0, 0, fig.canvas.width, fig.canvas.height);\n",
       "\n",
       "    fig.rubberband_context.strokeRect(min_x, min_y, width, height);\n",
       "}\n",
       "\n",
       "mpl.figure.prototype.handle_figure_label = function(fig, msg) {\n",
       "    // Updates the figure title.\n",
       "    fig.header.textContent = msg['label'];\n",
       "}\n",
       "\n",
       "mpl.figure.prototype.handle_cursor = function(fig, msg) {\n",
       "    var cursor = msg['cursor'];\n",
       "    switch(cursor)\n",
       "    {\n",
       "    case 0:\n",
       "        cursor = 'pointer';\n",
       "        break;\n",
       "    case 1:\n",
       "        cursor = 'default';\n",
       "        break;\n",
       "    case 2:\n",
       "        cursor = 'crosshair';\n",
       "        break;\n",
       "    case 3:\n",
       "        cursor = 'move';\n",
       "        break;\n",
       "    }\n",
       "    fig.rubberband_canvas.style.cursor = cursor;\n",
       "}\n",
       "\n",
       "mpl.figure.prototype.handle_message = function(fig, msg) {\n",
       "    fig.message.textContent = msg['message'];\n",
       "}\n",
       "\n",
       "mpl.figure.prototype.handle_draw = function(fig, msg) {\n",
       "    // Request the server to send over a new figure.\n",
       "    fig.send_draw_message();\n",
       "}\n",
       "\n",
       "mpl.figure.prototype.handle_image_mode = function(fig, msg) {\n",
       "    fig.image_mode = msg['mode'];\n",
       "}\n",
       "\n",
       "mpl.figure.prototype.updated_canvas_event = function() {\n",
       "    // Called whenever the canvas gets updated.\n",
       "    this.send_message(\"ack\", {});\n",
       "}\n",
       "\n",
       "// A function to construct a web socket function for onmessage handling.\n",
       "// Called in the figure constructor.\n",
       "mpl.figure.prototype._make_on_message_function = function(fig) {\n",
       "    return function socket_on_message(evt) {\n",
       "        if (evt.data instanceof Blob) {\n",
       "            /* FIXME: We get \"Resource interpreted as Image but\n",
       "             * transferred with MIME type text/plain:\" errors on\n",
       "             * Chrome.  But how to set the MIME type?  It doesn't seem\n",
       "             * to be part of the websocket stream */\n",
       "            evt.data.type = \"image/png\";\n",
       "\n",
       "            /* Free the memory for the previous frames */\n",
       "            if (fig.imageObj.src) {\n",
       "                (window.URL || window.webkitURL).revokeObjectURL(\n",
       "                    fig.imageObj.src);\n",
       "            }\n",
       "\n",
       "            fig.imageObj.src = (window.URL || window.webkitURL).createObjectURL(\n",
       "                evt.data);\n",
       "            fig.updated_canvas_event();\n",
       "            fig.waiting = false;\n",
       "            return;\n",
       "        }\n",
       "        else if (typeof evt.data === 'string' && evt.data.slice(0, 21) == \"data:image/png;base64\") {\n",
       "            fig.imageObj.src = evt.data;\n",
       "            fig.updated_canvas_event();\n",
       "            fig.waiting = false;\n",
       "            return;\n",
       "        }\n",
       "\n",
       "        var msg = JSON.parse(evt.data);\n",
       "        var msg_type = msg['type'];\n",
       "\n",
       "        // Call the  \"handle_{type}\" callback, which takes\n",
       "        // the figure and JSON message as its only arguments.\n",
       "        try {\n",
       "            var callback = fig[\"handle_\" + msg_type];\n",
       "        } catch (e) {\n",
       "            console.log(\"No handler for the '\" + msg_type + \"' message type: \", msg);\n",
       "            return;\n",
       "        }\n",
       "\n",
       "        if (callback) {\n",
       "            try {\n",
       "                // console.log(\"Handling '\" + msg_type + \"' message: \", msg);\n",
       "                callback(fig, msg);\n",
       "            } catch (e) {\n",
       "                console.log(\"Exception inside the 'handler_\" + msg_type + \"' callback:\", e, e.stack, msg);\n",
       "            }\n",
       "        }\n",
       "    };\n",
       "}\n",
       "\n",
       "// from http://stackoverflow.com/questions/1114465/getting-mouse-location-in-canvas\n",
       "mpl.findpos = function(e) {\n",
       "    //this section is from http://www.quirksmode.org/js/events_properties.html\n",
       "    var targ;\n",
       "    if (!e)\n",
       "        e = window.event;\n",
       "    if (e.target)\n",
       "        targ = e.target;\n",
       "    else if (e.srcElement)\n",
       "        targ = e.srcElement;\n",
       "    if (targ.nodeType == 3) // defeat Safari bug\n",
       "        targ = targ.parentNode;\n",
       "\n",
       "    // jQuery normalizes the pageX and pageY\n",
       "    // pageX,Y are the mouse positions relative to the document\n",
       "    // offset() returns the position of the element relative to the document\n",
       "    var x = e.pageX - $(targ).offset().left;\n",
       "    var y = e.pageY - $(targ).offset().top;\n",
       "\n",
       "    return {\"x\": x, \"y\": y};\n",
       "};\n",
       "\n",
       "/*\n",
       " * return a copy of an object with only non-object keys\n",
       " * we need this to avoid circular references\n",
       " * http://stackoverflow.com/a/24161582/3208463\n",
       " */\n",
       "function simpleKeys (original) {\n",
       "  return Object.keys(original).reduce(function (obj, key) {\n",
       "    if (typeof original[key] !== 'object')\n",
       "        obj[key] = original[key]\n",
       "    return obj;\n",
       "  }, {});\n",
       "}\n",
       "\n",
       "mpl.figure.prototype.mouse_event = function(event, name) {\n",
       "    var canvas_pos = mpl.findpos(event)\n",
       "\n",
       "    if (name === 'button_press')\n",
       "    {\n",
       "        this.canvas.focus();\n",
       "        this.canvas_div.focus();\n",
       "    }\n",
       "\n",
       "    var x = canvas_pos.x;\n",
       "    var y = canvas_pos.y;\n",
       "\n",
       "    this.send_message(name, {x: x, y: y, button: event.button,\n",
       "                             step: event.step,\n",
       "                             guiEvent: simpleKeys(event)});\n",
       "\n",
       "    /* This prevents the web browser from automatically changing to\n",
       "     * the text insertion cursor when the button is pressed.  We want\n",
       "     * to control all of the cursor setting manually through the\n",
       "     * 'cursor' event from matplotlib */\n",
       "    event.preventDefault();\n",
       "    return false;\n",
       "}\n",
       "\n",
       "mpl.figure.prototype._key_event_extra = function(event, name) {\n",
       "    // Handle any extra behaviour associated with a key event\n",
       "}\n",
       "\n",
       "mpl.figure.prototype.key_event = function(event, name) {\n",
       "\n",
       "    // Prevent repeat events\n",
       "    if (name == 'key_press')\n",
       "    {\n",
       "        if (event.which === this._key)\n",
       "            return;\n",
       "        else\n",
       "            this._key = event.which;\n",
       "    }\n",
       "    if (name == 'key_release')\n",
       "        this._key = null;\n",
       "\n",
       "    var value = '';\n",
       "    if (event.ctrlKey && event.which != 17)\n",
       "        value += \"ctrl+\";\n",
       "    if (event.altKey && event.which != 18)\n",
       "        value += \"alt+\";\n",
       "    if (event.shiftKey && event.which != 16)\n",
       "        value += \"shift+\";\n",
       "\n",
       "    value += 'k';\n",
       "    value += event.which.toString();\n",
       "\n",
       "    this._key_event_extra(event, name);\n",
       "\n",
       "    this.send_message(name, {key: value,\n",
       "                             guiEvent: simpleKeys(event)});\n",
       "    return false;\n",
       "}\n",
       "\n",
       "mpl.figure.prototype.toolbar_button_onclick = function(name) {\n",
       "    if (name == 'download') {\n",
       "        this.handle_save(this, null);\n",
       "    } else {\n",
       "        this.send_message(\"toolbar_button\", {name: name});\n",
       "    }\n",
       "};\n",
       "\n",
       "mpl.figure.prototype.toolbar_button_onmouseover = function(tooltip) {\n",
       "    this.message.textContent = tooltip;\n",
       "};\n",
       "mpl.toolbar_items = [[\"Home\", \"Reset original view\", \"fa fa-home icon-home\", \"home\"], [\"Back\", \"Back to  previous view\", \"fa fa-arrow-left icon-arrow-left\", \"back\"], [\"Forward\", \"Forward to next view\", \"fa fa-arrow-right icon-arrow-right\", \"forward\"], [\"\", \"\", \"\", \"\"], [\"Pan\", \"Pan axes with left mouse, zoom with right\", \"fa fa-arrows icon-move\", \"pan\"], [\"Zoom\", \"Zoom to rectangle\", \"fa fa-square-o icon-check-empty\", \"zoom\"], [\"\", \"\", \"\", \"\"], [\"Download\", \"Download plot\", \"fa fa-floppy-o icon-save\", \"download\"]];\n",
       "\n",
       "mpl.extensions = [\"eps\", \"jpeg\", \"pdf\", \"png\", \"ps\", \"raw\", \"svg\", \"tif\"];\n",
       "\n",
       "mpl.default_extension = \"png\";var comm_websocket_adapter = function(comm) {\n",
       "    // Create a \"websocket\"-like object which calls the given IPython comm\n",
       "    // object with the appropriate methods. Currently this is a non binary\n",
       "    // socket, so there is still some room for performance tuning.\n",
       "    var ws = {};\n",
       "\n",
       "    ws.close = function() {\n",
       "        comm.close()\n",
       "    };\n",
       "    ws.send = function(m) {\n",
       "        //console.log('sending', m);\n",
       "        comm.send(m);\n",
       "    };\n",
       "    // Register the callback with on_msg.\n",
       "    comm.on_msg(function(msg) {\n",
       "        //console.log('receiving', msg['content']['data'], msg);\n",
       "        // Pass the mpl event to the overriden (by mpl) onmessage function.\n",
       "        ws.onmessage(msg['content']['data'])\n",
       "    });\n",
       "    return ws;\n",
       "}\n",
       "\n",
       "mpl.mpl_figure_comm = function(comm, msg) {\n",
       "    // This is the function which gets called when the mpl process\n",
       "    // starts-up an IPython Comm through the \"matplotlib\" channel.\n",
       "\n",
       "    var id = msg.content.data.id;\n",
       "    // Get hold of the div created by the display call when the Comm\n",
       "    // socket was opened in Python.\n",
       "    var element = $(\"#\" + id);\n",
       "    var ws_proxy = comm_websocket_adapter(comm)\n",
       "\n",
       "    function ondownload(figure, format) {\n",
       "        window.open(figure.imageObj.src);\n",
       "    }\n",
       "\n",
       "    var fig = new mpl.figure(id, ws_proxy,\n",
       "                           ondownload,\n",
       "                           element.get(0));\n",
       "\n",
       "    // Call onopen now - mpl needs it, as it is assuming we've passed it a real\n",
       "    // web socket which is closed, not our websocket->open comm proxy.\n",
       "    ws_proxy.onopen();\n",
       "\n",
       "    fig.parent_element = element.get(0);\n",
       "    fig.cell_info = mpl.find_output_cell(\"<div id='\" + id + \"'></div>\");\n",
       "    if (!fig.cell_info) {\n",
       "        console.error(\"Failed to find cell for figure\", id, fig);\n",
       "        return;\n",
       "    }\n",
       "\n",
       "    var output_index = fig.cell_info[2]\n",
       "    var cell = fig.cell_info[0];\n",
       "\n",
       "};\n",
       "\n",
       "mpl.figure.prototype.handle_close = function(fig, msg) {\n",
       "    fig.root.unbind('remove')\n",
       "\n",
       "    // Update the output cell to use the data from the current canvas.\n",
       "    fig.push_to_output();\n",
       "    var dataURL = fig.canvas.toDataURL();\n",
       "    // Re-enable the keyboard manager in IPython - without this line, in FF,\n",
       "    // the notebook keyboard shortcuts fail.\n",
       "    IPython.keyboard_manager.enable()\n",
       "    $(fig.parent_element).html('<img src=\"' + dataURL + '\">');\n",
       "    fig.close_ws(fig, msg);\n",
       "}\n",
       "\n",
       "mpl.figure.prototype.close_ws = function(fig, msg){\n",
       "    fig.send_message('closing', msg);\n",
       "    // fig.ws.close()\n",
       "}\n",
       "\n",
       "mpl.figure.prototype.push_to_output = function(remove_interactive) {\n",
       "    // Turn the data on the canvas into data in the output cell.\n",
       "    var dataURL = this.canvas.toDataURL();\n",
       "    this.cell_info[1]['text/html'] = '<img src=\"' + dataURL + '\">';\n",
       "}\n",
       "\n",
       "mpl.figure.prototype.updated_canvas_event = function() {\n",
       "    // Tell IPython that the notebook contents must change.\n",
       "    IPython.notebook.set_dirty(true);\n",
       "    this.send_message(\"ack\", {});\n",
       "    var fig = this;\n",
       "    // Wait a second, then push the new image to the DOM so\n",
       "    // that it is saved nicely (might be nice to debounce this).\n",
       "    setTimeout(function () { fig.push_to_output() }, 1000);\n",
       "}\n",
       "\n",
       "mpl.figure.prototype._init_toolbar = function() {\n",
       "    var fig = this;\n",
       "\n",
       "    var nav_element = $('<div/>')\n",
       "    nav_element.attr('style', 'width: 100%');\n",
       "    this.root.append(nav_element);\n",
       "\n",
       "    // Define a callback function for later on.\n",
       "    function toolbar_event(event) {\n",
       "        return fig.toolbar_button_onclick(event['data']);\n",
       "    }\n",
       "    function toolbar_mouse_event(event) {\n",
       "        return fig.toolbar_button_onmouseover(event['data']);\n",
       "    }\n",
       "\n",
       "    for(var toolbar_ind in mpl.toolbar_items){\n",
       "        var name = mpl.toolbar_items[toolbar_ind][0];\n",
       "        var tooltip = mpl.toolbar_items[toolbar_ind][1];\n",
       "        var image = mpl.toolbar_items[toolbar_ind][2];\n",
       "        var method_name = mpl.toolbar_items[toolbar_ind][3];\n",
       "\n",
       "        if (!name) { continue; };\n",
       "\n",
       "        var button = $('<button class=\"btn btn-default\" href=\"#\" title=\"' + name + '\"><i class=\"fa ' + image + ' fa-lg\"></i></button>');\n",
       "        button.click(method_name, toolbar_event);\n",
       "        button.mouseover(tooltip, toolbar_mouse_event);\n",
       "        nav_element.append(button);\n",
       "    }\n",
       "\n",
       "    // Add the status bar.\n",
       "    var status_bar = $('<span class=\"mpl-message\" style=\"text-align:right; float: right;\"/>');\n",
       "    nav_element.append(status_bar);\n",
       "    this.message = status_bar[0];\n",
       "\n",
       "    // Add the close button to the window.\n",
       "    var buttongrp = $('<div class=\"btn-group inline pull-right\"></div>');\n",
       "    var button = $('<button class=\"btn btn-mini btn-primary\" href=\"#\" title=\"Stop Interaction\"><i class=\"fa fa-power-off icon-remove icon-large\"></i></button>');\n",
       "    button.click(function (evt) { fig.handle_close(fig, {}); } );\n",
       "    button.mouseover('Stop Interaction', toolbar_mouse_event);\n",
       "    buttongrp.append(button);\n",
       "    var titlebar = this.root.find($('.ui-dialog-titlebar'));\n",
       "    titlebar.prepend(buttongrp);\n",
       "}\n",
       "\n",
       "mpl.figure.prototype._root_extra_style = function(el){\n",
       "    var fig = this\n",
       "    el.on(\"remove\", function(){\n",
       "\tfig.close_ws(fig, {});\n",
       "    });\n",
       "}\n",
       "\n",
       "mpl.figure.prototype._canvas_extra_style = function(el){\n",
       "    // this is important to make the div 'focusable\n",
       "    el.attr('tabindex', 0)\n",
       "    // reach out to IPython and tell the keyboard manager to turn it's self\n",
       "    // off when our div gets focus\n",
       "\n",
       "    // location in version 3\n",
       "    if (IPython.notebook.keyboard_manager) {\n",
       "        IPython.notebook.keyboard_manager.register_events(el);\n",
       "    }\n",
       "    else {\n",
       "        // location in version 2\n",
       "        IPython.keyboard_manager.register_events(el);\n",
       "    }\n",
       "\n",
       "}\n",
       "\n",
       "mpl.figure.prototype._key_event_extra = function(event, name) {\n",
       "    var manager = IPython.notebook.keyboard_manager;\n",
       "    if (!manager)\n",
       "        manager = IPython.keyboard_manager;\n",
       "\n",
       "    // Check for shift+enter\n",
       "    if (event.shiftKey && event.which == 13) {\n",
       "        this.canvas_div.blur();\n",
       "        event.shiftKey = false;\n",
       "        // Send a \"J\" for go to next cell\n",
       "        event.which = 74;\n",
       "        event.keyCode = 74;\n",
       "        manager.command_mode();\n",
       "        manager.handle_keydown(event);\n",
       "    }\n",
       "}\n",
       "\n",
       "mpl.figure.prototype.handle_save = function(fig, msg) {\n",
       "    fig.ondownload(fig, null);\n",
       "}\n",
       "\n",
       "\n",
       "mpl.find_output_cell = function(html_output) {\n",
       "    // Return the cell and output element which can be found *uniquely* in the notebook.\n",
       "    // Note - this is a bit hacky, but it is done because the \"notebook_saving.Notebook\"\n",
       "    // IPython event is triggered only after the cells have been serialised, which for\n",
       "    // our purposes (turning an active figure into a static one), is too late.\n",
       "    var cells = IPython.notebook.get_cells();\n",
       "    var ncells = cells.length;\n",
       "    for (var i=0; i<ncells; i++) {\n",
       "        var cell = cells[i];\n",
       "        if (cell.cell_type === 'code'){\n",
       "            for (var j=0; j<cell.output_area.outputs.length; j++) {\n",
       "                var data = cell.output_area.outputs[j];\n",
       "                if (data.data) {\n",
       "                    // IPython >= 3 moved mimebundle to data attribute of output\n",
       "                    data = data.data;\n",
       "                }\n",
       "                if (data['text/html'] == html_output) {\n",
       "                    return [cell, data, j];\n",
       "                }\n",
       "            }\n",
       "        }\n",
       "    }\n",
       "}\n",
       "\n",
       "// Register the function which deals with the matplotlib target/channel.\n",
       "// The kernel may be null if the page has been refreshed.\n",
       "if (IPython.notebook.kernel != null) {\n",
       "    IPython.notebook.kernel.comm_manager.register_target('matplotlib', mpl.mpl_figure_comm);\n",
       "}\n"
      ],
      "text/plain": [
       "<IPython.core.display.Javascript object>"
      ]
     },
     "metadata": {},
     "output_type": "display_data"
    },
    {
     "data": {
      "text/html": [
       "<img src=\"data:image/png;base64,iVBORw0KGgoAAAANSUhEUgAAAoAAAAHgCAYAAAA10dzkAAAgAElEQVR4Xux9CZhdVZXuSghgAjFhTqLiBIgTTQn4sPUF2oEAXUlDwPfApmnfAwUfNMjQ3Y/BmFIG7SfpBkEmbSdaEUjQpMRO3kMCbYvdgoVAA01ERaSCBAghYUhCkvf95951s2rV3mfvffa5N1W5635ffUnV3eN/1jn7P2scQ/YxBAwBQ8AQMAQMAUPAEOgqBMZ01W5ts4aAIWAIGAKGgCFgCBgCZATQhMAQMAQMAUPAEDAEDIEuQ8AIYJddcNuuIWAIGAKGgCFgCBgCRgBNBgwBQ8AQMAQMAUPAEOgyBIwAdtkFt+0aAoaAIWAIGAKGgCFgBNBkwBAwBAwBQ8AQMAQMgS5DwAhgl11w264hYAgYAoaAIWAIGAJGAE0GDAFDwBAwBAwBQ8AQ6DIEjAB22QW37RoChoAhYAgYAoaAIWAE0GTAEDAEDAFDwBAwBAyBLkPACGCXXXDbriFgCBgChoAhYAgYAkYATQYMAUPAEDAEDAFDwBDoMgSMAHbZBbftGgKGgCFgCBgChoAhYATQZMAQMAQMAUPAEDAEDIEuQ8AIYJddcNuuIWAIGAKGgCFgCBgCRgBNBgwBQ8AQMAQMAUPAEOgyBIwAdtkFt+0aAoaAIWAIGAKGgCFgBNBkwBAwBAwBQ8AQMAQMgS5DwAhgl11w264hYAgYAoaAIWAIGAJGAE0GDAFDwBAwBAwBQ8AQ6DIEjAB22QW37RoChoAhYAgYAoaAIWAE0GTAEDAEDAFDwBAwBAyBLkPACGCXXXDbriFgCBgChoAhYAgYAkYATQYMAUPAEDAEDAFDwBDoMgSMAHbZBbftGgKGgCFgCBgChoAhYATQZMAQMAQMAUPAEDAEDIEuQ8AIYJddcNuuIWAIGAKGgCFgCBgCRgBNBgwBQ8AQMAQMAUPAEOgyBIwAdtkFt+0aAoaAIWAIGAKGgCFgBNBkwBAwBAwBQ8AQMAQMgS5DwAhgl11w264hYAgYAoaAIWAIGAJGAE0GDAFDwBAwBAwBQ8AQ6DIEjAB22QW37RoChoAhYAgYAoaAIWAE0GTAEDAEDAFDwBAwBAyBLkPACGCXXXDbriFgCBgChoAhYAgYAkYATQYMAUPAEDAEDAFDwBDoMgSMAHbZBbftGgKGgCFgCBgChoAhYATQZMAQMAQMAUPAEDAEDIEuQ8AIYJddcNuuIWAIGAKGgCFgCBgCRgBNBgwBQ8AQMAQMAUPAEOgyBIwAdtkFt+0aAoaAIWAIGAKGgCHQ7QTw+0Q0i4g+TEQ/borD3kR0LREdTERPEdHniejrJiqGgCFgCBgChoAhYAhsLQh0MwH8H0T034joMCL6SJMAjiOih4joF0T0uSYJvIaIZhDRHVvLRbd9GAKGgCFgCBgChkB3I9CtBPCNRHQnEf0xEf1eaAChDbyRiHYlopeaovFNIppIRLO7W1Rs94aAIWAIGAKGgCGwtSDQjQQQe4a5F2bdbxHRRkEAYe6dTkSHiAt8IhFdSkSv21ouuu3DEDAEDAFDwBAwBLobgW4kgOc0CR60ffhIAgjfv52J6KNCLI4goh8Q0XbdLSq2e0PAEDAEDAFDwBDYWhDoNgK4LxHdTkTvIaI/1EAAgd80Ilq9tQiE7cMQMAQMAUPAEOgSBODeNUhEm7pkv0O22W0E8C+J6GvqYm9DRBuavn+/TTQBwywMH0L7GAKGgCFgCBgChsDoQ+D1RPTk6Ft2/oq7jQC+lohwseXnQSI6iYgWE9EBTSK4mwgC+QYRoZ8rCAR/X/XEE0/Qa1+L/25dn/PPP58uueSSrWtTzd3Y3kbnZd2arxuuyNa8P9ub3XMjCYEXXniB3vCGN2BJk4johZG0tk6tpdsIoAtX6QO4LRGBEA6INDBfIaLDiWipo3NBAFetWrVVEsCzzz6b5s2b1ylZ7Og8treOwl3bZFvzdQNIW/P+bG+13QYdHWhrvW4ggJMmgfsZAeyoQI2wyWD+5TyAWNpeRHSdSASNfIDQAro+RgBH2MWMXc7W+lAzEhErASOzncnlyLwuoVXZdQshNPK+NwJIZBrAPLncqgng4sWLacYM5MDe+j62t9F5Tbfm64YrsjXvz/Zm99xIQsAIoBHAXHncqglgLjjW3xAwBAwBQ8AQGIkIGAE0Apgrl0YAcxG0/oaAIWAIGAKGQIcRMAJoBDBX5IwA5iJo/Q0BQ8AQMAQMgQ4jYATQCGCuyBkBzEXQ+hsChoAhYAgYAh1GwAigEcBckTMCmIug9TcEDAFDwBAwBDqMgBFAI4C5ImcEMBdB628IGAKGgCFgCHQYASOARgBzRc4IYC6C1t8QMAQMAUPAEOgwAkYAjQDmipwRwFwErb8hYAgYAoaAIdBhBIwAGgHMFTkjgLkIWn9DwBAwBAwBQ6DDCBgBNAKYK3JGAHMRtP6GgCFgCBgChkCHETACaAQwV+SMAOYiaP0NAUPAEDAEDIEOI2AE0AhgrsgZAcxF0PobAoaAIWAIGAIdRsAIoBHAXJEzApiLoPU3BAwBQ8AQMAQ6jIARQCOAuSJnBDAXQetvCBgChoAhYAh0GAEjgEYAc0XOCGAugtbfEDAEDAFDwBDoMAJGAI0A5oqcEcBcBK2/IWAIGAKGgCHQYQSMABoBzBU5I4C5CFp/Q8AQMAQMAUOgwwgYATQCmCtyRgBzEbT+hoAhYAgYAoZAhxEwAmgEMFfkjADmImj9DQFDwBAwBAyBDiNgBNAIYK7IGQHMRdD6GwKGgCFgCBgCHUbACKARwFyRMwKYi6D1NwQMAUPAEDAEOoyAEUAjgLkiZwQwF0HrbwgYAoaAIWAIdBgBI4BGAHNFzghgLoLW3xAwBAwBQ8AQ6DACRgCNAOaKnBHAXAStvyFgCBgChoAh0GEEjAAaAcwVOSOAuQhaf0PAEDAEDAFDoMMIGAE0ApgrckYAcxG0/oaAIWAIGAKGQIcRMAJoBDBX5IwA5iJo/Q0BQ8AQMAQMgQ4jYATQCGCuyBkBzEXQ+hsChoAhYAgYAh1GwAigEcBckTMCmIug9TcEDAFDwBAwBDqMgBFAI4C5ImcEMBdB628IeBAYGBighQsX0qxZs6inp8dwMgQMAUOgNgSMABoBzBUmI4C5CFp/Q0AhAOJ37bXX0vz58+mZZ56hadOmUX9/v5FAkxRDwBCoDQEjgEYAc4XJCGAugtbfEBAIgPz19vbS4ODgEFz6+vpozpw5hpUhYAgYArUgYATQCGCuIBkBzEXQ+hsCAgEQvblz5w7BxDSAJiKGgCFQNwJGAI0A5sqUEcBcBK2/IeDRAO622240e/ZsOuWUU8z8a1JiCBgCtSJgBNAIYK5AGQHMRdD6GwIKAZiBFy1aRDNnzjTiZ9JhCBgCbUHACKARwFzBMgKYi6D1NwQMAUPAEDAEOoyAEUAjgLkiZwQwF0Hrbwh0EQKW2qaLLrZtdUQjYATQCGCugBoBzEXQ+hsCXYKAjHC2wJYuuei2zRGLgBFAI4C5wmkEMBdB628IjDAE2qWl0xHOltpmhF14W05XIWAE0AhgrsAbAcxF0PobAiMIgXZq6do59giC0JZiCIwKBIwAGgHMFVQjgLkIWv9Rj0C7NGZbAph2a+kswnlLXFWb0xAYjoARQCOAufeFEcBcBK3/qEZga9NqbW37GdXCZYs3BNqIgBFAI4C54mUEMBdB6z+qEWi3xmxLgNOtWrqtSZO7JeTG5hxdCBgBNAKYK7FGAHMRtP6jGgHTmI3qy9davF3HreM62i7iETAC2J0E8G+J6ONEtCcRvUxE/0pE5xLRsqbo7E1E1xLRwUT0FBF9noi+7hErI4Dx95u13EoR6FaN2Wi+nFrbtzVqckfz9bG1tx8BI4DdSQCPIaKVRPQYEYHA9RHRfkS0FxGNI6KHiOgXRPS5Jgm8hohmENEdDpE0Atj++9RmMAQMgRoRcGn7MHxvby8NDg6S5SisEWwbasQiYASwOwmgFsh3EdEviWhqk/DdSES7EtFLzYbfJKKJRDTbCOCIvZdtYYaAIRCJgE/bZ5rcSACt2VaBgBFAI4DjiegiIvoQEe3fNPdOJ6JDhISfSESXEtHrjABuFfe9bcIQaCsCVYMpqvaL2Ywc27R9MYhZm60dASOA3UsA/5SIoOmb0DQFf4SIHm/6/u1MRB8Vwn8EEf2AiLYzAri1PxJsf1s7Au0kWcCuajAF+h122GH0zDPP0K677kpLliyhnp6eWi6Hz+S7aNEimjlzZm3z1LJYG8QQ6BACRgC7lwBC8weT7x7NAJB9ieg9RHQFERkB7NANaNMYAp1EoCo5S1lj1WCKU045ha677rrWVPj9mmvgfpz/qbqm/JltBENg5CJgBLB7CaCUym2bQSEfI6KDiCjZBHzaaafRdts1FIQzZswofuxjCBgCIwuBThChqiTz1FNPpWuvRfKBxge/X3311bUAWHVNtUxugxgCIwiBxYsXE37wWbduHV111VX47yQiemEELbNjSxnTsZlG7kRgbogKRpAH/g/T8G4iCOQbzWhhCwIZudfQVmYIBBHoFBGqEkyBPnhxXLFiBe22227FIVWXCRjAVFlTEFBrYAiMYgRMA9idGsAvENH3iWiQiKYQ0f8mIjjbvJuI1hLRg3heijQwXyGiw4loqUPWLQ3MKH4A2NK7D4GRTIRG8tq6T1Jsx1s7AkYAu5MAfoeIPtDU8q0gon8hojnNYBDIPPIBwhmHE0EjHyC0gK6PEcCt/Slh+xvRCLQ7qGNEb94WZwgYApURMALYnQSwssCYBrBO6GwsQ2AzAilEjtvus88+dO65527x5MUpa7drbggYAiMDASOARgBzJdE0gLkIWv+uRyDFN0+2nThxIq1evbqFH4I85syBMr9zn5S117GqTpDNTsxRBxY2hiGQg4ARQCOAOfKDvkYAcxG0/l2PQEp0rm6744470po1a7ZY+bKUtede6E6QzU7MkYuD9TcE6kDACKARwFw5MgKYi6D17xoEfJqlFNKh237pS1+iZcuWbbGExilrz73QnSCbnZgjFwfrbwjUgYARQCOAuXJkBDAXQeufjMBoNNGFiFJKBGxK22RwK3To1HpCGFZY+rAunZijjnXaGIZALgJGAI0A5sqQEcBcBK1/EgKdPqBlwMWjjz5Ks2bNqpSfrlOapdFIjn0C4NpLJ8hmHXNsTdch6Qa1xqMGASOARgBzhdUIYC6C1j8JgU4RKSxKks2xY8fSxo0bK/va5RDXWDKRM4e8CDHzxbRJurCqcV17yVlD1b6jee1V92z9Rh8CRgCNAOZKrRHAXAStfxICnTxcNdnkhVaNtq2iWUrZry6nVmWdMfPFtEm6qI7GLqI/c+ZMWrhwYWUtbO6aYvt38iUldk3WzhDQCBgBNAKYe1cYAcxF0PonI1CFSCVPUrMGsGz+Mm1aLJnAGIcddhg988wzxVRVy6nFzBfTpgreWgvZ29vbynGIYJeRkPMwZl+dIMgx67A2hkAZAkYAjQDm3iFGAHMRtP5tQ6AOMyWTzb333rst0bYhshD6Xmol586d28LylFNOoWuuuSYZ25j5YtpoMldFcyeJPvrL/VXRbiaDkdGhUy8pGUu0rl2OgBFAI4C5t4ARwFwErX9bEEglKW1ZRMSgMdq0GDJR535j51u0aFEw/UyVdbmI+3e/+1064YQTCj9M+GPecMMNdPzxx0cgbE0MAUPAhYARQCOAuXeGEcBcBK1/WxCIIVZtmThx0CoEyTdFDHFLXF7RHONee+21tGnTJoKfYU9PT/QwqdfBh0fqONELbFPDOrTPbVqaDWsIFAgYATQCmHsrGAHMRdD6twWBOolVWxYoBm0Xcau6bkleMIb0Ldx1111pyZIl0SQw9Tr4iF7qOFX3Xke/0bTWOvZrY4xOBIwAGgHMlVwjgLkIWv+2IRBLrExb07gErOmbP39+EUwybdq0wsQL7Z/8pPrfxV4HXoMM/ujv72+RTemPmZOTUQtc3dd/tGkr23YD2sAjGgEjgEYAcwXUCGAugtZ/iyJQVVvjIg11E4lOAiNxkPMimGTBggW0YsWK4s+pGsAqeygjjPp6ITo4hwxWvf5l+2rHmFVwtD6GQBkCRgCNAObeIUYAcxG0/lsUgSraGtcBj034NFchslAlQrZu0Fw5D6EBhAYOn+uuu67wAQQhTPEBbPc6J06cSKtXr66coLvK9Y/ZU4rWM2Y8a2MI1I2AEUAjgLkyZQQwF0Hrv0URCGlrXFo9F2kAOYpNU8Jj7rPPPiMmt53EATkEZ8+eHSR7W0LjKde544470po1a1ryA3I6derUpETRoeu/RYXTJjcE2oiAEUAjgLniZQQwF8GtsH+dxMA3Vt1zuFKa+MhBjgawjMCk+talik4IsxSt1ZYgTpI4L1u2jJCbkZNDwzSND/suat/BMi1ryr5TMbf2hsBIRcAIoBHAXNk0ApiL4FbWv05ikELA2mGWLDMPukhDDJHQY+aaMGPFp87rgjnbaTp1kbUyWQB5HxwcHBKswmS67n3H4m3tDIGRjoARQCOAuTJqBDAXwa2sf53EwDdWnXO44G+nidYVxABtFqJt6yCxPi1fHZjJsYFb3T6PZWQttH4kioYJWPsDhvphHyHNaO4t2u7xc9dn/bsTASOARgBzJd8IYC6CW1n/OjUuW0ID2G6CxoSjrIpGVcJQhr38DubSY445JujjJ0XTZ/aOrQYCrV7I5zGkcS1LD8PfwS8QAStcJSRUQSRGXqteD77WVYjyVvZYsO2MQASMABoBzBVLI4C5CG6F/WNMobHb9o0VmqPqoe0iIdDOdSpSN4aQ+LALabswNnL6yTx/0leu7JqExvZp0uR+dNCG9nkM7d13zaH5A+njjxw3tO7Q96E1heQ4NH6of+j7qnKux61rnNB67fuRg4ARQCOAudJoBDAXQetfOwI5h7ZLA8iBBpwWJddUq02pklzmEIaYfVcdPzS27/tUn8cQsXcRl7JKJVXXLclkbHS3S5BD8+cIv8/snTpmO9eYuhZr3zkEjAAaAcyVNiOAuQha/2wEtPaiKsnhhUgSAnKWSwAkwdOmWMwpI1fxexWTIWMAM2uZT2HOYV9GzmJLuCFxM0fwpiRw9mmo9LyoVXz11VcPkakQqSz7XmswpXk5VnBD88eOI9thzOnTpw9Jg1M1ijz3fqmyfuuz5REwAmgEMFcKjQDmImj9kxHQGjRNmKqSqLo1OC6ypQmlnFNGrsb41knCKjEIVcdoFyEJlXDjQBdNgkP+iGWktQqhTTV31qVpSxb0kg4uzeqdd95ZKZCoCoZ17sXG2jIIGAE0ApgreUYAcxG0/kkI6MNK16qtSqLKFlGVMPn8CZkoIRhjzJgxRZk1HbyQAkoVM2sVn0YXcdJkPIa46vVir2Xm9VBwCNcqDlUpwVqvueaaorSdzheo9yZ/z9UCp1zL2LZ1aCa1RjHm2sWuz9qNfASMABoBzJVSI4C5CFr/JAQ0GcChz3ng6vLRS1pQSWOfZkUSykceecSZviRlDZoMyOoYqYEWvnkxB/vacT3gqppWuV6XBlSvoQzHWHN52Zx4idAaVOn3CY1q3X6gKde37JrUSdpSNaN17MHG2HIIGAE0ApgrfUYAcxG0/kkIuDQf++67b0EC68qlhwXVdRiGtIcp/ldla+J5ZHUMFyFOmU9eGB1py2XXfP6RIfzwPTR3N910E61cuZJQfm7x4sVeE6YLx5S9lGkdtYbv0EMPpaVLl7a2j76QLfj/bdy4keBnmBsIlCT0HWhsZuAOgDzCpjACaAQwVySNAOYiaP2TEZA+WaikASLBed+SB3N0yD0MQ+RHThk7V2w7Jq8+QpwyjlwnSA+bWvF3/P7JT37SGbASO4dLq5hCrFL6y3yAWD/8Di+44IKCyOn1ujR+VbWddchjJ8ZIIdOdWI/N0X4EjAAaAcyVMiOAuQha/ygEynyy4D931113RWll5Dgwv4LUQJslCWTOYRhLfjQJDGkwc9akAQ5pJV0XBH1mzJhR+CtKbZ0eC7+fddZZhIAE/kCjNm/evGHXJ3dPkgCGNIihuVz7kNck1N8nxPplIOXlIOrGqKlRFbmtaWobZgshYATQCGCu6BkBzEXQ+gcRcGlouOwXd45JgSHH4Rq86D927Fi64YYbWiQw5zCsShRCBCJURSMIYg0NQsRR4gZMYS7lf13m6FCVjtCSXSlgpkyZQrNmzRpGNnOuKdZRpX+MZjFF4xnCI/f70PXNHd/6jywEjAAaAcyVSCOAuQhafycCZRo/mB+RAw0mSAQ8xAZ/uPzApJbqjjvuaK2l6mEYQxRitUAuAlFn3eC6RU/jO3XqVFq+fHlrGk3Sc8myxAcawE2bNg2L7pV7rHpNeYzU/np/Lt/COXPm1H0ZbDxDIAoBI4BGAKMEpaSREcBcBK3/MARcxOfMM88szI/4yCjUkOlUEwCO9tSTfuc73wn6Ecaa85goICBDJzuOIYi8tlyClCtasURVEiSZ4mbDhg1FgIe8ZlLjlYKFay/oj7QurGX0lYPLxaFqf01Q8dIC07hOQRM7fur1iB3X2nUnAkYAjQDmSr4RwFwErf8wBFzE58knn/TWe02BEIcoiMItt9xSHMTbbbddUenjvPPOc0b+8qGrTbCh1CA+cpNC6nJNpCm46LZVyRmT38HBwWFBI7pCB+ZM1aq5yCY0wKHrkYNFTl8tb9BUzp49u/A7TTH/Vr0eOWu3vls3AkYAjQDmSrgRwFwErf8wBFyHHRrF5nyTA/q0Jpp4hOaUPoMYP2TO8xG9lIM8hSwymaqS4Nklgqlz10UgY28H1/qgcQW5h2tASlR4uzVrMViG1hAzRix21s4QAAJGAI0A5t4JRgBzEbT+TgRcmqFUbVEu2YJPmcxzh2hj9jkMaZzK5o7dR8r6U9rGiFwd5c/kPjGnj5yWkXT0gfYVpnT+F0Ee+oUgdD18e64bN9c8oTlC32PMLakNjpEXazP6EDACaAQwV2qNAOYiaP2jEAhpSHK0WBgb6WDmz58/xD9LV+kAyZBBGD4iJ83Gun2qho7ncPkTSq0fTK51+cBJQhJTok5fG9fvZXWCXd9JAuqLKMb+2Qe0arm2TmnWykh/zBpi2kTdSNbIEGgiYATQCGDuzWAEMBdB6x9EwGeeDZGpGM2KbCP9s6SGqYwExZKdmLWkaqn02kNRsEGgmw1SyIbel0sTV0bOXHOh6gYCJmRJO712HVHswzf04pBzXWLx5HZlms6Qe0Mn15m6L2s/OhEwAmgEMFdyjQDmImj9gwi48r2BVEDrFUoBozUv+hD2kZ0YEuQ6lH1kJ2Y8HxCxa0R6HKReyS2Jl0I2YlKd6Fq7/f39rQAIzKVrDGsMx4wZU6R4KcspyNpQGRUeu48y7VxQOCMbhNYSs4aYNpHLsWaGgPkAkhHA3NvACGAugqO4f0i7UtfW9OEJbUkVc6dPk8jaF2gAjz766KLMmdQA+kimT3vlM2mm5i2UpuRzzz13GOENkYoc/GPJRowGkMutuVL2SALI1Ty09vX888+n9evXE8zgMXkQGbc6zeIuLFPkP+cFQM6dMieT4pCmPEdOrO/oRcA0gEYAc6XXCGAugqO0fzvJh++wZQKB711lyUJQlkXmytQwTPgwXlmeQZ9jvkvryKTQV7s4ZErW/od8uHMePJDLmLQiqQQihKlP8xabn7HsmsSOoQmSJPR1mcU1Dqnyn9redw+ETMU+LEKa8pjrbG22LgSMABoBzJVoI4C5CI7S/nVpNKps32U2jCU/vgO0yn5i+4TapZiSGa8qhKJqnzINUhVCKfvEaFpTZMTlLuAzi6esXbcNXdPQS0yMvOoxUudMbZ+Cs7Ud/QgYATQCmCvFRgBzERyl/auQibq2mnOw+UybVfYT6hNjwgW5Qrk0RCHzB/vz+c3lmDdTcYvZX4pGirWFuo/WtKYQsxjNHNpoEhvamyTa0LIuWLBgSIR4HcTVt0/f31NTwcTusa770sYZXQgYATQCmCuxRgBzERzF/WP9xPjgr8sXqcrBFkMq5H5cpCFWq4NxZFoZlK475JBDihJ2XAFC7gF/R6ADSt1JU12ZKbms9i3PD/Mn/BlZ24S/p5jOfT6OfB2rpF4JkdAq19ZFAqW7gIukhtahyaqcgyOQXdeHsQnJj2+fZfuPWbNcJ8ZKdREYxY8jW3oiAkYAjQAmisyw5kYAcxHsgv6xh3oMSWO4oA2B3x4iSNetW0dIDuwzq5XN75ozdr0+QuirNyzJnT7MQQzxvSuCl9eoNYWuqF+05aharG/8+PH0ta99raiMIb/jesplpkiNg07xUiX5cuhanHXWWUW9XKkNnTNnTuW7pMzHMKS91H2xCJ8vndxXGTmX+5JJxplUlpG8MtKIFw5J+HNkuDLY1nFUIWAEsDsJ4PlEdAwR7UNEq4non4nob4joGSG9exMRbFIHE9FTRPR5Ivq6Q7qNAI6qW37LLDZGc+E6sHxaFElkOEWI1pxJbWMqCYhZrw9JF2nwaY9CBERroXyaQj2+JBb4jgNPQBJiyJUkxehflmwZhDU1WMOlOZbXP5TuJUWKQ4SzbO1aS3vssccWZeZcpLnsujO509o51/UPETeX1lESfib2VbSzKbha29GPgBHA7iSA/UT0T0R0LxGBwF1JRGuI6MNNkR5HRA8R0S+I6HNNEngNAi+J6A4l9kYAR/9zoO07CB1qWIA+QA844AB6/PHHh/hd8cELzZf0mZNaFZfvHL5PMQPqg/+YY45pmW5DYMm+O+20E7344ouFhhIfTnMiTbI6b502k5dpCl0EWZp55Vq5jJ2LXGnCl1q1I4RJzPd6n6i1PG/evKjI5tD4kjT5Xip4DK0RdpFV13ypGkAm977UOLGk2kU8y3xIfWuvyz0jdC3s+5GDgBHA7iSAWgKh5ftXIprc1Aii0OaNRLQrEb3UbPxNKBKIaLYRwJFzA9e1khTTa9U5QwepSwMk55JaFJhLZR5AtGMNoE/zEdI6adMe2osWd44AACAASURBVLvKw8VEb/JcTz755JB1Yt3wyQoRCK3N9GmKdAJlSSwvueQSuu222+ill14qNICrV0PZ3/hIcqXJeSjHog/HEIEIyVjMS0JV2ZPkrkzrmrsGTTRjSVzMvnz4acIvTfsxxDd3zzFrtzYjEwEjgEYAIZmHEdGtTYK3sWnunU5EhwixPZGILiWi1xkBHJk3c9VVjaQDAGs5++yzaenSpUO24yJnTH4mTZpU+LexaS52P3yg7rPPPt7kwlVMwbHaNH29Qr5fmkxoEuwil0wAkEBZJ5LG/FxNRZJpaFdDVVZS95hyTeokTSGMNWZVrnfV+y6lXwg/fI9rCB9ADjKS45f1H6l7TsHH2lZDwAigEcDtiOgnRPRzIjqtKUbw/duZiD4qxOoIIvoBEaG9/JgJuNq9N2J6jbQDQB5W0Gb4/K7KNIop2sayBLmhg1dfRFd7tIkhNalzaTM4fr/66qu9ciUxeeSRRwqiAK2gK2BBr7mM8MHkLs3xWMeUKVOGBOWMBBnDHi666CL64Q9/SGvXri1wcpnkY/wyO33zavxcGJetKfRyMRL33GmMu3E+I4DdTQDHEtH3iGhPIvoTYe41AthFT4NU4lEHNDHmQE2aQn14XTHtUghJiExKPFLGdeGYMpc0/WkiU3aN0G/69Om0Zg3cfhufshrCWj404QORxLVC2TVf9Ksm9Sk+lXXJmwyU0NdMRhnHXoMYOauydte4Er+YCOOYFxPpyiA1xY8++mhpRH2VPVmfkYmAEcDuJYBjiOhbRLQfEcHcu0qIKCJ+k0zAp512Gm23XUM5iDxj+LHP6EEg9tCrY0dVCGdsnzrb6YPYdzBL37dOEx1OhQPzN8zgMR9NUuEfiMhgn2+jKwiFCZ8umad9HqXfJrCp6lMZ2leIjPkidKuWR4uVs9C6U4ga36Muv1JUOilLg4R5Qvd4u/aUioG1by8CixcvJvzgg+C0q666Cv+dREQvtHfmkTk6iFA3fv6RiN5PRB8gohUKgJnNIJDdhFbwG82IYQsC6UZpqXHPZSlZXNUaXH5qrrQaWGKKBq7sQNSHoSvfHebzBWfkEJ0QmeFLgXa+IJCyyyX3hshg+I6VkUcXMcD4LrM2CCmbll3kqo5IXxcxDwV24HrceOONtGpV4z138uTJdNxxx3lTuoTwqztXIc8XI7/6JQN9n3nmGW9+wthbNzR3rFzGzmfttjwCpgHsTg0gTLxHE9GRRPSEEEMQQQSBbEtED+KlUaSB+QoRHU5EQ73zG2lkVuHB+trX4r/2MQQa2gZfVChIAjRWMEFKDZKrPBj/Ldbs5Ro7JmpXXzMXUZGBKSA50Lq4EvmmElE5d4oWxhUEgr9pjaTrOqSa/ELaI+whhljKNlVy/bnwKct3J9sjJQ8ChiZMmEAXXnhhtMbUd32qrD/0bIi9/nw9YHbXJQSrJs2Wc3PeSH4xiF1XaH/2/chCwAhgdxJAkLxNQhShBcXvbyai3zX/vhcRXScSQSMfILSA+mMEcGTd01t8NWWHhfwOB/Hhhx9eHMauQxwRjZJglfmpaQKiD7BUUFwawDPOOKPQtOADQnr55ZcPi6yVaViqONaHtDByHzoIBH51d999d+GLB2IttZYuTV/soR6r+YldO8bTkd4+jW6ImIfy3flMv6EqKL4916HBDMliDNnmMXKvod6n7wUq9tqG9mbfjywEjAB2JwGsUwqNANaJ5ggaK/bgjzmkWSvhOpA1WSnTCpZp82IPKd4X0r+UObzrg1gTLiYfvgjf2INc4gwsY4kj+nFdX2i33vKWt9C99yK3e+ODXH9Sa8mkmPesSbcr8XIKwUgxe8eOq2XL18+HtWzvklOXtiz2BaaK/2DVe0quXY8RkrMyzLSsleXQjJXLLfUIqwPbLbX2LTWvEUAjgLmyZwQwF8ER2D/1gI4lMb4D2UemQoebhE77n0EDpgmenD/VhJeKie+yhrBCv9gIaIwFH75bbrml0E7KPWH/bGrntXA1EE26uZyejiaOIdUSF/SfPXt2VNWUlGurCZCveobP3A2Mbrjhhlbkc5kGMLTnMrJZlgy7DvlJGYPlDBphmeeRta2ufbqq6Piq1pSR0k4/0lJw6fTaRvJ8RgCNAObKpxHAXATb1D/njTh0COqHv8t/r0wzJklLrCalbD/yAADJOf/88+nKK69smUP7+/uLKFefSTDWBFmVtAAv9EUVkAULFrSc9nXVDZnLj/cLTaVO4iw1oWVmSUmKdTUQJt0giffcc0/rkuo1hDQ/KbLSJlEf4n/okidgyQEzcD346le/6vUBrEImYvrUgVPsGJqUw51CB4qUaQZj8lbytYzZe7uuO48bi0u71zHaxjcCaAQwV2aNAOYi2Ib+qQ9ll1kpdPDnPnxTyFRoP6GgDSZ4ORrAnMvk03yCbM2fP59WrGgE4rNmCv9n/F3ETeetk9dKaz4ZZ1c1EBDJUEWR0HUKXZsc3CTJKNOuhQiA/p6DeFypU5ioQ5vK1WVCe4jxDawDp9gx9Hp8/rMYj4NIXBVEQvvG9yHsY8bIbROLS+48W1t/I4BGAHNl2ghgLoJt6J/yUJbaEWkCDB38ndQAhPajDwBf2haQCC79BkK0bNkygtmrSqRwymXz+T5CMwmtoDbR6QAYabplbabWwkJrU1byDWQHH5d5OSWdjEsTGysrKZilyFeIAMjvQbLxcaVOCY3jW3/si0UdOLnGqPoCV3W/WvZktP7RRx9dJBZv9z2lr0Ud2FaRz9HcxwigEcBc+TUCmItgG/qnPNhTS4q5ltvuh6+L4Ln8+5gEIfjh2WefLTRq0GxIjZrPRFimYcq9RJqAyPJ2rmul1wtCG0NWXZounbTZdTDHXr8UuYrFzEUoZd8Q+ZdEscx0yXssS50SO5eck+UGf6sa3RyLle/e8+WjDJlyU/dbRoCruHXk7Nv65iNgBNAIYK4UGQHMRbBN/WMPdaQPgV8af/A7ggpSP6GDPHU83xu+z5SJ9lKbid8RHXv77bc708ywGbUdpKaMJGP9PvIqtZGx10/OpQNhXHV6y+oFh65RXYRBEqiQq0Hd16dsvJS5QsRdpiLieyMUeR7C3/W9foFzRXOXEbcU7W/Z+uqWjSpYWJ80BIwAGgFMk5jhrY0A5iK4hfvXpQEMHeR1bbPsoHGZWrE/+HL5tCTtqOogD3yUWYNJF+vAh9cB7eQhhxzS0lLmmswkIeG8f/vuu28rVQzmDuW/C12jGIKU8iIQSxqqkGF+IShLhO0y/8fO5Vu7zqUn3RE4Sjs3TyVfJ8x10kkn0csvv1z8iaO5Oco7VNdXvjCl1JP2veB06hkQklP7Pg4BI4BGAOMkxd/KCGAuglu4Pw4BzidX5RBA/3aQKN8hA5+5W2+9tQic0Acd+rz//e9vHYj4HSZg9NEHuyQzoZQwKaRGEgA+kJl8IUWK9PfjPabg7luLj5DoIA8Z5VtF9MoIUgxBlHOmtk9ZbzvHZnLpIjz6OrzxjW+kxx9/fNjSQdLvuuuulq9ciozx/NOnT2+lttEThPxG0T6WgMfiHkueY8ezdu1FwAigEcBcCTMCmItgQv/UQyJ26JgHt2vuFBIVuxZfOzkXNFnwo8MBqFOkPPLIIy2tCNpdccUVzoTPMZGbZQe9j6BCq7d69WrnNkC+uLaxbiCJqs8fsYr5UhJ8JqJLlixpi5N+FUIRI3tlMuHDqspaUmXUtXbXPcEvGHp8TsWTkkSbx9D7Gz9+PIH04cUoFDnOcq1fplwBRi5M8JKDNUNmy+pIp+Jp7TuLgBFAI4C5EteVBLBuIhYzXrs1GmWC4Js7hUTlBlm4DnQdLSvTvfiiYlPLtaUQCZcJmnHFAf21r32NYJbF4fm9732Pnn/++Rbsurycq3xbaC0+MqW1gIxT7s2v+3dSRkNzhb6ve+9yPMytA0IOPPDAIkn2JZdc0qqDLc3Dsn/Z9eFnhcwPCdk68sgjCf67CBYq85PVLzX8MhWb8gbk74QTTqCNGzcWiceRYNtIYDulqX1jGwE0ApgrXV1HAOs+WGLHCx3+uReyrL9vbq2Vg/Zrl112GZIGInZ/IS2PKyEytH0gN9C4uaJ7Q5jFaJ9c68dafb5lMn/feeedR7/4xS/otttuo5deemnIGjHuJz7xiWD5NvgQMmnViZ1BJEOHL+apomGqKk8xmFYdW5MkWSvaRZo6tRYXEQbmN954I61atar4ms38+D9H5+rSa/iuLDG6lkUQSMjHTTfdRCtXrmzVqIbvH6c7cvk5+l7cfHIt94cgE8zJH/x+xx131HFJbYwOI2AE0Ahgrsh1HQEMkYpUQGPHq0qkfKbbFI1cyPSIw44PIexfBhvE7s+Fm+vA43QoaM9ky6Ut05qO2IojvnXwoS3n9aWUkek3XPvHocw5CaUJ21W+TWo1eb+8xtCeJH4pZdpSZdiHWYqMpc4pTdspPpShFw1XcuiUtUnMUXUExJ8/mqSmXh+XLOm0NjynrKmtr4PLTF2WH1Hu3zSAKdIwstsaATQCmCuhXUcAqxKxsoMnNnouVaPh017FzifXXDa3jiRGPxdxCREWjZE+8A444AA655xzCp8+X41TPUYqZqEbIpXQukisJn0yx59O5ZJTxi5mra4XhBAGoe8xZm56kdC6YuYIjcH7qOuexjg6ICoUjJEin6516kTi8tpIn1N972EsbaaWfcvM0JBRBDPBbBzSQIdkxb7fcggYATQCmCt9XUcAWbMUSrKaAmzKIZAyborfXMq4mhjyYc9/1+lGYvbn01TqsTmyFlofV43TqvuI7VeFLMj9a7Ofz3SpS3S5tDYhQu0inzI1SJW9xOAUKi8XGkOuC7IE3zZdqixEbuUYPg2x1MyFzMkpa5Yyevnll0cl8S57QZQaPH0vSSI8adIk2m677VoR8rrWdJkGEjhj3RxdHxsQEsJFkux2aoRj12HtNiNgBNAIYO790JUEMBe0TvWvUwPoWrNL4wEt3fXXX58UZVpGRFzaRV4L1zh1JVf2rbeOQ8hHaGM0TjGky9eG5/WVsfORaF9AjNYecRJhYBeLk2vO3NySrmAalwarrASZHgORsdKfUr/E+LTiMdcUY7nW3Im8i/qFFL/HuiuU9Y3JSxmLTYzMd+qZaPMYAZQyMMYEIgsBI4BZ8LW/s4usxGjkQiuropHyjVmmzZEaDvTXyXQRVRtj0q7zEAppK0MHv8Qfe4K2j5NF4+ANabc0eXH5E2oNjh4TJA0VX1ATFx/WWkGLtG7duiKXYqqGkefE/nJyS8pcinKvUoOFOUBgUfIPxE7X9sUYH/vYx4aInEsDJku5ueoka9lC4JErBYqUL9+affLvI1IpclA2dp3WCp4n5X6qYx+h55F9n46AaQBNA5guNUN7GAHMRXAU9ndp/qA9gk9QqPqAa7tlhwkO8ssuu4xATBDZuOeeew5JpaHLnfl8l+o6hHxrrWL21OSWiSMwchEP4PCmN72JLrjggkLDKtcSyv2mSRlyKM6fPz8ofWW+YGXpZaq+ZMg9IaABJk2ky5FBDSB+KF8I0qf3zRpobWrXGsAYAqNlBrknMa8vBQrGBDlEm1hTakj2y6Lcgxevhgax5LQswXgM1jUs1YZIRMAIoBHARJEZ1twIYC6Co6y/JC2ygobMaeaLji0zK2qtGNri8L/wwguHHLggmNJfCwckNBwICklJoVHVx0mTAsw/depUeuCBB4YQKi5BV7Znl9lQBs+w5gZaJ6nN8tU4Lgs4kNdt8uTJhcaRU5SgH0iNjFiFWOpqFVL7AxJ28803F+lH8AlpPUNizkRj+fLlBYniD5v5QfQlMZbjQU6gteQPJwDnYJsqORUxliYuuM733ntvax5fCpQU8ut7MZFzc54/Jv4hLOv6voy4yReKmOufgkld67dxyhEwAmgEMPceMQKYi2AH+vve4qtMrf27kOAWEYFlwQ0xGgBeo8z3pw929lHT2jHsI8bMVcchJPciU2dAQ4kHKogViPFFF11EV1555TBiKq8F1s2mUvwfYyCnmva/0rnX0BbEAaRIYgESLiOK5fV1kU3+nlOHSI2br16tz9SZU2JOY+oLRnDtAcFAwH3t2rVDxJnx8clFTDoT1j6/+c1vpvPPP59AxOtOgqy1uJzbMcYPssr9q/uUPRtCWvNOJRivY582xnAEjAAaAcy9L4wA5iLY5v4x5CtlCT5Tp5wHh/LRRx/dSggdOkikzxdrsfSaZNUBnYYihuCiDbRWIBc6ojRl/2zmQx+YIH1mVJC2pUuXtoZmjaDLtHvSSScVPne+fHban401gGwGliTHh4W+PhxBrfEGoYcZ1YdRFWISuj4urSq0uTqJsZQTrmABzaWurxyjjYyRSRfZa0cKFL0vRD0jqTprMDWRnzNnTorIetuGng2539eySBukbQgYATQCmCtcRgBzEWxz/9BBlzq9NCVyeTPOBYbvcBhzcIH02yqLstT1c9mvC/1PP/10Qu1azjmmD6WQ6Rn7k2vG71UTB2sSBbMjm1Gx5g0bNrQqfmBdZ555ZuELhg+nM5HmTZBEaDwlgfH53LE2Cj6AIAja15IJLvvGhZJUY006Olia9H0mcq2tg19cWRmxEIng6+PS6ur0J7LKCmvKtKn0T//0TwttXSiKNbSuTla88JFqrvSR4lOYcj/HPBtCWvPQ9ynrsbadRcAIoBHAXIkzApiLYEn/kOYkZmp50IXyocWMhzZSY6ErDvgSNPsOCn0I8Rp9pkytgdSaNheBch2wbE52EQUf7mVmVJBhaPEkxi5tKfsrMtlKzWfoIi64JrpKCP6G+aH1DH0wpk4KXBb8kXLox5AMJoGu9CWsTYbmVpJn6SuJPQLP2Hq2jEfZPmJMxHKc2LQ5rmshr6n83uUPGiK2oWst1wzcbr311uiAldixrd3oQMAIoBHAXEk1ApiLoKe/T0NRhRT6qktUXbrLZMfEJobQyD1I8uLzO5OHlkwMDa0aiMsll1xCa9asKSJCXfVxtQaQU574tGRl2kqZe47NqL4IXB9Z02RLBjqwWddHKFyECuuQgTGMl6w/GyIoIY1YVVmpMq6LaINgv+Y1rymCTmI0yz6iFcJB9osx91bZn29tZRHEVe573zWT9wMCgo477rgk8lznWqrKlfXLR8AIoBHAXCkyApiLoKe/66DXTv+xkayxWhjWxIQOSX3o6VQsZX5kPlIUE8Sh9/GhD32IHn744SLQgj++SGDMiwMWUZz33HNPq73WdJVhxWZW1jZhEF+SZdbUuLRMZaQhRCh8+DEx1oEzsVHSfO1j/AmlyMaQgRSNIa/DpdHkaNhddtml8C+NqaoiXx5i8kWm3s4p95Ye24VdqrykrhftfYFcMdpFLX8wU1dJ/VRl3danXgSMABoBzJUoI4C5CHr6uw76lANPH9Kuw08fQCHyocd0mexCfmQpB6ZrfVIDyNGrGsKQ+ZKxcJnEyzSvZQSiCslxkV4fPlprqoka44IAkW222aaVGDk2T6KLnIT2K/PxhZJGp94m2O/FF19M3//+9wvfSv7IVDcx/p/cL0XuUtbqI+SpL1FlL3NV1+4j59o1AfuNvX56LdJfN/aFNAVfa9s+BIwAGgHMlS4jgLkIlvTXpCKFoOlhXZGz+oCvSjBZa+PzI9PkJUYTI/cq86BBiyd9wZgQhIgnr5HzC1566aW0evVqp9nYReaqHsKp4uEjFGWY6bX5cufFHvJYc0gT6tLQlRHvHBy4L5vuJakDwY3RHktcdZQ6jxejzZRyNGvWrFZC7pTyay58y/w1QxpjF9kM9dE1tnlNoQhjOa6OIK/z+qfKi7VPR8AIoBHAdKkZ2sMIYC6Cif1TNU18YMWQPZ+JOeVgdEVzVsnb5/IDw8F9+eWXt9JjgNBw7jtffVx5uEvNH3wGpVbprrvuah3mqQdq4iUMNtfXOEQ+Qy8GdckMmwh9UauyFFxIAxYCwRdwU5bs2jcmyy8irnGdOUqdI7NBvvBJfTFxEerQtZLyKElYKDI91TQcWgfGS61aItcecn0IXV/7fssjYATQCGCuFBoBzEWwA/31YcBl2zjPmDzIcrWOqeSl7NBGuTJJ1FhLEav1kWNrDLSvHL4P+VimEqlY4izX6epTZpYuq2WbKlqSKMGvC4TJFY0t18P5+DgCt6pJVK9VjqMrzvgixF371esBydN5AznnoCvKWI8ZQ6xiiCTG1b54Muo3hkDHamlDFXKk9jJmXi2vMRrYVFm09u1HwAigEcBcKTMCmItgzf1DBMJ3mGIZrod/6MCL0bq4iGbMtmG25iTJaB/SkpSNqYkA8gty9DAfkDkmcKkdwTggT2eccUbhixeTmBj9Q2Y77fcXSzRCWLM2CEmtsV6XOV3LFffB2DJptMscDTxCpfp85I01TSmkr4z4c/CIDBziPchIdpnIXBOeEO6ulyjXveVKNbPvvvtGaSJD8sLfx5KzkBY5JEP2/ehDwAigEcBcqTUCmItgjf1DBKLMRy8m9UmsD5leh6tEWax2jIkG/L9S87y5tEqaRNVJqmS6HR2gEpOTL4Vsp7T1kSsmqq6KE9xHa0bZfw5aZJ8GWcqS1rh12k/Mp5F0mT+xZ1cicx0dm6IJLrsnXddQp/Qpy1fpInmx95WWiVx5qvExZkN1CAEjgEYAc0XNCGAugjX2Dz3EfYdRTL9YTQK24zI5z5s3r1WdIaRtKDvEtJmSHfHrgjHlcOcDmIkUCKo2WfO6YmrlhnDR81XVrMp5fKX3MBdrXLVmFN/p3IeSqEgM0TakMXMR9VRTZNn1911T199dGkyUm8MLCCrWpKY8cdXLhauBJt/8coV6w+iDAKWYwKZU7aQPJy0TIMJc4aeue8vGGVkIGAE0ApgrkUYAcxGssX8sgdBkLqZfyjJ9/lscJFDVdyk0bsoa62gr16MJETSA8DN8/vnnh5muQwTXR7Z1BRaXZjVmX75UHj6tpdynHD82AjuFVNcti2WEx2eWZSIPAizL/ckE4jL/HebwBQ7pxOVXXHGFM4gJpFCS5W233ZbWr1/fWr7WnLpkKPQiF5KNnITxVTWPoTXZ9+1DwAigEcBc6TICmItgzf1TDlutPUjR8kltlEsLh3VUMTmXHWK+yNAcs2LOwaXXw4SI8wvCn6suso116prJMaTAJV6aZHG9ZZCVK6+80umvhz7aPAoShL8tXbrUS1RSxBtznHXWWXTnnXcOGy/nOuk16P0zmYPfJmtVQeiR0PyOO+5wbkGW/oOG8KWXXhqWS8+lTZwyZcqQqi3yGvrkG5rAG264oaWR85HkXPJclUDmzpsiI9a2PgSMABoBzJUmI4C5CHawfzsPUVcS2LKDQRNVXps8hLXPYd0aQDmeTAkSUxEBl01rTGI0clUPWRfZ5NQ1TMZTTK2MP9LnSFNyaA+u65Yyb5lGjsfRpk+pGYv1Qy27rcqIuzTha40or4vJn2sOSehc8l+2F7RnjaGeo4wo6jlTX+R4H3K92PsRRxxBF1xwQct1w4dpVZnu4KPPpnIgYATQCGDujWEEMBfBDvWv+y099qEfo5F0aWR8UZ+SuFSNDGXIXRqXEMFwEVVdUaSMaGszbmz1BImRq+Zx7PXQ4la1X672WPfXmj/pU1jHGvV8TDZ1OiA25WvfSGgDodGGzN1///2EiGn9QV9oL+ULhEv+8TdOOSMjqCUB1BVdpJzk3Msu2ZR/gw9iSuQ97+V73/ue092hQ483m6YCAkYAjQBWEJshXYwA5iLYof7tPERDpCm0RZep7Oqrry7SoviCAVK1mSBeOHRx4LJzuzxI5Rp9JmXZXhMEDvIIaT2ZeLhIXAgnSSbQVmJTlRT4+qXiG1p7jOaP2+i0OVX3VrYmnWIIbWVicfjgXXjhhQTzrssEO2PGDFqxYkURHILIXVdZwZg9y3tH3weodb3XXnsVwzBRlC8gZS9AaIdSfVif7BtK1K5LB2LumPuBcYhNeVRVXqxffQgYATQCmCtNRgBzEexQ/5AGKXYZkhigj0uTETsWt8OYfKDib5MnT6YPfvCDRdUG5KUrMwXHkE9XvjVJAmMrIugDWpoI+eAryyWYSsJ9JKyMtFUx/2ktVTsIl08mXFpYaL8++tGPFomSWZsWo0lOkTsdnXvAAQfQ9ddf35pPr0unY+HSijDZIlgDxCnWdcAnB9gjSN/KlStbW5k0aRKtWrWqRU5jIr+lJhED+aK5sY4nn3xySGJs4ML5IGVf1958Pouh1DUp18natg8BI4BGAHOlywhgLoId7I/6t5/97GeLAytUHSCmHBr8xfhAkoEPVVJ4uArUS2jKfKBAFOBc70sJgwNJBhbgd+3cH0MwNDE6+OCDacGCBa1lYo1l1URSiFVZ21QimSpi7R5frsenhWWNXKyJPHWPugqHTtMj1+XySWRfvSrJycuu7Tve8Q56+OGHnduB3LoCbvSLgouYYX+IbpYaQNy/nKwcE/JLDL/YhXJvujBKTV2Tet2sfX0IGAE0ApgrTUYAcxFU/dtleoPG4sQTT6RXX311CGHRxd9TiIc+kKARww9r7WSqDJcGQWsT+XDSkJZpAHEAwwTn0hTyOGUawNTLp82wsr4w504LmWpjtHRlJCyFSKbuD+3bPb5eE+aTWlgf8a+yF18fqXX2kTi0cUWyo4qILBvH5Crlxcf1woG//cmf/Emh8cMHBOy1r32tUwPILgSuyiHaj4/JHVLQ8IsQXri0tjomV6Xr2nG1ljojwuu81jaWGwEjgEYAc+8NI4C5CIr+7Tp4Me4HPvCBIlUFf0DUfvKTnwwzW6UQDxC8suTH7FDv0ja69oq1yVQjus6shJoPUG3C8vkrsckO601JcFtGyPHdxRdfTLfddhu9/PLL2aZq3h8TIjbF+fCLIZJVxRNrwLWAD5w0xVYdr4yIyXrGMZU46lqDj4SFfCvhWyfrCR9zzDF09913Vyp3p8nu3LlzW3/CuIjClddZBxHpSiuy1N24ceOGvPDp+xETxWMObAAAIABJREFU1RHBLeW2jvHa9RJcl9xsLeMYATQCmCvLRgBzERT922V6c5mEcLjccsstw1YfIqH60MSBdPLJJw8hlxhUB0loYhYimrHkJrTenMtTNrbPdBmbrqOMEPEhCs3U7Nmzh9Ta1SQ4ReuUgkWduPoOdN8cLmLm0jzl7N21ptj1oB2bgDl9kNQI+l5CQvjHYO4KmJK1ljUh5PvQl1YmBuvQul0vZik+kbp/HSQyZc3d2tYIoBHAXNk3ApiLoOgfcwBUmU6au9AfjuXwgfM5rcceCnyIIi2G9IWDaRiaNvYP5Pqx2qm/rgd97HpTsSsjqaEUMjFaPNd6XKXDtJke/dolK7ymul5GytZZdY4yoqa1dzG+rDEValwElF9S6tSklWmqfTKF+X1rgZYeZt+bbrqpFVwykiN1q8iEaQxTn2yN9kYAjQBWk5zNvYwA5iKo+reDzPDB8eyzz9Iuu+zi1SjFbgXjwQwG0gffO58fHpsRoWn0RfO6KmX4Du0cjQ/vTR4W+FvZmLEaQNbUca1Ymcw6pMXT2g/pA+ZKh8LrTfHfSjkguW1ZQu5YOUE7faCD4EJ2NIl1vST45nGRBB18IwOUtAm9LAq36ktJHfdtqrzpHILSlC7vK5fWEGmW6vikyFbMfKkvNqntY9bQLW2MABoBzJV1I4C5CLa5f90PSDmeXDq0e1OnTh2WDiPljb5Ms1P1YGaigcNRE7NQ8Aj39Zmj5aEvtUAh87fvkmvt37HHHEM333zzZrI0c2bLzwwE58wzzyxy0eHj0+pITEO5BzX+oaogMaKLMWU9XB1wEXpJkNePo7xdcqIJsS9iVhNPV4BRrPtBzP5T2pSR5TLSKl/GYvxtcV0RTSxzBKasU75M5dyXvjlTyHTK86XKHrfmPkYAu5MAHk1EpxHRgUQ0kYi2JaKNQtD3Rno3IjqYiJ4ios8T0dc9N4IRwBH+hKj7AanTZ2D7nED30UcfHZaKJYWA+taaswc5vyZm8tJJzZT8e6yGQ6+xLABmiMhs2tT4ddOmItji2uuvb3196ic+QVd/+cvF730XXURzL7qo9V3fZz5DTz71FF0n2rt8z/S6gIEsISfXkoNz2W2gZSbVH9RFMjRJcJHXspx5KSSjijxUeSxosox8iLfffnvhquG6jzCHK3LeJQe8X5T++9SnPtWKNK6Sxob31i55ScEu5fmSMm43tDUC2J0E8M+JaM8m6btEEcBxRPQQEf2CiD7XJIGw18wgIldVdCOAI/xJUecDUh9QSNh83HHH0fTp04fUk9W529AvJmF0nRpAJm5I2SEjNrliAfKVwTH+xRdfLK6g6yBsm/Zs48aC8NGGDY1/8furr9LA/ffTjKOOohUwq++6Ky2+5Rbqefe7izYDDzxAvccfT4NPPUXTpkyh/u98h2js2Mbfli+naVOnUv/8+Q2/zrFjibbZBnlEaOC+++iQQw+l1atXbyaPfX1U1a8wlhBr0lSmKSqT0RSSAf+5yy67jN70pjcV0bP41KnNq/Ne8j02jj322CFl5mRqFk1aXX6oZVpe9P/EJz5B995775DpqyZu7gQeMY/XqmQ+ZuytuY0RwO4kgCzThxDRjxUBnEVEN8KiREScM+SbTU3hbMfNYARwFDwh6npA+kxUoUPapZ1xaQsBpW+tKXuQ80n/RFd913vuucdLjPS+QBiRS1H6Xmmi4yUcIHr4Wbu2QfgkARwzpvE79n///bTottto5uGHU89++xUkrviAzOG7f/5nmnnEEdTzrnc1iOF99zX+NmMG9bzznY32IID4GTeu+PnuLbfQJ08/ndasWdNIVfP9728OAEI7OcfAgJc05Rz4bOr1pZWRGiopG7Fz6peTHM2W75aODdCJeST4iLSew6eZ5ntF5qF85ZVXirQvPjOwNMXrNXI0s0+2dXteP9wqcmtyx+BlbepHwAigEUBNAGHunU5EIIf8OZGILiWi1xkBrP8mHE0jVtXQVTaPVgTH5fQO/0SYv6RZsCxQgLWW3/rWt4ocf/ITU36u1R7Ebv36hrZv3boG2WLCJ8y/RRsQwAceoIX//M8068gjG9o/fLgdxgB5xL+c0Bu/4wMix/9He5A//Iu/b7cdDTz8MC36v/+XZmLcAw9saAibxLJFPn/5S1q4aBHN+rM/o573vGcY+iGiX3a5YohcmXyFNHkubZjLFFpRpIoXE1mmTfpcpmpFy7CQRDYmWpfl9Nvf/vaQVExaq+dy3dB5AoGNT7blHtGuHb5/oWuTinNovG7/3gigEUBNAOH7tzMRfVTcHEcQ0Q+IaDsjgN3+yKimoZMHni9AwvVw14dObBRw6ICVCY5xRV2RyHzAwQ8LmhVNAoPkomnWLTR+TOBA/Njsi4lB4vBdU2s3zMz77W9Tz9vf3iB2IIhoiz5MIEHi8B1r8Hgs/B3zsDYQvzMZxP+lhnD77Ym23ZYGfvlL6j3qqIY5mbWEBxywmbBmpp6JIY8xbXx3YLs1gJpAcR7NGGKr1xzap9Z2h4iPi/wymeNqPDpVE2ofn3POOa0XIrlGTR71HnWuwaom5JSnaRWcU8bvxrZGAI0AGgEc5Xd+6HCoY3t1zCFNfNo536VRkH9D3kLUL0Ylk1jtmz5EGQddScFVa9alQYSZC8EToTrKLTNvk7AVGr3+ftrnrW+lR5cto1kw7TbNty3iBrKGQI+/+zua+/d/37pkhx54IM379Kep581vLogetHgL776bZr33vdTzlrds1uJB27fddpvJJIjftttu9gUE6eM2+Je/Zw0g5p43j+Z+8Yutufs++1ma0/SjK9qzT6EyEUtToM+sj0FjDvCYNiEtI3xNQzVsU+4J3p8mUGyaDZE53nuougjn5NR4xqTjkTK93Xbb0TpompsfDkaCSRx/R5k53E/w3cUe8JFl+Fy1fF33Ayeflu1DpR9TcE8lzTljd2tfI4BGAGsxAZ922mmEBw8+M2bMKH7s034Ecg/MmBXqOep4yGty5vItRD1TrlvqOgxkEEMsQcVB+fGPf3zIAemLmJQmrtNPP50uvPDCoiwaPpdccgmdd955w+AbuOceWrhgAc2Cj97++zdIz3//70XgRuugRADHP/5jQ7OHgxo/0BKuXVsQvN6//VsafPZZGjtmDG3ctImm7bQT9Z97bjFX75e+RIMrVzb+dt55DWIIzR6TPWj2XvOaFlkrSFuTuBUDgMiBAI4f32jX1P5BI1hoAP/iLxpBJggouflm6jnooAaJxEdoKvlvUuvGwTVlBD2mHJ+LuMde3xh5TmkjZR8BTyBPSB2Evf7TP/1TUVIwdA+6vscakLoFMoGE6ZL8sdyxvDCB43VreZXjoy3k8sorryzSBWltO7SYWL+rxCDGcdU9Rn5FrPXWW28tUg7x9cV6dHueL/Ylreq1aMf4KWsZzW0XL15M+MEHLwRXXXUV/jsJeaFH876qrr3pYV21+6ju5woCmdkMAtlNBIF8g4gQ7GFBICPscruIE3zdOF9aHcvVpq86H/JS28FaQfg94YPE0XwIyn3oGsahA5j7oh2ilREIwR/sBeZgX/oaNg2fddZZQ8goTF6opNL6IBjjZz+j3tmzN0fpfvvbtHDxYpr7pS8Nuwx9J59Mc44/vmGmRX1m+BiCCL74Ig08+iidfeuttPTxx1v9+j7wAdq0YQPNvfvuIX+bM316g+CB0LFWD/8HIcQPXspA8vADwofvOOoY3+PvaLPjjsX3Aw8+SIuWLGn4CcIHEG2ZRKK9JILbbEOnfupTrehuuckYUu3SvLrkNfb61iHrUlag4Vq+fLlzf2gn9+jTNnM7Wd9X1uoNJaiWctoK4OnvH1LBx6WBBGmDVg/3EF6iZBJ2nS+R94E9oI8kh9JH1lWXW5PPmEjznOtUhnPOuN3a1zSA3akB3KmZBuYgIrqumQ8QNqhlRARP9AdhsRFpYL5CRIcT0VLHjWJRwFvw6SEfwJI4yYMlVnviaic1PNgmyBfMsPwJ+sGVYKNNsZx0GJoLWVf1wAMPpMcee6xVxkqXsfNFJuupXX5S0FxDs4E5y9JnYK0nnHBCoQEEKb3hhhsK7U/LJ2/1aur74hdp7t/93WZszj2XZv7X/0q9J59MgytWbNbo7bwz9Z9zDvVMmUK0alVBAAf+8z9p4UMP0aw99qCeHXaggWefpd6f/pQGX3mFpm2/PfXvv38xV+9999HgunWNv/2X/0I9u+wylJSBzO2wQ4P84V8QuwkTGsRP/ovvoAmEdg8kEOQR3+PvGIMjiPEdRwmz9pA1ips20Smnnz4kxQ4W49POlJlKfTKKv2vynSNzMbeqvKek6wHuL2j+pBbMV0pRzqPv0Te+8Y1D0rBoIqk1gJxjE+4HTz/9dJGuSFcA0QEZmN9XT9oly/vuu6+zvY8s6v3hRUkHWMUQ/NhnU8x1szbpCBgB7E4C+JfNxM7NDLQtwfkTIrqLiPZqEkNOBI18gNACuj5GANPvu+we8sGJwfAA1sQJB4suj4WHMj46mMKnZdGHNhzf77777lY1ipiHvGuzZaZY11pggpK5/HhvXN3jjDPOKLQc+PjSf2Dc97///UOCOeAIL3OilSVJHmK+PO64hvYOfn7II8hBFE1z77Tdd6f+yy4rzLrXLlhQ+O+9cYcdaMn999Mn99+fjof/Hsy+q1fTwBNPUO9dd20me+96F/Vsvz0NPP88LVq5kmZOnkw9IHQbNtDA2rW0aNUqmjl+PPWAiLEWDwQPRI1NwfgdHzb1ggi+9rUNQgiSt9tuje/wf/SbOLFBZkH4mtrAVi5B/M5aQIzJOQa32aYwfx525JEF9iBLIMXSpOkjQvoFxZfo2UWGQjKXQypchBN74JcDEKVQNLJL3rV2jdv40rUwoeL0KmgfqqZSVvpNkkxXKhuYhaWWUmoFU6J9yzR0+rpsCc1u9oN3KxvACGB3EsA6xdgIYJ1oRozle3Di7/C9hIaCSZB+g8fDn8mirL1aZhaSecZAwqoegrw1nylWVqfggwRaBZhntSO8Tt/yvve9b0jyXOzTZQrXSXaR1uNf/uVfhvgEluVdKyJuOYcfyN8rrzQIEf6F+fbnP6dFP/4xzXzvewuzbu+cOTT4/PO024QJhe/VMy+/TNMmTKD+D3+4IHm0Zg31PfQQzZXm3p13pjkgXZgH5mqYhmEi5khiBhJkT2rxoMHD70zWQOqYJKItxuR/QfygPQQR3GUXGnjyyYYG8gMfoJ59922Yi9G+6ddbkEXhL9iKLh43rvAdRDUSeEfCvFmmFXMRBFeAwZQpU4aZX2MiTXNIhdZ261uxquaRiY9OSA6f6W984xsNTXLgk5riRptmoVFnf0VJJDnNDKaXz47LL7+85RbBL5h4mYzRePoIsCaSMdrFEC72fR4CRgCNAOZJUMM3cBWco18LDYN92o6Az5QmDzD5YJcPXvYNkotkE5OvbBY0XyBF8O+pw/lar993EOrDXNal1YcHNJNLliwp1ugzhWPPkiQjvcs222zT0hwyJk4Nok7azJo/dIIZF0QNP0jRgoobK1dS33e/S3N/9COnPPRNm0ZzQL7WrqXvPv00nfLcc4Q6HdOICDranlwpgrkW5A0kEMQQ/3KACIgc/x1+f6+8Qr1LltAgri+CS/r6Ggmo2YwMMsh9taYRwSP330+9Rx9dpI9hn8oYUsNblPIlk3ZXMbnGROT6oNWasbe//e2FbKSafOX4UoaxN/jxyXRCsaRSk9OYJNeuaHd933CVETk+NLnbbrvtEL/BqsSP7zmXGd9lnciZJ/eW6cb+RgCNAObKvRHAXAQT+8eaa6UZh81DmMpXOxQPZJd5K/VQDZng5PrLCEPIZ0z6OBXatWeeKQgINBlwZOePK2oS+3zyySeH+a85+3DiZU7gDNMtSB9I4AsvNH7gFwlN3bPPFuQP/w785jfUO38+Db70Eu22/fZFEMczqNKwzTbUv/PO1LN+fWHm7SWiQSLasel3EdYHJQqMbD5pEtHOOze0eU2fv77ly2nur37VanXoXnvRvBNPbCShnjx5s+8gtImsGWQt47hx1PeFL9Dciy9u9Ye5FIEHMYe5lgV97UDK8NIRq33K0QC6SrDBnC1zRsbsScKtZRhzIAIz9DLluofYjByb4sYXHOIy6bo0jL77J0X65PVwpZfhPWHM2AokKfNb23IEjAAaAcy9R4wA5iJYob/LlBZ7+KEdDrVbbrkl6i0/dlx+2w/5DGE8VwoMDUNoXsZAEzlp5i7TWMrx5dwtAoPAC07azKlQYIqFryHIHjR+zz/fIH/wA1yxokEMn3+eBn77W1r42GO0z9ixtOwPf6CZIIvr19OiF1+kmWvXtjR8fUQ0V0yO3+dUkIdKXaCxR8DJ+PHU+8QTNLh+PSHhC0y503bckfpPPpl63va2hikY2srdd29oFaEZBJFsmpsH/uM/aPrhhw+Jru6bO5fmfPazwWW5AnjYRSFW26zJkuveCC1Ea9igHb799tuLbiF5Lhvb9bITcqEIyX1oL/y9b5zQs6OK5tW3Jn19QwmmQ/6dsXu3dnEIGAE0AhgnKf5WRgBzEayxf2yeNQ6e8NXwrHqohrSFqYebaz+utbmiIKXW01dBRJPhlkYSQR5ccYOrbkDT94c/NHzxQP5A+OD7B5MvSCG++8MfCn+63n/9Vxpcu7ah7ZswgXpAELlMm7jeCLVnDWBt5t8K8jQwcSKd/eqrtFSUvOs7+GCaM2tWI1AEZA//Tp1KtNNODa1gk0DCPPzd+fPplE9/mlbLWsOoIsLE2bMmlzygaWygRYw8hTTSmM8XSe7zT0xJs5TqQhG6h1IubwoZlm1TrkEsAXYR+jr3moKLtW0gYATQCGDuvWAEMBfBmvrHHoYhjUbMOL4lo68ORJFms5QHvo8c+CJGXaQhdi9DDso/+qPNZdS4dBs0fU89tZn8gexBC4h/n3ySaPnyhhZw3Trqe+ABmvu737UgQq2FqUQ0q/mXhc3/s58fSOAiIkICTvwNv+s2NYlI6TBDyOh221H/H/8x9bz1rQ3NH8zGTARB/PA7iCD+bQaLwBewqDXc27u5jjCXnSuZOYWk6GFC8pRy/UORyNI/MaZeLst9aI16T3LNZamJYohtJ+QmNEfZ9Y29PqE57PtqCBgBNAJYTXI29zICmItgTf1jDpq62pQRQI4ydBWyT3ngu9bqS1fhW09ov8MOUfb3Y80VSB60e/iB5g/aPhBBEEIQv8HBhtkXHxDA5csbGsAVKwq/vkZKayIkqEFmdeRdwv992r4cjWAKcfS1bZHRceOoZ889id70JiLkK2QTMEcGswYQkcQggfjh/IGcOxDkDx8uPVeTnMthvPkZm41cJkj49XFkuUwA7iMq/HftauDyLdWyj2VcdNFFRa5JyO6QHJIleLhyZOq1hl7kXMOHSGPo+zZcwiIwK8fPsh1r6pYxjQAaAcyVdSOAzehSn5kxF+DY/jHkKrVNalRniHBhL7EanxQNYBkh9Wkkh42/aFEj8AHkD2QP5tDnnmsEeSDwA/8iXQtMvyB++B2EkEki/g6iuHJlocWDVg8k8FrP4lz+fj6fwBC5SyGO34XDPVFc1DF8/UAEUXJu2rRG6hhUagFGnFcQpBAkEX8HMQSJRrQwa/84gTT+rfkTkjd5jTkIQf8rS5uxa4SvMkwZ6dJRxAj4+CmSeUNWxCcm8lfvi6vvyMo1rrx9ZfCG7n39fWzJR/SDTy+CU6oEcoTWVbPIFMNtCaLbjn3kjmkE0Ahgrgx1PQHcEg+wMsIT8p+KIWCpfku8nrqxcK01Zv1yPT6N5DDyMGcOFfWFWdMH8sc+ftD4/fa3DeKHKF8QQkT8ggDCDIy2v//9sMsiiRnoD2deh2ZwiSPdi4vIYdCQn2BsMAnGn05Em4vhEQUDT6DBQ+LqN7yhoREEKQTZA8kD+UNKGZiH8Tf4COJ3BM8gYhh9WQOIf2v+xMgb2uiatXoZMnDIFa3KpIEr1LiIji6ZqJOMY4zYwBap2dRrZbMwp20qMxNLsqPzEGoiqgks1yDWBFn6PwLbsgTVMZc7ROJjxkhpEyMzKeON5rZGAI0A5spv1xPATj/AyshfXVpIfZjFaC0k6QqR0Fyhi32Dj00lUxxyCxc2NIDQ7IHcgQjCvAut3mOPNYgegj9ACp9+utFGagM9mwLpOlvVUTyGiG4paS99AmPIXawGUI81kYjujM07+LrXEb3+9UR7793wC2TiB19AEMDx42lg5UpaODBAs2bPbmDJyaqZCAaCQqrIReiFAN/LGrcuDaArPybWwnLvIw1SDtFeJ1OW9a2hESyrkiLvXS23yJW5Dprm5gffI0k6xvPVCGby50qXpImoJnLjx48fkq/QV7/YlT4m5Vmh1xhLkKvIicQuVXuaM99I7msE0Ahgrnx2PQEcCW+Uda7B91YPQQkRTGguLrvsMkK90wsvvDAqF1yqAKbsNWTWGvjFL2jRD35AM2fNahAWaPeg7YO5EuQPWj/8gBRy7r8nnmhoAqH1w/8d0b16TyBoM4hoRfMLlwawzC8vpAEsDlIVTCLXwGPvQ0TnJuQdHLYm+AKCCO6zT4MMQssH8rfHHjTw1FPUe9llNLhyJRWl8G68sXH9uXQcyCB+2mAKli8fUkZ1kunZs2fTIYccQoh+B4GSpdbKys65XiR8ZRbly0+InPoIEP4uzc2nn346XXrppUX+QJCzI488skh4Lmtmu4iXK4oZFXJ0XkXdTpqvQcqwFl2KEdpy/axArfCvfvWrUdVNhsjnwEB05Hfq82LYvTgwkJXaJ3f+kdTfCKARwFx57HoCyA/xMq1XrMaq6sVI1UKWrUePBdMQfvhA8pmccNj++Z//eeHsjg8qCtxxxx21k8Aqe9XF6gtfKpTH+uhHG4QEKV/gu3f33bRw6VKa9b73UQ/+jmhezvcHDcyjjzaCQEAGlW9X6NrB7+460UiaXn2mX44GRjepFQzNpcmfJJBfIqJlIurYN5ZXqwjN3xvfSLTXXg3fQJiBx46lvvvuo7k/+EFruL6/+iuac8EFDZIIEogfziMYuYHQfcPfo1Tg0qVLacGCBa3clvBhO+mkk6IrbzBZk8SQI3ldLx1lpczkulz+hHL7PnnW5BH318knn0wvIe9k8/6CZrCsUknsy5KrXSFzixYVZFETUpmvD30vvvhiuu222wqsY7V4oWsbKSKVmsUQ80oDj7JORgCNAOaKrBHAAIKxD+GcC5EyR6htzGEHAiVr92LtSPKKChD6cCv86hyfqgdAaP0+HF0+Tnf++MfU8653Ncjfz35GvaeeSoNPP90oifbxj1MPAh3Y1w/VMkD+8Du0hIkpW8rMtNo0C7LIQSQ5+QEx51lNMy/jEvT5azYsNT1D64egEJiD4R84cSINPPcc9X7ve0Xt42k770z9X/gC9Uyf3qgmAn9BEGqUjnv4YVr4wx9SKJde6DrLSFk268prr33woJ36yU9+UvmFRJOGMrNwmTZRy2don63r1tdH0nSJv0OmEXyxcePGVh1mbZYu81sc8qIQ0MKVkaYqL2VVophznpHWdzgCRgCNAObeF0YAAwimPhyrXpDYt9qY9UhtCKfM4HrA8kCS5E47rkMDePXVV3tTbuQcAKGE15pcalNVaw8XXkhzTjutCObo+/KXae6Xv9yCv+/QQ2nOvvs2zMLNAJCBF16ghatWtXL6lZlmXSZdn5lWk0PoXGT0cCxpG3Kgi+CRVoWPhFrDwWhhmHMRIcwkcPJkGli1ihb9/vc086CDqOftb2/4CsJHEKZj1B1+8EHqPfbYom5wSFMU8t+EKRcmUdcHY7/vfe8bUhIQZs2bb7656u3lfYnRmn+XXxw6u0y0UlMYSsoOLeeZZ55ZaPzwgQn4iiuuIFnDG1pP6XeIdiiRGMI6BxTsQfpYxswV8wzS5DTkfpKzh27tawTQCGCu7BsBDCAY+4afeyFi+8euR7eDH9Ill1xS6nQOYjZv3rzCB/CYY45pHUY6srLMfObbhzws5aGny0e59oc0FdKHCXNMmzqV+r/1rUay4w0baODf/516zziDBp99lqZNnEj9M2ZQD8zZyPf31FM08Mwz1LtmTZHaBVq5MpIWG5ShCRubefH3GL+/smuuNXiHEtG8yIAPuf7SGsUw68IUjOhgaAI5OTQIHwI/oEHlgJHddqO+v/97mnvppZtJdl9fI/La8SmTUx/JAiniYAsMWZaUPPZ+0e1Cmmu5bl9EMcaULyVIMo0awbrWsMYABA+ad7hZ4IUMxEv6AUILD1O465ManBGDj1wf9gAfy5hUMLHPIMYp52UxZh/d2sYIoBHAXNk3AhiBYKx2LmKo6CZlB1XMenyO77ERvmWaEPhZsUZRagx8a5YHBudEYyD0webyYZw/f36hCcFnhx12oLfvsw+dfeqpdPzhhzdSusDP77nnaODee2nR7bfT3uvX06PLl9Os8eOpBybfZ56hvpdeGlK3t8xMGxO5G7qQ0MDBZ/CTRHR8s7EM5ni0pLpIcXAKEomgE0QeY81cgSSFPJZqIJHvD0EhCA55y1salUwef5xmvf/91ANSiCTRSBEzaRIN/O531HviiZs1gMi9+J73eJfik1MpD/BJPfHEE+k//uM/iqjY449ntOJzToauBX8fmx6JNdRIkbJ+/fphQRcYT0fa43dozOUnpAXVKVguv/zyIRpAmIfLfARj9+1rl6rJk+OUXduyiOh2ENlcHEZrfyOARgBzZdcIYC6Cbeif8obtmz5mDKmV087uPk2INFPJRNMpGh+do0xqTvQ4OsUHp7iYNmUK9V9zDfUgoAE+ffhZsYIGfvQj6r3tts21fMeMoZ5XXx1CqNgvD9i5gjOqaADldQD5A/FDvj45F2sF2aQ7gYi2JSLUInH5CmIdMCXPD1Qg0TKQuv6BceNo4eTJtM8ee9C5v/kNDb70Ek2bNIn6zzmHemAiRgJpaAUnTCgqpSz68Y9p5p/9GfWg7J6nXFxK4hJhAAAgAElEQVSMpk0H98SYH6vebljP9OnTCw247+WjIN6RUabaJ5WDrST5cWkA+T7TWnT0h6ZbEiush6tsQDsYCkgJYT5MThx7RZuq5loXdhjPNIBVpba8nxFAI4C5kmUEMBfBkv6pD2R5MMXmuqqqKYwxdfFhxJGV+BcmKxkswm/0IW0HHwIw88H/C//6zE3yEHzkkUda2saJO+5Iq+UB/r/+F8352Mdo4J57aOGdd9KsHXaghf/2bzR3GeJkGx8drRsbjav9/aRPYHFIiprA+rtDmpU65BoQWz03IGsp1UVCYluWVkb2HWIuHjOG1jSjwAvsZs6kOYi0RtAIl41DqTj8H+ZhmJCRRmfcOBq4774WcUg59HO0UCEM5Pd6HryEQI612Ta0HvnSdMYZZxSaacgyklW7XCzkPeTz9yurTewKSHFV+YgxSbvw0oQzh6zFRkSnXDdr60fACKARwNz7wwhgLoKe/trsiTd5ad4qmzZWCxHbzjVXirM7+pdpBDnQJOTbl+JsjvmgEeHUINtuuy198uMfp1sXLaLBp56iabvtRv3/5/8UKV16585t5K97zWvoS29+M527bBkNvvqqt2Zv6iXX5lj055rASMvCuflcvoXwwburOSFrAF3zt6O+cMw+hyWXHjuWVm/cSNN22IH6P/Up6nnb2xoEsJkvsEggjdQwe+zR+HfTpoZsHHVUUTatLO/cEOI5MFAQRgRHlMlNzB5i2oTuR0nsfOtxafQ4J2EoyKqKS4bvHmU3CkkcY0zSIZxC5DfUP+d5FBrbvh+OgBFAI4C594URwAoIxmj2YjUOvunlm7nWUnCfnAd2jAawTIMCkxR8trRWwxcNWWiUVCoMnz+QXJtcAzSA137xi7TskUdo5sEHU8+UKdR39dU095bNdTn6kCj3xRdp0QsvFIEeLp85X9Jm37XQJEm2Q3CGdNuXvoWo1AETrvQBhAbyaSK6qjkIzMFHE9EFJf59sdq8CqI8zDT+pQkTaNnkyTRz772p54ADGv6BCAhBOhiuG4yUMCCA+Nu4cdT3uc/R3M99rjW9r/IENygjUtDKIUgCY/jkvso++SVG+8DqFw2QKgRMLVmyZJhPok9+XUTtO9/5zjB/Rpd2LaTB1xpAdp+QzwAE4sSYpBkDn4lX+kiGStT5xop5blW9ftZvKAJGAI0A5t4TRgAjEYzREGgNR4zPUeT0zmaxTu2hh7Urea6e0PV2H4oG1odbrIbAp/koSOSnP01zTjpps8/fL35Bvf/wDzS4Zg1NGzeO+nffnXqWL2+UgnN8Uv3jCuxUQAbqAiOZB7R2WgPY35yzzNRcR5BJjtwMu7bCFxLfLZwwgWbts08jCOQd72hECSMJNAggfAFh/kUamde9jgYefZSuuf56unXBAlohUpZgHF/AkU8bJoMikIbouOOOi4pKDWHhI1m+Fw0u3eYqueYicbgPP/axjw1Zhi9tjK40EjK5Yo3QnP/qV7+i559/ng4++GD65je/OSyaX5qAXSlmEG2Pj28+FxZlPpmx93LMy3Lo+tn3bgSMABoBzL03jABGIKjNRyFHch4yhaCVLcP1EA2ZtDQZDR00ETAMcVCHdqbsEPB9F9IQ8IHHkb8gAojERAWFaXvsQf1f+UoR9btw8WKa9ba3UQ/8z+64gxY98ADNfM1rqAdVPkoSPVclX1ILV5AbUY0jVUNXhYTGXJ/cNkPWNXYs9R94YCPRNszAiATm+sHQ/iEpNMrHnXRSERVcpHCZPZs+ecoppZHB/DKi5VG/TPBecgNDymS07EWD59dEziW/VbX9PiKsA0kkMeZ1uTR0cm2ulzNoVn2+xakuITHa/FiSmCu33drfCKARwFzZNwIYgaDrAY8ktjGHU4jwhKb3PUTLHK61iSfmYc3rSH1jd+0PfzvrrLOcwSIhosvEoMhLdvTRdMr//J9EL79Mi/r7aeahhxK9+CL1nnZaI98fIlU/8hHqQYUP1PYF+UPeP6W1k/517SRfZaZl/V0qaQzJSR3fDyPHu+xCc973vkbpOCTVRp5AVAWBFnDHHanv+utprkh90jdnDs35zGcaJuPAR8sNfue8f7prTuqQUHASkyu8aEATfs8997Sm9wWK6PWlvIyVvZjJCHs8W/C7DrqS/bE3RMlrwujzrURfTbzxN92+LP+hfE6EXipTnjshebHvhyNgBNAIYO59YQQwAkFNwvBgLvN1ixgyukkZ0XM9zH0mKlfevrKDLCa/n4s0ykMm5iDRB9oQDQUIxTnnFASQXnmlyPnX94Uv0Nyvf73VrW+vvWgOTJIgf7/+dcv0W6bpKyNfqf6BLQxKkj+3k3RGC1JEw2Hr3HnnRqJtEED82ywbV+QEXLmSrl2wgOYvXUrPPPdc42Vo4ULq2W8/b2qY0BJwnyFYCrnvkDAZ/8b4osW+VLhMukwA8cIh8/DJFEfFC0UzaMVXAq/qi16Z1k77+8l9sq+ijDx2EUj9nJLzaULIz7UYlxDGJFRDPUQSQzJh3/sRMAJoBDD3/jACGIlg1Qd85PDeZiEzq3wAh3yrkEPva1/7mjca2de/7CGu16fz9iFYBNVFYhz6ZX3Y4rBesKCRh+7FFxv4PPssDdx5J/X29TWifsePp34EK6xfT/S7321upzSAuzUDLU4NJFL2EbUYUlhGOKuanXNkJ2bNrvGHkGOY16dOpYVjxtCs/fenHmgDp05t1A2++OJCC7vbTjs1NLWf/GQjaIQ/EVrAsv0Nk4X+/igZcu7JUyc3NjK3U6bMMlcT3hcq9Oy3336FtlJHHutKIiHNaa6GLkSKY0hijox3e18jgEYAc+8BI4C5CHagfyz5dJmiUFpKllHjhLO+gzLkm6UPFX2I4IC69dZbiwL30ADecMMNLcLJBwZSf+iktvLAL7Q+X/kKHX/UUUQvvdTQ/oHkwdT7u9/RwEMP0aIlS2jm2LEN8tcs96b3BDKDahyIEea0LXCF91XT0ETtQCLas5nGJdS/TMvXaQ1gXfMV44wZQ4ObNtG07ben/mOOoZ73vpf6fvKToZHXZ59Ncy65pAE/iF8zNyAhWtjzCZGHkOm2SrJiPWcssUtxt6i6X+7H9zoIHkfYoyII/PekBlOviTWWoZQ6EgPMWVVDF4tdBx6PXTuFEUAjgLnCbwQwF8ER1h9E6uSTTy6CJmDWQiQyAir44ypZJbfg8s3K0QCCcE6dOnVIvjdtGsb8SA4Nv0r+9H3mMzTn7LMbWr0NG4hWriR6/PFGgAe0ffffT4RoX5R6e/hh71VI0b5J4gTq4oojLiurFjItxyahzhWp2D2HtITDxnn3u2nOUUfRwJgx1HvllTQI0+/uuzcqsnzkIw3yh8ogTPw8WsAY8uBrE+rrI5ayH+6Lo48+ukg1g0+oPKJrTh95Qlv47clUNi4XkpiqHhdddBH96Ec/opdffpm0SfrSSy+l888/vyUqMAWfd955wwK19L3tchvh/aNtLLHO1R7myrj1JzICaAQw9z4wApiLYEb/kBbENXSoj04IC40c+1P5itaHthDSQPr8ihAZig+qJfj8mXCQ6OhEHHZ3LVlCPchBB1IIQvGb3xD94Q9FXV966CGixx5rkD+QwaeRWc/9SdWGof3ZKrcfj+xL1hzCr9Pfx+w5uc2221L/QQdRD9LCvPOdNIDAHORj/PCHqeeggxoBIsgLiE9ACxir3XORs1Bf9umD7CGXH7seuKJcY4K4+Nrpe0CPx3kxuToI+vEadESuK5Gzj6jJv7P2HWsZ9sLU10fIB+i9DwKBWakZC0JEvNMy343zGQE0Apgr90YAcxGs2D/1AYr2sjKG7/DSCWGPPfZY2nnnnQtzLBI3l/nihcilPqRYW4C/60hEaBXuv//+IdpHPvhcGkDWTIAonvfXf03rXnqJZoFcsA8gE8AnniD65S8bmsDf/57o0UeDVyA14hbtZzRz/WHwSc1kzqjvy+bjkPYsuKg2NwjtOUVLWGguX//6RkDI1KlEb3hDIyoY0cBIDfP61zeCb/B3JoD4vaROsC8pcsgkWXbfuJIh457BR/ZzkSpu44qodQV+yPFYnlm+9fjwi5XyPUTTLYgb33+oqCLdNjBeyPyLlzzfve1aqw7yqpKzNPRi2GYR7/rhjQAaAcy9CYwA5iJYsX+KCSXm8JKaCtaCTJ48mcaNG1do4ELajhQzlTanrVu3jlatWkUyeS/WI/OXcZQll87yRSfuvddeDd+n5ctp2pQp1P+P/0g9iPKF9m9wkOg//3Oz9u9Xv2qkf2nDh/0HYQZGdQ/pNxijPWvDkmodUu4hKkgG6V/e+c5GRPDOOzeigkHOkRx6T3hKUis9TIsEwhcQCaPVh19m9EtJ7D3hIx6hcmjoB2J1yy23DLsnXPIf40+HGsDws+XPhAkTCvcLfKQWEuP/9V//dUFEkddSp5GS8+O+Xbt2bWH6LfIrHnvskJc32TYmSlrjeuCBB9J73vOeVrWVqnkMaxVIGywZASOARgCThUZ1MAKYi2DF/imEK9V8xQfkk08+OUSTUBYVqOdA7V0cVK50MMuXLy/8nHwfVz3YsuATOQ5yyc39/Odbf+o780yac8QRDQIILSA0fvg//P/w/1dfrXgFqneL1Z6lztBprWJqkAy9+c2NpNDQAu6+e+P/0AJOm9Yw/0LjN2VKQxsIM7BDC1imwUvViruIJecSdLk7sIYNQUj6BcRl0pXEznfvuO5jaOPg1gCZZ62c9tn70Ic+RCeddFIrGMqVCNuX7Jnz9sWmopJrlG4ZfG8DR9ZQal/DVBm29p1DwAigEcBcaTMCmItgs3+K+ZSnZKImI/7kQ1maWPkB7dII+LaQcqDKthx1yONywlm5hg0bNtBKBGZ4PtDGsKYluqzXxo008POfU+/RRzc0gKj88Q//QD3QMv32t408f8uWEa1Y0SCA8P9rwydExL7b1AoiZCXWLzA05pbSKiaRWVyHP/qjhsYPRA8kEFpA/B8kEME6IIcgghwMAv9N/L/5CWn5cs2Kvv6he0F/j3rAF154oTOa3UU8Q4Ekb3rTm+hxBDE1PwiMwn0Gcy8nfWaN45AXImUiDpnIy54FWCPmky9v0q8wtIc23Go2ZAYCRgCNAGaIT9HVCGAugsq/KGRqdU2nD0WQJ5A/Phy4jmeVB3TKgYq22qRVBGTcdVexHpmk+YADDqB77713yHakbx+SyrJDvCuNhRN2EIj162ng3/6NFv3oRzTzAx+gHgQXIP3LAw80/gUBfOEFOHU1CIfnEyJcZf16iWgQJjwiOkaZgCVR27GZZub4gAzFkLskIlaDzPIQMWsbMt1eexEhOAf1gRHkAzKIBNGve12j2S67NPwC2fzL2sDmICEiVmVrMS9fIeKJeeW9EqpzHbNOuS7k37zqqqta3fBSBLcJ/vBLFsjZAtRVXrFimNtGzB5C63Lhjz6sVXRFJ8fgG9MmtLbY7zs5V+yatkQ7I4BGAHPlzghgLoJElPNgxsMMjurInccPfbzlSydwl/kp5iEY00Zv3+df5DJ1scaiKNs2e3YRmcg+fr4SVqXJaWHOXbeu8bN2bYPoQcuHiF/8IAAEmsCVK2ngkUdoIRHNcuT1SyY1AgRNxPCV1PLp7+Ef2Agz8H9iyF3OmnNFOBQwMmR8EDzUB0YQCDSCIH4wBYMIbr99g/xxNDBr/mAOFjkBpeY7lA4ltLdYQhnbrkWMBwYq58hjMik15vgbfHFdH1eFEtfLXuoefNhJoos2vE5X5Z6YOdHGF30dun6p38esJ3XM0dreCKARwFzZNQKYi2CGBlD75rCzt3wouzSKMQ9B35s+yCY0ctI/iQ8saXL2HUDy7y7topxXQ1uqHYWmCEmdQfygPUL+PxyYIH333df4/yOPFEEfIH+9L7xQaOlcJtgQ4SrTDkoiJtfP+f/w/WHNxNL4HgEUiytWGBlGvpGTDhG3gfFSRLaqJtQ7xw47NLR/MAXDBAxCiICQt7+daMIEInw/aVIj+AOkDz+KAGqCFKs1d73QpLx8+eTVl/suRXuu8XL57bowhWkYGr+YSjmMWxVLgO96+tbJL2ox+JZFX6fIakzbmPW4xqnyMhyzni3ZxgigEcBc+TMCmItgs3+VwyKU08z3oI95COo2eEgjITRrIaSTfJlZyFf7VJPGsnxraMt50rwaHyaAiKAcO7aR4w++ftD8IfKXtX/PPUd9991Hc8V1Q8WO9xARl3or06b5vpNE6REiuoyIfk1E8HLUJBPzyBCYsuTQvMyQlq12oqbK4cX6KkbdDiCA7353w/cPP4gMfsc7aGBwkBbedRfN+uhHi4ohQ4JAcE3FJ0aGZXtfabiYlyGfrMb2jcJENdIvd3jpgoYfEb4w/SJIRFfKqTLPsJeIQM1iV3sOnOHvQs8GTVZD0dd17Kt1H1XQzLbzOte5t9SxjAAaAUyVGd3eCGAughn9qz6YYvrpNrpGL5bte8uHJvKnP/3pEAd1Tdx8a5AHtfYJLE2rAa0fNIAvv9zQGnGkL7R+CP7AD0jhr39NA48/TuynJyt2IF/fcU2fPezPpU3T2sFDiQj5/c5t+v1Bo4fULzDWwQfw2Ob37UwDk2r+jSWLIU1oZdHdY4+GGZhzAr7hDTSwfn2jPvDTTzfS93z/+9QDLSEHg6iqIDEyLA99X+JjjAN3A7zYIEBKa7aZ/LmCJ1JJqFyPLwemxFSbWvmF7pFHHilcPJCX8/jjyz1IUzRXPkxDY4Q0eKGXW3xfFn3tkrPQmspkM7Qe3bfqda58f3SooxFAI4C5omYEMBdB0b/KQy31YSYPoZApSB9AOi/f4sWLC9OTfIBj/PHjxxc5yPjjSgnjeqiCZPIcGOMzn/lMkUoGfw861cP/DwQQdX+hDUSUL/L+PfhgowQcNIGo+NHM/QcSVKVihyRb0EltJKKJRLS5CN1QgfBp90IavRSxiiVqmBP+hguaBBXrhibSRyFSiWX0mmHqhQbwLW+hgU2baOHzz9Pg+vV03e23t4YoSvmhVBkTv3HjCjlzJQyHfJSZQF0pir75zW/SvvvuW+q/xovxEYAQCXXdz1qzhzl0ns0qzwEfSXKlZ2HSK8vNob/WxOnofdyTRx55JF1wwQVD8A7hECMXKc+xOuaLWZN8VlaNnk6Zp9NtjQAaAcyVOSOAuQg2+3f6oRZ6Q3b5NfHBAXOUrgoCrZ+sGcyl21wpYVByyrVf+BfK4BWZ+y+IDweAgAQiCAQmX1T6gP8fiCCCPzgKuJloFwRHVuyQmEjipjVmLvKIiN41TZ8+1gDWajZVF0yuCV+xRtM3p883Eeu+q8RnsE6iOmQL++9PA5MmUe/Pf06DqDs9cSJt2mYbeub55xsawFtvbZCMpul34MEHKwdVSNmREeU6WEoSPn7pgAtDgW9vb6HRlnWA+eXHVQtX9imrwjFE5vr6ipcdV71dn+9t2X2siSvnBXSVm8M4rhc8V35BmKF//OMfDyOBoRfKmh6VWUFzVdeQQlCrztHpfkYAjQDmypwRwFwEm/1HgpmBCR77+qU417uqdoDMyWS4nBKGtTX8UEUeQ5iIH3jggSEkEhqJq6++uoVw6UNYav9A8GDyBQFEuhckgEbFD5h/H3tsSPQvCM51zbJtIEIrlM9emc+fJF1fIqJlzQAMLLjuYAwpZq41heZ0RSe3CA8R+avA1iTgepi3vpX6ttmG5opSfKfOnElT99yTZs6aRT1//Mebq4CMHUt9F19Mc/uwi8YnNbIdsqNTFMl0SSF3A8wpq4DAXAyz8i677FJozjTh0y4TMl+ejO5l3z6+1zThQsLnO++8k15tJixPqceNPesSbfCllfckY6nraX/wgx8s+iLpNV721qzB683mj7432yQlzmGDL4MRi6lLyxox1YhtYgTQCGCucBoBzEWw2b+Oh1rVpWBuWSdYjiMPLl+uL1fACMaTe/KVnNImMU4QnXLQFSZfjgDG/5FgenCQBm6/nRb299OsCROoZ8MGGnj4YepdsaKI/nWVL3Npu1w+f/OaGrO2acfUhdQayFiTr480TiaitUQEI32uljLWn3CYbO65Jw3ssQf1PvggDb78Mk3baSfqnzuXeg49tBEZjBQxKB/XrAYycP/91Dtz5pDcltLsG3P/uNqwPx1eYELuBr6IV5DBY445ZkiCZGjE4SKhS7YBB+1awYmVofHGek444YQigbTWnjOGIHHz5s0rrd3LGnyMh3F5HciveeaZZxYBJfhg7VdccUVBMm+88cZWbkGpKUVS689+9rMFPvyJrczTLqKVo5GLkZWqz9LR1M8IoBHAXHk1ApiLoOif81Crugz5MNRjuEo9peb6Cu3JRR4xb8iva8haQRKgIYH/H4JBli+ngZ/9jHo//WkaXLWKpr3mNdS/99608Ne/prlIDyM+IQLk8vkL9Ym9Fj7yFDLvYvyQyde1BklY8X2uljLHR3Bg4kRaOHky7bPnnrRswwaaeeSRDUKDwBAEiYAAwlcQ1xN+gNtsQwP33Uc+M2MoEIHx0OTL5dvlIwhl9wrm50oZO+20E73yyiuFH2yoNJqey2eW1tdT1gkeQvQdUa7FtV60qHVPYU5oM6H1gxaTg6tkHWL9EggtPUrPYU8xlXnYmsCk0rdeeV186XRi76fYdiPB2hK71na2MwJoBDBXvowA5iK4hfv7tBpw+Eb1AUQZhnJ9YQshoufbZuzbeKkmQWoAUd3jiSeo74oraO5Xv9qa9tRdd6VPrl5NvWvXFhpA+UEkL2v1fMRJB4yEUreENGOaPMGE/CgR7SMiikE0QfRgouaPzCeYS+ByRa9KOptCViSBHT+e+g87jHqOOqpB/JAE+vWvb+QDxA/XA3bkApTkQbog4O8xGuQqaZSY2Nx0002tUoZMbjAviBUCTGQQVFnycr0GaZYG0YLmDtpAfFD+DXW0+ePSwqWSG5efIOb0vehBW8kuItofUl4PJtZSxnxaw9hnQK68utYX6+ZS19wjaRwjgEYAc+XRCGAugh3ur4mUfPjq6F2X35LrYHCSpoR8YtoXUOcODB4QTAAR/IHoY2gAf/5zmnHGGbSiGfCx69ixtKR5kIJQ3SKSMWP9Ia1erLZLR9r6xtVmXA4i4X8ZU5AsVCzxJa3usPi0psM+dULry5sk1lVdRa5zmAn7gANozl/8BRHKxEHzh6ogIIIwASOlDwJBSghgzAuKT0bLojvLXjqkFk2mjtFr0X6veh1Ie8QmX87rh+hkmfIF5t4999yzMAnLQCuXH17wXlEL0O1hIuZqPPyvTOHkwlqTKN/18PkNppLWOmS+6gtrHXOPlDGMABoBLJPF/01Ef0VEcBn6f810Zn9QHYwAjpS7OWIdZaYtHDgw8/hy7UmShoNBmmjLSKWvEok297gOIj54fClgWvMiDci73kUD//7vtPD736dZBx1U1AA+5W//lq5DFHDzI7V23yWivySizV5NRDFavTKtmy/S1jWubKvTyPDvTB6x/C2t7dPipUkcah7f7SCqLk3oEDK9/fbUf8QRjaCPd7yjEfix996NaiAwAUcQQCk7/IJSZnqV8lpgK8yjuVoiuRaf3+sQMtzXN6RGttYWYjzWbkIjiP2tXLmyVMMZQ24YAwR5ICgE4+rIftfzAmt3affkul3Xo0wjW4W0dspcHPFYHbVNjAAaAfQJ7/8gIrzQ/wUR/ab5f+TMhbVMfowANtEoNVGOkEdEzJt2zOEhtyMf3kgP8da3vpVQnkpqKnyHQ1l6DE4jgzbQSmhiKg+ios0XvkDn/s3f0OBTT9G03XenfuSQu/de6r35Zhp85RWaNnYs9W/cSJyQWZsvxxPRv2aWUAvVAdZiwD55eyuzr4wolgmkR4gYFcvQGlGUn9PVTfA3n69isfedd6aZb3sb9SAnILR+nPgZZeGgCcQPl4Pj0nAeEFhun376abr++utp3bp1VLUMIqaIuVd81yPlHgqRH+3biGCT/fbbz+sjG/McchE0F1Zl+Q9lRLQPZ36p1C+MLtxiMQvhNZLukZG+FiOARgB9MnovEf1QZId4MxE9RkT7E9H9opMRwIxavp1+QLTj4eky98BUBW3F88jpNm0a9ff3tyIWfYcKTGEcrQjtjUw7wQlp+UCBZvD/t/clYHZUdfYnhH0LAQIkKioYwAHURlRmlAAigmOnkYCOzOAyo4D+cUQCgoCENEKCiow47KKOGGAcCUjSOpDRASIynwI+VkFwQZCOkIQACYQlJP/vVNXtvn27llt1673u9/rU9/WXTr+7nvurV6d+K32hTPQkcdx/2jTcspiJXOKr96MfxaxJk8D8cQv/+EdMf/ZZdD3zzMDnxzq+dazY8aPAA7FJUVYVkEzSkGj5SAbpC1hkRk0jkzQVl+0XsmU3qMQle1yPXXJvmCaUJt+ddorJ32teA+y1F7DxxnFpOBMJbAjghhsWLpXy7aY9cTVqvsSujnvFh4xFZLrRyAxuKVMmzWfNbHPCCSdEUb/u5WJlV+VJ8/dLW7fvngsPM6OB7/lVHX8s9RMBFAFMk3d+074A4CAAN1sNWNp0LoBviwAOhW00fSnlfQHzM6ZnSTP32Dsq8yVuEzd7jL333jvSUrjRvEVmJZK/0047DRdeeOGwlB92Xzre2znUzps7FyedckqsAZw0CX0zZ6LLVANhIuj77gNWDtbrsH3YSNYWWald0ohUUVCH2XtIahiXQNKsSqJapAX09U9s9sPN3Xvhukj6dtkFmDIF2G23+Ie+f/z7pEmDGkD6AFIDWHClBTSQ6JRNFzNwljnErGgtPmTMZwy+5Pzwhz+MXqbSzKi8/9iGL0/cq/1SlGZONuZbYyrP8um118/oYFbzYQ3ivKCJOvbsg0knVuUo2nczPhcBFAFMk6vJAJ4AsCeAB6wGv0r80c8RARwKWyu++Hy+AGwy5n5R22/zdX2J2/veaKON8NJLzC5Hq904nHPOOZEZzg3osDUeJgE0KyzYFUCMxs/Oj8aHeG7KmEJ/A9EAACAASURBVN13R+P227Hwpz/F9Le+FV2sIfuLX8TVPx57LK4IsmZNZLokwWO07S0AWM6NtXxJsrIISyGR8TkcjzZlTchmSN+8gL4kNmupVfrnEmKSPJp/d9gh9v/beec4Apj+f/wbTcC8GADiEMC0lxRbHot8AJtdtSL0pdDeC4nfjBkzhtUpnjt3bvSyZO45kjnm0TT/v+qqq4bUCnbXxHyC9C9ctGjRsLrCWYEcHDuNWNInL+0+ZtWfui9fc3Hd83baeCKAIoAigDXd1faXEodstZNynvmLnzHfF9M7DJCG3l6kfTmXeXC5bQ0JpP8ef3drnNpQuw845iSz27NtWkmszLd/RgA/+2ycN45VQPjz61/HJeFYB/jee4cQPFPH147SzSJSvgQrVJTKBJEMwdIjL2AoiQ3tn4oNCeDuu8fpX97ylpj87bprHP273XaxNpAR3httNFASzrxAZMlBVXJQRuvtc86hL4VF9yHH32effaKXrKzLTbvirinNt9au0mMwpm8vtX+8R02kMtNDuWdBourex3k1mn1wVJvmISACKAKYJl2lTcDHHXccNkx8dA4++GDwZ6xeoV/8VXHLM3+VSU1RZv2uxsUtF5VHNt010deJec6MyTjPAd3V3kQP7+uuQ8+BB6KLAQS/+11M/EgAWQ6OBPCee6IoX9snbWB9ibOrrwbQ5Owz/nZVNGNZ58yxGExxXUpZOtMnK7I2L1I4lMSG9k/dL0keCR+TPzMJNLV+NANvuSWw9dbAxIkxoadfIH0Bk6uIHJW9h8rIfJmxq5LRIpLLz/M0dGaNaSZje01Z0fUDcpaYwKnZyzItF93HZfBS2+YjwOo0/OHFl4eLLrqIv04A8FzzZx99Mwx+q4y+tY3kihQEUhH9uh9OvsvgF7tJF2EncXYfJj6pKco8uExbO4WMXcIqK/1D0UM363NXUzOk3Q47oO/KK9HFlxH6/f3qV7H59+GH0XjggYhYzU/y/6VpACOsMlKu5EXsntSEPH1566haBaRKP5t0FvUvTYQZ6EHCTp+/t70t/pcEkKZffkYiSA2gQwDzXB187xe7XZppNK/UWpU5qvTJuw9tuad/Hl/An3/+eay//voDdYMNUcwywxbdgzYRzNO4yievyumOfB9pAKUBzJLCTyapX5gqjWlgWCiBz8wDnA6KAnYA8f1Srfv2twlg0Zt/s8wyXMPMmTOHFJvPqxlaRDTdz9OwHabFOOkkzGJVCZqAGw007rwTlz3wAOY//TSWJTWAZwDYD8AjAJiqpCjIYghZcLSIzItEX0JzFeUSLHvuLqlyNXEMErnUY1CjWWRTn8CStCHzxqhkIibJo+/mhhtiwbp1sQaXtYBp+jVBIAwAsSKAXa0zfUeNOdIDhtQm9pi+ic6rzlVnP/v+4LhFuTxTz9Qz0KWIjDbbp7JO3DRWjIAIoAhg3r1wCoDjAZDk/U/y3HhKBLD466OI2BSPUL7FSGke3ZU2iwBzXDd9hQkWMZrPbbfZBouuvhpdW2wRa/1uuQXd11yD/iQ4pQ6S5hIdmoOboQHkWtNIFf/uVuCgQSePxFYiZykimDdOJRPxVluhsdNO6H7wQfSvXo0pEyei79/+DV3vfGdsDqbvH8kfg0CSq4ycu9rivLsq7eXFDXYof1fW28N3P3V///jM69OmXjQ0WigCIoAigKEyJA1gKII19W8W8aqyvGY8gNzqA3b91QMPPDCqjjBxq63w8x/9CF3bbhtF/fZ+97uYzUhg68or+UaCQ20a/ULytGRsx3JyrNDKhNK8mlGpI4tUla3BW4mcpRx83jhVSGZj661xwquv4lYG7xiCd/TRmH7IIVjw61/HEeTvehfAiO7k8pVz33b2NpuhXaxy/6T1KdpPswiYjysG1yszcF0n3bpxRABFAEOlTQQwFMEa+9dNvPKW1qwHjv2gZyqZRx99dFhlEbZhlPH3vve9YbnPPvPxj+OSk08G7rwTjcWL0X311VElkEkAaPrNInYkML6atSpkp8ox+wal9HnkMCzy3/NZX9G+c1O+OBNEY623HvrXro18S0imp2yzDc47/nicxByQTz2FSdtui8NmzAADhNxcfkUmxzKaQntpdfsX2vIckhkgbz9F5NDnbLPapM3LQC2b8PF3N41TM9K/hOxDfYcjIAIoAhh6X4gAhiLYhv3zHjh1EEOOYbR6Bh47z6D5G3O90fx73XWMmY2vYz/5SVx60klx3r9HHkHjttuwkLWLH3ss10yaFiGc5c9Xl0bN5+iLglKMD2NVclY2cKMMycvbn4vh/lOn4vyZM7Gg0cDsy6lfHbzy8lZmzZEmo2xbRMKqEkd7He49UAdByyOmday5DI6u3y0JuskDWOWsfO6DZrWp4/uqWWtr9rgigCKAoTImAhiKYBv2z0vR4mMKKvrSTUtx8eY3vxl//vOf8cILLFIzePHhc+2110Y5BCMfwOuvRxf9x+68E/jTn6L8f3jySeD225n3IBPt0agBLCMaVUhpEWksM3/ZttHc48ej/9VXMWWTTdD3pS+h6z3vQWPJEnSfeCL6eWbWVcUfzw2S8JVNn3YhhClrL1n3RZFpugzBLLr30vblWhayyHWRVrasjDS7fRncmr2WkRhfBFAEMFTuRABDERyh/lUeBGaprEBw+umnR0lfTdWPU089dVhusrQHnc+XbpoG8Oqrr8Zuu+2GL37xi/j5z38eLcUkpd1t112x8PrrMf0DH0AXEwovXRoTQOb/e+AB4KmngDvuAFasyCWATBNjIoVNdZDMB32T/P6qikMVMleFNKYShKS6Stk6xA2e29q1ceWWnp44H+DWW6Px5JO4fP58XHvDDbnJxMtgVaQls+8HjluVzPiYTO3a2GYPeb52acFPronVx/3D597zxdRnPt+xRqpdkUyM1LpaNa8IoAhgqKyJAIYiWHN/H2LnWxYuSxswbdo02EmfWSv0tttui5ozCfjSpUtT65byc98vXe7D+ACeeOKJA6k+Uvt/+cvAiy/GOeOYMHj58pjwMRUMSSD/feihOCegdRnzJzOfzwGwin5oAIxPXc1H4zWcbyBKFhFLC0bJMvPapJFF12h4jes7+F3XAPgGgN8DYBhHKewY2fvWt8bRvm96E/Ce9wCM3n7d6+I0MNtth8Z991UiYmn3QJHbQpHWz+e+YhvW2r7++uuje8Dk3OSLi1vW0EW4iDjWkZ7G997zO/32b1UnIW5HNEQARQBD5VYEMBTBGvv7fKGxjW9ZuLSlZVUgoCn2mGOOGUhGbaJ03ZyDJJ9HHXUU1tL5f731MG/evFJ53FL3SCLBVC+GALLkHU2//FmyBHjwwSgtDH0CzWWTn2EP46QySI1H4zWUjxnaJnMclHWN0zRvph1rHuelqSGJY2AMiwSWIXDsd1QSvGFvzjsPIkkek0AzYpvn93d/F6d7IQFkDkBWAWEOwJQrj4wVEb00zZ4r00cccQR+9KMfDcpKo1EY5WrPu9lmm0V1sdesWQPeB7zyyiLy87R1u752rN3Le+zhhx9OrbFdJGQ+3w9FYwzcP6y+s2DBkHX4kGTf8VvVrhM0mVWxEgEUAawqO6afCGAogjX293nDL1MWLuvh66ZkYTsmfGYpt9mzB4ut2SZg83BYsmRJZlkp3wcISSSjDvkwjJIAr1kT/7BsGK/Vq2Oy12gAjz4aB4Pcey8W/OEPA2QpqywcNWGLSyaHrusIiwJRbNLKqOZ1icnaJW52uy0ScmfW6BK0qmZgJsC+1dl4GQIZaf6mTgWmTImrgOyxR6wBpBmYn7EKSEKMbKJhk5i0qjY+94ArZ/z/e9/7XjzzzDPRnMatgaWymIomq2SaPY7bJksm8nwZXTLiEra82r2+MliF8KThVapOd87ifO953/2pnT8CIoAigP7Skt5SBDAUwRr7+7zh2xo423+vzDI4DwkYx2KReDsnn/1g4AOL2opddtkFn//85yMtyIQJE6KyVTSR2RGDPms3hGCYuW7PPYFXX420KAv6+tBz0EHoIoG4777IBNy45x50/+Qn6F+zZkDLxbFMahSThoRkiX6AZcygRbiVibIt0gBmkVauwSZ2bjuS2izzdhXfQc5nawCJ32EATreIc+G+SfL22iuu+bvPPsAb3hCTvwkTgB13BDbYwEsrxkjwxYsXD6SJKUrjkiVne++9N+66ixUw44sySgJIGU0jXpH8dHeDdXLdNrZMsCwj1+jKu92mSKNptJYuyTz88MOjAKgyV1nC5aOZJKmlP3DWy1/W+nzv+TL7U1t/BEQARQD9pUUEMBSrlvQvesP30ZD4LjRtLvM3uzYwH4KrqZVLLj643vKWt4D5xIyJuGhd5sHFB+6wnGOnnorG3Xej+9BD0b9kCaZMnoy+iy+O077cdx96Fy7EbPoEJhdNnpMB0DxKLRYDP2ioY3m4hzNMqpkPsQIzbJn8e8anjpXZuTY3EMUma0xWTQ0gL659kUO+7HlZrSSv7F3V1C5cL/0GuU6bNHuRyl12icrARYTvwANjvz8SP5pMSQ7XWy/VX5Qyk+XCYBMKkq60MnFZcma/GLlnbSrOcDy6LtDdgT59xq+P7U0b/o1piVwfwKygkjIkiG0POOCA6KWLV1kXirS5OE5eapwi30TzEucSYjvQJYt0Ft3zvt9DalcNARFAEcBqkjPYa8xoAMu+OYcC26z+ZR44IWvI8hXkmHyAXnLJJUOGz1uX/RnrHFPbMOBTtXAhuvbcE71nn43ZZ501MGbv8cdjFiNL77kHjTvuQPd110Ul4WKPrEHSZ37PM6m6OKT517E/tWCs0mHKspUxr7oatXkZmkjOPdOpP8w5h6IZl5HzrU5SqK3LEYS0vl777uoCdt4ZeO1rIw1gY/lyLLj/fvT8wz+gaz9S8XS/OL4wZAUx0Q2hKCFxnpwZ14Ldd98dV155JVauXDmgpbYJDmWQ2kFDxNza20UvYTacZUmQq6mkX+DNN9/sdau6cxEvElOjxUwjbdTen3TSScPa5L382S92vvd1u+UP9AJ8lDcSARQBDBXRMUEAW0WaQg/Dt3+ZB5TvmMNIUqMxEBBCsy+1FSzX5j4s7X7DfPuSD90HFwkk/Q2jBw39x2j+pQawpyfSAEbanzlzcCRrytIX8L770LjrLiy84w70P/dcZOYtuoxJ1SU4ef51HNP2g/PShCULcX3q+P+sx3qZcYv2GTKW65NoCHBElgD0ZwWWbL45sPfescbvNa9BY5tt0H3uuehftmwI4aJmigTkESbyns6U14PaKv5ua9Uo06YmND+j1vk73/lOaoBRnvxnaRHzXmhIpBj9W+Uq+90SEkTlzkVMXS0m08u47WgCN2fgBnUZop6lRSwiuK34LqpyLmOhjwigCGConI8JAlj0JVYVxE7RKqbt334gk/RdcMEFhQ+RrFQcuQ89Rv6++mqU/uWaq67Csccdh5WrVmHKDjug79/+DV0bbgj87nexPyCDQe66C93r1kXkhNpAmlKXAlGpODuogmbTWwCwxghNxIbYMep2MMwFMP51Q7Q6VhSxrybOVwNo5vEdt0g2h1XkAHC+ZxBMmk+iwSkiaABMpZIh66C/H/02GQCy887ovftuzL766oEmaZqpiFRaPndGW5XlGhCR8SlTkJZzLw+TrHs9Vwvd1zekVF0R5u7nviSI7Ug0r7rqKjz//PORPy21f2mkLGsN9lwPPfRQFLxlazo5lu/3nVkPTd5ZUc4+ZvmyeKl9PQiIAIoAhkrSmCCAZd/SfUBtxpg+87aqTd5DJI345pnv0kxXAxoXiwD2zp6N2WefPbDF3v/3/zDr0EPjXIAsDff730cVQRovvjhATmyiYn6faqVOcYkdCY3rX8eoYbri20TRmIHL4O361IWYZvPmdVPJmP2YPq5PYSaZsLDIIsCpfWn+ff3r4/x/O+6IxsYbo/v009GfBAalaabSggzsmrS2a8CQtfT2okxd2iKTpdE6RrKycOEQP1Yj19RaVk3Vkkfc0qLv86KK04im0dTZhNr1l0zTALr7sdsU4Z0VmNPJL8Bl7vuRaisCKAIYKntjggASJN+3dF9Afd+yfcdrdbuiL++sB2na37l223zn5hB0zXtDzMgWAWz85jd4/wc+gGXLl2PbrbfGom9/G130MaMGkImg778/JoJOQmgXuzzNFoldmvYtTyNXROTSPg8xzRaRP9c8y/ZHAxiMgY1zA/oYNbnOcwDMTyZlRHCW/2LUhEEfJIDM90cSyGCQXXdF4/HHsfDeezH9Qx+KmvmkGUmrSUuiaIIwKCeHHXZY5HNaVUvm04/yyaTlP/3pT6NgpzqSNg+Tyd7eIVG2/NwOwCiqcezed8Q3z1/SfN/ZwVy2RjXNJJ6lcfUNJPHButXfc508nwigCGCofI8ZAhgKVNrbeFH1gbrnrGs8X+2l/RAxGoS0nGqudscEidgkMy3qMtLs2ATw7rvx/kMOicxRk7bZBjddeSW6tt8+rgn8l78ATPPB0nD8SakLnBbcQW3YESkRub5YFhG5rM9dEspAjx1KRiinrTErQIPj276RaYElWXv2Cvownd/4xjgBNM+FaWBoBmY+QKaD4e+s5JLxwuW+hOW9ZJDcmBrRVUzB3ufr+B6mEbcyGsisee298gWJyaqZBzONLBsiZd8/aWSZf2MASFo+RXMGaWXojIZ2/vz5cQ1uaz1ZPoLud11WbkVf3NUuHAERQBHAUCkSAQxAsG6tollKkXYuYMlR1zLayzRzkhtVSF8ktzoIy2cZrSAfMN/61rcGohGNZocRkA//7nfo+eAH0bXXXug966yhkcAnnohZn/xkTP7+/OeYCN5zT0wEWS/YulwiVpQ6xRfDInKU9bkbYJGV9Nl3HQOyYZltSW4PTyqB8PODE3/ITQFckZLaJa/qiHe6m3e9K670QRLIus1M+0JtIH+S5M9l9pR1D5WR0TLzpRE8O/8dP2d+Tb7U1E080/bq47OYlcuQ9x1JJMs6umu171tbo2nnROR9OGPGjMiPsEh750veQ85CfcshIAIoAlhOYoa3FgEMRbDm/r7auarTcnxq48zbv5vM2TVFZZl/bP+ptDZPPPHEEBMVHzLGT9BodoaY2haQniCOBGZyXgaBzJsXm4CZN41m4L/+Ffj1r+OycCwTZ12uBsy7pFliEq5CjkjyqHWj+dT2H+SyOB5zATJ/3xNJvj2z3DJrSzvnrHkfSjSdbtLoIi0m5/AKSqHW72/+Jor8jczA1AZus01M/qZMQeO3v83NSecjs7YfXlr6Ep8xyrThfKb+Nfsx+viMM87AK6+8MuAfaO4ZksKy5uiitWTd71XvO6OtdPvzZev888/PrIpStM5UOWw0KtV6rjKX+gxHQARQBDD0vhABDEWw5v7N1HzYDxv37b+Mz5+rLUjr65p8jVk4Kx1H75lnYtYZZ0TpYBbecAOmH3IIumhaZAJqavtYEm758tgHkGSQRHAVqU5MXt6fkDD+nxHBN3lGwpYhRwwuMYmmI7KapErhfDMsTVyaj563hs1TntI0j9Qy2hHOhmgWaTE9p4wTPzP33267RUSw8cwzWPDgg+j5yEci38AB8m5F7xZps+3PI0yd6hx56Uu8113QkGugyZkEz9WGuf6rWTWyQ9aSphn0eRHMa1P1fi46r5B9qm+9CIgAigCGSpQIYCiCNfdPM7nWEZHIcdP8gbI0BnZ0oo+pO81EZDQrdtBHlmmq74YbBs1Q9At85RXg+efjf1njlSZgEsE//nEgJYzRAroExzcAgkfnS45coshoYtvnrohsGQ2bTSKrRBobcUsjrjYprZrPMFOcN90UYF5GamR33x2NTTZB91lnof/pp6PKLZFf2eWsKxJf1DjRPJmnxXNlPSuvXdEt1kzSkvbCUiZy1127S3jtqF5X+17lvrPny+qf9/d29WsukpFO/FwEUAQwVK5FAEMRbEJ/8wWdFcFXdspM0mXlP/PROOTNm/YQLnoAcX+Rhqe7G130Jxs3LtIARg/Cv/97dDHC1BDBJ58EHn88JoH0A6RGkOXhVqyINIBVNWxZyZBdcpZGMpknj/kI7RrEeWsJWWca9mWimb1MvHkHvOuusd8f/911V/T+7GeZuf+MaZ/pSeifZi6XOBVVtjC1qHt6ejJ91ELltuheck3EvhrArPvBECw77Q3H5JWVi69ojXV93kzrQ11r1DiDCIgAigCG3g8igKEINrF/XV/IWf5AbrShXbWhyCnc1TQEaQ6o8VuzBo1770X39OlxPWCaEX/4Q3SRcPCzW27Bgp/+FD277IIuRgAzEphaQZJBVhIpUTptmFYm8dHLywWYRt7yfO7SkiiH+Ck2UcyKh95oo6jcG/bYI9YA7rwzGk89he6vfAX9Tz45JJ3JzJkzccstTMEdX4xQdRMVm8/SyBs/o3+p78uPT/m44g3mt8gzEacS80ZjwJRtInQZFOVq4LNmNf56Ze7B0D2yvw+Zbqa2tY49jKUxRABFAEPlXQQwFMGA/kVfpj5fyD7TV/EV8hnXtAkmqgkBHFYP+MtfxqwvfCF+MP3TP6H/qacwZeut0feJT6DruediAsj8gIwSrnDZ+fvcCiFpgRouyfQ1H0cP1ww/RX6WFYBSYUupXYryGBbOw4TPjP5lsAf9Mhn4wRJwy5dj4eLFmH744VEUdxqJsMuQRXuldtfS6GVpiX1kin3z8k8W7qtJDdy1M7Bks802izR8Rjs6ceJEjB8/fiANCyOPly5dmpqDMEubWJQ7sGh7ZbT2vgSxaE59Xh8CIoAigKHSJAIYimDF/r7kzscPyGcJIQ/aovF99pJHdqPPfvzjqG7sSSefPFi4/vrrIw1g7znnYPbXvz6wjN7DDsMsBiLQDMxawawQQj/BElda2piT8urfpoydNoYJEikyIb8dwIlWxRLbZ6/ENgqbBpudmdqF5I/mX0b/kgQyEIR5/yZOBDbbDNh44yHrSKsJ7SMj9iA+7dNqTF9yySUDwxS9YBWCV7EB591vv/0izWfWZVIj2XWSXe0p9+dWS2FibGoIQyOkffB11+5DyitCpm4VEBABFAGsIDZDuogAhiJYsf9o+TKt8iBwH9TUROSZj8toIM/72tcGaw6/7W3Aiy+icccd6D7ySPT/9a+Ysu226DvjDHStWRMHhJAEMiqY/oEvveR9GmnaOwZ2ZNa/tUa2NWr8M/vY5efSyJxNxFhtY23iO2hThND0MGmbL6OlHNafgR/U+FG7x6ofJIAkf/RZ2247gHWaWRlkPe4ovrLO2kfeXcJW9PJTRq7K1hT2FqRkz642bu7cuVEJuzVr1kQ1fzfccMNIw2dfrk9k2n7chMvsb8zqZqysoJQ8AuxzHi4God8VZTBV22IERABFAIulJL+FCGAoghX7h36Z1qndKHrQZm3Rdw95D5thnyXpYAbmXLs2SvcSpYdh7dZ3vSuuDtLfH5eGe+KJmARSC8i/eV55wR95JlPfyh9ZJuSZAAY95IDNAbh5+zy3kNnMXj/9FBkVTaKZpWVM3e8WW8RaPgbnMPcfSR+1rm94A7DBBrEZeJNNAJLEpPoHF+Sb2JiEjFdabdsyCZibqdn2OYe0e4D9bNP0VltthYsvvhiLFy8urG7i7sce316PCbDJwirr3jTfG5G2/aSTBrXtVkBY3r6rflfkfYeEmrJ9zqkT24gAigCGyrUIYCiCAf2rfpn6Eq+6SKI9jv3Qzizv5mBSSlOzYAG6qPkzF/0DGfTxwgtRsEdk6mVk6VNPAX/4Q0z+jCmYvoBPP114IobwMFHzYgB28AcriOSZgn0qf+SZc9PMxkwWTe2jMRuH+Oy5xNZUICHRZJKWI92zSYugZtDHDjsAO+4Ykz7+y5+9945L91HrR9Mvf6gFtK6is6bM8KKJ1CYgVVPAhL6cFApLQYM0wuuWRjTE2N6jT/UNMzUxdUvj2b6VDBZx7/WsRNIjkWdxpM8o9IxHa38RQBHAUNkUAQxFsGT/OkiZj/nGlyQWLd8ex05dwd9ffvllPMsqHUy+PGkSbrrpptx0HXb1EJdURp8xHcyeew4xKUaD09xLEsik0PyXASD0r2IQCH0AqQVkmTj+MF1Mjj+gS8CYPmYwex2wv6OhczV5RWlefE3IbjublBoCapd688kZyDFOAHBrxqGmaSVTCS3NvdT+0dy7005xxQ+Sv803j7V/W20VEz/+39L+2YTFPmv774aAuCliSIjYJ6oCYyWSLpLPPHJhyGYZsuUznyu7bgQ8x7Cri7ilEM3+2K6M9ivrhTFLCzna6/f6fI/5nMdYbSMCKAIYKvsigKEIlujfDFKW9bCs68s1q3KHu20+ZC+99NJUNFzSm4lDEg1s+5RxwKj/j3+MnoMOinMD0tePWkBWBmFZOJp+qQ2kHyB/WDKOSaSdK40gMTULo3BpPKbmrkgDGK3H8RUM0diZ8UweQ+YUdEMHjEYxIgwAelKqnNjE1GybnnkcjxQ9z/w7JIfi1luji9o++vgx+pcaQAaAkBTyfBjwQQ0gzb+O9m8Y3jy3xD+UycyXLFkSlSE0l/FlI0E6/PDDI61gHZU/bPmi793RRx8dvaDk5RP0vY05tl3jetGiRVFXl/AarZ2pLuL68rEyDv9WB+HNM7u7L11B6Zp8QfJsV9f3oed0HddMBFAEMFSoRQBDESzRvy5SZkhRmpbFLKeuL9csDSDTVvDhxstoONIqlqStw30YDnFip7aPV6JZou/fQG7AyZPRd/XV6CIxYbsVK2KyRxK4bFkUDNJ46CEsePxx9Dz/PLqYRDq50oIwbGJla+TK5BQMjrJNqUZi/AJt0XKJKj3obK2gq8kzfdlvsmNiTiPG0f432wxdJHz0/yMJZL1fagD5Q8JnzL/0+yMRHD8+U/rtczepTygnJt0JX1xoxrz11ltT61Ln3VZZLgkmb17WS0sdmkU372Dei4+9B/c+IBGjWddcodVFfIldVbeTEl9zpZqOtvWUWvwI63ki2wAAIABJREFUNxYBFAEMFUERwFAES/Svi5T5TlnXl6s9Dud201VQe/N///d/qdoMH1+kIRGaVlLoSEPy178OfVCeeiqmv+99WNDXh54DDkDXpEnAY49F5mCSv+6rrkL/Sy9hyvjx6Bs3Lo4WTiFZNPWe71kvOA/voCjbFHJqtJA0414HgHGj/Jtrqs4zTZso41KpZUj6SKxp1iWmb397XPWD5l+afBmMQ40fgz9I/JzULy5GWSSMhIlEjP5wJGxlX4rseyirggbbvPOd74wicN2LmrcddtihUBuY5arB/rYW09S49rkn3fvI9cfLKvmYtpY0rXreC6HP+tSmvRAQARQBDJVYEcBQBEv2r4uUlZy21uZltBlZpNfNFTdEq/Pqq+ju6Ykqgth+h6w5e96cOTjp1FPjlDDbb4++yy5DF0lLfz96r7wSs3/2s0GtyoQJmJX4DZbR1LkmXTfti22GLTNurlYrJQWNrYlk37Ryd9ckNYkZ6bublZKmVGAJtXtM98Kcf8ztxyAcRv4y5x8jrun3R20qzcLrrx+TPyv1S9q+eL5HHXUU1pI4JleaBq7sS1GeS4LRonHMfffdF887bgDUPm655ZaR32pe9CwJ3vz58weSNPMFx/gRcuy0GtdVbjDzXZBX9SQNn0gWurtrMR+nrTuL/FbZo/o0DwERQBHAUOkSAQxFsMP6+37552kz3JxrLul1H2o0BQ6JCO3uxmWWeewzxxyDyZMnR0EiC264AbPPPnuQ5M2ciVmf/nTkA9i46y50f+Mb6F+5ElM22gh9O+6ILvoL0i9w3TqvcnF5CaInAUiLqk0zGYf6BaY+mB2SSPJ3VJJTkFq/eSlRvhwnl6Qykpfkj/8y8IPEjwSQZG/KlDjNC0k0P2MbEsAC3z/OmVV+kJ/5VgPJIieG/LgmZSN3vn6rttmVMkkf1uuuuy4ifu5lE8a6X+LytKCuxpFt3SjjEPOxu8+yhLzDvv7aajsigCKAoQIrAhiKYAf1t7/8TQ3TI490E4fEGw4xQaWRA7t+7LCIUCs1TOM3v0H3oYfG9YJ32AF98+ahiwSGASGPPorGPfdg4W23YfqWW8Y1g0n++BkDRRKfxWEPPSu4wi0J50YF230ZYEFTrRuhW5dWsEi0uDY74pf/vzmlU2bqmi22wILNNkPPlCnoYpJnBtgwpchzz2HBffehh2Za/o0aQBJC4scUMQXaPyMfadGxdWiu3JePtAAMM4+tQWZJto033hgrVqwYogG05T4P82bV6M0iXfy7nU/QRNqnaQDTiHWR/KR9XtYkX2UO9akHARFAEcBQSRIBDEWwg/q7X/5M1cHktW5R+lAtQZ4GcCAidNo0PPK732E668baeQFJPu+8M466pA8gExXzYp5Akj2mgWGEMH+nbyCJn/nhZ85FLdoxVjJmNwqY/z8+8cVLfWACmOV8UIdfoI9YhWgAae7tXr0a/a+8EmtLjzgCXYccgsbKleieNQv9y5bFJvZvfxtd++8fa/74QzKYcw0x5TvRsVn+oGVSofjgYgioIYYPPfRQZMJlaTbK1xFHHIFjjjlmQK7zNIabbropXnjhhdQavUVrydKmm78zGbPx++MaGRTCdZmXLndddsBJGQ180Trtz0Pv7TJzqW0YAiKAIoBhEgSIAIYi2EH9+eXv1jBNMy/VoSVIMwvbvleRyW3hwvS8gCZdDDV8L744qJFibkCWh2MeQJp+mReQSaJJ/Jg4mqY9potJLmrq9nPSrpC8uSXh6F9n5wpk6uOXc1Kr+BKzKqLjmpY5F9dGEpuuq41nGWKmft3r0PvKK5jNCOrk6j30UMz6whfQe9VVmH3FFYN/P+00zDrjjBhjkr+UvH8DeKakSLFfHopM/251EPfFowpe7FMkr1zXtGnTsIovDtZlIpVJzGwNtY/JNU+rZ7STdnQ0p6Xp2TU1+2hMi/ZXFre6Tdxl51d7PwREAEUA/SQlu5UIYCiCo6S/r+9e2nLtvtREUAvBh2HZMlNloXDX7D7IoojN7baLTZE0Td5996D/2FvfGgcmGBJI7RSJYWIKjvzWGARATSBJ4JIlcQJp/svawRnpV1gZJM2k+34+oJnyBsC3ALhBFvbem6UBDDYtk7wxn9+kSbFf4P33o3/1akzZaiv0fe1rEdluPPkkuo89Fv1PPhmb2H/841gDS/JXYPr1SZFikwvf3Hghsh2R30YjM2jCjM18gazfSy0hTa0zZswYEvjhQ8RsGUjz3WNtYB//RNc3sSi6V1q7st88ndFeBFAEMFSSRQBDEaypf8hDrswDIM13L81Xyzx0uL00E12oliBtzZwrzXeLpujTTjkFF158cez7R+0g/QJp/rVJIEkKy8UtXRpXB+FnJH3UdLFqCP/GyiVJAunGqlUDkbX052OK4jQtGsnSAUlC5a0A/G9CErMCPaiVK6q/W0VsgoglI3eZ0sWkedluOzTWWw8Lly/H9A9+MMaS6V423hiN++6L/Sg/9CF07bVXTPxIsAuutBQpfJnIMvG6MpCWG4/pYsqSr6yXnDxfQaPty0pEXUbes3z3TMk2VwNor7eook7WEZRZX9E56vP2QEAEUAQwVFJFAEMRrKG//SAk2aHJKSv4Im06XxNQGunKS8pchliadfkS2aLqBU888cSQ/H/U0LD0nLl6zzwzNk0yzQjNvSR+1PoxQpX536jpI9Hj7zT9khSSCBpTMP/22GNo/OUvKCrf5pqA+X/+pKVlsbV0afV37ZJvD2dU9ch8yDtz0j/RawxG8E6Zgsb48Vjw0kvo2WMPdO2xR0wIqRFkpC9/GOXLizkB+f/x43HNf/0XLrviikgbViSTPHs7RcoFF1wwJLrbjg63/eAM6bJfAIz2OTdpeOC953vflJ0mz3ePYxmyxvQvrnnZN7F02TW57X3v09B51L95CIgAigCGSpcIYCiCNfR3HxiMwGWFBF8fKPfBm1WTtygpM7UPhx12GKjJCU3SW1R1oYhcpvllmfqxAxrAt70tNguzTNwhh6Br990jn8CoGggTRb/97eiaPDk2DZMA0jeQJmFqAZ9+OiaGf/lL7CvIIJKMi9U0BguYAfz/DgBmW+1NYuY8LV1WNRJvImf58k0FYGoGZ5aKo8mXJG/ixEjbZ0y+W2y4IS77l3/BkR/9aJz7j5pTkj5D/qgt3GADXPPDH+KoT3wiyuVHf7V58+Z5kUCjacsib0Um2VaVL6PJ98wzz8Qrr7yCKi9emUQ9x+TsvijxxWbOnDm5LhehXzE+Wn/f75rQtah/fQiIAIoAhkqTCKAHgs1+W04jOz6O5vbDxK1PmvaFnvXg5d+pibj22msHHNGZm4+O79dffz2WLl2a6Q9ow+erUUnT/qStl8mETfRmZKL7+teHRAYPKRNHs/B//VdE9rqPOGLQh+388+PatjQHs3QcSSCjgvkvnf5JDKkVZKAIS8qlXCRuByeRwMwFeFPSpkgD6FbiyCrXZkq/lanc4Y5FjSQ1maamcd+ECfG+N9sMjY02wgmPPIJbue/k2nyTTbD4u9+Ng2xI+Kg5pdaPSaGTSN/9DzooehExF9Og3HxzWqKZ9JsoS9585cSW7yI/OI/beEgT30TVLmHzrSdsa/l4HzEJtZ1M2jUDF6VdKrs/e92uCb2ZWtWq61S/8giIAIoAlpeaoT1EAAsQLNJUhR6A6e+SHTeZct48ZR6oWb5CaSlgGAiSljYjay0+WPm0sccftl6afGnuXW899J51FmafddZA888cfTQefPBB3HrbbQN/62Wi6I9/PI4WpqmY2j/jB0gTMUkgo4dJAqkVpEaQQSPOlZXsOc18nFVLOE0DSL3bSmsut8RbJtaOOZiRy7aWsve1r8Ws3XdHg1VVWKbPqYrBcXs/9znMOuEENB55BAtuuSUuj/aOd8QaU5p/qQFMqnn4agCH4dZoxCl7kkAefl5WBqrcY0UvbSSzNrk1c6S9ePmsN22+LF9Al4BlzV20Bx9cirT+RZp6nznUZmQQEAEUAQyVPBHAAgTLkKvQw6jqyJ2n2fPNsWaPQW0EoyHzHop5JDBPW1MHnkwGzaoNy5cvx+Jf/CLSUEYJf9euxbLlywdztjGK9cor42TGDAahFpBEcNUqcIwFt92Gnje8AV00g3K/1AaSEC5fjsaf/oQFS5eiZ+3aYVHBIedsyCFNuIwkTjPlulHIeSTQEFBMmIDuVavQ/+qrmLLhhujbZ59o370PP4zZixnbHF8brr8+Xl6zBlO22w7nnXYabrnrLvxowQKsePbZCMObfvITdLEOcBLx65bsC9p7ozEQEMJx6tbqmbX5ELYyGsA8f1XeX8zn9/nPfz7SnttBHGkRv/ybHdhiUsG4RMxnDz5nkffd0Cz8fdalNuEIiACKAIZKkQhgAYJ1fRGHHlRRf5c8Vlm3bbayS7OV0Ub6rDMkqtPVqmy11VY48MAD8eijj+Kuu+4amH7/fffF+XPnooulzaj5o48ff1gS7p570H3CCXGyY6ZA+fSn0cUIWEP+/vhHdN92G/pfeglTxo9H3yaboMvJEVe0z6LP3frCRYEoqeORpLFCBwns5pujMW4cFq5ciekktUyTM3kyGk8/je6LLkI/q19MmoTzvvQlPPLoo4jqz86ZE9VUtq/PHHssjjn22MzI3bR1+Giqqspj0QtM2ty+Lxkkgd/4xjcwYcKEiMTZyaHtfaatnZ8bOWaFkdUMQEou+tBecsklkaYzrZKHiQYmAeM5pEUeZ+2Ba2a+TJ+gHJsQi+wV3ZHt97kIoAhgqNSKAHogWFUz5zF005r4PgSzFtDMPYeMnaZVMcEhQ7QpzF/HoBCajBkJTO0fSdyqVei99FLMvvjiga33fvjDmHXQQXHewGeeQe+NN2L2r341+DnNqRMnxlpCBo4EksGsNDHe9YMZsMH10GdvwoS4PBvTuzDalz8s67bNNnFULwNA+vux8I47MPVNb8LDjz6KHtZUvvlmzD733GHHzyoZt99+O/r7+738Pn21z2XlsYgw8nM3cTj9VllZg2TO5wWmaA6XBNokKi+fn1uxg+ukD2AWwcwi1e6LEnN0hprkm/aFo4FbjoAI4NgjgPsC+BKAdyQ5ad8E4I+O5G2fuAMdBOAZABcCmJshnSKALb9t65swT/NS5uHGFflocapqf8ruuGhftlbFlOoyc0T1Ws87L05ebMgffQb5QyL4wgto/OpX6D7uOPQ/9RSmbLst+r7+dXRNmRIHiaxejcYDD6D7ssvQv3IlNl9/fVze1YUjt902NiNTm0gCSG0i/6U/Icf2vEjypiWl50wXU30kK6iE9Yl7Nt44NlXzh8SOwRrUWjJ4g4SQ69thhyjdS/Q5SSGDO9hmiy3QePhhdH/60/GeJ0/GeXPn4qTTTouInrno78kEyAwIGlhbby+YwDjr8vUxY/8ymt88wmjLtr0uO0qcZDArp5+9t9mzB2O5ywZemf0QtzVr1uCZZ56JfGYXLVrkHcGfJzbui5Lrt1g2KMdTRNWsTRAQARx7BPAQAPsAeDypAEUXIpcAMmxvHYB/BbATgB8A+DyA/0iRaxHANrnZ3WX6EDxfTZvPWL5aitB0Ej5rMdofalVYwmuItueGG4Y+fE3ZOP5LosZcgi+9FJHAhf/7v5j+nvega+rUgb9HWr4XX8Q1N9+MY6+4AitpBt58c/S9//3oopaNgSL0I6TJj+ORCHJM9uO/RtNIsplyudG7DALhDUuSNyStzPjxmL7pprFf37p1mLL++uj7m79BF02+1PoxYfPKlVjw1FPoob8fTb7UCJL08YdtuF5GAT/wAE6YMwe33n77ILE788woAfTCvj5M3XVXPPL730e+aWWJWtp55aV/8TVFZpldOfaSJUsi7Z99ZfmtFr1MlCGlafegnTDdd29Vv3Jsv8WqQTlV51a/0YeACODYI4BGCl+fED+XAL4lSRVm/90oGPYSARx9N3HVFZU1qeXNU3Wsqv3qXssA0e3ujipaRA995gFkVCs1gQn5i3IG8u8kc296U0zemCvPmIip3UsIXO8VV2D2f/7nIGE65BDMYlUMU3qO2kCSPvbh36htJDFkfxJD/p9/548ZnzkK16xB93PPRaQuShS95ZY4ctNN0Xj5ZXQ/8wz6166N/Q532gkLnn8esy0NXe873oFZ++wTrfmaP/8Zx/73f2Plyy9jysSJ6Js1K67mQQ0hCSDJ30YbxdrMj30s8vUbZiK3gj3sMynz4mCCIGxtWxGJ99U22+uwiSm1bCT/JviHWkvWsHbNvj5k1nevvvep7958x3Pb1RmUU3UN6jc6EBABFAF0CeCnANBeQ4JoLlqcfg5Ez5uXHNGVBnB03MulV1H0kC0zYNWxqvbLWxvHtKtJZCW1zhpj2JoSjeCQnIGTJ6Nv/nx07bprbNZduxaNBx/EgkWL0DNtWhQ9GwWKfOEL6F++PCZYJ5+Mrje8YTCJNP0FDcEjESSZJNGzCGFjxQosWL4cPVtvjS6aZVlObb31wL8vXLoU0ydORBfNt8y7t/76aKxejYXLlmH6a16DLtbrJSm86aYohUukhfzIR6Lcfo0XX8S0b34Tq0g4k6v36KMx64tfjE3C/KEJmKlevvENzJ4zZ6Dd/vvtF5vISf7GjQsy/edpz7KIlXs+xm+vKL9eWnUNRs666WXy/PTKmHiLZDSrPKKNie/eytyraisEDAIigCKALgE8FcCMxEfQyMmbAdwPYEcAT4gAds4XSJ3ai6pjVe2XR+B8klqn9edaTjjhhCH53XpnzcKsL38ZvV/5CmZ/5SuDhOmMMzDr9NMjbV3jl7/E+z/6USx7+mlM2npr3PS976HrzW9G4957YzPx3/1dbHqlzx+1iYy+TXwFF9xxB3qmTo0/JyFLiCBLzHUvWoT+1asxZZNN0Lf//hGpizSD1DqSoJEQkjTy9/HjY+0hyWBCCEnkGkuWYOEjj2Dq5Ml4ePXqyNy74IEHMHvevIG9jANw1aWX4sgPfzgemxfHY//770f3oYcOBnUsXBjX9w3Mx1dV++v2MxG0Rb5zvi8bxj1g3bp1oI+cSc9SNL7vt0LeOtIq+jCdUrOSPPuuWe06EwERwM4hgJck5UWzJPUWAO+1PswyAYsAdua93tJdpZmxmm3aGtBk9faiimO+/WAellvtbW9D5D/1sY8NljX7/vdjwrRuHY448kjM//GPBzD+zFFH4RJGyBrTLUkbiR8JGjV/K1dG5ea6zzwT/U8/HWsITzgBXdtvH/eh5u2//xuz+/oGCed73xtHGpOgcSzzL38n4TPELSnDFpmRk8ocjWXL4rmYtoapXE4/HcecfjpWWcmde085BbNOOWWQQJIAcmwSvXvuwcKf/ATTaRLvGswyWJXEhZBH+5zc9ClFdXCLXjb4uR0gxPQulIUVK1YMyc8XcjMxxYvtf8g1T548OXI34GU0gBtssEFUYs5cDFBZvHhx5eCQVt1/Idiob2sREAHsHAJIUyxNtFkXTbfLPQhgJRPwcccdB9ak5EXzG390jU0EspzvQ5zlyyDpq+kxY5oHoxsYQO0P024wLQgfzm5gwmeOOQY7bL89dpk6FZ869tghedyO/fjHcencuTEpI/kjibr3Xiy48Ub0HHQQuvbYA73nnYfZF100SPA+/nHM+sd/jLWAbP/gg+j+6lfR/8wzca7B445D12tfGxNEjkvSR00if/g7tYDGfGtMuPTjGz8ekT/iv//7wFz7v/vdeP8BB2DuN7+JlatWRVG9fddei669947HMwSTv3OuhFy6JKIs1u455pl58/L3mX733nsv5s+fPzCsyZ9XRl7stnmpWdiuqgnY4GYnfOZ4zEG5/vrrD5RPZL5Mpmox5QvdfYTM36r7ryr26tcaBOgSwx9eL7/8Mi6Kv4MmAHiuNSsYXbMk9o7RtagWrCZLA7gngLuTAgMmOlhBIC04kE6ZIk0rRHOar1auDk1FkabHJn92Kg47MGDfffeNNC6szhDVET7vvIEggahqyLp10WcmdYgZk1qpX/7P/0QJpKNqITfeiF122gknnXVWFEix+Wab4fJzz8Vub3wjuj/1qbjm8Pbbo+/yyyOzceQDSJJHv8Lf/hYLb7sN09/97uhvC375S/Tstx+6dtopJmVJtY3I/4/l2G69FT3ve19EMAf8+PjZffcND+RgKpdzzsEjf/oTpjP4hZo9Q/bssZONZZE9X6wjUmtV8siK9i5DKkP9PdMIqfEfjZ6KEyZEL7a+tazT7mF7P26k8dvf/vYhycd577j3CufngzrEDOzek1GqI9a4trS59j1RlDy7U76rxvo+pAHsHA2gryxvBoC5/14DgPYl2h2YEuYxACuSQVitnbafLwB4I4ArkzQw30+ZREEgvsiPkXYhGsAyD/8qcLoEJC0wgCTw2muvjcidfZkSXAwSeOKJJ4bkujMP9oGH9Ec+Eter7elB/5Il2GLzzSNNm7n4/1sXsnYHsPDGGzH9kEMGk04nGsOBHIQMtCCB+5d/iXPwkSxecUUcsZsQtihS9xOfiMkky9f94AcxCTSEjiTwgQcw8/TTccsvfjGwjsi/8cwzB83HxoycAm6IudeQP1cLxb+7ZKPsPGUIqI/McDzmMSQRoyYuOiOnFnHeOEUy5uYaLIo8/tznPoc5c+aAdbWr1t3NdW/o6hog5r4JsItw9CH6RWPo8+YjIAI49gjgfgAMwbMl7J8Tose/bWclgqZa+AIAX80QRxHA5t+nbTdD2kPZ50GdlRS4yBxoPk8jFAY8X2LqmnrZv6jOalrSYHcvrk9X5HN38smD5lb7lBPfu+hP48ah99xzMfvrXx8kbiefjFknnjgQUBKZk7/2tcHPTz01DlBhkAhJHf35SCTvvhvd06cPq9Lh88CuSs6zTOw01xJrt2JI1XnK3iT2nvPkJmvcNHM460tfd911Q0y67O9G9ropb1yCaadqoQuCr/a8iJjOnDkTt9xCd/D4cusKu9rsKibnVp1f2fNW++EIiACOPQJY930gAlg3omN4PPfhYZtd07QfdnvbLJvWNkuz5BJTe0xGfrK0WVoJriJC6+6Fmpy5c+eCUZ3R+q67LtbiMViDhM/8pJlfmVLmwx+OtImRvx5T0FjmuyjlzIwZqZG6rjjl7bdIw1S057S50kzsnId/z6oYUnaesrdMGblJGztPTu32hkCV2U/RPRCSGiaNnLkvPEabXSQLWZiX1eCWPTu1rw8BEUARwFBpEgEMRVD9hyBgPyyzKkLYGgxbO5L28DV/K6OZKPPAtsd3NZVpZGuItsdo+vhvEikc+Q0y2XRSVWPBwoXx7+PGRVU3Bvz1OLEJ0qB/3d13e5kqi0yUVbQ+vmSAJlWTe499WhmYYO87Tctr9mBH5Wb5Kab51NmaNY5VJ4FirkLKzdSpU71qFOd9pRS9APiUwCsav5Xnqq/P6giIAIoAVpeeuKcIYCiC6p+JQBFpK6vJqULsfI7HZ50+jvWu9pFzmyCUPubfM4EaPotKaZO2zjQixr/5rLdoGT64lPGvK5ovi4znadVszTE1vkMw7+sb0LS6JmPXrGt8+VytsUu4i/aQh1mztGt13xd1j1eEmT6vhoAIoAhgNckZ7CUCGIrgGOlf9kFoP8zzSIL9sGGfZhCKIo3HsOTRvb2YNYsFdeLIV1+NSF4akjo0cz5m8DRCGFKfuS4y4Cs/PmZOO6DH1C+m3NAf0c7RZ5tw0wJYbFlL22eZs7dlLAsz+gaaFDH016MJ/cgjjyz9DeKLZemB1aGtEBABFAEMFVgRwFAEx0D/qg/C0Q6Nva9hyaMTHz038W8ekXM1gCYtTVVzootf3jkYUuDmQ6yDeFY9R7OmMtGpWYFEPiScBIv+nm7EbVXNW9V+aXjZZ2c+N+mJTK5KH6LeqfdiVRkby/1EAEUAQ+VfBDAUwTHQv0p0bxEsI6XFsOd1fcnc/Gpsa1eWoLmxqDZxszWaRZoqmjBDiGeZc8lraxMVN3+eL4m2iXORJtKdj5pAo12rSpqq9kuT/SztsJ1Whomki0hgnaS06B7V56MbARFAEcBQCRUBDEVwDPR3H4RF0b1FkNT5YC2ayzXNZfl++UQep5UqK0OYyqy1TNu0fIh2sIavP2CZcylq666pDNHJIrlM07J8+XJss802oGbWJkuuptatKlJEILPwNv0YwOGjqcuShzRtcxlibNZXhHsZuVHb9kZABFAEMFSCRQBDERwj/e0HaFF0r/2wSiMfI6XFyNJkZvkdFplcqWViKTNTUaSqT1ce+bDx8yEXrtbMx3Rq5i9zLkVt014a7Px5ZW4bVxPLvtR0Llq0KCKBRZ+XmSutbZocsB3PhuZtQwz5tzy8bTJJLKpGBVcls6E4qP/oQkAEUAQwVCJFAEMR7JD+ZTRZPlqIIvJUhpj4QOyzfp91u3NlaaPM+u321OjceuuthWa8Kmst0rpyTBMAQU0liVERSUvbq++52AENWT6OdRGVLPOpMdlnpYWpy//RnZ+5JW+//fYo6MT2Hc3LjVikYWQwy5DckB5l93zuC7XpXAREAEUAQ6VbBDAUwQ7oXxcxsqEoIh91kQPOWWb9PvMWEbSQaF/ftRblqnPJTZaWKo3Q5e3PxSetbVY0axFuZW8VMx61bJ/97Gfx7LPPDhvCrfNsCJmPv6bvergOu8Yw60WvXr16WPes6ii+85h2vjJSdly17ywERABFAEMlWgQwFMEO6J/mQzZ58mT09PQUarPyNBu+2qRQCIvIZpnxfR6+dpuJEyfixRdfjAiBT7Svz1qNNs82L5922mm48MILI61TWgoRnxQxxlzqey5ZpHLatGlRpK25TFoW33F9zsOd+2//9m8jc3vaZeanCZ7klETRNhH7zFfUhlpVu/KJ8d9zo8c5TmgqIx8ZKVqvPu98BEQARQBDpVwEMBTBUda/ihbGftjmJdMtu1UfbVvZMdPa+5A233l8H752vdfddtvN66HvErui8ngkGSTqpDp5AAAc30lEQVSXr7zySkQuh5WjcxId+xCwoohu4mT8DtN8PdetWzektq0xe7tt3SAMX/xtUmlXiSEBM7n+ssoG+p5d2bWwvStjpuIG/fiq+jaOhpenKlioz+hAQARQBDBUEkUAQxEcRf1DiJAha1nJdEfRNlOXUhfZJLE76qijsHbt2si/a968eVE6EZtYcwEmPYyvpsk+GxKYGTNmREmB3bQfbjSrvVn6vNkly4zmyxA2V/uU9jKQRmRMFQyXWKX5HXIOQzRtTWSamfQ73/lOpUTHLuHiug477DBw/4ZspWnaQuTfR77rkrHRNpfPetRm9CEgAigCGCqVIoChCI6i/nVoQOp+iFbRSI4kpFkaMlu7ts8+++C6664bWGZaehh3Dz5nQ6zsvIP2GNS0nXrqqZgzZ85AouO8wJC8c7SJTF5dXUMwXZNmFhFKM5NmBcX4yAXb0Ox67bXXDpbUS8mV55LzUBPsSMqf5hYCvgiIAIoA+spKVjsRwFAER1H/ushbXZqOutbTSohtEma0ey5J2nvvvXHnnXcOLMvH3OmDhUsSTbABNW22DyDJICN+mX7ENpPagSFZRJb9aMY1efRczSQ/G6hf7JGY2D4bjpXmH2jK6pm2PliYtkXEucxYrZQjzSUEmo2ACKAIYKiMiQCGIjjK+qeRNx9tS53bMPONprJkvvuzCaCJJGVfN4H08ccfj6VLl6JMtGkWsTZ4uSXTjJ8ZU4Sk+ePx71l+f2mm3uOOOw4rVqyIoHDz6BmtGT8L0aD5pIcpInUuqczzbSwzlq8MFLVr9f1UtB59PjYREAEUAQyVfBHAUARHef9Wa0js+ULLkqVBW/bhW7Z9mWjaEKKUpQ2zSZ/xD+Qezj77bNx444144YUXhkQb52lr7c+o+TN5Am3tmqudq0OcizTIWX6WWXMX7bEo+bJvJRSfvbf6fvJZk9qMTQREAEUAQyVfBDAUwRb3r4vQNGvZaSllTFmyojqnRWsq+/BN0+YVraHsHEVrLvq8SINl74FjbbrpprjiiitKB1e4/nk0L//yl7+snOaHJI6EkuOamrtFe7WJZ5bpmm2yZDzv72lkvOpZ5t1jRefli4HaCYFQBEQARQBDZUgEMBTBFvav8kCr0idkS82cL41csj5s1lVUH7asxqks+fbBsQivtKTTbhJo33lMgAnJX0iEblkNnru+vD1nfZb39ywNXxWyVnQeRZ/7nIXaCIE6EBABFAEMlSMRwFAEW9i/ygPNaFTqMFf6bjXLZBdKoFxtGP3vLrjggoFarK52z9V6+UTr5pFCnzx7vhjZ7YpMnHZkcBmfwzTiVYccMB0Lo3vNxaAYYlMmcTj37Jau43hZMl4UnU13g8MPP3xIap0qZM3nHisycVeRAfURAmUREAEUASwrM257EcBQBFvYv8oDrYXLy52qrrW7Wj1TkSErqXLZfH1Zm/AhBml9Q0mvIfAkS+PGjcMxxxxT2Wxblyy4GkCeAatvZJ1BmoauiqbPJeBpKWzcNaSRtbwzqUtO814k6vRJrOtMNU77ISACKAIYKrUigKEItrh/u2ofqhKoNC2WnYjYLUmWlnLEjnCt+vCtQgyq9GmxOHlP55ImUwll6623HpIT0TZP5+0/Tx7yNMi2BpNrICG2ZcBoEbOCW3zOpFn3mM/c3geihmMeARFAEcDQm0AEMBRB9fdCoM6Hn3lAswyXqWJRVIe3jvnLEoO6SK8XwE1slJfaJYTkhZjU7Xnp07jxxhtHKW6K5GAkz2Qk526ieGjoEUJABFAEMFT0RABDEVR/bwTKEiifgX3HHImHb56Zs6om0gcTYzauYw7uoSi5c57GrihFS1WfxKrR5vaZmBJzJim2L7ZV29XxElJ1bvXrPAREAEUAQ6VaBDAUQfVvCwRG6uHrkqNWrKPOOVyiRX+/rPJuaYLgS9DLClHIHtnXp8Rc2TX5tG8WHj5zq01nISACKAIYKtEigKEIqn/bIDAaHr6t0ETWOYdNtFiSjsSpbN6/ZglIyHnWiVGz9qdxhUAeAiKAIoChd4gIYCiC6i8ESiAQornynabuOUKIlu+aW92uboxavX7NJwREAEUAQ+8CEcBQBDuoPx+KdfiNdRAkTdlKKwhVM+boNPloBkZNERgNKgRSEBABFAEMvTFEAEMR7JD+0ojUf5A2YeLoI0Wu6yBu7SIfZfdatn39UqIRhUA1BEQARQCrSc5gLxHAUAQ7pH+7+ES1ywPbjTZdt24dli1blpmmpFn7qou4tYN8lN1r2fYdcqtrGx2CgAigCGCoKIsAhiLYIf3b4WHos8ZmEamyx5xWw9eM4dby9dlX2fnZnuOecMIJQ8q2VakjbMYKydtXZf1l+xQll3Y1sO1AastioPZjBwERQBHAUGkXAQxFsIP6j3afqKIHdlUi1QzSWEYDWLSvKiJmz7/eeuth7dq1hUmSi+YZ7fLB9aWV/suSi6ryUoSTPhcCrUBABFAEMFTORABDERzh/s0gLyO8pczpix7YVYhU0ZghWNiEieNkJT32WUPZc3ax2H///XH++eePeB3hEDyL+toEkEmeb7rppmi/RZrBqsmoi9ajz4VAMxEQARQBDJUvEcBQBEewvw9xGMHl5RK5qgEReVqoKnhUIY3NwLTufVXBohn7auWYWWc5FrFoJe6aa2QQEAEUAQyVPBHAUARHsP9oIS9lIGj2w7ismbLZ6ymDTVbbqudcFos61lp1jLIazrR58s6ynbCoiqH6jS0ERABFAEMlXgQwFMER7N8O5MWFpyqZaSbMo50ctOM5lzmva665BsceeyxWrlzZMX6KdRDaMhiq7dhDQARQBDBU6kUAQxEc4f6jnby48HQ6mWmWOLTbOfviwH1NmzYNq1atGuhSNVLZd85mt5OMNxthjU8ERABFAEPvBBHAUATVvzQCnUpmSgOhDsMCNLbYYosobQ2DN9r1Go1a7nbFUuvORkAEUAQw9P4QAQxFUP1HJQIywY3KYxm2KFtbtvnmm+Pyyy/HkUceGbWr+wzrHi8LYWkA20P22n2VIoAigKEyLAIYiqD6jzoE9AAe2SMpS7TSNMJ1n2Hd4xUhLC13EUL6PBQBEUARwFAZEgEMRVD9Rx0CMsGN3JHURbTqPsO6xxs5hDWzEIgREAEUAQy9F0QAQxFU/1GHQF0kpNUbK6s5G43rq4to1X2GjDQ+6qijoooorIwyb968AVNzq3HUfEKgDgREAEUAQ+VIBDAUQfUflQi0mwmubsJTB5m0x+Ah+9QCrnMf5gynTp2Khx9+GD09PZWDQ+oipqNS2LWoMYmACKAIYKjgiwCGIqj+QqAGBOokKHWQMHeM6dOn47LLLhvYaV6qljrJdx174aLrGqeGo9YQQqAWBEQARQBDBUkEMBRB9RcCNSBQJ0Gpg0y6YzBRM2vm9vf3ZyZrrkPr6EJZx17MmHUS0xqOXEMIgSAERADHHgH8NIB/BrA7gJcBLAbwRQB/siRpewB8VT8IwDMALgQwN0PSRACDbkF1FgL1IVAXQamDTKaNwZ2SBFIb6Obpq2PONCSbNW59p6aRhMDIICACOPYI4JUAfgHgdsR7PxfAzgD2APBqIoa3AlgH4F8B7ATgBwA+D+A/UsRUBHBk7l3NKgSaikBZMpmmvfMZw/RbsmSJt4m47MZ91lF2TLUXAu2OgAjg2COArszuAKAfwFsA3J/82wAwFcAfk8a9AKYD2EsEsN1vea1fCNSPQFUtm91v2223xbhx47B06dLger7171AjCoHOQ0AEUARwFwAPAnhdQgQ/BWAWgNdb4j4NwM8BbA7gJec2kAaw874XtCMhUAqBqn52aX6CU6ZMSTURl1qQGgsBIVCIgAigCOANANYH8MFEWk4FMAPAOyzpeXOiHdwRwBMigIX3lRoIgTGFQBUNIPswKnj+/PlYtmyZtH4eEtOMIBmPadWkQxEQAewcAngJgGNz5PQWAO91Pj8fQA+AdwN4UgSwQ+9ybatlCLTLA7qOdbpjlPGzswnjpEmTMGPGDDBK2A0MadnBtcFEVUh2G2xLSxxBBEQAO4cA0hRLE23WRdPtcuvDOQCOAvAeAI9Zf69kAj7uuOOw4YYbRsMcfPDB0Y8uITCWEGiXB3Qd6wwdo6rJeCzJk7tXYTaWT7++vd90003gD6+XX34ZF110EX+dwMpw9c3SPiMxEnasXWcC+CwA+vY97Gx+TwB3KwhkrImE9huKQLMe0HVo6+y91bHO0DFCCWToWbVjf2HWjqc2utcsDWDnaAB9Je1LAM4AcBiAe6xOTwN4Jfn/zUkamC8AeCMApo5hGpjvp0yiIBBf5NWuoxFoxgN6tI6Zty5fwlrGZNzRglNic8KsBFhqWoiACODYI4BM+MxgDnNRA8qcfwckSaH59+2sRNBUC18A4KsZ0iQCWHibqcFYQaDuB3Sopi0L9zrWmTZGMwjrWJEd7VMItBoBEcCxRwDrljERwLoR1XhCIEGg3QhVswirBEIICIH6ERABFAEMlSoRwFAE1V8I5CBQh7auVQA3g7D6mpRbtUfNIwQ6BQERQBHAUFkWAQxFUP2FQAchUCdhbQah7CCotRUhEISACKAIYJAAARABDEVQ/YWAEEhFQCZlCYYQaB4CIoAigKHSJQIYiqD6CwEhkIqANIASDCHQPAREAEUAQ6VLBDAUQfUXAkIgE4E6TcqCWQgIgUEERABFAEPvBxHAUATVXwgIASEgBIRAixEQARQBDBU5EcBQBNVfCAgBISAEhECLERABFAEMFTkRwFAE1V8ICAEhIASEQIsREAEUAQwVORHAUATVXwgIASEgBIRAixEQARQBDBU5EcBQBNVfCAgBISAEhECLERABFAEMFTkRwFAE1V8ICAEhIASEQIsREAEUAQwVORHAUATVXwgIASEgBIRAixEQARQBDBU5EcBQBNVfCAgBISAEhECLERABFAEMFTkRwFAE1V8ICAEhIASEQIsREAEUAQwVORHAUATVXwgIASEgBIRAixEQARQBDBU5EcBQBNVfCAiBWhBg2bgFCxagp6cHXV1dtYypQYRApyIgAigCGCrbIoChCKq/EBACwQiQ/HV3d6O/vx9TpkxBX1+fSGAwqhqgkxEQARQBDJVvEcBQBNVfCAiBYAR6e3sxe/bsgXH4/1mzZgWPqwGEQKciIAIoAhgq2yKAoQiqvxAQAsEISAMYDKEGGGMIiACKAIaKvAhgKILqLwSEQC0IkAQuXLgQ06dPl/m3FkQ1SCcjIAIoAhgq3yKAoQiqvxAQAkJACAiBFiMgAigCGCpyIoChCKq/EBACQkAICIEWIyACKAIYKnIigKEIqr8QEAJCQAgIgRYjIAIoAhgqciKAoQiqvxAQAkJACAiBFiMgAigCGCpyIoChCKq/EBACQkAICIEWIyACKAIYKnIigKEIqr8QEAJCQAgIgRYjIAIoAhgqciKAoQiqvxAQAkJACAiBFiMgAigCGCpyIoChCKq/EBACQkAICIEWIyACKAIYKnIigKEIqr8QEAJCQAgIgRYjIAIoAhgqciKAoQiqvxAQAkJACAiBFiMgAigCGCpyIoChCKq/EBACQkAICIEWIyACKAIYKnIigKEIqr8QEAJCQAgIgRYjIAIoAhgqciKAoQiqvxAQAkJACAiBFiMgAigCGCpyIoChCKq/EBACQkAICIEWIyACKAIYKnIigKEIqr8QEAJCQAgIgRYjIAIoAhgqciKAoQiqvxAQAkJACAiBFiMgAigCGCpyIoChCKq/EBACQkAICIEWIyACKAIYKnIigKEIqr8QEAJCQAgIgRYjIAIoAhgqciKAoQiqvxAQAkJACAiBFiMgAigCGCpyIoChCKq/EBACQkAICIEWIyACKAIYKnIigKEIqr8QEAJCQAgIgRYjIAIoAhgqciKAoQiqvxAQAkJACAiBFiMgAigCGCpyIoChCKq/EBACQkAICIEWIyACKAIYKnIigKEIqr8QEAJCQAgIgRYjIAI49gjgJwDMBPBGAGsB3AXgFAB3WrK3PYDLABwE4BkAFwKYmyGbIoAtvmk1nRAQAkJACAiBUAREAMceAXw/gPEAfgdgAwBfAPAPAF4PYGUiULcCWAfgXwHsBOAHAD4P4D9SBE4EMPQuVH8hIASEgBAQAi1GQARw7BFAV8Q2B/AcgH0A/BrAWwA0AEwF8MekcS+A6QD2GmsE8KabbsLBBx/c4tuyNdNpb63Bue5ZOvnciFUn7097q/tuaM14nXpuIoBjmwCun2j2TgSwC4DnAXwKwKxEI2jurmkAfg6AZPEl55braA3gzJkzcf7557fmW6bFs2hvLQa8puk6+dwIUSfvT3ur6SZo8TCdem4igGOTAO4B4P8AbAJgKYAPAvhNck+dCmAGgHdY99ibAdwPYEcAT4gAtvjbp0nTdeqXmkhEkwSmRcNKLlsEdM3T6NxqBrQFw4kAdg4BvATAsTkycwuA9yafU/NHMrc1gE8D6AHw1oQMViKAjz/+OLbcksrAzrpOO+00zJkzp7M2lexGe2vPY+3kc+OJdPL+tDfdc6MJARLA173udVzShMQVbDQtryVrGdeSWZo/CdkXTbRZF023yzM+ZEDIRQC+VcEE/BoAf2n+9jSDEBACQkAICAEh0AQEXpti3WvCNKNvyE4hgCHIPgLgvCT1y54A7i4RBEL8plgRxCHrUF8hIASEgBAQAkKgdQhsAaA/yfzRullHyUxjjQB+GcBiAH8GsBWAzwL4SGICfjw5k5sTYWCKGOYLvDIJFvn+KDkzLUMICAEhIASEgBAQAkEIjDUC+A0AH0q0diuSBNCzrSAQgrmdlQiaKWIuAPDVIJTVWQgIASEgBISAEBACowiBsUYARxH0WooQEAJCQAgIASEgBEYGARHAcNy/mZiIGVH8XWu4MiXlwldR3wh1l8urb2X1jMRz+mcAuwN4OXEJ+CKAP3XA2e0L4EtJGqNtAbzJSmhutteucsn1c2+s0EP3jZ8BOAbAk/WIRctGOQzAcQD2BkD/I1YkYllKczEJPUtRMjn9XwF8BcD3Wra6sIlOA3B4kleVlZVuBHAygGUdsD+WDP1kkkFiNYBfAjgJAH3IebXzubmn/uMkO8b7APxvB+zvTAD8MRcrfd2QpHzrtLMrdQeLAJaCa1hjppZhpmQ+bJlA2iaAZUrKha2i3t51l8urd3Xho9Gn8xcAbkecBulcADsDYH7IV5Ph2/XsDkmIA/1ZL3eCmQxy7bo3kna6Y3wsIev8nee3f7hItHSEf0pIBEkfcyzZBJApqn6buKSclZzlpQBYjoe+yaP96gNwVVJjnZkZWEd9FQASCV7tvD8SW7oN/QEA98YKUawcxZesdt6XK1O8z+gXz+fAQQkBbPf9kfzxu5Ep3wzneTFJ/dLuewv6ThABrA4fcwfdlbzx8o2Jb+qGAJYtKVd9Fc3vGVour/krDJthhyQKjGfGhN+dcHasbc1ShnZJQ6LUznvjvfaT5EWLe2GAFh/GbwNwb5gIjEjv/ZKHq00A+YD6z+SF8oVkVQw+o6aQCerb7aIWk5oyamypEeyk/fGF8R4AkxOi3gnnxu8NviD+XZLezGgA2/3cSAAPBMCqXu7V7nsL+k4QAawOHzVJvwfAN3WaD20CWLakXPVVNLdnHeXymrvC8NFZBvBBAMwIynQAnXB2WQSwXfe2IQASImokbE0YSe5cAN8OF4OWj5BGAPkdwocUPzPXx5M9Mudou13UIl2fEFhqPDtlf6widXZCKvgC0gn7IheguZfuBny28bwMAWz3/ZEAzky+QxjY+T8AmBHkmQ45u8rfCyKA1aDj2/jpia8VbxSXAJatKFJtFc3rVWe5vOatsp6R6QtCosuSgLza/ey4hywC2K57o5aFZRiZp/MB69h/BWABgHPqEYWWjpJGAOn7xwpFH7ZW8oHEX4kkuJ0urvc2AHckPo9ce7vvj98R1PRtmmif+ULClGLtvi+ezYnJiwc1YrxsAtju++OLCEk7FTZvSNx+6Jd6QIecXeXvBRHAodD5lJSjfwSTRdOngCZDXu1AAH321oxyeZWFs2THMvszQ9N/k19477aCCUYjSSq7NxHAksIzAs07mQCuB+CHia8jH7LGnN3uRIIkgi8jDKRiAMhuAPZKqki1M3HnPn6e7MUEVXUSAXRv752S4J13JCVk2/nsgr66RACHwudTUo7aMarKGTBg8BufvDExsIAmnNFoavPZWzPK5QUJaInOZfdHB/yjALwHwGPWPJ1wdjIBlxCcEWraqSZgfifShEh/U34XPmvh2+6mRFtU6LvJoJB/TCxB7Wy6Z+aH7zjVMPhM4zOOGs9HO8w1gef4NICjEx/idj67oK8vEcDy8PEtkA7o9rUIAKP15iU3S9mScuVX0doeIeXyWrtSv9noE8IqMLzxH3a6dMLZZRHAdt7bWAgCmZ48cCdZWrP/SKJO2yUIhIFw1KjzxWqpc291wv7MlmjiJgHkufB3EqV2PTe+PLMern3RusWX4ZsAvL3N9+c+FXZMntPUALKUazufnd8TL6OVCGAQfAOdXRMwP2jXknKdXi6PueTOAMB8bIziMxffCF9J/tOuZ7dZkpaCAQNMyUHzNlPCUMPJh1U7yyVzsDH1C7UVvN9ovqepkSbGdromJqZRPnyYqof5AKlp4UsW5Y8P3kYSXMYo2osTd5Nb2mCTNPHyvvr7RO7MkkkEaVKk1qxd98d0Ucz2wEAxZg7g90hX4pf6UhvvK0usbBNwO58b98dKXvQV/gsAmn+/BoBpYJg3td33FvS1IAIYBN9AZ0YjMirMzgPYriXlOr1cHskD3wDNxXuAiUFJJFgnmle7nh3Nioa82pLN3F40y7Xz3rh2JuM9PtGIMZLvWABP1XMLt2wUElhGWlLm7MvIH/PKkRiaRNDMMkAtYDtcJA32vsy9RYuJcbNo1/1dnWg1qeUjoWUuUeZ+ZSoiXu26ryy54kuJyQPY7vujho9kj75+S5IE5VQCGJenTjs77+8KEUBvqNRQCAgBISAEhIAQEAKdgYAIYGeco3YhBISAEBACQkAICAFvBEQAvaFSQyEgBISAEBACQkAIdAYCIoCdcY7ahRAQAkJACAgBISAEvBEQAfSGSg2FgBAQAkJACAgBIdAZCIgAdsY5ahdCQAgIASEgBISAEPBGQATQGyo1FAJCQAgIASEgBIRAZyAgAtgZ56hdCAEhIASEgBAQAkLAGwERQG+o1FAICAEhIASEgBAQAp2BgAhgZ5yjdiEEhIAQEAJCQAgIAW8ERAC9oVJDISAEhIAQEAJCQAh0BgIigJ1xjtqFEBACQkAICAEhIAS8ERAB9IZKDYWAEBACQkAICAEh0BkIiAB2xjlqF0JACAgBISAEhIAQ8EZABNAbKjUUAkJACAgBISAEhEBnICAC2BnnqF0IASEgBISAEBACQsAbARFAb6jUUAgIASEgBISAEBACnYGACGBnnKN2IQSEgBAQAkJACAgBbwREAL2hUkMhIASEgBAQAkJACHQGAiKAnXGO2oUQEAJCQAgIASEgBLwREAH0hkoNhYAQEAJCQAgIASHQGQiIAHbGOWoXQkAICAEhIASEgBDwRkAE0BsqNRQCQkAICAEhIASEQGcgIALYGeeoXQgBISAEhIAQEAJCwBsBEUBvqNRQCAgBISAEhIAQEAKdgYAIYGeco3YhBISAEBACQkAICAFvBEQAvaFSQyEgBISAEBACQkAIdAYCIoCdcY7ahRAQAkJACAgBISAEvBEQAfSGSg2FgBAQAkJACAgBIdAZCIgAdsY5ahdCQAgIASEgBISAEPBGQATQGyo1FAJCQAgIASEgBIRAZyAgAtgZ56hdCAEhIASEgBAQAkLAGwERQG+o1FAICAEhIASEgBAQAp2BwP8HW4JcihH03ZQAAAAASUVORK5CYII=\">"
      ],
      "text/plain": [
       "<IPython.core.display.HTML object>"
      ]
     },
     "metadata": {},
     "output_type": "display_data"
    }
   ],
   "source": [
    "fig, ax = plt.subplots()\n",
    "plot_fit(fig, ax)"
   ]
  },
  {
   "cell_type": "markdown",
   "metadata": {},
   "source": [
    "## fit"
   ]
  },
  {
   "cell_type": "code",
   "execution_count": 14,
   "metadata": {
    "collapsed": false
   },
   "outputs": [
    {
     "name": "stdout",
     "output_type": "stream",
     "text": [
      "Optimization terminated successfully.\n",
      "         Current function value: 101651.731484\n",
      "         Iterations: 0\n",
      "         Function evaluations: 1\n",
      "         Gradient evaluations: 1\n"
     ]
    },
    {
     "data": {
      "text/plain": [
       "      fun: array(101651.73148390374)\n",
       " hess_inv: array([[1, 0, 0, 0, 0, 0, 0, 0],\n",
       "       [0, 1, 0, 0, 0, 0, 0, 0],\n",
       "       [0, 0, 1, 0, 0, 0, 0, 0],\n",
       "       [0, 0, 0, 1, 0, 0, 0, 0],\n",
       "       [0, 0, 0, 0, 1, 0, 0, 0],\n",
       "       [0, 0, 0, 0, 0, 1, 0, 0],\n",
       "       [0, 0, 0, 0, 0, 0, 1, 0],\n",
       "       [0, 0, 0, 0, 0, 0, 0, 1]])\n",
       "      jac: array([ 135.53565289,  227.02094122,           nan,           nan,\n",
       "                 nan,           nan,           nan,           nan])\n",
       "  message: 'Optimization terminated successfully.'\n",
       "     nfev: 1\n",
       "      nit: 0\n",
       "     njev: 1\n",
       "   status: 0\n",
       "  success: True\n",
       "        x: array([  4.15294197e+02,   4.38364603e+02,   6.07242075e+03,\n",
       "         3.84652382e+03,  -1.16917224e+03,   1.23896972e+03,\n",
       "        -7.77704907e-01,  -1.35719191e+00])"
      ]
     },
     "execution_count": 14,
     "metadata": {},
     "output_type": "execute_result"
    }
   ],
   "source": [
    "myoptimizer = opt.ScipyOptimizer(batch)\n",
    "# CAUTION: scipy args needs to be tuple in order to work as expected!\n",
    "myoptimizer.optimize(\n",
    "    model, args=(targets,),\n",
    "#     method='CG',\n",
    "#     method=\"Newton-CG\",\n",
    "#     method=\"Nelder-Mead\",\n",
    "    options={'maxiter':10000, 'disp':True},\n",
    "    callback=lambda x: plot_fit(fig, ax, time_delay=0.001)\n",
    ")"
   ]
  },
  {
   "cell_type": "code",
   "execution_count": 17,
   "metadata": {
    "collapsed": false
   },
   "outputs": [
    {
     "name": "stdout",
     "output_type": "stream",
     "text": [
      "0.0 inf\n"
     ]
    }
   ],
   "source": [
    "alpha = transform_model.alpha_from_Alpha(transform_model._Alpha.get_value(), module=np)\n",
    "beta = transform_model.beta_from_Beta(alpha, transform_model._Beta.get_value(), module=np)\n",
    "print alpha, beta"
   ]
  },
  {
   "cell_type": "code",
   "execution_count": null,
   "metadata": {
    "collapsed": true
   },
   "outputs": [],
   "source": []
  }
 ],
 "metadata": {
  "kernelspec": {
   "display_name": "Python 2",
   "language": "python",
   "name": "python2"
  },
  "language_info": {
   "codemirror_mode": {
    "name": "ipython",
    "version": 2
   },
   "file_extension": ".py",
   "mimetype": "text/x-python",
   "name": "python",
   "nbconvert_exporter": "python",
   "pygments_lexer": "ipython2",
   "version": "2.7.6"
  },
  "toc": {
   "toc_cell": false,
   "toc_number_sections": true,
   "toc_threshold": 4,
   "toc_window_display": false
  }
 },
 "nbformat": 4,
 "nbformat_minor": 0
}
