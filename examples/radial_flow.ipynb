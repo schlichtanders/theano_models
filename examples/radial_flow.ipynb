{
 "cells": [
  {
   "cell_type": "code",
   "execution_count": 1,
   "metadata": {
    "collapsed": false
   },
   "outputs": [
    {
     "name": "stderr",
     "output_type": "stream",
     "text": [
      "/usr/local/lib/python2.7/dist-packages/matplotlib/font_manager.py:273: UserWarning: Matplotlib is building the font cache using fc-list. This may take a moment.\n",
      "  warnings.warn('Matplotlib is building the font cache using fc-list. This may take a moment.')\n"
     ]
    }
   ],
   "source": [
    "%matplotlib notebook"
   ]
  },
  {
   "cell_type": "code",
   "execution_count": 2,
   "metadata": {
    "collapsed": false
   },
   "outputs": [
    {
     "name": "stdout",
     "output_type": "stream",
     "text": [
      "gnumpy: failed to import cudamat. Using npmat instead. No GPU will be used.\n"
     ]
    }
   ],
   "source": [
    "import numpy as np\n",
    "import matplotlib.pyplot as plt\n",
    "from matplotlib import collections  as mc\n",
    "import time\n",
    "from scipy.optimize import minimize\n",
    "from climin.util import optimizer\n",
    "import theano\n",
    "import theano.tensor as T\n",
    "from itertools import izip, cycle, imap, repeat, islice\n",
    "from pprint import pprint\n",
    "from functools import partial"
   ]
  },
  {
   "cell_type": "code",
   "execution_count": 3,
   "metadata": {
    "collapsed": false
   },
   "outputs": [],
   "source": [
    "from schlichtanders.myfunctools import compose, summap, meanmap\n",
    "from schlichtanders.mygenerators import chunk, every"
   ]
  },
  {
   "cell_type": "code",
   "execution_count": 4,
   "metadata": {
    "collapsed": false
   },
   "outputs": [],
   "source": [
    "from theano_models import Merge, fix_params, normalizing_flow, variational_bayes, Reparameterize, Flatten, check_all_identities\n",
    "from theano_models.tools import as_tensor_variable, softplus, softplus_inv, squareplus, squareplus_inv, L1\n",
    "                           \n",
    "import theano_models.postmaps as post\n",
    "import theano_models.probabilistic_models as pm\n",
    "import theano_models.deterministic_models as dm"
   ]
  },
  {
   "cell_type": "markdown",
   "metadata": {},
   "source": [
    "# Deterministic Model - one dimensional"
   ]
  },
  {
   "cell_type": "markdown",
   "metadata": {},
   "source": [
    "## target"
   ]
  },
  {
   "cell_type": "code",
   "execution_count": null,
   "metadata": {
    "collapsed": false
   },
   "outputs": [],
   "source": [
    "target = dm.RadialTransform(init_alpha=1, init_beta=20, init_z0=[3])"
   ]
  },
  {
   "cell_type": "code",
   "execution_count": null,
   "metadata": {
    "collapsed": false
   },
   "outputs": [],
   "source": [
    "f_target = target.function()\n",
    "example_target = [7]\n",
    "f_target(example_target)  # caution, needs vector not scalar input"
   ]
  },
  {
   "cell_type": "code",
   "execution_count": null,
   "metadata": {
    "collapsed": false
   },
   "outputs": [],
   "source": [
    "N = 40\n",
    "xs = np.linspace(-10, 10, N)[:, np.newaxis]\n",
    "xs[:7]"
   ]
  },
  {
   "cell_type": "code",
   "execution_count": null,
   "metadata": {
    "collapsed": false
   },
   "outputs": [],
   "source": [
    "ys = np.array([f_target(x) for x in xs])\n",
    "ys[:7]"
   ]
  },
  {
   "cell_type": "markdown",
   "metadata": {},
   "source": [
    "## model"
   ]
  },
  {
   "cell_type": "code",
   "execution_count": null,
   "metadata": {
    "collapsed": false
   },
   "outputs": [],
   "source": [
    "model_ = dm.RadialTransform(input=xs[0])\n",
    "model_"
   ]
  },
  {
   "cell_type": "markdown",
   "metadata": {},
   "source": [
    "TODO softplus gives immediate precision loss, while e.g. squarepos works like a charm\n",
    "\n",
    "    # model.map('parameters_positive', reparameterize_map(softplus, softplus_inv), 'parameters')"
   ]
  },
  {
   "cell_type": "code",
   "execution_count": null,
   "metadata": {
    "collapsed": false
   },
   "outputs": [],
   "source": [
    "model = Merge(model_, Reparameterize(model_['parameters_positive'], squareplus, squareplus_inv))\n",
    "model = Merge(model, Flatten(model['parameters']))\n",
    "model"
   ]
  },
  {
   "cell_type": "markdown",
   "metadata": {},
   "source": [
    "## visualization"
   ]
  },
  {
   "cell_type": "code",
   "execution_count": null,
   "metadata": {
    "collapsed": false
   },
   "outputs": [],
   "source": [
    "def plot_fit(fig, ax, givens={}, time_delay=0.1):\n",
    "    ax.clear() # interactive\n",
    "    # target data:\n",
    "    ax.plot(xs, ys, 'k:')\n",
    "    \n",
    "    # model:\n",
    "    f_model = model.function(givens=givens)\n",
    "    model_ys = np.array([f_model(x) for x in xs])\n",
    "    ax.plot(xs, model_ys, 'r')\n",
    "    \n",
    "    fig.canvas.draw()\n",
    "    time.sleep(time_delay)"
   ]
  },
  {
   "cell_type": "code",
   "execution_count": null,
   "metadata": {
    "collapsed": false
   },
   "outputs": [],
   "source": [
    "fig, ax = plt.subplots()\n",
    "plot_fit(fig, ax)"
   ]
  },
  {
   "cell_type": "markdown",
   "metadata": {},
   "source": [
    "## fit"
   ]
  },
  {
   "cell_type": "code",
   "execution_count": null,
   "metadata": {
    "collapsed": false
   },
   "outputs": [],
   "source": [
    "postmap = compose(post.scipy_postmap, post.flat_numericalize_postmap, post.deterministic_optimizer_postmap)\n",
    "scipy_kwargs = postmap(model, mapreduce=summap)\n",
    "scipy_kwargs"
   ]
  },
  {
   "cell_type": "code",
   "execution_count": null,
   "metadata": {
    "collapsed": false
   },
   "outputs": [],
   "source": [
    "fit = minimize(\n",
    "    args=(ys,xs),\n",
    "#     method=\"CG\",\n",
    "    method=\"Newton-CG\",\n",
    "    options={'maxiter':100, 'disp':True},\n",
    "    callback=lambda params: plot_fit(fig, ax, {model['flat']:params}),\n",
    "    **scipy_kwargs\n",
    "); fit"
   ]
  },
  {
   "cell_type": "markdown",
   "metadata": {},
   "source": [
    "Fix fitted parameters into model.\n",
    "\n",
    "We need to further build a givens dictionary supply the input-info which usually is given when used as theano.function(model['inputs'], model['outputs'])."
   ]
  },
  {
   "cell_type": "code",
   "execution_count": null,
   "metadata": {
    "collapsed": false
   },
   "outputs": [],
   "source": [
    "fit.x"
   ]
  },
  {
   "cell_type": "code",
   "execution_count": null,
   "metadata": {
    "collapsed": false
   },
   "outputs": [],
   "source": [
    "model['flat'] = fit.x"
   ]
  },
  {
   "cell_type": "code",
   "execution_count": null,
   "metadata": {
    "collapsed": false
   },
   "outputs": [],
   "source": [
    "[(p.name, p.eval()) for p in model_['parameters_positive']]"
   ]
  },
  {
   "cell_type": "code",
   "execution_count": null,
   "metadata": {
    "collapsed": false
   },
   "outputs": [],
   "source": [
    "[(p.name, p.eval()) for p in model_['parameters']]"
   ]
  },
  {
   "cell_type": "markdown",
   "metadata": {},
   "source": [
    "# two dimensions"
   ]
  },
  {
   "cell_type": "markdown",
   "metadata": {},
   "source": [
    "## target"
   ]
  },
  {
   "cell_type": "code",
   "execution_count": null,
   "metadata": {
    "collapsed": true
   },
   "outputs": [],
   "source": [
    "target2d = dm.RadialTransform(init_alpha=1, init_beta=5, init_z0=[3, 1])\n",
    "# target2d = dm.RadialTransform(init_alpha=50, init_beta=-40, init_z0=[3, 1])"
   ]
  },
  {
   "cell_type": "code",
   "execution_count": null,
   "metadata": {
    "collapsed": false
   },
   "outputs": [],
   "source": [
    "f_target2d = target2d.function()\n",
    "example_target2d = [7, 4]\n",
    "f_target2d(example_target2d)  # caution, needs vector not scalar input"
   ]
  },
  {
   "cell_type": "code",
   "execution_count": null,
   "metadata": {
    "collapsed": false
   },
   "outputs": [],
   "source": [
    "N2d = 10\n",
    "_xs = np.linspace(-10, 10, N2d)\n",
    "X1, X2 = np.meshgrid(_xs, _xs)\n",
    "xs2d = np.c_[X1.flat, X2.flat]\n",
    "xs2d[:5]"
   ]
  },
  {
   "cell_type": "code",
   "execution_count": null,
   "metadata": {
    "collapsed": false
   },
   "outputs": [],
   "source": [
    "ys2d = np.array([f_target2d(x) for x in xs2d])\n",
    "ys2d[:5]"
   ]
  },
  {
   "cell_type": "markdown",
   "metadata": {},
   "source": [
    "## model"
   ]
  },
  {
   "cell_type": "code",
   "execution_count": null,
   "metadata": {
    "collapsed": false
   },
   "outputs": [],
   "source": [
    "model2d = dm.RadialTransform(input=xs2d[0])\n",
    "model2d"
   ]
  },
  {
   "cell_type": "code",
   "execution_count": null,
   "metadata": {
    "collapsed": false
   },
   "outputs": [],
   "source": [
    "model2d = Merge(model2d, Reparameterize(model2d['parameters_positive'], squareplus, squareplus_inv))\n",
    "model2d = Merge(model2d, Flatten(model2d['parameters']))\n",
    "model2d"
   ]
  },
  {
   "cell_type": "markdown",
   "metadata": {},
   "source": [
    "## visualization"
   ]
  },
  {
   "cell_type": "code",
   "execution_count": null,
   "metadata": {
    "collapsed": false
   },
   "outputs": [],
   "source": [
    "diff2d = ys2d - xs2d\n",
    "quiver_kwargs = dict(scale=1, angles='xy', scale_units='xy', width=0.003)\n",
    "\n",
    "def plot_fit2d(fig, ax, givens={}, time_delay=0.1, expand_factor=0.4):\n",
    "    ax.clear()\n",
    "    \n",
    "    # target data:\n",
    "    ax.quiver(xs2d[:,0], xs2d[:,1], diff2d[:,0], diff2d[:,1], hatch='***', facecolor='none', color=\"k\", **quiver_kwargs)\n",
    "    \n",
    "    # model:\n",
    "    f_model2d = model2d.function(givens=givens)\n",
    "    m_ys2d = np.array([f_model2d(x) for x in xs2d])\n",
    "    m_diff2d = m_ys2d - xs2d\n",
    "    ax.quiver(xs2d[:,0], xs2d[:,1], m_diff2d[:,0], m_diff2d[:,1], color=\"r\", **quiver_kwargs)\n",
    "\n",
    "    # ax.autoscale()  # does not work with arrows, do it manually:\n",
    "    l, r, b, t = ax.axis()\n",
    "    dx, dy = r - l, t - b\n",
    "    ax.axis([l - expand_factor * dx, r + expand_factor * dx, b - expand_factor * dy, t + expand_factor * dy])\n",
    "    \n",
    "    fig.canvas.draw()\n",
    "    time.sleep(time_delay)"
   ]
  },
  {
   "cell_type": "code",
   "execution_count": null,
   "metadata": {
    "collapsed": false
   },
   "outputs": [],
   "source": [
    "fig, ax = plt.subplots()\n",
    "plot_fit2d(fig, ax)"
   ]
  },
  {
   "cell_type": "markdown",
   "metadata": {},
   "source": [
    "## fit"
   ]
  },
  {
   "cell_type": "code",
   "execution_count": null,
   "metadata": {
    "collapsed": false
   },
   "outputs": [],
   "source": [
    "postmap = compose(post.scipy_postmap, post.flat_numericalize_postmap, post.deterministic_optimizer_postmap)\n",
    "scipy_kwargs2d = postmap(model2d, mapreduce=summap)\n",
    "scipy_kwargs2d"
   ]
  },
  {
   "cell_type": "code",
   "execution_count": null,
   "metadata": {
    "collapsed": false
   },
   "outputs": [],
   "source": [
    "fit = minimize(\n",
    "    args=(ys2d,xs2d),\n",
    "#     method=\"CG\",\n",
    "    method=\"Newton-CG\",\n",
    "    options={'maxiter':100, 'disp':True},\n",
    "    callback=lambda params: plot_fit2d(fig, ax, {model2d['flat']:params}),\n",
    "    **scipy_kwargs2d\n",
    "); fit"
   ]
  },
  {
   "cell_type": "markdown",
   "metadata": {},
   "source": [
    "# Probabilistic Normalizing Flow"
   ]
  },
  {
   "cell_type": "markdown",
   "metadata": {},
   "source": [
    "Only the combination with gaussian base function is shown. The uniform base function has the disadvantage of not being differentiable (not yet supported)."
   ]
  },
  {
   "cell_type": "markdown",
   "metadata": {},
   "source": [
    "## model"
   ]
  },
  {
   "cell_type": "code",
   "execution_count": null,
   "metadata": {
    "collapsed": false
   },
   "outputs": [],
   "source": [
    "base_model = pm.DiagGauss(output_size=2)\n",
    "# CAUTION, this transform cannot be reused elsewhere, as it is merged into normalizing flow\n",
    "# its references point always to the current substitution\n",
    "transform_model = dm.RadialTransform()"
   ]
  },
  {
   "cell_type": "code",
   "execution_count": null,
   "metadata": {
    "collapsed": false
   },
   "outputs": [],
   "source": [
    "model = normalizing_flow(transform_model, base_model)\n",
    "model"
   ]
  },
  {
   "cell_type": "code",
   "execution_count": null,
   "metadata": {
    "collapsed": false
   },
   "outputs": [],
   "source": [
    "# model.map('parameters_positive',reparameterize_map(squareplus, squareplus_inv), 'parameters')\n",
    "model = Merge(model, Reparameterize(model['parameters_positive'],softplus, softplus_inv))\n",
    "model = Merge(model,Flatten(model['parameters']))\n",
    "model"
   ]
  },
  {
   "cell_type": "markdown",
   "metadata": {},
   "source": [
    "## target"
   ]
  },
  {
   "cell_type": "code",
   "execution_count": null,
   "metadata": {
    "collapsed": true
   },
   "outputs": [],
   "source": [
    "base_target = pm.DiagGauss(init_mean=[5,5], init_var=(10,5))\n",
    "transform_target = dm.RadialTransform(init_z0=[5,5], init_beta=30, init_alpha=3)"
   ]
  },
  {
   "cell_type": "raw",
   "metadata": {},
   "source": [
    "base_target = pm.DiagGauss(init_mean=[5,5], init_var=(80,40))\n",
    "transform_target = dm.RadialTransform(init_z0=[30,10], init_beta=-70, init_alpha=80)"
   ]
  },
  {
   "cell_type": "code",
   "execution_count": null,
   "metadata": {
    "collapsed": false
   },
   "outputs": [],
   "source": [
    "target = normalizing_flow(transform_target, base_target)\n",
    "t_sampler = target.function()\n",
    "t_sampler()"
   ]
  },
  {
   "cell_type": "code",
   "execution_count": null,
   "metadata": {
    "collapsed": false
   },
   "outputs": [],
   "source": [
    "n_samples = 2000\n",
    "targets = np.array([t_sampler() for _ in xrange(n_samples)])"
   ]
  },
  {
   "cell_type": "markdown",
   "metadata": {},
   "source": [
    "## visualization"
   ]
  },
  {
   "cell_type": "code",
   "execution_count": null,
   "metadata": {
    "collapsed": false
   },
   "outputs": [],
   "source": [
    "scatter_kwargs = dict(edgecolors=\"face\", alpha=0.01, s=5000)\n",
    "outer = dict(i=0)\n",
    "def plot_fit(fig, ax, givens={}, time_delay=0.1):\n",
    "    outer['i'] += 1\n",
    "    ax.clear()\n",
    "    \n",
    "    # targets\n",
    "    ax.plot(targets[:,0], targets[:,1], 'k.')\n",
    "#     ax.scatter(targets[:,0], targets[:,1], c='k', **scatter_kwargs)\n",
    "\n",
    "    # model\n",
    "    m_sampler = model.function(givens=givens)\n",
    "    m_samples = np.array([m_sampler() for _ in xrange(n_samples)])\n",
    "    ax.scatter(m_samples[:,0], m_samples[:,1], c='r',**scatter_kwargs)\n",
    "\n",
    "    fig.canvas.draw()\n",
    "    if time_delay is not None:\n",
    "        time.sleep(time_delay)"
   ]
  },
  {
   "cell_type": "code",
   "execution_count": null,
   "metadata": {
    "collapsed": false,
    "scrolled": false
   },
   "outputs": [],
   "source": [
    "fig, ax = plt.subplots()\n",
    "plot_fit(fig, ax)"
   ]
  },
  {
   "cell_type": "markdown",
   "metadata": {},
   "source": [
    "## fit"
   ]
  },
  {
   "cell_type": "code",
   "execution_count": null,
   "metadata": {
    "collapsed": false
   },
   "outputs": [],
   "source": [
    "postmap = compose(post.scipy_postmap, post.flat_numericalize_postmap, post.probabilistic_optimizer_postmap)\n",
    "scipy_kwargs = postmap(model, mapreduce=meanmap)\n",
    "scipy_kwargs"
   ]
  },
  {
   "cell_type": "code",
   "execution_count": null,
   "metadata": {
    "collapsed": false
   },
   "outputs": [],
   "source": [
    "fit = minimize(\n",
    "    args=(targets,),\n",
    "#     method='CG',\n",
    "#     method=\"Newton-CG\",\n",
    "#     method=\"Nelder-Mead\",\n",
    "    options={'maxiter':1000, 'disp':True},\n",
    "    callback=lambda params: plot_fit(fig, ax, {model['flat']:params}, time_delay=None),\n",
    "    **scipy_kwargs\n",
    "); fit"
   ]
  },
  {
   "cell_type": "markdown",
   "metadata": {
    "collapsed": true
   },
   "source": [
    "Using the default scipy optimizer, one can see very good, that the problem is ill-defined in that the maximum likelihood solution is a ill-formed solution."
   ]
  },
  {
   "cell_type": "markdown",
   "metadata": {},
   "source": [
    "# adding regularizer"
   ]
  },
  {
   "cell_type": "code",
   "execution_count": null,
   "metadata": {
    "collapsed": false
   },
   "outputs": [],
   "source": [
    "postmap = compose(post.scipy_postmap,post.flat_numericalize_postmap, post.regularizer_postmap,\n",
    "                  post.probabilistic_optimizer_postmap)\n",
    "scipy_kwargs = postmap(model, mapreduce=meanmap, regularizer_scalar=0.1) #, 'regularizer_norm': L1\n",
    "scipy_kwargs"
   ]
  },
  {
   "cell_type": "code",
   "execution_count": null,
   "metadata": {
    "collapsed": false
   },
   "outputs": [],
   "source": [
    "fit = minimize(\n",
    "    args=(targets,),\n",
    "#     method='CG',\n",
    "#     method=\"Newton-CG\",\n",
    "#     method=\"Nelder-Mead\",\n",
    "    options={'maxiter':1000, 'disp':True},\n",
    "    callback=lambda params: plot_fit(fig, ax, {model['flat']:params}, time_delay=0.001),\n",
    "    **scipy_kwargs\n",
    "); fit"
   ]
  },
  {
   "cell_type": "code",
   "execution_count": null,
   "metadata": {
    "collapsed": false
   },
   "outputs": [],
   "source": [
    "model['flat']"
   ]
  },
  {
   "cell_type": "code",
   "execution_count": null,
   "metadata": {
    "collapsed": false
   },
   "outputs": [],
   "source": [
    "givens = {model['parameters_flat'][0]:fit.x}\n",
    "print transform_model.beta.eval(givens)\n",
    "pprint({m.name: m.eval(givens) for m in model['parameters'] + model['parameters_positive']})"
   ]
  },
  {
   "cell_type": "markdown",
   "metadata": {
    "collapsed": true
   },
   "source": [
    "# variational inference"
   ]
  },
  {
   "cell_type": "markdown",
   "metadata": {},
   "source": [
    "## Model"
   ]
  },
  {
   "cell_type": "code",
   "execution_count": 5,
   "metadata": {
    "collapsed": false
   },
   "outputs": [
    {
     "data": {
      "text/plain": [
       "Merge { 'inputs': [],\n",
       "  'logP': <FunctionWrapper at 0x7f2f21804830 for function at 0x7f2f218099b0>,\n",
       "  'outputs': GaussianNoise.outputs,\n",
       "  'parameters': [mean],\n",
       "  'parameters_positive': []}"
      ]
     },
     "execution_count": 5,
     "metadata": {},
     "output_type": "execute_result"
    }
   ],
   "source": [
    "data_model = pm.Gauss(2, init_var=np.exp(-2))\n",
    "data_model = Merge(data_model, parameters_positive=None) # fix outer variance\n",
    "data_model"
   ]
  },
  {
   "cell_type": "code",
   "execution_count": 6,
   "metadata": {
    "collapsed": false
   },
   "outputs": [
    {
     "data": {
      "text/plain": [
       "normalized_flow { 'inputs': [],\n",
       "  'logP': <FunctionWrapper at 0x7f2f21847360 for function at 0x7f2f21743848>,\n",
       "  'norm_det': RadialTransform.norm_det,\n",
       "  'outputs': RadialTransform.outputs,\n",
       "  'parameters': [z0, mean2],\n",
       "  'parameters_positive': [alpha, beta+alpha, var2]}"
      ]
     },
     "execution_count": 6,
     "metadata": {},
     "output_type": "execute_result"
    }
   ],
   "source": [
    "param_model_base = pm.DiagGauss(2)\n",
    "param_model_normflows = [dm.RadialTransform()]\n",
    "\n",
    "param_model = param_model_base\n",
    "for transform in param_model_normflows:\n",
    "    param_model = normalizing_flow(transform, param_model)  # returns Merge\n",
    "param_model"
   ]
  },
  {
   "cell_type": "code",
   "execution_count": 7,
   "metadata": {
    "collapsed": false
   },
   "outputs": [
    {
     "data": {
      "text/plain": [
       "Gauss2_fixed { 'inputs': [],\n",
       "  'logP': <FunctionWrapper at 0x7f2f2179bde0 for function at 0x7f2f2176ea28>,\n",
       "  'outputs': GaussianNoise2.outputs,\n",
       "  'parameters': [],\n",
       "  'parameters_positive': []}"
      ]
     },
     "execution_count": 7,
     "metadata": {},
     "output_type": "execute_result"
    }
   ],
   "source": [
    "prior = fix_params(pm.Gauss(2, init_var=np.exp(1)))\n",
    "prior"
   ]
  },
  {
   "cell_type": "code",
   "execution_count": 8,
   "metadata": {
    "collapsed": false,
    "scrolled": true
   },
   "outputs": [
    {
     "data": {
      "text/plain": [
       "Merge3 { 'flat': \"z0:mean2:alpha_softplus:beta+alpha_softplus:var2_softplus\",\n",
       "  'inputs': [],\n",
       "  'kl_prior': variational_lower_bound.kl_prior,\n",
       "  'logP': <FunctionWrapper at 0x7f2f2179bf30 for function at 0x7f2f21728140>,\n",
       "  'loglikelihood': <FunctionWrapper at 0x7f2f21804830 for function at 0x7f2f218099b0>,\n",
       "  'logposterior': variational_lower_bound.logposterior,\n",
       "  'logprior': variational_lower_bound.logprior,\n",
       "  'n_data': n_data,\n",
       "  'norm_det': RadialTransform.norm_det,\n",
       "  'outputs': GaussianNoise.outputs,\n",
       "  'parameters': [],\n",
       "  'parameters_positive': []}"
      ]
     },
     "execution_count": 8,
     "metadata": {},
     "output_type": "execute_result"
    }
   ],
   "source": [
    "model = variational_bayes(data_model, 'parameters', param_model, priors=prior)\n",
    "\n",
    "# model = Merge(model, Reparameterize(model['parameters_positive'], squareplus, squareplus_inv))\n",
    "# UncertainWeights uses softplus parameterization\n",
    "model = Merge(model, Reparameterize(model['parameters_positive'], softplus, softplus_inv))\n",
    "model = Merge(model, Flatten(model['parameters']))\n",
    "model"
   ]
  },
  {
   "cell_type": "markdown",
   "metadata": {},
   "source": [
    "## target"
   ]
  },
  {
   "cell_type": "code",
   "execution_count": 9,
   "metadata": {
    "collapsed": true
   },
   "outputs": [],
   "source": [
    "base_target = pm.DiagGauss(init_mean=[5,5], init_var=(10,5))\n",
    "target_normflows = [dm.RadialTransform(init_z0=[5,5], init_beta=30, init_alpha=3)]"
   ]
  },
  {
   "cell_type": "raw",
   "metadata": {},
   "source": [
    "target = normalizing_flow(target_normflows[0], base_target)"
   ]
  },
  {
   "cell_type": "code",
   "execution_count": 10,
   "metadata": {
    "collapsed": false
   },
   "outputs": [
    {
     "data": {
      "text/plain": [
       "normalized_flow2 { 'inputs': [],\n",
       "  'logP': <FunctionWrapper at 0x7f2f21736d70 for function at 0x7f2f1afd92a8>,\n",
       "  'norm_det': RadialTransform2.norm_det,\n",
       "  'outputs': RadialTransform2.outputs,\n",
       "  'parameters': [z02, mean4],\n",
       "  'parameters_positive': [alpha2, beta+alpha2, var4]}"
      ]
     },
     "execution_count": 10,
     "metadata": {},
     "output_type": "execute_result"
    }
   ],
   "source": [
    "target = base_target\n",
    "for transform in target_normflows:\n",
    "    target = normalizing_flow(transform, target)  # returns Merge\n",
    "target"
   ]
  },
  {
   "cell_type": "code",
   "execution_count": 11,
   "metadata": {
    "collapsed": false
   },
   "outputs": [],
   "source": [
    "t_sampler = target.function()\n",
    "n_samples = 2000\n",
    "targets = np.array([t_sampler() for _ in xrange(n_samples)])\n",
    "validation = np.array([t_sampler() for _ in xrange(1000)])"
   ]
  },
  {
   "cell_type": "markdown",
   "metadata": {},
   "source": [
    "## Fit Visualization"
   ]
  },
  {
   "cell_type": "code",
   "execution_count": 12,
   "metadata": {
    "collapsed": true
   },
   "outputs": [],
   "source": [
    "scatter_kwargs = dict(edgecolors=\"face\", alpha=0.01, s=5000)\n",
    "outer = dict(i=0)\n",
    "def plot_fit(fig, ax, givens={}, time_delay=0.1):\n",
    "    outer['i'] += 1\n",
    "    ax.clear()\n",
    "    \n",
    "    # targets\n",
    "    ax.plot(targets[:,0], targets[:,1], 'k.')\n",
    "#     ax.scatter(targets[:,0], targets[:,1], c='k', **scatter_kwargs)\n",
    "\n",
    "    # model\n",
    "    m_sampler = model.function(givens=givens)\n",
    "    m_samples = np.array([m_sampler() for _ in xrange(n_samples)])\n",
    "    ax.scatter(m_samples[:,0], m_samples[:,1], c='r',**scatter_kwargs)\n",
    "\n",
    "    fig.canvas.draw()\n",
    "    if time_delay is not None:\n",
    "        time.sleep(time_delay)"
   ]
  },
  {
   "cell_type": "code",
   "execution_count": 13,
   "metadata": {
    "collapsed": false
   },
   "outputs": [
    {
     "data": {
      "application/javascript": [
       "/* Put everything inside the global mpl namespace */\n",
       "window.mpl = {};\n",
       "\n",
       "mpl.get_websocket_type = function() {\n",
       "    if (typeof(WebSocket) !== 'undefined') {\n",
       "        return WebSocket;\n",
       "    } else if (typeof(MozWebSocket) !== 'undefined') {\n",
       "        return MozWebSocket;\n",
       "    } else {\n",
       "        alert('Your browser does not have WebSocket support.' +\n",
       "              'Please try Chrome, Safari or Firefox ≥ 6. ' +\n",
       "              'Firefox 4 and 5 are also supported but you ' +\n",
       "              'have to enable WebSockets in about:config.');\n",
       "    };\n",
       "}\n",
       "\n",
       "mpl.figure = function(figure_id, websocket, ondownload, parent_element) {\n",
       "    this.id = figure_id;\n",
       "\n",
       "    this.ws = websocket;\n",
       "\n",
       "    this.supports_binary = (this.ws.binaryType != undefined);\n",
       "\n",
       "    if (!this.supports_binary) {\n",
       "        var warnings = document.getElementById(\"mpl-warnings\");\n",
       "        if (warnings) {\n",
       "            warnings.style.display = 'block';\n",
       "            warnings.textContent = (\n",
       "                \"This browser does not support binary websocket messages. \" +\n",
       "                    \"Performance may be slow.\");\n",
       "        }\n",
       "    }\n",
       "\n",
       "    this.imageObj = new Image();\n",
       "\n",
       "    this.context = undefined;\n",
       "    this.message = undefined;\n",
       "    this.canvas = undefined;\n",
       "    this.rubberband_canvas = undefined;\n",
       "    this.rubberband_context = undefined;\n",
       "    this.format_dropdown = undefined;\n",
       "\n",
       "    this.image_mode = 'full';\n",
       "\n",
       "    this.root = $('<div/>');\n",
       "    this._root_extra_style(this.root)\n",
       "    this.root.attr('style', 'display: inline-block');\n",
       "\n",
       "    $(parent_element).append(this.root);\n",
       "\n",
       "    this._init_header(this);\n",
       "    this._init_canvas(this);\n",
       "    this._init_toolbar(this);\n",
       "\n",
       "    var fig = this;\n",
       "\n",
       "    this.waiting = false;\n",
       "\n",
       "    this.ws.onopen =  function () {\n",
       "            fig.send_message(\"supports_binary\", {value: fig.supports_binary});\n",
       "            fig.send_message(\"send_image_mode\", {});\n",
       "            fig.send_message(\"refresh\", {});\n",
       "        }\n",
       "\n",
       "    this.imageObj.onload = function() {\n",
       "            if (fig.image_mode == 'full') {\n",
       "                // Full images could contain transparency (where diff images\n",
       "                // almost always do), so we need to clear the canvas so that\n",
       "                // there is no ghosting.\n",
       "                fig.context.clearRect(0, 0, fig.canvas.width, fig.canvas.height);\n",
       "            }\n",
       "            fig.context.drawImage(fig.imageObj, 0, 0);\n",
       "        };\n",
       "\n",
       "    this.imageObj.onunload = function() {\n",
       "        this.ws.close();\n",
       "    }\n",
       "\n",
       "    this.ws.onmessage = this._make_on_message_function(this);\n",
       "\n",
       "    this.ondownload = ondownload;\n",
       "}\n",
       "\n",
       "mpl.figure.prototype._init_header = function() {\n",
       "    var titlebar = $(\n",
       "        '<div class=\"ui-dialog-titlebar ui-widget-header ui-corner-all ' +\n",
       "        'ui-helper-clearfix\"/>');\n",
       "    var titletext = $(\n",
       "        '<div class=\"ui-dialog-title\" style=\"width: 100%; ' +\n",
       "        'text-align: center; padding: 3px;\"/>');\n",
       "    titlebar.append(titletext)\n",
       "    this.root.append(titlebar);\n",
       "    this.header = titletext[0];\n",
       "}\n",
       "\n",
       "\n",
       "\n",
       "mpl.figure.prototype._canvas_extra_style = function(canvas_div) {\n",
       "\n",
       "}\n",
       "\n",
       "\n",
       "mpl.figure.prototype._root_extra_style = function(canvas_div) {\n",
       "\n",
       "}\n",
       "\n",
       "mpl.figure.prototype._init_canvas = function() {\n",
       "    var fig = this;\n",
       "\n",
       "    var canvas_div = $('<div/>');\n",
       "\n",
       "    canvas_div.attr('style', 'position: relative; clear: both; outline: 0');\n",
       "\n",
       "    function canvas_keyboard_event(event) {\n",
       "        return fig.key_event(event, event['data']);\n",
       "    }\n",
       "\n",
       "    canvas_div.keydown('key_press', canvas_keyboard_event);\n",
       "    canvas_div.keyup('key_release', canvas_keyboard_event);\n",
       "    this.canvas_div = canvas_div\n",
       "    this._canvas_extra_style(canvas_div)\n",
       "    this.root.append(canvas_div);\n",
       "\n",
       "    var canvas = $('<canvas/>');\n",
       "    canvas.addClass('mpl-canvas');\n",
       "    canvas.attr('style', \"left: 0; top: 0; z-index: 0; outline: 0\")\n",
       "\n",
       "    this.canvas = canvas[0];\n",
       "    this.context = canvas[0].getContext(\"2d\");\n",
       "\n",
       "    var rubberband = $('<canvas/>');\n",
       "    rubberband.attr('style', \"position: absolute; left: 0; top: 0; z-index: 1;\")\n",
       "\n",
       "    var pass_mouse_events = true;\n",
       "\n",
       "    canvas_div.resizable({\n",
       "        start: function(event, ui) {\n",
       "            pass_mouse_events = false;\n",
       "        },\n",
       "        resize: function(event, ui) {\n",
       "            fig.request_resize(ui.size.width, ui.size.height);\n",
       "        },\n",
       "        stop: function(event, ui) {\n",
       "            pass_mouse_events = true;\n",
       "            fig.request_resize(ui.size.width, ui.size.height);\n",
       "        },\n",
       "    });\n",
       "\n",
       "    function mouse_event_fn(event) {\n",
       "        if (pass_mouse_events)\n",
       "            return fig.mouse_event(event, event['data']);\n",
       "    }\n",
       "\n",
       "    rubberband.mousedown('button_press', mouse_event_fn);\n",
       "    rubberband.mouseup('button_release', mouse_event_fn);\n",
       "    // Throttle sequential mouse events to 1 every 20ms.\n",
       "    rubberband.mousemove('motion_notify', mouse_event_fn);\n",
       "\n",
       "    rubberband.mouseenter('figure_enter', mouse_event_fn);\n",
       "    rubberband.mouseleave('figure_leave', mouse_event_fn);\n",
       "\n",
       "    canvas_div.on(\"wheel\", function (event) {\n",
       "        event = event.originalEvent;\n",
       "        event['data'] = 'scroll'\n",
       "        if (event.deltaY < 0) {\n",
       "            event.step = 1;\n",
       "        } else {\n",
       "            event.step = -1;\n",
       "        }\n",
       "        mouse_event_fn(event);\n",
       "    });\n",
       "\n",
       "    canvas_div.append(canvas);\n",
       "    canvas_div.append(rubberband);\n",
       "\n",
       "    this.rubberband = rubberband;\n",
       "    this.rubberband_canvas = rubberband[0];\n",
       "    this.rubberband_context = rubberband[0].getContext(\"2d\");\n",
       "    this.rubberband_context.strokeStyle = \"#000000\";\n",
       "\n",
       "    this._resize_canvas = function(width, height) {\n",
       "        // Keep the size of the canvas, canvas container, and rubber band\n",
       "        // canvas in synch.\n",
       "        canvas_div.css('width', width)\n",
       "        canvas_div.css('height', height)\n",
       "\n",
       "        canvas.attr('width', width);\n",
       "        canvas.attr('height', height);\n",
       "\n",
       "        rubberband.attr('width', width);\n",
       "        rubberband.attr('height', height);\n",
       "    }\n",
       "\n",
       "    // Set the figure to an initial 600x600px, this will subsequently be updated\n",
       "    // upon first draw.\n",
       "    this._resize_canvas(600, 600);\n",
       "\n",
       "    // Disable right mouse context menu.\n",
       "    $(this.rubberband_canvas).bind(\"contextmenu\",function(e){\n",
       "        return false;\n",
       "    });\n",
       "\n",
       "    function set_focus () {\n",
       "        canvas.focus();\n",
       "        canvas_div.focus();\n",
       "    }\n",
       "\n",
       "    window.setTimeout(set_focus, 100);\n",
       "}\n",
       "\n",
       "mpl.figure.prototype._init_toolbar = function() {\n",
       "    var fig = this;\n",
       "\n",
       "    var nav_element = $('<div/>')\n",
       "    nav_element.attr('style', 'width: 100%');\n",
       "    this.root.append(nav_element);\n",
       "\n",
       "    // Define a callback function for later on.\n",
       "    function toolbar_event(event) {\n",
       "        return fig.toolbar_button_onclick(event['data']);\n",
       "    }\n",
       "    function toolbar_mouse_event(event) {\n",
       "        return fig.toolbar_button_onmouseover(event['data']);\n",
       "    }\n",
       "\n",
       "    for(var toolbar_ind in mpl.toolbar_items) {\n",
       "        var name = mpl.toolbar_items[toolbar_ind][0];\n",
       "        var tooltip = mpl.toolbar_items[toolbar_ind][1];\n",
       "        var image = mpl.toolbar_items[toolbar_ind][2];\n",
       "        var method_name = mpl.toolbar_items[toolbar_ind][3];\n",
       "\n",
       "        if (!name) {\n",
       "            // put a spacer in here.\n",
       "            continue;\n",
       "        }\n",
       "        var button = $('<button/>');\n",
       "        button.addClass('ui-button ui-widget ui-state-default ui-corner-all ' +\n",
       "                        'ui-button-icon-only');\n",
       "        button.attr('role', 'button');\n",
       "        button.attr('aria-disabled', 'false');\n",
       "        button.click(method_name, toolbar_event);\n",
       "        button.mouseover(tooltip, toolbar_mouse_event);\n",
       "\n",
       "        var icon_img = $('<span/>');\n",
       "        icon_img.addClass('ui-button-icon-primary ui-icon');\n",
       "        icon_img.addClass(image);\n",
       "        icon_img.addClass('ui-corner-all');\n",
       "\n",
       "        var tooltip_span = $('<span/>');\n",
       "        tooltip_span.addClass('ui-button-text');\n",
       "        tooltip_span.html(tooltip);\n",
       "\n",
       "        button.append(icon_img);\n",
       "        button.append(tooltip_span);\n",
       "\n",
       "        nav_element.append(button);\n",
       "    }\n",
       "\n",
       "    var fmt_picker_span = $('<span/>');\n",
       "\n",
       "    var fmt_picker = $('<select/>');\n",
       "    fmt_picker.addClass('mpl-toolbar-option ui-widget ui-widget-content');\n",
       "    fmt_picker_span.append(fmt_picker);\n",
       "    nav_element.append(fmt_picker_span);\n",
       "    this.format_dropdown = fmt_picker[0];\n",
       "\n",
       "    for (var ind in mpl.extensions) {\n",
       "        var fmt = mpl.extensions[ind];\n",
       "        var option = $(\n",
       "            '<option/>', {selected: fmt === mpl.default_extension}).html(fmt);\n",
       "        fmt_picker.append(option)\n",
       "    }\n",
       "\n",
       "    // Add hover states to the ui-buttons\n",
       "    $( \".ui-button\" ).hover(\n",
       "        function() { $(this).addClass(\"ui-state-hover\");},\n",
       "        function() { $(this).removeClass(\"ui-state-hover\");}\n",
       "    );\n",
       "\n",
       "    var status_bar = $('<span class=\"mpl-message\"/>');\n",
       "    nav_element.append(status_bar);\n",
       "    this.message = status_bar[0];\n",
       "}\n",
       "\n",
       "mpl.figure.prototype.request_resize = function(x_pixels, y_pixels) {\n",
       "    // Request matplotlib to resize the figure. Matplotlib will then trigger a resize in the client,\n",
       "    // which will in turn request a refresh of the image.\n",
       "    this.send_message('resize', {'width': x_pixels, 'height': y_pixels});\n",
       "}\n",
       "\n",
       "mpl.figure.prototype.send_message = function(type, properties) {\n",
       "    properties['type'] = type;\n",
       "    properties['figure_id'] = this.id;\n",
       "    this.ws.send(JSON.stringify(properties));\n",
       "}\n",
       "\n",
       "mpl.figure.prototype.send_draw_message = function() {\n",
       "    if (!this.waiting) {\n",
       "        this.waiting = true;\n",
       "        this.ws.send(JSON.stringify({type: \"draw\", figure_id: this.id}));\n",
       "    }\n",
       "}\n",
       "\n",
       "\n",
       "mpl.figure.prototype.handle_save = function(fig, msg) {\n",
       "    var format_dropdown = fig.format_dropdown;\n",
       "    var format = format_dropdown.options[format_dropdown.selectedIndex].value;\n",
       "    fig.ondownload(fig, format);\n",
       "}\n",
       "\n",
       "\n",
       "mpl.figure.prototype.handle_resize = function(fig, msg) {\n",
       "    var size = msg['size'];\n",
       "    if (size[0] != fig.canvas.width || size[1] != fig.canvas.height) {\n",
       "        fig._resize_canvas(size[0], size[1]);\n",
       "        fig.send_message(\"refresh\", {});\n",
       "    };\n",
       "}\n",
       "\n",
       "mpl.figure.prototype.handle_rubberband = function(fig, msg) {\n",
       "    var x0 = msg['x0'];\n",
       "    var y0 = fig.canvas.height - msg['y0'];\n",
       "    var x1 = msg['x1'];\n",
       "    var y1 = fig.canvas.height - msg['y1'];\n",
       "    x0 = Math.floor(x0) + 0.5;\n",
       "    y0 = Math.floor(y0) + 0.5;\n",
       "    x1 = Math.floor(x1) + 0.5;\n",
       "    y1 = Math.floor(y1) + 0.5;\n",
       "    var min_x = Math.min(x0, x1);\n",
       "    var min_y = Math.min(y0, y1);\n",
       "    var width = Math.abs(x1 - x0);\n",
       "    var height = Math.abs(y1 - y0);\n",
       "\n",
       "    fig.rubberband_context.clearRect(\n",
       "        0, 0, fig.canvas.width, fig.canvas.height);\n",
       "\n",
       "    fig.rubberband_context.strokeRect(min_x, min_y, width, height);\n",
       "}\n",
       "\n",
       "mpl.figure.prototype.handle_figure_label = function(fig, msg) {\n",
       "    // Updates the figure title.\n",
       "    fig.header.textContent = msg['label'];\n",
       "}\n",
       "\n",
       "mpl.figure.prototype.handle_cursor = function(fig, msg) {\n",
       "    var cursor = msg['cursor'];\n",
       "    switch(cursor)\n",
       "    {\n",
       "    case 0:\n",
       "        cursor = 'pointer';\n",
       "        break;\n",
       "    case 1:\n",
       "        cursor = 'default';\n",
       "        break;\n",
       "    case 2:\n",
       "        cursor = 'crosshair';\n",
       "        break;\n",
       "    case 3:\n",
       "        cursor = 'move';\n",
       "        break;\n",
       "    }\n",
       "    fig.rubberband_canvas.style.cursor = cursor;\n",
       "}\n",
       "\n",
       "mpl.figure.prototype.handle_message = function(fig, msg) {\n",
       "    fig.message.textContent = msg['message'];\n",
       "}\n",
       "\n",
       "mpl.figure.prototype.handle_draw = function(fig, msg) {\n",
       "    // Request the server to send over a new figure.\n",
       "    fig.send_draw_message();\n",
       "}\n",
       "\n",
       "mpl.figure.prototype.handle_image_mode = function(fig, msg) {\n",
       "    fig.image_mode = msg['mode'];\n",
       "}\n",
       "\n",
       "mpl.figure.prototype.updated_canvas_event = function() {\n",
       "    // Called whenever the canvas gets updated.\n",
       "    this.send_message(\"ack\", {});\n",
       "}\n",
       "\n",
       "// A function to construct a web socket function for onmessage handling.\n",
       "// Called in the figure constructor.\n",
       "mpl.figure.prototype._make_on_message_function = function(fig) {\n",
       "    return function socket_on_message(evt) {\n",
       "        if (evt.data instanceof Blob) {\n",
       "            /* FIXME: We get \"Resource interpreted as Image but\n",
       "             * transferred with MIME type text/plain:\" errors on\n",
       "             * Chrome.  But how to set the MIME type?  It doesn't seem\n",
       "             * to be part of the websocket stream */\n",
       "            evt.data.type = \"image/png\";\n",
       "\n",
       "            /* Free the memory for the previous frames */\n",
       "            if (fig.imageObj.src) {\n",
       "                (window.URL || window.webkitURL).revokeObjectURL(\n",
       "                    fig.imageObj.src);\n",
       "            }\n",
       "\n",
       "            fig.imageObj.src = (window.URL || window.webkitURL).createObjectURL(\n",
       "                evt.data);\n",
       "            fig.updated_canvas_event();\n",
       "            fig.waiting = false;\n",
       "            return;\n",
       "        }\n",
       "        else if (typeof evt.data === 'string' && evt.data.slice(0, 21) == \"data:image/png;base64\") {\n",
       "            fig.imageObj.src = evt.data;\n",
       "            fig.updated_canvas_event();\n",
       "            fig.waiting = false;\n",
       "            return;\n",
       "        }\n",
       "\n",
       "        var msg = JSON.parse(evt.data);\n",
       "        var msg_type = msg['type'];\n",
       "\n",
       "        // Call the  \"handle_{type}\" callback, which takes\n",
       "        // the figure and JSON message as its only arguments.\n",
       "        try {\n",
       "            var callback = fig[\"handle_\" + msg_type];\n",
       "        } catch (e) {\n",
       "            console.log(\"No handler for the '\" + msg_type + \"' message type: \", msg);\n",
       "            return;\n",
       "        }\n",
       "\n",
       "        if (callback) {\n",
       "            try {\n",
       "                // console.log(\"Handling '\" + msg_type + \"' message: \", msg);\n",
       "                callback(fig, msg);\n",
       "            } catch (e) {\n",
       "                console.log(\"Exception inside the 'handler_\" + msg_type + \"' callback:\", e, e.stack, msg);\n",
       "            }\n",
       "        }\n",
       "    };\n",
       "}\n",
       "\n",
       "// from http://stackoverflow.com/questions/1114465/getting-mouse-location-in-canvas\n",
       "mpl.findpos = function(e) {\n",
       "    //this section is from http://www.quirksmode.org/js/events_properties.html\n",
       "    var targ;\n",
       "    if (!e)\n",
       "        e = window.event;\n",
       "    if (e.target)\n",
       "        targ = e.target;\n",
       "    else if (e.srcElement)\n",
       "        targ = e.srcElement;\n",
       "    if (targ.nodeType == 3) // defeat Safari bug\n",
       "        targ = targ.parentNode;\n",
       "\n",
       "    // jQuery normalizes the pageX and pageY\n",
       "    // pageX,Y are the mouse positions relative to the document\n",
       "    // offset() returns the position of the element relative to the document\n",
       "    var x = e.pageX - $(targ).offset().left;\n",
       "    var y = e.pageY - $(targ).offset().top;\n",
       "\n",
       "    return {\"x\": x, \"y\": y};\n",
       "};\n",
       "\n",
       "/*\n",
       " * return a copy of an object with only non-object keys\n",
       " * we need this to avoid circular references\n",
       " * http://stackoverflow.com/a/24161582/3208463\n",
       " */\n",
       "function simpleKeys (original) {\n",
       "  return Object.keys(original).reduce(function (obj, key) {\n",
       "    if (typeof original[key] !== 'object')\n",
       "        obj[key] = original[key]\n",
       "    return obj;\n",
       "  }, {});\n",
       "}\n",
       "\n",
       "mpl.figure.prototype.mouse_event = function(event, name) {\n",
       "    var canvas_pos = mpl.findpos(event)\n",
       "\n",
       "    if (name === 'button_press')\n",
       "    {\n",
       "        this.canvas.focus();\n",
       "        this.canvas_div.focus();\n",
       "    }\n",
       "\n",
       "    var x = canvas_pos.x;\n",
       "    var y = canvas_pos.y;\n",
       "\n",
       "    this.send_message(name, {x: x, y: y, button: event.button,\n",
       "                             step: event.step,\n",
       "                             guiEvent: simpleKeys(event)});\n",
       "\n",
       "    /* This prevents the web browser from automatically changing to\n",
       "     * the text insertion cursor when the button is pressed.  We want\n",
       "     * to control all of the cursor setting manually through the\n",
       "     * 'cursor' event from matplotlib */\n",
       "    event.preventDefault();\n",
       "    return false;\n",
       "}\n",
       "\n",
       "mpl.figure.prototype._key_event_extra = function(event, name) {\n",
       "    // Handle any extra behaviour associated with a key event\n",
       "}\n",
       "\n",
       "mpl.figure.prototype.key_event = function(event, name) {\n",
       "\n",
       "    // Prevent repeat events\n",
       "    if (name == 'key_press')\n",
       "    {\n",
       "        if (event.which === this._key)\n",
       "            return;\n",
       "        else\n",
       "            this._key = event.which;\n",
       "    }\n",
       "    if (name == 'key_release')\n",
       "        this._key = null;\n",
       "\n",
       "    var value = '';\n",
       "    if (event.ctrlKey && event.which != 17)\n",
       "        value += \"ctrl+\";\n",
       "    if (event.altKey && event.which != 18)\n",
       "        value += \"alt+\";\n",
       "    if (event.shiftKey && event.which != 16)\n",
       "        value += \"shift+\";\n",
       "\n",
       "    value += 'k';\n",
       "    value += event.which.toString();\n",
       "\n",
       "    this._key_event_extra(event, name);\n",
       "\n",
       "    this.send_message(name, {key: value,\n",
       "                             guiEvent: simpleKeys(event)});\n",
       "    return false;\n",
       "}\n",
       "\n",
       "mpl.figure.prototype.toolbar_button_onclick = function(name) {\n",
       "    if (name == 'download') {\n",
       "        this.handle_save(this, null);\n",
       "    } else {\n",
       "        this.send_message(\"toolbar_button\", {name: name});\n",
       "    }\n",
       "};\n",
       "\n",
       "mpl.figure.prototype.toolbar_button_onmouseover = function(tooltip) {\n",
       "    this.message.textContent = tooltip;\n",
       "};\n",
       "mpl.toolbar_items = [[\"Home\", \"Reset original view\", \"fa fa-home icon-home\", \"home\"], [\"Back\", \"Back to  previous view\", \"fa fa-arrow-left icon-arrow-left\", \"back\"], [\"Forward\", \"Forward to next view\", \"fa fa-arrow-right icon-arrow-right\", \"forward\"], [\"\", \"\", \"\", \"\"], [\"Pan\", \"Pan axes with left mouse, zoom with right\", \"fa fa-arrows icon-move\", \"pan\"], [\"Zoom\", \"Zoom to rectangle\", \"fa fa-square-o icon-check-empty\", \"zoom\"], [\"\", \"\", \"\", \"\"], [\"Download\", \"Download plot\", \"fa fa-floppy-o icon-save\", \"download\"]];\n",
       "\n",
       "mpl.extensions = [\"eps\", \"jpeg\", \"pdf\", \"png\", \"ps\", \"raw\", \"svg\", \"tif\"];\n",
       "\n",
       "mpl.default_extension = \"png\";var comm_websocket_adapter = function(comm) {\n",
       "    // Create a \"websocket\"-like object which calls the given IPython comm\n",
       "    // object with the appropriate methods. Currently this is a non binary\n",
       "    // socket, so there is still some room for performance tuning.\n",
       "    var ws = {};\n",
       "\n",
       "    ws.close = function() {\n",
       "        comm.close()\n",
       "    };\n",
       "    ws.send = function(m) {\n",
       "        //console.log('sending', m);\n",
       "        comm.send(m);\n",
       "    };\n",
       "    // Register the callback with on_msg.\n",
       "    comm.on_msg(function(msg) {\n",
       "        //console.log('receiving', msg['content']['data'], msg);\n",
       "        // Pass the mpl event to the overriden (by mpl) onmessage function.\n",
       "        ws.onmessage(msg['content']['data'])\n",
       "    });\n",
       "    return ws;\n",
       "}\n",
       "\n",
       "mpl.mpl_figure_comm = function(comm, msg) {\n",
       "    // This is the function which gets called when the mpl process\n",
       "    // starts-up an IPython Comm through the \"matplotlib\" channel.\n",
       "\n",
       "    var id = msg.content.data.id;\n",
       "    // Get hold of the div created by the display call when the Comm\n",
       "    // socket was opened in Python.\n",
       "    var element = $(\"#\" + id);\n",
       "    var ws_proxy = comm_websocket_adapter(comm)\n",
       "\n",
       "    function ondownload(figure, format) {\n",
       "        window.open(figure.imageObj.src);\n",
       "    }\n",
       "\n",
       "    var fig = new mpl.figure(id, ws_proxy,\n",
       "                           ondownload,\n",
       "                           element.get(0));\n",
       "\n",
       "    // Call onopen now - mpl needs it, as it is assuming we've passed it a real\n",
       "    // web socket which is closed, not our websocket->open comm proxy.\n",
       "    ws_proxy.onopen();\n",
       "\n",
       "    fig.parent_element = element.get(0);\n",
       "    fig.cell_info = mpl.find_output_cell(\"<div id='\" + id + \"'></div>\");\n",
       "    if (!fig.cell_info) {\n",
       "        console.error(\"Failed to find cell for figure\", id, fig);\n",
       "        return;\n",
       "    }\n",
       "\n",
       "    var output_index = fig.cell_info[2]\n",
       "    var cell = fig.cell_info[0];\n",
       "\n",
       "};\n",
       "\n",
       "mpl.figure.prototype.handle_close = function(fig, msg) {\n",
       "    fig.root.unbind('remove')\n",
       "\n",
       "    // Update the output cell to use the data from the current canvas.\n",
       "    fig.push_to_output();\n",
       "    var dataURL = fig.canvas.toDataURL();\n",
       "    // Re-enable the keyboard manager in IPython - without this line, in FF,\n",
       "    // the notebook keyboard shortcuts fail.\n",
       "    IPython.keyboard_manager.enable()\n",
       "    $(fig.parent_element).html('<img src=\"' + dataURL + '\">');\n",
       "    fig.close_ws(fig, msg);\n",
       "}\n",
       "\n",
       "mpl.figure.prototype.close_ws = function(fig, msg){\n",
       "    fig.send_message('closing', msg);\n",
       "    // fig.ws.close()\n",
       "}\n",
       "\n",
       "mpl.figure.prototype.push_to_output = function(remove_interactive) {\n",
       "    // Turn the data on the canvas into data in the output cell.\n",
       "    var dataURL = this.canvas.toDataURL();\n",
       "    this.cell_info[1]['text/html'] = '<img src=\"' + dataURL + '\">';\n",
       "}\n",
       "\n",
       "mpl.figure.prototype.updated_canvas_event = function() {\n",
       "    // Tell IPython that the notebook contents must change.\n",
       "    IPython.notebook.set_dirty(true);\n",
       "    this.send_message(\"ack\", {});\n",
       "    var fig = this;\n",
       "    // Wait a second, then push the new image to the DOM so\n",
       "    // that it is saved nicely (might be nice to debounce this).\n",
       "    setTimeout(function () { fig.push_to_output() }, 1000);\n",
       "}\n",
       "\n",
       "mpl.figure.prototype._init_toolbar = function() {\n",
       "    var fig = this;\n",
       "\n",
       "    var nav_element = $('<div/>')\n",
       "    nav_element.attr('style', 'width: 100%');\n",
       "    this.root.append(nav_element);\n",
       "\n",
       "    // Define a callback function for later on.\n",
       "    function toolbar_event(event) {\n",
       "        return fig.toolbar_button_onclick(event['data']);\n",
       "    }\n",
       "    function toolbar_mouse_event(event) {\n",
       "        return fig.toolbar_button_onmouseover(event['data']);\n",
       "    }\n",
       "\n",
       "    for(var toolbar_ind in mpl.toolbar_items){\n",
       "        var name = mpl.toolbar_items[toolbar_ind][0];\n",
       "        var tooltip = mpl.toolbar_items[toolbar_ind][1];\n",
       "        var image = mpl.toolbar_items[toolbar_ind][2];\n",
       "        var method_name = mpl.toolbar_items[toolbar_ind][3];\n",
       "\n",
       "        if (!name) { continue; };\n",
       "\n",
       "        var button = $('<button class=\"btn btn-default\" href=\"#\" title=\"' + name + '\"><i class=\"fa ' + image + ' fa-lg\"></i></button>');\n",
       "        button.click(method_name, toolbar_event);\n",
       "        button.mouseover(tooltip, toolbar_mouse_event);\n",
       "        nav_element.append(button);\n",
       "    }\n",
       "\n",
       "    // Add the status bar.\n",
       "    var status_bar = $('<span class=\"mpl-message\" style=\"text-align:right; float: right;\"/>');\n",
       "    nav_element.append(status_bar);\n",
       "    this.message = status_bar[0];\n",
       "\n",
       "    // Add the close button to the window.\n",
       "    var buttongrp = $('<div class=\"btn-group inline pull-right\"></div>');\n",
       "    var button = $('<button class=\"btn btn-mini btn-primary\" href=\"#\" title=\"Stop Interaction\"><i class=\"fa fa-power-off icon-remove icon-large\"></i></button>');\n",
       "    button.click(function (evt) { fig.handle_close(fig, {}); } );\n",
       "    button.mouseover('Stop Interaction', toolbar_mouse_event);\n",
       "    buttongrp.append(button);\n",
       "    var titlebar = this.root.find($('.ui-dialog-titlebar'));\n",
       "    titlebar.prepend(buttongrp);\n",
       "}\n",
       "\n",
       "mpl.figure.prototype._root_extra_style = function(el){\n",
       "    var fig = this\n",
       "    el.on(\"remove\", function(){\n",
       "\tfig.close_ws(fig, {});\n",
       "    });\n",
       "}\n",
       "\n",
       "mpl.figure.prototype._canvas_extra_style = function(el){\n",
       "    // this is important to make the div 'focusable\n",
       "    el.attr('tabindex', 0)\n",
       "    // reach out to IPython and tell the keyboard manager to turn it's self\n",
       "    // off when our div gets focus\n",
       "\n",
       "    // location in version 3\n",
       "    if (IPython.notebook.keyboard_manager) {\n",
       "        IPython.notebook.keyboard_manager.register_events(el);\n",
       "    }\n",
       "    else {\n",
       "        // location in version 2\n",
       "        IPython.keyboard_manager.register_events(el);\n",
       "    }\n",
       "\n",
       "}\n",
       "\n",
       "mpl.figure.prototype._key_event_extra = function(event, name) {\n",
       "    var manager = IPython.notebook.keyboard_manager;\n",
       "    if (!manager)\n",
       "        manager = IPython.keyboard_manager;\n",
       "\n",
       "    // Check for shift+enter\n",
       "    if (event.shiftKey && event.which == 13) {\n",
       "        this.canvas_div.blur();\n",
       "        event.shiftKey = false;\n",
       "        // Send a \"J\" for go to next cell\n",
       "        event.which = 74;\n",
       "        event.keyCode = 74;\n",
       "        manager.command_mode();\n",
       "        manager.handle_keydown(event);\n",
       "    }\n",
       "}\n",
       "\n",
       "mpl.figure.prototype.handle_save = function(fig, msg) {\n",
       "    fig.ondownload(fig, null);\n",
       "}\n",
       "\n",
       "\n",
       "mpl.find_output_cell = function(html_output) {\n",
       "    // Return the cell and output element which can be found *uniquely* in the notebook.\n",
       "    // Note - this is a bit hacky, but it is done because the \"notebook_saving.Notebook\"\n",
       "    // IPython event is triggered only after the cells have been serialised, which for\n",
       "    // our purposes (turning an active figure into a static one), is too late.\n",
       "    var cells = IPython.notebook.get_cells();\n",
       "    var ncells = cells.length;\n",
       "    for (var i=0; i<ncells; i++) {\n",
       "        var cell = cells[i];\n",
       "        if (cell.cell_type === 'code'){\n",
       "            for (var j=0; j<cell.output_area.outputs.length; j++) {\n",
       "                var data = cell.output_area.outputs[j];\n",
       "                if (data.data) {\n",
       "                    // IPython >= 3 moved mimebundle to data attribute of output\n",
       "                    data = data.data;\n",
       "                }\n",
       "                if (data['text/html'] == html_output) {\n",
       "                    return [cell, data, j];\n",
       "                }\n",
       "            }\n",
       "        }\n",
       "    }\n",
       "}\n",
       "\n",
       "// Register the function which deals with the matplotlib target/channel.\n",
       "// The kernel may be null if the page has been refreshed.\n",
       "if (IPython.notebook.kernel != null) {\n",
       "    IPython.notebook.kernel.comm_manager.register_target('matplotlib', mpl.mpl_figure_comm);\n",
       "}\n"
      ],
      "text/plain": [
       "<IPython.core.display.Javascript object>"
      ]
     },
     "metadata": {},
     "output_type": "display_data"
    },
    {
     "data": {
      "text/html": [
       "<img src=\"data:image/png;base64,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\">"
      ],
      "text/plain": [
       "<IPython.core.display.HTML object>"
      ]
     },
     "metadata": {},
     "output_type": "display_data"
    }
   ],
   "source": [
    "fig, ax = plt.subplots()\n",
    "plot_fit(fig, ax)"
   ]
  },
  {
   "cell_type": "code",
   "execution_count": null,
   "metadata": {
    "collapsed": true
   },
   "outputs": [],
   "source": [
    "check_all_identities()\n",
    "model['n_data'].set_value(n_samples)"
   ]
  },
  {
   "cell_type": "code",
   "execution_count": null,
   "metadata": {
    "collapsed": true
   },
   "outputs": [],
   "source": [
    "from schlichtanders.myfunctools import compose_fmap, Average"
   ]
  },
  {
   "cell_type": "code",
   "execution_count": null,
   "metadata": {
    "collapsed": false
   },
   "outputs": [],
   "source": [
    "def weights_data():\n",
    "    for t in xrange(10000):\n",
    "        yield min(1, 0.01 + t/10000)\n",
    "    while True:\n",
    "        yield 1\n",
    "postmap = compose(post.flat_numericalize_postmap, post.normalizingflow_postmap)\n",
    "optimizer_kwargs = postmap(model,\n",
    "    mapreduce=compose_fmap(meanmap, Average(5)),\n",
    "    annealing_combiner=post.AnnealingCombiner(weights_data=weights_data())\n",
    ")\n",
    "climin_kwargs = post.climin_postmap(optimizer_kwargs)\n",
    "climin_kwargs"
   ]
  },
  {
   "cell_type": "code",
   "execution_count": null,
   "metadata": {
    "collapsed": false
   },
   "outputs": [],
   "source": [
    "from theano_models.visualization import d3viz\n",
    "from IPython.display import IFrame"
   ]
  },
  {
   "cell_type": "code",
   "execution_count": 21,
   "metadata": {
    "collapsed": false
   },
   "outputs": [
    {
     "data": {
      "text/html": [
       "\n",
       "        <iframe\n",
       "            width=\"700\"\n",
       "            height=\"500\"\n",
       "            src=\"tmp/loss.html\"\n",
       "            frameborder=\"0\"\n",
       "            allowfullscreen\n",
       "        ></iframe>\n",
       "        "
      ],
      "text/plain": [
       "<IPython.lib.display.IFrame at 0x7f2f0bc21a50>"
      ]
     },
     "execution_count": 21,
     "metadata": {},
     "output_type": "execute_result"
    }
   ],
   "source": [
    "d3viz(optimizer_kwargs['loss'], \"tmp/loss.html\")\n",
    "IFrame(\"tmp/loss.html\", width=700, height=500)"
   ]
  },
  {
   "cell_type": "code",
   "execution_count": 22,
   "metadata": {
    "collapsed": true
   },
   "outputs": [],
   "source": [
    "batch_size = 20\n",
    "n_batches = len(targets) // batch_size\n",
    "climin_args = izip( imap(lambda x:(x,),  chunk(20, cycle(targets)) ) , repeat({}))"
   ]
  },
  {
   "cell_type": "code",
   "execution_count": 24,
   "metadata": {
    "collapsed": false
   },
   "outputs": [
    {
     "name": "stderr",
     "output_type": "stream",
     "text": [
      "/home/stephan/GitProjects/climin/climin/util.py:151: UserWarning: Argument named f is not expected by <class 'climin.adam.Adam'>\n",
      "  % (i, klass))\n"
     ]
    }
   ],
   "source": [
    "opt = optimizer(\n",
    "#     identifier=\"adam\",\n",
    "    identifier=\"rmsprop\",\n",
    "    step_rate=0.5,\n",
    "    momentum=0.9,\n",
    "    args=climin_args,\n",
    "    **climin_kwargs\n",
    ")"
   ]
  },
  {
   "cell_type": "code",
   "execution_count": null,
   "metadata": {
    "collapsed": false
   },
   "outputs": [],
   "source": [
    "for info in opt:  #every(n_batches, opt):\n",
    "#     print zip(model['flat'].name.split(':'), climin_kwargs['fprime'](opt.wrt, targets[:100]))\n",
    "    plot_fit(fig, ax, {model['flat']:opt.wrt}, time_delay=None)"
   ]
  },
  {
   "cell_type": "code",
   "execution_count": null,
   "metadata": {
    "collapsed": false
   },
   "outputs": [],
   "source": [
    "fit = minimize(\n",
    "    args=(targets,),\n",
    "#     method='CG',\n",
    "#     method=\"Newton-CG\",\n",
    "#     method=\"Nelder-Mead\",\n",
    "    options={'maxiter':1000, 'disp':True},\n",
    "    callback=lambda params: plot_fit(fig, ax, {model['flat']:params}, time_delay=None),\n",
    "    **scipy_kwargs\n",
    "); fit"
   ]
  },
  {
   "cell_type": "code",
   "execution_count": null,
   "metadata": {
    "collapsed": true
   },
   "outputs": [],
   "source": []
  },
  {
   "cell_type": "code",
   "execution_count": null,
   "metadata": {
    "collapsed": true
   },
   "outputs": [],
   "source": []
  }
 ],
 "metadata": {
  "kernelspec": {
   "display_name": "Python 2",
   "language": "python",
   "name": "python2"
  },
  "language_info": {
   "codemirror_mode": {
    "name": "ipython",
    "version": 2
   },
   "file_extension": ".py",
   "mimetype": "text/x-python",
   "name": "python",
   "nbconvert_exporter": "python",
   "pygments_lexer": "ipython2",
   "version": "2.7.6"
  },
  "toc": {
   "toc_cell": false,
   "toc_number_sections": true,
   "toc_threshold": 4,
   "toc_window_display": true
  },
  "toc_position": {
   "left": "1364.16px",
   "right": "20px",
   "top": "114px",
   "width": "253px"
  }
 },
 "nbformat": 4,
 "nbformat_minor": 0
}
