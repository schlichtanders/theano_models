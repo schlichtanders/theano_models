{
 "cells": [
  {
   "cell_type": "code",
   "execution_count": 1,
   "metadata": {
    "collapsed": false
   },
   "outputs": [
    {
     "name": "stderr",
     "output_type": "stream",
     "text": [
      "/usr/local/lib/python2.7/dist-packages/matplotlib/font_manager.py:273: UserWarning: Matplotlib is building the font cache using fc-list. This may take a moment.\n",
      "  warnings.warn('Matplotlib is building the font cache using fc-list. This may take a moment.')\n"
     ]
    }
   ],
   "source": [
    "%matplotlib notebook"
   ]
  },
  {
   "cell_type": "code",
   "execution_count": 2,
   "metadata": {
    "collapsed": false
   },
   "outputs": [
    {
     "name": "stdout",
     "output_type": "stream",
     "text": [
      "gnumpy: failed to import cudamat. Using npmat instead. No GPU will be used.\n"
     ]
    }
   ],
   "source": [
    "import numpy as np\n",
    "import matplotlib.pyplot as plt\n",
    "from matplotlib import collections  as mc\n",
    "import time\n",
    "from scipy.optimize import minimize\n",
    "from climin.util import optimizer"
   ]
  },
  {
   "cell_type": "code",
   "execution_count": 3,
   "metadata": {
    "collapsed": true
   },
   "outputs": [],
   "source": [
    "from schlichtanders.myoptimizers import batch\n",
    "from schlichtanders.myfunctools import Compose"
   ]
  },
  {
   "cell_type": "code",
   "execution_count": 4,
   "metadata": {
    "collapsed": false
   },
   "outputs": [],
   "source": [
    "from theano_models.util import softplus, softplus_inv, total_size, as_tensor_variable, reparameterize_map\n",
    "\n",
    "from theano_models.postmaps import scipy_postmap, climin_postmap, flat_numericalize_postmap, flatten_parameters\n",
    "\n",
    "import theano_models.probabilistic_models as pm\n",
    "import theano_models.deterministic_models as dm"
   ]
  },
  {
   "cell_type": "markdown",
   "metadata": {},
   "source": [
    "# debugging"
   ]
  },
  {
   "cell_type": "code",
   "execution_count": 8,
   "metadata": {
    "collapsed": true
   },
   "outputs": [],
   "source": [
    "from theano_models import Model\n",
    "import theano.tensor as T\n",
    "import theano"
   ]
  },
  {
   "cell_type": "code",
   "execution_count": null,
   "metadata": {
    "collapsed": false
   },
   "outputs": [],
   "source": [
    "i = T.dvector(\"i\")\n",
    "b = T.ones(i.shape)\n",
    "b.name = \"b\"\n",
    "o = as_tensor_variable(4, \"c\") * b\n",
    "m = Model(inputs=[i], outputs=o, parameters_positive = [b])\n",
    "m"
   ]
  },
  {
   "cell_type": "code",
   "execution_count": null,
   "metadata": {
    "collapsed": false
   },
   "outputs": [],
   "source": [
    "f = theano.function(m['parameters_positive'] + m['inputs'], m['outputs'], on_unused_input=\"warn\")"
   ]
  },
  {
   "cell_type": "code",
   "execution_count": null,
   "metadata": {
    "collapsed": false
   },
   "outputs": [],
   "source": [
    "m.map('parameters_positive', reparameterize_map(softplus, softplus_inv), 'parameters')\n",
    "m"
   ]
  },
  {
   "cell_type": "code",
   "execution_count": null,
   "metadata": {
    "collapsed": false
   },
   "outputs": [],
   "source": [
    "m"
   ]
  },
  {
   "cell_type": "code",
   "execution_count": null,
   "metadata": {
    "collapsed": false
   },
   "outputs": [],
   "source": [
    "f2 = theano.function(m['parameters'] + m['inputs'], m['outputs'], on_unused_input=\"warn\")"
   ]
  },
  {
   "cell_type": "code",
   "execution_count": null,
   "metadata": {
    "collapsed": false
   },
   "outputs": [],
   "source": [
    "m['outputs'].eval({i:[1,2,3]})"
   ]
  },
  {
   "cell_type": "markdown",
   "metadata": {},
   "source": [
    "# Deterministic Model - one dimensional"
   ]
  },
  {
   "cell_type": "markdown",
   "metadata": {},
   "source": [
    "## model"
   ]
  },
  {
   "cell_type": "code",
   "execution_count": 5,
   "metadata": {
    "collapsed": false
   },
   "outputs": [
    {
     "data": {
      "text/plain": [
       "{ 'inputs': [f_inputs],\n",
       "  'inverse_inputs': [inverse_inputs],\n",
       "  'inverse_outputs': inverse_outputs,\n",
       "  'norm_det': Elemwise{mul,no_inplace}.0,\n",
       "  'outputs': f_outputs,\n",
       "  'parameters': [z0],\n",
       "  'parameters_positive': [alpha, beta+alpha]}"
      ]
     },
     "execution_count": 5,
     "metadata": {},
     "output_type": "execute_result"
    }
   ],
   "source": [
    "model = dm.RadialTransform()\n",
    "model"
   ]
  },
  {
   "cell_type": "code",
   "execution_count": 6,
   "metadata": {
    "collapsed": false
   },
   "outputs": [
    {
     "data": {
      "text/plain": [
       "{ 'inputs': [f_inputs],\n",
       "  'inverse_inputs': [inverse_inputs],\n",
       "  'inverse_outputs': inverse_outputs,\n",
       "  'norm_det': Elemwise{mul,no_inplace}.0,\n",
       "  'outputs': f_outputs,\n",
       "  'parameters': [z0, alpha_copy_softplus, beta+alpha_copy_softplus],\n",
       "  'parameters_positive': [alpha_reparam, beta+alpha_reparam]}"
      ]
     },
     "execution_count": 6,
     "metadata": {},
     "output_type": "execute_result"
    }
   ],
   "source": [
    "model.map('parameters_positive', reparameterize_map(softplus, softplus_inv), 'parameters')\n",
    "model"
   ]
  },
  {
   "cell_type": "code",
   "execution_count": 9,
   "metadata": {
    "collapsed": false
   },
   "outputs": [
    {
     "name": "stderr",
     "output_type": "stream",
     "text": [
      "<<!! BUG IN FGRAPH.REPLACE OR A LISTENER !!>> <type 'exceptions.TypeError'> ('The type of the replacement must be compatible with the type of the original Variable.', DimShuffle{x}.0, Elemwise{sub,no_inplace}.0, TensorType(int8, (True,)), TensorType(float32, (True,)), 'local_dimshuffle_lift') local_dimshuffle_lift\n",
      "ERROR (theano.gof.opt): Optimization failure due to: local_dimshuffle_lift\n",
      "ERROR:theano.gof.opt:Optimization failure due to: local_dimshuffle_lift\n",
      "ERROR (theano.gof.opt): node: DimShuffle{x}(beta)\n",
      "ERROR:theano.gof.opt:node: DimShuffle{x}(beta)\n",
      "ERROR (theano.gof.opt): TRACEBACK:\n",
      "ERROR:theano.gof.opt:TRACEBACK:\n",
      "ERROR (theano.gof.opt): Traceback (most recent call last):\n",
      "  File \"/usr/local/lib/python2.7/dist-packages/theano/gof/opt.py\", line 1808, in process_node\n",
      "    fgraph.replace_all_validate(repl_pairs, reason=lopt)\n",
      "  File \"/usr/local/lib/python2.7/dist-packages/theano/gof/toolbox.py\", line 309, in replace_all_validate\n",
      "    fgraph.replace(r, new_r, reason=reason, verbose=False)\n",
      "  File \"/usr/local/lib/python2.7/dist-packages/theano/gof/fg.py\", line 500, in replace\n",
      "    str(reason))\n",
      "TypeError: ('The type of the replacement must be compatible with the type of the original Variable.', DimShuffle{x}.0, Elemwise{sub,no_inplace}.0, TensorType(int8, (True,)), TensorType(float32, (True,)), 'local_dimshuffle_lift')\n",
      "\n",
      "ERROR:theano.gof.opt:Traceback (most recent call last):\n",
      "  File \"/usr/local/lib/python2.7/dist-packages/theano/gof/opt.py\", line 1808, in process_node\n",
      "    fgraph.replace_all_validate(repl_pairs, reason=lopt)\n",
      "  File \"/usr/local/lib/python2.7/dist-packages/theano/gof/toolbox.py\", line 309, in replace_all_validate\n",
      "    fgraph.replace(r, new_r, reason=reason, verbose=False)\n",
      "  File \"/usr/local/lib/python2.7/dist-packages/theano/gof/fg.py\", line 500, in replace\n",
      "    str(reason))\n",
      "TypeError: ('The type of the replacement must be compatible with the type of the original Variable.', DimShuffle{x}.0, Elemwise{sub,no_inplace}.0, TensorType(int8, (True,)), TensorType(float32, (True,)), 'local_dimshuffle_lift')\n",
      "\n",
      "<<!! BUG IN FGRAPH.REPLACE OR A LISTENER !!>> <type 'exceptions.TypeError'> ('The type of the replacement must be compatible with the type of the original Variable.', DimShuffle{x}.0, Elemwise{sub,no_inplace}.0, TensorType(int8, (True,)), TensorType(float32, (True,)), 'local_dimshuffle_lift') local_dimshuffle_lift\n",
      "ERROR (theano.gof.opt): Optimization failure due to: local_dimshuffle_lift\n",
      "ERROR:theano.gof.opt:Optimization failure due to: local_dimshuffle_lift\n",
      "ERROR (theano.gof.opt): node: DimShuffle{x}(beta)\n",
      "ERROR:theano.gof.opt:node: DimShuffle{x}(beta)\n",
      "ERROR (theano.gof.opt): TRACEBACK:\n",
      "ERROR:theano.gof.opt:TRACEBACK:\n",
      "ERROR (theano.gof.opt): Traceback (most recent call last):\n",
      "  File \"/usr/local/lib/python2.7/dist-packages/theano/gof/opt.py\", line 1808, in process_node\n",
      "    fgraph.replace_all_validate(repl_pairs, reason=lopt)\n",
      "  File \"/usr/local/lib/python2.7/dist-packages/theano/gof/toolbox.py\", line 309, in replace_all_validate\n",
      "    fgraph.replace(r, new_r, reason=reason, verbose=False)\n",
      "  File \"/usr/local/lib/python2.7/dist-packages/theano/gof/fg.py\", line 500, in replace\n",
      "    str(reason))\n",
      "TypeError: ('The type of the replacement must be compatible with the type of the original Variable.', DimShuffle{x}.0, Elemwise{sub,no_inplace}.0, TensorType(int8, (True,)), TensorType(float32, (True,)), 'local_dimshuffle_lift')\n",
      "\n",
      "ERROR:theano.gof.opt:Traceback (most recent call last):\n",
      "  File \"/usr/local/lib/python2.7/dist-packages/theano/gof/opt.py\", line 1808, in process_node\n",
      "    fgraph.replace_all_validate(repl_pairs, reason=lopt)\n",
      "  File \"/usr/local/lib/python2.7/dist-packages/theano/gof/toolbox.py\", line 309, in replace_all_validate\n",
      "    fgraph.replace(r, new_r, reason=reason, verbose=False)\n",
      "  File \"/usr/local/lib/python2.7/dist-packages/theano/gof/fg.py\", line 500, in replace\n",
      "    str(reason))\n",
      "TypeError: ('The type of the replacement must be compatible with the type of the original Variable.', DimShuffle{x}.0, Elemwise{sub,no_inplace}.0, TensorType(int8, (True,)), TensorType(float32, (True,)), 'local_dimshuffle_lift')\n",
      "\n",
      "<<!! BUG IN FGRAPH.REPLACE OR A LISTENER !!>> <type 'exceptions.TypeError'> ('The type of the replacement must be compatible with the type of the original Variable.', DimShuffle{x}.0, Elemwise{sub,no_inplace}.0, TensorType(int8, (True,)), TensorType(float32, (True,)), 'local_dimshuffle_lift') local_dimshuffle_lift\n",
      "ERROR (theano.gof.opt): Optimization failure due to: local_dimshuffle_lift\n",
      "ERROR:theano.gof.opt:Optimization failure due to: local_dimshuffle_lift\n",
      "ERROR (theano.gof.opt): node: DimShuffle{x}(beta)\n",
      "ERROR:theano.gof.opt:node: DimShuffle{x}(beta)\n",
      "ERROR (theano.gof.opt): TRACEBACK:\n",
      "ERROR:theano.gof.opt:TRACEBACK:\n",
      "ERROR (theano.gof.opt): Traceback (most recent call last):\n",
      "  File \"/usr/local/lib/python2.7/dist-packages/theano/gof/opt.py\", line 1808, in process_node\n",
      "    fgraph.replace_all_validate(repl_pairs, reason=lopt)\n",
      "  File \"/usr/local/lib/python2.7/dist-packages/theano/gof/toolbox.py\", line 309, in replace_all_validate\n",
      "    fgraph.replace(r, new_r, reason=reason, verbose=False)\n",
      "  File \"/usr/local/lib/python2.7/dist-packages/theano/gof/fg.py\", line 500, in replace\n",
      "    str(reason))\n",
      "TypeError: ('The type of the replacement must be compatible with the type of the original Variable.', DimShuffle{x}.0, Elemwise{sub,no_inplace}.0, TensorType(int8, (True,)), TensorType(float32, (True,)), 'local_dimshuffle_lift')\n",
      "\n",
      "ERROR:theano.gof.opt:Traceback (most recent call last):\n",
      "  File \"/usr/local/lib/python2.7/dist-packages/theano/gof/opt.py\", line 1808, in process_node\n",
      "    fgraph.replace_all_validate(repl_pairs, reason=lopt)\n",
      "  File \"/usr/local/lib/python2.7/dist-packages/theano/gof/toolbox.py\", line 309, in replace_all_validate\n",
      "    fgraph.replace(r, new_r, reason=reason, verbose=False)\n",
      "  File \"/usr/local/lib/python2.7/dist-packages/theano/gof/fg.py\", line 500, in replace\n",
      "    str(reason))\n",
      "TypeError: ('The type of the replacement must be compatible with the type of the original Variable.', DimShuffle{x}.0, Elemwise{sub,no_inplace}.0, TensorType(int8, (True,)), TensorType(float32, (True,)), 'local_dimshuffle_lift')\n",
      "\n",
      "<<!! BUG IN FGRAPH.REPLACE OR A LISTENER !!>> <type 'exceptions.TypeError'> ('The type of the replacement must be compatible with the type of the original Variable.', DimShuffle{x}.0, Elemwise{sub,no_inplace}.0, TensorType(int8, (True,)), TensorType(float32, (True,)), 'local_dimshuffle_lift') local_dimshuffle_lift\n",
      "ERROR (theano.gof.opt): SeqOptimizer apply <theano.gof.opt.EquilibriumOptimizer object at 0x7f4aea5b4150>\n",
      "ERROR:theano.gof.opt:SeqOptimizer apply <theano.gof.opt.EquilibriumOptimizer object at 0x7f4aea5b4150>\n",
      "ERROR (theano.gof.opt): Traceback:\n",
      "ERROR:theano.gof.opt:Traceback:\n",
      "ERROR (theano.gof.opt): Traceback (most recent call last):\n",
      "  File \"/usr/local/lib/python2.7/dist-packages/theano/gof/opt.py\", line 231, in apply\n",
      "    sub_prof = optimizer.optimize(fgraph)\n",
      "  File \"/usr/local/lib/python2.7/dist-packages/theano/gof/opt.py\", line 90, in optimize\n",
      "    ret = self.apply(fgraph, *args, **kwargs)\n",
      "  File \"/usr/local/lib/python2.7/dist-packages/theano/gof/opt.py\", line 2197, in apply\n",
      "    lopt_change = self.process_node(fgraph, node, lopt)\n",
      "  File \"/usr/local/lib/python2.7/dist-packages/theano/gof/opt.py\", line 1808, in process_node\n",
      "    fgraph.replace_all_validate(repl_pairs, reason=lopt)\n",
      "  File \"/usr/local/lib/python2.7/dist-packages/theano/gof/toolbox.py\", line 309, in replace_all_validate\n",
      "    fgraph.replace(r, new_r, reason=reason, verbose=False)\n",
      "  File \"/usr/local/lib/python2.7/dist-packages/theano/gof/fg.py\", line 500, in replace\n",
      "    str(reason))\n",
      "TypeError: ('The type of the replacement must be compatible with the type of the original Variable.', DimShuffle{x}.0, Elemwise{sub,no_inplace}.0, TensorType(int8, (True,)), TensorType(float32, (True,)), 'local_dimshuffle_lift')\n",
      "\n",
      "ERROR:theano.gof.opt:Traceback (most recent call last):\n",
      "  File \"/usr/local/lib/python2.7/dist-packages/theano/gof/opt.py\", line 231, in apply\n",
      "    sub_prof = optimizer.optimize(fgraph)\n",
      "  File \"/usr/local/lib/python2.7/dist-packages/theano/gof/opt.py\", line 90, in optimize\n",
      "    ret = self.apply(fgraph, *args, **kwargs)\n",
      "  File \"/usr/local/lib/python2.7/dist-packages/theano/gof/opt.py\", line 2197, in apply\n",
      "    lopt_change = self.process_node(fgraph, node, lopt)\n",
      "  File \"/usr/local/lib/python2.7/dist-packages/theano/gof/opt.py\", line 1808, in process_node\n",
      "    fgraph.replace_all_validate(repl_pairs, reason=lopt)\n",
      "  File \"/usr/local/lib/python2.7/dist-packages/theano/gof/toolbox.py\", line 309, in replace_all_validate\n",
      "    fgraph.replace(r, new_r, reason=reason, verbose=False)\n",
      "  File \"/usr/local/lib/python2.7/dist-packages/theano/gof/fg.py\", line 500, in replace\n",
      "    str(reason))\n",
      "TypeError: ('The type of the replacement must be compatible with the type of the original Variable.', DimShuffle{x}.0, Elemwise{sub,no_inplace}.0, TensorType(int8, (True,)), TensorType(float32, (True,)), 'local_dimshuffle_lift')\n",
      "\n",
      "<<!! BUG IN FGRAPH.REPLACE OR A LISTENER !!>> <type 'exceptions.TypeError'> ('The type of the replacement must be compatible with the type of the original Variable.', DimShuffle{x}.0, Elemwise{sub,no_inplace}.0, TensorType(int8, (True,)), TensorType(float32, (True,)), 'local_dimshuffle_lift') local_dimshuffle_lift\n",
      "ERROR (theano.gof.opt): Optimization failure due to: local_dimshuffle_lift\n",
      "ERROR:theano.gof.opt:Optimization failure due to: local_dimshuffle_lift\n",
      "ERROR (theano.gof.opt): node: DimShuffle{x}(beta)\n",
      "ERROR:theano.gof.opt:node: DimShuffle{x}(beta)\n",
      "ERROR (theano.gof.opt): TRACEBACK:\n",
      "ERROR:theano.gof.opt:TRACEBACK:\n",
      "ERROR (theano.gof.opt): Traceback (most recent call last):\n",
      "  File \"/usr/local/lib/python2.7/dist-packages/theano/gof/opt.py\", line 1808, in process_node\n",
      "    fgraph.replace_all_validate(repl_pairs, reason=lopt)\n",
      "  File \"/usr/local/lib/python2.7/dist-packages/theano/gof/toolbox.py\", line 309, in replace_all_validate\n",
      "    fgraph.replace(r, new_r, reason=reason, verbose=False)\n",
      "  File \"/usr/local/lib/python2.7/dist-packages/theano/gof/fg.py\", line 500, in replace\n",
      "    str(reason))\n",
      "TypeError: ('The type of the replacement must be compatible with the type of the original Variable.', DimShuffle{x}.0, Elemwise{sub,no_inplace}.0, TensorType(int8, (True,)), TensorType(float32, (True,)), 'local_dimshuffle_lift')\n",
      "\n",
      "ERROR:theano.gof.opt:Traceback (most recent call last):\n",
      "  File \"/usr/local/lib/python2.7/dist-packages/theano/gof/opt.py\", line 1808, in process_node\n",
      "    fgraph.replace_all_validate(repl_pairs, reason=lopt)\n",
      "  File \"/usr/local/lib/python2.7/dist-packages/theano/gof/toolbox.py\", line 309, in replace_all_validate\n",
      "    fgraph.replace(r, new_r, reason=reason, verbose=False)\n",
      "  File \"/usr/local/lib/python2.7/dist-packages/theano/gof/fg.py\", line 500, in replace\n",
      "    str(reason))\n",
      "TypeError: ('The type of the replacement must be compatible with the type of the original Variable.', DimShuffle{x}.0, Elemwise{sub,no_inplace}.0, TensorType(int8, (True,)), TensorType(float32, (True,)), 'local_dimshuffle_lift')\n",
      "\n",
      "<<!! BUG IN FGRAPH.REPLACE OR A LISTENER !!>> <type 'exceptions.TypeError'> ('The type of the replacement must be compatible with the type of the original Variable.', DimShuffle{x}.0, Elemwise{sub,no_inplace}.0, TensorType(int8, (True,)), TensorType(float32, (True,)), 'local_dimshuffle_lift') local_dimshuffle_lift\n",
      "ERROR (theano.gof.opt): Optimization failure due to: local_dimshuffle_lift\n",
      "ERROR:theano.gof.opt:Optimization failure due to: local_dimshuffle_lift\n",
      "ERROR (theano.gof.opt): node: DimShuffle{x}(beta)\n",
      "ERROR:theano.gof.opt:node: DimShuffle{x}(beta)\n",
      "ERROR (theano.gof.opt): TRACEBACK:\n",
      "ERROR:theano.gof.opt:TRACEBACK:\n",
      "ERROR (theano.gof.opt): Traceback (most recent call last):\n",
      "  File \"/usr/local/lib/python2.7/dist-packages/theano/gof/opt.py\", line 1808, in process_node\n",
      "    fgraph.replace_all_validate(repl_pairs, reason=lopt)\n",
      "  File \"/usr/local/lib/python2.7/dist-packages/theano/gof/toolbox.py\", line 309, in replace_all_validate\n",
      "    fgraph.replace(r, new_r, reason=reason, verbose=False)\n",
      "  File \"/usr/local/lib/python2.7/dist-packages/theano/gof/fg.py\", line 500, in replace\n",
      "    str(reason))\n",
      "TypeError: ('The type of the replacement must be compatible with the type of the original Variable.', DimShuffle{x}.0, Elemwise{sub,no_inplace}.0, TensorType(int8, (True,)), TensorType(float32, (True,)), 'local_dimshuffle_lift')\n",
      "\n",
      "ERROR:theano.gof.opt:Traceback (most recent call last):\n",
      "  File \"/usr/local/lib/python2.7/dist-packages/theano/gof/opt.py\", line 1808, in process_node\n",
      "    fgraph.replace_all_validate(repl_pairs, reason=lopt)\n",
      "  File \"/usr/local/lib/python2.7/dist-packages/theano/gof/toolbox.py\", line 309, in replace_all_validate\n",
      "    fgraph.replace(r, new_r, reason=reason, verbose=False)\n",
      "  File \"/usr/local/lib/python2.7/dist-packages/theano/gof/fg.py\", line 500, in replace\n",
      "    str(reason))\n",
      "TypeError: ('The type of the replacement must be compatible with the type of the original Variable.', DimShuffle{x}.0, Elemwise{sub,no_inplace}.0, TensorType(int8, (True,)), TensorType(float32, (True,)), 'local_dimshuffle_lift')\n",
      "\n"
     ]
    },
    {
     "ename": "AssertionError",
     "evalue": "",
     "output_type": "error",
     "traceback": [
      "\u001b[1;31m---------------------------------------------------------------------------\u001b[0m",
      "\u001b[1;31mAssertionError\u001b[0m                            Traceback (most recent call last)",
      "\u001b[1;32m<ipython-input-9-e01abb22ff49>\u001b[0m in \u001b[0;36m<module>\u001b[1;34m()\u001b[0m\n\u001b[1;32m----> 1\u001b[1;33m \u001b[0mtheano\u001b[0m\u001b[1;33m.\u001b[0m\u001b[0mfunction\u001b[0m\u001b[1;33m(\u001b[0m\u001b[0mmodel\u001b[0m\u001b[1;33m[\u001b[0m\u001b[1;34m'parameters'\u001b[0m\u001b[1;33m]\u001b[0m\u001b[1;33m+\u001b[0m\u001b[0mmodel\u001b[0m\u001b[1;33m[\u001b[0m\u001b[1;34m'inputs'\u001b[0m\u001b[1;33m]\u001b[0m\u001b[1;33m,\u001b[0m \u001b[0mmodel\u001b[0m\u001b[1;33m[\u001b[0m\u001b[1;34m'outputs'\u001b[0m\u001b[1;33m]\u001b[0m\u001b[1;33m,\u001b[0m \u001b[0mon_unused_input\u001b[0m\u001b[1;33m=\u001b[0m\u001b[1;34m\"warn\"\u001b[0m\u001b[1;33m)\u001b[0m\u001b[1;33m\u001b[0m\u001b[0m\n\u001b[0m",
      "\u001b[1;32m/usr/local/lib/python2.7/dist-packages/theano/compile/function.pyc\u001b[0m in \u001b[0;36mfunction\u001b[1;34m(inputs, outputs, mode, updates, givens, no_default_updates, accept_inplace, name, rebuild_strict, allow_input_downcast, profile, on_unused_input)\u001b[0m\n\u001b[0;32m    320\u001b[0m                    \u001b[0mon_unused_input\u001b[0m\u001b[1;33m=\u001b[0m\u001b[0mon_unused_input\u001b[0m\u001b[1;33m,\u001b[0m\u001b[1;33m\u001b[0m\u001b[0m\n\u001b[0;32m    321\u001b[0m                    \u001b[0mprofile\u001b[0m\u001b[1;33m=\u001b[0m\u001b[0mprofile\u001b[0m\u001b[1;33m,\u001b[0m\u001b[1;33m\u001b[0m\u001b[0m\n\u001b[1;32m--> 322\u001b[1;33m                    output_keys=output_keys)\n\u001b[0m\u001b[0;32m    323\u001b[0m     \u001b[1;31m# We need to add the flag check_aliased inputs if we have any mutable or\u001b[0m\u001b[1;33m\u001b[0m\u001b[1;33m\u001b[0m\u001b[0m\n\u001b[0;32m    324\u001b[0m     \u001b[1;31m# borrowed used defined inputs\u001b[0m\u001b[1;33m\u001b[0m\u001b[1;33m\u001b[0m\u001b[0m\n",
      "\u001b[1;32m/usr/local/lib/python2.7/dist-packages/theano/compile/pfunc.pyc\u001b[0m in \u001b[0;36mpfunc\u001b[1;34m(params, outputs, mode, updates, givens, no_default_updates, accept_inplace, name, rebuild_strict, allow_input_downcast, profile, on_unused_input, output_keys)\u001b[0m\n\u001b[0;32m    478\u001b[0m                          \u001b[0maccept_inplace\u001b[0m\u001b[1;33m=\u001b[0m\u001b[0maccept_inplace\u001b[0m\u001b[1;33m,\u001b[0m \u001b[0mname\u001b[0m\u001b[1;33m=\u001b[0m\u001b[0mname\u001b[0m\u001b[1;33m,\u001b[0m\u001b[1;33m\u001b[0m\u001b[0m\n\u001b[0;32m    479\u001b[0m                          \u001b[0mprofile\u001b[0m\u001b[1;33m=\u001b[0m\u001b[0mprofile\u001b[0m\u001b[1;33m,\u001b[0m \u001b[0mon_unused_input\u001b[0m\u001b[1;33m=\u001b[0m\u001b[0mon_unused_input\u001b[0m\u001b[1;33m,\u001b[0m\u001b[1;33m\u001b[0m\u001b[0m\n\u001b[1;32m--> 480\u001b[1;33m                          output_keys=output_keys)\n\u001b[0m\u001b[0;32m    481\u001b[0m \u001b[1;33m\u001b[0m\u001b[0m\n\u001b[0;32m    482\u001b[0m \u001b[1;33m\u001b[0m\u001b[0m\n",
      "\u001b[1;32m/usr/local/lib/python2.7/dist-packages/theano/compile/function_module.pyc\u001b[0m in \u001b[0;36morig_function\u001b[1;34m(inputs, outputs, mode, accept_inplace, name, profile, on_unused_input, output_keys)\u001b[0m\n\u001b[0;32m   1821\u001b[0m                    \u001b[0mprofile\u001b[0m\u001b[1;33m=\u001b[0m\u001b[0mprofile\u001b[0m\u001b[1;33m,\u001b[0m\u001b[1;33m\u001b[0m\u001b[0m\n\u001b[0;32m   1822\u001b[0m                    \u001b[0mon_unused_input\u001b[0m\u001b[1;33m=\u001b[0m\u001b[0mon_unused_input\u001b[0m\u001b[1;33m,\u001b[0m\u001b[1;33m\u001b[0m\u001b[0m\n\u001b[1;32m-> 1823\u001b[1;33m                    \u001b[0moutput_keys\u001b[0m\u001b[1;33m=\u001b[0m\u001b[0moutput_keys\u001b[0m\u001b[1;33m)\u001b[0m\u001b[1;33m.\u001b[0m\u001b[0mcreate\u001b[0m\u001b[1;33m(\u001b[0m\u001b[1;33m\u001b[0m\u001b[0m\n\u001b[0m\u001b[0;32m   1824\u001b[0m             defaults)\n\u001b[0;32m   1825\u001b[0m \u001b[1;33m\u001b[0m\u001b[0m\n",
      "\u001b[1;32m/usr/local/lib/python2.7/dist-packages/theano/compile/function_module.pyc\u001b[0m in \u001b[0;36m__init__\u001b[1;34m(self, inputs, outputs, mode, accept_inplace, function_builder, profile, on_unused_input, fgraph, output_keys)\u001b[0m\n\u001b[0;32m   1501\u001b[0m                         optimizer, inputs, outputs)\n\u001b[0;32m   1502\u001b[0m                 \u001b[1;32melse\u001b[0m\u001b[1;33m:\u001b[0m\u001b[1;33m\u001b[0m\u001b[0m\n\u001b[1;32m-> 1503\u001b[1;33m                     \u001b[0moptimizer_profile\u001b[0m \u001b[1;33m=\u001b[0m \u001b[0moptimizer\u001b[0m\u001b[1;33m(\u001b[0m\u001b[0mfgraph\u001b[0m\u001b[1;33m)\u001b[0m\u001b[1;33m\u001b[0m\u001b[0m\n\u001b[0m\u001b[0;32m   1504\u001b[0m \u001b[1;33m\u001b[0m\u001b[0m\n\u001b[0;32m   1505\u001b[0m                 \u001b[0mend_optimizer\u001b[0m \u001b[1;33m=\u001b[0m \u001b[0mtime\u001b[0m\u001b[1;33m.\u001b[0m\u001b[0mtime\u001b[0m\u001b[1;33m(\u001b[0m\u001b[1;33m)\u001b[0m\u001b[1;33m\u001b[0m\u001b[0m\n",
      "\u001b[1;32m/usr/local/lib/python2.7/dist-packages/theano/gof/opt.pyc\u001b[0m in \u001b[0;36m__call__\u001b[1;34m(self, fgraph)\u001b[0m\n\u001b[0;32m    100\u001b[0m \u001b[1;33m\u001b[0m\u001b[0m\n\u001b[0;32m    101\u001b[0m         \"\"\"\n\u001b[1;32m--> 102\u001b[1;33m         \u001b[1;32mreturn\u001b[0m \u001b[0mself\u001b[0m\u001b[1;33m.\u001b[0m\u001b[0moptimize\u001b[0m\u001b[1;33m(\u001b[0m\u001b[0mfgraph\u001b[0m\u001b[1;33m)\u001b[0m\u001b[1;33m\u001b[0m\u001b[0m\n\u001b[0m\u001b[0;32m    103\u001b[0m \u001b[1;33m\u001b[0m\u001b[0m\n\u001b[0;32m    104\u001b[0m     \u001b[1;32mdef\u001b[0m \u001b[0madd_requirements\u001b[0m\u001b[1;33m(\u001b[0m\u001b[0mself\u001b[0m\u001b[1;33m,\u001b[0m \u001b[0mfgraph\u001b[0m\u001b[1;33m)\u001b[0m\u001b[1;33m:\u001b[0m\u001b[1;33m\u001b[0m\u001b[0m\n",
      "\u001b[1;32m/usr/local/lib/python2.7/dist-packages/theano/gof/opt.pyc\u001b[0m in \u001b[0;36moptimize\u001b[1;34m(self, fgraph, *args, **kwargs)\u001b[0m\n\u001b[0;32m     88\u001b[0m             \u001b[0morig\u001b[0m \u001b[1;33m=\u001b[0m \u001b[0mtheano\u001b[0m\u001b[1;33m.\u001b[0m\u001b[0mtensor\u001b[0m\u001b[1;33m.\u001b[0m\u001b[0mbasic\u001b[0m\u001b[1;33m.\u001b[0m\u001b[0mconstant\u001b[0m\u001b[1;33m.\u001b[0m\u001b[0menable\u001b[0m\u001b[1;33m\u001b[0m\u001b[0m\n\u001b[0;32m     89\u001b[0m             \u001b[0mtheano\u001b[0m\u001b[1;33m.\u001b[0m\u001b[0mtensor\u001b[0m\u001b[1;33m.\u001b[0m\u001b[0mbasic\u001b[0m\u001b[1;33m.\u001b[0m\u001b[0mconstant\u001b[0m\u001b[1;33m.\u001b[0m\u001b[0menable\u001b[0m \u001b[1;33m=\u001b[0m \u001b[0mFalse\u001b[0m\u001b[1;33m\u001b[0m\u001b[0m\n\u001b[1;32m---> 90\u001b[1;33m             \u001b[0mret\u001b[0m \u001b[1;33m=\u001b[0m \u001b[0mself\u001b[0m\u001b[1;33m.\u001b[0m\u001b[0mapply\u001b[0m\u001b[1;33m(\u001b[0m\u001b[0mfgraph\u001b[0m\u001b[1;33m,\u001b[0m \u001b[1;33m*\u001b[0m\u001b[0margs\u001b[0m\u001b[1;33m,\u001b[0m \u001b[1;33m**\u001b[0m\u001b[0mkwargs\u001b[0m\u001b[1;33m)\u001b[0m\u001b[1;33m\u001b[0m\u001b[0m\n\u001b[0m\u001b[0;32m     91\u001b[0m         \u001b[1;32mfinally\u001b[0m\u001b[1;33m:\u001b[0m\u001b[1;33m\u001b[0m\u001b[0m\n\u001b[0;32m     92\u001b[0m             \u001b[0mtheano\u001b[0m\u001b[1;33m.\u001b[0m\u001b[0mtensor\u001b[0m\u001b[1;33m.\u001b[0m\u001b[0mbasic\u001b[0m\u001b[1;33m.\u001b[0m\u001b[0mconstant\u001b[0m\u001b[1;33m.\u001b[0m\u001b[0menable\u001b[0m \u001b[1;33m=\u001b[0m \u001b[0morig\u001b[0m\u001b[1;33m\u001b[0m\u001b[0m\n",
      "\u001b[1;32m/usr/local/lib/python2.7/dist-packages/theano/gof/opt.pyc\u001b[0m in \u001b[0;36mapply\u001b[1;34m(self, fgraph)\u001b[0m\n\u001b[0;32m    229\u001b[0m             \u001b[1;32mtry\u001b[0m\u001b[1;33m:\u001b[0m\u001b[1;33m\u001b[0m\u001b[0m\n\u001b[0;32m    230\u001b[0m                 \u001b[0mt0\u001b[0m \u001b[1;33m=\u001b[0m \u001b[0mtime\u001b[0m\u001b[1;33m.\u001b[0m\u001b[0mtime\u001b[0m\u001b[1;33m(\u001b[0m\u001b[1;33m)\u001b[0m\u001b[1;33m\u001b[0m\u001b[0m\n\u001b[1;32m--> 231\u001b[1;33m                 \u001b[0msub_prof\u001b[0m \u001b[1;33m=\u001b[0m \u001b[0moptimizer\u001b[0m\u001b[1;33m.\u001b[0m\u001b[0moptimize\u001b[0m\u001b[1;33m(\u001b[0m\u001b[0mfgraph\u001b[0m\u001b[1;33m)\u001b[0m\u001b[1;33m\u001b[0m\u001b[0m\n\u001b[0m\u001b[0;32m    232\u001b[0m                 \u001b[0ml\u001b[0m\u001b[1;33m.\u001b[0m\u001b[0mappend\u001b[0m\u001b[1;33m(\u001b[0m\u001b[0mfloat\u001b[0m\u001b[1;33m(\u001b[0m\u001b[0mtime\u001b[0m\u001b[1;33m.\u001b[0m\u001b[0mtime\u001b[0m\u001b[1;33m(\u001b[0m\u001b[1;33m)\u001b[0m \u001b[1;33m-\u001b[0m \u001b[0mt0\u001b[0m\u001b[1;33m)\u001b[0m\u001b[1;33m)\u001b[0m\u001b[1;33m\u001b[0m\u001b[0m\n\u001b[0;32m    233\u001b[0m                 \u001b[0msub_profs\u001b[0m\u001b[1;33m.\u001b[0m\u001b[0mappend\u001b[0m\u001b[1;33m(\u001b[0m\u001b[0msub_prof\u001b[0m\u001b[1;33m)\u001b[0m\u001b[1;33m\u001b[0m\u001b[0m\n",
      "\u001b[1;32m/usr/local/lib/python2.7/dist-packages/theano/gof/opt.pyc\u001b[0m in \u001b[0;36moptimize\u001b[1;34m(self, fgraph, *args, **kwargs)\u001b[0m\n\u001b[0;32m     88\u001b[0m             \u001b[0morig\u001b[0m \u001b[1;33m=\u001b[0m \u001b[0mtheano\u001b[0m\u001b[1;33m.\u001b[0m\u001b[0mtensor\u001b[0m\u001b[1;33m.\u001b[0m\u001b[0mbasic\u001b[0m\u001b[1;33m.\u001b[0m\u001b[0mconstant\u001b[0m\u001b[1;33m.\u001b[0m\u001b[0menable\u001b[0m\u001b[1;33m\u001b[0m\u001b[0m\n\u001b[0;32m     89\u001b[0m             \u001b[0mtheano\u001b[0m\u001b[1;33m.\u001b[0m\u001b[0mtensor\u001b[0m\u001b[1;33m.\u001b[0m\u001b[0mbasic\u001b[0m\u001b[1;33m.\u001b[0m\u001b[0mconstant\u001b[0m\u001b[1;33m.\u001b[0m\u001b[0menable\u001b[0m \u001b[1;33m=\u001b[0m \u001b[0mFalse\u001b[0m\u001b[1;33m\u001b[0m\u001b[0m\n\u001b[1;32m---> 90\u001b[1;33m             \u001b[0mret\u001b[0m \u001b[1;33m=\u001b[0m \u001b[0mself\u001b[0m\u001b[1;33m.\u001b[0m\u001b[0mapply\u001b[0m\u001b[1;33m(\u001b[0m\u001b[0mfgraph\u001b[0m\u001b[1;33m,\u001b[0m \u001b[1;33m*\u001b[0m\u001b[0margs\u001b[0m\u001b[1;33m,\u001b[0m \u001b[1;33m**\u001b[0m\u001b[0mkwargs\u001b[0m\u001b[1;33m)\u001b[0m\u001b[1;33m\u001b[0m\u001b[0m\n\u001b[0m\u001b[0;32m     91\u001b[0m         \u001b[1;32mfinally\u001b[0m\u001b[1;33m:\u001b[0m\u001b[1;33m\u001b[0m\u001b[0m\n\u001b[0;32m     92\u001b[0m             \u001b[0mtheano\u001b[0m\u001b[1;33m.\u001b[0m\u001b[0mtensor\u001b[0m\u001b[1;33m.\u001b[0m\u001b[0mbasic\u001b[0m\u001b[1;33m.\u001b[0m\u001b[0mconstant\u001b[0m\u001b[1;33m.\u001b[0m\u001b[0menable\u001b[0m \u001b[1;33m=\u001b[0m \u001b[0morig\u001b[0m\u001b[1;33m\u001b[0m\u001b[0m\n",
      "\u001b[1;32m/usr/local/lib/python2.7/dist-packages/theano/gof/opt.pyc\u001b[0m in \u001b[0;36mapply\u001b[1;34m(self, fgraph)\u001b[0m\n\u001b[0;32m    229\u001b[0m             \u001b[1;32mtry\u001b[0m\u001b[1;33m:\u001b[0m\u001b[1;33m\u001b[0m\u001b[0m\n\u001b[0;32m    230\u001b[0m                 \u001b[0mt0\u001b[0m \u001b[1;33m=\u001b[0m \u001b[0mtime\u001b[0m\u001b[1;33m.\u001b[0m\u001b[0mtime\u001b[0m\u001b[1;33m(\u001b[0m\u001b[1;33m)\u001b[0m\u001b[1;33m\u001b[0m\u001b[0m\n\u001b[1;32m--> 231\u001b[1;33m                 \u001b[0msub_prof\u001b[0m \u001b[1;33m=\u001b[0m \u001b[0moptimizer\u001b[0m\u001b[1;33m.\u001b[0m\u001b[0moptimize\u001b[0m\u001b[1;33m(\u001b[0m\u001b[0mfgraph\u001b[0m\u001b[1;33m)\u001b[0m\u001b[1;33m\u001b[0m\u001b[0m\n\u001b[0m\u001b[0;32m    232\u001b[0m                 \u001b[0ml\u001b[0m\u001b[1;33m.\u001b[0m\u001b[0mappend\u001b[0m\u001b[1;33m(\u001b[0m\u001b[0mfloat\u001b[0m\u001b[1;33m(\u001b[0m\u001b[0mtime\u001b[0m\u001b[1;33m.\u001b[0m\u001b[0mtime\u001b[0m\u001b[1;33m(\u001b[0m\u001b[1;33m)\u001b[0m \u001b[1;33m-\u001b[0m \u001b[0mt0\u001b[0m\u001b[1;33m)\u001b[0m\u001b[1;33m)\u001b[0m\u001b[1;33m\u001b[0m\u001b[0m\n\u001b[0;32m    233\u001b[0m                 \u001b[0msub_profs\u001b[0m\u001b[1;33m.\u001b[0m\u001b[0mappend\u001b[0m\u001b[1;33m(\u001b[0m\u001b[0msub_prof\u001b[0m\u001b[1;33m)\u001b[0m\u001b[1;33m\u001b[0m\u001b[0m\n",
      "\u001b[1;32m/usr/local/lib/python2.7/dist-packages/theano/gof/opt.pyc\u001b[0m in \u001b[0;36moptimize\u001b[1;34m(self, fgraph, *args, **kwargs)\u001b[0m\n\u001b[0;32m     88\u001b[0m             \u001b[0morig\u001b[0m \u001b[1;33m=\u001b[0m \u001b[0mtheano\u001b[0m\u001b[1;33m.\u001b[0m\u001b[0mtensor\u001b[0m\u001b[1;33m.\u001b[0m\u001b[0mbasic\u001b[0m\u001b[1;33m.\u001b[0m\u001b[0mconstant\u001b[0m\u001b[1;33m.\u001b[0m\u001b[0menable\u001b[0m\u001b[1;33m\u001b[0m\u001b[0m\n\u001b[0;32m     89\u001b[0m             \u001b[0mtheano\u001b[0m\u001b[1;33m.\u001b[0m\u001b[0mtensor\u001b[0m\u001b[1;33m.\u001b[0m\u001b[0mbasic\u001b[0m\u001b[1;33m.\u001b[0m\u001b[0mconstant\u001b[0m\u001b[1;33m.\u001b[0m\u001b[0menable\u001b[0m \u001b[1;33m=\u001b[0m \u001b[0mFalse\u001b[0m\u001b[1;33m\u001b[0m\u001b[0m\n\u001b[1;32m---> 90\u001b[1;33m             \u001b[0mret\u001b[0m \u001b[1;33m=\u001b[0m \u001b[0mself\u001b[0m\u001b[1;33m.\u001b[0m\u001b[0mapply\u001b[0m\u001b[1;33m(\u001b[0m\u001b[0mfgraph\u001b[0m\u001b[1;33m,\u001b[0m \u001b[1;33m*\u001b[0m\u001b[0margs\u001b[0m\u001b[1;33m,\u001b[0m \u001b[1;33m**\u001b[0m\u001b[0mkwargs\u001b[0m\u001b[1;33m)\u001b[0m\u001b[1;33m\u001b[0m\u001b[0m\n\u001b[0m\u001b[0;32m     91\u001b[0m         \u001b[1;32mfinally\u001b[0m\u001b[1;33m:\u001b[0m\u001b[1;33m\u001b[0m\u001b[0m\n\u001b[0;32m     92\u001b[0m             \u001b[0mtheano\u001b[0m\u001b[1;33m.\u001b[0m\u001b[0mtensor\u001b[0m\u001b[1;33m.\u001b[0m\u001b[0mbasic\u001b[0m\u001b[1;33m.\u001b[0m\u001b[0mconstant\u001b[0m\u001b[1;33m.\u001b[0m\u001b[0menable\u001b[0m \u001b[1;33m=\u001b[0m \u001b[0morig\u001b[0m\u001b[1;33m\u001b[0m\u001b[0m\n",
      "\u001b[1;32m/usr/local/lib/python2.7/dist-packages/theano/tensor/opt.pyc\u001b[0m in \u001b[0;36mapply\u001b[1;34m(self, fgraph)\u001b[0m\n\u001b[0;32m   6763\u001b[0m                 \u001b[1;31m# Don't try to fuse node that have already been fused.\u001b[0m\u001b[1;33m\u001b[0m\u001b[1;33m\u001b[0m\u001b[0m\n\u001b[0;32m   6764\u001b[0m                 \u001b[1;32mif\u001b[0m \u001b[0mnode\u001b[0m \u001b[1;32min\u001b[0m \u001b[0mfgraph\u001b[0m\u001b[1;33m.\u001b[0m\u001b[0mapply_nodes\u001b[0m\u001b[1;33m:\u001b[0m\u001b[1;33m\u001b[0m\u001b[0m\n\u001b[1;32m-> 6765\u001b[1;33m                     \u001b[0mnew_outputs\u001b[0m \u001b[1;33m=\u001b[0m \u001b[0mself\u001b[0m\u001b[1;33m.\u001b[0m\u001b[0moptimizer\u001b[0m\u001b[1;33m(\u001b[0m\u001b[0mnode\u001b[0m\u001b[1;33m)\u001b[0m\u001b[1;33m\u001b[0m\u001b[0m\n\u001b[0m\u001b[0;32m   6766\u001b[0m                     \u001b[1;32mif\u001b[0m \u001b[0mnew_outputs\u001b[0m\u001b[1;33m:\u001b[0m\u001b[1;33m\u001b[0m\u001b[0m\n\u001b[0;32m   6767\u001b[0m                         \u001b[1;32massert\u001b[0m \u001b[0mlen\u001b[0m\u001b[1;33m(\u001b[0m\u001b[0mnew_outputs\u001b[0m\u001b[1;33m)\u001b[0m \u001b[1;33m==\u001b[0m \u001b[0mlen\u001b[0m\u001b[1;33m(\u001b[0m\u001b[0mnode\u001b[0m\u001b[1;33m.\u001b[0m\u001b[0moutputs\u001b[0m\u001b[1;33m)\u001b[0m\u001b[1;33m\u001b[0m\u001b[0m\n",
      "\u001b[1;32m/usr/local/lib/python2.7/dist-packages/theano/tensor/opt.pyc\u001b[0m in \u001b[0;36mlocal_fuse\u001b[1;34m(node)\u001b[0m\n\u001b[0;32m   6700\u001b[0m         \u001b[0mn\u001b[0m \u001b[1;33m=\u001b[0m \u001b[0mmaker\u001b[0m\u001b[1;33m(\u001b[0m\u001b[0mnode\u001b[0m\u001b[1;33m,\u001b[0m \u001b[0mC\u001b[0m\u001b[1;33m)\u001b[0m\u001b[1;33m(\u001b[0m\u001b[1;33m*\u001b[0m\u001b[0minputs\u001b[0m\u001b[1;33m)\u001b[0m\u001b[1;33m.\u001b[0m\u001b[0mowner\u001b[0m\u001b[1;33m\u001b[0m\u001b[0m\n\u001b[0;32m   6701\u001b[0m         \u001b[1;32massert\u001b[0m \u001b[0mlen\u001b[0m\u001b[1;33m(\u001b[0m\u001b[0mn\u001b[0m\u001b[1;33m.\u001b[0m\u001b[0moutputs\u001b[0m\u001b[1;33m)\u001b[0m \u001b[1;33m==\u001b[0m \u001b[1;36m1\u001b[0m\u001b[1;33m\u001b[0m\u001b[0m\n\u001b[1;32m-> 6702\u001b[1;33m         \u001b[1;32massert\u001b[0m \u001b[0mnode\u001b[0m\u001b[1;33m.\u001b[0m\u001b[0moutputs\u001b[0m\u001b[1;33m[\u001b[0m\u001b[1;36m0\u001b[0m\u001b[1;33m]\u001b[0m\u001b[1;33m.\u001b[0m\u001b[0mdtype\u001b[0m \u001b[1;33m==\u001b[0m \u001b[0mn\u001b[0m\u001b[1;33m.\u001b[0m\u001b[0moutputs\u001b[0m\u001b[1;33m[\u001b[0m\u001b[1;36m0\u001b[0m\u001b[1;33m]\u001b[0m\u001b[1;33m.\u001b[0m\u001b[0mdtype\u001b[0m\u001b[1;33m\u001b[0m\u001b[0m\n\u001b[0m\u001b[0;32m   6703\u001b[0m \u001b[1;33m\u001b[0m\u001b[0m\n\u001b[0;32m   6704\u001b[0m         \u001b[1;32mif\u001b[0m \u001b[0mlen\u001b[0m\u001b[1;33m(\u001b[0m\u001b[0mn\u001b[0m\u001b[1;33m.\u001b[0m\u001b[0minputs\u001b[0m\u001b[1;33m)\u001b[0m \u001b[1;33m>\u001b[0m \u001b[0mmax_nb_input\u001b[0m\u001b[1;33m:\u001b[0m\u001b[1;33m\u001b[0m\u001b[0m\n",
      "\u001b[1;31mAssertionError\u001b[0m: "
     ]
    }
   ],
   "source": [
    "theano.function(model['parameters']+model['inputs'], model['outputs'], on_unused_input=\"warn\")"
   ]
  },
  {
   "cell_type": "code",
   "execution_count": null,
   "metadata": {
    "collapsed": false
   },
   "outputs": [],
   "source": [
    "model.map('parameters_positive', reparameterize_map(softplus, softplus_inv), 'parameters')\n",
    "model.add_postmap(Compose(flat_numericalize_postmap, flatten_parameters))\n",
    "model"
   ]
  },
  {
   "cell_type": "code",
   "execution_count": null,
   "metadata": {
    "collapsed": true
   },
   "outputs": [],
   "source": []
  },
  {
   "cell_type": "markdown",
   "metadata": {},
   "source": [
    "## target"
   ]
  },
  {
   "cell_type": "code",
   "execution_count": null,
   "metadata": {
    "collapsed": false
   },
   "outputs": [],
   "source": [
    "target = dm.RadialTransform(init_alpha=1, init_beta=20, init_z0=[3])"
   ]
  },
  {
   "cell_type": "code",
   "execution_count": null,
   "metadata": {
    "collapsed": false
   },
   "outputs": [],
   "source": [
    "f_target = target.function()\n",
    "example_target = np.array([7])\n",
    "f_target(example_target)  # caution, needs vector not scalar input"
   ]
  },
  {
   "cell_type": "code",
   "execution_count": null,
   "metadata": {
    "collapsed": false
   },
   "outputs": [],
   "source": [
    "N = 40\n",
    "xs = np.linspace(-10, 10, N)[:, np.newaxis]\n",
    "xs[:7]"
   ]
  },
  {
   "cell_type": "code",
   "execution_count": null,
   "metadata": {
    "collapsed": false
   },
   "outputs": [],
   "source": [
    "ys = np.array([f_target(x) for x in xs])\n",
    "ys[:7]"
   ]
  },
  {
   "cell_type": "markdown",
   "metadata": {},
   "source": [
    "## visualization"
   ]
  },
  {
   "cell_type": "code",
   "execution_count": null,
   "metadata": {
    "collapsed": false
   },
   "outputs": [],
   "source": [
    "def plot_fit(fig, ax, givens={}, time_delay=0.1):\n",
    "    ax.clear() # interactive\n",
    "    # target data:\n",
    "    ax.plot(xs, ys, 'k:')\n",
    "    \n",
    "    # model:\n",
    "    f_model = model.function(givens=givens)\n",
    "    model_ys = np.array([f_model(x) for x in xs])\n",
    "    ax.plot(xs, model_ys, 'r')\n",
    "    \n",
    "    fig.canvas.draw()\n",
    "    time.sleep(time_delay)"
   ]
  },
  {
   "cell_type": "code",
   "execution_count": null,
   "metadata": {
    "collapsed": false
   },
   "outputs": [],
   "source": [
    "fig, ax = plt.subplots()\n",
    "plot_fit(fig, ax)"
   ]
  },
  {
   "cell_type": "markdown",
   "metadata": {},
   "source": [
    "## fit"
   ]
  },
  {
   "cell_type": "code",
   "execution_count": null,
   "metadata": {
    "collapsed": false
   },
   "outputs": [],
   "source": [
    "scipy_kwargs = scipy_postmap(model.postmap(wrapper=batch, initial_givens={model['inputs'][0]:example_target}))\n",
    "scipy_kwargs"
   ]
  },
  {
   "cell_type": "code",
   "execution_count": null,
   "metadata": {
    "collapsed": false
   },
   "outputs": [],
   "source": [
    "%debug"
   ]
  },
  {
   "cell_type": "code",
   "execution_count": null,
   "metadata": {
    "collapsed": true
   },
   "outputs": [],
   "source": [
    "def callback(x):\n",
    "    print x\n",
    "    plot_fit(fig, ax)"
   ]
  },
  {
   "cell_type": "code",
   "execution_count": null,
   "metadata": {
    "collapsed": false
   },
   "outputs": [],
   "source": [
    "minimize(\n",
    "    args=(ys,xs),\n",
    "    method=\"Newton-CG\",\n",
    "    options={'maxiter':100, 'disp':True},\n",
    "    callback=callback,\n",
    "    **scipy_kwargs\n",
    ")"
   ]
  },
  {
   "cell_type": "code",
   "execution_count": null,
   "metadata": {
    "collapsed": false
   },
   "outputs": [],
   "source": [
    "[p.eval() for p in model['parameters_positive']]"
   ]
  },
  {
   "cell_type": "code",
   "execution_count": null,
   "metadata": {
    "collapsed": false
   },
   "outputs": [],
   "source": [
    "[p.eval() for p in model['parameters']]"
   ]
  },
  {
   "cell_type": "markdown",
   "metadata": {},
   "source": [
    "# two dimensions"
   ]
  },
  {
   "cell_type": "markdown",
   "metadata": {},
   "source": [
    "## model"
   ]
  },
  {
   "cell_type": "code",
   "execution_count": null,
   "metadata": {
    "collapsed": true
   },
   "outputs": [],
   "source": [
    "model2d = dm.RadialTransform(size=2)\n",
    "f_model2d = model2d.function()"
   ]
  },
  {
   "cell_type": "markdown",
   "metadata": {},
   "source": [
    "## target"
   ]
  },
  {
   "cell_type": "code",
   "execution_count": null,
   "metadata": {
    "collapsed": true
   },
   "outputs": [],
   "source": [
    "target2d = dm.RadialTransform(init_alpha=1, init_beta=5, init_z0=[3, 1])\n",
    "# target2d = dm.RadialTransform(init_alpha=50, init_beta=-40, init_z0=[3, 1])"
   ]
  },
  {
   "cell_type": "code",
   "execution_count": null,
   "metadata": {
    "collapsed": false
   },
   "outputs": [],
   "source": [
    "f_target2d = target2d.function()\n",
    "f_target2d([7, 4])  # caution, needs vector not scalar input"
   ]
  },
  {
   "cell_type": "code",
   "execution_count": null,
   "metadata": {
    "collapsed": false
   },
   "outputs": [],
   "source": [
    "N2d = 10\n",
    "_xs = np.linspace(-10, 10, N2d)\n",
    "X1, X2 = np.meshgrid(_xs, _xs)\n",
    "xs2d = np.c_[X1.flat, X2.flat]\n",
    "xs2d[:5]"
   ]
  },
  {
   "cell_type": "code",
   "execution_count": null,
   "metadata": {
    "collapsed": false
   },
   "outputs": [],
   "source": [
    "ys2d = np.array([f_target2d(x) for x in xs2d])\n",
    "ys2d[:5]"
   ]
  },
  {
   "cell_type": "markdown",
   "metadata": {},
   "source": [
    "## visualization"
   ]
  },
  {
   "cell_type": "code",
   "execution_count": null,
   "metadata": {
    "collapsed": true
   },
   "outputs": [],
   "source": [
    "diff2d = ys2d - xs2d\n",
    "quiver_kwargs = dict(scale=1, angles='xy', scale_units='xy', width=0.003)\n",
    "\n",
    "def plot_fit2d(fig, ax, time_delay=0.1, expand_factor=0.4):\n",
    "    ax.clear()\n",
    "    \n",
    "    # target data:\n",
    "    ax.quiver(xs2d[:,0], xs2d[:,1], diff2d[:,0], diff2d[:,1], hatch='***', facecolor='none', color=\"k\", **quiver_kwargs)\n",
    "    \n",
    "    # model:\n",
    "    m_ys2d = np.array([f_model2d(x) for x in xs2d])\n",
    "    m_diff2d = m_ys2d - xs2d\n",
    "    ax.quiver(xs2d[:,0], xs2d[:,1], m_diff2d[:,0], m_diff2d[:,1], color=\"r\", **quiver_kwargs)\n",
    "\n",
    "    # ax.autoscale()  # does not work with arrows, do it manually:\n",
    "    l, r, b, t = ax.axis()\n",
    "    dx, dy = r - l, t - b\n",
    "    ax.axis([l - expand_factor * dx, r + expand_factor * dx, b - expand_factor * dy, t + expand_factor * dy])\n",
    "    \n",
    "    fig.canvas.draw()\n",
    "    time.sleep(time_delay)"
   ]
  },
  {
   "cell_type": "code",
   "execution_count": null,
   "metadata": {
    "collapsed": false
   },
   "outputs": [],
   "source": [
    "fig, ax = plt.subplots()\n",
    "plot_fit2d(fig, ax)"
   ]
  },
  {
   "cell_type": "markdown",
   "metadata": {},
   "source": [
    "## fit"
   ]
  },
  {
   "cell_type": "code",
   "execution_count": null,
   "metadata": {
    "collapsed": false
   },
   "outputs": [],
   "source": [
    "myoptimizer = opt.ScipyOptimizer(batch)\n",
    "# CAUTION: scipy args needs to be tuple in order to work as expected!\n",
    "myoptimizer.optimize(\n",
    "    model2d, args=(ys2d,xs2d),\n",
    "#     method=\"Newton-CG\",\n",
    "    options={'maxiter':100, 'disp':True},\n",
    "    callback=lambda x: plot_fit2d(fig, ax)\n",
    ")"
   ]
  },
  {
   "cell_type": "markdown",
   "metadata": {},
   "source": [
    "# Probabilistic Normalizing Flow"
   ]
  },
  {
   "cell_type": "markdown",
   "metadata": {},
   "source": [
    "Only the combination with gaussian base function is shown. The uniform base function has the disadvantage of not being differentiable (not yet supported)."
   ]
  },
  {
   "cell_type": "markdown",
   "metadata": {},
   "source": [
    "## model"
   ]
  },
  {
   "cell_type": "code",
   "execution_count": null,
   "metadata": {
    "collapsed": false
   },
   "outputs": [],
   "source": [
    "size=2\n",
    "base_model = pm.DiagGauss(size)\n",
    "# CAUTION, this transform cannot be reused elsewhere, as it is merged into normalizing flow\n",
    "# its references point always to the current substitution\n",
    "transform_model = dm.RadialTransform(size, init_alpha=2)"
   ]
  },
  {
   "cell_type": "code",
   "execution_count": null,
   "metadata": {
    "collapsed": false
   },
   "outputs": [],
   "source": [
    "model = pm.NormalizingFlow(transform_model, base_model)\n",
    "m_sampler = model.function()\n",
    "m_sampler()"
   ]
  },
  {
   "cell_type": "markdown",
   "metadata": {},
   "source": [
    "## target"
   ]
  },
  {
   "cell_type": "code",
   "execution_count": null,
   "metadata": {
    "collapsed": true
   },
   "outputs": [],
   "source": [
    "base_target = pm.DiagGauss(init_mean=[5,5], init_var=(10,5))\n",
    "transform_target = dm.RadialTransform(init_z0=[5,5], init_beta=30, init_alpha=3)"
   ]
  },
  {
   "cell_type": "raw",
   "metadata": {},
   "source": [
    "base_target = pm.DiagGauss(init_mean=[5,5], init_var=(80,40))\n",
    "transform_target = dm.RadialTransform(init_z0=[30,10], init_beta=-70, init_alpha=80)"
   ]
  },
  {
   "cell_type": "code",
   "execution_count": null,
   "metadata": {
    "collapsed": false
   },
   "outputs": [],
   "source": [
    "target = pm.NormalizingFlow(transform_target, base_target)\n",
    "t_sampler = target.function()\n",
    "t_sampler()"
   ]
  },
  {
   "cell_type": "code",
   "execution_count": null,
   "metadata": {
    "collapsed": false
   },
   "outputs": [],
   "source": [
    "n_samples = 2000\n",
    "targets = np.array([t_sampler() for _ in xrange(n_samples)])"
   ]
  },
  {
   "cell_type": "markdown",
   "metadata": {},
   "source": [
    "## visualization"
   ]
  },
  {
   "cell_type": "code",
   "execution_count": null,
   "metadata": {
    "collapsed": false
   },
   "outputs": [],
   "source": [
    "scatter_kwargs = dict(edgecolors=\"face\", alpha=0.01, s=5000)\n",
    "outer = dict(i=0)\n",
    "def plot_fit(fig, ax, time_delay=0.1):\n",
    "    outer['i'] += 1\n",
    "    ax.clear()\n",
    "    \n",
    "    # targets\n",
    "    ax.plot(targets[:,0], targets[:,1], 'k.')\n",
    "#     ax.scatter(targets[:,0], targets[:,1], c='k', **scatter_kwargs)\n",
    "    # model\n",
    "    m_samples = np.array([m_sampler() for _ in xrange(n_samples)])\n",
    "    ax.scatter(m_samples[:,0], m_samples[:,1], c='r',**scatter_kwargs)\n",
    "\n",
    "    fig.canvas.draw()\n",
    "    if time_delay is not None:\n",
    "        time.sleep(time_delay)"
   ]
  },
  {
   "cell_type": "code",
   "execution_count": null,
   "metadata": {
    "collapsed": false,
    "scrolled": false
   },
   "outputs": [],
   "source": [
    "fig, ax = plt.subplots()\n",
    "plot_fit(fig, ax)"
   ]
  },
  {
   "cell_type": "markdown",
   "metadata": {},
   "source": [
    "## fit"
   ]
  },
  {
   "cell_type": "code",
   "execution_count": null,
   "metadata": {
    "collapsed": false
   },
   "outputs": [],
   "source": [
    "myoptimizer = opt.ScipyOptimizer(batch)\n",
    "# CAUTION: scipy args needs to be tuple in order to work as expected!\n",
    "myoptimizer.optimize(\n",
    "    model, args=(targets,),\n",
    "#     method='CG',\n",
    "#     method=\"Newton-CG\",\n",
    "#     method=\"Nelder-Mead\",\n",
    "    options={'maxiter':10000, 'disp':True},\n",
    "    callback=lambda x: plot_fit(fig, ax, time_delay=0.001)\n",
    ")"
   ]
  },
  {
   "cell_type": "code",
   "execution_count": null,
   "metadata": {
    "collapsed": false
   },
   "outputs": [],
   "source": [
    "alpha = transform_model.alpha_from_Alpha(transform_model._Alpha.get_value(), module=np)\n",
    "beta = transform_model.beta_from_Beta(alpha, transform_model._Beta.get_value(), module=np)\n",
    "print alpha, beta"
   ]
  },
  {
   "cell_type": "code",
   "execution_count": null,
   "metadata": {
    "collapsed": true
   },
   "outputs": [],
   "source": []
  }
 ],
 "metadata": {
  "kernelspec": {
   "display_name": "Python 2",
   "language": "python",
   "name": "python2"
  },
  "language_info": {
   "codemirror_mode": {
    "name": "ipython",
    "version": 2
   },
   "file_extension": ".py",
   "mimetype": "text/x-python",
   "name": "python",
   "nbconvert_exporter": "python",
   "pygments_lexer": "ipython2",
   "version": "2.7.6"
  },
  "toc": {
   "toc_cell": false,
   "toc_number_sections": true,
   "toc_threshold": 4,
   "toc_window_display": false
  }
 },
 "nbformat": 4,
 "nbformat_minor": 0
}
