{
 "cells": [
  {
   "cell_type": "code",
   "execution_count": 1,
   "metadata": {
    "collapsed": false
   },
   "outputs": [
    {
     "name": "stderr",
     "output_type": "stream",
     "text": [
      "/usr/local/lib/python2.7/dist-packages/matplotlib/font_manager.py:273: UserWarning: Matplotlib is building the font cache using fc-list. This may take a moment.\n",
      "  warnings.warn('Matplotlib is building the font cache using fc-list. This may take a moment.')\n"
     ]
    }
   ],
   "source": [
    "%matplotlib notebook"
   ]
  },
  {
   "cell_type": "code",
   "execution_count": 2,
   "metadata": {
    "collapsed": false
   },
   "outputs": [
    {
     "name": "stdout",
     "output_type": "stream",
     "text": [
      "gnumpy: failed to import cudamat. Using npmat instead. No GPU will be used.\n"
     ]
    }
   ],
   "source": [
    "import numpy as np\n",
    "import matplotlib.pyplot as plt\n",
    "from matplotlib import collections  as mc\n",
    "import time\n",
    "from scipy.optimize import minimize\n",
    "from climin.util import optimizer\n",
    "import theano\n",
    "import theano.tensor as T\n",
    "from itertools import izip, cycle, imap, repeat, islice\n",
    "from pprint import pprint\n",
    "from functools import partial"
   ]
  },
  {
   "cell_type": "code",
   "execution_count": 3,
   "metadata": {
    "collapsed": false
   },
   "outputs": [],
   "source": [
    "from schlichtanders.myfunctools import compose, summap, meanmap\n",
    "from schlichtanders.mygenerators import chunk, every"
   ]
  },
  {
   "cell_type": "code",
   "execution_count": 4,
   "metadata": {
    "collapsed": false
   },
   "outputs": [],
   "source": [
    "from theano_models import Merge, fix_params, normalizing_flow, variational_bayes, Reparameterize, Flatten, check_all_identities\n",
    "from theano_models.tools import as_tensor_variable, softplus, softplus_inv, squareplus, squareplus_inv, L1\n",
    "                           \n",
    "import theano_models.postmaps as post\n",
    "import theano_models.probabilistic_models as pm\n",
    "import theano_models.deterministic_models as dm"
   ]
  },
  {
   "cell_type": "markdown",
   "metadata": {},
   "source": [
    "# Deterministic Model - one dimensional"
   ]
  },
  {
   "cell_type": "markdown",
   "metadata": {},
   "source": [
    "## target"
   ]
  },
  {
   "cell_type": "code",
   "execution_count": null,
   "metadata": {
    "collapsed": false
   },
   "outputs": [],
   "source": [
    "target = dm.RadialTransform(init_alpha=1, init_beta=20, init_z0=[3])"
   ]
  },
  {
   "cell_type": "code",
   "execution_count": null,
   "metadata": {
    "collapsed": false
   },
   "outputs": [],
   "source": [
    "f_target = target.function()\n",
    "example_target = [7]\n",
    "f_target(example_target)  # caution, needs vector not scalar input"
   ]
  },
  {
   "cell_type": "code",
   "execution_count": null,
   "metadata": {
    "collapsed": false
   },
   "outputs": [],
   "source": [
    "N = 40\n",
    "xs = np.linspace(-10, 10, N)[:, np.newaxis]\n",
    "xs[:7]"
   ]
  },
  {
   "cell_type": "code",
   "execution_count": null,
   "metadata": {
    "collapsed": false
   },
   "outputs": [],
   "source": [
    "ys = np.array([f_target(x) for x in xs])\n",
    "ys[:7]"
   ]
  },
  {
   "cell_type": "markdown",
   "metadata": {},
   "source": [
    "## model"
   ]
  },
  {
   "cell_type": "code",
   "execution_count": null,
   "metadata": {
    "collapsed": false
   },
   "outputs": [],
   "source": [
    "model_ = dm.RadialTransform(input=xs[0])\n",
    "model_"
   ]
  },
  {
   "cell_type": "markdown",
   "metadata": {},
   "source": [
    "TODO softplus gives immediate precision loss, while e.g. squarepos works like a charm\n",
    "\n",
    "    # model.map('parameters_positive', reparameterize_map(softplus, softplus_inv), 'parameters')"
   ]
  },
  {
   "cell_type": "code",
   "execution_count": null,
   "metadata": {
    "collapsed": false
   },
   "outputs": [],
   "source": [
    "model = Merge(model_, Reparameterize(model_['parameters_positive'], squareplus, squareplus_inv))\n",
    "model = Merge(model, Flatten(model['parameters']))\n",
    "model"
   ]
  },
  {
   "cell_type": "markdown",
   "metadata": {},
   "source": [
    "## visualization"
   ]
  },
  {
   "cell_type": "code",
   "execution_count": null,
   "metadata": {
    "collapsed": false
   },
   "outputs": [],
   "source": [
    "def plot_fit(fig, ax, givens={}, time_delay=0.1):\n",
    "    ax.clear() # interactive\n",
    "    # target data:\n",
    "    ax.plot(xs, ys, 'k:')\n",
    "    \n",
    "    # model:\n",
    "    f_model = model.function(givens=givens)\n",
    "    model_ys = np.array([f_model(x) for x in xs])\n",
    "    ax.plot(xs, model_ys, 'r')\n",
    "    \n",
    "    fig.canvas.draw()\n",
    "    time.sleep(time_delay)"
   ]
  },
  {
   "cell_type": "code",
   "execution_count": null,
   "metadata": {
    "collapsed": false
   },
   "outputs": [],
   "source": [
    "fig, ax = plt.subplots()\n",
    "plot_fit(fig, ax)"
   ]
  },
  {
   "cell_type": "markdown",
   "metadata": {},
   "source": [
    "## fit"
   ]
  },
  {
   "cell_type": "code",
   "execution_count": null,
   "metadata": {
    "collapsed": false
   },
   "outputs": [],
   "source": [
    "postmap = compose(post.scipy_postmap, post.flat_numericalize_postmap, post.deterministic_optimizer_postmap)\n",
    "scipy_kwargs = postmap(model, mapreduce=summap)\n",
    "scipy_kwargs"
   ]
  },
  {
   "cell_type": "code",
   "execution_count": null,
   "metadata": {
    "collapsed": false
   },
   "outputs": [],
   "source": [
    "fit = minimize(\n",
    "    args=(ys,xs),\n",
    "#     method=\"CG\",\n",
    "    method=\"Newton-CG\",\n",
    "    options={'maxiter':100, 'disp':True},\n",
    "    callback=lambda params: plot_fit(fig, ax, {model['flat']:params}),\n",
    "    **scipy_kwargs\n",
    "); fit"
   ]
  },
  {
   "cell_type": "markdown",
   "metadata": {},
   "source": [
    "Fix fitted parameters into model.\n",
    "\n",
    "We need to further build a givens dictionary supply the input-info which usually is given when used as theano.function(model['inputs'], model['outputs'])."
   ]
  },
  {
   "cell_type": "code",
   "execution_count": null,
   "metadata": {
    "collapsed": false
   },
   "outputs": [],
   "source": [
    "fit.x"
   ]
  },
  {
   "cell_type": "code",
   "execution_count": null,
   "metadata": {
    "collapsed": false
   },
   "outputs": [],
   "source": [
    "model['flat'] = fit.x"
   ]
  },
  {
   "cell_type": "code",
   "execution_count": null,
   "metadata": {
    "collapsed": false
   },
   "outputs": [],
   "source": [
    "[(p.name, p.eval()) for p in model_['parameters_positive']]"
   ]
  },
  {
   "cell_type": "code",
   "execution_count": null,
   "metadata": {
    "collapsed": false
   },
   "outputs": [],
   "source": [
    "[(p.name, p.eval()) for p in model_['parameters']]"
   ]
  },
  {
   "cell_type": "markdown",
   "metadata": {},
   "source": [
    "# two dimensions"
   ]
  },
  {
   "cell_type": "markdown",
   "metadata": {},
   "source": [
    "## target"
   ]
  },
  {
   "cell_type": "code",
   "execution_count": null,
   "metadata": {
    "collapsed": true
   },
   "outputs": [],
   "source": [
    "target2d = dm.RadialTransform(init_alpha=1, init_beta=5, init_z0=[3, 1])\n",
    "# target2d = dm.RadialTransform(init_alpha=50, init_beta=-40, init_z0=[3, 1])"
   ]
  },
  {
   "cell_type": "code",
   "execution_count": null,
   "metadata": {
    "collapsed": false
   },
   "outputs": [],
   "source": [
    "f_target2d = target2d.function()\n",
    "example_target2d = [7, 4]\n",
    "f_target2d(example_target2d)  # caution, needs vector not scalar input"
   ]
  },
  {
   "cell_type": "code",
   "execution_count": null,
   "metadata": {
    "collapsed": false
   },
   "outputs": [],
   "source": [
    "N2d = 10\n",
    "_xs = np.linspace(-10, 10, N2d)\n",
    "X1, X2 = np.meshgrid(_xs, _xs)\n",
    "xs2d = np.c_[X1.flat, X2.flat]\n",
    "xs2d[:5]"
   ]
  },
  {
   "cell_type": "code",
   "execution_count": null,
   "metadata": {
    "collapsed": false
   },
   "outputs": [],
   "source": [
    "ys2d = np.array([f_target2d(x) for x in xs2d])\n",
    "ys2d[:5]"
   ]
  },
  {
   "cell_type": "markdown",
   "metadata": {},
   "source": [
    "## model"
   ]
  },
  {
   "cell_type": "code",
   "execution_count": null,
   "metadata": {
    "collapsed": false
   },
   "outputs": [],
   "source": [
    "model2d = dm.RadialTransform(input=xs2d[0])\n",
    "model2d"
   ]
  },
  {
   "cell_type": "code",
   "execution_count": null,
   "metadata": {
    "collapsed": false
   },
   "outputs": [],
   "source": [
    "model2d = Merge(model2d, Reparameterize(model2d['parameters_positive'], squareplus, squareplus_inv))\n",
    "model2d = Merge(model2d, Flatten(model2d['parameters']))\n",
    "model2d"
   ]
  },
  {
   "cell_type": "markdown",
   "metadata": {},
   "source": [
    "## visualization"
   ]
  },
  {
   "cell_type": "code",
   "execution_count": null,
   "metadata": {
    "collapsed": false
   },
   "outputs": [],
   "source": [
    "diff2d = ys2d - xs2d\n",
    "quiver_kwargs = dict(scale=1, angles='xy', scale_units='xy', width=0.003)\n",
    "\n",
    "def plot_fit2d(fig, ax, givens={}, time_delay=0.1, expand_factor=0.4):\n",
    "    ax.clear()\n",
    "    \n",
    "    # target data:\n",
    "    ax.quiver(xs2d[:,0], xs2d[:,1], diff2d[:,0], diff2d[:,1], hatch='***', facecolor='none', color=\"k\", **quiver_kwargs)\n",
    "    \n",
    "    # model:\n",
    "    f_model2d = model2d.function(givens=givens)\n",
    "    m_ys2d = np.array([f_model2d(x) for x in xs2d])\n",
    "    m_diff2d = m_ys2d - xs2d\n",
    "    ax.quiver(xs2d[:,0], xs2d[:,1], m_diff2d[:,0], m_diff2d[:,1], color=\"r\", **quiver_kwargs)\n",
    "\n",
    "    # ax.autoscale()  # does not work with arrows, do it manually:\n",
    "    l, r, b, t = ax.axis()\n",
    "    dx, dy = r - l, t - b\n",
    "    ax.axis([l - expand_factor * dx, r + expand_factor * dx, b - expand_factor * dy, t + expand_factor * dy])\n",
    "    \n",
    "    fig.canvas.draw()\n",
    "    time.sleep(time_delay)"
   ]
  },
  {
   "cell_type": "code",
   "execution_count": null,
   "metadata": {
    "collapsed": false
   },
   "outputs": [],
   "source": [
    "fig, ax = plt.subplots()\n",
    "plot_fit2d(fig, ax)"
   ]
  },
  {
   "cell_type": "markdown",
   "metadata": {},
   "source": [
    "## fit"
   ]
  },
  {
   "cell_type": "code",
   "execution_count": null,
   "metadata": {
    "collapsed": false
   },
   "outputs": [],
   "source": [
    "postmap = compose(post.scipy_postmap, post.flat_numericalize_postmap, post.deterministic_optimizer_postmap)\n",
    "scipy_kwargs2d = postmap(model2d, mapreduce=summap)\n",
    "scipy_kwargs2d"
   ]
  },
  {
   "cell_type": "code",
   "execution_count": null,
   "metadata": {
    "collapsed": false
   },
   "outputs": [],
   "source": [
    "fit = minimize(\n",
    "    args=(ys2d,xs2d),\n",
    "#     method=\"CG\",\n",
    "    method=\"Newton-CG\",\n",
    "    options={'maxiter':100, 'disp':True},\n",
    "    callback=lambda params: plot_fit2d(fig, ax, {model2d['flat']:params}),\n",
    "    **scipy_kwargs2d\n",
    "); fit"
   ]
  },
  {
   "cell_type": "markdown",
   "metadata": {},
   "source": [
    "# Probabilistic Normalizing Flow"
   ]
  },
  {
   "cell_type": "markdown",
   "metadata": {},
   "source": [
    "Only the combination with gaussian base function is shown. The uniform base function has the disadvantage of not being differentiable (not yet supported)."
   ]
  },
  {
   "cell_type": "markdown",
   "metadata": {},
   "source": [
    "## model"
   ]
  },
  {
   "cell_type": "code",
   "execution_count": null,
   "metadata": {
    "collapsed": false
   },
   "outputs": [],
   "source": [
    "base_model = pm.DiagGauss(output_size=2)\n",
    "# CAUTION, this transform cannot be reused elsewhere, as it is merged into normalizing flow\n",
    "# its references point always to the current substitution\n",
    "transform_model = dm.RadialTransform()"
   ]
  },
  {
   "cell_type": "code",
   "execution_count": null,
   "metadata": {
    "collapsed": false
   },
   "outputs": [],
   "source": [
    "model = normalizing_flow(transform_model, base_model)\n",
    "model"
   ]
  },
  {
   "cell_type": "code",
   "execution_count": null,
   "metadata": {
    "collapsed": false
   },
   "outputs": [],
   "source": [
    "# model.map('parameters_positive',reparameterize_map(squareplus, squareplus_inv), 'parameters')\n",
    "model = Merge(model, Reparameterize(model['parameters_positive'],softplus, softplus_inv))\n",
    "model = Merge(model,Flatten(model['parameters']))\n",
    "model"
   ]
  },
  {
   "cell_type": "markdown",
   "metadata": {},
   "source": [
    "## target"
   ]
  },
  {
   "cell_type": "code",
   "execution_count": null,
   "metadata": {
    "collapsed": true
   },
   "outputs": [],
   "source": [
    "base_target = pm.DiagGauss(init_mean=[5,5], init_var=(10,5))\n",
    "transform_target = dm.RadialTransform(init_z0=[5,5], init_beta=30, init_alpha=3)"
   ]
  },
  {
   "cell_type": "raw",
   "metadata": {},
   "source": [
    "base_target = pm.DiagGauss(init_mean=[5,5], init_var=(80,40))\n",
    "transform_target = dm.RadialTransform(init_z0=[30,10], init_beta=-70, init_alpha=80)"
   ]
  },
  {
   "cell_type": "code",
   "execution_count": null,
   "metadata": {
    "collapsed": false
   },
   "outputs": [],
   "source": [
    "target = normalizing_flow(transform_target, base_target)\n",
    "t_sampler = target.function()\n",
    "t_sampler()"
   ]
  },
  {
   "cell_type": "code",
   "execution_count": null,
   "metadata": {
    "collapsed": false
   },
   "outputs": [],
   "source": [
    "n_samples = 2000\n",
    "targets = np.array([t_sampler() for _ in xrange(n_samples)])"
   ]
  },
  {
   "cell_type": "markdown",
   "metadata": {},
   "source": [
    "## visualization"
   ]
  },
  {
   "cell_type": "code",
   "execution_count": null,
   "metadata": {
    "collapsed": false
   },
   "outputs": [],
   "source": [
    "scatter_kwargs = dict(edgecolors=\"face\", alpha=0.01, s=5000)\n",
    "outer = dict(i=0)\n",
    "def plot_fit(fig, ax, givens={}, time_delay=0.1):\n",
    "    outer['i'] += 1\n",
    "    ax.clear()\n",
    "    \n",
    "    # targets\n",
    "    ax.plot(targets[:,0], targets[:,1], 'k.')\n",
    "#     ax.scatter(targets[:,0], targets[:,1], c='k', **scatter_kwargs)\n",
    "\n",
    "    # model\n",
    "    m_sampler = model.function(givens=givens)\n",
    "    m_samples = np.array([m_sampler() for _ in xrange(n_samples)])\n",
    "    ax.scatter(m_samples[:,0], m_samples[:,1], c='r',**scatter_kwargs)\n",
    "\n",
    "    fig.canvas.draw()\n",
    "    if time_delay is not None:\n",
    "        time.sleep(time_delay)"
   ]
  },
  {
   "cell_type": "code",
   "execution_count": null,
   "metadata": {
    "collapsed": false,
    "scrolled": false
   },
   "outputs": [],
   "source": [
    "fig, ax = plt.subplots()\n",
    "plot_fit(fig, ax)"
   ]
  },
  {
   "cell_type": "markdown",
   "metadata": {},
   "source": [
    "## fit"
   ]
  },
  {
   "cell_type": "code",
   "execution_count": null,
   "metadata": {
    "collapsed": false
   },
   "outputs": [],
   "source": [
    "postmap = compose(post.scipy_postmap, post.flat_numericalize_postmap, post.probabilistic_optimizer_postmap)\n",
    "scipy_kwargs = postmap(model, mapreduce=meanmap)\n",
    "scipy_kwargs"
   ]
  },
  {
   "cell_type": "code",
   "execution_count": null,
   "metadata": {
    "collapsed": false
   },
   "outputs": [],
   "source": [
    "fit = minimize(\n",
    "    args=(targets,),\n",
    "#     method='CG',\n",
    "#     method=\"Newton-CG\",\n",
    "#     method=\"Nelder-Mead\",\n",
    "    options={'maxiter':1000, 'disp':True},\n",
    "    callback=lambda params: plot_fit(fig, ax, {model['flat']:params}, time_delay=None),\n",
    "    **scipy_kwargs\n",
    "); fit"
   ]
  },
  {
   "cell_type": "markdown",
   "metadata": {
    "collapsed": true
   },
   "source": [
    "Using the default scipy optimizer, one can see very good, that the problem is ill-defined in that the maximum likelihood solution is a ill-formed solution."
   ]
  },
  {
   "cell_type": "markdown",
   "metadata": {},
   "source": [
    "# adding regularizer"
   ]
  },
  {
   "cell_type": "code",
   "execution_count": null,
   "metadata": {
    "collapsed": false
   },
   "outputs": [],
   "source": [
    "postmap = compose(post.scipy_postmap,post.flat_numericalize_postmap, post.regularizer_postmap,\n",
    "                  post.probabilistic_optimizer_postmap)\n",
    "scipy_kwargs = postmap(model, mapreduce=meanmap, regularizer_scalar=0.1) #, 'regularizer_norm': L1\n",
    "scipy_kwargs"
   ]
  },
  {
   "cell_type": "code",
   "execution_count": null,
   "metadata": {
    "collapsed": false
   },
   "outputs": [],
   "source": [
    "fit = minimize(\n",
    "    args=(targets,),\n",
    "#     method='CG',\n",
    "#     method=\"Newton-CG\",\n",
    "#     method=\"Nelder-Mead\",\n",
    "    options={'maxiter':1000, 'disp':True},\n",
    "    callback=lambda params: plot_fit(fig, ax, {model['flat']:params}, time_delay=0.001),\n",
    "    **scipy_kwargs\n",
    "); fit"
   ]
  },
  {
   "cell_type": "code",
   "execution_count": null,
   "metadata": {
    "collapsed": false
   },
   "outputs": [],
   "source": [
    "model['flat']"
   ]
  },
  {
   "cell_type": "code",
   "execution_count": null,
   "metadata": {
    "collapsed": false
   },
   "outputs": [],
   "source": [
    "givens = {model['parameters_flat'][0]:fit.x}\n",
    "print transform_model.beta.eval(givens)\n",
    "pprint({m.name: m.eval(givens) for m in model['parameters'] + model['parameters_positive']})"
   ]
  },
  {
   "cell_type": "markdown",
   "metadata": {
    "collapsed": true
   },
   "source": [
    "# variational inference"
   ]
  },
  {
   "cell_type": "markdown",
   "metadata": {},
   "source": [
    "## Model"
   ]
  },
  {
   "cell_type": "code",
   "execution_count": 5,
   "metadata": {
    "collapsed": false
   },
   "outputs": [
    {
     "data": {
      "text/plain": [
       "Merge { 'inputs': [],\n",
       "  'logP': <FunctionWrapper at 0x7fba45aae7c0 for function at 0x7fba45ab8578>,\n",
       "  'outputs': GaussianNoise.outputs,\n",
       "  'parameters': [mean],\n",
       "  'parameters_positive': []}"
      ]
     },
     "execution_count": 5,
     "metadata": {},
     "output_type": "execute_result"
    }
   ],
   "source": [
    "data_model = pm.Gauss(2, init_var=np.exp(-2))\n",
    "data_model = Merge(data_model, parameters_positive=None) # fix outer variance\n",
    "data_model"
   ]
  },
  {
   "cell_type": "code",
   "execution_count": 6,
   "metadata": {
    "collapsed": false
   },
   "outputs": [
    {
     "data": {
      "text/plain": [
       "normalized_flow { 'inputs': [],\n",
       "  'logP': <FunctionWrapper at 0x7fba45af12f0 for function at 0x7fba459fe8c0>,\n",
       "  'norm_det': RadialTransform.norm_det,\n",
       "  'outputs': RadialTransform.outputs,\n",
       "  'parameters': [z0, mean2],\n",
       "  'parameters_positive': [alpha, beta+alpha, var2]}"
      ]
     },
     "execution_count": 6,
     "metadata": {},
     "output_type": "execute_result"
    }
   ],
   "source": [
    "param_model_base = pm.DiagGauss(2)\n",
    "param_model_normflows = [dm.RadialTransform()]\n",
    "\n",
    "param_model = param_model_base\n",
    "for transform in param_model_normflows:\n",
    "    param_model = normalizing_flow(transform, param_model)  # returns Merge\n",
    "param_model"
   ]
  },
  {
   "cell_type": "code",
   "execution_count": 7,
   "metadata": {
    "collapsed": false
   },
   "outputs": [
    {
     "data": {
      "text/plain": [
       "Gauss2_fixed { 'inputs': [],\n",
       "  'logP': <FunctionWrapper at 0x7fba45a43d70 for function at 0x7fba45a1a578>,\n",
       "  'outputs': GaussianNoise2.outputs,\n",
       "  'parameters': [],\n",
       "  'parameters_positive': []}"
      ]
     },
     "execution_count": 7,
     "metadata": {},
     "output_type": "execute_result"
    }
   ],
   "source": [
    "prior = fix_params(pm.Gauss(2, init_var=np.exp(1)))\n",
    "prior"
   ]
  },
  {
   "cell_type": "code",
   "execution_count": 8,
   "metadata": {
    "collapsed": false,
    "scrolled": true
   },
   "outputs": [
    {
     "data": {
      "text/plain": [
       "Merge3 { 'flat': \"z0:mean2:alpha_softplus:beta+alpha_softplus:var2_softplus\",\n",
       "  'inputs': [],\n",
       "  'kl_prior': variational_lower_bound.kl_prior,\n",
       "  'logP': <FunctionWrapper at 0x7fba45a43de0 for function at 0x7fba459bec80>,\n",
       "  'loglikelihood': <FunctionWrapper at 0x7fba45aae7c0 for function at 0x7fba45ab8578>,\n",
       "  'logposterior': variational_lower_bound.logposterior,\n",
       "  'logprior': variational_lower_bound.logprior,\n",
       "  'n_data': n_data,\n",
       "  'norm_det': RadialTransform.norm_det,\n",
       "  'outputs': GaussianNoise.outputs,\n",
       "  'parameters': [],\n",
       "  'parameters_positive': []}"
      ]
     },
     "execution_count": 8,
     "metadata": {},
     "output_type": "execute_result"
    }
   ],
   "source": [
    "model = variational_bayes(data_model, 'parameters', param_model, priors=prior)\n",
    "\n",
    "# model = Merge(model, Reparameterize(model['parameters_positive'], squareplus, squareplus_inv))\n",
    "# UncertainWeights uses softplus parameterization\n",
    "model = Merge(model, Reparameterize(model['parameters_positive'], softplus, softplus_inv))\n",
    "model = Merge(model, Flatten(model['parameters']))\n",
    "model"
   ]
  },
  {
   "cell_type": "markdown",
   "metadata": {},
   "source": [
    "## target"
   ]
  },
  {
   "cell_type": "code",
   "execution_count": 9,
   "metadata": {
    "collapsed": true
   },
   "outputs": [],
   "source": [
    "base_target = pm.DiagGauss(init_mean=[5,5], init_var=(10,5))\n",
    "target_normflows = [dm.RadialTransform(init_z0=[5,5], init_beta=30, init_alpha=3)]"
   ]
  },
  {
   "cell_type": "raw",
   "metadata": {},
   "source": [
    "target = normalizing_flow(target_normflows[0], base_target)"
   ]
  },
  {
   "cell_type": "code",
   "execution_count": 10,
   "metadata": {
    "collapsed": false
   },
   "outputs": [
    {
     "data": {
      "text/plain": [
       "normalized_flow2 { 'inputs': [],\n",
       "  'logP': <FunctionWrapper at 0x7fba4595e4b0 for function at 0x7fba3f6a0b90>,\n",
       "  'norm_det': RadialTransform2.norm_det,\n",
       "  'outputs': RadialTransform2.outputs,\n",
       "  'parameters': [z02, mean4],\n",
       "  'parameters_positive': [alpha2, beta+alpha2, var4]}"
      ]
     },
     "execution_count": 10,
     "metadata": {},
     "output_type": "execute_result"
    }
   ],
   "source": [
    "target = base_target\n",
    "for transform in target_normflows:\n",
    "    target = normalizing_flow(transform, target)  # returns Merge\n",
    "target"
   ]
  },
  {
   "cell_type": "code",
   "execution_count": 11,
   "metadata": {
    "collapsed": false
   },
   "outputs": [],
   "source": [
    "t_sampler = target.function()\n",
    "n_samples = 2000\n",
    "targets = np.array([t_sampler() for _ in xrange(n_samples)])\n",
    "validation = np.array([t_sampler() for _ in xrange(1000)])"
   ]
  },
  {
   "cell_type": "markdown",
   "metadata": {},
   "source": [
    "## Fit Visualization"
   ]
  },
  {
   "cell_type": "code",
   "execution_count": 12,
   "metadata": {
    "collapsed": true
   },
   "outputs": [],
   "source": [
    "scatter_kwargs = dict(edgecolors=\"face\", alpha=0.01, s=5000)\n",
    "outer = dict(i=0)\n",
    "def plot_fit(fig, ax, givens={}, time_delay=0.1):\n",
    "    outer['i'] += 1\n",
    "    ax.clear()\n",
    "    \n",
    "    # targets\n",
    "    ax.plot(targets[:,0], targets[:,1], 'k.')\n",
    "#     ax.scatter(targets[:,0], targets[:,1], c='k', **scatter_kwargs)\n",
    "\n",
    "    # model\n",
    "    m_sampler = model.function(givens=givens)\n",
    "    m_samples = np.array([m_sampler() for _ in xrange(n_samples)])\n",
    "    ax.scatter(m_samples[:,0], m_samples[:,1], c='r',**scatter_kwargs)\n",
    "\n",
    "    fig.canvas.draw()\n",
    "    if time_delay is not None:\n",
    "        time.sleep(time_delay)"
   ]
  },
  {
   "cell_type": "code",
   "execution_count": 13,
   "metadata": {
    "collapsed": false
   },
   "outputs": [
    {
     "data": {
      "application/javascript": [
       "/* Put everything inside the global mpl namespace */\n",
       "window.mpl = {};\n",
       "\n",
       "mpl.get_websocket_type = function() {\n",
       "    if (typeof(WebSocket) !== 'undefined') {\n",
       "        return WebSocket;\n",
       "    } else if (typeof(MozWebSocket) !== 'undefined') {\n",
       "        return MozWebSocket;\n",
       "    } else {\n",
       "        alert('Your browser does not have WebSocket support.' +\n",
       "              'Please try Chrome, Safari or Firefox ≥ 6. ' +\n",
       "              'Firefox 4 and 5 are also supported but you ' +\n",
       "              'have to enable WebSockets in about:config.');\n",
       "    };\n",
       "}\n",
       "\n",
       "mpl.figure = function(figure_id, websocket, ondownload, parent_element) {\n",
       "    this.id = figure_id;\n",
       "\n",
       "    this.ws = websocket;\n",
       "\n",
       "    this.supports_binary = (this.ws.binaryType != undefined);\n",
       "\n",
       "    if (!this.supports_binary) {\n",
       "        var warnings = document.getElementById(\"mpl-warnings\");\n",
       "        if (warnings) {\n",
       "            warnings.style.display = 'block';\n",
       "            warnings.textContent = (\n",
       "                \"This browser does not support binary websocket messages. \" +\n",
       "                    \"Performance may be slow.\");\n",
       "        }\n",
       "    }\n",
       "\n",
       "    this.imageObj = new Image();\n",
       "\n",
       "    this.context = undefined;\n",
       "    this.message = undefined;\n",
       "    this.canvas = undefined;\n",
       "    this.rubberband_canvas = undefined;\n",
       "    this.rubberband_context = undefined;\n",
       "    this.format_dropdown = undefined;\n",
       "\n",
       "    this.image_mode = 'full';\n",
       "\n",
       "    this.root = $('<div/>');\n",
       "    this._root_extra_style(this.root)\n",
       "    this.root.attr('style', 'display: inline-block');\n",
       "\n",
       "    $(parent_element).append(this.root);\n",
       "\n",
       "    this._init_header(this);\n",
       "    this._init_canvas(this);\n",
       "    this._init_toolbar(this);\n",
       "\n",
       "    var fig = this;\n",
       "\n",
       "    this.waiting = false;\n",
       "\n",
       "    this.ws.onopen =  function () {\n",
       "            fig.send_message(\"supports_binary\", {value: fig.supports_binary});\n",
       "            fig.send_message(\"send_image_mode\", {});\n",
       "            fig.send_message(\"refresh\", {});\n",
       "        }\n",
       "\n",
       "    this.imageObj.onload = function() {\n",
       "            if (fig.image_mode == 'full') {\n",
       "                // Full images could contain transparency (where diff images\n",
       "                // almost always do), so we need to clear the canvas so that\n",
       "                // there is no ghosting.\n",
       "                fig.context.clearRect(0, 0, fig.canvas.width, fig.canvas.height);\n",
       "            }\n",
       "            fig.context.drawImage(fig.imageObj, 0, 0);\n",
       "        };\n",
       "\n",
       "    this.imageObj.onunload = function() {\n",
       "        this.ws.close();\n",
       "    }\n",
       "\n",
       "    this.ws.onmessage = this._make_on_message_function(this);\n",
       "\n",
       "    this.ondownload = ondownload;\n",
       "}\n",
       "\n",
       "mpl.figure.prototype._init_header = function() {\n",
       "    var titlebar = $(\n",
       "        '<div class=\"ui-dialog-titlebar ui-widget-header ui-corner-all ' +\n",
       "        'ui-helper-clearfix\"/>');\n",
       "    var titletext = $(\n",
       "        '<div class=\"ui-dialog-title\" style=\"width: 100%; ' +\n",
       "        'text-align: center; padding: 3px;\"/>');\n",
       "    titlebar.append(titletext)\n",
       "    this.root.append(titlebar);\n",
       "    this.header = titletext[0];\n",
       "}\n",
       "\n",
       "\n",
       "\n",
       "mpl.figure.prototype._canvas_extra_style = function(canvas_div) {\n",
       "\n",
       "}\n",
       "\n",
       "\n",
       "mpl.figure.prototype._root_extra_style = function(canvas_div) {\n",
       "\n",
       "}\n",
       "\n",
       "mpl.figure.prototype._init_canvas = function() {\n",
       "    var fig = this;\n",
       "\n",
       "    var canvas_div = $('<div/>');\n",
       "\n",
       "    canvas_div.attr('style', 'position: relative; clear: both; outline: 0');\n",
       "\n",
       "    function canvas_keyboard_event(event) {\n",
       "        return fig.key_event(event, event['data']);\n",
       "    }\n",
       "\n",
       "    canvas_div.keydown('key_press', canvas_keyboard_event);\n",
       "    canvas_div.keyup('key_release', canvas_keyboard_event);\n",
       "    this.canvas_div = canvas_div\n",
       "    this._canvas_extra_style(canvas_div)\n",
       "    this.root.append(canvas_div);\n",
       "\n",
       "    var canvas = $('<canvas/>');\n",
       "    canvas.addClass('mpl-canvas');\n",
       "    canvas.attr('style', \"left: 0; top: 0; z-index: 0; outline: 0\")\n",
       "\n",
       "    this.canvas = canvas[0];\n",
       "    this.context = canvas[0].getContext(\"2d\");\n",
       "\n",
       "    var rubberband = $('<canvas/>');\n",
       "    rubberband.attr('style', \"position: absolute; left: 0; top: 0; z-index: 1;\")\n",
       "\n",
       "    var pass_mouse_events = true;\n",
       "\n",
       "    canvas_div.resizable({\n",
       "        start: function(event, ui) {\n",
       "            pass_mouse_events = false;\n",
       "        },\n",
       "        resize: function(event, ui) {\n",
       "            fig.request_resize(ui.size.width, ui.size.height);\n",
       "        },\n",
       "        stop: function(event, ui) {\n",
       "            pass_mouse_events = true;\n",
       "            fig.request_resize(ui.size.width, ui.size.height);\n",
       "        },\n",
       "    });\n",
       "\n",
       "    function mouse_event_fn(event) {\n",
       "        if (pass_mouse_events)\n",
       "            return fig.mouse_event(event, event['data']);\n",
       "    }\n",
       "\n",
       "    rubberband.mousedown('button_press', mouse_event_fn);\n",
       "    rubberband.mouseup('button_release', mouse_event_fn);\n",
       "    // Throttle sequential mouse events to 1 every 20ms.\n",
       "    rubberband.mousemove('motion_notify', mouse_event_fn);\n",
       "\n",
       "    rubberband.mouseenter('figure_enter', mouse_event_fn);\n",
       "    rubberband.mouseleave('figure_leave', mouse_event_fn);\n",
       "\n",
       "    canvas_div.on(\"wheel\", function (event) {\n",
       "        event = event.originalEvent;\n",
       "        event['data'] = 'scroll'\n",
       "        if (event.deltaY < 0) {\n",
       "            event.step = 1;\n",
       "        } else {\n",
       "            event.step = -1;\n",
       "        }\n",
       "        mouse_event_fn(event);\n",
       "    });\n",
       "\n",
       "    canvas_div.append(canvas);\n",
       "    canvas_div.append(rubberband);\n",
       "\n",
       "    this.rubberband = rubberband;\n",
       "    this.rubberband_canvas = rubberband[0];\n",
       "    this.rubberband_context = rubberband[0].getContext(\"2d\");\n",
       "    this.rubberband_context.strokeStyle = \"#000000\";\n",
       "\n",
       "    this._resize_canvas = function(width, height) {\n",
       "        // Keep the size of the canvas, canvas container, and rubber band\n",
       "        // canvas in synch.\n",
       "        canvas_div.css('width', width)\n",
       "        canvas_div.css('height', height)\n",
       "\n",
       "        canvas.attr('width', width);\n",
       "        canvas.attr('height', height);\n",
       "\n",
       "        rubberband.attr('width', width);\n",
       "        rubberband.attr('height', height);\n",
       "    }\n",
       "\n",
       "    // Set the figure to an initial 600x600px, this will subsequently be updated\n",
       "    // upon first draw.\n",
       "    this._resize_canvas(600, 600);\n",
       "\n",
       "    // Disable right mouse context menu.\n",
       "    $(this.rubberband_canvas).bind(\"contextmenu\",function(e){\n",
       "        return false;\n",
       "    });\n",
       "\n",
       "    function set_focus () {\n",
       "        canvas.focus();\n",
       "        canvas_div.focus();\n",
       "    }\n",
       "\n",
       "    window.setTimeout(set_focus, 100);\n",
       "}\n",
       "\n",
       "mpl.figure.prototype._init_toolbar = function() {\n",
       "    var fig = this;\n",
       "\n",
       "    var nav_element = $('<div/>')\n",
       "    nav_element.attr('style', 'width: 100%');\n",
       "    this.root.append(nav_element);\n",
       "\n",
       "    // Define a callback function for later on.\n",
       "    function toolbar_event(event) {\n",
       "        return fig.toolbar_button_onclick(event['data']);\n",
       "    }\n",
       "    function toolbar_mouse_event(event) {\n",
       "        return fig.toolbar_button_onmouseover(event['data']);\n",
       "    }\n",
       "\n",
       "    for(var toolbar_ind in mpl.toolbar_items) {\n",
       "        var name = mpl.toolbar_items[toolbar_ind][0];\n",
       "        var tooltip = mpl.toolbar_items[toolbar_ind][1];\n",
       "        var image = mpl.toolbar_items[toolbar_ind][2];\n",
       "        var method_name = mpl.toolbar_items[toolbar_ind][3];\n",
       "\n",
       "        if (!name) {\n",
       "            // put a spacer in here.\n",
       "            continue;\n",
       "        }\n",
       "        var button = $('<button/>');\n",
       "        button.addClass('ui-button ui-widget ui-state-default ui-corner-all ' +\n",
       "                        'ui-button-icon-only');\n",
       "        button.attr('role', 'button');\n",
       "        button.attr('aria-disabled', 'false');\n",
       "        button.click(method_name, toolbar_event);\n",
       "        button.mouseover(tooltip, toolbar_mouse_event);\n",
       "\n",
       "        var icon_img = $('<span/>');\n",
       "        icon_img.addClass('ui-button-icon-primary ui-icon');\n",
       "        icon_img.addClass(image);\n",
       "        icon_img.addClass('ui-corner-all');\n",
       "\n",
       "        var tooltip_span = $('<span/>');\n",
       "        tooltip_span.addClass('ui-button-text');\n",
       "        tooltip_span.html(tooltip);\n",
       "\n",
       "        button.append(icon_img);\n",
       "        button.append(tooltip_span);\n",
       "\n",
       "        nav_element.append(button);\n",
       "    }\n",
       "\n",
       "    var fmt_picker_span = $('<span/>');\n",
       "\n",
       "    var fmt_picker = $('<select/>');\n",
       "    fmt_picker.addClass('mpl-toolbar-option ui-widget ui-widget-content');\n",
       "    fmt_picker_span.append(fmt_picker);\n",
       "    nav_element.append(fmt_picker_span);\n",
       "    this.format_dropdown = fmt_picker[0];\n",
       "\n",
       "    for (var ind in mpl.extensions) {\n",
       "        var fmt = mpl.extensions[ind];\n",
       "        var option = $(\n",
       "            '<option/>', {selected: fmt === mpl.default_extension}).html(fmt);\n",
       "        fmt_picker.append(option)\n",
       "    }\n",
       "\n",
       "    // Add hover states to the ui-buttons\n",
       "    $( \".ui-button\" ).hover(\n",
       "        function() { $(this).addClass(\"ui-state-hover\");},\n",
       "        function() { $(this).removeClass(\"ui-state-hover\");}\n",
       "    );\n",
       "\n",
       "    var status_bar = $('<span class=\"mpl-message\"/>');\n",
       "    nav_element.append(status_bar);\n",
       "    this.message = status_bar[0];\n",
       "}\n",
       "\n",
       "mpl.figure.prototype.request_resize = function(x_pixels, y_pixels) {\n",
       "    // Request matplotlib to resize the figure. Matplotlib will then trigger a resize in the client,\n",
       "    // which will in turn request a refresh of the image.\n",
       "    this.send_message('resize', {'width': x_pixels, 'height': y_pixels});\n",
       "}\n",
       "\n",
       "mpl.figure.prototype.send_message = function(type, properties) {\n",
       "    properties['type'] = type;\n",
       "    properties['figure_id'] = this.id;\n",
       "    this.ws.send(JSON.stringify(properties));\n",
       "}\n",
       "\n",
       "mpl.figure.prototype.send_draw_message = function() {\n",
       "    if (!this.waiting) {\n",
       "        this.waiting = true;\n",
       "        this.ws.send(JSON.stringify({type: \"draw\", figure_id: this.id}));\n",
       "    }\n",
       "}\n",
       "\n",
       "\n",
       "mpl.figure.prototype.handle_save = function(fig, msg) {\n",
       "    var format_dropdown = fig.format_dropdown;\n",
       "    var format = format_dropdown.options[format_dropdown.selectedIndex].value;\n",
       "    fig.ondownload(fig, format);\n",
       "}\n",
       "\n",
       "\n",
       "mpl.figure.prototype.handle_resize = function(fig, msg) {\n",
       "    var size = msg['size'];\n",
       "    if (size[0] != fig.canvas.width || size[1] != fig.canvas.height) {\n",
       "        fig._resize_canvas(size[0], size[1]);\n",
       "        fig.send_message(\"refresh\", {});\n",
       "    };\n",
       "}\n",
       "\n",
       "mpl.figure.prototype.handle_rubberband = function(fig, msg) {\n",
       "    var x0 = msg['x0'];\n",
       "    var y0 = fig.canvas.height - msg['y0'];\n",
       "    var x1 = msg['x1'];\n",
       "    var y1 = fig.canvas.height - msg['y1'];\n",
       "    x0 = Math.floor(x0) + 0.5;\n",
       "    y0 = Math.floor(y0) + 0.5;\n",
       "    x1 = Math.floor(x1) + 0.5;\n",
       "    y1 = Math.floor(y1) + 0.5;\n",
       "    var min_x = Math.min(x0, x1);\n",
       "    var min_y = Math.min(y0, y1);\n",
       "    var width = Math.abs(x1 - x0);\n",
       "    var height = Math.abs(y1 - y0);\n",
       "\n",
       "    fig.rubberband_context.clearRect(\n",
       "        0, 0, fig.canvas.width, fig.canvas.height);\n",
       "\n",
       "    fig.rubberband_context.strokeRect(min_x, min_y, width, height);\n",
       "}\n",
       "\n",
       "mpl.figure.prototype.handle_figure_label = function(fig, msg) {\n",
       "    // Updates the figure title.\n",
       "    fig.header.textContent = msg['label'];\n",
       "}\n",
       "\n",
       "mpl.figure.prototype.handle_cursor = function(fig, msg) {\n",
       "    var cursor = msg['cursor'];\n",
       "    switch(cursor)\n",
       "    {\n",
       "    case 0:\n",
       "        cursor = 'pointer';\n",
       "        break;\n",
       "    case 1:\n",
       "        cursor = 'default';\n",
       "        break;\n",
       "    case 2:\n",
       "        cursor = 'crosshair';\n",
       "        break;\n",
       "    case 3:\n",
       "        cursor = 'move';\n",
       "        break;\n",
       "    }\n",
       "    fig.rubberband_canvas.style.cursor = cursor;\n",
       "}\n",
       "\n",
       "mpl.figure.prototype.handle_message = function(fig, msg) {\n",
       "    fig.message.textContent = msg['message'];\n",
       "}\n",
       "\n",
       "mpl.figure.prototype.handle_draw = function(fig, msg) {\n",
       "    // Request the server to send over a new figure.\n",
       "    fig.send_draw_message();\n",
       "}\n",
       "\n",
       "mpl.figure.prototype.handle_image_mode = function(fig, msg) {\n",
       "    fig.image_mode = msg['mode'];\n",
       "}\n",
       "\n",
       "mpl.figure.prototype.updated_canvas_event = function() {\n",
       "    // Called whenever the canvas gets updated.\n",
       "    this.send_message(\"ack\", {});\n",
       "}\n",
       "\n",
       "// A function to construct a web socket function for onmessage handling.\n",
       "// Called in the figure constructor.\n",
       "mpl.figure.prototype._make_on_message_function = function(fig) {\n",
       "    return function socket_on_message(evt) {\n",
       "        if (evt.data instanceof Blob) {\n",
       "            /* FIXME: We get \"Resource interpreted as Image but\n",
       "             * transferred with MIME type text/plain:\" errors on\n",
       "             * Chrome.  But how to set the MIME type?  It doesn't seem\n",
       "             * to be part of the websocket stream */\n",
       "            evt.data.type = \"image/png\";\n",
       "\n",
       "            /* Free the memory for the previous frames */\n",
       "            if (fig.imageObj.src) {\n",
       "                (window.URL || window.webkitURL).revokeObjectURL(\n",
       "                    fig.imageObj.src);\n",
       "            }\n",
       "\n",
       "            fig.imageObj.src = (window.URL || window.webkitURL).createObjectURL(\n",
       "                evt.data);\n",
       "            fig.updated_canvas_event();\n",
       "            fig.waiting = false;\n",
       "            return;\n",
       "        }\n",
       "        else if (typeof evt.data === 'string' && evt.data.slice(0, 21) == \"data:image/png;base64\") {\n",
       "            fig.imageObj.src = evt.data;\n",
       "            fig.updated_canvas_event();\n",
       "            fig.waiting = false;\n",
       "            return;\n",
       "        }\n",
       "\n",
       "        var msg = JSON.parse(evt.data);\n",
       "        var msg_type = msg['type'];\n",
       "\n",
       "        // Call the  \"handle_{type}\" callback, which takes\n",
       "        // the figure and JSON message as its only arguments.\n",
       "        try {\n",
       "            var callback = fig[\"handle_\" + msg_type];\n",
       "        } catch (e) {\n",
       "            console.log(\"No handler for the '\" + msg_type + \"' message type: \", msg);\n",
       "            return;\n",
       "        }\n",
       "\n",
       "        if (callback) {\n",
       "            try {\n",
       "                // console.log(\"Handling '\" + msg_type + \"' message: \", msg);\n",
       "                callback(fig, msg);\n",
       "            } catch (e) {\n",
       "                console.log(\"Exception inside the 'handler_\" + msg_type + \"' callback:\", e, e.stack, msg);\n",
       "            }\n",
       "        }\n",
       "    };\n",
       "}\n",
       "\n",
       "// from http://stackoverflow.com/questions/1114465/getting-mouse-location-in-canvas\n",
       "mpl.findpos = function(e) {\n",
       "    //this section is from http://www.quirksmode.org/js/events_properties.html\n",
       "    var targ;\n",
       "    if (!e)\n",
       "        e = window.event;\n",
       "    if (e.target)\n",
       "        targ = e.target;\n",
       "    else if (e.srcElement)\n",
       "        targ = e.srcElement;\n",
       "    if (targ.nodeType == 3) // defeat Safari bug\n",
       "        targ = targ.parentNode;\n",
       "\n",
       "    // jQuery normalizes the pageX and pageY\n",
       "    // pageX,Y are the mouse positions relative to the document\n",
       "    // offset() returns the position of the element relative to the document\n",
       "    var x = e.pageX - $(targ).offset().left;\n",
       "    var y = e.pageY - $(targ).offset().top;\n",
       "\n",
       "    return {\"x\": x, \"y\": y};\n",
       "};\n",
       "\n",
       "/*\n",
       " * return a copy of an object with only non-object keys\n",
       " * we need this to avoid circular references\n",
       " * http://stackoverflow.com/a/24161582/3208463\n",
       " */\n",
       "function simpleKeys (original) {\n",
       "  return Object.keys(original).reduce(function (obj, key) {\n",
       "    if (typeof original[key] !== 'object')\n",
       "        obj[key] = original[key]\n",
       "    return obj;\n",
       "  }, {});\n",
       "}\n",
       "\n",
       "mpl.figure.prototype.mouse_event = function(event, name) {\n",
       "    var canvas_pos = mpl.findpos(event)\n",
       "\n",
       "    if (name === 'button_press')\n",
       "    {\n",
       "        this.canvas.focus();\n",
       "        this.canvas_div.focus();\n",
       "    }\n",
       "\n",
       "    var x = canvas_pos.x;\n",
       "    var y = canvas_pos.y;\n",
       "\n",
       "    this.send_message(name, {x: x, y: y, button: event.button,\n",
       "                             step: event.step,\n",
       "                             guiEvent: simpleKeys(event)});\n",
       "\n",
       "    /* This prevents the web browser from automatically changing to\n",
       "     * the text insertion cursor when the button is pressed.  We want\n",
       "     * to control all of the cursor setting manually through the\n",
       "     * 'cursor' event from matplotlib */\n",
       "    event.preventDefault();\n",
       "    return false;\n",
       "}\n",
       "\n",
       "mpl.figure.prototype._key_event_extra = function(event, name) {\n",
       "    // Handle any extra behaviour associated with a key event\n",
       "}\n",
       "\n",
       "mpl.figure.prototype.key_event = function(event, name) {\n",
       "\n",
       "    // Prevent repeat events\n",
       "    if (name == 'key_press')\n",
       "    {\n",
       "        if (event.which === this._key)\n",
       "            return;\n",
       "        else\n",
       "            this._key = event.which;\n",
       "    }\n",
       "    if (name == 'key_release')\n",
       "        this._key = null;\n",
       "\n",
       "    var value = '';\n",
       "    if (event.ctrlKey && event.which != 17)\n",
       "        value += \"ctrl+\";\n",
       "    if (event.altKey && event.which != 18)\n",
       "        value += \"alt+\";\n",
       "    if (event.shiftKey && event.which != 16)\n",
       "        value += \"shift+\";\n",
       "\n",
       "    value += 'k';\n",
       "    value += event.which.toString();\n",
       "\n",
       "    this._key_event_extra(event, name);\n",
       "\n",
       "    this.send_message(name, {key: value,\n",
       "                             guiEvent: simpleKeys(event)});\n",
       "    return false;\n",
       "}\n",
       "\n",
       "mpl.figure.prototype.toolbar_button_onclick = function(name) {\n",
       "    if (name == 'download') {\n",
       "        this.handle_save(this, null);\n",
       "    } else {\n",
       "        this.send_message(\"toolbar_button\", {name: name});\n",
       "    }\n",
       "};\n",
       "\n",
       "mpl.figure.prototype.toolbar_button_onmouseover = function(tooltip) {\n",
       "    this.message.textContent = tooltip;\n",
       "};\n",
       "mpl.toolbar_items = [[\"Home\", \"Reset original view\", \"fa fa-home icon-home\", \"home\"], [\"Back\", \"Back to  previous view\", \"fa fa-arrow-left icon-arrow-left\", \"back\"], [\"Forward\", \"Forward to next view\", \"fa fa-arrow-right icon-arrow-right\", \"forward\"], [\"\", \"\", \"\", \"\"], [\"Pan\", \"Pan axes with left mouse, zoom with right\", \"fa fa-arrows icon-move\", \"pan\"], [\"Zoom\", \"Zoom to rectangle\", \"fa fa-square-o icon-check-empty\", \"zoom\"], [\"\", \"\", \"\", \"\"], [\"Download\", \"Download plot\", \"fa fa-floppy-o icon-save\", \"download\"]];\n",
       "\n",
       "mpl.extensions = [\"eps\", \"jpeg\", \"pdf\", \"png\", \"ps\", \"raw\", \"svg\", \"tif\"];\n",
       "\n",
       "mpl.default_extension = \"png\";var comm_websocket_adapter = function(comm) {\n",
       "    // Create a \"websocket\"-like object which calls the given IPython comm\n",
       "    // object with the appropriate methods. Currently this is a non binary\n",
       "    // socket, so there is still some room for performance tuning.\n",
       "    var ws = {};\n",
       "\n",
       "    ws.close = function() {\n",
       "        comm.close()\n",
       "    };\n",
       "    ws.send = function(m) {\n",
       "        //console.log('sending', m);\n",
       "        comm.send(m);\n",
       "    };\n",
       "    // Register the callback with on_msg.\n",
       "    comm.on_msg(function(msg) {\n",
       "        //console.log('receiving', msg['content']['data'], msg);\n",
       "        // Pass the mpl event to the overriden (by mpl) onmessage function.\n",
       "        ws.onmessage(msg['content']['data'])\n",
       "    });\n",
       "    return ws;\n",
       "}\n",
       "\n",
       "mpl.mpl_figure_comm = function(comm, msg) {\n",
       "    // This is the function which gets called when the mpl process\n",
       "    // starts-up an IPython Comm through the \"matplotlib\" channel.\n",
       "\n",
       "    var id = msg.content.data.id;\n",
       "    // Get hold of the div created by the display call when the Comm\n",
       "    // socket was opened in Python.\n",
       "    var element = $(\"#\" + id);\n",
       "    var ws_proxy = comm_websocket_adapter(comm)\n",
       "\n",
       "    function ondownload(figure, format) {\n",
       "        window.open(figure.imageObj.src);\n",
       "    }\n",
       "\n",
       "    var fig = new mpl.figure(id, ws_proxy,\n",
       "                           ondownload,\n",
       "                           element.get(0));\n",
       "\n",
       "    // Call onopen now - mpl needs it, as it is assuming we've passed it a real\n",
       "    // web socket which is closed, not our websocket->open comm proxy.\n",
       "    ws_proxy.onopen();\n",
       "\n",
       "    fig.parent_element = element.get(0);\n",
       "    fig.cell_info = mpl.find_output_cell(\"<div id='\" + id + \"'></div>\");\n",
       "    if (!fig.cell_info) {\n",
       "        console.error(\"Failed to find cell for figure\", id, fig);\n",
       "        return;\n",
       "    }\n",
       "\n",
       "    var output_index = fig.cell_info[2]\n",
       "    var cell = fig.cell_info[0];\n",
       "\n",
       "};\n",
       "\n",
       "mpl.figure.prototype.handle_close = function(fig, msg) {\n",
       "    fig.root.unbind('remove')\n",
       "\n",
       "    // Update the output cell to use the data from the current canvas.\n",
       "    fig.push_to_output();\n",
       "    var dataURL = fig.canvas.toDataURL();\n",
       "    // Re-enable the keyboard manager in IPython - without this line, in FF,\n",
       "    // the notebook keyboard shortcuts fail.\n",
       "    IPython.keyboard_manager.enable()\n",
       "    $(fig.parent_element).html('<img src=\"' + dataURL + '\">');\n",
       "    fig.close_ws(fig, msg);\n",
       "}\n",
       "\n",
       "mpl.figure.prototype.close_ws = function(fig, msg){\n",
       "    fig.send_message('closing', msg);\n",
       "    // fig.ws.close()\n",
       "}\n",
       "\n",
       "mpl.figure.prototype.push_to_output = function(remove_interactive) {\n",
       "    // Turn the data on the canvas into data in the output cell.\n",
       "    var dataURL = this.canvas.toDataURL();\n",
       "    this.cell_info[1]['text/html'] = '<img src=\"' + dataURL + '\">';\n",
       "}\n",
       "\n",
       "mpl.figure.prototype.updated_canvas_event = function() {\n",
       "    // Tell IPython that the notebook contents must change.\n",
       "    IPython.notebook.set_dirty(true);\n",
       "    this.send_message(\"ack\", {});\n",
       "    var fig = this;\n",
       "    // Wait a second, then push the new image to the DOM so\n",
       "    // that it is saved nicely (might be nice to debounce this).\n",
       "    setTimeout(function () { fig.push_to_output() }, 1000);\n",
       "}\n",
       "\n",
       "mpl.figure.prototype._init_toolbar = function() {\n",
       "    var fig = this;\n",
       "\n",
       "    var nav_element = $('<div/>')\n",
       "    nav_element.attr('style', 'width: 100%');\n",
       "    this.root.append(nav_element);\n",
       "\n",
       "    // Define a callback function for later on.\n",
       "    function toolbar_event(event) {\n",
       "        return fig.toolbar_button_onclick(event['data']);\n",
       "    }\n",
       "    function toolbar_mouse_event(event) {\n",
       "        return fig.toolbar_button_onmouseover(event['data']);\n",
       "    }\n",
       "\n",
       "    for(var toolbar_ind in mpl.toolbar_items){\n",
       "        var name = mpl.toolbar_items[toolbar_ind][0];\n",
       "        var tooltip = mpl.toolbar_items[toolbar_ind][1];\n",
       "        var image = mpl.toolbar_items[toolbar_ind][2];\n",
       "        var method_name = mpl.toolbar_items[toolbar_ind][3];\n",
       "\n",
       "        if (!name) { continue; };\n",
       "\n",
       "        var button = $('<button class=\"btn btn-default\" href=\"#\" title=\"' + name + '\"><i class=\"fa ' + image + ' fa-lg\"></i></button>');\n",
       "        button.click(method_name, toolbar_event);\n",
       "        button.mouseover(tooltip, toolbar_mouse_event);\n",
       "        nav_element.append(button);\n",
       "    }\n",
       "\n",
       "    // Add the status bar.\n",
       "    var status_bar = $('<span class=\"mpl-message\" style=\"text-align:right; float: right;\"/>');\n",
       "    nav_element.append(status_bar);\n",
       "    this.message = status_bar[0];\n",
       "\n",
       "    // Add the close button to the window.\n",
       "    var buttongrp = $('<div class=\"btn-group inline pull-right\"></div>');\n",
       "    var button = $('<button class=\"btn btn-mini btn-primary\" href=\"#\" title=\"Stop Interaction\"><i class=\"fa fa-power-off icon-remove icon-large\"></i></button>');\n",
       "    button.click(function (evt) { fig.handle_close(fig, {}); } );\n",
       "    button.mouseover('Stop Interaction', toolbar_mouse_event);\n",
       "    buttongrp.append(button);\n",
       "    var titlebar = this.root.find($('.ui-dialog-titlebar'));\n",
       "    titlebar.prepend(buttongrp);\n",
       "}\n",
       "\n",
       "mpl.figure.prototype._root_extra_style = function(el){\n",
       "    var fig = this\n",
       "    el.on(\"remove\", function(){\n",
       "\tfig.close_ws(fig, {});\n",
       "    });\n",
       "}\n",
       "\n",
       "mpl.figure.prototype._canvas_extra_style = function(el){\n",
       "    // this is important to make the div 'focusable\n",
       "    el.attr('tabindex', 0)\n",
       "    // reach out to IPython and tell the keyboard manager to turn it's self\n",
       "    // off when our div gets focus\n",
       "\n",
       "    // location in version 3\n",
       "    if (IPython.notebook.keyboard_manager) {\n",
       "        IPython.notebook.keyboard_manager.register_events(el);\n",
       "    }\n",
       "    else {\n",
       "        // location in version 2\n",
       "        IPython.keyboard_manager.register_events(el);\n",
       "    }\n",
       "\n",
       "}\n",
       "\n",
       "mpl.figure.prototype._key_event_extra = function(event, name) {\n",
       "    var manager = IPython.notebook.keyboard_manager;\n",
       "    if (!manager)\n",
       "        manager = IPython.keyboard_manager;\n",
       "\n",
       "    // Check for shift+enter\n",
       "    if (event.shiftKey && event.which == 13) {\n",
       "        this.canvas_div.blur();\n",
       "        event.shiftKey = false;\n",
       "        // Send a \"J\" for go to next cell\n",
       "        event.which = 74;\n",
       "        event.keyCode = 74;\n",
       "        manager.command_mode();\n",
       "        manager.handle_keydown(event);\n",
       "    }\n",
       "}\n",
       "\n",
       "mpl.figure.prototype.handle_save = function(fig, msg) {\n",
       "    fig.ondownload(fig, null);\n",
       "}\n",
       "\n",
       "\n",
       "mpl.find_output_cell = function(html_output) {\n",
       "    // Return the cell and output element which can be found *uniquely* in the notebook.\n",
       "    // Note - this is a bit hacky, but it is done because the \"notebook_saving.Notebook\"\n",
       "    // IPython event is triggered only after the cells have been serialised, which for\n",
       "    // our purposes (turning an active figure into a static one), is too late.\n",
       "    var cells = IPython.notebook.get_cells();\n",
       "    var ncells = cells.length;\n",
       "    for (var i=0; i<ncells; i++) {\n",
       "        var cell = cells[i];\n",
       "        if (cell.cell_type === 'code'){\n",
       "            for (var j=0; j<cell.output_area.outputs.length; j++) {\n",
       "                var data = cell.output_area.outputs[j];\n",
       "                if (data.data) {\n",
       "                    // IPython >= 3 moved mimebundle to data attribute of output\n",
       "                    data = data.data;\n",
       "                }\n",
       "                if (data['text/html'] == html_output) {\n",
       "                    return [cell, data, j];\n",
       "                }\n",
       "            }\n",
       "        }\n",
       "    }\n",
       "}\n",
       "\n",
       "// Register the function which deals with the matplotlib target/channel.\n",
       "// The kernel may be null if the page has been refreshed.\n",
       "if (IPython.notebook.kernel != null) {\n",
       "    IPython.notebook.kernel.comm_manager.register_target('matplotlib', mpl.mpl_figure_comm);\n",
       "}\n"
      ],
      "text/plain": [
       "<IPython.core.display.Javascript object>"
      ]
     },
     "metadata": {},
     "output_type": "display_data"
    },
    {
     "data": {
      "text/html": [
       "<img src=\"data:image/png;base64,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\">"
      ],
      "text/plain": [
       "<IPython.core.display.HTML object>"
      ]
     },
     "metadata": {},
     "output_type": "display_data"
    }
   ],
   "source": [
    "fig, ax = plt.subplots()\n",
    "plot_fit(fig, ax)"
   ]
  },
  {
   "cell_type": "code",
   "execution_count": 14,
   "metadata": {
    "collapsed": true
   },
   "outputs": [],
   "source": [
    "check_all_identities()\n",
    "model['n_data'].set_value(n_samples)"
   ]
  },
  {
   "cell_type": "code",
   "execution_count": 15,
   "metadata": {
    "collapsed": true
   },
   "outputs": [],
   "source": [
    "from schlichtanders.myfunctools import compose_fmap, Average"
   ]
  },
  {
   "cell_type": "code",
   "execution_count": 16,
   "metadata": {
    "collapsed": false
   },
   "outputs": [
    {
     "data": {
      "text/plain": [
       "{'f': <function theano_models.postmaps.annealed>,\n",
       " 'fprime': <function theano_models.postmaps.annealed>,\n",
       " 'wrt': array([ 0.        ,  0.        ,  0.        ,  0.        ,  0.54132485,\n",
       "         1.85458654,  0.54132485,  0.54132485])}"
      ]
     },
     "execution_count": 16,
     "metadata": {},
     "output_type": "execute_result"
    }
   ],
   "source": [
    "def weights_data():\n",
    "    for t in xrange(10000):\n",
    "        yield min(1, 0.01 + t/10000)\n",
    "    while True:\n",
    "        yield 1\n",
    "postmap = compose(post.flat_numericalize_postmap, post.normalizingflow_postmap)\n",
    "optimizer_kwargs = postmap(model,\n",
    "    mapreduce=compose_fmap(meanmap, Average(5)),\n",
    "    annealing_combiner=post.AnnealingCombiner(weights_data=weights_data())\n",
    ")\n",
    "climin_kwargs = post.climin_postmap(optimizer_kwargs)\n",
    "climin_kwargs"
   ]
  },
  {
   "cell_type": "code",
   "execution_count": 18,
   "metadata": {
    "collapsed": false
   },
   "outputs": [],
   "source": [
    "from theano_models.visualization import d3viz\n",
    "from IPython.display import IFrame"
   ]
  },
  {
   "cell_type": "code",
   "execution_count": 19,
   "metadata": {
    "collapsed": false
   },
   "outputs": [
    {
     "data": {
      "text/html": [
       "\n",
       "        <iframe\n",
       "            width=\"700\"\n",
       "            height=\"500\"\n",
       "            src=\"tmp/loss.html\"\n",
       "            frameborder=\"0\"\n",
       "            allowfullscreen\n",
       "        ></iframe>\n",
       "        "
      ],
      "text/plain": [
       "<IPython.lib.display.IFrame at 0x7fba307863d0>"
      ]
     },
     "execution_count": 19,
     "metadata": {},
     "output_type": "execute_result"
    }
   ],
   "source": [
    "d3viz(optimizer_kwargs['loss'], \"tmp/loss.html\")\n",
    "IFrame(\"tmp/loss.html\", width=700, height=500)"
   ]
  },
  {
   "cell_type": "code",
   "execution_count": null,
   "metadata": {
    "collapsed": true
   },
   "outputs": [],
   "source": [
    "batch_size = 20\n",
    "n_batches = len(targets) // batch_size\n",
    "climin_args = izip( imap(lambda x:(x,),  chunk(20, cycle(targets)) ) , repeat({}))"
   ]
  },
  {
   "cell_type": "code",
   "execution_count": null,
   "metadata": {
    "collapsed": false
   },
   "outputs": [],
   "source": [
    "opt = optimizer(\n",
    "    identifier=\"rmsprop\",\n",
    "    step_rate=0.5,\n",
    "    momentum=0.9,\n",
    "    args=climin_args,\n",
    "    **climin_kwargs\n",
    ")"
   ]
  },
  {
   "cell_type": "code",
   "execution_count": null,
   "metadata": {
    "collapsed": false
   },
   "outputs": [],
   "source": [
    "for info in opt:  #every(n_batches, opt):\n",
    "    print zip(model['flat'].name.split(':'), climin_kwargs['fprime'](opt.wrt, targets[:100]))\n",
    "    plot_fit(fig, ax, {model['flat']:opt.wrt}, time_delay=None)"
   ]
  },
  {
   "cell_type": "code",
   "execution_count": null,
   "metadata": {
    "collapsed": false
   },
   "outputs": [],
   "source": [
    "fit = minimize(\n",
    "    args=(targets,),\n",
    "#     method='CG',\n",
    "#     method=\"Newton-CG\",\n",
    "#     method=\"Nelder-Mead\",\n",
    "    options={'maxiter':1000, 'disp':True},\n",
    "    callback=lambda params: plot_fit(fig, ax, {model['flat']:params}, time_delay=None),\n",
    "    **scipy_kwargs\n",
    "); fit"
   ]
  },
  {
   "cell_type": "code",
   "execution_count": null,
   "metadata": {
    "collapsed": true
   },
   "outputs": [],
   "source": []
  }
 ],
 "metadata": {
  "kernelspec": {
   "display_name": "Python 2",
   "language": "python",
   "name": "python2"
  },
  "language_info": {
   "codemirror_mode": {
    "name": "ipython",
    "version": 2
   },
   "file_extension": ".py",
   "mimetype": "text/x-python",
   "name": "python",
   "nbconvert_exporter": "python",
   "pygments_lexer": "ipython2",
   "version": "2.7.6"
  },
  "toc": {
   "toc_cell": false,
   "toc_number_sections": true,
   "toc_threshold": 4,
   "toc_window_display": true
  },
  "toc_position": {
   "left": "1406.16px",
   "right": "20px",
   "top": "122px",
   "width": "253px"
  }
 },
 "nbformat": 4,
 "nbformat_minor": 0
}
