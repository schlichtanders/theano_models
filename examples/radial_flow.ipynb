{
 "cells": [
  {
   "cell_type": "code",
   "execution_count": 1,
   "metadata": {
    "collapsed": false
   },
   "outputs": [
    {
     "name": "stderr",
     "output_type": "stream",
     "text": [
      "/usr/local/lib/python2.7/dist-packages/matplotlib/font_manager.py:273: UserWarning: Matplotlib is building the font cache using fc-list. This may take a moment.\n",
      "  warnings.warn('Matplotlib is building the font cache using fc-list. This may take a moment.')\n"
     ]
    }
   ],
   "source": [
    "%matplotlib notebook"
   ]
  },
  {
   "cell_type": "code",
   "execution_count": 2,
   "metadata": {
    "collapsed": false
   },
   "outputs": [
    {
     "name": "stdout",
     "output_type": "stream",
     "text": [
      "gnumpy: failed to import cudamat. Using npmat instead. No GPU will be used.\n"
     ]
    }
   ],
   "source": [
    "import numpy as np\n",
    "import matplotlib.pyplot as plt\n",
    "from matplotlib import collections  as mc\n",
    "import time\n",
    "from scipy.optimize import minimize\n",
    "from climin.util import optimizer\n",
    "import theano\n",
    "import theano.tensor as T\n",
    "from itertools import izip"
   ]
  },
  {
   "cell_type": "code",
   "execution_count": 3,
   "metadata": {
    "collapsed": true
   },
   "outputs": [],
   "source": [
    "from schlichtanders.myoptimizers import batch\n",
    "from schlichtanders.myfunctools import compose"
   ]
  },
  {
   "cell_type": "code",
   "execution_count": 4,
   "metadata": {
    "collapsed": false
   },
   "outputs": [],
   "source": [
    "from theano_models import (Merge, as_tensor_variable, normalizing_flow,\n",
    "                           reparameterize_map, softplus, softplus_inv, squareplus, squareplus_inv)\n",
    "                           \n",
    "from theano_models.postmaps import (scipy_postmap, climin_postmap, flat_numericalize_postmap, flatten_parameters,\n",
    "                                    deterministic_optimizer_postmap, probabilistic_optimizer_postmap)\n",
    "\n",
    "import theano_models.probabilistic_models as pm\n",
    "import theano_models.deterministic_models as dm"
   ]
  },
  {
   "cell_type": "code",
   "execution_count": 5,
   "metadata": {
    "collapsed": true
   },
   "outputs": [],
   "source": [
    "from theano.printing import debugprint"
   ]
  },
  {
   "cell_type": "markdown",
   "metadata": {},
   "source": [
    "# debug clone"
   ]
  },
  {
   "cell_type": "code",
   "execution_count": null,
   "metadata": {
    "collapsed": true
   },
   "outputs": [],
   "source": [
    "import theano\n",
    "from schlichtanders.mymeta import proxify"
   ]
  },
  {
   "cell_type": "code",
   "execution_count": null,
   "metadata": {
    "collapsed": false
   },
   "outputs": [],
   "source": [
    "a = as_tensor_variable(4)\n",
    "b = a + 6\n",
    "d = theano.clone(b)\n",
    "c = theano.clone(b, replace={a:as_tensor_variable(99), d:98})\n",
    "\n",
    "f = b + a"
   ]
  },
  {
   "cell_type": "code",
   "execution_count": null,
   "metadata": {
    "collapsed": false
   },
   "outputs": [],
   "source": [
    "b.eval(), c.eval(), f.eval()"
   ]
  },
  {
   "cell_type": "code",
   "execution_count": null,
   "metadata": {
    "collapsed": true
   },
   "outputs": [],
   "source": []
  },
  {
   "cell_type": "code",
   "execution_count": null,
   "metadata": {
    "collapsed": false
   },
   "outputs": [],
   "source": [
    "proxify(b, c)\n",
    "b.eval(), f.eval()"
   ]
  },
  {
   "cell_type": "markdown",
   "metadata": {},
   "source": [
    "# Deterministic Model - one dimensional"
   ]
  },
  {
   "cell_type": "markdown",
   "metadata": {},
   "source": [
    "## model"
   ]
  },
  {
   "cell_type": "code",
   "execution_count": null,
   "metadata": {
    "collapsed": false
   },
   "outputs": [],
   "source": [
    "model = dm.RadialTransform()\n",
    "model"
   ]
  },
  {
   "cell_type": "markdown",
   "metadata": {},
   "source": [
    "TODO softplus gives immediate precision loss, while e.g. squarepos works like a charm\n",
    "\n",
    "    # model.map('parameters_positive', reparameterize_map(softplus, softplus_inv), 'parameters')"
   ]
  },
  {
   "cell_type": "code",
   "execution_count": null,
   "metadata": {
    "collapsed": false
   },
   "outputs": [],
   "source": [
    "model.map('parameters_positive', reparameterize_map(squareplus, squareplus_inv), 'parameters')\n",
    "model"
   ]
  },
  {
   "cell_type": "markdown",
   "metadata": {},
   "source": [
    "## target"
   ]
  },
  {
   "cell_type": "code",
   "execution_count": null,
   "metadata": {
    "collapsed": false
   },
   "outputs": [],
   "source": [
    "target = dm.RadialTransform(init_alpha=1, init_beta=20, init_z0=[3])"
   ]
  },
  {
   "cell_type": "code",
   "execution_count": null,
   "metadata": {
    "collapsed": false
   },
   "outputs": [],
   "source": [
    "f_target = target.function()\n",
    "example_target = [7]\n",
    "f_target(example_target)  # caution, needs vector not scalar input"
   ]
  },
  {
   "cell_type": "code",
   "execution_count": null,
   "metadata": {
    "collapsed": false
   },
   "outputs": [],
   "source": [
    "N = 40\n",
    "xs = np.linspace(-10, 10, N)[:, np.newaxis]\n",
    "xs[:7]"
   ]
  },
  {
   "cell_type": "code",
   "execution_count": null,
   "metadata": {
    "collapsed": false
   },
   "outputs": [],
   "source": [
    "ys = np.array([f_target(x) for x in xs])\n",
    "ys[:7]"
   ]
  },
  {
   "cell_type": "markdown",
   "metadata": {},
   "source": [
    "## visualization"
   ]
  },
  {
   "cell_type": "code",
   "execution_count": null,
   "metadata": {
    "collapsed": false
   },
   "outputs": [],
   "source": [
    "def plot_fit(fig, ax, givens={}, time_delay=0.1):\n",
    "    ax.clear() # interactive\n",
    "    # target data:\n",
    "    ax.plot(xs, ys, 'k:')\n",
    "    \n",
    "    # model:\n",
    "    f_model = model.function(givens=givens)\n",
    "    model_ys = np.array([f_model(x) for x in xs])\n",
    "    ax.plot(xs, model_ys, 'r')\n",
    "    \n",
    "    fig.canvas.draw()\n",
    "    time.sleep(time_delay)"
   ]
  },
  {
   "cell_type": "code",
   "execution_count": null,
   "metadata": {
    "collapsed": false
   },
   "outputs": [],
   "source": [
    "fig, ax = plt.subplots()\n",
    "plot_fit(fig, ax)"
   ]
  },
  {
   "cell_type": "markdown",
   "metadata": {},
   "source": [
    "## fit"
   ]
  },
  {
   "cell_type": "code",
   "execution_count": null,
   "metadata": {
    "collapsed": false
   },
   "outputs": [],
   "source": [
    "postmap = compose(scipy_postmap, flat_numericalize_postmap, flatten_parameters, deterministic_optimizer_postmap)\n",
    "scipy_kwargs = postmap(model, wrapper=batch, initial_inputs=[example_target])\n",
    "scipy_kwargs"
   ]
  },
  {
   "cell_type": "code",
   "execution_count": null,
   "metadata": {
    "collapsed": false
   },
   "outputs": [],
   "source": [
    "fit = minimize(\n",
    "    args=(ys,xs),\n",
    "#     method=\"CG\",\n",
    "    method=\"Newton-CG\",\n",
    "    options={'maxiter':100, 'disp':True},\n",
    "    callback=lambda xs: plot_fit(fig, ax, {model['parameters_flat'][0]:xs}),\n",
    "    **scipy_kwargs\n",
    "); fit"
   ]
  },
  {
   "cell_type": "markdown",
   "metadata": {},
   "source": [
    "Fix fitted parameters into model.\n",
    "\n",
    "We need to further build a givens dictionary supply the input-info which usually is given when used as theano.function(model['inputs'], model['outputs'])."
   ]
  },
  {
   "cell_type": "code",
   "execution_count": null,
   "metadata": {
    "collapsed": true
   },
   "outputs": [],
   "source": [
    "model['parameters_flat'] = [fit.x]\n",
    "givens = dict(izip(model['inputs'], [example_target]))"
   ]
  },
  {
   "cell_type": "code",
   "execution_count": null,
   "metadata": {
    "collapsed": false
   },
   "outputs": [],
   "source": [
    "[(p.name, p.eval(givens)) for p in model['parameters_positive']]"
   ]
  },
  {
   "cell_type": "code",
   "execution_count": null,
   "metadata": {
    "collapsed": false
   },
   "outputs": [],
   "source": [
    "[(p.name, p.eval(givens)) for p in model['parameters']]"
   ]
  },
  {
   "cell_type": "markdown",
   "metadata": {},
   "source": [
    "# two dimensions"
   ]
  },
  {
   "cell_type": "markdown",
   "metadata": {},
   "source": [
    "## model"
   ]
  },
  {
   "cell_type": "code",
   "execution_count": null,
   "metadata": {
    "collapsed": false
   },
   "outputs": [],
   "source": [
    "model2d = dm.RadialTransform()\n",
    "model2d"
   ]
  },
  {
   "cell_type": "code",
   "execution_count": null,
   "metadata": {
    "collapsed": false
   },
   "outputs": [],
   "source": [
    "model2d.map('parameters_positive', reparameterize_map(squareplus, squareplus_inv), 'parameters')\n",
    "model2d"
   ]
  },
  {
   "cell_type": "markdown",
   "metadata": {},
   "source": [
    "## target"
   ]
  },
  {
   "cell_type": "code",
   "execution_count": null,
   "metadata": {
    "collapsed": true
   },
   "outputs": [],
   "source": [
    "target2d = dm.RadialTransform(init_alpha=1, init_beta=5, init_z0=[3, 1])\n",
    "# target2d = dm.RadialTransform(init_alpha=50, init_beta=-40, init_z0=[3, 1])"
   ]
  },
  {
   "cell_type": "code",
   "execution_count": null,
   "metadata": {
    "collapsed": false
   },
   "outputs": [],
   "source": [
    "f_target2d = target2d.function()\n",
    "example_target2d = [7, 4]\n",
    "f_target2d(example_target2d)  # caution, needs vector not scalar input"
   ]
  },
  {
   "cell_type": "code",
   "execution_count": null,
   "metadata": {
    "collapsed": false
   },
   "outputs": [],
   "source": [
    "N2d = 10\n",
    "_xs = np.linspace(-10, 10, N2d)\n",
    "X1, X2 = np.meshgrid(_xs, _xs)\n",
    "xs2d = np.c_[X1.flat, X2.flat]\n",
    "xs2d[:5]"
   ]
  },
  {
   "cell_type": "code",
   "execution_count": null,
   "metadata": {
    "collapsed": false
   },
   "outputs": [],
   "source": [
    "ys2d = np.array([f_target2d(x) for x in xs2d])\n",
    "ys2d[:5]"
   ]
  },
  {
   "cell_type": "markdown",
   "metadata": {},
   "source": [
    "## visualization"
   ]
  },
  {
   "cell_type": "code",
   "execution_count": null,
   "metadata": {
    "collapsed": true
   },
   "outputs": [],
   "source": [
    "diff2d = ys2d - xs2d\n",
    "quiver_kwargs = dict(scale=1, angles='xy', scale_units='xy', width=0.003)\n",
    "\n",
    "def plot_fit2d(fig, ax, givens={}, time_delay=0.1, expand_factor=0.4):\n",
    "    ax.clear()\n",
    "    \n",
    "    # target data:\n",
    "    ax.quiver(xs2d[:,0], xs2d[:,1], diff2d[:,0], diff2d[:,1], hatch='***', facecolor='none', color=\"k\", **quiver_kwargs)\n",
    "    \n",
    "    # model:\n",
    "    f_model2d = model2d.function(givens=givens)\n",
    "    m_ys2d = np.array([f_model2d(x) for x in xs2d])\n",
    "    m_diff2d = m_ys2d - xs2d\n",
    "    ax.quiver(xs2d[:,0], xs2d[:,1], m_diff2d[:,0], m_diff2d[:,1], color=\"r\", **quiver_kwargs)\n",
    "\n",
    "    # ax.autoscale()  # does not work with arrows, do it manually:\n",
    "    l, r, b, t = ax.axis()\n",
    "    dx, dy = r - l, t - b\n",
    "    ax.axis([l - expand_factor * dx, r + expand_factor * dx, b - expand_factor * dy, t + expand_factor * dy])\n",
    "    \n",
    "    fig.canvas.draw()\n",
    "    time.sleep(time_delay)"
   ]
  },
  {
   "cell_type": "code",
   "execution_count": null,
   "metadata": {
    "collapsed": false
   },
   "outputs": [],
   "source": [
    "fig, ax = plt.subplots()\n",
    "plot_fit2d(fig, ax)"
   ]
  },
  {
   "cell_type": "markdown",
   "metadata": {},
   "source": [
    "## fit"
   ]
  },
  {
   "cell_type": "code",
   "execution_count": null,
   "metadata": {
    "collapsed": false
   },
   "outputs": [],
   "source": [
    "postmap = compose(scipy_postmap, flat_numericalize_postmap, flatten_parameters, deterministic_optimizer_postmap)\n",
    "scipy_kwargs2d = postmap(model2d, wrapper=batch, initial_inputs=[example_target2d])\n",
    "scipy_kwargs2d"
   ]
  },
  {
   "cell_type": "code",
   "execution_count": null,
   "metadata": {
    "collapsed": false
   },
   "outputs": [],
   "source": [
    "fit = minimize(\n",
    "    args=(ys2d,xs2d),\n",
    "#     method=\"CG\",\n",
    "    method=\"Newton-CG\",\n",
    "    options={'maxiter':100, 'disp':True},\n",
    "    callback=lambda xs: plot_fit2d(fig, ax, {model2d['parameters_flat'][0]:xs}),\n",
    "    **scipy_kwargs2d\n",
    "); fit"
   ]
  },
  {
   "cell_type": "markdown",
   "metadata": {},
   "source": [
    "# Probabilistic Normalizing Flow"
   ]
  },
  {
   "cell_type": "markdown",
   "metadata": {},
   "source": [
    "Only the combination with gaussian base function is shown. The uniform base function has the disadvantage of not being differentiable (not yet supported)."
   ]
  },
  {
   "cell_type": "markdown",
   "metadata": {},
   "source": [
    "## model"
   ]
  },
  {
   "cell_type": "code",
   "execution_count": 6,
   "metadata": {
    "collapsed": false
   },
   "outputs": [],
   "source": [
    "base_model = pm.DiagGauss(output_size=2)\n",
    "# CAUTION, this transform cannot be reused elsewhere, as it is merged into normalizing flow\n",
    "# its references point always to the current substitution\n",
    "transform_model = dm.RadialTransform()"
   ]
  },
  {
   "cell_type": "code",
   "execution_count": 7,
   "metadata": {
    "collapsed": false
   },
   "outputs": [
    {
     "data": {
      "text/plain": [
       "{ 'inputs': [],\n",
       "  'inverse_inputs': [inverse_inputs],\n",
       "  'inverse_outputs': inverse_outputs,\n",
       "  'logP': <FunctionWrapper at 0x7fe100442c90 for function at 0x7fe1407d4f50>,\n",
       "  'norm_det': Elemwise{mul,no_inplace}.0,\n",
       "  'outputs': f_outputs,\n",
       "  'parameters': [z0, mean],\n",
       "  'parameters_positive': [alpha, beta+alpha, var]}"
      ]
     },
     "execution_count": 7,
     "metadata": {},
     "output_type": "execute_result"
    }
   ],
   "source": [
    "normalizing_flow(transform_model, base_model)\n",
    "model = Merge(transform_model, base_model)\n",
    "model"
   ]
  },
  {
   "cell_type": "code",
   "execution_count": 8,
   "metadata": {
    "collapsed": false
   },
   "outputs": [
    {
     "data": {
      "text/plain": [
       "{ 'inputs': [],\n",
       "  'inverse_inputs': [inverse_inputs],\n",
       "  'inverse_outputs': inverse_outputs,\n",
       "  'logP': <FunctionWrapper at 0x7fe100442c90 for function at 0x7fe1407d4f50>,\n",
       "  'norm_det': Elemwise{mul,no_inplace}.0,\n",
       "  'outputs': f_outputs,\n",
       "  'parameters': [ z0,\n",
       "                  mean,\n",
       "                  alpha_copy_squareplus,\n",
       "                  beta+alpha_copy_squareplus,\n",
       "                  var_copy_squareplus],\n",
       "  'parameters_positive': [alpha_reparam, beta+alpha_reparam, var_reparam]}"
      ]
     },
     "execution_count": 8,
     "metadata": {},
     "output_type": "execute_result"
    }
   ],
   "source": [
    "model.map('parameters_positive',reparameterize_map(squareplus, squareplus_inv), 'parameters')\n",
    "model"
   ]
  },
  {
   "cell_type": "markdown",
   "metadata": {},
   "source": [
    "## target"
   ]
  },
  {
   "cell_type": "code",
   "execution_count": 9,
   "metadata": {
    "collapsed": true
   },
   "outputs": [],
   "source": [
    "base_target = pm.DiagGauss(init_mean=[5,5], init_var=(10,5))\n",
    "transform_target = dm.RadialTransform(init_z0=[5,5], init_beta=30, init_alpha=3)"
   ]
  },
  {
   "cell_type": "raw",
   "metadata": {},
   "source": [
    "base_target = pm.DiagGauss(init_mean=[5,5], init_var=(80,40))\n",
    "transform_target = dm.RadialTransform(init_z0=[30,10], init_beta=-70, init_alpha=80)"
   ]
  },
  {
   "cell_type": "code",
   "execution_count": 10,
   "metadata": {
    "collapsed": false
   },
   "outputs": [
    {
     "data": {
      "text/plain": [
       "array([ 4.14692058, -1.31950702])"
      ]
     },
     "execution_count": 10,
     "metadata": {},
     "output_type": "execute_result"
    }
   ],
   "source": [
    "normalizing_flow(transform_target, base_target)\n",
    "target = Merge(transform_target, base_target)\n",
    "t_sampler = target.function()\n",
    "t_sampler()"
   ]
  },
  {
   "cell_type": "code",
   "execution_count": 11,
   "metadata": {
    "collapsed": false
   },
   "outputs": [],
   "source": [
    "n_samples = 2000\n",
    "targets = np.array([t_sampler() for _ in xrange(n_samples)])"
   ]
  },
  {
   "cell_type": "markdown",
   "metadata": {},
   "source": [
    "## visualization"
   ]
  },
  {
   "cell_type": "code",
   "execution_count": 12,
   "metadata": {
    "collapsed": false
   },
   "outputs": [],
   "source": [
    "scatter_kwargs = dict(edgecolors=\"face\", alpha=0.01, s=5000)\n",
    "outer = dict(i=0)\n",
    "def plot_fit(fig, ax, givens={}, time_delay=0.1):\n",
    "    outer['i'] += 1\n",
    "    ax.clear()\n",
    "    \n",
    "    # targets\n",
    "    ax.plot(targets[:,0], targets[:,1], 'k.')\n",
    "#     ax.scatter(targets[:,0], targets[:,1], c='k', **scatter_kwargs)\n",
    "\n",
    "    # model\n",
    "    m_sampler = model.function(givens=givens)\n",
    "    m_samples = np.array([m_sampler() for _ in xrange(n_samples)])\n",
    "    ax.scatter(m_samples[:,0], m_samples[:,1], c='r',**scatter_kwargs)\n",
    "\n",
    "    fig.canvas.draw()\n",
    "    if time_delay is not None:\n",
    "        time.sleep(time_delay)"
   ]
  },
  {
   "cell_type": "code",
   "execution_count": 13,
   "metadata": {
    "collapsed": false,
    "scrolled": false
   },
   "outputs": [
    {
     "data": {
      "application/javascript": [
       "/* Put everything inside the global mpl namespace */\n",
       "window.mpl = {};\n",
       "\n",
       "mpl.get_websocket_type = function() {\n",
       "    if (typeof(WebSocket) !== 'undefined') {\n",
       "        return WebSocket;\n",
       "    } else if (typeof(MozWebSocket) !== 'undefined') {\n",
       "        return MozWebSocket;\n",
       "    } else {\n",
       "        alert('Your browser does not have WebSocket support.' +\n",
       "              'Please try Chrome, Safari or Firefox ≥ 6. ' +\n",
       "              'Firefox 4 and 5 are also supported but you ' +\n",
       "              'have to enable WebSockets in about:config.');\n",
       "    };\n",
       "}\n",
       "\n",
       "mpl.figure = function(figure_id, websocket, ondownload, parent_element) {\n",
       "    this.id = figure_id;\n",
       "\n",
       "    this.ws = websocket;\n",
       "\n",
       "    this.supports_binary = (this.ws.binaryType != undefined);\n",
       "\n",
       "    if (!this.supports_binary) {\n",
       "        var warnings = document.getElementById(\"mpl-warnings\");\n",
       "        if (warnings) {\n",
       "            warnings.style.display = 'block';\n",
       "            warnings.textContent = (\n",
       "                \"This browser does not support binary websocket messages. \" +\n",
       "                    \"Performance may be slow.\");\n",
       "        }\n",
       "    }\n",
       "\n",
       "    this.imageObj = new Image();\n",
       "\n",
       "    this.context = undefined;\n",
       "    this.message = undefined;\n",
       "    this.canvas = undefined;\n",
       "    this.rubberband_canvas = undefined;\n",
       "    this.rubberband_context = undefined;\n",
       "    this.format_dropdown = undefined;\n",
       "\n",
       "    this.image_mode = 'full';\n",
       "\n",
       "    this.root = $('<div/>');\n",
       "    this._root_extra_style(this.root)\n",
       "    this.root.attr('style', 'display: inline-block');\n",
       "\n",
       "    $(parent_element).append(this.root);\n",
       "\n",
       "    this._init_header(this);\n",
       "    this._init_canvas(this);\n",
       "    this._init_toolbar(this);\n",
       "\n",
       "    var fig = this;\n",
       "\n",
       "    this.waiting = false;\n",
       "\n",
       "    this.ws.onopen =  function () {\n",
       "            fig.send_message(\"supports_binary\", {value: fig.supports_binary});\n",
       "            fig.send_message(\"send_image_mode\", {});\n",
       "            fig.send_message(\"refresh\", {});\n",
       "        }\n",
       "\n",
       "    this.imageObj.onload = function() {\n",
       "            if (fig.image_mode == 'full') {\n",
       "                // Full images could contain transparency (where diff images\n",
       "                // almost always do), so we need to clear the canvas so that\n",
       "                // there is no ghosting.\n",
       "                fig.context.clearRect(0, 0, fig.canvas.width, fig.canvas.height);\n",
       "            }\n",
       "            fig.context.drawImage(fig.imageObj, 0, 0);\n",
       "        };\n",
       "\n",
       "    this.imageObj.onunload = function() {\n",
       "        this.ws.close();\n",
       "    }\n",
       "\n",
       "    this.ws.onmessage = this._make_on_message_function(this);\n",
       "\n",
       "    this.ondownload = ondownload;\n",
       "}\n",
       "\n",
       "mpl.figure.prototype._init_header = function() {\n",
       "    var titlebar = $(\n",
       "        '<div class=\"ui-dialog-titlebar ui-widget-header ui-corner-all ' +\n",
       "        'ui-helper-clearfix\"/>');\n",
       "    var titletext = $(\n",
       "        '<div class=\"ui-dialog-title\" style=\"width: 100%; ' +\n",
       "        'text-align: center; padding: 3px;\"/>');\n",
       "    titlebar.append(titletext)\n",
       "    this.root.append(titlebar);\n",
       "    this.header = titletext[0];\n",
       "}\n",
       "\n",
       "\n",
       "\n",
       "mpl.figure.prototype._canvas_extra_style = function(canvas_div) {\n",
       "\n",
       "}\n",
       "\n",
       "\n",
       "mpl.figure.prototype._root_extra_style = function(canvas_div) {\n",
       "\n",
       "}\n",
       "\n",
       "mpl.figure.prototype._init_canvas = function() {\n",
       "    var fig = this;\n",
       "\n",
       "    var canvas_div = $('<div/>');\n",
       "\n",
       "    canvas_div.attr('style', 'position: relative; clear: both; outline: 0');\n",
       "\n",
       "    function canvas_keyboard_event(event) {\n",
       "        return fig.key_event(event, event['data']);\n",
       "    }\n",
       "\n",
       "    canvas_div.keydown('key_press', canvas_keyboard_event);\n",
       "    canvas_div.keyup('key_release', canvas_keyboard_event);\n",
       "    this.canvas_div = canvas_div\n",
       "    this._canvas_extra_style(canvas_div)\n",
       "    this.root.append(canvas_div);\n",
       "\n",
       "    var canvas = $('<canvas/>');\n",
       "    canvas.addClass('mpl-canvas');\n",
       "    canvas.attr('style', \"left: 0; top: 0; z-index: 0; outline: 0\")\n",
       "\n",
       "    this.canvas = canvas[0];\n",
       "    this.context = canvas[0].getContext(\"2d\");\n",
       "\n",
       "    var rubberband = $('<canvas/>');\n",
       "    rubberband.attr('style', \"position: absolute; left: 0; top: 0; z-index: 1;\")\n",
       "\n",
       "    var pass_mouse_events = true;\n",
       "\n",
       "    canvas_div.resizable({\n",
       "        start: function(event, ui) {\n",
       "            pass_mouse_events = false;\n",
       "        },\n",
       "        resize: function(event, ui) {\n",
       "            fig.request_resize(ui.size.width, ui.size.height);\n",
       "        },\n",
       "        stop: function(event, ui) {\n",
       "            pass_mouse_events = true;\n",
       "            fig.request_resize(ui.size.width, ui.size.height);\n",
       "        },\n",
       "    });\n",
       "\n",
       "    function mouse_event_fn(event) {\n",
       "        if (pass_mouse_events)\n",
       "            return fig.mouse_event(event, event['data']);\n",
       "    }\n",
       "\n",
       "    rubberband.mousedown('button_press', mouse_event_fn);\n",
       "    rubberband.mouseup('button_release', mouse_event_fn);\n",
       "    // Throttle sequential mouse events to 1 every 20ms.\n",
       "    rubberband.mousemove('motion_notify', mouse_event_fn);\n",
       "\n",
       "    rubberband.mouseenter('figure_enter', mouse_event_fn);\n",
       "    rubberband.mouseleave('figure_leave', mouse_event_fn);\n",
       "\n",
       "    canvas_div.on(\"wheel\", function (event) {\n",
       "        event = event.originalEvent;\n",
       "        event['data'] = 'scroll'\n",
       "        if (event.deltaY < 0) {\n",
       "            event.step = 1;\n",
       "        } else {\n",
       "            event.step = -1;\n",
       "        }\n",
       "        mouse_event_fn(event);\n",
       "    });\n",
       "\n",
       "    canvas_div.append(canvas);\n",
       "    canvas_div.append(rubberband);\n",
       "\n",
       "    this.rubberband = rubberband;\n",
       "    this.rubberband_canvas = rubberband[0];\n",
       "    this.rubberband_context = rubberband[0].getContext(\"2d\");\n",
       "    this.rubberband_context.strokeStyle = \"#000000\";\n",
       "\n",
       "    this._resize_canvas = function(width, height) {\n",
       "        // Keep the size of the canvas, canvas container, and rubber band\n",
       "        // canvas in synch.\n",
       "        canvas_div.css('width', width)\n",
       "        canvas_div.css('height', height)\n",
       "\n",
       "        canvas.attr('width', width);\n",
       "        canvas.attr('height', height);\n",
       "\n",
       "        rubberband.attr('width', width);\n",
       "        rubberband.attr('height', height);\n",
       "    }\n",
       "\n",
       "    // Set the figure to an initial 600x600px, this will subsequently be updated\n",
       "    // upon first draw.\n",
       "    this._resize_canvas(600, 600);\n",
       "\n",
       "    // Disable right mouse context menu.\n",
       "    $(this.rubberband_canvas).bind(\"contextmenu\",function(e){\n",
       "        return false;\n",
       "    });\n",
       "\n",
       "    function set_focus () {\n",
       "        canvas.focus();\n",
       "        canvas_div.focus();\n",
       "    }\n",
       "\n",
       "    window.setTimeout(set_focus, 100);\n",
       "}\n",
       "\n",
       "mpl.figure.prototype._init_toolbar = function() {\n",
       "    var fig = this;\n",
       "\n",
       "    var nav_element = $('<div/>')\n",
       "    nav_element.attr('style', 'width: 100%');\n",
       "    this.root.append(nav_element);\n",
       "\n",
       "    // Define a callback function for later on.\n",
       "    function toolbar_event(event) {\n",
       "        return fig.toolbar_button_onclick(event['data']);\n",
       "    }\n",
       "    function toolbar_mouse_event(event) {\n",
       "        return fig.toolbar_button_onmouseover(event['data']);\n",
       "    }\n",
       "\n",
       "    for(var toolbar_ind in mpl.toolbar_items) {\n",
       "        var name = mpl.toolbar_items[toolbar_ind][0];\n",
       "        var tooltip = mpl.toolbar_items[toolbar_ind][1];\n",
       "        var image = mpl.toolbar_items[toolbar_ind][2];\n",
       "        var method_name = mpl.toolbar_items[toolbar_ind][3];\n",
       "\n",
       "        if (!name) {\n",
       "            // put a spacer in here.\n",
       "            continue;\n",
       "        }\n",
       "        var button = $('<button/>');\n",
       "        button.addClass('ui-button ui-widget ui-state-default ui-corner-all ' +\n",
       "                        'ui-button-icon-only');\n",
       "        button.attr('role', 'button');\n",
       "        button.attr('aria-disabled', 'false');\n",
       "        button.click(method_name, toolbar_event);\n",
       "        button.mouseover(tooltip, toolbar_mouse_event);\n",
       "\n",
       "        var icon_img = $('<span/>');\n",
       "        icon_img.addClass('ui-button-icon-primary ui-icon');\n",
       "        icon_img.addClass(image);\n",
       "        icon_img.addClass('ui-corner-all');\n",
       "\n",
       "        var tooltip_span = $('<span/>');\n",
       "        tooltip_span.addClass('ui-button-text');\n",
       "        tooltip_span.html(tooltip);\n",
       "\n",
       "        button.append(icon_img);\n",
       "        button.append(tooltip_span);\n",
       "\n",
       "        nav_element.append(button);\n",
       "    }\n",
       "\n",
       "    var fmt_picker_span = $('<span/>');\n",
       "\n",
       "    var fmt_picker = $('<select/>');\n",
       "    fmt_picker.addClass('mpl-toolbar-option ui-widget ui-widget-content');\n",
       "    fmt_picker_span.append(fmt_picker);\n",
       "    nav_element.append(fmt_picker_span);\n",
       "    this.format_dropdown = fmt_picker[0];\n",
       "\n",
       "    for (var ind in mpl.extensions) {\n",
       "        var fmt = mpl.extensions[ind];\n",
       "        var option = $(\n",
       "            '<option/>', {selected: fmt === mpl.default_extension}).html(fmt);\n",
       "        fmt_picker.append(option)\n",
       "    }\n",
       "\n",
       "    // Add hover states to the ui-buttons\n",
       "    $( \".ui-button\" ).hover(\n",
       "        function() { $(this).addClass(\"ui-state-hover\");},\n",
       "        function() { $(this).removeClass(\"ui-state-hover\");}\n",
       "    );\n",
       "\n",
       "    var status_bar = $('<span class=\"mpl-message\"/>');\n",
       "    nav_element.append(status_bar);\n",
       "    this.message = status_bar[0];\n",
       "}\n",
       "\n",
       "mpl.figure.prototype.request_resize = function(x_pixels, y_pixels) {\n",
       "    // Request matplotlib to resize the figure. Matplotlib will then trigger a resize in the client,\n",
       "    // which will in turn request a refresh of the image.\n",
       "    this.send_message('resize', {'width': x_pixels, 'height': y_pixels});\n",
       "}\n",
       "\n",
       "mpl.figure.prototype.send_message = function(type, properties) {\n",
       "    properties['type'] = type;\n",
       "    properties['figure_id'] = this.id;\n",
       "    this.ws.send(JSON.stringify(properties));\n",
       "}\n",
       "\n",
       "mpl.figure.prototype.send_draw_message = function() {\n",
       "    if (!this.waiting) {\n",
       "        this.waiting = true;\n",
       "        this.ws.send(JSON.stringify({type: \"draw\", figure_id: this.id}));\n",
       "    }\n",
       "}\n",
       "\n",
       "\n",
       "mpl.figure.prototype.handle_save = function(fig, msg) {\n",
       "    var format_dropdown = fig.format_dropdown;\n",
       "    var format = format_dropdown.options[format_dropdown.selectedIndex].value;\n",
       "    fig.ondownload(fig, format);\n",
       "}\n",
       "\n",
       "\n",
       "mpl.figure.prototype.handle_resize = function(fig, msg) {\n",
       "    var size = msg['size'];\n",
       "    if (size[0] != fig.canvas.width || size[1] != fig.canvas.height) {\n",
       "        fig._resize_canvas(size[0], size[1]);\n",
       "        fig.send_message(\"refresh\", {});\n",
       "    };\n",
       "}\n",
       "\n",
       "mpl.figure.prototype.handle_rubberband = function(fig, msg) {\n",
       "    var x0 = msg['x0'];\n",
       "    var y0 = fig.canvas.height - msg['y0'];\n",
       "    var x1 = msg['x1'];\n",
       "    var y1 = fig.canvas.height - msg['y1'];\n",
       "    x0 = Math.floor(x0) + 0.5;\n",
       "    y0 = Math.floor(y0) + 0.5;\n",
       "    x1 = Math.floor(x1) + 0.5;\n",
       "    y1 = Math.floor(y1) + 0.5;\n",
       "    var min_x = Math.min(x0, x1);\n",
       "    var min_y = Math.min(y0, y1);\n",
       "    var width = Math.abs(x1 - x0);\n",
       "    var height = Math.abs(y1 - y0);\n",
       "\n",
       "    fig.rubberband_context.clearRect(\n",
       "        0, 0, fig.canvas.width, fig.canvas.height);\n",
       "\n",
       "    fig.rubberband_context.strokeRect(min_x, min_y, width, height);\n",
       "}\n",
       "\n",
       "mpl.figure.prototype.handle_figure_label = function(fig, msg) {\n",
       "    // Updates the figure title.\n",
       "    fig.header.textContent = msg['label'];\n",
       "}\n",
       "\n",
       "mpl.figure.prototype.handle_cursor = function(fig, msg) {\n",
       "    var cursor = msg['cursor'];\n",
       "    switch(cursor)\n",
       "    {\n",
       "    case 0:\n",
       "        cursor = 'pointer';\n",
       "        break;\n",
       "    case 1:\n",
       "        cursor = 'default';\n",
       "        break;\n",
       "    case 2:\n",
       "        cursor = 'crosshair';\n",
       "        break;\n",
       "    case 3:\n",
       "        cursor = 'move';\n",
       "        break;\n",
       "    }\n",
       "    fig.rubberband_canvas.style.cursor = cursor;\n",
       "}\n",
       "\n",
       "mpl.figure.prototype.handle_message = function(fig, msg) {\n",
       "    fig.message.textContent = msg['message'];\n",
       "}\n",
       "\n",
       "mpl.figure.prototype.handle_draw = function(fig, msg) {\n",
       "    // Request the server to send over a new figure.\n",
       "    fig.send_draw_message();\n",
       "}\n",
       "\n",
       "mpl.figure.prototype.handle_image_mode = function(fig, msg) {\n",
       "    fig.image_mode = msg['mode'];\n",
       "}\n",
       "\n",
       "mpl.figure.prototype.updated_canvas_event = function() {\n",
       "    // Called whenever the canvas gets updated.\n",
       "    this.send_message(\"ack\", {});\n",
       "}\n",
       "\n",
       "// A function to construct a web socket function for onmessage handling.\n",
       "// Called in the figure constructor.\n",
       "mpl.figure.prototype._make_on_message_function = function(fig) {\n",
       "    return function socket_on_message(evt) {\n",
       "        if (evt.data instanceof Blob) {\n",
       "            /* FIXME: We get \"Resource interpreted as Image but\n",
       "             * transferred with MIME type text/plain:\" errors on\n",
       "             * Chrome.  But how to set the MIME type?  It doesn't seem\n",
       "             * to be part of the websocket stream */\n",
       "            evt.data.type = \"image/png\";\n",
       "\n",
       "            /* Free the memory for the previous frames */\n",
       "            if (fig.imageObj.src) {\n",
       "                (window.URL || window.webkitURL).revokeObjectURL(\n",
       "                    fig.imageObj.src);\n",
       "            }\n",
       "\n",
       "            fig.imageObj.src = (window.URL || window.webkitURL).createObjectURL(\n",
       "                evt.data);\n",
       "            fig.updated_canvas_event();\n",
       "            fig.waiting = false;\n",
       "            return;\n",
       "        }\n",
       "        else if (typeof evt.data === 'string' && evt.data.slice(0, 21) == \"data:image/png;base64\") {\n",
       "            fig.imageObj.src = evt.data;\n",
       "            fig.updated_canvas_event();\n",
       "            fig.waiting = false;\n",
       "            return;\n",
       "        }\n",
       "\n",
       "        var msg = JSON.parse(evt.data);\n",
       "        var msg_type = msg['type'];\n",
       "\n",
       "        // Call the  \"handle_{type}\" callback, which takes\n",
       "        // the figure and JSON message as its only arguments.\n",
       "        try {\n",
       "            var callback = fig[\"handle_\" + msg_type];\n",
       "        } catch (e) {\n",
       "            console.log(\"No handler for the '\" + msg_type + \"' message type: \", msg);\n",
       "            return;\n",
       "        }\n",
       "\n",
       "        if (callback) {\n",
       "            try {\n",
       "                // console.log(\"Handling '\" + msg_type + \"' message: \", msg);\n",
       "                callback(fig, msg);\n",
       "            } catch (e) {\n",
       "                console.log(\"Exception inside the 'handler_\" + msg_type + \"' callback:\", e, e.stack, msg);\n",
       "            }\n",
       "        }\n",
       "    };\n",
       "}\n",
       "\n",
       "// from http://stackoverflow.com/questions/1114465/getting-mouse-location-in-canvas\n",
       "mpl.findpos = function(e) {\n",
       "    //this section is from http://www.quirksmode.org/js/events_properties.html\n",
       "    var targ;\n",
       "    if (!e)\n",
       "        e = window.event;\n",
       "    if (e.target)\n",
       "        targ = e.target;\n",
       "    else if (e.srcElement)\n",
       "        targ = e.srcElement;\n",
       "    if (targ.nodeType == 3) // defeat Safari bug\n",
       "        targ = targ.parentNode;\n",
       "\n",
       "    // jQuery normalizes the pageX and pageY\n",
       "    // pageX,Y are the mouse positions relative to the document\n",
       "    // offset() returns the position of the element relative to the document\n",
       "    var x = e.pageX - $(targ).offset().left;\n",
       "    var y = e.pageY - $(targ).offset().top;\n",
       "\n",
       "    return {\"x\": x, \"y\": y};\n",
       "};\n",
       "\n",
       "/*\n",
       " * return a copy of an object with only non-object keys\n",
       " * we need this to avoid circular references\n",
       " * http://stackoverflow.com/a/24161582/3208463\n",
       " */\n",
       "function simpleKeys (original) {\n",
       "  return Object.keys(original).reduce(function (obj, key) {\n",
       "    if (typeof original[key] !== 'object')\n",
       "        obj[key] = original[key]\n",
       "    return obj;\n",
       "  }, {});\n",
       "}\n",
       "\n",
       "mpl.figure.prototype.mouse_event = function(event, name) {\n",
       "    var canvas_pos = mpl.findpos(event)\n",
       "\n",
       "    if (name === 'button_press')\n",
       "    {\n",
       "        this.canvas.focus();\n",
       "        this.canvas_div.focus();\n",
       "    }\n",
       "\n",
       "    var x = canvas_pos.x;\n",
       "    var y = canvas_pos.y;\n",
       "\n",
       "    this.send_message(name, {x: x, y: y, button: event.button,\n",
       "                             step: event.step,\n",
       "                             guiEvent: simpleKeys(event)});\n",
       "\n",
       "    /* This prevents the web browser from automatically changing to\n",
       "     * the text insertion cursor when the button is pressed.  We want\n",
       "     * to control all of the cursor setting manually through the\n",
       "     * 'cursor' event from matplotlib */\n",
       "    event.preventDefault();\n",
       "    return false;\n",
       "}\n",
       "\n",
       "mpl.figure.prototype._key_event_extra = function(event, name) {\n",
       "    // Handle any extra behaviour associated with a key event\n",
       "}\n",
       "\n",
       "mpl.figure.prototype.key_event = function(event, name) {\n",
       "\n",
       "    // Prevent repeat events\n",
       "    if (name == 'key_press')\n",
       "    {\n",
       "        if (event.which === this._key)\n",
       "            return;\n",
       "        else\n",
       "            this._key = event.which;\n",
       "    }\n",
       "    if (name == 'key_release')\n",
       "        this._key = null;\n",
       "\n",
       "    var value = '';\n",
       "    if (event.ctrlKey && event.which != 17)\n",
       "        value += \"ctrl+\";\n",
       "    if (event.altKey && event.which != 18)\n",
       "        value += \"alt+\";\n",
       "    if (event.shiftKey && event.which != 16)\n",
       "        value += \"shift+\";\n",
       "\n",
       "    value += 'k';\n",
       "    value += event.which.toString();\n",
       "\n",
       "    this._key_event_extra(event, name);\n",
       "\n",
       "    this.send_message(name, {key: value,\n",
       "                             guiEvent: simpleKeys(event)});\n",
       "    return false;\n",
       "}\n",
       "\n",
       "mpl.figure.prototype.toolbar_button_onclick = function(name) {\n",
       "    if (name == 'download') {\n",
       "        this.handle_save(this, null);\n",
       "    } else {\n",
       "        this.send_message(\"toolbar_button\", {name: name});\n",
       "    }\n",
       "};\n",
       "\n",
       "mpl.figure.prototype.toolbar_button_onmouseover = function(tooltip) {\n",
       "    this.message.textContent = tooltip;\n",
       "};\n",
       "mpl.toolbar_items = [[\"Home\", \"Reset original view\", \"fa fa-home icon-home\", \"home\"], [\"Back\", \"Back to  previous view\", \"fa fa-arrow-left icon-arrow-left\", \"back\"], [\"Forward\", \"Forward to next view\", \"fa fa-arrow-right icon-arrow-right\", \"forward\"], [\"\", \"\", \"\", \"\"], [\"Pan\", \"Pan axes with left mouse, zoom with right\", \"fa fa-arrows icon-move\", \"pan\"], [\"Zoom\", \"Zoom to rectangle\", \"fa fa-square-o icon-check-empty\", \"zoom\"], [\"\", \"\", \"\", \"\"], [\"Download\", \"Download plot\", \"fa fa-floppy-o icon-save\", \"download\"]];\n",
       "\n",
       "mpl.extensions = [\"eps\", \"jpeg\", \"pdf\", \"png\", \"ps\", \"raw\", \"svg\", \"tif\"];\n",
       "\n",
       "mpl.default_extension = \"png\";var comm_websocket_adapter = function(comm) {\n",
       "    // Create a \"websocket\"-like object which calls the given IPython comm\n",
       "    // object with the appropriate methods. Currently this is a non binary\n",
       "    // socket, so there is still some room for performance tuning.\n",
       "    var ws = {};\n",
       "\n",
       "    ws.close = function() {\n",
       "        comm.close()\n",
       "    };\n",
       "    ws.send = function(m) {\n",
       "        //console.log('sending', m);\n",
       "        comm.send(m);\n",
       "    };\n",
       "    // Register the callback with on_msg.\n",
       "    comm.on_msg(function(msg) {\n",
       "        //console.log('receiving', msg['content']['data'], msg);\n",
       "        // Pass the mpl event to the overriden (by mpl) onmessage function.\n",
       "        ws.onmessage(msg['content']['data'])\n",
       "    });\n",
       "    return ws;\n",
       "}\n",
       "\n",
       "mpl.mpl_figure_comm = function(comm, msg) {\n",
       "    // This is the function which gets called when the mpl process\n",
       "    // starts-up an IPython Comm through the \"matplotlib\" channel.\n",
       "\n",
       "    var id = msg.content.data.id;\n",
       "    // Get hold of the div created by the display call when the Comm\n",
       "    // socket was opened in Python.\n",
       "    var element = $(\"#\" + id);\n",
       "    var ws_proxy = comm_websocket_adapter(comm)\n",
       "\n",
       "    function ondownload(figure, format) {\n",
       "        window.open(figure.imageObj.src);\n",
       "    }\n",
       "\n",
       "    var fig = new mpl.figure(id, ws_proxy,\n",
       "                           ondownload,\n",
       "                           element.get(0));\n",
       "\n",
       "    // Call onopen now - mpl needs it, as it is assuming we've passed it a real\n",
       "    // web socket which is closed, not our websocket->open comm proxy.\n",
       "    ws_proxy.onopen();\n",
       "\n",
       "    fig.parent_element = element.get(0);\n",
       "    fig.cell_info = mpl.find_output_cell(\"<div id='\" + id + \"'></div>\");\n",
       "    if (!fig.cell_info) {\n",
       "        console.error(\"Failed to find cell for figure\", id, fig);\n",
       "        return;\n",
       "    }\n",
       "\n",
       "    var output_index = fig.cell_info[2]\n",
       "    var cell = fig.cell_info[0];\n",
       "\n",
       "};\n",
       "\n",
       "mpl.figure.prototype.handle_close = function(fig, msg) {\n",
       "    fig.root.unbind('remove')\n",
       "\n",
       "    // Update the output cell to use the data from the current canvas.\n",
       "    fig.push_to_output();\n",
       "    var dataURL = fig.canvas.toDataURL();\n",
       "    // Re-enable the keyboard manager in IPython - without this line, in FF,\n",
       "    // the notebook keyboard shortcuts fail.\n",
       "    IPython.keyboard_manager.enable()\n",
       "    $(fig.parent_element).html('<img src=\"' + dataURL + '\">');\n",
       "    fig.close_ws(fig, msg);\n",
       "}\n",
       "\n",
       "mpl.figure.prototype.close_ws = function(fig, msg){\n",
       "    fig.send_message('closing', msg);\n",
       "    // fig.ws.close()\n",
       "}\n",
       "\n",
       "mpl.figure.prototype.push_to_output = function(remove_interactive) {\n",
       "    // Turn the data on the canvas into data in the output cell.\n",
       "    var dataURL = this.canvas.toDataURL();\n",
       "    this.cell_info[1]['text/html'] = '<img src=\"' + dataURL + '\">';\n",
       "}\n",
       "\n",
       "mpl.figure.prototype.updated_canvas_event = function() {\n",
       "    // Tell IPython that the notebook contents must change.\n",
       "    IPython.notebook.set_dirty(true);\n",
       "    this.send_message(\"ack\", {});\n",
       "    var fig = this;\n",
       "    // Wait a second, then push the new image to the DOM so\n",
       "    // that it is saved nicely (might be nice to debounce this).\n",
       "    setTimeout(function () { fig.push_to_output() }, 1000);\n",
       "}\n",
       "\n",
       "mpl.figure.prototype._init_toolbar = function() {\n",
       "    var fig = this;\n",
       "\n",
       "    var nav_element = $('<div/>')\n",
       "    nav_element.attr('style', 'width: 100%');\n",
       "    this.root.append(nav_element);\n",
       "\n",
       "    // Define a callback function for later on.\n",
       "    function toolbar_event(event) {\n",
       "        return fig.toolbar_button_onclick(event['data']);\n",
       "    }\n",
       "    function toolbar_mouse_event(event) {\n",
       "        return fig.toolbar_button_onmouseover(event['data']);\n",
       "    }\n",
       "\n",
       "    for(var toolbar_ind in mpl.toolbar_items){\n",
       "        var name = mpl.toolbar_items[toolbar_ind][0];\n",
       "        var tooltip = mpl.toolbar_items[toolbar_ind][1];\n",
       "        var image = mpl.toolbar_items[toolbar_ind][2];\n",
       "        var method_name = mpl.toolbar_items[toolbar_ind][3];\n",
       "\n",
       "        if (!name) { continue; };\n",
       "\n",
       "        var button = $('<button class=\"btn btn-default\" href=\"#\" title=\"' + name + '\"><i class=\"fa ' + image + ' fa-lg\"></i></button>');\n",
       "        button.click(method_name, toolbar_event);\n",
       "        button.mouseover(tooltip, toolbar_mouse_event);\n",
       "        nav_element.append(button);\n",
       "    }\n",
       "\n",
       "    // Add the status bar.\n",
       "    var status_bar = $('<span class=\"mpl-message\" style=\"text-align:right; float: right;\"/>');\n",
       "    nav_element.append(status_bar);\n",
       "    this.message = status_bar[0];\n",
       "\n",
       "    // Add the close button to the window.\n",
       "    var buttongrp = $('<div class=\"btn-group inline pull-right\"></div>');\n",
       "    var button = $('<button class=\"btn btn-mini btn-primary\" href=\"#\" title=\"Stop Interaction\"><i class=\"fa fa-power-off icon-remove icon-large\"></i></button>');\n",
       "    button.click(function (evt) { fig.handle_close(fig, {}); } );\n",
       "    button.mouseover('Stop Interaction', toolbar_mouse_event);\n",
       "    buttongrp.append(button);\n",
       "    var titlebar = this.root.find($('.ui-dialog-titlebar'));\n",
       "    titlebar.prepend(buttongrp);\n",
       "}\n",
       "\n",
       "mpl.figure.prototype._root_extra_style = function(el){\n",
       "    var fig = this\n",
       "    el.on(\"remove\", function(){\n",
       "\tfig.close_ws(fig, {});\n",
       "    });\n",
       "}\n",
       "\n",
       "mpl.figure.prototype._canvas_extra_style = function(el){\n",
       "    // this is important to make the div 'focusable\n",
       "    el.attr('tabindex', 0)\n",
       "    // reach out to IPython and tell the keyboard manager to turn it's self\n",
       "    // off when our div gets focus\n",
       "\n",
       "    // location in version 3\n",
       "    if (IPython.notebook.keyboard_manager) {\n",
       "        IPython.notebook.keyboard_manager.register_events(el);\n",
       "    }\n",
       "    else {\n",
       "        // location in version 2\n",
       "        IPython.keyboard_manager.register_events(el);\n",
       "    }\n",
       "\n",
       "}\n",
       "\n",
       "mpl.figure.prototype._key_event_extra = function(event, name) {\n",
       "    var manager = IPython.notebook.keyboard_manager;\n",
       "    if (!manager)\n",
       "        manager = IPython.keyboard_manager;\n",
       "\n",
       "    // Check for shift+enter\n",
       "    if (event.shiftKey && event.which == 13) {\n",
       "        this.canvas_div.blur();\n",
       "        event.shiftKey = false;\n",
       "        // Send a \"J\" for go to next cell\n",
       "        event.which = 74;\n",
       "        event.keyCode = 74;\n",
       "        manager.command_mode();\n",
       "        manager.handle_keydown(event);\n",
       "    }\n",
       "}\n",
       "\n",
       "mpl.figure.prototype.handle_save = function(fig, msg) {\n",
       "    fig.ondownload(fig, null);\n",
       "}\n",
       "\n",
       "\n",
       "mpl.find_output_cell = function(html_output) {\n",
       "    // Return the cell and output element which can be found *uniquely* in the notebook.\n",
       "    // Note - this is a bit hacky, but it is done because the \"notebook_saving.Notebook\"\n",
       "    // IPython event is triggered only after the cells have been serialised, which for\n",
       "    // our purposes (turning an active figure into a static one), is too late.\n",
       "    var cells = IPython.notebook.get_cells();\n",
       "    var ncells = cells.length;\n",
       "    for (var i=0; i<ncells; i++) {\n",
       "        var cell = cells[i];\n",
       "        if (cell.cell_type === 'code'){\n",
       "            for (var j=0; j<cell.output_area.outputs.length; j++) {\n",
       "                var data = cell.output_area.outputs[j];\n",
       "                if (data.data) {\n",
       "                    // IPython >= 3 moved mimebundle to data attribute of output\n",
       "                    data = data.data;\n",
       "                }\n",
       "                if (data['text/html'] == html_output) {\n",
       "                    return [cell, data, j];\n",
       "                }\n",
       "            }\n",
       "        }\n",
       "    }\n",
       "}\n",
       "\n",
       "// Register the function which deals with the matplotlib target/channel.\n",
       "// The kernel may be null if the page has been refreshed.\n",
       "if (IPython.notebook.kernel != null) {\n",
       "    IPython.notebook.kernel.comm_manager.register_target('matplotlib', mpl.mpl_figure_comm);\n",
       "}\n"
      ],
      "text/plain": [
       "<IPython.core.display.Javascript object>"
      ]
     },
     "metadata": {},
     "output_type": "display_data"
    },
    {
     "data": {
      "text/html": [
       "<img src=\"data:image/png;base64,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\">"
      ],
      "text/plain": [
       "<IPython.core.display.HTML object>"
      ]
     },
     "metadata": {},
     "output_type": "display_data"
    }
   ],
   "source": [
    "fig, ax = plt.subplots()\n",
    "plot_fit(fig, ax)"
   ]
  },
  {
   "cell_type": "markdown",
   "metadata": {},
   "source": [
    "## fit"
   ]
  },
  {
   "cell_type": "code",
   "execution_count": 17,
   "metadata": {
    "collapsed": false
   },
   "outputs": [
    {
     "data": {
      "text/plain": [
       "{'fun': <function schlichtanders.myoptimizers.f_batch>,\n",
       " 'jac': <function schlichtanders.myoptimizers.f_batch>,\n",
       " 'x0': array([ 0.        ,  0.        ,  0.        ,  0.        ,  0.99995   ,\n",
       "         1.41417821,  0.99995   ,  0.99995   ])}"
      ]
     },
     "execution_count": 17,
     "metadata": {},
     "output_type": "execute_result"
    }
   ],
   "source": [
    "postmap = compose(scipy_postmap, flat_numericalize_postmap, flatten_parameters, probabilistic_optimizer_postmap)\n",
    "scipy_kwargs = postmap(model, wrapper=batch, initial_inputs=[])\n",
    "scipy_kwargs"
   ]
  },
  {
   "cell_type": "code",
   "execution_count": 19,
   "metadata": {
    "collapsed": false
   },
   "outputs": [
    {
     "name": "stdout",
     "output_type": "stream",
     "text": [
      "Warning: Desired error not necessarily achieved due to precision loss.\n",
      "         Current function value: -17456.687662\n",
      "         Iterations: 10\n",
      "         Function evaluations: 47\n",
      "         Gradient evaluations: 41\n"
     ]
    },
    {
     "data": {
      "text/plain": [
       "      fun: -17456.687661741507\n",
       " hess_inv: array([[  1.01032942e+00,   2.58998477e-03,  -1.66351980e-02,\n",
       "         -3.66037482e-02,  -1.01505528e+01,  -8.36274473e-02,\n",
       "         -6.69804337e-01,  -1.32729891e+00],\n",
       "       [  2.58998477e-03,   9.99220323e-01,  -6.10760161e-03,\n",
       "         -1.83142474e-02,  -5.70281095e+00,  -5.78942204e-02,\n",
       "         -3.74534782e-01,  -7.45033204e-01],\n",
       "       [ -1.66351980e-02,  -6.10760161e-03,   1.02360573e+00,\n",
       "          4.49688048e-02,   1.16648926e+01,   8.34958272e-02,\n",
       "          7.56748511e-01,   1.51738029e+00],\n",
       "       [ -3.66037482e-02,  -1.83142474e-02,   4.49688048e-02,\n",
       "          1.06440662e+00,   1.37647495e+01,   5.78145704e-02,\n",
       "          9.02431460e-01,   1.79582295e+00],\n",
       "       [ -1.01505528e+01,  -5.70281095e+00,   1.16648926e+01,\n",
       "          1.37647495e+01,   2.38437105e+03,   1.04579014e-01,\n",
       "          1.60101736e+02,   3.13206167e+02],\n",
       "       [ -8.36274473e-02,  -5.78942204e-02,   8.34958272e-02,\n",
       "          5.78145704e-02,   1.04579014e-01,   1.31574447e-01,\n",
       "         -3.79530397e-03,  -1.62684335e-02],\n",
       "       [ -6.69804337e-01,  -3.74534782e-01,   7.56748511e-01,\n",
       "          9.02431460e-01,   1.60101736e+02,  -3.79530397e-03,\n",
       "          1.10196634e+01,   2.05957949e+01],\n",
       "       [ -1.32729891e+00,  -7.45033204e-01,   1.51738029e+00,\n",
       "          1.79582295e+00,   3.13206167e+02,  -1.62684335e-02,\n",
       "          2.05957949e+01,   4.18788378e+01]])\n",
       "      jac: array([ 0.31298021,  0.224489  , -0.17698966, -0.31910759,  0.65554812,\n",
       "       -3.74740428,  4.2460556 , -8.17507303])\n",
       "  message: 'Desired error not necessarily achieved due to precision loss.'\n",
       "     nfev: 47\n",
       "      nit: 10\n",
       "     njev: 41\n",
       "   status: 2\n",
       "  success: False\n",
       "        x: array([  4.67637960e+01,   2.63412192e+01,  -1.41428539e+01,\n",
       "        -2.87108365e+01,  -1.22034214e+04,  -3.69387231e-01,\n",
       "         1.19329823e+03,  -3.53003116e+02])"
      ]
     },
     "execution_count": 19,
     "metadata": {},
     "output_type": "execute_result"
    }
   ],
   "source": [
    "fit = minimize(\n",
    "    args=(targets,),\n",
    "#     method='CG',\n",
    "#     method=\"Newton-CG\",\n",
    "#     method=\"Nelder-Mead\",\n",
    "    options={'maxiter':10000, 'disp':True},\n",
    "    callback=lambda xs: plot_fit(fig, ax, {model['parameters_flat'][0]:xs}, time_delay=0.001),\n",
    "    **scipy_kwargs\n",
    "); fit"
   ]
  },
  {
   "cell_type": "markdown",
   "metadata": {
    "collapsed": true
   },
   "source": [
    "Using the default scipy optimizer, one can see very good, that the problem is ill-defined in that the maximum likelihood solution is a ill-formed solution."
   ]
  },
  {
   "cell_type": "markdown",
   "metadata": {},
   "source": [
    "# adding regularizer"
   ]
  },
  {
   "cell_type": "code",
   "execution_count": null,
   "metadata": {
    "collapsed": true
   },
   "outputs": [],
   "source": []
  }
 ],
 "metadata": {
  "kernelspec": {
   "display_name": "Python 2",
   "language": "python",
   "name": "python2"
  },
  "language_info": {
   "codemirror_mode": {
    "name": "ipython",
    "version": 2
   },
   "file_extension": ".py",
   "mimetype": "text/x-python",
   "name": "python",
   "nbconvert_exporter": "python",
   "pygments_lexer": "ipython2",
   "version": "2.7.6"
  },
  "toc": {
   "toc_cell": false,
   "toc_number_sections": true,
   "toc_threshold": 4,
   "toc_window_display": false
  }
 },
 "nbformat": 4,
 "nbformat_minor": 0
}
