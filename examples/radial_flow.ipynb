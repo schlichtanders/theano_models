{
 "cells": [
  {
   "cell_type": "code",
   "execution_count": 1,
   "metadata": {
    "collapsed": false
   },
   "outputs": [
    {
     "name": "stderr",
     "output_type": "stream",
     "text": [
      "/usr/local/lib/python2.7/dist-packages/matplotlib/font_manager.py:273: UserWarning: Matplotlib is building the font cache using fc-list. This may take a moment.\n",
      "  warnings.warn('Matplotlib is building the font cache using fc-list. This may take a moment.')\n"
     ]
    }
   ],
   "source": [
    "%matplotlib notebook"
   ]
  },
  {
   "cell_type": "code",
   "execution_count": 2,
   "metadata": {
    "collapsed": false
   },
   "outputs": [
    {
     "name": "stdout",
     "output_type": "stream",
     "text": [
      "gnumpy: failed to import cudamat. Using npmat instead. No GPU will be used.\n"
     ]
    }
   ],
   "source": [
    "import numpy as np\n",
    "import matplotlib.pyplot as plt\n",
    "from matplotlib import collections  as mc\n",
    "import time\n",
    "from scipy.optimize import minimize\n",
    "from climin.util import optimizer\n",
    "import theano\n",
    "import theano.tensor as T\n",
    "from itertools import izip"
   ]
  },
  {
   "cell_type": "code",
   "execution_count": 3,
   "metadata": {
    "collapsed": true
   },
   "outputs": [],
   "source": [
    "from schlichtanders.myoptimizers import batch\n",
    "from schlichtanders.myfunctools import Compose"
   ]
  },
  {
   "cell_type": "code",
   "execution_count": 4,
   "metadata": {
    "collapsed": false
   },
   "outputs": [],
   "source": [
    "from theano_models import total_size, as_tensor_variable, reparameterize_map, softplus, softplus_inv, squareplus, squareplus_inv\n",
    "\n",
    "from theano_models.postmaps import scipy_postmap, climin_postmap, flat_numericalize_postmap, flatten_parameters\n",
    "\n",
    "import theano_models.probabilistic_models as pm\n",
    "import theano_models.deterministic_models as dm"
   ]
  },
  {
   "cell_type": "markdown",
   "metadata": {},
   "source": [
    "# Deterministic Model - one dimensional"
   ]
  },
  {
   "cell_type": "markdown",
   "metadata": {},
   "source": [
    "## model"
   ]
  },
  {
   "cell_type": "code",
   "execution_count": 5,
   "metadata": {
    "collapsed": false
   },
   "outputs": [
    {
     "data": {
      "text/plain": [
       "{ 'inputs': [f_inputs],\n",
       "  'inverse_inputs': [inverse_inputs],\n",
       "  'inverse_outputs': inverse_outputs,\n",
       "  'norm_det': Elemwise{mul,no_inplace}.0,\n",
       "  'outputs': f_outputs,\n",
       "  'parameters': [z0],\n",
       "  'parameters_positive': [alpha, beta+alpha]}"
      ]
     },
     "execution_count": 5,
     "metadata": {},
     "output_type": "execute_result"
    }
   ],
   "source": [
    "model = dm.RadialTransform()\n",
    "model"
   ]
  },
  {
   "cell_type": "markdown",
   "metadata": {},
   "source": [
    "TODO softplus gives immediate precision loss, while e.g. squarepos works like a charm\n",
    "\n",
    "    # model.map('parameters_positive', reparameterize_map(softplus, softplus_inv), 'parameters')"
   ]
  },
  {
   "cell_type": "code",
   "execution_count": 6,
   "metadata": {
    "collapsed": false
   },
   "outputs": [
    {
     "data": {
      "text/plain": [
       "{ 'inputs': [f_inputs],\n",
       "  'inverse_inputs': [inverse_inputs],\n",
       "  'inverse_outputs': inverse_outputs,\n",
       "  'norm_det': Elemwise{mul,no_inplace}.0,\n",
       "  'outputs': f_outputs,\n",
       "  'parameters': [z0, alpha_copy_squareplus, beta+alpha_copy_squareplus],\n",
       "  'parameters_positive': [alpha_reparam, beta+alpha_reparam]}"
      ]
     },
     "execution_count": 6,
     "metadata": {},
     "output_type": "execute_result"
    }
   ],
   "source": [
    "model.map('parameters_positive', reparameterize_map(squareplus, squareplus_inv), 'parameters')\n",
    "model.add_postmap(Compose(flat_numericalize_postmap, flatten_parameters))\n",
    "model"
   ]
  },
  {
   "cell_type": "markdown",
   "metadata": {},
   "source": [
    "## target"
   ]
  },
  {
   "cell_type": "code",
   "execution_count": 7,
   "metadata": {
    "collapsed": false
   },
   "outputs": [],
   "source": [
    "target = dm.RadialTransform(init_alpha=1, init_beta=20, init_z0=[3])"
   ]
  },
  {
   "cell_type": "code",
   "execution_count": 8,
   "metadata": {
    "collapsed": false
   },
   "outputs": [
    {
     "data": {
      "text/plain": [
       "array([ 23.])"
      ]
     },
     "execution_count": 8,
     "metadata": {},
     "output_type": "execute_result"
    }
   ],
   "source": [
    "f_target = target.function()\n",
    "example_target = [7]\n",
    "f_target(example_target)  # caution, needs vector not scalar input"
   ]
  },
  {
   "cell_type": "code",
   "execution_count": 9,
   "metadata": {
    "collapsed": false
   },
   "outputs": [
    {
     "data": {
      "text/plain": [
       "array([[-10.        ],\n",
       "       [ -9.48717949],\n",
       "       [ -8.97435897],\n",
       "       [ -8.46153846],\n",
       "       [ -7.94871795],\n",
       "       [ -7.43589744],\n",
       "       [ -6.92307692]])"
      ]
     },
     "execution_count": 9,
     "metadata": {},
     "output_type": "execute_result"
    }
   ],
   "source": [
    "N = 40\n",
    "xs = np.linspace(-10, 10, N)[:, np.newaxis]\n",
    "xs[:7]"
   ]
  },
  {
   "cell_type": "code",
   "execution_count": 10,
   "metadata": {
    "collapsed": false
   },
   "outputs": [
    {
     "data": {
      "text/plain": [
       "array([[-28.57142857],\n",
       "       [-28.00428975],\n",
       "       [-27.432857  ],\n",
       "       [-26.85660019],\n",
       "       [-26.27489821],\n",
       "       [-25.68701851],\n",
       "       [-25.09209101]])"
      ]
     },
     "execution_count": 10,
     "metadata": {},
     "output_type": "execute_result"
    }
   ],
   "source": [
    "ys = np.array([f_target(x) for x in xs])\n",
    "ys[:7]"
   ]
  },
  {
   "cell_type": "markdown",
   "metadata": {},
   "source": [
    "## visualization"
   ]
  },
  {
   "cell_type": "code",
   "execution_count": 11,
   "metadata": {
    "collapsed": false
   },
   "outputs": [],
   "source": [
    "def plot_fit(fig, ax, givens={}, time_delay=0.1):\n",
    "    ax.clear() # interactive\n",
    "    # target data:\n",
    "    ax.plot(xs, ys, 'k:')\n",
    "    \n",
    "    # model:\n",
    "    f_model = model.function(givens=givens)\n",
    "    model_ys = np.array([f_model(x) for x in xs])\n",
    "    ax.plot(xs, model_ys, 'r')\n",
    "    \n",
    "    fig.canvas.draw()\n",
    "    time.sleep(time_delay)"
   ]
  },
  {
   "cell_type": "code",
   "execution_count": 12,
   "metadata": {
    "collapsed": false
   },
   "outputs": [
    {
     "data": {
      "application/javascript": [
       "/* Put everything inside the global mpl namespace */\n",
       "window.mpl = {};\n",
       "\n",
       "mpl.get_websocket_type = function() {\n",
       "    if (typeof(WebSocket) !== 'undefined') {\n",
       "        return WebSocket;\n",
       "    } else if (typeof(MozWebSocket) !== 'undefined') {\n",
       "        return MozWebSocket;\n",
       "    } else {\n",
       "        alert('Your browser does not have WebSocket support.' +\n",
       "              'Please try Chrome, Safari or Firefox ≥ 6. ' +\n",
       "              'Firefox 4 and 5 are also supported but you ' +\n",
       "              'have to enable WebSockets in about:config.');\n",
       "    };\n",
       "}\n",
       "\n",
       "mpl.figure = function(figure_id, websocket, ondownload, parent_element) {\n",
       "    this.id = figure_id;\n",
       "\n",
       "    this.ws = websocket;\n",
       "\n",
       "    this.supports_binary = (this.ws.binaryType != undefined);\n",
       "\n",
       "    if (!this.supports_binary) {\n",
       "        var warnings = document.getElementById(\"mpl-warnings\");\n",
       "        if (warnings) {\n",
       "            warnings.style.display = 'block';\n",
       "            warnings.textContent = (\n",
       "                \"This browser does not support binary websocket messages. \" +\n",
       "                    \"Performance may be slow.\");\n",
       "        }\n",
       "    }\n",
       "\n",
       "    this.imageObj = new Image();\n",
       "\n",
       "    this.context = undefined;\n",
       "    this.message = undefined;\n",
       "    this.canvas = undefined;\n",
       "    this.rubberband_canvas = undefined;\n",
       "    this.rubberband_context = undefined;\n",
       "    this.format_dropdown = undefined;\n",
       "\n",
       "    this.image_mode = 'full';\n",
       "\n",
       "    this.root = $('<div/>');\n",
       "    this._root_extra_style(this.root)\n",
       "    this.root.attr('style', 'display: inline-block');\n",
       "\n",
       "    $(parent_element).append(this.root);\n",
       "\n",
       "    this._init_header(this);\n",
       "    this._init_canvas(this);\n",
       "    this._init_toolbar(this);\n",
       "\n",
       "    var fig = this;\n",
       "\n",
       "    this.waiting = false;\n",
       "\n",
       "    this.ws.onopen =  function () {\n",
       "            fig.send_message(\"supports_binary\", {value: fig.supports_binary});\n",
       "            fig.send_message(\"send_image_mode\", {});\n",
       "            fig.send_message(\"refresh\", {});\n",
       "        }\n",
       "\n",
       "    this.imageObj.onload = function() {\n",
       "            if (fig.image_mode == 'full') {\n",
       "                // Full images could contain transparency (where diff images\n",
       "                // almost always do), so we need to clear the canvas so that\n",
       "                // there is no ghosting.\n",
       "                fig.context.clearRect(0, 0, fig.canvas.width, fig.canvas.height);\n",
       "            }\n",
       "            fig.context.drawImage(fig.imageObj, 0, 0);\n",
       "        };\n",
       "\n",
       "    this.imageObj.onunload = function() {\n",
       "        this.ws.close();\n",
       "    }\n",
       "\n",
       "    this.ws.onmessage = this._make_on_message_function(this);\n",
       "\n",
       "    this.ondownload = ondownload;\n",
       "}\n",
       "\n",
       "mpl.figure.prototype._init_header = function() {\n",
       "    var titlebar = $(\n",
       "        '<div class=\"ui-dialog-titlebar ui-widget-header ui-corner-all ' +\n",
       "        'ui-helper-clearfix\"/>');\n",
       "    var titletext = $(\n",
       "        '<div class=\"ui-dialog-title\" style=\"width: 100%; ' +\n",
       "        'text-align: center; padding: 3px;\"/>');\n",
       "    titlebar.append(titletext)\n",
       "    this.root.append(titlebar);\n",
       "    this.header = titletext[0];\n",
       "}\n",
       "\n",
       "\n",
       "\n",
       "mpl.figure.prototype._canvas_extra_style = function(canvas_div) {\n",
       "\n",
       "}\n",
       "\n",
       "\n",
       "mpl.figure.prototype._root_extra_style = function(canvas_div) {\n",
       "\n",
       "}\n",
       "\n",
       "mpl.figure.prototype._init_canvas = function() {\n",
       "    var fig = this;\n",
       "\n",
       "    var canvas_div = $('<div/>');\n",
       "\n",
       "    canvas_div.attr('style', 'position: relative; clear: both; outline: 0');\n",
       "\n",
       "    function canvas_keyboard_event(event) {\n",
       "        return fig.key_event(event, event['data']);\n",
       "    }\n",
       "\n",
       "    canvas_div.keydown('key_press', canvas_keyboard_event);\n",
       "    canvas_div.keyup('key_release', canvas_keyboard_event);\n",
       "    this.canvas_div = canvas_div\n",
       "    this._canvas_extra_style(canvas_div)\n",
       "    this.root.append(canvas_div);\n",
       "\n",
       "    var canvas = $('<canvas/>');\n",
       "    canvas.addClass('mpl-canvas');\n",
       "    canvas.attr('style', \"left: 0; top: 0; z-index: 0; outline: 0\")\n",
       "\n",
       "    this.canvas = canvas[0];\n",
       "    this.context = canvas[0].getContext(\"2d\");\n",
       "\n",
       "    var rubberband = $('<canvas/>');\n",
       "    rubberband.attr('style', \"position: absolute; left: 0; top: 0; z-index: 1;\")\n",
       "\n",
       "    var pass_mouse_events = true;\n",
       "\n",
       "    canvas_div.resizable({\n",
       "        start: function(event, ui) {\n",
       "            pass_mouse_events = false;\n",
       "        },\n",
       "        resize: function(event, ui) {\n",
       "            fig.request_resize(ui.size.width, ui.size.height);\n",
       "        },\n",
       "        stop: function(event, ui) {\n",
       "            pass_mouse_events = true;\n",
       "            fig.request_resize(ui.size.width, ui.size.height);\n",
       "        },\n",
       "    });\n",
       "\n",
       "    function mouse_event_fn(event) {\n",
       "        if (pass_mouse_events)\n",
       "            return fig.mouse_event(event, event['data']);\n",
       "    }\n",
       "\n",
       "    rubberband.mousedown('button_press', mouse_event_fn);\n",
       "    rubberband.mouseup('button_release', mouse_event_fn);\n",
       "    // Throttle sequential mouse events to 1 every 20ms.\n",
       "    rubberband.mousemove('motion_notify', mouse_event_fn);\n",
       "\n",
       "    rubberband.mouseenter('figure_enter', mouse_event_fn);\n",
       "    rubberband.mouseleave('figure_leave', mouse_event_fn);\n",
       "\n",
       "    canvas_div.on(\"wheel\", function (event) {\n",
       "        event = event.originalEvent;\n",
       "        event['data'] = 'scroll'\n",
       "        if (event.deltaY < 0) {\n",
       "            event.step = 1;\n",
       "        } else {\n",
       "            event.step = -1;\n",
       "        }\n",
       "        mouse_event_fn(event);\n",
       "    });\n",
       "\n",
       "    canvas_div.append(canvas);\n",
       "    canvas_div.append(rubberband);\n",
       "\n",
       "    this.rubberband = rubberband;\n",
       "    this.rubberband_canvas = rubberband[0];\n",
       "    this.rubberband_context = rubberband[0].getContext(\"2d\");\n",
       "    this.rubberband_context.strokeStyle = \"#000000\";\n",
       "\n",
       "    this._resize_canvas = function(width, height) {\n",
       "        // Keep the size of the canvas, canvas container, and rubber band\n",
       "        // canvas in synch.\n",
       "        canvas_div.css('width', width)\n",
       "        canvas_div.css('height', height)\n",
       "\n",
       "        canvas.attr('width', width);\n",
       "        canvas.attr('height', height);\n",
       "\n",
       "        rubberband.attr('width', width);\n",
       "        rubberband.attr('height', height);\n",
       "    }\n",
       "\n",
       "    // Set the figure to an initial 600x600px, this will subsequently be updated\n",
       "    // upon first draw.\n",
       "    this._resize_canvas(600, 600);\n",
       "\n",
       "    // Disable right mouse context menu.\n",
       "    $(this.rubberband_canvas).bind(\"contextmenu\",function(e){\n",
       "        return false;\n",
       "    });\n",
       "\n",
       "    function set_focus () {\n",
       "        canvas.focus();\n",
       "        canvas_div.focus();\n",
       "    }\n",
       "\n",
       "    window.setTimeout(set_focus, 100);\n",
       "}\n",
       "\n",
       "mpl.figure.prototype._init_toolbar = function() {\n",
       "    var fig = this;\n",
       "\n",
       "    var nav_element = $('<div/>')\n",
       "    nav_element.attr('style', 'width: 100%');\n",
       "    this.root.append(nav_element);\n",
       "\n",
       "    // Define a callback function for later on.\n",
       "    function toolbar_event(event) {\n",
       "        return fig.toolbar_button_onclick(event['data']);\n",
       "    }\n",
       "    function toolbar_mouse_event(event) {\n",
       "        return fig.toolbar_button_onmouseover(event['data']);\n",
       "    }\n",
       "\n",
       "    for(var toolbar_ind in mpl.toolbar_items) {\n",
       "        var name = mpl.toolbar_items[toolbar_ind][0];\n",
       "        var tooltip = mpl.toolbar_items[toolbar_ind][1];\n",
       "        var image = mpl.toolbar_items[toolbar_ind][2];\n",
       "        var method_name = mpl.toolbar_items[toolbar_ind][3];\n",
       "\n",
       "        if (!name) {\n",
       "            // put a spacer in here.\n",
       "            continue;\n",
       "        }\n",
       "        var button = $('<button/>');\n",
       "        button.addClass('ui-button ui-widget ui-state-default ui-corner-all ' +\n",
       "                        'ui-button-icon-only');\n",
       "        button.attr('role', 'button');\n",
       "        button.attr('aria-disabled', 'false');\n",
       "        button.click(method_name, toolbar_event);\n",
       "        button.mouseover(tooltip, toolbar_mouse_event);\n",
       "\n",
       "        var icon_img = $('<span/>');\n",
       "        icon_img.addClass('ui-button-icon-primary ui-icon');\n",
       "        icon_img.addClass(image);\n",
       "        icon_img.addClass('ui-corner-all');\n",
       "\n",
       "        var tooltip_span = $('<span/>');\n",
       "        tooltip_span.addClass('ui-button-text');\n",
       "        tooltip_span.html(tooltip);\n",
       "\n",
       "        button.append(icon_img);\n",
       "        button.append(tooltip_span);\n",
       "\n",
       "        nav_element.append(button);\n",
       "    }\n",
       "\n",
       "    var fmt_picker_span = $('<span/>');\n",
       "\n",
       "    var fmt_picker = $('<select/>');\n",
       "    fmt_picker.addClass('mpl-toolbar-option ui-widget ui-widget-content');\n",
       "    fmt_picker_span.append(fmt_picker);\n",
       "    nav_element.append(fmt_picker_span);\n",
       "    this.format_dropdown = fmt_picker[0];\n",
       "\n",
       "    for (var ind in mpl.extensions) {\n",
       "        var fmt = mpl.extensions[ind];\n",
       "        var option = $(\n",
       "            '<option/>', {selected: fmt === mpl.default_extension}).html(fmt);\n",
       "        fmt_picker.append(option)\n",
       "    }\n",
       "\n",
       "    // Add hover states to the ui-buttons\n",
       "    $( \".ui-button\" ).hover(\n",
       "        function() { $(this).addClass(\"ui-state-hover\");},\n",
       "        function() { $(this).removeClass(\"ui-state-hover\");}\n",
       "    );\n",
       "\n",
       "    var status_bar = $('<span class=\"mpl-message\"/>');\n",
       "    nav_element.append(status_bar);\n",
       "    this.message = status_bar[0];\n",
       "}\n",
       "\n",
       "mpl.figure.prototype.request_resize = function(x_pixels, y_pixels) {\n",
       "    // Request matplotlib to resize the figure. Matplotlib will then trigger a resize in the client,\n",
       "    // which will in turn request a refresh of the image.\n",
       "    this.send_message('resize', {'width': x_pixels, 'height': y_pixels});\n",
       "}\n",
       "\n",
       "mpl.figure.prototype.send_message = function(type, properties) {\n",
       "    properties['type'] = type;\n",
       "    properties['figure_id'] = this.id;\n",
       "    this.ws.send(JSON.stringify(properties));\n",
       "}\n",
       "\n",
       "mpl.figure.prototype.send_draw_message = function() {\n",
       "    if (!this.waiting) {\n",
       "        this.waiting = true;\n",
       "        this.ws.send(JSON.stringify({type: \"draw\", figure_id: this.id}));\n",
       "    }\n",
       "}\n",
       "\n",
       "\n",
       "mpl.figure.prototype.handle_save = function(fig, msg) {\n",
       "    var format_dropdown = fig.format_dropdown;\n",
       "    var format = format_dropdown.options[format_dropdown.selectedIndex].value;\n",
       "    fig.ondownload(fig, format);\n",
       "}\n",
       "\n",
       "\n",
       "mpl.figure.prototype.handle_resize = function(fig, msg) {\n",
       "    var size = msg['size'];\n",
       "    if (size[0] != fig.canvas.width || size[1] != fig.canvas.height) {\n",
       "        fig._resize_canvas(size[0], size[1]);\n",
       "        fig.send_message(\"refresh\", {});\n",
       "    };\n",
       "}\n",
       "\n",
       "mpl.figure.prototype.handle_rubberband = function(fig, msg) {\n",
       "    var x0 = msg['x0'];\n",
       "    var y0 = fig.canvas.height - msg['y0'];\n",
       "    var x1 = msg['x1'];\n",
       "    var y1 = fig.canvas.height - msg['y1'];\n",
       "    x0 = Math.floor(x0) + 0.5;\n",
       "    y0 = Math.floor(y0) + 0.5;\n",
       "    x1 = Math.floor(x1) + 0.5;\n",
       "    y1 = Math.floor(y1) + 0.5;\n",
       "    var min_x = Math.min(x0, x1);\n",
       "    var min_y = Math.min(y0, y1);\n",
       "    var width = Math.abs(x1 - x0);\n",
       "    var height = Math.abs(y1 - y0);\n",
       "\n",
       "    fig.rubberband_context.clearRect(\n",
       "        0, 0, fig.canvas.width, fig.canvas.height);\n",
       "\n",
       "    fig.rubberband_context.strokeRect(min_x, min_y, width, height);\n",
       "}\n",
       "\n",
       "mpl.figure.prototype.handle_figure_label = function(fig, msg) {\n",
       "    // Updates the figure title.\n",
       "    fig.header.textContent = msg['label'];\n",
       "}\n",
       "\n",
       "mpl.figure.prototype.handle_cursor = function(fig, msg) {\n",
       "    var cursor = msg['cursor'];\n",
       "    switch(cursor)\n",
       "    {\n",
       "    case 0:\n",
       "        cursor = 'pointer';\n",
       "        break;\n",
       "    case 1:\n",
       "        cursor = 'default';\n",
       "        break;\n",
       "    case 2:\n",
       "        cursor = 'crosshair';\n",
       "        break;\n",
       "    case 3:\n",
       "        cursor = 'move';\n",
       "        break;\n",
       "    }\n",
       "    fig.rubberband_canvas.style.cursor = cursor;\n",
       "}\n",
       "\n",
       "mpl.figure.prototype.handle_message = function(fig, msg) {\n",
       "    fig.message.textContent = msg['message'];\n",
       "}\n",
       "\n",
       "mpl.figure.prototype.handle_draw = function(fig, msg) {\n",
       "    // Request the server to send over a new figure.\n",
       "    fig.send_draw_message();\n",
       "}\n",
       "\n",
       "mpl.figure.prototype.handle_image_mode = function(fig, msg) {\n",
       "    fig.image_mode = msg['mode'];\n",
       "}\n",
       "\n",
       "mpl.figure.prototype.updated_canvas_event = function() {\n",
       "    // Called whenever the canvas gets updated.\n",
       "    this.send_message(\"ack\", {});\n",
       "}\n",
       "\n",
       "// A function to construct a web socket function for onmessage handling.\n",
       "// Called in the figure constructor.\n",
       "mpl.figure.prototype._make_on_message_function = function(fig) {\n",
       "    return function socket_on_message(evt) {\n",
       "        if (evt.data instanceof Blob) {\n",
       "            /* FIXME: We get \"Resource interpreted as Image but\n",
       "             * transferred with MIME type text/plain:\" errors on\n",
       "             * Chrome.  But how to set the MIME type?  It doesn't seem\n",
       "             * to be part of the websocket stream */\n",
       "            evt.data.type = \"image/png\";\n",
       "\n",
       "            /* Free the memory for the previous frames */\n",
       "            if (fig.imageObj.src) {\n",
       "                (window.URL || window.webkitURL).revokeObjectURL(\n",
       "                    fig.imageObj.src);\n",
       "            }\n",
       "\n",
       "            fig.imageObj.src = (window.URL || window.webkitURL).createObjectURL(\n",
       "                evt.data);\n",
       "            fig.updated_canvas_event();\n",
       "            fig.waiting = false;\n",
       "            return;\n",
       "        }\n",
       "        else if (typeof evt.data === 'string' && evt.data.slice(0, 21) == \"data:image/png;base64\") {\n",
       "            fig.imageObj.src = evt.data;\n",
       "            fig.updated_canvas_event();\n",
       "            fig.waiting = false;\n",
       "            return;\n",
       "        }\n",
       "\n",
       "        var msg = JSON.parse(evt.data);\n",
       "        var msg_type = msg['type'];\n",
       "\n",
       "        // Call the  \"handle_{type}\" callback, which takes\n",
       "        // the figure and JSON message as its only arguments.\n",
       "        try {\n",
       "            var callback = fig[\"handle_\" + msg_type];\n",
       "        } catch (e) {\n",
       "            console.log(\"No handler for the '\" + msg_type + \"' message type: \", msg);\n",
       "            return;\n",
       "        }\n",
       "\n",
       "        if (callback) {\n",
       "            try {\n",
       "                // console.log(\"Handling '\" + msg_type + \"' message: \", msg);\n",
       "                callback(fig, msg);\n",
       "            } catch (e) {\n",
       "                console.log(\"Exception inside the 'handler_\" + msg_type + \"' callback:\", e, e.stack, msg);\n",
       "            }\n",
       "        }\n",
       "    };\n",
       "}\n",
       "\n",
       "// from http://stackoverflow.com/questions/1114465/getting-mouse-location-in-canvas\n",
       "mpl.findpos = function(e) {\n",
       "    //this section is from http://www.quirksmode.org/js/events_properties.html\n",
       "    var targ;\n",
       "    if (!e)\n",
       "        e = window.event;\n",
       "    if (e.target)\n",
       "        targ = e.target;\n",
       "    else if (e.srcElement)\n",
       "        targ = e.srcElement;\n",
       "    if (targ.nodeType == 3) // defeat Safari bug\n",
       "        targ = targ.parentNode;\n",
       "\n",
       "    // jQuery normalizes the pageX and pageY\n",
       "    // pageX,Y are the mouse positions relative to the document\n",
       "    // offset() returns the position of the element relative to the document\n",
       "    var x = e.pageX - $(targ).offset().left;\n",
       "    var y = e.pageY - $(targ).offset().top;\n",
       "\n",
       "    return {\"x\": x, \"y\": y};\n",
       "};\n",
       "\n",
       "/*\n",
       " * return a copy of an object with only non-object keys\n",
       " * we need this to avoid circular references\n",
       " * http://stackoverflow.com/a/24161582/3208463\n",
       " */\n",
       "function simpleKeys (original) {\n",
       "  return Object.keys(original).reduce(function (obj, key) {\n",
       "    if (typeof original[key] !== 'object')\n",
       "        obj[key] = original[key]\n",
       "    return obj;\n",
       "  }, {});\n",
       "}\n",
       "\n",
       "mpl.figure.prototype.mouse_event = function(event, name) {\n",
       "    var canvas_pos = mpl.findpos(event)\n",
       "\n",
       "    if (name === 'button_press')\n",
       "    {\n",
       "        this.canvas.focus();\n",
       "        this.canvas_div.focus();\n",
       "    }\n",
       "\n",
       "    var x = canvas_pos.x;\n",
       "    var y = canvas_pos.y;\n",
       "\n",
       "    this.send_message(name, {x: x, y: y, button: event.button,\n",
       "                             step: event.step,\n",
       "                             guiEvent: simpleKeys(event)});\n",
       "\n",
       "    /* This prevents the web browser from automatically changing to\n",
       "     * the text insertion cursor when the button is pressed.  We want\n",
       "     * to control all of the cursor setting manually through the\n",
       "     * 'cursor' event from matplotlib */\n",
       "    event.preventDefault();\n",
       "    return false;\n",
       "}\n",
       "\n",
       "mpl.figure.prototype._key_event_extra = function(event, name) {\n",
       "    // Handle any extra behaviour associated with a key event\n",
       "}\n",
       "\n",
       "mpl.figure.prototype.key_event = function(event, name) {\n",
       "\n",
       "    // Prevent repeat events\n",
       "    if (name == 'key_press')\n",
       "    {\n",
       "        if (event.which === this._key)\n",
       "            return;\n",
       "        else\n",
       "            this._key = event.which;\n",
       "    }\n",
       "    if (name == 'key_release')\n",
       "        this._key = null;\n",
       "\n",
       "    var value = '';\n",
       "    if (event.ctrlKey && event.which != 17)\n",
       "        value += \"ctrl+\";\n",
       "    if (event.altKey && event.which != 18)\n",
       "        value += \"alt+\";\n",
       "    if (event.shiftKey && event.which != 16)\n",
       "        value += \"shift+\";\n",
       "\n",
       "    value += 'k';\n",
       "    value += event.which.toString();\n",
       "\n",
       "    this._key_event_extra(event, name);\n",
       "\n",
       "    this.send_message(name, {key: value,\n",
       "                             guiEvent: simpleKeys(event)});\n",
       "    return false;\n",
       "}\n",
       "\n",
       "mpl.figure.prototype.toolbar_button_onclick = function(name) {\n",
       "    if (name == 'download') {\n",
       "        this.handle_save(this, null);\n",
       "    } else {\n",
       "        this.send_message(\"toolbar_button\", {name: name});\n",
       "    }\n",
       "};\n",
       "\n",
       "mpl.figure.prototype.toolbar_button_onmouseover = function(tooltip) {\n",
       "    this.message.textContent = tooltip;\n",
       "};\n",
       "mpl.toolbar_items = [[\"Home\", \"Reset original view\", \"fa fa-home icon-home\", \"home\"], [\"Back\", \"Back to  previous view\", \"fa fa-arrow-left icon-arrow-left\", \"back\"], [\"Forward\", \"Forward to next view\", \"fa fa-arrow-right icon-arrow-right\", \"forward\"], [\"\", \"\", \"\", \"\"], [\"Pan\", \"Pan axes with left mouse, zoom with right\", \"fa fa-arrows icon-move\", \"pan\"], [\"Zoom\", \"Zoom to rectangle\", \"fa fa-square-o icon-check-empty\", \"zoom\"], [\"\", \"\", \"\", \"\"], [\"Download\", \"Download plot\", \"fa fa-floppy-o icon-save\", \"download\"]];\n",
       "\n",
       "mpl.extensions = [\"eps\", \"jpeg\", \"pdf\", \"png\", \"ps\", \"raw\", \"svg\", \"tif\"];\n",
       "\n",
       "mpl.default_extension = \"png\";var comm_websocket_adapter = function(comm) {\n",
       "    // Create a \"websocket\"-like object which calls the given IPython comm\n",
       "    // object with the appropriate methods. Currently this is a non binary\n",
       "    // socket, so there is still some room for performance tuning.\n",
       "    var ws = {};\n",
       "\n",
       "    ws.close = function() {\n",
       "        comm.close()\n",
       "    };\n",
       "    ws.send = function(m) {\n",
       "        //console.log('sending', m);\n",
       "        comm.send(m);\n",
       "    };\n",
       "    // Register the callback with on_msg.\n",
       "    comm.on_msg(function(msg) {\n",
       "        //console.log('receiving', msg['content']['data'], msg);\n",
       "        // Pass the mpl event to the overriden (by mpl) onmessage function.\n",
       "        ws.onmessage(msg['content']['data'])\n",
       "    });\n",
       "    return ws;\n",
       "}\n",
       "\n",
       "mpl.mpl_figure_comm = function(comm, msg) {\n",
       "    // This is the function which gets called when the mpl process\n",
       "    // starts-up an IPython Comm through the \"matplotlib\" channel.\n",
       "\n",
       "    var id = msg.content.data.id;\n",
       "    // Get hold of the div created by the display call when the Comm\n",
       "    // socket was opened in Python.\n",
       "    var element = $(\"#\" + id);\n",
       "    var ws_proxy = comm_websocket_adapter(comm)\n",
       "\n",
       "    function ondownload(figure, format) {\n",
       "        window.open(figure.imageObj.src);\n",
       "    }\n",
       "\n",
       "    var fig = new mpl.figure(id, ws_proxy,\n",
       "                           ondownload,\n",
       "                           element.get(0));\n",
       "\n",
       "    // Call onopen now - mpl needs it, as it is assuming we've passed it a real\n",
       "    // web socket which is closed, not our websocket->open comm proxy.\n",
       "    ws_proxy.onopen();\n",
       "\n",
       "    fig.parent_element = element.get(0);\n",
       "    fig.cell_info = mpl.find_output_cell(\"<div id='\" + id + \"'></div>\");\n",
       "    if (!fig.cell_info) {\n",
       "        console.error(\"Failed to find cell for figure\", id, fig);\n",
       "        return;\n",
       "    }\n",
       "\n",
       "    var output_index = fig.cell_info[2]\n",
       "    var cell = fig.cell_info[0];\n",
       "\n",
       "};\n",
       "\n",
       "mpl.figure.prototype.handle_close = function(fig, msg) {\n",
       "    fig.root.unbind('remove')\n",
       "\n",
       "    // Update the output cell to use the data from the current canvas.\n",
       "    fig.push_to_output();\n",
       "    var dataURL = fig.canvas.toDataURL();\n",
       "    // Re-enable the keyboard manager in IPython - without this line, in FF,\n",
       "    // the notebook keyboard shortcuts fail.\n",
       "    IPython.keyboard_manager.enable()\n",
       "    $(fig.parent_element).html('<img src=\"' + dataURL + '\">');\n",
       "    fig.close_ws(fig, msg);\n",
       "}\n",
       "\n",
       "mpl.figure.prototype.close_ws = function(fig, msg){\n",
       "    fig.send_message('closing', msg);\n",
       "    // fig.ws.close()\n",
       "}\n",
       "\n",
       "mpl.figure.prototype.push_to_output = function(remove_interactive) {\n",
       "    // Turn the data on the canvas into data in the output cell.\n",
       "    var dataURL = this.canvas.toDataURL();\n",
       "    this.cell_info[1]['text/html'] = '<img src=\"' + dataURL + '\">';\n",
       "}\n",
       "\n",
       "mpl.figure.prototype.updated_canvas_event = function() {\n",
       "    // Tell IPython that the notebook contents must change.\n",
       "    IPython.notebook.set_dirty(true);\n",
       "    this.send_message(\"ack\", {});\n",
       "    var fig = this;\n",
       "    // Wait a second, then push the new image to the DOM so\n",
       "    // that it is saved nicely (might be nice to debounce this).\n",
       "    setTimeout(function () { fig.push_to_output() }, 1000);\n",
       "}\n",
       "\n",
       "mpl.figure.prototype._init_toolbar = function() {\n",
       "    var fig = this;\n",
       "\n",
       "    var nav_element = $('<div/>')\n",
       "    nav_element.attr('style', 'width: 100%');\n",
       "    this.root.append(nav_element);\n",
       "\n",
       "    // Define a callback function for later on.\n",
       "    function toolbar_event(event) {\n",
       "        return fig.toolbar_button_onclick(event['data']);\n",
       "    }\n",
       "    function toolbar_mouse_event(event) {\n",
       "        return fig.toolbar_button_onmouseover(event['data']);\n",
       "    }\n",
       "\n",
       "    for(var toolbar_ind in mpl.toolbar_items){\n",
       "        var name = mpl.toolbar_items[toolbar_ind][0];\n",
       "        var tooltip = mpl.toolbar_items[toolbar_ind][1];\n",
       "        var image = mpl.toolbar_items[toolbar_ind][2];\n",
       "        var method_name = mpl.toolbar_items[toolbar_ind][3];\n",
       "\n",
       "        if (!name) { continue; };\n",
       "\n",
       "        var button = $('<button class=\"btn btn-default\" href=\"#\" title=\"' + name + '\"><i class=\"fa ' + image + ' fa-lg\"></i></button>');\n",
       "        button.click(method_name, toolbar_event);\n",
       "        button.mouseover(tooltip, toolbar_mouse_event);\n",
       "        nav_element.append(button);\n",
       "    }\n",
       "\n",
       "    // Add the status bar.\n",
       "    var status_bar = $('<span class=\"mpl-message\" style=\"text-align:right; float: right;\"/>');\n",
       "    nav_element.append(status_bar);\n",
       "    this.message = status_bar[0];\n",
       "\n",
       "    // Add the close button to the window.\n",
       "    var buttongrp = $('<div class=\"btn-group inline pull-right\"></div>');\n",
       "    var button = $('<button class=\"btn btn-mini btn-primary\" href=\"#\" title=\"Stop Interaction\"><i class=\"fa fa-power-off icon-remove icon-large\"></i></button>');\n",
       "    button.click(function (evt) { fig.handle_close(fig, {}); } );\n",
       "    button.mouseover('Stop Interaction', toolbar_mouse_event);\n",
       "    buttongrp.append(button);\n",
       "    var titlebar = this.root.find($('.ui-dialog-titlebar'));\n",
       "    titlebar.prepend(buttongrp);\n",
       "}\n",
       "\n",
       "mpl.figure.prototype._root_extra_style = function(el){\n",
       "    var fig = this\n",
       "    el.on(\"remove\", function(){\n",
       "\tfig.close_ws(fig, {});\n",
       "    });\n",
       "}\n",
       "\n",
       "mpl.figure.prototype._canvas_extra_style = function(el){\n",
       "    // this is important to make the div 'focusable\n",
       "    el.attr('tabindex', 0)\n",
       "    // reach out to IPython and tell the keyboard manager to turn it's self\n",
       "    // off when our div gets focus\n",
       "\n",
       "    // location in version 3\n",
       "    if (IPython.notebook.keyboard_manager) {\n",
       "        IPython.notebook.keyboard_manager.register_events(el);\n",
       "    }\n",
       "    else {\n",
       "        // location in version 2\n",
       "        IPython.keyboard_manager.register_events(el);\n",
       "    }\n",
       "\n",
       "}\n",
       "\n",
       "mpl.figure.prototype._key_event_extra = function(event, name) {\n",
       "    var manager = IPython.notebook.keyboard_manager;\n",
       "    if (!manager)\n",
       "        manager = IPython.keyboard_manager;\n",
       "\n",
       "    // Check for shift+enter\n",
       "    if (event.shiftKey && event.which == 13) {\n",
       "        this.canvas_div.blur();\n",
       "        event.shiftKey = false;\n",
       "        // Send a \"J\" for go to next cell\n",
       "        event.which = 74;\n",
       "        event.keyCode = 74;\n",
       "        manager.command_mode();\n",
       "        manager.handle_keydown(event);\n",
       "    }\n",
       "}\n",
       "\n",
       "mpl.figure.prototype.handle_save = function(fig, msg) {\n",
       "    fig.ondownload(fig, null);\n",
       "}\n",
       "\n",
       "\n",
       "mpl.find_output_cell = function(html_output) {\n",
       "    // Return the cell and output element which can be found *uniquely* in the notebook.\n",
       "    // Note - this is a bit hacky, but it is done because the \"notebook_saving.Notebook\"\n",
       "    // IPython event is triggered only after the cells have been serialised, which for\n",
       "    // our purposes (turning an active figure into a static one), is too late.\n",
       "    var cells = IPython.notebook.get_cells();\n",
       "    var ncells = cells.length;\n",
       "    for (var i=0; i<ncells; i++) {\n",
       "        var cell = cells[i];\n",
       "        if (cell.cell_type === 'code'){\n",
       "            for (var j=0; j<cell.output_area.outputs.length; j++) {\n",
       "                var data = cell.output_area.outputs[j];\n",
       "                if (data.data) {\n",
       "                    // IPython >= 3 moved mimebundle to data attribute of output\n",
       "                    data = data.data;\n",
       "                }\n",
       "                if (data['text/html'] == html_output) {\n",
       "                    return [cell, data, j];\n",
       "                }\n",
       "            }\n",
       "        }\n",
       "    }\n",
       "}\n",
       "\n",
       "// Register the function which deals with the matplotlib target/channel.\n",
       "// The kernel may be null if the page has been refreshed.\n",
       "if (IPython.notebook.kernel != null) {\n",
       "    IPython.notebook.kernel.comm_manager.register_target('matplotlib', mpl.mpl_figure_comm);\n",
       "}\n"
      ],
      "text/plain": [
       "<IPython.core.display.Javascript object>"
      ]
     },
     "metadata": {},
     "output_type": "display_data"
    },
    {
     "data": {
      "text/html": [
       "<img src=\"data:image/png;base64,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\">"
      ],
      "text/plain": [
       "<IPython.core.display.HTML object>"
      ]
     },
     "metadata": {},
     "output_type": "display_data"
    }
   ],
   "source": [
    "fig, ax = plt.subplots()\n",
    "plot_fit(fig, ax)"
   ]
  },
  {
   "cell_type": "markdown",
   "metadata": {},
   "source": [
    "## fit"
   ]
  },
  {
   "cell_type": "code",
   "execution_count": 13,
   "metadata": {
    "collapsed": false
   },
   "outputs": [
    {
     "data": {
      "text/plain": [
       "{'fun': <function schlichtanders.myoptimizers.f_batch>,\n",
       " 'hess': <function schlichtanders.myoptimizers.f_batch>,\n",
       " 'jac': <function schlichtanders.myoptimizers.f_batch>,\n",
       " 'x0': array([ 0.        ,  0.99995   ,  1.41417821])}"
      ]
     },
     "execution_count": 13,
     "metadata": {},
     "output_type": "execute_result"
    }
   ],
   "source": [
    "scipy_kwargs = scipy_postmap(model.postmap(wrapper=batch, initial_inputs=[example_target]))\n",
    "scipy_kwargs"
   ]
  },
  {
   "cell_type": "code",
   "execution_count": 14,
   "metadata": {
    "collapsed": false
   },
   "outputs": [
    {
     "name": "stdout",
     "output_type": "stream",
     "text": [
      "Optimization terminated successfully.\n",
      "         Current function value: 0.000000\n",
      "         Iterations: 12\n",
      "         Function evaluations: 14\n",
      "         Gradient evaluations: 25\n",
      "         Hessian evaluations: 12\n"
     ]
    },
    {
     "data": {
      "text/plain": [
       "     fun: 2.51054983086587e-28\n",
       "     jac: array([ -3.94380766e-07,   2.01949302e-07,  -2.51502061e-06])\n",
       " message: 'Optimization terminated successfully.'\n",
       "    nfev: 14\n",
       "    nhev: 12\n",
       "     nit: 12\n",
       "    njev: 25\n",
       "  status: 0\n",
       " success: True\n",
       "       x: array([ 3.        , -0.99995   ,  4.58256478])"
      ]
     },
     "execution_count": 14,
     "metadata": {},
     "output_type": "execute_result"
    }
   ],
   "source": [
    "fit = minimize(\n",
    "    args=(ys,xs),\n",
    "#     method=\"CG\",\n",
    "    method=\"Newton-CG\",\n",
    "    options={'maxiter':100, 'disp':True},\n",
    "    callback=lambda xs: plot_fit(fig, ax, {model['parameters_flat'][0]:xs}),\n",
    "    **scipy_kwargs\n",
    "); fit"
   ]
  },
  {
   "cell_type": "markdown",
   "metadata": {},
   "source": [
    "Fix fitted parameters into model.\n",
    "\n",
    "We need to further build a givens dictionary supply the input-info which usually is given when used as theano.function(model['inputs'], model['outputs'])."
   ]
  },
  {
   "cell_type": "code",
   "execution_count": 15,
   "metadata": {
    "collapsed": true
   },
   "outputs": [],
   "source": [
    "model['parameters_flat'] = [fit.x]\n",
    "givens = dict(izip(model['inputs'], [example_target]))"
   ]
  },
  {
   "cell_type": "code",
   "execution_count": 16,
   "metadata": {
    "collapsed": false
   },
   "outputs": [
    {
     "data": {
      "text/plain": [
       "[('alpha_reparam', array(1.0000000000000007)),\n",
       " ('beta+alpha_reparam', array(21.000000000000007))]"
      ]
     },
     "execution_count": 16,
     "metadata": {},
     "output_type": "execute_result"
    }
   ],
   "source": [
    "[(p.name, p.eval(givens)) for p in model['parameters_positive']]"
   ]
  },
  {
   "cell_type": "code",
   "execution_count": 17,
   "metadata": {
    "collapsed": false
   },
   "outputs": [
    {
     "data": {
      "text/plain": [
       "[('z0_flat', array([ 3.])),\n",
       " ('alpha_copy_squareplus_flat', array(-0.9999499987499378)),\n",
       " ('beta+alpha_copy_squareplus_flat', array(4.58256478404834))]"
      ]
     },
     "execution_count": 17,
     "metadata": {},
     "output_type": "execute_result"
    }
   ],
   "source": [
    "[(p.name, p.eval(givens)) for p in model['parameters']]"
   ]
  },
  {
   "cell_type": "markdown",
   "metadata": {},
   "source": [
    "# two dimensions"
   ]
  },
  {
   "cell_type": "markdown",
   "metadata": {},
   "source": [
    "## model"
   ]
  },
  {
   "cell_type": "code",
   "execution_count": 18,
   "metadata": {
    "collapsed": false
   },
   "outputs": [
    {
     "data": {
      "text/plain": [
       "{ 'inputs': [f_inputs],\n",
       "  'inverse_inputs': [inverse_inputs],\n",
       "  'inverse_outputs': inverse_outputs,\n",
       "  'norm_det': Elemwise{mul,no_inplace}.0,\n",
       "  'outputs': f_outputs,\n",
       "  'parameters': [z0],\n",
       "  'parameters_positive': [alpha, beta+alpha]}"
      ]
     },
     "execution_count": 18,
     "metadata": {},
     "output_type": "execute_result"
    }
   ],
   "source": [
    "model2d = dm.RadialTransform()\n",
    "model2d.add_postmap(Compose(flat_numericalize_postmap, flatten_parameters))\n",
    "model2d"
   ]
  },
  {
   "cell_type": "code",
   "execution_count": 19,
   "metadata": {
    "collapsed": false
   },
   "outputs": [
    {
     "data": {
      "text/plain": [
       "{ 'inputs': [f_inputs],\n",
       "  'inverse_inputs': [inverse_inputs],\n",
       "  'inverse_outputs': inverse_outputs,\n",
       "  'norm_det': Elemwise{mul,no_inplace}.0,\n",
       "  'outputs': f_outputs,\n",
       "  'parameters': [z0, alpha_copy_squareplus, beta+alpha_copy_squareplus],\n",
       "  'parameters_positive': [alpha_reparam, beta+alpha_reparam]}"
      ]
     },
     "execution_count": 19,
     "metadata": {},
     "output_type": "execute_result"
    }
   ],
   "source": [
    "model2d.map('parameters_positive', reparameterize_map(squareplus, squareplus_inv), 'parameters')\n",
    "model2d"
   ]
  },
  {
   "cell_type": "markdown",
   "metadata": {},
   "source": [
    "## target"
   ]
  },
  {
   "cell_type": "code",
   "execution_count": 20,
   "metadata": {
    "collapsed": true
   },
   "outputs": [],
   "source": [
    "target2d = dm.RadialTransform(init_alpha=1, init_beta=5, init_z0=[3, 1])\n",
    "# target2d = dm.RadialTransform(init_alpha=50, init_beta=-40, init_z0=[3, 1])"
   ]
  },
  {
   "cell_type": "code",
   "execution_count": 21,
   "metadata": {
    "collapsed": false
   },
   "outputs": [
    {
     "data": {
      "text/plain": [
       "array([ 10.33333333,   6.5       ])"
      ]
     },
     "execution_count": 21,
     "metadata": {},
     "output_type": "execute_result"
    }
   ],
   "source": [
    "f_target2d = target2d.function()\n",
    "example_target2d = [7, 4]\n",
    "f_target2d(example_target2d)  # caution, needs vector not scalar input"
   ]
  },
  {
   "cell_type": "code",
   "execution_count": 22,
   "metadata": {
    "collapsed": false
   },
   "outputs": [
    {
     "data": {
      "text/plain": [
       "array([[-10.        , -10.        ],\n",
       "       [ -7.77777778, -10.        ],\n",
       "       [ -5.55555556, -10.        ],\n",
       "       [ -3.33333333, -10.        ],\n",
       "       [ -1.11111111, -10.        ]])"
      ]
     },
     "execution_count": 22,
     "metadata": {},
     "output_type": "execute_result"
    }
   ],
   "source": [
    "N2d = 10\n",
    "_xs = np.linspace(-10, 10, N2d)\n",
    "X1, X2 = np.meshgrid(_xs, _xs)\n",
    "xs2d = np.c_[X1.flat, X2.flat]\n",
    "xs2d[:5]"
   ]
  },
  {
   "cell_type": "code",
   "execution_count": 23,
   "metadata": {
    "collapsed": false
   },
   "outputs": [
    {
     "data": {
      "text/plain": [
       "array([[-13.60522531, -13.05057526],\n",
       "       [-11.06368242, -13.35365526],\n",
       "       [ -8.41972766, -13.68250699],\n",
       "       [ -5.64595806, -14.01666399],\n",
       "       [ -2.72417999, -14.31604917]])"
      ]
     },
     "execution_count": 23,
     "metadata": {},
     "output_type": "execute_result"
    }
   ],
   "source": [
    "ys2d = np.array([f_target2d(x) for x in xs2d])\n",
    "ys2d[:5]"
   ]
  },
  {
   "cell_type": "markdown",
   "metadata": {},
   "source": [
    "## visualization"
   ]
  },
  {
   "cell_type": "code",
   "execution_count": 24,
   "metadata": {
    "collapsed": true
   },
   "outputs": [],
   "source": [
    "diff2d = ys2d - xs2d\n",
    "quiver_kwargs = dict(scale=1, angles='xy', scale_units='xy', width=0.003)\n",
    "\n",
    "def plot_fit2d(fig, ax, givens={}, time_delay=0.1, expand_factor=0.4):\n",
    "    ax.clear()\n",
    "    \n",
    "    # target data:\n",
    "    ax.quiver(xs2d[:,0], xs2d[:,1], diff2d[:,0], diff2d[:,1], hatch='***', facecolor='none', color=\"k\", **quiver_kwargs)\n",
    "    \n",
    "    # model:\n",
    "    f_model2d = model2d.function(givens=givens)\n",
    "    m_ys2d = np.array([f_model2d(x) for x in xs2d])\n",
    "    m_diff2d = m_ys2d - xs2d\n",
    "    ax.quiver(xs2d[:,0], xs2d[:,1], m_diff2d[:,0], m_diff2d[:,1], color=\"r\", **quiver_kwargs)\n",
    "\n",
    "    # ax.autoscale()  # does not work with arrows, do it manually:\n",
    "    l, r, b, t = ax.axis()\n",
    "    dx, dy = r - l, t - b\n",
    "    ax.axis([l - expand_factor * dx, r + expand_factor * dx, b - expand_factor * dy, t + expand_factor * dy])\n",
    "    \n",
    "    fig.canvas.draw()\n",
    "    time.sleep(time_delay)"
   ]
  },
  {
   "cell_type": "code",
   "execution_count": 25,
   "metadata": {
    "collapsed": false
   },
   "outputs": [
    {
     "data": {
      "application/javascript": [
       "/* Put everything inside the global mpl namespace */\n",
       "window.mpl = {};\n",
       "\n",
       "mpl.get_websocket_type = function() {\n",
       "    if (typeof(WebSocket) !== 'undefined') {\n",
       "        return WebSocket;\n",
       "    } else if (typeof(MozWebSocket) !== 'undefined') {\n",
       "        return MozWebSocket;\n",
       "    } else {\n",
       "        alert('Your browser does not have WebSocket support.' +\n",
       "              'Please try Chrome, Safari or Firefox ≥ 6. ' +\n",
       "              'Firefox 4 and 5 are also supported but you ' +\n",
       "              'have to enable WebSockets in about:config.');\n",
       "    };\n",
       "}\n",
       "\n",
       "mpl.figure = function(figure_id, websocket, ondownload, parent_element) {\n",
       "    this.id = figure_id;\n",
       "\n",
       "    this.ws = websocket;\n",
       "\n",
       "    this.supports_binary = (this.ws.binaryType != undefined);\n",
       "\n",
       "    if (!this.supports_binary) {\n",
       "        var warnings = document.getElementById(\"mpl-warnings\");\n",
       "        if (warnings) {\n",
       "            warnings.style.display = 'block';\n",
       "            warnings.textContent = (\n",
       "                \"This browser does not support binary websocket messages. \" +\n",
       "                    \"Performance may be slow.\");\n",
       "        }\n",
       "    }\n",
       "\n",
       "    this.imageObj = new Image();\n",
       "\n",
       "    this.context = undefined;\n",
       "    this.message = undefined;\n",
       "    this.canvas = undefined;\n",
       "    this.rubberband_canvas = undefined;\n",
       "    this.rubberband_context = undefined;\n",
       "    this.format_dropdown = undefined;\n",
       "\n",
       "    this.image_mode = 'full';\n",
       "\n",
       "    this.root = $('<div/>');\n",
       "    this._root_extra_style(this.root)\n",
       "    this.root.attr('style', 'display: inline-block');\n",
       "\n",
       "    $(parent_element).append(this.root);\n",
       "\n",
       "    this._init_header(this);\n",
       "    this._init_canvas(this);\n",
       "    this._init_toolbar(this);\n",
       "\n",
       "    var fig = this;\n",
       "\n",
       "    this.waiting = false;\n",
       "\n",
       "    this.ws.onopen =  function () {\n",
       "            fig.send_message(\"supports_binary\", {value: fig.supports_binary});\n",
       "            fig.send_message(\"send_image_mode\", {});\n",
       "            fig.send_message(\"refresh\", {});\n",
       "        }\n",
       "\n",
       "    this.imageObj.onload = function() {\n",
       "            if (fig.image_mode == 'full') {\n",
       "                // Full images could contain transparency (where diff images\n",
       "                // almost always do), so we need to clear the canvas so that\n",
       "                // there is no ghosting.\n",
       "                fig.context.clearRect(0, 0, fig.canvas.width, fig.canvas.height);\n",
       "            }\n",
       "            fig.context.drawImage(fig.imageObj, 0, 0);\n",
       "        };\n",
       "\n",
       "    this.imageObj.onunload = function() {\n",
       "        this.ws.close();\n",
       "    }\n",
       "\n",
       "    this.ws.onmessage = this._make_on_message_function(this);\n",
       "\n",
       "    this.ondownload = ondownload;\n",
       "}\n",
       "\n",
       "mpl.figure.prototype._init_header = function() {\n",
       "    var titlebar = $(\n",
       "        '<div class=\"ui-dialog-titlebar ui-widget-header ui-corner-all ' +\n",
       "        'ui-helper-clearfix\"/>');\n",
       "    var titletext = $(\n",
       "        '<div class=\"ui-dialog-title\" style=\"width: 100%; ' +\n",
       "        'text-align: center; padding: 3px;\"/>');\n",
       "    titlebar.append(titletext)\n",
       "    this.root.append(titlebar);\n",
       "    this.header = titletext[0];\n",
       "}\n",
       "\n",
       "\n",
       "\n",
       "mpl.figure.prototype._canvas_extra_style = function(canvas_div) {\n",
       "\n",
       "}\n",
       "\n",
       "\n",
       "mpl.figure.prototype._root_extra_style = function(canvas_div) {\n",
       "\n",
       "}\n",
       "\n",
       "mpl.figure.prototype._init_canvas = function() {\n",
       "    var fig = this;\n",
       "\n",
       "    var canvas_div = $('<div/>');\n",
       "\n",
       "    canvas_div.attr('style', 'position: relative; clear: both; outline: 0');\n",
       "\n",
       "    function canvas_keyboard_event(event) {\n",
       "        return fig.key_event(event, event['data']);\n",
       "    }\n",
       "\n",
       "    canvas_div.keydown('key_press', canvas_keyboard_event);\n",
       "    canvas_div.keyup('key_release', canvas_keyboard_event);\n",
       "    this.canvas_div = canvas_div\n",
       "    this._canvas_extra_style(canvas_div)\n",
       "    this.root.append(canvas_div);\n",
       "\n",
       "    var canvas = $('<canvas/>');\n",
       "    canvas.addClass('mpl-canvas');\n",
       "    canvas.attr('style', \"left: 0; top: 0; z-index: 0; outline: 0\")\n",
       "\n",
       "    this.canvas = canvas[0];\n",
       "    this.context = canvas[0].getContext(\"2d\");\n",
       "\n",
       "    var rubberband = $('<canvas/>');\n",
       "    rubberband.attr('style', \"position: absolute; left: 0; top: 0; z-index: 1;\")\n",
       "\n",
       "    var pass_mouse_events = true;\n",
       "\n",
       "    canvas_div.resizable({\n",
       "        start: function(event, ui) {\n",
       "            pass_mouse_events = false;\n",
       "        },\n",
       "        resize: function(event, ui) {\n",
       "            fig.request_resize(ui.size.width, ui.size.height);\n",
       "        },\n",
       "        stop: function(event, ui) {\n",
       "            pass_mouse_events = true;\n",
       "            fig.request_resize(ui.size.width, ui.size.height);\n",
       "        },\n",
       "    });\n",
       "\n",
       "    function mouse_event_fn(event) {\n",
       "        if (pass_mouse_events)\n",
       "            return fig.mouse_event(event, event['data']);\n",
       "    }\n",
       "\n",
       "    rubberband.mousedown('button_press', mouse_event_fn);\n",
       "    rubberband.mouseup('button_release', mouse_event_fn);\n",
       "    // Throttle sequential mouse events to 1 every 20ms.\n",
       "    rubberband.mousemove('motion_notify', mouse_event_fn);\n",
       "\n",
       "    rubberband.mouseenter('figure_enter', mouse_event_fn);\n",
       "    rubberband.mouseleave('figure_leave', mouse_event_fn);\n",
       "\n",
       "    canvas_div.on(\"wheel\", function (event) {\n",
       "        event = event.originalEvent;\n",
       "        event['data'] = 'scroll'\n",
       "        if (event.deltaY < 0) {\n",
       "            event.step = 1;\n",
       "        } else {\n",
       "            event.step = -1;\n",
       "        }\n",
       "        mouse_event_fn(event);\n",
       "    });\n",
       "\n",
       "    canvas_div.append(canvas);\n",
       "    canvas_div.append(rubberband);\n",
       "\n",
       "    this.rubberband = rubberband;\n",
       "    this.rubberband_canvas = rubberband[0];\n",
       "    this.rubberband_context = rubberband[0].getContext(\"2d\");\n",
       "    this.rubberband_context.strokeStyle = \"#000000\";\n",
       "\n",
       "    this._resize_canvas = function(width, height) {\n",
       "        // Keep the size of the canvas, canvas container, and rubber band\n",
       "        // canvas in synch.\n",
       "        canvas_div.css('width', width)\n",
       "        canvas_div.css('height', height)\n",
       "\n",
       "        canvas.attr('width', width);\n",
       "        canvas.attr('height', height);\n",
       "\n",
       "        rubberband.attr('width', width);\n",
       "        rubberband.attr('height', height);\n",
       "    }\n",
       "\n",
       "    // Set the figure to an initial 600x600px, this will subsequently be updated\n",
       "    // upon first draw.\n",
       "    this._resize_canvas(600, 600);\n",
       "\n",
       "    // Disable right mouse context menu.\n",
       "    $(this.rubberband_canvas).bind(\"contextmenu\",function(e){\n",
       "        return false;\n",
       "    });\n",
       "\n",
       "    function set_focus () {\n",
       "        canvas.focus();\n",
       "        canvas_div.focus();\n",
       "    }\n",
       "\n",
       "    window.setTimeout(set_focus, 100);\n",
       "}\n",
       "\n",
       "mpl.figure.prototype._init_toolbar = function() {\n",
       "    var fig = this;\n",
       "\n",
       "    var nav_element = $('<div/>')\n",
       "    nav_element.attr('style', 'width: 100%');\n",
       "    this.root.append(nav_element);\n",
       "\n",
       "    // Define a callback function for later on.\n",
       "    function toolbar_event(event) {\n",
       "        return fig.toolbar_button_onclick(event['data']);\n",
       "    }\n",
       "    function toolbar_mouse_event(event) {\n",
       "        return fig.toolbar_button_onmouseover(event['data']);\n",
       "    }\n",
       "\n",
       "    for(var toolbar_ind in mpl.toolbar_items) {\n",
       "        var name = mpl.toolbar_items[toolbar_ind][0];\n",
       "        var tooltip = mpl.toolbar_items[toolbar_ind][1];\n",
       "        var image = mpl.toolbar_items[toolbar_ind][2];\n",
       "        var method_name = mpl.toolbar_items[toolbar_ind][3];\n",
       "\n",
       "        if (!name) {\n",
       "            // put a spacer in here.\n",
       "            continue;\n",
       "        }\n",
       "        var button = $('<button/>');\n",
       "        button.addClass('ui-button ui-widget ui-state-default ui-corner-all ' +\n",
       "                        'ui-button-icon-only');\n",
       "        button.attr('role', 'button');\n",
       "        button.attr('aria-disabled', 'false');\n",
       "        button.click(method_name, toolbar_event);\n",
       "        button.mouseover(tooltip, toolbar_mouse_event);\n",
       "\n",
       "        var icon_img = $('<span/>');\n",
       "        icon_img.addClass('ui-button-icon-primary ui-icon');\n",
       "        icon_img.addClass(image);\n",
       "        icon_img.addClass('ui-corner-all');\n",
       "\n",
       "        var tooltip_span = $('<span/>');\n",
       "        tooltip_span.addClass('ui-button-text');\n",
       "        tooltip_span.html(tooltip);\n",
       "\n",
       "        button.append(icon_img);\n",
       "        button.append(tooltip_span);\n",
       "\n",
       "        nav_element.append(button);\n",
       "    }\n",
       "\n",
       "    var fmt_picker_span = $('<span/>');\n",
       "\n",
       "    var fmt_picker = $('<select/>');\n",
       "    fmt_picker.addClass('mpl-toolbar-option ui-widget ui-widget-content');\n",
       "    fmt_picker_span.append(fmt_picker);\n",
       "    nav_element.append(fmt_picker_span);\n",
       "    this.format_dropdown = fmt_picker[0];\n",
       "\n",
       "    for (var ind in mpl.extensions) {\n",
       "        var fmt = mpl.extensions[ind];\n",
       "        var option = $(\n",
       "            '<option/>', {selected: fmt === mpl.default_extension}).html(fmt);\n",
       "        fmt_picker.append(option)\n",
       "    }\n",
       "\n",
       "    // Add hover states to the ui-buttons\n",
       "    $( \".ui-button\" ).hover(\n",
       "        function() { $(this).addClass(\"ui-state-hover\");},\n",
       "        function() { $(this).removeClass(\"ui-state-hover\");}\n",
       "    );\n",
       "\n",
       "    var status_bar = $('<span class=\"mpl-message\"/>');\n",
       "    nav_element.append(status_bar);\n",
       "    this.message = status_bar[0];\n",
       "}\n",
       "\n",
       "mpl.figure.prototype.request_resize = function(x_pixels, y_pixels) {\n",
       "    // Request matplotlib to resize the figure. Matplotlib will then trigger a resize in the client,\n",
       "    // which will in turn request a refresh of the image.\n",
       "    this.send_message('resize', {'width': x_pixels, 'height': y_pixels});\n",
       "}\n",
       "\n",
       "mpl.figure.prototype.send_message = function(type, properties) {\n",
       "    properties['type'] = type;\n",
       "    properties['figure_id'] = this.id;\n",
       "    this.ws.send(JSON.stringify(properties));\n",
       "}\n",
       "\n",
       "mpl.figure.prototype.send_draw_message = function() {\n",
       "    if (!this.waiting) {\n",
       "        this.waiting = true;\n",
       "        this.ws.send(JSON.stringify({type: \"draw\", figure_id: this.id}));\n",
       "    }\n",
       "}\n",
       "\n",
       "\n",
       "mpl.figure.prototype.handle_save = function(fig, msg) {\n",
       "    var format_dropdown = fig.format_dropdown;\n",
       "    var format = format_dropdown.options[format_dropdown.selectedIndex].value;\n",
       "    fig.ondownload(fig, format);\n",
       "}\n",
       "\n",
       "\n",
       "mpl.figure.prototype.handle_resize = function(fig, msg) {\n",
       "    var size = msg['size'];\n",
       "    if (size[0] != fig.canvas.width || size[1] != fig.canvas.height) {\n",
       "        fig._resize_canvas(size[0], size[1]);\n",
       "        fig.send_message(\"refresh\", {});\n",
       "    };\n",
       "}\n",
       "\n",
       "mpl.figure.prototype.handle_rubberband = function(fig, msg) {\n",
       "    var x0 = msg['x0'];\n",
       "    var y0 = fig.canvas.height - msg['y0'];\n",
       "    var x1 = msg['x1'];\n",
       "    var y1 = fig.canvas.height - msg['y1'];\n",
       "    x0 = Math.floor(x0) + 0.5;\n",
       "    y0 = Math.floor(y0) + 0.5;\n",
       "    x1 = Math.floor(x1) + 0.5;\n",
       "    y1 = Math.floor(y1) + 0.5;\n",
       "    var min_x = Math.min(x0, x1);\n",
       "    var min_y = Math.min(y0, y1);\n",
       "    var width = Math.abs(x1 - x0);\n",
       "    var height = Math.abs(y1 - y0);\n",
       "\n",
       "    fig.rubberband_context.clearRect(\n",
       "        0, 0, fig.canvas.width, fig.canvas.height);\n",
       "\n",
       "    fig.rubberband_context.strokeRect(min_x, min_y, width, height);\n",
       "}\n",
       "\n",
       "mpl.figure.prototype.handle_figure_label = function(fig, msg) {\n",
       "    // Updates the figure title.\n",
       "    fig.header.textContent = msg['label'];\n",
       "}\n",
       "\n",
       "mpl.figure.prototype.handle_cursor = function(fig, msg) {\n",
       "    var cursor = msg['cursor'];\n",
       "    switch(cursor)\n",
       "    {\n",
       "    case 0:\n",
       "        cursor = 'pointer';\n",
       "        break;\n",
       "    case 1:\n",
       "        cursor = 'default';\n",
       "        break;\n",
       "    case 2:\n",
       "        cursor = 'crosshair';\n",
       "        break;\n",
       "    case 3:\n",
       "        cursor = 'move';\n",
       "        break;\n",
       "    }\n",
       "    fig.rubberband_canvas.style.cursor = cursor;\n",
       "}\n",
       "\n",
       "mpl.figure.prototype.handle_message = function(fig, msg) {\n",
       "    fig.message.textContent = msg['message'];\n",
       "}\n",
       "\n",
       "mpl.figure.prototype.handle_draw = function(fig, msg) {\n",
       "    // Request the server to send over a new figure.\n",
       "    fig.send_draw_message();\n",
       "}\n",
       "\n",
       "mpl.figure.prototype.handle_image_mode = function(fig, msg) {\n",
       "    fig.image_mode = msg['mode'];\n",
       "}\n",
       "\n",
       "mpl.figure.prototype.updated_canvas_event = function() {\n",
       "    // Called whenever the canvas gets updated.\n",
       "    this.send_message(\"ack\", {});\n",
       "}\n",
       "\n",
       "// A function to construct a web socket function for onmessage handling.\n",
       "// Called in the figure constructor.\n",
       "mpl.figure.prototype._make_on_message_function = function(fig) {\n",
       "    return function socket_on_message(evt) {\n",
       "        if (evt.data instanceof Blob) {\n",
       "            /* FIXME: We get \"Resource interpreted as Image but\n",
       "             * transferred with MIME type text/plain:\" errors on\n",
       "             * Chrome.  But how to set the MIME type?  It doesn't seem\n",
       "             * to be part of the websocket stream */\n",
       "            evt.data.type = \"image/png\";\n",
       "\n",
       "            /* Free the memory for the previous frames */\n",
       "            if (fig.imageObj.src) {\n",
       "                (window.URL || window.webkitURL).revokeObjectURL(\n",
       "                    fig.imageObj.src);\n",
       "            }\n",
       "\n",
       "            fig.imageObj.src = (window.URL || window.webkitURL).createObjectURL(\n",
       "                evt.data);\n",
       "            fig.updated_canvas_event();\n",
       "            fig.waiting = false;\n",
       "            return;\n",
       "        }\n",
       "        else if (typeof evt.data === 'string' && evt.data.slice(0, 21) == \"data:image/png;base64\") {\n",
       "            fig.imageObj.src = evt.data;\n",
       "            fig.updated_canvas_event();\n",
       "            fig.waiting = false;\n",
       "            return;\n",
       "        }\n",
       "\n",
       "        var msg = JSON.parse(evt.data);\n",
       "        var msg_type = msg['type'];\n",
       "\n",
       "        // Call the  \"handle_{type}\" callback, which takes\n",
       "        // the figure and JSON message as its only arguments.\n",
       "        try {\n",
       "            var callback = fig[\"handle_\" + msg_type];\n",
       "        } catch (e) {\n",
       "            console.log(\"No handler for the '\" + msg_type + \"' message type: \", msg);\n",
       "            return;\n",
       "        }\n",
       "\n",
       "        if (callback) {\n",
       "            try {\n",
       "                // console.log(\"Handling '\" + msg_type + \"' message: \", msg);\n",
       "                callback(fig, msg);\n",
       "            } catch (e) {\n",
       "                console.log(\"Exception inside the 'handler_\" + msg_type + \"' callback:\", e, e.stack, msg);\n",
       "            }\n",
       "        }\n",
       "    };\n",
       "}\n",
       "\n",
       "// from http://stackoverflow.com/questions/1114465/getting-mouse-location-in-canvas\n",
       "mpl.findpos = function(e) {\n",
       "    //this section is from http://www.quirksmode.org/js/events_properties.html\n",
       "    var targ;\n",
       "    if (!e)\n",
       "        e = window.event;\n",
       "    if (e.target)\n",
       "        targ = e.target;\n",
       "    else if (e.srcElement)\n",
       "        targ = e.srcElement;\n",
       "    if (targ.nodeType == 3) // defeat Safari bug\n",
       "        targ = targ.parentNode;\n",
       "\n",
       "    // jQuery normalizes the pageX and pageY\n",
       "    // pageX,Y are the mouse positions relative to the document\n",
       "    // offset() returns the position of the element relative to the document\n",
       "    var x = e.pageX - $(targ).offset().left;\n",
       "    var y = e.pageY - $(targ).offset().top;\n",
       "\n",
       "    return {\"x\": x, \"y\": y};\n",
       "};\n",
       "\n",
       "/*\n",
       " * return a copy of an object with only non-object keys\n",
       " * we need this to avoid circular references\n",
       " * http://stackoverflow.com/a/24161582/3208463\n",
       " */\n",
       "function simpleKeys (original) {\n",
       "  return Object.keys(original).reduce(function (obj, key) {\n",
       "    if (typeof original[key] !== 'object')\n",
       "        obj[key] = original[key]\n",
       "    return obj;\n",
       "  }, {});\n",
       "}\n",
       "\n",
       "mpl.figure.prototype.mouse_event = function(event, name) {\n",
       "    var canvas_pos = mpl.findpos(event)\n",
       "\n",
       "    if (name === 'button_press')\n",
       "    {\n",
       "        this.canvas.focus();\n",
       "        this.canvas_div.focus();\n",
       "    }\n",
       "\n",
       "    var x = canvas_pos.x;\n",
       "    var y = canvas_pos.y;\n",
       "\n",
       "    this.send_message(name, {x: x, y: y, button: event.button,\n",
       "                             step: event.step,\n",
       "                             guiEvent: simpleKeys(event)});\n",
       "\n",
       "    /* This prevents the web browser from automatically changing to\n",
       "     * the text insertion cursor when the button is pressed.  We want\n",
       "     * to control all of the cursor setting manually through the\n",
       "     * 'cursor' event from matplotlib */\n",
       "    event.preventDefault();\n",
       "    return false;\n",
       "}\n",
       "\n",
       "mpl.figure.prototype._key_event_extra = function(event, name) {\n",
       "    // Handle any extra behaviour associated with a key event\n",
       "}\n",
       "\n",
       "mpl.figure.prototype.key_event = function(event, name) {\n",
       "\n",
       "    // Prevent repeat events\n",
       "    if (name == 'key_press')\n",
       "    {\n",
       "        if (event.which === this._key)\n",
       "            return;\n",
       "        else\n",
       "            this._key = event.which;\n",
       "    }\n",
       "    if (name == 'key_release')\n",
       "        this._key = null;\n",
       "\n",
       "    var value = '';\n",
       "    if (event.ctrlKey && event.which != 17)\n",
       "        value += \"ctrl+\";\n",
       "    if (event.altKey && event.which != 18)\n",
       "        value += \"alt+\";\n",
       "    if (event.shiftKey && event.which != 16)\n",
       "        value += \"shift+\";\n",
       "\n",
       "    value += 'k';\n",
       "    value += event.which.toString();\n",
       "\n",
       "    this._key_event_extra(event, name);\n",
       "\n",
       "    this.send_message(name, {key: value,\n",
       "                             guiEvent: simpleKeys(event)});\n",
       "    return false;\n",
       "}\n",
       "\n",
       "mpl.figure.prototype.toolbar_button_onclick = function(name) {\n",
       "    if (name == 'download') {\n",
       "        this.handle_save(this, null);\n",
       "    } else {\n",
       "        this.send_message(\"toolbar_button\", {name: name});\n",
       "    }\n",
       "};\n",
       "\n",
       "mpl.figure.prototype.toolbar_button_onmouseover = function(tooltip) {\n",
       "    this.message.textContent = tooltip;\n",
       "};\n",
       "mpl.toolbar_items = [[\"Home\", \"Reset original view\", \"fa fa-home icon-home\", \"home\"], [\"Back\", \"Back to  previous view\", \"fa fa-arrow-left icon-arrow-left\", \"back\"], [\"Forward\", \"Forward to next view\", \"fa fa-arrow-right icon-arrow-right\", \"forward\"], [\"\", \"\", \"\", \"\"], [\"Pan\", \"Pan axes with left mouse, zoom with right\", \"fa fa-arrows icon-move\", \"pan\"], [\"Zoom\", \"Zoom to rectangle\", \"fa fa-square-o icon-check-empty\", \"zoom\"], [\"\", \"\", \"\", \"\"], [\"Download\", \"Download plot\", \"fa fa-floppy-o icon-save\", \"download\"]];\n",
       "\n",
       "mpl.extensions = [\"eps\", \"jpeg\", \"pdf\", \"png\", \"ps\", \"raw\", \"svg\", \"tif\"];\n",
       "\n",
       "mpl.default_extension = \"png\";var comm_websocket_adapter = function(comm) {\n",
       "    // Create a \"websocket\"-like object which calls the given IPython comm\n",
       "    // object with the appropriate methods. Currently this is a non binary\n",
       "    // socket, so there is still some room for performance tuning.\n",
       "    var ws = {};\n",
       "\n",
       "    ws.close = function() {\n",
       "        comm.close()\n",
       "    };\n",
       "    ws.send = function(m) {\n",
       "        //console.log('sending', m);\n",
       "        comm.send(m);\n",
       "    };\n",
       "    // Register the callback with on_msg.\n",
       "    comm.on_msg(function(msg) {\n",
       "        //console.log('receiving', msg['content']['data'], msg);\n",
       "        // Pass the mpl event to the overriden (by mpl) onmessage function.\n",
       "        ws.onmessage(msg['content']['data'])\n",
       "    });\n",
       "    return ws;\n",
       "}\n",
       "\n",
       "mpl.mpl_figure_comm = function(comm, msg) {\n",
       "    // This is the function which gets called when the mpl process\n",
       "    // starts-up an IPython Comm through the \"matplotlib\" channel.\n",
       "\n",
       "    var id = msg.content.data.id;\n",
       "    // Get hold of the div created by the display call when the Comm\n",
       "    // socket was opened in Python.\n",
       "    var element = $(\"#\" + id);\n",
       "    var ws_proxy = comm_websocket_adapter(comm)\n",
       "\n",
       "    function ondownload(figure, format) {\n",
       "        window.open(figure.imageObj.src);\n",
       "    }\n",
       "\n",
       "    var fig = new mpl.figure(id, ws_proxy,\n",
       "                           ondownload,\n",
       "                           element.get(0));\n",
       "\n",
       "    // Call onopen now - mpl needs it, as it is assuming we've passed it a real\n",
       "    // web socket which is closed, not our websocket->open comm proxy.\n",
       "    ws_proxy.onopen();\n",
       "\n",
       "    fig.parent_element = element.get(0);\n",
       "    fig.cell_info = mpl.find_output_cell(\"<div id='\" + id + \"'></div>\");\n",
       "    if (!fig.cell_info) {\n",
       "        console.error(\"Failed to find cell for figure\", id, fig);\n",
       "        return;\n",
       "    }\n",
       "\n",
       "    var output_index = fig.cell_info[2]\n",
       "    var cell = fig.cell_info[0];\n",
       "\n",
       "};\n",
       "\n",
       "mpl.figure.prototype.handle_close = function(fig, msg) {\n",
       "    fig.root.unbind('remove')\n",
       "\n",
       "    // Update the output cell to use the data from the current canvas.\n",
       "    fig.push_to_output();\n",
       "    var dataURL = fig.canvas.toDataURL();\n",
       "    // Re-enable the keyboard manager in IPython - without this line, in FF,\n",
       "    // the notebook keyboard shortcuts fail.\n",
       "    IPython.keyboard_manager.enable()\n",
       "    $(fig.parent_element).html('<img src=\"' + dataURL + '\">');\n",
       "    fig.close_ws(fig, msg);\n",
       "}\n",
       "\n",
       "mpl.figure.prototype.close_ws = function(fig, msg){\n",
       "    fig.send_message('closing', msg);\n",
       "    // fig.ws.close()\n",
       "}\n",
       "\n",
       "mpl.figure.prototype.push_to_output = function(remove_interactive) {\n",
       "    // Turn the data on the canvas into data in the output cell.\n",
       "    var dataURL = this.canvas.toDataURL();\n",
       "    this.cell_info[1]['text/html'] = '<img src=\"' + dataURL + '\">';\n",
       "}\n",
       "\n",
       "mpl.figure.prototype.updated_canvas_event = function() {\n",
       "    // Tell IPython that the notebook contents must change.\n",
       "    IPython.notebook.set_dirty(true);\n",
       "    this.send_message(\"ack\", {});\n",
       "    var fig = this;\n",
       "    // Wait a second, then push the new image to the DOM so\n",
       "    // that it is saved nicely (might be nice to debounce this).\n",
       "    setTimeout(function () { fig.push_to_output() }, 1000);\n",
       "}\n",
       "\n",
       "mpl.figure.prototype._init_toolbar = function() {\n",
       "    var fig = this;\n",
       "\n",
       "    var nav_element = $('<div/>')\n",
       "    nav_element.attr('style', 'width: 100%');\n",
       "    this.root.append(nav_element);\n",
       "\n",
       "    // Define a callback function for later on.\n",
       "    function toolbar_event(event) {\n",
       "        return fig.toolbar_button_onclick(event['data']);\n",
       "    }\n",
       "    function toolbar_mouse_event(event) {\n",
       "        return fig.toolbar_button_onmouseover(event['data']);\n",
       "    }\n",
       "\n",
       "    for(var toolbar_ind in mpl.toolbar_items){\n",
       "        var name = mpl.toolbar_items[toolbar_ind][0];\n",
       "        var tooltip = mpl.toolbar_items[toolbar_ind][1];\n",
       "        var image = mpl.toolbar_items[toolbar_ind][2];\n",
       "        var method_name = mpl.toolbar_items[toolbar_ind][3];\n",
       "\n",
       "        if (!name) { continue; };\n",
       "\n",
       "        var button = $('<button class=\"btn btn-default\" href=\"#\" title=\"' + name + '\"><i class=\"fa ' + image + ' fa-lg\"></i></button>');\n",
       "        button.click(method_name, toolbar_event);\n",
       "        button.mouseover(tooltip, toolbar_mouse_event);\n",
       "        nav_element.append(button);\n",
       "    }\n",
       "\n",
       "    // Add the status bar.\n",
       "    var status_bar = $('<span class=\"mpl-message\" style=\"text-align:right; float: right;\"/>');\n",
       "    nav_element.append(status_bar);\n",
       "    this.message = status_bar[0];\n",
       "\n",
       "    // Add the close button to the window.\n",
       "    var buttongrp = $('<div class=\"btn-group inline pull-right\"></div>');\n",
       "    var button = $('<button class=\"btn btn-mini btn-primary\" href=\"#\" title=\"Stop Interaction\"><i class=\"fa fa-power-off icon-remove icon-large\"></i></button>');\n",
       "    button.click(function (evt) { fig.handle_close(fig, {}); } );\n",
       "    button.mouseover('Stop Interaction', toolbar_mouse_event);\n",
       "    buttongrp.append(button);\n",
       "    var titlebar = this.root.find($('.ui-dialog-titlebar'));\n",
       "    titlebar.prepend(buttongrp);\n",
       "}\n",
       "\n",
       "mpl.figure.prototype._root_extra_style = function(el){\n",
       "    var fig = this\n",
       "    el.on(\"remove\", function(){\n",
       "\tfig.close_ws(fig, {});\n",
       "    });\n",
       "}\n",
       "\n",
       "mpl.figure.prototype._canvas_extra_style = function(el){\n",
       "    // this is important to make the div 'focusable\n",
       "    el.attr('tabindex', 0)\n",
       "    // reach out to IPython and tell the keyboard manager to turn it's self\n",
       "    // off when our div gets focus\n",
       "\n",
       "    // location in version 3\n",
       "    if (IPython.notebook.keyboard_manager) {\n",
       "        IPython.notebook.keyboard_manager.register_events(el);\n",
       "    }\n",
       "    else {\n",
       "        // location in version 2\n",
       "        IPython.keyboard_manager.register_events(el);\n",
       "    }\n",
       "\n",
       "}\n",
       "\n",
       "mpl.figure.prototype._key_event_extra = function(event, name) {\n",
       "    var manager = IPython.notebook.keyboard_manager;\n",
       "    if (!manager)\n",
       "        manager = IPython.keyboard_manager;\n",
       "\n",
       "    // Check for shift+enter\n",
       "    if (event.shiftKey && event.which == 13) {\n",
       "        this.canvas_div.blur();\n",
       "        event.shiftKey = false;\n",
       "        // Send a \"J\" for go to next cell\n",
       "        event.which = 74;\n",
       "        event.keyCode = 74;\n",
       "        manager.command_mode();\n",
       "        manager.handle_keydown(event);\n",
       "    }\n",
       "}\n",
       "\n",
       "mpl.figure.prototype.handle_save = function(fig, msg) {\n",
       "    fig.ondownload(fig, null);\n",
       "}\n",
       "\n",
       "\n",
       "mpl.find_output_cell = function(html_output) {\n",
       "    // Return the cell and output element which can be found *uniquely* in the notebook.\n",
       "    // Note - this is a bit hacky, but it is done because the \"notebook_saving.Notebook\"\n",
       "    // IPython event is triggered only after the cells have been serialised, which for\n",
       "    // our purposes (turning an active figure into a static one), is too late.\n",
       "    var cells = IPython.notebook.get_cells();\n",
       "    var ncells = cells.length;\n",
       "    for (var i=0; i<ncells; i++) {\n",
       "        var cell = cells[i];\n",
       "        if (cell.cell_type === 'code'){\n",
       "            for (var j=0; j<cell.output_area.outputs.length; j++) {\n",
       "                var data = cell.output_area.outputs[j];\n",
       "                if (data.data) {\n",
       "                    // IPython >= 3 moved mimebundle to data attribute of output\n",
       "                    data = data.data;\n",
       "                }\n",
       "                if (data['text/html'] == html_output) {\n",
       "                    return [cell, data, j];\n",
       "                }\n",
       "            }\n",
       "        }\n",
       "    }\n",
       "}\n",
       "\n",
       "// Register the function which deals with the matplotlib target/channel.\n",
       "// The kernel may be null if the page has been refreshed.\n",
       "if (IPython.notebook.kernel != null) {\n",
       "    IPython.notebook.kernel.comm_manager.register_target('matplotlib', mpl.mpl_figure_comm);\n",
       "}\n"
      ],
      "text/plain": [
       "<IPython.core.display.Javascript object>"
      ]
     },
     "metadata": {},
     "output_type": "display_data"
    },
    {
     "data": {
      "text/html": [
       "<img src=\"data:image/png;base64,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\">"
      ],
      "text/plain": [
       "<IPython.core.display.HTML object>"
      ]
     },
     "metadata": {},
     "output_type": "display_data"
    }
   ],
   "source": [
    "fig, ax = plt.subplots()\n",
    "plot_fit2d(fig, ax)"
   ]
  },
  {
   "cell_type": "markdown",
   "metadata": {},
   "source": [
    "## fit"
   ]
  },
  {
   "cell_type": "code",
   "execution_count": 26,
   "metadata": {
    "collapsed": false
   },
   "outputs": [
    {
     "data": {
      "text/plain": [
       "{'fun': <function schlichtanders.myoptimizers.f_batch>,\n",
       " 'hess': <function schlichtanders.myoptimizers.f_batch>,\n",
       " 'jac': <function schlichtanders.myoptimizers.f_batch>,\n",
       " 'x0': array([ 0.        ,  0.        ,  0.99995   ,  1.41417821])}"
      ]
     },
     "execution_count": 26,
     "metadata": {},
     "output_type": "execute_result"
    }
   ],
   "source": [
    "scipy_kwargs2d = scipy_postmap(model2d.postmap(wrapper=batch, initial_inputs=[example_target2d]))\n",
    "scipy_kwargs2d"
   ]
  },
  {
   "cell_type": "code",
   "execution_count": 28,
   "metadata": {
    "collapsed": false
   },
   "outputs": [
    {
     "name": "stdout",
     "output_type": "stream",
     "text": [
      "Optimization terminated successfully.\n",
      "         Current function value: 0.000000\n",
      "         Iterations: 13\n",
      "         Function evaluations: 16\n",
      "         Gradient evaluations: 28\n",
      "         Hessian evaluations: 13\n"
     ]
    },
    {
     "data": {
      "text/plain": [
       "     fun: 7.070044445578721e-21\n",
       "     jac: array([ -1.62024842e-04,   4.87423924e-05,   3.46724638e-06,\n",
       "        -4.52915930e-06])\n",
       " message: 'Optimization terminated successfully.'\n",
       "    nfev: 16\n",
       "    nhev: 13\n",
       "     nit: 13\n",
       "    njev: 28\n",
       "  status: 0\n",
       " success: True\n",
       "       x: array([ 3.        ,  1.        ,  0.99995   ,  2.44946933])"
      ]
     },
     "execution_count": 28,
     "metadata": {},
     "output_type": "execute_result"
    }
   ],
   "source": [
    "fit = minimize(\n",
    "    args=(ys2d,xs2d),\n",
    "#     method=\"CG\",\n",
    "    method=\"Newton-CG\",\n",
    "    options={'maxiter':100, 'disp':True},\n",
    "    callback=lambda xs: plot_fit2d(fig, ax, {model2d['parameters_flat'][0]:xs}),\n",
    "    **scipy_kwargs2d\n",
    "); fit"
   ]
  },
  {
   "cell_type": "markdown",
   "metadata": {},
   "source": [
    "# Probabilistic Normalizing Flow"
   ]
  },
  {
   "cell_type": "markdown",
   "metadata": {},
   "source": [
    "Only the combination with gaussian base function is shown. The uniform base function has the disadvantage of not being differentiable (not yet supported)."
   ]
  },
  {
   "cell_type": "markdown",
   "metadata": {},
   "source": [
    "## model"
   ]
  },
  {
   "cell_type": "code",
   "execution_count": 29,
   "metadata": {
    "collapsed": false
   },
   "outputs": [],
   "source": [
    "base_model = pm.DiagGauss(output_size=2)\n",
    "# CAUTION, this transform cannot be reused elsewhere, as it is merged into normalizing flow\n",
    "# its references point always to the current substitution\n",
    "transform_model = dm.RadialTransform()"
   ]
  },
  {
   "cell_type": "code",
   "execution_count": 30,
   "metadata": {
    "collapsed": false
   },
   "outputs": [
    {
     "data": {
      "text/plain": [
       "array([-0.46269248, -1.88442099])"
      ]
     },
     "execution_count": 30,
     "metadata": {},
     "output_type": "execute_result"
    }
   ],
   "source": [
    "model = pm.NormalizingFlow(transform_model, base_model)\n",
    "m_sampler = model.function()\n",
    "m_sampler()"
   ]
  },
  {
   "cell_type": "code",
   "execution_count": 32,
   "metadata": {
    "collapsed": false
   },
   "outputs": [
    {
     "data": {
      "text/plain": [
       "{ 'RV': f_outputs,\n",
       "  'inputs': [],\n",
       "  'logP': <function logP at 0x7f088deadb18>,\n",
       "  'outputs': f_outputs,\n",
       "  'parameters': [mean, z0]}"
      ]
     },
     "execution_count": 32,
     "metadata": {},
     "output_type": "execute_result"
    }
   ],
   "source": [
    "model"
   ]
  },
  {
   "cell_type": "markdown",
   "metadata": {},
   "source": [
    "## target"
   ]
  },
  {
   "cell_type": "code",
   "execution_count": 31,
   "metadata": {
    "collapsed": true
   },
   "outputs": [],
   "source": [
    "base_target = pm.DiagGauss(init_mean=[5,5], init_var=(10,5))\n",
    "transform_target = dm.RadialTransform(init_z0=[5,5], init_beta=30, init_alpha=3)"
   ]
  },
  {
   "cell_type": "raw",
   "metadata": {},
   "source": [
    "base_target = pm.DiagGauss(init_mean=[5,5], init_var=(80,40))\n",
    "transform_target = dm.RadialTransform(init_z0=[30,10], init_beta=-70, init_alpha=80)"
   ]
  },
  {
   "cell_type": "code",
   "execution_count": null,
   "metadata": {
    "collapsed": false
   },
   "outputs": [],
   "source": [
    "target = pm.NormalizingFlow(transform_target, base_target)\n",
    "t_sampler = target.function()\n",
    "t_sampler()"
   ]
  },
  {
   "cell_type": "code",
   "execution_count": null,
   "metadata": {
    "collapsed": false
   },
   "outputs": [],
   "source": [
    "n_samples = 2000\n",
    "targets = np.array([t_sampler() for _ in xrange(n_samples)])"
   ]
  },
  {
   "cell_type": "markdown",
   "metadata": {},
   "source": [
    "## visualization"
   ]
  },
  {
   "cell_type": "code",
   "execution_count": null,
   "metadata": {
    "collapsed": false
   },
   "outputs": [],
   "source": [
    "scatter_kwargs = dict(edgecolors=\"face\", alpha=0.01, s=5000)\n",
    "outer = dict(i=0)\n",
    "def plot_fit(fig, ax, time_delay=0.1):\n",
    "    outer['i'] += 1\n",
    "    ax.clear()\n",
    "    \n",
    "    # targets\n",
    "    ax.plot(targets[:,0], targets[:,1], 'k.')\n",
    "#     ax.scatter(targets[:,0], targets[:,1], c='k', **scatter_kwargs)\n",
    "    # model\n",
    "    m_samples = np.array([m_sampler() for _ in xrange(n_samples)])\n",
    "    ax.scatter(m_samples[:,0], m_samples[:,1], c='r',**scatter_kwargs)\n",
    "\n",
    "    fig.canvas.draw()\n",
    "    if time_delay is not None:\n",
    "        time.sleep(time_delay)"
   ]
  },
  {
   "cell_type": "code",
   "execution_count": null,
   "metadata": {
    "collapsed": false,
    "scrolled": false
   },
   "outputs": [],
   "source": [
    "fig, ax = plt.subplots()\n",
    "plot_fit(fig, ax)"
   ]
  },
  {
   "cell_type": "markdown",
   "metadata": {},
   "source": [
    "## fit"
   ]
  },
  {
   "cell_type": "code",
   "execution_count": null,
   "metadata": {
    "collapsed": false
   },
   "outputs": [],
   "source": [
    "myoptimizer = opt.ScipyOptimizer(batch)\n",
    "# CAUTION: scipy args needs to be tuple in order to work as expected!\n",
    "myoptimizer.optimize(\n",
    "    model, args=(targets,),\n",
    "#     method='CG',\n",
    "#     method=\"Newton-CG\",\n",
    "#     method=\"Nelder-Mead\",\n",
    "    options={'maxiter':10000, 'disp':True},\n",
    "    callback=lambda x: plot_fit(fig, ax, time_delay=0.001)\n",
    ")"
   ]
  },
  {
   "cell_type": "code",
   "execution_count": null,
   "metadata": {
    "collapsed": false
   },
   "outputs": [],
   "source": [
    "alpha = transform_model.alpha_from_Alpha(transform_model._Alpha.get_value(), module=np)\n",
    "beta = transform_model.beta_from_Beta(alpha, transform_model._Beta.get_value(), module=np)\n",
    "print alpha, beta"
   ]
  },
  {
   "cell_type": "code",
   "execution_count": null,
   "metadata": {
    "collapsed": true
   },
   "outputs": [],
   "source": []
  }
 ],
 "metadata": {
  "kernelspec": {
   "display_name": "Python 2",
   "language": "python",
   "name": "python2"
  },
  "language_info": {
   "codemirror_mode": {
    "name": "ipython",
    "version": 2
   },
   "file_extension": ".py",
   "mimetype": "text/x-python",
   "name": "python",
   "nbconvert_exporter": "python",
   "pygments_lexer": "ipython2",
   "version": "2.7.6"
  },
  "toc": {
   "toc_cell": false,
   "toc_number_sections": true,
   "toc_threshold": 4,
   "toc_window_display": false
  }
 },
 "nbformat": 4,
 "nbformat_minor": 0
}
