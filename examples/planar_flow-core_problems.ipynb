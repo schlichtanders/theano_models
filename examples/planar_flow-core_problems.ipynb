{
 "cells": [
  {
   "cell_type": "code",
   "execution_count": 1,
   "metadata": {
    "collapsed": false,
    "scrolled": true
   },
   "outputs": [
    {
     "name": "stderr",
     "output_type": "stream",
     "text": [
      "/usr/local/lib/python2.7/dist-packages/matplotlib/font_manager.py:273: UserWarning: Matplotlib is building the font cache using fc-list. This may take a moment.\n",
      "  warnings.warn('Matplotlib is building the font cache using fc-list. This may take a moment.')\n"
     ]
    }
   ],
   "source": [
    "%matplotlib notebook\n",
    "from __future__ import division"
   ]
  },
  {
   "cell_type": "code",
   "execution_count": 2,
   "metadata": {
    "collapsed": false
   },
   "outputs": [
    {
     "name": "stdout",
     "output_type": "stream",
     "text": [
      "gnumpy: failed to import cudamat. Using npmat instead. No GPU will be used.\n"
     ]
    }
   ],
   "source": [
    "import matplotlib.pyplot as plt\n",
    "from matplotlib.pyplot import plot, ylabel, xlabel, yscale, xscale, legend, subplots, gca, gcf, subplots, figure\n",
    "from matplotlib.ticker import FormatStrFormatter\n",
    "from theano import function\n",
    "import numpy as np\n",
    "import gzip\n",
    "import cPickle\n",
    "from scipy.optimize import minimize\n",
    "from climin.util import optimizer\n",
    "from itertools import repeat, cycle, islice, izip, imap, islice\n",
    "import random\n",
    "import time\n",
    "from pprint import pprint\n",
    "inf = float(\"inf\")"
   ]
  },
  {
   "cell_type": "code",
   "execution_count": 3,
   "metadata": {
    "collapsed": false
   },
   "outputs": [],
   "source": [
    "from breze.learn.data import one_hot\n",
    "from breze.learn.base import cast_array_to_local_type\n",
    "from schlichtanders.myfunctools import compose, meanmap, meanexpmap, summap, compose_fmap, Average, as_wrapper, AverageExp\n",
    "from schlichtanders import myfunctools\n",
    "from schlichtanders.mygenerators import eatN, chunk, chunk_list, every, takeN\n",
    "from schlichtanders.myplot import add_val, add_point\n",
    "from schlichtanders.mycontextmanagers import ignored"
   ]
  },
  {
   "cell_type": "code",
   "execution_count": 4,
   "metadata": {
    "collapsed": false
   },
   "outputs": [],
   "source": [
    "from theano_models import (Merge, Flatten, Reparameterize, Center, reduce_all_identities, variational_bayes,\n",
    "                           normalizing_flow,\n",
    "                           fix_params, inputting_references, outputting_references)\n",
    "from theano_models.tools import (as_tensor_variable, total_size, clone, clone_all,PooledRandomStreams,\n",
    "                                 get_profile, squareplus, squareplus_inv, softplus, softplus_inv)\n",
    "from theano_models.visualization import d3viz\n",
    "from IPython.display import IFrame\n",
    "import theano_models.deterministic_models as dm\n",
    "import theano_models.probabilistic_models as pm\n",
    "import theano_models.extra_models as em\n",
    "import theano_models.postmaps as post\n",
    "from theano_models.composing import normalizing_flow, variational_bayes"
   ]
  },
  {
   "cell_type": "code",
   "execution_count": 5,
   "metadata": {
    "collapsed": true
   },
   "outputs": [],
   "source": [
    "import theano\n",
    "import theano.tensor as T\n",
    "from theano.printing import debugprint\n",
    "from theano.tensor.shared_randomstreams import RandomStreams"
   ]
  },
  {
   "cell_type": "code",
   "execution_count": 6,
   "metadata": {
    "collapsed": false
   },
   "outputs": [],
   "source": [
    "from sqlalchemy import Column, Integer, Unicode, UnicodeText, String, PickleType, Float\n",
    "from sqlalchemy import create_engine\n",
    "from sqlalchemy.orm import sessionmaker\n",
    "from sqlalchemy.ext.declarative import declarative_base"
   ]
  },
  {
   "cell_type": "code",
   "execution_count": 7,
   "metadata": {
    "collapsed": false
   },
   "outputs": [],
   "source": [
    "import warnings\n",
    "warnings.filterwarnings(\"ignore\", category=DeprecationWarning)"
   ]
  },
  {
   "cell_type": "code",
   "execution_count": 8,
   "metadata": {
    "collapsed": false,
    "scrolled": true
   },
   "outputs": [
    {
     "data": {
      "text/plain": [
       "({'extra_inputs',\n",
       "  'flat',\n",
       "  'inputs',\n",
       "  'n_data',\n",
       "  'parameters',\n",
       "  'parameters_positive',\n",
       "  'parameters_psumto1',\n",
       "  'to_be_randomized'},\n",
       " {'kl_prior', 'loglikelihood', 'norm_det', 'norm_dets', 'outputs'})"
      ]
     },
     "execution_count": 8,
     "metadata": {},
     "output_type": "execute_result"
    }
   ],
   "source": [
    "inputting_references.update(['to_be_randomized'])\n",
    "inputting_references, outputting_references"
   ]
  },
  {
   "cell_type": "markdown",
   "metadata": {},
   "source": [
    "# target"
   ]
  },
  {
   "cell_type": "code",
   "execution_count": 11,
   "metadata": {
    "collapsed": false
   },
   "outputs": [
    {
     "data": {
      "text/plain": [
       "Gauss2 { 'inputs': [],\n",
       "  'outputs': Gauss2.outputs,\n",
       "  'parameters': [mean],\n",
       "  'parameters_positive': [var]}"
      ]
     },
     "execution_count": 11,
     "metadata": {},
     "output_type": "execute_result"
    }
   ],
   "source": [
    "data_target = pm.Gauss(2, init_var=np.exp(-5))  # low variance, almost deterministic\n",
    "data_target"
   ]
  },
  {
   "cell_type": "code",
   "execution_count": 12,
   "metadata": {
    "collapsed": false
   },
   "outputs": [
    {
     "data": {
      "text/plain": [
       "normalized_flow2 { 'inputs': [],\n",
       "  'norm_det': PlanarTransform2.norm_det,\n",
       "  'outputs': PlanarTransform2.outputs,\n",
       "  'parameters': [b2, w, _u2, mean],\n",
       "  'parameters_positive': [var]}"
      ]
     },
     "execution_count": 12,
     "metadata": {},
     "output_type": "execute_result"
    }
   ],
   "source": [
    "param_target_base = pm.Gauss(2, init_mean=[0,0], init_var=2)\n",
    "param_target_normflows = [dm.PlanarTransform(init__u=[3,6], init_w=[1,3], init_b=-1)]\n",
    "\n",
    "param_target = param_target_base\n",
    "for transform in param_target_normflows:\n",
    "    param_target = normalizing_flow(transform, param_target)  # returns Merge\n",
    "param_target"
   ]
  },
  {
   "cell_type": "code",
   "execution_count": 13,
   "metadata": {
    "collapsed": false
   },
   "outputs": [],
   "source": [
    "data_target['parameters'] = param_target\n",
    "target = Merge(data_target, param_target)"
   ]
  },
  {
   "cell_type": "raw",
   "metadata": {},
   "source": [
    "target = param_target"
   ]
  },
  {
   "cell_type": "markdown",
   "metadata": {},
   "source": [
    "---"
   ]
  },
  {
   "cell_type": "raw",
   "metadata": {
    "collapsed": false
   },
   "source": [
    "data_target = pm.Gauss(2, init_var=np.exp(-3))\n",
    "param_target = pm.DiagGauss(init_var=[10,6])\n",
    "# param_model = normalizing_flow(dm.LocScaleTransform(), fix_params(pm.DiagGauss(2)))\n",
    "data_target['parameters'] = param_target\n",
    "target = Merge(data_target, param_target)\n",
    "target"
   ]
  },
  {
   "cell_type": "markdown",
   "metadata": {},
   "source": [
    "---"
   ]
  },
  {
   "cell_type": "code",
   "execution_count": 14,
   "metadata": {
    "collapsed": false
   },
   "outputs": [],
   "source": [
    "t_sampler = target.function()\n",
    "n_samples = 10000\n",
    "training = np.array([t_sampler() for _ in xrange(n_samples)])\n",
    "targets = training"
   ]
  },
  {
   "cell_type": "markdown",
   "metadata": {},
   "source": [
    "# model"
   ]
  },
  {
   "cell_type": "code",
   "execution_count": 15,
   "metadata": {
    "collapsed": false
   },
   "outputs": [
    {
     "data": {
      "text/plain": [
       "Merge6 { 'inputs': [],\n",
       "  'outputs': Gauss4.outputs,\n",
       "  'parameters': [mean],\n",
       "  'parameters_positive': []}"
      ]
     },
     "execution_count": 15,
     "metadata": {},
     "output_type": "execute_result"
    }
   ],
   "source": [
    "data_model = pm.Gauss(2, init_var=np.exp(-5))\n",
    "data_model = Merge(data_model, parameters_positive=None)\n",
    "data_model"
   ]
  },
  {
   "cell_type": "code",
   "execution_count": 16,
   "metadata": {
    "collapsed": false
   },
   "outputs": [
    {
     "data": {
      "text/plain": [
       "normalized_flow3 { 'inputs': [],\n",
       "  'norm_det': PlanarTransform3.norm_det,\n",
       "  'outputs': PlanarTransform3.outputs,\n",
       "  'parameters': [b3, w, _u3],\n",
       "  'parameters_positive': [var]}"
      ]
     },
     "execution_count": 16,
     "metadata": {},
     "output_type": "execute_result"
    }
   ],
   "source": [
    "# param_model_base = pm.Gauss(2)\n",
    "# param_model_base = Merge(param_model_base, parameters=None)\n",
    "# param_model_normflows = [dm.PlanarTransform()]\n",
    "\n",
    "param_model_base = Merge(pm.Gauss(2, init_var=2), parameters=None) # no mean to be adapted\n",
    "param_model_normflows = [dm.PlanarTransform(init__u=[3,6],init_w=[1,3], init_b=-1)] \n",
    "# param_model_normflows = [dm.PlanarTransform(), Merge(dm.LocScaleTransform(), parameters=None)]  # no mean to be adapted\n",
    "\n",
    "param_model = param_model_base\n",
    "for transform in param_model_normflows:\n",
    "    param_model = normalizing_flow(transform, param_model)  # returns Merge\n",
    "param_model"
   ]
  },
  {
   "cell_type": "code",
   "execution_count": 17,
   "metadata": {
    "collapsed": false
   },
   "outputs": [
    {
     "data": {
      "text/plain": [
       "Gauss6_fixed { 'inputs': [], 'outputs': Gauss6.outputs}"
      ]
     },
     "execution_count": 17,
     "metadata": {},
     "output_type": "execute_result"
    }
   ],
   "source": [
    "prior = fix_params(pm.Gauss(2, init_var=np.exp(-6)))\n",
    "# label hyper parameters accordingly\n",
    "# prior = Merge(prior, parameters=None)\n",
    "prior"
   ]
  },
  {
   "cell_type": "code",
   "execution_count": 18,
   "metadata": {
    "collapsed": false
   },
   "outputs": [
    {
     "data": {
      "text/plain": [
       "variational_lower_bound { 'inputs': [],\n",
       "  'kl_prior': variational_lower_bound.kl_prior,\n",
       "  'logposterior': variational_lower_bound.logposterior,\n",
       "  'logprior': variational_lower_bound.logprior,\n",
       "  'n_data': n_data,\n",
       "  'norm_det': PlanarTransform3.norm_det,\n",
       "  'outputs': Gauss4.outputs,\n",
       "  'parameters': [b3, w, _u3],\n",
       "  'parameters_positive': [var]}"
      ]
     },
     "execution_count": 18,
     "metadata": {},
     "output_type": "execute_result"
    }
   ],
   "source": [
    "model = variational_bayes(data_model, 'parameters', param_model, priors=prior)\n",
    "reduce_all_identities()\n",
    "# model['n_data'].set_value(len(targets))\n",
    "model"
   ]
  },
  {
   "cell_type": "markdown",
   "metadata": {},
   "source": [
    "---"
   ]
  },
  {
   "cell_type": "raw",
   "metadata": {
    "collapsed": true
   },
   "source": [
    "model = pm.DiagGauss(2)"
   ]
  },
  {
   "cell_type": "markdown",
   "metadata": {},
   "source": [
    "---"
   ]
  },
  {
   "cell_type": "raw",
   "metadata": {
    "collapsed": false
   },
   "source": [
    "data_model = Merge(pm.Gauss(2, init_var=np.exp(-3)), parameters_positive=None)\n",
    "param_model = pm.DiagGauss(2, init_var=[10,6])\n",
    "# param_model = normalizing_flow(dm.LocScaleTransform(), fix_params(pm.DiagGauss(2)))\n",
    "prior_model = Merge(pm.Gauss(2, init_var=np.exp(-4)), parameters_positive=None)\n",
    "model = variational_bayes(data_model, 'parameters', param_model, priors=prior_model)\n",
    "# model = Merge(data_model, param_model)\n",
    "model"
   ]
  },
  {
   "cell_type": "markdown",
   "metadata": {},
   "source": [
    "---"
   ]
  },
  {
   "cell_type": "raw",
   "metadata": {
    "collapsed": true
   },
   "source": [
    "model = target"
   ]
  },
  {
   "cell_type": "markdown",
   "metadata": {},
   "source": [
    "----"
   ]
  },
  {
   "cell_type": "code",
   "execution_count": 19,
   "metadata": {
    "collapsed": false
   },
   "outputs": [
    {
     "data": {
      "text/plain": [
       "Merge12 { 'flat': \"b3_centered:w_centered:_u3_centered:var_softplus_centered\",\n",
       "  'inputs': [],\n",
       "  'kl_prior': variational_lower_bound.kl_prior,\n",
       "  'logposterior': variational_lower_bound.logposterior,\n",
       "  'logprior': variational_lower_bound.logprior,\n",
       "  'n_data': n_data,\n",
       "  'norm_det': PlanarTransform3.norm_det,\n",
       "  'outputs': Gauss4.outputs,\n",
       "  'parameters': [],\n",
       "  'parameters_positive': []}"
      ]
     },
     "execution_count": 19,
     "metadata": {},
     "output_type": "execute_result"
    }
   ],
   "source": [
    "# model = Merge(model, Reparameterize(model['parameters_positive'], squareplus, squareplus_inv))\n",
    "# UncertainWeights uses softplus parameterization\n",
    "_model = model\n",
    "_model = Merge(_model, Reparameterize(_model['parameters_positive'], softplus, softplus_inv))\n",
    "_model = Merge(_model, Center(_model['parameters']))\n",
    "_model = Merge(_model, Flatten(_model['parameters']))\n",
    "_model"
   ]
  },
  {
   "cell_type": "markdown",
   "metadata": {},
   "source": [
    "# Visualization"
   ]
  },
  {
   "cell_type": "code",
   "execution_count": 20,
   "metadata": {
    "collapsed": false
   },
   "outputs": [
    {
     "data": {
      "text/html": [
       "\n",
       "        <iframe\n",
       "            width=\"700\"\n",
       "            height=\"400\"\n",
       "            src=\"tmp/logP.html\"\n",
       "            frameborder=\"0\"\n",
       "            allowfullscreen\n",
       "        ></iframe>\n",
       "        "
      ],
      "text/plain": [
       "<IPython.lib.display.IFrame at 0x7fa93c176a50>"
      ]
     },
     "execution_count": 20,
     "metadata": {},
     "output_type": "execute_result"
    }
   ],
   "source": [
    "d3viz(model.logP['outputs'], \"tmp/logP.html\")\n",
    "IFrame(\"tmp/logP.html\", width=700, height=400)"
   ]
  },
  {
   "cell_type": "code",
   "execution_count": 21,
   "metadata": {
    "collapsed": false
   },
   "outputs": [
    {
     "data": {
      "text/plain": [
       "\"b3_centered:w_centered:_u3_centered:var_softplus_centered\""
      ]
     },
     "execution_count": 21,
     "metadata": {},
     "output_type": "execute_result"
    }
   ],
   "source": [
    "_model['flat']"
   ]
  },
  {
   "cell_type": "code",
   "execution_count": 22,
   "metadata": {
    "collapsed": false
   },
   "outputs": [
    {
     "data": {
      "text/html": [
       "\n",
       "        <iframe\n",
       "            width=\"700\"\n",
       "            height=\"400\"\n",
       "            src=\"tmp/logP_clone.html\"\n",
       "            frameborder=\"0\"\n",
       "            allowfullscreen\n",
       "        ></iframe>\n",
       "        "
      ],
      "text/plain": [
       "<IPython.lib.display.IFrame at 0x7fa93a8325d0>"
      ]
     },
     "execution_count": 22,
     "metadata": {},
     "output_type": "execute_result"
    }
   ],
   "source": [
    "d3viz(theano.clone(model.logP['outputs'],\n",
    "                   replace={model.logP['inputs'][0]:as_tensor_variable([5.0, 1.0])}),\n",
    "      \"tmp/logP_clone.html\", match_by_names=True)\n",
    "IFrame(\"tmp/logP_clone.html\", width=700, height=400)"
   ]
  },
  {
   "cell_type": "code",
   "execution_count": 23,
   "metadata": {
    "collapsed": true
   },
   "outputs": [],
   "source": [
    "scatter_kwargs = dict(edgecolors=\"face\", alpha=0.01, s=5000)\n",
    "outer = dict(i=0)\n",
    "example_samples = 1000\n",
    "def plot_fit(fig, ax, givens={}, time_delay=0.1):\n",
    "    outer['i'] += 1\n",
    "    ax.clear()\n",
    "    \n",
    "    # targets\n",
    "    ax.plot(targets[:example_samples,0], targets[:example_samples,1], 'k.')\n",
    "#     ax.scatter(targets[:,0], targets[:,1], c='k', **scatter_kwargs)\n",
    "\n",
    "    # model\n",
    "    m_sampler = model.function(givens=givens)\n",
    "    m_samples = np.array([m_sampler() for _ in xrange(example_samples//2)])\n",
    "    ax.scatter(m_samples[:,0], m_samples[:,1], c='r',**scatter_kwargs)\n",
    "\n",
    "    fig.canvas.draw()\n",
    "    if time_delay is not None:\n",
    "        time.sleep(time_delay)"
   ]
  },
  {
   "cell_type": "code",
   "execution_count": 24,
   "metadata": {
    "collapsed": true
   },
   "outputs": [],
   "source": [
    "values = np.linspace(-10, 10, 10)\n",
    "Xvalues, Yvalues = np.meshgrid(values, values)\n",
    "XY = np.c_[Xvalues.flat, Yvalues.flat]\n",
    "\n",
    "flat = T.vector()\n",
    "logP = T.stack([theano.clone(target.logP['outputs'],\n",
    "                             replace={target.logP['inputs'][0]:as_tensor_variable(rv)}) \n",
    "                # for some weird reason, _model['flat'] is no longer there in the cloned version\n",
    "                for rv in XY])\n",
    "\n",
    "# logP = T.stack(\n",
    "#     [model['loglikelihood'](as_tensor_variable(rv))['outputs'] - T.inv(model['n_data']) * model['kl_prior']\n",
    "#     for rv in XY]\n",
    "# )\n",
    "\n",
    "target_f_logP = theano.function([], logP)\n",
    "\n",
    "def plot_distr_target(fig):\n",
    "    fig.clear()\n",
    "#     Z = np.reshape(f_logP(flat), Xvalues.shape)        \n",
    "#     Z = np.reshape(Average(1000)(f_logP, flat), Xvalues.shape)        \n",
    "    Z = np.reshape(AverageExp(10000)(target_f_logP), Xvalues.shape)        \n",
    "    for i in range(2):\n",
    "        ax = fig.add_subplot(1,2,i+1)\n",
    "        if i==1:\n",
    "            Z = np.exp(Z)\n",
    "        h = ax.contourf(Xvalues, Yvalues, Z)\n",
    "        plt.colorbar(h, ax=ax)\n",
    "        fig.tight_layout()\n",
    "        fig.canvas.draw()\n",
    "# for i in range(20):"
   ]
  },
  {
   "cell_type": "code",
   "execution_count": 25,
   "metadata": {
    "collapsed": true
   },
   "outputs": [],
   "source": [
    "values = np.linspace(-10, 10, 10)\n",
    "Xvalues, Yvalues = np.meshgrid(values, values)\n",
    "XY = np.c_[Xvalues.flat, Yvalues.flat]\n",
    "\n",
    "flat = T.vector()\n",
    "logP = T.stack([theano.clone(model.logP['outputs'],\n",
    "                             replace={model.logP['inputs'][0]:as_tensor_variable(rv)\n",
    "                                     ,_model['flat']: flat})\n",
    "                # for some weird reason, _model['flat'] is no longer there in the cloned version\n",
    "                for rv in XY])\n",
    "\n",
    "# logP = T.stack(\n",
    "#     [model['loglikelihood'](as_tensor_variable(rv))['outputs'] - T.inv(model['n_data']) * model['kl_prior']\n",
    "#     for rv in XY]\n",
    "# )\n",
    "\n",
    "f_logP = theano.function([flat], logP)\n",
    "\n",
    "def plot_distr(fig, flat):\n",
    "    fig.clear()\n",
    "    Z = np.reshape(f_logP(flat), Xvalues.shape)        \n",
    "#     Z = np.reshape(Average(1000)(f_logP, flat), Xvalues.shape)        \n",
    "#     Z = np.reshape(AverageExp(5)(f_logP, flat), Xvalues.shape)        \n",
    "    for i in range(2):\n",
    "        ax = fig.add_subplot(1,2,i+1)\n",
    "        if i==1:\n",
    "            Z = np.exp(Z)\n",
    "        h = ax.contourf(Xvalues, Yvalues, Z)\n",
    "        plt.colorbar(h, ax=ax)\n",
    "        fig.tight_layout()\n",
    "        fig.canvas.draw()\n",
    "# for i in range(20):"
   ]
  },
  {
   "cell_type": "markdown",
   "metadata": {},
   "source": [
    "# optimizer"
   ]
  },
  {
   "cell_type": "code",
   "execution_count": null,
   "metadata": {
    "collapsed": false
   },
   "outputs": [],
   "source": [
    "reduce_all_identities()\n",
    "\n",
    "batch_size = 1\n",
    "n_batches = len(targets) // batch_size  # after this many steps we went through the whole data set once\n",
    "\n",
    "climin_args = izip(imap(lambda x:(x,), chunk(batch_size, cycle(training))), repeat({}))\n",
    "\n",
    "def weights_regularizer_1epoch():\n",
    "    for i in range(1, n_batches+1):\n",
    "        yield 2**(n_batches - i) / (2**n_batches - 1)\n",
    "        \n",
    "assert len(list(weights_regularizer_1epoch())) == n_batches"
   ]
  },
  {
   "cell_type": "raw",
   "metadata": {
    "collapsed": false
   },
   "source": [
    "postmap = compose(post.flat_numericalize_postmap, post.probabilistic_optimizer_postmap) \n",
    "postmap_kwargs = {\n",
    "    'pre_compile':{'num_loss': False, 'num_jacobian': False, 'num_hessian': False},\n",
    "    'mapreduce': meanmap,  # TODO add more functionality for composed fmaps, with args\n",
    "    'wrapper': as_wrapper(AverageExp(40)),\n",
    "#     'annealing_combiner': post.AnnealingCombiner(\n",
    "#         weights_regularizer=cycle(weights_regularizer_1epoch())\n",
    "#     ),\n",
    "    'adapt_init_params': lambda ps: ps + np.random.normal(size=ps.size, scale=1),\n",
    "#     'profile': True,\n",
    "#     'mode': 'FAST_COMPILE'\n",
    "}\n",
    "optimizer_kwargs = postmap(_model, **postmap_kwargs)"
   ]
  },
  {
   "cell_type": "raw",
   "metadata": {
    "collapsed": false
   },
   "source": [
    "optimizer_kwargs['num_loss'].wrapped"
   ]
  },
  {
   "cell_type": "raw",
   "metadata": {},
   "source": [
    "d3viz(optimizer_kwargs['num_loss'].wrapped, \"tmp/num_loss.html\", match_by_names=True)\n",
    "IFrame(\"tmp/num_loss.html\", width=700, height=400)"
   ]
  },
  {
   "cell_type": "code",
   "execution_count": null,
   "metadata": {
    "collapsed": true
   },
   "outputs": [],
   "source": [
    "postmap = compose(post.flat_numericalize_postmap, post.variational_postmap) \n",
    "postmap_kwargs = {\n",
    "    'mapreduce': summap,  # summap, as Annealing takes over averaging (it has to)\n",
    "    'annealing_combiner': post.AnnealingCombiner(\n",
    "        weights_regularizer=cycle(weights_regularizer_1epoch())\n",
    "    ),\n",
    "    'adapt_init_params': lambda ps: ps + np.random.normal(size=ps.size, scale=1),\n",
    "#     'profile': True,\n",
    "#     'mode': 'FAST_RUN'\n",
    "}\n",
    "optimizer_kwargs = postmap(_model, **postmap_kwargs)"
   ]
  },
  {
   "cell_type": "raw",
   "metadata": {
    "collapsed": false
   },
   "source": [
    "optimizer_kwargs['num_jacobian'](optimizer_kwargs['num_parameters'], training[:100], no_annealing=True)"
   ]
  },
  {
   "cell_type": "code",
   "execution_count": null,
   "metadata": {
    "collapsed": false
   },
   "outputs": [],
   "source": [
    "opt = optimizer(\n",
    "#     identifier='adam',\n",
    "    identifier=\"rmsprop\",\n",
    "    step_rate=1e-3,\n",
    "    momentum=0.9, #0.9,\n",
    "    args=climin_args,\n",
    "    **post.climin_postmap(optimizer_kwargs)\n",
    ")"
   ]
  },
  {
   "cell_type": "code",
   "execution_count": null,
   "metadata": {
    "collapsed": false
   },
   "outputs": [],
   "source": [
    "figure()\n",
    "# plot:\n",
    "line_train, = plot([], [], 'go-', label=\"average training loss\")\n",
    "# line_curr_val, = plot([],[], 'bo:', label=\"avrg current validation loss\")\n",
    "# line_best_val, = plot([], [], 'ko-', label=\"avrg best validation loss\")\n",
    "# plt.ticklabel_format(style='sci', axis='y', scilimits=(0,0))\n",
    "yscale('log')\n",
    "gca().yaxis.set_minor_formatter(FormatStrFormatter(\"%.2g\"))\n",
    "ylabel(\"loss\")\n",
    "xlabel(\"#epoch\")\n",
    "legend(loc='lower left', fancybox=True, framealpha=0.5)\n",
    "\n",
    "# start values:\n",
    "best_parameters = optimizer_kwargs['num_parameters']\n",
    "# best_val_loss = optimizer_kwargs['num_loss'](best_parameters, validation, no_annealing=True)\n",
    "# best_val_loss /= len(validation)\n",
    "training_loss = optimizer_kwargs['num_loss'](best_parameters, targets)#, no_annealing=True)\n",
    "# training_loss /= len(targets)\n",
    "last_improvement_epoch = opt.n_iter//n_batches\n",
    "\n",
    "# add_point(line_best_val, last_improvement_epoch, best_val_loss)\n",
    "# add_point(line_curr_val, last_improvement_epoch, best_val_loss)\n",
    "add_point(line_train, last_improvement_epoch, training_loss)"
   ]
  },
  {
   "cell_type": "code",
   "execution_count": 26,
   "metadata": {
    "collapsed": false
   },
   "outputs": [
    {
     "data": {
      "application/javascript": [
       "/* Put everything inside the global mpl namespace */\n",
       "window.mpl = {};\n",
       "\n",
       "mpl.get_websocket_type = function() {\n",
       "    if (typeof(WebSocket) !== 'undefined') {\n",
       "        return WebSocket;\n",
       "    } else if (typeof(MozWebSocket) !== 'undefined') {\n",
       "        return MozWebSocket;\n",
       "    } else {\n",
       "        alert('Your browser does not have WebSocket support.' +\n",
       "              'Please try Chrome, Safari or Firefox ≥ 6. ' +\n",
       "              'Firefox 4 and 5 are also supported but you ' +\n",
       "              'have to enable WebSockets in about:config.');\n",
       "    };\n",
       "}\n",
       "\n",
       "mpl.figure = function(figure_id, websocket, ondownload, parent_element) {\n",
       "    this.id = figure_id;\n",
       "\n",
       "    this.ws = websocket;\n",
       "\n",
       "    this.supports_binary = (this.ws.binaryType != undefined);\n",
       "\n",
       "    if (!this.supports_binary) {\n",
       "        var warnings = document.getElementById(\"mpl-warnings\");\n",
       "        if (warnings) {\n",
       "            warnings.style.display = 'block';\n",
       "            warnings.textContent = (\n",
       "                \"This browser does not support binary websocket messages. \" +\n",
       "                    \"Performance may be slow.\");\n",
       "        }\n",
       "    }\n",
       "\n",
       "    this.imageObj = new Image();\n",
       "\n",
       "    this.context = undefined;\n",
       "    this.message = undefined;\n",
       "    this.canvas = undefined;\n",
       "    this.rubberband_canvas = undefined;\n",
       "    this.rubberband_context = undefined;\n",
       "    this.format_dropdown = undefined;\n",
       "\n",
       "    this.image_mode = 'full';\n",
       "\n",
       "    this.root = $('<div/>');\n",
       "    this._root_extra_style(this.root)\n",
       "    this.root.attr('style', 'display: inline-block');\n",
       "\n",
       "    $(parent_element).append(this.root);\n",
       "\n",
       "    this._init_header(this);\n",
       "    this._init_canvas(this);\n",
       "    this._init_toolbar(this);\n",
       "\n",
       "    var fig = this;\n",
       "\n",
       "    this.waiting = false;\n",
       "\n",
       "    this.ws.onopen =  function () {\n",
       "            fig.send_message(\"supports_binary\", {value: fig.supports_binary});\n",
       "            fig.send_message(\"send_image_mode\", {});\n",
       "            fig.send_message(\"refresh\", {});\n",
       "        }\n",
       "\n",
       "    this.imageObj.onload = function() {\n",
       "            if (fig.image_mode == 'full') {\n",
       "                // Full images could contain transparency (where diff images\n",
       "                // almost always do), so we need to clear the canvas so that\n",
       "                // there is no ghosting.\n",
       "                fig.context.clearRect(0, 0, fig.canvas.width, fig.canvas.height);\n",
       "            }\n",
       "            fig.context.drawImage(fig.imageObj, 0, 0);\n",
       "        };\n",
       "\n",
       "    this.imageObj.onunload = function() {\n",
       "        this.ws.close();\n",
       "    }\n",
       "\n",
       "    this.ws.onmessage = this._make_on_message_function(this);\n",
       "\n",
       "    this.ondownload = ondownload;\n",
       "}\n",
       "\n",
       "mpl.figure.prototype._init_header = function() {\n",
       "    var titlebar = $(\n",
       "        '<div class=\"ui-dialog-titlebar ui-widget-header ui-corner-all ' +\n",
       "        'ui-helper-clearfix\"/>');\n",
       "    var titletext = $(\n",
       "        '<div class=\"ui-dialog-title\" style=\"width: 100%; ' +\n",
       "        'text-align: center; padding: 3px;\"/>');\n",
       "    titlebar.append(titletext)\n",
       "    this.root.append(titlebar);\n",
       "    this.header = titletext[0];\n",
       "}\n",
       "\n",
       "\n",
       "\n",
       "mpl.figure.prototype._canvas_extra_style = function(canvas_div) {\n",
       "\n",
       "}\n",
       "\n",
       "\n",
       "mpl.figure.prototype._root_extra_style = function(canvas_div) {\n",
       "\n",
       "}\n",
       "\n",
       "mpl.figure.prototype._init_canvas = function() {\n",
       "    var fig = this;\n",
       "\n",
       "    var canvas_div = $('<div/>');\n",
       "\n",
       "    canvas_div.attr('style', 'position: relative; clear: both; outline: 0');\n",
       "\n",
       "    function canvas_keyboard_event(event) {\n",
       "        return fig.key_event(event, event['data']);\n",
       "    }\n",
       "\n",
       "    canvas_div.keydown('key_press', canvas_keyboard_event);\n",
       "    canvas_div.keyup('key_release', canvas_keyboard_event);\n",
       "    this.canvas_div = canvas_div\n",
       "    this._canvas_extra_style(canvas_div)\n",
       "    this.root.append(canvas_div);\n",
       "\n",
       "    var canvas = $('<canvas/>');\n",
       "    canvas.addClass('mpl-canvas');\n",
       "    canvas.attr('style', \"left: 0; top: 0; z-index: 0; outline: 0\")\n",
       "\n",
       "    this.canvas = canvas[0];\n",
       "    this.context = canvas[0].getContext(\"2d\");\n",
       "\n",
       "    var rubberband = $('<canvas/>');\n",
       "    rubberband.attr('style', \"position: absolute; left: 0; top: 0; z-index: 1;\")\n",
       "\n",
       "    var pass_mouse_events = true;\n",
       "\n",
       "    canvas_div.resizable({\n",
       "        start: function(event, ui) {\n",
       "            pass_mouse_events = false;\n",
       "        },\n",
       "        resize: function(event, ui) {\n",
       "            fig.request_resize(ui.size.width, ui.size.height);\n",
       "        },\n",
       "        stop: function(event, ui) {\n",
       "            pass_mouse_events = true;\n",
       "            fig.request_resize(ui.size.width, ui.size.height);\n",
       "        },\n",
       "    });\n",
       "\n",
       "    function mouse_event_fn(event) {\n",
       "        if (pass_mouse_events)\n",
       "            return fig.mouse_event(event, event['data']);\n",
       "    }\n",
       "\n",
       "    rubberband.mousedown('button_press', mouse_event_fn);\n",
       "    rubberband.mouseup('button_release', mouse_event_fn);\n",
       "    // Throttle sequential mouse events to 1 every 20ms.\n",
       "    rubberband.mousemove('motion_notify', mouse_event_fn);\n",
       "\n",
       "    rubberband.mouseenter('figure_enter', mouse_event_fn);\n",
       "    rubberband.mouseleave('figure_leave', mouse_event_fn);\n",
       "\n",
       "    canvas_div.on(\"wheel\", function (event) {\n",
       "        event = event.originalEvent;\n",
       "        event['data'] = 'scroll'\n",
       "        if (event.deltaY < 0) {\n",
       "            event.step = 1;\n",
       "        } else {\n",
       "            event.step = -1;\n",
       "        }\n",
       "        mouse_event_fn(event);\n",
       "    });\n",
       "\n",
       "    canvas_div.append(canvas);\n",
       "    canvas_div.append(rubberband);\n",
       "\n",
       "    this.rubberband = rubberband;\n",
       "    this.rubberband_canvas = rubberband[0];\n",
       "    this.rubberband_context = rubberband[0].getContext(\"2d\");\n",
       "    this.rubberband_context.strokeStyle = \"#000000\";\n",
       "\n",
       "    this._resize_canvas = function(width, height) {\n",
       "        // Keep the size of the canvas, canvas container, and rubber band\n",
       "        // canvas in synch.\n",
       "        canvas_div.css('width', width)\n",
       "        canvas_div.css('height', height)\n",
       "\n",
       "        canvas.attr('width', width);\n",
       "        canvas.attr('height', height);\n",
       "\n",
       "        rubberband.attr('width', width);\n",
       "        rubberband.attr('height', height);\n",
       "    }\n",
       "\n",
       "    // Set the figure to an initial 600x600px, this will subsequently be updated\n",
       "    // upon first draw.\n",
       "    this._resize_canvas(600, 600);\n",
       "\n",
       "    // Disable right mouse context menu.\n",
       "    $(this.rubberband_canvas).bind(\"contextmenu\",function(e){\n",
       "        return false;\n",
       "    });\n",
       "\n",
       "    function set_focus () {\n",
       "        canvas.focus();\n",
       "        canvas_div.focus();\n",
       "    }\n",
       "\n",
       "    window.setTimeout(set_focus, 100);\n",
       "}\n",
       "\n",
       "mpl.figure.prototype._init_toolbar = function() {\n",
       "    var fig = this;\n",
       "\n",
       "    var nav_element = $('<div/>')\n",
       "    nav_element.attr('style', 'width: 100%');\n",
       "    this.root.append(nav_element);\n",
       "\n",
       "    // Define a callback function for later on.\n",
       "    function toolbar_event(event) {\n",
       "        return fig.toolbar_button_onclick(event['data']);\n",
       "    }\n",
       "    function toolbar_mouse_event(event) {\n",
       "        return fig.toolbar_button_onmouseover(event['data']);\n",
       "    }\n",
       "\n",
       "    for(var toolbar_ind in mpl.toolbar_items) {\n",
       "        var name = mpl.toolbar_items[toolbar_ind][0];\n",
       "        var tooltip = mpl.toolbar_items[toolbar_ind][1];\n",
       "        var image = mpl.toolbar_items[toolbar_ind][2];\n",
       "        var method_name = mpl.toolbar_items[toolbar_ind][3];\n",
       "\n",
       "        if (!name) {\n",
       "            // put a spacer in here.\n",
       "            continue;\n",
       "        }\n",
       "        var button = $('<button/>');\n",
       "        button.addClass('ui-button ui-widget ui-state-default ui-corner-all ' +\n",
       "                        'ui-button-icon-only');\n",
       "        button.attr('role', 'button');\n",
       "        button.attr('aria-disabled', 'false');\n",
       "        button.click(method_name, toolbar_event);\n",
       "        button.mouseover(tooltip, toolbar_mouse_event);\n",
       "\n",
       "        var icon_img = $('<span/>');\n",
       "        icon_img.addClass('ui-button-icon-primary ui-icon');\n",
       "        icon_img.addClass(image);\n",
       "        icon_img.addClass('ui-corner-all');\n",
       "\n",
       "        var tooltip_span = $('<span/>');\n",
       "        tooltip_span.addClass('ui-button-text');\n",
       "        tooltip_span.html(tooltip);\n",
       "\n",
       "        button.append(icon_img);\n",
       "        button.append(tooltip_span);\n",
       "\n",
       "        nav_element.append(button);\n",
       "    }\n",
       "\n",
       "    var fmt_picker_span = $('<span/>');\n",
       "\n",
       "    var fmt_picker = $('<select/>');\n",
       "    fmt_picker.addClass('mpl-toolbar-option ui-widget ui-widget-content');\n",
       "    fmt_picker_span.append(fmt_picker);\n",
       "    nav_element.append(fmt_picker_span);\n",
       "    this.format_dropdown = fmt_picker[0];\n",
       "\n",
       "    for (var ind in mpl.extensions) {\n",
       "        var fmt = mpl.extensions[ind];\n",
       "        var option = $(\n",
       "            '<option/>', {selected: fmt === mpl.default_extension}).html(fmt);\n",
       "        fmt_picker.append(option)\n",
       "    }\n",
       "\n",
       "    // Add hover states to the ui-buttons\n",
       "    $( \".ui-button\" ).hover(\n",
       "        function() { $(this).addClass(\"ui-state-hover\");},\n",
       "        function() { $(this).removeClass(\"ui-state-hover\");}\n",
       "    );\n",
       "\n",
       "    var status_bar = $('<span class=\"mpl-message\"/>');\n",
       "    nav_element.append(status_bar);\n",
       "    this.message = status_bar[0];\n",
       "}\n",
       "\n",
       "mpl.figure.prototype.request_resize = function(x_pixels, y_pixels) {\n",
       "    // Request matplotlib to resize the figure. Matplotlib will then trigger a resize in the client,\n",
       "    // which will in turn request a refresh of the image.\n",
       "    this.send_message('resize', {'width': x_pixels, 'height': y_pixels});\n",
       "}\n",
       "\n",
       "mpl.figure.prototype.send_message = function(type, properties) {\n",
       "    properties['type'] = type;\n",
       "    properties['figure_id'] = this.id;\n",
       "    this.ws.send(JSON.stringify(properties));\n",
       "}\n",
       "\n",
       "mpl.figure.prototype.send_draw_message = function() {\n",
       "    if (!this.waiting) {\n",
       "        this.waiting = true;\n",
       "        this.ws.send(JSON.stringify({type: \"draw\", figure_id: this.id}));\n",
       "    }\n",
       "}\n",
       "\n",
       "\n",
       "mpl.figure.prototype.handle_save = function(fig, msg) {\n",
       "    var format_dropdown = fig.format_dropdown;\n",
       "    var format = format_dropdown.options[format_dropdown.selectedIndex].value;\n",
       "    fig.ondownload(fig, format);\n",
       "}\n",
       "\n",
       "\n",
       "mpl.figure.prototype.handle_resize = function(fig, msg) {\n",
       "    var size = msg['size'];\n",
       "    if (size[0] != fig.canvas.width || size[1] != fig.canvas.height) {\n",
       "        fig._resize_canvas(size[0], size[1]);\n",
       "        fig.send_message(\"refresh\", {});\n",
       "    };\n",
       "}\n",
       "\n",
       "mpl.figure.prototype.handle_rubberband = function(fig, msg) {\n",
       "    var x0 = msg['x0'];\n",
       "    var y0 = fig.canvas.height - msg['y0'];\n",
       "    var x1 = msg['x1'];\n",
       "    var y1 = fig.canvas.height - msg['y1'];\n",
       "    x0 = Math.floor(x0) + 0.5;\n",
       "    y0 = Math.floor(y0) + 0.5;\n",
       "    x1 = Math.floor(x1) + 0.5;\n",
       "    y1 = Math.floor(y1) + 0.5;\n",
       "    var min_x = Math.min(x0, x1);\n",
       "    var min_y = Math.min(y0, y1);\n",
       "    var width = Math.abs(x1 - x0);\n",
       "    var height = Math.abs(y1 - y0);\n",
       "\n",
       "    fig.rubberband_context.clearRect(\n",
       "        0, 0, fig.canvas.width, fig.canvas.height);\n",
       "\n",
       "    fig.rubberband_context.strokeRect(min_x, min_y, width, height);\n",
       "}\n",
       "\n",
       "mpl.figure.prototype.handle_figure_label = function(fig, msg) {\n",
       "    // Updates the figure title.\n",
       "    fig.header.textContent = msg['label'];\n",
       "}\n",
       "\n",
       "mpl.figure.prototype.handle_cursor = function(fig, msg) {\n",
       "    var cursor = msg['cursor'];\n",
       "    switch(cursor)\n",
       "    {\n",
       "    case 0:\n",
       "        cursor = 'pointer';\n",
       "        break;\n",
       "    case 1:\n",
       "        cursor = 'default';\n",
       "        break;\n",
       "    case 2:\n",
       "        cursor = 'crosshair';\n",
       "        break;\n",
       "    case 3:\n",
       "        cursor = 'move';\n",
       "        break;\n",
       "    }\n",
       "    fig.rubberband_canvas.style.cursor = cursor;\n",
       "}\n",
       "\n",
       "mpl.figure.prototype.handle_message = function(fig, msg) {\n",
       "    fig.message.textContent = msg['message'];\n",
       "}\n",
       "\n",
       "mpl.figure.prototype.handle_draw = function(fig, msg) {\n",
       "    // Request the server to send over a new figure.\n",
       "    fig.send_draw_message();\n",
       "}\n",
       "\n",
       "mpl.figure.prototype.handle_image_mode = function(fig, msg) {\n",
       "    fig.image_mode = msg['mode'];\n",
       "}\n",
       "\n",
       "mpl.figure.prototype.updated_canvas_event = function() {\n",
       "    // Called whenever the canvas gets updated.\n",
       "    this.send_message(\"ack\", {});\n",
       "}\n",
       "\n",
       "// A function to construct a web socket function for onmessage handling.\n",
       "// Called in the figure constructor.\n",
       "mpl.figure.prototype._make_on_message_function = function(fig) {\n",
       "    return function socket_on_message(evt) {\n",
       "        if (evt.data instanceof Blob) {\n",
       "            /* FIXME: We get \"Resource interpreted as Image but\n",
       "             * transferred with MIME type text/plain:\" errors on\n",
       "             * Chrome.  But how to set the MIME type?  It doesn't seem\n",
       "             * to be part of the websocket stream */\n",
       "            evt.data.type = \"image/png\";\n",
       "\n",
       "            /* Free the memory for the previous frames */\n",
       "            if (fig.imageObj.src) {\n",
       "                (window.URL || window.webkitURL).revokeObjectURL(\n",
       "                    fig.imageObj.src);\n",
       "            }\n",
       "\n",
       "            fig.imageObj.src = (window.URL || window.webkitURL).createObjectURL(\n",
       "                evt.data);\n",
       "            fig.updated_canvas_event();\n",
       "            fig.waiting = false;\n",
       "            return;\n",
       "        }\n",
       "        else if (typeof evt.data === 'string' && evt.data.slice(0, 21) == \"data:image/png;base64\") {\n",
       "            fig.imageObj.src = evt.data;\n",
       "            fig.updated_canvas_event();\n",
       "            fig.waiting = false;\n",
       "            return;\n",
       "        }\n",
       "\n",
       "        var msg = JSON.parse(evt.data);\n",
       "        var msg_type = msg['type'];\n",
       "\n",
       "        // Call the  \"handle_{type}\" callback, which takes\n",
       "        // the figure and JSON message as its only arguments.\n",
       "        try {\n",
       "            var callback = fig[\"handle_\" + msg_type];\n",
       "        } catch (e) {\n",
       "            console.log(\"No handler for the '\" + msg_type + \"' message type: \", msg);\n",
       "            return;\n",
       "        }\n",
       "\n",
       "        if (callback) {\n",
       "            try {\n",
       "                // console.log(\"Handling '\" + msg_type + \"' message: \", msg);\n",
       "                callback(fig, msg);\n",
       "            } catch (e) {\n",
       "                console.log(\"Exception inside the 'handler_\" + msg_type + \"' callback:\", e, e.stack, msg);\n",
       "            }\n",
       "        }\n",
       "    };\n",
       "}\n",
       "\n",
       "// from http://stackoverflow.com/questions/1114465/getting-mouse-location-in-canvas\n",
       "mpl.findpos = function(e) {\n",
       "    //this section is from http://www.quirksmode.org/js/events_properties.html\n",
       "    var targ;\n",
       "    if (!e)\n",
       "        e = window.event;\n",
       "    if (e.target)\n",
       "        targ = e.target;\n",
       "    else if (e.srcElement)\n",
       "        targ = e.srcElement;\n",
       "    if (targ.nodeType == 3) // defeat Safari bug\n",
       "        targ = targ.parentNode;\n",
       "\n",
       "    // jQuery normalizes the pageX and pageY\n",
       "    // pageX,Y are the mouse positions relative to the document\n",
       "    // offset() returns the position of the element relative to the document\n",
       "    var x = e.pageX - $(targ).offset().left;\n",
       "    var y = e.pageY - $(targ).offset().top;\n",
       "\n",
       "    return {\"x\": x, \"y\": y};\n",
       "};\n",
       "\n",
       "/*\n",
       " * return a copy of an object with only non-object keys\n",
       " * we need this to avoid circular references\n",
       " * http://stackoverflow.com/a/24161582/3208463\n",
       " */\n",
       "function simpleKeys (original) {\n",
       "  return Object.keys(original).reduce(function (obj, key) {\n",
       "    if (typeof original[key] !== 'object')\n",
       "        obj[key] = original[key]\n",
       "    return obj;\n",
       "  }, {});\n",
       "}\n",
       "\n",
       "mpl.figure.prototype.mouse_event = function(event, name) {\n",
       "    var canvas_pos = mpl.findpos(event)\n",
       "\n",
       "    if (name === 'button_press')\n",
       "    {\n",
       "        this.canvas.focus();\n",
       "        this.canvas_div.focus();\n",
       "    }\n",
       "\n",
       "    var x = canvas_pos.x;\n",
       "    var y = canvas_pos.y;\n",
       "\n",
       "    this.send_message(name, {x: x, y: y, button: event.button,\n",
       "                             step: event.step,\n",
       "                             guiEvent: simpleKeys(event)});\n",
       "\n",
       "    /* This prevents the web browser from automatically changing to\n",
       "     * the text insertion cursor when the button is pressed.  We want\n",
       "     * to control all of the cursor setting manually through the\n",
       "     * 'cursor' event from matplotlib */\n",
       "    event.preventDefault();\n",
       "    return false;\n",
       "}\n",
       "\n",
       "mpl.figure.prototype._key_event_extra = function(event, name) {\n",
       "    // Handle any extra behaviour associated with a key event\n",
       "}\n",
       "\n",
       "mpl.figure.prototype.key_event = function(event, name) {\n",
       "\n",
       "    // Prevent repeat events\n",
       "    if (name == 'key_press')\n",
       "    {\n",
       "        if (event.which === this._key)\n",
       "            return;\n",
       "        else\n",
       "            this._key = event.which;\n",
       "    }\n",
       "    if (name == 'key_release')\n",
       "        this._key = null;\n",
       "\n",
       "    var value = '';\n",
       "    if (event.ctrlKey && event.which != 17)\n",
       "        value += \"ctrl+\";\n",
       "    if (event.altKey && event.which != 18)\n",
       "        value += \"alt+\";\n",
       "    if (event.shiftKey && event.which != 16)\n",
       "        value += \"shift+\";\n",
       "\n",
       "    value += 'k';\n",
       "    value += event.which.toString();\n",
       "\n",
       "    this._key_event_extra(event, name);\n",
       "\n",
       "    this.send_message(name, {key: value,\n",
       "                             guiEvent: simpleKeys(event)});\n",
       "    return false;\n",
       "}\n",
       "\n",
       "mpl.figure.prototype.toolbar_button_onclick = function(name) {\n",
       "    if (name == 'download') {\n",
       "        this.handle_save(this, null);\n",
       "    } else {\n",
       "        this.send_message(\"toolbar_button\", {name: name});\n",
       "    }\n",
       "};\n",
       "\n",
       "mpl.figure.prototype.toolbar_button_onmouseover = function(tooltip) {\n",
       "    this.message.textContent = tooltip;\n",
       "};\n",
       "mpl.toolbar_items = [[\"Home\", \"Reset original view\", \"fa fa-home icon-home\", \"home\"], [\"Back\", \"Back to  previous view\", \"fa fa-arrow-left icon-arrow-left\", \"back\"], [\"Forward\", \"Forward to next view\", \"fa fa-arrow-right icon-arrow-right\", \"forward\"], [\"\", \"\", \"\", \"\"], [\"Pan\", \"Pan axes with left mouse, zoom with right\", \"fa fa-arrows icon-move\", \"pan\"], [\"Zoom\", \"Zoom to rectangle\", \"fa fa-square-o icon-check-empty\", \"zoom\"], [\"\", \"\", \"\", \"\"], [\"Download\", \"Download plot\", \"fa fa-floppy-o icon-save\", \"download\"]];\n",
       "\n",
       "mpl.extensions = [\"eps\", \"jpeg\", \"pdf\", \"png\", \"ps\", \"raw\", \"svg\", \"tif\"];\n",
       "\n",
       "mpl.default_extension = \"png\";var comm_websocket_adapter = function(comm) {\n",
       "    // Create a \"websocket\"-like object which calls the given IPython comm\n",
       "    // object with the appropriate methods. Currently this is a non binary\n",
       "    // socket, so there is still some room for performance tuning.\n",
       "    var ws = {};\n",
       "\n",
       "    ws.close = function() {\n",
       "        comm.close()\n",
       "    };\n",
       "    ws.send = function(m) {\n",
       "        //console.log('sending', m);\n",
       "        comm.send(m);\n",
       "    };\n",
       "    // Register the callback with on_msg.\n",
       "    comm.on_msg(function(msg) {\n",
       "        //console.log('receiving', msg['content']['data'], msg);\n",
       "        // Pass the mpl event to the overriden (by mpl) onmessage function.\n",
       "        ws.onmessage(msg['content']['data'])\n",
       "    });\n",
       "    return ws;\n",
       "}\n",
       "\n",
       "mpl.mpl_figure_comm = function(comm, msg) {\n",
       "    // This is the function which gets called when the mpl process\n",
       "    // starts-up an IPython Comm through the \"matplotlib\" channel.\n",
       "\n",
       "    var id = msg.content.data.id;\n",
       "    // Get hold of the div created by the display call when the Comm\n",
       "    // socket was opened in Python.\n",
       "    var element = $(\"#\" + id);\n",
       "    var ws_proxy = comm_websocket_adapter(comm)\n",
       "\n",
       "    function ondownload(figure, format) {\n",
       "        window.open(figure.imageObj.src);\n",
       "    }\n",
       "\n",
       "    var fig = new mpl.figure(id, ws_proxy,\n",
       "                           ondownload,\n",
       "                           element.get(0));\n",
       "\n",
       "    // Call onopen now - mpl needs it, as it is assuming we've passed it a real\n",
       "    // web socket which is closed, not our websocket->open comm proxy.\n",
       "    ws_proxy.onopen();\n",
       "\n",
       "    fig.parent_element = element.get(0);\n",
       "    fig.cell_info = mpl.find_output_cell(\"<div id='\" + id + \"'></div>\");\n",
       "    if (!fig.cell_info) {\n",
       "        console.error(\"Failed to find cell for figure\", id, fig);\n",
       "        return;\n",
       "    }\n",
       "\n",
       "    var output_index = fig.cell_info[2]\n",
       "    var cell = fig.cell_info[0];\n",
       "\n",
       "};\n",
       "\n",
       "mpl.figure.prototype.handle_close = function(fig, msg) {\n",
       "    fig.root.unbind('remove')\n",
       "\n",
       "    // Update the output cell to use the data from the current canvas.\n",
       "    fig.push_to_output();\n",
       "    var dataURL = fig.canvas.toDataURL();\n",
       "    // Re-enable the keyboard manager in IPython - without this line, in FF,\n",
       "    // the notebook keyboard shortcuts fail.\n",
       "    IPython.keyboard_manager.enable()\n",
       "    $(fig.parent_element).html('<img src=\"' + dataURL + '\">');\n",
       "    fig.close_ws(fig, msg);\n",
       "}\n",
       "\n",
       "mpl.figure.prototype.close_ws = function(fig, msg){\n",
       "    fig.send_message('closing', msg);\n",
       "    // fig.ws.close()\n",
       "}\n",
       "\n",
       "mpl.figure.prototype.push_to_output = function(remove_interactive) {\n",
       "    // Turn the data on the canvas into data in the output cell.\n",
       "    var dataURL = this.canvas.toDataURL();\n",
       "    this.cell_info[1]['text/html'] = '<img src=\"' + dataURL + '\">';\n",
       "}\n",
       "\n",
       "mpl.figure.prototype.updated_canvas_event = function() {\n",
       "    // Tell IPython that the notebook contents must change.\n",
       "    IPython.notebook.set_dirty(true);\n",
       "    this.send_message(\"ack\", {});\n",
       "    var fig = this;\n",
       "    // Wait a second, then push the new image to the DOM so\n",
       "    // that it is saved nicely (might be nice to debounce this).\n",
       "    setTimeout(function () { fig.push_to_output() }, 1000);\n",
       "}\n",
       "\n",
       "mpl.figure.prototype._init_toolbar = function() {\n",
       "    var fig = this;\n",
       "\n",
       "    var nav_element = $('<div/>')\n",
       "    nav_element.attr('style', 'width: 100%');\n",
       "    this.root.append(nav_element);\n",
       "\n",
       "    // Define a callback function for later on.\n",
       "    function toolbar_event(event) {\n",
       "        return fig.toolbar_button_onclick(event['data']);\n",
       "    }\n",
       "    function toolbar_mouse_event(event) {\n",
       "        return fig.toolbar_button_onmouseover(event['data']);\n",
       "    }\n",
       "\n",
       "    for(var toolbar_ind in mpl.toolbar_items){\n",
       "        var name = mpl.toolbar_items[toolbar_ind][0];\n",
       "        var tooltip = mpl.toolbar_items[toolbar_ind][1];\n",
       "        var image = mpl.toolbar_items[toolbar_ind][2];\n",
       "        var method_name = mpl.toolbar_items[toolbar_ind][3];\n",
       "\n",
       "        if (!name) { continue; };\n",
       "\n",
       "        var button = $('<button class=\"btn btn-default\" href=\"#\" title=\"' + name + '\"><i class=\"fa ' + image + ' fa-lg\"></i></button>');\n",
       "        button.click(method_name, toolbar_event);\n",
       "        button.mouseover(tooltip, toolbar_mouse_event);\n",
       "        nav_element.append(button);\n",
       "    }\n",
       "\n",
       "    // Add the status bar.\n",
       "    var status_bar = $('<span class=\"mpl-message\" style=\"text-align:right; float: right;\"/>');\n",
       "    nav_element.append(status_bar);\n",
       "    this.message = status_bar[0];\n",
       "\n",
       "    // Add the close button to the window.\n",
       "    var buttongrp = $('<div class=\"btn-group inline pull-right\"></div>');\n",
       "    var button = $('<button class=\"btn btn-mini btn-primary\" href=\"#\" title=\"Stop Interaction\"><i class=\"fa fa-power-off icon-remove icon-large\"></i></button>');\n",
       "    button.click(function (evt) { fig.handle_close(fig, {}); } );\n",
       "    button.mouseover('Stop Interaction', toolbar_mouse_event);\n",
       "    buttongrp.append(button);\n",
       "    var titlebar = this.root.find($('.ui-dialog-titlebar'));\n",
       "    titlebar.prepend(buttongrp);\n",
       "}\n",
       "\n",
       "mpl.figure.prototype._root_extra_style = function(el){\n",
       "    var fig = this\n",
       "    el.on(\"remove\", function(){\n",
       "\tfig.close_ws(fig, {});\n",
       "    });\n",
       "}\n",
       "\n",
       "mpl.figure.prototype._canvas_extra_style = function(el){\n",
       "    // this is important to make the div 'focusable\n",
       "    el.attr('tabindex', 0)\n",
       "    // reach out to IPython and tell the keyboard manager to turn it's self\n",
       "    // off when our div gets focus\n",
       "\n",
       "    // location in version 3\n",
       "    if (IPython.notebook.keyboard_manager) {\n",
       "        IPython.notebook.keyboard_manager.register_events(el);\n",
       "    }\n",
       "    else {\n",
       "        // location in version 2\n",
       "        IPython.keyboard_manager.register_events(el);\n",
       "    }\n",
       "\n",
       "}\n",
       "\n",
       "mpl.figure.prototype._key_event_extra = function(event, name) {\n",
       "    var manager = IPython.notebook.keyboard_manager;\n",
       "    if (!manager)\n",
       "        manager = IPython.keyboard_manager;\n",
       "\n",
       "    // Check for shift+enter\n",
       "    if (event.shiftKey && event.which == 13) {\n",
       "        this.canvas_div.blur();\n",
       "        event.shiftKey = false;\n",
       "        // Send a \"J\" for go to next cell\n",
       "        event.which = 74;\n",
       "        event.keyCode = 74;\n",
       "        manager.command_mode();\n",
       "        manager.handle_keydown(event);\n",
       "    }\n",
       "}\n",
       "\n",
       "mpl.figure.prototype.handle_save = function(fig, msg) {\n",
       "    fig.ondownload(fig, null);\n",
       "}\n",
       "\n",
       "\n",
       "mpl.find_output_cell = function(html_output) {\n",
       "    // Return the cell and output element which can be found *uniquely* in the notebook.\n",
       "    // Note - this is a bit hacky, but it is done because the \"notebook_saving.Notebook\"\n",
       "    // IPython event is triggered only after the cells have been serialised, which for\n",
       "    // our purposes (turning an active figure into a static one), is too late.\n",
       "    var cells = IPython.notebook.get_cells();\n",
       "    var ncells = cells.length;\n",
       "    for (var i=0; i<ncells; i++) {\n",
       "        var cell = cells[i];\n",
       "        if (cell.cell_type === 'code'){\n",
       "            for (var j=0; j<cell.output_area.outputs.length; j++) {\n",
       "                var data = cell.output_area.outputs[j];\n",
       "                if (data.data) {\n",
       "                    // IPython >= 3 moved mimebundle to data attribute of output\n",
       "                    data = data.data;\n",
       "                }\n",
       "                if (data['text/html'] == html_output) {\n",
       "                    return [cell, data, j];\n",
       "                }\n",
       "            }\n",
       "        }\n",
       "    }\n",
       "}\n",
       "\n",
       "// Register the function which deals with the matplotlib target/channel.\n",
       "// The kernel may be null if the page has been refreshed.\n",
       "if (IPython.notebook.kernel != null) {\n",
       "    IPython.notebook.kernel.comm_manager.register_target('matplotlib', mpl.mpl_figure_comm);\n",
       "}\n"
      ],
      "text/plain": [
       "<IPython.core.display.Javascript object>"
      ]
     },
     "metadata": {},
     "output_type": "display_data"
    },
    {
     "data": {
      "text/html": [
       "<img src=\"data:image/png;base64,iVBORw0KGgoAAAANSUhEUgAAAoAAAAHgCAYAAAA10dzkAAAgAElEQVR4Xuy9CfgtR1nn/xkEBAK5oCyCDgh/kUVZZJXRsENYhNHIKBlkl01kGYQRREAQRB0F2QRkZMswiAKjIIRIIBBkFQiroyK7IKuQqxMkCeH/fH+3OnROzjld1V3VXd39ree5cHNP9dtV3/ftOp9+azn/ARcrYAWsgBWwAlbACliBVSnwH1bVW3fWClgBK2AFrIAVsAJWAAOgg8AKWAErYAWsgBWwAitTwAC4Moe7u1bAClgBK2AFrIAVMAA6BqyAFbACVsAKWAErsDIFDIArc7i7awWsgBWwAlbAClgBA6BjwApYAStgBayAFbACK1PAALgyh7u7VsAKWAErYAWsgBUwADoGrIAVsAJWwApYASuwMgUMgCtzuLtrBayAFbACVsAKWAEDoGPAClgBK2AFrIAVsAIrU8AAuDKHu7tWwApYAStgBayAFTAAOgasgBWwAlbAClgBK7AyBQyAK3O4u2sFrIAVsAJWwApYAQOgY8AKWAErYAWsgBWwAitTYGwA/BngwcANgEsAFwLOaWl+VeD5wI8DXwB+E3jRynzi7lqBJSjwaOAhwCWBk4H7A19cQscS+uDxLkEsV7UCM1YgZbw7Cng2cBxwJnAC8MgWC90eeCIgHrog8FHg8cBfBX0uFdjoWOD7gc8BLwF+a4OnOuUcGwDvBlwxNFKNbQOgOvq3wPuBJwUIfB6gTp7S2RNXsAJWoBYF7g08A7g78Mnwd401N6+lgSO1w+PdSEL7NlZgQgVSxzvBmpJg9wQuDrwMeAHwG6EPNwEuF3jo7DCOPga4JvAJ4EeAx4Xk2D+Ef38h8CzgySk6jA2ATdtuBrx5AwDvDPwJcGngjFBRQilTKFJ2sQJWYB4KvA94XXhrVYuvDHwcuC7woXl0IWsrPd5lldPGrEBVCqSMd8refSkktsRAKgLI3wnQ9+0dPfsK8EvAn+74XBnIuwSwjBanJgDUdO9NAQ2WTbkH8NSQ5ozulCtaASswmQIXDi9wt9nI3OvNVc+y3nTXVrYBoMe7tUWB+7tEBVLHu1sBbwAuAnwrCKJZUc2UXB342IZIYjSB3R+HzN9nd4j4FOCGwG1TRK4JALX273uA/9LqgObC/wKQyC5WwArUr8Dlw5qUa4W1K02L3w28BtBAtbayDQA93q0tCtzfJSqQOt4dDzwTuExLjIsC/w84Bnh7+Pejwzj63cC/Az8XwHGbhlcJS+fuB/xZishzBkC1/QrAv6Z02HWtwAIU0LKIzwO7pgs2u6i3zRIvUVrArMGpXVIHxAW4o7MLOQDQ412nzK6wYAVqGPNyjHexAKjnXUtnmiVwDwe0NlD7JNrlssBbw5I6bbBNKjUBYOqUiHa//FNSb13ZCixHgR8Ib4hdPbrI98I3vtpVq9/n/xKWZ7QhMHVKpN+d53VVjilgj3fz8rlbm1+Bqce8HOPdringTwFX2zIF3KioHcAfAR7RkvV7A/h9IGwoSVa8JgC8U9gEotRoswnkxYBSods2gejfT+cmn4UL6q9bivbN7Ci3/gnNRm0v9404eeYOH27Wb3Zo/ge7P/+1D8JvXWf35+96ZbI/R7tA81cPGO1u+W801/ZrniA8DIeAwxHKHDwnrwZ09kCu0tGOlEXRuZpUs51tANhvvDuYRc/pyTFl+8Owjn3Me+a615zbLg3m3H6NNtojymRjXsbxTptAdBzW7QK8qV8xm0B0lNbfAA3V6HitN4W1g5oebh+nFx30YwOgOq8Fj1qs+Edhx4oWQmrh41mBcE9rHQOjqJVQb9nSoyMAeMzpuwGw2VS95eLb31RfidvLAw+OItxf7vzB5kiejora27OjPOL98LTr7f787S/vasV0n2u/uQ55m2uZa/s1EOlcpNTB8KTM2NDRjnuFo190zIEWNz8NuABwi7nGS8925x/vDsb8uQKg3oY1kzXHMue2S+85t1+jjRJnaQCYc8wbMN5pmZoeWh2J9d4Q+UpsXR+4TzgGRucAanOczv5TeSjwd4GLtHznrsCvAj8B6OVa08KyKXbSngmxk4r+W7uFo8vYAKgvBB3svLl2SV8MpwI/FMCwOQha5wFKrG2lfgDcA3/q0D4ArBn+1Pa5AlQTSHNt/0wAUDJrwHpYyOC/MSSMdfzBmkr+8c4AOFH8zBmgDIBDgyZi3N013l0pnN3XMI6a0j4IWvCm4+4e1cri6e/3DcmyfwM+HM73a85DbmYUNrv1aUAbQqLL2AAY3bCIir0BcGj2T22LygB2AOBJ/wzHasn8llI7AGpL540jnFRrlbm2P2Ig2pT84DnJ+TasG/RoR62hMJd2HRnvZg2A7wrn+89F8nY759x29WPO7a8+AzjHgD5oswFww3Ux07+5AHBf1NQOgLON+Jk3vAd4GQBn7vPQ/AUA4DIcMUkvbnFjOEWvrWssBsBSXjcAGgBLxZbtFlDAAFhA1HmYNADOw095Wynwa4oBMGkTSM5Zjx7jbt44KGRtuQBYcAOIM4CFotFmOxXoMRA5A9ip6iwqGABn4aZMjWyDX9vkKiHQGcBMUXU+MwbAHhnAqPV/stuxBnCfUz0FXCrk523XADhv/w1ovQFwgHizuXQX+K06C2gALBW/BkADYKnYst0CChgAC4g6D5MGwHn4qV8ru8Bv1VlAA2C/oOq+ygBoAOyOEteoRgEDYDWuGLshBsCxFR/jfingt9osoAGwVCgaAA2ApWLLdgsoYAAsIOo8TBoA5+GnuFamgp/WtLfXta9qLaABMC6o0msZAA2A6VHjKyZTwAA4mfRT39gAOLUHctw/Ffx0zwb8DIDeBZwjBls2DIAtMbKeASi73gSSOVxtzgC42hgwAM7Z9X3Arw1/Td9XCYHOAJYK/dUB4Gi/AmIALBWzq7ZrAFyt+w2Ac3R9X/DbBn+b/7aaaWADYKnQXyYAzvwMQDnbx8CUCvl52zUAztt/A1pvABwg3uiXDgG/XfC3mQU0AO5ya/azT3uMu6OHXJ8bGgBLTQF7+rdPPPqaDgV6DETZB0M1sUc77NthChgAh+k33tUl4W+VWUBnAEsFrwHQAFgqtmy3gAI9wMsAWMAPE5g0AE4gevItS8PfKrOABsDkOIy8wACYCID+FZDIyHK1IgoYAIvIOgejBsA5eGkIAO5YutSsWz/x1OO+o8CqNoMYAEuFvgHQAFgqtmy3gAIGwAKizsOkAbB2PxWEv6br50KgAXBfNGSf9egx7tYerQftMwAaAGcRqG7kEQV6DETZB8Oe7bALhylgABymX/mr+wJgwqbFdWYBnQEsFbwGQANgqdiy3QIKGAALiDoPkwbAmv00AvytNwtoACwV+gZAA2Cp2LLdAgoYAAuIOg+TBsCa/ZQZAPedV7u+LKABsFToGwANgKViy3YLKGAALCDqPEwaAGv2Ux8ATJj63ez6utYCGgBLhf7yALDnQ+WfgSsVYrabUwEDYE41Z2XLAFiruwrDX/Pd9DwecK4C68oCGgBLhb4BMChrACwVYrabUwEDYE41Z2XLAFiru1IBMCFJsfm91ECgAXBvMGTf+NZj3K01Ws/TLgOgAXAWgepGHlGgx0CUfTDs2Q67cJgCBsBh+pW5OiP8qYGba/92AaDqrgcCnQEsE7xLPAYm4e2qLWpMBjD6EGgZ9k/BlYrZVds1AK7W/QbAGl2fAoB7vpti4K/p/vqygAbAUqHvDGBCBjAaAAfAn5rz9peXcrftzl0BA+DcPdi7/QbA3tIVunAC+FNP1rcW0ABYKIIXeBB0DRlAA2CpeF29XQPgakPAAFib62MBsCPzl5L9MwByOCIMsi976THuRjRz+irOAFaWAXT2b/qHouYW9BiIsg+G0qdHO2qWdQ5tMwDW5KUR4a+ZeXrNdW57rgLrygI6A1gq9A2ABsBSsWW7BRToAV4GwAJ+mMCkAXAC0XfeMgYAM2T+NpcdNRBoANwbDNnHvB7jbk3RurMtBkAD4CwC1Y08okCPgSj7YNizHXbhMAUMgMP0y3t1FwBGwJ8a1LXrdxcA6tr1QKAzgHmD9zvWlgWAPdf/SY6su4AHrAH0FHCpUF+GXQPgMvzYoxcGwB6iFblkIvhTX9Y5DWwALBLHLO0YmJ4AGAN/csAYu4ANgKVCfRl2DYDL8GOPXhgAe4hW5JIMAJia+Wv3Y30QaAAsEscGwCOyGgBLhZft5lbAAJhb0dnYMwDW4KoM8Ndn6tcAeCtJcAi8CzjnY+Ap4EgAjM7+yTueAs4Zo7bVUsAAuNpwMADW4PoMAJic/Wu+T371OwIkZQFPeXcNyg1ogzOAA8Tbe6kB0ABYKrZst4ACBsACos7DpAFwaj9NAX+bCYUAgUkAKBuzhkADYKnQNwAaAEvFlu0WUMAAWEDUeZg0AE7tpykAcHM2aZVZQANgqdA3ABoAS8WW7RZQwABYQNR5mDQATu2nfQAYcexL76nfdr/7AuCss4AGwFKhbwDMDYAD1v/Jyd4FXCrUl2HXALgMP/bohQGwh2jZLhmY/UuGv82p374Q2AbT2U4DGwCzxfGGoeUAYMcb2OYD2NYhZhdw9CYQA2CpWLVdHwS95hgwAE7p/bEBcN/3yOqygAbAUqFvAHQGsFRs2W4BBZwBLCDqPEwaAKfy08Tw18wK/cTxLQFSIHD2WUADYKnQXwUA7sv+SVhnAEuFl+3mVsAAmFvR2dgzAE7lqgEAmDz1uyXzNxgApdusIdAAWCr0DYAVAaDX/5UK8+XYNQAux5eJPTEAJgqWpfoA+NP9hwLg5nfCOrOABsAssbzFyOoBMCb7J93GWANoACwV5suxawBcji8Te2IATBQsS/UBAJgb/tSf3gA46yygATBLLBsAz69ADABGw5/MD9gEYgAsFebLsWsAXI4vE3tiAEwULEv1nke/DIU/tX3X90EKBJ546nHfkWG208AGwCyxbAA0AJYKJNsdRwED4Dg6V3gXA+DYTqks+9d0PwUAdc38IdAAWCr0PQXM8zu1dQawUyJXGEmBBQHghUO+/C7A9wD/ADwJ+D8tKS8HBw/obYCvA88Gnroh9b2BxwGXB94F3B/42EjuGPM2BsAx1da9DIBjK77jfrMAwEcDDwEuCZwcxqEv7ujQUWEsU3r2TOAE4JHAOaH+zwAPBn4MuADwHuC/Ax9s2ftR4PeBGwHfAk4FHgZ8NsVpywDAJ2ts3F1GOwNQTfAUcEr8uW6iAgsCQMHevYC7A58Cfg54CqCBTTCo8lbg22FgvUoYKB8KvDh8fkvgDQf7uI7A3+OB6wHXBM5OlLb26gbAsT00JgBu+e4oOgWs+83mYOjqAVAvoc8IY9knw9/FVjffEbIvAW4A3BO4OPAy4AWtvdpPBz4DvAX4N0Bw+VPA1YGvBZsaM98BPAG4CKBr9FJ905THxADoDGBKvLjuxAosCAD/MoDeI1qSfjm8+f4pcG3gNOCqwCdCnScCdwqQp396FXBGGHj13xcDZEMnpr1mYlflvr0BMLeiXfYGAKBMD10H2AmAKWcBqkGbP5ZgAOyKgHM/7xh33we8LryA6porAx8Hrgt8aOMmlwK+BBwLvDl8JoBU6kgzHnrh3SzfFWZANK5p3Lx0sNG2f0dA46ayi9HFAGgAjA4WV5xegQUBoKYr7gfcDvgnQNMhLwrZu88B9w0D6pVaquvt9k3hrfmbYbpDWT9d1xQNqu8EHju9t7K2wACYVc5IYwMgcCgAqoXZjoExAEY6fHu1PeOusm56CdUylVNaV+ulVctVlNlrl1uFWQtl7TR1q3JFQJlDZfi2LV+5RHix1YyHsn4qgk6NdRrn1AYtldELsKaPo8viAXDUQ6Alu6eAo4PPFdMVWBAAqvNa0/dLYbpWg6jWA2r9jMpjAhTesKXSNYCPhAFTkCgIFDjq7bsprwAOB7hMF7jeKwyAU/hmAACquUMhcAgAnmfzhxrjDGDvCNoz7mrtscaiawEfbd3g3WEWQsta2kVZvGcCl2n940XDr3weI+bf0shnATcDrtPKEP4A8MYwQyKO0zrB2wL/mtJJA2DODOAA+JPTfAxMSuius+4MAPC5wAP2eEfrWvQmq6nfXw7r+z4N3CEsdL5JeAs2AJ5XRAPgFI98rQCYOv1rABwUPRMCoGZKlOXT7MffhU5cEBBgaq30/wC+G9DyGG0o0VrB6GIANABGB4srTq9AXwA8/S5w9IWGtf+kfwb9UTnzHHjOkcmKQyHj1hgXqGhh866irN1XgS8AvxIWQDd1TwprZh7lKeDzyWcAHBa+/a4eCIC6aa4s4KDjX1YIgEPHvMjxLtcUsDZ1XG1jClgv0ppG1rSx1kM3RctmtP5ZY2+z2W1XJnJv3K8aAGs6BFpecgaw3xi9pqumBMC2zofPgkOv3AqAse7QQmi93b68dcGJwN8GMNSUygciNoFIknsEG80mkLsCr41tyEzqGQCncNRMAfB8078GwEHR0zHepW4C0fEwgrh9m0CancW33zItrNkSbfjQmNAcHfN9wOfDNPGHYzs7fwB8/elw1O5jYOZyBIwBMDZk111vQQD4Qv2yVTjCRW+/2sWmowy0mFrTxCpaVK1dcQ8PO+teCugYGB2joKKpZEHjg3wMzLqfi2K97wLAbWC10Zht30GbyYfznTXbtZwoTAG/5jpa9nWkPK+18qJz/d/B06VZxDmUfsfADM0AtpXpAEAdZ6VjYHSsizZzPC2c33cL4Aph45qOu3pvsKljrK4P3CfMlugcQG0W0TSuyt0AjY/aCKd1fk05Hfh3QDuJ/z7sCFakaApYaw1/GPiRlCOwDIAd8e9DoOcwQKynjQsCQE0Ta3rjP4eDoHVswu9uTAlftnUQtDZ2aJDd/GrU4KuzsHSEgs4C1LSJD4JezyNRtqcZAFANHDoNfJ5O5lj/ZwBMipuIGQ95RTMaykYJ2jQOaZZDpxhoR7BgUIc1q7QPgj4rvNBq2UuTzdOL77bz/JQV1Euwis4R1Fiow6K1m1gnH+gw6eYM1aj+GQANgFGB4kp1KLAgAKxD0Pm0wlPAU/mqCwI3d9duaWcXAOqS6CygAbArEg6elREzgF3tqfbzRQOgj4CpNu7csJ4KGAB7Cjf/ywyAU/kwAwBmzQKmTv/q5tsg1VPA0REVkQGMtlVTRQOgM4A1xaPb0qGAAXC1IWIAnMr1NQFgn+yfAXBw5BgAB0uY3cCRAXHPJhBnALNrboMTK2AAnNgB093eADiV9l0AuAuwtrS3ayq4cxrYAKi1wF3FU8BdCoXPnQF0BjAyVFytBgUMgDV4YZI2GAAnkV3L92/cfeeIdYAyUgIA9+7+3QenngLu9muo4QxgtFSjVXQGcDSpfaNaFDAA1uKJ0dthABxd8nDDjAA4CAJzZv/UEANgdEQZAKOlGq1icQBMOgJG3e46u2mPND4EerS4mfWNDICzdt+QxhsAh6g35FoD4BD1Mlxb/TmAGfo4jYnVTgFn/xUQA+A0EbyyuxoAV+bw73TXADiV6wsDoLrVeTD0Rt+bA6A7p3913a7paWcAoyPKGcBoqUarOCgDaAAczU++UUYFDIAZxZyXKQPglP4qDIEpABj96x+NXgbAwZFjABwsYXYDewFw9B3AzgBmd7ANnl8BA+Bqo8IAOKXrRwZAdXXXEiQDYGcgeBdwp0RHKix2Cnh0AByw/k+O8BrAyIhdeTUD4GoDwAA4peszA6C6krwjOPQ/y/SvbHkKODqinAGMlmq0inVlAA2Aozl+zTcyAK7W+wbAKV1fCQBmy/4ZAJOiyQCYJNcolRcDgM7+jRIvi7iJAXARbuzTCQNgH9VyXVMAAPtkAQ2A+CDoXDHtKeD9SiYdAzMgA2gAzBjRCzdlAFy4g3d3zwA4petjAFDtizwQuulK6jTwNgA88dTjdiuzrz2eAo6OKGcAo6UaraIzgKNJ7RvVooABsBZPjN4OA+DokrduWAgAU7KAydm/LiA1AEZHlAEwWqrRKhYFwKTsn7rsDOBojl/zjQyAq/W+AXBq18dAYGIG0AAY41QfBB2jUp863gW8QzUDYJ9w8jWlFTAAlla4WvsGwKldUwgAYyEw6/SvbuoMYHREOQMYLdVoFXdmAEc/AsYZwNGcvvYbGQBXGwEGwKldPyEAtrse9esfXdO/jcFZQKAzgKVCf5EZQANgqXCx3akVMABO7YHJ7m8AnEz6cOMYAIwFr42+dG0GMQDeShIcAu8CzvkYGAB3qOkp4JxhZlu5FDAA5lJydnYMgFO7rCAAqmuxEOgMYGcg+JdAOiU6UsEAaACMDBVXq0EBA2ANXpikDQbASWRv3TQWAAtmAaPhL7YNngKOiiqvAYySadRKXgM4qty+WQ0KGABr8MIkbTAATiL7eAAYkwU0AHoKOOdj4AygM4A548m2CitgACwscL3mDYBT+yYlAxibgdvoU9c0cDQAxh5H4wxgVFQ5Axgl06iVnAEcVW7frAYFDIA1eGGSNhgAJ5F946YpEBgLYZEQGA1/KfBpAIyKKgNglEyjVtoKgF07gNXCB/L8zoZ6E0inRK4wgQIGwAlEr+OWBsAa/GAAnMALPgamlOiLmwLOAYCGv1LhZrtDFTAADlVwttcbAGtwXQoApmTiIrKAzgD6GJjcj8DqANDZv9whZHtjKmAAHFPtqu5lAKzBHRMBYLvrJ556XLcSsdPPngLu1lKHD54Fh155UDX2LMIou1NXMgBu8YAzgFOHpe+/SwED4GpjwwBYg+tTAbBnFnDfTJYBsDMQfA5gp0RHKhgADYCRoeJqNShgAKzBC5O0wQA4iewbNx0JAHXXXRBoAOwMBANgp0QGwJ0SOQMYGT2uNroCBsDRJa/lhgbAGjzRBwAzZgGzwp/a5SngqKjyFHCUTKNW6rUL2GsAR/WRb5ZZAQNgZkHnY84AWIOvRgTAbVnA7AA4Cwj0LuBSoe8p4C3KOgNYKtxsd6gCBsChCs72egNgLa4bEQI3p4ENgP4lkJyPwaIAMMcRMBLXAJgzxGwrpwIGwJxqzsqWAbAWd40IgO0sYBT89Zlurn4a2BnAUqFvAHQGsFRs2W4BBQyABUSdh0kDYC1+MgCO7AkDYCnBDYAbyiZn/3T97/R3z9tf3v9aX7k+BQyA6/N56LEBsBbX9wXAPtm50GfNbjkDGH0Gn3cBRz4rBkADYGSouFoNChgAa/DCJG0wAE4i+5abTgCA0V2PPQB602DV08DOAEb7P7HiqgCwyA5gZwATQ87VhyhgAByi3qyvNQDW4r4hADggCxjVfQOgZHIGMCpYFnYQdNcmkNoA0NO/kVHqaucqYABcbTAYAGtxvQFwZE84A1hKcGcAh04Be/1fqdi03S0KGABXGxYGwFpcPxQAS2UBF5n9k1gGwFKhbwA0AJaKLdstoIABsICo8zBpAKzFTzkAsAQEGgCbCPEUcOSzshgA7Jr+lR5dU8DeARwZNa42mQIGwMmkn/rGBsCpPdDcPxcA5oTAvvCnNlS9AcQZwJJhbwBsqTsmAHr9X8mwXq5tA+ByfdvRMwNgLa7PCYA5IHDR8GcALBn2BkADYMn4su3MChgAMws6H3MGwBp8lRv+mj71hbi+180i89eI4zWApUK/NgB8AqA/Tfk28BfAcVsEODIgvv50OOpoJpkC9gaQUnFpuzsUWBAAHgM8GrghcGngh4BPbOn2Q4FfBq4IfB74deB/t+rdG3gccHngXcD9gY+1Pr8c8HzgNsDXgWcDT60kwNLHO94EHFVJ81fYjFIA2DcTaADcFoRTrAHUWPYQ4JLAyWEc+uKOJ0QPsMYhcc2ZwAnAI4FzQv2fAR4M/BhwAeA9wH8HPrjF3iWAjwA/AFyoZSPq4awRAG+nn+PlO0fU/Dts/QHoJADsWv8ntZKngA2AUUHmSvkUWBAA6jn/ceCzwB8BV90CgAK7+wAPBz4AXDYo+Tfh/28JvOFgee8R+Hs8cD3gmsDZoc5bAb1IanC+ShhsBZUvzueV3pYEgGnjnQGwt9hZLiwJgKkQuAr4kyjVZwD1EvoM4O7AJ8PfxVY33xFzLwFuANwTuDjwMuAFQOPRpwOfAd4C/Ft4Uf4p4OrA1zZsahzTuHjsUgDwVsBNIx7W2QKg1/9FeNdVtiqwIABs+nelAH6bAPi9wD+FzN1f7wiHVwFnhIFXVS4GfBk4HngNcG3gtA24fCJwpwCKU0eZADBtvDMATuuz0gAYC4Grgb9ZAOD7gNeFF1A1+MrAx4HrAh/aCNhLAV8KwPbm8JkAUukkzVboZXWzfFeYvdC49petD5VBfBTwayHruIgM4CPCoH4YeGOY8tHUzWYxAE47FPruEyiwIgD8eeCFIXP3mDAV8lpAf/9GkF7ZQ2X9XtRyhQbVdwKPBe4bPhdkNkUvl5pH1Zv3NydwYfuWAsC08c4AOK3LxgDALghcFfxVD4AXDryiJSantIJTy1m01ESZvXbRC59mLS4CfCt8oOUtyhwqw9devtJcp2levdhqxuMd4R8Fi5oa1n21/EXj3uwB8LbARYF/BH4Q+G3gK8At9gHg7W+vKff9paYpYGcAu7zlz3cpsCIA/FXgScDfBgjUQPu8MNBpyldFAKe3YL19N+UVYcnI/QIs6nOtM2zKNcKaGQ26n5s40tLHOwPgtC4bCwD3QWBfAKz+uJd9o564iUM7loNtXjjmGkDBl8aRawEfbTXk3WEW4ikbjVMW75nAZVr/LubR0K510W/fosKzgJsB12llCLU3QlPEmi7WZ4sAwM2+a82OYFDz5e/f+PDcDGAOAPT6v2nHVd89ToEZAOBzgQfs6Y0GLb3JNmXXFLAyfU8Og1szBay1wX8aXhI1VTJ3AEwf7wyAcQ9KqVpjAuA2CFwd/EmEqtcAlgbAh4XZDM1c/F0Ia00Za220/k3joNYaalZDL8lNVjHqCahtE8i2Rv8LoLd5rfdplyMA+NMP5gev/OmDf7/0sdflMsdq48z5S1cGcCwAdPYvKi5dqaWAXiWV61c5C3j1kb+mvQ3/NRytSc8B5YhuLOkAACAASURBVKR3gP6onHkWPEe5tvO3Q8/lvjsJ2r7aasYuANQAp+kTDbBaM6NytZAR/H7gC2EDyZyngLd5Y/94x8+GmR5dqj00+uMyigJjw1/TqQb6+sKf7Mwu+6c9XfrTjHoHX/+jjnmR412uKeBPhfGtPQWsF2lNIyv9qbXMTdGSl19o/bc4TruFtfHtl4D/Gfs81A6AmqaRMJrC0ULLdpllBtAAGBuarrdNgd4ZwAwA2G7P4X+DQz958C+xg/Iuh+4CQO3k/XCYFmnWvWgn3J+FzR5689W3giS5RzDebAK5K6D1gpqW0e7h9gaTmjaBbGrSPd45AzjdwDAVAA7t8ezgb7PDPTOAGce8jvEudROIjofR7v99m0CancW33zItrJdibSZpyo2APw5TxFoXfXpsyNQGgNoJo9172v2n6d/fBXQMjObGN0s0AHZl/2TYGcDYkHG9KRVYEADqLCyd/adsnna2aXpXg5eOP2iOOjgpDHRa86cFzhrktNBaR7qoaCr5ROBBe46BUX3Boo6S0e68lwI6BkZHMUxd0sc7A+B0PpsjAM4e/uTu6gHwXuHoFx3ros0cTwsZOe1duEKYntURMe8NwaujW64fpnE1W6JzADXboZdTlbuFDXDaxKaNsE0R2ImHNsti1gD+SYC97wH+OeyW0Vlg7SmjpvOzA0Bn/6Ybu5dy5wUBoAatBs7a7tGbryBNRW+5fwjcMSz+1vo/rQ1s797V4KvdtNoVpzkjTZu0p1F0RlZzELROFtB5XQNO8MwaSenjnQEwqwOSjM0NABcBf7MAQDVSm9a0Xk9cImjTOKSlK80Mh2Dw1BBv7YOgtapHL6M6zqU5CFrj4raj8NpjYzt0FwOAKc/jdADY8+vDAJjiXtfdpsCCANAOTlPAPwWXplf+2nMCwMXA32wAMH+8jWCxtinglC4fDIi3Pv0ELnS0lv7sLtmngA2AKX5y3YwKGAAzijkvUwbAqf01FwBcFPwZAEuGvQHQ6/9KxpdtZ1bAAJhZ0PmYMwBO6au5wJ80MgAeOQdwvE0gU0bmoHsbAEcCQE//DopTXxwUMACuNhQMgFO6fi4AuDj4cwawZNgbAA2AJePLtjMrYADMLOh8zBkAp/TVHABwkfBnACwZ9osHQK//Kxk+tj22AgbAsRWv5n4GwCldUTsALhb+DIAlw94AmJoB9AaQkvFo2x0KGABXGyIGwCldXzMALhr+DIAlw94AOAIAev1fyRBel20D4Lr83eqtAXBK19cKgIuHPwNgybA3ABoAS8aXbWdWwACYWdD5mDMATuWrWuFPehgAt0WFdwFHPiurB8AxfgLOGcDIaHS1TgUMgJ0SLbWCAXAqz9YKgKuAP2cAS4a9AfCDfxWvr9f/xWvlmkUUMAAWkXUORg2AU3mpRgBcDfwZAEuGvQHQAFgyvmw7swIGwMyCzsecAXAqX9UGgKuCPwNgybBfNADWcASMp39Lhu/6bBsA1+fz0GMD4FSurwkAVwd/BsCSYW8ALJwBNACWDN/12TYArs/nBsCJfV4LAK4S/gyAJaPfAGgALBlftp1ZAQNgZkHnY84ZwKl8ZQCcSvlwX416t9LfDwGHIxrjXcARIqmKATAWAL0BJDKkXK2kAgbAkupWbdsAOIV7DH9TqL5xTwNgKSesGgCTjoAxAJaKQdtNUMAAmCDWsqoaAKfwZw0AuNqp38bhBsBSoW8AjFW2BwB6/V+suK4Xq4ABMFapxdUzAE7hUgPgFKo7AziS6gbAWKENgLFKuV5BBQyABcWt27QBcAr/TA2Aq8/+yenOAJYK/cUCoI+AKRUytjulAgbAKdWf9N4GwCnknxIADX/B4wbAUqFvAIxRtkf2T2Y9BRwjruukKGAATFFrUXUNgFO4cyoANPy1vG0ALBX6BsAYZQ2AMSq5zggKGABHELnOWxgAx/bLVPCnfhoADYAjxLsBMEZkA2CMSq4zggIGwBFErvMWBsCx/TIVABr+NjztDGCp0F8tAJY+AsbTv6VCdt12DYCr9b8BcGzXTwGAhr8tXjYAlgp9A2CMsj0ygAbAGGFdJ1UBA2CqYoupbwAc25UGwLEV33E/A2ApRxgAu5TtAX8yaQDsEtaf91HAANhHtUVcYwAc241jA6CzfwbAkWPcANgluAGwSyF/PqICBsARxa7rVgbAsf0xJgAa/vZ41xnAUqG/SADMegagAbBU7NluDwUMgD1EW8YlBsAx/Wj4G1PtjnsZAEs5wwDYpWwPAPT0b5eo/ryvAgbAvsrN/joD4JguNACOqbYBcCK1DYBdwhsAuxTy5yMqYAAcUey6bmUAHNMfYwGgp34jvOoMYIRIvaoYAPfJ1gP+ZM4ZwF6x6IsiFDAARoi0zCoGwDH9OgYAGv4iPWoAjBQqudoqATD6DEADYHJA+YKyChgAy+pbsXUD4JjOMQCOqbangCdS2wDoDOBEoefb9lHAANhHtUVcYwAc042lAdDZvwRvOgOYIFZS1cUBoHcAJ/nflWemgAFwZg7L11wDYD4t4yyVhEADYJwPDmoZABPESqpqAHQGMClgXHlaBQyA0+o/4d0NgGOLbwAcW/Ed9zMAlnKEAdAAWCq2bLeAAgbAAqLOw6QBcAo/lYBAZ/8SPWkATBQsuvrqANAbQKJjwxUrVMAAWKFTxmmSAXAcnc97FwPgFKpv3NMAWMoJiwJAr/8rFSa2W4sCBsBaPDF6OwyAo0sebpgbAp0BTPSkATBRsOjqBsBdUvkImOggcsXxFDAAjqd1ZXcyAE7lkJwAaPjr4UUDYA/Roi4xABoAowLFlepQwABYhx8maIUBcALRz71lLgg0APbwogGwh2hRlxgADYBRgeJKdShgAKzDDxO0wgA4gegGwClFb+5tACzlhcUAYNb1f1LbU8ClYs52ByhgABwg3rwvNQBO7b8cWUBnAHt40QDYQ7SoSwyA22TqCX8y5d8Bjoo7V+qpgAGwp3Dzv8wAOLUPhwKg4a+nBw2APYXrvMwAaADsDBJXqEeBBQHgLwL3Bn4EOBM4FXgU8Mktal8R+DBwOqC/t4tsPA64PPAu4P7Ax1oVLgc8H7gN8HXg2cBT6/FodEsMgNFSFaw4BAINgD0dMwsAfDTwEOCSwMlhHPrijg4fFcah48LYdwLwSOCcUP9ngAcDPwZcAHgP8N+BD7bsddmI0toAaACMChRXqkOBBQHgS4G3Ae8ANA79NvD/AT8KfGtD7TcD/x4+awPgLYE3AA8M8Pd44HrANYGzg423At8Og/NVAA22DwVeXIdHo1thAIyWqmBFA2BBcXeZrh4A9RL6DODu4QVWf9eYdvMdPXoJcAPgnsDFgZcBLwB+I9R/OvAZ4C3AvwGCy58Crg58LdTpshHlJwOgATAqUFypDgUWBICbgn4f8Hng2sBHWh8+ArgJ8JfAb25kAF8FnBEGXl1yMeDLwPHAa4Kt04CrAp8INp8I3CmAYh1OjWuFATBOp/K1+kCgs38D/FI9AL4PeB2gF1CVKwMfB64LfGij45cCvgQcC+jFVkUAqYVnmq3Qy+pm+a4we6FxTeNgHxtb9V8EAD7kaL3U7y/RvwAiMz3XAHr9X5cX/PlQBRYMgD8M/F/gPwYQlFTK5L0+vC3fcQsAfjYMui9q6apB9Z3AY4H7hs+v1Pr8psCbwpv3N4f6Y8TrDYAjir33VgbAkT1RNQBeOLyEaonJKS1h9MKppSbK7LXLrcKsxUVaMx2a1dDSF2X42stXmusuEV5sNeOhGZM+NgyA0VFrAIyWyhXHVWDBAPgXwAUBgZ6K/q41fU8B/k+YLtnMAArgtI5Gb99NeQVwGLgf8Jjw+Q1bn18jZBg16H5uXO8NupsBcJB8mS9OhUBnAAc4oGoA1NpjjSPXAj7a6uS7wyyExq92URbvmcBlWv94UUCdPEb7SLcI9SzgZsB1Qoawjw0DYFQE9oQ/2XYGMEphVxqgwAwA8LnAA/Z0Ueta9CbbLk8D7gz8BNAsnNZUraZu/2uoeC/gSRtTwAbAAbHkSwcokAKAhr8BQuvSVQPgw8JshmYu/i4IaQAEDt6Ib336CWSdAjYADnxYfXlJBa51Fzj0yoM7HAqZrq7bHTwnp/81HK3lxgPKSe8A/VE58yx4jnJt52+H7rfvToK2r7aa8VvALwA/GRY+Nx9pOkX/1hQtV9GOOG3uuEPYaecp4AH+9KUDFYiFQAPgQKGnAcDI8S7XFPCngKttTAHrRVrTyJry1VrmpuyaAt5mY6/2s18D+PLTb8nFjtZs0f4SvQbQANglpT+fUIG+ABj7nMR27YzDZ3P8oYM1zLEgus30E4AHAXq7/YeNClq3p6MOmvLTwC+HwfDTYd2NNoHo2+EeoVKzCeSuwGvDtMwHvAkk1quul6SAATBJrv6V+wFgzjGvY7xL3QSiWY7bdWwCaXYW337LtLA2gcTY6JR8FQAYDX+SywDYGTSuMI0CP3E8HD6rXwYw52Co3mcAQB1toPP7dOZV+3yrfwHO2qKwjkzYXAOoqeQTA0RqveC2Y2CUSdTOuoeH3Xk6fkbHwOgYhTkVrwGs0VsxEOgM4EDPVQ+AWp6io180Rmkzh5a0aLbiFsAVwqYzHRHz3iCEjqC6PnCfMFuiXazaLKJlLyp3A14YNrG9sSWezkHVcVgqXTaiNDcAbspkAIwKHFcaX4GFAaAGyvaZfhqLBGoaNHUo9GbZBoCqo8FXmUQdoSAI1LRJeyfdZVsHQWtziAbqAU/5+H4PdzQATib9nht3AaDhL4PXqgdA9fFXAa3X03MqaNM4pONeNJOhHcHtca19iLNedvUyqkPwm4Og9dKqWZHNoqygXmBVumxE6W4AbMs08GvBm0CiYs6Veigg+FNZUAawhwqrvsQAWKP7DYAjeGUWADiCDvlvYQA0AOaPKlvMroABMLukczNoAKzVY/sg0BnADF4zAGYQcasJA6ABsFRs2W4mBRr4cwYwk6DzNGMArNVvuwDQ8JfJYwbATEKez8ziAdAbQEqFju2OpYABcCylq76PAbBm92yDQANgJo8ZADMJaQDcK+SANYBe/1cqRG3XAOgYaM49PfIrdu3TcaxNFQoYAAu6wQBYSlxnADNNARsAS4Xouu224c9TwKuOBWcAa3d/GwKd/cvoLQNgRjHPY8oAaAAsFVu2m0EBA2AGEZdhwgBYux8NgIU8ZAAsJCwGwEbZAdO/MuEMYKkQXa/dTfhzBnC9seAp4Jn4voFAZwAzOswAmFHM9WQAx9oAYgAsFZ7rtmsAXLf/N3rvDOAcwsEAWMBLBsACoh6YXHQG0ABYKmxst7QC2+DPGcDSqldt3wBYtXvcuHIKGABLaWsA9BRwqdiy3QEKGAAHiLfMSw2Ay/Sre9WpgAGwU6KeFQyABsCeoePLSipgACyp7ixtGwBn6TY3ergCBsDhGm63YAA0AJaKLdvtqcAu+JM5/xZwT1Hnf5kBcP4+dA96KWAA7CVbxEWLBcCk9X8SasAuYO8Ajog0V4lWwAAYLdWaKhoA1+Rt97WlgAGwVDgYAAfCny43AJYKz/XZ3Qd/zgCuLx5aPTYArtr9a+68AbCU9w2ABsBSsWW7PRQwAPYQbR2XGADX4Wf38nwKGABLBYUB0ABYKrZsN1GBLvhzBjBR0GVVNwAuy5/uTbQCBsBoqRIrGgANgIkh4+qlFDAAllJ2EXYNgItwozuRroABMF2zuCsWCYBjbgCRzF4DGBdsrrVbgRj4cwZw1RFkAFy1+9fceQNgKe8bAJ0BLBVbtpuggAEwQax1VjUArtPv7jUGwFJBYAA0AJaKLdtNUMAAmCDWOqsaANfpd/faAFgsBgyAA87/a7ziKeBi8bkKw7Hw5yngVYTDrk4aAFft/jV33hnAUt43ABoAS8WW7UYqYACMFGrd1QyA6/b/intvACzl/MUBoDeAlAoV2y2hQAr8OQNYwgOzsWkAnI2r3NC8ChgA8+r5HWsGwIEZQE//lgrNddg1AK7Dzxl6aQDMIKJNzFEBA2AprxkADYClYst2OxRIhT9nAFcdUgbAVbt/zZ03AJby/qIAcOzpXznFGcBSobl8uwbA5fs4Yw8NgBnFtKk5KWAALOUtA+BAZQ2AAwVc8eUGwBU7P73rBsB0zXzFIhQwAJZy43oBcODUr7N/pUJyHXb7wJ+ngNcRGzt6aQBctfvX3HkDYCnvLwYAPf1bKkRst4QCBsASqi7apgFw0e5153YrYAAsFR3rBMAM2T9nAEuF5DrsGgDX4eeMvTQAZhTTpuakgAGwlLcWAYB3/eSb0/TJAIBe+5cmuWt/R4G+8Ocp4FVHkQFw1e5fc+cNgKW8vz4AzAB/zv6VCsd12DUArsPPmXtpAMwsqM3NRQEDYClPzR4AT/9rOPriCfIYABPEctXcCgyBP2cAc3tjVvYMgLNylxubTwEDYD4tz2tpXQCYCf6cASwVjsu3awBcvo8L9dAAWEhYm61dAQNgKQ8ZAHso6/V/PUTzJQcKGAAdCD0VMAD2FM6XzV0BA2ApD64HAJ39KxVDthupwFD48xRwpNDLrGYAXKZf3atOBQyAnRL1rGAA7CGcM4A9RPMlg7N/BsBVB5EBcNXuX3PnDYClvL8OAHT2r1T82G6CAs4AJojlqpsKGAAdEytVwABYyvEGwERlnf1LFMzVDxTIAX/OAK46mAyAq3b/mjtvACzl/eUDYMbsn5xgACwVisu2mw0AHwyHfvJAq0PA4QjVDsDh5affkosdfcGI6nFVzjh8NscfOjiAPbYdcYZda5cCBkDHxkoVMACWcrwBMFFZA2CiYK6eLft3kAE0AK41ogyAa/X86vttACwVAssGQGf/SsWN7SYokCv7x6/C4X9zBjBB+iVVNQAuyZvuS4ICBsAEsZKq1gqAjwYeAlwSOBm4P/DFjZ4dDIh7fwnEAJgUDK5cRgED4FZd7wk8ArgycA7wPhDi8t5Q+0rAE4BbApcFPgk8C3jehrV7A48DLg+8K4wVH2vVuRzwfOA2wNeBZwNPLePp3lajxzt4E3BU7xv5QiswPwVmAYAxz3AjvR5gjUPHAWcCJwCPDOOg6lwTeDJwI+AKwK2Bg/U2G+V4QPe9GvAV4OnA76f4t0YA1ID+DODuYdDX39XOmycBYGb40709/ZsSWq4rBbLBn4wtKwN4W+C7gL8HLgQ8HPh5QOD3r8CxwM8C/xv4FPCfgBcADwD+V4guweEbgAcG+Hs8cL0wgJ4d6rwV+HZ4obxKGGwfCry4kghNGu8MgJV4zc0YUYHqATD2GW40ewlwA0Avwfoh25eFse03QgV9prHvPcArw8vrJgCKj54G/DehSViLrfXYGu+iS40AqEzA6wAN5irKEHwcuC7woVbP9mcAMwOg4S86plyxpUA2AFRuTGsAlzsFrIFQm1p+PAx82+JI2b9LA3cJH74KOCO8LOqfLgZ8GdCb8WuAawOnAVcFPhGueSJwpwCKNcRq0nhnAKzBZW7DuApUD4Cxz7BkuxTwpfCC20CdAFLEotkKvay2i2ZHNjOA2s33WeBRrZfhXi6pDQAvHAZ0Tdec0uqRBm9N2ygD0JTdAJgZ/nRDA2Cv+Fr9RQbAqBDQgKas3K8APwxoxN9W9Kasz7QkREWDoF4UX9SqrEH1ncBjgfuGz5VVbMpNOUJRAs5vRrWuXKXk8c4AWM4ZtlyrAlUDYMozLIFvFWYtLgJ8Kyh+xTDbeXWgvXxFH28DwBsD7wjjoGZOlPnTuKclNf+S4sXaAFDreD4HXAv4aKsj7w5v9E8xAKa413WnViALAIbsn/qysAzgjwZYu2jI3N0ReP8On2nQe0tYCqLxQEUAp3U0mjFoyitCJvF+wGPC5zdsfX4N4COABl2NNVOW5PHOADilu3zvaRSoGgBTnmHJp9mJZwKXaWmp8U+dPCZM57Zl3gaAWirzcuAfw9KW04E/CGucb5fio+UBoLN/Kf533YIKZIE/tW9eAPjcsE5vl7KCOK3dU1HmTyD2PcAvAncGrhNgsH29soJa26I1L/+j9YEBsGD82rQVqEMBA+DGJhBBpGZD7tGaAm6WuyS92NYGgCnp1IMp4Af/PFxYS8g1qf6f4Ni35Q9ZT//m13QNFnMB4EnHwElK+GvL2FnwHOW44g9gznYQ9PtP+gqnnfTVg5uffeY5vP45moE930HQup+mV3cVQdsRI+cv2hDynPCG3HyqjRuCRi2c1m7fdlnhFLDWhocB72C5pP64WIGlKaAN/fqjchag5b7Rh85nGfMix7sUZlEfdk0Ba6ObdvPGTAHrBfqNwE1a66W/G/hG2CzXCNcZFLUBoBocu6Dy/GsAC2T/1CADYGccucIWBbIAYCv7p1v0nQK+9ekncKGjtUciTznr8BmcfEgb0aIH5Zgba/D7vXBsi+rrbVaZv78Iu4Q3behbQekBvQmrNJtA7gq8Niwl+YA3gcRI7zpWoFYF+mUAc455HeNdLLNIYG0C0ZF2mqrtuwlEa/60kUSbR3RKgoqW03wQ+I/A52M9WSMA3iscA6Mt0jr7S9M+FwBusdEpA2Csl11vdAWywJ9avVwA/HXgVODT4bzPBwE/F6aAldnT+VfK52vnvz5rdsfp3KyvBYfqTfjE8LneercdA6PNZLpWi6V1osBLw4YTZRRrKEnjndcA1uAyt2FcBaoHwH3PsMYxbTrT23JzxqmOoLo+cJ8wW6JzALXBVScUqCjFr7MAxWdaE61jrrTu+Qut85B1tqmyibq3Tk/QGan6f51wEF1qBMDma+9hgCBPqU6d/SXibZdRANDZv+hYcsWWAlkAcAP+ZH5BGUAdWPrTAfQEdBocdQ5WswlEL4Av3BJUygg2awj1sQZAHRitIxQEgRor2tMoOkS6OQhaA6TOFS00V9D7EZCno8Y7A2BvjX3hbBWoHgD3MYtOINApJkpg6YVXpX0QtOa39TKqI1204UNF1yj5tXkkjADxSaGOpnx18LM2hOjMU70I6yVXh91Hl1oBMKYD5wXAQkO6ATDGFa6zqYAB0DGRWQH/FFxmQW1uLgrMAgDnIuZ52mkA7HCbAXCWcT1po7PAX/NOudGTBWUAJ/XRDG9uAJyh09zkHAoYAHOouM3GMgBQ+wYLFMNfAVFXYDILAG6Z/pV0BsAVBND2LhoAV+v6tXfcAFgqAgyAe5Q1AJYKu2XbNQAu278T9c4AOJHwvu3UChgAS3lg/gB4Fzi6ORYrs0oGwMyCrsBcSfhzBnAFAbS7iwbAVbt/zZ03AJbyvgHQGcBSsbVKuwbAVbp9jE4bAMdQ2feoUAEDYCmnGAB3KOvsX6mQW7ZdA+Cy/Tth7wyAE4rvW0+pgAGwlPoGQANgqdhapd3BALhj80cjpjeBrDKs1GkD4Gpdv/aOGwBLRYAB0ABYKrZWZ3cw/EkxA+Dq4iaywwbASKFcbWkKGABLedQAuEVZT/+WCrdl2x0MgB3wJ/WcAVx2DO3pnQFwta5fe8cNgKUiwABoACwVW6uzawBcncvH7LABcEy1fa+KFDAAlnKGAdAAWCq2VmV3MPxFTP86A7iqkNrsrAFw1e5fc+cNgKW8bwA0AJaKrVXZHQyAEdO/BsBVhZQBcNXudue/o4ABsFQ0GAA3lPX6v1Khtmy7BsBl+7eC3jkDWIET3IQpFDAAllLdAGgALBVbq7E7Fvw5A7iakNrWUQPgqt2/5s4bAEt53wBoACwVW6uxawDk8GqcPV1HDYDTae87T6qAAbCU/AbAlrKe/i0VZsu2awA0AI4Q4QbAEUT2LWpUwABYyisGwKCs4a9UiC3b7pjw5yngZcdSR+8MgKt2/5o7bwAs5X0DoAGwVGytwu7YAPgnV74lxx96s7Q9pHOhI0Q+AIdbn34CFzr6YhHV46qcdfgMTj5095R2xBl2rV0KGAAdGytVwABYyvEGQMDZv1LhtXy7gwAw8uiXtooGwOXH1I4eGgBX6/q1d9wAWCoCVg+Ahr9SobUOuwbA6EzkOgKiXC8NgOW0teWqFTAAlnKPAfDlpaS13aUrMAj+JE5iBvA117ktZxw+21PASw+s7f0zAK7T7+41BsBSQbBqAHT2r1RYrcOuAdBrAEeMdAPgiGL7VjUpYAAs5Y3VAqDhr1RIrceuAdAAOGK0GwBHFNu3qkkBA2Apb6wSAA1/pcJpXXYNgAbAESPeADii2L5VTQoYAEt5Y3UAaPgrFUrrszsIABPX/0ldrwFcX4y1emwAXLX719x5A2Ap7xsASylru4tXwADoDOCIQW4AHFFs36omBQyApbyxKgB09q9UGK3T7pgAqOyfincBrzPWAAPgal2/9o4bAEtFwGoA0PBXKoTWa9cA6AzgiNFvABxRbN+qJgUMgKW8sQoANPyVCp912zUAGgBHfAIMgCOK7VvVpIABsJQ3Fg+Ahr9SoWO7BkAD4IhPgQFwRLF9q5oUMACW8saiAdDwVypsbHcQ/Em+xF3AXgO4+pgzAK4+BNYqgAGwlOcNgKWUtd1FK2AAPIOTDzkDOGKQGwBHFNu3qkkBA2ApbywWAJ39KxUytisFDIAGwJGfBAPgyIL7drUoYAAs5YlFAqDhr1S42G6jwJgA2Ez/6t4+Bma1MWgAXK3r195xA2CpCFgcABr+SoWK7bYVMAA6AzjyE2EAHFlw364WBQyApTyxKAA0/JUKE9vdVGAQAPbcAOIM4Krj0AC4avevufMGwFLeXwwAGv5KhYjtblPAAOgM4MhPhgFwZMF9u1oUMACW8oQBsJSytrtoBQyABsCRA9wAOLLgvl0tChgAS3liEQD44VeWksd2rcB2BQyABsCRnw0D4MiC+3a1KGAALOWJ2QPgScBRpdSxXSuwQ4GxALC9A1hN8S7g1YakAXC1rl97xw2ApSLAAFhKWdtdtAIGQGcARw5wA+DIgvt2tShgACzlCQNgKWVtd7EKDII/qZKwC9gZwMWGUWrHDICpirn+QhQwAJZypAGwlLK2u1gFDIBw1uGsGcA/AB4KrZP9UAAAIABJREFU/CLwwlbgXA54PnAb4OvAs4GnbgTWvYHHAZcH3gXcH/hYoo05xKoBcA5echsLKDALAHw08BDgksDJYRz64g4xtGpNY9lxwJnACcAjgXNC/WsCTwZuBFwBuDXw5patSwG/CRwLfD/wOeAlwG+1bET5wQAYJZMrWYHvKGAAzAqAtwSeBlwaePwGAL4V+HYYWK8SBkqB4ouDN3TtG4AHBvjT9dcDNICeHep02ZhLaBsA5+IptzOzAtUDoF5CnwHox9E/Gf4utrr5DiEEazcA7glcHHgZ8ALgN0J9ffazwHsAbXHVC3AbAH8kvPS+CPiHMN7pxflZARyj9TcARkvlilbgiAIGwGwAeAh4Xxjs/jy81TYZwGsDpwFXBT4RYu+JwJ0C5OmfXqV9MWHg1X9fDPgycDzwGiDGxlzC2gA4F0+5nZkVqB4ANYa9LrzAqu9XBj4OXBf40IYYyt59KWTvGqgTQP4OoBkPvfC2i7KCmxnAbfoqA3mXAJbR+hsAo6VyRSuQAQAT1v/pbgtfA/hS4B+BJ4U3Z01rNAB43zCgXqkVdzcF3hTemr8JfDbU0ZtwUzSovhN4LBBjYy5hvW4AvMWNj/jplHfPxV9uZzYFqgbAC4eXUGXpTml1WS+tWq6izF673CrMWlwE+Fb44Iph/Lv6xvIVfRwLgE8BbgjcNkV2A2CKWq5rBYZmABMAcBP+JP6CjoHR+hdBmgYtDXKaOmkD4GPCGhl93pRrAB8BNGBq3YsgUHb09t2UVwCHgfsBMTbmEtPrBcAG/hpPGQLnErOZ2lk1AGrtscaiawEfbXVYbyqahRCYtYtmJ54JXKb1jxcF1MljgLdv1I8BQC2PeX8Y8/4sRXQDYIparmsFDIAHMbBnE8hzgQfsCZS3AD8HfAC4XQA6VTcA7n+6DIBtfQyBKxqLDYAbawDbvr8soHXOmvl4cGpQGABTFXP91SswaA3gjDOAXz7pNL5ykrgNzjnzbD7zHO2/QOv4lHFrikBFC5t3FWXtfjQMWJoCacag7wqZwHcAmuqNmb71FPAansbNDKD6bABcg+dDH6cBwMjxLtcU8KeAqyVOAX9vGEc1KGtDSXIxACZL5gvWrsAcAZDXnw5Hic0ylf93GO4g9jsfAMbcQFMeWijdLn8FPA/4X4AGQ02paGDr2gSib4d7BEPNJpC7Aq+NtBHT3hrqrDMDuA3+Gm8YAmuIyxHa0A8As455+8e71E0gOh5Gsx9DNoHouBmth9bMiWZUmiNkkvxhAEySy5WtwMBdwBNlALMOhgqCYQC4LYw2p4AP8jxhV9zDAzBq04iOgdExCio6BuZE4EF7joHpsjGXkDYAbvOUIXAu8TugndUD4L3C0S/Kwmkc07FWFwBuEc7xE6jpiJj3BhF0jNX1gfuE2RKdA6jNIjrlQOVC4WgX8ZnW9umYK60p/AIgeLxEgD/NoPwXrcgJ1+m/v5IitAEwRS3XXb0Cg7J/Us8AuCuGtGtOh5+2D4LW+pbmIGhNM+usLR2X0C4afJ8QjlDQQdBaf9g+CDrGxhzien0AuC/71/aYIXAO8TugjdUDYDOyPwzQc/rGMA7puBedYqCxTTB4ahChfRC04E0vtI9qZfF0jUBy80gYAaJOTLjZjjWBnwa0ISS6GACjpXJFKzAw+5cAgNt2AOvyvruAZ5ABdHjtV8AAuEsfA+DCn51ZAOAsfWAAnKXb3OipFBgrA2gAnMrD1d53XQAYm/1r3GUIrDZwhzfMADhcw+0WDICllLXdRSpgAAxuzb8GcJHxkrFTBsAuMQ2BXQrN9HMDYCnHGQBLKWu7i1RgEAAOXP/nKeBFhlRspwyAMUoZAmNUmlkdA2AphxkASylru4tUwADoDOBEgb0eAEyd/t10iCFwohAtdVsDYCllDYCllLXdRSpgADQAThTYBsBY4Q2AsUrNpJ4BsJSjDICllLXdRSpgADQAThTY6wDAodm/xjmGwInCtMRtDYAlVJVNA2ApZW13kQqMAYC7dgBLUB8Ds8iwiumUATBGpXYdQ2CqYpXWNwCWcowBsJSytrtIBQyAzgBOFNjLB8Bc2T9D4EQhWuq2BsBSyhoASylru4tTYBD8SY3IXcDOAC4udHJ0yADYV0VnAvsqV8l1BsBSjjAAllLWdhengAGw5VKfAzh2fC8bAEtk/xoPGQDHjtXM9zMAZhb0XHMGwFLK2u7iFDAAGgAnDGoD4BDxDYFD1Jv4WgNgKQcYAEspa7uLU8AAaACcMKgNgEPFNwQOVXCi6w2ApYQ3AJZS1nYXp8AgAMyw/k+Cehfw4sIqtkPLBcCS07+b6hoCY+OtonoGwFLOMACWUtZ2F6eAAdAZwAmDepkAOCb8yXkGwAlDuO+tDYB9leu6zgDYpZA/twJBAQOgAXDCh2F5ADg2/DXOMwROGMZ9bm0A7KNazDUGwBiVXMcKAAZAA+CED8KyAHAq+DMEThjCfW9tAOyrXNd1BsAuhfy5FXAG8Pwx4GNgxn4ulgOAqfD3Gy2p238f4gFnAYeoN/K1BsBSghsASylru4tSYFD2T0p4E8ii4mGCziwDAIfAn0TPBYCyZQicIIz73NIA2Ee1mGsMgDEquc7qFRgDAPf9AkjjAO8CXm0ozh8Ah8Jf43pD4MoeAgNgKYcbAEspa7uLUmAQAGbK/klQA+CiwiqlM/MGwFzw5yxgSswspK4BsJQjDYCllLXdRSlgANxwp9cAjh3f8wXAnPDnLODYcVfB/QyApZxgACylrO0uSgEDoAFw4oCeJwCWgL/cEOi1gBOHdtftDYBdCvX93ADYVzlftyoFagHAZx2+Oycfuru0PwQcjnDCEXB4/elwlP6aqTgDmEnIaDPzA8CS8CfZcq0FNABGB+E0FQ2ApXQ3AJZS1nYXo8Ag+JMKGdcAGgAXE1apHZkXAJaGP2cBU+NnxvUNgKWcZwAspaztLkaBMQAwZgewBDUALiasUjsyHwAcC/6cBUyNoZnWNwCWcpwBsJSytrsYBQYBYMbsnwFwMSHVpyPzAMAx4S9nFtDTwH1icqRrDIClhDYAllLWdhejgAFwiyu9BnDs+F4eAOZaw5fDjgFw7HhOuJ8BMEGspKoGwCS5XHmNCtQCgM/jAZx1+AxvAlljEMKyADAHtLXjIIc9Q2ClT5YBsJRjDICllLXdxShgAHQGsIJgrh8AY6Z/e4La7W/6ak489bj9buhp+1yjBsAKwnxbEwyApRxjACylrO0uQoEx4E9CxWwCcQZwESHVtxPzB8CegCb4a8peCOxp3wDYNyTHus4AWEppA2ApZW13EQqMAYAx8CcxDYCLCKm+nagbALuyfz3hrA1/Es5ZwL7hM+frDIClvGcALKWs7S5CAQPgDjd6E8jY8T1fAOwBf5vg1xbbWcCxQ2/q+xkAS3nAAFhKWdtdhAK1AKCyfyreBLKIsOrTiXoBcF/2LzP8Fc8Ceh1gn9gsfI0BsJTABsBSytruIhQwADoDWEkgzw8AC8Bf44tiWUADYCXh3m6GAbCUUwyApZS13UUo0BsAIw+AlkgxawCdAVxEOA3pRJ0AuCv7VxD+nAUcEkZzvNYAWMprBsBSytruIhQwADoDWEkgzwcAC8NfVBZQlXq048C2s4CVhHzTDANgKYcYAEspa7uzV6A3/KnnkRnAmOyfzDkDOPtwGtqBxQLgvg0f+0QrtiPYADg0VjNfbwDMLOi55gyApZS13dkrUAsANvAnQb0JZPZh1bcD9QHgtunfxKxbX/hzFrBvGM3xOgNgKa8ZAEspa7uzV8AAuMeFPgZm7PheFAAOBT8D4NjhN+X9DICl1DcAllLWdmevQG8AjJz+lUAxU8DOAM4+lHJ0oC4AHJD9ywV/RSHQ08A5YjaTDQNgJiHPZ8YAWEpZ2529AgZAZwArCuJFAGBu+JN/OtcCqlLi1LQ3glQU+RgAS3nDAFhKWdudvQKlATAm+ycRnQGcfSjl6EA9ANgz+9cX/h7I88/Vr/0stEXthMBUAJRxZwFzxG0GGwbADCJuNWEALKWs7c5agd7wp15HTgHHAODmF543gcw6rIY0ftYAmAP+Nl+GkgDQWcAhsTfxtQbAUg6oCQDvCbwI+DbQtOsDwPV2dP5gQDwJOKqUOra7WgV6A2Ak/ElYA+C54fUHwEOBXwRe2Aq6mwJPBa4FnKHZPuC/AV9v1bk38Djg8sC7gPsDH2t9fjk4SCHdJlz37GCzhthOGfPqAMAe2b9c8Nc4bLQsoDOANTwjMI8p4EcDDwEuCZwcxqEv7hBQyKJx6DjgTOAE4JHAOa36dwR+F7gK8BHgl4F3tz7/UeD3gRsB3wJOBR4GfDbFabUB4FOAH2sB4FnA1wyAKS513RwKGAA7VMy3C/iWwNOASwOPbwGggEeD2R8DzwqfvwD4EHCP0Dpd+wbggQH+dL1eGK8JnB3qvDW8VGpw1mCqwVaw+eIccTLQhgAwdsybHQD2BT9p2p723dS4NwA6CzgwXKe6vPoMoF5CnwHcHfhk+LvY6uY7FHsJcANAz//FgZcBGtuahQpXB5T80n//OfAg4BeAH2rx0KeAdwBPAC4CPB24MKCX5uhSGwD+JnDFyNY7AxgplKulK2AAHAUADwHvA342DHR6/psMoAZIvfFeCjgcWvNgQH8EeCqvCplBDbwqFwO+DByvBCtwbeA04KrAJ0KdJwJ32jOzkB4s/a/QF0DsmDc9ACb87Ftf+NsHfm2Ze0Ng6lpAZwH7R3e2K6sHQI1hrwsvsOr1lYGPA9cNL6xtJTSefQk4Fnhz+EAA+TuAZis0A9pk9o5pXSjg04vyM8PLsGy07Stj+KepE6K1AeDzgK/ovFvg7WE11ed3xJEBMNsDZkObChgARwHAlwL/CDwpvDm3AVAw9/fA/wjTJd8DvCIMqJoGVlGGUFk/LR1pigbVdwKPBe4bPr9S63O9Ib8pvHl/c+LIFwDGjnl1AuAWoCoNf/LZLgDUZ1k3hBgAJ35EdPuqAVBZNy1P0RKTU1pi6YVTy1eU2WuXW4VZC2XtNHWroqSXAO9qYfnK2wIcKrvXFL0Yfzdwt/APgk6NdRrn1AYtc9GY+TMpDqsJAG8cyFnz3ZcN6U8Rsdb/aJ58sxgAUzztukkKlAbAPuv/1IEFbQLR+hcNXjcMa180ddIGQHVXGTyt+9N48F3AXwI/3VorI4CTHb19N0WQqIzh/YDHhM91j6ZcI6yp0aD7uaSgyF85ZcxbNADGZv7aLuidBZSR2EygATB/1CdbrBoAtfZY44g45aOtrmn2QrMQWuLRLpqdUBbvMq1/vGigXGX8lPjSi6/qPKdVRxlCLW8RaKr8APDGMLshjnsPcFvgX1PkHQMAnws8YE+j3gJoLc9m0fTQZwClR1+95XMDYIqnXTdagdLwp4YsGABjnvefC2tcbhdgTJJsAqAWU2v6VmtgtF5PGUBlAzWwahpYpVYAjNEgdcybFgAjN3/0yf71gT8531nA6CFt5hUNgGGKuAHAC4Zx8B/CmKjMoJa2KFH2UynOHgMANXBpoeOuokH8qzs+fH9YIKk58c1yMCDq9f9C4RNth9ErtYsVGKJAbQD45ZNO4ysnaU0wnHPm2XzmOdr3gF6QmrVx+7p7BByOOR0uqL8OKF89Cf5F++61UuVM+NzBC+pmO2Ked+1g0/SFpkCaMUgZPu2C08JmTdNq4fOvhIXPTaNvAvx12GmnN91ap4BjNEgd8wIAarlkM+L9OKA/I5QCANgX/Nq9dRZwBN9Pcgtt6NcfFa0I03Lfkce8uPEu5xTwD4clMV1TwLcHXhn0aDa77cpE7vXeGADYN3wuETKAOhriwPsbxRnAvsr6ur0K1AaA7cb2ngLOAYDthpx9GN4m9oselNtXa8pDC6Xb5a/Cerj/FdbD/FI41kDrYpoi2tEUibKDAkCNC0oPNLuCm00gdwVeG6ZlRM61bgLZjMN9Y950GcBK4U/ijZIF9DTwxN8YPTOAOce8/eNd6iYQHQ+j2Y99m0C0bKW9o1czJNoEohMR7hA2fGhMaI6O+T5A+yWuA3w41mE1AeCvh7d/LZ7U2j+tB/rB0KFvGABjXep6QxUwAEYoOAwAt91gcwpY0PbBcLyBFkB/L6DzAjVjcItgQNOoWiOobKHSBduOgdHCbO2se3iATm080TEwOoph6pIy5i0GAHNk/tqOcxZw6jAuff/qAfBe4egXbepqQO0CYZy6Qth0ppMK3huU0pKW6wP3CbOjOppKm0U0jauil169uOq/tQRGx1zpGBiNiToWTzuJtU5Qa6K1NlBTwFprqAzij7SOwOp0TE0AKLrV/IYWfGsnsA421CJurQPcVpwB7HSvK/RRoAYA3PWltpAM4Da36MXvyRsHQWtRs3YI69gXfQto9+6jgH9uGdDgq91yemkUBGq9cfsgaI0nzUHQmjLXeV0aNGsoKWPeNACYOfuXG/7kRGcBawjlkm2oHgDVef0EgA5i1nOqzRkah3RUi04g0Niml1YxjUr7IGjNb+tlVONa+yBoZfl+L7y0anOJXnL/pqWyjsnSOKZzk7WURicf6DBprQuMLjUBYHSjQ0UDYKpirh+lQC8ALPwLIE3DFwyAUb5ZcaVZA+BQ8LvzB/9q78ap4llATwNP+OjNAgAn1Kf/rQ2A/bXzlQtUoBf8Ne9/kXr03QEs8wbASJGXV218AIzM/knqfbt/c8Bf485dz07xLKABcMInygBYSnwDYCllbXeWChgAI92Wfw1g5I1XW61aACwFf8r6bZZ9L0+9s4A+E7Dyh8oAWMpBBsBSytruLBUwAEa6zQAYKVS2arMDwCGZv23w5yxgtliamSEDYCmHGQBLKWu7s1SgFwAmrP+TKF1TwPumszwFPMuwytHocQEwcvp3W/ZvCPhJqH3w1/X8FM0Ceho4Rxz3sGEA7CFa1CUGwCiZXGktChgAIz3tDGCkUNmqrQIAu+CvWBbQ08DZAjW/IQNgfk2PWDQAllLWdmepQGkA7Mr+STRnAGcZOqUbPR4ATpD9iwW/LgDc9/yceKp+N2pHMQCWjt8B9g2AA8Tbe6kBsJSytjs7BXrBn3qZMAVsAJxdWNTSYAPghiey7wiOgUBPA0/wPBgAS4luACylrO3OTgEDYILLPAWcIFaWqgZAA2CWQJqfEQNgKZ8ZAEspa7uzU8AAmOAyA2CCWFmqGgANgFkCaX5GDIClfGYALKWs7c5OgV4AmDD9K0G6poD3rf/T9d4FPLuwytXgaQFQvdgyRZprF3DqGsB9z1LvQ6E9BZwrVjPbMQBmFvRccwbAUsra7uwUMAAmuMwZwASxslQdDwDV3JE3guQEQDW/13EwBsAsgZrfiAEwv6ZHLBoASylru7NTwACY4DIDYIJYWaoaADdkzP6rIAbALIGa34gBML+mBsBSmtruTBUoDYBd07/7MheNpCeeeGu4wyH9p/7ncITUR8DhmNPhgvprpmIAzCRktJkqAVCt35wG7nMQdJ8MoO6duhN48FEw3gUcHbD5KhoA82l5XkvOAJZS1nZnpUAv+FMPE9YAGgBnFRK1NXZ6AJQihdYBGgBrC7ea2mMALOUNA2ApZW13VgoYABPd5QxgomCDqxsAt0joDODguJqBAQNgKScZAEspa7uzUqAGAOzaASxBPQU8q7DK2VgDoAEwZzzNyJYBsJSzDICllLXdWSnQCwATpn8lRtcUsAFwViEzdmPHBUD1bttO4Mhp4NR1gLOZAlb/vQ5w5Ng3AJYS3ABYSlnbnZUCcwDAgwXs/++wN4HMKrKyNXZWAKhep0BgFQC4A27P50EDYLagjjNkAIzTKb2WATBdM1+xQAUMgIlO9RrARMEGVzcAbpEw6xpAA+DgIC1jwABYRlefA1hKV9udmQKlAbBr+ldydU0BOwM4s6DK21wDYAIA7nuefBRM3sAsb80AWEpjZwBLKWu7s1GgF/ypdwlrAA2AswmHWhtaDwDuyJQNOQ+w7xSwmpI1C+jDoCuMfwNgKacYAEspa7uzUaAGAOzK/klMZwBnE1IlGmoA3KGqAbBEuNVk0wBYyhsGwFLK2u5sFJgDAJ47beVNILOJq8wNHR8A1YEBO4F1eexGkM4M4O/szrgbADNHWnXmDIClXGIALKWs7c5GgV4AmDD9u2+aqhGpKwNoAJxNOJVqaPUAqI73nQY2AJYKmyXYNQCW8qIBsJSytjsbBQyAPVzlXcA9RBt0SV0AqK5E/Cxc1gyg7rnlxcsZwEFxNYOLDYClnGQALKWs7c5GAQNgD1cZAHuINugSA6ABcFAAzfdiA2Ap3xkASylru7NRoDQAZtsBLEW9BnA2cZW5oQZAA2DmkJqLOQNgKU8ZAEspa7uzUWBqAIxe/2cAnE1MFWhofQCYcRo4ag3gDgDUP297ydr1XPkcwALRWdSkAbCUvAbAUsra7iwU6AV/e76ItnW6KwNoAJxFqEzdyGkAUL3etRN4LADUDuCm7Nh8ZQCcOjxL3t8AWEpdA2ApZW13FgoYAHu6yWsAewrX+zIDYGIGUNW3vVw5A9g7Bie60ABYSngDYCllbXcWChgAe7rJANhTuN6XGQD3ZAFTdgLvBcAdWc3zeO2Ud/d2oi/so4ABsI9qMdcYAGNUcp3FKtALAKc6A1Be8CaQxcZiR8fqBMAdwJR6HuDeNYDtKeAdWUAD4JIfCwNgKe8aAEspa7uzUKA0AHat/9s1TdUW7zwZCwPgLOKqQCMNgJkygDIzaBrYGcAC4b3PpAGwlOAGwFLK2u4sFKgdAM/3RWUAnEVcFWikAdAAWCCs5mDSAFjKSwbAUsra7iwUmBoAk3YAewp4FjFVqJHTAaA6VHgn8JhTwM4AForQYmYNgKWkNQCWUtZ2q1egF/ypVwlrALumgA2A1YdJLQ2sFwCl0MbPwo29BlBNGO0oGE8Bj/xMGABLCW4ALKWs7VavgAFwgIu8C3iAeL0unRUAqocpELgzA7i5AWTPC5gBsFdczeAiA2ApJxkASylru9UrYAAc4CID4ADxel1qAGzLtiULbwDsFVczuMgAWMpJBsBSytpu9Qr0AsCM078SaN8U8Nadit4EUn1cFWpg3QA4cBo4KQO4IwuY7SiYjens8/nTU8CFQnyXWQNgKcENgKWUtd3qFTAADnCRM4ADxOt1qQGwRwZw10uWj4HpFYMTXWQALCW8AbCUsrZbvQJTA2DyBhAp6gxg9XFVqIHTAqA6tW8n8JYMoP4pdh2gM4CFomYRZg2ApdxoACylrO1Wr4ABcICLnAEcIF6vSw2AzgD2Cpz5X2QALOVDA2ApZW23agV6wZ96lHEN4MozgPcEXgR8G2jGoQ8A19sInIcCvwxcEfg88OvA/27VuTfwOODywLuA+wMfa31+OeD5wG2ArwPPBp5adXBub1z9ALglCzhmBlC3j90I4ingOT0BswDARwMPAS4JnBzGoS/uUPmoMA4dB5wJnAA8EjinVf+OwO8CVwE+EsbAbT9CfYnw+Q8AF9qw0elkA2CnRK6wRAVqB8CdX1DLmQIWAD4F+LEWAJ4FfK0VbwK7+wAPBwSHlw2f/U34/1sCbwAeGODv8QEgrwmcHeq8NUCmBmcNphpsBZUvnllcGwA7MoDZAHALyJ4vVrwRZMTHp3oA1EvoM4C7A58Mfxdb3XyHSC8BbgBoDLw48DLgBa3TNK8exjttR/pz4EHALwA/tDE+yrzGMY2LxxoARwxJ32reCpQGwK4DoKVe8g5gXbQsAPzNkNnbFkzfC/xTyNz99Y5oexVwRhh4VeViwJeB45UMAq4NnAZcFfhEsPFE4E5bMo21B7QBcNNDPgqm9pjN1L7qAfB9wOsAvYCqXBn4OHBd4EMbIlwK+FIAtjeHzwSQOvFSsxWaEfl94EbAMa1rPwU8DXhm69+UQXwU8Gsh6+gMYKaIs5mFK9ALADNO/xoAD95+nwd8BVDm7+1hgl3TvCo/D7wwTKs8BrgA8FpAf/9GqPPZMOhqKrkpGlTfCTwWuG/4/Eqtz28KvCm8eX9zRmE+SwCUvjHTwFs3gWw7BLrtMAPgjMJ3SFOrBsALh5dQLTE5pdVLvXBqqYkye+1yqzBrcRHgW+EDLW8R4F0tLF95G6Bx7AmtCzUWfjdwt/BvgsX3hBdkLX9RfQPgkDDztetRYGoA7LX+T+5ZTgbwxuFNWetbNIWh6Q4NatcK62L09f4k4G8DBGqgFTBqoNOUr4oATm/BevtuyiuAw8D9Aizq8xu2Pr9GWDOjQfdzM4r46QFQYnXtBFadHj8LZwCcUSSO3tSqAVDwpXFE49ZHW9JovZ5mIbTMpV00O6Es3mVa/3hRjewh46cX4b8PdZ7TqqPXIa2PFmiq/AXwFuDpwM0MgKMHpW84ZwUMgAO9t3sX8HOBB+yxrkFLa/c2yyHgM4CmQ14d4O3JYXBrpoDvDPwpoAFTUyUGwIFuTL7cAHhEMq8BTA6d/hcYAMMUcQOAGiO1NlqzGRoHtdZQsxp6SW6yilFyexNIlEyutDQFVgeAB+ODNp8NKdpkqz8qmrXVEjwEbsq4NUWZKi1s3lUEbV/d8eH7w4JorYHRAKfpE71ha82MiqZIlBH8fuALgKeAh7izz7UzBEB1c1vG3TuB+wTAFNf0BMDBY17UeJdzCviHgX8EuqaAteRFm0KaIo7TEhltfPsl4H/GeskAGKuU6y1GgV7wp95nXAPYawOI2tB3CnjwYLjp/uRBuSt+dJyBMoC/GMhSO3k/HKZF3hEu/ingz8JmD735ikDVkHuEz5tNIHcN6wU1LaPdw94E0qV+7OeVA6C64aNgYp05l3rJY02B5RJ725C6CUTHw9wuTNvKCds2gWjZijJ8TdHuYm0CeVZ4KdZmkqZow8gfA9cJL8Wnx3rWABirlOstRoHSAFhsB7A88OuH4W1Kup0v87bLPwUGwwMSBbSeObodm+3TeX4COy2W1to/7Qj+wTCINZs8TgI00GnNnxY4a5DTQmsd6aJioKDbAAAWeElEQVSiqeQTwzEJel3fdgyM6gsWdZSMdue9NBwDo6MY5lQK+TFRghgAlMnEdYC91gDqPgM2gjgDmOj7yaonjzUFnpW9bbhXOPpFG9saUFNG7hbAFcL0rI6IeW+QUEe3XD/Mcmi2REdTabZDJxSoaKZDL676bx0Do/FPGT+9yLaPyWo84jWAk8Wmbzw7BQyAOVyWPChv3lRvsz8bNoBoJ/CpYd2fsoBNEfz9IaBDUTXNrPV/2gXc3r2rwVe75QSRgkCtP2wfBK0NJs1B0LKh87q69pfmECi3jQJfaj2aaAA8IprXAPYInr6XJI81BZ6VzjboVeRhgO79xjAOaemKTiDQS65gUGOcSvsgaK2l0cuojnNpHwR9B+D3wkurNpfoLMDm/NNNIQ2AfUPL161PgakBsPcOYLlqORnA9QXesB4X+FLr2aAYCHQGsKe4vuz8CnTC1+YlBZ6V5DbMwpGeAp6Fm9zInAr0AsCR1v+pn3unpgyAOUNhTrYKfKn17P4YABibo/UUcE8nzumyZPgq8Kwkt2EWAhsAZ+EmNzKnAjUD4F74cwYwZxjMzVaBL7WeEsQAoEwPzQLGQKABsKcT53RZMnwVeFaS2zALgQ2As3CTG5lTAQNgDjWXOSDmUKaQjQJfaj1bWgsAloK/LfB6HqW8/q9n4PS9LHmsKfCsJLehb2dHvc4AOKrcvtnUCvSCPzU6cgq46A5gZwCnDp8p71/gS21Ad6aGwEj4Uw99BuAAP1dxaTJ8FXhWkttQhXJdjTAAdinkzxelwKwBUFNqu3+BY5efCgyGutUyB8SKg72QH3v2eCYAmAx/zv71DIiSlyWPNQWeleQ2lBQkm20DYDYpbWgOChgAc3lpmQNiLnUK2CnwpTawlVNBYGT2Lzv8SS5P/w4Mmj6XJ481BZ6V5Db06ejo1xgAR5fcN5xSAQNgLvWXOSDmUqeAnQJfagNbOQUAloS/ruyfAXBgwPS9PHmsKfCsJLehb2dHvc4AOKrcvtnUChgAc3lgmQNiLnUK2CnwpZahlWNC4I51uFl++q2RYmPn8nkUcvYvQ8D0MZE81hR4VpLb0Kejo19jABxdct9wKgVKw5/6VXQTiNcAThU6Ndy3wJdahm7FAuCW7Nrtb/rq8zTggQc/2PKdsvXn4TaaPBr8OfuXIVj6mkiGrwLPSnIb+nZ21OsMgKPK7ZtNqYABUL9AlKssc0DMpU4BOwW+1DK1MhYCh54LWBL+tgDqeW7n7F+mYOljJnmsKfCsJLehT0dHv8YAOLrkvuFUCtQAgIN+Bs4ZwKlCp4b7FvhSy9StWADcAll9s4CxmT/dsvNw9S74c/YvU6D0NZMMXwWeleQ29O3sqNcZAEeV2zebUgEDoDOAU8bfwHsX+FIb2KLm8ooBMAr+ugDQ2b9MgdLXTDJ8FXhWktvQt7OjXmcAHFVu32xKBUoD4ND1f53ZCmcApwyfqe9d4EstY5dGhMDY7F8W+HP2L2OQ9DWVDF8FnpXkNvTt7KjXGQBHlds3m0qB3vCnBtfyKyAGwKnCp4b7FvhSy9itkQAwO/x1Zf8MgBmDpK+pZPgq8Kwkt6FvZ0e9zgA4qty+2VQKGADfBHgKeKr4y3DfAl9qGVrVNlEYAndl2Hsd+Nxut49+yRwIuc0lw1eBZyW5DblFKGLPAFhEVhutTQEDoAGwtphMbE+BL7XEFnRVTwHALZm3rg0h225fFP6c/evy+EifJ8NXgWcluQ0jaTPsNgbAYfr56pkoMHsAbLIU/i3gmURc9mYW+FLL3kZIgcDEY2E2W2v4K+C/Kk0mw1eBZyW5DVUqudkoA+As3ORGDlWgNwBGrv9T+4ZuAtm7aN0AODQE5n59gS+1ApKkAOCALGBx+HP2r0Bw9DWZDF8FnpXkNvTt7KjXGQBHlds3m0KB3vCnxhoAd7hsmQPiFPEZec8CX2qRd06tlgKBPbOAgwBw35q/pq8++iXV6wXrJ481BZ6V5DYU1COfaQNgPi1tqVIFDICcDl4DWGl4xjarwJda7K0T66UAYI8sYHH4c/Yv0eGlqyfDV4FnJbkNpUXJYt8AmEVGG6lZAQOgAbDm+IxsW4Evtcg796mWAoEJWcBR4M8A2MfjBa9Jhq8Cz0pyGwrqkc+0ATCflrZUqQJjAGDM+j/Js++n4LwGsNIAqqNZBb7UCncsMwTuenaiDnyOmfZt5PD0b+HASDWfDF8FnpXkNqR2cpL6BsBJZPdNx1TAAOgM4JjxVuheBb7UCrW0bTYjBG5rbXb4c/ZvhKBIvUUyfBV4VpLbkNrJSeobACeR3TcdS4FB8KdGRm4CickA7sv+6VbOAI4VFbO8T4EvtZF0iIXAjqngzdYa/kby3+S3SYavAs9KchsmVy2mAQbAGJVcZ7YKGAApMBgqHJY5IFYc6IX8OEKPYwFQTYmEwCLw5+zfCMHQ5xbJY02BZyW5DX06Ovo1BsDRJfcNx1TAAGgAHDPeCt6rwJdawdZumo6FwFwAmLLmr2mr1/6NGBApt0qGrwLPSnIbUjo4WV0D4GTS+8ZjKDAIACOnf9WPoVPAnRkNHwQ9RrjUfI8CX2ojdzcTBEY/K6ndMwCmKjZS/WT4KvCsJLdhJG2G3cYAOEw/X125AgZAZwArD9HY5hX4Uou9dcZ6MRC4Jwto+Mvoi9mYSoavAs9Kchtmoa4BcBZuciP7KrAIAGx/Ifq3gPuGwtyvK/ClNpEkPSGwGPxJBmf/JgqGmNsmw1eBZyW5DTEdm7yOAXByF7gBpRQYBH9qVC1TwAbAUiEyJ7sFvtQm7H4PCNzb2j5r/toGDYATBkPXrZPhq8CzktyGrk5V8bkBsAo3uBElFBgLAGPW/6l/gw+BlhFnAEuEyhxsFvhSm7jbXRAYC3Wx9XZ11/A3cSB03T4Zvgo8K8lt6OpUFZ8bAKtwgxtRQgED4IGqBQZDmV3mgFgiDjPZLOTHTK3ra2YoBA6FP7XbANjXeyNdlzzWFHhWktswkjbDbmMAHKafr65YAQOgAbDi8ExtWoEvtdQmFKq/DwL3AZ7hr5BDajObDF8FnpXkNtQm4tb2GABn4SY3so8CBkADYJ+4qfSaAl9qFfU0FQKHwp+zfhU5v6spyfBV4FlJbkNXp6r43ABYhRvciNwKDIY/NShyE4jXAHI4t/9s73wKFPhSq0zlXRC4CXtD4M/gV5nTY5qTDF8FnpXkNsR0bPI6BsDJXeAGlFBgMABGwp/abgA0AJaI4Q2bBb7URmh1yi1isoB94c/gl+KJyuomw1eBZyW5DZVpuL05BsBZuMmNTFWgNgDctwNYfdt7xpmPgUl1/xLrF/hSq1Cmrk0hqU02+KUqVmH9ZPgq8Kwkt6FCHc/fJAPgLNzkRqYqYAA8V7ECg6FsL3NATI2zEesX8uOIPYi9VQ4INPjFqj2DesljTYFnJbkNM9AVDICzcJMbmarAnAAw6RcOfA5gaigspX6BL7WKpekLgQa/ip3at2nJ8FXgWUluQ9/OjnqdAXBUuX2zMRQYDH9qZOQawOLr/9QWTwGPETa136PAl1rlXU6BQINf5c4c0rxk+CrwrCS3YUiHR7vWADia1L7RWAoYAM+jdIHBUPaXOSCOFaM97lPIjz1aMuYlXRBo8BvTGxPdK3msKfCsJLdhIq3SbmsATNPLtWegwKIAcHPXo6eAZxCBRZpY4EutSDvzG90GgQa//DpXazEZvgo8K8ltqFbNdsPGBMBjgEcDNwQuDfwQ8IkNlS4HPB+4DfB14NnAU3coeeDkk4CjZiG1GzmWAgbA2WQArwL8PnBLjqxHfn/4+zkbsXJF4MN63gH9vV3uDTwOuDzwLuD+wMdaFVLGlJwhWmS8gzetc8RrINDglzNGZ2IrGb6mAECxzUOASwInh3HoizsEFrKIbY4DzgROAB4JtMe9OwK/C2iM/Ajwy8C7W/ZibHT6d0wAvB3w48BngT8CrroFAN8KfDsIqY5LmIcCL97SEwNgp3vXWcEAOAsA1Evgh4BXAv8zzClfF3h1GAPanXgz8O/Aj24AoMDxDcADA/w9HrgecE3g7GAgZUzJ+cAUGe9WC4A5PWNbM1OgegDUS+gzgLsDnwx/F1vdfIfQLwFuANwTuDjwMuAFrdXeVwc+EP77z4EHAb8QkmZfCza7bET5eEwAbBp0pQB+mwB4beC0DTB8InCnMKhvdmj2ACicv3GUm+qrVGvbY+HvpH+GY5Uz2lYiN4Do0uKbQJY7BazMn4DvVh3R/QjgJsBfAr+5AYCvAs4IA6/MXAz4MnC8XAOkjiklHrSs4928AVAJWuUA5ljm3HbpPef2Vw+A7wNeB+gFVOXKwMfD+KaX3Ha5FPAl4FhAL7YqAsjfATRboQSYxsYbAZpFaMqngKcBzwRibEQ9ZDUB4H2DgBowm3JTjox4ouRvbvRo9gD4rJDqjPJUZZVqbXssAD7i/fA05Yq2FQNgRLQlD8qbNv8v8PrwVisq0LTtrwGntioqk6c6elvWlMgmAGo2QYPui1rXaFB9J/BYIHVMieh3cpVdAJjatgLTWsl9GXjBHwAPH2hjqsvn3HZpNuf2J481BZ6VnW24cHgJ1bK1U1rRqeVtWr6mzF676IVXsxYXAb4VPtCyFgHe1cI4+LYAh09oXfhC4LuBuwG31m8HbLGh7KOyh+0lMHsfmJoA8DFhTlxrBJtyjTD/LYE+tw0AT78LfFiTSDMstUJUjJS1tt0AeD7vFRgMdY/kQXmzYd8Ib7vK8mtA/DlA2T4NYJ8GLhjSFk8B/k+YLtkEQL0Uah2N3r6b8go4+Gm6+wGpY0pM6KfW2QWAqW0r5MfU7gypP2cImXPbDYBDovbItTvHO80jiU2uBXy0dR9NkmkWQuNXu2h2Qlm8y7T+8aLhBsr4vR34+1DnOa06yhAqZSHQjLER1eUcAPhc4AF77vaWsLC7qZJ1QPzsf4a//YuovlZXSbtd9glXXYNbDaq17T9+lzjVfu2D8FvX2VE3IUnx+mtpGVp3+eODLP/2cvLb77zbwOYWKO0Cfud/VP1DAXS6bh7AQWNRzu1SGhAP2r3ZjtjxQPCmN129zTZFm0A0ratBU2CoZSL/NXx4L+BJG1PAUwBgbP+KjHdHvlNy+rErfHJ+/ofAL+U0OKKtObddMs25/TvHml3+LzDm7WzD6gFQYmuKdlfRIP3V1oe5pkS+H/inEUcA38oK1KTAD2zJim9rn6YaNDXwfQUa/y+AnkNt0GhK7HjwmbCur00ELw87fbWpQ9MpP9myq5fVC4TNHXcIO+2mmAKO7V8XAKZOAXu8KxDANjkrBaYe87aNdzmngH8Y+MfwYqylLLumgGOmkaMcmyMDGHWjCABUClU7X9qbQ/ZtAlHbrwD8a2oDXN8KzFyBSwCf37Jbdle3BIEaqHIXHWHQhr8U+38ajky4beuivwnTvb8F6EWxner66XAUggY/TRFr84eyhXo1v0ew0WwCuSvw2jAtkzKmpLQ/tu6uF16Pd7EKup4VgBrGvF3jXeomEB0Po1MC9m0C0VI47YFoil7in97aBNJlIypmxgRADeY6+09vstrRp/kjvcErE9BsbdZbv3bBaBJOO2leGo6B0ZZnFytgBZajwE8AWh6idX/a6PHzYROI1v1qXNgsOjJhcw2g5t+1GFrHJGib47ZjYKYaUzzeLSdW3RMrsE8BLU/RMTAaowRq2q2r2YpbhCSVNrLqiJj3BiM61u76wH3C7KmOu9NmESW8VLQZRC+u+m8dA6MZER0Do+RYw0pdNqI8NiYA3ixM6wjw2kWLowR6KpdtHQSthdwSVYsfXayAFVieAtr4IajTS6EOO/2VsAh6W0+3AaDqafDVVImOUBAEalltexfcVGOKx7vlxat7ZAV2KaCzIx4GaInIG8M4pONemhkAwWBzwkH7EOezACW4HrVxELSWufxeSIRpc4lecjVD0pQYG53eGhMAOxvjClbAClgBK2AFrIAVsALlFTAAltfYd7ACVsAKWAErYAWsQFUKzBEAc//G5tQO0dSWDrLV1HjjD83/7zqmeOr26v4pv3tYQ3ubNmiqsL2zSprrECGdJVdb+RngweEQZC2AvtDGFIHWg+g0Hh2i/IUwldo+ELm2/rg9/RVY0pjn8a5/HKReOafxTn3zmJfq4YH15wiAuX9jc6CEgy/XgKhzz36sBYBaF9As9hx8g8wGUn/3MPPtB5nTgKj40QakJva1i1XrTWsrOvFdB6DrB8K1K7YNgDok+W8BnZuns/EEgc8LPy/UPo2+tj65Pf0UWNKY5/GuXwz0uWpO45365zGvj5cHXDNHAGy6m+s3NgfIl+XSXYvbsxgvYCRly3uB2w8yqQFRx4i0t9cPMjjCxdpMoOMC2gAogP0T4NLhOBQ1QwuJlSmsMZs5gkyruMUSxjyPd+OF6hzHO6njMW+kGFkiAKYesDqS1DtvowFR2ZuvAMr86adgtKNI57zVVlIPvayt/RoQdeyIzpBT1k+7tX4d+HptDW21Z9tgqJ2zglh91hSdhaffDdGOWpdlKpDrEP0p1fF4N576cxzvdgGgx7wCcbNEAEz9jc0CsiaZvHHY6q1jMHRkxW+EIy10UKwOnqyppP7sTU1tV1t06LB+d1Gnrf8g8NsBvLVFv9ayDQC19u97gP/SavTtw3rGEgc+16rN2tqV62c0p9TN49146s9xvNsFgB7zCsRNTQA41W9sFpD1wGRqf5p26LdVdTi21tq9ulTjetqdOwBudvsqAQZvENbT9ZSl6GUGwKLyTmo8dYyoGQBT++LxbvzQm8N4ZwAcMS5qAsCpfmOzlNyp/Wm3Q4v7Xwb8fqnG9bQ79yngbd3W7zveL/ysWE9Zil7mKeCi8k5qPHWMqHkKOLUvHu+mCb3ax7tdAOgp4ALxUhMApnYv129spt63dH0t5FcG8BcrhZI5bwLZ9J122X4K0O8uql81lm0AeKewCeQyrU0g+mkgfQl7E0iNXszTpiWOeR7v8sRGjJU5jHe7ANBjXoyHE+vMEQCX9hub2oTwDuATYe2f3nS0Pu06wDcS/TlG9X2/ezjG/YfcQz8r+BrgnwBNh/wuoGNgdM5abeVS4RgYwekfhfMAvxV+5kybhbRm9LTWMTB/GI640e/ruixLgSWNeR7vxovNOY13UsVj3nixcXCnOQLg0n5jUz8c/bNhA4h2Auv3ArWRRVnAWsuu3z2stb1Nu3R0imBPGyj+GXgD8DjgqxU2vH1gbrt5zW9K/lAAw+YgaJ0HqCygy/IUWNKY5/FuvPic03gnVTzmjRcbswXAkSXy7ayAFbACVsAKWAErsCwF5pgBXJYH3BsrYAWsgBWwAlbACoysgAFwZMF9OytgBayAFbACVsAKTK2AAXBqD/j+VsAKWAErYAWsgBUYWQED4MiC+3ZWwApYAStgBayAFZhaAQPg1B7w/a2AFbACVsAKWAErMLICBsCRBfftrIAVsAJWwApYASswtQIGwKk94PtbAStgBayAFfj/261jGgAAAIRh/l3jYjxVQFKeESAQCwjAGNwcAQIECBAgQOAtIADfD9gnQIAAAQIECMQCAjAGN0eAAAECBAgQeAsIwPcD9gkQIECAAAECsYAAjMHNESBAgAABAgTeAgLw/YB9AgQIECBAgEAsIABjcHMECBAgQIAAgbeAAHw/YJ8AAQIECBAgEAsIwBjcHAECBAgQIEDgLTDGR+yhVK9rNgAAAABJRU5ErkJggg==\">"
      ],
      "text/plain": [
       "<IPython.core.display.HTML object>"
      ]
     },
     "metadata": {},
     "output_type": "display_data"
    }
   ],
   "source": [
    "fig_target_distr = figure()\n",
    "plot_distr_target(fig_target_distr)"
   ]
  },
  {
   "cell_type": "markdown",
   "metadata": {},
   "source": [
    "THESE ARE SOME OF THE IMPORTANT VALUES. For the targets logP it is clear the meanexpmap is the right one, and it works pretty well.\n",
    "However for the variational lowerbound officially meanmap is correct, but it gives still impressively worse results\n",
    "then the meanexpmap. (there is some additional bias due to the prior, but this is not decisive (even with n_data=1))"
   ]
  },
  {
   "cell_type": "code",
   "execution_count": 28,
   "metadata": {
    "collapsed": true
   },
   "outputs": [],
   "source": [
    "tlogP = target.logP.function()"
   ]
  },
  {
   "cell_type": "code",
   "execution_count": 48,
   "metadata": {
    "collapsed": false
   },
   "outputs": [
    {
     "data": {
      "text/plain": [
       "-3.9078150057189367"
      ]
     },
     "execution_count": 48,
     "metadata": {},
     "output_type": "execute_result"
    }
   ],
   "source": [
    "meanexpmap(tlogP, targets)"
   ]
  },
  {
   "cell_type": "code",
   "execution_count": 58,
   "metadata": {
    "collapsed": false
   },
   "outputs": [
    {
     "data": {
      "text/plain": [
       "-7368.9212404404625"
      ]
     },
     "execution_count": 58,
     "metadata": {},
     "output_type": "execute_result"
    }
   ],
   "source": [
    "meanmap(tlogP, targets)"
   ]
  },
  {
   "cell_type": "code",
   "execution_count": 59,
   "metadata": {
    "collapsed": true
   },
   "outputs": [],
   "source": [
    "model['n_data'].set_value(len(targets))\n",
    "mlogP = model.logP.function()"
   ]
  },
  {
   "cell_type": "code",
   "execution_count": 60,
   "metadata": {
    "collapsed": false
   },
   "outputs": [
    {
     "data": {
      "text/plain": [
       "-4.9573669771102828"
      ]
     },
     "execution_count": 60,
     "metadata": {},
     "output_type": "execute_result"
    }
   ],
   "source": [
    "meanexpmap(mlogP, targets)"
   ]
  },
  {
   "cell_type": "code",
   "execution_count": 61,
   "metadata": {
    "collapsed": false
   },
   "outputs": [
    {
     "data": {
      "text/plain": [
       "-7424.731523708555"
      ]
     },
     "execution_count": 61,
     "metadata": {},
     "output_type": "execute_result"
    }
   ],
   "source": [
    "meanmap(mlogP, targets)"
   ]
  },
  {
   "cell_type": "markdown",
   "metadata": {},
   "source": [
    "---"
   ]
  },
  {
   "cell_type": "code",
   "execution_count": 27,
   "metadata": {
    "collapsed": false
   },
   "outputs": [
    {
     "data": {
      "application/javascript": [
       "/* Put everything inside the global mpl namespace */\n",
       "window.mpl = {};\n",
       "\n",
       "mpl.get_websocket_type = function() {\n",
       "    if (typeof(WebSocket) !== 'undefined') {\n",
       "        return WebSocket;\n",
       "    } else if (typeof(MozWebSocket) !== 'undefined') {\n",
       "        return MozWebSocket;\n",
       "    } else {\n",
       "        alert('Your browser does not have WebSocket support.' +\n",
       "              'Please try Chrome, Safari or Firefox ≥ 6. ' +\n",
       "              'Firefox 4 and 5 are also supported but you ' +\n",
       "              'have to enable WebSockets in about:config.');\n",
       "    };\n",
       "}\n",
       "\n",
       "mpl.figure = function(figure_id, websocket, ondownload, parent_element) {\n",
       "    this.id = figure_id;\n",
       "\n",
       "    this.ws = websocket;\n",
       "\n",
       "    this.supports_binary = (this.ws.binaryType != undefined);\n",
       "\n",
       "    if (!this.supports_binary) {\n",
       "        var warnings = document.getElementById(\"mpl-warnings\");\n",
       "        if (warnings) {\n",
       "            warnings.style.display = 'block';\n",
       "            warnings.textContent = (\n",
       "                \"This browser does not support binary websocket messages. \" +\n",
       "                    \"Performance may be slow.\");\n",
       "        }\n",
       "    }\n",
       "\n",
       "    this.imageObj = new Image();\n",
       "\n",
       "    this.context = undefined;\n",
       "    this.message = undefined;\n",
       "    this.canvas = undefined;\n",
       "    this.rubberband_canvas = undefined;\n",
       "    this.rubberband_context = undefined;\n",
       "    this.format_dropdown = undefined;\n",
       "\n",
       "    this.image_mode = 'full';\n",
       "\n",
       "    this.root = $('<div/>');\n",
       "    this._root_extra_style(this.root)\n",
       "    this.root.attr('style', 'display: inline-block');\n",
       "\n",
       "    $(parent_element).append(this.root);\n",
       "\n",
       "    this._init_header(this);\n",
       "    this._init_canvas(this);\n",
       "    this._init_toolbar(this);\n",
       "\n",
       "    var fig = this;\n",
       "\n",
       "    this.waiting = false;\n",
       "\n",
       "    this.ws.onopen =  function () {\n",
       "            fig.send_message(\"supports_binary\", {value: fig.supports_binary});\n",
       "            fig.send_message(\"send_image_mode\", {});\n",
       "            fig.send_message(\"refresh\", {});\n",
       "        }\n",
       "\n",
       "    this.imageObj.onload = function() {\n",
       "            if (fig.image_mode == 'full') {\n",
       "                // Full images could contain transparency (where diff images\n",
       "                // almost always do), so we need to clear the canvas so that\n",
       "                // there is no ghosting.\n",
       "                fig.context.clearRect(0, 0, fig.canvas.width, fig.canvas.height);\n",
       "            }\n",
       "            fig.context.drawImage(fig.imageObj, 0, 0);\n",
       "        };\n",
       "\n",
       "    this.imageObj.onunload = function() {\n",
       "        this.ws.close();\n",
       "    }\n",
       "\n",
       "    this.ws.onmessage = this._make_on_message_function(this);\n",
       "\n",
       "    this.ondownload = ondownload;\n",
       "}\n",
       "\n",
       "mpl.figure.prototype._init_header = function() {\n",
       "    var titlebar = $(\n",
       "        '<div class=\"ui-dialog-titlebar ui-widget-header ui-corner-all ' +\n",
       "        'ui-helper-clearfix\"/>');\n",
       "    var titletext = $(\n",
       "        '<div class=\"ui-dialog-title\" style=\"width: 100%; ' +\n",
       "        'text-align: center; padding: 3px;\"/>');\n",
       "    titlebar.append(titletext)\n",
       "    this.root.append(titlebar);\n",
       "    this.header = titletext[0];\n",
       "}\n",
       "\n",
       "\n",
       "\n",
       "mpl.figure.prototype._canvas_extra_style = function(canvas_div) {\n",
       "\n",
       "}\n",
       "\n",
       "\n",
       "mpl.figure.prototype._root_extra_style = function(canvas_div) {\n",
       "\n",
       "}\n",
       "\n",
       "mpl.figure.prototype._init_canvas = function() {\n",
       "    var fig = this;\n",
       "\n",
       "    var canvas_div = $('<div/>');\n",
       "\n",
       "    canvas_div.attr('style', 'position: relative; clear: both; outline: 0');\n",
       "\n",
       "    function canvas_keyboard_event(event) {\n",
       "        return fig.key_event(event, event['data']);\n",
       "    }\n",
       "\n",
       "    canvas_div.keydown('key_press', canvas_keyboard_event);\n",
       "    canvas_div.keyup('key_release', canvas_keyboard_event);\n",
       "    this.canvas_div = canvas_div\n",
       "    this._canvas_extra_style(canvas_div)\n",
       "    this.root.append(canvas_div);\n",
       "\n",
       "    var canvas = $('<canvas/>');\n",
       "    canvas.addClass('mpl-canvas');\n",
       "    canvas.attr('style', \"left: 0; top: 0; z-index: 0; outline: 0\")\n",
       "\n",
       "    this.canvas = canvas[0];\n",
       "    this.context = canvas[0].getContext(\"2d\");\n",
       "\n",
       "    var rubberband = $('<canvas/>');\n",
       "    rubberband.attr('style', \"position: absolute; left: 0; top: 0; z-index: 1;\")\n",
       "\n",
       "    var pass_mouse_events = true;\n",
       "\n",
       "    canvas_div.resizable({\n",
       "        start: function(event, ui) {\n",
       "            pass_mouse_events = false;\n",
       "        },\n",
       "        resize: function(event, ui) {\n",
       "            fig.request_resize(ui.size.width, ui.size.height);\n",
       "        },\n",
       "        stop: function(event, ui) {\n",
       "            pass_mouse_events = true;\n",
       "            fig.request_resize(ui.size.width, ui.size.height);\n",
       "        },\n",
       "    });\n",
       "\n",
       "    function mouse_event_fn(event) {\n",
       "        if (pass_mouse_events)\n",
       "            return fig.mouse_event(event, event['data']);\n",
       "    }\n",
       "\n",
       "    rubberband.mousedown('button_press', mouse_event_fn);\n",
       "    rubberband.mouseup('button_release', mouse_event_fn);\n",
       "    // Throttle sequential mouse events to 1 every 20ms.\n",
       "    rubberband.mousemove('motion_notify', mouse_event_fn);\n",
       "\n",
       "    rubberband.mouseenter('figure_enter', mouse_event_fn);\n",
       "    rubberband.mouseleave('figure_leave', mouse_event_fn);\n",
       "\n",
       "    canvas_div.on(\"wheel\", function (event) {\n",
       "        event = event.originalEvent;\n",
       "        event['data'] = 'scroll'\n",
       "        if (event.deltaY < 0) {\n",
       "            event.step = 1;\n",
       "        } else {\n",
       "            event.step = -1;\n",
       "        }\n",
       "        mouse_event_fn(event);\n",
       "    });\n",
       "\n",
       "    canvas_div.append(canvas);\n",
       "    canvas_div.append(rubberband);\n",
       "\n",
       "    this.rubberband = rubberband;\n",
       "    this.rubberband_canvas = rubberband[0];\n",
       "    this.rubberband_context = rubberband[0].getContext(\"2d\");\n",
       "    this.rubberband_context.strokeStyle = \"#000000\";\n",
       "\n",
       "    this._resize_canvas = function(width, height) {\n",
       "        // Keep the size of the canvas, canvas container, and rubber band\n",
       "        // canvas in synch.\n",
       "        canvas_div.css('width', width)\n",
       "        canvas_div.css('height', height)\n",
       "\n",
       "        canvas.attr('width', width);\n",
       "        canvas.attr('height', height);\n",
       "\n",
       "        rubberband.attr('width', width);\n",
       "        rubberband.attr('height', height);\n",
       "    }\n",
       "\n",
       "    // Set the figure to an initial 600x600px, this will subsequently be updated\n",
       "    // upon first draw.\n",
       "    this._resize_canvas(600, 600);\n",
       "\n",
       "    // Disable right mouse context menu.\n",
       "    $(this.rubberband_canvas).bind(\"contextmenu\",function(e){\n",
       "        return false;\n",
       "    });\n",
       "\n",
       "    function set_focus () {\n",
       "        canvas.focus();\n",
       "        canvas_div.focus();\n",
       "    }\n",
       "\n",
       "    window.setTimeout(set_focus, 100);\n",
       "}\n",
       "\n",
       "mpl.figure.prototype._init_toolbar = function() {\n",
       "    var fig = this;\n",
       "\n",
       "    var nav_element = $('<div/>')\n",
       "    nav_element.attr('style', 'width: 100%');\n",
       "    this.root.append(nav_element);\n",
       "\n",
       "    // Define a callback function for later on.\n",
       "    function toolbar_event(event) {\n",
       "        return fig.toolbar_button_onclick(event['data']);\n",
       "    }\n",
       "    function toolbar_mouse_event(event) {\n",
       "        return fig.toolbar_button_onmouseover(event['data']);\n",
       "    }\n",
       "\n",
       "    for(var toolbar_ind in mpl.toolbar_items) {\n",
       "        var name = mpl.toolbar_items[toolbar_ind][0];\n",
       "        var tooltip = mpl.toolbar_items[toolbar_ind][1];\n",
       "        var image = mpl.toolbar_items[toolbar_ind][2];\n",
       "        var method_name = mpl.toolbar_items[toolbar_ind][3];\n",
       "\n",
       "        if (!name) {\n",
       "            // put a spacer in here.\n",
       "            continue;\n",
       "        }\n",
       "        var button = $('<button/>');\n",
       "        button.addClass('ui-button ui-widget ui-state-default ui-corner-all ' +\n",
       "                        'ui-button-icon-only');\n",
       "        button.attr('role', 'button');\n",
       "        button.attr('aria-disabled', 'false');\n",
       "        button.click(method_name, toolbar_event);\n",
       "        button.mouseover(tooltip, toolbar_mouse_event);\n",
       "\n",
       "        var icon_img = $('<span/>');\n",
       "        icon_img.addClass('ui-button-icon-primary ui-icon');\n",
       "        icon_img.addClass(image);\n",
       "        icon_img.addClass('ui-corner-all');\n",
       "\n",
       "        var tooltip_span = $('<span/>');\n",
       "        tooltip_span.addClass('ui-button-text');\n",
       "        tooltip_span.html(tooltip);\n",
       "\n",
       "        button.append(icon_img);\n",
       "        button.append(tooltip_span);\n",
       "\n",
       "        nav_element.append(button);\n",
       "    }\n",
       "\n",
       "    var fmt_picker_span = $('<span/>');\n",
       "\n",
       "    var fmt_picker = $('<select/>');\n",
       "    fmt_picker.addClass('mpl-toolbar-option ui-widget ui-widget-content');\n",
       "    fmt_picker_span.append(fmt_picker);\n",
       "    nav_element.append(fmt_picker_span);\n",
       "    this.format_dropdown = fmt_picker[0];\n",
       "\n",
       "    for (var ind in mpl.extensions) {\n",
       "        var fmt = mpl.extensions[ind];\n",
       "        var option = $(\n",
       "            '<option/>', {selected: fmt === mpl.default_extension}).html(fmt);\n",
       "        fmt_picker.append(option)\n",
       "    }\n",
       "\n",
       "    // Add hover states to the ui-buttons\n",
       "    $( \".ui-button\" ).hover(\n",
       "        function() { $(this).addClass(\"ui-state-hover\");},\n",
       "        function() { $(this).removeClass(\"ui-state-hover\");}\n",
       "    );\n",
       "\n",
       "    var status_bar = $('<span class=\"mpl-message\"/>');\n",
       "    nav_element.append(status_bar);\n",
       "    this.message = status_bar[0];\n",
       "}\n",
       "\n",
       "mpl.figure.prototype.request_resize = function(x_pixels, y_pixels) {\n",
       "    // Request matplotlib to resize the figure. Matplotlib will then trigger a resize in the client,\n",
       "    // which will in turn request a refresh of the image.\n",
       "    this.send_message('resize', {'width': x_pixels, 'height': y_pixels});\n",
       "}\n",
       "\n",
       "mpl.figure.prototype.send_message = function(type, properties) {\n",
       "    properties['type'] = type;\n",
       "    properties['figure_id'] = this.id;\n",
       "    this.ws.send(JSON.stringify(properties));\n",
       "}\n",
       "\n",
       "mpl.figure.prototype.send_draw_message = function() {\n",
       "    if (!this.waiting) {\n",
       "        this.waiting = true;\n",
       "        this.ws.send(JSON.stringify({type: \"draw\", figure_id: this.id}));\n",
       "    }\n",
       "}\n",
       "\n",
       "\n",
       "mpl.figure.prototype.handle_save = function(fig, msg) {\n",
       "    var format_dropdown = fig.format_dropdown;\n",
       "    var format = format_dropdown.options[format_dropdown.selectedIndex].value;\n",
       "    fig.ondownload(fig, format);\n",
       "}\n",
       "\n",
       "\n",
       "mpl.figure.prototype.handle_resize = function(fig, msg) {\n",
       "    var size = msg['size'];\n",
       "    if (size[0] != fig.canvas.width || size[1] != fig.canvas.height) {\n",
       "        fig._resize_canvas(size[0], size[1]);\n",
       "        fig.send_message(\"refresh\", {});\n",
       "    };\n",
       "}\n",
       "\n",
       "mpl.figure.prototype.handle_rubberband = function(fig, msg) {\n",
       "    var x0 = msg['x0'];\n",
       "    var y0 = fig.canvas.height - msg['y0'];\n",
       "    var x1 = msg['x1'];\n",
       "    var y1 = fig.canvas.height - msg['y1'];\n",
       "    x0 = Math.floor(x0) + 0.5;\n",
       "    y0 = Math.floor(y0) + 0.5;\n",
       "    x1 = Math.floor(x1) + 0.5;\n",
       "    y1 = Math.floor(y1) + 0.5;\n",
       "    var min_x = Math.min(x0, x1);\n",
       "    var min_y = Math.min(y0, y1);\n",
       "    var width = Math.abs(x1 - x0);\n",
       "    var height = Math.abs(y1 - y0);\n",
       "\n",
       "    fig.rubberband_context.clearRect(\n",
       "        0, 0, fig.canvas.width, fig.canvas.height);\n",
       "\n",
       "    fig.rubberband_context.strokeRect(min_x, min_y, width, height);\n",
       "}\n",
       "\n",
       "mpl.figure.prototype.handle_figure_label = function(fig, msg) {\n",
       "    // Updates the figure title.\n",
       "    fig.header.textContent = msg['label'];\n",
       "}\n",
       "\n",
       "mpl.figure.prototype.handle_cursor = function(fig, msg) {\n",
       "    var cursor = msg['cursor'];\n",
       "    switch(cursor)\n",
       "    {\n",
       "    case 0:\n",
       "        cursor = 'pointer';\n",
       "        break;\n",
       "    case 1:\n",
       "        cursor = 'default';\n",
       "        break;\n",
       "    case 2:\n",
       "        cursor = 'crosshair';\n",
       "        break;\n",
       "    case 3:\n",
       "        cursor = 'move';\n",
       "        break;\n",
       "    }\n",
       "    fig.rubberband_canvas.style.cursor = cursor;\n",
       "}\n",
       "\n",
       "mpl.figure.prototype.handle_message = function(fig, msg) {\n",
       "    fig.message.textContent = msg['message'];\n",
       "}\n",
       "\n",
       "mpl.figure.prototype.handle_draw = function(fig, msg) {\n",
       "    // Request the server to send over a new figure.\n",
       "    fig.send_draw_message();\n",
       "}\n",
       "\n",
       "mpl.figure.prototype.handle_image_mode = function(fig, msg) {\n",
       "    fig.image_mode = msg['mode'];\n",
       "}\n",
       "\n",
       "mpl.figure.prototype.updated_canvas_event = function() {\n",
       "    // Called whenever the canvas gets updated.\n",
       "    this.send_message(\"ack\", {});\n",
       "}\n",
       "\n",
       "// A function to construct a web socket function for onmessage handling.\n",
       "// Called in the figure constructor.\n",
       "mpl.figure.prototype._make_on_message_function = function(fig) {\n",
       "    return function socket_on_message(evt) {\n",
       "        if (evt.data instanceof Blob) {\n",
       "            /* FIXME: We get \"Resource interpreted as Image but\n",
       "             * transferred with MIME type text/plain:\" errors on\n",
       "             * Chrome.  But how to set the MIME type?  It doesn't seem\n",
       "             * to be part of the websocket stream */\n",
       "            evt.data.type = \"image/png\";\n",
       "\n",
       "            /* Free the memory for the previous frames */\n",
       "            if (fig.imageObj.src) {\n",
       "                (window.URL || window.webkitURL).revokeObjectURL(\n",
       "                    fig.imageObj.src);\n",
       "            }\n",
       "\n",
       "            fig.imageObj.src = (window.URL || window.webkitURL).createObjectURL(\n",
       "                evt.data);\n",
       "            fig.updated_canvas_event();\n",
       "            fig.waiting = false;\n",
       "            return;\n",
       "        }\n",
       "        else if (typeof evt.data === 'string' && evt.data.slice(0, 21) == \"data:image/png;base64\") {\n",
       "            fig.imageObj.src = evt.data;\n",
       "            fig.updated_canvas_event();\n",
       "            fig.waiting = false;\n",
       "            return;\n",
       "        }\n",
       "\n",
       "        var msg = JSON.parse(evt.data);\n",
       "        var msg_type = msg['type'];\n",
       "\n",
       "        // Call the  \"handle_{type}\" callback, which takes\n",
       "        // the figure and JSON message as its only arguments.\n",
       "        try {\n",
       "            var callback = fig[\"handle_\" + msg_type];\n",
       "        } catch (e) {\n",
       "            console.log(\"No handler for the '\" + msg_type + \"' message type: \", msg);\n",
       "            return;\n",
       "        }\n",
       "\n",
       "        if (callback) {\n",
       "            try {\n",
       "                // console.log(\"Handling '\" + msg_type + \"' message: \", msg);\n",
       "                callback(fig, msg);\n",
       "            } catch (e) {\n",
       "                console.log(\"Exception inside the 'handler_\" + msg_type + \"' callback:\", e, e.stack, msg);\n",
       "            }\n",
       "        }\n",
       "    };\n",
       "}\n",
       "\n",
       "// from http://stackoverflow.com/questions/1114465/getting-mouse-location-in-canvas\n",
       "mpl.findpos = function(e) {\n",
       "    //this section is from http://www.quirksmode.org/js/events_properties.html\n",
       "    var targ;\n",
       "    if (!e)\n",
       "        e = window.event;\n",
       "    if (e.target)\n",
       "        targ = e.target;\n",
       "    else if (e.srcElement)\n",
       "        targ = e.srcElement;\n",
       "    if (targ.nodeType == 3) // defeat Safari bug\n",
       "        targ = targ.parentNode;\n",
       "\n",
       "    // jQuery normalizes the pageX and pageY\n",
       "    // pageX,Y are the mouse positions relative to the document\n",
       "    // offset() returns the position of the element relative to the document\n",
       "    var x = e.pageX - $(targ).offset().left;\n",
       "    var y = e.pageY - $(targ).offset().top;\n",
       "\n",
       "    return {\"x\": x, \"y\": y};\n",
       "};\n",
       "\n",
       "/*\n",
       " * return a copy of an object with only non-object keys\n",
       " * we need this to avoid circular references\n",
       " * http://stackoverflow.com/a/24161582/3208463\n",
       " */\n",
       "function simpleKeys (original) {\n",
       "  return Object.keys(original).reduce(function (obj, key) {\n",
       "    if (typeof original[key] !== 'object')\n",
       "        obj[key] = original[key]\n",
       "    return obj;\n",
       "  }, {});\n",
       "}\n",
       "\n",
       "mpl.figure.prototype.mouse_event = function(event, name) {\n",
       "    var canvas_pos = mpl.findpos(event)\n",
       "\n",
       "    if (name === 'button_press')\n",
       "    {\n",
       "        this.canvas.focus();\n",
       "        this.canvas_div.focus();\n",
       "    }\n",
       "\n",
       "    var x = canvas_pos.x;\n",
       "    var y = canvas_pos.y;\n",
       "\n",
       "    this.send_message(name, {x: x, y: y, button: event.button,\n",
       "                             step: event.step,\n",
       "                             guiEvent: simpleKeys(event)});\n",
       "\n",
       "    /* This prevents the web browser from automatically changing to\n",
       "     * the text insertion cursor when the button is pressed.  We want\n",
       "     * to control all of the cursor setting manually through the\n",
       "     * 'cursor' event from matplotlib */\n",
       "    event.preventDefault();\n",
       "    return false;\n",
       "}\n",
       "\n",
       "mpl.figure.prototype._key_event_extra = function(event, name) {\n",
       "    // Handle any extra behaviour associated with a key event\n",
       "}\n",
       "\n",
       "mpl.figure.prototype.key_event = function(event, name) {\n",
       "\n",
       "    // Prevent repeat events\n",
       "    if (name == 'key_press')\n",
       "    {\n",
       "        if (event.which === this._key)\n",
       "            return;\n",
       "        else\n",
       "            this._key = event.which;\n",
       "    }\n",
       "    if (name == 'key_release')\n",
       "        this._key = null;\n",
       "\n",
       "    var value = '';\n",
       "    if (event.ctrlKey && event.which != 17)\n",
       "        value += \"ctrl+\";\n",
       "    if (event.altKey && event.which != 18)\n",
       "        value += \"alt+\";\n",
       "    if (event.shiftKey && event.which != 16)\n",
       "        value += \"shift+\";\n",
       "\n",
       "    value += 'k';\n",
       "    value += event.which.toString();\n",
       "\n",
       "    this._key_event_extra(event, name);\n",
       "\n",
       "    this.send_message(name, {key: value,\n",
       "                             guiEvent: simpleKeys(event)});\n",
       "    return false;\n",
       "}\n",
       "\n",
       "mpl.figure.prototype.toolbar_button_onclick = function(name) {\n",
       "    if (name == 'download') {\n",
       "        this.handle_save(this, null);\n",
       "    } else {\n",
       "        this.send_message(\"toolbar_button\", {name: name});\n",
       "    }\n",
       "};\n",
       "\n",
       "mpl.figure.prototype.toolbar_button_onmouseover = function(tooltip) {\n",
       "    this.message.textContent = tooltip;\n",
       "};\n",
       "mpl.toolbar_items = [[\"Home\", \"Reset original view\", \"fa fa-home icon-home\", \"home\"], [\"Back\", \"Back to  previous view\", \"fa fa-arrow-left icon-arrow-left\", \"back\"], [\"Forward\", \"Forward to next view\", \"fa fa-arrow-right icon-arrow-right\", \"forward\"], [\"\", \"\", \"\", \"\"], [\"Pan\", \"Pan axes with left mouse, zoom with right\", \"fa fa-arrows icon-move\", \"pan\"], [\"Zoom\", \"Zoom to rectangle\", \"fa fa-square-o icon-check-empty\", \"zoom\"], [\"\", \"\", \"\", \"\"], [\"Download\", \"Download plot\", \"fa fa-floppy-o icon-save\", \"download\"]];\n",
       "\n",
       "mpl.extensions = [\"eps\", \"jpeg\", \"pdf\", \"png\", \"ps\", \"raw\", \"svg\", \"tif\"];\n",
       "\n",
       "mpl.default_extension = \"png\";var comm_websocket_adapter = function(comm) {\n",
       "    // Create a \"websocket\"-like object which calls the given IPython comm\n",
       "    // object with the appropriate methods. Currently this is a non binary\n",
       "    // socket, so there is still some room for performance tuning.\n",
       "    var ws = {};\n",
       "\n",
       "    ws.close = function() {\n",
       "        comm.close()\n",
       "    };\n",
       "    ws.send = function(m) {\n",
       "        //console.log('sending', m);\n",
       "        comm.send(m);\n",
       "    };\n",
       "    // Register the callback with on_msg.\n",
       "    comm.on_msg(function(msg) {\n",
       "        //console.log('receiving', msg['content']['data'], msg);\n",
       "        // Pass the mpl event to the overriden (by mpl) onmessage function.\n",
       "        ws.onmessage(msg['content']['data'])\n",
       "    });\n",
       "    return ws;\n",
       "}\n",
       "\n",
       "mpl.mpl_figure_comm = function(comm, msg) {\n",
       "    // This is the function which gets called when the mpl process\n",
       "    // starts-up an IPython Comm through the \"matplotlib\" channel.\n",
       "\n",
       "    var id = msg.content.data.id;\n",
       "    // Get hold of the div created by the display call when the Comm\n",
       "    // socket was opened in Python.\n",
       "    var element = $(\"#\" + id);\n",
       "    var ws_proxy = comm_websocket_adapter(comm)\n",
       "\n",
       "    function ondownload(figure, format) {\n",
       "        window.open(figure.imageObj.src);\n",
       "    }\n",
       "\n",
       "    var fig = new mpl.figure(id, ws_proxy,\n",
       "                           ondownload,\n",
       "                           element.get(0));\n",
       "\n",
       "    // Call onopen now - mpl needs it, as it is assuming we've passed it a real\n",
       "    // web socket which is closed, not our websocket->open comm proxy.\n",
       "    ws_proxy.onopen();\n",
       "\n",
       "    fig.parent_element = element.get(0);\n",
       "    fig.cell_info = mpl.find_output_cell(\"<div id='\" + id + \"'></div>\");\n",
       "    if (!fig.cell_info) {\n",
       "        console.error(\"Failed to find cell for figure\", id, fig);\n",
       "        return;\n",
       "    }\n",
       "\n",
       "    var output_index = fig.cell_info[2]\n",
       "    var cell = fig.cell_info[0];\n",
       "\n",
       "};\n",
       "\n",
       "mpl.figure.prototype.handle_close = function(fig, msg) {\n",
       "    fig.root.unbind('remove')\n",
       "\n",
       "    // Update the output cell to use the data from the current canvas.\n",
       "    fig.push_to_output();\n",
       "    var dataURL = fig.canvas.toDataURL();\n",
       "    // Re-enable the keyboard manager in IPython - without this line, in FF,\n",
       "    // the notebook keyboard shortcuts fail.\n",
       "    IPython.keyboard_manager.enable()\n",
       "    $(fig.parent_element).html('<img src=\"' + dataURL + '\">');\n",
       "    fig.close_ws(fig, msg);\n",
       "}\n",
       "\n",
       "mpl.figure.prototype.close_ws = function(fig, msg){\n",
       "    fig.send_message('closing', msg);\n",
       "    // fig.ws.close()\n",
       "}\n",
       "\n",
       "mpl.figure.prototype.push_to_output = function(remove_interactive) {\n",
       "    // Turn the data on the canvas into data in the output cell.\n",
       "    var dataURL = this.canvas.toDataURL();\n",
       "    this.cell_info[1]['text/html'] = '<img src=\"' + dataURL + '\">';\n",
       "}\n",
       "\n",
       "mpl.figure.prototype.updated_canvas_event = function() {\n",
       "    // Tell IPython that the notebook contents must change.\n",
       "    IPython.notebook.set_dirty(true);\n",
       "    this.send_message(\"ack\", {});\n",
       "    var fig = this;\n",
       "    // Wait a second, then push the new image to the DOM so\n",
       "    // that it is saved nicely (might be nice to debounce this).\n",
       "    setTimeout(function () { fig.push_to_output() }, 1000);\n",
       "}\n",
       "\n",
       "mpl.figure.prototype._init_toolbar = function() {\n",
       "    var fig = this;\n",
       "\n",
       "    var nav_element = $('<div/>')\n",
       "    nav_element.attr('style', 'width: 100%');\n",
       "    this.root.append(nav_element);\n",
       "\n",
       "    // Define a callback function for later on.\n",
       "    function toolbar_event(event) {\n",
       "        return fig.toolbar_button_onclick(event['data']);\n",
       "    }\n",
       "    function toolbar_mouse_event(event) {\n",
       "        return fig.toolbar_button_onmouseover(event['data']);\n",
       "    }\n",
       "\n",
       "    for(var toolbar_ind in mpl.toolbar_items){\n",
       "        var name = mpl.toolbar_items[toolbar_ind][0];\n",
       "        var tooltip = mpl.toolbar_items[toolbar_ind][1];\n",
       "        var image = mpl.toolbar_items[toolbar_ind][2];\n",
       "        var method_name = mpl.toolbar_items[toolbar_ind][3];\n",
       "\n",
       "        if (!name) { continue; };\n",
       "\n",
       "        var button = $('<button class=\"btn btn-default\" href=\"#\" title=\"' + name + '\"><i class=\"fa ' + image + ' fa-lg\"></i></button>');\n",
       "        button.click(method_name, toolbar_event);\n",
       "        button.mouseover(tooltip, toolbar_mouse_event);\n",
       "        nav_element.append(button);\n",
       "    }\n",
       "\n",
       "    // Add the status bar.\n",
       "    var status_bar = $('<span class=\"mpl-message\" style=\"text-align:right; float: right;\"/>');\n",
       "    nav_element.append(status_bar);\n",
       "    this.message = status_bar[0];\n",
       "\n",
       "    // Add the close button to the window.\n",
       "    var buttongrp = $('<div class=\"btn-group inline pull-right\"></div>');\n",
       "    var button = $('<button class=\"btn btn-mini btn-primary\" href=\"#\" title=\"Stop Interaction\"><i class=\"fa fa-power-off icon-remove icon-large\"></i></button>');\n",
       "    button.click(function (evt) { fig.handle_close(fig, {}); } );\n",
       "    button.mouseover('Stop Interaction', toolbar_mouse_event);\n",
       "    buttongrp.append(button);\n",
       "    var titlebar = this.root.find($('.ui-dialog-titlebar'));\n",
       "    titlebar.prepend(buttongrp);\n",
       "}\n",
       "\n",
       "mpl.figure.prototype._root_extra_style = function(el){\n",
       "    var fig = this\n",
       "    el.on(\"remove\", function(){\n",
       "\tfig.close_ws(fig, {});\n",
       "    });\n",
       "}\n",
       "\n",
       "mpl.figure.prototype._canvas_extra_style = function(el){\n",
       "    // this is important to make the div 'focusable\n",
       "    el.attr('tabindex', 0)\n",
       "    // reach out to IPython and tell the keyboard manager to turn it's self\n",
       "    // off when our div gets focus\n",
       "\n",
       "    // location in version 3\n",
       "    if (IPython.notebook.keyboard_manager) {\n",
       "        IPython.notebook.keyboard_manager.register_events(el);\n",
       "    }\n",
       "    else {\n",
       "        // location in version 2\n",
       "        IPython.keyboard_manager.register_events(el);\n",
       "    }\n",
       "\n",
       "}\n",
       "\n",
       "mpl.figure.prototype._key_event_extra = function(event, name) {\n",
       "    var manager = IPython.notebook.keyboard_manager;\n",
       "    if (!manager)\n",
       "        manager = IPython.keyboard_manager;\n",
       "\n",
       "    // Check for shift+enter\n",
       "    if (event.shiftKey && event.which == 13) {\n",
       "        this.canvas_div.blur();\n",
       "        event.shiftKey = false;\n",
       "        // Send a \"J\" for go to next cell\n",
       "        event.which = 74;\n",
       "        event.keyCode = 74;\n",
       "        manager.command_mode();\n",
       "        manager.handle_keydown(event);\n",
       "    }\n",
       "}\n",
       "\n",
       "mpl.figure.prototype.handle_save = function(fig, msg) {\n",
       "    fig.ondownload(fig, null);\n",
       "}\n",
       "\n",
       "\n",
       "mpl.find_output_cell = function(html_output) {\n",
       "    // Return the cell and output element which can be found *uniquely* in the notebook.\n",
       "    // Note - this is a bit hacky, but it is done because the \"notebook_saving.Notebook\"\n",
       "    // IPython event is triggered only after the cells have been serialised, which for\n",
       "    // our purposes (turning an active figure into a static one), is too late.\n",
       "    var cells = IPython.notebook.get_cells();\n",
       "    var ncells = cells.length;\n",
       "    for (var i=0; i<ncells; i++) {\n",
       "        var cell = cells[i];\n",
       "        if (cell.cell_type === 'code'){\n",
       "            for (var j=0; j<cell.output_area.outputs.length; j++) {\n",
       "                var data = cell.output_area.outputs[j];\n",
       "                if (data.data) {\n",
       "                    // IPython >= 3 moved mimebundle to data attribute of output\n",
       "                    data = data.data;\n",
       "                }\n",
       "                if (data['text/html'] == html_output) {\n",
       "                    return [cell, data, j];\n",
       "                }\n",
       "            }\n",
       "        }\n",
       "    }\n",
       "}\n",
       "\n",
       "// Register the function which deals with the matplotlib target/channel.\n",
       "// The kernel may be null if the page has been refreshed.\n",
       "if (IPython.notebook.kernel != null) {\n",
       "    IPython.notebook.kernel.comm_manager.register_target('matplotlib', mpl.mpl_figure_comm);\n",
       "}\n"
      ],
      "text/plain": [
       "<IPython.core.display.Javascript object>"
      ]
     },
     "metadata": {},
     "output_type": "display_data"
    },
    {
     "data": {
      "text/html": [
       "<img src=\"data:image/png;base64,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\">"
      ],
      "text/plain": [
       "<IPython.core.display.HTML object>"
      ]
     },
     "metadata": {},
     "output_type": "display_data"
    }
   ],
   "source": [
    "figdistr = figure()\n",
    "plot_distr(figdistr, _model['flat'].eval())"
   ]
  },
  {
   "cell_type": "code",
   "execution_count": null,
   "metadata": {
    "collapsed": false
   },
   "outputs": [],
   "source": [
    "fig, ax = subplots()\n",
    "plot_fit(fig, ax)  #{_model['flat']:optimizer_kwargs['num_parameters']}"
   ]
  },
  {
   "cell_type": "code",
   "execution_count": null,
   "metadata": {
    "collapsed": false
   },
   "outputs": [],
   "source": [
    "human_readable_parameters = model['parameters'] + model['parameters_positive']\n",
    "f = theano.function([_model['flat']], human_readable_parameters)\n",
    "old_num_params = f(opt.wrt)\n",
    "        \n",
    "with ignored(KeyboardInterrupt):\n",
    "    for info in every(n_batches, opt):  #every(n_batches, opt):\n",
    "        current_epoch = info['n_iter']//n_batches\n",
    "        # visualize training loss for comparison:\n",
    "        training_loss = optimizer_kwargs['num_loss'](opt.wrt, targets)#, no_annealing=True)\n",
    "#         training_loss /= len(targets)\n",
    "        add_point(line_train, current_epoch, training_loss)\n",
    "        \n",
    "        \n",
    "        num_params = f(opt.wrt)\n",
    "        print \"jacobiannames\", str(_model['flat'])\n",
    "        print \"jacobian\", optimizer_kwargs['num_jacobian'](opt.wrt, targets[:batch_size])\n",
    "        diff_params = [n - o for n, o in izip(num_params, old_num_params)]\n",
    "        print(\"params\")\n",
    "        pprint(dict(zip(map(str, human_readable_parameters), num_params)))\n",
    "        print(\"diff\")\n",
    "        pprint(dict(zip(map(str, human_readable_parameters), diff_params)))\n",
    "        print\n",
    "        \n",
    "        plot_distr(figdistr, opt.wrt)\n",
    "        plot_fit(fig, ax, {_model['flat']:opt.wrt}, time_delay=None)\n",
    "        old_num_params = num_params"
   ]
  },
  {
   "cell_type": "code",
   "execution_count": null,
   "metadata": {
    "collapsed": false
   },
   "outputs": [],
   "source": [
    "%debug"
   ]
  },
  {
   "cell_type": "markdown",
   "metadata": {},
   "source": [
    "---"
   ]
  },
  {
   "cell_type": "code",
   "execution_count": null,
   "metadata": {
    "collapsed": false
   },
   "outputs": [],
   "source": [
    "best_parameters = None\n",
    "best_val_loss = inf\n",
    "last_improvement_epoch = 1\n",
    "for info in every(n_batches, opt):\n",
    "    current_epoch = info['n_iter']//n_batches\n",
    "    if current_epoch - last_improvement_epoch > 50:\n",
    "        break\n",
    "    # collect and visualize validation loss for choosing the best model\n",
    "    val_loss = optimizer_kwargs['num_loss'](opt.wrt, training, no_annealing=True)\n",
    "    if val_loss < best_val_loss:\n",
    "        last_improvement_epoch = current_epoch\n",
    "        best_parameters = opt.wrt\n",
    "        best_val_loss = val_loss\n",
    "    \n",
    "    print zip(model['flat'].name.split(':'), climin_kwargs['fprime'](opt.wrt, training[:100], no_annealing=True))\n",
    "    plot_fit(fig, ax, givens={model['flat']: opt.wrt}, time_delay=None)\n",
    "    print best_val_loss,"
   ]
  },
  {
   "cell_type": "code",
   "execution_count": null,
   "metadata": {
    "collapsed": false
   },
   "outputs": [],
   "source": [
    "%debug"
   ]
  },
  {
   "cell_type": "code",
   "execution_count": null,
   "metadata": {
    "collapsed": false
   },
   "outputs": [],
   "source": [
    "optimizer_kwargs['flat']"
   ]
  },
  {
   "cell_type": "code",
   "execution_count": null,
   "metadata": {
    "collapsed": false
   },
   "outputs": [],
   "source": [
    "%timeit optimizer_kwargs['num_jacobian'](best_parameters, targets[:100])"
   ]
  },
  {
   "cell_type": "code",
   "execution_count": null,
   "metadata": {
    "collapsed": false
   },
   "outputs": [],
   "source": [
    "stats = np.array([optimizer_kwargs['num_jacobian'](best_parameters, targets[:100]) for _ in range(1000)])"
   ]
  },
  {
   "cell_type": "code",
   "execution_count": null,
   "metadata": {
    "collapsed": false
   },
   "outputs": [],
   "source": [
    "stats[:100]"
   ]
  },
  {
   "cell_type": "code",
   "execution_count": null,
   "metadata": {
    "collapsed": false
   },
   "outputs": [],
   "source": [
    "plot(stats.T)\n",
    "pass"
   ]
  },
  {
   "cell_type": "code",
   "execution_count": null,
   "metadata": {
    "collapsed": false
   },
   "outputs": [],
   "source": [
    "stats.mean(0)"
   ]
  },
  {
   "cell_type": "code",
   "execution_count": null,
   "metadata": {
    "collapsed": false
   },
   "outputs": [],
   "source": [
    "stats.var(0)"
   ]
  },
  {
   "cell_type": "code",
   "execution_count": null,
   "metadata": {
    "collapsed": false
   },
   "outputs": [],
   "source": [
    "opt.n_iter"
   ]
  },
  {
   "cell_type": "code",
   "execution_count": null,
   "metadata": {
    "collapsed": false
   },
   "outputs": [],
   "source": [
    "model.u.eval({model['flat']: best_parameters})"
   ]
  },
  {
   "cell_type": "code",
   "execution_count": null,
   "metadata": {
    "collapsed": false
   },
   "outputs": [],
   "source": [
    "theano.function([model['flat']], \n",
    "                [model.b, target.b,\n",
    "                 model.w, target.w,\n",
    "                 model._u, target._u, \n",
    "                 param_model_base.mean, \n",
    "                 param_target_base.mean, \n",
    "                 param_model_base.var, param_target_base.var,\n",
    "                 data_model.var],\n",
    "                mode=\"FAST_COMPILE\")(best_parameters)"
   ]
  },
  {
   "cell_type": "code",
   "execution_count": null,
   "metadata": {
    "collapsed": false
   },
   "outputs": [],
   "source": [
    "best_val_loss"
   ]
  },
  {
   "cell_type": "markdown",
   "metadata": {
    "collapsed": true
   },
   "source": [
    "Using the default scipy optimizer, one can see very good, that the problem is ill-defined in that the maximum likelihood solution is a ill-formed solution."
   ]
  },
  {
   "cell_type": "code",
   "execution_count": null,
   "metadata": {
    "collapsed": true
   },
   "outputs": [],
   "source": []
  }
 ],
 "metadata": {
  "kernelspec": {
   "display_name": "Python 2",
   "language": "python",
   "name": "python2"
  },
  "language_info": {
   "codemirror_mode": {
    "name": "ipython",
    "version": 2
   },
   "file_extension": ".py",
   "mimetype": "text/x-python",
   "name": "python",
   "nbconvert_exporter": "python",
   "pygments_lexer": "ipython2",
   "version": "2.7.6"
  },
  "toc": {
   "toc_cell": false,
   "toc_number_sections": true,
   "toc_threshold": 4,
   "toc_window_display": true
  },
  "toc_position": {
   "left": "1398.38px",
   "right": "20px",
   "top": "119px",
   "width": "182px"
  }
 },
 "nbformat": 4,
 "nbformat_minor": 0
}
