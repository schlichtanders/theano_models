{
 "cells": [
  {
   "cell_type": "code",
   "execution_count": 1,
   "metadata": {
    "collapsed": false
   },
   "outputs": [
    {
     "name": "stderr",
     "output_type": "stream",
     "text": [
      "/usr/local/lib/python2.7/dist-packages/matplotlib/font_manager.py:273: UserWarning: Matplotlib is building the font cache using fc-list. This may take a moment.\n",
      "  warnings.warn('Matplotlib is building the font cache using fc-list. This may take a moment.')\n"
     ]
    }
   ],
   "source": [
    "%matplotlib notebook\n",
    "from __future__ import division"
   ]
  },
  {
   "cell_type": "code",
   "execution_count": 2,
   "metadata": {
    "collapsed": false
   },
   "outputs": [
    {
     "name": "stdout",
     "output_type": "stream",
     "text": [
      "gnumpy: failed to import cudamat. Using npmat instead. No GPU will be used.\n"
     ]
    }
   ],
   "source": [
    "from matplotlib.pyplot import plot, ylabel, xlabel, yscale, xscale, legend, subplots, gca, gcf\n",
    "from matplotlib.ticker import FormatStrFormatter\n",
    "from theano import function\n",
    "import numpy as np\n",
    "import gzip\n",
    "import cPickle\n",
    "from scipy.optimize import minimize\n",
    "from climin.util import optimizer\n",
    "from itertools import repeat, cycle, islice, izip\n",
    "inf = float(\"inf\")"
   ]
  },
  {
   "cell_type": "code",
   "execution_count": 3,
   "metadata": {
    "collapsed": false
   },
   "outputs": [],
   "source": [
    "from breze.learn.data import one_hot\n",
    "from breze.learn.base import cast_array_to_local_type\n",
    "from schlichtanders.myfunctools import compose, meanmap, summap\n",
    "from schlichtanders.mygenerators import eatN, chunk, chunk_list, every, takeN\n",
    "from schlichtanders.myplot import add_val, add_point"
   ]
  },
  {
   "cell_type": "code",
   "execution_count": 4,
   "metadata": {
    "collapsed": false
   },
   "outputs": [],
   "source": [
    "from theano_models import (as_tensor_variable, total_size, clone, clone_all,\n",
    "                           Merge, Flatten, Reparameterize, squareplus, squareplus_inv,\n",
    "                           InvertibleModel,\n",
    "                           inputting_references, outputting_references,\n",
    "                           PooledRandomStreams,\n",
    "                           get_profile)\n",
    "from theano_models.util.theano_helpers import independent_subgraphs, list_random_sources\n",
    "from theano_models.visualization import d3viz\n",
    "from IPython.display import IFrame\n",
    "import theano_models.deterministic_models as dm\n",
    "import theano_models.probabilistic_models as pm\n",
    "import theano_models.extra_models as em\n",
    "import theano_models.postmaps as post\n",
    "from theano_models.composing import normalizing_flow, variational_bayes"
   ]
  },
  {
   "cell_type": "code",
   "execution_count": 5,
   "metadata": {
    "collapsed": true
   },
   "outputs": [],
   "source": [
    "import theano\n",
    "import theano.tensor as T\n",
    "from theano.printing import debugprint\n",
    "from theano.tensor.shared_randomstreams import RandomStreams"
   ]
  },
  {
   "cell_type": "code",
   "execution_count": 6,
   "metadata": {
    "collapsed": false
   },
   "outputs": [],
   "source": [
    "import warnings\n",
    "warnings.filterwarnings(\"ignore\", category=DeprecationWarning)"
   ]
  },
  {
   "cell_type": "code",
   "execution_count": 7,
   "metadata": {
    "collapsed": false
   },
   "outputs": [
    {
     "data": {
      "text/plain": [
       "({'flat',\n",
       "  'inputs',\n",
       "  'n_data',\n",
       "  'noise',\n",
       "  'parameters',\n",
       "  'parameters_positive',\n",
       "  'parameters_pvalues',\n",
       "  'to_be_randomized'},\n",
       " {'kl_prior', 'logP', 'loglikelihood', 'norm_det', 'outputs'})"
      ]
     },
     "execution_count": 7,
     "metadata": {},
     "output_type": "execute_result"
    }
   ],
   "source": [
    "inputting_references.update(['to_be_randomized'])\n",
    "inputting_references, outputting_references"
   ]
  },
  {
   "cell_type": "code",
   "execution_count": 8,
   "metadata": {
    "collapsed": true
   },
   "outputs": [],
   "source": [
    "from schlichtanders.myobjects import NestedNamespace"
   ]
  },
  {
   "cell_type": "code",
   "execution_count": 9,
   "metadata": {
    "collapsed": true
   },
   "outputs": [],
   "source": [
    "pm.RNG = NestedNamespace(PooledRandomStreams(pool_size=int(5e8)), RandomStreams())"
   ]
  },
  {
   "cell_type": "markdown",
   "metadata": {},
   "source": [
    "# Data"
   ]
  },
  {
   "cell_type": "code",
   "execution_count": 10,
   "metadata": {
    "collapsed": false
   },
   "outputs": [
    {
     "data": {
      "text/plain": [
       "[(50000, 784),\n",
       " (50000, 10),\n",
       " (10000, 784),\n",
       " (10000, 10),\n",
       " (10000, 784),\n",
       " (10000, 10)]"
      ]
     },
     "execution_count": 10,
     "metadata": {},
     "output_type": "execute_result"
    }
   ],
   "source": [
    "datafile = '../data/mnist.pkl.gz'\n",
    "# Load data.        a                                                                                           \n",
    "\n",
    "with gzip.open(datafile,'rb') as f:                                                                        \n",
    "    train_set, val_set, test_set = cPickle.load(f)                                                       \n",
    "\n",
    "X, Z = train_set                                                                                               \n",
    "VX, VZ = val_set\n",
    "TX, TZ = test_set\n",
    "\n",
    "Z = one_hot(Z, 10)\n",
    "VZ = one_hot(VZ, 10)\n",
    "TZ = one_hot(TZ, 10)\n",
    "\n",
    "image_dims = 28, 28\n",
    "\n",
    "X, Z, VX, VZ, TX, TZ = [cast_array_to_local_type(i) for i in (X, Z, VX,VZ, TX, TZ)]\n",
    "map(np.shape, [X, Z, VX, VZ, TX, TZ])"
   ]
  },
  {
   "cell_type": "markdown",
   "metadata": {},
   "source": [
    "# Model"
   ]
  },
  {
   "cell_type": "markdown",
   "metadata": {},
   "source": [
    "## data modelling"
   ]
  },
  {
   "cell_type": "raw",
   "metadata": {},
   "source": [
    "# for continous supervised data:\n",
    "predictor = dm.Mlp(output_size=10, output_transfer=\"softmax\", hidden_sizes=[200]*2, hidden_transfers=[\"rectifier\"]*2)\n",
    "post.flatten_parameters(predictor)\n",
    "\n",
    "target_distribution = pm.DiagGaussianNoise(predictor)\n",
    "\n",
    "targets = Merge(target_distribution, inputs=predictor['inputs'], to_be_randomized=predictor['parameters_flat'])\n",
    "targets"
   ]
  },
  {
   "cell_type": "code",
   "execution_count": 11,
   "metadata": {
    "collapsed": false
   },
   "outputs": [
    {
     "data": {
      "text/plain": [
       "Mlp { 'inputs': [X],\n",
       "  'outputs': AffineNonlinear2.outputs,\n",
       "  'parameters': [weights, bias, weights2, bias2]}"
      ]
     },
     "execution_count": 11,
     "metadata": {},
     "output_type": "execute_result"
    }
   ],
   "source": [
    "input = as_tensor_variable(X[0], name=\"X\")  # this is extremely useful to tell everything the default sizes\n",
    "predictor = dm.Mlp(input=input, output_size=10, output_transfer=\"softmax\", hidden_sizes=[300]*1, hidden_transfers=[\"rectifier\"]*1)\n",
    "# post.flatten_parameters(predictor)\n",
    "predictor"
   ]
  },
  {
   "cell_type": "code",
   "execution_count": 12,
   "metadata": {
    "collapsed": false
   },
   "outputs": [
    {
     "data": {
      "text/plain": [
       "Categorical { 'inputs': [],\n",
       "  'logP': <FunctionWrapper at 0x7f11f3aeb210 for function at 0x7f11f39c9758>,\n",
       "  'outputs': Categorical.outputs,\n",
       "  'parameters_pvalues': [AffineNonlinear2.outputs]}"
      ]
     },
     "execution_count": 12,
     "metadata": {},
     "output_type": "execute_result"
    }
   ],
   "source": [
    "target_distribution = pm.Categorical(predictor)\n",
    "target_distribution"
   ]
  },
  {
   "cell_type": "code",
   "execution_count": 13,
   "metadata": {
    "collapsed": false
   },
   "outputs": [
    {
     "data": {
      "text/plain": [
       "Merge { 'inputs': [X],\n",
       "  'logP': <FunctionWrapper at 0x7f11f3aeb210 for function at 0x7f11f39c9758>,\n",
       "  'outputs': Categorical.outputs,\n",
       "  'parameters': [],\n",
       "  'parameters_pvalues': [],\n",
       "  'to_be_randomized': \"weights:bias:weights2:bias2\"}"
      ]
     },
     "execution_count": 13,
     "metadata": {},
     "output_type": "execute_result"
    }
   ],
   "source": [
    "targets = Merge(target_distribution, predictor,\n",
    "                Flatten(predictor['parameters'], flat_key=\"to_be_randomized\")) #givens={predictor['inputs'][0]: X[0]}\n",
    "targets"
   ]
  },
  {
   "cell_type": "markdown",
   "metadata": {},
   "source": [
    "## parameter modelling"
   ]
  },
  {
   "cell_type": "code",
   "execution_count": 14,
   "metadata": {
    "collapsed": false
   },
   "outputs": [
    {
     "name": "stdout",
     "output_type": "stream",
     "text": [
      "<schlichtanders.myobjects.NestedNamespace object at 0x7f11f3e3bd90>\n"
     ]
    },
    {
     "data": {
      "text/plain": [
       "DiagGauss { 'inputs': [],\n",
       "  'logP': <FunctionWrapper at 0x7f11dcd240c0 for function at 0x7f11dcfa2758>,\n",
       "  'noise': [DiagGaussianNoise.noise.0],\n",
       "  'outputs': DiagGaussianNoise.outputs,\n",
       "  'parameters': [mean],\n",
       "  'parameters_positive': [var]}"
      ]
     },
     "execution_count": 14,
     "metadata": {},
     "output_type": "execute_result"
    }
   ],
   "source": [
    "params_base = pm.DiagGauss(output_size=total_size(targets['to_be_randomized']))  \n",
    "# if you want to use size directly, CAUTION, you need to copy before!\n",
    "# params_base.map('parameters_positive', reparameterize_map(squareplus, squareplus_inv), 'parameters')\n",
    "params_base"
   ]
  },
  {
   "cell_type": "code",
   "execution_count": 15,
   "metadata": {
    "collapsed": false
   },
   "outputs": [
    {
     "data": {
      "text/plain": [
       "[PlanarTransform { 'inputs': [z],\n",
       "   'norm_det': PlanarTransform.norm_det,\n",
       "   'outputs': PlanarTransform.outputs,\n",
       "   'parameters': [b, w, _u]}, PlanarTransform2 { 'inputs': [z2],\n",
       "   'norm_det': PlanarTransform2.norm_det,\n",
       "   'outputs': PlanarTransform2.outputs,\n",
       "   'parameters': [b2, w2, _u2]}]"
      ]
     },
     "execution_count": 15,
     "metadata": {},
     "output_type": "execute_result"
    }
   ],
   "source": [
    "normflows = [dm.PlanarTransform() for _ in range(2)]\n",
    "normflows"
   ]
  },
  {
   "cell_type": "code",
   "execution_count": 16,
   "metadata": {
    "collapsed": false
   },
   "outputs": [
    {
     "data": {
      "text/plain": [
       "normalized_flow2 { 'inputs': [],\n",
       "  'logP': <FunctionWrapper at 0x7f11dccf6210 for function at 0x7f11dcd1c230>,\n",
       "  'noise': [DiagGaussianNoise.noise.0],\n",
       "  'norm_det': PlanarTransform2.norm_det,\n",
       "  'outputs': PlanarTransform2.outputs,\n",
       "  'parameters': [b2, w2, _u2, b, w, _u, mean],\n",
       "  'parameters_positive': [var]}"
      ]
     },
     "execution_count": 16,
     "metadata": {},
     "output_type": "execute_result"
    }
   ],
   "source": [
    "params = params_base\n",
    "for transform in normflows:\n",
    "    params = normalizing_flow(transform, params)  # returns transform, however with adapted logP    \n",
    "\n",
    "params"
   ]
  },
  {
   "cell_type": "markdown",
   "metadata": {},
   "source": [
    "## bayes"
   ]
  },
  {
   "cell_type": "code",
   "execution_count": 17,
   "metadata": {
    "collapsed": false
   },
   "outputs": [
    {
     "name": "stdout",
     "output_type": "stream",
     "text": [
      "<schlichtanders.myobjects.NestedNamespace object at 0x7f11f3e3bd90>\n"
     ]
    },
    {
     "data": {
      "text/plain": [
       "Merge2 { 'hyperparameters_positive': [var2],\n",
       "  'inputs': [],\n",
       "  'logP': <FunctionWrapper at 0x7f11dccf6280 for function at 0x7f11dcca99b0>,\n",
       "  'noise': [GaussianNoise.noise.0],\n",
       "  'outputs': GaussianNoise.outputs,\n",
       "  'parameters': []}"
      ]
     },
     "execution_count": 17,
     "metadata": {},
     "output_type": "execute_result"
    }
   ],
   "source": [
    "prior = pm.Gauss(total_size(targets['to_be_randomized']))\n",
    "prior = Merge(prior, parameters=None, parameters_positive='hyperparameters_positive')  # mean is not adapted at all, but left centred at zero\n",
    "prior"
   ]
  },
  {
   "cell_type": "code",
   "execution_count": 18,
   "metadata": {
    "collapsed": false
   },
   "outputs": [
    {
     "data": {
      "text/plain": [
       "variational_lower_bound { 'hyperparameters_positive': [var2],\n",
       "  'inputs': [X],\n",
       "  'kl_prior': kl_prior,\n",
       "  'logP': <FunctionWrapper at 0x7f11dccf6de0 for function at 0x7f11dccd4c08>,\n",
       "  'loglikelihood': <FunctionWrapper at 0x7f11f3aeb210 for function at 0x7f11f39c9758>,\n",
       "  'n_data': n_data,\n",
       "  'noise': [DiagGaussianNoise.noise.0, GaussianNoise.noise.0],\n",
       "  'norm_det': PlanarTransform2.norm_det,\n",
       "  'outputs': Categorical.outputs,\n",
       "  'parameters': [b2, w2, _u2, b, w, _u, mean],\n",
       "  'parameters_positive': [var],\n",
       "  'parameters_pvalues': []}"
      ]
     },
     "execution_count": 18,
     "metadata": {},
     "output_type": "execute_result"
    }
   ],
   "source": [
    "model = variational_bayes(targets, 'to_be_randomized', params, priors=prior)\n",
    "model"
   ]
  },
  {
   "cell_type": "code",
   "execution_count": 19,
   "metadata": {
    "collapsed": false
   },
   "outputs": [
    {
     "data": {
      "text/plain": [
       "Merge3 { 'hyperparameters_positive': [var2],\n",
       "  'inputs': [X],\n",
       "  'kl_prior': kl_prior,\n",
       "  'logP': <FunctionWrapper at 0x7f11dccf6de0 for function at 0x7f11dccd4c08>,\n",
       "  'loglikelihood': <FunctionWrapper at 0x7f11f3aeb210 for function at 0x7f11f39c9758>,\n",
       "  'n_data': n_data,\n",
       "  'noise': [DiagGaussianNoise.noise.0, GaussianNoise.noise.0],\n",
       "  'norm_det': PlanarTransform2.norm_det,\n",
       "  'outputs': Categorical.outputs,\n",
       "  'parameters': [b2, w2, _u2, b, w, _u, mean, var_squareplus],\n",
       "  'parameters_positive': [],\n",
       "  'parameters_pvalues': []}"
      ]
     },
     "execution_count": 19,
     "metadata": {},
     "output_type": "execute_result"
    }
   ],
   "source": [
    "model = Merge(model, Reparameterize(model['parameters_positive'], squareplus, squareplus_inv))\n",
    "model"
   ]
  },
  {
   "cell_type": "code",
   "execution_count": 20,
   "metadata": {
    "collapsed": false
   },
   "outputs": [
    {
     "data": {
      "text/plain": [
       "Merge4 { 'flat': \"b2:w2:_u2:b:w:_u:mean:var_squareplus\",\n",
       "  'hyperparameters_positive': [var2],\n",
       "  'inputs': [X],\n",
       "  'kl_prior': kl_prior,\n",
       "  'logP': <FunctionWrapper at 0x7f11dccf6de0 for function at 0x7f11dccd4c08>,\n",
       "  'loglikelihood': <FunctionWrapper at 0x7f11f3aeb210 for function at 0x7f11f39c9758>,\n",
       "  'n_data': n_data,\n",
       "  'noise': [DiagGaussianNoise.noise.0, GaussianNoise.noise.0],\n",
       "  'norm_det': PlanarTransform2.norm_det,\n",
       "  'outputs': Categorical.outputs,\n",
       "  'parameters': [],\n",
       "  'parameters_positive': [],\n",
       "  'parameters_pvalues': []}"
      ]
     },
     "execution_count": 20,
     "metadata": {},
     "output_type": "execute_result"
    }
   ],
   "source": [
    "model = Merge(model, Flatten(model['parameters']))\n",
    "#               em.NoisePool(model['noise']) #, givens={predictor['inputs'][0]: X[0]}\n",
    "model"
   ]
  },
  {
   "cell_type": "markdown",
   "metadata": {},
   "source": [
    "# Optimizer"
   ]
  },
  {
   "cell_type": "raw",
   "metadata": {
    "collapsed": false
   },
   "source": [
    "InvertibleModel.INVERTIBLE_MODELS"
   ]
  },
  {
   "cell_type": "code",
   "execution_count": 21,
   "metadata": {
    "collapsed": true
   },
   "outputs": [],
   "source": [
    "InvertibleModel.reduce_all_identities()"
   ]
  },
  {
   "cell_type": "raw",
   "metadata": {
    "collapsed": false
   },
   "source": [
    "InvertibleModel.INVERTIBLE_MODELS"
   ]
  },
  {
   "cell_type": "code",
   "execution_count": 22,
   "metadata": {
    "collapsed": false
   },
   "outputs": [
    {
     "data": {
      "text/plain": [
       "{'f': <function theano_models.postmaps.f>,\n",
       " 'fprime': <function theano_models.postmaps.f>,\n",
       " 'wrt': array([-0.00218234,  1.0112596 ,  0.99723244, ...,  1.00749209,\n",
       "         0.99668477,  1.00182873])}"
      ]
     },
     "execution_count": 22,
     "metadata": {},
     "output_type": "execute_result"
    }
   ],
   "source": [
    "postmap = compose(post.flat_numericalize_postmap, post.variational_postmap)\n",
    "postmap_kwargs = {\n",
    "    'mapreduce': meanmap,\n",
    "    'adapt_init_params': lambda ps: ps + np.random.normal(size=ps.size) * 0.01,\n",
    "#     'profile': True,\n",
    "    'mode': 'FAST_RUN'\n",
    "}\n",
    "optimizer_kwargs = postmap(model, **postmap_kwargs)\n",
    "climin_kwargs = post.climin_postmap(optimizer_kwargs)\n",
    "climin_kwargs"
   ]
  },
  {
   "cell_type": "markdown",
   "metadata": {},
   "source": [
    "Climin wants an iterator of (args, kwarsg) as keyword argument \"args\" (to be passed to the loss function). Concretley, we use an infinite iterator over minibatches."
   ]
  },
  {
   "cell_type": "markdown",
   "metadata": {},
   "source": [
    "TODO write chunk with O(M) M=number of minibatches\n",
    "the current implementation is O(N) N=number of samples, because of use of generators instead of list slicing\n",
    "\n",
    "try to use ``chunk_gen``"
   ]
  },
  {
   "cell_type": "code",
   "execution_count": 23,
   "metadata": {
    "collapsed": true
   },
   "outputs": [],
   "source": [
    "batch_size = 200"
   ]
  },
  {
   "cell_type": "code",
   "execution_count": 24,
   "metadata": {
    "collapsed": false
   },
   "outputs": [],
   "source": [
    "climin_args = izip(izip(chunk(batch_size, cycle(Z)), chunk(batch_size, cycle(X))), repeat({}))\n",
    "# climin_args = repeat(((Z[:10],X[:10]),{}))"
   ]
  },
  {
   "cell_type": "code",
   "execution_count": 25,
   "metadata": {
    "collapsed": false
   },
   "outputs": [
    {
     "name": "stderr",
     "output_type": "stream",
     "text": [
      "/home/stephan/GitProjects/breze/src/climin/climin/util.py:151: UserWarning: Argument named f is not expected by <class 'climin.adadelta.Adadelta'>\n",
      "  % (i, klass))\n"
     ]
    }
   ],
   "source": [
    "opt = optimizer(\n",
    "    identifier=\"adadelta\",\n",
    "    args=climin_args,\n",
    "    **climin_kwargs\n",
    ")"
   ]
  },
  {
   "cell_type": "markdown",
   "metadata": {},
   "source": [
    "# Visualized Fit"
   ]
  },
  {
   "cell_type": "code",
   "execution_count": 27,
   "metadata": {
    "collapsed": false
   },
   "outputs": [
    {
     "data": {
      "application/javascript": [
       "/* Put everything inside the global mpl namespace */\n",
       "window.mpl = {};\n",
       "\n",
       "mpl.get_websocket_type = function() {\n",
       "    if (typeof(WebSocket) !== 'undefined') {\n",
       "        return WebSocket;\n",
       "    } else if (typeof(MozWebSocket) !== 'undefined') {\n",
       "        return MozWebSocket;\n",
       "    } else {\n",
       "        alert('Your browser does not have WebSocket support.' +\n",
       "              'Please try Chrome, Safari or Firefox ≥ 6. ' +\n",
       "              'Firefox 4 and 5 are also supported but you ' +\n",
       "              'have to enable WebSockets in about:config.');\n",
       "    };\n",
       "}\n",
       "\n",
       "mpl.figure = function(figure_id, websocket, ondownload, parent_element) {\n",
       "    this.id = figure_id;\n",
       "\n",
       "    this.ws = websocket;\n",
       "\n",
       "    this.supports_binary = (this.ws.binaryType != undefined);\n",
       "\n",
       "    if (!this.supports_binary) {\n",
       "        var warnings = document.getElementById(\"mpl-warnings\");\n",
       "        if (warnings) {\n",
       "            warnings.style.display = 'block';\n",
       "            warnings.textContent = (\n",
       "                \"This browser does not support binary websocket messages. \" +\n",
       "                    \"Performance may be slow.\");\n",
       "        }\n",
       "    }\n",
       "\n",
       "    this.imageObj = new Image();\n",
       "\n",
       "    this.context = undefined;\n",
       "    this.message = undefined;\n",
       "    this.canvas = undefined;\n",
       "    this.rubberband_canvas = undefined;\n",
       "    this.rubberband_context = undefined;\n",
       "    this.format_dropdown = undefined;\n",
       "\n",
       "    this.image_mode = 'full';\n",
       "\n",
       "    this.root = $('<div/>');\n",
       "    this._root_extra_style(this.root)\n",
       "    this.root.attr('style', 'display: inline-block');\n",
       "\n",
       "    $(parent_element).append(this.root);\n",
       "\n",
       "    this._init_header(this);\n",
       "    this._init_canvas(this);\n",
       "    this._init_toolbar(this);\n",
       "\n",
       "    var fig = this;\n",
       "\n",
       "    this.waiting = false;\n",
       "\n",
       "    this.ws.onopen =  function () {\n",
       "            fig.send_message(\"supports_binary\", {value: fig.supports_binary});\n",
       "            fig.send_message(\"send_image_mode\", {});\n",
       "            fig.send_message(\"refresh\", {});\n",
       "        }\n",
       "\n",
       "    this.imageObj.onload = function() {\n",
       "            if (fig.image_mode == 'full') {\n",
       "                // Full images could contain transparency (where diff images\n",
       "                // almost always do), so we need to clear the canvas so that\n",
       "                // there is no ghosting.\n",
       "                fig.context.clearRect(0, 0, fig.canvas.width, fig.canvas.height);\n",
       "            }\n",
       "            fig.context.drawImage(fig.imageObj, 0, 0);\n",
       "        };\n",
       "\n",
       "    this.imageObj.onunload = function() {\n",
       "        this.ws.close();\n",
       "    }\n",
       "\n",
       "    this.ws.onmessage = this._make_on_message_function(this);\n",
       "\n",
       "    this.ondownload = ondownload;\n",
       "}\n",
       "\n",
       "mpl.figure.prototype._init_header = function() {\n",
       "    var titlebar = $(\n",
       "        '<div class=\"ui-dialog-titlebar ui-widget-header ui-corner-all ' +\n",
       "        'ui-helper-clearfix\"/>');\n",
       "    var titletext = $(\n",
       "        '<div class=\"ui-dialog-title\" style=\"width: 100%; ' +\n",
       "        'text-align: center; padding: 3px;\"/>');\n",
       "    titlebar.append(titletext)\n",
       "    this.root.append(titlebar);\n",
       "    this.header = titletext[0];\n",
       "}\n",
       "\n",
       "\n",
       "\n",
       "mpl.figure.prototype._canvas_extra_style = function(canvas_div) {\n",
       "\n",
       "}\n",
       "\n",
       "\n",
       "mpl.figure.prototype._root_extra_style = function(canvas_div) {\n",
       "\n",
       "}\n",
       "\n",
       "mpl.figure.prototype._init_canvas = function() {\n",
       "    var fig = this;\n",
       "\n",
       "    var canvas_div = $('<div/>');\n",
       "\n",
       "    canvas_div.attr('style', 'position: relative; clear: both; outline: 0');\n",
       "\n",
       "    function canvas_keyboard_event(event) {\n",
       "        return fig.key_event(event, event['data']);\n",
       "    }\n",
       "\n",
       "    canvas_div.keydown('key_press', canvas_keyboard_event);\n",
       "    canvas_div.keyup('key_release', canvas_keyboard_event);\n",
       "    this.canvas_div = canvas_div\n",
       "    this._canvas_extra_style(canvas_div)\n",
       "    this.root.append(canvas_div);\n",
       "\n",
       "    var canvas = $('<canvas/>');\n",
       "    canvas.addClass('mpl-canvas');\n",
       "    canvas.attr('style', \"left: 0; top: 0; z-index: 0; outline: 0\")\n",
       "\n",
       "    this.canvas = canvas[0];\n",
       "    this.context = canvas[0].getContext(\"2d\");\n",
       "\n",
       "    var rubberband = $('<canvas/>');\n",
       "    rubberband.attr('style', \"position: absolute; left: 0; top: 0; z-index: 1;\")\n",
       "\n",
       "    var pass_mouse_events = true;\n",
       "\n",
       "    canvas_div.resizable({\n",
       "        start: function(event, ui) {\n",
       "            pass_mouse_events = false;\n",
       "        },\n",
       "        resize: function(event, ui) {\n",
       "            fig.request_resize(ui.size.width, ui.size.height);\n",
       "        },\n",
       "        stop: function(event, ui) {\n",
       "            pass_mouse_events = true;\n",
       "            fig.request_resize(ui.size.width, ui.size.height);\n",
       "        },\n",
       "    });\n",
       "\n",
       "    function mouse_event_fn(event) {\n",
       "        if (pass_mouse_events)\n",
       "            return fig.mouse_event(event, event['data']);\n",
       "    }\n",
       "\n",
       "    rubberband.mousedown('button_press', mouse_event_fn);\n",
       "    rubberband.mouseup('button_release', mouse_event_fn);\n",
       "    // Throttle sequential mouse events to 1 every 20ms.\n",
       "    rubberband.mousemove('motion_notify', mouse_event_fn);\n",
       "\n",
       "    rubberband.mouseenter('figure_enter', mouse_event_fn);\n",
       "    rubberband.mouseleave('figure_leave', mouse_event_fn);\n",
       "\n",
       "    canvas_div.on(\"wheel\", function (event) {\n",
       "        event = event.originalEvent;\n",
       "        event['data'] = 'scroll'\n",
       "        if (event.deltaY < 0) {\n",
       "            event.step = 1;\n",
       "        } else {\n",
       "            event.step = -1;\n",
       "        }\n",
       "        mouse_event_fn(event);\n",
       "    });\n",
       "\n",
       "    canvas_div.append(canvas);\n",
       "    canvas_div.append(rubberband);\n",
       "\n",
       "    this.rubberband = rubberband;\n",
       "    this.rubberband_canvas = rubberband[0];\n",
       "    this.rubberband_context = rubberband[0].getContext(\"2d\");\n",
       "    this.rubberband_context.strokeStyle = \"#000000\";\n",
       "\n",
       "    this._resize_canvas = function(width, height) {\n",
       "        // Keep the size of the canvas, canvas container, and rubber band\n",
       "        // canvas in synch.\n",
       "        canvas_div.css('width', width)\n",
       "        canvas_div.css('height', height)\n",
       "\n",
       "        canvas.attr('width', width);\n",
       "        canvas.attr('height', height);\n",
       "\n",
       "        rubberband.attr('width', width);\n",
       "        rubberband.attr('height', height);\n",
       "    }\n",
       "\n",
       "    // Set the figure to an initial 600x600px, this will subsequently be updated\n",
       "    // upon first draw.\n",
       "    this._resize_canvas(600, 600);\n",
       "\n",
       "    // Disable right mouse context menu.\n",
       "    $(this.rubberband_canvas).bind(\"contextmenu\",function(e){\n",
       "        return false;\n",
       "    });\n",
       "\n",
       "    function set_focus () {\n",
       "        canvas.focus();\n",
       "        canvas_div.focus();\n",
       "    }\n",
       "\n",
       "    window.setTimeout(set_focus, 100);\n",
       "}\n",
       "\n",
       "mpl.figure.prototype._init_toolbar = function() {\n",
       "    var fig = this;\n",
       "\n",
       "    var nav_element = $('<div/>')\n",
       "    nav_element.attr('style', 'width: 100%');\n",
       "    this.root.append(nav_element);\n",
       "\n",
       "    // Define a callback function for later on.\n",
       "    function toolbar_event(event) {\n",
       "        return fig.toolbar_button_onclick(event['data']);\n",
       "    }\n",
       "    function toolbar_mouse_event(event) {\n",
       "        return fig.toolbar_button_onmouseover(event['data']);\n",
       "    }\n",
       "\n",
       "    for(var toolbar_ind in mpl.toolbar_items) {\n",
       "        var name = mpl.toolbar_items[toolbar_ind][0];\n",
       "        var tooltip = mpl.toolbar_items[toolbar_ind][1];\n",
       "        var image = mpl.toolbar_items[toolbar_ind][2];\n",
       "        var method_name = mpl.toolbar_items[toolbar_ind][3];\n",
       "\n",
       "        if (!name) {\n",
       "            // put a spacer in here.\n",
       "            continue;\n",
       "        }\n",
       "        var button = $('<button/>');\n",
       "        button.addClass('ui-button ui-widget ui-state-default ui-corner-all ' +\n",
       "                        'ui-button-icon-only');\n",
       "        button.attr('role', 'button');\n",
       "        button.attr('aria-disabled', 'false');\n",
       "        button.click(method_name, toolbar_event);\n",
       "        button.mouseover(tooltip, toolbar_mouse_event);\n",
       "\n",
       "        var icon_img = $('<span/>');\n",
       "        icon_img.addClass('ui-button-icon-primary ui-icon');\n",
       "        icon_img.addClass(image);\n",
       "        icon_img.addClass('ui-corner-all');\n",
       "\n",
       "        var tooltip_span = $('<span/>');\n",
       "        tooltip_span.addClass('ui-button-text');\n",
       "        tooltip_span.html(tooltip);\n",
       "\n",
       "        button.append(icon_img);\n",
       "        button.append(tooltip_span);\n",
       "\n",
       "        nav_element.append(button);\n",
       "    }\n",
       "\n",
       "    var fmt_picker_span = $('<span/>');\n",
       "\n",
       "    var fmt_picker = $('<select/>');\n",
       "    fmt_picker.addClass('mpl-toolbar-option ui-widget ui-widget-content');\n",
       "    fmt_picker_span.append(fmt_picker);\n",
       "    nav_element.append(fmt_picker_span);\n",
       "    this.format_dropdown = fmt_picker[0];\n",
       "\n",
       "    for (var ind in mpl.extensions) {\n",
       "        var fmt = mpl.extensions[ind];\n",
       "        var option = $(\n",
       "            '<option/>', {selected: fmt === mpl.default_extension}).html(fmt);\n",
       "        fmt_picker.append(option)\n",
       "    }\n",
       "\n",
       "    // Add hover states to the ui-buttons\n",
       "    $( \".ui-button\" ).hover(\n",
       "        function() { $(this).addClass(\"ui-state-hover\");},\n",
       "        function() { $(this).removeClass(\"ui-state-hover\");}\n",
       "    );\n",
       "\n",
       "    var status_bar = $('<span class=\"mpl-message\"/>');\n",
       "    nav_element.append(status_bar);\n",
       "    this.message = status_bar[0];\n",
       "}\n",
       "\n",
       "mpl.figure.prototype.request_resize = function(x_pixels, y_pixels) {\n",
       "    // Request matplotlib to resize the figure. Matplotlib will then trigger a resize in the client,\n",
       "    // which will in turn request a refresh of the image.\n",
       "    this.send_message('resize', {'width': x_pixels, 'height': y_pixels});\n",
       "}\n",
       "\n",
       "mpl.figure.prototype.send_message = function(type, properties) {\n",
       "    properties['type'] = type;\n",
       "    properties['figure_id'] = this.id;\n",
       "    this.ws.send(JSON.stringify(properties));\n",
       "}\n",
       "\n",
       "mpl.figure.prototype.send_draw_message = function() {\n",
       "    if (!this.waiting) {\n",
       "        this.waiting = true;\n",
       "        this.ws.send(JSON.stringify({type: \"draw\", figure_id: this.id}));\n",
       "    }\n",
       "}\n",
       "\n",
       "\n",
       "mpl.figure.prototype.handle_save = function(fig, msg) {\n",
       "    var format_dropdown = fig.format_dropdown;\n",
       "    var format = format_dropdown.options[format_dropdown.selectedIndex].value;\n",
       "    fig.ondownload(fig, format);\n",
       "}\n",
       "\n",
       "\n",
       "mpl.figure.prototype.handle_resize = function(fig, msg) {\n",
       "    var size = msg['size'];\n",
       "    if (size[0] != fig.canvas.width || size[1] != fig.canvas.height) {\n",
       "        fig._resize_canvas(size[0], size[1]);\n",
       "        fig.send_message(\"refresh\", {});\n",
       "    };\n",
       "}\n",
       "\n",
       "mpl.figure.prototype.handle_rubberband = function(fig, msg) {\n",
       "    var x0 = msg['x0'];\n",
       "    var y0 = fig.canvas.height - msg['y0'];\n",
       "    var x1 = msg['x1'];\n",
       "    var y1 = fig.canvas.height - msg['y1'];\n",
       "    x0 = Math.floor(x0) + 0.5;\n",
       "    y0 = Math.floor(y0) + 0.5;\n",
       "    x1 = Math.floor(x1) + 0.5;\n",
       "    y1 = Math.floor(y1) + 0.5;\n",
       "    var min_x = Math.min(x0, x1);\n",
       "    var min_y = Math.min(y0, y1);\n",
       "    var width = Math.abs(x1 - x0);\n",
       "    var height = Math.abs(y1 - y0);\n",
       "\n",
       "    fig.rubberband_context.clearRect(\n",
       "        0, 0, fig.canvas.width, fig.canvas.height);\n",
       "\n",
       "    fig.rubberband_context.strokeRect(min_x, min_y, width, height);\n",
       "}\n",
       "\n",
       "mpl.figure.prototype.handle_figure_label = function(fig, msg) {\n",
       "    // Updates the figure title.\n",
       "    fig.header.textContent = msg['label'];\n",
       "}\n",
       "\n",
       "mpl.figure.prototype.handle_cursor = function(fig, msg) {\n",
       "    var cursor = msg['cursor'];\n",
       "    switch(cursor)\n",
       "    {\n",
       "    case 0:\n",
       "        cursor = 'pointer';\n",
       "        break;\n",
       "    case 1:\n",
       "        cursor = 'default';\n",
       "        break;\n",
       "    case 2:\n",
       "        cursor = 'crosshair';\n",
       "        break;\n",
       "    case 3:\n",
       "        cursor = 'move';\n",
       "        break;\n",
       "    }\n",
       "    fig.rubberband_canvas.style.cursor = cursor;\n",
       "}\n",
       "\n",
       "mpl.figure.prototype.handle_message = function(fig, msg) {\n",
       "    fig.message.textContent = msg['message'];\n",
       "}\n",
       "\n",
       "mpl.figure.prototype.handle_draw = function(fig, msg) {\n",
       "    // Request the server to send over a new figure.\n",
       "    fig.send_draw_message();\n",
       "}\n",
       "\n",
       "mpl.figure.prototype.handle_image_mode = function(fig, msg) {\n",
       "    fig.image_mode = msg['mode'];\n",
       "}\n",
       "\n",
       "mpl.figure.prototype.updated_canvas_event = function() {\n",
       "    // Called whenever the canvas gets updated.\n",
       "    this.send_message(\"ack\", {});\n",
       "}\n",
       "\n",
       "// A function to construct a web socket function for onmessage handling.\n",
       "// Called in the figure constructor.\n",
       "mpl.figure.prototype._make_on_message_function = function(fig) {\n",
       "    return function socket_on_message(evt) {\n",
       "        if (evt.data instanceof Blob) {\n",
       "            /* FIXME: We get \"Resource interpreted as Image but\n",
       "             * transferred with MIME type text/plain:\" errors on\n",
       "             * Chrome.  But how to set the MIME type?  It doesn't seem\n",
       "             * to be part of the websocket stream */\n",
       "            evt.data.type = \"image/png\";\n",
       "\n",
       "            /* Free the memory for the previous frames */\n",
       "            if (fig.imageObj.src) {\n",
       "                (window.URL || window.webkitURL).revokeObjectURL(\n",
       "                    fig.imageObj.src);\n",
       "            }\n",
       "\n",
       "            fig.imageObj.src = (window.URL || window.webkitURL).createObjectURL(\n",
       "                evt.data);\n",
       "            fig.updated_canvas_event();\n",
       "            fig.waiting = false;\n",
       "            return;\n",
       "        }\n",
       "        else if (typeof evt.data === 'string' && evt.data.slice(0, 21) == \"data:image/png;base64\") {\n",
       "            fig.imageObj.src = evt.data;\n",
       "            fig.updated_canvas_event();\n",
       "            fig.waiting = false;\n",
       "            return;\n",
       "        }\n",
       "\n",
       "        var msg = JSON.parse(evt.data);\n",
       "        var msg_type = msg['type'];\n",
       "\n",
       "        // Call the  \"handle_{type}\" callback, which takes\n",
       "        // the figure and JSON message as its only arguments.\n",
       "        try {\n",
       "            var callback = fig[\"handle_\" + msg_type];\n",
       "        } catch (e) {\n",
       "            console.log(\"No handler for the '\" + msg_type + \"' message type: \", msg);\n",
       "            return;\n",
       "        }\n",
       "\n",
       "        if (callback) {\n",
       "            try {\n",
       "                // console.log(\"Handling '\" + msg_type + \"' message: \", msg);\n",
       "                callback(fig, msg);\n",
       "            } catch (e) {\n",
       "                console.log(\"Exception inside the 'handler_\" + msg_type + \"' callback:\", e, e.stack, msg);\n",
       "            }\n",
       "        }\n",
       "    };\n",
       "}\n",
       "\n",
       "// from http://stackoverflow.com/questions/1114465/getting-mouse-location-in-canvas\n",
       "mpl.findpos = function(e) {\n",
       "    //this section is from http://www.quirksmode.org/js/events_properties.html\n",
       "    var targ;\n",
       "    if (!e)\n",
       "        e = window.event;\n",
       "    if (e.target)\n",
       "        targ = e.target;\n",
       "    else if (e.srcElement)\n",
       "        targ = e.srcElement;\n",
       "    if (targ.nodeType == 3) // defeat Safari bug\n",
       "        targ = targ.parentNode;\n",
       "\n",
       "    // jQuery normalizes the pageX and pageY\n",
       "    // pageX,Y are the mouse positions relative to the document\n",
       "    // offset() returns the position of the element relative to the document\n",
       "    var x = e.pageX - $(targ).offset().left;\n",
       "    var y = e.pageY - $(targ).offset().top;\n",
       "\n",
       "    return {\"x\": x, \"y\": y};\n",
       "};\n",
       "\n",
       "/*\n",
       " * return a copy of an object with only non-object keys\n",
       " * we need this to avoid circular references\n",
       " * http://stackoverflow.com/a/24161582/3208463\n",
       " */\n",
       "function simpleKeys (original) {\n",
       "  return Object.keys(original).reduce(function (obj, key) {\n",
       "    if (typeof original[key] !== 'object')\n",
       "        obj[key] = original[key]\n",
       "    return obj;\n",
       "  }, {});\n",
       "}\n",
       "\n",
       "mpl.figure.prototype.mouse_event = function(event, name) {\n",
       "    var canvas_pos = mpl.findpos(event)\n",
       "\n",
       "    if (name === 'button_press')\n",
       "    {\n",
       "        this.canvas.focus();\n",
       "        this.canvas_div.focus();\n",
       "    }\n",
       "\n",
       "    var x = canvas_pos.x;\n",
       "    var y = canvas_pos.y;\n",
       "\n",
       "    this.send_message(name, {x: x, y: y, button: event.button,\n",
       "                             step: event.step,\n",
       "                             guiEvent: simpleKeys(event)});\n",
       "\n",
       "    /* This prevents the web browser from automatically changing to\n",
       "     * the text insertion cursor when the button is pressed.  We want\n",
       "     * to control all of the cursor setting manually through the\n",
       "     * 'cursor' event from matplotlib */\n",
       "    event.preventDefault();\n",
       "    return false;\n",
       "}\n",
       "\n",
       "mpl.figure.prototype._key_event_extra = function(event, name) {\n",
       "    // Handle any extra behaviour associated with a key event\n",
       "}\n",
       "\n",
       "mpl.figure.prototype.key_event = function(event, name) {\n",
       "\n",
       "    // Prevent repeat events\n",
       "    if (name == 'key_press')\n",
       "    {\n",
       "        if (event.which === this._key)\n",
       "            return;\n",
       "        else\n",
       "            this._key = event.which;\n",
       "    }\n",
       "    if (name == 'key_release')\n",
       "        this._key = null;\n",
       "\n",
       "    var value = '';\n",
       "    if (event.ctrlKey && event.which != 17)\n",
       "        value += \"ctrl+\";\n",
       "    if (event.altKey && event.which != 18)\n",
       "        value += \"alt+\";\n",
       "    if (event.shiftKey && event.which != 16)\n",
       "        value += \"shift+\";\n",
       "\n",
       "    value += 'k';\n",
       "    value += event.which.toString();\n",
       "\n",
       "    this._key_event_extra(event, name);\n",
       "\n",
       "    this.send_message(name, {key: value,\n",
       "                             guiEvent: simpleKeys(event)});\n",
       "    return false;\n",
       "}\n",
       "\n",
       "mpl.figure.prototype.toolbar_button_onclick = function(name) {\n",
       "    if (name == 'download') {\n",
       "        this.handle_save(this, null);\n",
       "    } else {\n",
       "        this.send_message(\"toolbar_button\", {name: name});\n",
       "    }\n",
       "};\n",
       "\n",
       "mpl.figure.prototype.toolbar_button_onmouseover = function(tooltip) {\n",
       "    this.message.textContent = tooltip;\n",
       "};\n",
       "mpl.toolbar_items = [[\"Home\", \"Reset original view\", \"fa fa-home icon-home\", \"home\"], [\"Back\", \"Back to  previous view\", \"fa fa-arrow-left icon-arrow-left\", \"back\"], [\"Forward\", \"Forward to next view\", \"fa fa-arrow-right icon-arrow-right\", \"forward\"], [\"\", \"\", \"\", \"\"], [\"Pan\", \"Pan axes with left mouse, zoom with right\", \"fa fa-arrows icon-move\", \"pan\"], [\"Zoom\", \"Zoom to rectangle\", \"fa fa-square-o icon-check-empty\", \"zoom\"], [\"\", \"\", \"\", \"\"], [\"Download\", \"Download plot\", \"fa fa-floppy-o icon-save\", \"download\"]];\n",
       "\n",
       "mpl.extensions = [\"eps\", \"jpeg\", \"pdf\", \"png\", \"ps\", \"raw\", \"svg\", \"tif\"];\n",
       "\n",
       "mpl.default_extension = \"png\";var comm_websocket_adapter = function(comm) {\n",
       "    // Create a \"websocket\"-like object which calls the given IPython comm\n",
       "    // object with the appropriate methods. Currently this is a non binary\n",
       "    // socket, so there is still some room for performance tuning.\n",
       "    var ws = {};\n",
       "\n",
       "    ws.close = function() {\n",
       "        comm.close()\n",
       "    };\n",
       "    ws.send = function(m) {\n",
       "        //console.log('sending', m);\n",
       "        comm.send(m);\n",
       "    };\n",
       "    // Register the callback with on_msg.\n",
       "    comm.on_msg(function(msg) {\n",
       "        //console.log('receiving', msg['content']['data'], msg);\n",
       "        // Pass the mpl event to the overriden (by mpl) onmessage function.\n",
       "        ws.onmessage(msg['content']['data'])\n",
       "    });\n",
       "    return ws;\n",
       "}\n",
       "\n",
       "mpl.mpl_figure_comm = function(comm, msg) {\n",
       "    // This is the function which gets called when the mpl process\n",
       "    // starts-up an IPython Comm through the \"matplotlib\" channel.\n",
       "\n",
       "    var id = msg.content.data.id;\n",
       "    // Get hold of the div created by the display call when the Comm\n",
       "    // socket was opened in Python.\n",
       "    var element = $(\"#\" + id);\n",
       "    var ws_proxy = comm_websocket_adapter(comm)\n",
       "\n",
       "    function ondownload(figure, format) {\n",
       "        window.open(figure.imageObj.src);\n",
       "    }\n",
       "\n",
       "    var fig = new mpl.figure(id, ws_proxy,\n",
       "                           ondownload,\n",
       "                           element.get(0));\n",
       "\n",
       "    // Call onopen now - mpl needs it, as it is assuming we've passed it a real\n",
       "    // web socket which is closed, not our websocket->open comm proxy.\n",
       "    ws_proxy.onopen();\n",
       "\n",
       "    fig.parent_element = element.get(0);\n",
       "    fig.cell_info = mpl.find_output_cell(\"<div id='\" + id + \"'></div>\");\n",
       "    if (!fig.cell_info) {\n",
       "        console.error(\"Failed to find cell for figure\", id, fig);\n",
       "        return;\n",
       "    }\n",
       "\n",
       "    var output_index = fig.cell_info[2]\n",
       "    var cell = fig.cell_info[0];\n",
       "\n",
       "};\n",
       "\n",
       "mpl.figure.prototype.handle_close = function(fig, msg) {\n",
       "    fig.root.unbind('remove')\n",
       "\n",
       "    // Update the output cell to use the data from the current canvas.\n",
       "    fig.push_to_output();\n",
       "    var dataURL = fig.canvas.toDataURL();\n",
       "    // Re-enable the keyboard manager in IPython - without this line, in FF,\n",
       "    // the notebook keyboard shortcuts fail.\n",
       "    IPython.keyboard_manager.enable()\n",
       "    $(fig.parent_element).html('<img src=\"' + dataURL + '\">');\n",
       "    fig.close_ws(fig, msg);\n",
       "}\n",
       "\n",
       "mpl.figure.prototype.close_ws = function(fig, msg){\n",
       "    fig.send_message('closing', msg);\n",
       "    // fig.ws.close()\n",
       "}\n",
       "\n",
       "mpl.figure.prototype.push_to_output = function(remove_interactive) {\n",
       "    // Turn the data on the canvas into data in the output cell.\n",
       "    var dataURL = this.canvas.toDataURL();\n",
       "    this.cell_info[1]['text/html'] = '<img src=\"' + dataURL + '\">';\n",
       "}\n",
       "\n",
       "mpl.figure.prototype.updated_canvas_event = function() {\n",
       "    // Tell IPython that the notebook contents must change.\n",
       "    IPython.notebook.set_dirty(true);\n",
       "    this.send_message(\"ack\", {});\n",
       "    var fig = this;\n",
       "    // Wait a second, then push the new image to the DOM so\n",
       "    // that it is saved nicely (might be nice to debounce this).\n",
       "    setTimeout(function () { fig.push_to_output() }, 1000);\n",
       "}\n",
       "\n",
       "mpl.figure.prototype._init_toolbar = function() {\n",
       "    var fig = this;\n",
       "\n",
       "    var nav_element = $('<div/>')\n",
       "    nav_element.attr('style', 'width: 100%');\n",
       "    this.root.append(nav_element);\n",
       "\n",
       "    // Define a callback function for later on.\n",
       "    function toolbar_event(event) {\n",
       "        return fig.toolbar_button_onclick(event['data']);\n",
       "    }\n",
       "    function toolbar_mouse_event(event) {\n",
       "        return fig.toolbar_button_onmouseover(event['data']);\n",
       "    }\n",
       "\n",
       "    for(var toolbar_ind in mpl.toolbar_items){\n",
       "        var name = mpl.toolbar_items[toolbar_ind][0];\n",
       "        var tooltip = mpl.toolbar_items[toolbar_ind][1];\n",
       "        var image = mpl.toolbar_items[toolbar_ind][2];\n",
       "        var method_name = mpl.toolbar_items[toolbar_ind][3];\n",
       "\n",
       "        if (!name) { continue; };\n",
       "\n",
       "        var button = $('<button class=\"btn btn-default\" href=\"#\" title=\"' + name + '\"><i class=\"fa ' + image + ' fa-lg\"></i></button>');\n",
       "        button.click(method_name, toolbar_event);\n",
       "        button.mouseover(tooltip, toolbar_mouse_event);\n",
       "        nav_element.append(button);\n",
       "    }\n",
       "\n",
       "    // Add the status bar.\n",
       "    var status_bar = $('<span class=\"mpl-message\" style=\"text-align:right; float: right;\"/>');\n",
       "    nav_element.append(status_bar);\n",
       "    this.message = status_bar[0];\n",
       "\n",
       "    // Add the close button to the window.\n",
       "    var buttongrp = $('<div class=\"btn-group inline pull-right\"></div>');\n",
       "    var button = $('<button class=\"btn btn-mini btn-primary\" href=\"#\" title=\"Stop Interaction\"><i class=\"fa fa-power-off icon-remove icon-large\"></i></button>');\n",
       "    button.click(function (evt) { fig.handle_close(fig, {}); } );\n",
       "    button.mouseover('Stop Interaction', toolbar_mouse_event);\n",
       "    buttongrp.append(button);\n",
       "    var titlebar = this.root.find($('.ui-dialog-titlebar'));\n",
       "    titlebar.prepend(buttongrp);\n",
       "}\n",
       "\n",
       "mpl.figure.prototype._root_extra_style = function(el){\n",
       "    var fig = this\n",
       "    el.on(\"remove\", function(){\n",
       "\tfig.close_ws(fig, {});\n",
       "    });\n",
       "}\n",
       "\n",
       "mpl.figure.prototype._canvas_extra_style = function(el){\n",
       "    // this is important to make the div 'focusable\n",
       "    el.attr('tabindex', 0)\n",
       "    // reach out to IPython and tell the keyboard manager to turn it's self\n",
       "    // off when our div gets focus\n",
       "\n",
       "    // location in version 3\n",
       "    if (IPython.notebook.keyboard_manager) {\n",
       "        IPython.notebook.keyboard_manager.register_events(el);\n",
       "    }\n",
       "    else {\n",
       "        // location in version 2\n",
       "        IPython.keyboard_manager.register_events(el);\n",
       "    }\n",
       "\n",
       "}\n",
       "\n",
       "mpl.figure.prototype._key_event_extra = function(event, name) {\n",
       "    var manager = IPython.notebook.keyboard_manager;\n",
       "    if (!manager)\n",
       "        manager = IPython.keyboard_manager;\n",
       "\n",
       "    // Check for shift+enter\n",
       "    if (event.shiftKey && event.which == 13) {\n",
       "        this.canvas_div.blur();\n",
       "        event.shiftKey = false;\n",
       "        // Send a \"J\" for go to next cell\n",
       "        event.which = 74;\n",
       "        event.keyCode = 74;\n",
       "        manager.command_mode();\n",
       "        manager.handle_keydown(event);\n",
       "    }\n",
       "}\n",
       "\n",
       "mpl.figure.prototype.handle_save = function(fig, msg) {\n",
       "    fig.ondownload(fig, null);\n",
       "}\n",
       "\n",
       "\n",
       "mpl.find_output_cell = function(html_output) {\n",
       "    // Return the cell and output element which can be found *uniquely* in the notebook.\n",
       "    // Note - this is a bit hacky, but it is done because the \"notebook_saving.Notebook\"\n",
       "    // IPython event is triggered only after the cells have been serialised, which for\n",
       "    // our purposes (turning an active figure into a static one), is too late.\n",
       "    var cells = IPython.notebook.get_cells();\n",
       "    var ncells = cells.length;\n",
       "    for (var i=0; i<ncells; i++) {\n",
       "        var cell = cells[i];\n",
       "        if (cell.cell_type === 'code'){\n",
       "            for (var j=0; j<cell.output_area.outputs.length; j++) {\n",
       "                var data = cell.output_area.outputs[j];\n",
       "                if (data.data) {\n",
       "                    // IPython >= 3 moved mimebundle to data attribute of output\n",
       "                    data = data.data;\n",
       "                }\n",
       "                if (data['text/html'] == html_output) {\n",
       "                    return [cell, data, j];\n",
       "                }\n",
       "            }\n",
       "        }\n",
       "    }\n",
       "}\n",
       "\n",
       "// Register the function which deals with the matplotlib target/channel.\n",
       "// The kernel may be null if the page has been refreshed.\n",
       "if (IPython.notebook.kernel != null) {\n",
       "    IPython.notebook.kernel.comm_manager.register_target('matplotlib', mpl.mpl_figure_comm);\n",
       "}\n"
      ],
      "text/plain": [
       "<IPython.core.display.Javascript object>"
      ]
     },
     "metadata": {},
     "output_type": "display_data"
    },
    {
     "data": {
      "text/html": [
       "<img src=\"data:image/png;base64,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\">"
      ],
      "text/plain": [
       "<IPython.core.display.HTML object>"
      ]
     },
     "metadata": {},
     "output_type": "display_data"
    },
    {
     "data": {
      "text/plain": [
       "<matplotlib.legend.Legend at 0x7f11b13189d0>"
      ]
     },
     "execution_count": 27,
     "metadata": {},
     "output_type": "execute_result"
    }
   ],
   "source": [
    "line_train, = plot([], [], 'go-', label=\"average training loss\")\n",
    "line_curr_val, = plot([],[], 'bo:', label=\"avrg current validation loss\")\n",
    "line_best_val, = plot([], [], 'ko-', label=\"avrg best validation loss\")\n",
    "# plt.ticklabel_format(style='sci', axis='y', scilimits=(0,0))\n",
    "yscale('log')\n",
    "gca().yaxis.set_minor_formatter(FormatStrFormatter(\"%.2g\"))\n",
    "ylabel(\"validation loss\")\n",
    "xlabel(\"#epoch\")\n",
    "legend(loc='lower left', fancybox=True, framealpha=0.5)"
   ]
  },
  {
   "cell_type": "code",
   "execution_count": null,
   "metadata": {
    "collapsed": true
   },
   "outputs": [],
   "source": [
    "best_val_loss = inf\n",
    "best_wrt = None"
   ]
  },
  {
   "cell_type": "code",
   "execution_count": null,
   "metadata": {
    "collapsed": false
   },
   "outputs": [
    {
     "name": "stdout",
     "output_type": "stream",
     "text": [
      "3973 314.924090812 303.492495472 297.676133154\n",
      "4223"
     ]
    }
   ],
   "source": [
    "val_size = 10 #batch_size  # for testing inbetween how the performance goes\n",
    "\n",
    "n_batches = X.shape[0] // batch_size  # after this many steps we went through the whole data set once\n",
    "n_epochs = 600  # taken from UncertainWeightsPaper\n",
    "\n",
    "for info in takeN(n_epochs, every(n_batches, opt)):\n",
    "    # collect and visualize validation loss for choosing the best model\n",
    "    current_epoch = info['n_iter']//n_batches\n",
    "    val_loss = optimizer_kwargs['num_loss'](opt.wrt, VZ[:val_size], VX[:val_size]) #/val_size\n",
    "    if val_loss < best_val_loss:\n",
    "        best_wrt = opt.wrt\n",
    "        best_val_loss = val_loss\n",
    "        add_point(line_best_val, current_epoch, val_loss)\n",
    "    add_point(line_curr_val, current_epoch, val_loss)\n",
    "    \n",
    "    # visualize training loss for comparison:\n",
    "    try:\n",
    "        training_loss = info['loss'] #/ len(Z)  # TODO normalization needed?\n",
    "    except KeyError:\n",
    "        training_loss = optimizer_kwargs['num_loss'](opt.wrt, Z[:val_size], X[:val_size]) #/len(Z)\n",
    "    add_point(line_train, current_epoch, training_loss)\n",
    "    \n",
    "    print info['n_iter'], training_loss, val_loss, best_val_loss"
   ]
  },
  {
   "cell_type": "markdown",
   "metadata": {},
   "source": [
    "# Performance"
   ]
  },
  {
   "cell_type": "markdown",
   "metadata": {},
   "source": [
    "TODO: average over predictions"
   ]
  },
  {
   "cell_type": "code",
   "execution_count": null,
   "metadata": {
    "collapsed": false
   },
   "outputs": [],
   "source": [
    "print best_val_loss\n",
    "mlp['parameters_flat'] = best_wrt\n",
    "\n",
    "predict = mlp.function()\n",
    "predict(X[0]), Z[0]"
   ]
  },
  {
   "cell_type": "code",
   "execution_count": null,
   "metadata": {
    "collapsed": true
   },
   "outputs": [],
   "source": [
    "PX = np.apply_along_axis(predict, 1, X)\n",
    "PVX = np.apply_along_axis(predict, 1, VX)\n",
    "PTX = np.apply_along_axis(predict, 1, TX)"
   ]
  },
  {
   "cell_type": "code",
   "execution_count": null,
   "metadata": {
    "collapsed": false
   },
   "outputs": [],
   "source": [
    "print 'incorrect samples train/val/test:  %i/%i/%i' % (\n",
    "    (PX[:, :10].argmax(1) != Z.argmax(1)).sum(),\n",
    "    (PVX[:, :10].argmax(1) != VZ.argmax(1)).sum(),\n",
    "    (PTX[:, :10].argmax(1) != TZ.argmax(1)).sum())\n",
    "\n",
    "print 'error rate train/val/test:  %g/%g/%g' % (\n",
    "    (PX[:, :10].argmax(1) != Z.argmax(1)).mean(),\n",
    "    (PVX[:, :10].argmax(1) != VZ.argmax(1)).mean(),\n",
    "    (PTX[:, :10].argmax(1) != TZ.argmax(1)).mean())"
   ]
  }
 ],
 "metadata": {
  "kernelspec": {
   "display_name": "Python 2",
   "language": "python",
   "name": "python2"
  },
  "language_info": {
   "codemirror_mode": {
    "name": "ipython",
    "version": 2
   },
   "file_extension": ".py",
   "mimetype": "text/x-python",
   "name": "python",
   "nbconvert_exporter": "python",
   "pygments_lexer": "ipython2",
   "version": "2.7.6"
  },
  "toc": {
   "toc_cell": false,
   "toc_number_sections": true,
   "toc_threshold": 4,
   "toc_window_display": false
  }
 },
 "nbformat": 4,
 "nbformat_minor": 0
}
