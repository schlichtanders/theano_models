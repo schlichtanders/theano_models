{
 "cells": [
  {
   "cell_type": "code",
   "execution_count": 1,
   "metadata": {
    "collapsed": false,
    "scrolled": true
   },
   "outputs": [
    {
     "name": "stderr",
     "output_type": "stream",
     "text": [
      "/usr/local/lib/python2.7/dist-packages/matplotlib/font_manager.py:273: UserWarning: Matplotlib is building the font cache using fc-list. This may take a moment.\n",
      "  warnings.warn('Matplotlib is building the font cache using fc-list. This may take a moment.')\n"
     ]
    }
   ],
   "source": [
    "%matplotlib notebook\n",
    "from __future__ import division"
   ]
  },
  {
   "cell_type": "code",
   "execution_count": 2,
   "metadata": {
    "collapsed": false
   },
   "outputs": [
    {
     "name": "stdout",
     "output_type": "stream",
     "text": [
      "gnumpy: failed to import cudamat. Using npmat instead. No GPU will be used.\n"
     ]
    }
   ],
   "source": [
    "from matplotlib.pyplot import plot, ylabel, xlabel, yscale, xscale, legend, subplots, gca, gcf, subplots\n",
    "from matplotlib.ticker import FormatStrFormatter\n",
    "from theano import function\n",
    "import numpy as np\n",
    "import gzip\n",
    "import cPickle\n",
    "from scipy.optimize import minimize\n",
    "from climin.util import optimizer\n",
    "from itertools import repeat, cycle, islice, izip, imap, islice\n",
    "import random\n",
    "import time\n",
    "inf = float(\"inf\")"
   ]
  },
  {
   "cell_type": "code",
   "execution_count": 3,
   "metadata": {
    "collapsed": false
   },
   "outputs": [],
   "source": [
    "from breze.learn.data import one_hot\n",
    "from breze.learn.base import cast_array_to_local_type\n",
    "from schlichtanders.myfunctools import compose, meanmap, summap, compose_fmap, Average\n",
    "from schlichtanders import myfunctools\n",
    "from schlichtanders.mygenerators import eatN, chunk, chunk_list, every, takeN\n",
    "from schlichtanders.myplot import add_val, add_point"
   ]
  },
  {
   "cell_type": "code",
   "execution_count": 4,
   "metadata": {
    "collapsed": false
   },
   "outputs": [],
   "source": [
    "from theano_models import (Merge, Flatten, Reparameterize, reduce_all_identities,\n",
    "                           fix_params, inputting_references, outputting_references)\n",
    "from theano_models.tools import (as_tensor_variable, total_size, clone, clone_all,PooledRandomStreams,\n",
    "                                 get_profile, squareplus, squareplus_inv, softplus, softplus_inv)\n",
    "from theano_models.visualization import d3viz\n",
    "from IPython.display import IFrame\n",
    "import theano_models.deterministic_models as dm\n",
    "import theano_models.probabilistic_models as pm\n",
    "import theano_models.extra_models as em\n",
    "import theano_models.postmaps as post\n",
    "from theano_models.composing import normalizing_flow, variational_bayes"
   ]
  },
  {
   "cell_type": "code",
   "execution_count": 5,
   "metadata": {
    "collapsed": true
   },
   "outputs": [],
   "source": [
    "import theano\n",
    "import theano.tensor as T\n",
    "from theano.printing import debugprint\n",
    "from theano.tensor.shared_randomstreams import RandomStreams"
   ]
  },
  {
   "cell_type": "code",
   "execution_count": 6,
   "metadata": {
    "collapsed": false
   },
   "outputs": [],
   "source": [
    "from sqlalchemy import Column, Integer, Unicode, UnicodeText, String, PickleType, Float\n",
    "from sqlalchemy import create_engine\n",
    "from sqlalchemy.orm import sessionmaker\n",
    "from sqlalchemy.ext.declarative import declarative_base"
   ]
  },
  {
   "cell_type": "code",
   "execution_count": 7,
   "metadata": {
    "collapsed": false
   },
   "outputs": [],
   "source": [
    "import warnings\n",
    "warnings.filterwarnings(\"ignore\", category=DeprecationWarning)"
   ]
  },
  {
   "cell_type": "code",
   "execution_count": 8,
   "metadata": {
    "collapsed": false
   },
   "outputs": [
    {
     "data": {
      "text/plain": [
       "({'flat',\n",
       "  'inputs',\n",
       "  'n_data',\n",
       "  'noise',\n",
       "  'parameters',\n",
       "  'parameters_positive',\n",
       "  'parameters_psumto1',\n",
       "  'to_be_randomized'},\n",
       " {'kl_prior', 'logP', 'loglikelihood', 'norm_det', 'outputs'})"
      ]
     },
     "execution_count": 8,
     "metadata": {},
     "output_type": "execute_result"
    }
   ],
   "source": [
    "inputting_references.update(['to_be_randomized'])\n",
    "inputting_references, outputting_references"
   ]
  },
  {
   "cell_type": "markdown",
   "metadata": {},
   "source": [
    "# model"
   ]
  },
  {
   "cell_type": "code",
   "execution_count": 48,
   "metadata": {
    "collapsed": false
   },
   "outputs": [
    {
     "data": {
      "text/plain": [
       "Merge5 { 'inputs': [],\n",
       "  'logP': <FunctionWrapper at 0x7f95c6d16de0 for function at 0x7f95c77f1398>,\n",
       "  'noise': [GaussianNoise5.noise.0],\n",
       "  'outputs': GaussianNoise5.outputs,\n",
       "  'parameters': [mean5],\n",
       "  'parameters_positive': []}"
      ]
     },
     "execution_count": 48,
     "metadata": {},
     "output_type": "execute_result"
    }
   ],
   "source": [
    "data_model = pm.Gauss(2, init_var=np.exp(-7))\n",
    "data_model = Merge(data_model, parameters_positive=None)\n",
    "data_model"
   ]
  },
  {
   "cell_type": "code",
   "execution_count": 49,
   "metadata": {
    "collapsed": false
   },
   "outputs": [
    {
     "data": {
      "text/plain": [
       "normalized_flow3 { 'inputs': [],\n",
       "  'logP': <FunctionWrapper at 0x7f95c6d16e50 for function at 0x7f95c77adb90>,\n",
       "  'noise': [GaussianNoise6.noise.0],\n",
       "  'norm_det': PlanarTransform3.norm_det,\n",
       "  'outputs': PlanarTransform3.outputs,\n",
       "  'parameters': [b3, w, _u3],\n",
       "  'parameters_positive': [var6]}"
      ]
     },
     "execution_count": 49,
     "metadata": {},
     "output_type": "execute_result"
    }
   ],
   "source": [
    "param_model_base = pm.Gauss(2)\n",
    "param_model_base = Merge(param_model_base, parameters=None)\n",
    "param_model_normflows = [dm.PlanarTransform()]\n",
    "\n",
    "param_model = param_model_base\n",
    "for transform in param_model_normflows:\n",
    "    param_model = normalizing_flow(transform, param_model)  # returns Merge\n",
    "param_model"
   ]
  },
  {
   "cell_type": "code",
   "execution_count": 50,
   "metadata": {
    "collapsed": false
   },
   "outputs": [
    {
     "data": {
      "text/plain": [
       "Merge7 { 'inputs': [],\n",
       "  'logP': <FunctionWrapper at 0x7f95c6d16ec0 for function at 0x7f95fb02a488>,\n",
       "  'noise': [GaussianNoise7.noise.0],\n",
       "  'outputs': GaussianNoise7.outputs,\n",
       "  'parameters': [],\n",
       "  'parameters_positive': [var7]}"
      ]
     },
     "execution_count": 50,
     "metadata": {},
     "output_type": "execute_result"
    }
   ],
   "source": [
    "prior = pm.Gauss(2, init_var=np.exp(-3))\n",
    "# label hyper parameters accordingly\n",
    "prior = Merge(prior, parameters=None)\n",
    "prior"
   ]
  },
  {
   "cell_type": "code",
   "execution_count": 51,
   "metadata": {
    "collapsed": false
   },
   "outputs": [
    {
     "data": {
      "text/plain": [
       "variational_lower_bound2 { 'inputs': [],\n",
       "  'kl_prior': kl_prior,\n",
       "  'logP': <FunctionWrapper at 0x7f96041f3130 for function at 0x7f95fb02ac08>,\n",
       "  'loglikelihood': <FunctionWrapper at 0x7f95c6d16de0 for function at 0x7f95c77f1398>,\n",
       "  'n_data': n_data,\n",
       "  'noise': [ GaussianNoise5.noise.0,\n",
       "             GaussianNoise6.noise.0,\n",
       "             GaussianNoise7.noise.0],\n",
       "  'norm_det': PlanarTransform3.norm_det,\n",
       "  'outputs': GaussianNoise5.outputs,\n",
       "  'parameters': [b3, w, _u3],\n",
       "  'parameters_positive': [var6, var7]}"
      ]
     },
     "execution_count": 51,
     "metadata": {},
     "output_type": "execute_result"
    }
   ],
   "source": [
    "model = variational_bayes(data_model, 'parameters', param_model, priors=prior)\n",
    "model"
   ]
  },
  {
   "cell_type": "code",
   "execution_count": 52,
   "metadata": {
    "collapsed": false
   },
   "outputs": [
    {
     "data": {
      "text/plain": [
       "Merge9 { 'flat': \"b3:w:_u3:var6_softplus:var7_softplus\",\n",
       "  'inputs': [],\n",
       "  'kl_prior': kl_prior,\n",
       "  'logP': <FunctionWrapper at 0x7f96041f3130 for function at 0x7f95fb02ac08>,\n",
       "  'loglikelihood': <FunctionWrapper at 0x7f95c6d16de0 for function at 0x7f95c77f1398>,\n",
       "  'n_data': n_data,\n",
       "  'noise': [ GaussianNoise5.noise.0,\n",
       "             GaussianNoise6.noise.0,\n",
       "             GaussianNoise7.noise.0],\n",
       "  'norm_det': PlanarTransform3.norm_det,\n",
       "  'outputs': GaussianNoise5.outputs,\n",
       "  'parameters': [],\n",
       "  'parameters_positive': []}"
      ]
     },
     "execution_count": 52,
     "metadata": {},
     "output_type": "execute_result"
    }
   ],
   "source": [
    "# model = Merge(model, Reparameterize(model['parameters_positive'], squareplus, squareplus_inv))\n",
    "# UncertainWeights uses softplus parameterization\n",
    "model = Merge(model, Reparameterize(model['parameters_positive'], softplus, softplus_inv))\n",
    "model = Merge(model, Flatten(model['parameters']))\n",
    "model"
   ]
  },
  {
   "cell_type": "markdown",
   "metadata": {},
   "source": [
    "# target"
   ]
  },
  {
   "cell_type": "raw",
   "metadata": {
    "collapsed": false
   },
   "source": [
    "data_target = pm.Gauss(2, init_var=np.exp(-7))  # very low variance, almost deterministic\n",
    "data_target"
   ]
  },
  {
   "cell_type": "code",
   "execution_count": 53,
   "metadata": {
    "collapsed": false
   },
   "outputs": [
    {
     "data": {
      "text/plain": [
       "normalized_flow4 { 'inputs': [],\n",
       "  'logP': <FunctionWrapper at 0x7f9604602280 for function at 0x7f95fb00fe60>,\n",
       "  'noise': [GaussianNoise8.noise.0],\n",
       "  'norm_det': PlanarTransform4.norm_det,\n",
       "  'outputs': PlanarTransform4.outputs,\n",
       "  'parameters': [b4, w, _u4, mean8],\n",
       "  'parameters_positive': [var8]}"
      ]
     },
     "execution_count": 53,
     "metadata": {},
     "output_type": "execute_result"
    }
   ],
   "source": [
    "param_target_base = pm.Gauss(2, init_mean=[0,0], init_var=2)\n",
    "param_target_normflows = [dm.PlanarTransform(init__u=[3,6], init_w=[1,3], init_b=-1) for _ in range(1)]\n",
    "\n",
    "param_target = param_target_base\n",
    "for transform in param_target_normflows:\n",
    "    param_target = normalizing_flow(transform, param_target)  # returns Merge\n",
    "param_target"
   ]
  },
  {
   "cell_type": "raw",
   "metadata": {
    "collapsed": false
   },
   "source": [
    "prior_target = pm.Gauss(2, init_var=np.exp(-3))\n",
    "# label hyper parameters accordingly\n",
    "prior_target = Merge(prior_target, parameters=None, # mean is not adapted at all, but left centred at zero\n",
    "                     )\n",
    "prior_target"
   ]
  },
  {
   "cell_type": "code",
   "execution_count": 54,
   "metadata": {
    "collapsed": false
   },
   "outputs": [],
   "source": [
    "target = param_target\n",
    "t_sampler = target.function()\n",
    "n_samples = 10000\n",
    "training = np.array([t_sampler() for _ in xrange(n_samples)])\n",
    "validation = np.array([t_sampler() for _ in xrange(1000)])"
   ]
  },
  {
   "cell_type": "code",
   "execution_count": 55,
   "metadata": {
    "collapsed": false
   },
   "outputs": [
    {
     "data": {
      "text/html": [
       "\n",
       "        <iframe\n",
       "            width=\"600\"\n",
       "            height=\"400\"\n",
       "            src=\"tmp/param_target.html\"\n",
       "            frameborder=\"0\"\n",
       "            allowfullscreen\n",
       "        ></iframe>\n",
       "        "
      ],
      "text/plain": [
       "<IPython.lib.display.IFrame at 0x7f95c5957ed0>"
      ]
     },
     "execution_count": 55,
     "metadata": {},
     "output_type": "execute_result"
    }
   ],
   "source": [
    "d3viz(param_target, \"tmp/param_target.html\")\n",
    "IFrame(\"tmp/param_target.html\", width=600, height=400)"
   ]
  },
  {
   "cell_type": "markdown",
   "metadata": {},
   "source": [
    "# optimizer"
   ]
  },
  {
   "cell_type": "code",
   "execution_count": 56,
   "metadata": {
    "collapsed": true
   },
   "outputs": [],
   "source": [
    "reduce_all_identities()"
   ]
  },
  {
   "cell_type": "code",
   "execution_count": 57,
   "metadata": {
    "collapsed": false
   },
   "outputs": [],
   "source": [
    "batch_size = 20\n",
    "n_batches = len(targets) // batch_size  # after this many steps we went through the whole data set once\n",
    "\n",
    "climin_args = izip(imap(lambda x:(x,), chunk(batch_size, cycle(training))), repeat({}))\n",
    "\n",
    "def weights_regularizer_1epoch():\n",
    "    for i in range(1, n_batches+1):\n",
    "        yield 2**(n_batches - i) / (2**n_batches - 1)\n",
    "        \n",
    "assert len(list(weights_regularizer_1epoch())) == n_batches"
   ]
  },
  {
   "cell_type": "code",
   "execution_count": 69,
   "metadata": {
    "collapsed": false
   },
   "outputs": [
    {
     "data": {
      "text/plain": [
       "{'f': <function theano_models.postmaps.annealed>,\n",
       " 'fprime': <function theano_models.postmaps.annealed>,\n",
       " 'wrt': array([-0.19765182,  1.01566856,  1.06261776,  0.92215166,  1.03871334,\n",
       "         0.55476415, -3.03826429])}"
      ]
     },
     "execution_count": 69,
     "metadata": {},
     "output_type": "execute_result"
    },
    {
     "name": "stdout",
     "output_type": "stream",
     "text": [
      "\n"
     ]
    }
   ],
   "source": [
    "mapreduce = summap\n",
    "average_n = 1\n",
    "if average_n > 1:\n",
    "    mapreduce = compose_fmap(Average(average_n), mapreduce)\n",
    "\n",
    "postmap = compose(post.flat_numericalize_postmap, post.variational_postmap) \n",
    "postmap_kwargs = {\n",
    "    'mapreduce': mapreduce,  # TODO add more functionality for composed fmaps, with args\n",
    "    'annealing_combiner': post.AnnealingCombiner(\n",
    "        weights_regularizer=cycle(weights_regularizer_1epoch())\n",
    "    ),\n",
    "    'adapt_init_params': lambda ps: ps + np.random.normal(size=ps.size, scale=0.1),\n",
    "#     'profile': True,\n",
    "    'mode': 'FAST_RUN'\n",
    "}\n",
    "optimizer_kwargs = postmap(model, **postmap_kwargs)\n",
    "climin_kwargs = post.climin_postmap(optimizer_kwargs)\n",
    "climin_kwargs"
   ]
  },
  {
   "cell_type": "raw",
   "metadata": {
    "collapsed": false
   },
   "source": [
    "%timeit climin_kwargs['f'](optimizer_kwargs['num_parameters'], training[:100], no_annealing=True)"
   ]
  },
  {
   "cell_type": "code",
   "execution_count": 70,
   "metadata": {
    "collapsed": false
   },
   "outputs": [],
   "source": [
    "opt = optimizer(\n",
    "#     identifier='adam',\n",
    "    identifier=\"rmsprop\",\n",
    "    step_rate=1e-2,\n",
    "    momentum=0.9,\n",
    "    args=climin_args,\n",
    "    **climin_kwargs\n",
    ")"
   ]
  },
  {
   "cell_type": "markdown",
   "metadata": {},
   "source": [
    "## Fit Visualization"
   ]
  },
  {
   "cell_type": "code",
   "execution_count": 71,
   "metadata": {
    "collapsed": false
   },
   "outputs": [],
   "source": [
    "scatter_kwargs = dict(edgecolors=\"face\", alpha=0.01, s=5000)\n",
    "outer = dict(i=0)\n",
    "example_samples = 1000\n",
    "def plot_fit(fig, ax, givens={}, time_delay=0.1):\n",
    "    outer['i'] += 1\n",
    "    ax.clear()\n",
    "    \n",
    "    # targets\n",
    "    ax.plot(targets[:example_samples,0], targets[:example_samples,1], 'k.')\n",
    "#     ax.scatter(targets[:,0], targets[:,1], c='k', **scatter_kwargs)\n",
    "\n",
    "    # model\n",
    "    m_sampler = model.function(givens=givens, mode=\"FAST_COMPILE\")\n",
    "    m_samples = np.array([m_sampler() for _ in xrange(example_samples)])\n",
    "    ax.scatter(m_samples[:,0], m_samples[:,1], c='r',**scatter_kwargs)\n",
    "\n",
    "    fig.canvas.draw()\n",
    "    if time_delay is not None:\n",
    "        time.sleep(time_delay)"
   ]
  },
  {
   "cell_type": "code",
   "execution_count": 72,
   "metadata": {
    "collapsed": false
   },
   "outputs": [
    {
     "data": {
      "application/javascript": [
       "/* Put everything inside the global mpl namespace */\n",
       "window.mpl = {};\n",
       "\n",
       "mpl.get_websocket_type = function() {\n",
       "    if (typeof(WebSocket) !== 'undefined') {\n",
       "        return WebSocket;\n",
       "    } else if (typeof(MozWebSocket) !== 'undefined') {\n",
       "        return MozWebSocket;\n",
       "    } else {\n",
       "        alert('Your browser does not have WebSocket support.' +\n",
       "              'Please try Chrome, Safari or Firefox ≥ 6. ' +\n",
       "              'Firefox 4 and 5 are also supported but you ' +\n",
       "              'have to enable WebSockets in about:config.');\n",
       "    };\n",
       "}\n",
       "\n",
       "mpl.figure = function(figure_id, websocket, ondownload, parent_element) {\n",
       "    this.id = figure_id;\n",
       "\n",
       "    this.ws = websocket;\n",
       "\n",
       "    this.supports_binary = (this.ws.binaryType != undefined);\n",
       "\n",
       "    if (!this.supports_binary) {\n",
       "        var warnings = document.getElementById(\"mpl-warnings\");\n",
       "        if (warnings) {\n",
       "            warnings.style.display = 'block';\n",
       "            warnings.textContent = (\n",
       "                \"This browser does not support binary websocket messages. \" +\n",
       "                    \"Performance may be slow.\");\n",
       "        }\n",
       "    }\n",
       "\n",
       "    this.imageObj = new Image();\n",
       "\n",
       "    this.context = undefined;\n",
       "    this.message = undefined;\n",
       "    this.canvas = undefined;\n",
       "    this.rubberband_canvas = undefined;\n",
       "    this.rubberband_context = undefined;\n",
       "    this.format_dropdown = undefined;\n",
       "\n",
       "    this.image_mode = 'full';\n",
       "\n",
       "    this.root = $('<div/>');\n",
       "    this._root_extra_style(this.root)\n",
       "    this.root.attr('style', 'display: inline-block');\n",
       "\n",
       "    $(parent_element).append(this.root);\n",
       "\n",
       "    this._init_header(this);\n",
       "    this._init_canvas(this);\n",
       "    this._init_toolbar(this);\n",
       "\n",
       "    var fig = this;\n",
       "\n",
       "    this.waiting = false;\n",
       "\n",
       "    this.ws.onopen =  function () {\n",
       "            fig.send_message(\"supports_binary\", {value: fig.supports_binary});\n",
       "            fig.send_message(\"send_image_mode\", {});\n",
       "            fig.send_message(\"refresh\", {});\n",
       "        }\n",
       "\n",
       "    this.imageObj.onload = function() {\n",
       "            if (fig.image_mode == 'full') {\n",
       "                // Full images could contain transparency (where diff images\n",
       "                // almost always do), so we need to clear the canvas so that\n",
       "                // there is no ghosting.\n",
       "                fig.context.clearRect(0, 0, fig.canvas.width, fig.canvas.height);\n",
       "            }\n",
       "            fig.context.drawImage(fig.imageObj, 0, 0);\n",
       "        };\n",
       "\n",
       "    this.imageObj.onunload = function() {\n",
       "        this.ws.close();\n",
       "    }\n",
       "\n",
       "    this.ws.onmessage = this._make_on_message_function(this);\n",
       "\n",
       "    this.ondownload = ondownload;\n",
       "}\n",
       "\n",
       "mpl.figure.prototype._init_header = function() {\n",
       "    var titlebar = $(\n",
       "        '<div class=\"ui-dialog-titlebar ui-widget-header ui-corner-all ' +\n",
       "        'ui-helper-clearfix\"/>');\n",
       "    var titletext = $(\n",
       "        '<div class=\"ui-dialog-title\" style=\"width: 100%; ' +\n",
       "        'text-align: center; padding: 3px;\"/>');\n",
       "    titlebar.append(titletext)\n",
       "    this.root.append(titlebar);\n",
       "    this.header = titletext[0];\n",
       "}\n",
       "\n",
       "\n",
       "\n",
       "mpl.figure.prototype._canvas_extra_style = function(canvas_div) {\n",
       "\n",
       "}\n",
       "\n",
       "\n",
       "mpl.figure.prototype._root_extra_style = function(canvas_div) {\n",
       "\n",
       "}\n",
       "\n",
       "mpl.figure.prototype._init_canvas = function() {\n",
       "    var fig = this;\n",
       "\n",
       "    var canvas_div = $('<div/>');\n",
       "\n",
       "    canvas_div.attr('style', 'position: relative; clear: both; outline: 0');\n",
       "\n",
       "    function canvas_keyboard_event(event) {\n",
       "        return fig.key_event(event, event['data']);\n",
       "    }\n",
       "\n",
       "    canvas_div.keydown('key_press', canvas_keyboard_event);\n",
       "    canvas_div.keyup('key_release', canvas_keyboard_event);\n",
       "    this.canvas_div = canvas_div\n",
       "    this._canvas_extra_style(canvas_div)\n",
       "    this.root.append(canvas_div);\n",
       "\n",
       "    var canvas = $('<canvas/>');\n",
       "    canvas.addClass('mpl-canvas');\n",
       "    canvas.attr('style', \"left: 0; top: 0; z-index: 0; outline: 0\")\n",
       "\n",
       "    this.canvas = canvas[0];\n",
       "    this.context = canvas[0].getContext(\"2d\");\n",
       "\n",
       "    var rubberband = $('<canvas/>');\n",
       "    rubberband.attr('style', \"position: absolute; left: 0; top: 0; z-index: 1;\")\n",
       "\n",
       "    var pass_mouse_events = true;\n",
       "\n",
       "    canvas_div.resizable({\n",
       "        start: function(event, ui) {\n",
       "            pass_mouse_events = false;\n",
       "        },\n",
       "        resize: function(event, ui) {\n",
       "            fig.request_resize(ui.size.width, ui.size.height);\n",
       "        },\n",
       "        stop: function(event, ui) {\n",
       "            pass_mouse_events = true;\n",
       "            fig.request_resize(ui.size.width, ui.size.height);\n",
       "        },\n",
       "    });\n",
       "\n",
       "    function mouse_event_fn(event) {\n",
       "        if (pass_mouse_events)\n",
       "            return fig.mouse_event(event, event['data']);\n",
       "    }\n",
       "\n",
       "    rubberband.mousedown('button_press', mouse_event_fn);\n",
       "    rubberband.mouseup('button_release', mouse_event_fn);\n",
       "    // Throttle sequential mouse events to 1 every 20ms.\n",
       "    rubberband.mousemove('motion_notify', mouse_event_fn);\n",
       "\n",
       "    rubberband.mouseenter('figure_enter', mouse_event_fn);\n",
       "    rubberband.mouseleave('figure_leave', mouse_event_fn);\n",
       "\n",
       "    canvas_div.on(\"wheel\", function (event) {\n",
       "        event = event.originalEvent;\n",
       "        event['data'] = 'scroll'\n",
       "        if (event.deltaY < 0) {\n",
       "            event.step = 1;\n",
       "        } else {\n",
       "            event.step = -1;\n",
       "        }\n",
       "        mouse_event_fn(event);\n",
       "    });\n",
       "\n",
       "    canvas_div.append(canvas);\n",
       "    canvas_div.append(rubberband);\n",
       "\n",
       "    this.rubberband = rubberband;\n",
       "    this.rubberband_canvas = rubberband[0];\n",
       "    this.rubberband_context = rubberband[0].getContext(\"2d\");\n",
       "    this.rubberband_context.strokeStyle = \"#000000\";\n",
       "\n",
       "    this._resize_canvas = function(width, height) {\n",
       "        // Keep the size of the canvas, canvas container, and rubber band\n",
       "        // canvas in synch.\n",
       "        canvas_div.css('width', width)\n",
       "        canvas_div.css('height', height)\n",
       "\n",
       "        canvas.attr('width', width);\n",
       "        canvas.attr('height', height);\n",
       "\n",
       "        rubberband.attr('width', width);\n",
       "        rubberband.attr('height', height);\n",
       "    }\n",
       "\n",
       "    // Set the figure to an initial 600x600px, this will subsequently be updated\n",
       "    // upon first draw.\n",
       "    this._resize_canvas(600, 600);\n",
       "\n",
       "    // Disable right mouse context menu.\n",
       "    $(this.rubberband_canvas).bind(\"contextmenu\",function(e){\n",
       "        return false;\n",
       "    });\n",
       "\n",
       "    function set_focus () {\n",
       "        canvas.focus();\n",
       "        canvas_div.focus();\n",
       "    }\n",
       "\n",
       "    window.setTimeout(set_focus, 100);\n",
       "}\n",
       "\n",
       "mpl.figure.prototype._init_toolbar = function() {\n",
       "    var fig = this;\n",
       "\n",
       "    var nav_element = $('<div/>')\n",
       "    nav_element.attr('style', 'width: 100%');\n",
       "    this.root.append(nav_element);\n",
       "\n",
       "    // Define a callback function for later on.\n",
       "    function toolbar_event(event) {\n",
       "        return fig.toolbar_button_onclick(event['data']);\n",
       "    }\n",
       "    function toolbar_mouse_event(event) {\n",
       "        return fig.toolbar_button_onmouseover(event['data']);\n",
       "    }\n",
       "\n",
       "    for(var toolbar_ind in mpl.toolbar_items) {\n",
       "        var name = mpl.toolbar_items[toolbar_ind][0];\n",
       "        var tooltip = mpl.toolbar_items[toolbar_ind][1];\n",
       "        var image = mpl.toolbar_items[toolbar_ind][2];\n",
       "        var method_name = mpl.toolbar_items[toolbar_ind][3];\n",
       "\n",
       "        if (!name) {\n",
       "            // put a spacer in here.\n",
       "            continue;\n",
       "        }\n",
       "        var button = $('<button/>');\n",
       "        button.addClass('ui-button ui-widget ui-state-default ui-corner-all ' +\n",
       "                        'ui-button-icon-only');\n",
       "        button.attr('role', 'button');\n",
       "        button.attr('aria-disabled', 'false');\n",
       "        button.click(method_name, toolbar_event);\n",
       "        button.mouseover(tooltip, toolbar_mouse_event);\n",
       "\n",
       "        var icon_img = $('<span/>');\n",
       "        icon_img.addClass('ui-button-icon-primary ui-icon');\n",
       "        icon_img.addClass(image);\n",
       "        icon_img.addClass('ui-corner-all');\n",
       "\n",
       "        var tooltip_span = $('<span/>');\n",
       "        tooltip_span.addClass('ui-button-text');\n",
       "        tooltip_span.html(tooltip);\n",
       "\n",
       "        button.append(icon_img);\n",
       "        button.append(tooltip_span);\n",
       "\n",
       "        nav_element.append(button);\n",
       "    }\n",
       "\n",
       "    var fmt_picker_span = $('<span/>');\n",
       "\n",
       "    var fmt_picker = $('<select/>');\n",
       "    fmt_picker.addClass('mpl-toolbar-option ui-widget ui-widget-content');\n",
       "    fmt_picker_span.append(fmt_picker);\n",
       "    nav_element.append(fmt_picker_span);\n",
       "    this.format_dropdown = fmt_picker[0];\n",
       "\n",
       "    for (var ind in mpl.extensions) {\n",
       "        var fmt = mpl.extensions[ind];\n",
       "        var option = $(\n",
       "            '<option/>', {selected: fmt === mpl.default_extension}).html(fmt);\n",
       "        fmt_picker.append(option)\n",
       "    }\n",
       "\n",
       "    // Add hover states to the ui-buttons\n",
       "    $( \".ui-button\" ).hover(\n",
       "        function() { $(this).addClass(\"ui-state-hover\");},\n",
       "        function() { $(this).removeClass(\"ui-state-hover\");}\n",
       "    );\n",
       "\n",
       "    var status_bar = $('<span class=\"mpl-message\"/>');\n",
       "    nav_element.append(status_bar);\n",
       "    this.message = status_bar[0];\n",
       "}\n",
       "\n",
       "mpl.figure.prototype.request_resize = function(x_pixels, y_pixels) {\n",
       "    // Request matplotlib to resize the figure. Matplotlib will then trigger a resize in the client,\n",
       "    // which will in turn request a refresh of the image.\n",
       "    this.send_message('resize', {'width': x_pixels, 'height': y_pixels});\n",
       "}\n",
       "\n",
       "mpl.figure.prototype.send_message = function(type, properties) {\n",
       "    properties['type'] = type;\n",
       "    properties['figure_id'] = this.id;\n",
       "    this.ws.send(JSON.stringify(properties));\n",
       "}\n",
       "\n",
       "mpl.figure.prototype.send_draw_message = function() {\n",
       "    if (!this.waiting) {\n",
       "        this.waiting = true;\n",
       "        this.ws.send(JSON.stringify({type: \"draw\", figure_id: this.id}));\n",
       "    }\n",
       "}\n",
       "\n",
       "\n",
       "mpl.figure.prototype.handle_save = function(fig, msg) {\n",
       "    var format_dropdown = fig.format_dropdown;\n",
       "    var format = format_dropdown.options[format_dropdown.selectedIndex].value;\n",
       "    fig.ondownload(fig, format);\n",
       "}\n",
       "\n",
       "\n",
       "mpl.figure.prototype.handle_resize = function(fig, msg) {\n",
       "    var size = msg['size'];\n",
       "    if (size[0] != fig.canvas.width || size[1] != fig.canvas.height) {\n",
       "        fig._resize_canvas(size[0], size[1]);\n",
       "        fig.send_message(\"refresh\", {});\n",
       "    };\n",
       "}\n",
       "\n",
       "mpl.figure.prototype.handle_rubberband = function(fig, msg) {\n",
       "    var x0 = msg['x0'];\n",
       "    var y0 = fig.canvas.height - msg['y0'];\n",
       "    var x1 = msg['x1'];\n",
       "    var y1 = fig.canvas.height - msg['y1'];\n",
       "    x0 = Math.floor(x0) + 0.5;\n",
       "    y0 = Math.floor(y0) + 0.5;\n",
       "    x1 = Math.floor(x1) + 0.5;\n",
       "    y1 = Math.floor(y1) + 0.5;\n",
       "    var min_x = Math.min(x0, x1);\n",
       "    var min_y = Math.min(y0, y1);\n",
       "    var width = Math.abs(x1 - x0);\n",
       "    var height = Math.abs(y1 - y0);\n",
       "\n",
       "    fig.rubberband_context.clearRect(\n",
       "        0, 0, fig.canvas.width, fig.canvas.height);\n",
       "\n",
       "    fig.rubberband_context.strokeRect(min_x, min_y, width, height);\n",
       "}\n",
       "\n",
       "mpl.figure.prototype.handle_figure_label = function(fig, msg) {\n",
       "    // Updates the figure title.\n",
       "    fig.header.textContent = msg['label'];\n",
       "}\n",
       "\n",
       "mpl.figure.prototype.handle_cursor = function(fig, msg) {\n",
       "    var cursor = msg['cursor'];\n",
       "    switch(cursor)\n",
       "    {\n",
       "    case 0:\n",
       "        cursor = 'pointer';\n",
       "        break;\n",
       "    case 1:\n",
       "        cursor = 'default';\n",
       "        break;\n",
       "    case 2:\n",
       "        cursor = 'crosshair';\n",
       "        break;\n",
       "    case 3:\n",
       "        cursor = 'move';\n",
       "        break;\n",
       "    }\n",
       "    fig.rubberband_canvas.style.cursor = cursor;\n",
       "}\n",
       "\n",
       "mpl.figure.prototype.handle_message = function(fig, msg) {\n",
       "    fig.message.textContent = msg['message'];\n",
       "}\n",
       "\n",
       "mpl.figure.prototype.handle_draw = function(fig, msg) {\n",
       "    // Request the server to send over a new figure.\n",
       "    fig.send_draw_message();\n",
       "}\n",
       "\n",
       "mpl.figure.prototype.handle_image_mode = function(fig, msg) {\n",
       "    fig.image_mode = msg['mode'];\n",
       "}\n",
       "\n",
       "mpl.figure.prototype.updated_canvas_event = function() {\n",
       "    // Called whenever the canvas gets updated.\n",
       "    this.send_message(\"ack\", {});\n",
       "}\n",
       "\n",
       "// A function to construct a web socket function for onmessage handling.\n",
       "// Called in the figure constructor.\n",
       "mpl.figure.prototype._make_on_message_function = function(fig) {\n",
       "    return function socket_on_message(evt) {\n",
       "        if (evt.data instanceof Blob) {\n",
       "            /* FIXME: We get \"Resource interpreted as Image but\n",
       "             * transferred with MIME type text/plain:\" errors on\n",
       "             * Chrome.  But how to set the MIME type?  It doesn't seem\n",
       "             * to be part of the websocket stream */\n",
       "            evt.data.type = \"image/png\";\n",
       "\n",
       "            /* Free the memory for the previous frames */\n",
       "            if (fig.imageObj.src) {\n",
       "                (window.URL || window.webkitURL).revokeObjectURL(\n",
       "                    fig.imageObj.src);\n",
       "            }\n",
       "\n",
       "            fig.imageObj.src = (window.URL || window.webkitURL).createObjectURL(\n",
       "                evt.data);\n",
       "            fig.updated_canvas_event();\n",
       "            fig.waiting = false;\n",
       "            return;\n",
       "        }\n",
       "        else if (typeof evt.data === 'string' && evt.data.slice(0, 21) == \"data:image/png;base64\") {\n",
       "            fig.imageObj.src = evt.data;\n",
       "            fig.updated_canvas_event();\n",
       "            fig.waiting = false;\n",
       "            return;\n",
       "        }\n",
       "\n",
       "        var msg = JSON.parse(evt.data);\n",
       "        var msg_type = msg['type'];\n",
       "\n",
       "        // Call the  \"handle_{type}\" callback, which takes\n",
       "        // the figure and JSON message as its only arguments.\n",
       "        try {\n",
       "            var callback = fig[\"handle_\" + msg_type];\n",
       "        } catch (e) {\n",
       "            console.log(\"No handler for the '\" + msg_type + \"' message type: \", msg);\n",
       "            return;\n",
       "        }\n",
       "\n",
       "        if (callback) {\n",
       "            try {\n",
       "                // console.log(\"Handling '\" + msg_type + \"' message: \", msg);\n",
       "                callback(fig, msg);\n",
       "            } catch (e) {\n",
       "                console.log(\"Exception inside the 'handler_\" + msg_type + \"' callback:\", e, e.stack, msg);\n",
       "            }\n",
       "        }\n",
       "    };\n",
       "}\n",
       "\n",
       "// from http://stackoverflow.com/questions/1114465/getting-mouse-location-in-canvas\n",
       "mpl.findpos = function(e) {\n",
       "    //this section is from http://www.quirksmode.org/js/events_properties.html\n",
       "    var targ;\n",
       "    if (!e)\n",
       "        e = window.event;\n",
       "    if (e.target)\n",
       "        targ = e.target;\n",
       "    else if (e.srcElement)\n",
       "        targ = e.srcElement;\n",
       "    if (targ.nodeType == 3) // defeat Safari bug\n",
       "        targ = targ.parentNode;\n",
       "\n",
       "    // jQuery normalizes the pageX and pageY\n",
       "    // pageX,Y are the mouse positions relative to the document\n",
       "    // offset() returns the position of the element relative to the document\n",
       "    var x = e.pageX - $(targ).offset().left;\n",
       "    var y = e.pageY - $(targ).offset().top;\n",
       "\n",
       "    return {\"x\": x, \"y\": y};\n",
       "};\n",
       "\n",
       "/*\n",
       " * return a copy of an object with only non-object keys\n",
       " * we need this to avoid circular references\n",
       " * http://stackoverflow.com/a/24161582/3208463\n",
       " */\n",
       "function simpleKeys (original) {\n",
       "  return Object.keys(original).reduce(function (obj, key) {\n",
       "    if (typeof original[key] !== 'object')\n",
       "        obj[key] = original[key]\n",
       "    return obj;\n",
       "  }, {});\n",
       "}\n",
       "\n",
       "mpl.figure.prototype.mouse_event = function(event, name) {\n",
       "    var canvas_pos = mpl.findpos(event)\n",
       "\n",
       "    if (name === 'button_press')\n",
       "    {\n",
       "        this.canvas.focus();\n",
       "        this.canvas_div.focus();\n",
       "    }\n",
       "\n",
       "    var x = canvas_pos.x;\n",
       "    var y = canvas_pos.y;\n",
       "\n",
       "    this.send_message(name, {x: x, y: y, button: event.button,\n",
       "                             step: event.step,\n",
       "                             guiEvent: simpleKeys(event)});\n",
       "\n",
       "    /* This prevents the web browser from automatically changing to\n",
       "     * the text insertion cursor when the button is pressed.  We want\n",
       "     * to control all of the cursor setting manually through the\n",
       "     * 'cursor' event from matplotlib */\n",
       "    event.preventDefault();\n",
       "    return false;\n",
       "}\n",
       "\n",
       "mpl.figure.prototype._key_event_extra = function(event, name) {\n",
       "    // Handle any extra behaviour associated with a key event\n",
       "}\n",
       "\n",
       "mpl.figure.prototype.key_event = function(event, name) {\n",
       "\n",
       "    // Prevent repeat events\n",
       "    if (name == 'key_press')\n",
       "    {\n",
       "        if (event.which === this._key)\n",
       "            return;\n",
       "        else\n",
       "            this._key = event.which;\n",
       "    }\n",
       "    if (name == 'key_release')\n",
       "        this._key = null;\n",
       "\n",
       "    var value = '';\n",
       "    if (event.ctrlKey && event.which != 17)\n",
       "        value += \"ctrl+\";\n",
       "    if (event.altKey && event.which != 18)\n",
       "        value += \"alt+\";\n",
       "    if (event.shiftKey && event.which != 16)\n",
       "        value += \"shift+\";\n",
       "\n",
       "    value += 'k';\n",
       "    value += event.which.toString();\n",
       "\n",
       "    this._key_event_extra(event, name);\n",
       "\n",
       "    this.send_message(name, {key: value,\n",
       "                             guiEvent: simpleKeys(event)});\n",
       "    return false;\n",
       "}\n",
       "\n",
       "mpl.figure.prototype.toolbar_button_onclick = function(name) {\n",
       "    if (name == 'download') {\n",
       "        this.handle_save(this, null);\n",
       "    } else {\n",
       "        this.send_message(\"toolbar_button\", {name: name});\n",
       "    }\n",
       "};\n",
       "\n",
       "mpl.figure.prototype.toolbar_button_onmouseover = function(tooltip) {\n",
       "    this.message.textContent = tooltip;\n",
       "};\n",
       "mpl.toolbar_items = [[\"Home\", \"Reset original view\", \"fa fa-home icon-home\", \"home\"], [\"Back\", \"Back to  previous view\", \"fa fa-arrow-left icon-arrow-left\", \"back\"], [\"Forward\", \"Forward to next view\", \"fa fa-arrow-right icon-arrow-right\", \"forward\"], [\"\", \"\", \"\", \"\"], [\"Pan\", \"Pan axes with left mouse, zoom with right\", \"fa fa-arrows icon-move\", \"pan\"], [\"Zoom\", \"Zoom to rectangle\", \"fa fa-square-o icon-check-empty\", \"zoom\"], [\"\", \"\", \"\", \"\"], [\"Download\", \"Download plot\", \"fa fa-floppy-o icon-save\", \"download\"]];\n",
       "\n",
       "mpl.extensions = [\"eps\", \"jpeg\", \"pdf\", \"png\", \"ps\", \"raw\", \"svg\", \"tif\"];\n",
       "\n",
       "mpl.default_extension = \"png\";var comm_websocket_adapter = function(comm) {\n",
       "    // Create a \"websocket\"-like object which calls the given IPython comm\n",
       "    // object with the appropriate methods. Currently this is a non binary\n",
       "    // socket, so there is still some room for performance tuning.\n",
       "    var ws = {};\n",
       "\n",
       "    ws.close = function() {\n",
       "        comm.close()\n",
       "    };\n",
       "    ws.send = function(m) {\n",
       "        //console.log('sending', m);\n",
       "        comm.send(m);\n",
       "    };\n",
       "    // Register the callback with on_msg.\n",
       "    comm.on_msg(function(msg) {\n",
       "        //console.log('receiving', msg['content']['data'], msg);\n",
       "        // Pass the mpl event to the overriden (by mpl) onmessage function.\n",
       "        ws.onmessage(msg['content']['data'])\n",
       "    });\n",
       "    return ws;\n",
       "}\n",
       "\n",
       "mpl.mpl_figure_comm = function(comm, msg) {\n",
       "    // This is the function which gets called when the mpl process\n",
       "    // starts-up an IPython Comm through the \"matplotlib\" channel.\n",
       "\n",
       "    var id = msg.content.data.id;\n",
       "    // Get hold of the div created by the display call when the Comm\n",
       "    // socket was opened in Python.\n",
       "    var element = $(\"#\" + id);\n",
       "    var ws_proxy = comm_websocket_adapter(comm)\n",
       "\n",
       "    function ondownload(figure, format) {\n",
       "        window.open(figure.imageObj.src);\n",
       "    }\n",
       "\n",
       "    var fig = new mpl.figure(id, ws_proxy,\n",
       "                           ondownload,\n",
       "                           element.get(0));\n",
       "\n",
       "    // Call onopen now - mpl needs it, as it is assuming we've passed it a real\n",
       "    // web socket which is closed, not our websocket->open comm proxy.\n",
       "    ws_proxy.onopen();\n",
       "\n",
       "    fig.parent_element = element.get(0);\n",
       "    fig.cell_info = mpl.find_output_cell(\"<div id='\" + id + \"'></div>\");\n",
       "    if (!fig.cell_info) {\n",
       "        console.error(\"Failed to find cell for figure\", id, fig);\n",
       "        return;\n",
       "    }\n",
       "\n",
       "    var output_index = fig.cell_info[2]\n",
       "    var cell = fig.cell_info[0];\n",
       "\n",
       "};\n",
       "\n",
       "mpl.figure.prototype.handle_close = function(fig, msg) {\n",
       "    fig.root.unbind('remove')\n",
       "\n",
       "    // Update the output cell to use the data from the current canvas.\n",
       "    fig.push_to_output();\n",
       "    var dataURL = fig.canvas.toDataURL();\n",
       "    // Re-enable the keyboard manager in IPython - without this line, in FF,\n",
       "    // the notebook keyboard shortcuts fail.\n",
       "    IPython.keyboard_manager.enable()\n",
       "    $(fig.parent_element).html('<img src=\"' + dataURL + '\">');\n",
       "    fig.close_ws(fig, msg);\n",
       "}\n",
       "\n",
       "mpl.figure.prototype.close_ws = function(fig, msg){\n",
       "    fig.send_message('closing', msg);\n",
       "    // fig.ws.close()\n",
       "}\n",
       "\n",
       "mpl.figure.prototype.push_to_output = function(remove_interactive) {\n",
       "    // Turn the data on the canvas into data in the output cell.\n",
       "    var dataURL = this.canvas.toDataURL();\n",
       "    this.cell_info[1]['text/html'] = '<img src=\"' + dataURL + '\">';\n",
       "}\n",
       "\n",
       "mpl.figure.prototype.updated_canvas_event = function() {\n",
       "    // Tell IPython that the notebook contents must change.\n",
       "    IPython.notebook.set_dirty(true);\n",
       "    this.send_message(\"ack\", {});\n",
       "    var fig = this;\n",
       "    // Wait a second, then push the new image to the DOM so\n",
       "    // that it is saved nicely (might be nice to debounce this).\n",
       "    setTimeout(function () { fig.push_to_output() }, 1000);\n",
       "}\n",
       "\n",
       "mpl.figure.prototype._init_toolbar = function() {\n",
       "    var fig = this;\n",
       "\n",
       "    var nav_element = $('<div/>')\n",
       "    nav_element.attr('style', 'width: 100%');\n",
       "    this.root.append(nav_element);\n",
       "\n",
       "    // Define a callback function for later on.\n",
       "    function toolbar_event(event) {\n",
       "        return fig.toolbar_button_onclick(event['data']);\n",
       "    }\n",
       "    function toolbar_mouse_event(event) {\n",
       "        return fig.toolbar_button_onmouseover(event['data']);\n",
       "    }\n",
       "\n",
       "    for(var toolbar_ind in mpl.toolbar_items){\n",
       "        var name = mpl.toolbar_items[toolbar_ind][0];\n",
       "        var tooltip = mpl.toolbar_items[toolbar_ind][1];\n",
       "        var image = mpl.toolbar_items[toolbar_ind][2];\n",
       "        var method_name = mpl.toolbar_items[toolbar_ind][3];\n",
       "\n",
       "        if (!name) { continue; };\n",
       "\n",
       "        var button = $('<button class=\"btn btn-default\" href=\"#\" title=\"' + name + '\"><i class=\"fa ' + image + ' fa-lg\"></i></button>');\n",
       "        button.click(method_name, toolbar_event);\n",
       "        button.mouseover(tooltip, toolbar_mouse_event);\n",
       "        nav_element.append(button);\n",
       "    }\n",
       "\n",
       "    // Add the status bar.\n",
       "    var status_bar = $('<span class=\"mpl-message\" style=\"text-align:right; float: right;\"/>');\n",
       "    nav_element.append(status_bar);\n",
       "    this.message = status_bar[0];\n",
       "\n",
       "    // Add the close button to the window.\n",
       "    var buttongrp = $('<div class=\"btn-group inline pull-right\"></div>');\n",
       "    var button = $('<button class=\"btn btn-mini btn-primary\" href=\"#\" title=\"Stop Interaction\"><i class=\"fa fa-power-off icon-remove icon-large\"></i></button>');\n",
       "    button.click(function (evt) { fig.handle_close(fig, {}); } );\n",
       "    button.mouseover('Stop Interaction', toolbar_mouse_event);\n",
       "    buttongrp.append(button);\n",
       "    var titlebar = this.root.find($('.ui-dialog-titlebar'));\n",
       "    titlebar.prepend(buttongrp);\n",
       "}\n",
       "\n",
       "mpl.figure.prototype._root_extra_style = function(el){\n",
       "    var fig = this\n",
       "    el.on(\"remove\", function(){\n",
       "\tfig.close_ws(fig, {});\n",
       "    });\n",
       "}\n",
       "\n",
       "mpl.figure.prototype._canvas_extra_style = function(el){\n",
       "    // this is important to make the div 'focusable\n",
       "    el.attr('tabindex', 0)\n",
       "    // reach out to IPython and tell the keyboard manager to turn it's self\n",
       "    // off when our div gets focus\n",
       "\n",
       "    // location in version 3\n",
       "    if (IPython.notebook.keyboard_manager) {\n",
       "        IPython.notebook.keyboard_manager.register_events(el);\n",
       "    }\n",
       "    else {\n",
       "        // location in version 2\n",
       "        IPython.keyboard_manager.register_events(el);\n",
       "    }\n",
       "\n",
       "}\n",
       "\n",
       "mpl.figure.prototype._key_event_extra = function(event, name) {\n",
       "    var manager = IPython.notebook.keyboard_manager;\n",
       "    if (!manager)\n",
       "        manager = IPython.keyboard_manager;\n",
       "\n",
       "    // Check for shift+enter\n",
       "    if (event.shiftKey && event.which == 13) {\n",
       "        this.canvas_div.blur();\n",
       "        event.shiftKey = false;\n",
       "        // Send a \"J\" for go to next cell\n",
       "        event.which = 74;\n",
       "        event.keyCode = 74;\n",
       "        manager.command_mode();\n",
       "        manager.handle_keydown(event);\n",
       "    }\n",
       "}\n",
       "\n",
       "mpl.figure.prototype.handle_save = function(fig, msg) {\n",
       "    fig.ondownload(fig, null);\n",
       "}\n",
       "\n",
       "\n",
       "mpl.find_output_cell = function(html_output) {\n",
       "    // Return the cell and output element which can be found *uniquely* in the notebook.\n",
       "    // Note - this is a bit hacky, but it is done because the \"notebook_saving.Notebook\"\n",
       "    // IPython event is triggered only after the cells have been serialised, which for\n",
       "    // our purposes (turning an active figure into a static one), is too late.\n",
       "    var cells = IPython.notebook.get_cells();\n",
       "    var ncells = cells.length;\n",
       "    for (var i=0; i<ncells; i++) {\n",
       "        var cell = cells[i];\n",
       "        if (cell.cell_type === 'code'){\n",
       "            for (var j=0; j<cell.output_area.outputs.length; j++) {\n",
       "                var data = cell.output_area.outputs[j];\n",
       "                if (data.data) {\n",
       "                    // IPython >= 3 moved mimebundle to data attribute of output\n",
       "                    data = data.data;\n",
       "                }\n",
       "                if (data['text/html'] == html_output) {\n",
       "                    return [cell, data, j];\n",
       "                }\n",
       "            }\n",
       "        }\n",
       "    }\n",
       "}\n",
       "\n",
       "// Register the function which deals with the matplotlib target/channel.\n",
       "// The kernel may be null if the page has been refreshed.\n",
       "if (IPython.notebook.kernel != null) {\n",
       "    IPython.notebook.kernel.comm_manager.register_target('matplotlib', mpl.mpl_figure_comm);\n",
       "}\n"
      ],
      "text/plain": [
       "<IPython.core.display.Javascript object>"
      ]
     },
     "metadata": {},
     "output_type": "display_data"
    },
    {
     "data": {
      "text/html": [
       "<img src=\"data:image/png;base64,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\">"
      ],
      "text/plain": [
       "<IPython.core.display.HTML object>"
      ]
     },
     "metadata": {},
     "output_type": "display_data"
    }
   ],
   "source": [
    "fig, ax = subplots()\n",
    "plot_fit(fig, ax)"
   ]
  },
  {
   "cell_type": "code",
   "execution_count": 73,
   "metadata": {
    "collapsed": false
   },
   "outputs": [
    {
     "name": "stdout",
     "output_type": "stream",
     "text": [
      "[('\"b3', -0.0017263118269387526), ('w', -0.0037338881882481175), ('_u3', -0.0042593724830060301), ('var6_softplus', -0.004060487943757486), ('var7_softplus\"', -0.0042312657980403939)]\n",
      "27933.1350036 [('\"b3', 0.0048845372699153691), ('w', -0.0027915312209960065), ('_u3', -0.0030154763479768943), ('var6_softplus', -0.0029488620131317665), ('var7_softplus\"', -0.0030200765501824079)]\n",
      "27933.1350036 [('\"b3', -0.003820178965115655), ('w', -0.0021103020493142416), ('_u3', -0.0022211325586793205), ('var6_softplus', -0.0021986602800748646), ('var7_softplus\"', -0.0022323828454324239)]\n",
      "27933.1350036 [('\"b3', 0.0052790652917316617), ('w', -0.0016940124522588419), ('_u3', -0.0016933098226224056), ('var6_softplus', -0.0017305974182826808), ('var7_softplus\"', -0.0017511863194829033)]\n",
      "27933.1350036 [('\"b3', -0.0046873402019894572), ('w', -0.0013943676239303066), ('_u3', -0.0014406474533952224), ('var6_softplus', -0.0014318841514350416), ('var7_softplus\"', -0.0014422724282094363)]\n",
      "27933.1350036 [('\"b3', 0.0062426057331320629), ('w', -0.0011597678109620448), ('_u3', -0.0011304934133455004), ('var6_softplus', -0.0012160869010388283), ('var7_softplus\"', -0.001223578221063607)]\n",
      "27933.1350036"
     ]
    },
    {
     "ename": "KeyboardInterrupt",
     "evalue": "",
     "output_type": "error",
     "traceback": [
      "\u001b[1;31m---------------------------------------------------------------------------\u001b[0m",
      "\u001b[1;31mKeyboardInterrupt\u001b[0m                         Traceback (most recent call last)",
      "\u001b[1;32m<ipython-input-73-ac0ed8bc6a60>\u001b[0m in \u001b[0;36m<module>\u001b[1;34m()\u001b[0m\n\u001b[0;32m      2\u001b[0m \u001b[0mbest_val_loss\u001b[0m \u001b[1;33m=\u001b[0m \u001b[0minf\u001b[0m\u001b[1;33m\u001b[0m\u001b[0m\n\u001b[0;32m      3\u001b[0m \u001b[0mlast_improvement_epoch\u001b[0m \u001b[1;33m=\u001b[0m \u001b[1;36m1\u001b[0m\u001b[1;33m\u001b[0m\u001b[0m\n\u001b[1;32m----> 4\u001b[1;33m \u001b[1;32mfor\u001b[0m \u001b[0minfo\u001b[0m \u001b[1;32min\u001b[0m \u001b[0mevery\u001b[0m\u001b[1;33m(\u001b[0m\u001b[0mn_batches\u001b[0m\u001b[1;33m,\u001b[0m \u001b[0mopt\u001b[0m\u001b[1;33m)\u001b[0m\u001b[1;33m:\u001b[0m\u001b[1;33m\u001b[0m\u001b[0m\n\u001b[0m\u001b[0;32m      5\u001b[0m     \u001b[0mcurrent_epoch\u001b[0m \u001b[1;33m=\u001b[0m \u001b[0minfo\u001b[0m\u001b[1;33m[\u001b[0m\u001b[1;34m'n_iter'\u001b[0m\u001b[1;33m]\u001b[0m\u001b[1;33m//\u001b[0m\u001b[0mn_batches\u001b[0m\u001b[1;33m\u001b[0m\u001b[0m\n\u001b[0;32m      6\u001b[0m     \u001b[1;32mif\u001b[0m \u001b[0mcurrent_epoch\u001b[0m \u001b[1;33m-\u001b[0m \u001b[0mlast_improvement_epoch\u001b[0m \u001b[1;33m>\u001b[0m \u001b[1;36m50\u001b[0m\u001b[1;33m:\u001b[0m\u001b[1;33m\u001b[0m\u001b[0m\n",
      "\u001b[1;32m/home/stephan/GitProjects/schlichtanders/schlichtanders/mygenerators.pyc\u001b[0m in \u001b[0;36mevery\u001b[1;34m(nth, iterable)\u001b[0m\n\u001b[0;32m    160\u001b[0m     \u001b[0mit\u001b[0m \u001b[1;33m=\u001b[0m \u001b[0miter\u001b[0m\u001b[1;33m(\u001b[0m\u001b[0miterable\u001b[0m\u001b[1;33m)\u001b[0m\u001b[1;33m\u001b[0m\u001b[0m\n\u001b[0;32m    161\u001b[0m     \u001b[1;32mwhile\u001b[0m \u001b[0mTrue\u001b[0m\u001b[1;33m:\u001b[0m\u001b[1;33m\u001b[0m\u001b[0m\n\u001b[1;32m--> 162\u001b[1;33m         \u001b[0meat\u001b[0m\u001b[1;33m(\u001b[0m\u001b[0mit\u001b[0m\u001b[1;33m,\u001b[0m \u001b[0mnth\u001b[0m\u001b[1;33m-\u001b[0m\u001b[1;36m1\u001b[0m\u001b[1;33m)\u001b[0m\u001b[1;33m\u001b[0m\u001b[0m\n\u001b[0m\u001b[0;32m    163\u001b[0m         \u001b[1;32myield\u001b[0m \u001b[0mnext\u001b[0m\u001b[1;33m(\u001b[0m\u001b[0mit\u001b[0m\u001b[1;33m)\u001b[0m\u001b[1;33m\u001b[0m\u001b[0m\n\u001b[0;32m    164\u001b[0m \u001b[1;33m\u001b[0m\u001b[0m\n",
      "\u001b[1;32m/home/stephan/GitProjects/schlichtanders/schlichtanders/mygenerators.pyc\u001b[0m in \u001b[0;36meat\u001b[1;34m(gen, n)\u001b[0m\n\u001b[0;32m    131\u001b[0m \u001b[1;32mdef\u001b[0m \u001b[0meat\u001b[0m\u001b[1;33m(\u001b[0m\u001b[0mgen\u001b[0m\u001b[1;33m,\u001b[0m \u001b[0mn\u001b[0m\u001b[1;33m=\u001b[0m\u001b[1;36m1\u001b[0m\u001b[1;33m)\u001b[0m\u001b[1;33m:\u001b[0m\u001b[1;33m\u001b[0m\u001b[0m\n\u001b[0;32m    132\u001b[0m     \u001b[1;32mfor\u001b[0m \u001b[0m_\u001b[0m \u001b[1;32min\u001b[0m \u001b[0mxrange\u001b[0m\u001b[1;33m(\u001b[0m\u001b[0mn\u001b[0m\u001b[1;33m)\u001b[0m\u001b[1;33m:\u001b[0m\u001b[1;33m\u001b[0m\u001b[0m\n\u001b[1;32m--> 133\u001b[1;33m         \u001b[0mnext\u001b[0m\u001b[1;33m(\u001b[0m\u001b[0mgen\u001b[0m\u001b[1;33m)\u001b[0m\u001b[1;33m\u001b[0m\u001b[0m\n\u001b[0m\u001b[0;32m    134\u001b[0m \u001b[1;33m\u001b[0m\u001b[0m\n\u001b[0;32m    135\u001b[0m \u001b[1;32mdef\u001b[0m \u001b[0meatN\u001b[0m\u001b[1;33m(\u001b[0m\u001b[0mN\u001b[0m\u001b[1;33m,\u001b[0m \u001b[0miterator\u001b[0m\u001b[1;33m)\u001b[0m\u001b[1;33m:\u001b[0m\u001b[1;33m\u001b[0m\u001b[0m\n",
      "\u001b[1;32m/home/stephan/GitProjects/climin/climin/base.pyc\u001b[0m in \u001b[0;36m__iter__\u001b[1;34m(self)\u001b[0m\n\u001b[0;32m     82\u001b[0m \u001b[1;33m\u001b[0m\u001b[0m\n\u001b[0;32m     83\u001b[0m     \u001b[1;32mdef\u001b[0m \u001b[0m__iter__\u001b[0m\u001b[1;33m(\u001b[0m\u001b[0mself\u001b[0m\u001b[1;33m)\u001b[0m\u001b[1;33m:\u001b[0m\u001b[1;33m\u001b[0m\u001b[0m\n\u001b[1;32m---> 84\u001b[1;33m         \u001b[1;32mfor\u001b[0m \u001b[0minfo\u001b[0m \u001b[1;32min\u001b[0m \u001b[0mself\u001b[0m\u001b[1;33m.\u001b[0m\u001b[0m_iterate\u001b[0m\u001b[1;33m(\u001b[0m\u001b[1;33m)\u001b[0m\u001b[1;33m:\u001b[0m\u001b[1;33m\u001b[0m\u001b[0m\n\u001b[0m\u001b[0;32m     85\u001b[0m             \u001b[1;32myield\u001b[0m \u001b[0mself\u001b[0m\u001b[1;33m.\u001b[0m\u001b[0mextended_info\u001b[0m\u001b[1;33m(\u001b[0m\u001b[1;33m**\u001b[0m\u001b[0minfo\u001b[0m\u001b[1;33m)\u001b[0m\u001b[1;33m\u001b[0m\u001b[0m\n\u001b[0;32m     86\u001b[0m \u001b[1;33m\u001b[0m\u001b[0m\n",
      "\u001b[1;32m/home/stephan/GitProjects/climin/climin/rmsprop.pyc\u001b[0m in \u001b[0;36m_iterate\u001b[1;34m(self)\u001b[0m\n\u001b[0;32m    161\u001b[0m             \u001b[0mstep1\u001b[0m \u001b[1;33m=\u001b[0m \u001b[0mstep_m1\u001b[0m \u001b[1;33m*\u001b[0m \u001b[0mself\u001b[0m\u001b[1;33m.\u001b[0m\u001b[0mmomentum\u001b[0m\u001b[1;33m\u001b[0m\u001b[0m\n\u001b[0;32m    162\u001b[0m             \u001b[0mself\u001b[0m\u001b[1;33m.\u001b[0m\u001b[0mwrt\u001b[0m \u001b[1;33m-=\u001b[0m \u001b[0mstep1\u001b[0m\u001b[1;33m\u001b[0m\u001b[0m\n\u001b[1;32m--> 163\u001b[1;33m             \u001b[0mgradient\u001b[0m \u001b[1;33m=\u001b[0m \u001b[0mself\u001b[0m\u001b[1;33m.\u001b[0m\u001b[0mfprime\u001b[0m\u001b[1;33m(\u001b[0m\u001b[0mself\u001b[0m\u001b[1;33m.\u001b[0m\u001b[0mwrt\u001b[0m\u001b[1;33m,\u001b[0m \u001b[1;33m*\u001b[0m\u001b[0margs\u001b[0m\u001b[1;33m,\u001b[0m \u001b[1;33m**\u001b[0m\u001b[0mkwargs\u001b[0m\u001b[1;33m)\u001b[0m\u001b[1;33m\u001b[0m\u001b[0m\n\u001b[0m\u001b[0;32m    164\u001b[0m \u001b[1;33m\u001b[0m\u001b[0m\n\u001b[0;32m    165\u001b[0m             self.moving_mean_squared = (\n",
      "\u001b[1;32m/home/stephan/GitProjects/theano_models/theano_models/postmaps.pyc\u001b[0m in \u001b[0;36mannealed\u001b[1;34m(parameters, *loss_inputs, **kwargs)\u001b[0m\n\u001b[0;32m    372\u001b[0m \u001b[1;33m\u001b[0m\u001b[0m\n\u001b[0;32m    373\u001b[0m             \u001b[0mld\u001b[0m \u001b[1;33m=\u001b[0m \u001b[0mnext\u001b[0m\u001b[1;33m(\u001b[0m\u001b[0mself\u001b[0m\u001b[1;33m.\u001b[0m\u001b[0mweights_data\u001b[0m\u001b[1;33m)\u001b[0m \u001b[1;33m*\u001b[0m \u001b[0mloss_data\u001b[0m\u001b[1;33m(\u001b[0m\u001b[0mparameters\u001b[0m\u001b[1;33m,\u001b[0m \u001b[1;33m*\u001b[0m\u001b[0mloss_inputs\u001b[0m\u001b[1;33m)\u001b[0m \u001b[1;33m/\u001b[0m \u001b[0mlength\u001b[0m\u001b[1;33m[\u001b[0m\u001b[1;34m'data'\u001b[0m\u001b[1;33m]\u001b[0m\u001b[1;33m\u001b[0m\u001b[0m\n\u001b[1;32m--> 374\u001b[1;33m             \u001b[0mlr\u001b[0m \u001b[1;33m=\u001b[0m \u001b[0mnext\u001b[0m\u001b[1;33m(\u001b[0m\u001b[0mself\u001b[0m\u001b[1;33m.\u001b[0m\u001b[0mweights_regularizer\u001b[0m\u001b[1;33m)\u001b[0m \u001b[1;33m*\u001b[0m \u001b[0mloss_regularizer\u001b[0m\u001b[1;33m(\u001b[0m\u001b[0mparameters\u001b[0m\u001b[1;33m)\u001b[0m \u001b[1;33m/\u001b[0m \u001b[0mlength\u001b[0m\u001b[1;33m[\u001b[0m\u001b[1;34m'regularizer'\u001b[0m\u001b[1;33m]\u001b[0m\u001b[1;33m\u001b[0m\u001b[0m\n\u001b[0m\u001b[0;32m    375\u001b[0m             \u001b[1;32mreturn\u001b[0m \u001b[0mld\u001b[0m \u001b[1;33m+\u001b[0m \u001b[0mlr\u001b[0m\u001b[1;33m\u001b[0m\u001b[0m\n\u001b[0;32m    376\u001b[0m         \u001b[1;32mreturn\u001b[0m \u001b[0mannealed\u001b[0m\u001b[1;33m\u001b[0m\u001b[0m\n",
      "\u001b[1;32m/home/stephan/GitProjects/Theano/theano/compile/function_module.pyc\u001b[0m in \u001b[0;36m__call__\u001b[1;34m(self, *args, **kwargs)\u001b[0m\n\u001b[0;32m    860\u001b[0m         \u001b[1;32mtry\u001b[0m\u001b[1;33m:\u001b[0m\u001b[1;33m\u001b[0m\u001b[0m\n\u001b[0;32m    861\u001b[0m             \u001b[0moutputs\u001b[0m \u001b[1;33m=\u001b[0m\u001b[0;31m\\\u001b[0m\u001b[1;33m\u001b[0m\u001b[0m\n\u001b[1;32m--> 862\u001b[1;33m                 \u001b[0mself\u001b[0m\u001b[1;33m.\u001b[0m\u001b[0mfn\u001b[0m\u001b[1;33m(\u001b[0m\u001b[1;33m)\u001b[0m \u001b[1;32mif\u001b[0m \u001b[0moutput_subset\u001b[0m \u001b[1;32mis\u001b[0m \u001b[0mNone\u001b[0m \u001b[1;32melse\u001b[0m\u001b[0;31m\\\u001b[0m\u001b[1;33m\u001b[0m\u001b[0m\n\u001b[0m\u001b[0;32m    863\u001b[0m                 \u001b[0mself\u001b[0m\u001b[1;33m.\u001b[0m\u001b[0mfn\u001b[0m\u001b[1;33m(\u001b[0m\u001b[0moutput_subset\u001b[0m\u001b[1;33m=\u001b[0m\u001b[0moutput_subset\u001b[0m\u001b[1;33m)\u001b[0m\u001b[1;33m\u001b[0m\u001b[0m\n\u001b[0;32m    864\u001b[0m         \u001b[1;32mexcept\u001b[0m \u001b[0mException\u001b[0m\u001b[1;33m:\u001b[0m\u001b[1;33m\u001b[0m\u001b[0m\n",
      "\u001b[1;32m/home/stephan/GitProjects/Theano/theano/gof/op.pyc\u001b[0m in \u001b[0;36mrval\u001b[1;34m(p, i, o, n)\u001b[0m\n\u001b[0;32m    903\u001b[0m             \u001b[1;31m# default arguments are stored in the closure of `rval`\u001b[0m\u001b[1;33m\u001b[0m\u001b[1;33m\u001b[0m\u001b[0m\n\u001b[0;32m    904\u001b[0m             \u001b[1;32mdef\u001b[0m \u001b[0mrval\u001b[0m\u001b[1;33m(\u001b[0m\u001b[0mp\u001b[0m\u001b[1;33m=\u001b[0m\u001b[0mp\u001b[0m\u001b[1;33m,\u001b[0m \u001b[0mi\u001b[0m\u001b[1;33m=\u001b[0m\u001b[0mnode_input_storage\u001b[0m\u001b[1;33m,\u001b[0m \u001b[0mo\u001b[0m\u001b[1;33m=\u001b[0m\u001b[0mnode_output_storage\u001b[0m\u001b[1;33m,\u001b[0m \u001b[0mn\u001b[0m\u001b[1;33m=\u001b[0m\u001b[0mnode\u001b[0m\u001b[1;33m)\u001b[0m\u001b[1;33m:\u001b[0m\u001b[1;33m\u001b[0m\u001b[0m\n\u001b[1;32m--> 905\u001b[1;33m                 \u001b[0mr\u001b[0m \u001b[1;33m=\u001b[0m \u001b[0mp\u001b[0m\u001b[1;33m(\u001b[0m\u001b[0mn\u001b[0m\u001b[1;33m,\u001b[0m \u001b[1;33m[\u001b[0m\u001b[0mx\u001b[0m\u001b[1;33m[\u001b[0m\u001b[1;36m0\u001b[0m\u001b[1;33m]\u001b[0m \u001b[1;32mfor\u001b[0m \u001b[0mx\u001b[0m \u001b[1;32min\u001b[0m \u001b[0mi\u001b[0m\u001b[1;33m]\u001b[0m\u001b[1;33m,\u001b[0m \u001b[0mo\u001b[0m\u001b[1;33m)\u001b[0m\u001b[1;33m\u001b[0m\u001b[0m\n\u001b[0m\u001b[0;32m    906\u001b[0m                 \u001b[1;32mfor\u001b[0m \u001b[0mo\u001b[0m \u001b[1;32min\u001b[0m \u001b[0mnode\u001b[0m\u001b[1;33m.\u001b[0m\u001b[0moutputs\u001b[0m\u001b[1;33m:\u001b[0m\u001b[1;33m\u001b[0m\u001b[0m\n\u001b[0;32m    907\u001b[0m                     \u001b[0mcompute_map\u001b[0m\u001b[1;33m[\u001b[0m\u001b[0mo\u001b[0m\u001b[1;33m]\u001b[0m\u001b[1;33m[\u001b[0m\u001b[1;36m0\u001b[0m\u001b[1;33m]\u001b[0m \u001b[1;33m=\u001b[0m \u001b[0mTrue\u001b[0m\u001b[1;33m\u001b[0m\u001b[0m\n",
      "\u001b[1;32m/home/stephan/GitProjects/Theano/theano/tensor/elemwise.pyc\u001b[0m in \u001b[0;36mperform\u001b[1;34m(self, node, inputs, output_storage)\u001b[0m\n\u001b[0;32m    943\u001b[0m                 \u001b[0mstorage\u001b[0m\u001b[1;33m[\u001b[0m\u001b[1;36m0\u001b[0m\u001b[1;33m]\u001b[0m \u001b[1;33m=\u001b[0m \u001b[0mvariable\u001b[0m\u001b[1;33m\u001b[0m\u001b[0m\n\u001b[0;32m    944\u001b[0m             \u001b[1;31m# numpy.real return a view!\u001b[0m\u001b[1;33m\u001b[0m\u001b[1;33m\u001b[0m\u001b[0m\n\u001b[1;32m--> 945\u001b[1;33m             \u001b[1;32melif\u001b[0m \u001b[1;32mnot\u001b[0m \u001b[0mvariable\u001b[0m\u001b[1;33m.\u001b[0m\u001b[0mflags\u001b[0m\u001b[1;33m.\u001b[0m\u001b[0mowndata\u001b[0m\u001b[1;33m:\u001b[0m\u001b[1;33m\u001b[0m\u001b[0m\n\u001b[0m\u001b[0;32m    946\u001b[0m                 \u001b[0mstorage\u001b[0m\u001b[1;33m[\u001b[0m\u001b[1;36m0\u001b[0m\u001b[1;33m]\u001b[0m \u001b[1;33m=\u001b[0m \u001b[0mvariable\u001b[0m\u001b[1;33m.\u001b[0m\u001b[0mcopy\u001b[0m\u001b[1;33m(\u001b[0m\u001b[1;33m)\u001b[0m\u001b[1;33m\u001b[0m\u001b[0m\n\u001b[0;32m    947\u001b[0m             \u001b[1;32melse\u001b[0m\u001b[1;33m:\u001b[0m\u001b[1;33m\u001b[0m\u001b[0m\n",
      "\u001b[1;31mKeyboardInterrupt\u001b[0m: "
     ]
    }
   ],
   "source": [
    "best_parameters = None\n",
    "best_val_loss = inf\n",
    "last_improvement_epoch = 1\n",
    "for info in every(n_batches, opt):\n",
    "    current_epoch = info['n_iter']//n_batches\n",
    "    if current_epoch - last_improvement_epoch > 50:\n",
    "        break\n",
    "    # collect and visualize validation loss for choosing the best model\n",
    "    val_loss = optimizer_kwargs['num_loss'](opt.wrt, training, no_annealing=True)\n",
    "    if val_loss < best_val_loss:\n",
    "        last_improvement_epoch = current_epoch\n",
    "        best_parameters = opt.wrt\n",
    "        best_val_loss = val_loss\n",
    "    \n",
    "    print zip(model['flat'].name.split(':'), climin_kwargs['fprime'](opt.wrt, training[:100], no_annealing=True))\n",
    "    plot_fit(fig, ax, givens={model['flat']: opt.wrt}, time_delay=None)\n",
    "    print best_val_loss,"
   ]
  },
  {
   "cell_type": "code",
   "execution_count": null,
   "metadata": {
    "collapsed": false
   },
   "outputs": [],
   "source": [
    "%debug"
   ]
  },
  {
   "cell_type": "code",
   "execution_count": null,
   "metadata": {
    "collapsed": false
   },
   "outputs": [],
   "source": [
    "optimizer_kwargs['flat']"
   ]
  },
  {
   "cell_type": "code",
   "execution_count": null,
   "metadata": {
    "collapsed": false
   },
   "outputs": [],
   "source": [
    "%timeit optimizer_kwargs['num_jacobian'](best_parameters, targets[:100])"
   ]
  },
  {
   "cell_type": "code",
   "execution_count": null,
   "metadata": {
    "collapsed": false
   },
   "outputs": [],
   "source": [
    "stats = np.array([optimizer_kwargs['num_jacobian'](best_parameters, targets[:100]) for _ in range(1000)])"
   ]
  },
  {
   "cell_type": "code",
   "execution_count": null,
   "metadata": {
    "collapsed": false
   },
   "outputs": [],
   "source": [
    "stats[:100]"
   ]
  },
  {
   "cell_type": "code",
   "execution_count": null,
   "metadata": {
    "collapsed": false
   },
   "outputs": [],
   "source": [
    "plot(stats.T)\n",
    "pass"
   ]
  },
  {
   "cell_type": "code",
   "execution_count": null,
   "metadata": {
    "collapsed": false
   },
   "outputs": [],
   "source": [
    "stats.mean(0)"
   ]
  },
  {
   "cell_type": "code",
   "execution_count": null,
   "metadata": {
    "collapsed": false
   },
   "outputs": [],
   "source": [
    "stats.var(0)"
   ]
  },
  {
   "cell_type": "code",
   "execution_count": null,
   "metadata": {
    "collapsed": false
   },
   "outputs": [],
   "source": [
    "opt.n_iter"
   ]
  },
  {
   "cell_type": "code",
   "execution_count": null,
   "metadata": {
    "collapsed": false
   },
   "outputs": [],
   "source": [
    "model.u.eval({model['flat']: best_parameters})"
   ]
  },
  {
   "cell_type": "code",
   "execution_count": 47,
   "metadata": {
    "collapsed": false
   },
   "outputs": [
    {
     "data": {
      "text/plain": [
       "[array(0.06547236359945446),\n",
       " array(-1.0),\n",
       " array([ 1.37626268,  1.41357919]),\n",
       " array([ 1.,  3.]),\n",
       " array([ 1.39112563,  1.28271282]),\n",
       " array([ 3.,  6.]),\n",
       " array([ 0.,  0.]),\n",
       " array([ 0.,  0.]),\n",
       " array(0.010521653958982724),\n",
       " array(2.0),\n",
       " array(16.750065427548464)]"
      ]
     },
     "execution_count": 47,
     "metadata": {},
     "output_type": "execute_result"
    },
    {
     "name": "stdout",
     "output_type": "stream",
     "text": [
      "\n"
     ]
    }
   ],
   "source": [
    "theano.function([model['flat']], \n",
    "                [model.b, target.b,\n",
    "                 model.w, target.w,\n",
    "                 model._u, target._u, \n",
    "                 param_model_base.mean, \n",
    "                 param_target_base.mean, \n",
    "                 param_model_base.var, param_target_base.var,\n",
    "                 data_model.var],\n",
    "                mode=\"FAST_COMPILE\")(best_parameters)"
   ]
  },
  {
   "cell_type": "code",
   "execution_count": null,
   "metadata": {
    "collapsed": false
   },
   "outputs": [],
   "source": [
    "best_val_loss"
   ]
  },
  {
   "cell_type": "markdown",
   "metadata": {
    "collapsed": true
   },
   "source": [
    "Using the default scipy optimizer, one can see very good, that the problem is ill-defined in that the maximum likelihood solution is a ill-formed solution."
   ]
  },
  {
   "cell_type": "code",
   "execution_count": null,
   "metadata": {
    "collapsed": true
   },
   "outputs": [],
   "source": []
  }
 ],
 "metadata": {
  "kernelspec": {
   "display_name": "Python 2",
   "language": "python",
   "name": "python2"
  },
  "language_info": {
   "codemirror_mode": {
    "name": "ipython",
    "version": 2
   },
   "file_extension": ".py",
   "mimetype": "text/x-python",
   "name": "python",
   "nbconvert_exporter": "python",
   "pygments_lexer": "ipython2",
   "version": "2.7.6"
  },
  "toc": {
   "toc_cell": false,
   "toc_number_sections": true,
   "toc_threshold": 4,
   "toc_window_display": false
  }
 },
 "nbformat": 4,
 "nbformat_minor": 0
}
