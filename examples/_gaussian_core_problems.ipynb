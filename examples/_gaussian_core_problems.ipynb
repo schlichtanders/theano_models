{
 "cells": [
  {
   "cell_type": "code",
   "execution_count": 1,
   "metadata": {
    "collapsed": false,
    "scrolled": true
   },
   "outputs": [
    {
     "name": "stderr",
     "output_type": "stream",
     "text": [
      "/usr/local/lib/python2.7/dist-packages/matplotlib/font_manager.py:273: UserWarning: Matplotlib is building the font cache using fc-list. This may take a moment.\n",
      "  warnings.warn('Matplotlib is building the font cache using fc-list. This may take a moment.')\n"
     ]
    }
   ],
   "source": [
    "%matplotlib notebook\n",
    "from __future__ import division"
   ]
  },
  {
   "cell_type": "code",
   "execution_count": 2,
   "metadata": {
    "collapsed": false
   },
   "outputs": [
    {
     "name": "stdout",
     "output_type": "stream",
     "text": [
      "gnumpy: failed to import cudamat. Using npmat instead. No GPU will be used.\n"
     ]
    }
   ],
   "source": [
    "import matplotlib.pyplot as plt\n",
    "from matplotlib.pyplot import plot, ylabel, xlabel, yscale, xscale, legend, subplots, gca, gcf, subplots, figure\n",
    "from matplotlib.ticker import FormatStrFormatter\n",
    "from theano import function\n",
    "import numpy as np\n",
    "import gzip\n",
    "import cPickle\n",
    "from scipy.optimize import minimize\n",
    "from climin.util import optimizer\n",
    "from itertools import repeat, cycle, islice, izip, imap, islice\n",
    "import random\n",
    "import time\n",
    "from pprint import pprint\n",
    "inf = float(\"inf\")"
   ]
  },
  {
   "cell_type": "code",
   "execution_count": 3,
   "metadata": {
    "collapsed": false
   },
   "outputs": [],
   "source": [
    "from breze.learn.data import one_hot\n",
    "from breze.learn.base import cast_array_to_local_type\n",
    "from schlichtanders.myfunctools import compose, meanmap, meanexpmap, summap, compose_fmap, Average, as_wrapper, AverageExp\n",
    "from schlichtanders import myfunctools\n",
    "from schlichtanders.mygenerators import eatN, chunk, chunk_list, every, takeN\n",
    "from schlichtanders.myplot import add_val, add_point\n",
    "from schlichtanders.mycontextmanagers import ignored"
   ]
  },
  {
   "cell_type": "code",
   "execution_count": 4,
   "metadata": {
    "collapsed": false
   },
   "outputs": [],
   "source": [
    "from theano_models import (Merge, Flatten, Reparameterize, Center, reduce_all_identities, variational_bayes,\n",
    "                           normalizing_flow,\n",
    "                           fix_params, inputting_references, outputting_references)\n",
    "from theano_models.tools import (as_tensor_variable, total_size, clone, clone_all,PooledRandomStreams,\n",
    "                                 get_profile, squareplus, squareplus_inv, softplus, softplus_inv)\n",
    "from theano_models.visualization import d3viz\n",
    "from IPython.display import IFrame\n",
    "import theano_models.deterministic_models as dm\n",
    "import theano_models.probabilistic_models as pm\n",
    "import theano_models.extra_models as em\n",
    "import theano_models.postmaps as post\n",
    "from theano_models.composing import normalizing_flow, variational_bayes"
   ]
  },
  {
   "cell_type": "code",
   "execution_count": 5,
   "metadata": {
    "collapsed": true
   },
   "outputs": [],
   "source": [
    "import theano\n",
    "import theano.tensor as T\n",
    "from theano.printing import debugprint\n",
    "from theano.tensor.shared_randomstreams import RandomStreams"
   ]
  },
  {
   "cell_type": "code",
   "execution_count": 6,
   "metadata": {
    "collapsed": false
   },
   "outputs": [],
   "source": [
    "from sqlalchemy import Column, Integer, Unicode, UnicodeText, String, PickleType, Float\n",
    "from sqlalchemy import create_engine\n",
    "from sqlalchemy.orm import sessionmaker\n",
    "from sqlalchemy.ext.declarative import declarative_base"
   ]
  },
  {
   "cell_type": "code",
   "execution_count": 7,
   "metadata": {
    "collapsed": false
   },
   "outputs": [],
   "source": [
    "import warnings\n",
    "warnings.filterwarnings(\"ignore\", category=DeprecationWarning)"
   ]
  },
  {
   "cell_type": "code",
   "execution_count": 8,
   "metadata": {
    "collapsed": false,
    "scrolled": true
   },
   "outputs": [
    {
     "data": {
      "text/plain": [
       "({'extra_inputs',\n",
       "  'flat',\n",
       "  'inputs',\n",
       "  'n_data',\n",
       "  'parameters',\n",
       "  'parameters_positive',\n",
       "  'parameters_psumto1',\n",
       "  'to_be_randomized'},\n",
       " {'kl_prior', 'loglikelihood', 'norm_det', 'norm_dets', 'outputs'})"
      ]
     },
     "execution_count": 8,
     "metadata": {},
     "output_type": "execute_result"
    }
   ],
   "source": [
    "inputting_references.update(['to_be_randomized'])\n",
    "inputting_references, outputting_references"
   ]
  },
  {
   "cell_type": "markdown",
   "metadata": {},
   "source": [
    "# target (true)"
   ]
  },
  {
   "cell_type": "code",
   "execution_count": 9,
   "metadata": {
    "collapsed": false
   },
   "outputs": [
    {
     "data": {
      "text/plain": [
       "variational_lower_bound { 'inputs': [],\n",
       "  'kl_prior': variational_lower_bound.kl_prior,\n",
       "  'logposterior': variational_lower_bound.logposterior,\n",
       "  'logprior': variational_lower_bound.logprior,\n",
       "  'n_data': n_data,\n",
       "  'outputs': Gauss.outputs,\n",
       "  'parameters': [],\n",
       "  'parameters_positive': [var]}"
      ]
     },
     "execution_count": 9,
     "metadata": {},
     "output_type": "execute_result"
    }
   ],
   "source": [
    "data_target = Merge(pm.Gauss(2, init_var=np.exp(-2)), ignore_references={'parameters_positive'}) # fix var for likelihood\n",
    "param_target = Merge(pm.Gauss(2, init_var=10), ignore_references={'parameters'}) # fix mean for parameters\n",
    "# param_model = normalizing_flow(dm.LocScaleTransform(), fix_params(pm.DiagGauss(2)))\n",
    "\n",
    "prior = fix_params(pm.Gauss(2, init_var=10))  # fix everything for the gaussian\n",
    "target = variational_bayes(data_target, 'parameters', param_target, priors=prior)\n",
    "# loglikelihood equals standard log-probability objective\n",
    "target"
   ]
  },
  {
   "cell_type": "markdown",
   "metadata": {},
   "source": [
    "---"
   ]
  },
  {
   "cell_type": "code",
   "execution_count": 10,
   "metadata": {
    "collapsed": true
   },
   "outputs": [],
   "source": [
    "t_sampler = target.function()\n",
    "n_samples = 10000\n",
    "training = np.array([t_sampler() for _ in xrange(n_samples)])\n",
    "targets = training"
   ]
  },
  {
   "cell_type": "code",
   "execution_count": 11,
   "metadata": {
    "collapsed": false
   },
   "outputs": [],
   "source": [
    "target['n_data'].set_value(len(targets))"
   ]
  },
  {
   "cell_type": "markdown",
   "metadata": {},
   "source": [
    "# posterior"
   ]
  },
  {
   "cell_type": "markdown",
   "metadata": {},
   "source": [
    "$$p(W|D) = \\frac{p(D|W)p(W)}{p(D)=\\int P(D|W) P(W) dW}$$"
   ]
  },
  {
   "cell_type": "code",
   "execution_count": 12,
   "metadata": {
    "collapsed": true
   },
   "outputs": [],
   "source": [
    "pD = pm.Gauss(2, init_var=10 + np.exp(-2))"
   ]
  },
  {
   "cell_type": "markdown",
   "metadata": {},
   "source": [
    "# model"
   ]
  },
  {
   "cell_type": "code",
   "execution_count": 13,
   "metadata": {
    "collapsed": true
   },
   "outputs": [],
   "source": [
    "model = target"
   ]
  },
  {
   "cell_type": "markdown",
   "metadata": {},
   "source": [
    "----"
   ]
  },
  {
   "cell_type": "code",
   "execution_count": 14,
   "metadata": {
    "collapsed": false
   },
   "outputs": [
    {
     "data": {
      "text/plain": [
       "Merge9 { 'flat': \"var_softplus_centered\",\n",
       "  'inputs': [],\n",
       "  'kl_prior': variational_lower_bound.kl_prior,\n",
       "  'logposterior': variational_lower_bound.logposterior,\n",
       "  'logprior': variational_lower_bound.logprior,\n",
       "  'n_data': n_data,\n",
       "  'outputs': Gauss.outputs,\n",
       "  'parameters': [],\n",
       "  'parameters_positive': []}"
      ]
     },
     "execution_count": 14,
     "metadata": {},
     "output_type": "execute_result"
    }
   ],
   "source": [
    "# model = Merge(model, Reparameterize(model['parameters_positive'], squareplus, squareplus_inv))\n",
    "# UncertainWeights uses softplus parameterization\n",
    "_model = model\n",
    "_model = Merge(_model, Reparameterize(_model['parameters_positive'], softplus, softplus_inv))\n",
    "_model = Merge(_model, Center(_model['parameters']))\n",
    "_model = Merge(_model, Flatten(_model['parameters']))\n",
    "_model"
   ]
  },
  {
   "cell_type": "markdown",
   "metadata": {},
   "source": [
    "# Visualization"
   ]
  },
  {
   "cell_type": "raw",
   "metadata": {
    "collapsed": false
   },
   "source": [
    "d3viz(model.logP['outputs'], \"tmp/logP.html\")\n",
    "IFrame(\"tmp/logP.html\", width=700, height=400)"
   ]
  },
  {
   "cell_type": "raw",
   "metadata": {
    "collapsed": false
   },
   "source": [
    "_model['flat']"
   ]
  },
  {
   "cell_type": "raw",
   "metadata": {
    "collapsed": false
   },
   "source": [
    "d3viz(theano.clone(model.logP['outputs'],\n",
    "                   replace={model.logP['inputs'][0]:as_tensor_variable([5.0, 1.0])}),\n",
    "      \"tmp/logP_clone.html\", match_by_names=True)\n",
    "IFrame(\"tmp/logP_clone.html\", width=700, height=400)"
   ]
  },
  {
   "cell_type": "code",
   "execution_count": 15,
   "metadata": {
    "collapsed": true
   },
   "outputs": [],
   "source": [
    "scatter_kwargs = dict(edgecolors=\"face\", alpha=0.01, s=5000)\n",
    "outer = dict(i=0)\n",
    "example_samples = 1000\n",
    "def plot_fit(fig, ax, givens={}, time_delay=0.1):\n",
    "    outer['i'] += 1\n",
    "    ax.clear()\n",
    "    \n",
    "    # targets\n",
    "    ax.plot(targets[:example_samples,0], targets[:example_samples,1], 'k.')\n",
    "#     ax.scatter(targets[:,0], targets[:,1], c='k', **scatter_kwargs)\n",
    "\n",
    "    # model\n",
    "    m_sampler = model.function(givens=givens)\n",
    "    m_samples = np.array([m_sampler() for _ in xrange(example_samples//2)])\n",
    "    ax.scatter(m_samples[:,0], m_samples[:,1], c='r',**scatter_kwargs)\n",
    "\n",
    "    fig.canvas.draw()\n",
    "    if time_delay is not None:\n",
    "        time.sleep(time_delay)"
   ]
  },
  {
   "cell_type": "markdown",
   "metadata": {},
   "source": [
    "TODO the above throughs error, however this would be not needed any longer if the logP are taking vectors of values instead of values as argument"
   ]
  },
  {
   "cell_type": "code",
   "execution_count": 19,
   "metadata": {
    "collapsed": false
   },
   "outputs": [
    {
     "ename": "TypeError",
     "evalue": "Cannot convert Type TensorType(float64, vector) (of Variable <TensorType(float64, vector)>) into Type TensorType(float64, (True,)). You can try to manually convert <TensorType(float64, vector)> into a TensorType(float64, (True,)).",
     "output_type": "error",
     "traceback": [
      "\u001b[1;31m---------------------------------------------------------------------------\u001b[0m",
      "\u001b[1;31mTypeError\u001b[0m                                 Traceback (most recent call last)",
      "\u001b[1;32m<ipython-input-19-550d72746c72>\u001b[0m in \u001b[0;36m<module>\u001b[1;34m()\u001b[0m\n\u001b[0;32m     29\u001b[0m                                      ,_model['flat']: flat})\n\u001b[0;32m     30\u001b[0m                 \u001b[1;31m# for some weird reason, _model['flat'] is no longer there in the cloned version\u001b[0m\u001b[1;33m\u001b[0m\u001b[1;33m\u001b[0m\u001b[0m\n\u001b[1;32m---> 31\u001b[1;33m                 for rv in XY])\n\u001b[0m\u001b[0;32m     32\u001b[0m \u001b[0mf_logP_model\u001b[0m \u001b[1;33m=\u001b[0m \u001b[0mtheano\u001b[0m\u001b[1;33m.\u001b[0m\u001b[0mfunction\u001b[0m\u001b[1;33m(\u001b[0m\u001b[1;33m[\u001b[0m\u001b[0mflat\u001b[0m\u001b[1;33m]\u001b[0m\u001b[1;33m,\u001b[0m \u001b[0mlogP_model\u001b[0m\u001b[1;33m)\u001b[0m\u001b[1;33m\u001b[0m\u001b[0m\n\u001b[0;32m     33\u001b[0m \u001b[1;33m\u001b[0m\u001b[0m\n",
      "\u001b[1;32m/home/stephan/GitProjects/Theano/theano/scan_module/scan_utils.pyc\u001b[0m in \u001b[0;36mclone\u001b[1;34m(output, replace, strict, share_inputs, copy_inputs)\u001b[0m\n\u001b[0;32m    254\u001b[0m                                         \u001b[1;33m[\u001b[0m\u001b[1;33m]\u001b[0m\u001b[1;33m,\u001b[0m\u001b[1;33m\u001b[0m\u001b[0m\n\u001b[0;32m    255\u001b[0m                                         \u001b[0mstrict\u001b[0m\u001b[1;33m,\u001b[0m\u001b[1;33m\u001b[0m\u001b[0m\n\u001b[1;32m--> 256\u001b[1;33m                                         share_inputs)\n\u001b[0m\u001b[0;32m    257\u001b[0m \u001b[1;33m\u001b[0m\u001b[0m\n\u001b[0;32m    258\u001b[0m     \u001b[1;32mreturn\u001b[0m \u001b[0mouts\u001b[0m\u001b[1;33m\u001b[0m\u001b[0m\n",
      "\u001b[1;32m/home/stephan/GitProjects/Theano/theano/compile/pfunc.pyc\u001b[0m in \u001b[0;36mrebuild_collect_shared\u001b[1;34m(outputs, inputs, replace, updates, rebuild_strict, copy_inputs_over, no_default_updates)\u001b[0m\n\u001b[0;32m    230\u001b[0m     \u001b[1;32melse\u001b[0m\u001b[1;33m:\u001b[0m\u001b[1;33m\u001b[0m\u001b[0m\n\u001b[0;32m    231\u001b[0m         \u001b[1;32mif\u001b[0m \u001b[0misinstance\u001b[0m\u001b[1;33m(\u001b[0m\u001b[0moutputs\u001b[0m\u001b[1;33m,\u001b[0m \u001b[0mVariable\u001b[0m\u001b[1;33m)\u001b[0m\u001b[1;33m:\u001b[0m\u001b[1;33m\u001b[0m\u001b[0m\n\u001b[1;32m--> 232\u001b[1;33m             \u001b[0mcloned_v\u001b[0m \u001b[1;33m=\u001b[0m \u001b[0mclone_v_get_shared_updates\u001b[0m\u001b[1;33m(\u001b[0m\u001b[0moutputs\u001b[0m\u001b[1;33m,\u001b[0m \u001b[0mcopy_inputs_over\u001b[0m\u001b[1;33m)\u001b[0m\u001b[1;33m\u001b[0m\u001b[0m\n\u001b[0m\u001b[0;32m    233\u001b[0m             \u001b[0mcloned_outputs\u001b[0m \u001b[1;33m=\u001b[0m \u001b[0mcloned_v\u001b[0m\u001b[1;33m\u001b[0m\u001b[0m\n\u001b[0;32m    234\u001b[0m             \u001b[1;31m# computed_list.append(cloned_v)\u001b[0m\u001b[1;33m\u001b[0m\u001b[1;33m\u001b[0m\u001b[0m\n",
      "\u001b[1;32m/home/stephan/GitProjects/Theano/theano/compile/pfunc.pyc\u001b[0m in \u001b[0;36mclone_v_get_shared_updates\u001b[1;34m(v, copy_inputs_over)\u001b[0m\n\u001b[0;32m     91\u001b[0m             \u001b[1;32mif\u001b[0m \u001b[0mowner\u001b[0m \u001b[1;32mnot\u001b[0m \u001b[1;32min\u001b[0m \u001b[0mclone_d\u001b[0m\u001b[1;33m:\u001b[0m\u001b[1;33m\u001b[0m\u001b[0m\n\u001b[0;32m     92\u001b[0m                 \u001b[1;32mfor\u001b[0m \u001b[0mi\u001b[0m \u001b[1;32min\u001b[0m \u001b[0mowner\u001b[0m\u001b[1;33m.\u001b[0m\u001b[0minputs\u001b[0m\u001b[1;33m:\u001b[0m\u001b[1;33m\u001b[0m\u001b[0m\n\u001b[1;32m---> 93\u001b[1;33m                     \u001b[0mclone_v_get_shared_updates\u001b[0m\u001b[1;33m(\u001b[0m\u001b[0mi\u001b[0m\u001b[1;33m,\u001b[0m \u001b[0mcopy_inputs_over\u001b[0m\u001b[1;33m)\u001b[0m\u001b[1;33m\u001b[0m\u001b[0m\n\u001b[0m\u001b[0;32m     94\u001b[0m \u001b[1;33m\u001b[0m\u001b[0m\n\u001b[0;32m     95\u001b[0m                 clone_d[owner] = owner.clone_with_new_inputs(\n",
      "\u001b[1;32m/home/stephan/GitProjects/Theano/theano/compile/pfunc.pyc\u001b[0m in \u001b[0;36mclone_v_get_shared_updates\u001b[1;34m(v, copy_inputs_over)\u001b[0m\n\u001b[0;32m     91\u001b[0m             \u001b[1;32mif\u001b[0m \u001b[0mowner\u001b[0m \u001b[1;32mnot\u001b[0m \u001b[1;32min\u001b[0m \u001b[0mclone_d\u001b[0m\u001b[1;33m:\u001b[0m\u001b[1;33m\u001b[0m\u001b[0m\n\u001b[0;32m     92\u001b[0m                 \u001b[1;32mfor\u001b[0m \u001b[0mi\u001b[0m \u001b[1;32min\u001b[0m \u001b[0mowner\u001b[0m\u001b[1;33m.\u001b[0m\u001b[0minputs\u001b[0m\u001b[1;33m:\u001b[0m\u001b[1;33m\u001b[0m\u001b[0m\n\u001b[1;32m---> 93\u001b[1;33m                     \u001b[0mclone_v_get_shared_updates\u001b[0m\u001b[1;33m(\u001b[0m\u001b[0mi\u001b[0m\u001b[1;33m,\u001b[0m \u001b[0mcopy_inputs_over\u001b[0m\u001b[1;33m)\u001b[0m\u001b[1;33m\u001b[0m\u001b[0m\n\u001b[0m\u001b[0;32m     94\u001b[0m \u001b[1;33m\u001b[0m\u001b[0m\n\u001b[0;32m     95\u001b[0m                 clone_d[owner] = owner.clone_with_new_inputs(\n",
      "\u001b[1;32m/home/stephan/GitProjects/Theano/theano/compile/pfunc.pyc\u001b[0m in \u001b[0;36mclone_v_get_shared_updates\u001b[1;34m(v, copy_inputs_over)\u001b[0m\n\u001b[0;32m     91\u001b[0m             \u001b[1;32mif\u001b[0m \u001b[0mowner\u001b[0m \u001b[1;32mnot\u001b[0m \u001b[1;32min\u001b[0m \u001b[0mclone_d\u001b[0m\u001b[1;33m:\u001b[0m\u001b[1;33m\u001b[0m\u001b[0m\n\u001b[0;32m     92\u001b[0m                 \u001b[1;32mfor\u001b[0m \u001b[0mi\u001b[0m \u001b[1;32min\u001b[0m \u001b[0mowner\u001b[0m\u001b[1;33m.\u001b[0m\u001b[0minputs\u001b[0m\u001b[1;33m:\u001b[0m\u001b[1;33m\u001b[0m\u001b[0m\n\u001b[1;32m---> 93\u001b[1;33m                     \u001b[0mclone_v_get_shared_updates\u001b[0m\u001b[1;33m(\u001b[0m\u001b[0mi\u001b[0m\u001b[1;33m,\u001b[0m \u001b[0mcopy_inputs_over\u001b[0m\u001b[1;33m)\u001b[0m\u001b[1;33m\u001b[0m\u001b[0m\n\u001b[0m\u001b[0;32m     94\u001b[0m \u001b[1;33m\u001b[0m\u001b[0m\n\u001b[0;32m     95\u001b[0m                 clone_d[owner] = owner.clone_with_new_inputs(\n",
      "\u001b[1;32m/home/stephan/GitProjects/Theano/theano/compile/pfunc.pyc\u001b[0m in \u001b[0;36mclone_v_get_shared_updates\u001b[1;34m(v, copy_inputs_over)\u001b[0m\n\u001b[0;32m     91\u001b[0m             \u001b[1;32mif\u001b[0m \u001b[0mowner\u001b[0m \u001b[1;32mnot\u001b[0m \u001b[1;32min\u001b[0m \u001b[0mclone_d\u001b[0m\u001b[1;33m:\u001b[0m\u001b[1;33m\u001b[0m\u001b[0m\n\u001b[0;32m     92\u001b[0m                 \u001b[1;32mfor\u001b[0m \u001b[0mi\u001b[0m \u001b[1;32min\u001b[0m \u001b[0mowner\u001b[0m\u001b[1;33m.\u001b[0m\u001b[0minputs\u001b[0m\u001b[1;33m:\u001b[0m\u001b[1;33m\u001b[0m\u001b[0m\n\u001b[1;32m---> 93\u001b[1;33m                     \u001b[0mclone_v_get_shared_updates\u001b[0m\u001b[1;33m(\u001b[0m\u001b[0mi\u001b[0m\u001b[1;33m,\u001b[0m \u001b[0mcopy_inputs_over\u001b[0m\u001b[1;33m)\u001b[0m\u001b[1;33m\u001b[0m\u001b[0m\n\u001b[0m\u001b[0;32m     94\u001b[0m \u001b[1;33m\u001b[0m\u001b[0m\n\u001b[0;32m     95\u001b[0m                 clone_d[owner] = owner.clone_with_new_inputs(\n",
      "\u001b[1;32m/home/stephan/GitProjects/Theano/theano/compile/pfunc.pyc\u001b[0m in \u001b[0;36mclone_v_get_shared_updates\u001b[1;34m(v, copy_inputs_over)\u001b[0m\n\u001b[0;32m     91\u001b[0m             \u001b[1;32mif\u001b[0m \u001b[0mowner\u001b[0m \u001b[1;32mnot\u001b[0m \u001b[1;32min\u001b[0m \u001b[0mclone_d\u001b[0m\u001b[1;33m:\u001b[0m\u001b[1;33m\u001b[0m\u001b[0m\n\u001b[0;32m     92\u001b[0m                 \u001b[1;32mfor\u001b[0m \u001b[0mi\u001b[0m \u001b[1;32min\u001b[0m \u001b[0mowner\u001b[0m\u001b[1;33m.\u001b[0m\u001b[0minputs\u001b[0m\u001b[1;33m:\u001b[0m\u001b[1;33m\u001b[0m\u001b[0m\n\u001b[1;32m---> 93\u001b[1;33m                     \u001b[0mclone_v_get_shared_updates\u001b[0m\u001b[1;33m(\u001b[0m\u001b[0mi\u001b[0m\u001b[1;33m,\u001b[0m \u001b[0mcopy_inputs_over\u001b[0m\u001b[1;33m)\u001b[0m\u001b[1;33m\u001b[0m\u001b[0m\n\u001b[0m\u001b[0;32m     94\u001b[0m \u001b[1;33m\u001b[0m\u001b[0m\n\u001b[0;32m     95\u001b[0m                 clone_d[owner] = owner.clone_with_new_inputs(\n",
      "\u001b[1;32m/home/stephan/GitProjects/Theano/theano/compile/pfunc.pyc\u001b[0m in \u001b[0;36mclone_v_get_shared_updates\u001b[1;34m(v, copy_inputs_over)\u001b[0m\n\u001b[0;32m     91\u001b[0m             \u001b[1;32mif\u001b[0m \u001b[0mowner\u001b[0m \u001b[1;32mnot\u001b[0m \u001b[1;32min\u001b[0m \u001b[0mclone_d\u001b[0m\u001b[1;33m:\u001b[0m\u001b[1;33m\u001b[0m\u001b[0m\n\u001b[0;32m     92\u001b[0m                 \u001b[1;32mfor\u001b[0m \u001b[0mi\u001b[0m \u001b[1;32min\u001b[0m \u001b[0mowner\u001b[0m\u001b[1;33m.\u001b[0m\u001b[0minputs\u001b[0m\u001b[1;33m:\u001b[0m\u001b[1;33m\u001b[0m\u001b[0m\n\u001b[1;32m---> 93\u001b[1;33m                     \u001b[0mclone_v_get_shared_updates\u001b[0m\u001b[1;33m(\u001b[0m\u001b[0mi\u001b[0m\u001b[1;33m,\u001b[0m \u001b[0mcopy_inputs_over\u001b[0m\u001b[1;33m)\u001b[0m\u001b[1;33m\u001b[0m\u001b[0m\n\u001b[0m\u001b[0;32m     94\u001b[0m \u001b[1;33m\u001b[0m\u001b[0m\n\u001b[0;32m     95\u001b[0m                 clone_d[owner] = owner.clone_with_new_inputs(\n",
      "\u001b[1;32m/home/stephan/GitProjects/Theano/theano/compile/pfunc.pyc\u001b[0m in \u001b[0;36mclone_v_get_shared_updates\u001b[1;34m(v, copy_inputs_over)\u001b[0m\n\u001b[0;32m     91\u001b[0m             \u001b[1;32mif\u001b[0m \u001b[0mowner\u001b[0m \u001b[1;32mnot\u001b[0m \u001b[1;32min\u001b[0m \u001b[0mclone_d\u001b[0m\u001b[1;33m:\u001b[0m\u001b[1;33m\u001b[0m\u001b[0m\n\u001b[0;32m     92\u001b[0m                 \u001b[1;32mfor\u001b[0m \u001b[0mi\u001b[0m \u001b[1;32min\u001b[0m \u001b[0mowner\u001b[0m\u001b[1;33m.\u001b[0m\u001b[0minputs\u001b[0m\u001b[1;33m:\u001b[0m\u001b[1;33m\u001b[0m\u001b[0m\n\u001b[1;32m---> 93\u001b[1;33m                     \u001b[0mclone_v_get_shared_updates\u001b[0m\u001b[1;33m(\u001b[0m\u001b[0mi\u001b[0m\u001b[1;33m,\u001b[0m \u001b[0mcopy_inputs_over\u001b[0m\u001b[1;33m)\u001b[0m\u001b[1;33m\u001b[0m\u001b[0m\n\u001b[0m\u001b[0;32m     94\u001b[0m \u001b[1;33m\u001b[0m\u001b[0m\n\u001b[0;32m     95\u001b[0m                 clone_d[owner] = owner.clone_with_new_inputs(\n",
      "\u001b[1;32m/home/stephan/GitProjects/Theano/theano/compile/pfunc.pyc\u001b[0m in \u001b[0;36mclone_v_get_shared_updates\u001b[1;34m(v, copy_inputs_over)\u001b[0m\n\u001b[0;32m     91\u001b[0m             \u001b[1;32mif\u001b[0m \u001b[0mowner\u001b[0m \u001b[1;32mnot\u001b[0m \u001b[1;32min\u001b[0m \u001b[0mclone_d\u001b[0m\u001b[1;33m:\u001b[0m\u001b[1;33m\u001b[0m\u001b[0m\n\u001b[0;32m     92\u001b[0m                 \u001b[1;32mfor\u001b[0m \u001b[0mi\u001b[0m \u001b[1;32min\u001b[0m \u001b[0mowner\u001b[0m\u001b[1;33m.\u001b[0m\u001b[0minputs\u001b[0m\u001b[1;33m:\u001b[0m\u001b[1;33m\u001b[0m\u001b[0m\n\u001b[1;32m---> 93\u001b[1;33m                     \u001b[0mclone_v_get_shared_updates\u001b[0m\u001b[1;33m(\u001b[0m\u001b[0mi\u001b[0m\u001b[1;33m,\u001b[0m \u001b[0mcopy_inputs_over\u001b[0m\u001b[1;33m)\u001b[0m\u001b[1;33m\u001b[0m\u001b[0m\n\u001b[0m\u001b[0;32m     94\u001b[0m \u001b[1;33m\u001b[0m\u001b[0m\n\u001b[0;32m     95\u001b[0m                 clone_d[owner] = owner.clone_with_new_inputs(\n",
      "\u001b[1;32m/home/stephan/GitProjects/Theano/theano/compile/pfunc.pyc\u001b[0m in \u001b[0;36mclone_v_get_shared_updates\u001b[1;34m(v, copy_inputs_over)\u001b[0m\n\u001b[0;32m     91\u001b[0m             \u001b[1;32mif\u001b[0m \u001b[0mowner\u001b[0m \u001b[1;32mnot\u001b[0m \u001b[1;32min\u001b[0m \u001b[0mclone_d\u001b[0m\u001b[1;33m:\u001b[0m\u001b[1;33m\u001b[0m\u001b[0m\n\u001b[0;32m     92\u001b[0m                 \u001b[1;32mfor\u001b[0m \u001b[0mi\u001b[0m \u001b[1;32min\u001b[0m \u001b[0mowner\u001b[0m\u001b[1;33m.\u001b[0m\u001b[0minputs\u001b[0m\u001b[1;33m:\u001b[0m\u001b[1;33m\u001b[0m\u001b[0m\n\u001b[1;32m---> 93\u001b[1;33m                     \u001b[0mclone_v_get_shared_updates\u001b[0m\u001b[1;33m(\u001b[0m\u001b[0mi\u001b[0m\u001b[1;33m,\u001b[0m \u001b[0mcopy_inputs_over\u001b[0m\u001b[1;33m)\u001b[0m\u001b[1;33m\u001b[0m\u001b[0m\n\u001b[0m\u001b[0;32m     94\u001b[0m \u001b[1;33m\u001b[0m\u001b[0m\n\u001b[0;32m     95\u001b[0m                 clone_d[owner] = owner.clone_with_new_inputs(\n",
      "\u001b[1;32m/home/stephan/GitProjects/Theano/theano/compile/pfunc.pyc\u001b[0m in \u001b[0;36mclone_v_get_shared_updates\u001b[1;34m(v, copy_inputs_over)\u001b[0m\n\u001b[0;32m     91\u001b[0m             \u001b[1;32mif\u001b[0m \u001b[0mowner\u001b[0m \u001b[1;32mnot\u001b[0m \u001b[1;32min\u001b[0m \u001b[0mclone_d\u001b[0m\u001b[1;33m:\u001b[0m\u001b[1;33m\u001b[0m\u001b[0m\n\u001b[0;32m     92\u001b[0m                 \u001b[1;32mfor\u001b[0m \u001b[0mi\u001b[0m \u001b[1;32min\u001b[0m \u001b[0mowner\u001b[0m\u001b[1;33m.\u001b[0m\u001b[0minputs\u001b[0m\u001b[1;33m:\u001b[0m\u001b[1;33m\u001b[0m\u001b[0m\n\u001b[1;32m---> 93\u001b[1;33m                     \u001b[0mclone_v_get_shared_updates\u001b[0m\u001b[1;33m(\u001b[0m\u001b[0mi\u001b[0m\u001b[1;33m,\u001b[0m \u001b[0mcopy_inputs_over\u001b[0m\u001b[1;33m)\u001b[0m\u001b[1;33m\u001b[0m\u001b[0m\n\u001b[0m\u001b[0;32m     94\u001b[0m \u001b[1;33m\u001b[0m\u001b[0m\n\u001b[0;32m     95\u001b[0m                 clone_d[owner] = owner.clone_with_new_inputs(\n",
      "\u001b[1;32m/home/stephan/GitProjects/Theano/theano/compile/pfunc.pyc\u001b[0m in \u001b[0;36mclone_v_get_shared_updates\u001b[1;34m(v, copy_inputs_over)\u001b[0m\n\u001b[0;32m     91\u001b[0m             \u001b[1;32mif\u001b[0m \u001b[0mowner\u001b[0m \u001b[1;32mnot\u001b[0m \u001b[1;32min\u001b[0m \u001b[0mclone_d\u001b[0m\u001b[1;33m:\u001b[0m\u001b[1;33m\u001b[0m\u001b[0m\n\u001b[0;32m     92\u001b[0m                 \u001b[1;32mfor\u001b[0m \u001b[0mi\u001b[0m \u001b[1;32min\u001b[0m \u001b[0mowner\u001b[0m\u001b[1;33m.\u001b[0m\u001b[0minputs\u001b[0m\u001b[1;33m:\u001b[0m\u001b[1;33m\u001b[0m\u001b[0m\n\u001b[1;32m---> 93\u001b[1;33m                     \u001b[0mclone_v_get_shared_updates\u001b[0m\u001b[1;33m(\u001b[0m\u001b[0mi\u001b[0m\u001b[1;33m,\u001b[0m \u001b[0mcopy_inputs_over\u001b[0m\u001b[1;33m)\u001b[0m\u001b[1;33m\u001b[0m\u001b[0m\n\u001b[0m\u001b[0;32m     94\u001b[0m \u001b[1;33m\u001b[0m\u001b[0m\n\u001b[0;32m     95\u001b[0m                 clone_d[owner] = owner.clone_with_new_inputs(\n",
      "\u001b[1;32m/home/stephan/GitProjects/Theano/theano/compile/pfunc.pyc\u001b[0m in \u001b[0;36mclone_v_get_shared_updates\u001b[1;34m(v, copy_inputs_over)\u001b[0m\n\u001b[0;32m     91\u001b[0m             \u001b[1;32mif\u001b[0m \u001b[0mowner\u001b[0m \u001b[1;32mnot\u001b[0m \u001b[1;32min\u001b[0m \u001b[0mclone_d\u001b[0m\u001b[1;33m:\u001b[0m\u001b[1;33m\u001b[0m\u001b[0m\n\u001b[0;32m     92\u001b[0m                 \u001b[1;32mfor\u001b[0m \u001b[0mi\u001b[0m \u001b[1;32min\u001b[0m \u001b[0mowner\u001b[0m\u001b[1;33m.\u001b[0m\u001b[0minputs\u001b[0m\u001b[1;33m:\u001b[0m\u001b[1;33m\u001b[0m\u001b[0m\n\u001b[1;32m---> 93\u001b[1;33m                     \u001b[0mclone_v_get_shared_updates\u001b[0m\u001b[1;33m(\u001b[0m\u001b[0mi\u001b[0m\u001b[1;33m,\u001b[0m \u001b[0mcopy_inputs_over\u001b[0m\u001b[1;33m)\u001b[0m\u001b[1;33m\u001b[0m\u001b[0m\n\u001b[0m\u001b[0;32m     94\u001b[0m \u001b[1;33m\u001b[0m\u001b[0m\n\u001b[0;32m     95\u001b[0m                 clone_d[owner] = owner.clone_with_new_inputs(\n",
      "\u001b[1;32m/home/stephan/GitProjects/Theano/theano/compile/pfunc.pyc\u001b[0m in \u001b[0;36mclone_v_get_shared_updates\u001b[1;34m(v, copy_inputs_over)\u001b[0m\n\u001b[0;32m     91\u001b[0m             \u001b[1;32mif\u001b[0m \u001b[0mowner\u001b[0m \u001b[1;32mnot\u001b[0m \u001b[1;32min\u001b[0m \u001b[0mclone_d\u001b[0m\u001b[1;33m:\u001b[0m\u001b[1;33m\u001b[0m\u001b[0m\n\u001b[0;32m     92\u001b[0m                 \u001b[1;32mfor\u001b[0m \u001b[0mi\u001b[0m \u001b[1;32min\u001b[0m \u001b[0mowner\u001b[0m\u001b[1;33m.\u001b[0m\u001b[0minputs\u001b[0m\u001b[1;33m:\u001b[0m\u001b[1;33m\u001b[0m\u001b[0m\n\u001b[1;32m---> 93\u001b[1;33m                     \u001b[0mclone_v_get_shared_updates\u001b[0m\u001b[1;33m(\u001b[0m\u001b[0mi\u001b[0m\u001b[1;33m,\u001b[0m \u001b[0mcopy_inputs_over\u001b[0m\u001b[1;33m)\u001b[0m\u001b[1;33m\u001b[0m\u001b[0m\n\u001b[0m\u001b[0;32m     94\u001b[0m \u001b[1;33m\u001b[0m\u001b[0m\n\u001b[0;32m     95\u001b[0m                 clone_d[owner] = owner.clone_with_new_inputs(\n",
      "\u001b[1;32m/home/stephan/GitProjects/Theano/theano/compile/pfunc.pyc\u001b[0m in \u001b[0;36mclone_v_get_shared_updates\u001b[1;34m(v, copy_inputs_over)\u001b[0m\n\u001b[0;32m     91\u001b[0m             \u001b[1;32mif\u001b[0m \u001b[0mowner\u001b[0m \u001b[1;32mnot\u001b[0m \u001b[1;32min\u001b[0m \u001b[0mclone_d\u001b[0m\u001b[1;33m:\u001b[0m\u001b[1;33m\u001b[0m\u001b[0m\n\u001b[0;32m     92\u001b[0m                 \u001b[1;32mfor\u001b[0m \u001b[0mi\u001b[0m \u001b[1;32min\u001b[0m \u001b[0mowner\u001b[0m\u001b[1;33m.\u001b[0m\u001b[0minputs\u001b[0m\u001b[1;33m:\u001b[0m\u001b[1;33m\u001b[0m\u001b[0m\n\u001b[1;32m---> 93\u001b[1;33m                     \u001b[0mclone_v_get_shared_updates\u001b[0m\u001b[1;33m(\u001b[0m\u001b[0mi\u001b[0m\u001b[1;33m,\u001b[0m \u001b[0mcopy_inputs_over\u001b[0m\u001b[1;33m)\u001b[0m\u001b[1;33m\u001b[0m\u001b[0m\n\u001b[0m\u001b[0;32m     94\u001b[0m \u001b[1;33m\u001b[0m\u001b[0m\n\u001b[0;32m     95\u001b[0m                 clone_d[owner] = owner.clone_with_new_inputs(\n",
      "\u001b[1;32m/home/stephan/GitProjects/Theano/theano/compile/pfunc.pyc\u001b[0m in \u001b[0;36mclone_v_get_shared_updates\u001b[1;34m(v, copy_inputs_over)\u001b[0m\n\u001b[0;32m     91\u001b[0m             \u001b[1;32mif\u001b[0m \u001b[0mowner\u001b[0m \u001b[1;32mnot\u001b[0m \u001b[1;32min\u001b[0m \u001b[0mclone_d\u001b[0m\u001b[1;33m:\u001b[0m\u001b[1;33m\u001b[0m\u001b[0m\n\u001b[0;32m     92\u001b[0m                 \u001b[1;32mfor\u001b[0m \u001b[0mi\u001b[0m \u001b[1;32min\u001b[0m \u001b[0mowner\u001b[0m\u001b[1;33m.\u001b[0m\u001b[0minputs\u001b[0m\u001b[1;33m:\u001b[0m\u001b[1;33m\u001b[0m\u001b[0m\n\u001b[1;32m---> 93\u001b[1;33m                     \u001b[0mclone_v_get_shared_updates\u001b[0m\u001b[1;33m(\u001b[0m\u001b[0mi\u001b[0m\u001b[1;33m,\u001b[0m \u001b[0mcopy_inputs_over\u001b[0m\u001b[1;33m)\u001b[0m\u001b[1;33m\u001b[0m\u001b[0m\n\u001b[0m\u001b[0;32m     94\u001b[0m \u001b[1;33m\u001b[0m\u001b[0m\n\u001b[0;32m     95\u001b[0m                 clone_d[owner] = owner.clone_with_new_inputs(\n",
      "\u001b[1;32m/home/stephan/GitProjects/Theano/theano/compile/pfunc.pyc\u001b[0m in \u001b[0;36mclone_v_get_shared_updates\u001b[1;34m(v, copy_inputs_over)\u001b[0m\n\u001b[0;32m     91\u001b[0m             \u001b[1;32mif\u001b[0m \u001b[0mowner\u001b[0m \u001b[1;32mnot\u001b[0m \u001b[1;32min\u001b[0m \u001b[0mclone_d\u001b[0m\u001b[1;33m:\u001b[0m\u001b[1;33m\u001b[0m\u001b[0m\n\u001b[0;32m     92\u001b[0m                 \u001b[1;32mfor\u001b[0m \u001b[0mi\u001b[0m \u001b[1;32min\u001b[0m \u001b[0mowner\u001b[0m\u001b[1;33m.\u001b[0m\u001b[0minputs\u001b[0m\u001b[1;33m:\u001b[0m\u001b[1;33m\u001b[0m\u001b[0m\n\u001b[1;32m---> 93\u001b[1;33m                     \u001b[0mclone_v_get_shared_updates\u001b[0m\u001b[1;33m(\u001b[0m\u001b[0mi\u001b[0m\u001b[1;33m,\u001b[0m \u001b[0mcopy_inputs_over\u001b[0m\u001b[1;33m)\u001b[0m\u001b[1;33m\u001b[0m\u001b[0m\n\u001b[0m\u001b[0;32m     94\u001b[0m \u001b[1;33m\u001b[0m\u001b[0m\n\u001b[0;32m     95\u001b[0m                 clone_d[owner] = owner.clone_with_new_inputs(\n",
      "\u001b[1;32m/home/stephan/GitProjects/Theano/theano/compile/pfunc.pyc\u001b[0m in \u001b[0;36mclone_v_get_shared_updates\u001b[1;34m(v, copy_inputs_over)\u001b[0m\n\u001b[0;32m     94\u001b[0m \u001b[1;33m\u001b[0m\u001b[0m\n\u001b[0;32m     95\u001b[0m                 clone_d[owner] = owner.clone_with_new_inputs(\n\u001b[1;32m---> 96\u001b[1;33m                     [clone_d[i] for i in owner.inputs], strict=rebuild_strict)\n\u001b[0m\u001b[0;32m     97\u001b[0m                 \u001b[1;32mfor\u001b[0m \u001b[0mold_o\u001b[0m\u001b[1;33m,\u001b[0m \u001b[0mnew_o\u001b[0m \u001b[1;32min\u001b[0m \u001b[0mzip\u001b[0m\u001b[1;33m(\u001b[0m\u001b[0mowner\u001b[0m\u001b[1;33m.\u001b[0m\u001b[0moutputs\u001b[0m\u001b[1;33m,\u001b[0m \u001b[0mclone_d\u001b[0m\u001b[1;33m[\u001b[0m\u001b[0mowner\u001b[0m\u001b[1;33m]\u001b[0m\u001b[1;33m.\u001b[0m\u001b[0moutputs\u001b[0m\u001b[1;33m)\u001b[0m\u001b[1;33m:\u001b[0m\u001b[1;33m\u001b[0m\u001b[0m\n\u001b[0;32m     98\u001b[0m                     \u001b[0mclone_d\u001b[0m\u001b[1;33m.\u001b[0m\u001b[0msetdefault\u001b[0m\u001b[1;33m(\u001b[0m\u001b[0mold_o\u001b[0m\u001b[1;33m,\u001b[0m \u001b[0mnew_o\u001b[0m\u001b[1;33m)\u001b[0m\u001b[1;33m\u001b[0m\u001b[0m\n",
      "\u001b[1;32m/home/stephan/GitProjects/Theano/theano/gof/graph.pyc\u001b[0m in \u001b[0;36mclone_with_new_inputs\u001b[1;34m(self, inputs, strict)\u001b[0m\n\u001b[0;32m    240\u001b[0m                 \u001b[1;32mif\u001b[0m \u001b[0mstrict\u001b[0m\u001b[1;33m:\u001b[0m\u001b[1;33m\u001b[0m\u001b[0m\n\u001b[0;32m    241\u001b[0m                     \u001b[1;31m# If compatible, casts new into curr.type\u001b[0m\u001b[1;33m\u001b[0m\u001b[1;33m\u001b[0m\u001b[0m\n\u001b[1;32m--> 242\u001b[1;33m                     \u001b[0mnew_inputs\u001b[0m\u001b[1;33m[\u001b[0m\u001b[0mi\u001b[0m\u001b[1;33m]\u001b[0m \u001b[1;33m=\u001b[0m \u001b[0mcurr\u001b[0m\u001b[1;33m.\u001b[0m\u001b[0mtype\u001b[0m\u001b[1;33m.\u001b[0m\u001b[0mfilter_variable\u001b[0m\u001b[1;33m(\u001b[0m\u001b[0mnew\u001b[0m\u001b[1;33m)\u001b[0m\u001b[1;33m\u001b[0m\u001b[0m\n\u001b[0m\u001b[0;32m    243\u001b[0m                 \u001b[1;32melse\u001b[0m\u001b[1;33m:\u001b[0m\u001b[1;33m\u001b[0m\u001b[0m\n\u001b[0;32m    244\u001b[0m                     \u001b[0mremake_node\u001b[0m \u001b[1;33m=\u001b[0m \u001b[0mTrue\u001b[0m\u001b[1;33m\u001b[0m\u001b[0m\n",
      "\u001b[1;32m/home/stephan/GitProjects/Theano/theano/tensor/type.pyc\u001b[0m in \u001b[0;36mfilter_variable\u001b[1;34m(self, other, allow_convert)\u001b[0m\n\u001b[0;32m    232\u001b[0m             dict(othertype=other.type,\n\u001b[0;32m    233\u001b[0m                  \u001b[0mother\u001b[0m\u001b[1;33m=\u001b[0m\u001b[0mother\u001b[0m\u001b[1;33m,\u001b[0m\u001b[1;33m\u001b[0m\u001b[0m\n\u001b[1;32m--> 234\u001b[1;33m                  self=self))\n\u001b[0m\u001b[0;32m    235\u001b[0m \u001b[1;33m\u001b[0m\u001b[0m\n\u001b[0;32m    236\u001b[0m     \u001b[1;32mdef\u001b[0m \u001b[0mvalue_validity_msg\u001b[0m\u001b[1;33m(\u001b[0m\u001b[0mself\u001b[0m\u001b[1;33m,\u001b[0m \u001b[0ma\u001b[0m\u001b[1;33m)\u001b[0m\u001b[1;33m:\u001b[0m\u001b[1;33m\u001b[0m\u001b[0m\n",
      "\u001b[1;31mTypeError\u001b[0m: Cannot convert Type TensorType(float64, vector) (of Variable <TensorType(float64, vector)>) into Type TensorType(float64, (True,)). You can try to manually convert <TensorType(float64, vector)> into a TensorType(float64, (True,))."
     ]
    }
   ],
   "source": [
    "values = np.linspace(-10, 10, 10)\n",
    "Xvalues, Yvalues = np.meshgrid(values, values)\n",
    "XY = np.c_[Xvalues.flat, Yvalues.flat]\n",
    "\n",
    "logP_target = T.stack([theano.clone(target.loglikelihood['outputs'],\n",
    "                             replace={target.loglikelihood['inputs'][0]:as_tensor_variable(rv, \"num_rv\")})\n",
    "                for rv in XY])\n",
    "f_logP_target = theano.function([], logP_target)\n",
    "\n",
    "def plot_distr_target(fig):\n",
    "    fig.clear()\n",
    "#     Z = np.reshape(f_logP_target(), Xvalues.shape)  \n",
    "#     Z = np.reshape(Average(1000)(f_logP_target), Xvalues.shape)\n",
    "    # as we use likelihood, we have must use AverageExp to get the right average\n",
    "    Z = np.reshape(AverageExp(1000)(f_logP_target), Xvalues.shape)        \n",
    "    for i in range(2):\n",
    "        ax = fig.add_subplot(1,2,i+1)\n",
    "        if i==1:\n",
    "            Z = np.exp(Z)\n",
    "        h = ax.contourf(Xvalues, Yvalues, Z)\n",
    "        plt.colorbar(h, ax=ax)\n",
    "        fig.tight_layout()\n",
    "        fig.canvas.draw()\n",
    "\n",
    "\n",
    "flat = T.vector()\n",
    "logP_model = T.stack([theano.clone(model.logP['outputs'],\n",
    "                             replace={model.logP['inputs'][0]:as_tensor_variable(rv, \"num_rv2\")\n",
    "                                     ,_model['flat']: flat})\n",
    "                # for some weird reason, _model['flat'] is no longer there in the cloned version\n",
    "                for rv in XY])\n",
    "f_logP_model = theano.function([flat], logP_model)\n",
    "\n",
    "        \n",
    "def plot_distr_model(fig, flat):\n",
    "    fig.clear()\n",
    "#     Z = np.reshape(f_logP_model(flat), Xvalues.shape)\n",
    "    # as we use variational lower bound, a normal average is fine by the math\n",
    "    Z = np.reshape(Average(1000)(f_logP_model, flat), Xvalues.shape)        \n",
    "#     Z = np.reshape(AverageExp(1000)(f_logP_model, flat), Xvalues.shape)        \n",
    "    for i in range(2):\n",
    "        ax = fig.add_subplot(1,2,i+1)\n",
    "        if i==1:\n",
    "            Z = np.exp(Z)\n",
    "        h = ax.contourf(Xvalues, Yvalues, Z)\n",
    "        plt.colorbar(h, ax=ax)\n",
    "        fig.tight_layout()\n",
    "        fig.canvas.draw()\n",
    "\n",
    "# for i in range(20):"
   ]
  },
  {
   "cell_type": "code",
   "execution_count": null,
   "metadata": {
    "collapsed": false
   },
   "outputs": [],
   "source": [
    "%debug"
   ]
  },
  {
   "cell_type": "markdown",
   "metadata": {},
   "source": [
    "# optimizer"
   ]
  },
  {
   "cell_type": "code",
   "execution_count": null,
   "metadata": {
    "collapsed": false
   },
   "outputs": [],
   "source": [
    "T.vector().broadcastable"
   ]
  },
  {
   "cell_type": "code",
   "execution_count": null,
   "metadata": {
    "collapsed": false
   },
   "outputs": [],
   "source": [
    "reduce_all_identities()\n",
    "\n",
    "batch_size = 1\n",
    "n_batches = len(targets) // batch_size  # after this many steps we went through the whole data set once\n",
    "\n",
    "climin_args = izip(imap(lambda x:(x,), chunk(batch_size, cycle(training))), repeat({}))\n",
    "\n",
    "def weights_regularizer_1epoch():\n",
    "    for i in range(1, n_batches+1):\n",
    "        yield 2**(n_batches - i) / (2**n_batches - 1)\n",
    "        \n",
    "assert len(list(weights_regularizer_1epoch())) == n_batches"
   ]
  },
  {
   "cell_type": "code",
   "execution_count": null,
   "metadata": {
    "collapsed": true
   },
   "outputs": [],
   "source": [
    "postmap = compose(post.flat_numericalize_postmap, post.probabilistic_optimizer_postmap) \n",
    "postmap_kwargs = {\n",
    "    'pre_compile':{'num_loss': False, 'num_jacobian': False, 'num_hessian': False},\n",
    "    'mapreduce': meanmap,  # TODO add more functionality for composed fmaps, with args\n",
    "#     'wrapper': as_wrapper(AverageExp(40)),\n",
    "#     'adapt_init_params': lambda ps: ps + np.random.normal(size=ps.size, scale=1),\n",
    "#     'profile': True,\n",
    "#     'mode': 'FAST_COMPILE'\n",
    "}\n",
    "optimizer_kwargs = postmap(_model, **postmap_kwargs)"
   ]
  },
  {
   "cell_type": "raw",
   "metadata": {
    "collapsed": true
   },
   "source": [
    "postmap = compose(post.flat_numericalize_postmap, post.variational_postmap) \n",
    "postmap_kwargs = {\n",
    "    'mapreduce': summap,  # summap, as Annealing takes over averaging (it has to)\n",
    "    'annealing_combiner': post.AnnealingCombiner(\n",
    "        weights_regularizer=cycle(weights_regularizer_1epoch())\n",
    "    ),\n",
    "    'adapt_init_params': lambda ps: ps + np.random.normal(size=ps.size, scale=1),\n",
    "#     'profile': True,\n",
    "#     'mode': 'FAST_RUN'\n",
    "}\n",
    "optimizer_kwargs = postmap(_model, **postmap_kwargs)"
   ]
  },
  {
   "cell_type": "raw",
   "metadata": {
    "collapsed": false
   },
   "source": [
    "optimizer_kwargs['num_jacobian'](optimizer_kwargs['num_parameters'], training[:100], no_annealing=True)"
   ]
  },
  {
   "cell_type": "code",
   "execution_count": null,
   "metadata": {
    "collapsed": false
   },
   "outputs": [],
   "source": [
    "opt = optimizer(\n",
    "#     identifier='adam',\n",
    "    identifier=\"rmsprop\",\n",
    "    step_rate=1e-3,\n",
    "#     momentum=0.9,\n",
    "    args=climin_args,\n",
    "    **post.climin_postmap(optimizer_kwargs)\n",
    ")"
   ]
  },
  {
   "cell_type": "code",
   "execution_count": null,
   "metadata": {
    "collapsed": false
   },
   "outputs": [],
   "source": [
    "figure()\n",
    "# plot:\n",
    "line_train, = plot([], [], 'go-', label=\"average training loss\")\n",
    "# line_curr_val, = plot([],[], 'bo:', label=\"avrg current validation loss\")\n",
    "# line_best_val, = plot([], [], 'ko-', label=\"avrg best validation loss\")\n",
    "# plt.ticklabel_format(style='sci', axis='y', scilimits=(0,0))\n",
    "yscale('log')\n",
    "gca().yaxis.set_minor_formatter(FormatStrFormatter(\"%.2g\"))\n",
    "ylabel(\"loss\")\n",
    "xlabel(\"#epoch\")\n",
    "legend(loc='lower left', fancybox=True, framealpha=0.5)\n",
    "\n",
    "# start values:\n",
    "best_parameters = optimizer_kwargs['num_parameters']\n",
    "# best_val_loss = optimizer_kwargs['num_loss'](best_parameters, validation, no_annealing=True)\n",
    "# best_val_loss /= len(validation)\n",
    "training_loss = optimizer_kwargs['num_loss'](best_parameters, targets)#, no_annealing=True)\n",
    "# training_loss /= len(targets)\n",
    "last_improvement_epoch = opt.n_iter//n_batches\n",
    "\n",
    "# add_point(line_best_val, last_improvement_epoch, best_val_loss)\n",
    "# add_point(line_curr_val, last_improvement_epoch, best_val_loss)\n",
    "add_point(line_train, last_improvement_epoch, training_loss)"
   ]
  },
  {
   "cell_type": "code",
   "execution_count": null,
   "metadata": {
    "collapsed": false
   },
   "outputs": [],
   "source": [
    "fig_target_distr = figure()\n",
    "plot_distr_target(fig_target_distr)"
   ]
  },
  {
   "cell_type": "code",
   "execution_count": null,
   "metadata": {
    "collapsed": false
   },
   "outputs": [],
   "source": [
    "fig_model_distr = figure()\n",
    "plot_distr_model(fig_model_distr, opt.wrt)"
   ]
  },
  {
   "cell_type": "code",
   "execution_count": null,
   "metadata": {
    "collapsed": false
   },
   "outputs": [],
   "source": [
    "fig, ax = subplots()\n",
    "plot_fit(fig, ax)  #{_model['flat']:optimizer_kwargs['num_parameters']}"
   ]
  },
  {
   "cell_type": "markdown",
   "metadata": {},
   "source": [
    "THESE ARE SOME OF THE IMPORTANT VALUES. For the targets logP it is clear the meanexpmap is the right one, and it works pretty well.\n",
    "However for the variational lowerbound officially meanmap is correct, but it gives still impressively worse results\n",
    "then the meanexpmap. (there is some additional bias due to the prior, but this is not decisive (even with n_data=1))"
   ]
  },
  {
   "cell_type": "code",
   "execution_count": null,
   "metadata": {
    "collapsed": true
   },
   "outputs": [],
   "source": [
    "logP_maximum_likelihood = target.loglikelihood.function()"
   ]
  },
  {
   "cell_type": "code",
   "execution_count": null,
   "metadata": {
    "collapsed": false
   },
   "outputs": [],
   "source": [
    "meanexpmap(logP_maximum_likelihood, targets)"
   ]
  },
  {
   "cell_type": "code",
   "execution_count": null,
   "metadata": {
    "collapsed": false
   },
   "outputs": [],
   "source": [
    "meanmap(logP_maximum_likelihood, targets)"
   ]
  },
  {
   "cell_type": "code",
   "execution_count": null,
   "metadata": {
    "collapsed": false
   },
   "outputs": [],
   "source": [
    "logP_variational = model.logP.function()"
   ]
  },
  {
   "cell_type": "code",
   "execution_count": null,
   "metadata": {
    "collapsed": false
   },
   "outputs": [],
   "source": [
    "meanexpmap(logP_variational, targets)"
   ]
  },
  {
   "cell_type": "code",
   "execution_count": null,
   "metadata": {
    "collapsed": false
   },
   "outputs": [],
   "source": [
    "meanmap(logP_variational, targets)"
   ]
  },
  {
   "cell_type": "markdown",
   "metadata": {},
   "source": [
    "---"
   ]
  },
  {
   "cell_type": "code",
   "execution_count": null,
   "metadata": {
    "collapsed": false
   },
   "outputs": [],
   "source": [
    "human_readable_parameters = model['parameters'] + model['parameters_positive']\n",
    "f = theano.function([_model['flat']], human_readable_parameters)\n",
    "old_num_params = f(opt.wrt)\n",
    "        \n",
    "with ignored(KeyboardInterrupt):\n",
    "    for info in every(n_batches, opt):  #every(n_batches, opt):\n",
    "        current_epoch = info['n_iter']//n_batches\n",
    "        # visualize training loss for comparison:\n",
    "        training_loss = optimizer_kwargs['num_loss'](opt.wrt, targets)#, no_annealing=True)\n",
    "#         training_loss /= len(targets)\n",
    "        add_point(line_train, current_epoch, training_loss)\n",
    "        \n",
    "        \n",
    "        num_params = f(opt.wrt)\n",
    "        print \"jacobiannames\", str(_model['flat'])\n",
    "        print \"jacobian\", optimizer_kwargs['num_jacobian'](opt.wrt, targets[:batch_size])\n",
    "        diff_params = [n - o for n, o in izip(num_params, old_num_params)]\n",
    "        print(\"params\")\n",
    "        pprint(dict(zip(map(str, human_readable_parameters), num_params)))\n",
    "        print(\"diff\")\n",
    "        pprint(dict(zip(map(str, human_readable_parameters), diff_params)))\n",
    "        print\n",
    "        \n",
    "        plot_distr(fig_model_distr, opt.wrt)\n",
    "        plot_fit(fig, ax, {_model['flat']:opt.wrt}, time_delay=None)\n",
    "        old_num_params = num_params"
   ]
  },
  {
   "cell_type": "code",
   "execution_count": null,
   "metadata": {
    "collapsed": false
   },
   "outputs": [],
   "source": [
    "%debug"
   ]
  },
  {
   "cell_type": "markdown",
   "metadata": {},
   "source": [
    "---"
   ]
  },
  {
   "cell_type": "code",
   "execution_count": null,
   "metadata": {
    "collapsed": false
   },
   "outputs": [],
   "source": [
    "best_parameters = None\n",
    "best_val_loss = inf\n",
    "last_improvement_epoch = 1\n",
    "for info in every(n_batches, opt):\n",
    "    current_epoch = info['n_iter']//n_batches\n",
    "    if current_epoch - last_improvement_epoch > 50:\n",
    "        break\n",
    "    # collect and visualize validation loss for choosing the best model\n",
    "    val_loss = optimizer_kwargs['num_loss'](opt.wrt, training, no_annealing=True)\n",
    "    if val_loss < best_val_loss:\n",
    "        last_improvement_epoch = current_epoch\n",
    "        best_parameters = opt.wrt\n",
    "        best_val_loss = val_loss\n",
    "    \n",
    "    print zip(model['flat'].name.split(':'), climin_kwargs['fprime'](opt.wrt, training[:100], no_annealing=True))\n",
    "    plot_fit(fig, ax, givens={model['flat']: opt.wrt}, time_delay=None)\n",
    "    print best_val_loss,"
   ]
  },
  {
   "cell_type": "code",
   "execution_count": null,
   "metadata": {
    "collapsed": false
   },
   "outputs": [],
   "source": [
    "%debug"
   ]
  },
  {
   "cell_type": "code",
   "execution_count": null,
   "metadata": {
    "collapsed": false
   },
   "outputs": [],
   "source": [
    "optimizer_kwargs['flat']"
   ]
  },
  {
   "cell_type": "code",
   "execution_count": null,
   "metadata": {
    "collapsed": false
   },
   "outputs": [],
   "source": [
    "%timeit optimizer_kwargs['num_jacobian'](best_parameters, targets[:100])"
   ]
  },
  {
   "cell_type": "code",
   "execution_count": null,
   "metadata": {
    "collapsed": false
   },
   "outputs": [],
   "source": [
    "stats = np.array([optimizer_kwargs['num_jacobian'](best_parameters, targets[:100]) for _ in range(1000)])"
   ]
  },
  {
   "cell_type": "code",
   "execution_count": null,
   "metadata": {
    "collapsed": false
   },
   "outputs": [],
   "source": [
    "stats[:100]"
   ]
  },
  {
   "cell_type": "code",
   "execution_count": null,
   "metadata": {
    "collapsed": false
   },
   "outputs": [],
   "source": [
    "plot(stats.T)\n",
    "pass"
   ]
  },
  {
   "cell_type": "code",
   "execution_count": null,
   "metadata": {
    "collapsed": false
   },
   "outputs": [],
   "source": [
    "stats.mean(0)"
   ]
  },
  {
   "cell_type": "code",
   "execution_count": null,
   "metadata": {
    "collapsed": false
   },
   "outputs": [],
   "source": [
    "stats.var(0)"
   ]
  },
  {
   "cell_type": "code",
   "execution_count": null,
   "metadata": {
    "collapsed": false
   },
   "outputs": [],
   "source": [
    "opt.n_iter"
   ]
  },
  {
   "cell_type": "code",
   "execution_count": null,
   "metadata": {
    "collapsed": false
   },
   "outputs": [],
   "source": [
    "model.u.eval({model['flat']: best_parameters})"
   ]
  },
  {
   "cell_type": "code",
   "execution_count": null,
   "metadata": {
    "collapsed": false
   },
   "outputs": [],
   "source": [
    "theano.function([model['flat']], \n",
    "                [model.b, target.b,\n",
    "                 model.w, target.w,\n",
    "                 model._u, target._u, \n",
    "                 param_model_base.mean, \n",
    "                 param_target_base.mean, \n",
    "                 param_model_base.var, param_target_base.var,\n",
    "                 data_model.var],\n",
    "                mode=\"FAST_COMPILE\")(best_parameters)"
   ]
  },
  {
   "cell_type": "code",
   "execution_count": null,
   "metadata": {
    "collapsed": false
   },
   "outputs": [],
   "source": [
    "best_val_loss"
   ]
  },
  {
   "cell_type": "markdown",
   "metadata": {
    "collapsed": true
   },
   "source": [
    "Using the default scipy optimizer, one can see very good, that the problem is ill-defined in that the maximum likelihood solution is a ill-formed solution."
   ]
  },
  {
   "cell_type": "code",
   "execution_count": null,
   "metadata": {
    "collapsed": true
   },
   "outputs": [],
   "source": []
  }
 ],
 "metadata": {
  "kernelspec": {
   "display_name": "Python 2",
   "language": "python",
   "name": "python2"
  },
  "language_info": {
   "codemirror_mode": {
    "name": "ipython",
    "version": 2
   },
   "file_extension": ".py",
   "mimetype": "text/x-python",
   "name": "python",
   "nbconvert_exporter": "python",
   "pygments_lexer": "ipython2",
   "version": "2.7.6"
  },
  "toc": {
   "toc_cell": false,
   "toc_number_sections": true,
   "toc_threshold": 4,
   "toc_window_display": true
  },
  "toc_position": {
   "left": "1398.38px",
   "right": "20px",
   "top": "119px",
   "width": "182px"
  }
 },
 "nbformat": 4,
 "nbformat_minor": 0
}
