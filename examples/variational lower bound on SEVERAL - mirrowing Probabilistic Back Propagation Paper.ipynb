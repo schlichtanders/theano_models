{
 "cells": [
  {
   "cell_type": "code",
   "execution_count": 1,
   "metadata": {
    "collapsed": false,
    "scrolled": true
   },
   "outputs": [
    {
     "name": "stderr",
     "output_type": "stream",
     "text": [
      "/usr/local/lib/python2.7/dist-packages/matplotlib/font_manager.py:273: UserWarning: Matplotlib is building the font cache using fc-list. This may take a moment.\n",
      "  warnings.warn('Matplotlib is building the font cache using fc-list. This may take a moment.')\n"
     ]
    }
   ],
   "source": [
    "%matplotlib notebook\n",
    "from __future__ import division"
   ]
  },
  {
   "cell_type": "code",
   "execution_count": 2,
   "metadata": {
    "collapsed": false
   },
   "outputs": [
    {
     "name": "stdout",
     "output_type": "stream",
     "text": [
      "gnumpy: failed to import cudamat. Using npmat instead. No GPU will be used.\n"
     ]
    }
   ],
   "source": [
    "from matplotlib.pyplot import plot, ylabel, xlabel, yscale, xscale, legend, subplots, gca, gcf\n",
    "from matplotlib.ticker import FormatStrFormatter\n",
    "from theano import function\n",
    "import numpy as np\n",
    "import gzip\n",
    "import cPickle\n",
    "from scipy.optimize import minimize\n",
    "from climin.util import optimizer\n",
    "from itertools import repeat, cycle, islice, izip\n",
    "import random\n",
    "inf = float(\"inf\")"
   ]
  },
  {
   "cell_type": "code",
   "execution_count": 3,
   "metadata": {
    "collapsed": false
   },
   "outputs": [],
   "source": [
    "from breze.learn.data import one_hot\n",
    "from breze.learn.base import cast_array_to_local_type\n",
    "from schlichtanders.myfunctools import compose, meanmap, summap, compose_fmap, Average\n",
    "from schlichtanders import myfunctools\n",
    "from schlichtanders.mygenerators import eatN, chunk, chunk_list, every, takeN\n",
    "from schlichtanders.myplot import add_val, add_point"
   ]
  },
  {
   "cell_type": "code",
   "execution_count": 4,
   "metadata": {
    "collapsed": false
   },
   "outputs": [],
   "source": [
    "import theano_models as tm\n",
    "import theano_models.deterministic_models as dm\n",
    "import theano_models.probabilistic_models as pm\n",
    "from theano_models import data"
   ]
  },
  {
   "cell_type": "code",
   "execution_count": 5,
   "metadata": {
    "collapsed": true
   },
   "outputs": [],
   "source": [
    "from sklearn import cross_validation\n",
    "import theano\n",
    "import theano.tensor as T\n",
    "from theano.printing import debugprint\n",
    "from theano.tensor.shared_randomstreams import RandomStreams"
   ]
  },
  {
   "cell_type": "code",
   "execution_count": 6,
   "metadata": {
    "collapsed": false
   },
   "outputs": [],
   "source": [
    "from sqlalchemy import Column, Integer, Unicode, UnicodeText, String, PickleType, Float, Boolean\n",
    "from sqlalchemy import create_engine\n",
    "from sqlalchemy.orm import sessionmaker\n",
    "from sqlalchemy.ext.declarative import declarative_base"
   ]
  },
  {
   "cell_type": "code",
   "execution_count": 7,
   "metadata": {
    "collapsed": false
   },
   "outputs": [],
   "source": [
    "from IPython.display import IFrame\n",
    "import warnings\n",
    "warnings.filterwarnings(\"ignore\", category=DeprecationWarning)"
   ]
  },
  {
   "cell_type": "code",
   "execution_count": 8,
   "metadata": {
    "collapsed": false
   },
   "outputs": [
    {
     "data": {
      "text/plain": [
       "({'extra_inputs',\n",
       "  'flat',\n",
       "  'inputs',\n",
       "  'n_data',\n",
       "  'parameters',\n",
       "  'parameters_positive',\n",
       "  'parameters_psumto1',\n",
       "  'to_be_randomized'},\n",
       " {'kl_prior', 'loglikelihood', 'norm_det', 'norm_dets', 'outputs'})"
      ]
     },
     "execution_count": 8,
     "metadata": {},
     "output_type": "execute_result"
    }
   ],
   "source": [
    "tm.inputting_references.update(['to_be_randomized'])\n",
    "tm.inputting_references, tm.outputting_references"
   ]
  },
  {
   "cell_type": "code",
   "execution_count": 9,
   "metadata": {
    "collapsed": true
   },
   "outputs": [],
   "source": [
    "from schlichtanders.myobjects import NestedNamespace"
   ]
  },
  {
   "cell_type": "raw",
   "metadata": {},
   "source": [
    "pm.RNG = NestedNamespace(tm.PooledRandomStreams(pool_size=int(5e8)), RandomStreams())"
   ]
  },
  {
   "cell_type": "markdown",
   "metadata": {},
   "source": [
    "# Data"
   ]
  },
  {
   "cell_type": "markdown",
   "metadata": {},
   "source": [
    "    # datasetnames = [\"boston\", \"concrete\", \"energy\", \"kin8nm\", \"naval\", \"powerplant\", \"protein\", \"winered\", \"yacht\", \"year\"]\n",
    "    datasetnames = [\"boston\", \"concrete\", \"energy\", \"kin8nm\", \"naval\", \"powerplant\", \"winered\", \"yacht\"]"
   ]
  },
  {
   "cell_type": "code",
   "execution_count": 10,
   "metadata": {
    "collapsed": true
   },
   "outputs": [],
   "source": [
    "datasetname = \"boston\""
   ]
  },
  {
   "cell_type": "code",
   "execution_count": 11,
   "metadata": {
    "collapsed": true
   },
   "outputs": [],
   "source": [
    "Z, X = getattr(data, \"_\" + datasetname)()\n",
    "# normalization is standard in Probabilistic Backpropagation Paper\n",
    "X_mean = X.mean(0)\n",
    "X_std = X.std(0)\n",
    "X = (X - X_mean) / X_std\n",
    "Z_mean = Z.mean(0)\n",
    "Z_std = Z.std(0)\n",
    "Z = (Z - Z_mean) / Z_std"
   ]
  },
  {
   "cell_type": "code",
   "execution_count": 12,
   "metadata": {
    "collapsed": false
   },
   "outputs": [],
   "source": [
    "X, TX, Z, TZ = cross_validation.train_test_split(X, Z, test_size=0.1) # 10% test used in paper\n",
    "X, VX, Z, VZ = cross_validation.train_test_split(X, Z, test_size=0.1) # 20% validation used in paper"
   ]
  },
  {
   "cell_type": "markdown",
   "metadata": {},
   "source": [
    "# Hyperparameters"
   ]
  },
  {
   "cell_type": "code",
   "execution_count": 13,
   "metadata": {
    "collapsed": false
   },
   "outputs": [
    {
     "data": {
      "text/plain": [
       "{'_sa_instance_state': <sqlalchemy.orm.state.InstanceState at 0x7f73b5a66e10>,\n",
       " 'average_n': 1,\n",
       " 'batch_size': 10,\n",
       " 'best_parameters': None,\n",
       " 'best_val_loss': inf,\n",
       " 'datasetname': 'boston',\n",
       " 'max_epochs_without_improvement': 30,\n",
       " 'minus_log_s': 5,\n",
       " 'n_normflows': 1,\n",
       " 'opt_decay': 0.8240824669002472,\n",
       " 'opt_identifier': 'rmsprop',\n",
       " 'opt_momentum': 0.9101160598332435,\n",
       " 'opt_offset': 9.983247012642478e-06,\n",
       " 'opt_step_rate': 0.01,\n",
       " 'train_loss': [],\n",
       " 'units_per_layer': 50,\n",
       " 'val_loss': []}"
      ]
     },
     "execution_count": 13,
     "metadata": {},
     "output_type": "execute_result"
    }
   ],
   "source": [
    "engine = create_engine('sqlite:///hyperparameters_several.db')\n",
    "Base = declarative_base(bind=engine)\n",
    "\n",
    "class RandomHyper(Base):\n",
    "    __tablename__ = datasetname\n",
    "    id = Column(Integer, primary_key=True)\n",
    "    \n",
    "    # hyper parameters:\n",
    "    datasetname = Column(String)\n",
    "    max_epochs_without_improvement = Column(Integer)\n",
    "    average_n = Column(Integer)\n",
    "    units_per_layer = Column(Integer)\n",
    "    minus_log_s = Column(Integer)\n",
    "    batch_size = Column(Integer)\n",
    "    \n",
    "    n_normflows = Column(Integer)\n",
    "    \n",
    "    opt_identifier = Column(String)\n",
    "    opt_momentum = Column(Float)\n",
    "    opt_offset = Column(Float)\n",
    "    opt_decay = Column(Float)\n",
    "    opt_step_rate = Column(Float)\n",
    "    \n",
    "    # results:\n",
    "    best_val_loss = Column(Float)\n",
    "    best_parameters = Column(PickleType, nullable=True)\n",
    "    train_loss = Column(PickleType)\n",
    "    val_loss = Column(PickleType)\n",
    "\n",
    "    def __init__(self):\n",
    "        self.datasetname = datasetname\n",
    "        # hyper parameters:\n",
    "        self.max_epochs_without_improvement = 30\n",
    "        self.batch_size = random.choice([1,10, 100])\n",
    "        self.average_n = 1\n",
    "        self.units_per_layer = 50\n",
    "        self.minus_log_s = random.choice([1,2,3,4,5,6,7])\n",
    "        # the prior is learned together with the other models in analogy to the paper Probabilistic Backpropagation\n",
    "        \n",
    "        self.n_normflows = random.choice([1,2,3,4,8,32])\n",
    "        \n",
    "        self.opt_identifier = random.choice([\"adadelta\", \"adam\", \"rmsprop\"])\n",
    "        if self.opt_identifier == \"adadelta\":\n",
    "            self.opt_momentum = random.choice([np.random.uniform(0, 0.01), np.random.uniform(0.9, 1)])\n",
    "            self.opt_offset = random.choice([5e-5, 1e-8])\n",
    "            self.opt_step_rate = random.choice([1, 1e-1, 1e-2, 1e-3, 1e-4, 1e-5])\n",
    "        elif self.opt_identifier == \"adam\":\n",
    "            self.opt_momentum = random.choice([np.random.uniform(0, 0.01), np.random.uniform(0.8, 0.93)])\n",
    "            self.opt_offset = 10 ** -np.random.uniform(3, 4)\n",
    "            self.opt_step_rate = random.choice([1e-1, 1e-2, 1e-3, 1e-4, 1e-5])\n",
    "        elif self.opt_identifier == \"rmsprop\":\n",
    "            self.opt_momentum = random.choice([np.random.uniform(0.002, 0.008), np.random.uniform(0.9, 1)])\n",
    "            self.opt_offset = np.random.uniform(0, 0.000045)\n",
    "            self.opt_step_rate = random.choice([1e-1, 1e-2, 1e-3, 1e-4, 1e-5])\n",
    "        self.opt_decay = np.random.uniform(0.78, 1)\n",
    "        \n",
    "        self.init_results()\n",
    "    \n",
    "    def init_results(self):\n",
    "        # extra for being able to reset results for loaded hyperparameters\n",
    "        self.best_parameters = None\n",
    "        self.best_val_loss = inf\n",
    "        self.train_loss = []\n",
    "        self.val_loss = []\n",
    "\n",
    "Base.metadata.create_all()\n",
    "Session = sessionmaker(bind=engine)\n",
    "sql_session = Session()\n",
    "hyper = RandomHyper()\n",
    "hyper.__dict__"
   ]
  },
  {
   "cell_type": "markdown",
   "metadata": {},
   "source": [
    "# Model"
   ]
  },
  {
   "cell_type": "code",
   "execution_count": 18,
   "metadata": {
    "collapsed": true
   },
   "outputs": [],
   "source": [
    "Flatten = tm.as_proxmodel(\"to_be_randomized\")(tm.prox_flatten)"
   ]
  },
  {
   "cell_type": "markdown",
   "metadata": {},
   "source": [
    "## data modelling"
   ]
  },
  {
   "cell_type": "code",
   "execution_count": 19,
   "metadata": {
    "collapsed": true
   },
   "outputs": [],
   "source": [
    "# this is extremely useful to tell everything the default sizes\n",
    "input = tm.as_tensor_variable(X[0], name=\"X\")"
   ]
  },
  {
   "cell_type": "code",
   "execution_count": 20,
   "metadata": {
    "collapsed": false
   },
   "outputs": [
    {
     "data": {
      "text/plain": [
       "Mlp2 { 'inputs': [AffineNonlinear3.X],\n",
       "  'outputs': AffineNonlinear4.outputs,\n",
       "  'parameters': [ AffineNonlinear3.weights,\n",
       "                  AffineNonlinear3.bias,\n",
       "                  AffineNonlinear4.weights,\n",
       "                  AffineNonlinear4.bias]}"
      ]
     },
     "execution_count": 20,
     "metadata": {},
     "output_type": "execute_result"
    }
   ],
   "source": [
    "predictor = dm.Mlp(\n",
    "    input=input,\n",
    "    output_size=Z.shape[1],\n",
    "    output_transfer='identity',\n",
    "    hidden_sizes=[hyper.units_per_layer]*1,\n",
    "    hidden_transfers=[\"rectifier\"]*1\n",
    ")\n",
    "predictor"
   ]
  },
  {
   "cell_type": "code",
   "execution_count": 21,
   "metadata": {
    "collapsed": false
   },
   "outputs": [
    {
     "data": {
      "text/plain": [
       "DiagGaussianNoise2 { 'inputs': [AffineNonlinear4.outputs],\n",
       "  'outputs': DiagGaussianNoise2.outputs,\n",
       "  'parameters': [],\n",
       "  'parameters_positive': [DiagGaussianNoise2.var]}"
      ]
     },
     "execution_count": 21,
     "metadata": {},
     "output_type": "execute_result"
    }
   ],
   "source": [
    "target_distribution = pm.DiagGaussianNoise(predictor)\n",
    "target_distribution"
   ]
  },
  {
   "cell_type": "code",
   "execution_count": 22,
   "metadata": {
    "collapsed": false
   },
   "outputs": [
    {
     "data": {
      "text/plain": [
       "Merge3 { 'inputs': [AffineNonlinear3.X],\n",
       "  'outputs': DiagGaussianNoise2.outputs,\n",
       "  'parameters': [],\n",
       "  'parameters_positive': [DiagGaussianNoise2.var],\n",
       "  'to_be_randomized': \"AffineNonlinear3.weights:AffineNonlinear3.bias:AffineNonlinear4.weights:AffineNonlinear4.bias\"}"
      ]
     },
     "execution_count": 22,
     "metadata": {},
     "output_type": "execute_result"
    }
   ],
   "source": [
    "targets = tm.Merge(target_distribution, predictor, Flatten(predictor['parameters']))\n",
    "targets"
   ]
  },
  {
   "cell_type": "markdown",
   "metadata": {},
   "source": [
    "## parameter modelling"
   ]
  },
  {
   "cell_type": "code",
   "execution_count": 23,
   "metadata": {
    "collapsed": false
   },
   "outputs": [
    {
     "data": {
      "text/plain": [
       "Gauss { 'inputs': [],\n",
       "  'outputs': Gauss.outputs,\n",
       "  'parameters': [Gauss.mean],\n",
       "  'parameters_positive': [Gauss.var]}"
      ]
     },
     "execution_count": 23,
     "metadata": {},
     "output_type": "execute_result"
    }
   ],
   "source": [
    "params_base = pm.Gauss(output_shape=(tm.total_size(targets['to_be_randomized']),))  \n",
    "# if you want to use size directly, CAUTION, you need to copy before!\n",
    "# params_base.map('parameters_positive', reparameterize_map(squareplus, squareplus_inv), 'parameters')\n",
    "params_base"
   ]
  },
  {
   "cell_type": "code",
   "execution_count": 24,
   "metadata": {
    "collapsed": false
   },
   "outputs": [
    {
     "data": {
      "text/plain": [
       "[PlanarTransform { 'inputs': [PlanarTransform.inputs.0],\n",
       "   'norm_det': PlanarTransform.norm_det,\n",
       "   'outputs': PlanarTransform.outputs,\n",
       "   'parameters': [PlanarTransform.b, PlanarTransform.w, PlanarTransform._u]}]"
      ]
     },
     "execution_count": 24,
     "metadata": {},
     "output_type": "execute_result"
    }
   ],
   "source": [
    "normflows = [dm.PlanarTransform() for _ in range(hyper.n_normflows)]\n",
    "normflows"
   ]
  },
  {
   "cell_type": "code",
   "execution_count": 25,
   "metadata": {
    "collapsed": false
   },
   "outputs": [
    {
     "data": {
      "text/plain": [
       "normalized_flow { 'inputs': [],\n",
       "  'norm_det': PlanarTransform.norm_det,\n",
       "  'outputs': PlanarTransform.outputs,\n",
       "  'parameters': [ PlanarTransform.b,\n",
       "                  PlanarTransform.w,\n",
       "                  PlanarTransform._u,\n",
       "                  Gauss.mean],\n",
       "  'parameters_positive': [Gauss.var]}"
      ]
     },
     "execution_count": 25,
     "metadata": {},
     "output_type": "execute_result"
    }
   ],
   "source": [
    "params = params_base\n",
    "for transform in normflows:\n",
    "    params = tm.normalizing_flow(transform, params)  # returns transform, however with adapted logP    \n",
    "\n",
    "params"
   ]
  },
  {
   "cell_type": "markdown",
   "metadata": {},
   "source": [
    "## bayes"
   ]
  },
  {
   "cell_type": "code",
   "execution_count": 26,
   "metadata": {
    "collapsed": false
   },
   "outputs": [
    {
     "data": {
      "text/plain": [
       "Gauss2_fixed { 'inputs': [], 'outputs': Gauss2.outputs}"
      ]
     },
     "execution_count": 26,
     "metadata": {},
     "output_type": "execute_result"
    }
   ],
   "source": [
    "prior = pm.Gauss(tm.total_size(targets['to_be_randomized']), init_var=np.exp(-2* hyper.minus_log_s))\n",
    "prior = tm.fix_params(prior)\n",
    "prior"
   ]
  },
  {
   "cell_type": "code",
   "execution_count": 27,
   "metadata": {
    "collapsed": false
   },
   "outputs": [
    {
     "data": {
      "text/plain": [
       "variational_lower_bound { 'inputs': [AffineNonlinear3.X],\n",
       "  'kl_prior': variational_lower_bound.kl_prior,\n",
       "  'logposterior': variational_lower_bound.logposterior,\n",
       "  'logprior': variational_lower_bound.logprior,\n",
       "  'n_data': variational_lower_bound.n_data,\n",
       "  'norm_det': PlanarTransform.norm_det,\n",
       "  'outputs': DiagGaussianNoise2.outputs,\n",
       "  'parameters': [ PlanarTransform.b,\n",
       "                  PlanarTransform.w,\n",
       "                  PlanarTransform._u,\n",
       "                  Gauss.mean],\n",
       "  'parameters_positive': [DiagGaussianNoise2.var, Gauss.var]}"
      ]
     },
     "execution_count": 27,
     "metadata": {},
     "output_type": "execute_result"
    }
   ],
   "source": [
    "model = tm.variational_bayes(targets, 'to_be_randomized', params, priors=prior)\n",
    "model"
   ]
  },
  {
   "cell_type": "code",
   "execution_count": 28,
   "metadata": {
    "collapsed": false
   },
   "outputs": [],
   "source": [
    "# model = Merge(model, Reparameterize(model['parameters_positive'], squareplus, squareplus_inv))\n",
    "# UncertainWeights uses softplus parameterization\n",
    "parameters = tm.prox_reparameterize(model['parameters_positive'], tm.softplus, tm.softplus_inv)\n",
    "parameters += model['parameters']\n",
    "flat = tm.prox_flatten(tm.prox_center(parameters))"
   ]
  },
  {
   "cell_type": "markdown",
   "metadata": {},
   "source": [
    "# Optimizer"
   ]
  },
  {
   "cell_type": "code",
   "execution_count": 30,
   "metadata": {
    "collapsed": false
   },
   "outputs": [
    {
     "data": {
      "text/plain": [
       "variational_lower_bound.loss_variational { 'inputs': [DiagGaussianNoise2.logP.rv, AffineNonlinear3.X],\n",
       "  'logposterior': variational_lower_bound.logposterior,\n",
       "  'logprior': variational_lower_bound.logprior,\n",
       "  'loss_data': variational_lower_bound.loss_variational.loss_data,\n",
       "  'loss_regularizer': variational_lower_bound.kl_prior,\n",
       "  'n_data': variational_lower_bound.n_data,\n",
       "  'outputs': variational_lower_bound.loss_variational.outputs,\n",
       "  'parameters': [ PlanarTransform.b_centered,\n",
       "                  PlanarTransform.w_centered,\n",
       "                  PlanarTransform._u_centered,\n",
       "                  Gauss.mean_centered],\n",
       "  'parameters_positive': [DiagGaussianNoise2.var_reparam, Gauss.var_reparam]}"
      ]
     },
     "execution_count": 30,
     "metadata": {},
     "output_type": "execute_result"
    }
   ],
   "source": [
    "loss = tm.loss_variational(model)\n",
    "tm.reduce_all_identities()\n",
    "loss"
   ]
  },
  {
   "cell_type": "markdown",
   "metadata": {},
   "source": [
    "Climin wants an iterator of (args, kwarsg) as keyword argument \"args\" (to be passed to the loss function). Concretley, we use an infinite iterator over minibatches."
   ]
  },
  {
   "cell_type": "code",
   "execution_count": 31,
   "metadata": {
    "collapsed": false
   },
   "outputs": [],
   "source": [
    "n_batches = X.shape[0] // hyper.batch_size  # after this many steps we went through the whole data set once\n",
    "climin_args = izip(izip(chunk(hyper.batch_size, cycle(Z)), chunk(hyper.batch_size, cycle(X))), repeat({}))\n",
    "\n",
    "def weights_regularizer_1epoch():\n",
    "    for i in range(1, n_batches+1):\n",
    "        yield 2**(n_batches - i) / (2**n_batches - 1)\n",
    "        \n",
    "assert len(list(weights_regularizer_1epoch())) == n_batches\n",
    "\n",
    "optimizer_kwargs = tm.numericalize(loss, flat,\n",
    "    # no mapreduce in analogy to Probabilistic Backpropagation Paper\n",
    "    batch_mapreduce=summap,\n",
    "    annealing_combiner=tm.AnnealingCombiner(\n",
    "        weights_regularizer=cycle(weights_regularizer_1epoch())\n",
    "    ),\n",
    "    adapt_init_params=lambda ps: ps + np.random.normal(size=ps.size, scale=0.01),\n",
    "#     profile=True,\n",
    "#     mode='FAST_COMPILE',\n",
    ")"
   ]
  },
  {
   "cell_type": "code",
   "execution_count": 32,
   "metadata": {
    "collapsed": false
   },
   "outputs": [
    {
     "name": "stdout",
     "output_type": "stream",
     "text": [
      "batch_precompile\n",
      "batch_precompile\n"
     ]
    },
    {
     "name": "stderr",
     "output_type": "stream",
     "text": [
      "/home/stephan/GitProjects/climin/climin/util.py:151: UserWarning: Argument named offset is not expected by <class 'climin.rmsprop.RmsProp'>\n",
      "  % (i, klass))\n",
      "/home/stephan/GitProjects/climin/climin/util.py:151: UserWarning: Argument named f is not expected by <class 'climin.rmsprop.RmsProp'>\n",
      "  % (i, klass))\n"
     ]
    }
   ],
   "source": [
    "opt = optimizer(\n",
    "    identifier=hyper.opt_identifier,\n",
    "    step_rate=hyper.opt_step_rate,\n",
    "    momentum=hyper.opt_momentum,\n",
    "    decay=hyper.opt_decay,\n",
    "    offset=hyper.opt_offset,\n",
    "    \n",
    "    args=climin_args,\n",
    "    **tm.climin_kwargs(optimizer_kwargs)\n",
    ")"
   ]
  },
  {
   "cell_type": "markdown",
   "metadata": {},
   "source": [
    "# Visualized Fit"
   ]
  },
  {
   "cell_type": "code",
   "execution_count": 33,
   "metadata": {
    "collapsed": false
   },
   "outputs": [
    {
     "data": {
      "text/plain": [
       "1742819.4136745152"
      ]
     },
     "execution_count": 33,
     "metadata": {},
     "output_type": "execute_result"
    }
   ],
   "source": [
    "optimizer_kwargs['num_loss'](opt.wrt, VZ[:10], VX[:10], no_annealing=True)"
   ]
  },
  {
   "cell_type": "code",
   "execution_count": 35,
   "metadata": {
    "collapsed": false
   },
   "outputs": [
    {
     "data": {
      "application/javascript": [
       "/* Put everything inside the global mpl namespace */\n",
       "window.mpl = {};\n",
       "\n",
       "mpl.get_websocket_type = function() {\n",
       "    if (typeof(WebSocket) !== 'undefined') {\n",
       "        return WebSocket;\n",
       "    } else if (typeof(MozWebSocket) !== 'undefined') {\n",
       "        return MozWebSocket;\n",
       "    } else {\n",
       "        alert('Your browser does not have WebSocket support.' +\n",
       "              'Please try Chrome, Safari or Firefox ≥ 6. ' +\n",
       "              'Firefox 4 and 5 are also supported but you ' +\n",
       "              'have to enable WebSockets in about:config.');\n",
       "    };\n",
       "}\n",
       "\n",
       "mpl.figure = function(figure_id, websocket, ondownload, parent_element) {\n",
       "    this.id = figure_id;\n",
       "\n",
       "    this.ws = websocket;\n",
       "\n",
       "    this.supports_binary = (this.ws.binaryType != undefined);\n",
       "\n",
       "    if (!this.supports_binary) {\n",
       "        var warnings = document.getElementById(\"mpl-warnings\");\n",
       "        if (warnings) {\n",
       "            warnings.style.display = 'block';\n",
       "            warnings.textContent = (\n",
       "                \"This browser does not support binary websocket messages. \" +\n",
       "                    \"Performance may be slow.\");\n",
       "        }\n",
       "    }\n",
       "\n",
       "    this.imageObj = new Image();\n",
       "\n",
       "    this.context = undefined;\n",
       "    this.message = undefined;\n",
       "    this.canvas = undefined;\n",
       "    this.rubberband_canvas = undefined;\n",
       "    this.rubberband_context = undefined;\n",
       "    this.format_dropdown = undefined;\n",
       "\n",
       "    this.image_mode = 'full';\n",
       "\n",
       "    this.root = $('<div/>');\n",
       "    this._root_extra_style(this.root)\n",
       "    this.root.attr('style', 'display: inline-block');\n",
       "\n",
       "    $(parent_element).append(this.root);\n",
       "\n",
       "    this._init_header(this);\n",
       "    this._init_canvas(this);\n",
       "    this._init_toolbar(this);\n",
       "\n",
       "    var fig = this;\n",
       "\n",
       "    this.waiting = false;\n",
       "\n",
       "    this.ws.onopen =  function () {\n",
       "            fig.send_message(\"supports_binary\", {value: fig.supports_binary});\n",
       "            fig.send_message(\"send_image_mode\", {});\n",
       "            fig.send_message(\"refresh\", {});\n",
       "        }\n",
       "\n",
       "    this.imageObj.onload = function() {\n",
       "            if (fig.image_mode == 'full') {\n",
       "                // Full images could contain transparency (where diff images\n",
       "                // almost always do), so we need to clear the canvas so that\n",
       "                // there is no ghosting.\n",
       "                fig.context.clearRect(0, 0, fig.canvas.width, fig.canvas.height);\n",
       "            }\n",
       "            fig.context.drawImage(fig.imageObj, 0, 0);\n",
       "        };\n",
       "\n",
       "    this.imageObj.onunload = function() {\n",
       "        this.ws.close();\n",
       "    }\n",
       "\n",
       "    this.ws.onmessage = this._make_on_message_function(this);\n",
       "\n",
       "    this.ondownload = ondownload;\n",
       "}\n",
       "\n",
       "mpl.figure.prototype._init_header = function() {\n",
       "    var titlebar = $(\n",
       "        '<div class=\"ui-dialog-titlebar ui-widget-header ui-corner-all ' +\n",
       "        'ui-helper-clearfix\"/>');\n",
       "    var titletext = $(\n",
       "        '<div class=\"ui-dialog-title\" style=\"width: 100%; ' +\n",
       "        'text-align: center; padding: 3px;\"/>');\n",
       "    titlebar.append(titletext)\n",
       "    this.root.append(titlebar);\n",
       "    this.header = titletext[0];\n",
       "}\n",
       "\n",
       "\n",
       "\n",
       "mpl.figure.prototype._canvas_extra_style = function(canvas_div) {\n",
       "\n",
       "}\n",
       "\n",
       "\n",
       "mpl.figure.prototype._root_extra_style = function(canvas_div) {\n",
       "\n",
       "}\n",
       "\n",
       "mpl.figure.prototype._init_canvas = function() {\n",
       "    var fig = this;\n",
       "\n",
       "    var canvas_div = $('<div/>');\n",
       "\n",
       "    canvas_div.attr('style', 'position: relative; clear: both; outline: 0');\n",
       "\n",
       "    function canvas_keyboard_event(event) {\n",
       "        return fig.key_event(event, event['data']);\n",
       "    }\n",
       "\n",
       "    canvas_div.keydown('key_press', canvas_keyboard_event);\n",
       "    canvas_div.keyup('key_release', canvas_keyboard_event);\n",
       "    this.canvas_div = canvas_div\n",
       "    this._canvas_extra_style(canvas_div)\n",
       "    this.root.append(canvas_div);\n",
       "\n",
       "    var canvas = $('<canvas/>');\n",
       "    canvas.addClass('mpl-canvas');\n",
       "    canvas.attr('style', \"left: 0; top: 0; z-index: 0; outline: 0\")\n",
       "\n",
       "    this.canvas = canvas[0];\n",
       "    this.context = canvas[0].getContext(\"2d\");\n",
       "\n",
       "    var rubberband = $('<canvas/>');\n",
       "    rubberband.attr('style', \"position: absolute; left: 0; top: 0; z-index: 1;\")\n",
       "\n",
       "    var pass_mouse_events = true;\n",
       "\n",
       "    canvas_div.resizable({\n",
       "        start: function(event, ui) {\n",
       "            pass_mouse_events = false;\n",
       "        },\n",
       "        resize: function(event, ui) {\n",
       "            fig.request_resize(ui.size.width, ui.size.height);\n",
       "        },\n",
       "        stop: function(event, ui) {\n",
       "            pass_mouse_events = true;\n",
       "            fig.request_resize(ui.size.width, ui.size.height);\n",
       "        },\n",
       "    });\n",
       "\n",
       "    function mouse_event_fn(event) {\n",
       "        if (pass_mouse_events)\n",
       "            return fig.mouse_event(event, event['data']);\n",
       "    }\n",
       "\n",
       "    rubberband.mousedown('button_press', mouse_event_fn);\n",
       "    rubberband.mouseup('button_release', mouse_event_fn);\n",
       "    // Throttle sequential mouse events to 1 every 20ms.\n",
       "    rubberband.mousemove('motion_notify', mouse_event_fn);\n",
       "\n",
       "    rubberband.mouseenter('figure_enter', mouse_event_fn);\n",
       "    rubberband.mouseleave('figure_leave', mouse_event_fn);\n",
       "\n",
       "    canvas_div.on(\"wheel\", function (event) {\n",
       "        event = event.originalEvent;\n",
       "        event['data'] = 'scroll'\n",
       "        if (event.deltaY < 0) {\n",
       "            event.step = 1;\n",
       "        } else {\n",
       "            event.step = -1;\n",
       "        }\n",
       "        mouse_event_fn(event);\n",
       "    });\n",
       "\n",
       "    canvas_div.append(canvas);\n",
       "    canvas_div.append(rubberband);\n",
       "\n",
       "    this.rubberband = rubberband;\n",
       "    this.rubberband_canvas = rubberband[0];\n",
       "    this.rubberband_context = rubberband[0].getContext(\"2d\");\n",
       "    this.rubberband_context.strokeStyle = \"#000000\";\n",
       "\n",
       "    this._resize_canvas = function(width, height) {\n",
       "        // Keep the size of the canvas, canvas container, and rubber band\n",
       "        // canvas in synch.\n",
       "        canvas_div.css('width', width)\n",
       "        canvas_div.css('height', height)\n",
       "\n",
       "        canvas.attr('width', width);\n",
       "        canvas.attr('height', height);\n",
       "\n",
       "        rubberband.attr('width', width);\n",
       "        rubberband.attr('height', height);\n",
       "    }\n",
       "\n",
       "    // Set the figure to an initial 600x600px, this will subsequently be updated\n",
       "    // upon first draw.\n",
       "    this._resize_canvas(600, 600);\n",
       "\n",
       "    // Disable right mouse context menu.\n",
       "    $(this.rubberband_canvas).bind(\"contextmenu\",function(e){\n",
       "        return false;\n",
       "    });\n",
       "\n",
       "    function set_focus () {\n",
       "        canvas.focus();\n",
       "        canvas_div.focus();\n",
       "    }\n",
       "\n",
       "    window.setTimeout(set_focus, 100);\n",
       "}\n",
       "\n",
       "mpl.figure.prototype._init_toolbar = function() {\n",
       "    var fig = this;\n",
       "\n",
       "    var nav_element = $('<div/>')\n",
       "    nav_element.attr('style', 'width: 100%');\n",
       "    this.root.append(nav_element);\n",
       "\n",
       "    // Define a callback function for later on.\n",
       "    function toolbar_event(event) {\n",
       "        return fig.toolbar_button_onclick(event['data']);\n",
       "    }\n",
       "    function toolbar_mouse_event(event) {\n",
       "        return fig.toolbar_button_onmouseover(event['data']);\n",
       "    }\n",
       "\n",
       "    for(var toolbar_ind in mpl.toolbar_items) {\n",
       "        var name = mpl.toolbar_items[toolbar_ind][0];\n",
       "        var tooltip = mpl.toolbar_items[toolbar_ind][1];\n",
       "        var image = mpl.toolbar_items[toolbar_ind][2];\n",
       "        var method_name = mpl.toolbar_items[toolbar_ind][3];\n",
       "\n",
       "        if (!name) {\n",
       "            // put a spacer in here.\n",
       "            continue;\n",
       "        }\n",
       "        var button = $('<button/>');\n",
       "        button.addClass('ui-button ui-widget ui-state-default ui-corner-all ' +\n",
       "                        'ui-button-icon-only');\n",
       "        button.attr('role', 'button');\n",
       "        button.attr('aria-disabled', 'false');\n",
       "        button.click(method_name, toolbar_event);\n",
       "        button.mouseover(tooltip, toolbar_mouse_event);\n",
       "\n",
       "        var icon_img = $('<span/>');\n",
       "        icon_img.addClass('ui-button-icon-primary ui-icon');\n",
       "        icon_img.addClass(image);\n",
       "        icon_img.addClass('ui-corner-all');\n",
       "\n",
       "        var tooltip_span = $('<span/>');\n",
       "        tooltip_span.addClass('ui-button-text');\n",
       "        tooltip_span.html(tooltip);\n",
       "\n",
       "        button.append(icon_img);\n",
       "        button.append(tooltip_span);\n",
       "\n",
       "        nav_element.append(button);\n",
       "    }\n",
       "\n",
       "    var fmt_picker_span = $('<span/>');\n",
       "\n",
       "    var fmt_picker = $('<select/>');\n",
       "    fmt_picker.addClass('mpl-toolbar-option ui-widget ui-widget-content');\n",
       "    fmt_picker_span.append(fmt_picker);\n",
       "    nav_element.append(fmt_picker_span);\n",
       "    this.format_dropdown = fmt_picker[0];\n",
       "\n",
       "    for (var ind in mpl.extensions) {\n",
       "        var fmt = mpl.extensions[ind];\n",
       "        var option = $(\n",
       "            '<option/>', {selected: fmt === mpl.default_extension}).html(fmt);\n",
       "        fmt_picker.append(option)\n",
       "    }\n",
       "\n",
       "    // Add hover states to the ui-buttons\n",
       "    $( \".ui-button\" ).hover(\n",
       "        function() { $(this).addClass(\"ui-state-hover\");},\n",
       "        function() { $(this).removeClass(\"ui-state-hover\");}\n",
       "    );\n",
       "\n",
       "    var status_bar = $('<span class=\"mpl-message\"/>');\n",
       "    nav_element.append(status_bar);\n",
       "    this.message = status_bar[0];\n",
       "}\n",
       "\n",
       "mpl.figure.prototype.request_resize = function(x_pixels, y_pixels) {\n",
       "    // Request matplotlib to resize the figure. Matplotlib will then trigger a resize in the client,\n",
       "    // which will in turn request a refresh of the image.\n",
       "    this.send_message('resize', {'width': x_pixels, 'height': y_pixels});\n",
       "}\n",
       "\n",
       "mpl.figure.prototype.send_message = function(type, properties) {\n",
       "    properties['type'] = type;\n",
       "    properties['figure_id'] = this.id;\n",
       "    this.ws.send(JSON.stringify(properties));\n",
       "}\n",
       "\n",
       "mpl.figure.prototype.send_draw_message = function() {\n",
       "    if (!this.waiting) {\n",
       "        this.waiting = true;\n",
       "        this.ws.send(JSON.stringify({type: \"draw\", figure_id: this.id}));\n",
       "    }\n",
       "}\n",
       "\n",
       "\n",
       "mpl.figure.prototype.handle_save = function(fig, msg) {\n",
       "    var format_dropdown = fig.format_dropdown;\n",
       "    var format = format_dropdown.options[format_dropdown.selectedIndex].value;\n",
       "    fig.ondownload(fig, format);\n",
       "}\n",
       "\n",
       "\n",
       "mpl.figure.prototype.handle_resize = function(fig, msg) {\n",
       "    var size = msg['size'];\n",
       "    if (size[0] != fig.canvas.width || size[1] != fig.canvas.height) {\n",
       "        fig._resize_canvas(size[0], size[1]);\n",
       "        fig.send_message(\"refresh\", {});\n",
       "    };\n",
       "}\n",
       "\n",
       "mpl.figure.prototype.handle_rubberband = function(fig, msg) {\n",
       "    var x0 = msg['x0'];\n",
       "    var y0 = fig.canvas.height - msg['y0'];\n",
       "    var x1 = msg['x1'];\n",
       "    var y1 = fig.canvas.height - msg['y1'];\n",
       "    x0 = Math.floor(x0) + 0.5;\n",
       "    y0 = Math.floor(y0) + 0.5;\n",
       "    x1 = Math.floor(x1) + 0.5;\n",
       "    y1 = Math.floor(y1) + 0.5;\n",
       "    var min_x = Math.min(x0, x1);\n",
       "    var min_y = Math.min(y0, y1);\n",
       "    var width = Math.abs(x1 - x0);\n",
       "    var height = Math.abs(y1 - y0);\n",
       "\n",
       "    fig.rubberband_context.clearRect(\n",
       "        0, 0, fig.canvas.width, fig.canvas.height);\n",
       "\n",
       "    fig.rubberband_context.strokeRect(min_x, min_y, width, height);\n",
       "}\n",
       "\n",
       "mpl.figure.prototype.handle_figure_label = function(fig, msg) {\n",
       "    // Updates the figure title.\n",
       "    fig.header.textContent = msg['label'];\n",
       "}\n",
       "\n",
       "mpl.figure.prototype.handle_cursor = function(fig, msg) {\n",
       "    var cursor = msg['cursor'];\n",
       "    switch(cursor)\n",
       "    {\n",
       "    case 0:\n",
       "        cursor = 'pointer';\n",
       "        break;\n",
       "    case 1:\n",
       "        cursor = 'default';\n",
       "        break;\n",
       "    case 2:\n",
       "        cursor = 'crosshair';\n",
       "        break;\n",
       "    case 3:\n",
       "        cursor = 'move';\n",
       "        break;\n",
       "    }\n",
       "    fig.rubberband_canvas.style.cursor = cursor;\n",
       "}\n",
       "\n",
       "mpl.figure.prototype.handle_message = function(fig, msg) {\n",
       "    fig.message.textContent = msg['message'];\n",
       "}\n",
       "\n",
       "mpl.figure.prototype.handle_draw = function(fig, msg) {\n",
       "    // Request the server to send over a new figure.\n",
       "    fig.send_draw_message();\n",
       "}\n",
       "\n",
       "mpl.figure.prototype.handle_image_mode = function(fig, msg) {\n",
       "    fig.image_mode = msg['mode'];\n",
       "}\n",
       "\n",
       "mpl.figure.prototype.updated_canvas_event = function() {\n",
       "    // Called whenever the canvas gets updated.\n",
       "    this.send_message(\"ack\", {});\n",
       "}\n",
       "\n",
       "// A function to construct a web socket function for onmessage handling.\n",
       "// Called in the figure constructor.\n",
       "mpl.figure.prototype._make_on_message_function = function(fig) {\n",
       "    return function socket_on_message(evt) {\n",
       "        if (evt.data instanceof Blob) {\n",
       "            /* FIXME: We get \"Resource interpreted as Image but\n",
       "             * transferred with MIME type text/plain:\" errors on\n",
       "             * Chrome.  But how to set the MIME type?  It doesn't seem\n",
       "             * to be part of the websocket stream */\n",
       "            evt.data.type = \"image/png\";\n",
       "\n",
       "            /* Free the memory for the previous frames */\n",
       "            if (fig.imageObj.src) {\n",
       "                (window.URL || window.webkitURL).revokeObjectURL(\n",
       "                    fig.imageObj.src);\n",
       "            }\n",
       "\n",
       "            fig.imageObj.src = (window.URL || window.webkitURL).createObjectURL(\n",
       "                evt.data);\n",
       "            fig.updated_canvas_event();\n",
       "            fig.waiting = false;\n",
       "            return;\n",
       "        }\n",
       "        else if (typeof evt.data === 'string' && evt.data.slice(0, 21) == \"data:image/png;base64\") {\n",
       "            fig.imageObj.src = evt.data;\n",
       "            fig.updated_canvas_event();\n",
       "            fig.waiting = false;\n",
       "            return;\n",
       "        }\n",
       "\n",
       "        var msg = JSON.parse(evt.data);\n",
       "        var msg_type = msg['type'];\n",
       "\n",
       "        // Call the  \"handle_{type}\" callback, which takes\n",
       "        // the figure and JSON message as its only arguments.\n",
       "        try {\n",
       "            var callback = fig[\"handle_\" + msg_type];\n",
       "        } catch (e) {\n",
       "            console.log(\"No handler for the '\" + msg_type + \"' message type: \", msg);\n",
       "            return;\n",
       "        }\n",
       "\n",
       "        if (callback) {\n",
       "            try {\n",
       "                // console.log(\"Handling '\" + msg_type + \"' message: \", msg);\n",
       "                callback(fig, msg);\n",
       "            } catch (e) {\n",
       "                console.log(\"Exception inside the 'handler_\" + msg_type + \"' callback:\", e, e.stack, msg);\n",
       "            }\n",
       "        }\n",
       "    };\n",
       "}\n",
       "\n",
       "// from http://stackoverflow.com/questions/1114465/getting-mouse-location-in-canvas\n",
       "mpl.findpos = function(e) {\n",
       "    //this section is from http://www.quirksmode.org/js/events_properties.html\n",
       "    var targ;\n",
       "    if (!e)\n",
       "        e = window.event;\n",
       "    if (e.target)\n",
       "        targ = e.target;\n",
       "    else if (e.srcElement)\n",
       "        targ = e.srcElement;\n",
       "    if (targ.nodeType == 3) // defeat Safari bug\n",
       "        targ = targ.parentNode;\n",
       "\n",
       "    // jQuery normalizes the pageX and pageY\n",
       "    // pageX,Y are the mouse positions relative to the document\n",
       "    // offset() returns the position of the element relative to the document\n",
       "    var x = e.pageX - $(targ).offset().left;\n",
       "    var y = e.pageY - $(targ).offset().top;\n",
       "\n",
       "    return {\"x\": x, \"y\": y};\n",
       "};\n",
       "\n",
       "/*\n",
       " * return a copy of an object with only non-object keys\n",
       " * we need this to avoid circular references\n",
       " * http://stackoverflow.com/a/24161582/3208463\n",
       " */\n",
       "function simpleKeys (original) {\n",
       "  return Object.keys(original).reduce(function (obj, key) {\n",
       "    if (typeof original[key] !== 'object')\n",
       "        obj[key] = original[key]\n",
       "    return obj;\n",
       "  }, {});\n",
       "}\n",
       "\n",
       "mpl.figure.prototype.mouse_event = function(event, name) {\n",
       "    var canvas_pos = mpl.findpos(event)\n",
       "\n",
       "    if (name === 'button_press')\n",
       "    {\n",
       "        this.canvas.focus();\n",
       "        this.canvas_div.focus();\n",
       "    }\n",
       "\n",
       "    var x = canvas_pos.x;\n",
       "    var y = canvas_pos.y;\n",
       "\n",
       "    this.send_message(name, {x: x, y: y, button: event.button,\n",
       "                             step: event.step,\n",
       "                             guiEvent: simpleKeys(event)});\n",
       "\n",
       "    /* This prevents the web browser from automatically changing to\n",
       "     * the text insertion cursor when the button is pressed.  We want\n",
       "     * to control all of the cursor setting manually through the\n",
       "     * 'cursor' event from matplotlib */\n",
       "    event.preventDefault();\n",
       "    return false;\n",
       "}\n",
       "\n",
       "mpl.figure.prototype._key_event_extra = function(event, name) {\n",
       "    // Handle any extra behaviour associated with a key event\n",
       "}\n",
       "\n",
       "mpl.figure.prototype.key_event = function(event, name) {\n",
       "\n",
       "    // Prevent repeat events\n",
       "    if (name == 'key_press')\n",
       "    {\n",
       "        if (event.which === this._key)\n",
       "            return;\n",
       "        else\n",
       "            this._key = event.which;\n",
       "    }\n",
       "    if (name == 'key_release')\n",
       "        this._key = null;\n",
       "\n",
       "    var value = '';\n",
       "    if (event.ctrlKey && event.which != 17)\n",
       "        value += \"ctrl+\";\n",
       "    if (event.altKey && event.which != 18)\n",
       "        value += \"alt+\";\n",
       "    if (event.shiftKey && event.which != 16)\n",
       "        value += \"shift+\";\n",
       "\n",
       "    value += 'k';\n",
       "    value += event.which.toString();\n",
       "\n",
       "    this._key_event_extra(event, name);\n",
       "\n",
       "    this.send_message(name, {key: value,\n",
       "                             guiEvent: simpleKeys(event)});\n",
       "    return false;\n",
       "}\n",
       "\n",
       "mpl.figure.prototype.toolbar_button_onclick = function(name) {\n",
       "    if (name == 'download') {\n",
       "        this.handle_save(this, null);\n",
       "    } else {\n",
       "        this.send_message(\"toolbar_button\", {name: name});\n",
       "    }\n",
       "};\n",
       "\n",
       "mpl.figure.prototype.toolbar_button_onmouseover = function(tooltip) {\n",
       "    this.message.textContent = tooltip;\n",
       "};\n",
       "mpl.toolbar_items = [[\"Home\", \"Reset original view\", \"fa fa-home icon-home\", \"home\"], [\"Back\", \"Back to  previous view\", \"fa fa-arrow-left icon-arrow-left\", \"back\"], [\"Forward\", \"Forward to next view\", \"fa fa-arrow-right icon-arrow-right\", \"forward\"], [\"\", \"\", \"\", \"\"], [\"Pan\", \"Pan axes with left mouse, zoom with right\", \"fa fa-arrows icon-move\", \"pan\"], [\"Zoom\", \"Zoom to rectangle\", \"fa fa-square-o icon-check-empty\", \"zoom\"], [\"\", \"\", \"\", \"\"], [\"Download\", \"Download plot\", \"fa fa-floppy-o icon-save\", \"download\"]];\n",
       "\n",
       "mpl.extensions = [\"eps\", \"jpeg\", \"pdf\", \"png\", \"ps\", \"raw\", \"svg\", \"tif\"];\n",
       "\n",
       "mpl.default_extension = \"png\";var comm_websocket_adapter = function(comm) {\n",
       "    // Create a \"websocket\"-like object which calls the given IPython comm\n",
       "    // object with the appropriate methods. Currently this is a non binary\n",
       "    // socket, so there is still some room for performance tuning.\n",
       "    var ws = {};\n",
       "\n",
       "    ws.close = function() {\n",
       "        comm.close()\n",
       "    };\n",
       "    ws.send = function(m) {\n",
       "        //console.log('sending', m);\n",
       "        comm.send(m);\n",
       "    };\n",
       "    // Register the callback with on_msg.\n",
       "    comm.on_msg(function(msg) {\n",
       "        //console.log('receiving', msg['content']['data'], msg);\n",
       "        // Pass the mpl event to the overriden (by mpl) onmessage function.\n",
       "        ws.onmessage(msg['content']['data'])\n",
       "    });\n",
       "    return ws;\n",
       "}\n",
       "\n",
       "mpl.mpl_figure_comm = function(comm, msg) {\n",
       "    // This is the function which gets called when the mpl process\n",
       "    // starts-up an IPython Comm through the \"matplotlib\" channel.\n",
       "\n",
       "    var id = msg.content.data.id;\n",
       "    // Get hold of the div created by the display call when the Comm\n",
       "    // socket was opened in Python.\n",
       "    var element = $(\"#\" + id);\n",
       "    var ws_proxy = comm_websocket_adapter(comm)\n",
       "\n",
       "    function ondownload(figure, format) {\n",
       "        window.open(figure.imageObj.src);\n",
       "    }\n",
       "\n",
       "    var fig = new mpl.figure(id, ws_proxy,\n",
       "                           ondownload,\n",
       "                           element.get(0));\n",
       "\n",
       "    // Call onopen now - mpl needs it, as it is assuming we've passed it a real\n",
       "    // web socket which is closed, not our websocket->open comm proxy.\n",
       "    ws_proxy.onopen();\n",
       "\n",
       "    fig.parent_element = element.get(0);\n",
       "    fig.cell_info = mpl.find_output_cell(\"<div id='\" + id + \"'></div>\");\n",
       "    if (!fig.cell_info) {\n",
       "        console.error(\"Failed to find cell for figure\", id, fig);\n",
       "        return;\n",
       "    }\n",
       "\n",
       "    var output_index = fig.cell_info[2]\n",
       "    var cell = fig.cell_info[0];\n",
       "\n",
       "};\n",
       "\n",
       "mpl.figure.prototype.handle_close = function(fig, msg) {\n",
       "    fig.root.unbind('remove')\n",
       "\n",
       "    // Update the output cell to use the data from the current canvas.\n",
       "    fig.push_to_output();\n",
       "    var dataURL = fig.canvas.toDataURL();\n",
       "    // Re-enable the keyboard manager in IPython - without this line, in FF,\n",
       "    // the notebook keyboard shortcuts fail.\n",
       "    IPython.keyboard_manager.enable()\n",
       "    $(fig.parent_element).html('<img src=\"' + dataURL + '\">');\n",
       "    fig.close_ws(fig, msg);\n",
       "}\n",
       "\n",
       "mpl.figure.prototype.close_ws = function(fig, msg){\n",
       "    fig.send_message('closing', msg);\n",
       "    // fig.ws.close()\n",
       "}\n",
       "\n",
       "mpl.figure.prototype.push_to_output = function(remove_interactive) {\n",
       "    // Turn the data on the canvas into data in the output cell.\n",
       "    var dataURL = this.canvas.toDataURL();\n",
       "    this.cell_info[1]['text/html'] = '<img src=\"' + dataURL + '\">';\n",
       "}\n",
       "\n",
       "mpl.figure.prototype.updated_canvas_event = function() {\n",
       "    // Tell IPython that the notebook contents must change.\n",
       "    IPython.notebook.set_dirty(true);\n",
       "    this.send_message(\"ack\", {});\n",
       "    var fig = this;\n",
       "    // Wait a second, then push the new image to the DOM so\n",
       "    // that it is saved nicely (might be nice to debounce this).\n",
       "    setTimeout(function () { fig.push_to_output() }, 1000);\n",
       "}\n",
       "\n",
       "mpl.figure.prototype._init_toolbar = function() {\n",
       "    var fig = this;\n",
       "\n",
       "    var nav_element = $('<div/>')\n",
       "    nav_element.attr('style', 'width: 100%');\n",
       "    this.root.append(nav_element);\n",
       "\n",
       "    // Define a callback function for later on.\n",
       "    function toolbar_event(event) {\n",
       "        return fig.toolbar_button_onclick(event['data']);\n",
       "    }\n",
       "    function toolbar_mouse_event(event) {\n",
       "        return fig.toolbar_button_onmouseover(event['data']);\n",
       "    }\n",
       "\n",
       "    for(var toolbar_ind in mpl.toolbar_items){\n",
       "        var name = mpl.toolbar_items[toolbar_ind][0];\n",
       "        var tooltip = mpl.toolbar_items[toolbar_ind][1];\n",
       "        var image = mpl.toolbar_items[toolbar_ind][2];\n",
       "        var method_name = mpl.toolbar_items[toolbar_ind][3];\n",
       "\n",
       "        if (!name) { continue; };\n",
       "\n",
       "        var button = $('<button class=\"btn btn-default\" href=\"#\" title=\"' + name + '\"><i class=\"fa ' + image + ' fa-lg\"></i></button>');\n",
       "        button.click(method_name, toolbar_event);\n",
       "        button.mouseover(tooltip, toolbar_mouse_event);\n",
       "        nav_element.append(button);\n",
       "    }\n",
       "\n",
       "    // Add the status bar.\n",
       "    var status_bar = $('<span class=\"mpl-message\" style=\"text-align:right; float: right;\"/>');\n",
       "    nav_element.append(status_bar);\n",
       "    this.message = status_bar[0];\n",
       "\n",
       "    // Add the close button to the window.\n",
       "    var buttongrp = $('<div class=\"btn-group inline pull-right\"></div>');\n",
       "    var button = $('<button class=\"btn btn-mini btn-primary\" href=\"#\" title=\"Stop Interaction\"><i class=\"fa fa-power-off icon-remove icon-large\"></i></button>');\n",
       "    button.click(function (evt) { fig.handle_close(fig, {}); } );\n",
       "    button.mouseover('Stop Interaction', toolbar_mouse_event);\n",
       "    buttongrp.append(button);\n",
       "    var titlebar = this.root.find($('.ui-dialog-titlebar'));\n",
       "    titlebar.prepend(buttongrp);\n",
       "}\n",
       "\n",
       "mpl.figure.prototype._root_extra_style = function(el){\n",
       "    var fig = this\n",
       "    el.on(\"remove\", function(){\n",
       "\tfig.close_ws(fig, {});\n",
       "    });\n",
       "}\n",
       "\n",
       "mpl.figure.prototype._canvas_extra_style = function(el){\n",
       "    // this is important to make the div 'focusable\n",
       "    el.attr('tabindex', 0)\n",
       "    // reach out to IPython and tell the keyboard manager to turn it's self\n",
       "    // off when our div gets focus\n",
       "\n",
       "    // location in version 3\n",
       "    if (IPython.notebook.keyboard_manager) {\n",
       "        IPython.notebook.keyboard_manager.register_events(el);\n",
       "    }\n",
       "    else {\n",
       "        // location in version 2\n",
       "        IPython.keyboard_manager.register_events(el);\n",
       "    }\n",
       "\n",
       "}\n",
       "\n",
       "mpl.figure.prototype._key_event_extra = function(event, name) {\n",
       "    var manager = IPython.notebook.keyboard_manager;\n",
       "    if (!manager)\n",
       "        manager = IPython.keyboard_manager;\n",
       "\n",
       "    // Check for shift+enter\n",
       "    if (event.shiftKey && event.which == 13) {\n",
       "        this.canvas_div.blur();\n",
       "        event.shiftKey = false;\n",
       "        // Send a \"J\" for go to next cell\n",
       "        event.which = 74;\n",
       "        event.keyCode = 74;\n",
       "        manager.command_mode();\n",
       "        manager.handle_keydown(event);\n",
       "    }\n",
       "}\n",
       "\n",
       "mpl.figure.prototype.handle_save = function(fig, msg) {\n",
       "    fig.ondownload(fig, null);\n",
       "}\n",
       "\n",
       "\n",
       "mpl.find_output_cell = function(html_output) {\n",
       "    // Return the cell and output element which can be found *uniquely* in the notebook.\n",
       "    // Note - this is a bit hacky, but it is done because the \"notebook_saving.Notebook\"\n",
       "    // IPython event is triggered only after the cells have been serialised, which for\n",
       "    // our purposes (turning an active figure into a static one), is too late.\n",
       "    var cells = IPython.notebook.get_cells();\n",
       "    var ncells = cells.length;\n",
       "    for (var i=0; i<ncells; i++) {\n",
       "        var cell = cells[i];\n",
       "        if (cell.cell_type === 'code'){\n",
       "            for (var j=0; j<cell.output_area.outputs.length; j++) {\n",
       "                var data = cell.output_area.outputs[j];\n",
       "                if (data.data) {\n",
       "                    // IPython >= 3 moved mimebundle to data attribute of output\n",
       "                    data = data.data;\n",
       "                }\n",
       "                if (data['text/html'] == html_output) {\n",
       "                    return [cell, data, j];\n",
       "                }\n",
       "            }\n",
       "        }\n",
       "    }\n",
       "}\n",
       "\n",
       "// Register the function which deals with the matplotlib target/channel.\n",
       "// The kernel may be null if the page has been refreshed.\n",
       "if (IPython.notebook.kernel != null) {\n",
       "    IPython.notebook.kernel.comm_manager.register_target('matplotlib', mpl.mpl_figure_comm);\n",
       "}\n"
      ],
      "text/plain": [
       "<IPython.core.display.Javascript object>"
      ]
     },
     "metadata": {},
     "output_type": "display_data"
    },
    {
     "data": {
      "text/html": [
       "<img src=\"data:image/png;base64,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\">"
      ],
      "text/plain": [
       "<IPython.core.display.HTML object>"
      ]
     },
     "metadata": {},
     "output_type": "display_data"
    }
   ],
   "source": [
    "# plot: \n",
    "line_train, = plot([], [], 'go-', label=\"average training loss\")\n",
    "line_curr_val, = plot([],[], 'bo:', label=\"avrg current validation loss\")\n",
    "line_best_val, = plot([], [], 'ko-', label=\"avrg best validation loss\")\n",
    "# plt.ticklabel_format(style='sci', axis='y', scilimits=(0,0))\n",
    "yscale('log')\n",
    "gca().yaxis.set_minor_formatter(FormatStrFormatter(\"%.2g\"))\n",
    "ylabel(\"validation loss\")\n",
    "xlabel(\"#epoch\")\n",
    "legend(loc='lower left', fancybox=True, framealpha=0.5)\n",
    "\n",
    "# start values:\n",
    "hyper.best_val_loss = optimizer_kwargs['num_loss'](opt.wrt, VZ, VX, no_annealing=True)\n",
    "training_loss = optimizer_kwargs['num_loss'](opt.wrt, Z[:10], X[:10], no_annealing=True)\n",
    "start_epoch = opt.n_iter//X.shape[0]\n",
    "\n",
    "add_point(line_best_val, start_epoch, hyper.best_val_loss)\n",
    "add_point(line_curr_val, start_epoch, hyper.best_val_loss)\n",
    "add_point(line_train, start_epoch, training_loss)"
   ]
  },
  {
   "cell_type": "code",
   "execution_count": 36,
   "metadata": {
    "collapsed": false
   },
   "outputs": [],
   "source": [
    "last_improvement_epoch = 0\n",
    "for info in every(n_batches, opt):\n",
    "    current_epoch = info['n_iter']//n_batches\n",
    "    if current_epoch - last_improvement_epoch > hyper.max_epochs_without_improvement:\n",
    "        break\n",
    "    # collect and visualize validation loss for choosing the best model\n",
    "    val_loss = optimizer_kwargs['num_loss'](opt.wrt, VZ, VX, no_annealing=True)\n",
    "    if val_loss < hyper.best_val_loss:\n",
    "        last_improvement_epoch = current_epoch\n",
    "        hyper.best_parameters = opt.wrt\n",
    "        hyper.best_val_loss = val_loss\n",
    "        add_point(line_best_val, current_epoch, val_loss)\n",
    "    hyper.val_loss.append(val_loss)\n",
    "    add_point(line_curr_val, current_epoch, val_loss)\n",
    "    \n",
    "    # visualize training loss for comparison:\n",
    "    training_loss = optimizer_kwargs['num_loss'](opt.wrt, Z[:10], X[:10], no_annealing=True)\n",
    "    hyper.train_loss.append(training_loss)\n",
    "    add_point(line_train, current_epoch, training_loss)\n",
    "    \n",
    "#     print info['n_iter'], training_loss, val_loss, best_val_loss"
   ]
  },
  {
   "cell_type": "code",
   "execution_count": 37,
   "metadata": {
    "collapsed": false
   },
   "outputs": [],
   "source": [
    "sql_session.add(hyper)\n",
    "sql_session.commit()"
   ]
  },
  {
   "cell_type": "markdown",
   "metadata": {},
   "source": [
    "# Performance"
   ]
  },
  {
   "cell_type": "markdown",
   "metadata": {},
   "source": [
    "TODO: average over predictions"
   ]
  },
  {
   "cell_type": "code",
   "execution_count": 39,
   "metadata": {
    "collapsed": false
   },
   "outputs": [
    {
     "data": {
      "text/plain": [
       "(array([ 1.56663782]), array([ 1.32424676], dtype=float32))"
      ]
     },
     "execution_count": 39,
     "metadata": {},
     "output_type": "execute_result"
    }
   ],
   "source": [
    "predict = theano.function([flat]+predictor['inputs'], predictor['outputs'])\n",
    "def mypredict(x):\n",
    "    return predict(hyper.best_parameters, x)\n",
    "mypredict(X[0]), Z[0]"
   ]
  },
  {
   "cell_type": "code",
   "execution_count": 41,
   "metadata": {
    "collapsed": false
   },
   "outputs": [],
   "source": [
    "PX = np.apply_along_axis(mypredict, 1, X)\n",
    "PVX = np.apply_along_axis(mypredict, 1, VX)\n",
    "PTX = np.apply_along_axis(mypredict, 1, TX)"
   ]
  },
  {
   "cell_type": "code",
   "execution_count": 42,
   "metadata": {
    "collapsed": false
   },
   "outputs": [
    {
     "name": "stdout",
     "output_type": "stream",
     "text": [
      "boston RMSE: train/val/test = 9.34291/6.92728/10.1452\n"
     ]
    }
   ],
   "source": [
    "def RMSE(PX, Z):\n",
    "    return np.sqrt(((PX - Z) ** 2).mean())\n",
    "def nRMSE(PX, Z):\n",
    "    return RMSE(PX*Z_std + Z_mean, Z*Z_std + Z_mean)\n",
    "\n",
    "print '%s RMSE: train/val/test = %g/%g/%g' % (datasetname, nRMSE(PX, Z), nRMSE(PVX, VZ), nRMSE(PTX, TZ))"
   ]
  }
 ],
 "metadata": {
  "kernelspec": {
   "display_name": "Python 2",
   "language": "python",
   "name": "python2"
  },
  "language_info": {
   "codemirror_mode": {
    "name": "ipython",
    "version": 2
   },
   "file_extension": ".py",
   "mimetype": "text/x-python",
   "name": "python",
   "nbconvert_exporter": "python",
   "pygments_lexer": "ipython2",
   "version": "2.7.6"
  },
  "toc": {
   "toc_cell": false,
   "toc_number_sections": true,
   "toc_threshold": 4,
   "toc_window_display": false
  }
 },
 "nbformat": 4,
 "nbformat_minor": 0
}
