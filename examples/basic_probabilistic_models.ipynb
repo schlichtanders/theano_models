{
 "cells": [
  {
   "cell_type": "code",
   "execution_count": 1,
   "metadata": {
    "collapsed": false
   },
   "outputs": [
    {
     "name": "stderr",
     "output_type": "stream",
     "text": [
      "/usr/local/lib/python2.7/dist-packages/matplotlib/font_manager.py:273: UserWarning: Matplotlib is building the font cache using fc-list. This may take a moment.\n",
      "  warnings.warn('Matplotlib is building the font cache using fc-list. This may take a moment.')\n"
     ]
    }
   ],
   "source": [
    "%matplotlib notebook"
   ]
  },
  {
   "cell_type": "code",
   "execution_count": 2,
   "metadata": {
    "collapsed": false
   },
   "outputs": [
    {
     "name": "stdout",
     "output_type": "stream",
     "text": [
      "gnumpy: failed to import cudamat. Using npmat instead. No GPU will be used.\n"
     ]
    }
   ],
   "source": [
    "import theano\n",
    "from theano import config\n",
    "import theano.tensor as T\n",
    "import numpy as np\n",
    "import matplotlib.pyplot as plt\n",
    "from matplotlib.patches import Ellipse\n",
    "import time\n",
    "from scipy.optimize import minimize\n",
    "from climin.util import optimizer"
   ]
  },
  {
   "cell_type": "code",
   "execution_count": 3,
   "metadata": {
    "collapsed": true
   },
   "outputs": [],
   "source": [
    "from schlichtanders.myoptimizers import online, batch\n",
    "from schlichtanders.myfunctools import compose"
   ]
  },
  {
   "cell_type": "code",
   "execution_count": 4,
   "metadata": {
    "collapsed": false
   },
   "outputs": [],
   "source": [
    "from theano_models import softplus, softplus_inv, total_size, as_tensor_variable, reparameterize_map\n",
    "\n",
    "from theano_models.postmaps import scipy_postmap, climin_postmap, flat_numericalize_postmap, flatten_parameters, probabilistic_optimizer_postmap\n",
    "\n",
    "import theano_models.probabilistic_models as pm\n",
    "import theano_models.deterministic_models as dm"
   ]
  },
  {
   "cell_type": "markdown",
   "metadata": {},
   "source": [
    "# Testing Gauss Distribution"
   ]
  },
  {
   "cell_type": "markdown",
   "metadata": {},
   "source": [
    "For this test we simply try to approximate a diagonal gaussian distribution to given gaussian samples."
   ]
  },
  {
   "cell_type": "markdown",
   "metadata": {},
   "source": [
    "## model"
   ]
  },
  {
   "cell_type": "code",
   "execution_count": null,
   "metadata": {
    "collapsed": false
   },
   "outputs": [],
   "source": [
    "size = 2\n",
    "model = pm.DiagGauss(size)\n",
    "model"
   ]
  },
  {
   "cell_type": "code",
   "execution_count": null,
   "metadata": {
    "collapsed": false
   },
   "outputs": [],
   "source": [
    "model.map('parameters_positive', reparameterize_map(softplus, softplus_inv), \"parameters\")\n",
    "model"
   ]
  },
  {
   "cell_type": "markdown",
   "metadata": {},
   "source": [
    "## target"
   ]
  },
  {
   "cell_type": "code",
   "execution_count": null,
   "metadata": {
    "collapsed": false
   },
   "outputs": [],
   "source": [
    "target = pm.DiagGauss(init_mean=[4,10], init_var=[0.5,2])"
   ]
  },
  {
   "cell_type": "code",
   "execution_count": null,
   "metadata": {
    "collapsed": false
   },
   "outputs": [],
   "source": [
    "sampler = target.function()\n",
    "sampler()"
   ]
  },
  {
   "cell_type": "code",
   "execution_count": null,
   "metadata": {
    "collapsed": false
   },
   "outputs": [],
   "source": [
    "n_samples = 400\n",
    "targets = np.array([sampler() for _ in xrange(n_samples)])"
   ]
  },
  {
   "cell_type": "markdown",
   "metadata": {},
   "source": [
    "## visualization"
   ]
  },
  {
   "cell_type": "code",
   "execution_count": null,
   "metadata": {
    "collapsed": true
   },
   "outputs": [],
   "source": [
    "def plot_fit(fig, ax, givens={}, time_delay=0.1):\n",
    "    \"\"\" interactive plot of model fit\n",
    "    \n",
    "    Plots target data set as well as two Ellipse around target and model mean with width/height = 2* respective\n",
    "    standard deviation.\n",
    "    \"\"\"\n",
    "    ax.clear()\n",
    "    ax.set_xlabel(\"x0\")\n",
    "    ax.set_ylabel(\"x1\")\n",
    "    \n",
    "    # plot data\n",
    "    # ---------\n",
    "    ax.plot(targets[:,0], targets[:,1], 'k.')\n",
    "    \n",
    "    # plot target\n",
    "    # -----------\n",
    "    target_mean = target.mean.eval()\n",
    "    target_var = target.var.eval()\n",
    "    \n",
    "    # Ellipse\n",
    "    e = Ellipse(target_mean, width=2*np.sqrt(target_var[0]), height=2*np.sqrt(target_var[1]))\n",
    "    e.set_clip_box(ax.bbox)\n",
    "    e.set_alpha(0.1)\n",
    "    e.set_facecolor([1, 0.1, 0.1])\n",
    "    ax.add_patch(e)\n",
    "\n",
    "    # plot model\n",
    "    # -----------\n",
    "    model_mean = model.mean.eval(givens)\n",
    "    model_var = model.var.eval(givens)\n",
    "    # text\n",
    "    ax.text(0.1, 0.2, 'm=%g,%g' % tuple(model_mean),\n",
    "            verticalalignment='bottom', horizontalalignment='left',\n",
    "            transform=ax.transAxes)\n",
    "    ax.text(0.1, 0.1, 'v=%g,%g' % tuple(model_var),\n",
    "            verticalalignment='bottom', horizontalalignment='left',\n",
    "            transform=ax.transAxes)\n",
    "    # Ellipse\n",
    "    e = Ellipse(model_mean, width=2*np.sqrt(model_var[0]), height=2*np.sqrt(model_var[1]))\n",
    "    e.set_clip_box(ax.bbox)\n",
    "    e.set_alpha(0.2)\n",
    "    e.set_facecolor([0.1, 0.2, 0.4])\n",
    "    ax.add_patch(e)\n",
    "    # Point  # we need to add a normal plot, as then the axis adjust automatically\n",
    "    ax.plot(model_mean[0], model_mean[1], '+', color=[0.1, 0.2, 0.4], markersize=10)\n",
    "    \n",
    "    # interactively redraw\n",
    "    # --------------------\n",
    "    fig.canvas.draw()\n",
    "    time.sleep(time_delay) # just because the fit is to fast otherwise"
   ]
  },
  {
   "cell_type": "code",
   "execution_count": null,
   "metadata": {
    "collapsed": false
   },
   "outputs": [],
   "source": [
    "fig, ax = plt.subplots()\n",
    "plot_fit(fig, ax)"
   ]
  },
  {
   "cell_type": "markdown",
   "metadata": {},
   "source": [
    "## fit"
   ]
  },
  {
   "cell_type": "code",
   "execution_count": null,
   "metadata": {
    "collapsed": false
   },
   "outputs": [],
   "source": [
    "postmap = compose(scipy_postmap, flat_numericalize_postmap, flatten_parameters, probabilistic_optimizer_postmap)\n",
    "scipy_kwargs = postmap(model, wrapper=batch, initial_inputs=[])\n",
    "scipy_kwargs"
   ]
  },
  {
   "cell_type": "code",
   "execution_count": null,
   "metadata": {
    "collapsed": false
   },
   "outputs": [],
   "source": [
    "fit = minimize(\n",
    "    args=(targets,),\n",
    "    method=\"Newton-CG\",\n",
    "    options={'maxiter':100, 'disp':True},\n",
    "    callback=lambda xs: plot_fit(fig, ax, {model['parameters_flat'][0]:xs}),\n",
    "    **scipy_kwargs\n",
    "); fit"
   ]
  },
  {
   "cell_type": "markdown",
   "metadata": {},
   "source": [
    "Sometimes we might want to fix fitted model parameters into the model."
   ]
  },
  {
   "cell_type": "code",
   "execution_count": null,
   "metadata": {
    "collapsed": true
   },
   "outputs": [],
   "source": [
    "model['parameters_flat'] = [fit.x]"
   ]
  },
  {
   "cell_type": "code",
   "execution_count": null,
   "metadata": {
    "collapsed": false
   },
   "outputs": [],
   "source": [
    "print model.var.eval()\n",
    "print model.mean.eval()"
   ]
  },
  {
   "cell_type": "markdown",
   "metadata": {},
   "source": [
    "# Uniform Distribution"
   ]
  },
  {
   "cell_type": "markdown",
   "metadata": {},
   "source": [
    "## model"
   ]
  },
  {
   "cell_type": "code",
   "execution_count": 5,
   "metadata": {
    "collapsed": false
   },
   "outputs": [
    {
     "data": {
      "text/plain": [
       "{ 'inputs': [],\n",
       "  'logP': <FunctionWrapper at 0x7f05174be4b0 for function at 0x7f0517533ed8>,\n",
       "  'outputs': Elemwise{add,no_inplace}.0,\n",
       "  'parameters': [start],\n",
       "  'parameters_positive': [offset]}"
      ]
     },
     "execution_count": 5,
     "metadata": {},
     "output_type": "execute_result"
    }
   ],
   "source": [
    "model = pm.Uniform(output_size=2)\n",
    "model"
   ]
  },
  {
   "cell_type": "code",
   "execution_count": 6,
   "metadata": {
    "collapsed": false
   },
   "outputs": [
    {
     "data": {
      "text/plain": [
       "{ 'inputs': [],\n",
       "  'logP': <FunctionWrapper at 0x7f05174be4b0 for function at 0x7f0517533ed8>,\n",
       "  'outputs': Elemwise{add,no_inplace}.0,\n",
       "  'parameters': [start, offset_copy_softplus],\n",
       "  'parameters_positive': [offset_reparam]}"
      ]
     },
     "execution_count": 6,
     "metadata": {},
     "output_type": "execute_result"
    }
   ],
   "source": [
    "model.map(\"parameters_positive\", reparameterize_map(softplus, softplus_inv), \"parameters\")\n",
    "model"
   ]
  },
  {
   "cell_type": "markdown",
   "metadata": {},
   "source": [
    "## target"
   ]
  },
  {
   "cell_type": "code",
   "execution_count": 7,
   "metadata": {
    "collapsed": false
   },
   "outputs": [
    {
     "data": {
      "text/plain": [
       "array([ 1.52119598,  4.66799371])"
      ]
     },
     "execution_count": 7,
     "metadata": {},
     "output_type": "execute_result"
    }
   ],
   "source": [
    "target = pm.Uniform(init_start=[1,4], init_offset=[2,1])\n",
    "t_sampler = target.function()\n",
    "t_sampler()"
   ]
  },
  {
   "cell_type": "code",
   "execution_count": 8,
   "metadata": {
    "collapsed": false
   },
   "outputs": [],
   "source": [
    "n_samples = 400\n",
    "targets = np.array([t_sampler() for _ in xrange(n_samples)])"
   ]
  },
  {
   "cell_type": "code",
   "execution_count": 9,
   "metadata": {
    "collapsed": false
   },
   "outputs": [
    {
     "data": {
      "text/plain": [
       "array([[ 1.82956678,  4.48832206],\n",
       "       [ 2.89551775,  4.52235336],\n",
       "       [ 1.79451511,  4.51539608],\n",
       "       [ 1.55957792,  4.74875411],\n",
       "       [ 1.97544136,  4.11991057],\n",
       "       [ 2.752849  ,  4.03566196],\n",
       "       [ 1.91843402,  4.46201803],\n",
       "       [ 2.80678498,  4.05346873],\n",
       "       [ 1.84389125,  4.05909427],\n",
       "       [ 1.90271159,  4.70982029]])"
      ]
     },
     "execution_count": 9,
     "metadata": {},
     "output_type": "execute_result"
    }
   ],
   "source": [
    "targets[:10]"
   ]
  },
  {
   "cell_type": "markdown",
   "metadata": {},
   "source": [
    "## visualize"
   ]
  },
  {
   "cell_type": "code",
   "execution_count": 10,
   "metadata": {
    "collapsed": true
   },
   "outputs": [],
   "source": [
    "def plot_fit(fig, ax, givens={}, time_delay=0.1):\n",
    "    ax.clear()\n",
    "    \n",
    "    # targets\n",
    "    ax.plot(targets[:,0], targets[:,1], \"k.\")\n",
    "    \n",
    "    # model\n",
    "    m_sampler = model.function(givens=givens)\n",
    "    model_samples = np.array([m_sampler() for _ in xrange(n_samples)])\n",
    "    ax.plot(model_samples[:,0], model_samples[:,1], \"r.\")\n",
    "    fig.canvas.draw()\n",
    "    time.sleep(time_delay)"
   ]
  },
  {
   "cell_type": "code",
   "execution_count": 11,
   "metadata": {
    "collapsed": false
   },
   "outputs": [
    {
     "data": {
      "application/javascript": [
       "/* Put everything inside the global mpl namespace */\n",
       "window.mpl = {};\n",
       "\n",
       "mpl.get_websocket_type = function() {\n",
       "    if (typeof(WebSocket) !== 'undefined') {\n",
       "        return WebSocket;\n",
       "    } else if (typeof(MozWebSocket) !== 'undefined') {\n",
       "        return MozWebSocket;\n",
       "    } else {\n",
       "        alert('Your browser does not have WebSocket support.' +\n",
       "              'Please try Chrome, Safari or Firefox ≥ 6. ' +\n",
       "              'Firefox 4 and 5 are also supported but you ' +\n",
       "              'have to enable WebSockets in about:config.');\n",
       "    };\n",
       "}\n",
       "\n",
       "mpl.figure = function(figure_id, websocket, ondownload, parent_element) {\n",
       "    this.id = figure_id;\n",
       "\n",
       "    this.ws = websocket;\n",
       "\n",
       "    this.supports_binary = (this.ws.binaryType != undefined);\n",
       "\n",
       "    if (!this.supports_binary) {\n",
       "        var warnings = document.getElementById(\"mpl-warnings\");\n",
       "        if (warnings) {\n",
       "            warnings.style.display = 'block';\n",
       "            warnings.textContent = (\n",
       "                \"This browser does not support binary websocket messages. \" +\n",
       "                    \"Performance may be slow.\");\n",
       "        }\n",
       "    }\n",
       "\n",
       "    this.imageObj = new Image();\n",
       "\n",
       "    this.context = undefined;\n",
       "    this.message = undefined;\n",
       "    this.canvas = undefined;\n",
       "    this.rubberband_canvas = undefined;\n",
       "    this.rubberband_context = undefined;\n",
       "    this.format_dropdown = undefined;\n",
       "\n",
       "    this.image_mode = 'full';\n",
       "\n",
       "    this.root = $('<div/>');\n",
       "    this._root_extra_style(this.root)\n",
       "    this.root.attr('style', 'display: inline-block');\n",
       "\n",
       "    $(parent_element).append(this.root);\n",
       "\n",
       "    this._init_header(this);\n",
       "    this._init_canvas(this);\n",
       "    this._init_toolbar(this);\n",
       "\n",
       "    var fig = this;\n",
       "\n",
       "    this.waiting = false;\n",
       "\n",
       "    this.ws.onopen =  function () {\n",
       "            fig.send_message(\"supports_binary\", {value: fig.supports_binary});\n",
       "            fig.send_message(\"send_image_mode\", {});\n",
       "            fig.send_message(\"refresh\", {});\n",
       "        }\n",
       "\n",
       "    this.imageObj.onload = function() {\n",
       "            if (fig.image_mode == 'full') {\n",
       "                // Full images could contain transparency (where diff images\n",
       "                // almost always do), so we need to clear the canvas so that\n",
       "                // there is no ghosting.\n",
       "                fig.context.clearRect(0, 0, fig.canvas.width, fig.canvas.height);\n",
       "            }\n",
       "            fig.context.drawImage(fig.imageObj, 0, 0);\n",
       "        };\n",
       "\n",
       "    this.imageObj.onunload = function() {\n",
       "        this.ws.close();\n",
       "    }\n",
       "\n",
       "    this.ws.onmessage = this._make_on_message_function(this);\n",
       "\n",
       "    this.ondownload = ondownload;\n",
       "}\n",
       "\n",
       "mpl.figure.prototype._init_header = function() {\n",
       "    var titlebar = $(\n",
       "        '<div class=\"ui-dialog-titlebar ui-widget-header ui-corner-all ' +\n",
       "        'ui-helper-clearfix\"/>');\n",
       "    var titletext = $(\n",
       "        '<div class=\"ui-dialog-title\" style=\"width: 100%; ' +\n",
       "        'text-align: center; padding: 3px;\"/>');\n",
       "    titlebar.append(titletext)\n",
       "    this.root.append(titlebar);\n",
       "    this.header = titletext[0];\n",
       "}\n",
       "\n",
       "\n",
       "\n",
       "mpl.figure.prototype._canvas_extra_style = function(canvas_div) {\n",
       "\n",
       "}\n",
       "\n",
       "\n",
       "mpl.figure.prototype._root_extra_style = function(canvas_div) {\n",
       "\n",
       "}\n",
       "\n",
       "mpl.figure.prototype._init_canvas = function() {\n",
       "    var fig = this;\n",
       "\n",
       "    var canvas_div = $('<div/>');\n",
       "\n",
       "    canvas_div.attr('style', 'position: relative; clear: both; outline: 0');\n",
       "\n",
       "    function canvas_keyboard_event(event) {\n",
       "        return fig.key_event(event, event['data']);\n",
       "    }\n",
       "\n",
       "    canvas_div.keydown('key_press', canvas_keyboard_event);\n",
       "    canvas_div.keyup('key_release', canvas_keyboard_event);\n",
       "    this.canvas_div = canvas_div\n",
       "    this._canvas_extra_style(canvas_div)\n",
       "    this.root.append(canvas_div);\n",
       "\n",
       "    var canvas = $('<canvas/>');\n",
       "    canvas.addClass('mpl-canvas');\n",
       "    canvas.attr('style', \"left: 0; top: 0; z-index: 0; outline: 0\")\n",
       "\n",
       "    this.canvas = canvas[0];\n",
       "    this.context = canvas[0].getContext(\"2d\");\n",
       "\n",
       "    var rubberband = $('<canvas/>');\n",
       "    rubberband.attr('style', \"position: absolute; left: 0; top: 0; z-index: 1;\")\n",
       "\n",
       "    var pass_mouse_events = true;\n",
       "\n",
       "    canvas_div.resizable({\n",
       "        start: function(event, ui) {\n",
       "            pass_mouse_events = false;\n",
       "        },\n",
       "        resize: function(event, ui) {\n",
       "            fig.request_resize(ui.size.width, ui.size.height);\n",
       "        },\n",
       "        stop: function(event, ui) {\n",
       "            pass_mouse_events = true;\n",
       "            fig.request_resize(ui.size.width, ui.size.height);\n",
       "        },\n",
       "    });\n",
       "\n",
       "    function mouse_event_fn(event) {\n",
       "        if (pass_mouse_events)\n",
       "            return fig.mouse_event(event, event['data']);\n",
       "    }\n",
       "\n",
       "    rubberband.mousedown('button_press', mouse_event_fn);\n",
       "    rubberband.mouseup('button_release', mouse_event_fn);\n",
       "    // Throttle sequential mouse events to 1 every 20ms.\n",
       "    rubberband.mousemove('motion_notify', mouse_event_fn);\n",
       "\n",
       "    rubberband.mouseenter('figure_enter', mouse_event_fn);\n",
       "    rubberband.mouseleave('figure_leave', mouse_event_fn);\n",
       "\n",
       "    canvas_div.on(\"wheel\", function (event) {\n",
       "        event = event.originalEvent;\n",
       "        event['data'] = 'scroll'\n",
       "        if (event.deltaY < 0) {\n",
       "            event.step = 1;\n",
       "        } else {\n",
       "            event.step = -1;\n",
       "        }\n",
       "        mouse_event_fn(event);\n",
       "    });\n",
       "\n",
       "    canvas_div.append(canvas);\n",
       "    canvas_div.append(rubberband);\n",
       "\n",
       "    this.rubberband = rubberband;\n",
       "    this.rubberband_canvas = rubberband[0];\n",
       "    this.rubberband_context = rubberband[0].getContext(\"2d\");\n",
       "    this.rubberband_context.strokeStyle = \"#000000\";\n",
       "\n",
       "    this._resize_canvas = function(width, height) {\n",
       "        // Keep the size of the canvas, canvas container, and rubber band\n",
       "        // canvas in synch.\n",
       "        canvas_div.css('width', width)\n",
       "        canvas_div.css('height', height)\n",
       "\n",
       "        canvas.attr('width', width);\n",
       "        canvas.attr('height', height);\n",
       "\n",
       "        rubberband.attr('width', width);\n",
       "        rubberband.attr('height', height);\n",
       "    }\n",
       "\n",
       "    // Set the figure to an initial 600x600px, this will subsequently be updated\n",
       "    // upon first draw.\n",
       "    this._resize_canvas(600, 600);\n",
       "\n",
       "    // Disable right mouse context menu.\n",
       "    $(this.rubberband_canvas).bind(\"contextmenu\",function(e){\n",
       "        return false;\n",
       "    });\n",
       "\n",
       "    function set_focus () {\n",
       "        canvas.focus();\n",
       "        canvas_div.focus();\n",
       "    }\n",
       "\n",
       "    window.setTimeout(set_focus, 100);\n",
       "}\n",
       "\n",
       "mpl.figure.prototype._init_toolbar = function() {\n",
       "    var fig = this;\n",
       "\n",
       "    var nav_element = $('<div/>')\n",
       "    nav_element.attr('style', 'width: 100%');\n",
       "    this.root.append(nav_element);\n",
       "\n",
       "    // Define a callback function for later on.\n",
       "    function toolbar_event(event) {\n",
       "        return fig.toolbar_button_onclick(event['data']);\n",
       "    }\n",
       "    function toolbar_mouse_event(event) {\n",
       "        return fig.toolbar_button_onmouseover(event['data']);\n",
       "    }\n",
       "\n",
       "    for(var toolbar_ind in mpl.toolbar_items) {\n",
       "        var name = mpl.toolbar_items[toolbar_ind][0];\n",
       "        var tooltip = mpl.toolbar_items[toolbar_ind][1];\n",
       "        var image = mpl.toolbar_items[toolbar_ind][2];\n",
       "        var method_name = mpl.toolbar_items[toolbar_ind][3];\n",
       "\n",
       "        if (!name) {\n",
       "            // put a spacer in here.\n",
       "            continue;\n",
       "        }\n",
       "        var button = $('<button/>');\n",
       "        button.addClass('ui-button ui-widget ui-state-default ui-corner-all ' +\n",
       "                        'ui-button-icon-only');\n",
       "        button.attr('role', 'button');\n",
       "        button.attr('aria-disabled', 'false');\n",
       "        button.click(method_name, toolbar_event);\n",
       "        button.mouseover(tooltip, toolbar_mouse_event);\n",
       "\n",
       "        var icon_img = $('<span/>');\n",
       "        icon_img.addClass('ui-button-icon-primary ui-icon');\n",
       "        icon_img.addClass(image);\n",
       "        icon_img.addClass('ui-corner-all');\n",
       "\n",
       "        var tooltip_span = $('<span/>');\n",
       "        tooltip_span.addClass('ui-button-text');\n",
       "        tooltip_span.html(tooltip);\n",
       "\n",
       "        button.append(icon_img);\n",
       "        button.append(tooltip_span);\n",
       "\n",
       "        nav_element.append(button);\n",
       "    }\n",
       "\n",
       "    var fmt_picker_span = $('<span/>');\n",
       "\n",
       "    var fmt_picker = $('<select/>');\n",
       "    fmt_picker.addClass('mpl-toolbar-option ui-widget ui-widget-content');\n",
       "    fmt_picker_span.append(fmt_picker);\n",
       "    nav_element.append(fmt_picker_span);\n",
       "    this.format_dropdown = fmt_picker[0];\n",
       "\n",
       "    for (var ind in mpl.extensions) {\n",
       "        var fmt = mpl.extensions[ind];\n",
       "        var option = $(\n",
       "            '<option/>', {selected: fmt === mpl.default_extension}).html(fmt);\n",
       "        fmt_picker.append(option)\n",
       "    }\n",
       "\n",
       "    // Add hover states to the ui-buttons\n",
       "    $( \".ui-button\" ).hover(\n",
       "        function() { $(this).addClass(\"ui-state-hover\");},\n",
       "        function() { $(this).removeClass(\"ui-state-hover\");}\n",
       "    );\n",
       "\n",
       "    var status_bar = $('<span class=\"mpl-message\"/>');\n",
       "    nav_element.append(status_bar);\n",
       "    this.message = status_bar[0];\n",
       "}\n",
       "\n",
       "mpl.figure.prototype.request_resize = function(x_pixels, y_pixels) {\n",
       "    // Request matplotlib to resize the figure. Matplotlib will then trigger a resize in the client,\n",
       "    // which will in turn request a refresh of the image.\n",
       "    this.send_message('resize', {'width': x_pixels, 'height': y_pixels});\n",
       "}\n",
       "\n",
       "mpl.figure.prototype.send_message = function(type, properties) {\n",
       "    properties['type'] = type;\n",
       "    properties['figure_id'] = this.id;\n",
       "    this.ws.send(JSON.stringify(properties));\n",
       "}\n",
       "\n",
       "mpl.figure.prototype.send_draw_message = function() {\n",
       "    if (!this.waiting) {\n",
       "        this.waiting = true;\n",
       "        this.ws.send(JSON.stringify({type: \"draw\", figure_id: this.id}));\n",
       "    }\n",
       "}\n",
       "\n",
       "\n",
       "mpl.figure.prototype.handle_save = function(fig, msg) {\n",
       "    var format_dropdown = fig.format_dropdown;\n",
       "    var format = format_dropdown.options[format_dropdown.selectedIndex].value;\n",
       "    fig.ondownload(fig, format);\n",
       "}\n",
       "\n",
       "\n",
       "mpl.figure.prototype.handle_resize = function(fig, msg) {\n",
       "    var size = msg['size'];\n",
       "    if (size[0] != fig.canvas.width || size[1] != fig.canvas.height) {\n",
       "        fig._resize_canvas(size[0], size[1]);\n",
       "        fig.send_message(\"refresh\", {});\n",
       "    };\n",
       "}\n",
       "\n",
       "mpl.figure.prototype.handle_rubberband = function(fig, msg) {\n",
       "    var x0 = msg['x0'];\n",
       "    var y0 = fig.canvas.height - msg['y0'];\n",
       "    var x1 = msg['x1'];\n",
       "    var y1 = fig.canvas.height - msg['y1'];\n",
       "    x0 = Math.floor(x0) + 0.5;\n",
       "    y0 = Math.floor(y0) + 0.5;\n",
       "    x1 = Math.floor(x1) + 0.5;\n",
       "    y1 = Math.floor(y1) + 0.5;\n",
       "    var min_x = Math.min(x0, x1);\n",
       "    var min_y = Math.min(y0, y1);\n",
       "    var width = Math.abs(x1 - x0);\n",
       "    var height = Math.abs(y1 - y0);\n",
       "\n",
       "    fig.rubberband_context.clearRect(\n",
       "        0, 0, fig.canvas.width, fig.canvas.height);\n",
       "\n",
       "    fig.rubberband_context.strokeRect(min_x, min_y, width, height);\n",
       "}\n",
       "\n",
       "mpl.figure.prototype.handle_figure_label = function(fig, msg) {\n",
       "    // Updates the figure title.\n",
       "    fig.header.textContent = msg['label'];\n",
       "}\n",
       "\n",
       "mpl.figure.prototype.handle_cursor = function(fig, msg) {\n",
       "    var cursor = msg['cursor'];\n",
       "    switch(cursor)\n",
       "    {\n",
       "    case 0:\n",
       "        cursor = 'pointer';\n",
       "        break;\n",
       "    case 1:\n",
       "        cursor = 'default';\n",
       "        break;\n",
       "    case 2:\n",
       "        cursor = 'crosshair';\n",
       "        break;\n",
       "    case 3:\n",
       "        cursor = 'move';\n",
       "        break;\n",
       "    }\n",
       "    fig.rubberband_canvas.style.cursor = cursor;\n",
       "}\n",
       "\n",
       "mpl.figure.prototype.handle_message = function(fig, msg) {\n",
       "    fig.message.textContent = msg['message'];\n",
       "}\n",
       "\n",
       "mpl.figure.prototype.handle_draw = function(fig, msg) {\n",
       "    // Request the server to send over a new figure.\n",
       "    fig.send_draw_message();\n",
       "}\n",
       "\n",
       "mpl.figure.prototype.handle_image_mode = function(fig, msg) {\n",
       "    fig.image_mode = msg['mode'];\n",
       "}\n",
       "\n",
       "mpl.figure.prototype.updated_canvas_event = function() {\n",
       "    // Called whenever the canvas gets updated.\n",
       "    this.send_message(\"ack\", {});\n",
       "}\n",
       "\n",
       "// A function to construct a web socket function for onmessage handling.\n",
       "// Called in the figure constructor.\n",
       "mpl.figure.prototype._make_on_message_function = function(fig) {\n",
       "    return function socket_on_message(evt) {\n",
       "        if (evt.data instanceof Blob) {\n",
       "            /* FIXME: We get \"Resource interpreted as Image but\n",
       "             * transferred with MIME type text/plain:\" errors on\n",
       "             * Chrome.  But how to set the MIME type?  It doesn't seem\n",
       "             * to be part of the websocket stream */\n",
       "            evt.data.type = \"image/png\";\n",
       "\n",
       "            /* Free the memory for the previous frames */\n",
       "            if (fig.imageObj.src) {\n",
       "                (window.URL || window.webkitURL).revokeObjectURL(\n",
       "                    fig.imageObj.src);\n",
       "            }\n",
       "\n",
       "            fig.imageObj.src = (window.URL || window.webkitURL).createObjectURL(\n",
       "                evt.data);\n",
       "            fig.updated_canvas_event();\n",
       "            fig.waiting = false;\n",
       "            return;\n",
       "        }\n",
       "        else if (typeof evt.data === 'string' && evt.data.slice(0, 21) == \"data:image/png;base64\") {\n",
       "            fig.imageObj.src = evt.data;\n",
       "            fig.updated_canvas_event();\n",
       "            fig.waiting = false;\n",
       "            return;\n",
       "        }\n",
       "\n",
       "        var msg = JSON.parse(evt.data);\n",
       "        var msg_type = msg['type'];\n",
       "\n",
       "        // Call the  \"handle_{type}\" callback, which takes\n",
       "        // the figure and JSON message as its only arguments.\n",
       "        try {\n",
       "            var callback = fig[\"handle_\" + msg_type];\n",
       "        } catch (e) {\n",
       "            console.log(\"No handler for the '\" + msg_type + \"' message type: \", msg);\n",
       "            return;\n",
       "        }\n",
       "\n",
       "        if (callback) {\n",
       "            try {\n",
       "                // console.log(\"Handling '\" + msg_type + \"' message: \", msg);\n",
       "                callback(fig, msg);\n",
       "            } catch (e) {\n",
       "                console.log(\"Exception inside the 'handler_\" + msg_type + \"' callback:\", e, e.stack, msg);\n",
       "            }\n",
       "        }\n",
       "    };\n",
       "}\n",
       "\n",
       "// from http://stackoverflow.com/questions/1114465/getting-mouse-location-in-canvas\n",
       "mpl.findpos = function(e) {\n",
       "    //this section is from http://www.quirksmode.org/js/events_properties.html\n",
       "    var targ;\n",
       "    if (!e)\n",
       "        e = window.event;\n",
       "    if (e.target)\n",
       "        targ = e.target;\n",
       "    else if (e.srcElement)\n",
       "        targ = e.srcElement;\n",
       "    if (targ.nodeType == 3) // defeat Safari bug\n",
       "        targ = targ.parentNode;\n",
       "\n",
       "    // jQuery normalizes the pageX and pageY\n",
       "    // pageX,Y are the mouse positions relative to the document\n",
       "    // offset() returns the position of the element relative to the document\n",
       "    var x = e.pageX - $(targ).offset().left;\n",
       "    var y = e.pageY - $(targ).offset().top;\n",
       "\n",
       "    return {\"x\": x, \"y\": y};\n",
       "};\n",
       "\n",
       "/*\n",
       " * return a copy of an object with only non-object keys\n",
       " * we need this to avoid circular references\n",
       " * http://stackoverflow.com/a/24161582/3208463\n",
       " */\n",
       "function simpleKeys (original) {\n",
       "  return Object.keys(original).reduce(function (obj, key) {\n",
       "    if (typeof original[key] !== 'object')\n",
       "        obj[key] = original[key]\n",
       "    return obj;\n",
       "  }, {});\n",
       "}\n",
       "\n",
       "mpl.figure.prototype.mouse_event = function(event, name) {\n",
       "    var canvas_pos = mpl.findpos(event)\n",
       "\n",
       "    if (name === 'button_press')\n",
       "    {\n",
       "        this.canvas.focus();\n",
       "        this.canvas_div.focus();\n",
       "    }\n",
       "\n",
       "    var x = canvas_pos.x;\n",
       "    var y = canvas_pos.y;\n",
       "\n",
       "    this.send_message(name, {x: x, y: y, button: event.button,\n",
       "                             step: event.step,\n",
       "                             guiEvent: simpleKeys(event)});\n",
       "\n",
       "    /* This prevents the web browser from automatically changing to\n",
       "     * the text insertion cursor when the button is pressed.  We want\n",
       "     * to control all of the cursor setting manually through the\n",
       "     * 'cursor' event from matplotlib */\n",
       "    event.preventDefault();\n",
       "    return false;\n",
       "}\n",
       "\n",
       "mpl.figure.prototype._key_event_extra = function(event, name) {\n",
       "    // Handle any extra behaviour associated with a key event\n",
       "}\n",
       "\n",
       "mpl.figure.prototype.key_event = function(event, name) {\n",
       "\n",
       "    // Prevent repeat events\n",
       "    if (name == 'key_press')\n",
       "    {\n",
       "        if (event.which === this._key)\n",
       "            return;\n",
       "        else\n",
       "            this._key = event.which;\n",
       "    }\n",
       "    if (name == 'key_release')\n",
       "        this._key = null;\n",
       "\n",
       "    var value = '';\n",
       "    if (event.ctrlKey && event.which != 17)\n",
       "        value += \"ctrl+\";\n",
       "    if (event.altKey && event.which != 18)\n",
       "        value += \"alt+\";\n",
       "    if (event.shiftKey && event.which != 16)\n",
       "        value += \"shift+\";\n",
       "\n",
       "    value += 'k';\n",
       "    value += event.which.toString();\n",
       "\n",
       "    this._key_event_extra(event, name);\n",
       "\n",
       "    this.send_message(name, {key: value,\n",
       "                             guiEvent: simpleKeys(event)});\n",
       "    return false;\n",
       "}\n",
       "\n",
       "mpl.figure.prototype.toolbar_button_onclick = function(name) {\n",
       "    if (name == 'download') {\n",
       "        this.handle_save(this, null);\n",
       "    } else {\n",
       "        this.send_message(\"toolbar_button\", {name: name});\n",
       "    }\n",
       "};\n",
       "\n",
       "mpl.figure.prototype.toolbar_button_onmouseover = function(tooltip) {\n",
       "    this.message.textContent = tooltip;\n",
       "};\n",
       "mpl.toolbar_items = [[\"Home\", \"Reset original view\", \"fa fa-home icon-home\", \"home\"], [\"Back\", \"Back to  previous view\", \"fa fa-arrow-left icon-arrow-left\", \"back\"], [\"Forward\", \"Forward to next view\", \"fa fa-arrow-right icon-arrow-right\", \"forward\"], [\"\", \"\", \"\", \"\"], [\"Pan\", \"Pan axes with left mouse, zoom with right\", \"fa fa-arrows icon-move\", \"pan\"], [\"Zoom\", \"Zoom to rectangle\", \"fa fa-square-o icon-check-empty\", \"zoom\"], [\"\", \"\", \"\", \"\"], [\"Download\", \"Download plot\", \"fa fa-floppy-o icon-save\", \"download\"]];\n",
       "\n",
       "mpl.extensions = [\"eps\", \"jpeg\", \"pdf\", \"png\", \"ps\", \"raw\", \"svg\", \"tif\"];\n",
       "\n",
       "mpl.default_extension = \"png\";var comm_websocket_adapter = function(comm) {\n",
       "    // Create a \"websocket\"-like object which calls the given IPython comm\n",
       "    // object with the appropriate methods. Currently this is a non binary\n",
       "    // socket, so there is still some room for performance tuning.\n",
       "    var ws = {};\n",
       "\n",
       "    ws.close = function() {\n",
       "        comm.close()\n",
       "    };\n",
       "    ws.send = function(m) {\n",
       "        //console.log('sending', m);\n",
       "        comm.send(m);\n",
       "    };\n",
       "    // Register the callback with on_msg.\n",
       "    comm.on_msg(function(msg) {\n",
       "        //console.log('receiving', msg['content']['data'], msg);\n",
       "        // Pass the mpl event to the overriden (by mpl) onmessage function.\n",
       "        ws.onmessage(msg['content']['data'])\n",
       "    });\n",
       "    return ws;\n",
       "}\n",
       "\n",
       "mpl.mpl_figure_comm = function(comm, msg) {\n",
       "    // This is the function which gets called when the mpl process\n",
       "    // starts-up an IPython Comm through the \"matplotlib\" channel.\n",
       "\n",
       "    var id = msg.content.data.id;\n",
       "    // Get hold of the div created by the display call when the Comm\n",
       "    // socket was opened in Python.\n",
       "    var element = $(\"#\" + id);\n",
       "    var ws_proxy = comm_websocket_adapter(comm)\n",
       "\n",
       "    function ondownload(figure, format) {\n",
       "        window.open(figure.imageObj.src);\n",
       "    }\n",
       "\n",
       "    var fig = new mpl.figure(id, ws_proxy,\n",
       "                           ondownload,\n",
       "                           element.get(0));\n",
       "\n",
       "    // Call onopen now - mpl needs it, as it is assuming we've passed it a real\n",
       "    // web socket which is closed, not our websocket->open comm proxy.\n",
       "    ws_proxy.onopen();\n",
       "\n",
       "    fig.parent_element = element.get(0);\n",
       "    fig.cell_info = mpl.find_output_cell(\"<div id='\" + id + \"'></div>\");\n",
       "    if (!fig.cell_info) {\n",
       "        console.error(\"Failed to find cell for figure\", id, fig);\n",
       "        return;\n",
       "    }\n",
       "\n",
       "    var output_index = fig.cell_info[2]\n",
       "    var cell = fig.cell_info[0];\n",
       "\n",
       "};\n",
       "\n",
       "mpl.figure.prototype.handle_close = function(fig, msg) {\n",
       "    fig.root.unbind('remove')\n",
       "\n",
       "    // Update the output cell to use the data from the current canvas.\n",
       "    fig.push_to_output();\n",
       "    var dataURL = fig.canvas.toDataURL();\n",
       "    // Re-enable the keyboard manager in IPython - without this line, in FF,\n",
       "    // the notebook keyboard shortcuts fail.\n",
       "    IPython.keyboard_manager.enable()\n",
       "    $(fig.parent_element).html('<img src=\"' + dataURL + '\">');\n",
       "    fig.close_ws(fig, msg);\n",
       "}\n",
       "\n",
       "mpl.figure.prototype.close_ws = function(fig, msg){\n",
       "    fig.send_message('closing', msg);\n",
       "    // fig.ws.close()\n",
       "}\n",
       "\n",
       "mpl.figure.prototype.push_to_output = function(remove_interactive) {\n",
       "    // Turn the data on the canvas into data in the output cell.\n",
       "    var dataURL = this.canvas.toDataURL();\n",
       "    this.cell_info[1]['text/html'] = '<img src=\"' + dataURL + '\">';\n",
       "}\n",
       "\n",
       "mpl.figure.prototype.updated_canvas_event = function() {\n",
       "    // Tell IPython that the notebook contents must change.\n",
       "    IPython.notebook.set_dirty(true);\n",
       "    this.send_message(\"ack\", {});\n",
       "    var fig = this;\n",
       "    // Wait a second, then push the new image to the DOM so\n",
       "    // that it is saved nicely (might be nice to debounce this).\n",
       "    setTimeout(function () { fig.push_to_output() }, 1000);\n",
       "}\n",
       "\n",
       "mpl.figure.prototype._init_toolbar = function() {\n",
       "    var fig = this;\n",
       "\n",
       "    var nav_element = $('<div/>')\n",
       "    nav_element.attr('style', 'width: 100%');\n",
       "    this.root.append(nav_element);\n",
       "\n",
       "    // Define a callback function for later on.\n",
       "    function toolbar_event(event) {\n",
       "        return fig.toolbar_button_onclick(event['data']);\n",
       "    }\n",
       "    function toolbar_mouse_event(event) {\n",
       "        return fig.toolbar_button_onmouseover(event['data']);\n",
       "    }\n",
       "\n",
       "    for(var toolbar_ind in mpl.toolbar_items){\n",
       "        var name = mpl.toolbar_items[toolbar_ind][0];\n",
       "        var tooltip = mpl.toolbar_items[toolbar_ind][1];\n",
       "        var image = mpl.toolbar_items[toolbar_ind][2];\n",
       "        var method_name = mpl.toolbar_items[toolbar_ind][3];\n",
       "\n",
       "        if (!name) { continue; };\n",
       "\n",
       "        var button = $('<button class=\"btn btn-default\" href=\"#\" title=\"' + name + '\"><i class=\"fa ' + image + ' fa-lg\"></i></button>');\n",
       "        button.click(method_name, toolbar_event);\n",
       "        button.mouseover(tooltip, toolbar_mouse_event);\n",
       "        nav_element.append(button);\n",
       "    }\n",
       "\n",
       "    // Add the status bar.\n",
       "    var status_bar = $('<span class=\"mpl-message\" style=\"text-align:right; float: right;\"/>');\n",
       "    nav_element.append(status_bar);\n",
       "    this.message = status_bar[0];\n",
       "\n",
       "    // Add the close button to the window.\n",
       "    var buttongrp = $('<div class=\"btn-group inline pull-right\"></div>');\n",
       "    var button = $('<button class=\"btn btn-mini btn-primary\" href=\"#\" title=\"Stop Interaction\"><i class=\"fa fa-power-off icon-remove icon-large\"></i></button>');\n",
       "    button.click(function (evt) { fig.handle_close(fig, {}); } );\n",
       "    button.mouseover('Stop Interaction', toolbar_mouse_event);\n",
       "    buttongrp.append(button);\n",
       "    var titlebar = this.root.find($('.ui-dialog-titlebar'));\n",
       "    titlebar.prepend(buttongrp);\n",
       "}\n",
       "\n",
       "mpl.figure.prototype._root_extra_style = function(el){\n",
       "    var fig = this\n",
       "    el.on(\"remove\", function(){\n",
       "\tfig.close_ws(fig, {});\n",
       "    });\n",
       "}\n",
       "\n",
       "mpl.figure.prototype._canvas_extra_style = function(el){\n",
       "    // this is important to make the div 'focusable\n",
       "    el.attr('tabindex', 0)\n",
       "    // reach out to IPython and tell the keyboard manager to turn it's self\n",
       "    // off when our div gets focus\n",
       "\n",
       "    // location in version 3\n",
       "    if (IPython.notebook.keyboard_manager) {\n",
       "        IPython.notebook.keyboard_manager.register_events(el);\n",
       "    }\n",
       "    else {\n",
       "        // location in version 2\n",
       "        IPython.keyboard_manager.register_events(el);\n",
       "    }\n",
       "\n",
       "}\n",
       "\n",
       "mpl.figure.prototype._key_event_extra = function(event, name) {\n",
       "    var manager = IPython.notebook.keyboard_manager;\n",
       "    if (!manager)\n",
       "        manager = IPython.keyboard_manager;\n",
       "\n",
       "    // Check for shift+enter\n",
       "    if (event.shiftKey && event.which == 13) {\n",
       "        this.canvas_div.blur();\n",
       "        event.shiftKey = false;\n",
       "        // Send a \"J\" for go to next cell\n",
       "        event.which = 74;\n",
       "        event.keyCode = 74;\n",
       "        manager.command_mode();\n",
       "        manager.handle_keydown(event);\n",
       "    }\n",
       "}\n",
       "\n",
       "mpl.figure.prototype.handle_save = function(fig, msg) {\n",
       "    fig.ondownload(fig, null);\n",
       "}\n",
       "\n",
       "\n",
       "mpl.find_output_cell = function(html_output) {\n",
       "    // Return the cell and output element which can be found *uniquely* in the notebook.\n",
       "    // Note - this is a bit hacky, but it is done because the \"notebook_saving.Notebook\"\n",
       "    // IPython event is triggered only after the cells have been serialised, which for\n",
       "    // our purposes (turning an active figure into a static one), is too late.\n",
       "    var cells = IPython.notebook.get_cells();\n",
       "    var ncells = cells.length;\n",
       "    for (var i=0; i<ncells; i++) {\n",
       "        var cell = cells[i];\n",
       "        if (cell.cell_type === 'code'){\n",
       "            for (var j=0; j<cell.output_area.outputs.length; j++) {\n",
       "                var data = cell.output_area.outputs[j];\n",
       "                if (data.data) {\n",
       "                    // IPython >= 3 moved mimebundle to data attribute of output\n",
       "                    data = data.data;\n",
       "                }\n",
       "                if (data['text/html'] == html_output) {\n",
       "                    return [cell, data, j];\n",
       "                }\n",
       "            }\n",
       "        }\n",
       "    }\n",
       "}\n",
       "\n",
       "// Register the function which deals with the matplotlib target/channel.\n",
       "// The kernel may be null if the page has been refreshed.\n",
       "if (IPython.notebook.kernel != null) {\n",
       "    IPython.notebook.kernel.comm_manager.register_target('matplotlib', mpl.mpl_figure_comm);\n",
       "}\n"
      ],
      "text/plain": [
       "<IPython.core.display.Javascript object>"
      ]
     },
     "metadata": {},
     "output_type": "display_data"
    },
    {
     "data": {
      "text/html": [
       "<img src=\"data:image/png;base64,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\">"
      ],
      "text/plain": [
       "<IPython.core.display.HTML object>"
      ]
     },
     "metadata": {},
     "output_type": "display_data"
    }
   ],
   "source": [
    "fig, ax = plt.subplots()\n",
    "plot_fit(fig, ax)"
   ]
  },
  {
   "cell_type": "markdown",
   "metadata": {},
   "source": [
    "## fit"
   ]
  },
  {
   "cell_type": "code",
   "execution_count": 12,
   "metadata": {
    "collapsed": false
   },
   "outputs": [
    {
     "data": {
      "text/plain": [
       "{'fun': <function schlichtanders.myoptimizers.f_batch>,\n",
       " 'hess': <function schlichtanders.myoptimizers.f_batch>,\n",
       " 'jac': <function schlichtanders.myoptimizers.f_batch>,\n",
       " 'x0': array([ 0.        ,  0.        ,  0.54132485,  0.54132485])}"
      ]
     },
     "execution_count": 12,
     "metadata": {},
     "output_type": "execute_result"
    }
   ],
   "source": [
    "postmap = compose(scipy_postmap, flat_numericalize_postmap, flatten_parameters, probabilistic_optimizer_postmap)\n",
    "scipy_kwargs = postmap(model, wrapper=batch, initial_inputs=[])\n",
    "scipy_kwargs"
   ]
  },
  {
   "cell_type": "code",
   "execution_count": 13,
   "metadata": {
    "collapsed": false
   },
   "outputs": [
    {
     "name": "stdout",
     "output_type": "stream",
     "text": [
      "Warning: Desired error not necessarily achieved due to precision loss.\n",
      "         Current function value: inf\n",
      "         Iterations: 0\n",
      "         Function evaluations: 19\n",
      "         Gradient evaluations: 7\n",
      "         Hessian evaluations: 1\n"
     ]
    },
    {
     "data": {
      "text/plain": [
       "     fun: array(inf)\n",
       "     jac: array([   0.        ,    0.        ,  252.84822353,  252.84822353])\n",
       " message: 'Desired error not necessarily achieved due to precision loss.'\n",
       "    nfev: 19\n",
       "    nhev: 1\n",
       "     nit: 0\n",
       "    njev: 7\n",
       "  status: 2\n",
       " success: False\n",
       "       x: array([ 0.        ,  0.        ,  0.54132485,  0.54132485])"
      ]
     },
     "execution_count": 13,
     "metadata": {},
     "output_type": "execute_result"
    }
   ],
   "source": [
    "fit = minimize(\n",
    "    args=(targets,),\n",
    "    method=\"Newton-CG\",\n",
    "    options={'maxiter':100, 'disp':True},\n",
    "    callback=lambda xs: plot_fit(fig, ax, {model['parameters_flat'][0]:xs}),\n",
    "    **scipy_kwargs\n",
    "); fit"
   ]
  },
  {
   "cell_type": "markdown",
   "metadata": {},
   "source": [
    "TODO this does not work. Check whether the gradient is the reason (there is no gradient of the step probability function)."
   ]
  }
 ],
 "metadata": {
  "kernelspec": {
   "display_name": "Python 2",
   "language": "python",
   "name": "python2"
  },
  "language_info": {
   "codemirror_mode": {
    "name": "ipython",
    "version": 2
   },
   "file_extension": ".py",
   "mimetype": "text/x-python",
   "name": "python",
   "nbconvert_exporter": "python",
   "pygments_lexer": "ipython2",
   "version": "2.7.6"
  },
  "toc": {
   "toc_cell": false,
   "toc_number_sections": true,
   "toc_threshold": 4,
   "toc_window_display": false
  }
 },
 "nbformat": 4,
 "nbformat_minor": 0
}
