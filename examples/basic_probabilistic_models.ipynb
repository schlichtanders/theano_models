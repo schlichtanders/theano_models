{
 "cells": [
  {
   "cell_type": "code",
   "execution_count": 1,
   "metadata": {
    "collapsed": false
   },
   "outputs": [
    {
     "name": "stderr",
     "output_type": "stream",
     "text": [
      "/usr/local/lib/python2.7/dist-packages/matplotlib/font_manager.py:273: UserWarning: Matplotlib is building the font cache using fc-list. This may take a moment.\n",
      "  warnings.warn('Matplotlib is building the font cache using fc-list. This may take a moment.')\n"
     ]
    }
   ],
   "source": [
    "%matplotlib notebook"
   ]
  },
  {
   "cell_type": "code",
   "execution_count": 2,
   "metadata": {
    "collapsed": false
   },
   "outputs": [
    {
     "name": "stdout",
     "output_type": "stream",
     "text": [
      "gnumpy: failed to import cudamat. Using npmat instead. No GPU will be used.\n"
     ]
    }
   ],
   "source": [
    "import theano\n",
    "from theano import config\n",
    "import theano.tensor as T\n",
    "import numpy as np\n",
    "import matplotlib.pyplot as plt\n",
    "from matplotlib.patches import Ellipse\n",
    "import time\n",
    "from scipy.optimize import minimize\n",
    "from climin.util import optimizer"
   ]
  },
  {
   "cell_type": "code",
   "execution_count": 3,
   "metadata": {
    "collapsed": true
   },
   "outputs": [],
   "source": [
    "from schlichtanders.myoptimizers import online, batch\n",
    "from schlichtanders.myfunctools import compose"
   ]
  },
  {
   "cell_type": "code",
   "execution_count": 4,
   "metadata": {
    "collapsed": false
   },
   "outputs": [],
   "source": [
    "from theano_models import softplus, softplus_inv, total_size, as_tensor_variable, reparameterize_map\n",
    "\n",
    "from theano_models.postmaps import scipy_postmap, climin_postmap, flat_numericalize_postmap, flatten_parameters, probabilistic_optimizer_postmap\n",
    "\n",
    "import theano_models.probabilistic_models as pm\n",
    "import theano_models.deterministic_models as dm"
   ]
  },
  {
   "cell_type": "markdown",
   "metadata": {},
   "source": [
    "# Testing Gauss Distribution"
   ]
  },
  {
   "cell_type": "markdown",
   "metadata": {},
   "source": [
    "For this test we simply try to approximate a diagonal gaussian distribution to given gaussian samples."
   ]
  },
  {
   "cell_type": "markdown",
   "metadata": {},
   "source": [
    "## model"
   ]
  },
  {
   "cell_type": "code",
   "execution_count": 5,
   "metadata": {
    "collapsed": false
   },
   "outputs": [
    {
     "data": {
      "text/plain": [
       "{ 'inputs': [],\n",
       "  'logP': <FunctionWrapper at 0x7f7d02c26830 for function at 0x7f7d02c217d0>,\n",
       "  'outputs': Elemwise{add,no_inplace}.0,\n",
       "  'parameters': [mean],\n",
       "  'parameters_positive': [var]}"
      ]
     },
     "execution_count": 5,
     "metadata": {},
     "output_type": "execute_result"
    }
   ],
   "source": [
    "size = 2\n",
    "model = pm.DiagGauss(size)\n",
    "model"
   ]
  },
  {
   "cell_type": "code",
   "execution_count": 6,
   "metadata": {
    "collapsed": false
   },
   "outputs": [
    {
     "data": {
      "text/plain": [
       "{ 'inputs': [],\n",
       "  'logP': <FunctionWrapper at 0x7f7d02c26830 for function at 0x7f7d02c217d0>,\n",
       "  'outputs': Elemwise{add,no_inplace}.0,\n",
       "  'parameters': [mean, var_copy_softplus],\n",
       "  'parameters_positive': [var_reparam]}"
      ]
     },
     "execution_count": 6,
     "metadata": {},
     "output_type": "execute_result"
    }
   ],
   "source": [
    "model.map('parameters_positive', reparameterize_map(softplus, softplus_inv), \"parameters\")\n",
    "model"
   ]
  },
  {
   "cell_type": "markdown",
   "metadata": {},
   "source": [
    "## target"
   ]
  },
  {
   "cell_type": "code",
   "execution_count": 7,
   "metadata": {
    "collapsed": false
   },
   "outputs": [],
   "source": [
    "target = pm.DiagGauss(init_mean=[4,10], init_var=[0.5,2])"
   ]
  },
  {
   "cell_type": "code",
   "execution_count": 8,
   "metadata": {
    "collapsed": false
   },
   "outputs": [
    {
     "data": {
      "text/plain": [
       "array([ 4.13883335,  9.19800136])"
      ]
     },
     "execution_count": 8,
     "metadata": {},
     "output_type": "execute_result"
    }
   ],
   "source": [
    "sampler = target.function()\n",
    "sampler()"
   ]
  },
  {
   "cell_type": "code",
   "execution_count": 9,
   "metadata": {
    "collapsed": false
   },
   "outputs": [],
   "source": [
    "n_samples = 400\n",
    "targets = np.array([sampler() for _ in xrange(n_samples)])"
   ]
  },
  {
   "cell_type": "markdown",
   "metadata": {},
   "source": [
    "## visualization"
   ]
  },
  {
   "cell_type": "code",
   "execution_count": 10,
   "metadata": {
    "collapsed": true
   },
   "outputs": [],
   "source": [
    "def plot_fit(fig, ax, givens={}, time_delay=0.1):\n",
    "    \"\"\" interactive plot of model fit\n",
    "    \n",
    "    Plots target data set as well as two Ellipse around target and model mean with width/height = 2* respective\n",
    "    standard deviation.\n",
    "    \"\"\"\n",
    "    ax.clear()\n",
    "    ax.set_xlabel(\"x0\")\n",
    "    ax.set_ylabel(\"x1\")\n",
    "    \n",
    "    # plot data\n",
    "    # ---------\n",
    "    ax.plot(targets[:,0], targets[:,1], 'k.')\n",
    "    \n",
    "    # plot target\n",
    "    # -----------\n",
    "    target_mean = target.mean.eval()\n",
    "    target_var = target.var.eval()\n",
    "    \n",
    "    # Ellipse\n",
    "    e = Ellipse(target_mean, width=2*np.sqrt(target_var[0]), height=2*np.sqrt(target_var[1]))\n",
    "    e.set_clip_box(ax.bbox)\n",
    "    e.set_alpha(0.1)\n",
    "    e.set_facecolor([1, 0.1, 0.1])\n",
    "    ax.add_patch(e)\n",
    "\n",
    "    # plot model\n",
    "    # -----------\n",
    "    model_mean = model.mean.eval(givens)\n",
    "    model_var = model.var.eval(givens)\n",
    "    # text\n",
    "    ax.text(0.1, 0.2, 'm=%g,%g' % tuple(model_mean),\n",
    "            verticalalignment='bottom', horizontalalignment='left',\n",
    "            transform=ax.transAxes)\n",
    "    ax.text(0.1, 0.1, 'v=%g,%g' % tuple(model_var),\n",
    "            verticalalignment='bottom', horizontalalignment='left',\n",
    "            transform=ax.transAxes)\n",
    "    # Ellipse\n",
    "    e = Ellipse(model_mean, width=2*np.sqrt(model_var[0]), height=2*np.sqrt(model_var[1]))\n",
    "    e.set_clip_box(ax.bbox)\n",
    "    e.set_alpha(0.2)\n",
    "    e.set_facecolor([0.1, 0.2, 0.4])\n",
    "    ax.add_patch(e)\n",
    "    # Point  # we need to add a normal plot, as then the axis adjust automatically\n",
    "    ax.plot(model_mean[0], model_mean[1], '+', color=[0.1, 0.2, 0.4], markersize=10)\n",
    "    \n",
    "    # interactively redraw\n",
    "    # --------------------\n",
    "    fig.canvas.draw()\n",
    "    time.sleep(time_delay) # just because the fit is to fast otherwise"
   ]
  },
  {
   "cell_type": "code",
   "execution_count": 11,
   "metadata": {
    "collapsed": false
   },
   "outputs": [
    {
     "data": {
      "application/javascript": [
       "/* Put everything inside the global mpl namespace */\n",
       "window.mpl = {};\n",
       "\n",
       "mpl.get_websocket_type = function() {\n",
       "    if (typeof(WebSocket) !== 'undefined') {\n",
       "        return WebSocket;\n",
       "    } else if (typeof(MozWebSocket) !== 'undefined') {\n",
       "        return MozWebSocket;\n",
       "    } else {\n",
       "        alert('Your browser does not have WebSocket support.' +\n",
       "              'Please try Chrome, Safari or Firefox ≥ 6. ' +\n",
       "              'Firefox 4 and 5 are also supported but you ' +\n",
       "              'have to enable WebSockets in about:config.');\n",
       "    };\n",
       "}\n",
       "\n",
       "mpl.figure = function(figure_id, websocket, ondownload, parent_element) {\n",
       "    this.id = figure_id;\n",
       "\n",
       "    this.ws = websocket;\n",
       "\n",
       "    this.supports_binary = (this.ws.binaryType != undefined);\n",
       "\n",
       "    if (!this.supports_binary) {\n",
       "        var warnings = document.getElementById(\"mpl-warnings\");\n",
       "        if (warnings) {\n",
       "            warnings.style.display = 'block';\n",
       "            warnings.textContent = (\n",
       "                \"This browser does not support binary websocket messages. \" +\n",
       "                    \"Performance may be slow.\");\n",
       "        }\n",
       "    }\n",
       "\n",
       "    this.imageObj = new Image();\n",
       "\n",
       "    this.context = undefined;\n",
       "    this.message = undefined;\n",
       "    this.canvas = undefined;\n",
       "    this.rubberband_canvas = undefined;\n",
       "    this.rubberband_context = undefined;\n",
       "    this.format_dropdown = undefined;\n",
       "\n",
       "    this.image_mode = 'full';\n",
       "\n",
       "    this.root = $('<div/>');\n",
       "    this._root_extra_style(this.root)\n",
       "    this.root.attr('style', 'display: inline-block');\n",
       "\n",
       "    $(parent_element).append(this.root);\n",
       "\n",
       "    this._init_header(this);\n",
       "    this._init_canvas(this);\n",
       "    this._init_toolbar(this);\n",
       "\n",
       "    var fig = this;\n",
       "\n",
       "    this.waiting = false;\n",
       "\n",
       "    this.ws.onopen =  function () {\n",
       "            fig.send_message(\"supports_binary\", {value: fig.supports_binary});\n",
       "            fig.send_message(\"send_image_mode\", {});\n",
       "            fig.send_message(\"refresh\", {});\n",
       "        }\n",
       "\n",
       "    this.imageObj.onload = function() {\n",
       "            if (fig.image_mode == 'full') {\n",
       "                // Full images could contain transparency (where diff images\n",
       "                // almost always do), so we need to clear the canvas so that\n",
       "                // there is no ghosting.\n",
       "                fig.context.clearRect(0, 0, fig.canvas.width, fig.canvas.height);\n",
       "            }\n",
       "            fig.context.drawImage(fig.imageObj, 0, 0);\n",
       "        };\n",
       "\n",
       "    this.imageObj.onunload = function() {\n",
       "        this.ws.close();\n",
       "    }\n",
       "\n",
       "    this.ws.onmessage = this._make_on_message_function(this);\n",
       "\n",
       "    this.ondownload = ondownload;\n",
       "}\n",
       "\n",
       "mpl.figure.prototype._init_header = function() {\n",
       "    var titlebar = $(\n",
       "        '<div class=\"ui-dialog-titlebar ui-widget-header ui-corner-all ' +\n",
       "        'ui-helper-clearfix\"/>');\n",
       "    var titletext = $(\n",
       "        '<div class=\"ui-dialog-title\" style=\"width: 100%; ' +\n",
       "        'text-align: center; padding: 3px;\"/>');\n",
       "    titlebar.append(titletext)\n",
       "    this.root.append(titlebar);\n",
       "    this.header = titletext[0];\n",
       "}\n",
       "\n",
       "\n",
       "\n",
       "mpl.figure.prototype._canvas_extra_style = function(canvas_div) {\n",
       "\n",
       "}\n",
       "\n",
       "\n",
       "mpl.figure.prototype._root_extra_style = function(canvas_div) {\n",
       "\n",
       "}\n",
       "\n",
       "mpl.figure.prototype._init_canvas = function() {\n",
       "    var fig = this;\n",
       "\n",
       "    var canvas_div = $('<div/>');\n",
       "\n",
       "    canvas_div.attr('style', 'position: relative; clear: both; outline: 0');\n",
       "\n",
       "    function canvas_keyboard_event(event) {\n",
       "        return fig.key_event(event, event['data']);\n",
       "    }\n",
       "\n",
       "    canvas_div.keydown('key_press', canvas_keyboard_event);\n",
       "    canvas_div.keyup('key_release', canvas_keyboard_event);\n",
       "    this.canvas_div = canvas_div\n",
       "    this._canvas_extra_style(canvas_div)\n",
       "    this.root.append(canvas_div);\n",
       "\n",
       "    var canvas = $('<canvas/>');\n",
       "    canvas.addClass('mpl-canvas');\n",
       "    canvas.attr('style', \"left: 0; top: 0; z-index: 0; outline: 0\")\n",
       "\n",
       "    this.canvas = canvas[0];\n",
       "    this.context = canvas[0].getContext(\"2d\");\n",
       "\n",
       "    var rubberband = $('<canvas/>');\n",
       "    rubberband.attr('style', \"position: absolute; left: 0; top: 0; z-index: 1;\")\n",
       "\n",
       "    var pass_mouse_events = true;\n",
       "\n",
       "    canvas_div.resizable({\n",
       "        start: function(event, ui) {\n",
       "            pass_mouse_events = false;\n",
       "        },\n",
       "        resize: function(event, ui) {\n",
       "            fig.request_resize(ui.size.width, ui.size.height);\n",
       "        },\n",
       "        stop: function(event, ui) {\n",
       "            pass_mouse_events = true;\n",
       "            fig.request_resize(ui.size.width, ui.size.height);\n",
       "        },\n",
       "    });\n",
       "\n",
       "    function mouse_event_fn(event) {\n",
       "        if (pass_mouse_events)\n",
       "            return fig.mouse_event(event, event['data']);\n",
       "    }\n",
       "\n",
       "    rubberband.mousedown('button_press', mouse_event_fn);\n",
       "    rubberband.mouseup('button_release', mouse_event_fn);\n",
       "    // Throttle sequential mouse events to 1 every 20ms.\n",
       "    rubberband.mousemove('motion_notify', mouse_event_fn);\n",
       "\n",
       "    rubberband.mouseenter('figure_enter', mouse_event_fn);\n",
       "    rubberband.mouseleave('figure_leave', mouse_event_fn);\n",
       "\n",
       "    canvas_div.on(\"wheel\", function (event) {\n",
       "        event = event.originalEvent;\n",
       "        event['data'] = 'scroll'\n",
       "        if (event.deltaY < 0) {\n",
       "            event.step = 1;\n",
       "        } else {\n",
       "            event.step = -1;\n",
       "        }\n",
       "        mouse_event_fn(event);\n",
       "    });\n",
       "\n",
       "    canvas_div.append(canvas);\n",
       "    canvas_div.append(rubberband);\n",
       "\n",
       "    this.rubberband = rubberband;\n",
       "    this.rubberband_canvas = rubberband[0];\n",
       "    this.rubberband_context = rubberband[0].getContext(\"2d\");\n",
       "    this.rubberband_context.strokeStyle = \"#000000\";\n",
       "\n",
       "    this._resize_canvas = function(width, height) {\n",
       "        // Keep the size of the canvas, canvas container, and rubber band\n",
       "        // canvas in synch.\n",
       "        canvas_div.css('width', width)\n",
       "        canvas_div.css('height', height)\n",
       "\n",
       "        canvas.attr('width', width);\n",
       "        canvas.attr('height', height);\n",
       "\n",
       "        rubberband.attr('width', width);\n",
       "        rubberband.attr('height', height);\n",
       "    }\n",
       "\n",
       "    // Set the figure to an initial 600x600px, this will subsequently be updated\n",
       "    // upon first draw.\n",
       "    this._resize_canvas(600, 600);\n",
       "\n",
       "    // Disable right mouse context menu.\n",
       "    $(this.rubberband_canvas).bind(\"contextmenu\",function(e){\n",
       "        return false;\n",
       "    });\n",
       "\n",
       "    function set_focus () {\n",
       "        canvas.focus();\n",
       "        canvas_div.focus();\n",
       "    }\n",
       "\n",
       "    window.setTimeout(set_focus, 100);\n",
       "}\n",
       "\n",
       "mpl.figure.prototype._init_toolbar = function() {\n",
       "    var fig = this;\n",
       "\n",
       "    var nav_element = $('<div/>')\n",
       "    nav_element.attr('style', 'width: 100%');\n",
       "    this.root.append(nav_element);\n",
       "\n",
       "    // Define a callback function for later on.\n",
       "    function toolbar_event(event) {\n",
       "        return fig.toolbar_button_onclick(event['data']);\n",
       "    }\n",
       "    function toolbar_mouse_event(event) {\n",
       "        return fig.toolbar_button_onmouseover(event['data']);\n",
       "    }\n",
       "\n",
       "    for(var toolbar_ind in mpl.toolbar_items) {\n",
       "        var name = mpl.toolbar_items[toolbar_ind][0];\n",
       "        var tooltip = mpl.toolbar_items[toolbar_ind][1];\n",
       "        var image = mpl.toolbar_items[toolbar_ind][2];\n",
       "        var method_name = mpl.toolbar_items[toolbar_ind][3];\n",
       "\n",
       "        if (!name) {\n",
       "            // put a spacer in here.\n",
       "            continue;\n",
       "        }\n",
       "        var button = $('<button/>');\n",
       "        button.addClass('ui-button ui-widget ui-state-default ui-corner-all ' +\n",
       "                        'ui-button-icon-only');\n",
       "        button.attr('role', 'button');\n",
       "        button.attr('aria-disabled', 'false');\n",
       "        button.click(method_name, toolbar_event);\n",
       "        button.mouseover(tooltip, toolbar_mouse_event);\n",
       "\n",
       "        var icon_img = $('<span/>');\n",
       "        icon_img.addClass('ui-button-icon-primary ui-icon');\n",
       "        icon_img.addClass(image);\n",
       "        icon_img.addClass('ui-corner-all');\n",
       "\n",
       "        var tooltip_span = $('<span/>');\n",
       "        tooltip_span.addClass('ui-button-text');\n",
       "        tooltip_span.html(tooltip);\n",
       "\n",
       "        button.append(icon_img);\n",
       "        button.append(tooltip_span);\n",
       "\n",
       "        nav_element.append(button);\n",
       "    }\n",
       "\n",
       "    var fmt_picker_span = $('<span/>');\n",
       "\n",
       "    var fmt_picker = $('<select/>');\n",
       "    fmt_picker.addClass('mpl-toolbar-option ui-widget ui-widget-content');\n",
       "    fmt_picker_span.append(fmt_picker);\n",
       "    nav_element.append(fmt_picker_span);\n",
       "    this.format_dropdown = fmt_picker[0];\n",
       "\n",
       "    for (var ind in mpl.extensions) {\n",
       "        var fmt = mpl.extensions[ind];\n",
       "        var option = $(\n",
       "            '<option/>', {selected: fmt === mpl.default_extension}).html(fmt);\n",
       "        fmt_picker.append(option)\n",
       "    }\n",
       "\n",
       "    // Add hover states to the ui-buttons\n",
       "    $( \".ui-button\" ).hover(\n",
       "        function() { $(this).addClass(\"ui-state-hover\");},\n",
       "        function() { $(this).removeClass(\"ui-state-hover\");}\n",
       "    );\n",
       "\n",
       "    var status_bar = $('<span class=\"mpl-message\"/>');\n",
       "    nav_element.append(status_bar);\n",
       "    this.message = status_bar[0];\n",
       "}\n",
       "\n",
       "mpl.figure.prototype.request_resize = function(x_pixels, y_pixels) {\n",
       "    // Request matplotlib to resize the figure. Matplotlib will then trigger a resize in the client,\n",
       "    // which will in turn request a refresh of the image.\n",
       "    this.send_message('resize', {'width': x_pixels, 'height': y_pixels});\n",
       "}\n",
       "\n",
       "mpl.figure.prototype.send_message = function(type, properties) {\n",
       "    properties['type'] = type;\n",
       "    properties['figure_id'] = this.id;\n",
       "    this.ws.send(JSON.stringify(properties));\n",
       "}\n",
       "\n",
       "mpl.figure.prototype.send_draw_message = function() {\n",
       "    if (!this.waiting) {\n",
       "        this.waiting = true;\n",
       "        this.ws.send(JSON.stringify({type: \"draw\", figure_id: this.id}));\n",
       "    }\n",
       "}\n",
       "\n",
       "\n",
       "mpl.figure.prototype.handle_save = function(fig, msg) {\n",
       "    var format_dropdown = fig.format_dropdown;\n",
       "    var format = format_dropdown.options[format_dropdown.selectedIndex].value;\n",
       "    fig.ondownload(fig, format);\n",
       "}\n",
       "\n",
       "\n",
       "mpl.figure.prototype.handle_resize = function(fig, msg) {\n",
       "    var size = msg['size'];\n",
       "    if (size[0] != fig.canvas.width || size[1] != fig.canvas.height) {\n",
       "        fig._resize_canvas(size[0], size[1]);\n",
       "        fig.send_message(\"refresh\", {});\n",
       "    };\n",
       "}\n",
       "\n",
       "mpl.figure.prototype.handle_rubberband = function(fig, msg) {\n",
       "    var x0 = msg['x0'];\n",
       "    var y0 = fig.canvas.height - msg['y0'];\n",
       "    var x1 = msg['x1'];\n",
       "    var y1 = fig.canvas.height - msg['y1'];\n",
       "    x0 = Math.floor(x0) + 0.5;\n",
       "    y0 = Math.floor(y0) + 0.5;\n",
       "    x1 = Math.floor(x1) + 0.5;\n",
       "    y1 = Math.floor(y1) + 0.5;\n",
       "    var min_x = Math.min(x0, x1);\n",
       "    var min_y = Math.min(y0, y1);\n",
       "    var width = Math.abs(x1 - x0);\n",
       "    var height = Math.abs(y1 - y0);\n",
       "\n",
       "    fig.rubberband_context.clearRect(\n",
       "        0, 0, fig.canvas.width, fig.canvas.height);\n",
       "\n",
       "    fig.rubberband_context.strokeRect(min_x, min_y, width, height);\n",
       "}\n",
       "\n",
       "mpl.figure.prototype.handle_figure_label = function(fig, msg) {\n",
       "    // Updates the figure title.\n",
       "    fig.header.textContent = msg['label'];\n",
       "}\n",
       "\n",
       "mpl.figure.prototype.handle_cursor = function(fig, msg) {\n",
       "    var cursor = msg['cursor'];\n",
       "    switch(cursor)\n",
       "    {\n",
       "    case 0:\n",
       "        cursor = 'pointer';\n",
       "        break;\n",
       "    case 1:\n",
       "        cursor = 'default';\n",
       "        break;\n",
       "    case 2:\n",
       "        cursor = 'crosshair';\n",
       "        break;\n",
       "    case 3:\n",
       "        cursor = 'move';\n",
       "        break;\n",
       "    }\n",
       "    fig.rubberband_canvas.style.cursor = cursor;\n",
       "}\n",
       "\n",
       "mpl.figure.prototype.handle_message = function(fig, msg) {\n",
       "    fig.message.textContent = msg['message'];\n",
       "}\n",
       "\n",
       "mpl.figure.prototype.handle_draw = function(fig, msg) {\n",
       "    // Request the server to send over a new figure.\n",
       "    fig.send_draw_message();\n",
       "}\n",
       "\n",
       "mpl.figure.prototype.handle_image_mode = function(fig, msg) {\n",
       "    fig.image_mode = msg['mode'];\n",
       "}\n",
       "\n",
       "mpl.figure.prototype.updated_canvas_event = function() {\n",
       "    // Called whenever the canvas gets updated.\n",
       "    this.send_message(\"ack\", {});\n",
       "}\n",
       "\n",
       "// A function to construct a web socket function for onmessage handling.\n",
       "// Called in the figure constructor.\n",
       "mpl.figure.prototype._make_on_message_function = function(fig) {\n",
       "    return function socket_on_message(evt) {\n",
       "        if (evt.data instanceof Blob) {\n",
       "            /* FIXME: We get \"Resource interpreted as Image but\n",
       "             * transferred with MIME type text/plain:\" errors on\n",
       "             * Chrome.  But how to set the MIME type?  It doesn't seem\n",
       "             * to be part of the websocket stream */\n",
       "            evt.data.type = \"image/png\";\n",
       "\n",
       "            /* Free the memory for the previous frames */\n",
       "            if (fig.imageObj.src) {\n",
       "                (window.URL || window.webkitURL).revokeObjectURL(\n",
       "                    fig.imageObj.src);\n",
       "            }\n",
       "\n",
       "            fig.imageObj.src = (window.URL || window.webkitURL).createObjectURL(\n",
       "                evt.data);\n",
       "            fig.updated_canvas_event();\n",
       "            fig.waiting = false;\n",
       "            return;\n",
       "        }\n",
       "        else if (typeof evt.data === 'string' && evt.data.slice(0, 21) == \"data:image/png;base64\") {\n",
       "            fig.imageObj.src = evt.data;\n",
       "            fig.updated_canvas_event();\n",
       "            fig.waiting = false;\n",
       "            return;\n",
       "        }\n",
       "\n",
       "        var msg = JSON.parse(evt.data);\n",
       "        var msg_type = msg['type'];\n",
       "\n",
       "        // Call the  \"handle_{type}\" callback, which takes\n",
       "        // the figure and JSON message as its only arguments.\n",
       "        try {\n",
       "            var callback = fig[\"handle_\" + msg_type];\n",
       "        } catch (e) {\n",
       "            console.log(\"No handler for the '\" + msg_type + \"' message type: \", msg);\n",
       "            return;\n",
       "        }\n",
       "\n",
       "        if (callback) {\n",
       "            try {\n",
       "                // console.log(\"Handling '\" + msg_type + \"' message: \", msg);\n",
       "                callback(fig, msg);\n",
       "            } catch (e) {\n",
       "                console.log(\"Exception inside the 'handler_\" + msg_type + \"' callback:\", e, e.stack, msg);\n",
       "            }\n",
       "        }\n",
       "    };\n",
       "}\n",
       "\n",
       "// from http://stackoverflow.com/questions/1114465/getting-mouse-location-in-canvas\n",
       "mpl.findpos = function(e) {\n",
       "    //this section is from http://www.quirksmode.org/js/events_properties.html\n",
       "    var targ;\n",
       "    if (!e)\n",
       "        e = window.event;\n",
       "    if (e.target)\n",
       "        targ = e.target;\n",
       "    else if (e.srcElement)\n",
       "        targ = e.srcElement;\n",
       "    if (targ.nodeType == 3) // defeat Safari bug\n",
       "        targ = targ.parentNode;\n",
       "\n",
       "    // jQuery normalizes the pageX and pageY\n",
       "    // pageX,Y are the mouse positions relative to the document\n",
       "    // offset() returns the position of the element relative to the document\n",
       "    var x = e.pageX - $(targ).offset().left;\n",
       "    var y = e.pageY - $(targ).offset().top;\n",
       "\n",
       "    return {\"x\": x, \"y\": y};\n",
       "};\n",
       "\n",
       "/*\n",
       " * return a copy of an object with only non-object keys\n",
       " * we need this to avoid circular references\n",
       " * http://stackoverflow.com/a/24161582/3208463\n",
       " */\n",
       "function simpleKeys (original) {\n",
       "  return Object.keys(original).reduce(function (obj, key) {\n",
       "    if (typeof original[key] !== 'object')\n",
       "        obj[key] = original[key]\n",
       "    return obj;\n",
       "  }, {});\n",
       "}\n",
       "\n",
       "mpl.figure.prototype.mouse_event = function(event, name) {\n",
       "    var canvas_pos = mpl.findpos(event)\n",
       "\n",
       "    if (name === 'button_press')\n",
       "    {\n",
       "        this.canvas.focus();\n",
       "        this.canvas_div.focus();\n",
       "    }\n",
       "\n",
       "    var x = canvas_pos.x;\n",
       "    var y = canvas_pos.y;\n",
       "\n",
       "    this.send_message(name, {x: x, y: y, button: event.button,\n",
       "                             step: event.step,\n",
       "                             guiEvent: simpleKeys(event)});\n",
       "\n",
       "    /* This prevents the web browser from automatically changing to\n",
       "     * the text insertion cursor when the button is pressed.  We want\n",
       "     * to control all of the cursor setting manually through the\n",
       "     * 'cursor' event from matplotlib */\n",
       "    event.preventDefault();\n",
       "    return false;\n",
       "}\n",
       "\n",
       "mpl.figure.prototype._key_event_extra = function(event, name) {\n",
       "    // Handle any extra behaviour associated with a key event\n",
       "}\n",
       "\n",
       "mpl.figure.prototype.key_event = function(event, name) {\n",
       "\n",
       "    // Prevent repeat events\n",
       "    if (name == 'key_press')\n",
       "    {\n",
       "        if (event.which === this._key)\n",
       "            return;\n",
       "        else\n",
       "            this._key = event.which;\n",
       "    }\n",
       "    if (name == 'key_release')\n",
       "        this._key = null;\n",
       "\n",
       "    var value = '';\n",
       "    if (event.ctrlKey && event.which != 17)\n",
       "        value += \"ctrl+\";\n",
       "    if (event.altKey && event.which != 18)\n",
       "        value += \"alt+\";\n",
       "    if (event.shiftKey && event.which != 16)\n",
       "        value += \"shift+\";\n",
       "\n",
       "    value += 'k';\n",
       "    value += event.which.toString();\n",
       "\n",
       "    this._key_event_extra(event, name);\n",
       "\n",
       "    this.send_message(name, {key: value,\n",
       "                             guiEvent: simpleKeys(event)});\n",
       "    return false;\n",
       "}\n",
       "\n",
       "mpl.figure.prototype.toolbar_button_onclick = function(name) {\n",
       "    if (name == 'download') {\n",
       "        this.handle_save(this, null);\n",
       "    } else {\n",
       "        this.send_message(\"toolbar_button\", {name: name});\n",
       "    }\n",
       "};\n",
       "\n",
       "mpl.figure.prototype.toolbar_button_onmouseover = function(tooltip) {\n",
       "    this.message.textContent = tooltip;\n",
       "};\n",
       "mpl.toolbar_items = [[\"Home\", \"Reset original view\", \"fa fa-home icon-home\", \"home\"], [\"Back\", \"Back to  previous view\", \"fa fa-arrow-left icon-arrow-left\", \"back\"], [\"Forward\", \"Forward to next view\", \"fa fa-arrow-right icon-arrow-right\", \"forward\"], [\"\", \"\", \"\", \"\"], [\"Pan\", \"Pan axes with left mouse, zoom with right\", \"fa fa-arrows icon-move\", \"pan\"], [\"Zoom\", \"Zoom to rectangle\", \"fa fa-square-o icon-check-empty\", \"zoom\"], [\"\", \"\", \"\", \"\"], [\"Download\", \"Download plot\", \"fa fa-floppy-o icon-save\", \"download\"]];\n",
       "\n",
       "mpl.extensions = [\"eps\", \"jpeg\", \"pdf\", \"png\", \"ps\", \"raw\", \"svg\", \"tif\"];\n",
       "\n",
       "mpl.default_extension = \"png\";var comm_websocket_adapter = function(comm) {\n",
       "    // Create a \"websocket\"-like object which calls the given IPython comm\n",
       "    // object with the appropriate methods. Currently this is a non binary\n",
       "    // socket, so there is still some room for performance tuning.\n",
       "    var ws = {};\n",
       "\n",
       "    ws.close = function() {\n",
       "        comm.close()\n",
       "    };\n",
       "    ws.send = function(m) {\n",
       "        //console.log('sending', m);\n",
       "        comm.send(m);\n",
       "    };\n",
       "    // Register the callback with on_msg.\n",
       "    comm.on_msg(function(msg) {\n",
       "        //console.log('receiving', msg['content']['data'], msg);\n",
       "        // Pass the mpl event to the overriden (by mpl) onmessage function.\n",
       "        ws.onmessage(msg['content']['data'])\n",
       "    });\n",
       "    return ws;\n",
       "}\n",
       "\n",
       "mpl.mpl_figure_comm = function(comm, msg) {\n",
       "    // This is the function which gets called when the mpl process\n",
       "    // starts-up an IPython Comm through the \"matplotlib\" channel.\n",
       "\n",
       "    var id = msg.content.data.id;\n",
       "    // Get hold of the div created by the display call when the Comm\n",
       "    // socket was opened in Python.\n",
       "    var element = $(\"#\" + id);\n",
       "    var ws_proxy = comm_websocket_adapter(comm)\n",
       "\n",
       "    function ondownload(figure, format) {\n",
       "        window.open(figure.imageObj.src);\n",
       "    }\n",
       "\n",
       "    var fig = new mpl.figure(id, ws_proxy,\n",
       "                           ondownload,\n",
       "                           element.get(0));\n",
       "\n",
       "    // Call onopen now - mpl needs it, as it is assuming we've passed it a real\n",
       "    // web socket which is closed, not our websocket->open comm proxy.\n",
       "    ws_proxy.onopen();\n",
       "\n",
       "    fig.parent_element = element.get(0);\n",
       "    fig.cell_info = mpl.find_output_cell(\"<div id='\" + id + \"'></div>\");\n",
       "    if (!fig.cell_info) {\n",
       "        console.error(\"Failed to find cell for figure\", id, fig);\n",
       "        return;\n",
       "    }\n",
       "\n",
       "    var output_index = fig.cell_info[2]\n",
       "    var cell = fig.cell_info[0];\n",
       "\n",
       "};\n",
       "\n",
       "mpl.figure.prototype.handle_close = function(fig, msg) {\n",
       "    fig.root.unbind('remove')\n",
       "\n",
       "    // Update the output cell to use the data from the current canvas.\n",
       "    fig.push_to_output();\n",
       "    var dataURL = fig.canvas.toDataURL();\n",
       "    // Re-enable the keyboard manager in IPython - without this line, in FF,\n",
       "    // the notebook keyboard shortcuts fail.\n",
       "    IPython.keyboard_manager.enable()\n",
       "    $(fig.parent_element).html('<img src=\"' + dataURL + '\">');\n",
       "    fig.close_ws(fig, msg);\n",
       "}\n",
       "\n",
       "mpl.figure.prototype.close_ws = function(fig, msg){\n",
       "    fig.send_message('closing', msg);\n",
       "    // fig.ws.close()\n",
       "}\n",
       "\n",
       "mpl.figure.prototype.push_to_output = function(remove_interactive) {\n",
       "    // Turn the data on the canvas into data in the output cell.\n",
       "    var dataURL = this.canvas.toDataURL();\n",
       "    this.cell_info[1]['text/html'] = '<img src=\"' + dataURL + '\">';\n",
       "}\n",
       "\n",
       "mpl.figure.prototype.updated_canvas_event = function() {\n",
       "    // Tell IPython that the notebook contents must change.\n",
       "    IPython.notebook.set_dirty(true);\n",
       "    this.send_message(\"ack\", {});\n",
       "    var fig = this;\n",
       "    // Wait a second, then push the new image to the DOM so\n",
       "    // that it is saved nicely (might be nice to debounce this).\n",
       "    setTimeout(function () { fig.push_to_output() }, 1000);\n",
       "}\n",
       "\n",
       "mpl.figure.prototype._init_toolbar = function() {\n",
       "    var fig = this;\n",
       "\n",
       "    var nav_element = $('<div/>')\n",
       "    nav_element.attr('style', 'width: 100%');\n",
       "    this.root.append(nav_element);\n",
       "\n",
       "    // Define a callback function for later on.\n",
       "    function toolbar_event(event) {\n",
       "        return fig.toolbar_button_onclick(event['data']);\n",
       "    }\n",
       "    function toolbar_mouse_event(event) {\n",
       "        return fig.toolbar_button_onmouseover(event['data']);\n",
       "    }\n",
       "\n",
       "    for(var toolbar_ind in mpl.toolbar_items){\n",
       "        var name = mpl.toolbar_items[toolbar_ind][0];\n",
       "        var tooltip = mpl.toolbar_items[toolbar_ind][1];\n",
       "        var image = mpl.toolbar_items[toolbar_ind][2];\n",
       "        var method_name = mpl.toolbar_items[toolbar_ind][3];\n",
       "\n",
       "        if (!name) { continue; };\n",
       "\n",
       "        var button = $('<button class=\"btn btn-default\" href=\"#\" title=\"' + name + '\"><i class=\"fa ' + image + ' fa-lg\"></i></button>');\n",
       "        button.click(method_name, toolbar_event);\n",
       "        button.mouseover(tooltip, toolbar_mouse_event);\n",
       "        nav_element.append(button);\n",
       "    }\n",
       "\n",
       "    // Add the status bar.\n",
       "    var status_bar = $('<span class=\"mpl-message\" style=\"text-align:right; float: right;\"/>');\n",
       "    nav_element.append(status_bar);\n",
       "    this.message = status_bar[0];\n",
       "\n",
       "    // Add the close button to the window.\n",
       "    var buttongrp = $('<div class=\"btn-group inline pull-right\"></div>');\n",
       "    var button = $('<button class=\"btn btn-mini btn-primary\" href=\"#\" title=\"Stop Interaction\"><i class=\"fa fa-power-off icon-remove icon-large\"></i></button>');\n",
       "    button.click(function (evt) { fig.handle_close(fig, {}); } );\n",
       "    button.mouseover('Stop Interaction', toolbar_mouse_event);\n",
       "    buttongrp.append(button);\n",
       "    var titlebar = this.root.find($('.ui-dialog-titlebar'));\n",
       "    titlebar.prepend(buttongrp);\n",
       "}\n",
       "\n",
       "mpl.figure.prototype._root_extra_style = function(el){\n",
       "    var fig = this\n",
       "    el.on(\"remove\", function(){\n",
       "\tfig.close_ws(fig, {});\n",
       "    });\n",
       "}\n",
       "\n",
       "mpl.figure.prototype._canvas_extra_style = function(el){\n",
       "    // this is important to make the div 'focusable\n",
       "    el.attr('tabindex', 0)\n",
       "    // reach out to IPython and tell the keyboard manager to turn it's self\n",
       "    // off when our div gets focus\n",
       "\n",
       "    // location in version 3\n",
       "    if (IPython.notebook.keyboard_manager) {\n",
       "        IPython.notebook.keyboard_manager.register_events(el);\n",
       "    }\n",
       "    else {\n",
       "        // location in version 2\n",
       "        IPython.keyboard_manager.register_events(el);\n",
       "    }\n",
       "\n",
       "}\n",
       "\n",
       "mpl.figure.prototype._key_event_extra = function(event, name) {\n",
       "    var manager = IPython.notebook.keyboard_manager;\n",
       "    if (!manager)\n",
       "        manager = IPython.keyboard_manager;\n",
       "\n",
       "    // Check for shift+enter\n",
       "    if (event.shiftKey && event.which == 13) {\n",
       "        this.canvas_div.blur();\n",
       "        event.shiftKey = false;\n",
       "        // Send a \"J\" for go to next cell\n",
       "        event.which = 74;\n",
       "        event.keyCode = 74;\n",
       "        manager.command_mode();\n",
       "        manager.handle_keydown(event);\n",
       "    }\n",
       "}\n",
       "\n",
       "mpl.figure.prototype.handle_save = function(fig, msg) {\n",
       "    fig.ondownload(fig, null);\n",
       "}\n",
       "\n",
       "\n",
       "mpl.find_output_cell = function(html_output) {\n",
       "    // Return the cell and output element which can be found *uniquely* in the notebook.\n",
       "    // Note - this is a bit hacky, but it is done because the \"notebook_saving.Notebook\"\n",
       "    // IPython event is triggered only after the cells have been serialised, which for\n",
       "    // our purposes (turning an active figure into a static one), is too late.\n",
       "    var cells = IPython.notebook.get_cells();\n",
       "    var ncells = cells.length;\n",
       "    for (var i=0; i<ncells; i++) {\n",
       "        var cell = cells[i];\n",
       "        if (cell.cell_type === 'code'){\n",
       "            for (var j=0; j<cell.output_area.outputs.length; j++) {\n",
       "                var data = cell.output_area.outputs[j];\n",
       "                if (data.data) {\n",
       "                    // IPython >= 3 moved mimebundle to data attribute of output\n",
       "                    data = data.data;\n",
       "                }\n",
       "                if (data['text/html'] == html_output) {\n",
       "                    return [cell, data, j];\n",
       "                }\n",
       "            }\n",
       "        }\n",
       "    }\n",
       "}\n",
       "\n",
       "// Register the function which deals with the matplotlib target/channel.\n",
       "// The kernel may be null if the page has been refreshed.\n",
       "if (IPython.notebook.kernel != null) {\n",
       "    IPython.notebook.kernel.comm_manager.register_target('matplotlib', mpl.mpl_figure_comm);\n",
       "}\n"
      ],
      "text/plain": [
       "<IPython.core.display.Javascript object>"
      ]
     },
     "metadata": {},
     "output_type": "display_data"
    },
    {
     "data": {
      "text/html": [
       "<img src=\"data:image/png;base64,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\">"
      ],
      "text/plain": [
       "<IPython.core.display.HTML object>"
      ]
     },
     "metadata": {},
     "output_type": "display_data"
    }
   ],
   "source": [
    "fig, ax = plt.subplots()\n",
    "plot_fit(fig, ax)"
   ]
  },
  {
   "cell_type": "markdown",
   "metadata": {},
   "source": [
    "## fit"
   ]
  },
  {
   "cell_type": "code",
   "execution_count": 12,
   "metadata": {
    "collapsed": false
   },
   "outputs": [
    {
     "data": {
      "text/plain": [
       "{'fun': <function schlichtanders.myoptimizers.f_batch>,\n",
       " 'hess': <function schlichtanders.myoptimizers.f_batch>,\n",
       " 'jac': <function schlichtanders.myoptimizers.f_batch>,\n",
       " 'x0': array([ 0.        ,  0.        ,  0.54132485,  0.54132485])}"
      ]
     },
     "execution_count": 12,
     "metadata": {},
     "output_type": "execute_result"
    }
   ],
   "source": [
    "postmap = compose(scipy_postmap, flat_numericalize_postmap, flatten_parameters, probabilistic_optimizer_postmap)\n",
    "scipy_kwargs = postmap(model, wrapper=batch, initial_inputs=[])\n",
    "scipy_kwargs"
   ]
  },
  {
   "cell_type": "code",
   "execution_count": 13,
   "metadata": {
    "collapsed": false
   },
   "outputs": [
    {
     "name": "stdout",
     "output_type": "stream",
     "text": [
      "Optimization terminated successfully.\n",
      "         Current function value: 1157.549196\n",
      "         Iterations: 18\n",
      "         Function evaluations: 21\n",
      "         Gradient evaluations: 38\n",
      "         Hessian evaluations: 18\n"
     ]
    },
    {
     "data": {
      "text/plain": [
       "     fun: 1157.5491962711997\n",
       "     jac: array([  5.80826692e-07,  -2.66086251e-05,   3.19821900e-04,\n",
       "        -1.40585810e-05])\n",
       " message: 'Optimization terminated successfully.'\n",
       "    nfev: 21\n",
       "    nhev: 18\n",
       "     nit: 18\n",
       "    njev: 38\n",
       "  status: 0\n",
       " success: True\n",
       "       x: array([ 4.04271466,  9.91646827, -0.43735822,  2.13318152])"
      ]
     },
     "execution_count": 13,
     "metadata": {},
     "output_type": "execute_result"
    }
   ],
   "source": [
    "fit = minimize(\n",
    "    args=(targets,),\n",
    "    method=\"Newton-CG\",\n",
    "    options={'maxiter':100, 'disp':True},\n",
    "    callback=lambda xs: plot_fit(fig, ax, {model['parameters_flat'][0]:xs}),\n",
    "    **scipy_kwargs\n",
    "); fit"
   ]
  },
  {
   "cell_type": "markdown",
   "metadata": {},
   "source": [
    "Sometimes we might want to fix fitted model parameters into the model."
   ]
  },
  {
   "cell_type": "code",
   "execution_count": null,
   "metadata": {
    "collapsed": true
   },
   "outputs": [],
   "source": [
    "model['parameters_flat'] = [fit.x]"
   ]
  },
  {
   "cell_type": "code",
   "execution_count": null,
   "metadata": {
    "collapsed": false
   },
   "outputs": [],
   "source": [
    "print model.var.eval()\n",
    "print model.mean.eval()"
   ]
  },
  {
   "cell_type": "markdown",
   "metadata": {},
   "source": [
    "# Uniform Distribution"
   ]
  },
  {
   "cell_type": "markdown",
   "metadata": {},
   "source": [
    "## model"
   ]
  },
  {
   "cell_type": "code",
   "execution_count": null,
   "metadata": {
    "collapsed": false
   },
   "outputs": [],
   "source": [
    "model = pm.Uniform(output_size=2)\n",
    "model"
   ]
  },
  {
   "cell_type": "code",
   "execution_count": null,
   "metadata": {
    "collapsed": false
   },
   "outputs": [],
   "source": [
    "model.map(\"parameters_positive\", reparameterize_map(softplus, softplus_inv), \"parameters\")\n",
    "model"
   ]
  },
  {
   "cell_type": "markdown",
   "metadata": {},
   "source": [
    "## target"
   ]
  },
  {
   "cell_type": "code",
   "execution_count": null,
   "metadata": {
    "collapsed": false
   },
   "outputs": [],
   "source": [
    "target = pm.Uniform(init_start=[1,4], init_offset=[2,1])\n",
    "t_sampler = target.function()\n",
    "t_sampler()"
   ]
  },
  {
   "cell_type": "code",
   "execution_count": null,
   "metadata": {
    "collapsed": false
   },
   "outputs": [],
   "source": [
    "n_samples = 400\n",
    "targets = np.array([t_sampler() for _ in xrange(n_samples)])"
   ]
  },
  {
   "cell_type": "code",
   "execution_count": null,
   "metadata": {
    "collapsed": false
   },
   "outputs": [],
   "source": [
    "targets[:10]"
   ]
  },
  {
   "cell_type": "markdown",
   "metadata": {},
   "source": [
    "## visualize"
   ]
  },
  {
   "cell_type": "code",
   "execution_count": null,
   "metadata": {
    "collapsed": true
   },
   "outputs": [],
   "source": [
    "def plot_fit(fig, ax, givens={}, time_delay=0.1):\n",
    "    ax.clear()\n",
    "    \n",
    "    # targets\n",
    "    ax.plot(targets[:,0], targets[:,1], \"k.\")\n",
    "    \n",
    "    # model\n",
    "    m_sampler = model.function(givens=givens)\n",
    "    model_samples = np.array([m_sampler() for _ in xrange(n_samples)])\n",
    "    ax.plot(model_samples[:,0], model_samples[:,1], \"r.\")\n",
    "    fig.canvas.draw()\n",
    "    time.sleep(time_delay)"
   ]
  },
  {
   "cell_type": "code",
   "execution_count": null,
   "metadata": {
    "collapsed": false
   },
   "outputs": [],
   "source": [
    "fig, ax = plt.subplots()\n",
    "plot_fit(fig, ax)"
   ]
  },
  {
   "cell_type": "markdown",
   "metadata": {},
   "source": [
    "## fit"
   ]
  },
  {
   "cell_type": "code",
   "execution_count": null,
   "metadata": {
    "collapsed": false
   },
   "outputs": [],
   "source": [
    "postmap = compose(scipy_postmap, flat_numericalize_postmap, flatten_parameters, probabilistic_optimizer_postmap)\n",
    "scipy_kwargs = postmap(model, wrapper=batch, initial_inputs=[])\n",
    "scipy_kwargs"
   ]
  },
  {
   "cell_type": "code",
   "execution_count": null,
   "metadata": {
    "collapsed": false
   },
   "outputs": [],
   "source": [
    "fit = minimize(\n",
    "    args=(targets,),\n",
    "    method=\"Newton-CG\",\n",
    "    options={'maxiter':100, 'disp':True},\n",
    "    callback=lambda xs: plot_fit(fig, ax, {model['parameters_flat'][0]:xs}),\n",
    "    **scipy_kwargs\n",
    "); fit"
   ]
  },
  {
   "cell_type": "markdown",
   "metadata": {},
   "source": [
    "TODO this does not work. Check whether the gradient is the reason (there is no gradient of the step probability function)."
   ]
  }
 ],
 "metadata": {
  "kernelspec": {
   "display_name": "Python 2",
   "language": "python",
   "name": "python2"
  },
  "language_info": {
   "codemirror_mode": {
    "name": "ipython",
    "version": 2
   },
   "file_extension": ".py",
   "mimetype": "text/x-python",
   "name": "python",
   "nbconvert_exporter": "python",
   "pygments_lexer": "ipython2",
   "version": "2.7.6"
  },
  "toc": {
   "toc_cell": false,
   "toc_number_sections": true,
   "toc_threshold": 4,
   "toc_window_display": false
  }
 },
 "nbformat": 4,
 "nbformat_minor": 0
}
