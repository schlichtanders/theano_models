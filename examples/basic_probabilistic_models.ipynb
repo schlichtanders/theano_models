{
 "cells": [
  {
   "cell_type": "code",
   "execution_count": 1,
   "metadata": {
    "collapsed": false
   },
   "outputs": [
    {
     "name": "stderr",
     "output_type": "stream",
     "text": [
      "/usr/local/lib/python2.7/dist-packages/matplotlib/font_manager.py:273: UserWarning: Matplotlib is building the font cache using fc-list. This may take a moment.\n",
      "  warnings.warn('Matplotlib is building the font cache using fc-list. This may take a moment.')\n"
     ]
    }
   ],
   "source": [
    "%matplotlib notebook"
   ]
  },
  {
   "cell_type": "code",
   "execution_count": 2,
   "metadata": {
    "collapsed": false
   },
   "outputs": [],
   "source": [
    "import theano\n",
    "import theano.tensor as T\n",
    "import numpy as np\n",
    "from schlichtanders.myoptimizers import online, batch\n",
    "from schlichtanders.myfunctools import compose\n",
    "import matplotlib.pyplot as plt\n",
    "from matplotlib.patches import Ellipse\n",
    "import time"
   ]
  },
  {
   "cell_type": "code",
   "execution_count": 3,
   "metadata": {
    "collapsed": false
   },
   "outputs": [
    {
     "name": "stdout",
     "output_type": "stream",
     "text": [
      "gnumpy: failed to import cudamat. Using npmat instead. No GPU will be used.\n"
     ]
    }
   ],
   "source": [
    "from theano_models import shared, flatten_parameters, reparameterize_map, softplus, softplus_inv, total_size\n",
    "from theano_models import reduce_all_identities, evaluate_all_unevaluated\n",
    "import theano_models.probabilistic_models as pm\n",
    "import theano_models.deterministic_models as dm"
   ]
  },
  {
   "cell_type": "markdown",
   "metadata": {},
   "source": [
    "# Testing Gauss Distribution"
   ]
  },
  {
   "cell_type": "markdown",
   "metadata": {},
   "source": [
    "For this test we simply try to approximate a diagonal gaussian distribution to given gaussian samples."
   ]
  },
  {
   "cell_type": "markdown",
   "metadata": {},
   "source": [
    "## model"
   ]
  },
  {
   "cell_type": "code",
   "execution_count": 4,
   "metadata": {
    "collapsed": false
   },
   "outputs": [
    {
     "data": {
      "text/plain": [
       "{ 'RV': Elemwise{add,no_inplace}.0,\n",
       "  'inputs': [],\n",
       "  'logP': <function <lambda> at 0x7fe344fbfb90>,\n",
       "  'outputs': Elemwise{add,no_inplace}.0,\n",
       "  'parameters': [mean],\n",
       "  'parameters_positive': [var]}"
      ]
     },
     "execution_count": 4,
     "metadata": {},
     "output_type": "execute_result"
    }
   ],
   "source": [
    "size = 2\n",
    "model = pm.DiagGauss(size)\n",
    "model"
   ]
  },
  {
   "cell_type": "code",
   "execution_count": 5,
   "metadata": {
    "collapsed": false
   },
   "outputs": [
    {
     "data": {
      "text/plain": [
       "{ 'RV': Elemwise{add,no_inplace}.0,\n",
       "  'inputs': [],\n",
       "  'logP': <function <lambda> at 0x7fe344fbfb90>,\n",
       "  'outputs': Elemwise{add,no_inplace}.0,\n",
       "  'parameters': [mean, var_softplus],\n",
       "  'parameters_positive': [var]}"
      ]
     },
     "execution_count": 5,
     "metadata": {},
     "output_type": "execute_result"
    }
   ],
   "source": [
    "model.map('parameters_positive', reparameterize_map(softplus, softplus_inv), \"parameters\")\n",
    "model"
   ]
  },
  {
   "cell_type": "markdown",
   "metadata": {},
   "source": [
    "## target"
   ]
  },
  {
   "cell_type": "code",
   "execution_count": 7,
   "metadata": {
    "collapsed": false
   },
   "outputs": [],
   "source": [
    "target = pm.DiagGauss(init_mean=[4,10], init_var=[0.5,2])"
   ]
  },
  {
   "cell_type": "code",
   "execution_count": 8,
   "metadata": {
    "collapsed": false
   },
   "outputs": [
    {
     "data": {
      "text/plain": [
       "array([  3.57473607,  11.65060347])"
      ]
     },
     "execution_count": 8,
     "metadata": {},
     "output_type": "execute_result"
    }
   ],
   "source": [
    "sampler = target.function()\n",
    "sampler()"
   ]
  },
  {
   "cell_type": "code",
   "execution_count": 9,
   "metadata": {
    "collapsed": false
   },
   "outputs": [],
   "source": [
    "n_samples = 400\n",
    "targets = np.array([sampler() for _ in xrange(n_samples)])"
   ]
  },
  {
   "cell_type": "markdown",
   "metadata": {},
   "source": [
    "## visualization"
   ]
  },
  {
   "cell_type": "code",
   "execution_count": 10,
   "metadata": {
    "collapsed": true
   },
   "outputs": [],
   "source": [
    "def plot_fit(fig, ax, time_delay=0.1):\n",
    "    \"\"\" interactive plot of model fit\n",
    "    \n",
    "    Plots target data set as well as two Ellipse around target and model mean with width/height = 2* respective\n",
    "    standard deviation.\n",
    "    \"\"\"\n",
    "    ax.clear()\n",
    "    ax.set_xlabel(\"x0\")\n",
    "    ax.set_ylabel(\"x1\")\n",
    "    \n",
    "    # plot data\n",
    "    # ---------\n",
    "    ax.plot(targets[:,0], targets[:,1], 'k.')\n",
    "    \n",
    "    # plot target\n",
    "    # -----------\n",
    "    target_mean = target.mean.eval()\n",
    "    target_var = target.var.eval()\n",
    "    \n",
    "    # Ellipse\n",
    "    e = Ellipse(target_mean, width=2*np.sqrt(target_var[0]), height=2*np.sqrt(target_var[1]))\n",
    "    e.set_clip_box(ax.bbox)\n",
    "    e.set_alpha(0.1)\n",
    "    e.set_facecolor([1, 0.1, 0.1])\n",
    "    ax.add_patch(e)\n",
    "\n",
    "    # plot model\n",
    "    # -----------\n",
    "    model_mean = model.mean.eval()\n",
    "    model_var = model.var.eval()\n",
    "    # text\n",
    "    ax.text(0.1, 0.2, 'm=%g,%g' % tuple(model_mean),\n",
    "            verticalalignment='bottom', horizontalalignment='left',\n",
    "            transform=ax.transAxes)\n",
    "    ax.text(0.1, 0.1, 'v=%g,%g' % tuple(model_var),\n",
    "            verticalalignment='bottom', horizontalalignment='left',\n",
    "            transform=ax.transAxes)\n",
    "    # Ellipse\n",
    "    e = Ellipse(model_mean, width=2*np.sqrt(model_var[0]), height=2*np.sqrt(model_var[1]))\n",
    "    e.set_clip_box(ax.bbox)\n",
    "    e.set_alpha(0.2)\n",
    "    e.set_facecolor([0.1, 0.2, 0.4])\n",
    "    ax.add_patch(e)\n",
    "    # Point  # we need to add a normal plot, as then the axis adjust automatically\n",
    "    ax.plot(model_mean[0], model_mean[1], '+', color=[0.1, 0.2, 0.4], markersize=10)\n",
    "    \n",
    "    # interactively redraw\n",
    "    # --------------------\n",
    "    fig.canvas.draw()\n",
    "    time.sleep(time_delay) # just because the fit is to fast otherwise"
   ]
  },
  {
   "cell_type": "code",
   "execution_count": 11,
   "metadata": {
    "collapsed": false
   },
   "outputs": [
    {
     "data": {
      "application/javascript": [
       "/* Put everything inside the global mpl namespace */\n",
       "window.mpl = {};\n",
       "\n",
       "mpl.get_websocket_type = function() {\n",
       "    if (typeof(WebSocket) !== 'undefined') {\n",
       "        return WebSocket;\n",
       "    } else if (typeof(MozWebSocket) !== 'undefined') {\n",
       "        return MozWebSocket;\n",
       "    } else {\n",
       "        alert('Your browser does not have WebSocket support.' +\n",
       "              'Please try Chrome, Safari or Firefox ≥ 6. ' +\n",
       "              'Firefox 4 and 5 are also supported but you ' +\n",
       "              'have to enable WebSockets in about:config.');\n",
       "    };\n",
       "}\n",
       "\n",
       "mpl.figure = function(figure_id, websocket, ondownload, parent_element) {\n",
       "    this.id = figure_id;\n",
       "\n",
       "    this.ws = websocket;\n",
       "\n",
       "    this.supports_binary = (this.ws.binaryType != undefined);\n",
       "\n",
       "    if (!this.supports_binary) {\n",
       "        var warnings = document.getElementById(\"mpl-warnings\");\n",
       "        if (warnings) {\n",
       "            warnings.style.display = 'block';\n",
       "            warnings.textContent = (\n",
       "                \"This browser does not support binary websocket messages. \" +\n",
       "                    \"Performance may be slow.\");\n",
       "        }\n",
       "    }\n",
       "\n",
       "    this.imageObj = new Image();\n",
       "\n",
       "    this.context = undefined;\n",
       "    this.message = undefined;\n",
       "    this.canvas = undefined;\n",
       "    this.rubberband_canvas = undefined;\n",
       "    this.rubberband_context = undefined;\n",
       "    this.format_dropdown = undefined;\n",
       "\n",
       "    this.image_mode = 'full';\n",
       "\n",
       "    this.root = $('<div/>');\n",
       "    this._root_extra_style(this.root)\n",
       "    this.root.attr('style', 'display: inline-block');\n",
       "\n",
       "    $(parent_element).append(this.root);\n",
       "\n",
       "    this._init_header(this);\n",
       "    this._init_canvas(this);\n",
       "    this._init_toolbar(this);\n",
       "\n",
       "    var fig = this;\n",
       "\n",
       "    this.waiting = false;\n",
       "\n",
       "    this.ws.onopen =  function () {\n",
       "            fig.send_message(\"supports_binary\", {value: fig.supports_binary});\n",
       "            fig.send_message(\"send_image_mode\", {});\n",
       "            fig.send_message(\"refresh\", {});\n",
       "        }\n",
       "\n",
       "    this.imageObj.onload = function() {\n",
       "            if (fig.image_mode == 'full') {\n",
       "                // Full images could contain transparency (where diff images\n",
       "                // almost always do), so we need to clear the canvas so that\n",
       "                // there is no ghosting.\n",
       "                fig.context.clearRect(0, 0, fig.canvas.width, fig.canvas.height);\n",
       "            }\n",
       "            fig.context.drawImage(fig.imageObj, 0, 0);\n",
       "        };\n",
       "\n",
       "    this.imageObj.onunload = function() {\n",
       "        this.ws.close();\n",
       "    }\n",
       "\n",
       "    this.ws.onmessage = this._make_on_message_function(this);\n",
       "\n",
       "    this.ondownload = ondownload;\n",
       "}\n",
       "\n",
       "mpl.figure.prototype._init_header = function() {\n",
       "    var titlebar = $(\n",
       "        '<div class=\"ui-dialog-titlebar ui-widget-header ui-corner-all ' +\n",
       "        'ui-helper-clearfix\"/>');\n",
       "    var titletext = $(\n",
       "        '<div class=\"ui-dialog-title\" style=\"width: 100%; ' +\n",
       "        'text-align: center; padding: 3px;\"/>');\n",
       "    titlebar.append(titletext)\n",
       "    this.root.append(titlebar);\n",
       "    this.header = titletext[0];\n",
       "}\n",
       "\n",
       "\n",
       "\n",
       "mpl.figure.prototype._canvas_extra_style = function(canvas_div) {\n",
       "\n",
       "}\n",
       "\n",
       "\n",
       "mpl.figure.prototype._root_extra_style = function(canvas_div) {\n",
       "\n",
       "}\n",
       "\n",
       "mpl.figure.prototype._init_canvas = function() {\n",
       "    var fig = this;\n",
       "\n",
       "    var canvas_div = $('<div/>');\n",
       "\n",
       "    canvas_div.attr('style', 'position: relative; clear: both; outline: 0');\n",
       "\n",
       "    function canvas_keyboard_event(event) {\n",
       "        return fig.key_event(event, event['data']);\n",
       "    }\n",
       "\n",
       "    canvas_div.keydown('key_press', canvas_keyboard_event);\n",
       "    canvas_div.keyup('key_release', canvas_keyboard_event);\n",
       "    this.canvas_div = canvas_div\n",
       "    this._canvas_extra_style(canvas_div)\n",
       "    this.root.append(canvas_div);\n",
       "\n",
       "    var canvas = $('<canvas/>');\n",
       "    canvas.addClass('mpl-canvas');\n",
       "    canvas.attr('style', \"left: 0; top: 0; z-index: 0; outline: 0\")\n",
       "\n",
       "    this.canvas = canvas[0];\n",
       "    this.context = canvas[0].getContext(\"2d\");\n",
       "\n",
       "    var rubberband = $('<canvas/>');\n",
       "    rubberband.attr('style', \"position: absolute; left: 0; top: 0; z-index: 1;\")\n",
       "\n",
       "    var pass_mouse_events = true;\n",
       "\n",
       "    canvas_div.resizable({\n",
       "        start: function(event, ui) {\n",
       "            pass_mouse_events = false;\n",
       "        },\n",
       "        resize: function(event, ui) {\n",
       "            fig.request_resize(ui.size.width, ui.size.height);\n",
       "        },\n",
       "        stop: function(event, ui) {\n",
       "            pass_mouse_events = true;\n",
       "            fig.request_resize(ui.size.width, ui.size.height);\n",
       "        },\n",
       "    });\n",
       "\n",
       "    function mouse_event_fn(event) {\n",
       "        if (pass_mouse_events)\n",
       "            return fig.mouse_event(event, event['data']);\n",
       "    }\n",
       "\n",
       "    rubberband.mousedown('button_press', mouse_event_fn);\n",
       "    rubberband.mouseup('button_release', mouse_event_fn);\n",
       "    // Throttle sequential mouse events to 1 every 20ms.\n",
       "    rubberband.mousemove('motion_notify', mouse_event_fn);\n",
       "\n",
       "    rubberband.mouseenter('figure_enter', mouse_event_fn);\n",
       "    rubberband.mouseleave('figure_leave', mouse_event_fn);\n",
       "\n",
       "    canvas_div.on(\"wheel\", function (event) {\n",
       "        event = event.originalEvent;\n",
       "        event['data'] = 'scroll'\n",
       "        if (event.deltaY < 0) {\n",
       "            event.step = 1;\n",
       "        } else {\n",
       "            event.step = -1;\n",
       "        }\n",
       "        mouse_event_fn(event);\n",
       "    });\n",
       "\n",
       "    canvas_div.append(canvas);\n",
       "    canvas_div.append(rubberband);\n",
       "\n",
       "    this.rubberband = rubberband;\n",
       "    this.rubberband_canvas = rubberband[0];\n",
       "    this.rubberband_context = rubberband[0].getContext(\"2d\");\n",
       "    this.rubberband_context.strokeStyle = \"#000000\";\n",
       "\n",
       "    this._resize_canvas = function(width, height) {\n",
       "        // Keep the size of the canvas, canvas container, and rubber band\n",
       "        // canvas in synch.\n",
       "        canvas_div.css('width', width)\n",
       "        canvas_div.css('height', height)\n",
       "\n",
       "        canvas.attr('width', width);\n",
       "        canvas.attr('height', height);\n",
       "\n",
       "        rubberband.attr('width', width);\n",
       "        rubberband.attr('height', height);\n",
       "    }\n",
       "\n",
       "    // Set the figure to an initial 600x600px, this will subsequently be updated\n",
       "    // upon first draw.\n",
       "    this._resize_canvas(600, 600);\n",
       "\n",
       "    // Disable right mouse context menu.\n",
       "    $(this.rubberband_canvas).bind(\"contextmenu\",function(e){\n",
       "        return false;\n",
       "    });\n",
       "\n",
       "    function set_focus () {\n",
       "        canvas.focus();\n",
       "        canvas_div.focus();\n",
       "    }\n",
       "\n",
       "    window.setTimeout(set_focus, 100);\n",
       "}\n",
       "\n",
       "mpl.figure.prototype._init_toolbar = function() {\n",
       "    var fig = this;\n",
       "\n",
       "    var nav_element = $('<div/>')\n",
       "    nav_element.attr('style', 'width: 100%');\n",
       "    this.root.append(nav_element);\n",
       "\n",
       "    // Define a callback function for later on.\n",
       "    function toolbar_event(event) {\n",
       "        return fig.toolbar_button_onclick(event['data']);\n",
       "    }\n",
       "    function toolbar_mouse_event(event) {\n",
       "        return fig.toolbar_button_onmouseover(event['data']);\n",
       "    }\n",
       "\n",
       "    for(var toolbar_ind in mpl.toolbar_items) {\n",
       "        var name = mpl.toolbar_items[toolbar_ind][0];\n",
       "        var tooltip = mpl.toolbar_items[toolbar_ind][1];\n",
       "        var image = mpl.toolbar_items[toolbar_ind][2];\n",
       "        var method_name = mpl.toolbar_items[toolbar_ind][3];\n",
       "\n",
       "        if (!name) {\n",
       "            // put a spacer in here.\n",
       "            continue;\n",
       "        }\n",
       "        var button = $('<button/>');\n",
       "        button.addClass('ui-button ui-widget ui-state-default ui-corner-all ' +\n",
       "                        'ui-button-icon-only');\n",
       "        button.attr('role', 'button');\n",
       "        button.attr('aria-disabled', 'false');\n",
       "        button.click(method_name, toolbar_event);\n",
       "        button.mouseover(tooltip, toolbar_mouse_event);\n",
       "\n",
       "        var icon_img = $('<span/>');\n",
       "        icon_img.addClass('ui-button-icon-primary ui-icon');\n",
       "        icon_img.addClass(image);\n",
       "        icon_img.addClass('ui-corner-all');\n",
       "\n",
       "        var tooltip_span = $('<span/>');\n",
       "        tooltip_span.addClass('ui-button-text');\n",
       "        tooltip_span.html(tooltip);\n",
       "\n",
       "        button.append(icon_img);\n",
       "        button.append(tooltip_span);\n",
       "\n",
       "        nav_element.append(button);\n",
       "    }\n",
       "\n",
       "    var fmt_picker_span = $('<span/>');\n",
       "\n",
       "    var fmt_picker = $('<select/>');\n",
       "    fmt_picker.addClass('mpl-toolbar-option ui-widget ui-widget-content');\n",
       "    fmt_picker_span.append(fmt_picker);\n",
       "    nav_element.append(fmt_picker_span);\n",
       "    this.format_dropdown = fmt_picker[0];\n",
       "\n",
       "    for (var ind in mpl.extensions) {\n",
       "        var fmt = mpl.extensions[ind];\n",
       "        var option = $(\n",
       "            '<option/>', {selected: fmt === mpl.default_extension}).html(fmt);\n",
       "        fmt_picker.append(option)\n",
       "    }\n",
       "\n",
       "    // Add hover states to the ui-buttons\n",
       "    $( \".ui-button\" ).hover(\n",
       "        function() { $(this).addClass(\"ui-state-hover\");},\n",
       "        function() { $(this).removeClass(\"ui-state-hover\");}\n",
       "    );\n",
       "\n",
       "    var status_bar = $('<span class=\"mpl-message\"/>');\n",
       "    nav_element.append(status_bar);\n",
       "    this.message = status_bar[0];\n",
       "}\n",
       "\n",
       "mpl.figure.prototype.request_resize = function(x_pixels, y_pixels) {\n",
       "    // Request matplotlib to resize the figure. Matplotlib will then trigger a resize in the client,\n",
       "    // which will in turn request a refresh of the image.\n",
       "    this.send_message('resize', {'width': x_pixels, 'height': y_pixels});\n",
       "}\n",
       "\n",
       "mpl.figure.prototype.send_message = function(type, properties) {\n",
       "    properties['type'] = type;\n",
       "    properties['figure_id'] = this.id;\n",
       "    this.ws.send(JSON.stringify(properties));\n",
       "}\n",
       "\n",
       "mpl.figure.prototype.send_draw_message = function() {\n",
       "    if (!this.waiting) {\n",
       "        this.waiting = true;\n",
       "        this.ws.send(JSON.stringify({type: \"draw\", figure_id: this.id}));\n",
       "    }\n",
       "}\n",
       "\n",
       "\n",
       "mpl.figure.prototype.handle_save = function(fig, msg) {\n",
       "    var format_dropdown = fig.format_dropdown;\n",
       "    var format = format_dropdown.options[format_dropdown.selectedIndex].value;\n",
       "    fig.ondownload(fig, format);\n",
       "}\n",
       "\n",
       "\n",
       "mpl.figure.prototype.handle_resize = function(fig, msg) {\n",
       "    var size = msg['size'];\n",
       "    if (size[0] != fig.canvas.width || size[1] != fig.canvas.height) {\n",
       "        fig._resize_canvas(size[0], size[1]);\n",
       "        fig.send_message(\"refresh\", {});\n",
       "    };\n",
       "}\n",
       "\n",
       "mpl.figure.prototype.handle_rubberband = function(fig, msg) {\n",
       "    var x0 = msg['x0'];\n",
       "    var y0 = fig.canvas.height - msg['y0'];\n",
       "    var x1 = msg['x1'];\n",
       "    var y1 = fig.canvas.height - msg['y1'];\n",
       "    x0 = Math.floor(x0) + 0.5;\n",
       "    y0 = Math.floor(y0) + 0.5;\n",
       "    x1 = Math.floor(x1) + 0.5;\n",
       "    y1 = Math.floor(y1) + 0.5;\n",
       "    var min_x = Math.min(x0, x1);\n",
       "    var min_y = Math.min(y0, y1);\n",
       "    var width = Math.abs(x1 - x0);\n",
       "    var height = Math.abs(y1 - y0);\n",
       "\n",
       "    fig.rubberband_context.clearRect(\n",
       "        0, 0, fig.canvas.width, fig.canvas.height);\n",
       "\n",
       "    fig.rubberband_context.strokeRect(min_x, min_y, width, height);\n",
       "}\n",
       "\n",
       "mpl.figure.prototype.handle_figure_label = function(fig, msg) {\n",
       "    // Updates the figure title.\n",
       "    fig.header.textContent = msg['label'];\n",
       "}\n",
       "\n",
       "mpl.figure.prototype.handle_cursor = function(fig, msg) {\n",
       "    var cursor = msg['cursor'];\n",
       "    switch(cursor)\n",
       "    {\n",
       "    case 0:\n",
       "        cursor = 'pointer';\n",
       "        break;\n",
       "    case 1:\n",
       "        cursor = 'default';\n",
       "        break;\n",
       "    case 2:\n",
       "        cursor = 'crosshair';\n",
       "        break;\n",
       "    case 3:\n",
       "        cursor = 'move';\n",
       "        break;\n",
       "    }\n",
       "    fig.rubberband_canvas.style.cursor = cursor;\n",
       "}\n",
       "\n",
       "mpl.figure.prototype.handle_message = function(fig, msg) {\n",
       "    fig.message.textContent = msg['message'];\n",
       "}\n",
       "\n",
       "mpl.figure.prototype.handle_draw = function(fig, msg) {\n",
       "    // Request the server to send over a new figure.\n",
       "    fig.send_draw_message();\n",
       "}\n",
       "\n",
       "mpl.figure.prototype.handle_image_mode = function(fig, msg) {\n",
       "    fig.image_mode = msg['mode'];\n",
       "}\n",
       "\n",
       "mpl.figure.prototype.updated_canvas_event = function() {\n",
       "    // Called whenever the canvas gets updated.\n",
       "    this.send_message(\"ack\", {});\n",
       "}\n",
       "\n",
       "// A function to construct a web socket function for onmessage handling.\n",
       "// Called in the figure constructor.\n",
       "mpl.figure.prototype._make_on_message_function = function(fig) {\n",
       "    return function socket_on_message(evt) {\n",
       "        if (evt.data instanceof Blob) {\n",
       "            /* FIXME: We get \"Resource interpreted as Image but\n",
       "             * transferred with MIME type text/plain:\" errors on\n",
       "             * Chrome.  But how to set the MIME type?  It doesn't seem\n",
       "             * to be part of the websocket stream */\n",
       "            evt.data.type = \"image/png\";\n",
       "\n",
       "            /* Free the memory for the previous frames */\n",
       "            if (fig.imageObj.src) {\n",
       "                (window.URL || window.webkitURL).revokeObjectURL(\n",
       "                    fig.imageObj.src);\n",
       "            }\n",
       "\n",
       "            fig.imageObj.src = (window.URL || window.webkitURL).createObjectURL(\n",
       "                evt.data);\n",
       "            fig.updated_canvas_event();\n",
       "            fig.waiting = false;\n",
       "            return;\n",
       "        }\n",
       "        else if (typeof evt.data === 'string' && evt.data.slice(0, 21) == \"data:image/png;base64\") {\n",
       "            fig.imageObj.src = evt.data;\n",
       "            fig.updated_canvas_event();\n",
       "            fig.waiting = false;\n",
       "            return;\n",
       "        }\n",
       "\n",
       "        var msg = JSON.parse(evt.data);\n",
       "        var msg_type = msg['type'];\n",
       "\n",
       "        // Call the  \"handle_{type}\" callback, which takes\n",
       "        // the figure and JSON message as its only arguments.\n",
       "        try {\n",
       "            var callback = fig[\"handle_\" + msg_type];\n",
       "        } catch (e) {\n",
       "            console.log(\"No handler for the '\" + msg_type + \"' message type: \", msg);\n",
       "            return;\n",
       "        }\n",
       "\n",
       "        if (callback) {\n",
       "            try {\n",
       "                // console.log(\"Handling '\" + msg_type + \"' message: \", msg);\n",
       "                callback(fig, msg);\n",
       "            } catch (e) {\n",
       "                console.log(\"Exception inside the 'handler_\" + msg_type + \"' callback:\", e, e.stack, msg);\n",
       "            }\n",
       "        }\n",
       "    };\n",
       "}\n",
       "\n",
       "// from http://stackoverflow.com/questions/1114465/getting-mouse-location-in-canvas\n",
       "mpl.findpos = function(e) {\n",
       "    //this section is from http://www.quirksmode.org/js/events_properties.html\n",
       "    var targ;\n",
       "    if (!e)\n",
       "        e = window.event;\n",
       "    if (e.target)\n",
       "        targ = e.target;\n",
       "    else if (e.srcElement)\n",
       "        targ = e.srcElement;\n",
       "    if (targ.nodeType == 3) // defeat Safari bug\n",
       "        targ = targ.parentNode;\n",
       "\n",
       "    // jQuery normalizes the pageX and pageY\n",
       "    // pageX,Y are the mouse positions relative to the document\n",
       "    // offset() returns the position of the element relative to the document\n",
       "    var x = e.pageX - $(targ).offset().left;\n",
       "    var y = e.pageY - $(targ).offset().top;\n",
       "\n",
       "    return {\"x\": x, \"y\": y};\n",
       "};\n",
       "\n",
       "/*\n",
       " * return a copy of an object with only non-object keys\n",
       " * we need this to avoid circular references\n",
       " * http://stackoverflow.com/a/24161582/3208463\n",
       " */\n",
       "function simpleKeys (original) {\n",
       "  return Object.keys(original).reduce(function (obj, key) {\n",
       "    if (typeof original[key] !== 'object')\n",
       "        obj[key] = original[key]\n",
       "    return obj;\n",
       "  }, {});\n",
       "}\n",
       "\n",
       "mpl.figure.prototype.mouse_event = function(event, name) {\n",
       "    var canvas_pos = mpl.findpos(event)\n",
       "\n",
       "    if (name === 'button_press')\n",
       "    {\n",
       "        this.canvas.focus();\n",
       "        this.canvas_div.focus();\n",
       "    }\n",
       "\n",
       "    var x = canvas_pos.x;\n",
       "    var y = canvas_pos.y;\n",
       "\n",
       "    this.send_message(name, {x: x, y: y, button: event.button,\n",
       "                             step: event.step,\n",
       "                             guiEvent: simpleKeys(event)});\n",
       "\n",
       "    /* This prevents the web browser from automatically changing to\n",
       "     * the text insertion cursor when the button is pressed.  We want\n",
       "     * to control all of the cursor setting manually through the\n",
       "     * 'cursor' event from matplotlib */\n",
       "    event.preventDefault();\n",
       "    return false;\n",
       "}\n",
       "\n",
       "mpl.figure.prototype._key_event_extra = function(event, name) {\n",
       "    // Handle any extra behaviour associated with a key event\n",
       "}\n",
       "\n",
       "mpl.figure.prototype.key_event = function(event, name) {\n",
       "\n",
       "    // Prevent repeat events\n",
       "    if (name == 'key_press')\n",
       "    {\n",
       "        if (event.which === this._key)\n",
       "            return;\n",
       "        else\n",
       "            this._key = event.which;\n",
       "    }\n",
       "    if (name == 'key_release')\n",
       "        this._key = null;\n",
       "\n",
       "    var value = '';\n",
       "    if (event.ctrlKey && event.which != 17)\n",
       "        value += \"ctrl+\";\n",
       "    if (event.altKey && event.which != 18)\n",
       "        value += \"alt+\";\n",
       "    if (event.shiftKey && event.which != 16)\n",
       "        value += \"shift+\";\n",
       "\n",
       "    value += 'k';\n",
       "    value += event.which.toString();\n",
       "\n",
       "    this._key_event_extra(event, name);\n",
       "\n",
       "    this.send_message(name, {key: value,\n",
       "                             guiEvent: simpleKeys(event)});\n",
       "    return false;\n",
       "}\n",
       "\n",
       "mpl.figure.prototype.toolbar_button_onclick = function(name) {\n",
       "    if (name == 'download') {\n",
       "        this.handle_save(this, null);\n",
       "    } else {\n",
       "        this.send_message(\"toolbar_button\", {name: name});\n",
       "    }\n",
       "};\n",
       "\n",
       "mpl.figure.prototype.toolbar_button_onmouseover = function(tooltip) {\n",
       "    this.message.textContent = tooltip;\n",
       "};\n",
       "mpl.toolbar_items = [[\"Home\", \"Reset original view\", \"fa fa-home icon-home\", \"home\"], [\"Back\", \"Back to  previous view\", \"fa fa-arrow-left icon-arrow-left\", \"back\"], [\"Forward\", \"Forward to next view\", \"fa fa-arrow-right icon-arrow-right\", \"forward\"], [\"\", \"\", \"\", \"\"], [\"Pan\", \"Pan axes with left mouse, zoom with right\", \"fa fa-arrows icon-move\", \"pan\"], [\"Zoom\", \"Zoom to rectangle\", \"fa fa-square-o icon-check-empty\", \"zoom\"], [\"\", \"\", \"\", \"\"], [\"Download\", \"Download plot\", \"fa fa-floppy-o icon-save\", \"download\"]];\n",
       "\n",
       "mpl.extensions = [\"eps\", \"jpeg\", \"pdf\", \"png\", \"ps\", \"raw\", \"svg\", \"tif\"];\n",
       "\n",
       "mpl.default_extension = \"png\";var comm_websocket_adapter = function(comm) {\n",
       "    // Create a \"websocket\"-like object which calls the given IPython comm\n",
       "    // object with the appropriate methods. Currently this is a non binary\n",
       "    // socket, so there is still some room for performance tuning.\n",
       "    var ws = {};\n",
       "\n",
       "    ws.close = function() {\n",
       "        comm.close()\n",
       "    };\n",
       "    ws.send = function(m) {\n",
       "        //console.log('sending', m);\n",
       "        comm.send(m);\n",
       "    };\n",
       "    // Register the callback with on_msg.\n",
       "    comm.on_msg(function(msg) {\n",
       "        //console.log('receiving', msg['content']['data'], msg);\n",
       "        // Pass the mpl event to the overriden (by mpl) onmessage function.\n",
       "        ws.onmessage(msg['content']['data'])\n",
       "    });\n",
       "    return ws;\n",
       "}\n",
       "\n",
       "mpl.mpl_figure_comm = function(comm, msg) {\n",
       "    // This is the function which gets called when the mpl process\n",
       "    // starts-up an IPython Comm through the \"matplotlib\" channel.\n",
       "\n",
       "    var id = msg.content.data.id;\n",
       "    // Get hold of the div created by the display call when the Comm\n",
       "    // socket was opened in Python.\n",
       "    var element = $(\"#\" + id);\n",
       "    var ws_proxy = comm_websocket_adapter(comm)\n",
       "\n",
       "    function ondownload(figure, format) {\n",
       "        window.open(figure.imageObj.src);\n",
       "    }\n",
       "\n",
       "    var fig = new mpl.figure(id, ws_proxy,\n",
       "                           ondownload,\n",
       "                           element.get(0));\n",
       "\n",
       "    // Call onopen now - mpl needs it, as it is assuming we've passed it a real\n",
       "    // web socket which is closed, not our websocket->open comm proxy.\n",
       "    ws_proxy.onopen();\n",
       "\n",
       "    fig.parent_element = element.get(0);\n",
       "    fig.cell_info = mpl.find_output_cell(\"<div id='\" + id + \"'></div>\");\n",
       "    if (!fig.cell_info) {\n",
       "        console.error(\"Failed to find cell for figure\", id, fig);\n",
       "        return;\n",
       "    }\n",
       "\n",
       "    var output_index = fig.cell_info[2]\n",
       "    var cell = fig.cell_info[0];\n",
       "\n",
       "};\n",
       "\n",
       "mpl.figure.prototype.handle_close = function(fig, msg) {\n",
       "    fig.root.unbind('remove')\n",
       "\n",
       "    // Update the output cell to use the data from the current canvas.\n",
       "    fig.push_to_output();\n",
       "    var dataURL = fig.canvas.toDataURL();\n",
       "    // Re-enable the keyboard manager in IPython - without this line, in FF,\n",
       "    // the notebook keyboard shortcuts fail.\n",
       "    IPython.keyboard_manager.enable()\n",
       "    $(fig.parent_element).html('<img src=\"' + dataURL + '\">');\n",
       "    fig.close_ws(fig, msg);\n",
       "}\n",
       "\n",
       "mpl.figure.prototype.close_ws = function(fig, msg){\n",
       "    fig.send_message('closing', msg);\n",
       "    // fig.ws.close()\n",
       "}\n",
       "\n",
       "mpl.figure.prototype.push_to_output = function(remove_interactive) {\n",
       "    // Turn the data on the canvas into data in the output cell.\n",
       "    var dataURL = this.canvas.toDataURL();\n",
       "    this.cell_info[1]['text/html'] = '<img src=\"' + dataURL + '\">';\n",
       "}\n",
       "\n",
       "mpl.figure.prototype.updated_canvas_event = function() {\n",
       "    // Tell IPython that the notebook contents must change.\n",
       "    IPython.notebook.set_dirty(true);\n",
       "    this.send_message(\"ack\", {});\n",
       "    var fig = this;\n",
       "    // Wait a second, then push the new image to the DOM so\n",
       "    // that it is saved nicely (might be nice to debounce this).\n",
       "    setTimeout(function () { fig.push_to_output() }, 1000);\n",
       "}\n",
       "\n",
       "mpl.figure.prototype._init_toolbar = function() {\n",
       "    var fig = this;\n",
       "\n",
       "    var nav_element = $('<div/>')\n",
       "    nav_element.attr('style', 'width: 100%');\n",
       "    this.root.append(nav_element);\n",
       "\n",
       "    // Define a callback function for later on.\n",
       "    function toolbar_event(event) {\n",
       "        return fig.toolbar_button_onclick(event['data']);\n",
       "    }\n",
       "    function toolbar_mouse_event(event) {\n",
       "        return fig.toolbar_button_onmouseover(event['data']);\n",
       "    }\n",
       "\n",
       "    for(var toolbar_ind in mpl.toolbar_items){\n",
       "        var name = mpl.toolbar_items[toolbar_ind][0];\n",
       "        var tooltip = mpl.toolbar_items[toolbar_ind][1];\n",
       "        var image = mpl.toolbar_items[toolbar_ind][2];\n",
       "        var method_name = mpl.toolbar_items[toolbar_ind][3];\n",
       "\n",
       "        if (!name) { continue; };\n",
       "\n",
       "        var button = $('<button class=\"btn btn-default\" href=\"#\" title=\"' + name + '\"><i class=\"fa ' + image + ' fa-lg\"></i></button>');\n",
       "        button.click(method_name, toolbar_event);\n",
       "        button.mouseover(tooltip, toolbar_mouse_event);\n",
       "        nav_element.append(button);\n",
       "    }\n",
       "\n",
       "    // Add the status bar.\n",
       "    var status_bar = $('<span class=\"mpl-message\" style=\"text-align:right; float: right;\"/>');\n",
       "    nav_element.append(status_bar);\n",
       "    this.message = status_bar[0];\n",
       "\n",
       "    // Add the close button to the window.\n",
       "    var buttongrp = $('<div class=\"btn-group inline pull-right\"></div>');\n",
       "    var button = $('<button class=\"btn btn-mini btn-primary\" href=\"#\" title=\"Stop Interaction\"><i class=\"fa fa-power-off icon-remove icon-large\"></i></button>');\n",
       "    button.click(function (evt) { fig.handle_close(fig, {}); } );\n",
       "    button.mouseover('Stop Interaction', toolbar_mouse_event);\n",
       "    buttongrp.append(button);\n",
       "    var titlebar = this.root.find($('.ui-dialog-titlebar'));\n",
       "    titlebar.prepend(buttongrp);\n",
       "}\n",
       "\n",
       "mpl.figure.prototype._root_extra_style = function(el){\n",
       "    var fig = this\n",
       "    el.on(\"remove\", function(){\n",
       "\tfig.close_ws(fig, {});\n",
       "    });\n",
       "}\n",
       "\n",
       "mpl.figure.prototype._canvas_extra_style = function(el){\n",
       "    // this is important to make the div 'focusable\n",
       "    el.attr('tabindex', 0)\n",
       "    // reach out to IPython and tell the keyboard manager to turn it's self\n",
       "    // off when our div gets focus\n",
       "\n",
       "    // location in version 3\n",
       "    if (IPython.notebook.keyboard_manager) {\n",
       "        IPython.notebook.keyboard_manager.register_events(el);\n",
       "    }\n",
       "    else {\n",
       "        // location in version 2\n",
       "        IPython.keyboard_manager.register_events(el);\n",
       "    }\n",
       "\n",
       "}\n",
       "\n",
       "mpl.figure.prototype._key_event_extra = function(event, name) {\n",
       "    var manager = IPython.notebook.keyboard_manager;\n",
       "    if (!manager)\n",
       "        manager = IPython.keyboard_manager;\n",
       "\n",
       "    // Check for shift+enter\n",
       "    if (event.shiftKey && event.which == 13) {\n",
       "        this.canvas_div.blur();\n",
       "        event.shiftKey = false;\n",
       "        // Send a \"J\" for go to next cell\n",
       "        event.which = 74;\n",
       "        event.keyCode = 74;\n",
       "        manager.command_mode();\n",
       "        manager.handle_keydown(event);\n",
       "    }\n",
       "}\n",
       "\n",
       "mpl.figure.prototype.handle_save = function(fig, msg) {\n",
       "    fig.ondownload(fig, null);\n",
       "}\n",
       "\n",
       "\n",
       "mpl.find_output_cell = function(html_output) {\n",
       "    // Return the cell and output element which can be found *uniquely* in the notebook.\n",
       "    // Note - this is a bit hacky, but it is done because the \"notebook_saving.Notebook\"\n",
       "    // IPython event is triggered only after the cells have been serialised, which for\n",
       "    // our purposes (turning an active figure into a static one), is too late.\n",
       "    var cells = IPython.notebook.get_cells();\n",
       "    var ncells = cells.length;\n",
       "    for (var i=0; i<ncells; i++) {\n",
       "        var cell = cells[i];\n",
       "        if (cell.cell_type === 'code'){\n",
       "            for (var j=0; j<cell.output_area.outputs.length; j++) {\n",
       "                var data = cell.output_area.outputs[j];\n",
       "                if (data.data) {\n",
       "                    // IPython >= 3 moved mimebundle to data attribute of output\n",
       "                    data = data.data;\n",
       "                }\n",
       "                if (data['text/html'] == html_output) {\n",
       "                    return [cell, data, j];\n",
       "                }\n",
       "            }\n",
       "        }\n",
       "    }\n",
       "}\n",
       "\n",
       "// Register the function which deals with the matplotlib target/channel.\n",
       "// The kernel may be null if the page has been refreshed.\n",
       "if (IPython.notebook.kernel != null) {\n",
       "    IPython.notebook.kernel.comm_manager.register_target('matplotlib', mpl.mpl_figure_comm);\n",
       "}\n"
      ],
      "text/plain": [
       "<IPython.core.display.Javascript object>"
      ]
     },
     "metadata": {},
     "output_type": "display_data"
    },
    {
     "data": {
      "text/html": [
       "<img src=\"data:image/png;base64,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\">"
      ],
      "text/plain": [
       "<IPython.core.display.HTML object>"
      ]
     },
     "metadata": {},
     "output_type": "display_data"
    }
   ],
   "source": [
    "fig, ax = plt.subplots()\n",
    "plot_fit(fig, ax)"
   ]
  },
  {
   "cell_type": "markdown",
   "metadata": {},
   "source": [
    "## fit"
   ]
  },
  {
   "cell_type": "code",
   "execution_count": null,
   "metadata": {
    "collapsed": false
   },
   "outputs": [],
   "source": [
    "myoptimizer = opt.ScipyOptimizer(batch)\n",
    "# CAUTION: scipy args needs to be tuple in order to work as expected!\n",
    "myoptimizer.optimize(\n",
    "    model, args=(targets,),\n",
    "    method=\"Newton-CG\",\n",
    "    options={'maxiter':100, 'disp':True},\n",
    "    callback=lambda x: plot_fit(fig, ax)\n",
    ")"
   ]
  },
  {
   "cell_type": "code",
   "execution_count": null,
   "metadata": {
    "collapsed": false
   },
   "outputs": [],
   "source": [
    "print model.var_from_Var(model._Var.get_value(), module=np)\n",
    "print model.mean.get_value()"
   ]
  },
  {
   "cell_type": "markdown",
   "metadata": {},
   "source": [
    "## Evaluation - TODO\n",
    "\n",
    "sometimes the above optimizer first overshoots the variance along x1 extremely (if the initial means are farer away, it is even worse).\n",
    "The resulting errors are either precision loss, or var[1] = inf. (tested on default optimizer BFGS)\n",
    "\n",
    "\n",
    "If I try the algorithms online, they almost immediately stop with precision loss ('Nelder-Mead' method does something, however needs extremely long and the variances are also not well approximated)."
   ]
  },
  {
   "cell_type": "markdown",
   "metadata": {},
   "source": [
    "# Uniform Distribution"
   ]
  },
  {
   "cell_type": "markdown",
   "metadata": {},
   "source": [
    "## model"
   ]
  },
  {
   "cell_type": "code",
   "execution_count": null,
   "metadata": {
    "collapsed": false
   },
   "outputs": [],
   "source": [
    "model = pm.Uniform(size=2)\n",
    "m_sampler = model.function()"
   ]
  },
  {
   "cell_type": "markdown",
   "metadata": {},
   "source": [
    "## target"
   ]
  },
  {
   "cell_type": "code",
   "execution_count": null,
   "metadata": {
    "collapsed": false
   },
   "outputs": [],
   "source": [
    "target = pm.Uniform(init_start=[1,4], init_offset=[2,1])\n",
    "t_sampler = target.function()\n",
    "t_sampler()"
   ]
  },
  {
   "cell_type": "code",
   "execution_count": null,
   "metadata": {
    "collapsed": false
   },
   "outputs": [],
   "source": [
    "n_samples = 400\n",
    "targets = np.array([t_sampler() for _ in xrange(n_samples)])"
   ]
  },
  {
   "cell_type": "code",
   "execution_count": null,
   "metadata": {
    "collapsed": false
   },
   "outputs": [],
   "source": [
    "targets[:10]"
   ]
  },
  {
   "cell_type": "markdown",
   "metadata": {},
   "source": [
    "## visualize"
   ]
  },
  {
   "cell_type": "code",
   "execution_count": null,
   "metadata": {
    "collapsed": true
   },
   "outputs": [],
   "source": [
    "def plot_fit(fig, ax, time_delay=0.1):\n",
    "    ax.clear()\n",
    "    \n",
    "    # targets\n",
    "    ax.plot(targets[:,0], targets[:,1], \"k.\")\n",
    "    \n",
    "    # model\n",
    "    model_samples = np.array([m_sampler() for _ in xrange(n_samples)])\n",
    "    ax.plot(model_samples[:,0], model_samples[:,1], \"r.\")\n",
    "    fig.canvas.draw()\n",
    "    time.sleep(time_delay)"
   ]
  },
  {
   "cell_type": "code",
   "execution_count": null,
   "metadata": {
    "collapsed": false
   },
   "outputs": [],
   "source": [
    "fig, ax = plt.subplots()\n",
    "plot_fit(fig, ax)"
   ]
  },
  {
   "cell_type": "markdown",
   "metadata": {},
   "source": [
    "## fit"
   ]
  },
  {
   "cell_type": "code",
   "execution_count": null,
   "metadata": {
    "collapsed": false
   },
   "outputs": [],
   "source": [
    "myoptimizer = opt.ScipyOptimizer(batch)\n",
    "# CAUTION: scipy args needs to be tuple in order to work as expected!\n",
    "myoptimizer.optimize(\n",
    "    model, args=(targets,),\n",
    "#     method=\"Newton-CG\",\n",
    "    options={'maxiter':100, 'disp':True},\n",
    "    callback=lambda x: plot_fit(fig, ax)\n",
    ")"
   ]
  },
  {
   "cell_type": "markdown",
   "metadata": {},
   "source": [
    "TODO this does not work. Check whether the gradient is the reason (there is no gradient of the step probability function)."
   ]
  },
  {
   "cell_type": "markdown",
   "metadata": {},
   "source": [
    "# test scipy minimize"
   ]
  },
  {
   "cell_type": "markdown",
   "metadata": {},
   "source": [
    "Just to be sure that everything is as thought"
   ]
  },
  {
   "cell_type": "code",
   "execution_count": null,
   "metadata": {
    "collapsed": true
   },
   "outputs": [],
   "source": [
    "from scipy.optimize import minimize"
   ]
  },
  {
   "cell_type": "code",
   "execution_count": null,
   "metadata": {
    "collapsed": false
   },
   "outputs": [],
   "source": [
    "def mse(a, *args, **kwargs):\n",
    "    aim = kwargs.pop('aim', np.array([42,3]))\n",
    "    print args\n",
    "    return np.sum((a - aim)**2)"
   ]
  },
  {
   "cell_type": "code",
   "execution_count": null,
   "metadata": {
    "collapsed": false
   },
   "outputs": [],
   "source": [
    "minimize(fun=mse, x0=np.array([1,-4]), args=[1,2], options={'maxiter': 10, 'disp': True})"
   ]
  },
  {
   "cell_type": "markdown",
   "metadata": {},
   "source": [
    "works"
   ]
  }
 ],
 "metadata": {
  "kernelspec": {
   "display_name": "Python 2",
   "language": "python",
   "name": "python2"
  },
  "language_info": {
   "codemirror_mode": {
    "name": "ipython",
    "version": 2
   },
   "file_extension": ".py",
   "mimetype": "text/x-python",
   "name": "python",
   "nbconvert_exporter": "python",
   "pygments_lexer": "ipython2",
   "version": "2.7.6"
  },
  "toc": {
   "toc_cell": false,
   "toc_number_sections": true,
   "toc_threshold": 4,
   "toc_window_display": false
  }
 },
 "nbformat": 4,
 "nbformat_minor": 0
}
