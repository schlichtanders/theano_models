{
 "cells": [
  {
   "cell_type": "code",
   "execution_count": 1,
   "metadata": {
    "collapsed": false
   },
   "outputs": [
    {
     "name": "stderr",
     "output_type": "stream",
     "text": [
      "/usr/local/lib/python2.7/dist-packages/matplotlib/font_manager.py:273: UserWarning: Matplotlib is building the font cache using fc-list. This may take a moment.\n",
      "  warnings.warn('Matplotlib is building the font cache using fc-list. This may take a moment.')\n"
     ]
    }
   ],
   "source": [
    "%matplotlib notebook"
   ]
  },
  {
   "cell_type": "code",
   "execution_count": 2,
   "metadata": {
    "collapsed": false
   },
   "outputs": [
    {
     "name": "stdout",
     "output_type": "stream",
     "text": [
      "gnumpy: failed to import cudamat. Using npmat instead. No GPU will be used.\n"
     ]
    }
   ],
   "source": [
    "import theano\n",
    "import theano.tensor as T\n",
    "import numpy as np\n",
    "import matplotlib.pyplot as plt\n",
    "from matplotlib.patches import Ellipse\n",
    "import time\n",
    "from scipy.optimize import minimize\n",
    "from climin.util import optimizer"
   ]
  },
  {
   "cell_type": "code",
   "execution_count": 3,
   "metadata": {
    "collapsed": true
   },
   "outputs": [],
   "source": [
    "from schlichtanders.myoptimizers import online, batch\n",
    "from schlichtanders.myfunctools import compose"
   ]
  },
  {
   "cell_type": "code",
   "execution_count": 4,
   "metadata": {
    "collapsed": false
   },
   "outputs": [],
   "source": [
    "from theano_models import flatten_parameters, reparameterize_map\n",
    "\n",
    "from theano_models.util import shared, softplus, softplus_inv, total_size\n",
    "\n",
    "from theano_models.postmaps import scipy_postmap, climin_postmap, numericalize_postmap\n",
    "\n",
    "import theano_models.probabilistic_models as pm\n",
    "import theano_models.deterministic_models as dm"
   ]
  },
  {
   "cell_type": "markdown",
   "metadata": {},
   "source": [
    "# Testing Gauss Distribution"
   ]
  },
  {
   "cell_type": "markdown",
   "metadata": {},
   "source": [
    "For this test we simply try to approximate a diagonal gaussian distribution to given gaussian samples."
   ]
  },
  {
   "cell_type": "markdown",
   "metadata": {},
   "source": [
    "## model"
   ]
  },
  {
   "cell_type": "code",
   "execution_count": 5,
   "metadata": {
    "collapsed": false
   },
   "outputs": [
    {
     "data": {
      "text/plain": [
       "{ 'RV': Elemwise{add,no_inplace}.0,\n",
       "  'inputs': [],\n",
       "  'logP': <function <lambda> at 0x7f33a8653c80>,\n",
       "  'outputs': Elemwise{add,no_inplace}.0,\n",
       "  'parameters': [mean],\n",
       "  'parameters_positive': [var]}"
      ]
     },
     "execution_count": 5,
     "metadata": {},
     "output_type": "execute_result"
    }
   ],
   "source": [
    "size = 2\n",
    "model = pm.DiagGauss(size)\n",
    "model.add_postmap(numericalize_postmap)\n",
    "model"
   ]
  },
  {
   "cell_type": "code",
   "execution_count": 6,
   "metadata": {
    "collapsed": false
   },
   "outputs": [
    {
     "data": {
      "text/plain": [
       "{ 'RV': Elemwise{add,no_inplace}.0,\n",
       "  'inputs': [],\n",
       "  'logP': <function <lambda> at 0x7f33a8653c80>,\n",
       "  'outputs': Elemwise{add,no_inplace}.0,\n",
       "  'parameters': [mean, var_softplus],\n",
       "  'parameters_positive': [var]}"
      ]
     },
     "execution_count": 6,
     "metadata": {},
     "output_type": "execute_result"
    }
   ],
   "source": [
    "model.map('parameters_positive', reparameterize_map(softplus, softplus_inv), \"parameters\")\n",
    "model"
   ]
  },
  {
   "cell_type": "code",
   "execution_count": 7,
   "metadata": {
    "collapsed": false
   },
   "outputs": [
    {
     "data": {
      "text/plain": [
       "{ 'RV': Elemwise{add,no_inplace}.0,\n",
       "  'inputs': [],\n",
       "  'logP': <function <lambda> at 0x7f33a8653c80>,\n",
       "  'outputs': Elemwise{add,no_inplace}.0,\n",
       "  'parameters': [mean:var_softplus],\n",
       "  'parameters_positive': [var]}"
      ]
     },
     "execution_count": 7,
     "metadata": {},
     "output_type": "execute_result"
    }
   ],
   "source": [
    "flatten_parameters(model)\n",
    "model"
   ]
  },
  {
   "cell_type": "markdown",
   "metadata": {},
   "source": [
    "## target"
   ]
  },
  {
   "cell_type": "code",
   "execution_count": 8,
   "metadata": {
    "collapsed": false
   },
   "outputs": [],
   "source": [
    "target = pm.DiagGauss(init_mean=[4,10], init_var=[0.5,2])"
   ]
  },
  {
   "cell_type": "code",
   "execution_count": 9,
   "metadata": {
    "collapsed": false
   },
   "outputs": [
    {
     "data": {
      "text/plain": [
       "array([  3.68203975,  13.34169655])"
      ]
     },
     "execution_count": 9,
     "metadata": {},
     "output_type": "execute_result"
    }
   ],
   "source": [
    "sampler = target.function()\n",
    "sampler()"
   ]
  },
  {
   "cell_type": "code",
   "execution_count": 10,
   "metadata": {
    "collapsed": false
   },
   "outputs": [],
   "source": [
    "n_samples = 400\n",
    "targets = np.array([sampler() for _ in xrange(n_samples)])"
   ]
  },
  {
   "cell_type": "markdown",
   "metadata": {},
   "source": [
    "## visualization"
   ]
  },
  {
   "cell_type": "code",
   "execution_count": 11,
   "metadata": {
    "collapsed": true
   },
   "outputs": [],
   "source": [
    "def plot_fit(fig, ax, time_delay=0.1):\n",
    "    \"\"\" interactive plot of model fit\n",
    "    \n",
    "    Plots target data set as well as two Ellipse around target and model mean with width/height = 2* respective\n",
    "    standard deviation.\n",
    "    \"\"\"\n",
    "    ax.clear()\n",
    "    ax.set_xlabel(\"x0\")\n",
    "    ax.set_ylabel(\"x1\")\n",
    "    \n",
    "    # plot data\n",
    "    # ---------\n",
    "    ax.plot(targets[:,0], targets[:,1], 'k.')\n",
    "    \n",
    "    # plot target\n",
    "    # -----------\n",
    "    target_mean = target.mean.eval()\n",
    "    target_var = target.var.eval()\n",
    "    \n",
    "    # Ellipse\n",
    "    e = Ellipse(target_mean, width=2*np.sqrt(target_var[0]), height=2*np.sqrt(target_var[1]))\n",
    "    e.set_clip_box(ax.bbox)\n",
    "    e.set_alpha(0.1)\n",
    "    e.set_facecolor([1, 0.1, 0.1])\n",
    "    ax.add_patch(e)\n",
    "\n",
    "    # plot model\n",
    "    # -----------\n",
    "    model_mean = model.mean.eval()\n",
    "    model_var = model.var.eval()\n",
    "    # text\n",
    "    ax.text(0.1, 0.2, 'm=%g,%g' % tuple(model_mean),\n",
    "            verticalalignment='bottom', horizontalalignment='left',\n",
    "            transform=ax.transAxes)\n",
    "    ax.text(0.1, 0.1, 'v=%g,%g' % tuple(model_var),\n",
    "            verticalalignment='bottom', horizontalalignment='left',\n",
    "            transform=ax.transAxes)\n",
    "    # Ellipse\n",
    "    e = Ellipse(model_mean, width=2*np.sqrt(model_var[0]), height=2*np.sqrt(model_var[1]))\n",
    "    e.set_clip_box(ax.bbox)\n",
    "    e.set_alpha(0.2)\n",
    "    e.set_facecolor([0.1, 0.2, 0.4])\n",
    "    ax.add_patch(e)\n",
    "    # Point  # we need to add a normal plot, as then the axis adjust automatically\n",
    "    ax.plot(model_mean[0], model_mean[1], '+', color=[0.1, 0.2, 0.4], markersize=10)\n",
    "    \n",
    "    # interactively redraw\n",
    "    # --------------------\n",
    "    fig.canvas.draw()\n",
    "    time.sleep(time_delay) # just because the fit is to fast otherwise"
   ]
  },
  {
   "cell_type": "code",
   "execution_count": 12,
   "metadata": {
    "collapsed": false
   },
   "outputs": [
    {
     "data": {
      "application/javascript": [
       "/* Put everything inside the global mpl namespace */\n",
       "window.mpl = {};\n",
       "\n",
       "mpl.get_websocket_type = function() {\n",
       "    if (typeof(WebSocket) !== 'undefined') {\n",
       "        return WebSocket;\n",
       "    } else if (typeof(MozWebSocket) !== 'undefined') {\n",
       "        return MozWebSocket;\n",
       "    } else {\n",
       "        alert('Your browser does not have WebSocket support.' +\n",
       "              'Please try Chrome, Safari or Firefox ≥ 6. ' +\n",
       "              'Firefox 4 and 5 are also supported but you ' +\n",
       "              'have to enable WebSockets in about:config.');\n",
       "    };\n",
       "}\n",
       "\n",
       "mpl.figure = function(figure_id, websocket, ondownload, parent_element) {\n",
       "    this.id = figure_id;\n",
       "\n",
       "    this.ws = websocket;\n",
       "\n",
       "    this.supports_binary = (this.ws.binaryType != undefined);\n",
       "\n",
       "    if (!this.supports_binary) {\n",
       "        var warnings = document.getElementById(\"mpl-warnings\");\n",
       "        if (warnings) {\n",
       "            warnings.style.display = 'block';\n",
       "            warnings.textContent = (\n",
       "                \"This browser does not support binary websocket messages. \" +\n",
       "                    \"Performance may be slow.\");\n",
       "        }\n",
       "    }\n",
       "\n",
       "    this.imageObj = new Image();\n",
       "\n",
       "    this.context = undefined;\n",
       "    this.message = undefined;\n",
       "    this.canvas = undefined;\n",
       "    this.rubberband_canvas = undefined;\n",
       "    this.rubberband_context = undefined;\n",
       "    this.format_dropdown = undefined;\n",
       "\n",
       "    this.image_mode = 'full';\n",
       "\n",
       "    this.root = $('<div/>');\n",
       "    this._root_extra_style(this.root)\n",
       "    this.root.attr('style', 'display: inline-block');\n",
       "\n",
       "    $(parent_element).append(this.root);\n",
       "\n",
       "    this._init_header(this);\n",
       "    this._init_canvas(this);\n",
       "    this._init_toolbar(this);\n",
       "\n",
       "    var fig = this;\n",
       "\n",
       "    this.waiting = false;\n",
       "\n",
       "    this.ws.onopen =  function () {\n",
       "            fig.send_message(\"supports_binary\", {value: fig.supports_binary});\n",
       "            fig.send_message(\"send_image_mode\", {});\n",
       "            fig.send_message(\"refresh\", {});\n",
       "        }\n",
       "\n",
       "    this.imageObj.onload = function() {\n",
       "            if (fig.image_mode == 'full') {\n",
       "                // Full images could contain transparency (where diff images\n",
       "                // almost always do), so we need to clear the canvas so that\n",
       "                // there is no ghosting.\n",
       "                fig.context.clearRect(0, 0, fig.canvas.width, fig.canvas.height);\n",
       "            }\n",
       "            fig.context.drawImage(fig.imageObj, 0, 0);\n",
       "        };\n",
       "\n",
       "    this.imageObj.onunload = function() {\n",
       "        this.ws.close();\n",
       "    }\n",
       "\n",
       "    this.ws.onmessage = this._make_on_message_function(this);\n",
       "\n",
       "    this.ondownload = ondownload;\n",
       "}\n",
       "\n",
       "mpl.figure.prototype._init_header = function() {\n",
       "    var titlebar = $(\n",
       "        '<div class=\"ui-dialog-titlebar ui-widget-header ui-corner-all ' +\n",
       "        'ui-helper-clearfix\"/>');\n",
       "    var titletext = $(\n",
       "        '<div class=\"ui-dialog-title\" style=\"width: 100%; ' +\n",
       "        'text-align: center; padding: 3px;\"/>');\n",
       "    titlebar.append(titletext)\n",
       "    this.root.append(titlebar);\n",
       "    this.header = titletext[0];\n",
       "}\n",
       "\n",
       "\n",
       "\n",
       "mpl.figure.prototype._canvas_extra_style = function(canvas_div) {\n",
       "\n",
       "}\n",
       "\n",
       "\n",
       "mpl.figure.prototype._root_extra_style = function(canvas_div) {\n",
       "\n",
       "}\n",
       "\n",
       "mpl.figure.prototype._init_canvas = function() {\n",
       "    var fig = this;\n",
       "\n",
       "    var canvas_div = $('<div/>');\n",
       "\n",
       "    canvas_div.attr('style', 'position: relative; clear: both; outline: 0');\n",
       "\n",
       "    function canvas_keyboard_event(event) {\n",
       "        return fig.key_event(event, event['data']);\n",
       "    }\n",
       "\n",
       "    canvas_div.keydown('key_press', canvas_keyboard_event);\n",
       "    canvas_div.keyup('key_release', canvas_keyboard_event);\n",
       "    this.canvas_div = canvas_div\n",
       "    this._canvas_extra_style(canvas_div)\n",
       "    this.root.append(canvas_div);\n",
       "\n",
       "    var canvas = $('<canvas/>');\n",
       "    canvas.addClass('mpl-canvas');\n",
       "    canvas.attr('style', \"left: 0; top: 0; z-index: 0; outline: 0\")\n",
       "\n",
       "    this.canvas = canvas[0];\n",
       "    this.context = canvas[0].getContext(\"2d\");\n",
       "\n",
       "    var rubberband = $('<canvas/>');\n",
       "    rubberband.attr('style', \"position: absolute; left: 0; top: 0; z-index: 1;\")\n",
       "\n",
       "    var pass_mouse_events = true;\n",
       "\n",
       "    canvas_div.resizable({\n",
       "        start: function(event, ui) {\n",
       "            pass_mouse_events = false;\n",
       "        },\n",
       "        resize: function(event, ui) {\n",
       "            fig.request_resize(ui.size.width, ui.size.height);\n",
       "        },\n",
       "        stop: function(event, ui) {\n",
       "            pass_mouse_events = true;\n",
       "            fig.request_resize(ui.size.width, ui.size.height);\n",
       "        },\n",
       "    });\n",
       "\n",
       "    function mouse_event_fn(event) {\n",
       "        if (pass_mouse_events)\n",
       "            return fig.mouse_event(event, event['data']);\n",
       "    }\n",
       "\n",
       "    rubberband.mousedown('button_press', mouse_event_fn);\n",
       "    rubberband.mouseup('button_release', mouse_event_fn);\n",
       "    // Throttle sequential mouse events to 1 every 20ms.\n",
       "    rubberband.mousemove('motion_notify', mouse_event_fn);\n",
       "\n",
       "    rubberband.mouseenter('figure_enter', mouse_event_fn);\n",
       "    rubberband.mouseleave('figure_leave', mouse_event_fn);\n",
       "\n",
       "    canvas_div.on(\"wheel\", function (event) {\n",
       "        event = event.originalEvent;\n",
       "        event['data'] = 'scroll'\n",
       "        if (event.deltaY < 0) {\n",
       "            event.step = 1;\n",
       "        } else {\n",
       "            event.step = -1;\n",
       "        }\n",
       "        mouse_event_fn(event);\n",
       "    });\n",
       "\n",
       "    canvas_div.append(canvas);\n",
       "    canvas_div.append(rubberband);\n",
       "\n",
       "    this.rubberband = rubberband;\n",
       "    this.rubberband_canvas = rubberband[0];\n",
       "    this.rubberband_context = rubberband[0].getContext(\"2d\");\n",
       "    this.rubberband_context.strokeStyle = \"#000000\";\n",
       "\n",
       "    this._resize_canvas = function(width, height) {\n",
       "        // Keep the size of the canvas, canvas container, and rubber band\n",
       "        // canvas in synch.\n",
       "        canvas_div.css('width', width)\n",
       "        canvas_div.css('height', height)\n",
       "\n",
       "        canvas.attr('width', width);\n",
       "        canvas.attr('height', height);\n",
       "\n",
       "        rubberband.attr('width', width);\n",
       "        rubberband.attr('height', height);\n",
       "    }\n",
       "\n",
       "    // Set the figure to an initial 600x600px, this will subsequently be updated\n",
       "    // upon first draw.\n",
       "    this._resize_canvas(600, 600);\n",
       "\n",
       "    // Disable right mouse context menu.\n",
       "    $(this.rubberband_canvas).bind(\"contextmenu\",function(e){\n",
       "        return false;\n",
       "    });\n",
       "\n",
       "    function set_focus () {\n",
       "        canvas.focus();\n",
       "        canvas_div.focus();\n",
       "    }\n",
       "\n",
       "    window.setTimeout(set_focus, 100);\n",
       "}\n",
       "\n",
       "mpl.figure.prototype._init_toolbar = function() {\n",
       "    var fig = this;\n",
       "\n",
       "    var nav_element = $('<div/>')\n",
       "    nav_element.attr('style', 'width: 100%');\n",
       "    this.root.append(nav_element);\n",
       "\n",
       "    // Define a callback function for later on.\n",
       "    function toolbar_event(event) {\n",
       "        return fig.toolbar_button_onclick(event['data']);\n",
       "    }\n",
       "    function toolbar_mouse_event(event) {\n",
       "        return fig.toolbar_button_onmouseover(event['data']);\n",
       "    }\n",
       "\n",
       "    for(var toolbar_ind in mpl.toolbar_items) {\n",
       "        var name = mpl.toolbar_items[toolbar_ind][0];\n",
       "        var tooltip = mpl.toolbar_items[toolbar_ind][1];\n",
       "        var image = mpl.toolbar_items[toolbar_ind][2];\n",
       "        var method_name = mpl.toolbar_items[toolbar_ind][3];\n",
       "\n",
       "        if (!name) {\n",
       "            // put a spacer in here.\n",
       "            continue;\n",
       "        }\n",
       "        var button = $('<button/>');\n",
       "        button.addClass('ui-button ui-widget ui-state-default ui-corner-all ' +\n",
       "                        'ui-button-icon-only');\n",
       "        button.attr('role', 'button');\n",
       "        button.attr('aria-disabled', 'false');\n",
       "        button.click(method_name, toolbar_event);\n",
       "        button.mouseover(tooltip, toolbar_mouse_event);\n",
       "\n",
       "        var icon_img = $('<span/>');\n",
       "        icon_img.addClass('ui-button-icon-primary ui-icon');\n",
       "        icon_img.addClass(image);\n",
       "        icon_img.addClass('ui-corner-all');\n",
       "\n",
       "        var tooltip_span = $('<span/>');\n",
       "        tooltip_span.addClass('ui-button-text');\n",
       "        tooltip_span.html(tooltip);\n",
       "\n",
       "        button.append(icon_img);\n",
       "        button.append(tooltip_span);\n",
       "\n",
       "        nav_element.append(button);\n",
       "    }\n",
       "\n",
       "    var fmt_picker_span = $('<span/>');\n",
       "\n",
       "    var fmt_picker = $('<select/>');\n",
       "    fmt_picker.addClass('mpl-toolbar-option ui-widget ui-widget-content');\n",
       "    fmt_picker_span.append(fmt_picker);\n",
       "    nav_element.append(fmt_picker_span);\n",
       "    this.format_dropdown = fmt_picker[0];\n",
       "\n",
       "    for (var ind in mpl.extensions) {\n",
       "        var fmt = mpl.extensions[ind];\n",
       "        var option = $(\n",
       "            '<option/>', {selected: fmt === mpl.default_extension}).html(fmt);\n",
       "        fmt_picker.append(option)\n",
       "    }\n",
       "\n",
       "    // Add hover states to the ui-buttons\n",
       "    $( \".ui-button\" ).hover(\n",
       "        function() { $(this).addClass(\"ui-state-hover\");},\n",
       "        function() { $(this).removeClass(\"ui-state-hover\");}\n",
       "    );\n",
       "\n",
       "    var status_bar = $('<span class=\"mpl-message\"/>');\n",
       "    nav_element.append(status_bar);\n",
       "    this.message = status_bar[0];\n",
       "}\n",
       "\n",
       "mpl.figure.prototype.request_resize = function(x_pixels, y_pixels) {\n",
       "    // Request matplotlib to resize the figure. Matplotlib will then trigger a resize in the client,\n",
       "    // which will in turn request a refresh of the image.\n",
       "    this.send_message('resize', {'width': x_pixels, 'height': y_pixels});\n",
       "}\n",
       "\n",
       "mpl.figure.prototype.send_message = function(type, properties) {\n",
       "    properties['type'] = type;\n",
       "    properties['figure_id'] = this.id;\n",
       "    this.ws.send(JSON.stringify(properties));\n",
       "}\n",
       "\n",
       "mpl.figure.prototype.send_draw_message = function() {\n",
       "    if (!this.waiting) {\n",
       "        this.waiting = true;\n",
       "        this.ws.send(JSON.stringify({type: \"draw\", figure_id: this.id}));\n",
       "    }\n",
       "}\n",
       "\n",
       "\n",
       "mpl.figure.prototype.handle_save = function(fig, msg) {\n",
       "    var format_dropdown = fig.format_dropdown;\n",
       "    var format = format_dropdown.options[format_dropdown.selectedIndex].value;\n",
       "    fig.ondownload(fig, format);\n",
       "}\n",
       "\n",
       "\n",
       "mpl.figure.prototype.handle_resize = function(fig, msg) {\n",
       "    var size = msg['size'];\n",
       "    if (size[0] != fig.canvas.width || size[1] != fig.canvas.height) {\n",
       "        fig._resize_canvas(size[0], size[1]);\n",
       "        fig.send_message(\"refresh\", {});\n",
       "    };\n",
       "}\n",
       "\n",
       "mpl.figure.prototype.handle_rubberband = function(fig, msg) {\n",
       "    var x0 = msg['x0'];\n",
       "    var y0 = fig.canvas.height - msg['y0'];\n",
       "    var x1 = msg['x1'];\n",
       "    var y1 = fig.canvas.height - msg['y1'];\n",
       "    x0 = Math.floor(x0) + 0.5;\n",
       "    y0 = Math.floor(y0) + 0.5;\n",
       "    x1 = Math.floor(x1) + 0.5;\n",
       "    y1 = Math.floor(y1) + 0.5;\n",
       "    var min_x = Math.min(x0, x1);\n",
       "    var min_y = Math.min(y0, y1);\n",
       "    var width = Math.abs(x1 - x0);\n",
       "    var height = Math.abs(y1 - y0);\n",
       "\n",
       "    fig.rubberband_context.clearRect(\n",
       "        0, 0, fig.canvas.width, fig.canvas.height);\n",
       "\n",
       "    fig.rubberband_context.strokeRect(min_x, min_y, width, height);\n",
       "}\n",
       "\n",
       "mpl.figure.prototype.handle_figure_label = function(fig, msg) {\n",
       "    // Updates the figure title.\n",
       "    fig.header.textContent = msg['label'];\n",
       "}\n",
       "\n",
       "mpl.figure.prototype.handle_cursor = function(fig, msg) {\n",
       "    var cursor = msg['cursor'];\n",
       "    switch(cursor)\n",
       "    {\n",
       "    case 0:\n",
       "        cursor = 'pointer';\n",
       "        break;\n",
       "    case 1:\n",
       "        cursor = 'default';\n",
       "        break;\n",
       "    case 2:\n",
       "        cursor = 'crosshair';\n",
       "        break;\n",
       "    case 3:\n",
       "        cursor = 'move';\n",
       "        break;\n",
       "    }\n",
       "    fig.rubberband_canvas.style.cursor = cursor;\n",
       "}\n",
       "\n",
       "mpl.figure.prototype.handle_message = function(fig, msg) {\n",
       "    fig.message.textContent = msg['message'];\n",
       "}\n",
       "\n",
       "mpl.figure.prototype.handle_draw = function(fig, msg) {\n",
       "    // Request the server to send over a new figure.\n",
       "    fig.send_draw_message();\n",
       "}\n",
       "\n",
       "mpl.figure.prototype.handle_image_mode = function(fig, msg) {\n",
       "    fig.image_mode = msg['mode'];\n",
       "}\n",
       "\n",
       "mpl.figure.prototype.updated_canvas_event = function() {\n",
       "    // Called whenever the canvas gets updated.\n",
       "    this.send_message(\"ack\", {});\n",
       "}\n",
       "\n",
       "// A function to construct a web socket function for onmessage handling.\n",
       "// Called in the figure constructor.\n",
       "mpl.figure.prototype._make_on_message_function = function(fig) {\n",
       "    return function socket_on_message(evt) {\n",
       "        if (evt.data instanceof Blob) {\n",
       "            /* FIXME: We get \"Resource interpreted as Image but\n",
       "             * transferred with MIME type text/plain:\" errors on\n",
       "             * Chrome.  But how to set the MIME type?  It doesn't seem\n",
       "             * to be part of the websocket stream */\n",
       "            evt.data.type = \"image/png\";\n",
       "\n",
       "            /* Free the memory for the previous frames */\n",
       "            if (fig.imageObj.src) {\n",
       "                (window.URL || window.webkitURL).revokeObjectURL(\n",
       "                    fig.imageObj.src);\n",
       "            }\n",
       "\n",
       "            fig.imageObj.src = (window.URL || window.webkitURL).createObjectURL(\n",
       "                evt.data);\n",
       "            fig.updated_canvas_event();\n",
       "            fig.waiting = false;\n",
       "            return;\n",
       "        }\n",
       "        else if (typeof evt.data === 'string' && evt.data.slice(0, 21) == \"data:image/png;base64\") {\n",
       "            fig.imageObj.src = evt.data;\n",
       "            fig.updated_canvas_event();\n",
       "            fig.waiting = false;\n",
       "            return;\n",
       "        }\n",
       "\n",
       "        var msg = JSON.parse(evt.data);\n",
       "        var msg_type = msg['type'];\n",
       "\n",
       "        // Call the  \"handle_{type}\" callback, which takes\n",
       "        // the figure and JSON message as its only arguments.\n",
       "        try {\n",
       "            var callback = fig[\"handle_\" + msg_type];\n",
       "        } catch (e) {\n",
       "            console.log(\"No handler for the '\" + msg_type + \"' message type: \", msg);\n",
       "            return;\n",
       "        }\n",
       "\n",
       "        if (callback) {\n",
       "            try {\n",
       "                // console.log(\"Handling '\" + msg_type + \"' message: \", msg);\n",
       "                callback(fig, msg);\n",
       "            } catch (e) {\n",
       "                console.log(\"Exception inside the 'handler_\" + msg_type + \"' callback:\", e, e.stack, msg);\n",
       "            }\n",
       "        }\n",
       "    };\n",
       "}\n",
       "\n",
       "// from http://stackoverflow.com/questions/1114465/getting-mouse-location-in-canvas\n",
       "mpl.findpos = function(e) {\n",
       "    //this section is from http://www.quirksmode.org/js/events_properties.html\n",
       "    var targ;\n",
       "    if (!e)\n",
       "        e = window.event;\n",
       "    if (e.target)\n",
       "        targ = e.target;\n",
       "    else if (e.srcElement)\n",
       "        targ = e.srcElement;\n",
       "    if (targ.nodeType == 3) // defeat Safari bug\n",
       "        targ = targ.parentNode;\n",
       "\n",
       "    // jQuery normalizes the pageX and pageY\n",
       "    // pageX,Y are the mouse positions relative to the document\n",
       "    // offset() returns the position of the element relative to the document\n",
       "    var x = e.pageX - $(targ).offset().left;\n",
       "    var y = e.pageY - $(targ).offset().top;\n",
       "\n",
       "    return {\"x\": x, \"y\": y};\n",
       "};\n",
       "\n",
       "/*\n",
       " * return a copy of an object with only non-object keys\n",
       " * we need this to avoid circular references\n",
       " * http://stackoverflow.com/a/24161582/3208463\n",
       " */\n",
       "function simpleKeys (original) {\n",
       "  return Object.keys(original).reduce(function (obj, key) {\n",
       "    if (typeof original[key] !== 'object')\n",
       "        obj[key] = original[key]\n",
       "    return obj;\n",
       "  }, {});\n",
       "}\n",
       "\n",
       "mpl.figure.prototype.mouse_event = function(event, name) {\n",
       "    var canvas_pos = mpl.findpos(event)\n",
       "\n",
       "    if (name === 'button_press')\n",
       "    {\n",
       "        this.canvas.focus();\n",
       "        this.canvas_div.focus();\n",
       "    }\n",
       "\n",
       "    var x = canvas_pos.x;\n",
       "    var y = canvas_pos.y;\n",
       "\n",
       "    this.send_message(name, {x: x, y: y, button: event.button,\n",
       "                             step: event.step,\n",
       "                             guiEvent: simpleKeys(event)});\n",
       "\n",
       "    /* This prevents the web browser from automatically changing to\n",
       "     * the text insertion cursor when the button is pressed.  We want\n",
       "     * to control all of the cursor setting manually through the\n",
       "     * 'cursor' event from matplotlib */\n",
       "    event.preventDefault();\n",
       "    return false;\n",
       "}\n",
       "\n",
       "mpl.figure.prototype._key_event_extra = function(event, name) {\n",
       "    // Handle any extra behaviour associated with a key event\n",
       "}\n",
       "\n",
       "mpl.figure.prototype.key_event = function(event, name) {\n",
       "\n",
       "    // Prevent repeat events\n",
       "    if (name == 'key_press')\n",
       "    {\n",
       "        if (event.which === this._key)\n",
       "            return;\n",
       "        else\n",
       "            this._key = event.which;\n",
       "    }\n",
       "    if (name == 'key_release')\n",
       "        this._key = null;\n",
       "\n",
       "    var value = '';\n",
       "    if (event.ctrlKey && event.which != 17)\n",
       "        value += \"ctrl+\";\n",
       "    if (event.altKey && event.which != 18)\n",
       "        value += \"alt+\";\n",
       "    if (event.shiftKey && event.which != 16)\n",
       "        value += \"shift+\";\n",
       "\n",
       "    value += 'k';\n",
       "    value += event.which.toString();\n",
       "\n",
       "    this._key_event_extra(event, name);\n",
       "\n",
       "    this.send_message(name, {key: value,\n",
       "                             guiEvent: simpleKeys(event)});\n",
       "    return false;\n",
       "}\n",
       "\n",
       "mpl.figure.prototype.toolbar_button_onclick = function(name) {\n",
       "    if (name == 'download') {\n",
       "        this.handle_save(this, null);\n",
       "    } else {\n",
       "        this.send_message(\"toolbar_button\", {name: name});\n",
       "    }\n",
       "};\n",
       "\n",
       "mpl.figure.prototype.toolbar_button_onmouseover = function(tooltip) {\n",
       "    this.message.textContent = tooltip;\n",
       "};\n",
       "mpl.toolbar_items = [[\"Home\", \"Reset original view\", \"fa fa-home icon-home\", \"home\"], [\"Back\", \"Back to  previous view\", \"fa fa-arrow-left icon-arrow-left\", \"back\"], [\"Forward\", \"Forward to next view\", \"fa fa-arrow-right icon-arrow-right\", \"forward\"], [\"\", \"\", \"\", \"\"], [\"Pan\", \"Pan axes with left mouse, zoom with right\", \"fa fa-arrows icon-move\", \"pan\"], [\"Zoom\", \"Zoom to rectangle\", \"fa fa-square-o icon-check-empty\", \"zoom\"], [\"\", \"\", \"\", \"\"], [\"Download\", \"Download plot\", \"fa fa-floppy-o icon-save\", \"download\"]];\n",
       "\n",
       "mpl.extensions = [\"eps\", \"jpeg\", \"pdf\", \"png\", \"ps\", \"raw\", \"svg\", \"tif\"];\n",
       "\n",
       "mpl.default_extension = \"png\";var comm_websocket_adapter = function(comm) {\n",
       "    // Create a \"websocket\"-like object which calls the given IPython comm\n",
       "    // object with the appropriate methods. Currently this is a non binary\n",
       "    // socket, so there is still some room for performance tuning.\n",
       "    var ws = {};\n",
       "\n",
       "    ws.close = function() {\n",
       "        comm.close()\n",
       "    };\n",
       "    ws.send = function(m) {\n",
       "        //console.log('sending', m);\n",
       "        comm.send(m);\n",
       "    };\n",
       "    // Register the callback with on_msg.\n",
       "    comm.on_msg(function(msg) {\n",
       "        //console.log('receiving', msg['content']['data'], msg);\n",
       "        // Pass the mpl event to the overriden (by mpl) onmessage function.\n",
       "        ws.onmessage(msg['content']['data'])\n",
       "    });\n",
       "    return ws;\n",
       "}\n",
       "\n",
       "mpl.mpl_figure_comm = function(comm, msg) {\n",
       "    // This is the function which gets called when the mpl process\n",
       "    // starts-up an IPython Comm through the \"matplotlib\" channel.\n",
       "\n",
       "    var id = msg.content.data.id;\n",
       "    // Get hold of the div created by the display call when the Comm\n",
       "    // socket was opened in Python.\n",
       "    var element = $(\"#\" + id);\n",
       "    var ws_proxy = comm_websocket_adapter(comm)\n",
       "\n",
       "    function ondownload(figure, format) {\n",
       "        window.open(figure.imageObj.src);\n",
       "    }\n",
       "\n",
       "    var fig = new mpl.figure(id, ws_proxy,\n",
       "                           ondownload,\n",
       "                           element.get(0));\n",
       "\n",
       "    // Call onopen now - mpl needs it, as it is assuming we've passed it a real\n",
       "    // web socket which is closed, not our websocket->open comm proxy.\n",
       "    ws_proxy.onopen();\n",
       "\n",
       "    fig.parent_element = element.get(0);\n",
       "    fig.cell_info = mpl.find_output_cell(\"<div id='\" + id + \"'></div>\");\n",
       "    if (!fig.cell_info) {\n",
       "        console.error(\"Failed to find cell for figure\", id, fig);\n",
       "        return;\n",
       "    }\n",
       "\n",
       "    var output_index = fig.cell_info[2]\n",
       "    var cell = fig.cell_info[0];\n",
       "\n",
       "};\n",
       "\n",
       "mpl.figure.prototype.handle_close = function(fig, msg) {\n",
       "    fig.root.unbind('remove')\n",
       "\n",
       "    // Update the output cell to use the data from the current canvas.\n",
       "    fig.push_to_output();\n",
       "    var dataURL = fig.canvas.toDataURL();\n",
       "    // Re-enable the keyboard manager in IPython - without this line, in FF,\n",
       "    // the notebook keyboard shortcuts fail.\n",
       "    IPython.keyboard_manager.enable()\n",
       "    $(fig.parent_element).html('<img src=\"' + dataURL + '\">');\n",
       "    fig.close_ws(fig, msg);\n",
       "}\n",
       "\n",
       "mpl.figure.prototype.close_ws = function(fig, msg){\n",
       "    fig.send_message('closing', msg);\n",
       "    // fig.ws.close()\n",
       "}\n",
       "\n",
       "mpl.figure.prototype.push_to_output = function(remove_interactive) {\n",
       "    // Turn the data on the canvas into data in the output cell.\n",
       "    var dataURL = this.canvas.toDataURL();\n",
       "    this.cell_info[1]['text/html'] = '<img src=\"' + dataURL + '\">';\n",
       "}\n",
       "\n",
       "mpl.figure.prototype.updated_canvas_event = function() {\n",
       "    // Tell IPython that the notebook contents must change.\n",
       "    IPython.notebook.set_dirty(true);\n",
       "    this.send_message(\"ack\", {});\n",
       "    var fig = this;\n",
       "    // Wait a second, then push the new image to the DOM so\n",
       "    // that it is saved nicely (might be nice to debounce this).\n",
       "    setTimeout(function () { fig.push_to_output() }, 1000);\n",
       "}\n",
       "\n",
       "mpl.figure.prototype._init_toolbar = function() {\n",
       "    var fig = this;\n",
       "\n",
       "    var nav_element = $('<div/>')\n",
       "    nav_element.attr('style', 'width: 100%');\n",
       "    this.root.append(nav_element);\n",
       "\n",
       "    // Define a callback function for later on.\n",
       "    function toolbar_event(event) {\n",
       "        return fig.toolbar_button_onclick(event['data']);\n",
       "    }\n",
       "    function toolbar_mouse_event(event) {\n",
       "        return fig.toolbar_button_onmouseover(event['data']);\n",
       "    }\n",
       "\n",
       "    for(var toolbar_ind in mpl.toolbar_items){\n",
       "        var name = mpl.toolbar_items[toolbar_ind][0];\n",
       "        var tooltip = mpl.toolbar_items[toolbar_ind][1];\n",
       "        var image = mpl.toolbar_items[toolbar_ind][2];\n",
       "        var method_name = mpl.toolbar_items[toolbar_ind][3];\n",
       "\n",
       "        if (!name) { continue; };\n",
       "\n",
       "        var button = $('<button class=\"btn btn-default\" href=\"#\" title=\"' + name + '\"><i class=\"fa ' + image + ' fa-lg\"></i></button>');\n",
       "        button.click(method_name, toolbar_event);\n",
       "        button.mouseover(tooltip, toolbar_mouse_event);\n",
       "        nav_element.append(button);\n",
       "    }\n",
       "\n",
       "    // Add the status bar.\n",
       "    var status_bar = $('<span class=\"mpl-message\" style=\"text-align:right; float: right;\"/>');\n",
       "    nav_element.append(status_bar);\n",
       "    this.message = status_bar[0];\n",
       "\n",
       "    // Add the close button to the window.\n",
       "    var buttongrp = $('<div class=\"btn-group inline pull-right\"></div>');\n",
       "    var button = $('<button class=\"btn btn-mini btn-primary\" href=\"#\" title=\"Stop Interaction\"><i class=\"fa fa-power-off icon-remove icon-large\"></i></button>');\n",
       "    button.click(function (evt) { fig.handle_close(fig, {}); } );\n",
       "    button.mouseover('Stop Interaction', toolbar_mouse_event);\n",
       "    buttongrp.append(button);\n",
       "    var titlebar = this.root.find($('.ui-dialog-titlebar'));\n",
       "    titlebar.prepend(buttongrp);\n",
       "}\n",
       "\n",
       "mpl.figure.prototype._root_extra_style = function(el){\n",
       "    var fig = this\n",
       "    el.on(\"remove\", function(){\n",
       "\tfig.close_ws(fig, {});\n",
       "    });\n",
       "}\n",
       "\n",
       "mpl.figure.prototype._canvas_extra_style = function(el){\n",
       "    // this is important to make the div 'focusable\n",
       "    el.attr('tabindex', 0)\n",
       "    // reach out to IPython and tell the keyboard manager to turn it's self\n",
       "    // off when our div gets focus\n",
       "\n",
       "    // location in version 3\n",
       "    if (IPython.notebook.keyboard_manager) {\n",
       "        IPython.notebook.keyboard_manager.register_events(el);\n",
       "    }\n",
       "    else {\n",
       "        // location in version 2\n",
       "        IPython.keyboard_manager.register_events(el);\n",
       "    }\n",
       "\n",
       "}\n",
       "\n",
       "mpl.figure.prototype._key_event_extra = function(event, name) {\n",
       "    var manager = IPython.notebook.keyboard_manager;\n",
       "    if (!manager)\n",
       "        manager = IPython.keyboard_manager;\n",
       "\n",
       "    // Check for shift+enter\n",
       "    if (event.shiftKey && event.which == 13) {\n",
       "        this.canvas_div.blur();\n",
       "        event.shiftKey = false;\n",
       "        // Send a \"J\" for go to next cell\n",
       "        event.which = 74;\n",
       "        event.keyCode = 74;\n",
       "        manager.command_mode();\n",
       "        manager.handle_keydown(event);\n",
       "    }\n",
       "}\n",
       "\n",
       "mpl.figure.prototype.handle_save = function(fig, msg) {\n",
       "    fig.ondownload(fig, null);\n",
       "}\n",
       "\n",
       "\n",
       "mpl.find_output_cell = function(html_output) {\n",
       "    // Return the cell and output element which can be found *uniquely* in the notebook.\n",
       "    // Note - this is a bit hacky, but it is done because the \"notebook_saving.Notebook\"\n",
       "    // IPython event is triggered only after the cells have been serialised, which for\n",
       "    // our purposes (turning an active figure into a static one), is too late.\n",
       "    var cells = IPython.notebook.get_cells();\n",
       "    var ncells = cells.length;\n",
       "    for (var i=0; i<ncells; i++) {\n",
       "        var cell = cells[i];\n",
       "        if (cell.cell_type === 'code'){\n",
       "            for (var j=0; j<cell.output_area.outputs.length; j++) {\n",
       "                var data = cell.output_area.outputs[j];\n",
       "                if (data.data) {\n",
       "                    // IPython >= 3 moved mimebundle to data attribute of output\n",
       "                    data = data.data;\n",
       "                }\n",
       "                if (data['text/html'] == html_output) {\n",
       "                    return [cell, data, j];\n",
       "                }\n",
       "            }\n",
       "        }\n",
       "    }\n",
       "}\n",
       "\n",
       "// Register the function which deals with the matplotlib target/channel.\n",
       "// The kernel may be null if the page has been refreshed.\n",
       "if (IPython.notebook.kernel != null) {\n",
       "    IPython.notebook.kernel.comm_manager.register_target('matplotlib', mpl.mpl_figure_comm);\n",
       "}\n"
      ],
      "text/plain": [
       "<IPython.core.display.Javascript object>"
      ]
     },
     "metadata": {},
     "output_type": "display_data"
    },
    {
     "data": {
      "text/html": [
       "<img src=\"data:image/png;base64,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\">"
      ],
      "text/plain": [
       "<IPython.core.display.HTML object>"
      ]
     },
     "metadata": {},
     "output_type": "display_data"
    }
   ],
   "source": [
    "fig, ax = plt.subplots()\n",
    "plot_fit(fig, ax)"
   ]
  },
  {
   "cell_type": "markdown",
   "metadata": {},
   "source": [
    "## fit"
   ]
  },
  {
   "cell_type": "code",
   "execution_count": 13,
   "metadata": {
    "collapsed": false
   },
   "outputs": [
    {
     "data": {
      "text/plain": [
       "{'fun': <function schlichtanders.myoptimizers.f_batch>,\n",
       " 'hess': <function schlichtanders.myoptimizers.f_batch>,\n",
       " 'jac': <function schlichtanders.myoptimizers.f_batch>,\n",
       " 'x0': array([ 0.        ,  0.        ,  0.54132485,  0.54132485])}"
      ]
     },
     "execution_count": 13,
     "metadata": {},
     "output_type": "execute_result"
    }
   ],
   "source": [
    "scipy_kwargs = scipy_postmap(model.postmap(wrapper=batch))\n",
    "scipy_kwargs"
   ]
  },
  {
   "cell_type": "code",
   "execution_count": 15,
   "metadata": {
    "collapsed": false
   },
   "outputs": [
    {
     "name": "stdout",
     "output_type": "stream",
     "text": [
      "Optimization terminated successfully.\n",
      "         Current function value: 1100.424133\n",
      "         Iterations: 19\n",
      "         Function evaluations: 24\n",
      "         Gradient evaluations: 42\n",
      "         Hessian evaluations: 19\n"
     ]
    },
    {
     "data": {
      "text/plain": [
       "     fun: 1100.4241327277457\n",
       "     jac: array([ -4.67994647e-07,   4.63779742e-06,  -2.36071285e-06,\n",
       "        -6.48474613e-06])\n",
       " message: 'Optimization terminated successfully.'\n",
       "    nfev: 24\n",
       "    nhev: 19\n",
       "     nit: 19\n",
       "    njev: 42\n",
       "  status: 0\n",
       " success: True\n",
       "       x: array([ 3.96153342,  9.86491051, -0.61285706,  1.78669478])"
      ]
     },
     "execution_count": 15,
     "metadata": {},
     "output_type": "execute_result"
    }
   ],
   "source": [
    "minimize(\n",
    "    args=(targets,),\n",
    "    method=\"Newton-CG\",\n",
    "    options={'maxiter':100, 'disp':True},\n",
    "    callback=lambda x: plot_fit(fig, ax),\n",
    "    **scipy_kwargs\n",
    ")"
   ]
  },
  {
   "cell_type": "code",
   "execution_count": null,
   "metadata": {
    "collapsed": false
   },
   "outputs": [],
   "source": [
    "print model.var.eval()\n",
    "print model.mean.eval()"
   ]
  },
  {
   "cell_type": "markdown",
   "metadata": {},
   "source": [
    "# Uniform Distribution"
   ]
  },
  {
   "cell_type": "markdown",
   "metadata": {},
   "source": [
    "## model"
   ]
  },
  {
   "cell_type": "code",
   "execution_count": null,
   "metadata": {
    "collapsed": false
   },
   "outputs": [],
   "source": [
    "model = pm.Uniform(output_size=2)\n",
    "m_sampler = model.function()\n",
    "model"
   ]
  },
  {
   "cell_type": "code",
   "execution_count": null,
   "metadata": {
    "collapsed": false
   },
   "outputs": [],
   "source": [
    "model.add_postmap(numericalize_postmap)\n",
    "model.map(\"parameters_positive\", reparameterize_map(softplus, softplus_inv), \"parameters\")\n",
    "flatten_parameters(model)\n",
    "model"
   ]
  },
  {
   "cell_type": "markdown",
   "metadata": {},
   "source": [
    "## target"
   ]
  },
  {
   "cell_type": "code",
   "execution_count": null,
   "metadata": {
    "collapsed": false
   },
   "outputs": [],
   "source": [
    "target = pm.Uniform(init_start=[1,4], init_offset=[2,1])\n",
    "t_sampler = target.function()\n",
    "t_sampler()"
   ]
  },
  {
   "cell_type": "code",
   "execution_count": null,
   "metadata": {
    "collapsed": false
   },
   "outputs": [],
   "source": [
    "n_samples = 400\n",
    "targets = np.array([t_sampler() for _ in xrange(n_samples)])"
   ]
  },
  {
   "cell_type": "code",
   "execution_count": null,
   "metadata": {
    "collapsed": false
   },
   "outputs": [],
   "source": [
    "targets[:10]"
   ]
  },
  {
   "cell_type": "markdown",
   "metadata": {},
   "source": [
    "## visualize"
   ]
  },
  {
   "cell_type": "code",
   "execution_count": null,
   "metadata": {
    "collapsed": true
   },
   "outputs": [],
   "source": [
    "def plot_fit(fig, ax, time_delay=0.1):\n",
    "    ax.clear()\n",
    "    \n",
    "    # targets\n",
    "    ax.plot(targets[:,0], targets[:,1], \"k.\")\n",
    "    \n",
    "    # model\n",
    "    model_samples = np.array([m_sampler() for _ in xrange(n_samples)])\n",
    "    ax.plot(model_samples[:,0], model_samples[:,1], \"r.\")\n",
    "    fig.canvas.draw()\n",
    "    time.sleep(time_delay)"
   ]
  },
  {
   "cell_type": "code",
   "execution_count": null,
   "metadata": {
    "collapsed": false
   },
   "outputs": [],
   "source": [
    "fig, ax = plt.subplots()\n",
    "plot_fit(fig, ax)"
   ]
  },
  {
   "cell_type": "markdown",
   "metadata": {},
   "source": [
    "## fit"
   ]
  },
  {
   "cell_type": "code",
   "execution_count": null,
   "metadata": {
    "collapsed": false
   },
   "outputs": [],
   "source": [
    "scipy_kwargs = scipy_postmap(model.postmap(wrapper=batch))\n",
    "scipy_kwargs"
   ]
  },
  {
   "cell_type": "code",
   "execution_count": null,
   "metadata": {
    "collapsed": false
   },
   "outputs": [],
   "source": [
    "minimize(\n",
    "    args=(targets,),\n",
    "    method=\"Newton-CG\",\n",
    "    options={'maxiter':100, 'disp':True},\n",
    "    callback=lambda x: plot_fit(fig, ax),\n",
    "    **scipy_kwargs\n",
    ")"
   ]
  },
  {
   "cell_type": "markdown",
   "metadata": {},
   "source": [
    "TODO this does not work. Check whether the gradient is the reason (there is no gradient of the step probability function)."
   ]
  }
 ],
 "metadata": {
  "kernelspec": {
   "display_name": "Python 2",
   "language": "python",
   "name": "python2"
  },
  "language_info": {
   "codemirror_mode": {
    "name": "ipython",
    "version": 2
   },
   "file_extension": ".py",
   "mimetype": "text/x-python",
   "name": "python",
   "nbconvert_exporter": "python",
   "pygments_lexer": "ipython2",
   "version": "2.7.6"
  },
  "toc": {
   "toc_cell": false,
   "toc_number_sections": true,
   "toc_threshold": 4,
   "toc_window_display": false
  }
 },
 "nbformat": 4,
 "nbformat_minor": 0
}
