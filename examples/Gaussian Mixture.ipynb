{
 "cells": [
  {
   "cell_type": "code",
   "execution_count": 1,
   "metadata": {
    "collapsed": false,
    "scrolled": true
   },
   "outputs": [
    {
     "name": "stderr",
     "output_type": "stream",
     "text": [
      "/usr/local/lib/python2.7/dist-packages/matplotlib/font_manager.py:273: UserWarning: Matplotlib is building the font cache using fc-list. This may take a moment.\n",
      "  warnings.warn('Matplotlib is building the font cache using fc-list. This may take a moment.')\n"
     ]
    }
   ],
   "source": [
    "%matplotlib notebook\n",
    "from __future__ import division"
   ]
  },
  {
   "cell_type": "code",
   "execution_count": 2,
   "metadata": {
    "collapsed": false
   },
   "outputs": [
    {
     "name": "stdout",
     "output_type": "stream",
     "text": [
      "gnumpy: failed to import cudamat. Using npmat instead. No GPU will be used.\n"
     ]
    }
   ],
   "source": [
    "from matplotlib.pyplot import plot, ylabel, xlabel, yscale, xscale, legend, subplots, gca, gcf\n",
    "from matplotlib.ticker import FormatStrFormatter\n",
    "from theano import function\n",
    "import numpy as np\n",
    "import gzip\n",
    "import cPickle\n",
    "from scipy.optimize import minimize\n",
    "from climin.util import optimizer\n",
    "from itertools import repeat, cycle, islice, izip, imap\n",
    "inf = float(\"inf\")"
   ]
  },
  {
   "cell_type": "code",
   "execution_count": 3,
   "metadata": {
    "collapsed": false
   },
   "outputs": [],
   "source": [
    "from breze.learn.data import one_hot\n",
    "from breze.learn.base import cast_array_to_local_type\n",
    "from schlichtanders.myfunctools import compose, meanmap, summap\n",
    "from schlichtanders.mygenerators import eatN, chunk, chunk_list, every, takeN\n",
    "from schlichtanders.myplot import add_val, add_point"
   ]
  },
  {
   "cell_type": "code",
   "execution_count": 4,
   "metadata": {
    "collapsed": true
   },
   "outputs": [],
   "source": [
    "from IPython.display import IFrame"
   ]
  },
  {
   "cell_type": "code",
   "execution_count": 5,
   "metadata": {
    "collapsed": false
   },
   "outputs": [],
   "source": [
    "import theano_models as tm\n",
    "from theano_models.util.theano_helpers import independent_subgraphs, list_random_sources\n",
    "import theano_models.deterministic_models as dm\n",
    "import theano_models.probabilistic_models as pm"
   ]
  },
  {
   "cell_type": "code",
   "execution_count": 6,
   "metadata": {
    "collapsed": true
   },
   "outputs": [],
   "source": [
    "import theano\n",
    "import theano.tensor as T\n",
    "from theano.printing import debugprint\n",
    "from theano.tensor.shared_randomstreams import RandomStreams"
   ]
  },
  {
   "cell_type": "code",
   "execution_count": 7,
   "metadata": {
    "collapsed": false
   },
   "outputs": [],
   "source": [
    "import warnings\n",
    "warnings.filterwarnings(\"ignore\", category=DeprecationWarning)"
   ]
  },
  {
   "cell_type": "code",
   "execution_count": 8,
   "metadata": {
    "collapsed": false
   },
   "outputs": [
    {
     "data": {
      "text/plain": [
       "({'extra_inputs',\n",
       "  'flat',\n",
       "  'inputs',\n",
       "  'n_data',\n",
       "  'parameters',\n",
       "  'parameters_positive',\n",
       "  'parameters_psumto1',\n",
       "  'to_be_randomized'},\n",
       " {'kl_prior', 'loglikelihood', 'norm_det', 'norm_dets', 'outputs'})"
      ]
     },
     "execution_count": 8,
     "metadata": {},
     "output_type": "execute_result"
    }
   ],
   "source": [
    "tm.inputting_references.update(['to_be_randomized'])\n",
    "tm.inputting_references, tm.outputting_references"
   ]
  },
  {
   "cell_type": "raw",
   "metadata": {
    "collapsed": true
   },
   "source": [
    "from schlichtanders.myobjects import NestedNamespace\n",
    "\n",
    "# CAUTION: this needs significant amount of memory!!\n",
    "pm.RNG = NestedNamespace(PooledRandomStreams(pool_size=int(5e8)), RandomStreams())"
   ]
  },
  {
   "cell_type": "markdown",
   "metadata": {},
   "source": [
    "# model"
   ]
  },
  {
   "cell_type": "code",
   "execution_count": 9,
   "metadata": {
    "collapsed": false
   },
   "outputs": [
    {
     "data": {
      "text/plain": [
       "Gauss { 'inputs': [],\n",
       "  'outputs': Gauss.outputs,\n",
       "  'parameters': [mean],\n",
       "  'parameters_positive': [var]}"
      ]
     },
     "execution_count": 9,
     "metadata": {},
     "output_type": "execute_result"
    }
   ],
   "source": [
    "g1 = pm.Gauss(2)\n",
    "g1"
   ]
  },
  {
   "cell_type": "code",
   "execution_count": 10,
   "metadata": {
    "collapsed": false
   },
   "outputs": [
    {
     "data": {
      "text/plain": [
       "Gauss2 { 'inputs': [],\n",
       "  'outputs': Gauss2.outputs,\n",
       "  'parameters': [mean],\n",
       "  'parameters_positive': [var]}"
      ]
     },
     "execution_count": 10,
     "metadata": {},
     "output_type": "execute_result"
    }
   ],
   "source": [
    "g2 = pm.Gauss(2)\n",
    "g2"
   ]
  },
  {
   "cell_type": "code",
   "execution_count": 11,
   "metadata": {
    "collapsed": false
   },
   "outputs": [
    {
     "data": {
      "text/plain": [
       "Mixture { 'inputs': [],\n",
       "  'outputs': Mixture.outputs,\n",
       "  'parameters': [mean, mean],\n",
       "  'parameters_positive': [var, var],\n",
       "  'parameters_psumto1': [mixture_probs]}"
      ]
     },
     "execution_count": 11,
     "metadata": {},
     "output_type": "execute_result"
    }
   ],
   "source": [
    "model = pm.Mixture(g1, g2)\n",
    "model"
   ]
  },
  {
   "cell_type": "code",
   "execution_count": 12,
   "metadata": {
    "collapsed": false
   },
   "outputs": [
    {
     "data": {
      "text/plain": [
       "Merge4 { 'inputs': [],\n",
       "  'outputs': Mixture.outputs,\n",
       "  'parameters': [ mean,\n",
       "                  mean,\n",
       "                  var_squareplus,\n",
       "                  var_squareplus,\n",
       "                  mixture_probs_softmax],\n",
       "  'parameters_positive': [],\n",
       "  'parameters_psumto1': []}"
      ]
     },
     "execution_count": 12,
     "metadata": {},
     "output_type": "execute_result"
    }
   ],
   "source": [
    "model = tm.Merge(model,\n",
    "    tm.Reparameterize(model['parameters_positive'], tm.squareplus, tm.squareplus_inv),\n",
    "    tm.Reparameterize(model['parameters_psumto1'], tm.softmax, tm.softmax_inv)\n",
    "); model"
   ]
  },
  {
   "cell_type": "code",
   "execution_count": 13,
   "metadata": {
    "collapsed": false
   },
   "outputs": [
    {
     "data": {
      "text/plain": [
       "Merge5 { 'flat': \"mean:mean:var_squareplus:var_squareplus:mixture_probs_softmax\",\n",
       "  'inputs': [],\n",
       "  'outputs': Mixture.outputs,\n",
       "  'parameters': [],\n",
       "  'parameters_positive': [],\n",
       "  'parameters_psumto1': []}"
      ]
     },
     "execution_count": 13,
     "metadata": {},
     "output_type": "execute_result"
    }
   ],
   "source": [
    "model = tm.Merge(model, tm.Flatten(model['parameters']))\n",
    "model"
   ]
  },
  {
   "cell_type": "markdown",
   "metadata": {},
   "source": [
    "# Target"
   ]
  },
  {
   "cell_type": "code",
   "execution_count": 14,
   "metadata": {
    "collapsed": false
   },
   "outputs": [
    {
     "data": {
      "text/plain": [
       "Mixture2 { 'inputs': [],\n",
       "  'outputs': Mixture2.outputs,\n",
       "  'parameters': [mean, mean],\n",
       "  'parameters_positive': [var, var],\n",
       "  'parameters_psumto1': [mixture_probs]}"
      ]
     },
     "execution_count": 14,
     "metadata": {},
     "output_type": "execute_result"
    }
   ],
   "source": [
    "t1 = pm.Gauss(init_mean=[1,1], init_var=0.5)\n",
    "t2 = pm.Gauss(init_mean=[0,4], init_var=0.1)\n",
    "target = pm.Mixture(t1, t2, init_mixture_probs=[0.2, 0.8])\n",
    "target"
   ]
  },
  {
   "cell_type": "code",
   "execution_count": 15,
   "metadata": {
    "collapsed": false
   },
   "outputs": [],
   "source": [
    "sampler = target.function()"
   ]
  },
  {
   "cell_type": "code",
   "execution_count": 16,
   "metadata": {
    "collapsed": false
   },
   "outputs": [
    {
     "name": "stdout",
     "output_type": "stream",
     "text": [
      "[[  3.66113942e-01   4.01523521e+00]\n",
      " [ -7.16948635e-01   4.23222385e+00]\n",
      " [  1.79059883e-01   3.92518424e+00]\n",
      " [  5.66205919e-01   3.80013605e+00]\n",
      " [ -7.00765256e-04   3.89136391e+00]\n",
      " [ -2.50045844e-01   4.40897761e+00]\n",
      " [  2.04482357e+00   5.08960273e-01]\n",
      " [ -1.32550118e-01   4.34355612e+00]\n",
      " [  7.15468262e-01   3.83803496e+00]\n",
      " [  1.19253098e+00   2.55445250e+00]]\n",
      "[[ 0.01942676  4.19575528]\n",
      " [ 0.53759475  3.70719834]\n",
      " [ 0.87700022  0.56390252]\n",
      " [ 0.08898868  3.95687162]\n",
      " [ 0.3064754   0.38957751]\n",
      " [-0.34762369  3.73315812]\n",
      " [ 0.08033131  4.66807104]\n",
      " [ 0.18062283  3.76214084]\n",
      " [-0.21275366  4.32411419]\n",
      " [ 0.30108797  3.57858481]]\n"
     ]
    }
   ],
   "source": [
    "training = np.array([sampler() for _ in range(5000)])\n",
    "print training[:10]\n",
    "\n",
    "validation = np.array([sampler() for _ in range(100)])\n",
    "print validation[:10]"
   ]
  },
  {
   "cell_type": "markdown",
   "metadata": {},
   "source": [
    "# Optimizer"
   ]
  },
  {
   "cell_type": "code",
   "execution_count": 18,
   "metadata": {
    "collapsed": true
   },
   "outputs": [],
   "source": [
    "loss = tm.loss_probabilistic(model)"
   ]
  },
  {
   "cell_type": "code",
   "execution_count": 20,
   "metadata": {
    "collapsed": false
   },
   "outputs": [],
   "source": [
    "optimizer_kwargs = tm.numericalize(loss, model['flat'],\n",
    "    batch_mapreduce=meanmap,\n",
    "    adapt_init_params=lambda ps: ps + np.random.normal(size=ps.size, scale=0.01),\n",
    ")"
   ]
  },
  {
   "cell_type": "code",
   "execution_count": 21,
   "metadata": {
    "collapsed": false
   },
   "outputs": [],
   "source": [
    "batch_size = 200\n",
    "n_batches = training.shape[0] // batch_size  # after this many steps we went through the whole data set once\n",
    "climin_args = izip(\n",
    "    imap(lambda a: (a,), chunk(batch_size, cycle(training))),  # args iterator (needs to return tuple!!)\n",
    "    repeat({})  # kwargs iterator\n",
    ")"
   ]
  },
  {
   "cell_type": "code",
   "execution_count": 22,
   "metadata": {
    "collapsed": false
   },
   "outputs": [
    {
     "name": "stderr",
     "output_type": "stream",
     "text": [
      "/home/stephan/GitProjects/climin/climin/util.py:151: UserWarning: Argument named f is not expected by <class 'climin.adadelta.Adadelta'>\n",
      "  % (i, klass))\n"
     ]
    }
   ],
   "source": [
    "opt = optimizer(\n",
    "    identifier=\"adadelta\",\n",
    "    args=climin_args,\n",
    "    **tm.climin_kwargs(optimizer_kwargs)\n",
    ")"
   ]
  },
  {
   "cell_type": "code",
   "execution_count": 25,
   "metadata": {
    "collapsed": false
   },
   "outputs": [
    {
     "data": {
      "application/javascript": [
       "/* Put everything inside the global mpl namespace */\n",
       "window.mpl = {};\n",
       "\n",
       "mpl.get_websocket_type = function() {\n",
       "    if (typeof(WebSocket) !== 'undefined') {\n",
       "        return WebSocket;\n",
       "    } else if (typeof(MozWebSocket) !== 'undefined') {\n",
       "        return MozWebSocket;\n",
       "    } else {\n",
       "        alert('Your browser does not have WebSocket support.' +\n",
       "              'Please try Chrome, Safari or Firefox ≥ 6. ' +\n",
       "              'Firefox 4 and 5 are also supported but you ' +\n",
       "              'have to enable WebSockets in about:config.');\n",
       "    };\n",
       "}\n",
       "\n",
       "mpl.figure = function(figure_id, websocket, ondownload, parent_element) {\n",
       "    this.id = figure_id;\n",
       "\n",
       "    this.ws = websocket;\n",
       "\n",
       "    this.supports_binary = (this.ws.binaryType != undefined);\n",
       "\n",
       "    if (!this.supports_binary) {\n",
       "        var warnings = document.getElementById(\"mpl-warnings\");\n",
       "        if (warnings) {\n",
       "            warnings.style.display = 'block';\n",
       "            warnings.textContent = (\n",
       "                \"This browser does not support binary websocket messages. \" +\n",
       "                    \"Performance may be slow.\");\n",
       "        }\n",
       "    }\n",
       "\n",
       "    this.imageObj = new Image();\n",
       "\n",
       "    this.context = undefined;\n",
       "    this.message = undefined;\n",
       "    this.canvas = undefined;\n",
       "    this.rubberband_canvas = undefined;\n",
       "    this.rubberband_context = undefined;\n",
       "    this.format_dropdown = undefined;\n",
       "\n",
       "    this.image_mode = 'full';\n",
       "\n",
       "    this.root = $('<div/>');\n",
       "    this._root_extra_style(this.root)\n",
       "    this.root.attr('style', 'display: inline-block');\n",
       "\n",
       "    $(parent_element).append(this.root);\n",
       "\n",
       "    this._init_header(this);\n",
       "    this._init_canvas(this);\n",
       "    this._init_toolbar(this);\n",
       "\n",
       "    var fig = this;\n",
       "\n",
       "    this.waiting = false;\n",
       "\n",
       "    this.ws.onopen =  function () {\n",
       "            fig.send_message(\"supports_binary\", {value: fig.supports_binary});\n",
       "            fig.send_message(\"send_image_mode\", {});\n",
       "            fig.send_message(\"refresh\", {});\n",
       "        }\n",
       "\n",
       "    this.imageObj.onload = function() {\n",
       "            if (fig.image_mode == 'full') {\n",
       "                // Full images could contain transparency (where diff images\n",
       "                // almost always do), so we need to clear the canvas so that\n",
       "                // there is no ghosting.\n",
       "                fig.context.clearRect(0, 0, fig.canvas.width, fig.canvas.height);\n",
       "            }\n",
       "            fig.context.drawImage(fig.imageObj, 0, 0);\n",
       "        };\n",
       "\n",
       "    this.imageObj.onunload = function() {\n",
       "        this.ws.close();\n",
       "    }\n",
       "\n",
       "    this.ws.onmessage = this._make_on_message_function(this);\n",
       "\n",
       "    this.ondownload = ondownload;\n",
       "}\n",
       "\n",
       "mpl.figure.prototype._init_header = function() {\n",
       "    var titlebar = $(\n",
       "        '<div class=\"ui-dialog-titlebar ui-widget-header ui-corner-all ' +\n",
       "        'ui-helper-clearfix\"/>');\n",
       "    var titletext = $(\n",
       "        '<div class=\"ui-dialog-title\" style=\"width: 100%; ' +\n",
       "        'text-align: center; padding: 3px;\"/>');\n",
       "    titlebar.append(titletext)\n",
       "    this.root.append(titlebar);\n",
       "    this.header = titletext[0];\n",
       "}\n",
       "\n",
       "\n",
       "\n",
       "mpl.figure.prototype._canvas_extra_style = function(canvas_div) {\n",
       "\n",
       "}\n",
       "\n",
       "\n",
       "mpl.figure.prototype._root_extra_style = function(canvas_div) {\n",
       "\n",
       "}\n",
       "\n",
       "mpl.figure.prototype._init_canvas = function() {\n",
       "    var fig = this;\n",
       "\n",
       "    var canvas_div = $('<div/>');\n",
       "\n",
       "    canvas_div.attr('style', 'position: relative; clear: both; outline: 0');\n",
       "\n",
       "    function canvas_keyboard_event(event) {\n",
       "        return fig.key_event(event, event['data']);\n",
       "    }\n",
       "\n",
       "    canvas_div.keydown('key_press', canvas_keyboard_event);\n",
       "    canvas_div.keyup('key_release', canvas_keyboard_event);\n",
       "    this.canvas_div = canvas_div\n",
       "    this._canvas_extra_style(canvas_div)\n",
       "    this.root.append(canvas_div);\n",
       "\n",
       "    var canvas = $('<canvas/>');\n",
       "    canvas.addClass('mpl-canvas');\n",
       "    canvas.attr('style', \"left: 0; top: 0; z-index: 0; outline: 0\")\n",
       "\n",
       "    this.canvas = canvas[0];\n",
       "    this.context = canvas[0].getContext(\"2d\");\n",
       "\n",
       "    var rubberband = $('<canvas/>');\n",
       "    rubberband.attr('style', \"position: absolute; left: 0; top: 0; z-index: 1;\")\n",
       "\n",
       "    var pass_mouse_events = true;\n",
       "\n",
       "    canvas_div.resizable({\n",
       "        start: function(event, ui) {\n",
       "            pass_mouse_events = false;\n",
       "        },\n",
       "        resize: function(event, ui) {\n",
       "            fig.request_resize(ui.size.width, ui.size.height);\n",
       "        },\n",
       "        stop: function(event, ui) {\n",
       "            pass_mouse_events = true;\n",
       "            fig.request_resize(ui.size.width, ui.size.height);\n",
       "        },\n",
       "    });\n",
       "\n",
       "    function mouse_event_fn(event) {\n",
       "        if (pass_mouse_events)\n",
       "            return fig.mouse_event(event, event['data']);\n",
       "    }\n",
       "\n",
       "    rubberband.mousedown('button_press', mouse_event_fn);\n",
       "    rubberband.mouseup('button_release', mouse_event_fn);\n",
       "    // Throttle sequential mouse events to 1 every 20ms.\n",
       "    rubberband.mousemove('motion_notify', mouse_event_fn);\n",
       "\n",
       "    rubberband.mouseenter('figure_enter', mouse_event_fn);\n",
       "    rubberband.mouseleave('figure_leave', mouse_event_fn);\n",
       "\n",
       "    canvas_div.on(\"wheel\", function (event) {\n",
       "        event = event.originalEvent;\n",
       "        event['data'] = 'scroll'\n",
       "        if (event.deltaY < 0) {\n",
       "            event.step = 1;\n",
       "        } else {\n",
       "            event.step = -1;\n",
       "        }\n",
       "        mouse_event_fn(event);\n",
       "    });\n",
       "\n",
       "    canvas_div.append(canvas);\n",
       "    canvas_div.append(rubberband);\n",
       "\n",
       "    this.rubberband = rubberband;\n",
       "    this.rubberband_canvas = rubberband[0];\n",
       "    this.rubberband_context = rubberband[0].getContext(\"2d\");\n",
       "    this.rubberband_context.strokeStyle = \"#000000\";\n",
       "\n",
       "    this._resize_canvas = function(width, height) {\n",
       "        // Keep the size of the canvas, canvas container, and rubber band\n",
       "        // canvas in synch.\n",
       "        canvas_div.css('width', width)\n",
       "        canvas_div.css('height', height)\n",
       "\n",
       "        canvas.attr('width', width);\n",
       "        canvas.attr('height', height);\n",
       "\n",
       "        rubberband.attr('width', width);\n",
       "        rubberband.attr('height', height);\n",
       "    }\n",
       "\n",
       "    // Set the figure to an initial 600x600px, this will subsequently be updated\n",
       "    // upon first draw.\n",
       "    this._resize_canvas(600, 600);\n",
       "\n",
       "    // Disable right mouse context menu.\n",
       "    $(this.rubberband_canvas).bind(\"contextmenu\",function(e){\n",
       "        return false;\n",
       "    });\n",
       "\n",
       "    function set_focus () {\n",
       "        canvas.focus();\n",
       "        canvas_div.focus();\n",
       "    }\n",
       "\n",
       "    window.setTimeout(set_focus, 100);\n",
       "}\n",
       "\n",
       "mpl.figure.prototype._init_toolbar = function() {\n",
       "    var fig = this;\n",
       "\n",
       "    var nav_element = $('<div/>')\n",
       "    nav_element.attr('style', 'width: 100%');\n",
       "    this.root.append(nav_element);\n",
       "\n",
       "    // Define a callback function for later on.\n",
       "    function toolbar_event(event) {\n",
       "        return fig.toolbar_button_onclick(event['data']);\n",
       "    }\n",
       "    function toolbar_mouse_event(event) {\n",
       "        return fig.toolbar_button_onmouseover(event['data']);\n",
       "    }\n",
       "\n",
       "    for(var toolbar_ind in mpl.toolbar_items) {\n",
       "        var name = mpl.toolbar_items[toolbar_ind][0];\n",
       "        var tooltip = mpl.toolbar_items[toolbar_ind][1];\n",
       "        var image = mpl.toolbar_items[toolbar_ind][2];\n",
       "        var method_name = mpl.toolbar_items[toolbar_ind][3];\n",
       "\n",
       "        if (!name) {\n",
       "            // put a spacer in here.\n",
       "            continue;\n",
       "        }\n",
       "        var button = $('<button/>');\n",
       "        button.addClass('ui-button ui-widget ui-state-default ui-corner-all ' +\n",
       "                        'ui-button-icon-only');\n",
       "        button.attr('role', 'button');\n",
       "        button.attr('aria-disabled', 'false');\n",
       "        button.click(method_name, toolbar_event);\n",
       "        button.mouseover(tooltip, toolbar_mouse_event);\n",
       "\n",
       "        var icon_img = $('<span/>');\n",
       "        icon_img.addClass('ui-button-icon-primary ui-icon');\n",
       "        icon_img.addClass(image);\n",
       "        icon_img.addClass('ui-corner-all');\n",
       "\n",
       "        var tooltip_span = $('<span/>');\n",
       "        tooltip_span.addClass('ui-button-text');\n",
       "        tooltip_span.html(tooltip);\n",
       "\n",
       "        button.append(icon_img);\n",
       "        button.append(tooltip_span);\n",
       "\n",
       "        nav_element.append(button);\n",
       "    }\n",
       "\n",
       "    var fmt_picker_span = $('<span/>');\n",
       "\n",
       "    var fmt_picker = $('<select/>');\n",
       "    fmt_picker.addClass('mpl-toolbar-option ui-widget ui-widget-content');\n",
       "    fmt_picker_span.append(fmt_picker);\n",
       "    nav_element.append(fmt_picker_span);\n",
       "    this.format_dropdown = fmt_picker[0];\n",
       "\n",
       "    for (var ind in mpl.extensions) {\n",
       "        var fmt = mpl.extensions[ind];\n",
       "        var option = $(\n",
       "            '<option/>', {selected: fmt === mpl.default_extension}).html(fmt);\n",
       "        fmt_picker.append(option)\n",
       "    }\n",
       "\n",
       "    // Add hover states to the ui-buttons\n",
       "    $( \".ui-button\" ).hover(\n",
       "        function() { $(this).addClass(\"ui-state-hover\");},\n",
       "        function() { $(this).removeClass(\"ui-state-hover\");}\n",
       "    );\n",
       "\n",
       "    var status_bar = $('<span class=\"mpl-message\"/>');\n",
       "    nav_element.append(status_bar);\n",
       "    this.message = status_bar[0];\n",
       "}\n",
       "\n",
       "mpl.figure.prototype.request_resize = function(x_pixels, y_pixels) {\n",
       "    // Request matplotlib to resize the figure. Matplotlib will then trigger a resize in the client,\n",
       "    // which will in turn request a refresh of the image.\n",
       "    this.send_message('resize', {'width': x_pixels, 'height': y_pixels});\n",
       "}\n",
       "\n",
       "mpl.figure.prototype.send_message = function(type, properties) {\n",
       "    properties['type'] = type;\n",
       "    properties['figure_id'] = this.id;\n",
       "    this.ws.send(JSON.stringify(properties));\n",
       "}\n",
       "\n",
       "mpl.figure.prototype.send_draw_message = function() {\n",
       "    if (!this.waiting) {\n",
       "        this.waiting = true;\n",
       "        this.ws.send(JSON.stringify({type: \"draw\", figure_id: this.id}));\n",
       "    }\n",
       "}\n",
       "\n",
       "\n",
       "mpl.figure.prototype.handle_save = function(fig, msg) {\n",
       "    var format_dropdown = fig.format_dropdown;\n",
       "    var format = format_dropdown.options[format_dropdown.selectedIndex].value;\n",
       "    fig.ondownload(fig, format);\n",
       "}\n",
       "\n",
       "\n",
       "mpl.figure.prototype.handle_resize = function(fig, msg) {\n",
       "    var size = msg['size'];\n",
       "    if (size[0] != fig.canvas.width || size[1] != fig.canvas.height) {\n",
       "        fig._resize_canvas(size[0], size[1]);\n",
       "        fig.send_message(\"refresh\", {});\n",
       "    };\n",
       "}\n",
       "\n",
       "mpl.figure.prototype.handle_rubberband = function(fig, msg) {\n",
       "    var x0 = msg['x0'];\n",
       "    var y0 = fig.canvas.height - msg['y0'];\n",
       "    var x1 = msg['x1'];\n",
       "    var y1 = fig.canvas.height - msg['y1'];\n",
       "    x0 = Math.floor(x0) + 0.5;\n",
       "    y0 = Math.floor(y0) + 0.5;\n",
       "    x1 = Math.floor(x1) + 0.5;\n",
       "    y1 = Math.floor(y1) + 0.5;\n",
       "    var min_x = Math.min(x0, x1);\n",
       "    var min_y = Math.min(y0, y1);\n",
       "    var width = Math.abs(x1 - x0);\n",
       "    var height = Math.abs(y1 - y0);\n",
       "\n",
       "    fig.rubberband_context.clearRect(\n",
       "        0, 0, fig.canvas.width, fig.canvas.height);\n",
       "\n",
       "    fig.rubberband_context.strokeRect(min_x, min_y, width, height);\n",
       "}\n",
       "\n",
       "mpl.figure.prototype.handle_figure_label = function(fig, msg) {\n",
       "    // Updates the figure title.\n",
       "    fig.header.textContent = msg['label'];\n",
       "}\n",
       "\n",
       "mpl.figure.prototype.handle_cursor = function(fig, msg) {\n",
       "    var cursor = msg['cursor'];\n",
       "    switch(cursor)\n",
       "    {\n",
       "    case 0:\n",
       "        cursor = 'pointer';\n",
       "        break;\n",
       "    case 1:\n",
       "        cursor = 'default';\n",
       "        break;\n",
       "    case 2:\n",
       "        cursor = 'crosshair';\n",
       "        break;\n",
       "    case 3:\n",
       "        cursor = 'move';\n",
       "        break;\n",
       "    }\n",
       "    fig.rubberband_canvas.style.cursor = cursor;\n",
       "}\n",
       "\n",
       "mpl.figure.prototype.handle_message = function(fig, msg) {\n",
       "    fig.message.textContent = msg['message'];\n",
       "}\n",
       "\n",
       "mpl.figure.prototype.handle_draw = function(fig, msg) {\n",
       "    // Request the server to send over a new figure.\n",
       "    fig.send_draw_message();\n",
       "}\n",
       "\n",
       "mpl.figure.prototype.handle_image_mode = function(fig, msg) {\n",
       "    fig.image_mode = msg['mode'];\n",
       "}\n",
       "\n",
       "mpl.figure.prototype.updated_canvas_event = function() {\n",
       "    // Called whenever the canvas gets updated.\n",
       "    this.send_message(\"ack\", {});\n",
       "}\n",
       "\n",
       "// A function to construct a web socket function for onmessage handling.\n",
       "// Called in the figure constructor.\n",
       "mpl.figure.prototype._make_on_message_function = function(fig) {\n",
       "    return function socket_on_message(evt) {\n",
       "        if (evt.data instanceof Blob) {\n",
       "            /* FIXME: We get \"Resource interpreted as Image but\n",
       "             * transferred with MIME type text/plain:\" errors on\n",
       "             * Chrome.  But how to set the MIME type?  It doesn't seem\n",
       "             * to be part of the websocket stream */\n",
       "            evt.data.type = \"image/png\";\n",
       "\n",
       "            /* Free the memory for the previous frames */\n",
       "            if (fig.imageObj.src) {\n",
       "                (window.URL || window.webkitURL).revokeObjectURL(\n",
       "                    fig.imageObj.src);\n",
       "            }\n",
       "\n",
       "            fig.imageObj.src = (window.URL || window.webkitURL).createObjectURL(\n",
       "                evt.data);\n",
       "            fig.updated_canvas_event();\n",
       "            fig.waiting = false;\n",
       "            return;\n",
       "        }\n",
       "        else if (typeof evt.data === 'string' && evt.data.slice(0, 21) == \"data:image/png;base64\") {\n",
       "            fig.imageObj.src = evt.data;\n",
       "            fig.updated_canvas_event();\n",
       "            fig.waiting = false;\n",
       "            return;\n",
       "        }\n",
       "\n",
       "        var msg = JSON.parse(evt.data);\n",
       "        var msg_type = msg['type'];\n",
       "\n",
       "        // Call the  \"handle_{type}\" callback, which takes\n",
       "        // the figure and JSON message as its only arguments.\n",
       "        try {\n",
       "            var callback = fig[\"handle_\" + msg_type];\n",
       "        } catch (e) {\n",
       "            console.log(\"No handler for the '\" + msg_type + \"' message type: \", msg);\n",
       "            return;\n",
       "        }\n",
       "\n",
       "        if (callback) {\n",
       "            try {\n",
       "                // console.log(\"Handling '\" + msg_type + \"' message: \", msg);\n",
       "                callback(fig, msg);\n",
       "            } catch (e) {\n",
       "                console.log(\"Exception inside the 'handler_\" + msg_type + \"' callback:\", e, e.stack, msg);\n",
       "            }\n",
       "        }\n",
       "    };\n",
       "}\n",
       "\n",
       "// from http://stackoverflow.com/questions/1114465/getting-mouse-location-in-canvas\n",
       "mpl.findpos = function(e) {\n",
       "    //this section is from http://www.quirksmode.org/js/events_properties.html\n",
       "    var targ;\n",
       "    if (!e)\n",
       "        e = window.event;\n",
       "    if (e.target)\n",
       "        targ = e.target;\n",
       "    else if (e.srcElement)\n",
       "        targ = e.srcElement;\n",
       "    if (targ.nodeType == 3) // defeat Safari bug\n",
       "        targ = targ.parentNode;\n",
       "\n",
       "    // jQuery normalizes the pageX and pageY\n",
       "    // pageX,Y are the mouse positions relative to the document\n",
       "    // offset() returns the position of the element relative to the document\n",
       "    var x = e.pageX - $(targ).offset().left;\n",
       "    var y = e.pageY - $(targ).offset().top;\n",
       "\n",
       "    return {\"x\": x, \"y\": y};\n",
       "};\n",
       "\n",
       "/*\n",
       " * return a copy of an object with only non-object keys\n",
       " * we need this to avoid circular references\n",
       " * http://stackoverflow.com/a/24161582/3208463\n",
       " */\n",
       "function simpleKeys (original) {\n",
       "  return Object.keys(original).reduce(function (obj, key) {\n",
       "    if (typeof original[key] !== 'object')\n",
       "        obj[key] = original[key]\n",
       "    return obj;\n",
       "  }, {});\n",
       "}\n",
       "\n",
       "mpl.figure.prototype.mouse_event = function(event, name) {\n",
       "    var canvas_pos = mpl.findpos(event)\n",
       "\n",
       "    if (name === 'button_press')\n",
       "    {\n",
       "        this.canvas.focus();\n",
       "        this.canvas_div.focus();\n",
       "    }\n",
       "\n",
       "    var x = canvas_pos.x;\n",
       "    var y = canvas_pos.y;\n",
       "\n",
       "    this.send_message(name, {x: x, y: y, button: event.button,\n",
       "                             step: event.step,\n",
       "                             guiEvent: simpleKeys(event)});\n",
       "\n",
       "    /* This prevents the web browser from automatically changing to\n",
       "     * the text insertion cursor when the button is pressed.  We want\n",
       "     * to control all of the cursor setting manually through the\n",
       "     * 'cursor' event from matplotlib */\n",
       "    event.preventDefault();\n",
       "    return false;\n",
       "}\n",
       "\n",
       "mpl.figure.prototype._key_event_extra = function(event, name) {\n",
       "    // Handle any extra behaviour associated with a key event\n",
       "}\n",
       "\n",
       "mpl.figure.prototype.key_event = function(event, name) {\n",
       "\n",
       "    // Prevent repeat events\n",
       "    if (name == 'key_press')\n",
       "    {\n",
       "        if (event.which === this._key)\n",
       "            return;\n",
       "        else\n",
       "            this._key = event.which;\n",
       "    }\n",
       "    if (name == 'key_release')\n",
       "        this._key = null;\n",
       "\n",
       "    var value = '';\n",
       "    if (event.ctrlKey && event.which != 17)\n",
       "        value += \"ctrl+\";\n",
       "    if (event.altKey && event.which != 18)\n",
       "        value += \"alt+\";\n",
       "    if (event.shiftKey && event.which != 16)\n",
       "        value += \"shift+\";\n",
       "\n",
       "    value += 'k';\n",
       "    value += event.which.toString();\n",
       "\n",
       "    this._key_event_extra(event, name);\n",
       "\n",
       "    this.send_message(name, {key: value,\n",
       "                             guiEvent: simpleKeys(event)});\n",
       "    return false;\n",
       "}\n",
       "\n",
       "mpl.figure.prototype.toolbar_button_onclick = function(name) {\n",
       "    if (name == 'download') {\n",
       "        this.handle_save(this, null);\n",
       "    } else {\n",
       "        this.send_message(\"toolbar_button\", {name: name});\n",
       "    }\n",
       "};\n",
       "\n",
       "mpl.figure.prototype.toolbar_button_onmouseover = function(tooltip) {\n",
       "    this.message.textContent = tooltip;\n",
       "};\n",
       "mpl.toolbar_items = [[\"Home\", \"Reset original view\", \"fa fa-home icon-home\", \"home\"], [\"Back\", \"Back to  previous view\", \"fa fa-arrow-left icon-arrow-left\", \"back\"], [\"Forward\", \"Forward to next view\", \"fa fa-arrow-right icon-arrow-right\", \"forward\"], [\"\", \"\", \"\", \"\"], [\"Pan\", \"Pan axes with left mouse, zoom with right\", \"fa fa-arrows icon-move\", \"pan\"], [\"Zoom\", \"Zoom to rectangle\", \"fa fa-square-o icon-check-empty\", \"zoom\"], [\"\", \"\", \"\", \"\"], [\"Download\", \"Download plot\", \"fa fa-floppy-o icon-save\", \"download\"]];\n",
       "\n",
       "mpl.extensions = [\"eps\", \"jpeg\", \"pdf\", \"png\", \"ps\", \"raw\", \"svg\", \"tif\"];\n",
       "\n",
       "mpl.default_extension = \"png\";var comm_websocket_adapter = function(comm) {\n",
       "    // Create a \"websocket\"-like object which calls the given IPython comm\n",
       "    // object with the appropriate methods. Currently this is a non binary\n",
       "    // socket, so there is still some room for performance tuning.\n",
       "    var ws = {};\n",
       "\n",
       "    ws.close = function() {\n",
       "        comm.close()\n",
       "    };\n",
       "    ws.send = function(m) {\n",
       "        //console.log('sending', m);\n",
       "        comm.send(m);\n",
       "    };\n",
       "    // Register the callback with on_msg.\n",
       "    comm.on_msg(function(msg) {\n",
       "        //console.log('receiving', msg['content']['data'], msg);\n",
       "        // Pass the mpl event to the overriden (by mpl) onmessage function.\n",
       "        ws.onmessage(msg['content']['data'])\n",
       "    });\n",
       "    return ws;\n",
       "}\n",
       "\n",
       "mpl.mpl_figure_comm = function(comm, msg) {\n",
       "    // This is the function which gets called when the mpl process\n",
       "    // starts-up an IPython Comm through the \"matplotlib\" channel.\n",
       "\n",
       "    var id = msg.content.data.id;\n",
       "    // Get hold of the div created by the display call when the Comm\n",
       "    // socket was opened in Python.\n",
       "    var element = $(\"#\" + id);\n",
       "    var ws_proxy = comm_websocket_adapter(comm)\n",
       "\n",
       "    function ondownload(figure, format) {\n",
       "        window.open(figure.imageObj.src);\n",
       "    }\n",
       "\n",
       "    var fig = new mpl.figure(id, ws_proxy,\n",
       "                           ondownload,\n",
       "                           element.get(0));\n",
       "\n",
       "    // Call onopen now - mpl needs it, as it is assuming we've passed it a real\n",
       "    // web socket which is closed, not our websocket->open comm proxy.\n",
       "    ws_proxy.onopen();\n",
       "\n",
       "    fig.parent_element = element.get(0);\n",
       "    fig.cell_info = mpl.find_output_cell(\"<div id='\" + id + \"'></div>\");\n",
       "    if (!fig.cell_info) {\n",
       "        console.error(\"Failed to find cell for figure\", id, fig);\n",
       "        return;\n",
       "    }\n",
       "\n",
       "    var output_index = fig.cell_info[2]\n",
       "    var cell = fig.cell_info[0];\n",
       "\n",
       "};\n",
       "\n",
       "mpl.figure.prototype.handle_close = function(fig, msg) {\n",
       "    fig.root.unbind('remove')\n",
       "\n",
       "    // Update the output cell to use the data from the current canvas.\n",
       "    fig.push_to_output();\n",
       "    var dataURL = fig.canvas.toDataURL();\n",
       "    // Re-enable the keyboard manager in IPython - without this line, in FF,\n",
       "    // the notebook keyboard shortcuts fail.\n",
       "    IPython.keyboard_manager.enable()\n",
       "    $(fig.parent_element).html('<img src=\"' + dataURL + '\">');\n",
       "    fig.close_ws(fig, msg);\n",
       "}\n",
       "\n",
       "mpl.figure.prototype.close_ws = function(fig, msg){\n",
       "    fig.send_message('closing', msg);\n",
       "    // fig.ws.close()\n",
       "}\n",
       "\n",
       "mpl.figure.prototype.push_to_output = function(remove_interactive) {\n",
       "    // Turn the data on the canvas into data in the output cell.\n",
       "    var dataURL = this.canvas.toDataURL();\n",
       "    this.cell_info[1]['text/html'] = '<img src=\"' + dataURL + '\">';\n",
       "}\n",
       "\n",
       "mpl.figure.prototype.updated_canvas_event = function() {\n",
       "    // Tell IPython that the notebook contents must change.\n",
       "    IPython.notebook.set_dirty(true);\n",
       "    this.send_message(\"ack\", {});\n",
       "    var fig = this;\n",
       "    // Wait a second, then push the new image to the DOM so\n",
       "    // that it is saved nicely (might be nice to debounce this).\n",
       "    setTimeout(function () { fig.push_to_output() }, 1000);\n",
       "}\n",
       "\n",
       "mpl.figure.prototype._init_toolbar = function() {\n",
       "    var fig = this;\n",
       "\n",
       "    var nav_element = $('<div/>')\n",
       "    nav_element.attr('style', 'width: 100%');\n",
       "    this.root.append(nav_element);\n",
       "\n",
       "    // Define a callback function for later on.\n",
       "    function toolbar_event(event) {\n",
       "        return fig.toolbar_button_onclick(event['data']);\n",
       "    }\n",
       "    function toolbar_mouse_event(event) {\n",
       "        return fig.toolbar_button_onmouseover(event['data']);\n",
       "    }\n",
       "\n",
       "    for(var toolbar_ind in mpl.toolbar_items){\n",
       "        var name = mpl.toolbar_items[toolbar_ind][0];\n",
       "        var tooltip = mpl.toolbar_items[toolbar_ind][1];\n",
       "        var image = mpl.toolbar_items[toolbar_ind][2];\n",
       "        var method_name = mpl.toolbar_items[toolbar_ind][3];\n",
       "\n",
       "        if (!name) { continue; };\n",
       "\n",
       "        var button = $('<button class=\"btn btn-default\" href=\"#\" title=\"' + name + '\"><i class=\"fa ' + image + ' fa-lg\"></i></button>');\n",
       "        button.click(method_name, toolbar_event);\n",
       "        button.mouseover(tooltip, toolbar_mouse_event);\n",
       "        nav_element.append(button);\n",
       "    }\n",
       "\n",
       "    // Add the status bar.\n",
       "    var status_bar = $('<span class=\"mpl-message\" style=\"text-align:right; float: right;\"/>');\n",
       "    nav_element.append(status_bar);\n",
       "    this.message = status_bar[0];\n",
       "\n",
       "    // Add the close button to the window.\n",
       "    var buttongrp = $('<div class=\"btn-group inline pull-right\"></div>');\n",
       "    var button = $('<button class=\"btn btn-mini btn-primary\" href=\"#\" title=\"Stop Interaction\"><i class=\"fa fa-power-off icon-remove icon-large\"></i></button>');\n",
       "    button.click(function (evt) { fig.handle_close(fig, {}); } );\n",
       "    button.mouseover('Stop Interaction', toolbar_mouse_event);\n",
       "    buttongrp.append(button);\n",
       "    var titlebar = this.root.find($('.ui-dialog-titlebar'));\n",
       "    titlebar.prepend(buttongrp);\n",
       "}\n",
       "\n",
       "mpl.figure.prototype._root_extra_style = function(el){\n",
       "    var fig = this\n",
       "    el.on(\"remove\", function(){\n",
       "\tfig.close_ws(fig, {});\n",
       "    });\n",
       "}\n",
       "\n",
       "mpl.figure.prototype._canvas_extra_style = function(el){\n",
       "    // this is important to make the div 'focusable\n",
       "    el.attr('tabindex', 0)\n",
       "    // reach out to IPython and tell the keyboard manager to turn it's self\n",
       "    // off when our div gets focus\n",
       "\n",
       "    // location in version 3\n",
       "    if (IPython.notebook.keyboard_manager) {\n",
       "        IPython.notebook.keyboard_manager.register_events(el);\n",
       "    }\n",
       "    else {\n",
       "        // location in version 2\n",
       "        IPython.keyboard_manager.register_events(el);\n",
       "    }\n",
       "\n",
       "}\n",
       "\n",
       "mpl.figure.prototype._key_event_extra = function(event, name) {\n",
       "    var manager = IPython.notebook.keyboard_manager;\n",
       "    if (!manager)\n",
       "        manager = IPython.keyboard_manager;\n",
       "\n",
       "    // Check for shift+enter\n",
       "    if (event.shiftKey && event.which == 13) {\n",
       "        this.canvas_div.blur();\n",
       "        event.shiftKey = false;\n",
       "        // Send a \"J\" for go to next cell\n",
       "        event.which = 74;\n",
       "        event.keyCode = 74;\n",
       "        manager.command_mode();\n",
       "        manager.handle_keydown(event);\n",
       "    }\n",
       "}\n",
       "\n",
       "mpl.figure.prototype.handle_save = function(fig, msg) {\n",
       "    fig.ondownload(fig, null);\n",
       "}\n",
       "\n",
       "\n",
       "mpl.find_output_cell = function(html_output) {\n",
       "    // Return the cell and output element which can be found *uniquely* in the notebook.\n",
       "    // Note - this is a bit hacky, but it is done because the \"notebook_saving.Notebook\"\n",
       "    // IPython event is triggered only after the cells have been serialised, which for\n",
       "    // our purposes (turning an active figure into a static one), is too late.\n",
       "    var cells = IPython.notebook.get_cells();\n",
       "    var ncells = cells.length;\n",
       "    for (var i=0; i<ncells; i++) {\n",
       "        var cell = cells[i];\n",
       "        if (cell.cell_type === 'code'){\n",
       "            for (var j=0; j<cell.output_area.outputs.length; j++) {\n",
       "                var data = cell.output_area.outputs[j];\n",
       "                if (data.data) {\n",
       "                    // IPython >= 3 moved mimebundle to data attribute of output\n",
       "                    data = data.data;\n",
       "                }\n",
       "                if (data['text/html'] == html_output) {\n",
       "                    return [cell, data, j];\n",
       "                }\n",
       "            }\n",
       "        }\n",
       "    }\n",
       "}\n",
       "\n",
       "// Register the function which deals with the matplotlib target/channel.\n",
       "// The kernel may be null if the page has been refreshed.\n",
       "if (IPython.notebook.kernel != null) {\n",
       "    IPython.notebook.kernel.comm_manager.register_target('matplotlib', mpl.mpl_figure_comm);\n",
       "}\n"
      ],
      "text/plain": [
       "<IPython.core.display.Javascript object>"
      ]
     },
     "metadata": {},
     "output_type": "display_data"
    },
    {
     "data": {
      "text/html": [
       "<img src=\"data:image/png;base64,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\">"
      ],
      "text/plain": [
       "<IPython.core.display.HTML object>"
      ]
     },
     "metadata": {},
     "output_type": "display_data"
    }
   ],
   "source": [
    "line_train, = plot([], [], 'go-', label=\"average training loss\")\n",
    "line_curr_val, = plot([],[], 'bo:', label=\"avrg current validation loss\")\n",
    "line_best_val, = plot([], [], 'ko-', label=\"avrg best validation loss\")\n",
    "# plt.ticklabel_format(style='sci', axis='y', scilimits=(0,0))\n",
    "yscale('log')\n",
    "ylabel(\"validation loss\")\n",
    "gca().yaxis.set_minor_formatter(FormatStrFormatter(\"%.2g\"))\n",
    "xlabel(\"#epoch\")\n",
    "legend(loc='lower left', fancybox=True, framealpha=0.5)\n",
    "\n",
    "best_val_loss = optimizer_kwargs['num_loss'](opt.wrt, validation) #/val_size\n",
    "training_loss = optimizer_kwargs['num_loss'](opt.wrt, training[:10])\n",
    "add_point(line_best_val, 0, best_val_loss)  \n",
    "add_point(line_curr_val, 0, best_val_loss)\n",
    "add_point(line_train, 0, training_loss)"
   ]
  },
  {
   "cell_type": "code",
   "execution_count": 29,
   "metadata": {
    "collapsed": false
   },
   "outputs": [
    {
     "ename": "KeyboardInterrupt",
     "evalue": "",
     "output_type": "error",
     "traceback": [
      "\u001b[1;31m---------------------------------------------------------------------------\u001b[0m",
      "\u001b[1;31mKeyboardInterrupt\u001b[0m                         Traceback (most recent call last)",
      "\u001b[1;32m<ipython-input-29-a0185031d5af>\u001b[0m in \u001b[0;36m<module>\u001b[1;34m()\u001b[0m\n\u001b[0;32m      4\u001b[0m \u001b[0mn_epochs\u001b[0m \u001b[1;33m=\u001b[0m \u001b[1;36m100\u001b[0m  \u001b[1;31m# taken from UncertainWeightsPaper\u001b[0m\u001b[1;33m\u001b[0m\u001b[0m\n\u001b[0;32m      5\u001b[0m \u001b[1;33m\u001b[0m\u001b[0m\n\u001b[1;32m----> 6\u001b[1;33m \u001b[1;32mfor\u001b[0m \u001b[0minfo\u001b[0m \u001b[1;32min\u001b[0m \u001b[0mtakeN\u001b[0m\u001b[1;33m(\u001b[0m\u001b[0mn_epochs\u001b[0m\u001b[1;33m,\u001b[0m \u001b[0mevery\u001b[0m\u001b[1;33m(\u001b[0m\u001b[0mn_batches\u001b[0m\u001b[1;33m,\u001b[0m \u001b[0mopt\u001b[0m\u001b[1;33m)\u001b[0m\u001b[1;33m)\u001b[0m\u001b[1;33m:\u001b[0m\u001b[1;33m\u001b[0m\u001b[0m\n\u001b[0m\u001b[0;32m      7\u001b[0m     \u001b[0mcurrent_epoch\u001b[0m \u001b[1;33m=\u001b[0m \u001b[0minfo\u001b[0m\u001b[1;33m[\u001b[0m\u001b[1;34m'n_iter'\u001b[0m\u001b[1;33m]\u001b[0m\u001b[1;33m//\u001b[0m\u001b[0mn_batches\u001b[0m\u001b[1;33m\u001b[0m\u001b[0m\n\u001b[0;32m      8\u001b[0m     \u001b[1;31m# collect and visualize validation loss for choosing the best model\u001b[0m\u001b[1;33m\u001b[0m\u001b[1;33m\u001b[0m\u001b[0m\n",
      "\u001b[1;32m/home/stephan/GitProjects/schlichtanders/schlichtanders/mygenerators.pyc\u001b[0m in \u001b[0;36mevery\u001b[1;34m(nth, iterable)\u001b[0m\n\u001b[0;32m    164\u001b[0m     \u001b[0mit\u001b[0m \u001b[1;33m=\u001b[0m \u001b[0miter\u001b[0m\u001b[1;33m(\u001b[0m\u001b[0miterable\u001b[0m\u001b[1;33m)\u001b[0m\u001b[1;33m\u001b[0m\u001b[0m\n\u001b[0;32m    165\u001b[0m     \u001b[1;32mwhile\u001b[0m \u001b[0mTrue\u001b[0m\u001b[1;33m:\u001b[0m\u001b[1;33m\u001b[0m\u001b[0m\n\u001b[1;32m--> 166\u001b[1;33m         \u001b[0meat\u001b[0m\u001b[1;33m(\u001b[0m\u001b[0mit\u001b[0m\u001b[1;33m,\u001b[0m \u001b[0mnth\u001b[0m\u001b[1;33m-\u001b[0m\u001b[1;36m1\u001b[0m\u001b[1;33m)\u001b[0m\u001b[1;33m\u001b[0m\u001b[0m\n\u001b[0m\u001b[0;32m    167\u001b[0m         \u001b[1;32myield\u001b[0m \u001b[0mnext\u001b[0m\u001b[1;33m(\u001b[0m\u001b[0mit\u001b[0m\u001b[1;33m)\u001b[0m\u001b[1;33m\u001b[0m\u001b[0m\n\u001b[0;32m    168\u001b[0m \u001b[1;33m\u001b[0m\u001b[0m\n",
      "\u001b[1;32m/home/stephan/GitProjects/schlichtanders/schlichtanders/mygenerators.pyc\u001b[0m in \u001b[0;36meat\u001b[1;34m(gen, n)\u001b[0m\n\u001b[0;32m    135\u001b[0m \u001b[1;32mdef\u001b[0m \u001b[0meat\u001b[0m\u001b[1;33m(\u001b[0m\u001b[0mgen\u001b[0m\u001b[1;33m,\u001b[0m \u001b[0mn\u001b[0m\u001b[1;33m=\u001b[0m\u001b[1;36m1\u001b[0m\u001b[1;33m)\u001b[0m\u001b[1;33m:\u001b[0m\u001b[1;33m\u001b[0m\u001b[0m\n\u001b[0;32m    136\u001b[0m     \u001b[1;32mfor\u001b[0m \u001b[0m_\u001b[0m \u001b[1;32min\u001b[0m \u001b[0mxrange\u001b[0m\u001b[1;33m(\u001b[0m\u001b[0mn\u001b[0m\u001b[1;33m)\u001b[0m\u001b[1;33m:\u001b[0m\u001b[1;33m\u001b[0m\u001b[0m\n\u001b[1;32m--> 137\u001b[1;33m         \u001b[0mnext\u001b[0m\u001b[1;33m(\u001b[0m\u001b[0mgen\u001b[0m\u001b[1;33m)\u001b[0m\u001b[1;33m\u001b[0m\u001b[0m\n\u001b[0m\u001b[0;32m    138\u001b[0m \u001b[1;33m\u001b[0m\u001b[0m\n\u001b[0;32m    139\u001b[0m \u001b[1;32mdef\u001b[0m \u001b[0meatN\u001b[0m\u001b[1;33m(\u001b[0m\u001b[0mN\u001b[0m\u001b[1;33m,\u001b[0m \u001b[0miterator\u001b[0m\u001b[1;33m)\u001b[0m\u001b[1;33m:\u001b[0m\u001b[1;33m\u001b[0m\u001b[0m\n",
      "\u001b[1;32m/home/stephan/GitProjects/climin/climin/base.pyc\u001b[0m in \u001b[0;36m__iter__\u001b[1;34m(self)\u001b[0m\n\u001b[0;32m     82\u001b[0m \u001b[1;33m\u001b[0m\u001b[0m\n\u001b[0;32m     83\u001b[0m     \u001b[1;32mdef\u001b[0m \u001b[0m__iter__\u001b[0m\u001b[1;33m(\u001b[0m\u001b[0mself\u001b[0m\u001b[1;33m)\u001b[0m\u001b[1;33m:\u001b[0m\u001b[1;33m\u001b[0m\u001b[0m\n\u001b[1;32m---> 84\u001b[1;33m         \u001b[1;32mfor\u001b[0m \u001b[0minfo\u001b[0m \u001b[1;32min\u001b[0m \u001b[0mself\u001b[0m\u001b[1;33m.\u001b[0m\u001b[0m_iterate\u001b[0m\u001b[1;33m(\u001b[0m\u001b[1;33m)\u001b[0m\u001b[1;33m:\u001b[0m\u001b[1;33m\u001b[0m\u001b[0m\n\u001b[0m\u001b[0;32m     85\u001b[0m             \u001b[1;32myield\u001b[0m \u001b[0mself\u001b[0m\u001b[1;33m.\u001b[0m\u001b[0mextended_info\u001b[0m\u001b[1;33m(\u001b[0m\u001b[1;33m**\u001b[0m\u001b[0minfo\u001b[0m\u001b[1;33m)\u001b[0m\u001b[1;33m\u001b[0m\u001b[0m\n\u001b[0;32m     86\u001b[0m \u001b[1;33m\u001b[0m\u001b[0m\n",
      "\u001b[1;32m/home/stephan/GitProjects/climin/climin/adadelta.pyc\u001b[0m in \u001b[0;36m_iterate\u001b[1;34m(self)\u001b[0m\n\u001b[0;32m    112\u001b[0m             \u001b[0mself\u001b[0m\u001b[1;33m.\u001b[0m\u001b[0mwrt\u001b[0m \u001b[1;33m-=\u001b[0m \u001b[0mstep1\u001b[0m\u001b[1;33m\u001b[0m\u001b[0m\n\u001b[0;32m    113\u001b[0m \u001b[1;33m\u001b[0m\u001b[0m\n\u001b[1;32m--> 114\u001b[1;33m             \u001b[0mgradient\u001b[0m \u001b[1;33m=\u001b[0m \u001b[0mself\u001b[0m\u001b[1;33m.\u001b[0m\u001b[0mfprime\u001b[0m\u001b[1;33m(\u001b[0m\u001b[0mself\u001b[0m\u001b[1;33m.\u001b[0m\u001b[0mwrt\u001b[0m\u001b[1;33m,\u001b[0m \u001b[1;33m*\u001b[0m\u001b[0margs\u001b[0m\u001b[1;33m,\u001b[0m \u001b[1;33m**\u001b[0m\u001b[0mkwargs\u001b[0m\u001b[1;33m)\u001b[0m\u001b[1;33m\u001b[0m\u001b[0m\n\u001b[0m\u001b[0;32m    115\u001b[0m \u001b[1;33m\u001b[0m\u001b[0m\n\u001b[0;32m    116\u001b[0m             \u001b[0mself\u001b[0m\u001b[1;33m.\u001b[0m\u001b[0mgms\u001b[0m \u001b[1;33m=\u001b[0m \u001b[1;33m(\u001b[0m\u001b[0md\u001b[0m \u001b[1;33m*\u001b[0m \u001b[0mself\u001b[0m\u001b[1;33m.\u001b[0m\u001b[0mgms\u001b[0m\u001b[1;33m)\u001b[0m \u001b[1;33m+\u001b[0m \u001b[1;33m(\u001b[0m\u001b[1;36m1\u001b[0m \u001b[1;33m-\u001b[0m \u001b[0md\u001b[0m\u001b[1;33m)\u001b[0m \u001b[1;33m*\u001b[0m \u001b[0mgradient\u001b[0m \u001b[1;33m**\u001b[0m \u001b[1;36m2\u001b[0m\u001b[1;33m\u001b[0m\u001b[0m\n",
      "\u001b[1;32m/home/stephan/GitProjects/theano_models/theano_models/loss.pyc\u001b[0m in \u001b[0;36mf\u001b[1;34m(parameters, *loss_inputs)\u001b[0m\n\u001b[0;32m    287\u001b[0m                 \u001b[1;32mdef\u001b[0m \u001b[0mh\u001b[0m\u001b[1;33m(\u001b[0m\u001b[1;33m*\u001b[0m\u001b[0minner_loss_inputs\u001b[0m\u001b[1;33m)\u001b[0m\u001b[1;33m:\u001b[0m\u001b[1;33m\u001b[0m\u001b[0m\n\u001b[0;32m    288\u001b[0m                     \u001b[1;32mreturn\u001b[0m \u001b[0mfoutput\u001b[0m\u001b[1;33m(\u001b[0m\u001b[1;33m*\u001b[0m\u001b[1;33m(\u001b[0m\u001b[0mrparam\u001b[0m \u001b[1;33m+\u001b[0m \u001b[0mlist\u001b[0m\u001b[1;33m(\u001b[0m\u001b[0minner_loss_inputs\u001b[0m\u001b[1;33m)\u001b[0m\u001b[1;33m)\u001b[0m\u001b[1;33m)\u001b[0m\u001b[1;33m\u001b[0m\u001b[0m\n\u001b[1;32m--> 289\u001b[1;33m                 \u001b[1;32mreturn\u001b[0m \u001b[0mbatch_mapreduce\u001b[0m\u001b[1;33m(\u001b[0m\u001b[0mh\u001b[0m\u001b[1;33m,\u001b[0m \u001b[1;33m*\u001b[0m\u001b[0mloss_inputs\u001b[0m\u001b[1;33m)\u001b[0m\u001b[1;33m\u001b[0m\u001b[0m\n\u001b[0m\u001b[0;32m    290\u001b[0m             \u001b[0mf\u001b[0m\u001b[1;33m.\u001b[0m\u001b[0mwrapped\u001b[0m \u001b[1;33m=\u001b[0m \u001b[0mfparam\u001b[0m\u001b[1;33m,\u001b[0m \u001b[0mfoutput\u001b[0m\u001b[1;33m\u001b[0m\u001b[0m\n\u001b[0;32m    291\u001b[0m \u001b[1;33m\u001b[0m\u001b[0m\n",
      "\u001b[1;32m/home/stephan/GitProjects/schlichtanders/schlichtanders/myfunctools.pyc\u001b[0m in \u001b[0;36mmeanmap\u001b[1;34m(f, *batch_args)\u001b[0m\n\u001b[0;32m    131\u001b[0m         \u001b[1;32mwhile\u001b[0m \u001b[0mTrue\u001b[0m\u001b[1;33m:\u001b[0m\u001b[1;33m\u001b[0m\u001b[0m\n\u001b[0;32m    132\u001b[0m             \u001b[1;31m# TODO get to know why??\u001b[0m\u001b[1;33m\u001b[0m\u001b[1;33m\u001b[0m\u001b[0m\n\u001b[1;32m--> 133\u001b[1;33m             \u001b[0msummed_up\u001b[0m \u001b[1;33m+=\u001b[0m \u001b[0mf\u001b[0m\u001b[1;33m(\u001b[0m\u001b[1;33m*\u001b[0m\u001b[1;33m[\u001b[0m\u001b[0mnext\u001b[0m\u001b[1;33m(\u001b[0m\u001b[0ma\u001b[0m\u001b[1;33m)\u001b[0m \u001b[1;32mfor\u001b[0m \u001b[0ma\u001b[0m \u001b[1;32min\u001b[0m \u001b[0mbatch_args\u001b[0m\u001b[1;33m]\u001b[0m\u001b[1;33m)\u001b[0m\u001b[1;33m\u001b[0m\u001b[0m\n\u001b[0m\u001b[0;32m    134\u001b[0m             \u001b[0mn\u001b[0m \u001b[1;33m+=\u001b[0m \u001b[1;36m1\u001b[0m\u001b[1;33m\u001b[0m\u001b[0m\n\u001b[0;32m    135\u001b[0m     \u001b[1;32mreturn\u001b[0m \u001b[0msummed_up\u001b[0m\u001b[1;33m/\u001b[0m\u001b[0mn\u001b[0m\u001b[1;33m\u001b[0m\u001b[0m\n",
      "\u001b[1;32m/home/stephan/GitProjects/theano_models/theano_models/loss.pyc\u001b[0m in \u001b[0;36mh\u001b[1;34m(*inner_loss_inputs)\u001b[0m\n\u001b[0;32m    286\u001b[0m                 \u001b[0mrparam\u001b[0m \u001b[1;33m=\u001b[0m \u001b[0mfparam\u001b[0m\u001b[1;33m(\u001b[0m\u001b[0mparameters\u001b[0m\u001b[1;33m)\u001b[0m\u001b[1;33m\u001b[0m\u001b[0m\n\u001b[0;32m    287\u001b[0m                 \u001b[1;32mdef\u001b[0m \u001b[0mh\u001b[0m\u001b[1;33m(\u001b[0m\u001b[1;33m*\u001b[0m\u001b[0minner_loss_inputs\u001b[0m\u001b[1;33m)\u001b[0m\u001b[1;33m:\u001b[0m\u001b[1;33m\u001b[0m\u001b[0m\n\u001b[1;32m--> 288\u001b[1;33m                     \u001b[1;32mreturn\u001b[0m \u001b[0mfoutput\u001b[0m\u001b[1;33m(\u001b[0m\u001b[1;33m*\u001b[0m\u001b[1;33m(\u001b[0m\u001b[0mrparam\u001b[0m \u001b[1;33m+\u001b[0m \u001b[0mlist\u001b[0m\u001b[1;33m(\u001b[0m\u001b[0minner_loss_inputs\u001b[0m\u001b[1;33m)\u001b[0m\u001b[1;33m)\u001b[0m\u001b[1;33m)\u001b[0m\u001b[1;33m\u001b[0m\u001b[0m\n\u001b[0m\u001b[0;32m    289\u001b[0m                 \u001b[1;32mreturn\u001b[0m \u001b[0mbatch_mapreduce\u001b[0m\u001b[1;33m(\u001b[0m\u001b[0mh\u001b[0m\u001b[1;33m,\u001b[0m \u001b[1;33m*\u001b[0m\u001b[0mloss_inputs\u001b[0m\u001b[1;33m)\u001b[0m\u001b[1;33m\u001b[0m\u001b[0m\n\u001b[0;32m    290\u001b[0m             \u001b[0mf\u001b[0m\u001b[1;33m.\u001b[0m\u001b[0mwrapped\u001b[0m \u001b[1;33m=\u001b[0m \u001b[0mfparam\u001b[0m\u001b[1;33m,\u001b[0m \u001b[0mfoutput\u001b[0m\u001b[1;33m\u001b[0m\u001b[0m\n",
      "\u001b[1;32m/home/stephan/GitProjects/Theano/theano/compile/function_module.pyc\u001b[0m in \u001b[0;36m__call__\u001b[1;34m(self, *args, **kwargs)\u001b[0m\n\u001b[0;32m    891\u001b[0m         \u001b[1;31m# These cannot be re-used anyway.\u001b[0m\u001b[1;33m\u001b[0m\u001b[1;33m\u001b[0m\u001b[0m\n\u001b[0;32m    892\u001b[0m         \u001b[1;32mfor\u001b[0m \u001b[0mc\u001b[0m \u001b[1;32min\u001b[0m \u001b[0mself\u001b[0m\u001b[1;33m.\u001b[0m\u001b[0minput_storage\u001b[0m\u001b[1;33m:\u001b[0m\u001b[1;33m\u001b[0m\u001b[0m\n\u001b[1;32m--> 893\u001b[1;33m             \u001b[1;32mif\u001b[0m \u001b[0mc\u001b[0m\u001b[1;33m.\u001b[0m\u001b[0mrequired\u001b[0m\u001b[1;33m:\u001b[0m\u001b[1;33m\u001b[0m\u001b[0m\n\u001b[0m\u001b[0;32m    894\u001b[0m                 \u001b[0mc\u001b[0m\u001b[1;33m.\u001b[0m\u001b[0mstorage\u001b[0m\u001b[1;33m[\u001b[0m\u001b[1;36m0\u001b[0m\u001b[1;33m]\u001b[0m \u001b[1;33m=\u001b[0m \u001b[0mNone\u001b[0m\u001b[1;33m\u001b[0m\u001b[0m\n\u001b[0;32m    895\u001b[0m \u001b[1;33m\u001b[0m\u001b[0m\n",
      "\u001b[1;31mKeyboardInterrupt\u001b[0m: "
     ]
    }
   ],
   "source": [
    "# best_val_loss = inf\n",
    "best_wrt = None\n",
    "\n",
    "max_epochs_without_improvement = 10  # taken from UncertainWeightsPaper\n",
    "epoch_last_improvement = opt.n_iter//n_batches\n",
    "\n",
    "for info in every(n_batches, opt):\n",
    "    current_epoch = info['n_iter']//n_batches\n",
    "    if current_epoch - epoch_last_improvement > max_epochs_without_improvement:\n",
    "        break\n",
    "    # collect and visualize validation loss for choosing the best model\n",
    "    val_loss = optimizer_kwargs['num_loss'](opt.wrt, validation) #/val_size\n",
    "    if val_loss < best_val_loss:\n",
    "        epoch_last_improvement = current_epoch\n",
    "        best_wrt = opt.wrt\n",
    "        best_val_loss = val_loss\n",
    "        add_point(line_best_val, current_epoch, val_loss)\n",
    "    add_point(line_curr_val, current_epoch, val_loss)\n",
    "    \n",
    "    # visualize training loss for comparison:\n",
    "    try:\n",
    "        training_loss = info['loss'] #/ len(Z)  # TODO normalization needed?\n",
    "    except KeyError:\n",
    "        training_loss = optimizer_kwargs['num_loss'](opt.wrt, training[:10]) #/len(Z)\n",
    "    add_point(line_train, current_epoch, training_loss)\n",
    "    \n",
    "#     print info['n_iter'], training_loss, val_loss, best_val_loss"
   ]
  },
  {
   "cell_type": "code",
   "execution_count": 27,
   "metadata": {
    "collapsed": false
   },
   "outputs": [
    {
     "name": "stdout",
     "output_type": "stream",
     "text": [
      "                           fit ~ target\n",
      "     [-0.03102252  4.01111364] ~ [ 1.  1.]\n",
      "     [ 1.03174293  0.98311527] ~ [ 0.  4.]\n",
      "               0.0916900998019 ~ 0.5\n",
      "                0.587293886013 ~ 0.1\n",
      "     [ 0.80336041  0.19663959] ~ [ 0.2  0.8]\n"
     ]
    }
   ],
   "source": [
    "f_parameters = theano.function([model['flat']],\n",
    "                               [g1.mean, t1.mean,\n",
    "                                g2.mean, t2.mean,\n",
    "                                g1.var, t1.var,\n",
    "                                g2.var, t2.var,\n",
    "                                model.mixture_probs, target.mixture_probs])\n",
    "parameters = f_parameters(best_wrt)\n",
    "print \"%30s ~ target\" % \"fit\"\n",
    "for c in chunk_list(2, parameters):\n",
    "    print \"%30s ~ %s\" % tuple(c)"
   ]
  },
  {
   "cell_type": "code",
   "execution_count": null,
   "metadata": {
    "collapsed": true
   },
   "outputs": [],
   "source": []
  }
 ],
 "metadata": {
  "kernelspec": {
   "display_name": "Python 2",
   "language": "python",
   "name": "python2"
  },
  "language_info": {
   "codemirror_mode": {
    "name": "ipython",
    "version": 2
   },
   "file_extension": ".py",
   "mimetype": "text/x-python",
   "name": "python",
   "nbconvert_exporter": "python",
   "pygments_lexer": "ipython2",
   "version": "2.7.6"
  },
  "toc": {
   "toc_cell": false,
   "toc_number_sections": true,
   "toc_threshold": 4,
   "toc_window_display": false
  }
 },
 "nbformat": 4,
 "nbformat_minor": 0
}
