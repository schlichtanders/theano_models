{
 "cells": [
  {
   "cell_type": "code",
   "execution_count": 1,
   "metadata": {
    "collapsed": false,
    "scrolled": true
   },
   "outputs": [
    {
     "name": "stderr",
     "output_type": "stream",
     "text": [
      "/usr/local/lib/python2.7/dist-packages/matplotlib/font_manager.py:273: UserWarning: Matplotlib is building the font cache using fc-list. This may take a moment.\n",
      "  warnings.warn('Matplotlib is building the font cache using fc-list. This may take a moment.')\n"
     ]
    }
   ],
   "source": [
    "%matplotlib notebook\n",
    "from __future__ import division"
   ]
  },
  {
   "cell_type": "code",
   "execution_count": 2,
   "metadata": {
    "collapsed": false
   },
   "outputs": [
    {
     "name": "stdout",
     "output_type": "stream",
     "text": [
      "gnumpy: failed to import cudamat. Using npmat instead. No GPU will be used.\n"
     ]
    }
   ],
   "source": [
    "from matplotlib.pyplot import plot, ylabel, xlabel, yscale, xscale, legend, subplots, gca, gcf\n",
    "from matplotlib.ticker import FormatStrFormatter\n",
    "from theano import function\n",
    "import numpy as np\n",
    "import gzip\n",
    "import cPickle\n",
    "from scipy.optimize import minimize\n",
    "from climin.util import optimizer\n",
    "from itertools import repeat, cycle, islice, izip\n",
    "import random\n",
    "inf = float(\"inf\")"
   ]
  },
  {
   "cell_type": "code",
   "execution_count": 3,
   "metadata": {
    "collapsed": false
   },
   "outputs": [],
   "source": [
    "from breze.learn.data import one_hot\n",
    "from breze.learn.base import cast_array_to_local_type\n",
    "from schlichtanders.myfunctools import compose, meanmap, summap, compose_fmap, Average\n",
    "from schlichtanders import myfunctools\n",
    "from schlichtanders.mygenerators import eatN, chunk, chunk_list, every, takeN\n",
    "from schlichtanders.myplot import add_val, add_point"
   ]
  },
  {
   "cell_type": "code",
   "execution_count": 4,
   "metadata": {
    "collapsed": false
   },
   "outputs": [],
   "source": [
    "from theano_models import (Merge, Flatten, Reparameterize, reduce_all_identities,\n",
    "                           inputting_references, outputting_references)\n",
    "from theano_models.tools import (as_tensor_variable, total_size, clone, clone_all,PooledRandomStreams,\n",
    "                                 get_profile, squareplus, squareplus_inv, softplus, softplus_inv)\n",
    "from theano_models.visualization import d3viz\n",
    "from IPython.display import IFrame\n",
    "import theano_models.deterministic_models as dm\n",
    "import theano_models.probabilistic_models as pm\n",
    "import theano_models.extra_models as em\n",
    "import theano_models.postmaps as post\n",
    "from theano_models.composing import normalizing_flow, variational_bayes"
   ]
  },
  {
   "cell_type": "code",
   "execution_count": 5,
   "metadata": {
    "collapsed": true
   },
   "outputs": [],
   "source": [
    "import theano\n",
    "import theano.tensor as T\n",
    "from theano.printing import debugprint\n",
    "from theano.tensor.shared_randomstreams import RandomStreams"
   ]
  },
  {
   "cell_type": "code",
   "execution_count": 6,
   "metadata": {
    "collapsed": false
   },
   "outputs": [],
   "source": [
    "from sqlalchemy import Column, Integer, Unicode, UnicodeText, String, PickleType, Float\n",
    "from sqlalchemy import create_engine\n",
    "from sqlalchemy.orm import sessionmaker\n",
    "from sqlalchemy.ext.declarative import declarative_base"
   ]
  },
  {
   "cell_type": "code",
   "execution_count": 7,
   "metadata": {
    "collapsed": false
   },
   "outputs": [],
   "source": [
    "import warnings\n",
    "warnings.filterwarnings(\"ignore\", category=DeprecationWarning)"
   ]
  },
  {
   "cell_type": "code",
   "execution_count": 8,
   "metadata": {
    "collapsed": false
   },
   "outputs": [
    {
     "data": {
      "text/plain": [
       "({'flat',\n",
       "  'inputs',\n",
       "  'n_data',\n",
       "  'noise',\n",
       "  'parameters',\n",
       "  'parameters_positive',\n",
       "  'parameters_psumto1',\n",
       "  'to_be_randomized'},\n",
       " {'kl_prior', 'logP', 'loglikelihood', 'norm_det', 'outputs'})"
      ]
     },
     "execution_count": 8,
     "metadata": {},
     "output_type": "execute_result"
    }
   ],
   "source": [
    "inputting_references.update(['to_be_randomized'])\n",
    "inputting_references, outputting_references"
   ]
  },
  {
   "cell_type": "code",
   "execution_count": 9,
   "metadata": {
    "collapsed": true
   },
   "outputs": [],
   "source": [
    "from schlichtanders.myobjects import NestedNamespace"
   ]
  },
  {
   "cell_type": "code",
   "execution_count": 10,
   "metadata": {
    "collapsed": true
   },
   "outputs": [],
   "source": [
    "pm.RNG = NestedNamespace(PooledRandomStreams(pool_size=int(5e8)), RandomStreams())"
   ]
  },
  {
   "cell_type": "markdown",
   "metadata": {},
   "source": [
    "# Data"
   ]
  },
  {
   "cell_type": "code",
   "execution_count": 11,
   "metadata": {
    "collapsed": false
   },
   "outputs": [
    {
     "data": {
      "text/plain": [
       "[(50000, 784),\n",
       " (50000, 10),\n",
       " (10000, 784),\n",
       " (10000, 10),\n",
       " (10000, 784),\n",
       " (10000, 10)]"
      ]
     },
     "execution_count": 11,
     "metadata": {},
     "output_type": "execute_result"
    }
   ],
   "source": [
    "datafile = '../data/mnist.pkl.gz'\n",
    "# Load data.        a                                                                                           \n",
    "\n",
    "with gzip.open(datafile,'rb') as f:                                                                        \n",
    "    train_set, val_set, test_set = cPickle.load(f)                                                       \n",
    "\n",
    "X, Z = train_set                                                                                               \n",
    "VX, VZ = val_set\n",
    "TX, TZ = test_set\n",
    "\n",
    "Z = one_hot(Z, 10)\n",
    "VZ = one_hot(VZ, 10)\n",
    "TZ = one_hot(TZ, 10)\n",
    "\n",
    "# from UncertainWeightsPaper rescaled the data,\n",
    "# however it already seems to be normalized\n",
    "# X /= 126  \n",
    "# VX /= 126\n",
    "# TX /= 126\n",
    "# X *= 2\n",
    "# VX *= 2\n",
    "# TX *= 2\n",
    "\n",
    "image_dims = 28, 28\n",
    "\n",
    "X, Z, VX, VZ, TX, TZ = [cast_array_to_local_type(i) for i in (X, Z, VX,VZ, TX, TZ)]\n",
    "map(np.shape, [X, Z, VX, VZ, TX, TZ])"
   ]
  },
  {
   "cell_type": "markdown",
   "metadata": {},
   "source": [
    "# Hyperparameters"
   ]
  },
  {
   "cell_type": "code",
   "execution_count": 13,
   "metadata": {
    "collapsed": false
   },
   "outputs": [
    {
     "data": {
      "text/plain": [
       "{'_sa_instance_state': <sqlalchemy.orm.state.InstanceState at 0x7f3bc74fb510>,\n",
       " 'batch_size': 128,\n",
       " 'best_parameters': None,\n",
       " 'best_val_loss': inf,\n",
       " 'mapreduce': 'meanmap',\n",
       " 'minus_log_s1': 1,\n",
       " 'minus_log_s2': 7,\n",
       " 'n_epochs': 20,\n",
       " 'n_normflows': 8,\n",
       " 'opt_decay': 0.9748268860356322,\n",
       " 'opt_identifier': 'adam',\n",
       " 'opt_momentum': 0.8324537418757454,\n",
       " 'opt_offset': 0.00019677629020016526,\n",
       " 'opt_step_rate': 1e-05,\n",
       " 'pi': 0.75,\n",
       " 'train_loss': [],\n",
       " 'units_per_layer': 800,\n",
       " 'val_loss': []}"
      ]
     },
     "execution_count": 13,
     "metadata": {},
     "output_type": "execute_result"
    }
   ],
   "source": [
    "engine = create_engine('sqlite:///hyperparameters.db')\n",
    "Base = declarative_base(bind=engine)\n",
    "\n",
    "class RandomHyper(Base):\n",
    "    __tablename__ = 'hyper'\n",
    "    id = Column(Integer, primary_key=True)\n",
    "    \n",
    "    # hyper parameters:\n",
    "    n_epochs = Column(Integer)\n",
    "    batch_size = Column(Integer)\n",
    "    mapreduce = Column(String)\n",
    "    average_n = Column(Integer)\n",
    "    units_per_layer = Column(Integer)\n",
    "    pi = Column(Float)\n",
    "    minus_log_s1 = Column(Integer)\n",
    "    minus_log_s2 = Column(Integer)\n",
    "    \n",
    "    n_normflows = Column(Integer)\n",
    "    \n",
    "    opt_identifier = Column(String)\n",
    "    opt_momentum = Column(Float)\n",
    "    opt_offset = Column(Float)\n",
    "    opt_decay = Column(Float)\n",
    "    opt_step_rate = Column(Float)\n",
    "    \n",
    "    # results:\n",
    "    best_val_loss = Column(Float)\n",
    "    best_parameters = Column(PickleType, nullable=True)\n",
    "    train_loss = Column(PickleType)\n",
    "    val_loss = Column(PickleType)\n",
    "\n",
    "    def __init__(self):\n",
    "        # hyper parameters:\n",
    "        self.n_epochs = 20\n",
    "        self.batch_size = 128\n",
    "        self.mapreduce = random.choice([\"summap\", \"meanmap\"])\n",
    "        self.average_n = 1\n",
    "        self.units_per_layer = np.random.choice([400, 800, 1200], p=[0.5, 0.3, 0.2])\n",
    "        self.pi = random.choice([1/4, 1/2, 3/4])\n",
    "        self.minus_log_s1 = random.choice([0,1,2])\n",
    "        self.minus_log_s2 = random.choice([6,7,8])\n",
    "        \n",
    "        self.n_normflows = random.choice([1,2,3,4,8,32])\n",
    "        \n",
    "        self.opt_identifier = random.choice([\"adadelta\", \"adam\", \"rmsprop\"])\n",
    "        if self.opt_identifier == \"adadelta\":\n",
    "            self.opt_momentum = random.choice([np.random.uniform(0, 0.01), np.random.uniform(0.9, 1)])\n",
    "            self.opt_offset = random.choice([5e-5, 1e-8])\n",
    "        elif self.opt_identifier == \"adam\":\n",
    "            self.opt_momentum = random.choice([np.random.uniform(0, 0.01), np.random.uniform(0.8, 0.93)])\n",
    "            self.opt_offset = 10 ** -np.random.uniform(3, 4)\n",
    "        elif self.opt_identifier == \"rmsprop\":\n",
    "            self.opt_momentum = random.choice([np.random.uniform(0.002, 0.008), np.random.uniform(0.9, 1)]),\n",
    "            self.opt_offset = np.random.uniform(0, 0.000045)\n",
    "        self.opt_decay = np.random.uniform(0.78, 1)\n",
    "        self.opt_step_rate = random.choice([1e-3, 1e-4, 1e-5])\n",
    "        \n",
    "        self.init_results()\n",
    "    \n",
    "    def init_results(self):\n",
    "        # extra for being able to reset results for loaded hyperparameters\n",
    "        self.best_parameters = None\n",
    "        self.best_val_loss = inf\n",
    "        self.train_loss = []\n",
    "        self.val_loss = []\n",
    "\n",
    "Base.metadata.create_all()\n",
    "Session = sessionmaker(bind=engine)\n",
    "sql_session = Session()\n",
    "hyper = RandomHyper()\n",
    "hyper.__dict__"
   ]
  },
  {
   "cell_type": "markdown",
   "metadata": {},
   "source": [
    "# Model"
   ]
  },
  {
   "cell_type": "markdown",
   "metadata": {},
   "source": [
    "## data modelling"
   ]
  },
  {
   "cell_type": "raw",
   "metadata": {},
   "source": [
    "# for continous supervised data:\n",
    "predictor = dm.Mlp(output_size=10, output_transfer=\"softmax\", hidden_sizes=[200]*2, hidden_transfers=[\"rectifier\"]*2)\n",
    "post.flatten_parameters(predictor)\n",
    "\n",
    "target_distribution = pm.DiagGaussianNoise(predictor)\n",
    "\n",
    "targets = Merge(target_distribution, inputs=predictor['inputs'], to_be_randomized=predictor['parameters_flat'])\n",
    "targets"
   ]
  },
  {
   "cell_type": "code",
   "execution_count": 14,
   "metadata": {
    "collapsed": true
   },
   "outputs": [],
   "source": [
    "# this is extremely useful to tell everything the default sizes\n",
    "input = as_tensor_variable(X[0], name=\"X\")"
   ]
  },
  {
   "cell_type": "code",
   "execution_count": 15,
   "metadata": {
    "collapsed": false
   },
   "outputs": [
    {
     "data": {
      "text/plain": [
       "Mlp { 'inputs': [X],\n",
       "  'outputs': AffineNonlinear2.outputs,\n",
       "  'parameters': [weights, bias, weights2, bias2]}"
      ]
     },
     "execution_count": 15,
     "metadata": {},
     "output_type": "execute_result"
    }
   ],
   "source": [
    "predictor = dm.Mlp(\n",
    "    input=input,\n",
    "    output_size=Z.shape[1],\n",
    "    output_transfer=\"softmax\",\n",
    "    hidden_sizes=[hyper.units_per_layer]*2,\n",
    "    hidden_transfers=[\"rectifier\"]*2\n",
    ")\n",
    "predictor"
   ]
  },
  {
   "cell_type": "code",
   "execution_count": 16,
   "metadata": {
    "collapsed": false
   },
   "outputs": [
    {
     "data": {
      "text/plain": [
       "Categorical { 'inputs': [],\n",
       "  'logP': <FunctionWrapper at 0x7f3bc73f5d70 for function at 0x7f3bc73a1ed8>,\n",
       "  'outputs': Categorical.outputs,\n",
       "  'parameters_psumto1': [AffineNonlinear2.outputs]}"
      ]
     },
     "execution_count": 16,
     "metadata": {},
     "output_type": "execute_result"
    }
   ],
   "source": [
    "target_distribution = pm.Categorical(predictor)\n",
    "target_distribution"
   ]
  },
  {
   "cell_type": "code",
   "execution_count": 17,
   "metadata": {
    "collapsed": false
   },
   "outputs": [
    {
     "data": {
      "text/plain": [
       "Merge { 'inputs': [X],\n",
       "  'logP': <FunctionWrapper at 0x7f3bc73f5d70 for function at 0x7f3bc73a1ed8>,\n",
       "  'outputs': Categorical.outputs,\n",
       "  'parameters': [],\n",
       "  'parameters_psumto1': [],\n",
       "  'to_be_randomized': \"weights:bias:weights2:bias2\"}"
      ]
     },
     "execution_count": 17,
     "metadata": {},
     "output_type": "execute_result"
    }
   ],
   "source": [
    "targets = Merge(target_distribution, predictor,\n",
    "                Flatten(predictor['parameters'], flat_key=\"to_be_randomized\")) #givens={predictor['inputs'][0]: X[0]}\n",
    "targets"
   ]
  },
  {
   "cell_type": "markdown",
   "metadata": {},
   "source": [
    "## parameter modelling"
   ]
  },
  {
   "cell_type": "code",
   "execution_count": 18,
   "metadata": {
    "collapsed": false
   },
   "outputs": [
    {
     "data": {
      "text/plain": [
       "DiagGauss { 'inputs': [],\n",
       "  'logP': <FunctionWrapper at 0x7f3bb065ea60 for function at 0x7f3bb03f42a8>,\n",
       "  'noise': [DiagGaussianNoise.noise.0],\n",
       "  'outputs': DiagGaussianNoise.outputs,\n",
       "  'parameters': [mean],\n",
       "  'parameters_positive': [var]}"
      ]
     },
     "execution_count": 18,
     "metadata": {},
     "output_type": "execute_result"
    }
   ],
   "source": [
    "params_base = pm.DiagGauss(output_size=total_size(targets['to_be_randomized']))  \n",
    "# if you want to use size directly, CAUTION, you need to copy before!\n",
    "# params_base.map('parameters_positive', reparameterize_map(squareplus, squareplus_inv), 'parameters')\n",
    "params_base"
   ]
  },
  {
   "cell_type": "code",
   "execution_count": 19,
   "metadata": {
    "collapsed": false
   },
   "outputs": [
    {
     "data": {
      "text/plain": [
       "[PlanarTransform { 'inputs': [z],\n",
       "   'norm_det': PlanarTransform.norm_det,\n",
       "   'outputs': PlanarTransform.outputs,\n",
       "   'parameters': [b, w, _u]}, PlanarTransform2 { 'inputs': [z2],\n",
       "   'norm_det': PlanarTransform2.norm_det,\n",
       "   'outputs': PlanarTransform2.outputs,\n",
       "   'parameters': [b2, w2, _u2]}, PlanarTransform3 { 'inputs': [z3],\n",
       "   'norm_det': PlanarTransform3.norm_det,\n",
       "   'outputs': PlanarTransform3.outputs,\n",
       "   'parameters': [b3, w3, _u3]}, PlanarTransform4 { 'inputs': [z4],\n",
       "   'norm_det': PlanarTransform4.norm_det,\n",
       "   'outputs': PlanarTransform4.outputs,\n",
       "   'parameters': [b4, w4, _u4]}, PlanarTransform5 { 'inputs': [z5],\n",
       "   'norm_det': PlanarTransform5.norm_det,\n",
       "   'outputs': PlanarTransform5.outputs,\n",
       "   'parameters': [b5, w5, _u5]}, PlanarTransform6 { 'inputs': [z6],\n",
       "   'norm_det': PlanarTransform6.norm_det,\n",
       "   'outputs': PlanarTransform6.outputs,\n",
       "   'parameters': [b6, w6, _u6]}, PlanarTransform7 { 'inputs': [z7],\n",
       "   'norm_det': PlanarTransform7.norm_det,\n",
       "   'outputs': PlanarTransform7.outputs,\n",
       "   'parameters': [b7, w7, _u7]}, PlanarTransform8 { 'inputs': [z8],\n",
       "   'norm_det': PlanarTransform8.norm_det,\n",
       "   'outputs': PlanarTransform8.outputs,\n",
       "   'parameters': [b8, w8, _u8]}]"
      ]
     },
     "execution_count": 19,
     "metadata": {},
     "output_type": "execute_result"
    }
   ],
   "source": [
    "normflows = [dm.PlanarTransform() for _ in range(hyper.n_normflows)]\n",
    "normflows"
   ]
  },
  {
   "cell_type": "code",
   "execution_count": 20,
   "metadata": {
    "collapsed": false
   },
   "outputs": [
    {
     "data": {
      "text/plain": [
       "normalized_flow8 { 'inputs': [],\n",
       "  'logP': <FunctionWrapper at 0x7f3bb03acd70 for function at 0x7f3bb02bbb90>,\n",
       "  'noise': [DiagGaussianNoise.noise.0],\n",
       "  'norm_det': PlanarTransform8.norm_det,\n",
       "  'outputs': PlanarTransform8.outputs,\n",
       "  'parameters': [ b8,\n",
       "                  w8,\n",
       "                  _u8,\n",
       "                  b7,\n",
       "                  w7,\n",
       "                  _u7,\n",
       "                  b6,\n",
       "                  w6,\n",
       "                  _u6,\n",
       "                  b5,\n",
       "                  w5,\n",
       "                  _u5,\n",
       "                  b4,\n",
       "                  w4,\n",
       "                  _u4,\n",
       "                  b3,\n",
       "                  w3,\n",
       "                  _u3,\n",
       "                  b2,\n",
       "                  w2,\n",
       "                  _u2,\n",
       "                  b,\n",
       "                  w,\n",
       "                  _u,\n",
       "                  mean],\n",
       "  'parameters_positive': [var]}"
      ]
     },
     "execution_count": 20,
     "metadata": {},
     "output_type": "execute_result"
    }
   ],
   "source": [
    "params = params_base\n",
    "for transform in normflows:\n",
    "    params = normalizing_flow(transform, params)  # returns transform, however with adapted logP    \n",
    "\n",
    "params"
   ]
  },
  {
   "cell_type": "markdown",
   "metadata": {},
   "source": [
    "## bayes"
   ]
  },
  {
   "cell_type": "code",
   "execution_count": 21,
   "metadata": {
    "collapsed": false
   },
   "outputs": [
    {
     "data": {
      "text/plain": [
       "Merge3 { 'hyperparameters_positive': [var2, var3],\n",
       "  'hyperparameters_psumto1': [mixture_probs],\n",
       "  'inputs': [],\n",
       "  'logP': <FunctionWrapper at 0x7f3bb0cb2ec0 for function at 0x7f3bb0278d70>,\n",
       "  'mixture_probs': [0.75, 0.25],\n",
       "  'noise': [GaussianNoise.noise.0, GaussianNoise2.noise.0],\n",
       "  'outputs': Mixture.outputs,\n",
       "  'parameters': []}"
      ]
     },
     "execution_count": 21,
     "metadata": {},
     "output_type": "execute_result"
    }
   ],
   "source": [
    "g1 = pm.Gauss(total_size(targets['to_be_randomized']), init_var=np.exp(-2* hyper.minus_log_s1))\n",
    "g2 = pm.Gauss(total_size(targets['to_be_randomized']), init_var=np.exp(-2* hyper.minus_log_s2))\n",
    "prior = pm.Mixture(g1, g2, mixture_probs=[hyper.pi, 1-hyper.pi])\n",
    "# label hyper parameters accordingly\n",
    "prior = Merge(prior,\n",
    "              parameters=None, # mean is not adapted at all, but left centred at zero\n",
    "              parameters_positive='hyperparameters_positive',\n",
    "              parameters_psumto1='hyperparameters_psumto1')\n",
    "prior"
   ]
  },
  {
   "cell_type": "code",
   "execution_count": 22,
   "metadata": {
    "collapsed": false
   },
   "outputs": [
    {
     "data": {
      "text/plain": [
       "variational_lower_bound { 'hyperparameters_positive': [var2, var3],\n",
       "  'hyperparameters_psumto1': [mixture_probs],\n",
       "  'inputs': [X],\n",
       "  'kl_prior': kl_prior,\n",
       "  'logP': <FunctionWrapper at 0x7f3bb025dfa0 for function at 0x7f3bb0262d70>,\n",
       "  'loglikelihood': <FunctionWrapper at 0x7f3bc73f5d70 for function at 0x7f3bc73a1ed8>,\n",
       "  'mixture_probs': [0.75, 0.25],\n",
       "  'n_data': n_data,\n",
       "  'noise': [ DiagGaussianNoise.noise.0,\n",
       "             GaussianNoise.noise.0,\n",
       "             GaussianNoise2.noise.0],\n",
       "  'norm_det': PlanarTransform8.norm_det,\n",
       "  'outputs': Categorical.outputs,\n",
       "  'parameters': [ b8,\n",
       "                  w8,\n",
       "                  _u8,\n",
       "                  b7,\n",
       "                  w7,\n",
       "                  _u7,\n",
       "                  b6,\n",
       "                  w6,\n",
       "                  _u6,\n",
       "                  b5,\n",
       "                  w5,\n",
       "                  _u5,\n",
       "                  b4,\n",
       "                  w4,\n",
       "                  _u4,\n",
       "                  b3,\n",
       "                  w3,\n",
       "                  _u3,\n",
       "                  b2,\n",
       "                  w2,\n",
       "                  _u2,\n",
       "                  b,\n",
       "                  w,\n",
       "                  _u,\n",
       "                  mean],\n",
       "  'parameters_positive': [var],\n",
       "  'parameters_psumto1': []}"
      ]
     },
     "execution_count": 22,
     "metadata": {},
     "output_type": "execute_result"
    }
   ],
   "source": [
    "model = variational_bayes(targets, 'to_be_randomized', params, priors=prior)\n",
    "model"
   ]
  },
  {
   "cell_type": "code",
   "execution_count": 23,
   "metadata": {
    "collapsed": false
   },
   "outputs": [
    {
     "data": {
      "text/plain": [
       "Merge4 { 'hyperparameters_positive': [var2, var3],\n",
       "  'hyperparameters_psumto1': [mixture_probs],\n",
       "  'inputs': [X],\n",
       "  'kl_prior': kl_prior,\n",
       "  'logP': <FunctionWrapper at 0x7f3bb025dfa0 for function at 0x7f3bb0262d70>,\n",
       "  'loglikelihood': <FunctionWrapper at 0x7f3bc73f5d70 for function at 0x7f3bc73a1ed8>,\n",
       "  'mixture_probs': [0.75, 0.25],\n",
       "  'n_data': n_data,\n",
       "  'noise': [ DiagGaussianNoise.noise.0,\n",
       "             GaussianNoise.noise.0,\n",
       "             GaussianNoise2.noise.0],\n",
       "  'norm_det': PlanarTransform8.norm_det,\n",
       "  'outputs': Categorical.outputs,\n",
       "  'parameters': [ b8,\n",
       "                  w8,\n",
       "                  _u8,\n",
       "                  b7,\n",
       "                  w7,\n",
       "                  _u7,\n",
       "                  b6,\n",
       "                  w6,\n",
       "                  _u6,\n",
       "                  b5,\n",
       "                  w5,\n",
       "                  _u5,\n",
       "                  b4,\n",
       "                  w4,\n",
       "                  _u4,\n",
       "                  b3,\n",
       "                  w3,\n",
       "                  _u3,\n",
       "                  b2,\n",
       "                  w2,\n",
       "                  _u2,\n",
       "                  b,\n",
       "                  w,\n",
       "                  _u,\n",
       "                  mean,\n",
       "                  var_softplus],\n",
       "  'parameters_positive': [],\n",
       "  'parameters_psumto1': []}"
      ]
     },
     "execution_count": 23,
     "metadata": {},
     "output_type": "execute_result"
    }
   ],
   "source": [
    "# model = Merge(model, Reparameterize(model['parameters_positive'], squareplus, squareplus_inv))\n",
    "# UncertainWeights uses softplus parameterization\n",
    "model = Merge(model, Reparameterize(model['parameters_positive'], softplus, softplus_inv))\n",
    "model"
   ]
  },
  {
   "cell_type": "code",
   "execution_count": 24,
   "metadata": {
    "collapsed": false,
    "scrolled": true
   },
   "outputs": [
    {
     "data": {
      "text/plain": [
       "Merge5 { 'flat': \"b8:w8:_u8:b7:w7:_u7:b6:w6:_u6:b5:w5:_u5:b4:w4:_u4:b3:w3:_u3:b2:w2:_u2:b:w:_u:mean:var_softplus\",\n",
       "  'hyperparameters_positive': [var2, var3],\n",
       "  'hyperparameters_psumto1': [mixture_probs],\n",
       "  'inputs': [X],\n",
       "  'kl_prior': kl_prior,\n",
       "  'logP': <FunctionWrapper at 0x7f3bb025dfa0 for function at 0x7f3bb0262d70>,\n",
       "  'loglikelihood': <FunctionWrapper at 0x7f3bc73f5d70 for function at 0x7f3bc73a1ed8>,\n",
       "  'mixture_probs': [0.75, 0.25],\n",
       "  'n_data': n_data,\n",
       "  'noise': [ DiagGaussianNoise.noise.0,\n",
       "             GaussianNoise.noise.0,\n",
       "             GaussianNoise2.noise.0],\n",
       "  'norm_det': PlanarTransform8.norm_det,\n",
       "  'outputs': Categorical.outputs,\n",
       "  'parameters': [],\n",
       "  'parameters_positive': [],\n",
       "  'parameters_psumto1': []}"
      ]
     },
     "execution_count": 24,
     "metadata": {},
     "output_type": "execute_result"
    }
   ],
   "source": [
    "model = Merge(model, Flatten(model['parameters']))\n",
    "#               em.NoisePool(model['noise']) #, givens={predictor['inputs'][0]: X[0]}\n",
    "model"
   ]
  },
  {
   "cell_type": "markdown",
   "metadata": {},
   "source": [
    "# Optimizer"
   ]
  },
  {
   "cell_type": "code",
   "execution_count": 25,
   "metadata": {
    "collapsed": true
   },
   "outputs": [],
   "source": [
    "# dm.InvertibleModel.INVERTIBLE_MODELS\n",
    "reduce_all_identities()\n",
    "# dm.InvertibleModel.INVERTIBLE_MODELS"
   ]
  },
  {
   "cell_type": "markdown",
   "metadata": {},
   "source": [
    "Climin wants an iterator of (args, kwarsg) as keyword argument \"args\" (to be passed to the loss function). Concretley, we use an infinite iterator over minibatches."
   ]
  },
  {
   "cell_type": "code",
   "execution_count": 28,
   "metadata": {
    "collapsed": true
   },
   "outputs": [],
   "source": [
    "n_batches = X.shape[0] // hyper.batch_size  # after this many steps we went through the whole data set once\n",
    "\n",
    "climin_args = izip(izip(chunk(hyper.batch_size, cycle(Z)), chunk(hyper.batch_size, cycle(X))), repeat({}))\n",
    "\n",
    "def weights_regularizer_1epoch():\n",
    "    for i in range(1, n_batches+1):\n",
    "        yield 2**(n_batches - i) / (2**n_batches - 1)\n",
    "        \n",
    "assert len(list(weights_regularizer_1epoch())) == n_batches"
   ]
  },
  {
   "cell_type": "code",
   "execution_count": 29,
   "metadata": {
    "collapsed": false
   },
   "outputs": [
    {
     "data": {
      "text/plain": [
       "{'f': <function theano_models.postmaps.annealed>,\n",
       " 'fprime': <function theano_models.postmaps.annealed>,\n",
       " 'wrt': array([ 0.00800041,  1.02195961,  1.00708214, ...,  0.55021122,\n",
       "         0.53204702,  0.52763242])}"
      ]
     },
     "execution_count": 29,
     "metadata": {},
     "output_type": "execute_result"
    }
   ],
   "source": [
    "mapreduce = getattr(myfunctools, hyper.mapreduce)\n",
    "if hyper.average_n > 1:\n",
    "    mapreduce = compose_fmap(Average(hyper.average_n), mapreduce)\n",
    "\n",
    "postmap = compose(post.flat_numericalize_postmap, post.variational_postmap) \n",
    "postmap_kwargs = {\n",
    "    'mapreduce': mapreduce,  # TODO add more functionality for composed fmaps, with args\n",
    "    'annealing_combiner': post.AnnealingCombiner(\n",
    "        weights_regularizer=cycle(weights_regularizer_1epoch())\n",
    "    ),\n",
    "    'adapt_init_params': lambda ps: ps + np.random.normal(size=ps.size, scale=0.01),\n",
    "#     'profile': True,\n",
    "    'mode': 'FAST_RUN'\n",
    "}\n",
    "optimizer_kwargs = postmap(model, **postmap_kwargs)\n",
    "climin_kwargs = post.climin_postmap(optimizer_kwargs)\n",
    "climin_kwargs"
   ]
  },
  {
   "cell_type": "code",
   "execution_count": 34,
   "metadata": {
    "collapsed": false
   },
   "outputs": [],
   "source": [
    "opt = optimizer(\n",
    "    identifier=hyper.opt_identifier,\n",
    "    step_rate=hyper.opt_step_rate,\n",
    "    momentum=hyper.opt_momentum,\n",
    "    decay=hyper.opt_decay,\n",
    "    offset=hyper.opt_offset,\n",
    "    \n",
    "    args=climin_args,\n",
    "    **climin_kwargs\n",
    ")"
   ]
  },
  {
   "cell_type": "markdown",
   "metadata": {},
   "source": [
    "# Visualized Fit"
   ]
  },
  {
   "cell_type": "code",
   "execution_count": 36,
   "metadata": {
    "collapsed": false
   },
   "outputs": [
    {
     "data": {
      "application/javascript": [
       "/* Put everything inside the global mpl namespace */\n",
       "window.mpl = {};\n",
       "\n",
       "mpl.get_websocket_type = function() {\n",
       "    if (typeof(WebSocket) !== 'undefined') {\n",
       "        return WebSocket;\n",
       "    } else if (typeof(MozWebSocket) !== 'undefined') {\n",
       "        return MozWebSocket;\n",
       "    } else {\n",
       "        alert('Your browser does not have WebSocket support.' +\n",
       "              'Please try Chrome, Safari or Firefox ≥ 6. ' +\n",
       "              'Firefox 4 and 5 are also supported but you ' +\n",
       "              'have to enable WebSockets in about:config.');\n",
       "    };\n",
       "}\n",
       "\n",
       "mpl.figure = function(figure_id, websocket, ondownload, parent_element) {\n",
       "    this.id = figure_id;\n",
       "\n",
       "    this.ws = websocket;\n",
       "\n",
       "    this.supports_binary = (this.ws.binaryType != undefined);\n",
       "\n",
       "    if (!this.supports_binary) {\n",
       "        var warnings = document.getElementById(\"mpl-warnings\");\n",
       "        if (warnings) {\n",
       "            warnings.style.display = 'block';\n",
       "            warnings.textContent = (\n",
       "                \"This browser does not support binary websocket messages. \" +\n",
       "                    \"Performance may be slow.\");\n",
       "        }\n",
       "    }\n",
       "\n",
       "    this.imageObj = new Image();\n",
       "\n",
       "    this.context = undefined;\n",
       "    this.message = undefined;\n",
       "    this.canvas = undefined;\n",
       "    this.rubberband_canvas = undefined;\n",
       "    this.rubberband_context = undefined;\n",
       "    this.format_dropdown = undefined;\n",
       "\n",
       "    this.image_mode = 'full';\n",
       "\n",
       "    this.root = $('<div/>');\n",
       "    this._root_extra_style(this.root)\n",
       "    this.root.attr('style', 'display: inline-block');\n",
       "\n",
       "    $(parent_element).append(this.root);\n",
       "\n",
       "    this._init_header(this);\n",
       "    this._init_canvas(this);\n",
       "    this._init_toolbar(this);\n",
       "\n",
       "    var fig = this;\n",
       "\n",
       "    this.waiting = false;\n",
       "\n",
       "    this.ws.onopen =  function () {\n",
       "            fig.send_message(\"supports_binary\", {value: fig.supports_binary});\n",
       "            fig.send_message(\"send_image_mode\", {});\n",
       "            fig.send_message(\"refresh\", {});\n",
       "        }\n",
       "\n",
       "    this.imageObj.onload = function() {\n",
       "            if (fig.image_mode == 'full') {\n",
       "                // Full images could contain transparency (where diff images\n",
       "                // almost always do), so we need to clear the canvas so that\n",
       "                // there is no ghosting.\n",
       "                fig.context.clearRect(0, 0, fig.canvas.width, fig.canvas.height);\n",
       "            }\n",
       "            fig.context.drawImage(fig.imageObj, 0, 0);\n",
       "        };\n",
       "\n",
       "    this.imageObj.onunload = function() {\n",
       "        this.ws.close();\n",
       "    }\n",
       "\n",
       "    this.ws.onmessage = this._make_on_message_function(this);\n",
       "\n",
       "    this.ondownload = ondownload;\n",
       "}\n",
       "\n",
       "mpl.figure.prototype._init_header = function() {\n",
       "    var titlebar = $(\n",
       "        '<div class=\"ui-dialog-titlebar ui-widget-header ui-corner-all ' +\n",
       "        'ui-helper-clearfix\"/>');\n",
       "    var titletext = $(\n",
       "        '<div class=\"ui-dialog-title\" style=\"width: 100%; ' +\n",
       "        'text-align: center; padding: 3px;\"/>');\n",
       "    titlebar.append(titletext)\n",
       "    this.root.append(titlebar);\n",
       "    this.header = titletext[0];\n",
       "}\n",
       "\n",
       "\n",
       "\n",
       "mpl.figure.prototype._canvas_extra_style = function(canvas_div) {\n",
       "\n",
       "}\n",
       "\n",
       "\n",
       "mpl.figure.prototype._root_extra_style = function(canvas_div) {\n",
       "\n",
       "}\n",
       "\n",
       "mpl.figure.prototype._init_canvas = function() {\n",
       "    var fig = this;\n",
       "\n",
       "    var canvas_div = $('<div/>');\n",
       "\n",
       "    canvas_div.attr('style', 'position: relative; clear: both; outline: 0');\n",
       "\n",
       "    function canvas_keyboard_event(event) {\n",
       "        return fig.key_event(event, event['data']);\n",
       "    }\n",
       "\n",
       "    canvas_div.keydown('key_press', canvas_keyboard_event);\n",
       "    canvas_div.keyup('key_release', canvas_keyboard_event);\n",
       "    this.canvas_div = canvas_div\n",
       "    this._canvas_extra_style(canvas_div)\n",
       "    this.root.append(canvas_div);\n",
       "\n",
       "    var canvas = $('<canvas/>');\n",
       "    canvas.addClass('mpl-canvas');\n",
       "    canvas.attr('style', \"left: 0; top: 0; z-index: 0; outline: 0\")\n",
       "\n",
       "    this.canvas = canvas[0];\n",
       "    this.context = canvas[0].getContext(\"2d\");\n",
       "\n",
       "    var rubberband = $('<canvas/>');\n",
       "    rubberband.attr('style', \"position: absolute; left: 0; top: 0; z-index: 1;\")\n",
       "\n",
       "    var pass_mouse_events = true;\n",
       "\n",
       "    canvas_div.resizable({\n",
       "        start: function(event, ui) {\n",
       "            pass_mouse_events = false;\n",
       "        },\n",
       "        resize: function(event, ui) {\n",
       "            fig.request_resize(ui.size.width, ui.size.height);\n",
       "        },\n",
       "        stop: function(event, ui) {\n",
       "            pass_mouse_events = true;\n",
       "            fig.request_resize(ui.size.width, ui.size.height);\n",
       "        },\n",
       "    });\n",
       "\n",
       "    function mouse_event_fn(event) {\n",
       "        if (pass_mouse_events)\n",
       "            return fig.mouse_event(event, event['data']);\n",
       "    }\n",
       "\n",
       "    rubberband.mousedown('button_press', mouse_event_fn);\n",
       "    rubberband.mouseup('button_release', mouse_event_fn);\n",
       "    // Throttle sequential mouse events to 1 every 20ms.\n",
       "    rubberband.mousemove('motion_notify', mouse_event_fn);\n",
       "\n",
       "    rubberband.mouseenter('figure_enter', mouse_event_fn);\n",
       "    rubberband.mouseleave('figure_leave', mouse_event_fn);\n",
       "\n",
       "    canvas_div.on(\"wheel\", function (event) {\n",
       "        event = event.originalEvent;\n",
       "        event['data'] = 'scroll'\n",
       "        if (event.deltaY < 0) {\n",
       "            event.step = 1;\n",
       "        } else {\n",
       "            event.step = -1;\n",
       "        }\n",
       "        mouse_event_fn(event);\n",
       "    });\n",
       "\n",
       "    canvas_div.append(canvas);\n",
       "    canvas_div.append(rubberband);\n",
       "\n",
       "    this.rubberband = rubberband;\n",
       "    this.rubberband_canvas = rubberband[0];\n",
       "    this.rubberband_context = rubberband[0].getContext(\"2d\");\n",
       "    this.rubberband_context.strokeStyle = \"#000000\";\n",
       "\n",
       "    this._resize_canvas = function(width, height) {\n",
       "        // Keep the size of the canvas, canvas container, and rubber band\n",
       "        // canvas in synch.\n",
       "        canvas_div.css('width', width)\n",
       "        canvas_div.css('height', height)\n",
       "\n",
       "        canvas.attr('width', width);\n",
       "        canvas.attr('height', height);\n",
       "\n",
       "        rubberband.attr('width', width);\n",
       "        rubberband.attr('height', height);\n",
       "    }\n",
       "\n",
       "    // Set the figure to an initial 600x600px, this will subsequently be updated\n",
       "    // upon first draw.\n",
       "    this._resize_canvas(600, 600);\n",
       "\n",
       "    // Disable right mouse context menu.\n",
       "    $(this.rubberband_canvas).bind(\"contextmenu\",function(e){\n",
       "        return false;\n",
       "    });\n",
       "\n",
       "    function set_focus () {\n",
       "        canvas.focus();\n",
       "        canvas_div.focus();\n",
       "    }\n",
       "\n",
       "    window.setTimeout(set_focus, 100);\n",
       "}\n",
       "\n",
       "mpl.figure.prototype._init_toolbar = function() {\n",
       "    var fig = this;\n",
       "\n",
       "    var nav_element = $('<div/>')\n",
       "    nav_element.attr('style', 'width: 100%');\n",
       "    this.root.append(nav_element);\n",
       "\n",
       "    // Define a callback function for later on.\n",
       "    function toolbar_event(event) {\n",
       "        return fig.toolbar_button_onclick(event['data']);\n",
       "    }\n",
       "    function toolbar_mouse_event(event) {\n",
       "        return fig.toolbar_button_onmouseover(event['data']);\n",
       "    }\n",
       "\n",
       "    for(var toolbar_ind in mpl.toolbar_items) {\n",
       "        var name = mpl.toolbar_items[toolbar_ind][0];\n",
       "        var tooltip = mpl.toolbar_items[toolbar_ind][1];\n",
       "        var image = mpl.toolbar_items[toolbar_ind][2];\n",
       "        var method_name = mpl.toolbar_items[toolbar_ind][3];\n",
       "\n",
       "        if (!name) {\n",
       "            // put a spacer in here.\n",
       "            continue;\n",
       "        }\n",
       "        var button = $('<button/>');\n",
       "        button.addClass('ui-button ui-widget ui-state-default ui-corner-all ' +\n",
       "                        'ui-button-icon-only');\n",
       "        button.attr('role', 'button');\n",
       "        button.attr('aria-disabled', 'false');\n",
       "        button.click(method_name, toolbar_event);\n",
       "        button.mouseover(tooltip, toolbar_mouse_event);\n",
       "\n",
       "        var icon_img = $('<span/>');\n",
       "        icon_img.addClass('ui-button-icon-primary ui-icon');\n",
       "        icon_img.addClass(image);\n",
       "        icon_img.addClass('ui-corner-all');\n",
       "\n",
       "        var tooltip_span = $('<span/>');\n",
       "        tooltip_span.addClass('ui-button-text');\n",
       "        tooltip_span.html(tooltip);\n",
       "\n",
       "        button.append(icon_img);\n",
       "        button.append(tooltip_span);\n",
       "\n",
       "        nav_element.append(button);\n",
       "    }\n",
       "\n",
       "    var fmt_picker_span = $('<span/>');\n",
       "\n",
       "    var fmt_picker = $('<select/>');\n",
       "    fmt_picker.addClass('mpl-toolbar-option ui-widget ui-widget-content');\n",
       "    fmt_picker_span.append(fmt_picker);\n",
       "    nav_element.append(fmt_picker_span);\n",
       "    this.format_dropdown = fmt_picker[0];\n",
       "\n",
       "    for (var ind in mpl.extensions) {\n",
       "        var fmt = mpl.extensions[ind];\n",
       "        var option = $(\n",
       "            '<option/>', {selected: fmt === mpl.default_extension}).html(fmt);\n",
       "        fmt_picker.append(option)\n",
       "    }\n",
       "\n",
       "    // Add hover states to the ui-buttons\n",
       "    $( \".ui-button\" ).hover(\n",
       "        function() { $(this).addClass(\"ui-state-hover\");},\n",
       "        function() { $(this).removeClass(\"ui-state-hover\");}\n",
       "    );\n",
       "\n",
       "    var status_bar = $('<span class=\"mpl-message\"/>');\n",
       "    nav_element.append(status_bar);\n",
       "    this.message = status_bar[0];\n",
       "}\n",
       "\n",
       "mpl.figure.prototype.request_resize = function(x_pixels, y_pixels) {\n",
       "    // Request matplotlib to resize the figure. Matplotlib will then trigger a resize in the client,\n",
       "    // which will in turn request a refresh of the image.\n",
       "    this.send_message('resize', {'width': x_pixels, 'height': y_pixels});\n",
       "}\n",
       "\n",
       "mpl.figure.prototype.send_message = function(type, properties) {\n",
       "    properties['type'] = type;\n",
       "    properties['figure_id'] = this.id;\n",
       "    this.ws.send(JSON.stringify(properties));\n",
       "}\n",
       "\n",
       "mpl.figure.prototype.send_draw_message = function() {\n",
       "    if (!this.waiting) {\n",
       "        this.waiting = true;\n",
       "        this.ws.send(JSON.stringify({type: \"draw\", figure_id: this.id}));\n",
       "    }\n",
       "}\n",
       "\n",
       "\n",
       "mpl.figure.prototype.handle_save = function(fig, msg) {\n",
       "    var format_dropdown = fig.format_dropdown;\n",
       "    var format = format_dropdown.options[format_dropdown.selectedIndex].value;\n",
       "    fig.ondownload(fig, format);\n",
       "}\n",
       "\n",
       "\n",
       "mpl.figure.prototype.handle_resize = function(fig, msg) {\n",
       "    var size = msg['size'];\n",
       "    if (size[0] != fig.canvas.width || size[1] != fig.canvas.height) {\n",
       "        fig._resize_canvas(size[0], size[1]);\n",
       "        fig.send_message(\"refresh\", {});\n",
       "    };\n",
       "}\n",
       "\n",
       "mpl.figure.prototype.handle_rubberband = function(fig, msg) {\n",
       "    var x0 = msg['x0'];\n",
       "    var y0 = fig.canvas.height - msg['y0'];\n",
       "    var x1 = msg['x1'];\n",
       "    var y1 = fig.canvas.height - msg['y1'];\n",
       "    x0 = Math.floor(x0) + 0.5;\n",
       "    y0 = Math.floor(y0) + 0.5;\n",
       "    x1 = Math.floor(x1) + 0.5;\n",
       "    y1 = Math.floor(y1) + 0.5;\n",
       "    var min_x = Math.min(x0, x1);\n",
       "    var min_y = Math.min(y0, y1);\n",
       "    var width = Math.abs(x1 - x0);\n",
       "    var height = Math.abs(y1 - y0);\n",
       "\n",
       "    fig.rubberband_context.clearRect(\n",
       "        0, 0, fig.canvas.width, fig.canvas.height);\n",
       "\n",
       "    fig.rubberband_context.strokeRect(min_x, min_y, width, height);\n",
       "}\n",
       "\n",
       "mpl.figure.prototype.handle_figure_label = function(fig, msg) {\n",
       "    // Updates the figure title.\n",
       "    fig.header.textContent = msg['label'];\n",
       "}\n",
       "\n",
       "mpl.figure.prototype.handle_cursor = function(fig, msg) {\n",
       "    var cursor = msg['cursor'];\n",
       "    switch(cursor)\n",
       "    {\n",
       "    case 0:\n",
       "        cursor = 'pointer';\n",
       "        break;\n",
       "    case 1:\n",
       "        cursor = 'default';\n",
       "        break;\n",
       "    case 2:\n",
       "        cursor = 'crosshair';\n",
       "        break;\n",
       "    case 3:\n",
       "        cursor = 'move';\n",
       "        break;\n",
       "    }\n",
       "    fig.rubberband_canvas.style.cursor = cursor;\n",
       "}\n",
       "\n",
       "mpl.figure.prototype.handle_message = function(fig, msg) {\n",
       "    fig.message.textContent = msg['message'];\n",
       "}\n",
       "\n",
       "mpl.figure.prototype.handle_draw = function(fig, msg) {\n",
       "    // Request the server to send over a new figure.\n",
       "    fig.send_draw_message();\n",
       "}\n",
       "\n",
       "mpl.figure.prototype.handle_image_mode = function(fig, msg) {\n",
       "    fig.image_mode = msg['mode'];\n",
       "}\n",
       "\n",
       "mpl.figure.prototype.updated_canvas_event = function() {\n",
       "    // Called whenever the canvas gets updated.\n",
       "    this.send_message(\"ack\", {});\n",
       "}\n",
       "\n",
       "// A function to construct a web socket function for onmessage handling.\n",
       "// Called in the figure constructor.\n",
       "mpl.figure.prototype._make_on_message_function = function(fig) {\n",
       "    return function socket_on_message(evt) {\n",
       "        if (evt.data instanceof Blob) {\n",
       "            /* FIXME: We get \"Resource interpreted as Image but\n",
       "             * transferred with MIME type text/plain:\" errors on\n",
       "             * Chrome.  But how to set the MIME type?  It doesn't seem\n",
       "             * to be part of the websocket stream */\n",
       "            evt.data.type = \"image/png\";\n",
       "\n",
       "            /* Free the memory for the previous frames */\n",
       "            if (fig.imageObj.src) {\n",
       "                (window.URL || window.webkitURL).revokeObjectURL(\n",
       "                    fig.imageObj.src);\n",
       "            }\n",
       "\n",
       "            fig.imageObj.src = (window.URL || window.webkitURL).createObjectURL(\n",
       "                evt.data);\n",
       "            fig.updated_canvas_event();\n",
       "            fig.waiting = false;\n",
       "            return;\n",
       "        }\n",
       "        else if (typeof evt.data === 'string' && evt.data.slice(0, 21) == \"data:image/png;base64\") {\n",
       "            fig.imageObj.src = evt.data;\n",
       "            fig.updated_canvas_event();\n",
       "            fig.waiting = false;\n",
       "            return;\n",
       "        }\n",
       "\n",
       "        var msg = JSON.parse(evt.data);\n",
       "        var msg_type = msg['type'];\n",
       "\n",
       "        // Call the  \"handle_{type}\" callback, which takes\n",
       "        // the figure and JSON message as its only arguments.\n",
       "        try {\n",
       "            var callback = fig[\"handle_\" + msg_type];\n",
       "        } catch (e) {\n",
       "            console.log(\"No handler for the '\" + msg_type + \"' message type: \", msg);\n",
       "            return;\n",
       "        }\n",
       "\n",
       "        if (callback) {\n",
       "            try {\n",
       "                // console.log(\"Handling '\" + msg_type + \"' message: \", msg);\n",
       "                callback(fig, msg);\n",
       "            } catch (e) {\n",
       "                console.log(\"Exception inside the 'handler_\" + msg_type + \"' callback:\", e, e.stack, msg);\n",
       "            }\n",
       "        }\n",
       "    };\n",
       "}\n",
       "\n",
       "// from http://stackoverflow.com/questions/1114465/getting-mouse-location-in-canvas\n",
       "mpl.findpos = function(e) {\n",
       "    //this section is from http://www.quirksmode.org/js/events_properties.html\n",
       "    var targ;\n",
       "    if (!e)\n",
       "        e = window.event;\n",
       "    if (e.target)\n",
       "        targ = e.target;\n",
       "    else if (e.srcElement)\n",
       "        targ = e.srcElement;\n",
       "    if (targ.nodeType == 3) // defeat Safari bug\n",
       "        targ = targ.parentNode;\n",
       "\n",
       "    // jQuery normalizes the pageX and pageY\n",
       "    // pageX,Y are the mouse positions relative to the document\n",
       "    // offset() returns the position of the element relative to the document\n",
       "    var x = e.pageX - $(targ).offset().left;\n",
       "    var y = e.pageY - $(targ).offset().top;\n",
       "\n",
       "    return {\"x\": x, \"y\": y};\n",
       "};\n",
       "\n",
       "/*\n",
       " * return a copy of an object with only non-object keys\n",
       " * we need this to avoid circular references\n",
       " * http://stackoverflow.com/a/24161582/3208463\n",
       " */\n",
       "function simpleKeys (original) {\n",
       "  return Object.keys(original).reduce(function (obj, key) {\n",
       "    if (typeof original[key] !== 'object')\n",
       "        obj[key] = original[key]\n",
       "    return obj;\n",
       "  }, {});\n",
       "}\n",
       "\n",
       "mpl.figure.prototype.mouse_event = function(event, name) {\n",
       "    var canvas_pos = mpl.findpos(event)\n",
       "\n",
       "    if (name === 'button_press')\n",
       "    {\n",
       "        this.canvas.focus();\n",
       "        this.canvas_div.focus();\n",
       "    }\n",
       "\n",
       "    var x = canvas_pos.x;\n",
       "    var y = canvas_pos.y;\n",
       "\n",
       "    this.send_message(name, {x: x, y: y, button: event.button,\n",
       "                             step: event.step,\n",
       "                             guiEvent: simpleKeys(event)});\n",
       "\n",
       "    /* This prevents the web browser from automatically changing to\n",
       "     * the text insertion cursor when the button is pressed.  We want\n",
       "     * to control all of the cursor setting manually through the\n",
       "     * 'cursor' event from matplotlib */\n",
       "    event.preventDefault();\n",
       "    return false;\n",
       "}\n",
       "\n",
       "mpl.figure.prototype._key_event_extra = function(event, name) {\n",
       "    // Handle any extra behaviour associated with a key event\n",
       "}\n",
       "\n",
       "mpl.figure.prototype.key_event = function(event, name) {\n",
       "\n",
       "    // Prevent repeat events\n",
       "    if (name == 'key_press')\n",
       "    {\n",
       "        if (event.which === this._key)\n",
       "            return;\n",
       "        else\n",
       "            this._key = event.which;\n",
       "    }\n",
       "    if (name == 'key_release')\n",
       "        this._key = null;\n",
       "\n",
       "    var value = '';\n",
       "    if (event.ctrlKey && event.which != 17)\n",
       "        value += \"ctrl+\";\n",
       "    if (event.altKey && event.which != 18)\n",
       "        value += \"alt+\";\n",
       "    if (event.shiftKey && event.which != 16)\n",
       "        value += \"shift+\";\n",
       "\n",
       "    value += 'k';\n",
       "    value += event.which.toString();\n",
       "\n",
       "    this._key_event_extra(event, name);\n",
       "\n",
       "    this.send_message(name, {key: value,\n",
       "                             guiEvent: simpleKeys(event)});\n",
       "    return false;\n",
       "}\n",
       "\n",
       "mpl.figure.prototype.toolbar_button_onclick = function(name) {\n",
       "    if (name == 'download') {\n",
       "        this.handle_save(this, null);\n",
       "    } else {\n",
       "        this.send_message(\"toolbar_button\", {name: name});\n",
       "    }\n",
       "};\n",
       "\n",
       "mpl.figure.prototype.toolbar_button_onmouseover = function(tooltip) {\n",
       "    this.message.textContent = tooltip;\n",
       "};\n",
       "mpl.toolbar_items = [[\"Home\", \"Reset original view\", \"fa fa-home icon-home\", \"home\"], [\"Back\", \"Back to  previous view\", \"fa fa-arrow-left icon-arrow-left\", \"back\"], [\"Forward\", \"Forward to next view\", \"fa fa-arrow-right icon-arrow-right\", \"forward\"], [\"\", \"\", \"\", \"\"], [\"Pan\", \"Pan axes with left mouse, zoom with right\", \"fa fa-arrows icon-move\", \"pan\"], [\"Zoom\", \"Zoom to rectangle\", \"fa fa-square-o icon-check-empty\", \"zoom\"], [\"\", \"\", \"\", \"\"], [\"Download\", \"Download plot\", \"fa fa-floppy-o icon-save\", \"download\"]];\n",
       "\n",
       "mpl.extensions = [\"eps\", \"jpeg\", \"pdf\", \"png\", \"ps\", \"raw\", \"svg\", \"tif\"];\n",
       "\n",
       "mpl.default_extension = \"png\";var comm_websocket_adapter = function(comm) {\n",
       "    // Create a \"websocket\"-like object which calls the given IPython comm\n",
       "    // object with the appropriate methods. Currently this is a non binary\n",
       "    // socket, so there is still some room for performance tuning.\n",
       "    var ws = {};\n",
       "\n",
       "    ws.close = function() {\n",
       "        comm.close()\n",
       "    };\n",
       "    ws.send = function(m) {\n",
       "        //console.log('sending', m);\n",
       "        comm.send(m);\n",
       "    };\n",
       "    // Register the callback with on_msg.\n",
       "    comm.on_msg(function(msg) {\n",
       "        //console.log('receiving', msg['content']['data'], msg);\n",
       "        // Pass the mpl event to the overriden (by mpl) onmessage function.\n",
       "        ws.onmessage(msg['content']['data'])\n",
       "    });\n",
       "    return ws;\n",
       "}\n",
       "\n",
       "mpl.mpl_figure_comm = function(comm, msg) {\n",
       "    // This is the function which gets called when the mpl process\n",
       "    // starts-up an IPython Comm through the \"matplotlib\" channel.\n",
       "\n",
       "    var id = msg.content.data.id;\n",
       "    // Get hold of the div created by the display call when the Comm\n",
       "    // socket was opened in Python.\n",
       "    var element = $(\"#\" + id);\n",
       "    var ws_proxy = comm_websocket_adapter(comm)\n",
       "\n",
       "    function ondownload(figure, format) {\n",
       "        window.open(figure.imageObj.src);\n",
       "    }\n",
       "\n",
       "    var fig = new mpl.figure(id, ws_proxy,\n",
       "                           ondownload,\n",
       "                           element.get(0));\n",
       "\n",
       "    // Call onopen now - mpl needs it, as it is assuming we've passed it a real\n",
       "    // web socket which is closed, not our websocket->open comm proxy.\n",
       "    ws_proxy.onopen();\n",
       "\n",
       "    fig.parent_element = element.get(0);\n",
       "    fig.cell_info = mpl.find_output_cell(\"<div id='\" + id + \"'></div>\");\n",
       "    if (!fig.cell_info) {\n",
       "        console.error(\"Failed to find cell for figure\", id, fig);\n",
       "        return;\n",
       "    }\n",
       "\n",
       "    var output_index = fig.cell_info[2]\n",
       "    var cell = fig.cell_info[0];\n",
       "\n",
       "};\n",
       "\n",
       "mpl.figure.prototype.handle_close = function(fig, msg) {\n",
       "    fig.root.unbind('remove')\n",
       "\n",
       "    // Update the output cell to use the data from the current canvas.\n",
       "    fig.push_to_output();\n",
       "    var dataURL = fig.canvas.toDataURL();\n",
       "    // Re-enable the keyboard manager in IPython - without this line, in FF,\n",
       "    // the notebook keyboard shortcuts fail.\n",
       "    IPython.keyboard_manager.enable()\n",
       "    $(fig.parent_element).html('<img src=\"' + dataURL + '\">');\n",
       "    fig.close_ws(fig, msg);\n",
       "}\n",
       "\n",
       "mpl.figure.prototype.close_ws = function(fig, msg){\n",
       "    fig.send_message('closing', msg);\n",
       "    // fig.ws.close()\n",
       "}\n",
       "\n",
       "mpl.figure.prototype.push_to_output = function(remove_interactive) {\n",
       "    // Turn the data on the canvas into data in the output cell.\n",
       "    var dataURL = this.canvas.toDataURL();\n",
       "    this.cell_info[1]['text/html'] = '<img src=\"' + dataURL + '\">';\n",
       "}\n",
       "\n",
       "mpl.figure.prototype.updated_canvas_event = function() {\n",
       "    // Tell IPython that the notebook contents must change.\n",
       "    IPython.notebook.set_dirty(true);\n",
       "    this.send_message(\"ack\", {});\n",
       "    var fig = this;\n",
       "    // Wait a second, then push the new image to the DOM so\n",
       "    // that it is saved nicely (might be nice to debounce this).\n",
       "    setTimeout(function () { fig.push_to_output() }, 1000);\n",
       "}\n",
       "\n",
       "mpl.figure.prototype._init_toolbar = function() {\n",
       "    var fig = this;\n",
       "\n",
       "    var nav_element = $('<div/>')\n",
       "    nav_element.attr('style', 'width: 100%');\n",
       "    this.root.append(nav_element);\n",
       "\n",
       "    // Define a callback function for later on.\n",
       "    function toolbar_event(event) {\n",
       "        return fig.toolbar_button_onclick(event['data']);\n",
       "    }\n",
       "    function toolbar_mouse_event(event) {\n",
       "        return fig.toolbar_button_onmouseover(event['data']);\n",
       "    }\n",
       "\n",
       "    for(var toolbar_ind in mpl.toolbar_items){\n",
       "        var name = mpl.toolbar_items[toolbar_ind][0];\n",
       "        var tooltip = mpl.toolbar_items[toolbar_ind][1];\n",
       "        var image = mpl.toolbar_items[toolbar_ind][2];\n",
       "        var method_name = mpl.toolbar_items[toolbar_ind][3];\n",
       "\n",
       "        if (!name) { continue; };\n",
       "\n",
       "        var button = $('<button class=\"btn btn-default\" href=\"#\" title=\"' + name + '\"><i class=\"fa ' + image + ' fa-lg\"></i></button>');\n",
       "        button.click(method_name, toolbar_event);\n",
       "        button.mouseover(tooltip, toolbar_mouse_event);\n",
       "        nav_element.append(button);\n",
       "    }\n",
       "\n",
       "    // Add the status bar.\n",
       "    var status_bar = $('<span class=\"mpl-message\" style=\"text-align:right; float: right;\"/>');\n",
       "    nav_element.append(status_bar);\n",
       "    this.message = status_bar[0];\n",
       "\n",
       "    // Add the close button to the window.\n",
       "    var buttongrp = $('<div class=\"btn-group inline pull-right\"></div>');\n",
       "    var button = $('<button class=\"btn btn-mini btn-primary\" href=\"#\" title=\"Stop Interaction\"><i class=\"fa fa-power-off icon-remove icon-large\"></i></button>');\n",
       "    button.click(function (evt) { fig.handle_close(fig, {}); } );\n",
       "    button.mouseover('Stop Interaction', toolbar_mouse_event);\n",
       "    buttongrp.append(button);\n",
       "    var titlebar = this.root.find($('.ui-dialog-titlebar'));\n",
       "    titlebar.prepend(buttongrp);\n",
       "}\n",
       "\n",
       "mpl.figure.prototype._root_extra_style = function(el){\n",
       "    var fig = this\n",
       "    el.on(\"remove\", function(){\n",
       "\tfig.close_ws(fig, {});\n",
       "    });\n",
       "}\n",
       "\n",
       "mpl.figure.prototype._canvas_extra_style = function(el){\n",
       "    // this is important to make the div 'focusable\n",
       "    el.attr('tabindex', 0)\n",
       "    // reach out to IPython and tell the keyboard manager to turn it's self\n",
       "    // off when our div gets focus\n",
       "\n",
       "    // location in version 3\n",
       "    if (IPython.notebook.keyboard_manager) {\n",
       "        IPython.notebook.keyboard_manager.register_events(el);\n",
       "    }\n",
       "    else {\n",
       "        // location in version 2\n",
       "        IPython.keyboard_manager.register_events(el);\n",
       "    }\n",
       "\n",
       "}\n",
       "\n",
       "mpl.figure.prototype._key_event_extra = function(event, name) {\n",
       "    var manager = IPython.notebook.keyboard_manager;\n",
       "    if (!manager)\n",
       "        manager = IPython.keyboard_manager;\n",
       "\n",
       "    // Check for shift+enter\n",
       "    if (event.shiftKey && event.which == 13) {\n",
       "        this.canvas_div.blur();\n",
       "        event.shiftKey = false;\n",
       "        // Send a \"J\" for go to next cell\n",
       "        event.which = 74;\n",
       "        event.keyCode = 74;\n",
       "        manager.command_mode();\n",
       "        manager.handle_keydown(event);\n",
       "    }\n",
       "}\n",
       "\n",
       "mpl.figure.prototype.handle_save = function(fig, msg) {\n",
       "    fig.ondownload(fig, null);\n",
       "}\n",
       "\n",
       "\n",
       "mpl.find_output_cell = function(html_output) {\n",
       "    // Return the cell and output element which can be found *uniquely* in the notebook.\n",
       "    // Note - this is a bit hacky, but it is done because the \"notebook_saving.Notebook\"\n",
       "    // IPython event is triggered only after the cells have been serialised, which for\n",
       "    // our purposes (turning an active figure into a static one), is too late.\n",
       "    var cells = IPython.notebook.get_cells();\n",
       "    var ncells = cells.length;\n",
       "    for (var i=0; i<ncells; i++) {\n",
       "        var cell = cells[i];\n",
       "        if (cell.cell_type === 'code'){\n",
       "            for (var j=0; j<cell.output_area.outputs.length; j++) {\n",
       "                var data = cell.output_area.outputs[j];\n",
       "                if (data.data) {\n",
       "                    // IPython >= 3 moved mimebundle to data attribute of output\n",
       "                    data = data.data;\n",
       "                }\n",
       "                if (data['text/html'] == html_output) {\n",
       "                    return [cell, data, j];\n",
       "                }\n",
       "            }\n",
       "        }\n",
       "    }\n",
       "}\n",
       "\n",
       "// Register the function which deals with the matplotlib target/channel.\n",
       "// The kernel may be null if the page has been refreshed.\n",
       "if (IPython.notebook.kernel != null) {\n",
       "    IPython.notebook.kernel.comm_manager.register_target('matplotlib', mpl.mpl_figure_comm);\n",
       "}\n"
      ],
      "text/plain": [
       "<IPython.core.display.Javascript object>"
      ]
     },
     "metadata": {},
     "output_type": "display_data"
    },
    {
     "data": {
      "text/html": [
       "<img src=\"data:image/png;base64,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\">"
      ],
      "text/plain": [
       "<IPython.core.display.HTML object>"
      ]
     },
     "metadata": {},
     "output_type": "display_data"
    }
   ],
   "source": [
    "# plot: \n",
    "line_train, = plot([], [], 'go-', label=\"average training loss\")\n",
    "line_curr_val, = plot([],[], 'bo:', label=\"avrg current validation loss\")\n",
    "line_best_val, = plot([], [], 'ko-', label=\"avrg best validation loss\")\n",
    "# plt.ticklabel_format(style='sci', axis='y', scilimits=(0,0))\n",
    "yscale('log')\n",
    "gca().yaxis.set_minor_formatter(FormatStrFormatter(\"%.2g\"))\n",
    "ylabel(\"validation loss\")\n",
    "xlabel(\"#epoch\")\n",
    "legend(loc='lower left', fancybox=True, framealpha=0.5)\n",
    "\n",
    "# start values:\n",
    "val_loss = optimizer_kwargs['num_loss'](optimizer_kwargs['num_parameters'], VZ, VX, no_annealing=True)\n",
    "training_loss = optimizer_kwargs['num_loss'](optimizer_kwargs['num_parameters'], Z[:10], X[:10], no_annealing=True)\n",
    "start_epoch = opt.n_iter//n_batches\n",
    "\n",
    "add_point(line_best_val, start_epoch, val_loss)\n",
    "add_point(line_curr_val, start_epoch, val_loss)\n",
    "add_point(line_train, start_epoch, training_loss)"
   ]
  },
  {
   "cell_type": "code",
   "execution_count": null,
   "metadata": {
    "collapsed": false
   },
   "outputs": [],
   "source": [
    "for info in takeN(hyper.n_epochs, every(n_batches, opt)):\n",
    "    current_epoch = info['n_iter']//n_batches\n",
    "    # collect and visualize validation loss for choosing the best model\n",
    "    val_loss = optimizer_kwargs['num_loss'](opt.wrt, VZ, VX, no_annealing=True)\n",
    "    if val_loss < hyper.best_val_loss:\n",
    "        hyper.best_parameters = opt.wrt\n",
    "        hyper.best_val_loss = val_loss\n",
    "        add_point(line_best_val, current_epoch, val_loss)\n",
    "    hyper.val_loss.append(val_loss)\n",
    "    add_point(line_curr_val, current_epoch, val_loss)\n",
    "    \n",
    "    # visualize training loss for comparison:\n",
    "    training_loss = optimizer_kwargs['num_loss'](opt.wrt, Z[:10], X[:10], no_annealing=True)\n",
    "    hyper.train_loss.append(training_loss)\n",
    "    add_point(line_train, current_epoch, training_loss)\n",
    "    \n",
    "#     print info['n_iter'], training_loss, val_loss, best_val_loss"
   ]
  },
  {
   "cell_type": "code",
   "execution_count": null,
   "metadata": {
    "collapsed": true
   },
   "outputs": [],
   "source": [
    "sql_session.add(hyper)\n",
    "sql_session.commit()"
   ]
  },
  {
   "cell_type": "markdown",
   "metadata": {},
   "source": [
    "# Performance"
   ]
  },
  {
   "cell_type": "markdown",
   "metadata": {},
   "source": [
    "TODO: average over predictions"
   ]
  },
  {
   "cell_type": "code",
   "execution_count": null,
   "metadata": {
    "collapsed": false
   },
   "outputs": [],
   "source": [
    "print best_val_loss\n",
    "model['flat'] = best_wrt\n",
    "\n",
    "predict = mlp.function()\n",
    "predict(X[0]), Z[0]"
   ]
  },
  {
   "cell_type": "code",
   "execution_count": null,
   "metadata": {
    "collapsed": true
   },
   "outputs": [],
   "source": [
    "PX = np.apply_along_axis(predict, 1, X)\n",
    "PVX = np.apply_along_axis(predict, 1, VX)\n",
    "PTX = np.apply_along_axis(predict, 1, TX)"
   ]
  },
  {
   "cell_type": "code",
   "execution_count": null,
   "metadata": {
    "collapsed": false
   },
   "outputs": [],
   "source": [
    "print 'incorrect samples train/val/test:  %i/%i/%i' % (\n",
    "    (PX[:, :10].argmax(1) != Z.argmax(1)).sum(),\n",
    "    (PVX[:, :10].argmax(1) != VZ.argmax(1)).sum(),\n",
    "    (PTX[:, :10].argmax(1) != TZ.argmax(1)).sum())\n",
    "\n",
    "print 'error rate train/val/test:  %g/%g/%g' % (\n",
    "    (PX[:, :10].argmax(1) != Z.argmax(1)).mean(),\n",
    "    (PVX[:, :10].argmax(1) != VZ.argmax(1)).mean(),\n",
    "    (PTX[:, :10].argmax(1) != TZ.argmax(1)).mean())"
   ]
  }
 ],
 "metadata": {
  "kernelspec": {
   "display_name": "Python 2",
   "language": "python",
   "name": "python2"
  },
  "language_info": {
   "codemirror_mode": {
    "name": "ipython",
    "version": 2
   },
   "file_extension": ".py",
   "mimetype": "text/x-python",
   "name": "python",
   "nbconvert_exporter": "python",
   "pygments_lexer": "ipython2",
   "version": "2.7.6"
  },
  "toc": {
   "toc_cell": false,
   "toc_number_sections": true,
   "toc_threshold": 4,
   "toc_window_display": false
  }
 },
 "nbformat": 4,
 "nbformat_minor": 0
}
