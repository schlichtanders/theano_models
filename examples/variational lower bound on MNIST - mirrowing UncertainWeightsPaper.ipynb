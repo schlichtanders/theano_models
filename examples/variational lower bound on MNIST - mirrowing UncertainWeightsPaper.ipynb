{
 "cells": [
  {
   "cell_type": "code",
   "execution_count": 5,
   "metadata": {
    "collapsed": false,
    "scrolled": true
   },
   "outputs": [],
   "source": [
    "%matplotlib notebook\n",
    "from __future__ import division\n",
    "from matplotlib.pyplot import plot, ylabel, xlabel, yscale, xscale, legend, subplots, gca, gcf\n",
    "from matplotlib.ticker import FormatStrFormatter\n",
    "from IPython.display import IFrame"
   ]
  },
  {
   "cell_type": "code",
   "execution_count": 6,
   "metadata": {
    "collapsed": false
   },
   "outputs": [],
   "source": [
    "import numpy as np\n",
    "import gzip\n",
    "import cPickle\n",
    "from scipy.optimize import minimize\n",
    "from climin.util import optimizer\n",
    "from itertools import repeat, cycle, islice, izip\n",
    "import random\n",
    "inf = float(\"inf\")"
   ]
  },
  {
   "cell_type": "code",
   "execution_count": 7,
   "metadata": {
    "collapsed": false
   },
   "outputs": [],
   "source": [
    "from breze.learn.data import one_hot\n",
    "from breze.learn.base import cast_array_to_local_type\n",
    "from schlichtanders.myfunctools import compose, meanmap, summap, compose_fmap, Average\n",
    "from schlichtanders import myfunctools\n",
    "from schlichtanders.mygenerators import eatN, chunk, chunk_list, every, takeN\n",
    "from schlichtanders.myplot import add_val, add_point"
   ]
  },
  {
   "cell_type": "code",
   "execution_count": 9,
   "metadata": {
    "collapsed": false
   },
   "outputs": [],
   "source": [
    "import theano_models as tm\n",
    "import theano_models.deterministic_models as dm\n",
    "import theano_models.probabilistic_models as pm\n",
    "import theano\n",
    "import theano.tensor as T\n",
    "from theano.printing import debugprint\n",
    "from theano.tensor.shared_randomstreams import RandomStreams"
   ]
  },
  {
   "cell_type": "code",
   "execution_count": 10,
   "metadata": {
    "collapsed": false
   },
   "outputs": [],
   "source": [
    "from sqlalchemy import Column, Integer, Unicode, UnicodeText, String, PickleType, Float\n",
    "from sqlalchemy import create_engine\n",
    "from sqlalchemy.orm import sessionmaker\n",
    "from sqlalchemy.ext.declarative import declarative_base"
   ]
  },
  {
   "cell_type": "code",
   "execution_count": 11,
   "metadata": {
    "collapsed": false
   },
   "outputs": [],
   "source": [
    "import warnings\n",
    "warnings.filterwarnings(\"ignore\", category=DeprecationWarning)"
   ]
  },
  {
   "cell_type": "code",
   "execution_count": 13,
   "metadata": {
    "collapsed": false
   },
   "outputs": [
    {
     "data": {
      "text/plain": [
       "({'extra_inputs',\n",
       "  'flat',\n",
       "  'inputs',\n",
       "  'n_data',\n",
       "  'parameters',\n",
       "  'parameters_positive',\n",
       "  'parameters_psumto1',\n",
       "  'to_be_randomized'},\n",
       " {'kl_prior', 'loglikelihood', 'norm_det', 'norm_dets', 'outputs'})"
      ]
     },
     "execution_count": 13,
     "metadata": {},
     "output_type": "execute_result"
    }
   ],
   "source": [
    "tm.inputting_references.update(['to_be_randomized'])\n",
    "tm.inputting_references, tm.outputting_references"
   ]
  },
  {
   "cell_type": "code",
   "execution_count": 14,
   "metadata": {
    "collapsed": true
   },
   "outputs": [],
   "source": [
    "from schlichtanders.myobjects import NestedNamespace"
   ]
  },
  {
   "cell_type": "raw",
   "metadata": {
    "collapsed": true
   },
   "source": [
    "pm.RNG = NestedNamespace(PooledRandomStreams(pool_size=int(5e8)), RandomStreams())"
   ]
  },
  {
   "cell_type": "markdown",
   "metadata": {},
   "source": [
    "# Data"
   ]
  },
  {
   "cell_type": "code",
   "execution_count": 15,
   "metadata": {
    "collapsed": false
   },
   "outputs": [
    {
     "data": {
      "text/plain": [
       "[(50000, 784),\n",
       " (50000, 10),\n",
       " (10000, 784),\n",
       " (10000, 10),\n",
       " (10000, 784),\n",
       " (10000, 10)]"
      ]
     },
     "execution_count": 15,
     "metadata": {},
     "output_type": "execute_result"
    }
   ],
   "source": [
    "datafile = '../data/mnist.pkl.gz'\n",
    "# Load data.        a                                                                                           \n",
    "\n",
    "with gzip.open(datafile,'rb') as f:                                                                        \n",
    "    train_set, val_set, test_set = cPickle.load(f)                                                       \n",
    "\n",
    "X, Z = train_set                                                                                               \n",
    "VX, VZ = val_set\n",
    "TX, TZ = test_set\n",
    "\n",
    "Z = one_hot(Z, 10)\n",
    "VZ = one_hot(VZ, 10)\n",
    "TZ = one_hot(TZ, 10)\n",
    "\n",
    "# from UncertainWeightsPaper rescaled the data,\n",
    "# however it already seems to be normalized\n",
    "# X /= 126  \n",
    "# VX /= 126\n",
    "# TX /= 126\n",
    "# X *= 2\n",
    "# VX *= 2\n",
    "# TX *= 2\n",
    "\n",
    "image_dims = 28, 28\n",
    "\n",
    "X, Z, VX, VZ, TX, TZ = [cast_array_to_local_type(i) for i in (X, Z, VX,VZ, TX, TZ)]\n",
    "map(np.shape, [X, Z, VX, VZ, TX, TZ])"
   ]
  },
  {
   "cell_type": "markdown",
   "metadata": {},
   "source": [
    "# Hyperparameters"
   ]
  },
  {
   "cell_type": "code",
   "execution_count": 16,
   "metadata": {
    "collapsed": false
   },
   "outputs": [
    {
     "data": {
      "text/plain": [
       "{'_sa_instance_state': <sqlalchemy.orm.state.InstanceState at 0x7f39a2f19190>,\n",
       " 'average_n': 1,\n",
       " 'batch_size': 128,\n",
       " 'best_parameters': None,\n",
       " 'best_val_loss': inf,\n",
       " 'mapreduce': 'summap',\n",
       " 'minus_log_s1': 0,\n",
       " 'minus_log_s2': 6,\n",
       " 'n_epochs': 20,\n",
       " 'n_normflows': 2,\n",
       " 'opt_decay': 0.8921101559667562,\n",
       " 'opt_identifier': 'adam',\n",
       " 'opt_momentum': 0.8230536276942046,\n",
       " 'opt_offset': 0.0007807802738183761,\n",
       " 'opt_step_rate': 0.0001,\n",
       " 'pi': 0.5,\n",
       " 'train_loss': [],\n",
       " 'units_per_layer': 1200,\n",
       " 'val_loss': []}"
      ]
     },
     "execution_count": 16,
     "metadata": {},
     "output_type": "execute_result"
    }
   ],
   "source": [
    "engine = create_engine('sqlite:///hyperparameters.db')\n",
    "Base = declarative_base(bind=engine)\n",
    "\n",
    "class RandomHyper(Base):\n",
    "    __tablename__ = 'hyper'\n",
    "    id = Column(Integer, primary_key=True)\n",
    "    \n",
    "    # hyper parameters:\n",
    "    n_epochs = Column(Integer)\n",
    "    batch_size = Column(Integer)\n",
    "    average_n = Column(Integer)\n",
    "    units_per_layer = Column(Integer)\n",
    "    pi = Column(Float)\n",
    "    minus_log_s1 = Column(Integer)\n",
    "    minus_log_s2 = Column(Integer)\n",
    "    \n",
    "    n_normflows = Column(Integer)\n",
    "    \n",
    "    opt_identifier = Column(String)\n",
    "    opt_momentum = Column(Float)\n",
    "    opt_offset = Column(Float)\n",
    "    opt_decay = Column(Float)\n",
    "    opt_step_rate = Column(Float)\n",
    "    \n",
    "    # results:\n",
    "    best_val_loss = Column(Float)\n",
    "    best_parameters = Column(PickleType, nullable=True)\n",
    "    train_loss = Column(PickleType)\n",
    "    val_loss = Column(PickleType)\n",
    "\n",
    "    def __init__(self):\n",
    "        # hyper parameters:\n",
    "        self.n_epochs = 20\n",
    "        self.batch_size = 128\n",
    "        self.average_n = 1\n",
    "        self.units_per_layer = np.random.choice([400, 800, 1200], p=[0.5, 0.3, 0.2])\n",
    "        self.pi = random.choice([1/4, 1/2, 3/4])\n",
    "        self.minus_log_s1 = random.choice([0,1,2])\n",
    "        self.minus_log_s2 = random.choice([6,7,8])\n",
    "        \n",
    "        self.n_normflows = random.choice([1,2,3,4,8,32])\n",
    "        \n",
    "        self.opt_identifier = random.choice([\"adadelta\", \"adam\", \"rmsprop\"])\n",
    "        if self.opt_identifier == \"adadelta\":\n",
    "            self.opt_momentum = random.choice([np.random.uniform(0, 0.01), np.random.uniform(0.9, 1)])\n",
    "            self.opt_offset = random.choice([5e-5, 1e-8])\n",
    "            self.opt_step_rate = random.choice([1, 1e-3, 1e-4, 1e-5])\n",
    "        elif self.opt_identifier == \"adam\":\n",
    "            self.opt_momentum = random.choice([np.random.uniform(0, 0.01), np.random.uniform(0.8, 0.93)])\n",
    "            self.opt_offset = 10 ** -np.random.uniform(3, 4)\n",
    "            self.opt_step_rate = random.choice([1e-3, 1e-4, 1e-5])\n",
    "        elif self.opt_identifier == \"rmsprop\":\n",
    "            self.opt_momentum = random.choice([np.random.uniform(0.002, 0.008), np.random.uniform(0.9, 1)])\n",
    "            self.opt_offset = np.random.uniform(0, 0.000045)\n",
    "            self.opt_step_rate = random.choice([1e-3, 1e-4, 1e-5])\n",
    "        self.opt_decay = np.random.uniform(0.78, 1)\n",
    "        \n",
    "        self.init_results()\n",
    "    \n",
    "    def init_results(self):\n",
    "        # extra for being able to reset results for loaded hyperparameters\n",
    "        self.best_parameters = None\n",
    "        self.best_val_loss = inf\n",
    "        self.train_loss = []\n",
    "        self.val_loss = []\n",
    "\n",
    "Base.metadata.create_all()\n",
    "Session = sessionmaker(bind=engine)\n",
    "sql_session = Session()\n",
    "hyper = RandomHyper()\n",
    "hyper.__dict__"
   ]
  },
  {
   "cell_type": "markdown",
   "metadata": {},
   "source": [
    "# Model"
   ]
  },
  {
   "cell_type": "code",
   "execution_count": 29,
   "metadata": {
    "collapsed": true
   },
   "outputs": [],
   "source": [
    "Flatten = tm.as_proxmodel(\"to_be_randomized\")(tm.prox_flatten)"
   ]
  },
  {
   "cell_type": "markdown",
   "metadata": {},
   "source": [
    "## data modelling"
   ]
  },
  {
   "cell_type": "raw",
   "metadata": {},
   "source": [
    "# for continous supervised data:\n",
    "predictor = dm.Mlp(output_size=10, output_transfer=\"softmax\", hidden_sizes=[200]*2, hidden_transfers=[\"rectifier\"]*2)\n",
    "post.flatten_parameters(predictor)\n",
    "\n",
    "target_distribution = pm.DiagGaussianNoise(predictor)\n",
    "\n",
    "targets = Merge(target_distribution, inputs=predictor['inputs'], to_be_randomized=predictor['parameters_flat'])\n",
    "targets"
   ]
  },
  {
   "cell_type": "code",
   "execution_count": 30,
   "metadata": {
    "collapsed": false
   },
   "outputs": [],
   "source": [
    "# this is extremely useful to tell everything the default sizes\n",
    "input = tm.as_tensor_variable(X[0], name=\"X\")"
   ]
  },
  {
   "cell_type": "code",
   "execution_count": 31,
   "metadata": {
    "collapsed": false
   },
   "outputs": [
    {
     "data": {
      "text/plain": [
       "Mlp3 { 'inputs': [AffineNonlinear7.X],\n",
       "  'outputs': AffineNonlinear9.outputs,\n",
       "  'parameters': [ AffineNonlinear7.weights,\n",
       "                  AffineNonlinear7.bias,\n",
       "                  AffineNonlinear8.weights,\n",
       "                  AffineNonlinear8.bias,\n",
       "                  AffineNonlinear9.weights,\n",
       "                  AffineNonlinear9.bias]}"
      ]
     },
     "execution_count": 31,
     "metadata": {},
     "output_type": "execute_result"
    }
   ],
   "source": [
    "predictor = dm.Mlp(\n",
    "    input=input,\n",
    "    output_size=Z.shape[1],\n",
    "    output_transfer=\"softmax\",\n",
    "    hidden_sizes=[hyper.units_per_layer]*2,\n",
    "    hidden_transfers=[\"rectifier\"]*2\n",
    ")\n",
    "predictor"
   ]
  },
  {
   "cell_type": "code",
   "execution_count": 32,
   "metadata": {
    "collapsed": false
   },
   "outputs": [
    {
     "data": {
      "text/plain": [
       "Categorical3 { 'inputs': [],\n",
       "  'outputs': Categorical3.outputs,\n",
       "  'parameters_psumto1': [AffineNonlinear9.outputs]}"
      ]
     },
     "execution_count": 32,
     "metadata": {},
     "output_type": "execute_result"
    }
   ],
   "source": [
    "target_distribution = pm.Categorical(predictor)\n",
    "target_distribution"
   ]
  },
  {
   "cell_type": "code",
   "execution_count": 33,
   "metadata": {
    "collapsed": false
   },
   "outputs": [
    {
     "data": {
      "text/plain": [
       "Merge3 { 'inputs': [AffineNonlinear7.X],\n",
       "  'outputs': Categorical3.outputs,\n",
       "  'parameters': [],\n",
       "  'parameters_psumto1': [],\n",
       "  'to_be_randomized': \"AffineNonlinear7.weights:AffineNonlinear7.bias:AffineNonlinear8.weights:AffineNonlinear8.bias:AffineNonlinear9.weights:AffineNonlinear9.bias\"}"
      ]
     },
     "execution_count": 33,
     "metadata": {},
     "output_type": "execute_result"
    }
   ],
   "source": [
    "targets = tm.Merge(target_distribution, predictor, Flatten(predictor['parameters']))\n",
    "targets"
   ]
  },
  {
   "cell_type": "markdown",
   "metadata": {},
   "source": [
    "## parameter modelling"
   ]
  },
  {
   "cell_type": "code",
   "execution_count": 39,
   "metadata": {
    "collapsed": true
   },
   "outputs": [],
   "source": [
    "total_size = tm.total_size(targets['to_be_randomized'])"
   ]
  },
  {
   "cell_type": "code",
   "execution_count": 40,
   "metadata": {
    "collapsed": false
   },
   "outputs": [
    {
     "data": {
      "text/plain": [
       "DiagGauss2 { 'inputs': [],\n",
       "  'outputs': DiagGauss2.outputs,\n",
       "  'parameters': [DiagGauss2.mean],\n",
       "  'parameters_positive': [DiagGauss2.var]}"
      ]
     },
     "execution_count": 40,
     "metadata": {},
     "output_type": "execute_result"
    }
   ],
   "source": [
    "params_base = pm.DiagGauss(output_size=total_size)  \n",
    "# if you want to use size directly, CAUTION, you need to copy before!\n",
    "# params_base.map('parameters_positive', reparameterize_map(squareplus, squareplus_inv), 'parameters')\n",
    "params_base"
   ]
  },
  {
   "cell_type": "code",
   "execution_count": 41,
   "metadata": {
    "collapsed": false
   },
   "outputs": [
    {
     "data": {
      "text/plain": [
       "[PlanarTransform3 { 'inputs': [PlanarTransform3.inputs.0],\n",
       "   'norm_det': PlanarTransform3.norm_det,\n",
       "   'outputs': PlanarTransform3.outputs,\n",
       "   'parameters': [PlanarTransform3.b, PlanarTransform3.w, PlanarTransform3._u]},\n",
       " PlanarTransform4 { 'inputs': [PlanarTransform4.inputs.0],\n",
       "   'norm_det': PlanarTransform4.norm_det,\n",
       "   'outputs': PlanarTransform4.outputs,\n",
       "   'parameters': [PlanarTransform4.b, PlanarTransform4.w, PlanarTransform4._u]}]"
      ]
     },
     "execution_count": 41,
     "metadata": {},
     "output_type": "execute_result"
    }
   ],
   "source": [
    "normflows = [dm.PlanarTransform() for _ in range(hyper.n_normflows)]\n",
    "normflows"
   ]
  },
  {
   "cell_type": "code",
   "execution_count": 42,
   "metadata": {
    "collapsed": false
   },
   "outputs": [
    {
     "data": {
      "text/plain": [
       "normalized_flow4 { 'inputs': [],\n",
       "  'norm_det': PlanarTransform4.norm_det,\n",
       "  'outputs': PlanarTransform4.outputs,\n",
       "  'parameters': [ PlanarTransform4.b,\n",
       "                  PlanarTransform4.w,\n",
       "                  PlanarTransform4._u,\n",
       "                  PlanarTransform3.b,\n",
       "                  PlanarTransform3.w,\n",
       "                  PlanarTransform3._u,\n",
       "                  DiagGauss2.mean],\n",
       "  'parameters_positive': [DiagGauss2.var]}"
      ]
     },
     "execution_count": 42,
     "metadata": {},
     "output_type": "execute_result"
    }
   ],
   "source": [
    "params = params_base\n",
    "for transform in normflows:\n",
    "    params = tm.normalizing_flow(transform, params)  # returns transform, however with adapted logP    \n",
    "\n",
    "params"
   ]
  },
  {
   "cell_type": "markdown",
   "metadata": {},
   "source": [
    "## bayes"
   ]
  },
  {
   "cell_type": "code",
   "execution_count": 43,
   "metadata": {
    "collapsed": false
   },
   "outputs": [
    {
     "data": {
      "text/plain": [
       "Merge9 { 'hyperparameters_positive': [Gauss.var, Gauss2.var],\n",
       "  'hyperparameters_psumto1': [Mixture.mixture_probs],\n",
       "  'inputs': [],\n",
       "  'outputs': Mixture.outputs}"
      ]
     },
     "execution_count": 43,
     "metadata": {},
     "output_type": "execute_result"
    }
   ],
   "source": [
    "g1 = pm.Gauss(total_size, init_var=np.exp(-2* hyper.minus_log_s1))\n",
    "g2 = pm.Gauss(total_size, init_var=np.exp(-2* hyper.minus_log_s2))\n",
    "prior = pm.Mixture(g1, g2, mixture_probs=[hyper.pi, 1-hyper.pi])\n",
    "# label hyper parameters accordingly\n",
    "prior = tm.Merge(prior,\n",
    "              parameters=None, # mean is not adapted at all, but left centred at zero\n",
    "              parameters_positive='hyperparameters_positive',\n",
    "              parameters_psumto1='hyperparameters_psumto1')\n",
    "prior"
   ]
  },
  {
   "cell_type": "code",
   "execution_count": 44,
   "metadata": {
    "collapsed": false
   },
   "outputs": [
    {
     "data": {
      "text/plain": [
       "variational_lower_bound { 'hyperparameters_positive': [Gauss.var, Gauss2.var],\n",
       "  'hyperparameters_psumto1': [Mixture.mixture_probs],\n",
       "  'inputs': [AffineNonlinear7.X],\n",
       "  'kl_prior': variational_lower_bound.kl_prior,\n",
       "  'logposterior': variational_lower_bound.logposterior,\n",
       "  'logprior': variational_lower_bound.logprior,\n",
       "  'n_data': variational_lower_bound.n_data,\n",
       "  'norm_det': PlanarTransform4.norm_det,\n",
       "  'outputs': Categorical3.outputs,\n",
       "  'parameters': [ PlanarTransform4.b,\n",
       "                  PlanarTransform4.w,\n",
       "                  PlanarTransform4._u,\n",
       "                  PlanarTransform3.b,\n",
       "                  PlanarTransform3.w,\n",
       "                  PlanarTransform3._u,\n",
       "                  DiagGauss2.mean],\n",
       "  'parameters_positive': [DiagGauss2.var],\n",
       "  'parameters_psumto1': []}"
      ]
     },
     "execution_count": 44,
     "metadata": {},
     "output_type": "execute_result"
    }
   ],
   "source": [
    "model = tm.variational_bayes(targets, 'to_be_randomized', params, priors=prior)\n",
    "model"
   ]
  },
  {
   "cell_type": "code",
   "execution_count": 45,
   "metadata": {
    "collapsed": false
   },
   "outputs": [],
   "source": [
    "# model = Merge(model, Reparameterize(model['parameters_positive'], squareplus, squareplus_inv))\n",
    "# UncertainWeights uses softplus parameterization\n",
    "parameters = tm.prox_reparameterize(model['parameters_positive'], tm.softplus, tm.softplus_inv)\n",
    "parameters += model['parameters']\n",
    "flat = tm.prox_flatten(tm.prox_center(parameters))"
   ]
  },
  {
   "cell_type": "markdown",
   "metadata": {},
   "source": [
    "# Optimizer"
   ]
  },
  {
   "cell_type": "code",
   "execution_count": 46,
   "metadata": {
    "collapsed": true
   },
   "outputs": [],
   "source": [
    "# dm.InvertibleModel.INVERTIBLE_MODELS\n",
    "tm.reduce_all_identities()\n",
    "# dm.InvertibleModel.INVERTIBLE_MODELS"
   ]
  },
  {
   "cell_type": "markdown",
   "metadata": {},
   "source": [
    "Climin wants an iterator of (args, kwarsg) as keyword argument \"args\" (to be passed to the loss function). Concretley, we use an infinite iterator over minibatches."
   ]
  },
  {
   "cell_type": "code",
   "execution_count": 47,
   "metadata": {
    "collapsed": true
   },
   "outputs": [],
   "source": [
    "n_batches = X.shape[0] // hyper.batch_size  # after this many steps we went through the whole data set once\n",
    "\n",
    "climin_args = izip(izip(chunk(hyper.batch_size, cycle(Z)), chunk(hyper.batch_size, cycle(X))), repeat({}))\n",
    "\n",
    "def weights_regularizer_1epoch():\n",
    "    for i in range(1, n_batches+1):\n",
    "        yield 2**(n_batches - i) / (2**n_batches - 1)\n",
    "        \n",
    "assert len(list(weights_regularizer_1epoch())) == n_batches"
   ]
  },
  {
   "cell_type": "code",
   "execution_count": 48,
   "metadata": {
    "collapsed": false
   },
   "outputs": [],
   "source": [
    "# mapreduce = summap\n",
    "# if hyper.average_n > 1:\n",
    "#     mapreduce = compose_fmap(Average(hyper.average_n), mapreduce)\n",
    "\n",
    "loss = tm.loss_variational(model)\n",
    "optimizer_kwargs = tm.numericalize(\n",
    "    loss, flat,\n",
    "    batch_mapreduce=summap,\n",
    "    annealing_combiner=tm.AnnealingCombiner(\n",
    "        weights_regularizer=cycle(weights_regularizer_1epoch())\n",
    "    ),\n",
    "    adapt_init_params=lambda ps: ps + np.random.normal(size=ps.size, scale=0.01),\n",
    "    mode='FAST_RUN'\n",
    ")"
   ]
  },
  {
   "cell_type": "code",
   "execution_count": 49,
   "metadata": {
    "collapsed": false
   },
   "outputs": [
    {
     "name": "stdout",
     "output_type": "stream",
     "text": [
      "batch_precompile\n",
      "batch_precompile\n"
     ]
    },
    {
     "name": "stderr",
     "output_type": "stream",
     "text": [
      "/home/stephan/GitProjects/climin/climin/util.py:151: UserWarning: Argument named f is not expected by <class 'climin.adam.Adam'>\n",
      "  % (i, klass))\n"
     ]
    }
   ],
   "source": [
    "opt = optimizer(\n",
    "    identifier=hyper.opt_identifier,\n",
    "    step_rate=hyper.opt_step_rate,\n",
    "    momentum=hyper.opt_momentum,\n",
    "    decay=hyper.opt_decay,\n",
    "    offset=hyper.opt_offset,\n",
    "    \n",
    "    args=climin_args,\n",
    "    **tm.climin_kwargs(optimizer_kwargs)\n",
    ")"
   ]
  },
  {
   "cell_type": "markdown",
   "metadata": {},
   "source": [
    "# Visualized Fit"
   ]
  },
  {
   "cell_type": "code",
   "execution_count": 50,
   "metadata": {
    "collapsed": false
   },
   "outputs": [
    {
     "data": {
      "application/javascript": [
       "/* Put everything inside the global mpl namespace */\n",
       "window.mpl = {};\n",
       "\n",
       "mpl.get_websocket_type = function() {\n",
       "    if (typeof(WebSocket) !== 'undefined') {\n",
       "        return WebSocket;\n",
       "    } else if (typeof(MozWebSocket) !== 'undefined') {\n",
       "        return MozWebSocket;\n",
       "    } else {\n",
       "        alert('Your browser does not have WebSocket support.' +\n",
       "              'Please try Chrome, Safari or Firefox ≥ 6. ' +\n",
       "              'Firefox 4 and 5 are also supported but you ' +\n",
       "              'have to enable WebSockets in about:config.');\n",
       "    };\n",
       "}\n",
       "\n",
       "mpl.figure = function(figure_id, websocket, ondownload, parent_element) {\n",
       "    this.id = figure_id;\n",
       "\n",
       "    this.ws = websocket;\n",
       "\n",
       "    this.supports_binary = (this.ws.binaryType != undefined);\n",
       "\n",
       "    if (!this.supports_binary) {\n",
       "        var warnings = document.getElementById(\"mpl-warnings\");\n",
       "        if (warnings) {\n",
       "            warnings.style.display = 'block';\n",
       "            warnings.textContent = (\n",
       "                \"This browser does not support binary websocket messages. \" +\n",
       "                    \"Performance may be slow.\");\n",
       "        }\n",
       "    }\n",
       "\n",
       "    this.imageObj = new Image();\n",
       "\n",
       "    this.context = undefined;\n",
       "    this.message = undefined;\n",
       "    this.canvas = undefined;\n",
       "    this.rubberband_canvas = undefined;\n",
       "    this.rubberband_context = undefined;\n",
       "    this.format_dropdown = undefined;\n",
       "\n",
       "    this.image_mode = 'full';\n",
       "\n",
       "    this.root = $('<div/>');\n",
       "    this._root_extra_style(this.root)\n",
       "    this.root.attr('style', 'display: inline-block');\n",
       "\n",
       "    $(parent_element).append(this.root);\n",
       "\n",
       "    this._init_header(this);\n",
       "    this._init_canvas(this);\n",
       "    this._init_toolbar(this);\n",
       "\n",
       "    var fig = this;\n",
       "\n",
       "    this.waiting = false;\n",
       "\n",
       "    this.ws.onopen =  function () {\n",
       "            fig.send_message(\"supports_binary\", {value: fig.supports_binary});\n",
       "            fig.send_message(\"send_image_mode\", {});\n",
       "            fig.send_message(\"refresh\", {});\n",
       "        }\n",
       "\n",
       "    this.imageObj.onload = function() {\n",
       "            if (fig.image_mode == 'full') {\n",
       "                // Full images could contain transparency (where diff images\n",
       "                // almost always do), so we need to clear the canvas so that\n",
       "                // there is no ghosting.\n",
       "                fig.context.clearRect(0, 0, fig.canvas.width, fig.canvas.height);\n",
       "            }\n",
       "            fig.context.drawImage(fig.imageObj, 0, 0);\n",
       "        };\n",
       "\n",
       "    this.imageObj.onunload = function() {\n",
       "        this.ws.close();\n",
       "    }\n",
       "\n",
       "    this.ws.onmessage = this._make_on_message_function(this);\n",
       "\n",
       "    this.ondownload = ondownload;\n",
       "}\n",
       "\n",
       "mpl.figure.prototype._init_header = function() {\n",
       "    var titlebar = $(\n",
       "        '<div class=\"ui-dialog-titlebar ui-widget-header ui-corner-all ' +\n",
       "        'ui-helper-clearfix\"/>');\n",
       "    var titletext = $(\n",
       "        '<div class=\"ui-dialog-title\" style=\"width: 100%; ' +\n",
       "        'text-align: center; padding: 3px;\"/>');\n",
       "    titlebar.append(titletext)\n",
       "    this.root.append(titlebar);\n",
       "    this.header = titletext[0];\n",
       "}\n",
       "\n",
       "\n",
       "\n",
       "mpl.figure.prototype._canvas_extra_style = function(canvas_div) {\n",
       "\n",
       "}\n",
       "\n",
       "\n",
       "mpl.figure.prototype._root_extra_style = function(canvas_div) {\n",
       "\n",
       "}\n",
       "\n",
       "mpl.figure.prototype._init_canvas = function() {\n",
       "    var fig = this;\n",
       "\n",
       "    var canvas_div = $('<div/>');\n",
       "\n",
       "    canvas_div.attr('style', 'position: relative; clear: both; outline: 0');\n",
       "\n",
       "    function canvas_keyboard_event(event) {\n",
       "        return fig.key_event(event, event['data']);\n",
       "    }\n",
       "\n",
       "    canvas_div.keydown('key_press', canvas_keyboard_event);\n",
       "    canvas_div.keyup('key_release', canvas_keyboard_event);\n",
       "    this.canvas_div = canvas_div\n",
       "    this._canvas_extra_style(canvas_div)\n",
       "    this.root.append(canvas_div);\n",
       "\n",
       "    var canvas = $('<canvas/>');\n",
       "    canvas.addClass('mpl-canvas');\n",
       "    canvas.attr('style', \"left: 0; top: 0; z-index: 0; outline: 0\")\n",
       "\n",
       "    this.canvas = canvas[0];\n",
       "    this.context = canvas[0].getContext(\"2d\");\n",
       "\n",
       "    var rubberband = $('<canvas/>');\n",
       "    rubberband.attr('style', \"position: absolute; left: 0; top: 0; z-index: 1;\")\n",
       "\n",
       "    var pass_mouse_events = true;\n",
       "\n",
       "    canvas_div.resizable({\n",
       "        start: function(event, ui) {\n",
       "            pass_mouse_events = false;\n",
       "        },\n",
       "        resize: function(event, ui) {\n",
       "            fig.request_resize(ui.size.width, ui.size.height);\n",
       "        },\n",
       "        stop: function(event, ui) {\n",
       "            pass_mouse_events = true;\n",
       "            fig.request_resize(ui.size.width, ui.size.height);\n",
       "        },\n",
       "    });\n",
       "\n",
       "    function mouse_event_fn(event) {\n",
       "        if (pass_mouse_events)\n",
       "            return fig.mouse_event(event, event['data']);\n",
       "    }\n",
       "\n",
       "    rubberband.mousedown('button_press', mouse_event_fn);\n",
       "    rubberband.mouseup('button_release', mouse_event_fn);\n",
       "    // Throttle sequential mouse events to 1 every 20ms.\n",
       "    rubberband.mousemove('motion_notify', mouse_event_fn);\n",
       "\n",
       "    rubberband.mouseenter('figure_enter', mouse_event_fn);\n",
       "    rubberband.mouseleave('figure_leave', mouse_event_fn);\n",
       "\n",
       "    canvas_div.on(\"wheel\", function (event) {\n",
       "        event = event.originalEvent;\n",
       "        event['data'] = 'scroll'\n",
       "        if (event.deltaY < 0) {\n",
       "            event.step = 1;\n",
       "        } else {\n",
       "            event.step = -1;\n",
       "        }\n",
       "        mouse_event_fn(event);\n",
       "    });\n",
       "\n",
       "    canvas_div.append(canvas);\n",
       "    canvas_div.append(rubberband);\n",
       "\n",
       "    this.rubberband = rubberband;\n",
       "    this.rubberband_canvas = rubberband[0];\n",
       "    this.rubberband_context = rubberband[0].getContext(\"2d\");\n",
       "    this.rubberband_context.strokeStyle = \"#000000\";\n",
       "\n",
       "    this._resize_canvas = function(width, height) {\n",
       "        // Keep the size of the canvas, canvas container, and rubber band\n",
       "        // canvas in synch.\n",
       "        canvas_div.css('width', width)\n",
       "        canvas_div.css('height', height)\n",
       "\n",
       "        canvas.attr('width', width);\n",
       "        canvas.attr('height', height);\n",
       "\n",
       "        rubberband.attr('width', width);\n",
       "        rubberband.attr('height', height);\n",
       "    }\n",
       "\n",
       "    // Set the figure to an initial 600x600px, this will subsequently be updated\n",
       "    // upon first draw.\n",
       "    this._resize_canvas(600, 600);\n",
       "\n",
       "    // Disable right mouse context menu.\n",
       "    $(this.rubberband_canvas).bind(\"contextmenu\",function(e){\n",
       "        return false;\n",
       "    });\n",
       "\n",
       "    function set_focus () {\n",
       "        canvas.focus();\n",
       "        canvas_div.focus();\n",
       "    }\n",
       "\n",
       "    window.setTimeout(set_focus, 100);\n",
       "}\n",
       "\n",
       "mpl.figure.prototype._init_toolbar = function() {\n",
       "    var fig = this;\n",
       "\n",
       "    var nav_element = $('<div/>')\n",
       "    nav_element.attr('style', 'width: 100%');\n",
       "    this.root.append(nav_element);\n",
       "\n",
       "    // Define a callback function for later on.\n",
       "    function toolbar_event(event) {\n",
       "        return fig.toolbar_button_onclick(event['data']);\n",
       "    }\n",
       "    function toolbar_mouse_event(event) {\n",
       "        return fig.toolbar_button_onmouseover(event['data']);\n",
       "    }\n",
       "\n",
       "    for(var toolbar_ind in mpl.toolbar_items) {\n",
       "        var name = mpl.toolbar_items[toolbar_ind][0];\n",
       "        var tooltip = mpl.toolbar_items[toolbar_ind][1];\n",
       "        var image = mpl.toolbar_items[toolbar_ind][2];\n",
       "        var method_name = mpl.toolbar_items[toolbar_ind][3];\n",
       "\n",
       "        if (!name) {\n",
       "            // put a spacer in here.\n",
       "            continue;\n",
       "        }\n",
       "        var button = $('<button/>');\n",
       "        button.addClass('ui-button ui-widget ui-state-default ui-corner-all ' +\n",
       "                        'ui-button-icon-only');\n",
       "        button.attr('role', 'button');\n",
       "        button.attr('aria-disabled', 'false');\n",
       "        button.click(method_name, toolbar_event);\n",
       "        button.mouseover(tooltip, toolbar_mouse_event);\n",
       "\n",
       "        var icon_img = $('<span/>');\n",
       "        icon_img.addClass('ui-button-icon-primary ui-icon');\n",
       "        icon_img.addClass(image);\n",
       "        icon_img.addClass('ui-corner-all');\n",
       "\n",
       "        var tooltip_span = $('<span/>');\n",
       "        tooltip_span.addClass('ui-button-text');\n",
       "        tooltip_span.html(tooltip);\n",
       "\n",
       "        button.append(icon_img);\n",
       "        button.append(tooltip_span);\n",
       "\n",
       "        nav_element.append(button);\n",
       "    }\n",
       "\n",
       "    var fmt_picker_span = $('<span/>');\n",
       "\n",
       "    var fmt_picker = $('<select/>');\n",
       "    fmt_picker.addClass('mpl-toolbar-option ui-widget ui-widget-content');\n",
       "    fmt_picker_span.append(fmt_picker);\n",
       "    nav_element.append(fmt_picker_span);\n",
       "    this.format_dropdown = fmt_picker[0];\n",
       "\n",
       "    for (var ind in mpl.extensions) {\n",
       "        var fmt = mpl.extensions[ind];\n",
       "        var option = $(\n",
       "            '<option/>', {selected: fmt === mpl.default_extension}).html(fmt);\n",
       "        fmt_picker.append(option)\n",
       "    }\n",
       "\n",
       "    // Add hover states to the ui-buttons\n",
       "    $( \".ui-button\" ).hover(\n",
       "        function() { $(this).addClass(\"ui-state-hover\");},\n",
       "        function() { $(this).removeClass(\"ui-state-hover\");}\n",
       "    );\n",
       "\n",
       "    var status_bar = $('<span class=\"mpl-message\"/>');\n",
       "    nav_element.append(status_bar);\n",
       "    this.message = status_bar[0];\n",
       "}\n",
       "\n",
       "mpl.figure.prototype.request_resize = function(x_pixels, y_pixels) {\n",
       "    // Request matplotlib to resize the figure. Matplotlib will then trigger a resize in the client,\n",
       "    // which will in turn request a refresh of the image.\n",
       "    this.send_message('resize', {'width': x_pixels, 'height': y_pixels});\n",
       "}\n",
       "\n",
       "mpl.figure.prototype.send_message = function(type, properties) {\n",
       "    properties['type'] = type;\n",
       "    properties['figure_id'] = this.id;\n",
       "    this.ws.send(JSON.stringify(properties));\n",
       "}\n",
       "\n",
       "mpl.figure.prototype.send_draw_message = function() {\n",
       "    if (!this.waiting) {\n",
       "        this.waiting = true;\n",
       "        this.ws.send(JSON.stringify({type: \"draw\", figure_id: this.id}));\n",
       "    }\n",
       "}\n",
       "\n",
       "\n",
       "mpl.figure.prototype.handle_save = function(fig, msg) {\n",
       "    var format_dropdown = fig.format_dropdown;\n",
       "    var format = format_dropdown.options[format_dropdown.selectedIndex].value;\n",
       "    fig.ondownload(fig, format);\n",
       "}\n",
       "\n",
       "\n",
       "mpl.figure.prototype.handle_resize = function(fig, msg) {\n",
       "    var size = msg['size'];\n",
       "    if (size[0] != fig.canvas.width || size[1] != fig.canvas.height) {\n",
       "        fig._resize_canvas(size[0], size[1]);\n",
       "        fig.send_message(\"refresh\", {});\n",
       "    };\n",
       "}\n",
       "\n",
       "mpl.figure.prototype.handle_rubberband = function(fig, msg) {\n",
       "    var x0 = msg['x0'];\n",
       "    var y0 = fig.canvas.height - msg['y0'];\n",
       "    var x1 = msg['x1'];\n",
       "    var y1 = fig.canvas.height - msg['y1'];\n",
       "    x0 = Math.floor(x0) + 0.5;\n",
       "    y0 = Math.floor(y0) + 0.5;\n",
       "    x1 = Math.floor(x1) + 0.5;\n",
       "    y1 = Math.floor(y1) + 0.5;\n",
       "    var min_x = Math.min(x0, x1);\n",
       "    var min_y = Math.min(y0, y1);\n",
       "    var width = Math.abs(x1 - x0);\n",
       "    var height = Math.abs(y1 - y0);\n",
       "\n",
       "    fig.rubberband_context.clearRect(\n",
       "        0, 0, fig.canvas.width, fig.canvas.height);\n",
       "\n",
       "    fig.rubberband_context.strokeRect(min_x, min_y, width, height);\n",
       "}\n",
       "\n",
       "mpl.figure.prototype.handle_figure_label = function(fig, msg) {\n",
       "    // Updates the figure title.\n",
       "    fig.header.textContent = msg['label'];\n",
       "}\n",
       "\n",
       "mpl.figure.prototype.handle_cursor = function(fig, msg) {\n",
       "    var cursor = msg['cursor'];\n",
       "    switch(cursor)\n",
       "    {\n",
       "    case 0:\n",
       "        cursor = 'pointer';\n",
       "        break;\n",
       "    case 1:\n",
       "        cursor = 'default';\n",
       "        break;\n",
       "    case 2:\n",
       "        cursor = 'crosshair';\n",
       "        break;\n",
       "    case 3:\n",
       "        cursor = 'move';\n",
       "        break;\n",
       "    }\n",
       "    fig.rubberband_canvas.style.cursor = cursor;\n",
       "}\n",
       "\n",
       "mpl.figure.prototype.handle_message = function(fig, msg) {\n",
       "    fig.message.textContent = msg['message'];\n",
       "}\n",
       "\n",
       "mpl.figure.prototype.handle_draw = function(fig, msg) {\n",
       "    // Request the server to send over a new figure.\n",
       "    fig.send_draw_message();\n",
       "}\n",
       "\n",
       "mpl.figure.prototype.handle_image_mode = function(fig, msg) {\n",
       "    fig.image_mode = msg['mode'];\n",
       "}\n",
       "\n",
       "mpl.figure.prototype.updated_canvas_event = function() {\n",
       "    // Called whenever the canvas gets updated.\n",
       "    this.send_message(\"ack\", {});\n",
       "}\n",
       "\n",
       "// A function to construct a web socket function for onmessage handling.\n",
       "// Called in the figure constructor.\n",
       "mpl.figure.prototype._make_on_message_function = function(fig) {\n",
       "    return function socket_on_message(evt) {\n",
       "        if (evt.data instanceof Blob) {\n",
       "            /* FIXME: We get \"Resource interpreted as Image but\n",
       "             * transferred with MIME type text/plain:\" errors on\n",
       "             * Chrome.  But how to set the MIME type?  It doesn't seem\n",
       "             * to be part of the websocket stream */\n",
       "            evt.data.type = \"image/png\";\n",
       "\n",
       "            /* Free the memory for the previous frames */\n",
       "            if (fig.imageObj.src) {\n",
       "                (window.URL || window.webkitURL).revokeObjectURL(\n",
       "                    fig.imageObj.src);\n",
       "            }\n",
       "\n",
       "            fig.imageObj.src = (window.URL || window.webkitURL).createObjectURL(\n",
       "                evt.data);\n",
       "            fig.updated_canvas_event();\n",
       "            fig.waiting = false;\n",
       "            return;\n",
       "        }\n",
       "        else if (typeof evt.data === 'string' && evt.data.slice(0, 21) == \"data:image/png;base64\") {\n",
       "            fig.imageObj.src = evt.data;\n",
       "            fig.updated_canvas_event();\n",
       "            fig.waiting = false;\n",
       "            return;\n",
       "        }\n",
       "\n",
       "        var msg = JSON.parse(evt.data);\n",
       "        var msg_type = msg['type'];\n",
       "\n",
       "        // Call the  \"handle_{type}\" callback, which takes\n",
       "        // the figure and JSON message as its only arguments.\n",
       "        try {\n",
       "            var callback = fig[\"handle_\" + msg_type];\n",
       "        } catch (e) {\n",
       "            console.log(\"No handler for the '\" + msg_type + \"' message type: \", msg);\n",
       "            return;\n",
       "        }\n",
       "\n",
       "        if (callback) {\n",
       "            try {\n",
       "                // console.log(\"Handling '\" + msg_type + \"' message: \", msg);\n",
       "                callback(fig, msg);\n",
       "            } catch (e) {\n",
       "                console.log(\"Exception inside the 'handler_\" + msg_type + \"' callback:\", e, e.stack, msg);\n",
       "            }\n",
       "        }\n",
       "    };\n",
       "}\n",
       "\n",
       "// from http://stackoverflow.com/questions/1114465/getting-mouse-location-in-canvas\n",
       "mpl.findpos = function(e) {\n",
       "    //this section is from http://www.quirksmode.org/js/events_properties.html\n",
       "    var targ;\n",
       "    if (!e)\n",
       "        e = window.event;\n",
       "    if (e.target)\n",
       "        targ = e.target;\n",
       "    else if (e.srcElement)\n",
       "        targ = e.srcElement;\n",
       "    if (targ.nodeType == 3) // defeat Safari bug\n",
       "        targ = targ.parentNode;\n",
       "\n",
       "    // jQuery normalizes the pageX and pageY\n",
       "    // pageX,Y are the mouse positions relative to the document\n",
       "    // offset() returns the position of the element relative to the document\n",
       "    var x = e.pageX - $(targ).offset().left;\n",
       "    var y = e.pageY - $(targ).offset().top;\n",
       "\n",
       "    return {\"x\": x, \"y\": y};\n",
       "};\n",
       "\n",
       "/*\n",
       " * return a copy of an object with only non-object keys\n",
       " * we need this to avoid circular references\n",
       " * http://stackoverflow.com/a/24161582/3208463\n",
       " */\n",
       "function simpleKeys (original) {\n",
       "  return Object.keys(original).reduce(function (obj, key) {\n",
       "    if (typeof original[key] !== 'object')\n",
       "        obj[key] = original[key]\n",
       "    return obj;\n",
       "  }, {});\n",
       "}\n",
       "\n",
       "mpl.figure.prototype.mouse_event = function(event, name) {\n",
       "    var canvas_pos = mpl.findpos(event)\n",
       "\n",
       "    if (name === 'button_press')\n",
       "    {\n",
       "        this.canvas.focus();\n",
       "        this.canvas_div.focus();\n",
       "    }\n",
       "\n",
       "    var x = canvas_pos.x;\n",
       "    var y = canvas_pos.y;\n",
       "\n",
       "    this.send_message(name, {x: x, y: y, button: event.button,\n",
       "                             step: event.step,\n",
       "                             guiEvent: simpleKeys(event)});\n",
       "\n",
       "    /* This prevents the web browser from automatically changing to\n",
       "     * the text insertion cursor when the button is pressed.  We want\n",
       "     * to control all of the cursor setting manually through the\n",
       "     * 'cursor' event from matplotlib */\n",
       "    event.preventDefault();\n",
       "    return false;\n",
       "}\n",
       "\n",
       "mpl.figure.prototype._key_event_extra = function(event, name) {\n",
       "    // Handle any extra behaviour associated with a key event\n",
       "}\n",
       "\n",
       "mpl.figure.prototype.key_event = function(event, name) {\n",
       "\n",
       "    // Prevent repeat events\n",
       "    if (name == 'key_press')\n",
       "    {\n",
       "        if (event.which === this._key)\n",
       "            return;\n",
       "        else\n",
       "            this._key = event.which;\n",
       "    }\n",
       "    if (name == 'key_release')\n",
       "        this._key = null;\n",
       "\n",
       "    var value = '';\n",
       "    if (event.ctrlKey && event.which != 17)\n",
       "        value += \"ctrl+\";\n",
       "    if (event.altKey && event.which != 18)\n",
       "        value += \"alt+\";\n",
       "    if (event.shiftKey && event.which != 16)\n",
       "        value += \"shift+\";\n",
       "\n",
       "    value += 'k';\n",
       "    value += event.which.toString();\n",
       "\n",
       "    this._key_event_extra(event, name);\n",
       "\n",
       "    this.send_message(name, {key: value,\n",
       "                             guiEvent: simpleKeys(event)});\n",
       "    return false;\n",
       "}\n",
       "\n",
       "mpl.figure.prototype.toolbar_button_onclick = function(name) {\n",
       "    if (name == 'download') {\n",
       "        this.handle_save(this, null);\n",
       "    } else {\n",
       "        this.send_message(\"toolbar_button\", {name: name});\n",
       "    }\n",
       "};\n",
       "\n",
       "mpl.figure.prototype.toolbar_button_onmouseover = function(tooltip) {\n",
       "    this.message.textContent = tooltip;\n",
       "};\n",
       "mpl.toolbar_items = [[\"Home\", \"Reset original view\", \"fa fa-home icon-home\", \"home\"], [\"Back\", \"Back to  previous view\", \"fa fa-arrow-left icon-arrow-left\", \"back\"], [\"Forward\", \"Forward to next view\", \"fa fa-arrow-right icon-arrow-right\", \"forward\"], [\"\", \"\", \"\", \"\"], [\"Pan\", \"Pan axes with left mouse, zoom with right\", \"fa fa-arrows icon-move\", \"pan\"], [\"Zoom\", \"Zoom to rectangle\", \"fa fa-square-o icon-check-empty\", \"zoom\"], [\"\", \"\", \"\", \"\"], [\"Download\", \"Download plot\", \"fa fa-floppy-o icon-save\", \"download\"]];\n",
       "\n",
       "mpl.extensions = [\"eps\", \"jpeg\", \"pdf\", \"png\", \"ps\", \"raw\", \"svg\", \"tif\"];\n",
       "\n",
       "mpl.default_extension = \"png\";var comm_websocket_adapter = function(comm) {\n",
       "    // Create a \"websocket\"-like object which calls the given IPython comm\n",
       "    // object with the appropriate methods. Currently this is a non binary\n",
       "    // socket, so there is still some room for performance tuning.\n",
       "    var ws = {};\n",
       "\n",
       "    ws.close = function() {\n",
       "        comm.close()\n",
       "    };\n",
       "    ws.send = function(m) {\n",
       "        //console.log('sending', m);\n",
       "        comm.send(m);\n",
       "    };\n",
       "    // Register the callback with on_msg.\n",
       "    comm.on_msg(function(msg) {\n",
       "        //console.log('receiving', msg['content']['data'], msg);\n",
       "        // Pass the mpl event to the overriden (by mpl) onmessage function.\n",
       "        ws.onmessage(msg['content']['data'])\n",
       "    });\n",
       "    return ws;\n",
       "}\n",
       "\n",
       "mpl.mpl_figure_comm = function(comm, msg) {\n",
       "    // This is the function which gets called when the mpl process\n",
       "    // starts-up an IPython Comm through the \"matplotlib\" channel.\n",
       "\n",
       "    var id = msg.content.data.id;\n",
       "    // Get hold of the div created by the display call when the Comm\n",
       "    // socket was opened in Python.\n",
       "    var element = $(\"#\" + id);\n",
       "    var ws_proxy = comm_websocket_adapter(comm)\n",
       "\n",
       "    function ondownload(figure, format) {\n",
       "        window.open(figure.imageObj.src);\n",
       "    }\n",
       "\n",
       "    var fig = new mpl.figure(id, ws_proxy,\n",
       "                           ondownload,\n",
       "                           element.get(0));\n",
       "\n",
       "    // Call onopen now - mpl needs it, as it is assuming we've passed it a real\n",
       "    // web socket which is closed, not our websocket->open comm proxy.\n",
       "    ws_proxy.onopen();\n",
       "\n",
       "    fig.parent_element = element.get(0);\n",
       "    fig.cell_info = mpl.find_output_cell(\"<div id='\" + id + \"'></div>\");\n",
       "    if (!fig.cell_info) {\n",
       "        console.error(\"Failed to find cell for figure\", id, fig);\n",
       "        return;\n",
       "    }\n",
       "\n",
       "    var output_index = fig.cell_info[2]\n",
       "    var cell = fig.cell_info[0];\n",
       "\n",
       "};\n",
       "\n",
       "mpl.figure.prototype.handle_close = function(fig, msg) {\n",
       "    fig.root.unbind('remove')\n",
       "\n",
       "    // Update the output cell to use the data from the current canvas.\n",
       "    fig.push_to_output();\n",
       "    var dataURL = fig.canvas.toDataURL();\n",
       "    // Re-enable the keyboard manager in IPython - without this line, in FF,\n",
       "    // the notebook keyboard shortcuts fail.\n",
       "    IPython.keyboard_manager.enable()\n",
       "    $(fig.parent_element).html('<img src=\"' + dataURL + '\">');\n",
       "    fig.close_ws(fig, msg);\n",
       "}\n",
       "\n",
       "mpl.figure.prototype.close_ws = function(fig, msg){\n",
       "    fig.send_message('closing', msg);\n",
       "    // fig.ws.close()\n",
       "}\n",
       "\n",
       "mpl.figure.prototype.push_to_output = function(remove_interactive) {\n",
       "    // Turn the data on the canvas into data in the output cell.\n",
       "    var dataURL = this.canvas.toDataURL();\n",
       "    this.cell_info[1]['text/html'] = '<img src=\"' + dataURL + '\">';\n",
       "}\n",
       "\n",
       "mpl.figure.prototype.updated_canvas_event = function() {\n",
       "    // Tell IPython that the notebook contents must change.\n",
       "    IPython.notebook.set_dirty(true);\n",
       "    this.send_message(\"ack\", {});\n",
       "    var fig = this;\n",
       "    // Wait a second, then push the new image to the DOM so\n",
       "    // that it is saved nicely (might be nice to debounce this).\n",
       "    setTimeout(function () { fig.push_to_output() }, 1000);\n",
       "}\n",
       "\n",
       "mpl.figure.prototype._init_toolbar = function() {\n",
       "    var fig = this;\n",
       "\n",
       "    var nav_element = $('<div/>')\n",
       "    nav_element.attr('style', 'width: 100%');\n",
       "    this.root.append(nav_element);\n",
       "\n",
       "    // Define a callback function for later on.\n",
       "    function toolbar_event(event) {\n",
       "        return fig.toolbar_button_onclick(event['data']);\n",
       "    }\n",
       "    function toolbar_mouse_event(event) {\n",
       "        return fig.toolbar_button_onmouseover(event['data']);\n",
       "    }\n",
       "\n",
       "    for(var toolbar_ind in mpl.toolbar_items){\n",
       "        var name = mpl.toolbar_items[toolbar_ind][0];\n",
       "        var tooltip = mpl.toolbar_items[toolbar_ind][1];\n",
       "        var image = mpl.toolbar_items[toolbar_ind][2];\n",
       "        var method_name = mpl.toolbar_items[toolbar_ind][3];\n",
       "\n",
       "        if (!name) { continue; };\n",
       "\n",
       "        var button = $('<button class=\"btn btn-default\" href=\"#\" title=\"' + name + '\"><i class=\"fa ' + image + ' fa-lg\"></i></button>');\n",
       "        button.click(method_name, toolbar_event);\n",
       "        button.mouseover(tooltip, toolbar_mouse_event);\n",
       "        nav_element.append(button);\n",
       "    }\n",
       "\n",
       "    // Add the status bar.\n",
       "    var status_bar = $('<span class=\"mpl-message\" style=\"text-align:right; float: right;\"/>');\n",
       "    nav_element.append(status_bar);\n",
       "    this.message = status_bar[0];\n",
       "\n",
       "    // Add the close button to the window.\n",
       "    var buttongrp = $('<div class=\"btn-group inline pull-right\"></div>');\n",
       "    var button = $('<button class=\"btn btn-mini btn-primary\" href=\"#\" title=\"Stop Interaction\"><i class=\"fa fa-power-off icon-remove icon-large\"></i></button>');\n",
       "    button.click(function (evt) { fig.handle_close(fig, {}); } );\n",
       "    button.mouseover('Stop Interaction', toolbar_mouse_event);\n",
       "    buttongrp.append(button);\n",
       "    var titlebar = this.root.find($('.ui-dialog-titlebar'));\n",
       "    titlebar.prepend(buttongrp);\n",
       "}\n",
       "\n",
       "mpl.figure.prototype._root_extra_style = function(el){\n",
       "    var fig = this\n",
       "    el.on(\"remove\", function(){\n",
       "\tfig.close_ws(fig, {});\n",
       "    });\n",
       "}\n",
       "\n",
       "mpl.figure.prototype._canvas_extra_style = function(el){\n",
       "    // this is important to make the div 'focusable\n",
       "    el.attr('tabindex', 0)\n",
       "    // reach out to IPython and tell the keyboard manager to turn it's self\n",
       "    // off when our div gets focus\n",
       "\n",
       "    // location in version 3\n",
       "    if (IPython.notebook.keyboard_manager) {\n",
       "        IPython.notebook.keyboard_manager.register_events(el);\n",
       "    }\n",
       "    else {\n",
       "        // location in version 2\n",
       "        IPython.keyboard_manager.register_events(el);\n",
       "    }\n",
       "\n",
       "}\n",
       "\n",
       "mpl.figure.prototype._key_event_extra = function(event, name) {\n",
       "    var manager = IPython.notebook.keyboard_manager;\n",
       "    if (!manager)\n",
       "        manager = IPython.keyboard_manager;\n",
       "\n",
       "    // Check for shift+enter\n",
       "    if (event.shiftKey && event.which == 13) {\n",
       "        this.canvas_div.blur();\n",
       "        event.shiftKey = false;\n",
       "        // Send a \"J\" for go to next cell\n",
       "        event.which = 74;\n",
       "        event.keyCode = 74;\n",
       "        manager.command_mode();\n",
       "        manager.handle_keydown(event);\n",
       "    }\n",
       "}\n",
       "\n",
       "mpl.figure.prototype.handle_save = function(fig, msg) {\n",
       "    fig.ondownload(fig, null);\n",
       "}\n",
       "\n",
       "\n",
       "mpl.find_output_cell = function(html_output) {\n",
       "    // Return the cell and output element which can be found *uniquely* in the notebook.\n",
       "    // Note - this is a bit hacky, but it is done because the \"notebook_saving.Notebook\"\n",
       "    // IPython event is triggered only after the cells have been serialised, which for\n",
       "    // our purposes (turning an active figure into a static one), is too late.\n",
       "    var cells = IPython.notebook.get_cells();\n",
       "    var ncells = cells.length;\n",
       "    for (var i=0; i<ncells; i++) {\n",
       "        var cell = cells[i];\n",
       "        if (cell.cell_type === 'code'){\n",
       "            for (var j=0; j<cell.output_area.outputs.length; j++) {\n",
       "                var data = cell.output_area.outputs[j];\n",
       "                if (data.data) {\n",
       "                    // IPython >= 3 moved mimebundle to data attribute of output\n",
       "                    data = data.data;\n",
       "                }\n",
       "                if (data['text/html'] == html_output) {\n",
       "                    return [cell, data, j];\n",
       "                }\n",
       "            }\n",
       "        }\n",
       "    }\n",
       "}\n",
       "\n",
       "// Register the function which deals with the matplotlib target/channel.\n",
       "// The kernel may be null if the page has been refreshed.\n",
       "if (IPython.notebook.kernel != null) {\n",
       "    IPython.notebook.kernel.comm_manager.register_target('matplotlib', mpl.mpl_figure_comm);\n",
       "}\n"
      ],
      "text/plain": [
       "<IPython.core.display.Javascript object>"
      ]
     },
     "metadata": {},
     "output_type": "display_data"
    },
    {
     "data": {
      "text/html": [
       "<img src=\"data:image/png;base64,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\">"
      ],
      "text/plain": [
       "<IPython.core.display.HTML object>"
      ]
     },
     "metadata": {},
     "output_type": "display_data"
    }
   ],
   "source": [
    "# plot: \n",
    "line_train, = plot([], [], 'go-', label=\"average training loss\")\n",
    "line_curr_val, = plot([],[], 'bo:', label=\"avrg current validation loss\")\n",
    "line_best_val, = plot([], [], 'ko-', label=\"avrg best validation loss\")\n",
    "# plt.ticklabel_format(style='sci', axis='y', scilimits=(0,0))\n",
    "yscale('log')\n",
    "gca().yaxis.set_minor_formatter(FormatStrFormatter(\"%.2g\"))\n",
    "ylabel(\"validation loss\")\n",
    "xlabel(\"#epoch\")\n",
    "legend(loc='lower left', fancybox=True, framealpha=0.5)\n",
    "\n",
    "# start values:\n",
    "val_loss = optimizer_kwargs['num_loss'](optimizer_kwargs['num_parameters'], VZ, VX, no_annealing=True)\n",
    "training_loss = optimizer_kwargs['num_loss'](optimizer_kwargs['num_parameters'], Z[:10], X[:10], no_annealing=True)\n",
    "start_epoch = opt.n_iter//n_batches\n",
    "\n",
    "add_point(line_best_val, start_epoch, val_loss)\n",
    "add_point(line_curr_val, start_epoch, val_loss)\n",
    "add_point(line_train, start_epoch, training_loss)"
   ]
  },
  {
   "cell_type": "code",
   "execution_count": 51,
   "metadata": {
    "collapsed": false
   },
   "outputs": [
    {
     "ename": "KeyboardInterrupt",
     "evalue": "",
     "output_type": "error",
     "traceback": [
      "\u001b[1;31m---------------------------------------------------------------------------\u001b[0m",
      "\u001b[1;31mKeyboardInterrupt\u001b[0m                         Traceback (most recent call last)",
      "\u001b[1;32m<ipython-input-51-bd29960cde17>\u001b[0m in \u001b[0;36m<module>\u001b[1;34m()\u001b[0m\n\u001b[1;32m----> 1\u001b[1;33m \u001b[1;32mfor\u001b[0m \u001b[0minfo\u001b[0m \u001b[1;32min\u001b[0m \u001b[0mtakeN\u001b[0m\u001b[1;33m(\u001b[0m\u001b[0mhyper\u001b[0m\u001b[1;33m.\u001b[0m\u001b[0mn_epochs\u001b[0m\u001b[1;33m,\u001b[0m \u001b[0mevery\u001b[0m\u001b[1;33m(\u001b[0m\u001b[0mn_batches\u001b[0m\u001b[1;33m,\u001b[0m \u001b[0mopt\u001b[0m\u001b[1;33m)\u001b[0m\u001b[1;33m)\u001b[0m\u001b[1;33m:\u001b[0m\u001b[1;33m\u001b[0m\u001b[0m\n\u001b[0m\u001b[0;32m      2\u001b[0m     \u001b[0mcurrent_epoch\u001b[0m \u001b[1;33m=\u001b[0m \u001b[0minfo\u001b[0m\u001b[1;33m[\u001b[0m\u001b[1;34m'n_iter'\u001b[0m\u001b[1;33m]\u001b[0m\u001b[1;33m//\u001b[0m\u001b[0mn_batches\u001b[0m\u001b[1;33m\u001b[0m\u001b[0m\n\u001b[0;32m      3\u001b[0m     \u001b[1;31m# collect and visualize validation loss for choosing the best model\u001b[0m\u001b[1;33m\u001b[0m\u001b[1;33m\u001b[0m\u001b[0m\n\u001b[0;32m      4\u001b[0m     \u001b[0mval_loss\u001b[0m \u001b[1;33m=\u001b[0m \u001b[0moptimizer_kwargs\u001b[0m\u001b[1;33m[\u001b[0m\u001b[1;34m'num_loss'\u001b[0m\u001b[1;33m]\u001b[0m\u001b[1;33m(\u001b[0m\u001b[0mopt\u001b[0m\u001b[1;33m.\u001b[0m\u001b[0mwrt\u001b[0m\u001b[1;33m,\u001b[0m \u001b[0mVZ\u001b[0m\u001b[1;33m,\u001b[0m \u001b[0mVX\u001b[0m\u001b[1;33m,\u001b[0m \u001b[0mno_annealing\u001b[0m\u001b[1;33m=\u001b[0m\u001b[0mTrue\u001b[0m\u001b[1;33m)\u001b[0m\u001b[1;33m\u001b[0m\u001b[0m\n\u001b[0;32m      5\u001b[0m     \u001b[1;32mif\u001b[0m \u001b[0mval_loss\u001b[0m \u001b[1;33m<\u001b[0m \u001b[0mhyper\u001b[0m\u001b[1;33m.\u001b[0m\u001b[0mbest_val_loss\u001b[0m\u001b[1;33m:\u001b[0m\u001b[1;33m\u001b[0m\u001b[0m\n",
      "\u001b[1;32m/home/stephan/GitProjects/schlichtanders/schlichtanders/mygenerators.pyc\u001b[0m in \u001b[0;36mevery\u001b[1;34m(nth, iterable)\u001b[0m\n\u001b[0;32m    164\u001b[0m     \u001b[0mit\u001b[0m \u001b[1;33m=\u001b[0m \u001b[0miter\u001b[0m\u001b[1;33m(\u001b[0m\u001b[0miterable\u001b[0m\u001b[1;33m)\u001b[0m\u001b[1;33m\u001b[0m\u001b[0m\n\u001b[0;32m    165\u001b[0m     \u001b[1;32mwhile\u001b[0m \u001b[0mTrue\u001b[0m\u001b[1;33m:\u001b[0m\u001b[1;33m\u001b[0m\u001b[0m\n\u001b[1;32m--> 166\u001b[1;33m         \u001b[0meat\u001b[0m\u001b[1;33m(\u001b[0m\u001b[0mit\u001b[0m\u001b[1;33m,\u001b[0m \u001b[0mnth\u001b[0m\u001b[1;33m-\u001b[0m\u001b[1;36m1\u001b[0m\u001b[1;33m)\u001b[0m\u001b[1;33m\u001b[0m\u001b[0m\n\u001b[0m\u001b[0;32m    167\u001b[0m         \u001b[1;32myield\u001b[0m \u001b[0mnext\u001b[0m\u001b[1;33m(\u001b[0m\u001b[0mit\u001b[0m\u001b[1;33m)\u001b[0m\u001b[1;33m\u001b[0m\u001b[0m\n\u001b[0;32m    168\u001b[0m \u001b[1;33m\u001b[0m\u001b[0m\n",
      "\u001b[1;32m/home/stephan/GitProjects/schlichtanders/schlichtanders/mygenerators.pyc\u001b[0m in \u001b[0;36meat\u001b[1;34m(gen, n)\u001b[0m\n\u001b[0;32m    135\u001b[0m \u001b[1;32mdef\u001b[0m \u001b[0meat\u001b[0m\u001b[1;33m(\u001b[0m\u001b[0mgen\u001b[0m\u001b[1;33m,\u001b[0m \u001b[0mn\u001b[0m\u001b[1;33m=\u001b[0m\u001b[1;36m1\u001b[0m\u001b[1;33m)\u001b[0m\u001b[1;33m:\u001b[0m\u001b[1;33m\u001b[0m\u001b[0m\n\u001b[0;32m    136\u001b[0m     \u001b[1;32mfor\u001b[0m \u001b[0m_\u001b[0m \u001b[1;32min\u001b[0m \u001b[0mxrange\u001b[0m\u001b[1;33m(\u001b[0m\u001b[0mn\u001b[0m\u001b[1;33m)\u001b[0m\u001b[1;33m:\u001b[0m\u001b[1;33m\u001b[0m\u001b[0m\n\u001b[1;32m--> 137\u001b[1;33m         \u001b[0mnext\u001b[0m\u001b[1;33m(\u001b[0m\u001b[0mgen\u001b[0m\u001b[1;33m)\u001b[0m\u001b[1;33m\u001b[0m\u001b[0m\n\u001b[0m\u001b[0;32m    138\u001b[0m \u001b[1;33m\u001b[0m\u001b[0m\n\u001b[0;32m    139\u001b[0m \u001b[1;32mdef\u001b[0m \u001b[0meatN\u001b[0m\u001b[1;33m(\u001b[0m\u001b[0mN\u001b[0m\u001b[1;33m,\u001b[0m \u001b[0miterator\u001b[0m\u001b[1;33m)\u001b[0m\u001b[1;33m:\u001b[0m\u001b[1;33m\u001b[0m\u001b[0m\n",
      "\u001b[1;32m/home/stephan/GitProjects/climin/climin/base.pyc\u001b[0m in \u001b[0;36m__iter__\u001b[1;34m(self)\u001b[0m\n\u001b[0;32m     82\u001b[0m \u001b[1;33m\u001b[0m\u001b[0m\n\u001b[0;32m     83\u001b[0m     \u001b[1;32mdef\u001b[0m \u001b[0m__iter__\u001b[0m\u001b[1;33m(\u001b[0m\u001b[0mself\u001b[0m\u001b[1;33m)\u001b[0m\u001b[1;33m:\u001b[0m\u001b[1;33m\u001b[0m\u001b[0m\n\u001b[1;32m---> 84\u001b[1;33m         \u001b[1;32mfor\u001b[0m \u001b[0minfo\u001b[0m \u001b[1;32min\u001b[0m \u001b[0mself\u001b[0m\u001b[1;33m.\u001b[0m\u001b[0m_iterate\u001b[0m\u001b[1;33m(\u001b[0m\u001b[1;33m)\u001b[0m\u001b[1;33m:\u001b[0m\u001b[1;33m\u001b[0m\u001b[0m\n\u001b[0m\u001b[0;32m     85\u001b[0m             \u001b[1;32myield\u001b[0m \u001b[0mself\u001b[0m\u001b[1;33m.\u001b[0m\u001b[0mextended_info\u001b[0m\u001b[1;33m(\u001b[0m\u001b[1;33m**\u001b[0m\u001b[0minfo\u001b[0m\u001b[1;33m)\u001b[0m\u001b[1;33m\u001b[0m\u001b[0m\n\u001b[0;32m     86\u001b[0m \u001b[1;33m\u001b[0m\u001b[0m\n",
      "\u001b[1;32m/home/stephan/GitProjects/climin/climin/adam.pyc\u001b[0m in \u001b[0;36m_iterate\u001b[1;34m(self)\u001b[0m\n\u001b[0;32m    165\u001b[0m \u001b[1;33m\u001b[0m\u001b[0m\n\u001b[0;32m    166\u001b[0m             \u001b[0mcoeff1\u001b[0m \u001b[1;33m=\u001b[0m \u001b[1;36m1\u001b[0m \u001b[1;33m-\u001b[0m \u001b[1;33m(\u001b[0m\u001b[1;36m1\u001b[0m \u001b[1;33m-\u001b[0m \u001b[0mdm1\u001b[0m\u001b[1;33m)\u001b[0m \u001b[1;33m*\u001b[0m \u001b[0md\u001b[0m \u001b[1;33m**\u001b[0m \u001b[1;33m(\u001b[0m\u001b[0mt\u001b[0m \u001b[1;33m-\u001b[0m \u001b[1;36m1\u001b[0m\u001b[1;33m)\u001b[0m\u001b[1;33m\u001b[0m\u001b[0m\n\u001b[1;32m--> 167\u001b[1;33m             \u001b[0mgradient\u001b[0m \u001b[1;33m=\u001b[0m \u001b[0mself\u001b[0m\u001b[1;33m.\u001b[0m\u001b[0mfprime\u001b[0m\u001b[1;33m(\u001b[0m\u001b[0mself\u001b[0m\u001b[1;33m.\u001b[0m\u001b[0mwrt\u001b[0m\u001b[1;33m,\u001b[0m \u001b[1;33m*\u001b[0m\u001b[0margs\u001b[0m\u001b[1;33m,\u001b[0m \u001b[1;33m**\u001b[0m\u001b[0mkwargs\u001b[0m\u001b[1;33m)\u001b[0m\u001b[1;33m\u001b[0m\u001b[0m\n\u001b[0m\u001b[0;32m    168\u001b[0m             \u001b[0mself\u001b[0m\u001b[1;33m.\u001b[0m\u001b[0mest_mom1_b\u001b[0m \u001b[1;33m=\u001b[0m \u001b[0mcoeff1\u001b[0m \u001b[1;33m*\u001b[0m \u001b[0mgradient\u001b[0m \u001b[1;33m+\u001b[0m \u001b[1;33m(\u001b[0m\u001b[1;36m1\u001b[0m \u001b[1;33m-\u001b[0m \u001b[0mcoeff1\u001b[0m\u001b[1;33m)\u001b[0m \u001b[1;33m*\u001b[0m \u001b[0mest_mom1_b_m1\u001b[0m\u001b[1;33m\u001b[0m\u001b[0m\n\u001b[0;32m    169\u001b[0m             \u001b[0mself\u001b[0m\u001b[1;33m.\u001b[0m\u001b[0mest_mom2_b\u001b[0m \u001b[1;33m=\u001b[0m \u001b[0mdm2\u001b[0m \u001b[1;33m*\u001b[0m \u001b[0mgradient\u001b[0m \u001b[1;33m**\u001b[0m \u001b[1;36m2\u001b[0m \u001b[1;33m+\u001b[0m \u001b[1;33m(\u001b[0m\u001b[1;36m1\u001b[0m \u001b[1;33m-\u001b[0m \u001b[0mdm2\u001b[0m\u001b[1;33m)\u001b[0m \u001b[1;33m*\u001b[0m \u001b[0mest_mom2_b_m1\u001b[0m\u001b[1;33m\u001b[0m\u001b[0m\n",
      "\u001b[1;32m/home/stephan/GitProjects/theano_models/theano_models/loss.pyc\u001b[0m in \u001b[0;36mannealed\u001b[1;34m(parameters, *loss_inputs, **kwargs)\u001b[0m\n\u001b[0;32m    411\u001b[0m                 \u001b[1;32mreturn\u001b[0m \u001b[0mloss_data\u001b[0m\u001b[1;33m(\u001b[0m\u001b[0mparameters\u001b[0m\u001b[1;33m,\u001b[0m \u001b[1;33m*\u001b[0m\u001b[0mloss_inputs\u001b[0m\u001b[1;33m)\u001b[0m\u001b[1;33m/\u001b[0m\u001b[0mlength\u001b[0m\u001b[1;33m[\u001b[0m\u001b[1;34m'data'\u001b[0m\u001b[1;33m]\u001b[0m \u001b[1;33m+\u001b[0m \u001b[0mloss_regularizer\u001b[0m\u001b[1;33m(\u001b[0m\u001b[0mparameters\u001b[0m\u001b[1;33m)\u001b[0m\u001b[1;33m/\u001b[0m\u001b[0mlength\u001b[0m\u001b[1;33m[\u001b[0m\u001b[1;34m'regularizer'\u001b[0m\u001b[1;33m]\u001b[0m\u001b[1;33m\u001b[0m\u001b[0m\n\u001b[0;32m    412\u001b[0m \u001b[1;33m\u001b[0m\u001b[0m\n\u001b[1;32m--> 413\u001b[1;33m             \u001b[0mld\u001b[0m \u001b[1;33m=\u001b[0m \u001b[0mnext\u001b[0m\u001b[1;33m(\u001b[0m\u001b[0mself\u001b[0m\u001b[1;33m.\u001b[0m\u001b[0mweights_data\u001b[0m\u001b[1;33m)\u001b[0m \u001b[1;33m*\u001b[0m \u001b[0mloss_data\u001b[0m\u001b[1;33m(\u001b[0m\u001b[0mparameters\u001b[0m\u001b[1;33m,\u001b[0m \u001b[1;33m*\u001b[0m\u001b[0mloss_inputs\u001b[0m\u001b[1;33m)\u001b[0m \u001b[1;33m/\u001b[0m \u001b[0mlength\u001b[0m\u001b[1;33m[\u001b[0m\u001b[1;34m'data'\u001b[0m\u001b[1;33m]\u001b[0m\u001b[1;33m\u001b[0m\u001b[0m\n\u001b[0m\u001b[0;32m    414\u001b[0m             \u001b[0mlr\u001b[0m \u001b[1;33m=\u001b[0m \u001b[0mnext\u001b[0m\u001b[1;33m(\u001b[0m\u001b[0mself\u001b[0m\u001b[1;33m.\u001b[0m\u001b[0mweights_regularizer\u001b[0m\u001b[1;33m)\u001b[0m \u001b[1;33m*\u001b[0m \u001b[0mloss_regularizer\u001b[0m\u001b[1;33m(\u001b[0m\u001b[0mparameters\u001b[0m\u001b[1;33m)\u001b[0m \u001b[1;33m/\u001b[0m \u001b[0mlength\u001b[0m\u001b[1;33m[\u001b[0m\u001b[1;34m'regularizer'\u001b[0m\u001b[1;33m]\u001b[0m\u001b[1;33m\u001b[0m\u001b[0m\n\u001b[0;32m    415\u001b[0m             \u001b[1;32mreturn\u001b[0m \u001b[0mld\u001b[0m \u001b[1;33m+\u001b[0m \u001b[0mlr\u001b[0m\u001b[1;33m\u001b[0m\u001b[0m\n",
      "\u001b[1;32m/home/stephan/GitProjects/theano_models/theano_models/loss.pyc\u001b[0m in \u001b[0;36mf\u001b[1;34m(num_params, *loss_inputs)\u001b[0m\n\u001b[0;32m    289\u001b[0m                 \u001b[1;32mdef\u001b[0m \u001b[0mh\u001b[0m\u001b[1;33m(\u001b[0m\u001b[1;33m*\u001b[0m\u001b[0minner_loss_inputs\u001b[0m\u001b[1;33m)\u001b[0m\u001b[1;33m:\u001b[0m\u001b[1;33m\u001b[0m\u001b[0m\n\u001b[0;32m    290\u001b[0m                     \u001b[1;32mreturn\u001b[0m \u001b[0mfoutput\u001b[0m\u001b[1;33m(\u001b[0m\u001b[1;33m*\u001b[0m\u001b[1;33m(\u001b[0m\u001b[0mnum_sub\u001b[0m \u001b[1;33m+\u001b[0m \u001b[0mlist\u001b[0m\u001b[1;33m(\u001b[0m\u001b[0minner_loss_inputs\u001b[0m\u001b[1;33m)\u001b[0m\u001b[1;33m)\u001b[0m\u001b[1;33m)\u001b[0m\u001b[1;33m\u001b[0m\u001b[0m\n\u001b[1;32m--> 291\u001b[1;33m                 \u001b[1;32mreturn\u001b[0m \u001b[0mbatch_mapreduce\u001b[0m\u001b[1;33m(\u001b[0m\u001b[0mh\u001b[0m\u001b[1;33m,\u001b[0m \u001b[1;33m*\u001b[0m\u001b[0mloss_inputs\u001b[0m\u001b[1;33m)\u001b[0m\u001b[1;33m\u001b[0m\u001b[0m\n\u001b[0m\u001b[0;32m    292\u001b[0m             \u001b[0mf\u001b[0m\u001b[1;33m.\u001b[0m\u001b[0mwrapped\u001b[0m \u001b[1;33m=\u001b[0m \u001b[0mfparam\u001b[0m\u001b[1;33m,\u001b[0m \u001b[0mfoutput\u001b[0m\u001b[1;33m\u001b[0m\u001b[0m\n\u001b[0;32m    293\u001b[0m \u001b[1;33m\u001b[0m\u001b[0m\n",
      "\u001b[1;32m/home/stephan/GitProjects/schlichtanders/schlichtanders/myfunctools.pyc\u001b[0m in \u001b[0;36mmeanmap\u001b[1;34m(f, *batch_args)\u001b[0m\n\u001b[0;32m    131\u001b[0m         \u001b[1;32mwhile\u001b[0m \u001b[0mTrue\u001b[0m\u001b[1;33m:\u001b[0m\u001b[1;33m\u001b[0m\u001b[0m\n\u001b[0;32m    132\u001b[0m             \u001b[1;31m# TODO get to know why??\u001b[0m\u001b[1;33m\u001b[0m\u001b[1;33m\u001b[0m\u001b[0m\n\u001b[1;32m--> 133\u001b[1;33m             \u001b[0msummed_up\u001b[0m \u001b[1;33m+=\u001b[0m \u001b[0mf\u001b[0m\u001b[1;33m(\u001b[0m\u001b[1;33m*\u001b[0m\u001b[1;33m[\u001b[0m\u001b[0mnext\u001b[0m\u001b[1;33m(\u001b[0m\u001b[0ma\u001b[0m\u001b[1;33m)\u001b[0m \u001b[1;32mfor\u001b[0m \u001b[0ma\u001b[0m \u001b[1;32min\u001b[0m \u001b[0mbatch_args\u001b[0m\u001b[1;33m]\u001b[0m\u001b[1;33m)\u001b[0m\u001b[1;33m\u001b[0m\u001b[0m\n\u001b[0m\u001b[0;32m    134\u001b[0m             \u001b[0mn\u001b[0m \u001b[1;33m+=\u001b[0m \u001b[1;36m1\u001b[0m\u001b[1;33m\u001b[0m\u001b[0m\n\u001b[0;32m    135\u001b[0m     \u001b[1;32mreturn\u001b[0m \u001b[0msummed_up\u001b[0m\u001b[1;33m/\u001b[0m\u001b[0mn\u001b[0m\u001b[1;33m\u001b[0m\u001b[0m\n",
      "\u001b[1;32m/home/stephan/GitProjects/theano_models/theano_models/loss.pyc\u001b[0m in \u001b[0;36mh\u001b[1;34m(*inner_loss_inputs)\u001b[0m\n\u001b[0;32m    288\u001b[0m                 \u001b[0mnum_sub\u001b[0m \u001b[1;33m=\u001b[0m \u001b[0mfparam\u001b[0m\u001b[1;33m(\u001b[0m\u001b[0mnum_params\u001b[0m\u001b[1;33m)\u001b[0m\u001b[1;33m\u001b[0m\u001b[0m\n\u001b[0;32m    289\u001b[0m                 \u001b[1;32mdef\u001b[0m \u001b[0mh\u001b[0m\u001b[1;33m(\u001b[0m\u001b[1;33m*\u001b[0m\u001b[0minner_loss_inputs\u001b[0m\u001b[1;33m)\u001b[0m\u001b[1;33m:\u001b[0m\u001b[1;33m\u001b[0m\u001b[0m\n\u001b[1;32m--> 290\u001b[1;33m                     \u001b[1;32mreturn\u001b[0m \u001b[0mfoutput\u001b[0m\u001b[1;33m(\u001b[0m\u001b[1;33m*\u001b[0m\u001b[1;33m(\u001b[0m\u001b[0mnum_sub\u001b[0m \u001b[1;33m+\u001b[0m \u001b[0mlist\u001b[0m\u001b[1;33m(\u001b[0m\u001b[0minner_loss_inputs\u001b[0m\u001b[1;33m)\u001b[0m\u001b[1;33m)\u001b[0m\u001b[1;33m)\u001b[0m\u001b[1;33m\u001b[0m\u001b[0m\n\u001b[0m\u001b[0;32m    291\u001b[0m                 \u001b[1;32mreturn\u001b[0m \u001b[0mbatch_mapreduce\u001b[0m\u001b[1;33m(\u001b[0m\u001b[0mh\u001b[0m\u001b[1;33m,\u001b[0m \u001b[1;33m*\u001b[0m\u001b[0mloss_inputs\u001b[0m\u001b[1;33m)\u001b[0m\u001b[1;33m\u001b[0m\u001b[0m\n\u001b[0;32m    292\u001b[0m             \u001b[0mf\u001b[0m\u001b[1;33m.\u001b[0m\u001b[0mwrapped\u001b[0m \u001b[1;33m=\u001b[0m \u001b[0mfparam\u001b[0m\u001b[1;33m,\u001b[0m \u001b[0mfoutput\u001b[0m\u001b[1;33m\u001b[0m\u001b[0m\n",
      "\u001b[1;32m/home/stephan/GitProjects/Theano/theano/compile/function_module.pyc\u001b[0m in \u001b[0;36m__call__\u001b[1;34m(self, *args, **kwargs)\u001b[0m\n\u001b[0;32m    860\u001b[0m         \u001b[1;32mtry\u001b[0m\u001b[1;33m:\u001b[0m\u001b[1;33m\u001b[0m\u001b[0m\n\u001b[0;32m    861\u001b[0m             \u001b[0moutputs\u001b[0m \u001b[1;33m=\u001b[0m\u001b[0;31m\\\u001b[0m\u001b[1;33m\u001b[0m\u001b[0m\n\u001b[1;32m--> 862\u001b[1;33m                 \u001b[0mself\u001b[0m\u001b[1;33m.\u001b[0m\u001b[0mfn\u001b[0m\u001b[1;33m(\u001b[0m\u001b[1;33m)\u001b[0m \u001b[1;32mif\u001b[0m \u001b[0moutput_subset\u001b[0m \u001b[1;32mis\u001b[0m \u001b[0mNone\u001b[0m \u001b[1;32melse\u001b[0m\u001b[0;31m\\\u001b[0m\u001b[1;33m\u001b[0m\u001b[0m\n\u001b[0m\u001b[0;32m    863\u001b[0m                 \u001b[0mself\u001b[0m\u001b[1;33m.\u001b[0m\u001b[0mfn\u001b[0m\u001b[1;33m(\u001b[0m\u001b[0moutput_subset\u001b[0m\u001b[1;33m=\u001b[0m\u001b[0moutput_subset\u001b[0m\u001b[1;33m)\u001b[0m\u001b[1;33m\u001b[0m\u001b[0m\n\u001b[0;32m    864\u001b[0m         \u001b[1;32mexcept\u001b[0m \u001b[0mException\u001b[0m\u001b[1;33m:\u001b[0m\u001b[1;33m\u001b[0m\u001b[0m\n",
      "\u001b[1;31mKeyboardInterrupt\u001b[0m: "
     ]
    }
   ],
   "source": [
    "for info in takeN(hyper.n_epochs, every(n_batches, opt)):\n",
    "    current_epoch = info['n_iter']//n_batches\n",
    "    # collect and visualize validation loss for choosing the best model\n",
    "    val_loss = optimizer_kwargs['num_loss'](opt.wrt, VZ, VX, no_annealing=True)\n",
    "    if val_loss < hyper.best_val_loss:\n",
    "        hyper.best_parameters = opt.wrt\n",
    "        hyper.best_val_loss = val_loss\n",
    "        add_point(line_best_val, current_epoch, val_loss)\n",
    "    hyper.val_loss.append(val_loss)\n",
    "    add_point(line_curr_val, current_epoch, val_loss)\n",
    "    \n",
    "    # visualize training loss for comparison:\n",
    "    training_loss = optimizer_kwargs['num_loss'](opt.wrt, Z[:10], X[:10], no_annealing=True)\n",
    "    hyper.train_loss.append(training_loss)\n",
    "    add_point(line_train, current_epoch, training_loss)\n",
    "    \n",
    "#     print info['n_iter'], training_loss, val_loss, best_val_loss"
   ]
  },
  {
   "cell_type": "code",
   "execution_count": null,
   "metadata": {
    "collapsed": true
   },
   "outputs": [],
   "source": [
    "sql_session.add(hyper)\n",
    "sql_session.commit()"
   ]
  },
  {
   "cell_type": "markdown",
   "metadata": {},
   "source": [
    "# Performance"
   ]
  },
  {
   "cell_type": "code",
   "execution_count": null,
   "metadata": {
    "collapsed": false
   },
   "outputs": [],
   "source": [
    "print best_val_loss\n",
    "predict = theano.function([flat] + model['inputs'], model['outputs'])\n",
    "def mypredict(x):\n",
    "    return Average(10)(predict, hyper.best_parameters, x)\n",
    "mypredict(X[0]), Z[0]"
   ]
  },
  {
   "cell_type": "code",
   "execution_count": null,
   "metadata": {
    "collapsed": true
   },
   "outputs": [],
   "source": [
    "PX = np.apply_along_axis(mypredict, 1, X)\n",
    "PVX = np.apply_along_axis(mypredict, 1, VX)\n",
    "PTX = np.apply_along_axis(mypredict, 1, TX)"
   ]
  },
  {
   "cell_type": "code",
   "execution_count": null,
   "metadata": {
    "collapsed": false
   },
   "outputs": [],
   "source": [
    "# print 'incorrect samples train/val/test:  %i/%i/%i' % (\n",
    "#     (PX[:, :10].argmax(1) != Z.argmax(1)).sum(),\n",
    "#     (PVX[:, :10].argmax(1) != VZ.argmax(1)).sum(),\n",
    "#     (PTX[:, :10].argmax(1) != TZ.argmax(1)).sum())\n",
    "\n",
    "print 'error rate train/val/test:  %g/%g/%g' % (\n",
    "    (PX[:, :10].argmax(1) != Z.argmax(1)).mean(),\n",
    "    (PVX[:, :10].argmax(1) != VZ.argmax(1)).mean(),\n",
    "    (PTX[:, :10].argmax(1) != TZ.argmax(1)).mean())"
   ]
  }
 ],
 "metadata": {
  "kernelspec": {
   "display_name": "Python 2",
   "language": "python",
   "name": "python2"
  },
  "language_info": {
   "codemirror_mode": {
    "name": "ipython",
    "version": 2
   },
   "file_extension": ".py",
   "mimetype": "text/x-python",
   "name": "python",
   "nbconvert_exporter": "python",
   "pygments_lexer": "ipython2",
   "version": "2.7.6"
  },
  "toc": {
   "toc_cell": false,
   "toc_number_sections": true,
   "toc_threshold": 4,
   "toc_window_display": false
  }
 },
 "nbformat": 4,
 "nbformat_minor": 0
}
