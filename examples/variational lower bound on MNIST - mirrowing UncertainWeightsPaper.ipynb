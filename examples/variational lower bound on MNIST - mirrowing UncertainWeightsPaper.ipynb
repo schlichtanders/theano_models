{
 "cells": [
  {
   "cell_type": "code",
   "execution_count": 1,
   "metadata": {
    "collapsed": false,
    "scrolled": true
   },
   "outputs": [
    {
     "name": "stderr",
     "output_type": "stream",
     "text": [
      "/usr/local/lib/python2.7/dist-packages/matplotlib/font_manager.py:273: UserWarning: Matplotlib is building the font cache using fc-list. This may take a moment.\n",
      "  warnings.warn('Matplotlib is building the font cache using fc-list. This may take a moment.')\n"
     ]
    }
   ],
   "source": [
    "%matplotlib notebook\n",
    "from __future__ import division"
   ]
  },
  {
   "cell_type": "code",
   "execution_count": 2,
   "metadata": {
    "collapsed": false
   },
   "outputs": [
    {
     "name": "stdout",
     "output_type": "stream",
     "text": [
      "gnumpy: failed to import cudamat. Using npmat instead. No GPU will be used.\n"
     ]
    }
   ],
   "source": [
    "from matplotlib.pyplot import plot, ylabel, xlabel, yscale, xscale, legend, subplots, gca, gcf\n",
    "from matplotlib.ticker import FormatStrFormatter\n",
    "from theano import function\n",
    "import numpy as np\n",
    "import gzip\n",
    "import cPickle\n",
    "from scipy.optimize import minimize\n",
    "from climin.util import optimizer\n",
    "from itertools import repeat, cycle, islice, izip\n",
    "import random\n",
    "inf = float(\"inf\")"
   ]
  },
  {
   "cell_type": "code",
   "execution_count": 3,
   "metadata": {
    "collapsed": false
   },
   "outputs": [],
   "source": [
    "from breze.learn.data import one_hot\n",
    "from breze.learn.base import cast_array_to_local_type\n",
    "from schlichtanders.myfunctools import compose, meanmap, summap, compose_fmap, Average\n",
    "from schlichtanders import myfunctools\n",
    "from schlichtanders.mygenerators import eatN, chunk, chunk_list, every, takeN\n",
    "from schlichtanders.myplot import add_val, add_point"
   ]
  },
  {
   "cell_type": "code",
   "execution_count": 4,
   "metadata": {
    "collapsed": false
   },
   "outputs": [],
   "source": [
    "from theano_models import (Merge, Flatten, Reparameterize, reduce_all_identities,\n",
    "                           inputting_references, outputting_references)\n",
    "from theano_models.tools import (as_tensor_variable, total_size, clone, clone_all,PooledRandomStreams,\n",
    "                                 get_profile, squareplus, squareplus_inv, softplus, softplus_inv)\n",
    "from theano_models.visualization import d3viz\n",
    "from IPython.display import IFrame\n",
    "import theano_models.deterministic_models as dm\n",
    "import theano_models.probabilistic_models as pm\n",
    "import theano_models.extra_models as em\n",
    "import theano_models.postmaps as post\n",
    "from theano_models.composing import normalizing_flow, variational_bayes"
   ]
  },
  {
   "cell_type": "code",
   "execution_count": 5,
   "metadata": {
    "collapsed": true
   },
   "outputs": [],
   "source": [
    "import theano\n",
    "import theano.tensor as T\n",
    "from theano.printing import debugprint\n",
    "from theano.tensor.shared_randomstreams import RandomStreams"
   ]
  },
  {
   "cell_type": "code",
   "execution_count": 6,
   "metadata": {
    "collapsed": false
   },
   "outputs": [],
   "source": [
    "from sqlalchemy import Column, Integer, Unicode, UnicodeText, String, PickleType, Float\n",
    "from sqlalchemy import create_engine\n",
    "from sqlalchemy.orm import sessionmaker\n",
    "from sqlalchemy.ext.declarative import declarative_base"
   ]
  },
  {
   "cell_type": "code",
   "execution_count": 7,
   "metadata": {
    "collapsed": false
   },
   "outputs": [],
   "source": [
    "import warnings\n",
    "warnings.filterwarnings(\"ignore\", category=DeprecationWarning)"
   ]
  },
  {
   "cell_type": "code",
   "execution_count": 8,
   "metadata": {
    "collapsed": false
   },
   "outputs": [
    {
     "data": {
      "text/plain": [
       "({'flat',\n",
       "  'inputs',\n",
       "  'n_data',\n",
       "  'noise',\n",
       "  'parameters',\n",
       "  'parameters_positive',\n",
       "  'parameters_psumto1',\n",
       "  'to_be_randomized'},\n",
       " {'kl_prior', 'logP', 'loglikelihood', 'norm_det', 'outputs'})"
      ]
     },
     "execution_count": 8,
     "metadata": {},
     "output_type": "execute_result"
    }
   ],
   "source": [
    "inputting_references.update(['to_be_randomized'])\n",
    "inputting_references, outputting_references"
   ]
  },
  {
   "cell_type": "code",
   "execution_count": 9,
   "metadata": {
    "collapsed": true
   },
   "outputs": [],
   "source": [
    "from schlichtanders.myobjects import NestedNamespace"
   ]
  },
  {
   "cell_type": "code",
   "execution_count": 10,
   "metadata": {
    "collapsed": true
   },
   "outputs": [],
   "source": [
    "pm.RNG = NestedNamespace(PooledRandomStreams(pool_size=int(5e8)), RandomStreams())"
   ]
  },
  {
   "cell_type": "markdown",
   "metadata": {},
   "source": [
    "# Data"
   ]
  },
  {
   "cell_type": "code",
   "execution_count": 11,
   "metadata": {
    "collapsed": false
   },
   "outputs": [
    {
     "data": {
      "text/plain": [
       "[(50000, 784),\n",
       " (50000, 10),\n",
       " (10000, 784),\n",
       " (10000, 10),\n",
       " (10000, 784),\n",
       " (10000, 10)]"
      ]
     },
     "execution_count": 11,
     "metadata": {},
     "output_type": "execute_result"
    }
   ],
   "source": [
    "datafile = '../data/mnist.pkl.gz'\n",
    "# Load data.        a                                                                                           \n",
    "\n",
    "with gzip.open(datafile,'rb') as f:                                                                        \n",
    "    train_set, val_set, test_set = cPickle.load(f)                                                       \n",
    "\n",
    "X, Z = train_set                                                                                               \n",
    "VX, VZ = val_set\n",
    "TX, TZ = test_set\n",
    "\n",
    "Z = one_hot(Z, 10)\n",
    "VZ = one_hot(VZ, 10)\n",
    "TZ = one_hot(TZ, 10)\n",
    "\n",
    "# from UncertainWeightsPaper rescaled the data,\n",
    "# however it already seems to be normalized\n",
    "# X /= 126  \n",
    "# VX /= 126\n",
    "# TX /= 126\n",
    "# X *= 2\n",
    "# VX *= 2\n",
    "# TX *= 2\n",
    "\n",
    "image_dims = 28, 28\n",
    "\n",
    "X, Z, VX, VZ, TX, TZ = [cast_array_to_local_type(i) for i in (X, Z, VX,VZ, TX, TZ)]\n",
    "map(np.shape, [X, Z, VX, VZ, TX, TZ])"
   ]
  },
  {
   "cell_type": "markdown",
   "metadata": {},
   "source": [
    "# Hyperparameters"
   ]
  },
  {
   "cell_type": "code",
   "execution_count": 12,
   "metadata": {
    "collapsed": false
   },
   "outputs": [
    {
     "data": {
      "text/plain": [
       "{'_sa_instance_state': <sqlalchemy.orm.state.InstanceState at 0x7ff256ec9a10>,\n",
       " 'average_n': 1,\n",
       " 'batch_size': 128,\n",
       " 'best_parameters': None,\n",
       " 'best_val_loss': inf,\n",
       " 'mapreduce': 'meanmap',\n",
       " 'minus_log_s1': 2,\n",
       " 'minus_log_s2': 8,\n",
       " 'n_epochs': 20,\n",
       " 'n_normflows': 8,\n",
       " 'opt_decay': 0.9017948335304217,\n",
       " 'opt_identifier': 'adadelta',\n",
       " 'opt_momentum': 0.9265495767077205,\n",
       " 'opt_offset': 1e-08,\n",
       " 'opt_step_rate': 0.001,\n",
       " 'pi': 0.75,\n",
       " 'train_loss': [],\n",
       " 'units_per_layer': 400,\n",
       " 'val_loss': []}"
      ]
     },
     "execution_count": 12,
     "metadata": {},
     "output_type": "execute_result"
    }
   ],
   "source": [
    "engine = create_engine('sqlite:///hyperparameters.db')\n",
    "Base = declarative_base(bind=engine)\n",
    "\n",
    "class RandomHyper(Base):\n",
    "    __tablename__ = 'hyper'\n",
    "    id = Column(Integer, primary_key=True)\n",
    "    \n",
    "    # hyper parameters:\n",
    "    n_epochs = Column(Integer)\n",
    "    batch_size = Column(Integer)\n",
    "    mapreduce = Column(String)\n",
    "    average_n = Column(Integer)\n",
    "    units_per_layer = Column(Integer)\n",
    "    pi = Column(Float)\n",
    "    minus_log_s1 = Column(Integer)\n",
    "    minus_log_s2 = Column(Integer)\n",
    "    \n",
    "    n_normflows = Column(Integer)\n",
    "    \n",
    "    opt_identifier = Column(String)\n",
    "    opt_momentum = Column(Float)\n",
    "    opt_offset = Column(Float)\n",
    "    opt_decay = Column(Float)\n",
    "    opt_step_rate = Column(Float)\n",
    "    \n",
    "    # results:\n",
    "    best_val_loss = Column(Float)\n",
    "    best_parameters = Column(PickleType, nullable=True)\n",
    "    train_loss = Column(PickleType)\n",
    "    val_loss = Column(PickleType)\n",
    "\n",
    "    def __init__(self):\n",
    "        # hyper parameters:\n",
    "        self.n_epochs = 20\n",
    "        self.batch_size = 128\n",
    "        self.mapreduce = random.choice([\"summap\", \"meanmap\"])\n",
    "        self.average_n = 1\n",
    "        self.units_per_layer = np.random.choice([400, 800, 1200], p=[0.5, 0.3, 0.2])\n",
    "        self.pi = random.choice([1/4, 1/2, 3/4])\n",
    "        self.minus_log_s1 = random.choice([0,1,2])\n",
    "        self.minus_log_s2 = random.choice([6,7,8])\n",
    "        \n",
    "        self.n_normflows = random.choice([1,2,3,4,8,32])\n",
    "        \n",
    "        self.opt_identifier = random.choice([\"adadelta\", \"adam\", \"rmsprop\"])\n",
    "        if self.opt_identifier == \"adadelta\":\n",
    "            self.opt_momentum = random.choice([np.random.uniform(0, 0.01), np.random.uniform(0.9, 1)])\n",
    "            self.opt_offset = random.choice([5e-5, 1e-8])\n",
    "        elif self.opt_identifier == \"adam\":\n",
    "            self.opt_momentum = random.choice([np.random.uniform(0, 0.01), np.random.uniform(0.8, 0.93)])\n",
    "            self.opt_offset = 10 ** -np.random.uniform(3, 4)\n",
    "        elif self.opt_identifier == \"rmsprop\":\n",
    "            self.opt_momentum = random.choice([np.random.uniform(0.002, 0.008), np.random.uniform(0.9, 1)]),\n",
    "            self.opt_offset = np.random.uniform(0, 0.000045)\n",
    "        self.opt_decay = np.random.uniform(0.78, 1)\n",
    "        self.opt_step_rate = random.choice([1e-3, 1e-4, 1e-5])\n",
    "        \n",
    "        self.init_results()\n",
    "    \n",
    "    def init_results(self):\n",
    "        # extra for being able to reset results for loaded hyperparameters\n",
    "        self.best_parameters = None\n",
    "        self.best_val_loss = inf\n",
    "        self.train_loss = []\n",
    "        self.val_loss = []\n",
    "\n",
    "Base.metadata.create_all()\n",
    "Session = sessionmaker(bind=engine)\n",
    "sql_session = Session()\n",
    "hyper = RandomHyper()\n",
    "hyper.__dict__"
   ]
  },
  {
   "cell_type": "markdown",
   "metadata": {},
   "source": [
    "# Model"
   ]
  },
  {
   "cell_type": "markdown",
   "metadata": {},
   "source": [
    "## data modelling"
   ]
  },
  {
   "cell_type": "raw",
   "metadata": {},
   "source": [
    "# for continous supervised data:\n",
    "predictor = dm.Mlp(output_size=10, output_transfer=\"softmax\", hidden_sizes=[200]*2, hidden_transfers=[\"rectifier\"]*2)\n",
    "post.flatten_parameters(predictor)\n",
    "\n",
    "target_distribution = pm.DiagGaussianNoise(predictor)\n",
    "\n",
    "targets = Merge(target_distribution, inputs=predictor['inputs'], to_be_randomized=predictor['parameters_flat'])\n",
    "targets"
   ]
  },
  {
   "cell_type": "code",
   "execution_count": 13,
   "metadata": {
    "collapsed": true
   },
   "outputs": [],
   "source": [
    "# this is extremely useful to tell everything the default sizes\n",
    "input = as_tensor_variable(X[0], name=\"X\")"
   ]
  },
  {
   "cell_type": "code",
   "execution_count": 14,
   "metadata": {
    "collapsed": false
   },
   "outputs": [
    {
     "data": {
      "text/plain": [
       "Mlp { 'inputs': [X],\n",
       "  'outputs': AffineNonlinear3.outputs,\n",
       "  'parameters': [weights, bias, weights2, bias2, weights3, bias3]}"
      ]
     },
     "execution_count": 14,
     "metadata": {},
     "output_type": "execute_result"
    }
   ],
   "source": [
    "predictor = dm.Mlp(\n",
    "    input=input,\n",
    "    output_size=Z.shape[1],\n",
    "    output_transfer=\"softmax\",\n",
    "    hidden_sizes=[hyper.units_per_layer]*2,\n",
    "    hidden_transfers=[\"rectifier\"]*2\n",
    ")\n",
    "predictor"
   ]
  },
  {
   "cell_type": "code",
   "execution_count": 15,
   "metadata": {
    "collapsed": false
   },
   "outputs": [
    {
     "data": {
      "text/plain": [
       "Categorical { 'inputs': [],\n",
       "  'logP': <FunctionWrapper at 0x7ff25611bde0 for function at 0x7ff255f6b2a8>,\n",
       "  'outputs': Categorical.outputs,\n",
       "  'parameters_psumto1': [AffineNonlinear3.outputs]}"
      ]
     },
     "execution_count": 15,
     "metadata": {},
     "output_type": "execute_result"
    }
   ],
   "source": [
    "target_distribution = pm.Categorical(predictor)\n",
    "target_distribution"
   ]
  },
  {
   "cell_type": "code",
   "execution_count": 16,
   "metadata": {
    "collapsed": false
   },
   "outputs": [
    {
     "data": {
      "text/plain": [
       "Merge { 'inputs': [X],\n",
       "  'logP': <FunctionWrapper at 0x7ff25611bde0 for function at 0x7ff255f6b2a8>,\n",
       "  'outputs': Categorical.outputs,\n",
       "  'parameters': [],\n",
       "  'parameters_psumto1': [],\n",
       "  'to_be_randomized': \"weights:bias:weights2:bias2:weights3:bias3\"}"
      ]
     },
     "execution_count": 16,
     "metadata": {},
     "output_type": "execute_result"
    }
   ],
   "source": [
    "targets = Merge(target_distribution, predictor,\n",
    "                Flatten(predictor['parameters'], flat_key=\"to_be_randomized\")) #givens={predictor['inputs'][0]: X[0]}\n",
    "targets"
   ]
  },
  {
   "cell_type": "markdown",
   "metadata": {},
   "source": [
    "## parameter modelling"
   ]
  },
  {
   "cell_type": "code",
   "execution_count": 17,
   "metadata": {
    "collapsed": false
   },
   "outputs": [
    {
     "data": {
      "text/plain": [
       "DiagGauss { 'inputs': [],\n",
       "  'logP': <FunctionWrapper at 0x7ff23f457c20 for function at 0x7ff23b3fe8c0>,\n",
       "  'noise': [DiagGaussianNoise.noise.0],\n",
       "  'outputs': DiagGaussianNoise.outputs,\n",
       "  'parameters': [mean],\n",
       "  'parameters_positive': [var]}"
      ]
     },
     "execution_count": 17,
     "metadata": {},
     "output_type": "execute_result"
    }
   ],
   "source": [
    "params_base = pm.DiagGauss(output_size=total_size(targets['to_be_randomized']))  \n",
    "# if you want to use size directly, CAUTION, you need to copy before!\n",
    "# params_base.map('parameters_positive', reparameterize_map(squareplus, squareplus_inv), 'parameters')\n",
    "params_base"
   ]
  },
  {
   "cell_type": "code",
   "execution_count": 18,
   "metadata": {
    "collapsed": false
   },
   "outputs": [
    {
     "data": {
      "text/plain": [
       "[PlanarTransform { 'inputs': [z],\n",
       "   'norm_det': PlanarTransform.norm_det,\n",
       "   'outputs': PlanarTransform.outputs,\n",
       "   'parameters': [b, w, _u]}, PlanarTransform2 { 'inputs': [z2],\n",
       "   'norm_det': PlanarTransform2.norm_det,\n",
       "   'outputs': PlanarTransform2.outputs,\n",
       "   'parameters': [b2, w2, _u2]}, PlanarTransform3 { 'inputs': [z3],\n",
       "   'norm_det': PlanarTransform3.norm_det,\n",
       "   'outputs': PlanarTransform3.outputs,\n",
       "   'parameters': [b3, w3, _u3]}, PlanarTransform4 { 'inputs': [z4],\n",
       "   'norm_det': PlanarTransform4.norm_det,\n",
       "   'outputs': PlanarTransform4.outputs,\n",
       "   'parameters': [b4, w4, _u4]}, PlanarTransform5 { 'inputs': [z5],\n",
       "   'norm_det': PlanarTransform5.norm_det,\n",
       "   'outputs': PlanarTransform5.outputs,\n",
       "   'parameters': [b5, w5, _u5]}, PlanarTransform6 { 'inputs': [z6],\n",
       "   'norm_det': PlanarTransform6.norm_det,\n",
       "   'outputs': PlanarTransform6.outputs,\n",
       "   'parameters': [b6, w6, _u6]}, PlanarTransform7 { 'inputs': [z7],\n",
       "   'norm_det': PlanarTransform7.norm_det,\n",
       "   'outputs': PlanarTransform7.outputs,\n",
       "   'parameters': [b7, w7, _u7]}, PlanarTransform8 { 'inputs': [z8],\n",
       "   'norm_det': PlanarTransform8.norm_det,\n",
       "   'outputs': PlanarTransform8.outputs,\n",
       "   'parameters': [b8, w8, _u8]}]"
      ]
     },
     "execution_count": 18,
     "metadata": {},
     "output_type": "execute_result"
    }
   ],
   "source": [
    "normflows = [dm.PlanarTransform() for _ in range(hyper.n_normflows)]\n",
    "normflows"
   ]
  },
  {
   "cell_type": "code",
   "execution_count": 19,
   "metadata": {
    "collapsed": false
   },
   "outputs": [
    {
     "data": {
      "text/plain": [
       "normalized_flow8 { 'inputs': [],\n",
       "  'logP': <FunctionWrapper at 0x7ff23b3caf30 for function at 0x7ff21b572668>,\n",
       "  'noise': [DiagGaussianNoise.noise.0],\n",
       "  'norm_det': PlanarTransform8.norm_det,\n",
       "  'outputs': PlanarTransform8.outputs,\n",
       "  'parameters': [ b8,\n",
       "                  w8,\n",
       "                  _u8,\n",
       "                  b7,\n",
       "                  w7,\n",
       "                  _u7,\n",
       "                  b6,\n",
       "                  w6,\n",
       "                  _u6,\n",
       "                  b5,\n",
       "                  w5,\n",
       "                  _u5,\n",
       "                  b4,\n",
       "                  w4,\n",
       "                  _u4,\n",
       "                  b3,\n",
       "                  w3,\n",
       "                  _u3,\n",
       "                  b2,\n",
       "                  w2,\n",
       "                  _u2,\n",
       "                  b,\n",
       "                  w,\n",
       "                  _u,\n",
       "                  mean],\n",
       "  'parameters_positive': [var]}"
      ]
     },
     "execution_count": 19,
     "metadata": {},
     "output_type": "execute_result"
    }
   ],
   "source": [
    "params = params_base\n",
    "for transform in normflows:\n",
    "    params = normalizing_flow(transform, params)  # returns transform, however with adapted logP    \n",
    "\n",
    "params"
   ]
  },
  {
   "cell_type": "markdown",
   "metadata": {},
   "source": [
    "## bayes"
   ]
  },
  {
   "cell_type": "code",
   "execution_count": 20,
   "metadata": {
    "collapsed": false
   },
   "outputs": [
    {
     "data": {
      "text/plain": [
       "Merge3 { 'hyperparameters_positive': [var2, var3],\n",
       "  'hyperparameters_psumto1': [mixture_probs],\n",
       "  'inputs': [],\n",
       "  'logP': <FunctionWrapper at 0x7ff2563bc750 for function at 0x7ff21b591c80>,\n",
       "  'mixture_probs': [0.75, 0.25],\n",
       "  'noise': [GaussianNoise.noise.0, GaussianNoise2.noise.0],\n",
       "  'outputs': Mixture.outputs,\n",
       "  'parameters': []}"
      ]
     },
     "execution_count": 20,
     "metadata": {},
     "output_type": "execute_result"
    }
   ],
   "source": [
    "g1 = pm.Gauss(total_size(targets['to_be_randomized']), init_var=np.exp(-2* hyper.minus_log_s1))\n",
    "g2 = pm.Gauss(total_size(targets['to_be_randomized']), init_var=np.exp(-2* hyper.minus_log_s2))\n",
    "prior = pm.Mixture(g1, g2, mixture_probs=[hyper.pi, 1-hyper.pi])\n",
    "# label hyper parameters accordingly\n",
    "prior = Merge(prior,\n",
    "              parameters=None, # mean is not adapted at all, but left centred at zero\n",
    "              parameters_positive='hyperparameters_positive',\n",
    "              parameters_psumto1='hyperparameters_psumto1')\n",
    "prior"
   ]
  },
  {
   "cell_type": "code",
   "execution_count": 21,
   "metadata": {
    "collapsed": false
   },
   "outputs": [
    {
     "data": {
      "text/plain": [
       "variational_lower_bound { 'hyperparameters_positive': [var2, var3],\n",
       "  'hyperparameters_psumto1': [mixture_probs],\n",
       "  'inputs': [X],\n",
       "  'kl_prior': kl_prior,\n",
       "  'logP': <FunctionWrapper at 0x7ff21b5030c0 for function at 0x7ff21b591410>,\n",
       "  'loglikelihood': <FunctionWrapper at 0x7ff25611bde0 for function at 0x7ff255f6b2a8>,\n",
       "  'mixture_probs': [0.75, 0.25],\n",
       "  'n_data': n_data,\n",
       "  'noise': [ DiagGaussianNoise.noise.0,\n",
       "             GaussianNoise.noise.0,\n",
       "             GaussianNoise2.noise.0],\n",
       "  'norm_det': PlanarTransform8.norm_det,\n",
       "  'outputs': Categorical.outputs,\n",
       "  'parameters': [ b8,\n",
       "                  w8,\n",
       "                  _u8,\n",
       "                  b7,\n",
       "                  w7,\n",
       "                  _u7,\n",
       "                  b6,\n",
       "                  w6,\n",
       "                  _u6,\n",
       "                  b5,\n",
       "                  w5,\n",
       "                  _u5,\n",
       "                  b4,\n",
       "                  w4,\n",
       "                  _u4,\n",
       "                  b3,\n",
       "                  w3,\n",
       "                  _u3,\n",
       "                  b2,\n",
       "                  w2,\n",
       "                  _u2,\n",
       "                  b,\n",
       "                  w,\n",
       "                  _u,\n",
       "                  mean],\n",
       "  'parameters_positive': [var],\n",
       "  'parameters_psumto1': []}"
      ]
     },
     "execution_count": 21,
     "metadata": {},
     "output_type": "execute_result"
    }
   ],
   "source": [
    "model = variational_bayes(targets, 'to_be_randomized', params, priors=prior)\n",
    "model"
   ]
  },
  {
   "cell_type": "code",
   "execution_count": 22,
   "metadata": {
    "collapsed": false
   },
   "outputs": [
    {
     "data": {
      "text/plain": [
       "Merge4 { 'hyperparameters_positive': [var2, var3],\n",
       "  'hyperparameters_psumto1': [mixture_probs],\n",
       "  'inputs': [X],\n",
       "  'kl_prior': kl_prior,\n",
       "  'logP': <FunctionWrapper at 0x7ff21b5030c0 for function at 0x7ff21b591410>,\n",
       "  'loglikelihood': <FunctionWrapper at 0x7ff25611bde0 for function at 0x7ff255f6b2a8>,\n",
       "  'mixture_probs': [0.75, 0.25],\n",
       "  'n_data': n_data,\n",
       "  'noise': [ DiagGaussianNoise.noise.0,\n",
       "             GaussianNoise.noise.0,\n",
       "             GaussianNoise2.noise.0],\n",
       "  'norm_det': PlanarTransform8.norm_det,\n",
       "  'outputs': Categorical.outputs,\n",
       "  'parameters': [ b8,\n",
       "                  w8,\n",
       "                  _u8,\n",
       "                  b7,\n",
       "                  w7,\n",
       "                  _u7,\n",
       "                  b6,\n",
       "                  w6,\n",
       "                  _u6,\n",
       "                  b5,\n",
       "                  w5,\n",
       "                  _u5,\n",
       "                  b4,\n",
       "                  w4,\n",
       "                  _u4,\n",
       "                  b3,\n",
       "                  w3,\n",
       "                  _u3,\n",
       "                  b2,\n",
       "                  w2,\n",
       "                  _u2,\n",
       "                  b,\n",
       "                  w,\n",
       "                  _u,\n",
       "                  mean,\n",
       "                  var_softplus],\n",
       "  'parameters_positive': [],\n",
       "  'parameters_psumto1': []}"
      ]
     },
     "execution_count": 22,
     "metadata": {},
     "output_type": "execute_result"
    }
   ],
   "source": [
    "# model = Merge(model, Reparameterize(model['parameters_positive'], squareplus, squareplus_inv))\n",
    "# UncertainWeights uses softplus parameterization\n",
    "model = Merge(model, Reparameterize(model['parameters_positive'], softplus, softplus_inv))\n",
    "model"
   ]
  },
  {
   "cell_type": "code",
   "execution_count": 23,
   "metadata": {
    "collapsed": false,
    "scrolled": true
   },
   "outputs": [
    {
     "data": {
      "text/plain": [
       "Merge5 { 'flat': \"b8:w8:_u8:b7:w7:_u7:b6:w6:_u6:b5:w5:_u5:b4:w4:_u4:b3:w3:_u3:b2:w2:_u2:b:w:_u:mean:var_softplus\",\n",
       "  'hyperparameters_positive': [var2, var3],\n",
       "  'hyperparameters_psumto1': [mixture_probs],\n",
       "  'inputs': [X],\n",
       "  'kl_prior': kl_prior,\n",
       "  'logP': <FunctionWrapper at 0x7ff21b5030c0 for function at 0x7ff21b591410>,\n",
       "  'loglikelihood': <FunctionWrapper at 0x7ff25611bde0 for function at 0x7ff255f6b2a8>,\n",
       "  'mixture_probs': [0.75, 0.25],\n",
       "  'n_data': n_data,\n",
       "  'noise': [ DiagGaussianNoise.noise.0,\n",
       "             GaussianNoise.noise.0,\n",
       "             GaussianNoise2.noise.0],\n",
       "  'norm_det': PlanarTransform8.norm_det,\n",
       "  'outputs': Categorical.outputs,\n",
       "  'parameters': [],\n",
       "  'parameters_positive': [],\n",
       "  'parameters_psumto1': []}"
      ]
     },
     "execution_count": 23,
     "metadata": {},
     "output_type": "execute_result"
    }
   ],
   "source": [
    "model = Merge(model, Flatten(model['parameters']))\n",
    "#               em.NoisePool(model['noise']) #, givens={predictor['inputs'][0]: X[0]}\n",
    "model"
   ]
  },
  {
   "cell_type": "markdown",
   "metadata": {},
   "source": [
    "# Optimizer"
   ]
  },
  {
   "cell_type": "code",
   "execution_count": 24,
   "metadata": {
    "collapsed": true
   },
   "outputs": [],
   "source": [
    "# dm.InvertibleModel.INVERTIBLE_MODELS\n",
    "reduce_all_identities()\n",
    "# dm.InvertibleModel.INVERTIBLE_MODELS"
   ]
  },
  {
   "cell_type": "markdown",
   "metadata": {},
   "source": [
    "Climin wants an iterator of (args, kwarsg) as keyword argument \"args\" (to be passed to the loss function). Concretley, we use an infinite iterator over minibatches."
   ]
  },
  {
   "cell_type": "code",
   "execution_count": 25,
   "metadata": {
    "collapsed": true
   },
   "outputs": [],
   "source": [
    "n_batches = X.shape[0] // hyper.batch_size  # after this many steps we went through the whole data set once\n",
    "\n",
    "climin_args = izip(izip(chunk(hyper.batch_size, cycle(Z)), chunk(hyper.batch_size, cycle(X))), repeat({}))\n",
    "\n",
    "def weights_regularizer_1epoch():\n",
    "    for i in range(1, n_batches+1):\n",
    "        yield 2**(n_batches - i) / (2**n_batches - 1)\n",
    "        \n",
    "assert len(list(weights_regularizer_1epoch())) == n_batches"
   ]
  },
  {
   "cell_type": "code",
   "execution_count": 26,
   "metadata": {
    "collapsed": false
   },
   "outputs": [
    {
     "data": {
      "text/plain": [
       "{'f': <function theano_models.postmaps.annealed>,\n",
       " 'fprime': <function theano_models.postmaps.annealed>,\n",
       " 'wrt': array([ 0.00584543,  1.02605545,  0.99497776, ...,  0.57297313,\n",
       "         0.53271813,  0.53152113])}"
      ]
     },
     "execution_count": 26,
     "metadata": {},
     "output_type": "execute_result"
    }
   ],
   "source": [
    "mapreduce = getattr(myfunctools, hyper.mapreduce)\n",
    "if hyper.average_n > 1:\n",
    "    mapreduce = compose_fmap(Average(hyper.average_n), mapreduce)\n",
    "\n",
    "postmap = compose(post.flat_numericalize_postmap, post.variational_postmap) \n",
    "postmap_kwargs = {\n",
    "    'mapreduce': mapreduce,  # TODO add more functionality for composed fmaps, with args\n",
    "    'annealing_combiner': post.AnnealingCombiner(\n",
    "        weights_regularizer=cycle(weights_regularizer_1epoch())\n",
    "    ),\n",
    "    'adapt_init_params': lambda ps: ps + np.random.normal(size=ps.size, scale=0.01),\n",
    "#     'profile': True,\n",
    "    'mode': 'FAST_RUN'\n",
    "}\n",
    "optimizer_kwargs = postmap(model, **postmap_kwargs)\n",
    "climin_kwargs = post.climin_postmap(optimizer_kwargs)\n",
    "climin_kwargs"
   ]
  },
  {
   "cell_type": "code",
   "execution_count": 27,
   "metadata": {
    "collapsed": false
   },
   "outputs": [
    {
     "name": "stderr",
     "output_type": "stream",
     "text": [
      "/home/stephan/GitProjects/breze/src/climin/climin/util.py:151: UserWarning: Argument named f is not expected by <class 'climin.adadelta.Adadelta'>\n",
      "  % (i, klass))\n"
     ]
    }
   ],
   "source": [
    "opt = optimizer(\n",
    "    identifier=hyper.opt_identifier,\n",
    "    step_rate=hyper.opt_step_rate,\n",
    "    momentum=hyper.opt_momentum,\n",
    "    decay=hyper.opt_decay,\n",
    "    offset=hyper.opt_offset,\n",
    "    \n",
    "    args=climin_args,\n",
    "    **climin_kwargs\n",
    ")"
   ]
  },
  {
   "cell_type": "markdown",
   "metadata": {},
   "source": [
    "# Visualized Fit"
   ]
  },
  {
   "cell_type": "code",
   "execution_count": 28,
   "metadata": {
    "collapsed": false
   },
   "outputs": [
    {
     "data": {
      "application/javascript": [
       "/* Put everything inside the global mpl namespace */\n",
       "window.mpl = {};\n",
       "\n",
       "mpl.get_websocket_type = function() {\n",
       "    if (typeof(WebSocket) !== 'undefined') {\n",
       "        return WebSocket;\n",
       "    } else if (typeof(MozWebSocket) !== 'undefined') {\n",
       "        return MozWebSocket;\n",
       "    } else {\n",
       "        alert('Your browser does not have WebSocket support.' +\n",
       "              'Please try Chrome, Safari or Firefox ≥ 6. ' +\n",
       "              'Firefox 4 and 5 are also supported but you ' +\n",
       "              'have to enable WebSockets in about:config.');\n",
       "    };\n",
       "}\n",
       "\n",
       "mpl.figure = function(figure_id, websocket, ondownload, parent_element) {\n",
       "    this.id = figure_id;\n",
       "\n",
       "    this.ws = websocket;\n",
       "\n",
       "    this.supports_binary = (this.ws.binaryType != undefined);\n",
       "\n",
       "    if (!this.supports_binary) {\n",
       "        var warnings = document.getElementById(\"mpl-warnings\");\n",
       "        if (warnings) {\n",
       "            warnings.style.display = 'block';\n",
       "            warnings.textContent = (\n",
       "                \"This browser does not support binary websocket messages. \" +\n",
       "                    \"Performance may be slow.\");\n",
       "        }\n",
       "    }\n",
       "\n",
       "    this.imageObj = new Image();\n",
       "\n",
       "    this.context = undefined;\n",
       "    this.message = undefined;\n",
       "    this.canvas = undefined;\n",
       "    this.rubberband_canvas = undefined;\n",
       "    this.rubberband_context = undefined;\n",
       "    this.format_dropdown = undefined;\n",
       "\n",
       "    this.image_mode = 'full';\n",
       "\n",
       "    this.root = $('<div/>');\n",
       "    this._root_extra_style(this.root)\n",
       "    this.root.attr('style', 'display: inline-block');\n",
       "\n",
       "    $(parent_element).append(this.root);\n",
       "\n",
       "    this._init_header(this);\n",
       "    this._init_canvas(this);\n",
       "    this._init_toolbar(this);\n",
       "\n",
       "    var fig = this;\n",
       "\n",
       "    this.waiting = false;\n",
       "\n",
       "    this.ws.onopen =  function () {\n",
       "            fig.send_message(\"supports_binary\", {value: fig.supports_binary});\n",
       "            fig.send_message(\"send_image_mode\", {});\n",
       "            fig.send_message(\"refresh\", {});\n",
       "        }\n",
       "\n",
       "    this.imageObj.onload = function() {\n",
       "            if (fig.image_mode == 'full') {\n",
       "                // Full images could contain transparency (where diff images\n",
       "                // almost always do), so we need to clear the canvas so that\n",
       "                // there is no ghosting.\n",
       "                fig.context.clearRect(0, 0, fig.canvas.width, fig.canvas.height);\n",
       "            }\n",
       "            fig.context.drawImage(fig.imageObj, 0, 0);\n",
       "        };\n",
       "\n",
       "    this.imageObj.onunload = function() {\n",
       "        this.ws.close();\n",
       "    }\n",
       "\n",
       "    this.ws.onmessage = this._make_on_message_function(this);\n",
       "\n",
       "    this.ondownload = ondownload;\n",
       "}\n",
       "\n",
       "mpl.figure.prototype._init_header = function() {\n",
       "    var titlebar = $(\n",
       "        '<div class=\"ui-dialog-titlebar ui-widget-header ui-corner-all ' +\n",
       "        'ui-helper-clearfix\"/>');\n",
       "    var titletext = $(\n",
       "        '<div class=\"ui-dialog-title\" style=\"width: 100%; ' +\n",
       "        'text-align: center; padding: 3px;\"/>');\n",
       "    titlebar.append(titletext)\n",
       "    this.root.append(titlebar);\n",
       "    this.header = titletext[0];\n",
       "}\n",
       "\n",
       "\n",
       "\n",
       "mpl.figure.prototype._canvas_extra_style = function(canvas_div) {\n",
       "\n",
       "}\n",
       "\n",
       "\n",
       "mpl.figure.prototype._root_extra_style = function(canvas_div) {\n",
       "\n",
       "}\n",
       "\n",
       "mpl.figure.prototype._init_canvas = function() {\n",
       "    var fig = this;\n",
       "\n",
       "    var canvas_div = $('<div/>');\n",
       "\n",
       "    canvas_div.attr('style', 'position: relative; clear: both; outline: 0');\n",
       "\n",
       "    function canvas_keyboard_event(event) {\n",
       "        return fig.key_event(event, event['data']);\n",
       "    }\n",
       "\n",
       "    canvas_div.keydown('key_press', canvas_keyboard_event);\n",
       "    canvas_div.keyup('key_release', canvas_keyboard_event);\n",
       "    this.canvas_div = canvas_div\n",
       "    this._canvas_extra_style(canvas_div)\n",
       "    this.root.append(canvas_div);\n",
       "\n",
       "    var canvas = $('<canvas/>');\n",
       "    canvas.addClass('mpl-canvas');\n",
       "    canvas.attr('style', \"left: 0; top: 0; z-index: 0; outline: 0\")\n",
       "\n",
       "    this.canvas = canvas[0];\n",
       "    this.context = canvas[0].getContext(\"2d\");\n",
       "\n",
       "    var rubberband = $('<canvas/>');\n",
       "    rubberband.attr('style', \"position: absolute; left: 0; top: 0; z-index: 1;\")\n",
       "\n",
       "    var pass_mouse_events = true;\n",
       "\n",
       "    canvas_div.resizable({\n",
       "        start: function(event, ui) {\n",
       "            pass_mouse_events = false;\n",
       "        },\n",
       "        resize: function(event, ui) {\n",
       "            fig.request_resize(ui.size.width, ui.size.height);\n",
       "        },\n",
       "        stop: function(event, ui) {\n",
       "            pass_mouse_events = true;\n",
       "            fig.request_resize(ui.size.width, ui.size.height);\n",
       "        },\n",
       "    });\n",
       "\n",
       "    function mouse_event_fn(event) {\n",
       "        if (pass_mouse_events)\n",
       "            return fig.mouse_event(event, event['data']);\n",
       "    }\n",
       "\n",
       "    rubberband.mousedown('button_press', mouse_event_fn);\n",
       "    rubberband.mouseup('button_release', mouse_event_fn);\n",
       "    // Throttle sequential mouse events to 1 every 20ms.\n",
       "    rubberband.mousemove('motion_notify', mouse_event_fn);\n",
       "\n",
       "    rubberband.mouseenter('figure_enter', mouse_event_fn);\n",
       "    rubberband.mouseleave('figure_leave', mouse_event_fn);\n",
       "\n",
       "    canvas_div.on(\"wheel\", function (event) {\n",
       "        event = event.originalEvent;\n",
       "        event['data'] = 'scroll'\n",
       "        if (event.deltaY < 0) {\n",
       "            event.step = 1;\n",
       "        } else {\n",
       "            event.step = -1;\n",
       "        }\n",
       "        mouse_event_fn(event);\n",
       "    });\n",
       "\n",
       "    canvas_div.append(canvas);\n",
       "    canvas_div.append(rubberband);\n",
       "\n",
       "    this.rubberband = rubberband;\n",
       "    this.rubberband_canvas = rubberband[0];\n",
       "    this.rubberband_context = rubberband[0].getContext(\"2d\");\n",
       "    this.rubberband_context.strokeStyle = \"#000000\";\n",
       "\n",
       "    this._resize_canvas = function(width, height) {\n",
       "        // Keep the size of the canvas, canvas container, and rubber band\n",
       "        // canvas in synch.\n",
       "        canvas_div.css('width', width)\n",
       "        canvas_div.css('height', height)\n",
       "\n",
       "        canvas.attr('width', width);\n",
       "        canvas.attr('height', height);\n",
       "\n",
       "        rubberband.attr('width', width);\n",
       "        rubberband.attr('height', height);\n",
       "    }\n",
       "\n",
       "    // Set the figure to an initial 600x600px, this will subsequently be updated\n",
       "    // upon first draw.\n",
       "    this._resize_canvas(600, 600);\n",
       "\n",
       "    // Disable right mouse context menu.\n",
       "    $(this.rubberband_canvas).bind(\"contextmenu\",function(e){\n",
       "        return false;\n",
       "    });\n",
       "\n",
       "    function set_focus () {\n",
       "        canvas.focus();\n",
       "        canvas_div.focus();\n",
       "    }\n",
       "\n",
       "    window.setTimeout(set_focus, 100);\n",
       "}\n",
       "\n",
       "mpl.figure.prototype._init_toolbar = function() {\n",
       "    var fig = this;\n",
       "\n",
       "    var nav_element = $('<div/>')\n",
       "    nav_element.attr('style', 'width: 100%');\n",
       "    this.root.append(nav_element);\n",
       "\n",
       "    // Define a callback function for later on.\n",
       "    function toolbar_event(event) {\n",
       "        return fig.toolbar_button_onclick(event['data']);\n",
       "    }\n",
       "    function toolbar_mouse_event(event) {\n",
       "        return fig.toolbar_button_onmouseover(event['data']);\n",
       "    }\n",
       "\n",
       "    for(var toolbar_ind in mpl.toolbar_items) {\n",
       "        var name = mpl.toolbar_items[toolbar_ind][0];\n",
       "        var tooltip = mpl.toolbar_items[toolbar_ind][1];\n",
       "        var image = mpl.toolbar_items[toolbar_ind][2];\n",
       "        var method_name = mpl.toolbar_items[toolbar_ind][3];\n",
       "\n",
       "        if (!name) {\n",
       "            // put a spacer in here.\n",
       "            continue;\n",
       "        }\n",
       "        var button = $('<button/>');\n",
       "        button.addClass('ui-button ui-widget ui-state-default ui-corner-all ' +\n",
       "                        'ui-button-icon-only');\n",
       "        button.attr('role', 'button');\n",
       "        button.attr('aria-disabled', 'false');\n",
       "        button.click(method_name, toolbar_event);\n",
       "        button.mouseover(tooltip, toolbar_mouse_event);\n",
       "\n",
       "        var icon_img = $('<span/>');\n",
       "        icon_img.addClass('ui-button-icon-primary ui-icon');\n",
       "        icon_img.addClass(image);\n",
       "        icon_img.addClass('ui-corner-all');\n",
       "\n",
       "        var tooltip_span = $('<span/>');\n",
       "        tooltip_span.addClass('ui-button-text');\n",
       "        tooltip_span.html(tooltip);\n",
       "\n",
       "        button.append(icon_img);\n",
       "        button.append(tooltip_span);\n",
       "\n",
       "        nav_element.append(button);\n",
       "    }\n",
       "\n",
       "    var fmt_picker_span = $('<span/>');\n",
       "\n",
       "    var fmt_picker = $('<select/>');\n",
       "    fmt_picker.addClass('mpl-toolbar-option ui-widget ui-widget-content');\n",
       "    fmt_picker_span.append(fmt_picker);\n",
       "    nav_element.append(fmt_picker_span);\n",
       "    this.format_dropdown = fmt_picker[0];\n",
       "\n",
       "    for (var ind in mpl.extensions) {\n",
       "        var fmt = mpl.extensions[ind];\n",
       "        var option = $(\n",
       "            '<option/>', {selected: fmt === mpl.default_extension}).html(fmt);\n",
       "        fmt_picker.append(option)\n",
       "    }\n",
       "\n",
       "    // Add hover states to the ui-buttons\n",
       "    $( \".ui-button\" ).hover(\n",
       "        function() { $(this).addClass(\"ui-state-hover\");},\n",
       "        function() { $(this).removeClass(\"ui-state-hover\");}\n",
       "    );\n",
       "\n",
       "    var status_bar = $('<span class=\"mpl-message\"/>');\n",
       "    nav_element.append(status_bar);\n",
       "    this.message = status_bar[0];\n",
       "}\n",
       "\n",
       "mpl.figure.prototype.request_resize = function(x_pixels, y_pixels) {\n",
       "    // Request matplotlib to resize the figure. Matplotlib will then trigger a resize in the client,\n",
       "    // which will in turn request a refresh of the image.\n",
       "    this.send_message('resize', {'width': x_pixels, 'height': y_pixels});\n",
       "}\n",
       "\n",
       "mpl.figure.prototype.send_message = function(type, properties) {\n",
       "    properties['type'] = type;\n",
       "    properties['figure_id'] = this.id;\n",
       "    this.ws.send(JSON.stringify(properties));\n",
       "}\n",
       "\n",
       "mpl.figure.prototype.send_draw_message = function() {\n",
       "    if (!this.waiting) {\n",
       "        this.waiting = true;\n",
       "        this.ws.send(JSON.stringify({type: \"draw\", figure_id: this.id}));\n",
       "    }\n",
       "}\n",
       "\n",
       "\n",
       "mpl.figure.prototype.handle_save = function(fig, msg) {\n",
       "    var format_dropdown = fig.format_dropdown;\n",
       "    var format = format_dropdown.options[format_dropdown.selectedIndex].value;\n",
       "    fig.ondownload(fig, format);\n",
       "}\n",
       "\n",
       "\n",
       "mpl.figure.prototype.handle_resize = function(fig, msg) {\n",
       "    var size = msg['size'];\n",
       "    if (size[0] != fig.canvas.width || size[1] != fig.canvas.height) {\n",
       "        fig._resize_canvas(size[0], size[1]);\n",
       "        fig.send_message(\"refresh\", {});\n",
       "    };\n",
       "}\n",
       "\n",
       "mpl.figure.prototype.handle_rubberband = function(fig, msg) {\n",
       "    var x0 = msg['x0'];\n",
       "    var y0 = fig.canvas.height - msg['y0'];\n",
       "    var x1 = msg['x1'];\n",
       "    var y1 = fig.canvas.height - msg['y1'];\n",
       "    x0 = Math.floor(x0) + 0.5;\n",
       "    y0 = Math.floor(y0) + 0.5;\n",
       "    x1 = Math.floor(x1) + 0.5;\n",
       "    y1 = Math.floor(y1) + 0.5;\n",
       "    var min_x = Math.min(x0, x1);\n",
       "    var min_y = Math.min(y0, y1);\n",
       "    var width = Math.abs(x1 - x0);\n",
       "    var height = Math.abs(y1 - y0);\n",
       "\n",
       "    fig.rubberband_context.clearRect(\n",
       "        0, 0, fig.canvas.width, fig.canvas.height);\n",
       "\n",
       "    fig.rubberband_context.strokeRect(min_x, min_y, width, height);\n",
       "}\n",
       "\n",
       "mpl.figure.prototype.handle_figure_label = function(fig, msg) {\n",
       "    // Updates the figure title.\n",
       "    fig.header.textContent = msg['label'];\n",
       "}\n",
       "\n",
       "mpl.figure.prototype.handle_cursor = function(fig, msg) {\n",
       "    var cursor = msg['cursor'];\n",
       "    switch(cursor)\n",
       "    {\n",
       "    case 0:\n",
       "        cursor = 'pointer';\n",
       "        break;\n",
       "    case 1:\n",
       "        cursor = 'default';\n",
       "        break;\n",
       "    case 2:\n",
       "        cursor = 'crosshair';\n",
       "        break;\n",
       "    case 3:\n",
       "        cursor = 'move';\n",
       "        break;\n",
       "    }\n",
       "    fig.rubberband_canvas.style.cursor = cursor;\n",
       "}\n",
       "\n",
       "mpl.figure.prototype.handle_message = function(fig, msg) {\n",
       "    fig.message.textContent = msg['message'];\n",
       "}\n",
       "\n",
       "mpl.figure.prototype.handle_draw = function(fig, msg) {\n",
       "    // Request the server to send over a new figure.\n",
       "    fig.send_draw_message();\n",
       "}\n",
       "\n",
       "mpl.figure.prototype.handle_image_mode = function(fig, msg) {\n",
       "    fig.image_mode = msg['mode'];\n",
       "}\n",
       "\n",
       "mpl.figure.prototype.updated_canvas_event = function() {\n",
       "    // Called whenever the canvas gets updated.\n",
       "    this.send_message(\"ack\", {});\n",
       "}\n",
       "\n",
       "// A function to construct a web socket function for onmessage handling.\n",
       "// Called in the figure constructor.\n",
       "mpl.figure.prototype._make_on_message_function = function(fig) {\n",
       "    return function socket_on_message(evt) {\n",
       "        if (evt.data instanceof Blob) {\n",
       "            /* FIXME: We get \"Resource interpreted as Image but\n",
       "             * transferred with MIME type text/plain:\" errors on\n",
       "             * Chrome.  But how to set the MIME type?  It doesn't seem\n",
       "             * to be part of the websocket stream */\n",
       "            evt.data.type = \"image/png\";\n",
       "\n",
       "            /* Free the memory for the previous frames */\n",
       "            if (fig.imageObj.src) {\n",
       "                (window.URL || window.webkitURL).revokeObjectURL(\n",
       "                    fig.imageObj.src);\n",
       "            }\n",
       "\n",
       "            fig.imageObj.src = (window.URL || window.webkitURL).createObjectURL(\n",
       "                evt.data);\n",
       "            fig.updated_canvas_event();\n",
       "            fig.waiting = false;\n",
       "            return;\n",
       "        }\n",
       "        else if (typeof evt.data === 'string' && evt.data.slice(0, 21) == \"data:image/png;base64\") {\n",
       "            fig.imageObj.src = evt.data;\n",
       "            fig.updated_canvas_event();\n",
       "            fig.waiting = false;\n",
       "            return;\n",
       "        }\n",
       "\n",
       "        var msg = JSON.parse(evt.data);\n",
       "        var msg_type = msg['type'];\n",
       "\n",
       "        // Call the  \"handle_{type}\" callback, which takes\n",
       "        // the figure and JSON message as its only arguments.\n",
       "        try {\n",
       "            var callback = fig[\"handle_\" + msg_type];\n",
       "        } catch (e) {\n",
       "            console.log(\"No handler for the '\" + msg_type + \"' message type: \", msg);\n",
       "            return;\n",
       "        }\n",
       "\n",
       "        if (callback) {\n",
       "            try {\n",
       "                // console.log(\"Handling '\" + msg_type + \"' message: \", msg);\n",
       "                callback(fig, msg);\n",
       "            } catch (e) {\n",
       "                console.log(\"Exception inside the 'handler_\" + msg_type + \"' callback:\", e, e.stack, msg);\n",
       "            }\n",
       "        }\n",
       "    };\n",
       "}\n",
       "\n",
       "// from http://stackoverflow.com/questions/1114465/getting-mouse-location-in-canvas\n",
       "mpl.findpos = function(e) {\n",
       "    //this section is from http://www.quirksmode.org/js/events_properties.html\n",
       "    var targ;\n",
       "    if (!e)\n",
       "        e = window.event;\n",
       "    if (e.target)\n",
       "        targ = e.target;\n",
       "    else if (e.srcElement)\n",
       "        targ = e.srcElement;\n",
       "    if (targ.nodeType == 3) // defeat Safari bug\n",
       "        targ = targ.parentNode;\n",
       "\n",
       "    // jQuery normalizes the pageX and pageY\n",
       "    // pageX,Y are the mouse positions relative to the document\n",
       "    // offset() returns the position of the element relative to the document\n",
       "    var x = e.pageX - $(targ).offset().left;\n",
       "    var y = e.pageY - $(targ).offset().top;\n",
       "\n",
       "    return {\"x\": x, \"y\": y};\n",
       "};\n",
       "\n",
       "/*\n",
       " * return a copy of an object with only non-object keys\n",
       " * we need this to avoid circular references\n",
       " * http://stackoverflow.com/a/24161582/3208463\n",
       " */\n",
       "function simpleKeys (original) {\n",
       "  return Object.keys(original).reduce(function (obj, key) {\n",
       "    if (typeof original[key] !== 'object')\n",
       "        obj[key] = original[key]\n",
       "    return obj;\n",
       "  }, {});\n",
       "}\n",
       "\n",
       "mpl.figure.prototype.mouse_event = function(event, name) {\n",
       "    var canvas_pos = mpl.findpos(event)\n",
       "\n",
       "    if (name === 'button_press')\n",
       "    {\n",
       "        this.canvas.focus();\n",
       "        this.canvas_div.focus();\n",
       "    }\n",
       "\n",
       "    var x = canvas_pos.x;\n",
       "    var y = canvas_pos.y;\n",
       "\n",
       "    this.send_message(name, {x: x, y: y, button: event.button,\n",
       "                             step: event.step,\n",
       "                             guiEvent: simpleKeys(event)});\n",
       "\n",
       "    /* This prevents the web browser from automatically changing to\n",
       "     * the text insertion cursor when the button is pressed.  We want\n",
       "     * to control all of the cursor setting manually through the\n",
       "     * 'cursor' event from matplotlib */\n",
       "    event.preventDefault();\n",
       "    return false;\n",
       "}\n",
       "\n",
       "mpl.figure.prototype._key_event_extra = function(event, name) {\n",
       "    // Handle any extra behaviour associated with a key event\n",
       "}\n",
       "\n",
       "mpl.figure.prototype.key_event = function(event, name) {\n",
       "\n",
       "    // Prevent repeat events\n",
       "    if (name == 'key_press')\n",
       "    {\n",
       "        if (event.which === this._key)\n",
       "            return;\n",
       "        else\n",
       "            this._key = event.which;\n",
       "    }\n",
       "    if (name == 'key_release')\n",
       "        this._key = null;\n",
       "\n",
       "    var value = '';\n",
       "    if (event.ctrlKey && event.which != 17)\n",
       "        value += \"ctrl+\";\n",
       "    if (event.altKey && event.which != 18)\n",
       "        value += \"alt+\";\n",
       "    if (event.shiftKey && event.which != 16)\n",
       "        value += \"shift+\";\n",
       "\n",
       "    value += 'k';\n",
       "    value += event.which.toString();\n",
       "\n",
       "    this._key_event_extra(event, name);\n",
       "\n",
       "    this.send_message(name, {key: value,\n",
       "                             guiEvent: simpleKeys(event)});\n",
       "    return false;\n",
       "}\n",
       "\n",
       "mpl.figure.prototype.toolbar_button_onclick = function(name) {\n",
       "    if (name == 'download') {\n",
       "        this.handle_save(this, null);\n",
       "    } else {\n",
       "        this.send_message(\"toolbar_button\", {name: name});\n",
       "    }\n",
       "};\n",
       "\n",
       "mpl.figure.prototype.toolbar_button_onmouseover = function(tooltip) {\n",
       "    this.message.textContent = tooltip;\n",
       "};\n",
       "mpl.toolbar_items = [[\"Home\", \"Reset original view\", \"fa fa-home icon-home\", \"home\"], [\"Back\", \"Back to  previous view\", \"fa fa-arrow-left icon-arrow-left\", \"back\"], [\"Forward\", \"Forward to next view\", \"fa fa-arrow-right icon-arrow-right\", \"forward\"], [\"\", \"\", \"\", \"\"], [\"Pan\", \"Pan axes with left mouse, zoom with right\", \"fa fa-arrows icon-move\", \"pan\"], [\"Zoom\", \"Zoom to rectangle\", \"fa fa-square-o icon-check-empty\", \"zoom\"], [\"\", \"\", \"\", \"\"], [\"Download\", \"Download plot\", \"fa fa-floppy-o icon-save\", \"download\"]];\n",
       "\n",
       "mpl.extensions = [\"eps\", \"jpeg\", \"pdf\", \"png\", \"ps\", \"raw\", \"svg\", \"tif\"];\n",
       "\n",
       "mpl.default_extension = \"png\";var comm_websocket_adapter = function(comm) {\n",
       "    // Create a \"websocket\"-like object which calls the given IPython comm\n",
       "    // object with the appropriate methods. Currently this is a non binary\n",
       "    // socket, so there is still some room for performance tuning.\n",
       "    var ws = {};\n",
       "\n",
       "    ws.close = function() {\n",
       "        comm.close()\n",
       "    };\n",
       "    ws.send = function(m) {\n",
       "        //console.log('sending', m);\n",
       "        comm.send(m);\n",
       "    };\n",
       "    // Register the callback with on_msg.\n",
       "    comm.on_msg(function(msg) {\n",
       "        //console.log('receiving', msg['content']['data'], msg);\n",
       "        // Pass the mpl event to the overriden (by mpl) onmessage function.\n",
       "        ws.onmessage(msg['content']['data'])\n",
       "    });\n",
       "    return ws;\n",
       "}\n",
       "\n",
       "mpl.mpl_figure_comm = function(comm, msg) {\n",
       "    // This is the function which gets called when the mpl process\n",
       "    // starts-up an IPython Comm through the \"matplotlib\" channel.\n",
       "\n",
       "    var id = msg.content.data.id;\n",
       "    // Get hold of the div created by the display call when the Comm\n",
       "    // socket was opened in Python.\n",
       "    var element = $(\"#\" + id);\n",
       "    var ws_proxy = comm_websocket_adapter(comm)\n",
       "\n",
       "    function ondownload(figure, format) {\n",
       "        window.open(figure.imageObj.src);\n",
       "    }\n",
       "\n",
       "    var fig = new mpl.figure(id, ws_proxy,\n",
       "                           ondownload,\n",
       "                           element.get(0));\n",
       "\n",
       "    // Call onopen now - mpl needs it, as it is assuming we've passed it a real\n",
       "    // web socket which is closed, not our websocket->open comm proxy.\n",
       "    ws_proxy.onopen();\n",
       "\n",
       "    fig.parent_element = element.get(0);\n",
       "    fig.cell_info = mpl.find_output_cell(\"<div id='\" + id + \"'></div>\");\n",
       "    if (!fig.cell_info) {\n",
       "        console.error(\"Failed to find cell for figure\", id, fig);\n",
       "        return;\n",
       "    }\n",
       "\n",
       "    var output_index = fig.cell_info[2]\n",
       "    var cell = fig.cell_info[0];\n",
       "\n",
       "};\n",
       "\n",
       "mpl.figure.prototype.handle_close = function(fig, msg) {\n",
       "    fig.root.unbind('remove')\n",
       "\n",
       "    // Update the output cell to use the data from the current canvas.\n",
       "    fig.push_to_output();\n",
       "    var dataURL = fig.canvas.toDataURL();\n",
       "    // Re-enable the keyboard manager in IPython - without this line, in FF,\n",
       "    // the notebook keyboard shortcuts fail.\n",
       "    IPython.keyboard_manager.enable()\n",
       "    $(fig.parent_element).html('<img src=\"' + dataURL + '\">');\n",
       "    fig.close_ws(fig, msg);\n",
       "}\n",
       "\n",
       "mpl.figure.prototype.close_ws = function(fig, msg){\n",
       "    fig.send_message('closing', msg);\n",
       "    // fig.ws.close()\n",
       "}\n",
       "\n",
       "mpl.figure.prototype.push_to_output = function(remove_interactive) {\n",
       "    // Turn the data on the canvas into data in the output cell.\n",
       "    var dataURL = this.canvas.toDataURL();\n",
       "    this.cell_info[1]['text/html'] = '<img src=\"' + dataURL + '\">';\n",
       "}\n",
       "\n",
       "mpl.figure.prototype.updated_canvas_event = function() {\n",
       "    // Tell IPython that the notebook contents must change.\n",
       "    IPython.notebook.set_dirty(true);\n",
       "    this.send_message(\"ack\", {});\n",
       "    var fig = this;\n",
       "    // Wait a second, then push the new image to the DOM so\n",
       "    // that it is saved nicely (might be nice to debounce this).\n",
       "    setTimeout(function () { fig.push_to_output() }, 1000);\n",
       "}\n",
       "\n",
       "mpl.figure.prototype._init_toolbar = function() {\n",
       "    var fig = this;\n",
       "\n",
       "    var nav_element = $('<div/>')\n",
       "    nav_element.attr('style', 'width: 100%');\n",
       "    this.root.append(nav_element);\n",
       "\n",
       "    // Define a callback function for later on.\n",
       "    function toolbar_event(event) {\n",
       "        return fig.toolbar_button_onclick(event['data']);\n",
       "    }\n",
       "    function toolbar_mouse_event(event) {\n",
       "        return fig.toolbar_button_onmouseover(event['data']);\n",
       "    }\n",
       "\n",
       "    for(var toolbar_ind in mpl.toolbar_items){\n",
       "        var name = mpl.toolbar_items[toolbar_ind][0];\n",
       "        var tooltip = mpl.toolbar_items[toolbar_ind][1];\n",
       "        var image = mpl.toolbar_items[toolbar_ind][2];\n",
       "        var method_name = mpl.toolbar_items[toolbar_ind][3];\n",
       "\n",
       "        if (!name) { continue; };\n",
       "\n",
       "        var button = $('<button class=\"btn btn-default\" href=\"#\" title=\"' + name + '\"><i class=\"fa ' + image + ' fa-lg\"></i></button>');\n",
       "        button.click(method_name, toolbar_event);\n",
       "        button.mouseover(tooltip, toolbar_mouse_event);\n",
       "        nav_element.append(button);\n",
       "    }\n",
       "\n",
       "    // Add the status bar.\n",
       "    var status_bar = $('<span class=\"mpl-message\" style=\"text-align:right; float: right;\"/>');\n",
       "    nav_element.append(status_bar);\n",
       "    this.message = status_bar[0];\n",
       "\n",
       "    // Add the close button to the window.\n",
       "    var buttongrp = $('<div class=\"btn-group inline pull-right\"></div>');\n",
       "    var button = $('<button class=\"btn btn-mini btn-primary\" href=\"#\" title=\"Stop Interaction\"><i class=\"fa fa-power-off icon-remove icon-large\"></i></button>');\n",
       "    button.click(function (evt) { fig.handle_close(fig, {}); } );\n",
       "    button.mouseover('Stop Interaction', toolbar_mouse_event);\n",
       "    buttongrp.append(button);\n",
       "    var titlebar = this.root.find($('.ui-dialog-titlebar'));\n",
       "    titlebar.prepend(buttongrp);\n",
       "}\n",
       "\n",
       "mpl.figure.prototype._root_extra_style = function(el){\n",
       "    var fig = this\n",
       "    el.on(\"remove\", function(){\n",
       "\tfig.close_ws(fig, {});\n",
       "    });\n",
       "}\n",
       "\n",
       "mpl.figure.prototype._canvas_extra_style = function(el){\n",
       "    // this is important to make the div 'focusable\n",
       "    el.attr('tabindex', 0)\n",
       "    // reach out to IPython and tell the keyboard manager to turn it's self\n",
       "    // off when our div gets focus\n",
       "\n",
       "    // location in version 3\n",
       "    if (IPython.notebook.keyboard_manager) {\n",
       "        IPython.notebook.keyboard_manager.register_events(el);\n",
       "    }\n",
       "    else {\n",
       "        // location in version 2\n",
       "        IPython.keyboard_manager.register_events(el);\n",
       "    }\n",
       "\n",
       "}\n",
       "\n",
       "mpl.figure.prototype._key_event_extra = function(event, name) {\n",
       "    var manager = IPython.notebook.keyboard_manager;\n",
       "    if (!manager)\n",
       "        manager = IPython.keyboard_manager;\n",
       "\n",
       "    // Check for shift+enter\n",
       "    if (event.shiftKey && event.which == 13) {\n",
       "        this.canvas_div.blur();\n",
       "        event.shiftKey = false;\n",
       "        // Send a \"J\" for go to next cell\n",
       "        event.which = 74;\n",
       "        event.keyCode = 74;\n",
       "        manager.command_mode();\n",
       "        manager.handle_keydown(event);\n",
       "    }\n",
       "}\n",
       "\n",
       "mpl.figure.prototype.handle_save = function(fig, msg) {\n",
       "    fig.ondownload(fig, null);\n",
       "}\n",
       "\n",
       "\n",
       "mpl.find_output_cell = function(html_output) {\n",
       "    // Return the cell and output element which can be found *uniquely* in the notebook.\n",
       "    // Note - this is a bit hacky, but it is done because the \"notebook_saving.Notebook\"\n",
       "    // IPython event is triggered only after the cells have been serialised, which for\n",
       "    // our purposes (turning an active figure into a static one), is too late.\n",
       "    var cells = IPython.notebook.get_cells();\n",
       "    var ncells = cells.length;\n",
       "    for (var i=0; i<ncells; i++) {\n",
       "        var cell = cells[i];\n",
       "        if (cell.cell_type === 'code'){\n",
       "            for (var j=0; j<cell.output_area.outputs.length; j++) {\n",
       "                var data = cell.output_area.outputs[j];\n",
       "                if (data.data) {\n",
       "                    // IPython >= 3 moved mimebundle to data attribute of output\n",
       "                    data = data.data;\n",
       "                }\n",
       "                if (data['text/html'] == html_output) {\n",
       "                    return [cell, data, j];\n",
       "                }\n",
       "            }\n",
       "        }\n",
       "    }\n",
       "}\n",
       "\n",
       "// Register the function which deals with the matplotlib target/channel.\n",
       "// The kernel may be null if the page has been refreshed.\n",
       "if (IPython.notebook.kernel != null) {\n",
       "    IPython.notebook.kernel.comm_manager.register_target('matplotlib', mpl.mpl_figure_comm);\n",
       "}\n"
      ],
      "text/plain": [
       "<IPython.core.display.Javascript object>"
      ]
     },
     "metadata": {},
     "output_type": "display_data"
    },
    {
     "data": {
      "text/html": [
       "<img src=\"data:image/png;base64,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\">"
      ],
      "text/plain": [
       "<IPython.core.display.HTML object>"
      ]
     },
     "metadata": {},
     "output_type": "display_data"
    }
   ],
   "source": [
    "# plot: \n",
    "line_train, = plot([], [], 'go-', label=\"average training loss\")\n",
    "line_curr_val, = plot([],[], 'bo:', label=\"avrg current validation loss\")\n",
    "line_best_val, = plot([], [], 'ko-', label=\"avrg best validation loss\")\n",
    "# plt.ticklabel_format(style='sci', axis='y', scilimits=(0,0))\n",
    "yscale('log')\n",
    "gca().yaxis.set_minor_formatter(FormatStrFormatter(\"%.2g\"))\n",
    "ylabel(\"validation loss\")\n",
    "xlabel(\"#epoch\")\n",
    "legend(loc='lower left', fancybox=True, framealpha=0.5)\n",
    "\n",
    "# start values:\n",
    "val_loss = optimizer_kwargs['num_loss'](optimizer_kwargs['num_parameters'], VZ, VX, no_annealing=True)\n",
    "training_loss = optimizer_kwargs['num_loss'](optimizer_kwargs['num_parameters'], Z[:10], X[:10], no_annealing=True)\n",
    "start_epoch = opt.n_iter//n_batches\n",
    "\n",
    "add_point(line_best_val, start_epoch, val_loss)\n",
    "add_point(line_curr_val, start_epoch, val_loss)\n",
    "add_point(line_train, start_epoch, training_loss)"
   ]
  },
  {
   "cell_type": "code",
   "execution_count": null,
   "metadata": {
    "collapsed": false
   },
   "outputs": [],
   "source": [
    "for info in takeN(hyper.n_epochs, every(n_batches, opt)):\n",
    "    current_epoch = info['n_iter']//n_batches\n",
    "    # collect and visualize validation loss for choosing the best model\n",
    "    val_loss = optimizer_kwargs['num_loss'](opt.wrt, VZ, VX, no_annealing=True)\n",
    "    if val_loss < hyper.best_val_loss:\n",
    "        hyper.best_parameters = opt.wrt\n",
    "        hyper.best_val_loss = val_loss\n",
    "        add_point(line_best_val, current_epoch, val_loss)\n",
    "    hyper.val_loss.append(val_loss)\n",
    "    add_point(line_curr_val, current_epoch, val_loss)\n",
    "    \n",
    "    # visualize training loss for comparison:\n",
    "    training_loss = optimizer_kwargs['num_loss'](opt.wrt, Z[:10], X[:10], no_annealing=True)\n",
    "    hyper.train_loss.append(training_loss)\n",
    "    add_point(line_train, current_epoch, training_loss)\n",
    "    \n",
    "#     print info['n_iter'], training_loss, val_loss, best_val_loss"
   ]
  },
  {
   "cell_type": "code",
   "execution_count": null,
   "metadata": {
    "collapsed": true
   },
   "outputs": [],
   "source": [
    "sql_session.add(hyper)\n",
    "sql_session.commit()"
   ]
  },
  {
   "cell_type": "markdown",
   "metadata": {},
   "source": [
    "# Performance"
   ]
  },
  {
   "cell_type": "markdown",
   "metadata": {},
   "source": [
    "TODO: average over predictions"
   ]
  },
  {
   "cell_type": "code",
   "execution_count": null,
   "metadata": {
    "collapsed": false
   },
   "outputs": [],
   "source": [
    "print best_val_loss\n",
    "model['flat'] = best_wrt\n",
    "\n",
    "predict = mlp.function()\n",
    "predict(X[0]), Z[0]"
   ]
  },
  {
   "cell_type": "code",
   "execution_count": null,
   "metadata": {
    "collapsed": true
   },
   "outputs": [],
   "source": [
    "PX = np.apply_along_axis(predict, 1, X)\n",
    "PVX = np.apply_along_axis(predict, 1, VX)\n",
    "PTX = np.apply_along_axis(predict, 1, TX)"
   ]
  },
  {
   "cell_type": "code",
   "execution_count": null,
   "metadata": {
    "collapsed": false
   },
   "outputs": [],
   "source": [
    "print 'incorrect samples train/val/test:  %i/%i/%i' % (\n",
    "    (PX[:, :10].argmax(1) != Z.argmax(1)).sum(),\n",
    "    (PVX[:, :10].argmax(1) != VZ.argmax(1)).sum(),\n",
    "    (PTX[:, :10].argmax(1) != TZ.argmax(1)).sum())\n",
    "\n",
    "print 'error rate train/val/test:  %g/%g/%g' % (\n",
    "    (PX[:, :10].argmax(1) != Z.argmax(1)).mean(),\n",
    "    (PVX[:, :10].argmax(1) != VZ.argmax(1)).mean(),\n",
    "    (PTX[:, :10].argmax(1) != TZ.argmax(1)).mean())"
   ]
  }
 ],
 "metadata": {
  "kernelspec": {
   "display_name": "Python 2",
   "language": "python",
   "name": "python2"
  },
  "language_info": {
   "codemirror_mode": {
    "name": "ipython",
    "version": 2
   },
   "file_extension": ".py",
   "mimetype": "text/x-python",
   "name": "python",
   "nbconvert_exporter": "python",
   "pygments_lexer": "ipython2",
   "version": "2.7.6"
  },
  "toc": {
   "toc_cell": false,
   "toc_number_sections": true,
   "toc_threshold": 4,
   "toc_window_display": false
  }
 },
 "nbformat": 4,
 "nbformat_minor": 0
}
