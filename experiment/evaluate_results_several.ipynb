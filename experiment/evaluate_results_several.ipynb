{
 "cells": [
  {
   "cell_type": "markdown",
   "metadata": {},
   "source": [
    "# imports"
   ]
  },
  {
   "cell_type": "code",
   "execution_count": 1,
   "metadata": {
    "collapsed": true
   },
   "outputs": [],
   "source": [
    "from __future__ import division"
   ]
  },
  {
   "cell_type": "code",
   "execution_count": 2,
   "metadata": {
    "collapsed": false
   },
   "outputs": [
    {
     "name": "stderr",
     "output_type": "stream",
     "text": [
      "/usr/local/lib/python2.7/dist-packages/matplotlib/font_manager.py:273: UserWarning: Matplotlib is building the font cache using fc-list. This may take a moment.\n",
      "  warnings.warn('Matplotlib is building the font cache using fc-list. This may take a moment.')\n"
     ]
    }
   ],
   "source": [
    "%matplotlib notebook\n",
    "import matplotlib.pyplot as plt\n",
    "from schlichtanders.mymatplotlib import Centre\n",
    "from matplotlib.colors import LogNorm\n",
    "from mpl_toolkits.axes_grid1 import make_axes_locatable\n",
    "import seaborn\n",
    "# plt.style.use('ggplot')"
   ]
  },
  {
   "cell_type": "code",
   "execution_count": 3,
   "metadata": {
    "collapsed": false
   },
   "outputs": [],
   "source": [
    "import os, platform, sys\n",
    "from pprint import pprint"
   ]
  },
  {
   "cell_type": "code",
   "execution_count": 4,
   "metadata": {
    "collapsed": true
   },
   "outputs": [],
   "source": [
    "__file__ = os.path.realpath('__file__')\n",
    "if platform.system() == \"Windows\":\n",
    "    from schlichtanders.myos import replace_unc\n",
    "    __file__ = replace_unc(__file__)\n",
    "__path__ = os.path.dirname(__file__)\n",
    "__parent__ = os.path.dirname(__path__)"
   ]
  },
  {
   "cell_type": "code",
   "execution_count": 46,
   "metadata": {
    "collapsed": true
   },
   "outputs": [],
   "source": [
    "from sqlalchemy import Column, Integer, Unicode, UnicodeText, String, PickleType, Float, Boolean\n",
    "from sqlalchemy import create_engine, MetaData, Table\n",
    "from sqlalchemy.orm import sessionmaker, Session, create_session\n",
    "from sqlalchemy.ext.declarative import declarative_base\n",
    "from sqlalchemy.ext.automap import automap_base\n",
    "import operator as op\n",
    "from collections import defaultdict\n",
    "import csv\n",
    "import heapq\n",
    "from copy import copy\n",
    "import warnings\n",
    "warnings.filterwarnings(\"ignore\", category=DeprecationWarning)\n",
    "inf = float('inf')\n",
    "from sklearn import cross_validation"
   ]
  },
  {
   "cell_type": "code",
   "execution_count": 47,
   "metadata": {
    "collapsed": false
   },
   "outputs": [],
   "source": [
    "import experiment_models\n",
    "import experiment_util\n",
    "from schlichtanders.mycontextmanagers import ignored\n",
    "from schlichtanders.myobjects import Namespace\n",
    "from evaluation import get_modes\n",
    "import evaluation as eva"
   ]
  },
  {
   "cell_type": "code",
   "execution_count": 7,
   "metadata": {
    "collapsed": true
   },
   "outputs": [],
   "source": [
    "import numpy as np\n",
    "import theano"
   ]
  },
  {
   "cell_type": "code",
   "execution_count": 8,
   "metadata": {
    "collapsed": false
   },
   "outputs": [],
   "source": [
    "model_names = { # sorted by optimization type\n",
    "    \"ml\": ['baselinedet', 'baselinedetplus'],\n",
    "    \"annealing\": ['baseline', 'baselineplus', 'mixture',\n",
    "                  'planarflow', 'planarflowdet', 'radialflow', 'radialflowdet'],\n",
    "    # first trials do not seem to be successfull, furthermore this needs a lot of time, maybe later on\n",
    "    # \"ml_exp_average\": ['mixtureml', 'planarflowml', 'radialflowml'],\n",
    "}\n",
    "model_prefixes = reduce(op.add, model_names.values())"
   ]
  },
  {
   "cell_type": "raw",
   "metadata": {},
   "source": [
    "# this approach seems to have problems with pickling\n",
    "all_data = []\n",
    "\n",
    "for f in gen_subfiles(\"toy_windows\", \"toy_linux\"):\n",
    "    engine = create_engine('sqlite:///' + f)\n",
    "    Base = automap_base()\n",
    "    Base.prepare(engine, reflect=True)\n",
    "    Hyper = Base.classes.hyper\n",
    "    session = Session(engine)\n",
    "    all_data += session.query(Hyper).all()  # filter if you want"
   ]
  },
  {
   "cell_type": "code",
   "execution_count": 13,
   "metadata": {
    "collapsed": false
   },
   "outputs": [
    {
     "data": {
      "text/plain": [
       "<module 'experiment_util' from '/home/stephan/GitProjects/theano_models/experiment/experiment_util.py'>"
      ]
     },
     "execution_count": 13,
     "metadata": {},
     "output_type": "execute_result"
    }
   ],
   "source": [
    "reload(experiment_util)"
   ]
  },
  {
   "cell_type": "code",
   "execution_count": 14,
   "metadata": {
    "collapsed": false
   },
   "outputs": [],
   "source": [
    "Hyper = experiment_util.get_old_hyper(model_prefixes)"
   ]
  },
  {
   "cell_type": "markdown",
   "metadata": {},
   "source": [
    "# Dataset identifiers"
   ]
  },
  {
   "cell_type": "code",
   "execution_count": 69,
   "metadata": {
    "collapsed": true
   },
   "outputs": [],
   "source": [
    "datasetnames = [\"boston\", \"concrete\", \"energy\", \"kin8nm\", \"powerplant\", \"winered\", \"yacht\"]\n",
    "datasetname = \"boston\"\n",
    "\n",
    "data, error_func = experiment_util.load_and_preprocess_data(datasetname)\n",
    "X, Z, VX, VZ, TX, TZ = data\n",
    "example_input = X[0]\n",
    "example_output = Z[0]\n",
    "output_transfer = \"softmax\" if datasetname == \"mnist\" else \"identity\"\n",
    "dataset_id = example_input, example_output, output_transfer"
   ]
  },
  {
   "cell_type": "markdown",
   "metadata": {},
   "source": [
    "# Collect models and find best ones"
   ]
  },
  {
   "cell_type": "code",
   "execution_count": 37,
   "metadata": {
    "collapsed": false
   },
   "outputs": [
    {
     "data": {
      "text/plain": [
       "<module 'evaluation' from '/home/stephan/GitProjects/theano_models/experiment/__file__'>"
      ]
     },
     "execution_count": 37,
     "metadata": {},
     "output_type": "execute_result"
    }
   ],
   "source": [
    "reload(eva)"
   ]
  },
  {
   "cell_type": "code",
   "execution_count": 38,
   "metadata": {
    "collapsed": false
   },
   "outputs": [],
   "source": [
    "n_best = 2\n",
    "best_hyper = eva.get_best_hyper([\"run_windows\"], Hyper, model_prefixes,\n",
    "                                n_best=n_best, test_suffix=[\"best_val_loss\", \"val_error_rate\"],\n",
    "                               key = lambda fn, p: datasetname in fn)"
   ]
  },
  {
   "cell_type": "code",
   "execution_count": 42,
   "metadata": {
    "collapsed": false
   },
   "outputs": [
    {
     "data": {
      "text/plain": [
       "defaultdict(<function evaluation.defaultdictdict>,\n",
       "            {'best_val_loss': defaultdict(dict,\n",
       "                         {'baseline': {1: ([2.883494783484417,\n",
       "                             3.218217335576597],\n",
       "                            [hyper 8727366088249, hyper 8727366088281]),\n",
       "                           2: ([2.4686542842699133, 2.727057631119438],\n",
       "                            [hyper 8727365664697, hyper 8727365010213]),\n",
       "                           3: ([2.67841449405836, 2.7496158682781715],\n",
       "                            [hyper 8727365010325, hyper 8727365010309]),\n",
       "                           4: ([4.1184674511785095, 4.21223083164381],\n",
       "                            [hyper 8727365010301, hyper 8727365010285]),\n",
       "                           8: ([2.0464404064676036, 2.4654262929722885],\n",
       "                            [hyper 8727366088321, hyper 8727366417261]),\n",
       "                           20: ([2.7365072499150815, 2.8814868650574614],\n",
       "                            [hyper 8727365614365, hyper 8727365614385])},\n",
       "                          'baselinedet': {1: ([0.22918630682903787,\n",
       "                             0.29455933363541315],\n",
       "                            [hyper 8727365010381, hyper 8727366088249]),\n",
       "                           2: ([0.30469116957291315, 0.3097162454024605],\n",
       "                            [hyper 8727365010213, hyper 8727365010197]),\n",
       "                           3: ([0.2813621603924295, 0.3150149221005647],\n",
       "                            [hyper 8727365010365, hyper 8727365010349]),\n",
       "                           4: ([0.4739358321480129, 0.596368582352348],\n",
       "                            [hyper 8727365010301, hyper 8727364906081]),\n",
       "                           8: ([0.09625142553578252, 0.12738743035689645],\n",
       "                            [hyper 8727365303749, hyper 8727366641073]),\n",
       "                           20: ([0.0397225514702175, 0.1620612559111222],\n",
       "                            [hyper 8727367328245, hyper 8727367328093])},\n",
       "                          'baselinedetplus': {1: ([0.3872521856556768,\n",
       "                             0.3893046171768852],\n",
       "                            [hyper 8727366088249, hyper 8727366088281]),\n",
       "                           2: ([0.24294544302898904, 0.2755975101305091],\n",
       "                            [hyper 8727365010213, hyper 8727365010197]),\n",
       "                           3: ([0.2834173700083857, 0.2982561899268109],\n",
       "                            [hyper 8727365010349, hyper 8727365010341]),\n",
       "                           4: ([0.7232519232708475, 1.121537167093028],\n",
       "                            [hyper 8727364906081, hyper 8727364906073]),\n",
       "                           8: ([1.3295702726944634, 1.356013588283373],\n",
       "                            [hyper 8727364906193, hyper 8727365664681]),\n",
       "                           20: ([1.8257948833963145, 1.905619248099949],\n",
       "                            [hyper 8727365614365, hyper 8727367328245])},\n",
       "                          'baselineplus': {1: ([4.302129480113154,\n",
       "                             4.310395365175993],\n",
       "                            [hyper 8727365010381, hyper 8727366088281]),\n",
       "                           2: ([2.8501775824505353, 3.1303398298180625],\n",
       "                            [hyper 8727365664697, hyper 8727365664689]),\n",
       "                           3: ([3.7541725987973416, 3.8542263528575065],\n",
       "                            [hyper 8727365010317, hyper 8727365010309]),\n",
       "                           4: ([15.336457501287047, 15.470676587975543],\n",
       "                            [hyper 8727365010301, hyper 8727365010293]),\n",
       "                           8: ([6.4757464201554, 8.084730994183083],\n",
       "                            [hyper 8727366088329, hyper 8727366088313]),\n",
       "                           20: ([9.895803352024245, 10.013069335274073],\n",
       "                            [hyper 8727365010237, hyper 8727365010229])},\n",
       "                          'mixture': {1: ([2.8088103211444357,\n",
       "                             3.216661196169646],\n",
       "                            [hyper 8727366088281, hyper 8727366088249]),\n",
       "                           2: ([3.1753796287204907, 3.29336810733961],\n",
       "                            [hyper 8727366580813, hyper 8727365010213]),\n",
       "                           3: ([3.3101572119671365, 4.479983437579611],\n",
       "                            [hyper 8727365010325, hyper 8727365010309]),\n",
       "                           4: ([5.326285349804422, 5.4054088799849795],\n",
       "                            [hyper 8727365010285, hyper 8727365010301]),\n",
       "                           8: ([3.9870233397552934, 3.9884184132451597],\n",
       "                            [hyper 8727364978977, hyper 8727364906233]),\n",
       "                           20: ([13.209689458211264, 13.481947885043382],\n",
       "                            [hyper 8727364906113, hyper 8727364906105])},\n",
       "                          'planarflow': {1: ([3.3018944947615907,\n",
       "                             3.3698046808657436],\n",
       "                            [hyper 8727366088249, hyper 8727366088281]),\n",
       "                           2: ([4.445921192998472, 5.0382267495860225],\n",
       "                            [hyper 8727365693193, hyper 8727366631785]),\n",
       "                           3: ([3.883980510545814, 4.150449056210726],\n",
       "                            [hyper 8727365010325, hyper 8727365010317]),\n",
       "                           4: ([5.317640632131825, 5.427261398149573],\n",
       "                            [hyper 8727365010301, hyper 8727365010293]),\n",
       "                           8: ([3.7155404574629194, 4.046230260876642],\n",
       "                            [hyper 8727365303749, hyper 8727364906089]),\n",
       "                           20: ([None, inf],\n",
       "                            [hyper 8727367328093, hyper 8727367328245])},\n",
       "                          'planarflowdet': {1: ([2.534296840170155,\n",
       "                             2.5984922740770426],\n",
       "                            [hyper 8727366088249, hyper 8727366088281]),\n",
       "                           2: ([2.460483606310858, 2.5620634991189712],\n",
       "                            [hyper 8727365693297, hyper 8727365010197]),\n",
       "                           3: ([2.417209293531335, 2.5273555009261424],\n",
       "                            [hyper 8727365010341, hyper 8727365010349]),\n",
       "                           4: ([2.456633412319681, 4.002209820954695],\n",
       "                            [hyper 8727365010285, hyper 8727365010293]),\n",
       "                           8: ([3.086395871812019, 3.272621237713358],\n",
       "                            [hyper 8727364906089, hyper 8727366641073]),\n",
       "                           20: ([4.870532934216485, 4.880796349566916],\n",
       "                            [hyper 8727364906113, hyper 8727364906145])},\n",
       "                          'radialflow': {1: ([3.0366412644708576,\n",
       "                             3.4473925522521327],\n",
       "                            [hyper 8727366088273, hyper 8727366088249]),\n",
       "                           2: ([3.5037743095243825, 3.6526715136019594],\n",
       "                            [hyper 8727364439801, hyper 8727366512261]),\n",
       "                           3: ([2.672318624245798, 2.814349651411501],\n",
       "                            [hyper 8727365010309, hyper 8727365010317]),\n",
       "                           4: ([3.5488276458750185, 3.551202798571512],\n",
       "                            [hyper 8727365010301, hyper 8727365010285]),\n",
       "                           8: ([2.5935208682340796, 2.6974323014569457],\n",
       "                            [hyper 8727366641101, hyper 8727365303749]),\n",
       "                           20: ([inf, inf],\n",
       "                            [hyper 8727367328093, hyper 8727367328245])},\n",
       "                          'radialflowdet': {1: ([0.71719389376433,\n",
       "                             0.749585483385169],\n",
       "                            [hyper 8727366088249, hyper 8727366088273]),\n",
       "                           2: ([0.5046801836594291, 1.5318062989608103],\n",
       "                            [hyper 8727365664697, hyper 8727365664705]),\n",
       "                           3: ([1.292250674703847, 1.5912399789561396],\n",
       "                            [hyper 8727365010309, hyper 8727365010333]),\n",
       "                           4: ([2.731088870504628, 3.1912670798923655],\n",
       "                            [hyper 8727365010293, hyper 8727365010285]),\n",
       "                           8: ([0.6091892719268799, 0.7722256563711857],\n",
       "                            [hyper 8727366641101, hyper 8727365303749]),\n",
       "                           20: ([1838398.2826086956, inf],\n",
       "                            [hyper 8727367328093, hyper 8727367328245])}}),\n",
       "             'val_error_rate': defaultdict(dict,\n",
       "                         {'baseline': {1: ([5.257150650024414,\n",
       "                             5.722811222076416],\n",
       "                            [hyper 8727366088281, hyper 8727366088273]),\n",
       "                           2: ([4.84027099609375, 6.760379314422607],\n",
       "                            [hyper 8727365010205, hyper 8727365010197]),\n",
       "                           3: ([3.9846057891845703, 4.120980739593506],\n",
       "                            [hyper 8727365010333, hyper 8727365010309]),\n",
       "                           4: ([3.3869965076446533, 3.773319959640503],\n",
       "                            [hyper 8727365010301, hyper 8727365010293]),\n",
       "                           8: ([5.031460762023926, 6.640364170074463],\n",
       "                            [hyper 8727366641073, hyper 8727365664665]),\n",
       "                           20: ([3.4530017375946045, 3.546948194503784],\n",
       "                            [hyper 8727365010229, hyper 8727365010237])},\n",
       "                          'baselinedet': {1: ([2.8809633255004883,\n",
       "                             3.111539363861084],\n",
       "                            [hyper 8727365010381, hyper 8727366088249]),\n",
       "                           2: ([3.0340328216552734, 3.102898120880127],\n",
       "                            [hyper 8727365664697, hyper 8727365010197]),\n",
       "                           3: ([3.0749988555908203, 3.0893588066101074],\n",
       "                            [hyper 8727365010341, hyper 8727365010349]),\n",
       "                           4: ([3.2621841430664062, 4.180047988891602],\n",
       "                            [hyper 8727365010301, hyper 8727364906065]),\n",
       "                           8: ([2.3951213359832764, 2.4254045486450195],\n",
       "                            [hyper 8727365303749, hyper 8727366641073]),\n",
       "                           20: ([2.2791287899017334, 2.6559293270111084],\n",
       "                            [hyper 8727367328245, hyper 8727367328093])},\n",
       "                          'baselinedetplus': {1: ([3.0400233268737793,\n",
       "                             3.4518463611602783],\n",
       "                            [hyper 8727366088249, hyper 8727366088281]),\n",
       "                           2: ([2.817417621612549, 3.0207324028015137],\n",
       "                            [hyper 8727365010213, hyper 8727365010197]),\n",
       "                           3: ([2.962130546569824, 3.0581724643707275],\n",
       "                            [hyper 8727365010341, hyper 8727365010349]),\n",
       "                           4: ([4.793722629547119, 6.558002471923828],\n",
       "                            [hyper 8727364906081, hyper 8727364906073]),\n",
       "                           8: ([8.252669334411621, 8.25992202758789],\n",
       "                            [hyper 8727365664681, hyper 8727364906193]),\n",
       "                           20: ([11.853658676147461, 12.662466049194336],\n",
       "                            [hyper 8727365010229, hyper 8727365614365])},\n",
       "                          'baselineplus': {1: ([8.992080688476562,\n",
       "                             10.363658905029297],\n",
       "                            [hyper 8727366088345, hyper 8727365010277]),\n",
       "                           2: ([7.145083904266357, 7.173260688781738],\n",
       "                            [hyper 8727366512261, hyper 8727365010205]),\n",
       "                           3: ([6.9830427169799805, 8.996010780334473],\n",
       "                            [hyper 8727365010325, hyper 8727365010317]),\n",
       "                           4: ([6.93600606918335, 7.118856430053711],\n",
       "                            [hyper 8727365010301, hyper 8727365010293]),\n",
       "                           8: ([7.88606071472168, 10.161892890930176],\n",
       "                            [hyper 8727364906233, hyper 8727366417253]),\n",
       "                           20: ([7.184085845947266, 7.390493869781494],\n",
       "                            [hyper 8727364906105, hyper 8727364906113])},\n",
       "                          'mixture': {1: ([9.424152374267578,\n",
       "                             10.759917259216309],\n",
       "                            [hyper 8727366088249, hyper 8727365010245]),\n",
       "                           2: ([9.4838285446167, 9.911198616027832],\n",
       "                            [hyper 8727365010197, hyper 8727365010213]),\n",
       "                           3: ([3.966768741607666, 4.093585968017578],\n",
       "                            [hyper 8727365010309, hyper 8727365010333]),\n",
       "                           4: ([3.5572471618652344, 3.9627392292022705],\n",
       "                            [hyper 8727365010285, hyper 8727365010301]),\n",
       "                           8: ([10.657573699951172, 10.689360618591309],\n",
       "                            [hyper 8727365664745, hyper 8727365664665]),\n",
       "                           20: ([6.633434772491455, 6.989795684814453],\n",
       "                            [hyper 8727364906105, hyper 8727364906113])},\n",
       "                          'planarflow': {1: ([3.924398422241211,\n",
       "                             6.4323225021362305],\n",
       "                            [hyper 8727366088273, hyper 8727366088249]),\n",
       "                           2: ([7.610540866851807, 8.315038681030273],\n",
       "                            [hyper 8727366512261, hyper 8727364439801]),\n",
       "                           3: ([3.0700650215148926, 3.6129300594329834],\n",
       "                            [hyper 8727365010317, hyper 8727365010325]),\n",
       "                           4: ([4.0075531005859375, 4.159834861755371],\n",
       "                            [hyper 8727365010285, hyper 8727365010301]),\n",
       "                           8: ([5.992618083953857, 8.008550643920898],\n",
       "                            [hyper 8727366641101, hyper 8727366641073]),\n",
       "                           20: ([inf, inf],\n",
       "                            [hyper 8727367328093, hyper 8727367328245])},\n",
       "                          'planarflowdet': {1: ([4.276795387268066,\n",
       "                             4.845333099365234],\n",
       "                            [hyper 8727366088249, hyper 8727365010245]),\n",
       "                           2: ([4.612649917602539, 4.879408836364746],\n",
       "                            [hyper 8727365010205, hyper 8727366631785]),\n",
       "                           3: ([4.613940715789795, 4.6841583251953125],\n",
       "                            [hyper 8727365010341, hyper 8727365010349]),\n",
       "                           4: ([3.541687488555908, 5.102510929107666],\n",
       "                            [hyper 8727365010285, hyper 8727365010293]),\n",
       "                           8: ([15.66573429107666, 30.27486228942871],\n",
       "                            [hyper 8727366641101, hyper 8727365664673]),\n",
       "                           20: ([14.015426635742188, 14.349632263183594],\n",
       "                            [hyper 8727364906113, hyper 8727364906145])},\n",
       "                          'radialflow': {1: ([5.379570007324219,\n",
       "                             6.347126007080078],\n",
       "                            [hyper 8727366088273, hyper 8727366088345]),\n",
       "                           2: ([3.5496678352355957, 3.6809566020965576],\n",
       "                            [hyper 8727365010197, hyper 8727365010205]),\n",
       "                           3: ([3.5203821659088135, 3.675489902496338],\n",
       "                            [hyper 8727365010317, hyper 8727365010325]),\n",
       "                           4: ([3.2566335201263428, 3.6447348594665527],\n",
       "                            [hyper 8727365010301, hyper 8727365010293]),\n",
       "                           8: ([3.4540350437164307, 3.684072971343994],\n",
       "                            [hyper 8727366641073, hyper 8727365303749]),\n",
       "                           20: ([inf, inf],\n",
       "                            [hyper 8727367328093, hyper 8727367328245])},\n",
       "                          'radialflowdet': {1: ([2.918508529663086,\n",
       "                             3.0615084171295166],\n",
       "                            [hyper 8727366088249, hyper 8727365010269]),\n",
       "                           2: ([3.026414155960083, 3.258223295211792],\n",
       "                            [hyper 8727365664697, hyper 8727365010205]),\n",
       "                           3: ([2.587460517883301, 2.8405795097351074],\n",
       "                            [hyper 8727365010309, hyper 8727365010333]),\n",
       "                           4: ([2.6931066513061523, 3.5764317512512207],\n",
       "                            [hyper 8727365010293, hyper 8727365010285]),\n",
       "                           8: ([2.355663776397705, 2.5155630111694336],\n",
       "                            [hyper 8727366641101, hyper 8727365303749]),\n",
       "                           20: ([inf, inf],\n",
       "                            [hyper 8727367328093, hyper 8727367328245])}})})"
      ]
     },
     "execution_count": 42,
     "metadata": {},
     "output_type": "execute_result"
    }
   ],
   "source": [
    "best_hyper"
   ]
  },
  {
   "cell_type": "code",
   "execution_count": 50,
   "metadata": {
    "collapsed": false
   },
   "outputs": [
    {
     "data": {
      "text/plain": [
       "u'boston'"
      ]
     },
     "execution_count": 50,
     "metadata": {},
     "output_type": "execute_result"
    }
   ],
   "source": [
    "best_hyper['best_val_loss']['baseline'][1][1][0].datasetname"
   ]
  },
  {
   "cell_type": "raw",
   "metadata": {},
   "source": [
    "for hy in all_data:\n",
    "    n_normflow = getattr(hy, \"n_normflows\")\n",
    "    params = [getattr(hy, name+\"_best_parameters\") for name in model_prefixes]\n",
    "    lengths = [len(p) if p is not None else 0 for p in params]\n",
    "    print n_normflow, lengths"
   ]
  },
  {
   "cell_type": "raw",
   "metadata": {},
   "source": [
    "for name in best_results['best_val_loss']:\n",
    "    for n in n_normflows:\n",
    "        entries = best_results['best_val_loss'][name][n][1]\n",
    "        for e in entries:\n",
    "            params = getattr(e, name+\"_best_parameters\")\n",
    "            print name, n, len(params) #, params"
   ]
  },
  {
   "cell_type": "markdown",
   "metadata": {},
   "source": [
    "# Compute Results on Test-set"
   ]
  },
  {
   "cell_type": "code",
   "execution_count": 68,
   "metadata": {
    "collapsed": false
   },
   "outputs": [
    {
     "data": {
      "text/plain": [
       "<module 'experiment_models' from '/home/stephan/GitProjects/theano_models/experiment/experiment_models.pyc'>"
      ]
     },
     "execution_count": 68,
     "metadata": {},
     "output_type": "execute_result"
    },
    {
     "name": "stdout",
     "output_type": "stream",
     "text": [
      "\n"
     ]
    }
   ],
   "source": [
    "reload(eva)\n",
    "reload(experiment_models)"
   ]
  },
  {
   "cell_type": "code",
   "execution_count": 70,
   "metadata": {
    "collapsed": false
   },
   "outputs": [
    {
     "name": "stdout",
     "output_type": "stream",
     "text": [
      "batch_precompile\n",
      "batch_precompile\n",
      "1 2 3 4 5 6 7 8 9 10 11 12 13 14 15 16 17 18"
     ]
    },
    {
     "ename": "KeyboardInterrupt",
     "evalue": "",
     "output_type": "error",
     "traceback": [
      "\u001b[1;31m---------------------------------------------------------------------------\u001b[0m",
      "\u001b[1;31mKeyboardInterrupt\u001b[0m                         Traceback (most recent call last)",
      "\u001b[1;32m/home/stephan/GitProjects/theano_models/experiment/__file__\u001b[0m in \u001b[0;36m<module>\u001b[1;34m()\u001b[0m\n\u001b[0;32m      1\u001b[0m test_results = eva.compute_test_results(\n\u001b[0;32m      2\u001b[0m     \u001b[0mbest_hyper\u001b[0m\u001b[1;33m,\u001b[0m \u001b[1;32mlambda\u001b[0m \u001b[0mhyper\u001b[0m\u001b[1;33m:\u001b[0m \u001b[0mexperiment_util\u001b[0m\u001b[1;33m.\u001b[0m\u001b[0mload_and_preprocess_data\u001b[0m\u001b[1;33m(\u001b[0m\u001b[0mhyper\u001b[0m\u001b[1;33m.\u001b[0m\u001b[0mdatasetname\u001b[0m\u001b[1;33m)\u001b[0m\u001b[1;33m,\u001b[0m\u001b[1;33m\u001b[0m\u001b[0m\n\u001b[1;32m----> 3\u001b[1;33m     \u001b[0mmodel_module_id\u001b[0m\u001b[1;33m=\u001b[0m\u001b[0mdataset_id\u001b[0m\u001b[1;33m,\u001b[0m \u001b[0mn_trials\u001b[0m\u001b[1;33m=\u001b[0m\u001b[1;36m2\u001b[0m\u001b[1;33m\u001b[0m\u001b[0m\n\u001b[0m\u001b[0;32m      4\u001b[0m )\n",
      "\u001b[1;32m/home/stephan/GitProjects/theano_models/experiment/__file__\u001b[0m in \u001b[0;36mcompute_test_results\u001b[1;34m(best_hyper, data_gen, model_module_id, n_trials)\u001b[0m\n\u001b[0;32m    275\u001b[0m                             \u001b[0mmodel\u001b[0m\u001b[1;33m,\u001b[0m \u001b[0mloss\u001b[0m\u001b[1;33m,\u001b[0m \u001b[0mflat\u001b[0m\u001b[1;33m,\u001b[0m \u001b[0mapprox_posterior\u001b[0m \u001b[1;33m=\u001b[0m \u001b[0mgetattr\u001b[0m\u001b[1;33m(\u001b[0m\u001b[0mmodel_module\u001b[0m\u001b[1;33m,\u001b[0m \u001b[0mname\u001b[0m\u001b[1;33m)\u001b[0m\u001b[1;33m(\u001b[0m\u001b[0mhyper\u001b[0m\u001b[1;33m,\u001b[0m \u001b[1;33m*\u001b[0m\u001b[0mmodel_module_id\u001b[0m\u001b[1;33m)\u001b[0m\u001b[1;33m\u001b[0m\u001b[0m\n\u001b[0;32m    276\u001b[0m                         test_results.append(experiment_util.test(\n\u001b[1;32m--> 277\u001b[1;33m                             \u001b[0mdata\u001b[0m\u001b[1;33m,\u001b[0m \u001b[0mhyper\u001b[0m\u001b[1;33m,\u001b[0m \u001b[0mmodel\u001b[0m\u001b[1;33m,\u001b[0m \u001b[0mloss\u001b[0m\u001b[1;33m,\u001b[0m \u001b[0mflat\u001b[0m\u001b[1;33m,\u001b[0m \u001b[0merror_func\u001b[0m\u001b[1;33m,\u001b[0m \u001b[0moptimization_type\u001b[0m\u001b[1;33m,\u001b[0m \u001b[0minit_params\u001b[0m\u001b[1;33m\u001b[0m\u001b[0m\n\u001b[0m\u001b[0;32m    278\u001b[0m                         ))\n\u001b[0;32m    279\u001b[0m                     \u001b[0mtest_error_rate\u001b[0m\u001b[1;33m,\u001b[0m \u001b[0mbest_test_loss\u001b[0m\u001b[1;33m,\u001b[0m \u001b[0mbest_epoch\u001b[0m\u001b[1;33m,\u001b[0m \u001b[0mbest_params\u001b[0m \u001b[1;33m=\u001b[0m \u001b[0mzip\u001b[0m\u001b[1;33m(\u001b[0m\u001b[1;33m*\u001b[0m\u001b[0mtest_results\u001b[0m\u001b[1;33m)\u001b[0m\u001b[1;33m\u001b[0m\u001b[0m\n",
      "\u001b[1;32m/home/stephan/GitProjects/theano_models/experiment/experiment_util.py\u001b[0m in \u001b[0;36mtest\u001b[1;34m(data, hyper, model, loss, parameters, error_func, optimization_type, init_params)\u001b[0m\n\u001b[0;32m    499\u001b[0m         \u001b[1;32mprint\u001b[0m\u001b[1;33m\u001b[0m\u001b[0m\n\u001b[0;32m    500\u001b[0m         \u001b[1;32mreturn\u001b[0m \u001b[0mbest_test_loss\u001b[0m\u001b[1;33m,\u001b[0m \u001b[0mbest_epoch\u001b[0m\u001b[1;33m,\u001b[0m \u001b[0mbest_parameters\u001b[0m\u001b[1;33m\u001b[0m\u001b[0m\n\u001b[1;32m--> 501\u001b[1;33m \u001b[1;33m\u001b[0m\u001b[0m\n\u001b[0m\u001b[0;32m    502\u001b[0m     \u001b[1;32mtry\u001b[0m\u001b[1;33m:\u001b[0m\u001b[1;33m\u001b[0m\u001b[0m\n\u001b[0;32m    503\u001b[0m         \u001b[0mbest_test_loss\u001b[0m\u001b[1;33m,\u001b[0m \u001b[0mbest_epoch\u001b[0m\u001b[1;33m,\u001b[0m \u001b[0mbest_params\u001b[0m \u001b[1;33m=\u001b[0m \u001b[0m_optimize\u001b[0m\u001b[1;33m(\u001b[0m\u001b[1;33m)\u001b[0m\u001b[1;33m\u001b[0m\u001b[0m\n",
      "\u001b[1;32m/home/stephan/GitProjects/theano_models/experiment/experiment_util.py\u001b[0m in \u001b[0;36m_optimize\u001b[1;34m(mode)\u001b[0m\n\u001b[0;32m    470\u001b[0m         \u001b[0mbest_epoch\u001b[0m \u001b[1;33m=\u001b[0m \u001b[1;36m0\u001b[0m\u001b[1;33m\u001b[0m\u001b[0m\n\u001b[0;32m    471\u001b[0m         \u001b[0mbest_parameters\u001b[0m \u001b[1;33m=\u001b[0m \u001b[0mNone\u001b[0m\u001b[1;33m\u001b[0m\u001b[0m\n\u001b[1;32m--> 472\u001b[1;33m         \u001b[1;31m# for the start no averaging is needed, as this is not crucial at all\u001b[0m\u001b[1;33m\u001b[0m\u001b[1;33m\u001b[0m\u001b[0m\n\u001b[0m\u001b[0;32m    473\u001b[0m         \u001b[1;31m# train_losses = getattr(hyper, prefix + \"train_loss\")\u001b[0m\u001b[1;33m\u001b[0m\u001b[1;33m\u001b[0m\u001b[0m\n\u001b[0;32m    474\u001b[0m         \u001b[1;32mfor\u001b[0m \u001b[0minfo\u001b[0m \u001b[1;32min\u001b[0m \u001b[0mevery\u001b[0m\u001b[1;33m(\u001b[0m\u001b[0mn_batches\u001b[0m\u001b[1;33m,\u001b[0m \u001b[0mopt\u001b[0m\u001b[1;33m)\u001b[0m\u001b[1;33m:\u001b[0m\u001b[1;33m\u001b[0m\u001b[0m\n",
      "\u001b[1;32m/home/stephan/GitProjects/schlichtanders/schlichtanders/mygenerators.pyc\u001b[0m in \u001b[0;36mevery\u001b[1;34m(nth, iterable)\u001b[0m\n\u001b[0;32m    164\u001b[0m     \u001b[0mit\u001b[0m \u001b[1;33m=\u001b[0m \u001b[0miter\u001b[0m\u001b[1;33m(\u001b[0m\u001b[0miterable\u001b[0m\u001b[1;33m)\u001b[0m\u001b[1;33m\u001b[0m\u001b[0m\n\u001b[0;32m    165\u001b[0m     \u001b[1;32mwhile\u001b[0m \u001b[0mTrue\u001b[0m\u001b[1;33m:\u001b[0m\u001b[1;33m\u001b[0m\u001b[0m\n\u001b[1;32m--> 166\u001b[1;33m         \u001b[0meat\u001b[0m\u001b[1;33m(\u001b[0m\u001b[0mit\u001b[0m\u001b[1;33m,\u001b[0m \u001b[0mnth\u001b[0m\u001b[1;33m-\u001b[0m\u001b[1;36m1\u001b[0m\u001b[1;33m)\u001b[0m\u001b[1;33m\u001b[0m\u001b[0m\n\u001b[0m\u001b[0;32m    167\u001b[0m         \u001b[1;32myield\u001b[0m \u001b[0mnext\u001b[0m\u001b[1;33m(\u001b[0m\u001b[0mit\u001b[0m\u001b[1;33m)\u001b[0m\u001b[1;33m\u001b[0m\u001b[0m\n\u001b[0;32m    168\u001b[0m \u001b[1;33m\u001b[0m\u001b[0m\n",
      "\u001b[1;32m/home/stephan/GitProjects/schlichtanders/schlichtanders/mygenerators.pyc\u001b[0m in \u001b[0;36meat\u001b[1;34m(gen, n)\u001b[0m\n\u001b[0;32m    135\u001b[0m \u001b[1;32mdef\u001b[0m \u001b[0meat\u001b[0m\u001b[1;33m(\u001b[0m\u001b[0mgen\u001b[0m\u001b[1;33m,\u001b[0m \u001b[0mn\u001b[0m\u001b[1;33m=\u001b[0m\u001b[1;36m1\u001b[0m\u001b[1;33m)\u001b[0m\u001b[1;33m:\u001b[0m\u001b[1;33m\u001b[0m\u001b[0m\n\u001b[0;32m    136\u001b[0m     \u001b[1;32mfor\u001b[0m \u001b[0m_\u001b[0m \u001b[1;32min\u001b[0m \u001b[0mxrange\u001b[0m\u001b[1;33m(\u001b[0m\u001b[0mn\u001b[0m\u001b[1;33m)\u001b[0m\u001b[1;33m:\u001b[0m\u001b[1;33m\u001b[0m\u001b[0m\n\u001b[1;32m--> 137\u001b[1;33m         \u001b[0mnext\u001b[0m\u001b[1;33m(\u001b[0m\u001b[0mgen\u001b[0m\u001b[1;33m)\u001b[0m\u001b[1;33m\u001b[0m\u001b[0m\n\u001b[0m\u001b[0;32m    138\u001b[0m \u001b[1;33m\u001b[0m\u001b[0m\n\u001b[0;32m    139\u001b[0m \u001b[1;32mdef\u001b[0m \u001b[0meatN\u001b[0m\u001b[1;33m(\u001b[0m\u001b[0mN\u001b[0m\u001b[1;33m,\u001b[0m \u001b[0miterator\u001b[0m\u001b[1;33m)\u001b[0m\u001b[1;33m:\u001b[0m\u001b[1;33m\u001b[0m\u001b[0m\n",
      "\u001b[1;32m/home/stephan/GitProjects/climin/climin/base.pyc\u001b[0m in \u001b[0;36m__iter__\u001b[1;34m(self)\u001b[0m\n\u001b[0;32m     82\u001b[0m \u001b[1;33m\u001b[0m\u001b[0m\n\u001b[0;32m     83\u001b[0m     \u001b[1;32mdef\u001b[0m \u001b[0m__iter__\u001b[0m\u001b[1;33m(\u001b[0m\u001b[0mself\u001b[0m\u001b[1;33m)\u001b[0m\u001b[1;33m:\u001b[0m\u001b[1;33m\u001b[0m\u001b[0m\n\u001b[1;32m---> 84\u001b[1;33m         \u001b[1;32mfor\u001b[0m \u001b[0minfo\u001b[0m \u001b[1;32min\u001b[0m \u001b[0mself\u001b[0m\u001b[1;33m.\u001b[0m\u001b[0m_iterate\u001b[0m\u001b[1;33m(\u001b[0m\u001b[1;33m)\u001b[0m\u001b[1;33m:\u001b[0m\u001b[1;33m\u001b[0m\u001b[0m\n\u001b[0m\u001b[0;32m     85\u001b[0m             \u001b[1;32myield\u001b[0m \u001b[0mself\u001b[0m\u001b[1;33m.\u001b[0m\u001b[0mextended_info\u001b[0m\u001b[1;33m(\u001b[0m\u001b[1;33m**\u001b[0m\u001b[0minfo\u001b[0m\u001b[1;33m)\u001b[0m\u001b[1;33m\u001b[0m\u001b[0m\n\u001b[0;32m     86\u001b[0m \u001b[1;33m\u001b[0m\u001b[0m\n",
      "\u001b[1;32m/home/stephan/GitProjects/climin/climin/rmsprop.pyc\u001b[0m in \u001b[0;36m_iterate\u001b[1;34m(self)\u001b[0m\n\u001b[0;32m    161\u001b[0m             \u001b[0mstep1\u001b[0m \u001b[1;33m=\u001b[0m \u001b[0mstep_m1\u001b[0m \u001b[1;33m*\u001b[0m \u001b[0mself\u001b[0m\u001b[1;33m.\u001b[0m\u001b[0mmomentum\u001b[0m\u001b[1;33m\u001b[0m\u001b[0m\n\u001b[0;32m    162\u001b[0m             \u001b[0mself\u001b[0m\u001b[1;33m.\u001b[0m\u001b[0mwrt\u001b[0m \u001b[1;33m-=\u001b[0m \u001b[0mstep1\u001b[0m\u001b[1;33m\u001b[0m\u001b[0m\n\u001b[1;32m--> 163\u001b[1;33m             \u001b[0mgradient\u001b[0m \u001b[1;33m=\u001b[0m \u001b[0mself\u001b[0m\u001b[1;33m.\u001b[0m\u001b[0mfprime\u001b[0m\u001b[1;33m(\u001b[0m\u001b[0mself\u001b[0m\u001b[1;33m.\u001b[0m\u001b[0mwrt\u001b[0m\u001b[1;33m,\u001b[0m \u001b[1;33m*\u001b[0m\u001b[0margs\u001b[0m\u001b[1;33m,\u001b[0m \u001b[1;33m**\u001b[0m\u001b[0mkwargs\u001b[0m\u001b[1;33m)\u001b[0m\u001b[1;33m\u001b[0m\u001b[0m\n\u001b[0m\u001b[0;32m    164\u001b[0m \u001b[1;33m\u001b[0m\u001b[0m\n\u001b[0;32m    165\u001b[0m             self.moving_mean_squared = (\n",
      "\u001b[1;32m/home/stephan/GitProjects/theano_models/theano_models/loss.pyc\u001b[0m in \u001b[0;36mannealed\u001b[1;34m(parameters, *loss_inputs, **kwargs)\u001b[0m\n\u001b[0;32m    411\u001b[0m                 \u001b[1;32mreturn\u001b[0m \u001b[0mloss_data\u001b[0m\u001b[1;33m(\u001b[0m\u001b[0mparameters\u001b[0m\u001b[1;33m,\u001b[0m \u001b[1;33m*\u001b[0m\u001b[0mloss_inputs\u001b[0m\u001b[1;33m)\u001b[0m\u001b[1;33m/\u001b[0m\u001b[0mlength\u001b[0m\u001b[1;33m[\u001b[0m\u001b[1;34m'data'\u001b[0m\u001b[1;33m]\u001b[0m \u001b[1;33m+\u001b[0m \u001b[0mloss_regularizer\u001b[0m\u001b[1;33m(\u001b[0m\u001b[0mparameters\u001b[0m\u001b[1;33m)\u001b[0m\u001b[1;33m/\u001b[0m\u001b[0mlength\u001b[0m\u001b[1;33m[\u001b[0m\u001b[1;34m'regularizer'\u001b[0m\u001b[1;33m]\u001b[0m\u001b[1;33m\u001b[0m\u001b[0m\n\u001b[0;32m    412\u001b[0m \u001b[1;33m\u001b[0m\u001b[0m\n\u001b[1;32m--> 413\u001b[1;33m             \u001b[0mld\u001b[0m \u001b[1;33m=\u001b[0m \u001b[0mnext\u001b[0m\u001b[1;33m(\u001b[0m\u001b[0mself\u001b[0m\u001b[1;33m.\u001b[0m\u001b[0mweights_data\u001b[0m\u001b[1;33m)\u001b[0m \u001b[1;33m*\u001b[0m \u001b[0mloss_data\u001b[0m\u001b[1;33m(\u001b[0m\u001b[0mparameters\u001b[0m\u001b[1;33m,\u001b[0m \u001b[1;33m*\u001b[0m\u001b[0mloss_inputs\u001b[0m\u001b[1;33m)\u001b[0m \u001b[1;33m/\u001b[0m \u001b[0mlength\u001b[0m\u001b[1;33m[\u001b[0m\u001b[1;34m'data'\u001b[0m\u001b[1;33m]\u001b[0m\u001b[1;33m\u001b[0m\u001b[0m\n\u001b[0m\u001b[0;32m    414\u001b[0m             \u001b[0mlr\u001b[0m \u001b[1;33m=\u001b[0m \u001b[0mnext\u001b[0m\u001b[1;33m(\u001b[0m\u001b[0mself\u001b[0m\u001b[1;33m.\u001b[0m\u001b[0mweights_regularizer\u001b[0m\u001b[1;33m)\u001b[0m \u001b[1;33m*\u001b[0m \u001b[0mloss_regularizer\u001b[0m\u001b[1;33m(\u001b[0m\u001b[0mparameters\u001b[0m\u001b[1;33m)\u001b[0m \u001b[1;33m/\u001b[0m \u001b[0mlength\u001b[0m\u001b[1;33m[\u001b[0m\u001b[1;34m'regularizer'\u001b[0m\u001b[1;33m]\u001b[0m\u001b[1;33m\u001b[0m\u001b[0m\n\u001b[0;32m    415\u001b[0m             \u001b[1;32mreturn\u001b[0m \u001b[0mld\u001b[0m \u001b[1;33m+\u001b[0m \u001b[0mlr\u001b[0m\u001b[1;33m\u001b[0m\u001b[0m\n",
      "\u001b[1;32m/home/stephan/GitProjects/theano_models/theano_models/loss.pyc\u001b[0m in \u001b[0;36mf\u001b[1;34m(num_params, *loss_inputs)\u001b[0m\n\u001b[0;32m    289\u001b[0m                 \u001b[1;32mdef\u001b[0m \u001b[0mh\u001b[0m\u001b[1;33m(\u001b[0m\u001b[1;33m*\u001b[0m\u001b[0minner_loss_inputs\u001b[0m\u001b[1;33m)\u001b[0m\u001b[1;33m:\u001b[0m\u001b[1;33m\u001b[0m\u001b[0m\n\u001b[0;32m    290\u001b[0m                     \u001b[1;32mreturn\u001b[0m \u001b[0mfoutput\u001b[0m\u001b[1;33m(\u001b[0m\u001b[1;33m*\u001b[0m\u001b[1;33m(\u001b[0m\u001b[0mnum_sub\u001b[0m \u001b[1;33m+\u001b[0m \u001b[0mlist\u001b[0m\u001b[1;33m(\u001b[0m\u001b[0minner_loss_inputs\u001b[0m\u001b[1;33m)\u001b[0m\u001b[1;33m)\u001b[0m\u001b[1;33m)\u001b[0m\u001b[1;33m\u001b[0m\u001b[0m\n\u001b[1;32m--> 291\u001b[1;33m                 \u001b[1;32mreturn\u001b[0m \u001b[0mbatch_mapreduce\u001b[0m\u001b[1;33m(\u001b[0m\u001b[0mh\u001b[0m\u001b[1;33m,\u001b[0m \u001b[1;33m*\u001b[0m\u001b[0mloss_inputs\u001b[0m\u001b[1;33m)\u001b[0m\u001b[1;33m\u001b[0m\u001b[0m\n\u001b[0m\u001b[0;32m    292\u001b[0m             \u001b[0mf\u001b[0m\u001b[1;33m.\u001b[0m\u001b[0mwrapped\u001b[0m \u001b[1;33m=\u001b[0m \u001b[0mfparam\u001b[0m\u001b[1;33m,\u001b[0m \u001b[0mfoutput\u001b[0m\u001b[1;33m\u001b[0m\u001b[0m\n\u001b[0;32m    293\u001b[0m \u001b[1;33m\u001b[0m\u001b[0m\n",
      "\u001b[1;32m/home/stephan/GitProjects/schlichtanders/schlichtanders/myfunctools.pyc\u001b[0m in \u001b[0;36msummap\u001b[1;34m(f, *batch_args)\u001b[0m\n\u001b[0;32m    106\u001b[0m     \u001b[1;31m# initialize correctly:\u001b[0m\u001b[1;33m\u001b[0m\u001b[1;33m\u001b[0m\u001b[0m\n\u001b[0;32m    107\u001b[0m     \u001b[1;32mtry\u001b[0m\u001b[1;33m:\u001b[0m\u001b[1;33m\u001b[0m\u001b[0m\n\u001b[1;32m--> 108\u001b[1;33m         \u001b[0msummed_up\u001b[0m \u001b[1;33m=\u001b[0m \u001b[0mf\u001b[0m\u001b[1;33m(\u001b[0m\u001b[1;33m*\u001b[0m\u001b[1;33m[\u001b[0m\u001b[0mnext\u001b[0m\u001b[1;33m(\u001b[0m\u001b[0ma\u001b[0m\u001b[1;33m)\u001b[0m \u001b[1;32mfor\u001b[0m \u001b[0ma\u001b[0m \u001b[1;32min\u001b[0m \u001b[0mbatch_args\u001b[0m\u001b[1;33m]\u001b[0m\u001b[1;33m)\u001b[0m  \u001b[1;31m# [] are essential as StopIteration is not handled intuitively\u001b[0m\u001b[1;33m\u001b[0m\u001b[0m\n\u001b[0m\u001b[0;32m    109\u001b[0m     \u001b[1;32mexcept\u001b[0m \u001b[0mStopIteration\u001b[0m\u001b[1;33m:\u001b[0m\u001b[1;33m\u001b[0m\u001b[0m\n\u001b[0;32m    110\u001b[0m         \u001b[1;32mraise\u001b[0m \u001b[0mValueError\u001b[0m\u001b[1;33m(\u001b[0m\u001b[1;34m\"empty args\"\u001b[0m\u001b[1;33m)\u001b[0m\u001b[1;33m\u001b[0m\u001b[0m\n",
      "\u001b[1;32m/home/stephan/GitProjects/theano_models/theano_models/loss.pyc\u001b[0m in \u001b[0;36mh\u001b[1;34m(*inner_loss_inputs)\u001b[0m\n\u001b[0;32m    288\u001b[0m                 \u001b[0mnum_sub\u001b[0m \u001b[1;33m=\u001b[0m \u001b[0mfparam\u001b[0m\u001b[1;33m(\u001b[0m\u001b[0mnum_params\u001b[0m\u001b[1;33m)\u001b[0m\u001b[1;33m\u001b[0m\u001b[0m\n\u001b[0;32m    289\u001b[0m                 \u001b[1;32mdef\u001b[0m \u001b[0mh\u001b[0m\u001b[1;33m(\u001b[0m\u001b[1;33m*\u001b[0m\u001b[0minner_loss_inputs\u001b[0m\u001b[1;33m)\u001b[0m\u001b[1;33m:\u001b[0m\u001b[1;33m\u001b[0m\u001b[0m\n\u001b[1;32m--> 290\u001b[1;33m                     \u001b[1;32mreturn\u001b[0m \u001b[0mfoutput\u001b[0m\u001b[1;33m(\u001b[0m\u001b[1;33m*\u001b[0m\u001b[1;33m(\u001b[0m\u001b[0mnum_sub\u001b[0m \u001b[1;33m+\u001b[0m \u001b[0mlist\u001b[0m\u001b[1;33m(\u001b[0m\u001b[0minner_loss_inputs\u001b[0m\u001b[1;33m)\u001b[0m\u001b[1;33m)\u001b[0m\u001b[1;33m)\u001b[0m\u001b[1;33m\u001b[0m\u001b[0m\n\u001b[0m\u001b[0;32m    291\u001b[0m                 \u001b[1;32mreturn\u001b[0m \u001b[0mbatch_mapreduce\u001b[0m\u001b[1;33m(\u001b[0m\u001b[0mh\u001b[0m\u001b[1;33m,\u001b[0m \u001b[1;33m*\u001b[0m\u001b[0mloss_inputs\u001b[0m\u001b[1;33m)\u001b[0m\u001b[1;33m\u001b[0m\u001b[0m\n\u001b[0;32m    292\u001b[0m             \u001b[0mf\u001b[0m\u001b[1;33m.\u001b[0m\u001b[0mwrapped\u001b[0m \u001b[1;33m=\u001b[0m \u001b[0mfparam\u001b[0m\u001b[1;33m,\u001b[0m \u001b[0mfoutput\u001b[0m\u001b[1;33m\u001b[0m\u001b[0m\n",
      "\u001b[1;32m/home/stephan/GitProjects/Theano/theano/compile/function_module.pyc\u001b[0m in \u001b[0;36m__call__\u001b[1;34m(self, *args, **kwargs)\u001b[0m\n\u001b[0;32m    860\u001b[0m         \u001b[1;32mtry\u001b[0m\u001b[1;33m:\u001b[0m\u001b[1;33m\u001b[0m\u001b[0m\n\u001b[0;32m    861\u001b[0m             \u001b[0moutputs\u001b[0m \u001b[1;33m=\u001b[0m\u001b[0;31m\\\u001b[0m\u001b[1;33m\u001b[0m\u001b[0m\n\u001b[1;32m--> 862\u001b[1;33m                 \u001b[0mself\u001b[0m\u001b[1;33m.\u001b[0m\u001b[0mfn\u001b[0m\u001b[1;33m(\u001b[0m\u001b[1;33m)\u001b[0m \u001b[1;32mif\u001b[0m \u001b[0moutput_subset\u001b[0m \u001b[1;32mis\u001b[0m \u001b[0mNone\u001b[0m \u001b[1;32melse\u001b[0m\u001b[0;31m\\\u001b[0m\u001b[1;33m\u001b[0m\u001b[0m\n\u001b[0m\u001b[0;32m    863\u001b[0m                 \u001b[0mself\u001b[0m\u001b[1;33m.\u001b[0m\u001b[0mfn\u001b[0m\u001b[1;33m(\u001b[0m\u001b[0moutput_subset\u001b[0m\u001b[1;33m=\u001b[0m\u001b[0moutput_subset\u001b[0m\u001b[1;33m)\u001b[0m\u001b[1;33m\u001b[0m\u001b[0m\n\u001b[0;32m    864\u001b[0m         \u001b[1;32mexcept\u001b[0m \u001b[0mException\u001b[0m\u001b[1;33m:\u001b[0m\u001b[1;33m\u001b[0m\u001b[0m\n",
      "\u001b[1;31mKeyboardInterrupt\u001b[0m: "
     ]
    }
   ],
   "source": [
    "test_results = eva.compute_test_results(\n",
    "    best_hyper, lambda hyper: experiment_util.load_and_preprocess_data(hyper.datasetname),\n",
    "    model_module_id=dataset_id, n_trials=2\n",
    ")"
   ]
  },
  {
   "cell_type": "markdown",
   "metadata": {},
   "source": [
    "# Sample the approximate posterior distribution for evaluation"
   ]
  },
  {
   "cell_type": "code",
   "execution_count": 89,
   "metadata": {
    "collapsed": false
   },
   "outputs": [
    {
     "data": {
      "text/plain": [
       "<module 'evaluation' from '/home/stephan/GitProjects/theano_models/experiment/__file__'>"
      ]
     },
     "execution_count": 89,
     "metadata": {},
     "output_type": "execute_result"
    }
   ],
   "source": [
    "reload(eva)"
   ]
  },
  {
   "cell_type": "code",
   "execution_count": 90,
   "metadata": {
    "collapsed": false
   },
   "outputs": [
    {
     "data": {
      "text/plain": [
       "array([ 0.51119044, -0.95695661, -1.05459447, ...,  0.70644078,\n",
       "        0.3328791 , -0.01993648])"
      ]
     },
     "execution_count": 90,
     "metadata": {},
     "output_type": "execute_result"
    }
   ],
   "source": [
    "best_hyper['best_val_loss']['planarflow'][2][1][0].planarflow_best_parameters"
   ]
  },
  {
   "cell_type": "code",
   "execution_count": 91,
   "metadata": {
    "collapsed": false
   },
   "outputs": [],
   "source": [
    "best_hyper_samples = eva.sample_best_hyper(best_hyper, model_module_id=dataset_id)"
   ]
  },
  {
   "cell_type": "markdown",
   "metadata": {},
   "source": [
    "## number of modes / histogram of modes"
   ]
  },
  {
   "cell_type": "code",
   "execution_count": 93,
   "metadata": {
    "collapsed": false
   },
   "outputs": [
    {
     "data": {
      "text/plain": [
       "defaultdict(<function evaluation.defaultdictdict>,\n",
       "            {'best_val_loss': defaultdict(dict,\n",
       "                         {'baseline': {1: Counter({1: 1501, 2: 1}),\n",
       "                           2: Counter({1: 1501, 2: 1}),\n",
       "                           3: Counter({1: 1502}),\n",
       "                           4: Counter({1: 1502}),\n",
       "                           8: Counter({1: 1502}),\n",
       "                           20: Counter({1: 1502})},\n",
       "                          'mixture': {1: Counter({1: 1502}),\n",
       "                           2: Counter({1: 1501, 2: 1}),\n",
       "                           3: Counter({1: 1474, 2: 24, 3: 4}),\n",
       "                           4: Counter({1: 1459, 2: 43}),\n",
       "                           8: Counter({1: 1497, 2: 5}),\n",
       "                           20: Counter({1: 1477, 2: 24, 3: 1})},\n",
       "                          'planarflow': {1: Counter({1: 1502}),\n",
       "                           2: Counter({1: 1502}),\n",
       "                           3: Counter({1: 1502}),\n",
       "                           4: Counter({1: 1502}),\n",
       "                           8: Counter({1: 1502})},\n",
       "                          'planarflowdet': {1: Counter({1: 1502}),\n",
       "                           2: Counter({1: 1502}),\n",
       "                           3: Counter({1: 1502}),\n",
       "                           4: Counter({1: 1501, 2: 1}),\n",
       "                           8: Counter({1: 1060, 2: 442}),\n",
       "                           20: Counter({1: 1502})},\n",
       "                          'radialflow': {1: Counter({1: 1502}),\n",
       "                           2: Counter({1: 1502}),\n",
       "                           3: Counter({1: 1502}),\n",
       "                           4: Counter({1: 1502}),\n",
       "                           8: Counter({1: 1501, 2: 1})},\n",
       "                          'radialflowdet': {1: Counter({1: 1502}),\n",
       "                           2: Counter({1: 1502}),\n",
       "                           3: Counter({1: 1502}),\n",
       "                           4: Counter({1: 1502}),\n",
       "                           8: Counter({1: 1502})}}),\n",
       "             'val_error_rate': defaultdict(dict,\n",
       "                         {'baseline': {1: Counter({1: 1502}),\n",
       "                           2: Counter({1: 1500, 2: 2}),\n",
       "                           3: Counter({1: 1501, 2: 1}),\n",
       "                           4: Counter({1: 1502}),\n",
       "                           8: Counter({1: 1502}),\n",
       "                           20: Counter({1: 1502})},\n",
       "                          'mixture': {1: Counter({1: 1501, 2: 1}),\n",
       "                           2: Counter({1: 1502}),\n",
       "                           3: Counter({1: 1472, 2: 29, 3: 1}),\n",
       "                           4: Counter({1: 1459, 2: 42, 3: 1}),\n",
       "                           8: Counter({1: 1495, 2: 7}),\n",
       "                           20: Counter({1: 1480, 2: 22})},\n",
       "                          'planarflow': {1: Counter({1: 1502}),\n",
       "                           2: Counter({1: 1501, 2: 1}),\n",
       "                           3: Counter({1: 1502}),\n",
       "                           4: Counter({1: 1502}),\n",
       "                           8: Counter({1: 1501, 2: 1})},\n",
       "                          'planarflowdet': {1: Counter({1: 1502}),\n",
       "                           2: Counter({1: 1502}),\n",
       "                           3: Counter({1: 1502}),\n",
       "                           4: Counter({1: 1501, 2: 1}),\n",
       "                           8: Counter({1: 1502}),\n",
       "                           20: Counter({1: 1500, 2: 2})},\n",
       "                          'radialflow': {1: Counter({1: 1502}),\n",
       "                           2: Counter({1: 1502}),\n",
       "                           3: Counter({1: 1502}),\n",
       "                           4: Counter({1: 1502}),\n",
       "                           8: Counter({1: 1502})},\n",
       "                          'radialflowdet': {1: Counter({1: 1502}),\n",
       "                           2: Counter({1: 1502}),\n",
       "                           3: Counter({1: 1502}),\n",
       "                           4: Counter({1: 1502}),\n",
       "                           8: Counter({1: 1502})}})})"
      ]
     },
     "execution_count": 93,
     "metadata": {},
     "output_type": "execute_result"
    }
   ],
   "source": [
    "nr_modes = eva.get_nr_modes(best_hyper_samples)\n",
    "nr_modes"
   ]
  },
  {
   "cell_type": "markdown",
   "metadata": {},
   "source": [
    "## Correlations between parameters"
   ]
  },
  {
   "cell_type": "code",
   "execution_count": null,
   "metadata": {
    "collapsed": false
   },
   "outputs": [],
   "source": [
    "reload(eva)"
   ]
  },
  {
   "cell_type": "code",
   "execution_count": null,
   "metadata": {
    "collapsed": false,
    "scrolled": true
   },
   "outputs": [],
   "source": [
    "correlations = eva.get_best_correlations(best_hyper_samples)"
   ]
  },
  {
   "cell_type": "raw",
   "metadata": {
    "collapsed": false
   },
   "source": [
    "for test in correlations:\n",
    "    for name in correlations[test]:\n",
    "        for nn in correlations[test][name]:\n",
    "            correlations[test][name][nn] = np.array(map(lambda a:a[0,1], correlations[test][name][nn]))"
   ]
  },
  {
   "cell_type": "code",
   "execution_count": null,
   "metadata": {
    "collapsed": false
   },
   "outputs": [],
   "source": [
    "\"\"\"\n",
    "Bar chart demo with pairs of bars grouped for easy comparison.\n",
    "\"\"\"\n",
    "import numpy as np\n",
    "import matplotlib.pyplot as plt\n",
    "\n",
    "\n",
    "n_groups = 5\n",
    "\n",
    "means_men = (20, 35, 30, 35, 27)\n",
    "std_men = (2, 3, 4, 1, 2)\n",
    "\n",
    "means_women = (25, 32, 34, 20, 25)\n",
    "std_women = (3, 5, 2, 3, 3)\n",
    "\n",
    "fig, ax = plt.subplots()\n",
    "\n",
    "index = np.arange(n_groups)\n",
    "bar_width = 0.35\n",
    "\n",
    "opacity = 0.4\n",
    "error_config = {'ecolor': '0.3'}\n",
    "\n",
    "rects1 = plt.bar(index, means_men, bar_width,\n",
    "                 alpha=opacity,\n",
    "                 color='b',\n",
    "                 yerr=std_men,\n",
    "                 error_kw=error_config,\n",
    "                 label='Men')\n",
    "\n",
    "rects2 = plt.bar(index + bar_width, means_women, bar_width,\n",
    "                 alpha=opacity,\n",
    "                 color='r',\n",
    "                 yerr=std_women,\n",
    "                 error_kw=error_config,\n",
    "                 label='Women')\n",
    "\n",
    "plt.xlabel('Group')\n",
    "plt.ylabel('Scores')\n",
    "plt.title('Scores by group and gender')\n",
    "plt.xticks(index + bar_width, ('A', 'B', 'C', 'D', 'E'))\n",
    "plt.legend()\n",
    "\n",
    "plt.tight_layout()"
   ]
  },
  {
   "cell_type": "code",
   "execution_count": null,
   "metadata": {
    "collapsed": true
   },
   "outputs": [],
   "source": [
    "from itertools import count as icount"
   ]
  },
  {
   "cell_type": "code",
   "execution_count": null,
   "metadata": {
    "collapsed": false
   },
   "outputs": [],
   "source": [
    "1/(len(n_normflows) +1)"
   ]
  },
  {
   "cell_type": "code",
   "execution_count": null,
   "metadata": {
    "collapsed": false
   },
   "outputs": [],
   "source": [
    "fig, ax = plt.subplots()\n",
    "\n",
    "index = np.arange(len(model_prefixes))\n",
    "bar_width = 1/(len(n_normflows) +1)\n",
    "\n",
    "opacity = 0.4\n",
    "error_config = {'ecolor': '0.3'}\n",
    "colors = [\"b\",\"g\",\"r\",\"c\",\"m\",\"y\",\"k\",\"w\"]\n",
    "\n",
    "\n",
    "for test in correlations:\n",
    "    for i, nn, c in zip(icount(), n_normflows, colors):\n",
    "        means = [abs(correlations[test][name][nn]).mean() for name in model_prefixes]\n",
    "        stds = [abs(correlations[test][name][nn]).std() for name in model_prefixes]\n",
    "        rect = plt.bar(index + i*bar_width, means, bar_width,\n",
    "                     alpha=opacity,\n",
    "                     color=c,\n",
    "                     yerr=stds,\n",
    "                     error_kw=error_config,\n",
    "                     label='normflow=%i' % nn)\n",
    "\n",
    "#     plt.xlabel('Group')\n",
    "    plt.ylabel('absolute correlations')\n",
    "    plt.title('Mean absolute correlations and standard deviations')\n",
    "    plt.xticks(index + bar_width*(len(n_normflows)//2), model_prefixes)\n",
    "    plt.legend()\n",
    "    plt.tight_layout()"
   ]
  },
  {
   "cell_type": "markdown",
   "metadata": {},
   "source": [
    "## KL divergence"
   ]
  },
  {
   "cell_type": "markdown",
   "metadata": {},
   "source": [
    "This must be computed on histograms, as we need an approximation for the densities/pms"
   ]
  },
  {
   "cell_type": "code",
   "execution_count": null,
   "metadata": {
    "collapsed": false
   },
   "outputs": [],
   "source": [
    "reload(eva)"
   ]
  },
  {
   "cell_type": "code",
   "execution_count": null,
   "metadata": {
    "collapsed": false
   },
   "outputs": [],
   "source": [
    "best_kl = eva.compute_kl(best_hyper_samples)"
   ]
  },
  {
   "cell_type": "code",
   "execution_count": null,
   "metadata": {
    "collapsed": false
   },
   "outputs": [],
   "source": [
    "def add_colorbar(ax, h):\n",
    "    divider = make_axes_locatable(ax)\n",
    "    cax = divider.append_axes(\"right\", size=\"10%\", pad=0.15)\n",
    "    cbar = plt.colorbar(h, cax=cax)\n",
    "    \n",
    "for nn in n_normflows:\n",
    "    means = np.mean(best_kl['best_val_loss'][nn], axis=0)\n",
    "    variances = np.var(best_kl['best_val_loss'][nn], axis=0)\n",
    "\n",
    "    fig, axs = plt.subplots(ncols=2)\n",
    "    h = axs[0].imshow(means, interpolation=\"None\", cmap=plt.cm.RdBu_r, norm=Centre(0))\n",
    "    axs[0].set_title(\"mean\")\n",
    "    add_colorbar(axs[0], h)\n",
    "\n",
    "    h = axs[1].imshow(variances, interpolation=\"None\", cmap=plt.cm.gray_r, norm=LogNorm())\n",
    "    axs[1].set_title(\"variance\")\n",
    "    add_colorbar(axs[1], h)\n",
    "    for ax in axs:\n",
    "        ax.grid(False)\n",
    "    fig.suptitle(\"#normflows = %i\" %nn, fontsize=20, y=0.90)\n",
    "    fig.tight_layout()\n",
    "    # Make space for title\n",
    "#     plt.subplots_adjust(top=0.85)"
   ]
  },
  {
   "cell_type": "code",
   "execution_count": null,
   "metadata": {
    "collapsed": true
   },
   "outputs": [],
   "source": []
  }
 ],
 "metadata": {
  "kernelspec": {
   "display_name": "Python 2",
   "language": "python",
   "name": "python2"
  },
  "language_info": {
   "codemirror_mode": {
    "name": "ipython",
    "version": 2
   },
   "file_extension": ".py",
   "mimetype": "text/x-python",
   "name": "python",
   "nbconvert_exporter": "python",
   "pygments_lexer": "ipython2",
   "version": "2.7.6"
  },
  "toc": {
   "toc_cell": false,
   "toc_number_sections": true,
   "toc_threshold": 4,
   "toc_window_display": false
  }
 },
 "nbformat": 4,
 "nbformat_minor": 0
}
