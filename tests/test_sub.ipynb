{
 "cells": [
  {
   "cell_type": "code",
   "execution_count": 1,
   "metadata": {
    "collapsed": false
   },
   "outputs": [],
   "source": [
    "import theano\n",
    "import theano.tensor as T\n",
    "import theano_models as tm\n",
    "theano.compile.optdb.__position__\n",
    "from schlichtanders.mylists import remove_duplicates, deflatten\n",
    "\n",
    "from theano.tensor.elemwise import Elemwise\n",
    "from theano import scalar\n",
    "from theano.tensor.shared_randomstreams import RandomStreams"
   ]
  },
  {
   "cell_type": "code",
   "execution_count": 2,
   "metadata": {
    "collapsed": false
   },
   "outputs": [],
   "source": [
    "# first step like OpFromGraph\n",
    "from theano.compile import SharedVariable, rebuild_collect_shared\n",
    "from theano import gof\n",
    "from itertools import izip\n",
    "from theano.printing import debugprint as dp"
   ]
  },
  {
   "cell_type": "code",
   "execution_count": 3,
   "metadata": {
    "collapsed": false
   },
   "outputs": [],
   "source": [
    "rng = RandomStreams()"
   ]
  },
  {
   "cell_type": "code",
   "execution_count": 4,
   "metadata": {
    "collapsed": false
   },
   "outputs": [
    {
     "name": "stdout",
     "output_type": "stream",
     "text": [
      "Elemwise{add,no_inplace} [id A] 'o'   \n",
      " |Elemwise{add,no_inplace} [id B] ''   \n",
      " | |a [id C]\n",
      " | |Elemwise{add,no_inplace} [id D] ''   \n",
      " |   |Elemwise{add,no_inplace} [id E] ''   \n",
      " |   | |Elemwise{mul,no_inplace} [id F] ''   \n",
      " |   | | |TensorConstant{2} [id G]\n",
      " |   | | |a [id C]\n",
      " |   | |b [id H]\n",
      " |   |RandomFunction{random_integers_helper}.1 [id I] 'r'   \n",
      " |     |<RandomStateType> [id J]\n",
      " |     |Shape [id K] ''   \n",
      " |     | |Elemwise{add,no_inplace} [id L] ''   \n",
      " |     |   |TensorConstant{0} [id M]\n",
      " |     |   |TensorConstant{1} [id N]\n",
      " |     |TensorConstant{0} [id M]\n",
      " |     |TensorConstant{1} [id N]\n",
      " |Elemwise{add,no_inplace} [id O] ''   \n",
      "   |a [id C]\n",
      "   |Elemwise{add,no_inplace} [id P] ''   \n",
      "     |Elemwise{mul,no_inplace} [id Q] ''   \n",
      "     | |TensorConstant{2} [id G]\n",
      "     | |a [id C]\n",
      "     |Elemwise{add,no_inplace} [id R] ''   \n",
      "       |Elemwise{add,no_inplace} [id S] ''   \n",
      "       | |b [id H]\n",
      "       | |b [id H]\n",
      "       |RandomFunction{random_integers_helper}.1 [id I] 'r'   \n",
      "RandomFunction{random_integers_helper}.1 [id A] 'r'   \n",
      " |<RandomStateType> [id B]\n",
      " |Shape [id C] ''   \n",
      " | |Elemwise{add,no_inplace} [id D] ''   \n",
      " |   |TensorConstant{0} [id E]\n",
      " |   |TensorConstant{1} [id F]\n",
      " |TensorConstant{0} [id E]\n",
      " |TensorConstant{1} [id F]\n"
     ]
    }
   ],
   "source": [
    "inputs = a, b = T.scalars(\"ab\")\n",
    "r = rng.random_integers()\n",
    "r.name = \"r\"\n",
    "output = o = a + (2*a + b + r) + (a+(2*a+(b+b+r)))\n",
    "output.name = \"o\"\n",
    "dp(output)\n",
    "\n",
    "noise_source = tm.list_random_sources(r)\n",
    "dp(noise_source)"
   ]
  },
  {
   "cell_type": "markdown",
   "metadata": {},
   "source": [
    "---"
   ]
  },
  {
   "cell_type": "raw",
   "metadata": {
    "collapsed": false
   },
   "source": [
    "ninputs, noutputs = tm.graphopt_merge_add_mul(noise_source + inputs, [output])"
   ]
  },
  {
   "cell_type": "raw",
   "metadata": {
    "collapsed": false
   },
   "source": [
    "ninputs"
   ]
  },
  {
   "cell_type": "raw",
   "metadata": {
    "collapsed": false
   },
   "source": [
    "split = 2\n",
    "sub, sub2 = tm.independent_subgraphs(ninputs[:split], ninputs[split:], noutputs)"
   ]
  },
  {
   "cell_type": "raw",
   "metadata": {
    "collapsed": true
   },
   "source": [
    "nsub = tm.independent_subgraphs_extend_add_mul(sub)"
   ]
  },
  {
   "cell_type": "raw",
   "metadata": {
    "collapsed": false
   },
   "source": [
    "theano.printing.debugprint(noutputs[0])\n",
    "print\n",
    "theano.printing.debugprint(nsub[0])"
   ]
  },
  {
   "cell_type": "markdown",
   "metadata": {},
   "source": [
    "---"
   ]
  },
  {
   "cell_type": "markdown",
   "metadata": {},
   "source": [
    "## Problem: random numbers get deleted by substitution (in general by graph copy, e.g. done by FunctionGraph).\n",
    "\n",
    "Solution: replace random variables twice, once for graph simplification and then again for function generation (as this is for numericalize)"
   ]
  },
  {
   "cell_type": "markdown",
   "metadata": {},
   "source": [
    "### first replace for graph visualization"
   ]
  },
  {
   "cell_type": "code",
   "execution_count": 5,
   "metadata": {
    "collapsed": true
   },
   "outputs": [],
   "source": [
    "outputs = [output]"
   ]
  },
  {
   "cell_type": "code",
   "execution_count": 6,
   "metadata": {
    "collapsed": false
   },
   "outputs": [],
   "source": [
    "def is_rng(var):\n",
    "    return hasattr(var, 'rng')\n",
    "\n",
    "noise_source = tm.list_random_sources(outputs)\n",
    "ninputs, noutputs, givens = tm.rebuild_graph(noise_source + inputs, [output], tm.graphopt_merge_add_mul)\n",
    "nnoise, ninputs = deflatten(ninputs, [noise_source, inputs])"
   ]
  },
  {
   "cell_type": "code",
   "execution_count": 7,
   "metadata": {
    "collapsed": false
   },
   "outputs": [
    {
     "name": "stdout",
     "output_type": "stream",
     "text": [
      "a [id A]\n",
      "b [id B]\n",
      "<TensorType(int64, scalar)> [id C]\n",
      "Elemwise{add,no_inplace} [id D] ''   \n",
      " |a [id A]\n",
      " |a [id A]\n",
      " |Elemwise{mul,no_inplace} [id E] ''   \n",
      " | |TensorConstant{2.0} [id F]\n",
      " | |a [id A]\n",
      " |<TensorType(int64, scalar)> [id C]\n",
      " |Elemwise{mul,no_inplace} [id E] ''   \n",
      " |b [id B]\n",
      " |<TensorType(int64, scalar)> [id C]\n",
      " |b [id B]\n",
      " |b [id B]\n"
     ]
    }
   ],
   "source": [
    "dp(ninputs + nnoise + noutputs)"
   ]
  },
  {
   "cell_type": "markdown",
   "metadata": {},
   "source": [
    "small test how clone would work:"
   ]
  },
  {
   "cell_type": "code",
   "execution_count": 8,
   "metadata": {
    "collapsed": true
   },
   "outputs": [],
   "source": [
    "r_noutputs = theano.clone(noutputs, replace=givens)\n",
    "r_nnoise = [givens[r] if r in givens else r for r in nnoise]"
   ]
  },
  {
   "cell_type": "code",
   "execution_count": 10,
   "metadata": {
    "collapsed": false
   },
   "outputs": [
    {
     "name": "stdout",
     "output_type": "stream",
     "text": [
      "a [id A]\n",
      "b [id B]\n",
      "RandomFunction{random_integers_helper}.1 [id C] 'r'   \n",
      " |<RandomStateType> [id D]\n",
      " |Shape [id E] ''   \n",
      " | |Elemwise{add,no_inplace} [id F] ''   \n",
      " |   |TensorConstant{0} [id G]\n",
      " |   |TensorConstant{1} [id H]\n",
      " |TensorConstant{0} [id G]\n",
      " |TensorConstant{1} [id H]\n",
      "Elemwise{add,no_inplace} [id I] ''   \n",
      " |a [id A]\n",
      " |a [id A]\n",
      " |Elemwise{mul,no_inplace} [id J] ''   \n",
      " | |TensorConstant{2.0} [id K]\n",
      " | |a [id A]\n",
      " |RandomFunction{random_integers_helper}.1 [id L] 'r'   \n",
      " | |<RandomStateType> [id D]\n",
      " | |Shape [id M] ''   \n",
      " | | |Elemwise{add,no_inplace} [id N] ''   \n",
      " | |   |TensorConstant{0} [id G]\n",
      " | |   |TensorConstant{1} [id H]\n",
      " | |TensorConstant{0} [id G]\n",
      " | |TensorConstant{1} [id H]\n",
      " |Elemwise{mul,no_inplace} [id J] ''   \n",
      " |b [id B]\n",
      " |RandomFunction{random_integers_helper}.1 [id L] 'r'   \n",
      " |b [id B]\n",
      " |b [id B]\n"
     ]
    }
   ],
   "source": [
    "dp(ninputs + r_nnoise + r_noutputs)"
   ]
  },
  {
   "cell_type": "markdown",
   "metadata": {},
   "source": [
    "As you can see the random variable is not replaced but copied  -  this is useless behaviour. For me it seems like another theano bug"
   ]
  },
  {
   "cell_type": "raw",
   "metadata": {
    "collapsed": true
   },
   "source": [
    "clone_d, update_d, update_expr, _shared_inputs = extras\n",
    "assert len(new_inputs) == len(inputs) + len(shared_inputs)\n",
    "assert len(new_outputs) == len(outputs)\n",
    "assert not update_d\n",
    "assert not update_expr\n",
    "assert not _shared_inputs"
   ]
  },
  {
   "cell_type": "code",
   "execution_count": null,
   "metadata": {
    "collapsed": false
   },
   "outputs": [],
   "source": [
    "split = 1\n",
    "sub, sub2 = tm.independent_subgraphs(ninputs[:split] ,nnoise+ ninputs[split:], noutputs)"
   ]
  },
  {
   "cell_type": "code",
   "execution_count": null,
   "metadata": {
    "collapsed": false
   },
   "outputs": [],
   "source": [
    "sub, len(sub)"
   ]
  },
  {
   "cell_type": "code",
   "execution_count": null,
   "metadata": {
    "collapsed": false
   },
   "outputs": [],
   "source": [
    "nsub = tm.independent_subgraphs_extend_add_mul(sub)\n",
    "nsub"
   ]
  },
  {
   "cell_type": "code",
   "execution_count": null,
   "metadata": {
    "collapsed": false
   },
   "outputs": [],
   "source": [
    "dp(ninputs[split:] + nsub + noutputs)"
   ]
  },
  {
   "cell_type": "markdown",
   "metadata": {
    "collapsed": true
   },
   "source": [
    "### second step just by using theano.function(... givens=...)"
   ]
  },
  {
   "cell_type": "markdown",
   "metadata": {},
   "source": [
    "Note that the random numbers are executed everywhere where givens was given, even if there is no random number in the subtree. This is another bug of theano."
   ]
  },
  {
   "cell_type": "code",
   "execution_count": null,
   "metadata": {
    "collapsed": false
   },
   "outputs": [],
   "source": [
    "f_direct = theano.function(ninputs, noutputs, givens=givens)\n",
    "f_sub = theano.function(ninputs[:split], nsub, givens=givens)\n",
    "f_out = theano.function(ninputs[split:] + nsub, noutputs, givens=givens)"
   ]
  },
  {
   "cell_type": "code",
   "execution_count": null,
   "metadata": {
    "collapsed": false
   },
   "outputs": [],
   "source": [
    "dp(f_out.maker.outputs)"
   ]
  },
  {
   "cell_type": "code",
   "execution_count": null,
   "metadata": {
    "collapsed": false
   },
   "outputs": [],
   "source": [
    "f_direct(2,5)"
   ]
  },
  {
   "cell_type": "code",
   "execution_count": null,
   "metadata": {
    "collapsed": false
   },
   "outputs": [],
   "source": [
    "f_out(5, *f_sub(2))"
   ]
  },
  {
   "cell_type": "code",
   "execution_count": null,
   "metadata": {
    "collapsed": false
   },
   "outputs": [],
   "source": [
    "n_sub = f_sub(2)\n",
    "n_sub"
   ]
  },
  {
   "cell_type": "code",
   "execution_count": null,
   "metadata": {
    "collapsed": false
   },
   "outputs": [],
   "source": [
    "f_out(5, *n_sub)"
   ]
  },
  {
   "cell_type": "markdown",
   "metadata": {},
   "source": [
    "Everything seems to work now.\n",
    "\n",
    "Mind the final trick was to apply almost all optimizations (which works as merging adds/muls is one of the very last optimization steps, done before merging other elemwise operations)"
   ]
  }
 ],
 "metadata": {
  "kernelspec": {
   "display_name": "Python 2",
   "language": "python",
   "name": "python2"
  },
  "language_info": {
   "codemirror_mode": {
    "name": "ipython",
    "version": 2
   },
   "file_extension": ".py",
   "mimetype": "text/x-python",
   "name": "python",
   "nbconvert_exporter": "python",
   "pygments_lexer": "ipython2",
   "version": "2.7.6"
  },
  "toc": {
   "toc_cell": false,
   "toc_number_sections": true,
   "toc_threshold": 4,
   "toc_window_display": false
  }
 },
 "nbformat": 4,
 "nbformat_minor": 0
}
