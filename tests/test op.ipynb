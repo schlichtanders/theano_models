{
 "cells": [
  {
   "cell_type": "code",
   "execution_count": 1,
   "metadata": {
    "collapsed": false
   },
   "outputs": [],
   "source": [
    "import theano\n",
    "\n",
    "class AXPBOp(theano.Op):\n",
    "    \"\"\"\n",
    "    This creates an Op that takes x to a*x+b.\n",
    "    \"\"\"\n",
    "    __props__ = (\"a\", \"b\")\n",
    "\n",
    "    def __init__(self, a, b):\n",
    "        self.a = a\n",
    "        self.b = b\n",
    "        super(AXPBOp, self).__init__()\n",
    "\n",
    "    def make_node(self, x):\n",
    "        # check that the theano version has support for __props__.\n",
    "        assert hasattr(self, '_props'), (\"Your version of theano is too\"\n",
    "                                         \"old to support __props__.\")\n",
    "        x = theano.tensor.as_tensor_variable(x)\n",
    "        return theano.Apply(self, [x], [x.type()])\n",
    "\n",
    "    def perform(self, node, inputs, output_storage):\n",
    "        x = inputs[0]\n",
    "        z = output_storage[0]\n",
    "        z[0] = self.a * x + self.b\n",
    "\n",
    "    def infer_shape(self, node, i0_shapes):\n",
    "        return i0_shapes\n",
    "\n",
    "    def grad(self, inputs, output_grads):\n",
    "        return [a * output_grads[0] + b]"
   ]
  },
  {
   "cell_type": "code",
   "execution_count": 2,
   "metadata": {
    "collapsed": false
   },
   "outputs": [
    {
     "name": "stdout",
     "output_type": "stream",
     "text": [
      "{'b8736340980489': 8736288375301, 'Elemwise{add,no_inplace}(a, b)8736288412021': 8736288373245, 'Elemwise{log,no_inplace}.08736288412085': 8736288375309, 'Elemwise{add,no_inplace}.08736288412037': 8736288375305, 'Sum{acc_dtype=float64}(Elemwise{log,no_inplace}.0)8736288373225': 8736288373237, 'a8736340980733': 8736288373233, 'c8736288412097': 8736288375313, 'Elemwise{log,no_inplace}(Elemwise{add,no_inplace}.0)8736288412069': 8736288373241}\n"
     ]
    }
   ],
   "source": [
    "import theano.tensor as T\n",
    "\n",
    "a = T.dvector(name=\"a\")\n",
    "b = T.dvector(name=\"b\")\n",
    "c = T.sum(T.log(a + b))\n",
    "c.name=\"c\"\n",
    "\n",
    "op = theano.OpFromGraph([a], [c])"
   ]
  },
  {
   "cell_type": "code",
   "execution_count": 3,
   "metadata": {
    "collapsed": false
   },
   "outputs": [],
   "source": [
    "d = T.dvector(name=\"d\")\n",
    "result = op(d)\n",
    "result.name=\"results\""
   ]
  },
  {
   "cell_type": "code",
   "execution_count": 4,
   "metadata": {
    "collapsed": false
   },
   "outputs": [
    {
     "name": "stdout",
     "output_type": "stream",
     "text": [
      "[8736340980733, 8736340980489, 8736288412097, 8736340977325]\n"
     ]
    }
   ],
   "source": [
    "print map(hash, [a,b,c,d])"
   ]
  },
  {
   "cell_type": "code",
   "execution_count": 5,
   "metadata": {
    "collapsed": false
   },
   "outputs": [
    {
     "name": "stdout",
     "output_type": "stream",
     "text": [
      "{'node': <theano.compile.builders.OpFromGraph object at 0x7f2135e11a90>(d), 'f': (<frame object at 0x2153130>, '/home/stephan/GitProjects/Theano/theano/compile/builders.py', 130, 'make_thunk', ['        for f in inspect.stack():\\n'], 0), 'self': <theano.compile.builders.OpFromGraph object at 0x7f2135e11a90>, 'storage_map': {b: [None], d: [None], results: [None]}, 'no_recycling': set([results]), 'compute_map': {b: [True], d: [True], results: [False]}}\n",
      "\n",
      "{'node': <theano.compile.builders.OpFromGraph object at 0x7f2135e11a90>(d), 'profiler': None, 'fgraph': [<theano.compile.builders.OpFromGraph object at 0x7f2135e11a90>(d)], 'thunks': [], 'k': results, 'order': [<theano.compile.builders.OpFromGraph object at 0x7f2135e11a90>(d)], 'self': <theano.gof.vm.VM_Linker object at 0x7f2168026550>, 'dependencies': {b: [], d: [], results: []}, 'storage_map': {b: [None], d: [None], results: [None]}, 'var': d, 'compute_map_re': defaultdict(<function <lambda> at 0x7f2135ce8e60>, {b: [1], d: [1], results: [1]}), 'output_storage': [[None]], 'input_storage': [[None], [None]], 'reallocated_info': {}, 'no_recycling': set([results]), 'compute_map': {b: [True], d: [True], results: [False]}}\n",
      "\n",
      "{'self': <theano.gof.vm.VM_Linker object at 0x7f2168026550>, 'output_storage': None, 'input_storage': [[None], [None]], 'storage_map': None}\n",
      "\n",
      "{'trustme': False, 'refeed': False, 'input_storage_lists': [[None], [None]], 'i': 1, 'input_storage_i': None, 'self': <theano.compile.function_module.FunctionMaker object at 0x7f2135d82990>, 'required': True, 'storage': None, 'input_storage': [None, None], 'defaults': [(True, False, None), (True, False, None)], 'start_import_time': 0, 'start_linker': 1464977187.463682, 'storage_map': None, 'indices': None, 'input': In(d), 'subinputs': [In(d)], 'limit_orig': 8}\n",
      "\n",
      "{'profile': False, 'inputs': [In(b), In(d)], 'output_keys': None, 'outputs': Out(results,False), 't1': 1464977187.319537, 'on_unused_input': 'warn', 'accept_inplace': False, 'defaults': [None, None], 'input': In(d), 'mode': <theano.compile.mode.Mode object at 0x7f2135d82810>, 'Maker': <class 'theano.compile.function_module.FunctionMaker'>, 'name': '<ipython-input-5-44613c6b0f10>:1'}\n",
      "\n",
      "{'givens': [], 'cloned_extended_outputs': [results], 'output_keys': None, 'cloned_outputs': results, 'iv': d, 'rebuild_strict': True, 'no_default_updates': False, 'update_d': {}, 'extended_outputs': [results], 'input_variables': [b, d], 'additional_outputs': [], 'in_variables': [b, d], 'on_unused_input': 'warn', 'params': [b, d], 'clone_d': {b: b, results: results, d: d, <theano.compile.builders.OpFromGraph object at 0x7f2135e11a90>(d): <theano.compile.builders.OpFromGraph object at 0x7f2135e11a90>(d)}, 'out_list': [results], 'in_var_set': set([b, d]), 'output_vars': ([b, d], [results], [{b: b, results: results, d: d, <theano.compile.builders.OpFromGraph object at 0x7f2135e11a90>(d): <theano.compile.builders.OpFromGraph object at 0x7f2135e11a90>(d)}, {}, [], []]), 'other_stuff': [{b: b, results: results, d: d, <theano.compile.builders.OpFromGraph object at 0x7f2135e11a90>(d): <theano.compile.builders.OpFromGraph object at 0x7f2135e11a90>(d)}, {}, [], []], 'mode': None, 'profile': False, 'inputs': [In(b), In(d)], 'givens_pairs': [], 'outputs': results, 'allow_input_downcast': None, 'updates': [], 'input': In(d), 'update_expr': [], 'name': '<ipython-input-5-44613c6b0f10>:1', 'i': In(d), 'p': d, 'shared_inputs': [], 'accept_inplace': False, 'v': d}\n",
      "clone_d {'results8736340977321': 8736288375441, 'd8736340977325': 8736340977325, 'b8736340980489': 8736340980489, '<theano.compile.builders.OpFromGraph object at 0x7f2135e11a90>(d)8736340977329': 8736288375437}\n",
      "\n",
      "{'givens': [], 'output_keys': None, 'rebuild_strict': True, 'source_file': '/home/stephan/GitProjects/Theano/theano/compile/function.py', 'compiled_file': '/home/stephan/GitProjects/Theano/theano/compile/function.pyc', 'no_default_updates': False, 'last_frame': ('/home/stephan/GitProjects/Theano/theano/compile/function.py', 247, 'function', 'stack = tb.extract_stack()'), 'on_unused_input': 'warn', 'uses_givens': False, 'func_frame': ('<ipython-input-5-44613c6b0f10>', 1, '<module>', u'f = theano.function([b, d], result, on_unused_input=\"warn\")'), 'accept_inplace': False, 'profile': None, 'inputs': [b, d], 'outputs': results, 'check_for_aliased_inputs': False, 'allow_input_downcast': None, 'updates': [], 'uses_tuple': False, 'stack': [('/usr/lib/python2.7/runpy.py', 162, '_run_module_as_main', '\"__main__\", fname, loader, pkg_name)'), ('/usr/lib/python2.7/runpy.py', 72, '_run_code', 'exec code in run_globals'), ('/usr/local/lib/python2.7/dist-packages/ipykernel/__main__.py', 3, '<module>', 'app.launch_new_instance()'), ('/usr/local/lib/python2.7/dist-packages/traitlets/config/application.py', 592, 'launch_instance', 'app.start()'), ('/usr/local/lib/python2.7/dist-packages/ipykernel/kernelapp.py', 403, 'start', 'ioloop.IOLoop.instance().start()'), ('/usr/local/lib/python2.7/dist-packages/zmq/eventloop/ioloop.py', 162, 'start', 'super(ZMQIOLoop, self).start()'), ('/usr/local/lib/python2.7/dist-packages/tornado/ioloop.py', 866, 'start', 'handler_func(fd_obj, events)'), ('/usr/local/lib/python2.7/dist-packages/tornado/stack_context.py', 275, 'null_wrapper', 'return fn(*args, **kwargs)'), ('/usr/local/lib/python2.7/dist-packages/zmq/eventloop/zmqstream.py', 440, '_handle_events', 'self._handle_recv()'), ('/usr/local/lib/python2.7/dist-packages/zmq/eventloop/zmqstream.py', 472, '_handle_recv', 'self._run_callback(callback, msg)'), ('/usr/local/lib/python2.7/dist-packages/zmq/eventloop/zmqstream.py', 414, '_run_callback', 'callback(*args, **kwargs)'), ('/usr/local/lib/python2.7/dist-packages/tornado/stack_context.py', 275, 'null_wrapper', 'return fn(*args, **kwargs)'), ('/usr/local/lib/python2.7/dist-packages/ipykernel/kernelbase.py', 260, 'dispatcher', 'return self.dispatch_shell(stream, msg)'), ('/usr/local/lib/python2.7/dist-packages/ipykernel/kernelbase.py', 212, 'dispatch_shell', 'handler(stream, idents, msg)'), ('/usr/local/lib/python2.7/dist-packages/ipykernel/kernelbase.py', 370, 'execute_request', 'user_expressions, allow_stdin)'), ('/usr/local/lib/python2.7/dist-packages/ipykernel/ipkernel.py', 175, 'do_execute', 'shell.run_cell(code, store_history=store_history, silent=silent)'), ('/usr/local/lib/python2.7/dist-packages/IPython/core/interactiveshell.py', 2902, 'run_cell', 'interactivity=interactivity, compiler=compiler, result=result)'), ('/usr/local/lib/python2.7/dist-packages/IPython/core/interactiveshell.py', 3006, 'run_ast_nodes', 'if self.run_code(code, result):'), ('/usr/local/lib/python2.7/dist-packages/IPython/core/interactiveshell.py', 3066, 'run_code', 'exec(code_obj, self.user_global_ns, self.user_ns)'), ('<ipython-input-5-44613c6b0f10>', 1, '<module>', u'f = theano.function([b, d], result, on_unused_input=\"warn\")'), ('/home/stephan/GitProjects/Theano/theano/compile/function.py', 247, 'function', 'stack = tb.extract_stack()')], 'uses_updates': False, 'name': '<ipython-input-5-44613c6b0f10>:1', 'idx': 20, 'i': d, 'mode': None}\n",
      "\n",
      "{'_dh': [u'/home/stephan/GitProjects/theano_models/examples'], '__': '', '__builtin__': <module '__builtin__' (built-in)>, 'result': results, 'quit': <IPython.core.autocall.ZMQExitAutocall object at 0x7f216bdb0f10>, '_i5': u'f = theano.function([b, d], result, on_unused_input=\"warn\")', '_i4': u'print map(hash, [a,b,c,d])', '_i3': u'd = T.dvector(name=\"d\")\\nresult = op(d)\\nresult.name=\"results\"', '_i2': u'import theano.tensor as T\\n\\na = T.dvector(name=\"a\")\\nb = T.dvector(name=\"b\")\\nc = T.sum(T.log(a + b))\\nc.name=\"c\"\\n\\nop = theano.OpFromGraph([a], [c])', '_i1': u'import theano\\n\\nclass AXPBOp(theano.Op):\\n    \"\"\"\\n    This creates an Op that takes x to a*x+b.\\n    \"\"\"\\n    __props__ = (\"a\", \"b\")\\n\\n    def __init__(self, a, b):\\n        self.a = a\\n        self.b = b\\n        super(AXPBOp, self).__init__()\\n\\n    def make_node(self, x):\\n        # check that the theano version has support for __props__.\\n        assert hasattr(self, \\'_props\\'), (\"Your version of theano is too\"\\n                                         \"old to support __props__.\")\\n        x = theano.tensor.as_tensor_variable(x)\\n        return theano.Apply(self, [x], [x.type()])\\n\\n    def perform(self, node, inputs, output_storage):\\n        x = inputs[0]\\n        z = output_storage[0]\\n        z[0] = self.a * x + self.b\\n\\n    def infer_shape(self, node, i0_shapes):\\n        return i0_shapes\\n\\n    def grad(self, inputs, output_grads):\\n        return [a * output_grads[0] + b]', '__package__': None, 'exit': <IPython.core.autocall.ZMQExitAutocall object at 0x7f216bdb0f10>, 'get_ipython': <bound method ZMQInteractiveShell.get_ipython of <ipykernel.zmqshell.ZMQInteractiveShell object at 0x7f216bd8fed0>>, '_i': u'print map(hash, [a,b,c,d])', '__doc__': 'Automatically created module for IPython interactive environment', '__warningregistry__': {(\"theano.function was asked to create a function computing outputs given certain inputs, but the provided input variable at index 0 is not part of the computational graph needed to compute the outputs: b.\\nTo make this warning into an error, you can pass the parameter on_unused_input='raise' to theano.function. To disable it completely, use on_unused_input='ignore'.\", <type 'exceptions.UserWarning'>, 1): True}, '__builtins__': <module '__builtin__' (built-in)>, '_ih': ['', u'import theano\\n\\nclass AXPBOp(theano.Op):\\n    \"\"\"\\n    This creates an Op that takes x to a*x+b.\\n    \"\"\"\\n    __props__ = (\"a\", \"b\")\\n\\n    def __init__(self, a, b):\\n        self.a = a\\n        self.b = b\\n        super(AXPBOp, self).__init__()\\n\\n    def make_node(self, x):\\n        # check that the theano version has support for __props__.\\n        assert hasattr(self, \\'_props\\'), (\"Your version of theano is too\"\\n                                         \"old to support __props__.\")\\n        x = theano.tensor.as_tensor_variable(x)\\n        return theano.Apply(self, [x], [x.type()])\\n\\n    def perform(self, node, inputs, output_storage):\\n        x = inputs[0]\\n        z = output_storage[0]\\n        z[0] = self.a * x + self.b\\n\\n    def infer_shape(self, node, i0_shapes):\\n        return i0_shapes\\n\\n    def grad(self, inputs, output_grads):\\n        return [a * output_grads[0] + b]', u'import theano.tensor as T\\n\\na = T.dvector(name=\"a\")\\nb = T.dvector(name=\"b\")\\nc = T.sum(T.log(a + b))\\nc.name=\"c\"\\n\\nop = theano.OpFromGraph([a], [c])', u'd = T.dvector(name=\"d\")\\nresult = op(d)\\nresult.name=\"results\"', u'print map(hash, [a,b,c,d])', u'f = theano.function([b, d], result, on_unused_input=\"warn\")'], 'AXPBOp': <class '__main__.AXPBOp'>, 'T': <module 'theano.tensor' from '/home/stephan/GitProjects/Theano/theano/tensor/__init__.pyc'>, '__name__': '__main__', '___': '', '_': '', 'a': a, '_sh': <module 'IPython.core.shadowns' from '/usr/local/lib/python2.7/dist-packages/IPython/core/shadowns.pyc'>, 'c': c, 'b': b, 'd': d, '_iii': u'import theano.tensor as T\\n\\na = T.dvector(name=\"a\")\\nb = T.dvector(name=\"b\")\\nc = T.sum(T.log(a + b))\\nc.name=\"c\"\\n\\nop = theano.OpFromGraph([a], [c])', '_ii': u'd = T.dvector(name=\"d\")\\nresult = op(d)\\nresult.name=\"results\"', 'In': ['', u'import theano\\n\\nclass AXPBOp(theano.Op):\\n    \"\"\"\\n    This creates an Op that takes x to a*x+b.\\n    \"\"\"\\n    __props__ = (\"a\", \"b\")\\n\\n    def __init__(self, a, b):\\n        self.a = a\\n        self.b = b\\n        super(AXPBOp, self).__init__()\\n\\n    def make_node(self, x):\\n        # check that the theano version has support for __props__.\\n        assert hasattr(self, \\'_props\\'), (\"Your version of theano is too\"\\n                                         \"old to support __props__.\")\\n        x = theano.tensor.as_tensor_variable(x)\\n        return theano.Apply(self, [x], [x.type()])\\n\\n    def perform(self, node, inputs, output_storage):\\n        x = inputs[0]\\n        z = output_storage[0]\\n        z[0] = self.a * x + self.b\\n\\n    def infer_shape(self, node, i0_shapes):\\n        return i0_shapes\\n\\n    def grad(self, inputs, output_grads):\\n        return [a * output_grads[0] + b]', u'import theano.tensor as T\\n\\na = T.dvector(name=\"a\")\\nb = T.dvector(name=\"b\")\\nc = T.sum(T.log(a + b))\\nc.name=\"c\"\\n\\nop = theano.OpFromGraph([a], [c])', u'd = T.dvector(name=\"d\")\\nresult = op(d)\\nresult.name=\"results\"', u'print map(hash, [a,b,c,d])', u'f = theano.function([b, d], result, on_unused_input=\"warn\")'], 'theano': <module 'theano' from '/home/stephan/GitProjects/Theano/theano/__init__.pyc'>, 'op': <theano.compile.builders.OpFromGraph object at 0x7f2135e11a90>, '_oh': {}, 'Out': {}}\n",
      "\n",
      "{'self': <ipykernel.zmqshell.ZMQInteractiveShell object at 0x7f216bd8fed0>, 'code_obj': <code object <module> at 0x7f2135e64f30, file \"<ipython-input-5-44613c6b0f10>\", line 1>, 'old_excepthook': <IPython.core.ultratb.FormattedTB object at 0x7f216bd8f3d0>, 'outflag': 1, 'result': <IPython.core.interactiveshell.ExecutionResult object at 0x7f2168026950>}\n",
      "\n",
      "{'node': <_ast.Assign object at 0x7f2168026bd0>, 'interactivity': 'none', 'code': <code object <module> at 0x7f2135e64f30, file \"<ipython-input-5-44613c6b0f10>\", line 1>, 'nodelist': [<_ast.Assign object at 0x7f2168026bd0>], 'i': 0, 'exec_count': 5, 'to_run_interactive': [], 'to_run_exec': [<_ast.Assign object at 0x7f2168026bd0>], 'result': <IPython.core.interactiveshell.ExecutionResult object at 0x7f2168026950>, 'cell_name': '<ipython-input-5-44613c6b0f10>', 'compiler': <IPython.core.compilerop.CachingCompiler instance at 0x7f216fd237a0>, 'self': <ipykernel.zmqshell.ZMQInteractiveShell object at 0x7f216bd8fed0>, 'mod': <_ast.Module object at 0x7f21680268d0>}\n",
      "\n",
      "{'interactivity': 'last_expr', 'preprocessing_exc_tuple': None, 'store_history': True, 'silent': False, 'raw_cell': u'f = theano.function([b, d], result, on_unused_input=\"warn\")', 'self': <ipykernel.zmqshell.ZMQInteractiveShell object at 0x7f216bd8fed0>, 'cell': u'f = theano.function([b, d], result, on_unused_input=\"warn\")\\n', 'result': <IPython.core.interactiveshell.ExecutionResult object at 0x7f2168026950>, 'code_ast': <_ast.Module object at 0x7f2168026510>, 'error_before_exec': <function error_before_exec at 0x7f2135d7c9b0>, 'cell_name': '<ipython-input-5-44613c6b0f10>', 'shell_futures': True, 'compiler': <IPython.core.compilerop.CachingCompiler instance at 0x7f216fd237a0>}\n",
      "\n",
      "{'code': u'f = theano.function([b, d], result, on_unused_input=\"warn\")', 'shell': <ipykernel.zmqshell.ZMQInteractiveShell object at 0x7f216bd8fed0>, 'silent': False, 'self': <ipykernel.ipkernel.IPythonKernel object at 0x7f216bd8ff50>, 'store_history': True, 'user_expressions': {}, 'allow_stdin': True, 'reply_content': {}}\n",
      "\n",
      "{'md': {'dependencies_met': True, 'engine': u'a0ceb67c-7190-499a-a23f-6aa0a4b036ac', 'started': datetime.datetime(2016, 6, 3, 20, 6, 27, 317920)}, 'store_history': True, 'silent': False, 'parent': {'parent_header': {}, 'msg_type': 'execute_request', 'msg_id': '5FE77063B7064DC99E9B78A6F063ED4A', 'content': {'code': 'f = theano.function([b, d], result, on_unused_input=\"warn\")', 'silent': False, 'stop_on_error': True, 'store_history': True, 'user_expressions': {}, 'allow_stdin': True}, 'header': {'username': 'username', 'version': '5.0', 'msg_type': 'execute_request', 'msg_id': '5FE77063B7064DC99E9B78A6F063ED4A', 'session': '5CE38AEA419740C380949E29BB892E01', 'date': '2016-06-03T20:06:27.317495'}, 'buffers': [], 'metadata': {}}, 'self': <ipykernel.ipkernel.IPythonKernel object at 0x7f216bd8ff50>, 'ident': ['5CE38AEA419740C380949E29BB892E01'], 'stop_on_error': True, 'content': {'code': 'f = theano.function([b, d], result, on_unused_input=\"warn\")', 'silent': False, 'stop_on_error': True, 'store_history': True, 'user_expressions': {}, 'allow_stdin': True}, 'code': u'f = theano.function([b, d], result, on_unused_input=\"warn\")', 'user_expressions': {}, 'stream': <zmq.eventloop.zmqstream.ZMQStream object at 0x7f216bd8fd90>, 'allow_stdin': True}\n",
      "\n",
      "{'stream': <zmq.eventloop.zmqstream.ZMQStream object at 0x7f216bd8fd90>, 'msg_type': 'execute_request', 'idents': ['5CE38AEA419740C380949E29BB892E01'], 'self': <ipykernel.ipkernel.IPythonKernel object at 0x7f216bd8ff50>, 'msg_id': '5FE77063B7064DC99E9B78A6F063ED4A', 'header': {'username': 'username', 'version': '5.0', 'msg_type': 'execute_request', 'msg_id': '5FE77063B7064DC99E9B78A6F063ED4A', 'session': '5CE38AEA419740C380949E29BB892E01', 'date': '2016-06-03T20:06:27.317495'}, 'handler': <bound method IPythonKernel.execute_request of <ipykernel.ipkernel.IPythonKernel object at 0x7f216bd8ff50>>, 'msg': {'parent_header': {}, 'msg_type': 'execute_request', 'msg_id': '5FE77063B7064DC99E9B78A6F063ED4A', 'content': {'code': 'f = theano.function([b, d], result, on_unused_input=\"warn\")', 'silent': False, 'stop_on_error': True, 'store_history': True, 'user_expressions': {}, 'allow_stdin': True}, 'header': {'username': 'username', 'version': '5.0', 'msg_type': 'execute_request', 'msg_id': '5FE77063B7064DC99E9B78A6F063ED4A', 'session': '5CE38AEA419740C380949E29BB892E01', 'date': '2016-06-03T20:06:27.317495'}, 'buffers': [], 'metadata': {}}}\n",
      "\n",
      "{'msg': [<zmq.sugar.frame.Frame object at 0x7f216bde59b0>, <zmq.sugar.frame.Frame object at 0x7f216bde5c30>, <zmq.sugar.frame.Frame object at 0x7f216bde5e10>, <zmq.sugar.frame.Frame object at 0x7f216bde5eb0>, <zmq.sugar.frame.Frame object at 0x7f216bde5f50>, <zmq.sugar.frame.Frame object at 0x7f2168024050>, <zmq.sugar.frame.Frame object at 0x7f21680240f0>], 'self': <ipykernel.ipkernel.IPythonKernel object at 0x7f216bd8ff50>, 'stream': <zmq.eventloop.zmqstream.ZMQStream object at 0x7f216bd8fd90>}\n",
      "\n",
      "{'cap_contexts': [((), None)], 'args': ([<zmq.sugar.frame.Frame object at 0x7f216bde59b0>, <zmq.sugar.frame.Frame object at 0x7f216bde5c30>, <zmq.sugar.frame.Frame object at 0x7f216bde5e10>, <zmq.sugar.frame.Frame object at 0x7f216bde5eb0>, <zmq.sugar.frame.Frame object at 0x7f216bde5f50>, <zmq.sugar.frame.Frame object at 0x7f2168024050>, <zmq.sugar.frame.Frame object at 0x7f21680240f0>],), 'current_state': ((), None), 'fn': <function dispatcher at 0x7f2168889ed8>, 'kwargs': {}}\n",
      "\n",
      "{'callback': <function null_wrapper at 0x7f2168889f50>, 'self': <zmq.eventloop.zmqstream.ZMQStream object at 0x7f216bd8fd90>, 'args': ([<zmq.sugar.frame.Frame object at 0x7f216bde59b0>, <zmq.sugar.frame.Frame object at 0x7f216bde5c30>, <zmq.sugar.frame.Frame object at 0x7f216bde5e10>, <zmq.sugar.frame.Frame object at 0x7f216bde5eb0>, <zmq.sugar.frame.Frame object at 0x7f216bde5f50>, <zmq.sugar.frame.Frame object at 0x7f2168024050>, <zmq.sugar.frame.Frame object at 0x7f21680240f0>],), 'kwargs': {}}\n",
      "\n",
      "{'msg': [<zmq.sugar.frame.Frame object at 0x7f216bde59b0>, <zmq.sugar.frame.Frame object at 0x7f216bde5c30>, <zmq.sugar.frame.Frame object at 0x7f216bde5e10>, <zmq.sugar.frame.Frame object at 0x7f216bde5eb0>, <zmq.sugar.frame.Frame object at 0x7f216bde5f50>, <zmq.sugar.frame.Frame object at 0x7f2168024050>, <zmq.sugar.frame.Frame object at 0x7f21680240f0>], 'callback': <function null_wrapper at 0x7f2168889f50>, 'self': <zmq.eventloop.zmqstream.ZMQStream object at 0x7f216bd8fd90>}\n",
      "\n",
      "{'self': <zmq.eventloop.zmqstream.ZMQStream object at 0x7f216bd8fd90>, 'fd': <zmq.sugar.socket.Socket object at 0x7f216bd88598>, 'events': 1}\n",
      "\n",
      "{'cap_contexts': [((), None)], 'args': (<zmq.sugar.socket.Socket object at 0x7f216bd88598>, 1), 'current_state': ((), None), 'fn': <bound method ZMQStream._handle_events of <zmq.eventloop.zmqstream.ZMQStream object at 0x7f216bd8fd90>>, 'kwargs': {}}\n",
      "\n",
      "{'old_current': <zmq.eventloop.ioloop.ZMQIOLoop object at 0x7f216bd8fe50>, 'callbacks': None, 'due_timeouts': None, 'events': 1, 'self': <zmq.eventloop.ioloop.ZMQIOLoop object at 0x7f216bd8fe50>, 'callback': None, 'fd_obj': <zmq.sugar.socket.Socket object at 0x7f216bd88598>, 'fd': <zmq.sugar.socket.Socket object at 0x7f216bd88598>, 'timeout': None, 'poll_timeout': 3600.0, 'event_pairs': [(<zmq.sugar.socket.Socket object at 0x7f216bd88598>, 1)], 'old_wakeup_fd': -1L, 'handler_func': <function null_wrapper at 0x7f216bd49758>}\n",
      "\n",
      "{'self': <zmq.eventloop.ioloop.ZMQIOLoop object at 0x7f216bd8fe50>}\n",
      "\n",
      "{'self': <ipykernel.kernelapp.IPKernelApp object at 0x7f216bdbb5d0>}\n",
      "\n",
      "{'app': <ipykernel.kernelapp.IPKernelApp object at 0x7f216bdbb5d0>, 'cls': <class 'ipykernel.kernelapp.IPKernelApp'>, 'argv': None, 'kwargs': {}}\n",
      "\n",
      "{'__builtins__': <module '__builtin__' (built-in)>, '__file__': '/usr/local/lib/python2.7/dist-packages/ipykernel/__main__.py', '__package__': 'ipykernel', '__name__': '__main__', 'app': <module 'ipykernel.kernelapp' from '/usr/local/lib/python2.7/dist-packages/ipykernel/kernelapp.pyc'>, '__loader__': <pkgutil.ImpLoader instance at 0x7f216c03ca70>, '__doc__': None}\n",
      "\n",
      "{'mod_loader': <pkgutil.ImpLoader instance at 0x7f216c03ca70>, 'code': <code object <module> at 0x7f21726688b0, file \"/usr/local/lib/python2.7/dist-packages/ipykernel/__main__.py\", line 1>, 'run_globals': {'__builtins__': <module '__builtin__' (built-in)>, '__file__': '/usr/local/lib/python2.7/dist-packages/ipykernel/__main__.py', '__package__': 'ipykernel', '__name__': '__main__', 'app': <module 'ipykernel.kernelapp' from '/usr/local/lib/python2.7/dist-packages/ipykernel/kernelapp.pyc'>, '__loader__': <pkgutil.ImpLoader instance at 0x7f216c03ca70>, '__doc__': None}, 'init_globals': None, 'pkg_name': 'ipykernel', 'mod_name': '__main__', 'mod_fname': '/usr/local/lib/python2.7/dist-packages/ipykernel/__main__.py'}\n",
      "\n",
      "{'code': <code object <module> at 0x7f21726688b0, file \"/usr/local/lib/python2.7/dist-packages/ipykernel/__main__.py\", line 1>, 'mod_name': 'ipykernel.__main__', 'alter_argv': 1, 'loader': <pkgutil.ImpLoader instance at 0x7f216c03ca70>, 'pkg_name': 'ipykernel', 'fname': '/usr/local/lib/python2.7/dist-packages/ipykernel/__main__.py', 'main_globals': {'__builtins__': <module '__builtin__' (built-in)>, '__file__': '/usr/local/lib/python2.7/dist-packages/ipykernel/__main__.py', '__package__': 'ipykernel', '__name__': '__main__', 'app': <module 'ipykernel.kernelapp' from '/usr/local/lib/python2.7/dist-packages/ipykernel/kernelapp.pyc'>, '__loader__': <pkgutil.ImpLoader instance at 0x7f216c03ca70>, '__doc__': None}}\n",
      "\n",
      "extra_inputs [b, d] [8736288375457, 8736288375461]\n",
      "WE ARE HERE make_py_chunk\n"
     ]
    },
    {
     "name": "stderr",
     "output_type": "stream",
     "text": [
      "/usr/local/lib/python2.7/dist-packages/ipykernel/__main__.py:1: UserWarning: theano.function was asked to create a function computing outputs given certain inputs, but the provided input variable at index 0 is not part of the computational graph needed to compute the outputs: b.\n",
      "To make this warning into an error, you can pass the parameter on_unused_input='raise' to theano.function. To disable it completely, use on_unused_input='ignore'.\n",
      "  if __name__ == '__main__':\n"
     ]
    },
    {
     "ename": "MissingInputError",
     "evalue": "('The following error happened while compiling the node', <theano.compile.builders.OpFromGraph object at 0x7f2135e11a90>(d), '\\n', 'An input of the graph, used to compute Elemwise{add,no_inplace}(a, b), was not provided and not given a value.Use the Theano flag exception_verbosity=\\'high\\',for more information on this error.\\n\\nBacktrace when the variable is created:\\n  File \"/usr/local/lib/python2.7/dist-packages/ipykernel/kernelbase.py\", line 260, in dispatcher\\n    return self.dispatch_shell(stream, msg)\\n  File \"/usr/local/lib/python2.7/dist-packages/ipykernel/kernelbase.py\", line 212, in dispatch_shell\\n    handler(stream, idents, msg)\\n  File \"/usr/local/lib/python2.7/dist-packages/ipykernel/kernelbase.py\", line 370, in execute_request\\n    user_expressions, allow_stdin)\\n  File \"/usr/local/lib/python2.7/dist-packages/ipykernel/ipkernel.py\", line 175, in do_execute\\n    shell.run_cell(code, store_history=store_history, silent=silent)\\n  File \"/usr/local/lib/python2.7/dist-packages/IPython/core/interactiveshell.py\", line 2902, in run_cell\\n    interactivity=interactivity, compiler=compiler, result=result)\\n  File \"/usr/local/lib/python2.7/dist-packages/IPython/core/interactiveshell.py\", line 3006, in run_ast_nodes\\n    if self.run_code(code, result):\\n  File \"/usr/local/lib/python2.7/dist-packages/IPython/core/interactiveshell.py\", line 3066, in run_code\\n    exec(code_obj, self.user_global_ns, self.user_ns)\\n  File \"<ipython-input-2-1b0eff65810d>\", line 4, in <module>\\n    b = T.dvector(name=\"b\")\\n')",
     "output_type": "error",
     "traceback": [
      "\u001b[1;31m---------------------------------------------------------------------------\u001b[0m",
      "\u001b[1;31mMissingInputError\u001b[0m                         Traceback (most recent call last)",
      "\u001b[1;32m<ipython-input-5-44613c6b0f10>\u001b[0m in \u001b[0;36m<module>\u001b[1;34m()\u001b[0m\n\u001b[1;32m----> 1\u001b[1;33m \u001b[0mf\u001b[0m \u001b[1;33m=\u001b[0m \u001b[0mtheano\u001b[0m\u001b[1;33m.\u001b[0m\u001b[0mfunction\u001b[0m\u001b[1;33m(\u001b[0m\u001b[1;33m[\u001b[0m\u001b[0mb\u001b[0m\u001b[1;33m,\u001b[0m \u001b[0md\u001b[0m\u001b[1;33m]\u001b[0m\u001b[1;33m,\u001b[0m \u001b[0mresult\u001b[0m\u001b[1;33m,\u001b[0m \u001b[0mon_unused_input\u001b[0m\u001b[1;33m=\u001b[0m\u001b[1;34m\"warn\"\u001b[0m\u001b[1;33m)\u001b[0m\u001b[1;33m\u001b[0m\u001b[0m\n\u001b[0m",
      "\u001b[1;32m/home/stephan/GitProjects/Theano/theano/compile/function.pyc\u001b[0m in \u001b[0;36mfunction\u001b[1;34m(inputs, outputs, mode, updates, givens, no_default_updates, accept_inplace, name, rebuild_strict, allow_input_downcast, profile, on_unused_input)\u001b[0m\n\u001b[0;32m    320\u001b[0m                    \u001b[0mon_unused_input\u001b[0m\u001b[1;33m=\u001b[0m\u001b[0mon_unused_input\u001b[0m\u001b[1;33m,\u001b[0m\u001b[1;33m\u001b[0m\u001b[0m\n\u001b[0;32m    321\u001b[0m                    \u001b[0mprofile\u001b[0m\u001b[1;33m=\u001b[0m\u001b[0mprofile\u001b[0m\u001b[1;33m,\u001b[0m\u001b[1;33m\u001b[0m\u001b[0m\n\u001b[1;32m--> 322\u001b[1;33m                    output_keys=output_keys)\n\u001b[0m\u001b[0;32m    323\u001b[0m     \u001b[1;31m# We need to add the flag check_aliased inputs if we have any mutable or\u001b[0m\u001b[1;33m\u001b[0m\u001b[1;33m\u001b[0m\u001b[0m\n\u001b[0;32m    324\u001b[0m     \u001b[1;31m# borrowed used defined inputs\u001b[0m\u001b[1;33m\u001b[0m\u001b[1;33m\u001b[0m\u001b[0m\n",
      "\u001b[1;32m/home/stephan/GitProjects/Theano/theano/compile/pfunc.pyc\u001b[0m in \u001b[0;36mpfunc\u001b[1;34m(params, outputs, mode, updates, givens, no_default_updates, accept_inplace, name, rebuild_strict, allow_input_downcast, profile, on_unused_input, output_keys)\u001b[0m\n\u001b[0;32m    478\u001b[0m                          \u001b[0maccept_inplace\u001b[0m\u001b[1;33m=\u001b[0m\u001b[0maccept_inplace\u001b[0m\u001b[1;33m,\u001b[0m \u001b[0mname\u001b[0m\u001b[1;33m=\u001b[0m\u001b[0mname\u001b[0m\u001b[1;33m,\u001b[0m\u001b[1;33m\u001b[0m\u001b[0m\n\u001b[0;32m    479\u001b[0m                          \u001b[0mprofile\u001b[0m\u001b[1;33m=\u001b[0m\u001b[0mprofile\u001b[0m\u001b[1;33m,\u001b[0m \u001b[0mon_unused_input\u001b[0m\u001b[1;33m=\u001b[0m\u001b[0mon_unused_input\u001b[0m\u001b[1;33m,\u001b[0m\u001b[1;33m\u001b[0m\u001b[0m\n\u001b[1;32m--> 480\u001b[1;33m                          output_keys=output_keys)\n\u001b[0m\u001b[0;32m    481\u001b[0m \u001b[1;33m\u001b[0m\u001b[0m\n\u001b[0;32m    482\u001b[0m \u001b[1;33m\u001b[0m\u001b[0m\n",
      "\u001b[1;32m/home/stephan/GitProjects/Theano/theano/compile/function_module.pyc\u001b[0m in \u001b[0;36morig_function\u001b[1;34m(inputs, outputs, mode, accept_inplace, name, profile, on_unused_input, output_keys)\u001b[0m\n\u001b[0;32m   1826\u001b[0m                    \u001b[0mon_unused_input\u001b[0m\u001b[1;33m=\u001b[0m\u001b[0mon_unused_input\u001b[0m\u001b[1;33m,\u001b[0m\u001b[1;33m\u001b[0m\u001b[0m\n\u001b[0;32m   1827\u001b[0m                    \u001b[0moutput_keys\u001b[0m\u001b[1;33m=\u001b[0m\u001b[0moutput_keys\u001b[0m\u001b[1;33m)\u001b[0m\u001b[1;33m.\u001b[0m\u001b[0mcreate\u001b[0m\u001b[1;33m(\u001b[0m\u001b[1;33m\u001b[0m\u001b[0m\n\u001b[1;32m-> 1828\u001b[1;33m             defaults)\n\u001b[0m\u001b[0;32m   1829\u001b[0m \u001b[1;33m\u001b[0m\u001b[0m\n\u001b[0;32m   1830\u001b[0m     \u001b[0mt2\u001b[0m \u001b[1;33m=\u001b[0m \u001b[0mtime\u001b[0m\u001b[1;33m.\u001b[0m\u001b[0mtime\u001b[0m\u001b[1;33m(\u001b[0m\u001b[1;33m)\u001b[0m\u001b[1;33m\u001b[0m\u001b[0m\n",
      "\u001b[1;32m/home/stephan/GitProjects/Theano/theano/compile/function_module.pyc\u001b[0m in \u001b[0;36mcreate\u001b[1;34m(self, input_storage, trustme, storage_map)\u001b[0m\n\u001b[0;32m   1690\u001b[0m             \u001b[0mtheano\u001b[0m\u001b[1;33m.\u001b[0m\u001b[0mconfig\u001b[0m\u001b[1;33m.\u001b[0m\u001b[0mtraceback\u001b[0m\u001b[1;33m.\u001b[0m\u001b[0mlimit\u001b[0m \u001b[1;33m=\u001b[0m \u001b[0mtheano\u001b[0m\u001b[1;33m.\u001b[0m\u001b[0mconfig\u001b[0m\u001b[1;33m.\u001b[0m\u001b[0mtraceback\u001b[0m\u001b[1;33m.\u001b[0m\u001b[0mcompile_limit\u001b[0m\u001b[1;33m\u001b[0m\u001b[0m\n\u001b[0;32m   1691\u001b[0m             _fn, _i, _o = self.linker.make_thunk(\n\u001b[1;32m-> 1692\u001b[1;33m                 input_storage=input_storage_lists, storage_map=storage_map)\n\u001b[0m\u001b[0;32m   1693\u001b[0m         \u001b[1;32mfinally\u001b[0m\u001b[1;33m:\u001b[0m\u001b[1;33m\u001b[0m\u001b[0m\n\u001b[0;32m   1694\u001b[0m             \u001b[0mtheano\u001b[0m\u001b[1;33m.\u001b[0m\u001b[0mconfig\u001b[0m\u001b[1;33m.\u001b[0m\u001b[0mtraceback\u001b[0m\u001b[1;33m.\u001b[0m\u001b[0mlimit\u001b[0m \u001b[1;33m=\u001b[0m \u001b[0mlimit_orig\u001b[0m\u001b[1;33m\u001b[0m\u001b[0m\n",
      "\u001b[1;32m/home/stephan/GitProjects/Theano/theano/gof/link.pyc\u001b[0m in \u001b[0;36mmake_thunk\u001b[1;34m(self, input_storage, output_storage, storage_map)\u001b[0m\n\u001b[0;32m    688\u001b[0m         return self.make_all(input_storage=input_storage,\n\u001b[0;32m    689\u001b[0m                              \u001b[0moutput_storage\u001b[0m\u001b[1;33m=\u001b[0m\u001b[0moutput_storage\u001b[0m\u001b[1;33m,\u001b[0m\u001b[1;33m\u001b[0m\u001b[0m\n\u001b[1;32m--> 690\u001b[1;33m                              storage_map=storage_map)[:3]\n\u001b[0m\u001b[0;32m    691\u001b[0m \u001b[1;33m\u001b[0m\u001b[0m\n\u001b[0;32m    692\u001b[0m     \u001b[1;32mdef\u001b[0m \u001b[0mmake_all\u001b[0m\u001b[1;33m(\u001b[0m\u001b[0mself\u001b[0m\u001b[1;33m,\u001b[0m \u001b[0minput_storage\u001b[0m\u001b[1;33m,\u001b[0m \u001b[0moutput_storage\u001b[0m\u001b[1;33m)\u001b[0m\u001b[1;33m:\u001b[0m\u001b[1;33m\u001b[0m\u001b[0m\n",
      "\u001b[1;32m/home/stephan/GitProjects/Theano/theano/gof/vm.pyc\u001b[0m in \u001b[0;36mmake_all\u001b[1;34m(self, profiler, input_storage, output_storage, storage_map)\u001b[0m\n\u001b[0;32m   1019\u001b[0m                                                  \u001b[0mstorage_map\u001b[0m\u001b[1;33m,\u001b[0m\u001b[1;33m\u001b[0m\u001b[0m\n\u001b[0;32m   1020\u001b[0m                                                  \u001b[0mcompute_map\u001b[0m\u001b[1;33m,\u001b[0m\u001b[1;33m\u001b[0m\u001b[0m\n\u001b[1;32m-> 1021\u001b[1;33m                                                  no_recycling))\n\u001b[0m\u001b[0;32m   1022\u001b[0m                 \u001b[1;32mif\u001b[0m \u001b[1;32mnot\u001b[0m \u001b[0mhasattr\u001b[0m\u001b[1;33m(\u001b[0m\u001b[0mthunks\u001b[0m\u001b[1;33m[\u001b[0m\u001b[1;33m-\u001b[0m\u001b[1;36m1\u001b[0m\u001b[1;33m]\u001b[0m\u001b[1;33m,\u001b[0m \u001b[1;34m'lazy'\u001b[0m\u001b[1;33m)\u001b[0m\u001b[1;33m:\u001b[0m\u001b[1;33m\u001b[0m\u001b[0m\n\u001b[0;32m   1023\u001b[0m                     \u001b[1;31m# We don't want all ops maker to think about lazy Ops.\u001b[0m\u001b[1;33m\u001b[0m\u001b[1;33m\u001b[0m\u001b[0m\n",
      "\u001b[1;32m/home/stephan/GitProjects/Theano/theano/compile/builders.py\u001b[0m in \u001b[0;36mmake_thunk\u001b[1;34m(self, node, storage_map, compute_map, no_recycling)\u001b[0m\n\u001b[0;32m    148\u001b[0m             self.fn = orig_function(self.new_inputs,\n\u001b[0;32m    149\u001b[0m                                     \u001b[0mself\u001b[0m\u001b[1;33m.\u001b[0m\u001b[0mnew_outputs\u001b[0m\u001b[1;33m,\u001b[0m\u001b[1;33m\u001b[0m\u001b[0m\n\u001b[1;32m--> 150\u001b[1;33m                                     **self.kwargs)\n\u001b[0m\u001b[0;32m    151\u001b[0m         \u001b[1;32mreturn\u001b[0m \u001b[0mret\u001b[0m\u001b[1;33m\u001b[0m\u001b[0m\n\u001b[0;32m    152\u001b[0m \u001b[1;33m\u001b[0m\u001b[0m\n",
      "\u001b[1;32m/home/stephan/GitProjects/Theano/theano/compile/function_module.pyc\u001b[0m in \u001b[0;36morig_function\u001b[1;34m(inputs, outputs, mode, accept_inplace, name, profile, on_unused_input, output_keys)\u001b[0m\n\u001b[0;32m   1825\u001b[0m                    \u001b[0mprofile\u001b[0m\u001b[1;33m=\u001b[0m\u001b[0mprofile\u001b[0m\u001b[1;33m,\u001b[0m\u001b[1;33m\u001b[0m\u001b[0m\n\u001b[0;32m   1826\u001b[0m                    \u001b[0mon_unused_input\u001b[0m\u001b[1;33m=\u001b[0m\u001b[0mon_unused_input\u001b[0m\u001b[1;33m,\u001b[0m\u001b[1;33m\u001b[0m\u001b[0m\n\u001b[1;32m-> 1827\u001b[1;33m                    \u001b[0moutput_keys\u001b[0m\u001b[1;33m=\u001b[0m\u001b[0moutput_keys\u001b[0m\u001b[1;33m)\u001b[0m\u001b[1;33m.\u001b[0m\u001b[0mcreate\u001b[0m\u001b[1;33m(\u001b[0m\u001b[1;33m\u001b[0m\u001b[0m\n\u001b[0m\u001b[0;32m   1828\u001b[0m             defaults)\n\u001b[0;32m   1829\u001b[0m \u001b[1;33m\u001b[0m\u001b[0m\n",
      "\u001b[1;32m/home/stephan/GitProjects/Theano/theano/compile/function_module.pyc\u001b[0m in \u001b[0;36m__init__\u001b[1;34m(self, inputs, outputs, mode, accept_inplace, function_builder, profile, on_unused_input, fgraph, output_keys)\u001b[0m\n\u001b[0;32m   1477\u001b[0m             \u001b[1;31m# OUTPUT VARIABLES)\u001b[0m\u001b[1;33m\u001b[0m\u001b[1;33m\u001b[0m\u001b[0m\n\u001b[0;32m   1478\u001b[0m             fgraph, additional_outputs = std_fgraph(inputs, outputs,\n\u001b[1;32m-> 1479\u001b[1;33m                                                     accept_inplace)\n\u001b[0m\u001b[0;32m   1480\u001b[0m             \u001b[0mfgraph\u001b[0m\u001b[1;33m.\u001b[0m\u001b[0mprofile\u001b[0m \u001b[1;33m=\u001b[0m \u001b[0mprofile\u001b[0m\u001b[1;33m\u001b[0m\u001b[0m\n\u001b[0;32m   1481\u001b[0m         \u001b[1;32melse\u001b[0m\u001b[1;33m:\u001b[0m\u001b[1;33m\u001b[0m\u001b[0m\n",
      "\u001b[1;32m/home/stephan/GitProjects/Theano/theano/compile/function_module.pyc\u001b[0m in \u001b[0;36mstd_fgraph\u001b[1;34m(input_specs, output_specs, accept_inplace)\u001b[0m\n\u001b[0;32m    175\u001b[0m \u001b[1;33m\u001b[0m\u001b[0m\n\u001b[0;32m    176\u001b[0m     fgraph = gof.fg.FunctionGraph(orig_inputs, orig_outputs,\n\u001b[1;32m--> 177\u001b[1;33m                                   update_mapping=update_mapping)\n\u001b[0m\u001b[0;32m    178\u001b[0m \u001b[1;33m\u001b[0m\u001b[0m\n\u001b[0;32m    179\u001b[0m     \u001b[1;32mfor\u001b[0m \u001b[0mnode\u001b[0m \u001b[1;32min\u001b[0m \u001b[0mfgraph\u001b[0m\u001b[1;33m.\u001b[0m\u001b[0mapply_nodes\u001b[0m\u001b[1;33m:\u001b[0m\u001b[1;33m\u001b[0m\u001b[0m\n",
      "\u001b[1;32m/home/stephan/GitProjects/Theano/theano/gof/fg.pyc\u001b[0m in \u001b[0;36m__init__\u001b[1;34m(self, inputs, outputs, features, clone, update_mapping)\u001b[0m\n\u001b[0;32m    180\u001b[0m \u001b[1;33m\u001b[0m\u001b[0m\n\u001b[0;32m    181\u001b[0m         \u001b[1;32mfor\u001b[0m \u001b[0moutput\u001b[0m \u001b[1;32min\u001b[0m \u001b[0moutputs\u001b[0m\u001b[1;33m:\u001b[0m\u001b[1;33m\u001b[0m\u001b[0m\n\u001b[1;32m--> 182\u001b[1;33m             \u001b[0mself\u001b[0m\u001b[1;33m.\u001b[0m\u001b[0m__import_r__\u001b[0m\u001b[1;33m(\u001b[0m\u001b[0moutput\u001b[0m\u001b[1;33m,\u001b[0m \u001b[0mreason\u001b[0m\u001b[1;33m=\u001b[0m\u001b[1;34m\"init\"\u001b[0m\u001b[1;33m)\u001b[0m\u001b[1;33m\u001b[0m\u001b[0m\n\u001b[0m\u001b[0;32m    183\u001b[0m         \u001b[1;32mfor\u001b[0m \u001b[0mi\u001b[0m\u001b[1;33m,\u001b[0m \u001b[0moutput\u001b[0m \u001b[1;32min\u001b[0m \u001b[0menumerate\u001b[0m\u001b[1;33m(\u001b[0m\u001b[0moutputs\u001b[0m\u001b[1;33m)\u001b[0m\u001b[1;33m:\u001b[0m\u001b[1;33m\u001b[0m\u001b[0m\n\u001b[0;32m    184\u001b[0m             \u001b[0moutput\u001b[0m\u001b[1;33m.\u001b[0m\u001b[0mclients\u001b[0m\u001b[1;33m.\u001b[0m\u001b[0mappend\u001b[0m\u001b[1;33m(\u001b[0m\u001b[1;33m(\u001b[0m\u001b[1;34m'output'\u001b[0m\u001b[1;33m,\u001b[0m \u001b[0mi\u001b[0m\u001b[1;33m)\u001b[0m\u001b[1;33m)\u001b[0m\u001b[1;33m\u001b[0m\u001b[0m\n",
      "\u001b[1;32m/home/stephan/GitProjects/Theano/theano/gof/fg.pyc\u001b[0m in \u001b[0;36m__import_r__\u001b[1;34m(self, variable, reason)\u001b[0m\n\u001b[0;32m    372\u001b[0m         \u001b[1;31m# Imports the owners of the variables\u001b[0m\u001b[1;33m\u001b[0m\u001b[1;33m\u001b[0m\u001b[0m\n\u001b[0;32m    373\u001b[0m         \u001b[1;32mif\u001b[0m \u001b[0mvariable\u001b[0m\u001b[1;33m.\u001b[0m\u001b[0mowner\u001b[0m \u001b[1;32mand\u001b[0m \u001b[0mvariable\u001b[0m\u001b[1;33m.\u001b[0m\u001b[0mowner\u001b[0m \u001b[1;32mnot\u001b[0m \u001b[1;32min\u001b[0m \u001b[0mself\u001b[0m\u001b[1;33m.\u001b[0m\u001b[0mapply_nodes\u001b[0m\u001b[1;33m:\u001b[0m\u001b[1;33m\u001b[0m\u001b[0m\n\u001b[1;32m--> 374\u001b[1;33m                 \u001b[0mself\u001b[0m\u001b[1;33m.\u001b[0m\u001b[0m__import__\u001b[0m\u001b[1;33m(\u001b[0m\u001b[0mvariable\u001b[0m\u001b[1;33m.\u001b[0m\u001b[0mowner\u001b[0m\u001b[1;33m,\u001b[0m \u001b[0mreason\u001b[0m\u001b[1;33m=\u001b[0m\u001b[0mreason\u001b[0m\u001b[1;33m)\u001b[0m\u001b[1;33m\u001b[0m\u001b[0m\n\u001b[0m\u001b[0;32m    375\u001b[0m         if (variable.owner is None and\n\u001b[0;32m    376\u001b[0m                 \u001b[1;32mnot\u001b[0m \u001b[0misinstance\u001b[0m\u001b[1;33m(\u001b[0m\u001b[0mvariable\u001b[0m\u001b[1;33m,\u001b[0m \u001b[0mgraph\u001b[0m\u001b[1;33m.\u001b[0m\u001b[0mConstant\u001b[0m\u001b[1;33m)\u001b[0m \u001b[1;32mand\u001b[0m\u001b[1;33m\u001b[0m\u001b[0m\n",
      "\u001b[1;32m/home/stephan/GitProjects/Theano/theano/gof/fg.pyc\u001b[0m in \u001b[0;36m__import__\u001b[1;34m(self, apply_node, check, reason)\u001b[0m\n\u001b[0;32m    414\u001b[0m                             \u001b[1;34m\"for more information on this error.\"\u001b[0m\u001b[1;33m\u001b[0m\u001b[0m\n\u001b[0;32m    415\u001b[0m                             % str(node)),\n\u001b[1;32m--> 416\u001b[1;33m                             variable=r)\n\u001b[0m\u001b[0;32m    417\u001b[0m \u001b[1;33m\u001b[0m\u001b[0m\n\u001b[0;32m    418\u001b[0m         \u001b[1;32mfor\u001b[0m \u001b[0mnode\u001b[0m \u001b[1;32min\u001b[0m \u001b[0mnew_nodes\u001b[0m\u001b[1;33m:\u001b[0m\u001b[1;33m\u001b[0m\u001b[0m\n",
      "\u001b[1;31mMissingInputError\u001b[0m: ('The following error happened while compiling the node', <theano.compile.builders.OpFromGraph object at 0x7f2135e11a90>(d), '\\n', 'An input of the graph, used to compute Elemwise{add,no_inplace}(a, b), was not provided and not given a value.Use the Theano flag exception_verbosity=\\'high\\',for more information on this error.\\n\\nBacktrace when the variable is created:\\n  File \"/usr/local/lib/python2.7/dist-packages/ipykernel/kernelbase.py\", line 260, in dispatcher\\n    return self.dispatch_shell(stream, msg)\\n  File \"/usr/local/lib/python2.7/dist-packages/ipykernel/kernelbase.py\", line 212, in dispatch_shell\\n    handler(stream, idents, msg)\\n  File \"/usr/local/lib/python2.7/dist-packages/ipykernel/kernelbase.py\", line 370, in execute_request\\n    user_expressions, allow_stdin)\\n  File \"/usr/local/lib/python2.7/dist-packages/ipykernel/ipkernel.py\", line 175, in do_execute\\n    shell.run_cell(code, store_history=store_history, silent=silent)\\n  File \"/usr/local/lib/python2.7/dist-packages/IPython/core/interactiveshell.py\", line 2902, in run_cell\\n    interactivity=interactivity, compiler=compiler, result=result)\\n  File \"/usr/local/lib/python2.7/dist-packages/IPython/core/interactiveshell.py\", line 3006, in run_ast_nodes\\n    if self.run_code(code, result):\\n  File \"/usr/local/lib/python2.7/dist-packages/IPython/core/interactiveshell.py\", line 3066, in run_code\\n    exec(code_obj, self.user_global_ns, self.user_ns)\\n  File \"<ipython-input-2-1b0eff65810d>\", line 4, in <module>\\n    b = T.dvector(name=\"b\")\\n')"
     ]
    }
   ],
   "source": [
    "f = theano.function([b, d], result, on_unused_input=\"warn\")"
   ]
  },
  {
   "cell_type": "code",
   "execution_count": null,
   "metadata": {
    "collapsed": false
   },
   "outputs": [],
   "source": [
    "%debug"
   ]
  },
  {
   "cell_type": "code",
   "execution_count": null,
   "metadata": {
    "collapsed": false
   },
   "outputs": [],
   "source": [
    "f([5,5,5], [1,2,3])"
   ]
  },
  {
   "cell_type": "code",
   "execution_count": null,
   "metadata": {
    "collapsed": true
   },
   "outputs": [],
   "source": [
    "theano.function?"
   ]
  },
  {
   "cell_type": "code",
   "execution_count": null,
   "metadata": {
    "collapsed": true
   },
   "outputs": [],
   "source": []
  }
 ],
 "metadata": {
  "kernelspec": {
   "display_name": "Python 2",
   "language": "python",
   "name": "python2"
  },
  "language_info": {
   "codemirror_mode": {
    "name": "ipython",
    "version": 2
   },
   "file_extension": ".py",
   "mimetype": "text/x-python",
   "name": "python",
   "nbconvert_exporter": "python",
   "pygments_lexer": "ipython2",
   "version": "2.7.6"
  },
  "toc": {
   "toc_cell": false,
   "toc_number_sections": true,
   "toc_threshold": 4,
   "toc_window_display": false
  }
 },
 "nbformat": 4,
 "nbformat_minor": 0
}
