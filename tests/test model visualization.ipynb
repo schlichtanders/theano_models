{
 "cells": [
  {
   "cell_type": "code",
   "execution_count": 1,
   "metadata": {
    "collapsed": false
   },
   "outputs": [],
   "source": [
    "from theano_models import as_tensor_variable, Model, Merge\n",
    "import theano"
   ]
  },
  {
   "cell_type": "code",
   "execution_count": 2,
   "metadata": {
    "collapsed": false
   },
   "outputs": [
    {
     "data": {
      "text/plain": [
       "(a, b)"
      ]
     },
     "execution_count": 2,
     "metadata": {},
     "output_type": "execute_result"
    }
   ],
   "source": [
    "a = as_tensor_variable(4, \"a\")\n",
    "b = as_tensor_variable(5, \"b\")\n",
    "a,b"
   ]
  },
  {
   "cell_type": "code",
   "execution_count": 3,
   "metadata": {
    "collapsed": true
   },
   "outputs": [],
   "source": [
    "plus = a+b\n",
    "plus.name = \"plus\"\n",
    "mul = a*b\n",
    "mul.name = \"mul\""
   ]
  },
  {
   "cell_type": "code",
   "execution_count": 4,
   "metadata": {
    "collapsed": true
   },
   "outputs": [],
   "source": [
    "c = 5 * plus + mul\n",
    "c.name = \"c\""
   ]
  },
  {
   "cell_type": "code",
   "execution_count": 5,
   "metadata": {
    "collapsed": false
   },
   "outputs": [
    {
     "data": {
      "text/plain": [
       "({ 'inputs': [a, b], 'outputs': plus},\n",
       " { 'inputs': [a, b], 'outputs': mul},\n",
       " { 'inputs': [b, TensorConstant{5}, a], 'outputs': c})"
      ]
     },
     "execution_count": 5,
     "metadata": {},
     "output_type": "execute_result"
    }
   ],
   "source": [
    "m1 = Model(plus)\n",
    "m2 = Model(mul)\n",
    "m3 = Model(c)\n",
    "m1, m2, m3"
   ]
  },
  {
   "cell_type": "code",
   "execution_count": 6,
   "metadata": {
    "collapsed": false
   },
   "outputs": [
    {
     "data": {
      "text/plain": [
       "[a, b]"
      ]
     },
     "execution_count": 6,
     "metadata": {},
     "output_type": "execute_result"
    }
   ],
   "source": [
    "m1['inputs']"
   ]
  },
  {
   "cell_type": "code",
   "execution_count": 7,
   "metadata": {
    "collapsed": false
   },
   "outputs": [],
   "source": [
    "from theano_models.visualization import d3viz\n",
    "from IPython.display import IFrame"
   ]
  },
  {
   "cell_type": "raw",
   "metadata": {},
   "source": [
    "theano.config.compile = None"
   ]
  },
  {
   "cell_type": "code",
   "execution_count": 8,
   "metadata": {
    "collapsed": false
   },
   "outputs": [
    {
     "name": "stdout",
     "output_type": "stream",
     "text": [
      "output c n1\n",
      "GRAPH digraph G {\n",
      "n2 -> n1  [label=\"0 dscalar\"];\n",
      "n1 [dtype=dscalar, fillcolor=dodgerblue, label=c, node_type=output, shape=box, style=filled];\n",
      "n3 [dtype=dscalar, fillcolor=limegreen, label=a, node_type=input, shape=box, style=filled];\n",
      "n4 [dtype=dscalar, fillcolor=limegreen, label=b, node_type=input, shape=box, style=filled];\n",
      "n2 [apply_op=\"Elemwise{add,no_inplace}(Elemwise{mul,no_inplace}.0, mul)\", fillcolor=\"#FFAABB\", label=Elemwise, node_type=apply, shape=ellipse, style=filled, type=colored];\n",
      "n5 -> n2  [label=\"0 dscalar\"];\n",
      "n6 -> n2  [label=dscalar];\n",
      "n5 [apply_op=\"Elemwise{mul,no_inplace}(TensorConstant{5}, plus)\", fillcolor=\"#FFAABB\", label=Elemwise, node_type=apply, shape=ellipse, style=filled, type=colored];\n",
      "n7 -> n5  [label=bscalar];\n",
      "n8 -> n5  [label=dscalar];\n",
      "n9 -> n6  [label=\"0 dscalar\"];\n",
      "n6 [dtype=dscalar, fillcolor=orange, label=mul, node_type=namedvar, shape=box, style=filled];\n",
      "n7 [dtype=bscalar, fillcolor=SpringGreen, label=5, node_type=constant_input, shape=box, style=filled];\n",
      "n10 -> n8  [label=\"0 dscalar\"];\n",
      "n8 [dtype=dscalar, fillcolor=orange, label=plus, node_type=namedvar, shape=box, style=filled];\n",
      "n9 [apply_op=\"Elemwise{mul,no_inplace}(a, b)\", fillcolor=\"#FFAABB\", label=Elemwise, node_type=apply, shape=ellipse, style=filled, type=colored];\n",
      "n3 -> n9  [label=dscalar];\n",
      "n4 -> n9  [label=dscalar];\n",
      "n10 [apply_op=\"Elemwise{add,no_inplace}(a, b)\", fillcolor=\"#FFAABB\", label=Elemwise, node_type=apply, shape=ellipse, style=filled, type=colored];\n",
      "n3 -> n10  [label=dscalar];\n",
      "n4 -> n10  [label=dscalar];\n",
      "}\n",
      "\n"
     ]
    },
    {
     "data": {
      "text/html": [
       "\n",
       "        <iframe\n",
       "            width=\"700\"\n",
       "            height=\"500\"\n",
       "            src=\"tmp/visualization.html\"\n",
       "            frameborder=\"0\"\n",
       "            allowfullscreen\n",
       "        ></iframe>\n",
       "        "
      ],
      "text/plain": [
       "<IPython.lib.display.IFrame at 0x7f255a29ec90>"
      ]
     },
     "execution_count": 8,
     "metadata": {},
     "output_type": "execute_result"
    }
   ],
   "source": [
    "f = theano.function([a,b], c, profile=True, mode=\"FAST_COMPILE\")\n",
    "d3viz(f, [m3, m2, m1], \"tmp/visualization.html\")\n",
    "IFrame('tmp/visualization.html', width=700, height=500)"
   ]
  },
  {
   "cell_type": "code",
   "execution_count": 9,
   "metadata": {
    "collapsed": false
   },
   "outputs": [
    {
     "name": "stdout",
     "output_type": "stream",
     "text": [
      "output c n1\n",
      "output c n21\n",
      "output mul n291\n",
      "h_in [['n25', 'n293'], ['n23', 'n294']]\n",
      "ext_outputs [(mul, 'n27')]\n",
      "ext_outputs ['n27']\n",
      "int_outputs ['n291']\n",
      "h_out [['n27', 'n291']]\n",
      "output plus n2101\n",
      "h_in [['n25', 'n2103'], ['n23', 'n2104']]\n",
      "ext_outputs [(plus, 'n28')]\n",
      "ext_outputs ['n28']\n",
      "int_outputs ['n2101']\n",
      "h_out [['n28', 'n2101']]\n",
      "h_in [['n4', 'n23'], ['n5', 'n24'], ['n3', 'n25']]\n",
      "ext_outputs [(c, 'n1')]\n",
      "ext_outputs ['n1']\n",
      "int_outputs ['n21']\n",
      "h_out [['n1', 'n21']]\n",
      "GRAPH digraph G {\n",
      "n2 -> n1  [label=\"0 dscalar\"];\n",
      "n1 [dtype=dscalar, fillcolor=dodgerblue, label=c, node_type=output, shape=box, style=filled];\n",
      "n3 [dtype=dscalar, fillcolor=limegreen, label=a, node_type=pseudo_constant_input, shape=box, style=filled];\n",
      "n4 [dtype=dscalar, fillcolor=limegreen, label=b, node_type=pseudo_constant_input, shape=box, style=filled];\n",
      "n4 -> n2  [label=dscalar];\n",
      "n5 -> n2  [label=bscalar];\n",
      "n3 -> n2  [label=dscalar];\n",
      "n5 [dtype=bscalar, fillcolor=SpringGreen, label=5, node_type=constant_input, shape=box, style=filled];\n",
      "n2 [apply_op=\"{ 'inputs': [b, TensorConstant{5}, a], 'outputs': c}\", label=Model, node_type=apply, shape=ellipse, subg=cluster_n2, subg_map_inputs=\"[['n4', 'n23'], ['n5', 'n24'], ['n3', 'n25']]\", subg_map_outputs=\"[['n1', 'n21']]\"];\n",
      "subgraph cluster_n2 {\n",
      "n22 -> n21  [label=\"0 dscalar\"];\n",
      "n21 [dtype=dscalar, fillcolor=dodgerblue, label=c, node_type=output, shape=box, style=filled];\n",
      "n23 [dtype=dscalar, fillcolor=limegreen, label=b, node_type=pseudo_constant_input, shape=box, style=filled];\n",
      "n24 [dtype=bscalar, fillcolor=SpringGreen, label=5, node_type=constant_input, shape=box, style=filled];\n",
      "n25 [dtype=dscalar, fillcolor=limegreen, label=a, node_type=pseudo_constant_input, shape=box, style=filled];\n",
      "n22 [apply_op=\"Elemwise{add,no_inplace}(Elemwise{mul,no_inplace}.0, mul)\", fillcolor=\"#FFAABB\", label=Elemwise, node_type=apply, shape=ellipse, style=filled, type=colored];\n",
      "n26 -> n22  [label=\"0 dscalar\"];\n",
      "n27 -> n22  [label=dscalar];\n",
      "n26 [apply_op=\"Elemwise{mul,no_inplace}(TensorConstant{5}, plus)\", fillcolor=\"#FFAABB\", label=Elemwise, node_type=apply, shape=ellipse, style=filled, type=colored];\n",
      "n24 -> n26  [label=bscalar];\n",
      "n28 -> n26  [label=dscalar];\n",
      "n29 -> n27  [label=\"0 dscalar\"];\n",
      "n27 [dtype=dscalar, fillcolor=orange, label=mul, node_type=namedvar, shape=box, style=filled];\n",
      "n210 -> n28  [label=\"0 dscalar\"];\n",
      "n28 [dtype=dscalar, fillcolor=orange, label=plus, node_type=namedvar, shape=box, style=filled];\n",
      "n25 -> n29  [label=dscalar];\n",
      "n23 -> n29  [label=dscalar];\n",
      "n25 -> n210  [label=dscalar];\n",
      "n23 -> n210  [label=dscalar];\n",
      "n29 [apply_op=\"{ 'inputs': [a, b], 'outputs': mul}\", label=Model, node_type=apply, shape=ellipse, subg=cluster_n29, subg_map_inputs=\"[['n25', 'n293'], ['n23', 'n294']]\", subg_map_outputs=\"[['n27', 'n291']]\"];\n",
      "subgraph cluster_n29 {\n",
      "n292 -> n291  [label=\"0 dscalar\"];\n",
      "n291 [dtype=dscalar, fillcolor=dodgerblue, label=mul, node_type=output, shape=box, style=filled];\n",
      "n293 [dtype=dscalar, fillcolor=limegreen, label=a, node_type=pseudo_constant_input, shape=box, style=filled];\n",
      "n294 [dtype=dscalar, fillcolor=limegreen, label=b, node_type=pseudo_constant_input, shape=box, style=filled];\n",
      "n292 [apply_op=\"Elemwise{mul,no_inplace}(a, b)\", fillcolor=\"#FFAABB\", label=Elemwise, node_type=apply, shape=ellipse, style=filled, type=colored];\n",
      "n293 -> n292  [label=dscalar];\n",
      "n294 -> n292  [label=dscalar];\n",
      "}\n",
      "\n",
      "n210 [apply_op=\"{ 'inputs': [a, b], 'outputs': plus}\", label=Model, node_type=apply, shape=ellipse, subg=cluster_n210, subg_map_inputs=\"[['n25', 'n2103'], ['n23', 'n2104']]\", subg_map_outputs=\"[['n28', 'n2101']]\"];\n",
      "subgraph cluster_n210 {\n",
      "n2102 -> n2101  [label=\"0 dscalar\"];\n",
      "n2101 [dtype=dscalar, fillcolor=dodgerblue, label=plus, node_type=output, shape=box, style=filled];\n",
      "n2103 [dtype=dscalar, fillcolor=limegreen, label=a, node_type=pseudo_constant_input, shape=box, style=filled];\n",
      "n2104 [dtype=dscalar, fillcolor=limegreen, label=b, node_type=pseudo_constant_input, shape=box, style=filled];\n",
      "n2102 [apply_op=\"Elemwise{add,no_inplace}(a, b)\", fillcolor=\"#FFAABB\", label=Elemwise, node_type=apply, shape=ellipse, style=filled, type=colored];\n",
      "n2103 -> n2102  [label=dscalar];\n",
      "n2104 -> n2102  [label=dscalar];\n",
      "}\n",
      "\n",
      "}\n",
      "\n",
      "}\n",
      "\n"
     ]
    },
    {
     "data": {
      "text/html": [
       "\n",
       "        <iframe\n",
       "            width=\"700\"\n",
       "            height=\"500\"\n",
       "            src=\"tmp/visualization.html\"\n",
       "            frameborder=\"0\"\n",
       "            allowfullscreen\n",
       "        ></iframe>\n",
       "        "
      ],
      "text/plain": [
       "<IPython.lib.display.IFrame at 0x7f25584f5c50>"
      ]
     },
     "execution_count": 9,
     "metadata": {},
     "output_type": "execute_result"
    }
   ],
   "source": [
    "d3viz(([a,b],[c]), [m3, m2, m1], \"tmp/visualization.html\")\n",
    "IFrame('tmp/visualization.html', width=700, height=500)"
   ]
  },
  {
   "cell_type": "code",
   "execution_count": null,
   "metadata": {
    "collapsed": true
   },
   "outputs": [],
   "source": []
  }
 ],
 "metadata": {
  "kernelspec": {
   "display_name": "Python 2",
   "language": "python",
   "name": "python2"
  },
  "language_info": {
   "codemirror_mode": {
    "name": "ipython",
    "version": 2
   },
   "file_extension": ".py",
   "mimetype": "text/x-python",
   "name": "python",
   "nbconvert_exporter": "python",
   "pygments_lexer": "ipython2",
   "version": "2.7.6"
  },
  "toc": {
   "toc_cell": false,
   "toc_number_sections": true,
   "toc_threshold": 4,
   "toc_window_display": false
  }
 },
 "nbformat": 4,
 "nbformat_minor": 0
}
