{
 "cells": [
  {
   "cell_type": "code",
   "execution_count": 1,
   "metadata": {
    "collapsed": false
   },
   "outputs": [],
   "source": [
    "from theano_models import as_tensor_variable, Model, Merge\n",
    "import theano"
   ]
  },
  {
   "cell_type": "code",
   "execution_count": 2,
   "metadata": {
    "collapsed": false
   },
   "outputs": [],
   "source": [
    "from theano_models.visualization import d3viz\n",
    "from IPython.display import IFrame"
   ]
  },
  {
   "cell_type": "code",
   "execution_count": 3,
   "metadata": {
    "collapsed": false
   },
   "outputs": [
    {
     "data": {
      "text/plain": [
       "(a, b)"
      ]
     },
     "execution_count": 3,
     "metadata": {},
     "output_type": "execute_result"
    }
   ],
   "source": [
    "a = as_tensor_variable(4, \"a\")\n",
    "b = as_tensor_variable(5, \"b\")\n",
    "a,b"
   ]
  },
  {
   "cell_type": "code",
   "execution_count": 4,
   "metadata": {
    "collapsed": true
   },
   "outputs": [],
   "source": [
    "plus = a+b\n",
    "plus.name = \"plus\"\n",
    "mul = a*b\n",
    "mul.name = \"mul\""
   ]
  },
  {
   "cell_type": "code",
   "execution_count": 5,
   "metadata": {
    "collapsed": true
   },
   "outputs": [],
   "source": [
    "c = 5 * plus + mul\n",
    "c.name = \"c\""
   ]
  },
  {
   "cell_type": "code",
   "execution_count": 6,
   "metadata": {
    "collapsed": false
   },
   "outputs": [
    {
     "data": {
      "text/plain": [
       "(Model1 { 'inputs': [a, b], 'outputs': plus},\n",
       " Model2 { 'inputs': [a, b], 'outputs': mul},\n",
       " Model3 { 'inputs': [TensorConstant{5}, b, a], 'outputs': c})"
      ]
     },
     "execution_count": 6,
     "metadata": {},
     "output_type": "execute_result"
    }
   ],
   "source": [
    "m1 = Model(plus)\n",
    "m2 = Model(mul)\n",
    "m3 = Model(c)\n",
    "m1, m2, m3"
   ]
  },
  {
   "cell_type": "code",
   "execution_count": 7,
   "metadata": {
    "collapsed": false
   },
   "outputs": [
    {
     "data": {
      "text/plain": [
       "[a, b]"
      ]
     },
     "execution_count": 7,
     "metadata": {},
     "output_type": "execute_result"
    }
   ],
   "source": [
    "m1['inputs']"
   ]
  },
  {
   "cell_type": "raw",
   "metadata": {},
   "source": [
    "theano.config.compile = None"
   ]
  },
  {
   "cell_type": "code",
   "execution_count": 8,
   "metadata": {
    "collapsed": false
   },
   "outputs": [
    {
     "name": "stdout",
     "output_type": "stream",
     "text": [
      "digraph G {\n",
      "n2 -> n1  [label=\"0 dscalar\"];\n",
      "n1 [shape=box, style=filled, fillcolor=dodgerblue, dtype=dscalar, node_type=output, label=c];\n",
      "n3 [shape=box, style=filled, fillcolor=limegreen, dtype=dscalar, node_type=input, label=a];\n",
      "n4 [shape=box, style=filled, fillcolor=limegreen, dtype=dscalar, node_type=input, label=b];\n",
      "n2 [shape=ellipse, style=filled, fillcolor=\"#FFAABB\", type=colored, apply_op=\"Elemwise{add,no_inplace}(Elemwise{mul,no_inplace}.0, mul)\", node_type=apply, label=Elemwise];\n",
      "n5 -> n2  [label=\"0 dscalar\"];\n",
      "n6 -> n2  [label=dscalar];\n",
      "n5 [shape=ellipse, style=filled, fillcolor=\"#FFAABB\", type=colored, apply_op=\"Elemwise{mul,no_inplace}(TensorConstant{5}, plus)\", node_type=apply, label=Elemwise];\n",
      "n7 -> n5  [label=bscalar];\n",
      "n8 -> n5  [label=dscalar];\n",
      "n9 -> n6  [label=\"0 dscalar\"];\n",
      "n6 [shape=box, style=filled, fillcolor=orange, dtype=dscalar, node_type=namedvar, label=mul];\n",
      "n7 [shape=box, style=filled, fillcolor=SpringGreen, dtype=bscalar, node_type=constant_input, label=5];\n",
      "n10 -> n8  [label=\"0 dscalar\"];\n",
      "n8 [shape=box, style=filled, fillcolor=orange, dtype=dscalar, node_type=namedvar, label=plus];\n",
      "n9 [shape=ellipse, style=filled, fillcolor=\"#FFAABB\", type=colored, apply_op=\"Elemwise{mul,no_inplace}(a, b)\", node_type=apply, label=Elemwise];\n",
      "n3 -> n9  [label=dscalar];\n",
      "n4 -> n9  [label=dscalar];\n",
      "n10 [shape=ellipse, style=filled, fillcolor=\"#FFAABB\", type=colored, apply_op=\"Elemwise{add,no_inplace}(a, b)\", node_type=apply, label=Elemwise];\n",
      "n3 -> n10  [label=dscalar];\n",
      "n4 -> n10  [label=dscalar];\n",
      "}\n",
      "\n"
     ]
    },
    {
     "data": {
      "text/html": [
       "\n",
       "        <iframe\n",
       "            width=\"700\"\n",
       "            height=\"500\"\n",
       "            src=\"tmp/visualization.html\"\n",
       "            frameborder=\"0\"\n",
       "            allowfullscreen\n",
       "        ></iframe>\n",
       "        "
      ],
      "text/plain": [
       "<IPython.lib.display.IFrame at 0x7fac8d852e90>"
      ]
     },
     "execution_count": 8,
     "metadata": {},
     "output_type": "execute_result"
    }
   ],
   "source": [
    "f = theano.function([a,b], c, profile=True, mode=\"FAST_COMPILE\")\n",
    "d3viz(f, [m3, m2, m1], \"tmp/visualization.html\")\n",
    "IFrame('tmp/visualization.html', width=700, height=500)"
   ]
  },
  {
   "cell_type": "raw",
   "metadata": {},
   "source": [
    "import webbrowser\n",
    "web = webbrowser.get('google-chrome')\n",
    "web.open_new_tab(\"tmp/visualization.html\")"
   ]
  },
  {
   "cell_type": "code",
   "execution_count": 9,
   "metadata": {
    "collapsed": false,
    "scrolled": false
   },
   "outputs": [
    {
     "name": "stdout",
     "output_type": "stream",
     "text": [
      "Model3 { 'inputs': [TensorConstant{5}, b, a], 'outputs': c}\n",
      "defaultdict(<type 'list'>, {'ext_outputs': [(c, 'n1')], 'ext_inputs': ['n4', 'n3']})\n",
      "Model2 { 'inputs': [a, b], 'outputs': mul}\n",
      "defaultdict(<type 'list'>, {'ext_outputs': [(mul, 'n26')], 'ext_inputs': ['n24', 'n23']})\n",
      "Model1 { 'inputs': [a, b], 'outputs': plus}\n",
      "defaultdict(<type 'list'>, {'ext_outputs': [(plus, 'n28')], 'ext_inputs': ['n24', 'n23']})\n",
      "digraph G {\n",
      "n2 -> n1  [label=\"0 dscalar\"];\n",
      "n1 [shape=box, style=filled, fillcolor=dodgerblue, dtype=dscalar, node_type=output, label=c];\n",
      "n3 [shape=box, style=filled, fillcolor=limegreen, dtype=dscalar, node_type=pseudo_constant_input, label=a];\n",
      "n4 [shape=box, style=filled, fillcolor=limegreen, dtype=dscalar, node_type=pseudo_constant_input, label=b];\n",
      "n4 -> n2  [label=dscalar];\n",
      "n3 -> n2  [label=dscalar];\n",
      "n2 [shape=ellipse, subg=cluster_n2, style=filled, subg_map_outputs=\"[['n21', 'n1']]\", fillcolor=yellow, subg_map_inputs=\"[['n4', 'n23'], ['n3', 'n24']]\", type=colored, apply_op=\"Model3 { 'inputs': [TensorConstant{5}, b, a], 'outputs': c}\", node_type=apply, label=Model3];\n",
      "subgraph cluster_n2 {\n",
      "label=Model3;\n",
      "n22 -> n21  [label=\"0 dscalar\"];\n",
      "n21 [shape=box, style=filled, fillcolor=dodgerblue, dtype=dscalar, node_type=output, label=c];\n",
      "n23 [shape=box, style=filled, fillcolor=limegreen, dtype=dscalar, node_type=pseudo_constant_input, label=b];\n",
      "n24 [shape=box, style=filled, fillcolor=limegreen, dtype=dscalar, node_type=pseudo_constant_input, label=a];\n",
      "n22 [shape=ellipse, style=filled, fillcolor=\"#FFAABB\", type=colored, apply_op=\"Elemwise{add,no_inplace}(Elemwise{mul,no_inplace}.0, mul)\", node_type=apply, label=Elemwise];\n",
      "n25 -> n22  [label=\"0 dscalar\"];\n",
      "n26 -> n22  [label=dscalar];\n",
      "n25 [shape=ellipse, style=filled, fillcolor=\"#FFAABB\", type=colored, apply_op=\"Elemwise{mul,no_inplace}(TensorConstant{5}, plus)\", node_type=apply, label=Elemwise];\n",
      "n27 -> n25  [label=bscalar];\n",
      "n28 -> n25  [label=dscalar];\n",
      "n29 -> n26  [label=\"0 dscalar\"];\n",
      "n26 [shape=box, style=filled, fillcolor=orange, dtype=dscalar, node_type=namedvar, label=mul];\n",
      "n27 [shape=box, style=filled, fillcolor=SpringGreen, dtype=bscalar, node_type=constant_input, label=5];\n",
      "n210 -> n28  [label=\"0 dscalar\"];\n",
      "n28 [shape=box, style=filled, fillcolor=orange, dtype=dscalar, node_type=namedvar, label=plus];\n",
      "n24 -> n29  [label=dscalar];\n",
      "n23 -> n29  [label=dscalar];\n",
      "n24 -> n210  [label=dscalar];\n",
      "n23 -> n210  [label=dscalar];\n",
      "n29 [shape=ellipse, subg=cluster_n29, style=filled, subg_map_outputs=\"[['n291', 'n26']]\", fillcolor=yellow, subg_map_inputs=\"[['n24', 'n293'], ['n23', 'n294']]\", type=colored, apply_op=\"Model2 { 'inputs': [a, b], 'outputs': mul}\", node_type=apply, label=Model2];\n",
      "subgraph cluster_n29 {\n",
      "label=Model2;\n",
      "n292 -> n291  [label=\"0 dscalar\"];\n",
      "n291 [shape=box, style=filled, fillcolor=dodgerblue, dtype=dscalar, node_type=output, label=mul];\n",
      "n293 [shape=box, style=filled, fillcolor=limegreen, dtype=dscalar, node_type=pseudo_constant_input, label=a];\n",
      "n294 [shape=box, style=filled, fillcolor=limegreen, dtype=dscalar, node_type=pseudo_constant_input, label=b];\n",
      "n292 [shape=ellipse, style=filled, fillcolor=\"#FFAABB\", type=colored, apply_op=\"Elemwise{mul,no_inplace}(a, b)\", node_type=apply, label=Elemwise];\n",
      "n293 -> n292  [label=dscalar];\n",
      "n294 -> n292  [label=dscalar];\n",
      "}\n",
      "\n",
      "n210 [shape=ellipse, subg=cluster_n210, style=filled, subg_map_outputs=\"[['n2101', 'n28']]\", fillcolor=yellow, subg_map_inputs=\"[['n24', 'n2103'], ['n23', 'n2104']]\", type=colored, apply_op=\"Model1 { 'inputs': [a, b], 'outputs': plus}\", node_type=apply, label=Model1];\n",
      "subgraph cluster_n210 {\n",
      "label=Model1;\n",
      "n2102 -> n2101  [label=\"0 dscalar\"];\n",
      "n2101 [shape=box, style=filled, fillcolor=dodgerblue, dtype=dscalar, node_type=output, label=plus];\n",
      "n2103 [shape=box, style=filled, fillcolor=limegreen, dtype=dscalar, node_type=pseudo_constant_input, label=a];\n",
      "n2104 [shape=box, style=filled, fillcolor=limegreen, dtype=dscalar, node_type=pseudo_constant_input, label=b];\n",
      "n2102 [shape=ellipse, style=filled, fillcolor=\"#FFAABB\", type=colored, apply_op=\"Elemwise{add,no_inplace}(a, b)\", node_type=apply, label=Elemwise];\n",
      "n2103 -> n2102  [label=dscalar];\n",
      "n2104 -> n2102  [label=dscalar];\n",
      "}\n",
      "\n",
      "}\n",
      "\n",
      "}\n",
      "\n"
     ]
    },
    {
     "data": {
      "text/html": [
       "\n",
       "        <iframe\n",
       "            width=\"700\"\n",
       "            height=\"500\"\n",
       "            src=\"tmp/visualization.html\"\n",
       "            frameborder=\"0\"\n",
       "            allowfullscreen\n",
       "        ></iframe>\n",
       "        "
      ],
      "text/plain": [
       "<IPython.lib.display.IFrame at 0x7fac8b90c750>"
      ]
     },
     "execution_count": 9,
     "metadata": {},
     "output_type": "execute_result"
    }
   ],
   "source": [
    "d3viz(([a,b],[c]), [m3, m2, m1], \"tmp/visualization.html\")\n",
    "IFrame('tmp/visualization.html', width=700, height=500)"
   ]
  },
  {
   "cell_type": "code",
   "execution_count": null,
   "metadata": {
    "collapsed": true
   },
   "outputs": [],
   "source": []
  }
 ],
 "metadata": {
  "kernelspec": {
   "display_name": "Python 2",
   "language": "python",
   "name": "python2"
  },
  "language_info": {
   "codemirror_mode": {
    "name": "ipython",
    "version": 2
   },
   "file_extension": ".py",
   "mimetype": "text/x-python",
   "name": "python",
   "nbconvert_exporter": "python",
   "pygments_lexer": "ipython2",
   "version": "2.7.6"
  },
  "toc": {
   "toc_cell": false,
   "toc_number_sections": true,
   "toc_threshold": 4,
   "toc_window_display": false
  }
 },
 "nbformat": 4,
 "nbformat_minor": 0
}
