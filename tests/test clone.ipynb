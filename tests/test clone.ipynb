{
 "cells": [
  {
   "cell_type": "code",
   "execution_count": 1,
   "metadata": {
    "collapsed": false
   },
   "outputs": [
    {
     "name": "stdout",
     "output_type": "stream",
     "text": [
      "1.0 1.0 1.0 2.0\n"
     ]
    }
   ],
   "source": [
    "from theano_models import as_tensor_variable\n",
    "from theano_models.util import clone\n",
    "from theano import clone\n",
    "from schlichtanders.mymeta import proxify\n",
    "n = as_tensor_variable(1)\n",
    "n.name=\"n\"\n",
    "m = clone(n)\n",
    "m.name=\"m\"\n",
    "o = clone(m)  # identical to copy(n) kind of\n",
    "o.name=\"o\"\n",
    "p = clone(n + m)  # makes weird results\n",
    "p.name=\"p\"\n",
    "print n.eval(), m.eval(), o.eval(), p.eval()"
   ]
  },
  {
   "cell_type": "code",
   "execution_count": 2,
   "metadata": {
    "collapsed": false
   },
   "outputs": [
    {
     "name": "stdout",
     "output_type": "stream",
     "text": [
      "p 2.0\n"
     ]
    }
   ],
   "source": [
    "proxify(n, p)\n",
    "print n, n.eval()"
   ]
  },
  {
   "cell_type": "markdown",
   "metadata": {},
   "source": [
    "everything seems to work out"
   ]
  },
  {
   "cell_type": "code",
   "execution_count": null,
   "metadata": {
    "collapsed": true
   },
   "outputs": [],
   "source": []
  }
 ],
 "metadata": {
  "kernelspec": {
   "display_name": "Python 2",
   "language": "python",
   "name": "python2"
  },
  "language_info": {
   "codemirror_mode": {
    "name": "ipython",
    "version": 2
   },
   "file_extension": ".py",
   "mimetype": "text/x-python",
   "name": "python",
   "nbconvert_exporter": "python",
   "pygments_lexer": "ipython2",
   "version": "2.7.6"
  },
  "toc": {
   "toc_cell": false,
   "toc_number_sections": true,
   "toc_threshold": 4,
   "toc_window_display": false
  }
 },
 "nbformat": 4,
 "nbformat_minor": 0
}
