{
 "cells": [
  {
   "cell_type": "code",
   "execution_count": null,
   "metadata": {
    "collapsed": true
   },
   "outputs": [],
   "source": [
    "import warnings\n",
    "warnings.filterwarnings(\"ignore\",category=DeprecationWarning)"
   ]
  },
  {
   "cell_type": "code",
   "execution_count": null,
   "metadata": {
    "collapsed": true
   },
   "outputs": [],
   "source": [
    "import theano.d3viz as d3v\n",
    "from IPython.display import IFrame\n",
    "from theano_models.visualization import d3viz"
   ]
  },
  {
   "cell_type": "code",
   "execution_count": null,
   "metadata": {
    "collapsed": true
   },
   "outputs": [],
   "source": [
    "from theano_models.postmaps import reduce_postmap\n",
    "from theano_models import Subgraph, clone_renew_rng, inputting_references, outputting_references"
   ]
  },
  {
   "cell_type": "code",
   "execution_count": null,
   "metadata": {
    "collapsed": true
   },
   "outputs": [],
   "source": [
    "inputting_references.add('loss_inputs')\n",
    "outputting_references.add('loss')"
   ]
  },
  {
   "cell_type": "code",
   "execution_count": null,
   "metadata": {
    "collapsed": true
   },
   "outputs": [],
   "source": [
    "import numpy as np"
   ]
  },
  {
   "cell_type": "code",
   "execution_count": null,
   "metadata": {
    "collapsed": true
   },
   "outputs": [],
   "source": [
    "import theano.tensor as T\n",
    "import theano\n",
    "from theano.printing import Print, debugprint\n",
    "from theano.tensor.shared_randomstreams import RandomStreams"
   ]
  },
  {
   "cell_type": "markdown",
   "metadata": {},
   "source": [
    "# simple reduce"
   ]
  },
  {
   "cell_type": "code",
   "execution_count": null,
   "metadata": {
    "collapsed": false,
    "scrolled": true
   },
   "outputs": [],
   "source": [
    "summedup = theano.reduce(lambda a, b: a + b, [i], np.array(0, i.dtype))[0]"
   ]
  },
  {
   "cell_type": "code",
   "execution_count": null,
   "metadata": {
    "collapsed": true
   },
   "outputs": [],
   "source": [
    "f = theano.function([i], summedup)"
   ]
  },
  {
   "cell_type": "code",
   "execution_count": null,
   "metadata": {
    "collapsed": false
   },
   "outputs": [],
   "source": [
    "f([1,5,2])"
   ]
  },
  {
   "cell_type": "markdown",
   "metadata": {},
   "source": [
    "# complex reduce"
   ]
  },
  {
   "cell_type": "code",
   "execution_count": null,
   "metadata": {
    "collapsed": false
   },
   "outputs": [],
   "source": [
    "rng = RandomStreams()\n",
    "a = rng.random_integers()\n",
    "i = T.dvector(\"i\")\n",
    "# expr = Print(\"a1\")(a) + T.sum(i)\n",
    "expr = (a) + T.sum(i)"
   ]
  },
  {
   "cell_type": "code",
   "execution_count": null,
   "metadata": {
    "collapsed": false
   },
   "outputs": [],
   "source": [
    "model = Subgraph(loss_inputs=[i], loss=expr, name=\"single\")\n",
    "model"
   ]
  },
  {
   "cell_type": "code",
   "execution_count": null,
   "metadata": {
    "collapsed": false
   },
   "outputs": [],
   "source": [
    "rmodel = Subgraph(reduce_postmap(model), name=\"multiple\")\n",
    "rmodel"
   ]
  },
  {
   "cell_type": "code",
   "execution_count": null,
   "metadata": {
    "collapsed": false
   },
   "outputs": [],
   "source": [
    "f = rmodel['loss_inputs'], rmodel['loss']\n",
    "d3viz(f, 'tmp/rloss.html')\n",
    "IFrame('tmp/rloss.html', width=700, height=500)"
   ]
  },
  {
   "cell_type": "code",
   "execution_count": null,
   "metadata": {
    "collapsed": false
   },
   "outputs": [],
   "source": [
    "f = theano.function(model['loss_inputs'], model['loss'], mode=\"FAST_RUN\", profile=True)\n",
    "rf = theano.function(rmodel['loss_inputs'], rmodel['loss'], mode=\"FAST_RUN\", profile=True)"
   ]
  },
  {
   "cell_type": "code",
   "execution_count": null,
   "metadata": {
    "collapsed": false
   },
   "outputs": [],
   "source": [
    "%%timeit\n",
    "for row in [[1]*1000]*1000:\n",
    "    f(row)"
   ]
  },
  {
   "cell_type": "code",
   "execution_count": null,
   "metadata": {
    "collapsed": false
   },
   "outputs": [],
   "source": [
    "%timeit rf([[1]*1000]*1000)"
   ]
  },
  {
   "cell_type": "code",
   "execution_count": null,
   "metadata": {
    "collapsed": false
   },
   "outputs": [],
   "source": [
    "d3viz(f, 'tmp/floss.html', match_by_names=True)\n",
    "IFrame('tmp/floss.html', width=700, height=500)"
   ]
  },
  {
   "cell_type": "code",
   "execution_count": null,
   "metadata": {
    "collapsed": false
   },
   "outputs": [],
   "source": [
    "d3viz(rf, 'tmp/rfloss.html', match_by_names=True)\n",
    "IFrame('tmp/rfloss.html', width=700, height=500)"
   ]
  },
  {
   "cell_type": "markdown",
   "metadata": {},
   "source": [
    "# indendent subgraphs"
   ]
  },
  {
   "cell_type": "code",
   "execution_count": 26,
   "metadata": {
    "collapsed": false
   },
   "outputs": [
    {
     "data": {
      "text/plain": [
       "([1, _a], [_c])"
      ]
     },
     "execution_count": 26,
     "metadata": {},
     "output_type": "execute_result"
    }
   ],
   "source": [
    "import theano\n",
    "import theano.tensor as T\n",
    "from theano.printing import debugprint\n",
    "from theano.tensor.shared_randomstreams import RandomStreams\n",
    "\n",
    "\n",
    "from theano_models import util\n",
    "\n",
    "from theano_models.util.theano_helpers import independent_subgraphs\n",
    "\n",
    "a, b, c = T.dvectors(\"abc\")\n",
    "_a, _b, _c = a.sum(), b.sum(), c.sum()\n",
    "_a.name, _b.name, _c.name = \"_a\", \"_b\", \"_c\"\n",
    "_1 = _a +_b\n",
    "_1.name = \"1\"\n",
    "_2 = _c + _a\n",
    "_2.name = \"2\"\n",
    "expr = _1 + _2\n",
    "\n",
    "sub1, sub2 = independent_subgraphs([a,b], [c], expr)\n",
    "sub1, sub2"
   ]
  },
  {
   "cell_type": "code",
   "execution_count": 44,
   "metadata": {
    "collapsed": false
   },
   "outputs": [],
   "source": [
    "f = theano.function([a,b,c], expr)\n",
    "f1 = theano.function([a,b], sub1)\n",
    "f1_ = theano.function([a,b], [a,b] + sub1)\n",
    "f2 = theano.function([c, a,b] + sub1, expr, on_unused_input=\"ignore\")\n",
    "f2_ = theano.function([c] + sub1, expr)"
   ]
  },
  {
   "cell_type": "code",
   "execution_count": 30,
   "metadata": {
    "collapsed": true
   },
   "outputs": [],
   "source": [
    "test = range(50)"
   ]
  },
  {
   "cell_type": "code",
   "execution_count": 45,
   "metadata": {
    "collapsed": false
   },
   "outputs": [
    {
     "name": "stdout",
     "output_type": "stream",
     "text": [
      "100 loops, best of 3: 2.5 ms per loop\n"
     ]
    }
   ],
   "source": [
    "%%timeit\n",
    "for i in test:\n",
    "    f(test,test,test)"
   ]
  },
  {
   "cell_type": "code",
   "execution_count": 46,
   "metadata": {
    "collapsed": false
   },
   "outputs": [
    {
     "name": "stdout",
     "output_type": "stream",
     "text": [
      "10000 loops, best of 3: 36.3 µs per loop\n"
     ]
    }
   ],
   "source": [
    "%%timeit\n",
    "h = f1(test,test)"
   ]
  },
  {
   "cell_type": "code",
   "execution_count": 50,
   "metadata": {
    "collapsed": false
   },
   "outputs": [
    {
     "name": "stdout",
     "output_type": "stream",
     "text": [
      "100 loops, best of 3: 2.77 ms per loop\n"
     ]
    }
   ],
   "source": [
    "%%timeit\n",
    "h = f1(test,test)\n",
    "for i in test:\n",
    "    f2(test,test,test, *h)"
   ]
  },
  {
   "cell_type": "markdown",
   "metadata": {},
   "source": [
    "This does not seem to add any improvements at all, despit the calculations done in h are quite extensive"
   ]
  },
  {
   "cell_type": "code",
   "execution_count": 48,
   "metadata": {
    "collapsed": false
   },
   "outputs": [
    {
     "name": "stdout",
     "output_type": "stream",
     "text": [
      "1000 loops, best of 3: 1.36 ms per loop\n"
     ]
    }
   ],
   "source": [
    "%%timeit\n",
    "h = f1(test,test)\n",
    "for i in test:\n",
    "    f2_(test, *h)"
   ]
  },
  {
   "cell_type": "markdown",
   "metadata": {},
   "source": [
    "However without on_unused_input=\"ignore\" everything works just fine"
   ]
  },
  {
   "cell_type": "code",
   "execution_count": 51,
   "metadata": {
    "collapsed": false
   },
   "outputs": [
    {
     "name": "stdout",
     "output_type": "stream",
     "text": [
      "1000 loops, best of 3: 1.56 ms per loop\n"
     ]
    }
   ],
   "source": [
    "%%timeit\n",
    "h = f1_(test,test)\n",
    "for i in test:\n",
    "    f2(test, *h)"
   ]
  },
  {
   "cell_type": "markdown",
   "metadata": {},
   "source": [
    "Even with just including them in the default version, the speed is much better. So this should get the default if MissingInputError appears"
   ]
  }
 ],
 "metadata": {
  "kernelspec": {
   "display_name": "Python 2",
   "language": "python",
   "name": "python2"
  },
  "language_info": {
   "codemirror_mode": {
    "name": "ipython",
    "version": 2
   },
   "file_extension": ".py",
   "mimetype": "text/x-python",
   "name": "python",
   "nbconvert_exporter": "python",
   "pygments_lexer": "ipython2",
   "version": "2.7.6"
  },
  "toc": {
   "toc_cell": false,
   "toc_number_sections": true,
   "toc_threshold": 4,
   "toc_window_display": false
  }
 },
 "nbformat": 4,
 "nbformat_minor": 0
}
