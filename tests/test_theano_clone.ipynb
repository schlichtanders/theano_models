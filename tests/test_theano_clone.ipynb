{
 "cells": [
  {
   "cell_type": "code",
   "execution_count": 1,
   "metadata": {
    "collapsed": true
   },
   "outputs": [],
   "source": [
    "from theano import clone, shared\n",
    "import theano.tensor as T\n",
    "from theano import gof\n",
    "import theano\n",
    "import numpy as np"
   ]
  },
  {
   "cell_type": "code",
   "execution_count": 2,
   "metadata": {
    "collapsed": false
   },
   "outputs": [],
   "source": [
    "a = shared(np.array([4,3]), \"a\")\n",
    "b = shared(np.array([1,3]), \"b\")"
   ]
  },
  {
   "cell_type": "code",
   "execution_count": 3,
   "metadata": {
    "collapsed": false
   },
   "outputs": [
    {
     "data": {
      "text/plain": [
       "TensorType(int64, vector)"
      ]
     },
     "execution_count": 3,
     "metadata": {},
     "output_type": "execute_result"
    }
   ],
   "source": [
    "b.type"
   ]
  },
  {
   "cell_type": "code",
   "execution_count": 4,
   "metadata": {
    "collapsed": true
   },
   "outputs": [],
   "source": [
    "ab = a + b\n",
    "ab.name=\"ab\""
   ]
  },
  {
   "cell_type": "code",
   "execution_count": 5,
   "metadata": {
    "collapsed": true
   },
   "outputs": [],
   "source": [
    "aab = (a + ab) + ab"
   ]
  },
  {
   "cell_type": "code",
   "execution_count": 6,
   "metadata": {
    "collapsed": true
   },
   "outputs": [],
   "source": [
    "b2 = shared(np.array([1,3]), \"b2\")\n",
    "b3 = shared(np.array([1,3]), \"b3\")\n",
    "b4 = shared(np.array([1,3]), \"b4\")"
   ]
  },
  {
   "cell_type": "code",
   "execution_count": 7,
   "metadata": {
    "collapsed": false
   },
   "outputs": [
    {
     "data": {
      "text/plain": [
       "TensorType(int64, vector)"
      ]
     },
     "execution_count": 7,
     "metadata": {},
     "output_type": "execute_result"
    }
   ],
   "source": [
    "b2.type"
   ]
  },
  {
   "cell_type": "markdown",
   "metadata": {},
   "source": [
    "# clone"
   ]
  },
  {
   "cell_type": "code",
   "execution_count": null,
   "metadata": {
    "collapsed": false
   },
   "outputs": [],
   "source": [
    "aab2 = clone(aab, replace={b:b2})"
   ]
  },
  {
   "cell_type": "code",
   "execution_count": null,
   "metadata": {
    "collapsed": false
   },
   "outputs": [],
   "source": [
    "aab2 == aab"
   ]
  },
  {
   "cell_type": "code",
   "execution_count": null,
   "metadata": {
    "collapsed": false
   },
   "outputs": [],
   "source": [
    "variables = gof.graph.variables(gof.graph.inputs([aab2]), [aab2])\n",
    "variables"
   ]
  },
  {
   "cell_type": "code",
   "execution_count": null,
   "metadata": {
    "collapsed": false
   },
   "outputs": [],
   "source": [
    "[v is ab for v in variables]"
   ]
  },
  {
   "cell_type": "code",
   "execution_count": null,
   "metadata": {
    "collapsed": true
   },
   "outputs": [],
   "source": [
    "gof.graph.variables()"
   ]
  },
  {
   "cell_type": "markdown",
   "metadata": {},
   "source": [
    "# myproxy"
   ]
  },
  {
   "cell_type": "code",
   "execution_count": 8,
   "metadata": {
    "collapsed": true
   },
   "outputs": [],
   "source": [
    "from schlichtanders.mymeta import proxify"
   ]
  },
  {
   "cell_type": "code",
   "execution_count": 9,
   "metadata": {
    "collapsed": false
   },
   "outputs": [
    {
     "data": {
      "text/plain": [
       "b2"
      ]
     },
     "execution_count": 9,
     "metadata": {},
     "output_type": "execute_result"
    }
   ],
   "source": [
    "proxify(b, b2)"
   ]
  },
  {
   "cell_type": "code",
   "execution_count": 25,
   "metadata": {
    "collapsed": false
   },
   "outputs": [
    {
     "data": {
      "text/plain": [
       "b"
      ]
     },
     "execution_count": 25,
     "metadata": {},
     "output_type": "execute_result"
    }
   ],
   "source": [
    "b.__original__"
   ]
  },
  {
   "cell_type": "code",
   "execution_count": null,
   "metadata": {
    "collapsed": false
   },
   "outputs": [],
   "source": [
    "%debug"
   ]
  },
  {
   "cell_type": "code",
   "execution_count": 10,
   "metadata": {
    "collapsed": false
   },
   "outputs": [
    {
     "data": {
      "text/plain": [
       "b3"
      ]
     },
     "execution_count": 10,
     "metadata": {},
     "output_type": "execute_result"
    }
   ],
   "source": [
    "proxify(b2, b3)"
   ]
  },
  {
   "cell_type": "code",
   "execution_count": 11,
   "metadata": {
    "collapsed": false
   },
   "outputs": [
    {
     "data": {
      "text/plain": [
       "True"
      ]
     },
     "execution_count": 11,
     "metadata": {},
     "output_type": "execute_result"
    }
   ],
   "source": [
    "b3 == b2"
   ]
  },
  {
   "cell_type": "code",
   "execution_count": 12,
   "metadata": {
    "collapsed": false
   },
   "outputs": [
    {
     "data": {
      "text/plain": [
       "True"
      ]
     },
     "execution_count": 12,
     "metadata": {},
     "output_type": "execute_result"
    }
   ],
   "source": [
    "b2 == b3"
   ]
  },
  {
   "cell_type": "raw",
   "metadata": {},
   "source": [
    "b, b2 = shared(1, \"bb\"), shared(2, \"bbb\")"
   ]
  },
  {
   "cell_type": "code",
   "execution_count": null,
   "metadata": {
    "collapsed": false
   },
   "outputs": [],
   "source": [
    "proxify(b, b2)"
   ]
  },
  {
   "cell_type": "code",
   "execution_count": null,
   "metadata": {
    "collapsed": false
   },
   "outputs": [],
   "source": [
    "b == b2"
   ]
  },
  {
   "cell_type": "code",
   "execution_count": null,
   "metadata": {
    "collapsed": false
   },
   "outputs": [],
   "source": [
    "proxify(b2, b3)"
   ]
  },
  {
   "cell_type": "code",
   "execution_count": null,
   "metadata": {
    "collapsed": false
   },
   "outputs": [],
   "source": [
    "b2"
   ]
  },
  {
   "cell_type": "code",
   "execution_count": null,
   "metadata": {
    "collapsed": false
   },
   "outputs": [],
   "source": [
    "b == b3"
   ]
  },
  {
   "cell_type": "code",
   "execution_count": 13,
   "metadata": {
    "collapsed": true
   },
   "outputs": [],
   "source": [
    "b.hallo = \"hallo\""
   ]
  },
  {
   "cell_type": "code",
   "execution_count": 14,
   "metadata": {
    "collapsed": false
   },
   "outputs": [
    {
     "data": {
      "text/plain": [
       "'hallo'"
      ]
     },
     "execution_count": 14,
     "metadata": {},
     "output_type": "execute_result"
    }
   ],
   "source": [
    "b3.hallo"
   ]
  },
  {
   "cell_type": "code",
   "execution_count": 19,
   "metadata": {
    "collapsed": false
   },
   "outputs": [
    {
     "data": {
      "text/plain": [
       "'((a + (a + b4)) + (a + b4))'"
      ]
     },
     "execution_count": 19,
     "metadata": {},
     "output_type": "execute_result"
    }
   ],
   "source": [
    "theano.pp(aab)"
   ]
  },
  {
   "cell_type": "code",
   "execution_count": null,
   "metadata": {
    "collapsed": false
   },
   "outputs": [],
   "source": [
    "hasattr(b.__subject__.__subject__, \"__subject__\")"
   ]
  },
  {
   "cell_type": "code",
   "execution_count": 18,
   "metadata": {
    "collapsed": false
   },
   "outputs": [
    {
     "data": {
      "text/plain": [
       "b4"
      ]
     },
     "execution_count": 18,
     "metadata": {},
     "output_type": "execute_result"
    }
   ],
   "source": [
    "proxify(b, b)"
   ]
  },
  {
   "cell_type": "code",
   "execution_count": 22,
   "metadata": {
    "collapsed": false
   },
   "outputs": [
    {
     "data": {
      "text/plain": [
       "theano.tensor.sharedvar.TensorSharedVariable"
      ]
     },
     "execution_count": 22,
     "metadata": {},
     "output_type": "execute_result"
    }
   ],
   "source": [
    "type(b3.__original__)"
   ]
  },
  {
   "cell_type": "code",
   "execution_count": 16,
   "metadata": {
    "collapsed": false
   },
   "outputs": [
    {
     "data": {
      "text/plain": [
       "b4"
      ]
     },
     "execution_count": 16,
     "metadata": {},
     "output_type": "execute_result"
    }
   ],
   "source": [
    "proxify(b, b4)"
   ]
  },
  {
   "cell_type": "code",
   "execution_count": null,
   "metadata": {
    "collapsed": false
   },
   "outputs": [],
   "source": [
    "type(b3.__subject__)"
   ]
  },
  {
   "cell_type": "code",
   "execution_count": null,
   "metadata": {
    "collapsed": false
   },
   "outputs": [],
   "source": [
    "type(get_subject(b))"
   ]
  },
  {
   "cell_type": "markdown",
   "metadata": {},
   "source": [
    "# morph"
   ]
  },
  {
   "cell_type": "code",
   "execution_count": null,
   "metadata": {
    "collapsed": true
   },
   "outputs": [],
   "source": []
  },
  {
   "cell_type": "code",
   "execution_count": null,
   "metadata": {
    "collapsed": true
   },
   "outputs": [],
   "source": [
    "from wrapt import ObjectProxy"
   ]
  },
  {
   "cell_type": "code",
   "execution_count": null,
   "metadata": {
    "collapsed": false
   },
   "outputs": [],
   "source": [
    "from schlichtanders.mymeta import morph"
   ]
  },
  {
   "cell_type": "code",
   "execution_count": null,
   "metadata": {
    "collapsed": true
   },
   "outputs": [],
   "source": [
    "def morph_proxy(a, b):\n",
    "    return morph(a, ObjectProxy(b))"
   ]
  },
  {
   "cell_type": "code",
   "execution_count": null,
   "metadata": {
    "collapsed": true
   },
   "outputs": [],
   "source": [
    "pb2 = ObjectProxy(b2)"
   ]
  },
  {
   "cell_type": "code",
   "execution_count": null,
   "metadata": {
    "collapsed": false
   },
   "outputs": [],
   "source": [
    "dir(pb2)"
   ]
  },
  {
   "cell_type": "code",
   "execution_count": null,
   "metadata": {
    "collapsed": false
   },
   "outputs": [],
   "source": [
    "morph_proxy(b, b2)"
   ]
  },
  {
   "cell_type": "code",
   "execution_count": null,
   "metadata": {
    "collapsed": false
   },
   "outputs": [],
   "source": [
    "morph(b, b2)"
   ]
  },
  {
   "cell_type": "code",
   "execution_count": null,
   "metadata": {
    "collapsed": false
   },
   "outputs": [],
   "source": [
    "morph_proxy(b2, b3)"
   ]
  },
  {
   "cell_type": "code",
   "execution_count": null,
   "metadata": {
    "collapsed": false
   },
   "outputs": [],
   "source": [
    "theano.pp(aab)"
   ]
  },
  {
   "cell_type": "code",
   "execution_count": null,
   "metadata": {
    "collapsed": false
   },
   "outputs": [],
   "source": [
    "b == b2"
   ]
  },
  {
   "cell_type": "code",
   "execution_count": null,
   "metadata": {
    "collapsed": true
   },
   "outputs": [],
   "source": [
    "hash??"
   ]
  },
  {
   "cell_type": "code",
   "execution_count": null,
   "metadata": {
    "collapsed": false
   },
   "outputs": [],
   "source": [
    "b.__hash__(), hash(b)"
   ]
  },
  {
   "cell_type": "code",
   "execution_count": null,
   "metadata": {
    "collapsed": false
   },
   "outputs": [],
   "source": [
    "id(b)"
   ]
  },
  {
   "cell_type": "code",
   "execution_count": null,
   "metadata": {
    "collapsed": false
   },
   "outputs": [],
   "source": [
    "hash(b)"
   ]
  },
  {
   "cell_type": "code",
   "execution_count": null,
   "metadata": {
    "collapsed": false
   },
   "outputs": [],
   "source": [
    "hash(b2)"
   ]
  },
  {
   "cell_type": "markdown",
   "metadata": {
    "collapsed": true
   },
   "source": [
    "# adapt hash"
   ]
  },
  {
   "cell_type": "code",
   "execution_count": null,
   "metadata": {
    "collapsed": true
   },
   "outputs": [],
   "source": [
    "class Proxy(object):\n",
    "    \n",
    "    \"\"\"Delegates all operations (except ``.__subject__``) to another object\"\"\"\n",
    "    \n",
    "    def __init__(self,subject):\n",
    "        self.__subject__ = subject\n",
    "\n",
    "\n",
    "    def __call__(self,*args,**kw):\n",
    "        return self.__subject__(*args,**kw)\n",
    "\n",
    "    def __getattribute__(self, attr, oga=object.__getattribute__):\n",
    "        subject = oga(self,'__subject__')\n",
    "        if attr=='__subject__':\n",
    "            return subject\n",
    "        return getattr(subject,attr)\n",
    "\n",
    "    def __setattr__(self,attr,val, osa=object.__setattr__):\n",
    "        if attr=='__subject__':\n",
    "            osa(self,attr,val)\n",
    "        else:\n",
    "            setattr(self.__subject__,attr,val)\n",
    "\n",
    "    def __delattr__(self,attr, oda=object.__delattr__):\n",
    "        if attr=='__subject__':\n",
    "            oda(self,attr)\n",
    "        else:\n",
    "            delattr(self.__subject__,attr)\n",
    "\n",
    "    def __nonzero__(self):\n",
    "        return bool(self.__subject__)\n",
    "\n",
    "    def __getitem__(self,arg):\n",
    "        return self.__subject__[arg]\n",
    "\n",
    "    def __setitem__(self,arg,val):\n",
    "        self.__subject__[arg] = val\n",
    "\n",
    "    def __delitem__(self,arg):\n",
    "        del self.__subject__[arg]\n",
    "\n",
    "    def __getslice__(self,i,j):\n",
    "        return self.__subject__[i:j]\n",
    "\n",
    "\n",
    "    def __setslice__(self,i,j,val):\n",
    "        self.__subject__[i:j] = val\n",
    "\n",
    "    def __delslice__(self,i,j):\n",
    "        del self.__subject__[i:j]\n",
    "\n",
    "    def __contains__(self,ob):\n",
    "        return ob in self.__subject__\n",
    "\n",
    "    for name in 'repr str hash len abs complex int long float iter oct hex'.split():\n",
    "        exec \"def __%s__(self): return %s(self.__subject__)\" % (name,name)\n",
    "\n",
    "    for name in 'cmp', 'coerce', 'divmod':\n",
    "        exec \"def __%s__(self,ob): return %s(self.__subject__,ob)\" % (name,name)\n",
    "\n",
    "    for name,op in [\n",
    "        ('lt','<'), ('gt','>'), ('le','<='), ('ge','>='),\n",
    "        ('eq','=='), ('ne','!=')\n",
    "    ]:\n",
    "        exec \"def __%s__(self,ob): return self.__subject__ %s ob\" % (name,op)\n",
    "\n",
    "    for name,op in [('neg','-'), ('pos','+'), ('invert','~')]:\n",
    "        exec \"def __%s__(self): return %s self.__subject__\" % (name,op)\n",
    "\n",
    "    for name, op in [\n",
    "        ('or','|'),  ('and','&'), ('xor','^'), ('lshift','<<'), ('rshift','>>'),\n",
    "        ('add','+'), ('sub','-'), ('mul','*'), ('div','/'), ('mod','%'),\n",
    "        ('truediv','/'), ('floordiv','//')\n",
    "    ]:\n",
    "        exec (\n",
    "            \"def __%(name)s__(self,ob):\\n\"\n",
    "            \"    return self.__subject__ %(op)s ob\\n\"\n",
    "            \"\\n\"\n",
    "            \"def __r%(name)s__(self,ob):\\n\"\n",
    "            \"    return ob %(op)s self.__subject__\\n\"\n",
    "            \"\\n\"\n",
    "            \"def __i%(name)s__(self,ob):\\n\"\n",
    "            \"    self.__subject__ %(op)s=ob\\n\"\n",
    "            \"    return self\\n\"\n",
    "        )  % locals()\n",
    "\n",
    "    del name, op\n",
    "\n",
    "    # Oddball signatures\n",
    "\n",
    "    def __rdivmod__(self,ob):\n",
    "        return divmod(ob, self.__subject__)\n",
    "\n",
    "    def __pow__(self,*args):\n",
    "        return pow(self.__subject__,*args)\n",
    "\n",
    "    def __ipow__(self,ob):\n",
    "        self.__subject__ **= ob\n",
    "        return self\n",
    "\n",
    "    def __rpow__(self,ob):\n",
    "        return pow(ob, self.__subject__)"
   ]
  },
  {
   "cell_type": "raw",
   "metadata": {},
   "source": [
    "from schlichtanders.mymeta import Proxy"
   ]
  },
  {
   "cell_type": "raw",
   "metadata": {},
   "source": [
    "from peak.util.proxies import ObjectWrapper, AbstractProxy"
   ]
  },
  {
   "cell_type": "code",
   "execution_count": null,
   "metadata": {
    "collapsed": true
   },
   "outputs": [],
   "source": [
    "class MyObjectProxy(AbstractProxy):\n",
    "    \"\"\"Proxy for a specific object\"\"\"\n",
    "\n"
   ]
  },
  {
   "cell_type": "code",
   "execution_count": null,
   "metadata": {
    "collapsed": true
   },
   "outputs": [],
   "source": [
    "class A(object):\n",
    "    pass"
   ]
  },
  {
   "cell_type": "code",
   "execution_count": null,
   "metadata": {
    "collapsed": false
   },
   "outputs": [],
   "source": [
    "a = A()\n",
    "b = A()"
   ]
  },
  {
   "cell_type": "code",
   "execution_count": null,
   "metadata": {
    "collapsed": false
   },
   "outputs": [],
   "source": [
    "a.__class__ = MyObjectProxy\n",
    "MyObjectProxy.__init__(a, b)"
   ]
  },
  {
   "cell_type": "code",
   "execution_count": null,
   "metadata": {
    "collapsed": false
   },
   "outputs": [],
   "source": [
    "a == b"
   ]
  },
  {
   "cell_type": "code",
   "execution_count": null,
   "metadata": {
    "collapsed": false
   },
   "outputs": [],
   "source": [
    "a == b"
   ]
  },
  {
   "cell_type": "code",
   "execution_count": null,
   "metadata": {
    "collapsed": false
   },
   "outputs": [],
   "source": [
    "hash(a), hash(b)"
   ]
  },
  {
   "cell_type": "code",
   "execution_count": null,
   "metadata": {
    "collapsed": false
   },
   "outputs": [],
   "source": [
    "class X(object):\n",
    "    def __test__(self):\n",
    "        print \"class method\"\n",
    "\n",
    "x = X()\n",
    "x.__test__ = lambda : \"instance function\"\n",
    "y = X()\n",
    "x.__test__()"
   ]
  },
  {
   "cell_type": "code",
   "execution_count": null,
   "metadata": {
    "collapsed": true
   },
   "outputs": [],
   "source": []
  }
 ],
 "metadata": {
  "kernelspec": {
   "display_name": "Python 2",
   "language": "python",
   "name": "python2"
  },
  "language_info": {
   "codemirror_mode": {
    "name": "ipython",
    "version": 2
   },
   "file_extension": ".py",
   "mimetype": "text/x-python",
   "name": "python",
   "nbconvert_exporter": "python",
   "pygments_lexer": "ipython2",
   "version": "2.7.6"
  },
  "toc": {
   "toc_cell": false,
   "toc_number_sections": true,
   "toc_threshold": 4,
   "toc_window_display": false
  }
 },
 "nbformat": 4,
 "nbformat_minor": 0
}
